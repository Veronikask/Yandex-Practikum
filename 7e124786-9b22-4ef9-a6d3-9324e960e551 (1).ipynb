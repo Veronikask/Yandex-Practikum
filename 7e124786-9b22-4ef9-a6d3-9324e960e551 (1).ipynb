{
 "cells": [
  {
   "cell_type": "markdown",
   "metadata": {
    "toc": true
   },
   "source": [
    "<h1>Table of Contents<span class=\"tocSkip\"></span></h1>\n",
    "<div class=\"toc\"><ul class=\"toc-item\"><li><span><a href=\"#Постановка-задачи\" data-toc-modified-id=\"Постановка-задачи-1\"><span class=\"toc-item-num\">1&nbsp;&nbsp;</span>Постановка задачи</a></span></li><li><span><a href=\"#Предобработка-данных\" data-toc-modified-id=\"Предобработка-данных-2\"><span class=\"toc-item-num\">2&nbsp;&nbsp;</span>Предобработка данных</a></span><ul class=\"toc-item\"><li><span><a href=\"#Actions\" data-toc-modified-id=\"Actions-2.1\"><span class=\"toc-item-num\">2.1&nbsp;&nbsp;</span>Actions</a></span></li><li><span><a href=\"#Costs\" data-toc-modified-id=\"Costs-2.2\"><span class=\"toc-item-num\">2.2&nbsp;&nbsp;</span>Costs</a></span></li><li><span><a href=\"#Source\" data-toc-modified-id=\"Source-2.3\"><span class=\"toc-item-num\">2.3&nbsp;&nbsp;</span>Source</a></span></li></ul></li><li><span><a href=\"#Исследовательский-анализ-данных\" data-toc-modified-id=\"Исследовательский-анализ-данных-3\"><span class=\"toc-item-num\">3&nbsp;&nbsp;</span>Исследовательский анализ данных</a></span><ul class=\"toc-item\"><li><span><a href=\"#ДАННЫЕ-О-СОБЫТИЯХ-В-ИГРЕ\" data-toc-modified-id=\"ДАННЫЕ-О-СОБЫТИЯХ-В-ИГРЕ-3.1\"><span class=\"toc-item-num\">3.1&nbsp;&nbsp;</span>ДАННЫЕ О СОБЫТИЯХ В ИГРЕ</a></span><ul class=\"toc-item\"><li><span><a href=\"#Количество-пользователей\" data-toc-modified-id=\"Количество-пользователей-3.1.1\"><span class=\"toc-item-num\">3.1.1&nbsp;&nbsp;</span>Количество пользователей</a></span></li><li><span><a href=\"#Продолжительность-игры\" data-toc-modified-id=\"Продолжительность-игры-3.1.2\"><span class=\"toc-item-num\">3.1.2&nbsp;&nbsp;</span>Продолжительность игры</a></span></li><li><span><a href=\"#Количество-действий\" data-toc-modified-id=\"Количество-действий-3.1.3\"><span class=\"toc-item-num\">3.1.3&nbsp;&nbsp;</span>Количество действий</a></span></li></ul></li><li><span><a href=\"#ДАННЫЕ-О-РАСХОДАХ-НА-РЕКЛАМУ\" data-toc-modified-id=\"ДАННЫЕ-О-РАСХОДАХ-НА-РЕКЛАМУ-3.2\"><span class=\"toc-item-num\">3.2&nbsp;&nbsp;</span>ДАННЫЕ О РАСХОДАХ НА РЕКЛАМУ</a></span><ul class=\"toc-item\"><li><span><a href=\"#Количество-пользователей-по-источникам\" data-toc-modified-id=\"Количество-пользователей-по-источникам-3.2.1\"><span class=\"toc-item-num\">3.2.1&nbsp;&nbsp;</span>Количество пользователей по источникам</a></span></li><li><span><a href=\"#Затраты-по-источникам\" data-toc-modified-id=\"Затраты-по-источникам-3.2.2\"><span class=\"toc-item-num\">3.2.2&nbsp;&nbsp;</span>Затраты по источникам</a></span></li></ul></li><li><span><a href=\"#АНАЛИЗ-ВЛИЯНИЯ-ИСТОЧНИКА-ПЕРЕХОДА-НА-ПОВЕДЕНИЕ-ПОЛЬЗОВАТЕЛЕЙ\" data-toc-modified-id=\"АНАЛИЗ-ВЛИЯНИЯ-ИСТОЧНИКА-ПЕРЕХОДА-НА-ПОВЕДЕНИЕ-ПОЛЬЗОВАТЕЛЕЙ-3.3\"><span class=\"toc-item-num\">3.3&nbsp;&nbsp;</span>АНАЛИЗ ВЛИЯНИЯ ИСТОЧНИКА ПЕРЕХОДА НА ПОВЕДЕНИЕ ПОЛЬЗОВАТЕЛЕЙ</a></span><ul class=\"toc-item\"><li><span><a href=\"#Сравнение-источников-по-доле,-прошедших-уровень\" data-toc-modified-id=\"Сравнение-источников-по-доле,-прошедших-уровень-3.3.1\"><span class=\"toc-item-num\">3.3.1&nbsp;&nbsp;</span>Сравнение источников по доле, прошедших уровень</a></span></li><li><span><a href=\"#Сравнение-источников-по-количеству-показов-рекламы\" data-toc-modified-id=\"Сравнение-источников-по-количеству-показов-рекламы-3.3.2\"><span class=\"toc-item-num\">3.3.2&nbsp;&nbsp;</span>Сравнение источников по количеству показов рекламы</a></span></li></ul></li></ul></li><li><span><a href=\"#Проверка-гипотез\" data-toc-modified-id=\"Проверка-гипотез-4\"><span class=\"toc-item-num\">4&nbsp;&nbsp;</span>Проверка гипотез</a></span><ul class=\"toc-item\"><li><span><a href=\"#Проверка-первой-гипотезы\" data-toc-modified-id=\"Проверка-первой-гипотезы-4.1\"><span class=\"toc-item-num\">4.1&nbsp;&nbsp;</span>Проверка первой гипотезы</a></span></li><li><span><a href=\"#Проверка-второй-гипотезы\" data-toc-modified-id=\"Проверка-второй-гипотезы-4.2\"><span class=\"toc-item-num\">4.2&nbsp;&nbsp;</span>Проверка второй гипотезы</a></span></li></ul></li><li><span><a href=\"#ИТОГОВЫЙ-ВЫВОД\" data-toc-modified-id=\"ИТОГОВЫЙ-ВЫВОД-5\"><span class=\"toc-item-num\">5&nbsp;&nbsp;</span>ИТОГОВЫЙ ВЫВОД</a></span></li></ul></div>"
   ]
  },
  {
   "cell_type": "markdown",
   "metadata": {},
   "source": [
    "Ссылка на презентацию pdf:\n",
    "https://drive.google.com/file/d/1F30IcXrR_bNo9IOjIKmitTiYuHjHBVwS/view?usp=sharing"
   ]
  },
  {
   "cell_type": "markdown",
   "metadata": {},
   "source": [
    "Ссылка на дашборд Tableau:\n",
    "https://public.tableau.com/views/-1_16629964799270/Dashboard1?:language=en-US&:display_count=n&:origin=viz_share_link"
   ]
  },
  {
   "cell_type": "markdown",
   "metadata": {},
   "source": [
    "# Игра «Космические братья» — анализ рекламных источников"
   ]
  },
  {
   "cell_type": "markdown",
   "metadata": {},
   "source": [
    "## Постановка задачи"
   ]
  },
  {
   "cell_type": "markdown",
   "metadata": {},
   "source": [
    "Анализ проводится для отдела закупки рекламы мобильной игры «Космические братья». В данной игре пользователи строят свою космическую программу и пытаются преуспеть в деле колонизации галактики. Предполагается, что в приложении будет происходить показ рекламы на экране с выбором типа объекта для постройки.\n",
    "\n",
    "Исходные данные для анализа представлены тремя датасетами, которые содержат следующую информацию о первых игроках, которые начали пользоваться приложением в период с 4 по 10 мая включительно:\n",
    "- `game_actions` ─ содержит данные о событиях, соверешенных в игре;\n",
    "- `ad_costs` и `user_sourse` ─ содержат информацию о рекламных активностях. \n",
    "\n",
    "В датасете представлены данные по игре пользователей только на первом уровне. Завершение первого уровня требует от игрока выполнения одного из двух условий:\n",
    "- победа над первым врагом (режим PvP);\n",
    "- реализация проекта - разработка орбитальной сборки спутников (режим PvE).\n",
    "\n",
    "**Наша главная задача** ─ **определить наиболее рентабельный канал привлечения**. Для этого мы проанализируем поведение игроков в зависимости от источника перехода в игру."
   ]
  },
  {
   "cell_type": "markdown",
   "metadata": {},
   "source": [
    "## Предобработка данных"
   ]
  },
  {
   "cell_type": "code",
   "execution_count": 1,
   "metadata": {},
   "outputs": [],
   "source": [
    "# импортируем библиотеки:\n",
    "import pandas as pd\n",
    "import seaborn as sns\n",
    "import matplotlib.pyplot as plt\n",
    "from scipy import stats as st\n",
    "import numpy as np"
   ]
  },
  {
   "cell_type": "code",
   "execution_count": 2,
   "metadata": {},
   "outputs": [],
   "source": [
    "# загрузим датасеты:\n",
    "actions = pd.read_csv('/datasets/game_actions.csv')\n",
    "costs = pd.read_csv('/datasets/ad_costs.csv')\n",
    "source = pd.read_csv('/datasets/user_source.csv') "
   ]
  },
  {
   "cell_type": "markdown",
   "metadata": {},
   "source": [
    "### Actions"
   ]
  },
  {
   "cell_type": "code",
   "execution_count": 3,
   "metadata": {},
   "outputs": [
    {
     "data": {
      "text/html": [
       "<div>\n",
       "<style scoped>\n",
       "    .dataframe tbody tr th:only-of-type {\n",
       "        vertical-align: middle;\n",
       "    }\n",
       "\n",
       "    .dataframe tbody tr th {\n",
       "        vertical-align: top;\n",
       "    }\n",
       "\n",
       "    .dataframe thead th {\n",
       "        text-align: right;\n",
       "    }\n",
       "</style>\n",
       "<table border=\"1\" class=\"dataframe\">\n",
       "  <thead>\n",
       "    <tr style=\"text-align: right;\">\n",
       "      <th></th>\n",
       "      <th>event_datetime</th>\n",
       "      <th>event</th>\n",
       "      <th>building_type</th>\n",
       "      <th>user_id</th>\n",
       "      <th>project_type</th>\n",
       "    </tr>\n",
       "  </thead>\n",
       "  <tbody>\n",
       "    <tr>\n",
       "      <th>0</th>\n",
       "      <td>2020-05-04 00:00:01</td>\n",
       "      <td>building</td>\n",
       "      <td>assembly_shop</td>\n",
       "      <td>55e92310-cb8e-4754-b622-597e124b03de</td>\n",
       "      <td>NaN</td>\n",
       "    </tr>\n",
       "    <tr>\n",
       "      <th>1</th>\n",
       "      <td>2020-05-04 00:00:03</td>\n",
       "      <td>building</td>\n",
       "      <td>assembly_shop</td>\n",
       "      <td>c07b1c10-f477-44dc-81dc-ec82254b1347</td>\n",
       "      <td>NaN</td>\n",
       "    </tr>\n",
       "    <tr>\n",
       "      <th>2</th>\n",
       "      <td>2020-05-04 00:00:16</td>\n",
       "      <td>building</td>\n",
       "      <td>assembly_shop</td>\n",
       "      <td>6edd42cc-e753-4ff6-a947-2107cd560710</td>\n",
       "      <td>NaN</td>\n",
       "    </tr>\n",
       "    <tr>\n",
       "      <th>3</th>\n",
       "      <td>2020-05-04 00:00:16</td>\n",
       "      <td>building</td>\n",
       "      <td>assembly_shop</td>\n",
       "      <td>92c69003-d60a-444a-827f-8cc51bf6bf4c</td>\n",
       "      <td>NaN</td>\n",
       "    </tr>\n",
       "    <tr>\n",
       "      <th>4</th>\n",
       "      <td>2020-05-04 00:00:35</td>\n",
       "      <td>building</td>\n",
       "      <td>assembly_shop</td>\n",
       "      <td>cdc6bb92-0ccb-4490-9866-ef142f09139d</td>\n",
       "      <td>NaN</td>\n",
       "    </tr>\n",
       "  </tbody>\n",
       "</table>\n",
       "</div>"
      ],
      "text/plain": [
       "        event_datetime     event  building_type  \\\n",
       "0  2020-05-04 00:00:01  building  assembly_shop   \n",
       "1  2020-05-04 00:00:03  building  assembly_shop   \n",
       "2  2020-05-04 00:00:16  building  assembly_shop   \n",
       "3  2020-05-04 00:00:16  building  assembly_shop   \n",
       "4  2020-05-04 00:00:35  building  assembly_shop   \n",
       "\n",
       "                                user_id project_type  \n",
       "0  55e92310-cb8e-4754-b622-597e124b03de          NaN  \n",
       "1  c07b1c10-f477-44dc-81dc-ec82254b1347          NaN  \n",
       "2  6edd42cc-e753-4ff6-a947-2107cd560710          NaN  \n",
       "3  92c69003-d60a-444a-827f-8cc51bf6bf4c          NaN  \n",
       "4  cdc6bb92-0ccb-4490-9866-ef142f09139d          NaN  "
      ]
     },
     "execution_count": 3,
     "metadata": {},
     "output_type": "execute_result"
    }
   ],
   "source": [
    "actions.head()"
   ]
  },
  {
   "cell_type": "markdown",
   "metadata": {},
   "source": [
    "Видим, что датасет **actions** содержит следующую информацию:\n",
    "- `event_datetime` — время события;\n",
    "- `event` — одно из трёх событий:<br>\n",
    "    *- building* — объект построен<br>\n",
    "    *- finished_stage_1* — первый уровень завершён<br>\n",
    "    *- project* — проект завершён\n",
    "- `building_type` — один из трёх типов здания:<br>\n",
    "    *- assembly_shop* — сборочный цех<br>\n",
    "    *- spaceport* — космопорт<br>\n",
    "    *- research_center* — исследовательский центр<br>\n",
    "- `user_id` — идентификатор пользователя;\n",
    "- `project_type` — тип реализованного проекта."
   ]
  },
  {
   "cell_type": "code",
   "execution_count": 4,
   "metadata": {},
   "outputs": [
    {
     "name": "stdout",
     "output_type": "stream",
     "text": [
      "<class 'pandas.core.frame.DataFrame'>\n",
      "RangeIndex: 135640 entries, 0 to 135639\n",
      "Data columns (total 5 columns):\n",
      " #   Column          Non-Null Count   Dtype \n",
      "---  ------          --------------   ----- \n",
      " 0   event_datetime  135640 non-null  object\n",
      " 1   event           135640 non-null  object\n",
      " 2   building_type   127957 non-null  object\n",
      " 3   user_id         135640 non-null  object\n",
      " 4   project_type    1866 non-null    object\n",
      "dtypes: object(5)\n",
      "memory usage: 5.2+ MB\n"
     ]
    }
   ],
   "source": [
    "actions.info()"
   ]
  },
  {
   "cell_type": "code",
   "execution_count": 5,
   "metadata": {},
   "outputs": [],
   "source": [
    "# event_datetime приведём к типу date:\n",
    "actions['event_datetime'] = pd.to_datetime(actions['event_datetime'])"
   ]
  },
  {
   "cell_type": "code",
   "execution_count": 6,
   "metadata": {},
   "outputs": [
    {
     "data": {
      "text/plain": [
       "1"
      ]
     },
     "execution_count": 6,
     "metadata": {},
     "output_type": "execute_result"
    }
   ],
   "source": [
    "# проверим на дубликаты:\n",
    "actions.duplicated().sum()"
   ]
  },
  {
   "cell_type": "code",
   "execution_count": 52,
   "metadata": {},
   "outputs": [],
   "source": [
    "# избавимся от единственного явного дубликата:\n",
    "actions = actions.drop_duplicates()"
   ]
  },
  {
   "cell_type": "markdown",
   "metadata": {},
   "source": [
    "Остаётся разобраться с пропусками в столбцах:\n",
    "- building_type; \n",
    "- project_type."
   ]
  },
  {
   "cell_type": "markdown",
   "metadata": {},
   "source": [
    "Есть предположение, что значения в building_type отсутствуют в тех случаях, когда событием не является строительство, т.е. либо finished_stage_1, либо project. Проверим это:"
   ]
  },
  {
   "cell_type": "code",
   "execution_count": 8,
   "metadata": {},
   "outputs": [
    {
     "data": {
      "text/plain": [
       "finished_stage_1    5817\n",
       "project             1866\n",
       "Name: event, dtype: int64"
      ]
     },
     "execution_count": 8,
     "metadata": {},
     "output_type": "execute_result"
    }
   ],
   "source": [
    "actions.query('building_type.isna()')['event'].value_counts()"
   ]
  },
  {
   "cell_type": "markdown",
   "metadata": {},
   "source": [
    "Действительно, значения в building_type пропущены только в тех случаях, когда событием является завершение первого уровня или завершение проекта. Это логично. В таком случае просто заменим пропуска на значение \"not_building\":"
   ]
  },
  {
   "cell_type": "code",
   "execution_count": 9,
   "metadata": {},
   "outputs": [],
   "source": [
    "actions['building_type'] = actions['building_type'].fillna(value = 'not_building')"
   ]
  },
  {
   "cell_type": "markdown",
   "metadata": {},
   "source": [
    "Теперь разберемся с пропусками в project_type. Есть предположение, что данные пропуски характерны толко для событий \"проект завершен\". Проверим это:"
   ]
  },
  {
   "cell_type": "code",
   "execution_count": 10,
   "metadata": {},
   "outputs": [
    {
     "data": {
      "text/plain": [
       "satellite_orbital_assembly    1866\n",
       "Name: project_type, dtype: int64"
      ]
     },
     "execution_count": 10,
     "metadata": {},
     "output_type": "execute_result"
    }
   ],
   "source": [
    "actions.query('event == \"project\"')['project_type'].value_counts()"
   ]
  },
  {
   "cell_type": "markdown",
   "metadata": {},
   "source": [
    "Предположение подтвердилось. Для дальнейшего исследования данных в столбце event будет достаточно. Чтобы не дублировать информацию, удалим столбец project_type:"
   ]
  },
  {
   "cell_type": "code",
   "execution_count": 11,
   "metadata": {},
   "outputs": [],
   "source": [
    "actions.drop('project_type', axis=1, inplace=True)"
   ]
  },
  {
   "cell_type": "code",
   "execution_count": 12,
   "metadata": {},
   "outputs": [],
   "source": [
    "# выделим информацию о дате без времени:\n",
    "actions['day'] = actions['event_datetime'].dt.date"
   ]
  },
  {
   "cell_type": "markdown",
   "metadata": {},
   "source": [
    "### Costs"
   ]
  },
  {
   "cell_type": "code",
   "execution_count": 13,
   "metadata": {
    "scrolled": true
   },
   "outputs": [
    {
     "data": {
      "text/html": [
       "<div>\n",
       "<style scoped>\n",
       "    .dataframe tbody tr th:only-of-type {\n",
       "        vertical-align: middle;\n",
       "    }\n",
       "\n",
       "    .dataframe tbody tr th {\n",
       "        vertical-align: top;\n",
       "    }\n",
       "\n",
       "    .dataframe thead th {\n",
       "        text-align: right;\n",
       "    }\n",
       "</style>\n",
       "<table border=\"1\" class=\"dataframe\">\n",
       "  <thead>\n",
       "    <tr style=\"text-align: right;\">\n",
       "      <th></th>\n",
       "      <th>source</th>\n",
       "      <th>day</th>\n",
       "      <th>cost</th>\n",
       "    </tr>\n",
       "  </thead>\n",
       "  <tbody>\n",
       "    <tr>\n",
       "      <th>0</th>\n",
       "      <td>facebook_ads</td>\n",
       "      <td>2020-05-03</td>\n",
       "      <td>935.882786</td>\n",
       "    </tr>\n",
       "    <tr>\n",
       "      <th>1</th>\n",
       "      <td>facebook_ads</td>\n",
       "      <td>2020-05-04</td>\n",
       "      <td>548.354480</td>\n",
       "    </tr>\n",
       "    <tr>\n",
       "      <th>2</th>\n",
       "      <td>facebook_ads</td>\n",
       "      <td>2020-05-05</td>\n",
       "      <td>260.185754</td>\n",
       "    </tr>\n",
       "    <tr>\n",
       "      <th>3</th>\n",
       "      <td>facebook_ads</td>\n",
       "      <td>2020-05-06</td>\n",
       "      <td>177.982200</td>\n",
       "    </tr>\n",
       "    <tr>\n",
       "      <th>4</th>\n",
       "      <td>facebook_ads</td>\n",
       "      <td>2020-05-07</td>\n",
       "      <td>111.766796</td>\n",
       "    </tr>\n",
       "  </tbody>\n",
       "</table>\n",
       "</div>"
      ],
      "text/plain": [
       "         source         day        cost\n",
       "0  facebook_ads  2020-05-03  935.882786\n",
       "1  facebook_ads  2020-05-04  548.354480\n",
       "2  facebook_ads  2020-05-05  260.185754\n",
       "3  facebook_ads  2020-05-06  177.982200\n",
       "4  facebook_ads  2020-05-07  111.766796"
      ]
     },
     "execution_count": 13,
     "metadata": {},
     "output_type": "execute_result"
    }
   ],
   "source": [
    "costs.head()"
   ]
  },
  {
   "cell_type": "markdown",
   "metadata": {},
   "source": [
    "Видим, что датасет **costs** содержит следующую информацию:\n",
    "- `source` — источник трафика;\n",
    "- `day` — день, в который был совершен клик по объявлению;\n",
    "- `cost` — стоимость кликов."
   ]
  },
  {
   "cell_type": "code",
   "execution_count": 14,
   "metadata": {
    "scrolled": true
   },
   "outputs": [
    {
     "name": "stdout",
     "output_type": "stream",
     "text": [
      "<class 'pandas.core.frame.DataFrame'>\n",
      "RangeIndex: 28 entries, 0 to 27\n",
      "Data columns (total 3 columns):\n",
      " #   Column  Non-Null Count  Dtype  \n",
      "---  ------  --------------  -----  \n",
      " 0   source  28 non-null     object \n",
      " 1   day     28 non-null     object \n",
      " 2   cost    28 non-null     float64\n",
      "dtypes: float64(1), object(2)\n",
      "memory usage: 800.0+ bytes\n"
     ]
    }
   ],
   "source": [
    "costs.info()"
   ]
  },
  {
   "cell_type": "markdown",
   "metadata": {},
   "source": [
    "Пропусков нет."
   ]
  },
  {
   "cell_type": "code",
   "execution_count": 15,
   "metadata": {},
   "outputs": [],
   "source": [
    "# day приведём к типу date:\n",
    "costs['day'] = pd.to_datetime(costs['day'])"
   ]
  },
  {
   "cell_type": "code",
   "execution_count": 16,
   "metadata": {
    "scrolled": true
   },
   "outputs": [
    {
     "data": {
      "text/plain": [
       "0"
      ]
     },
     "execution_count": 16,
     "metadata": {},
     "output_type": "execute_result"
    }
   ],
   "source": [
    "# проверим на дубликаты:\n",
    "costs.duplicated().sum()"
   ]
  },
  {
   "cell_type": "markdown",
   "metadata": {},
   "source": [
    "Из условий задания нам известно, что пользователи приходят в игру на следующий день после оплаты рекламы. Поэтому для корректного анализа следует \"сдвинуть\" на 1 день данные в столбце day: "
   ]
  },
  {
   "cell_type": "code",
   "execution_count": 17,
   "metadata": {},
   "outputs": [
    {
     "data": {
      "text/html": [
       "<div>\n",
       "<style scoped>\n",
       "    .dataframe tbody tr th:only-of-type {\n",
       "        vertical-align: middle;\n",
       "    }\n",
       "\n",
       "    .dataframe tbody tr th {\n",
       "        vertical-align: top;\n",
       "    }\n",
       "\n",
       "    .dataframe thead th {\n",
       "        text-align: right;\n",
       "    }\n",
       "</style>\n",
       "<table border=\"1\" class=\"dataframe\">\n",
       "  <thead>\n",
       "    <tr style=\"text-align: right;\">\n",
       "      <th></th>\n",
       "      <th>source</th>\n",
       "      <th>day</th>\n",
       "      <th>cost</th>\n",
       "    </tr>\n",
       "  </thead>\n",
       "  <tbody>\n",
       "    <tr>\n",
       "      <th>0</th>\n",
       "      <td>facebook_ads</td>\n",
       "      <td>2020-05-04</td>\n",
       "      <td>935.882786</td>\n",
       "    </tr>\n",
       "    <tr>\n",
       "      <th>1</th>\n",
       "      <td>facebook_ads</td>\n",
       "      <td>2020-05-05</td>\n",
       "      <td>548.354480</td>\n",
       "    </tr>\n",
       "    <tr>\n",
       "      <th>2</th>\n",
       "      <td>facebook_ads</td>\n",
       "      <td>2020-05-06</td>\n",
       "      <td>260.185754</td>\n",
       "    </tr>\n",
       "    <tr>\n",
       "      <th>3</th>\n",
       "      <td>facebook_ads</td>\n",
       "      <td>2020-05-07</td>\n",
       "      <td>177.982200</td>\n",
       "    </tr>\n",
       "    <tr>\n",
       "      <th>4</th>\n",
       "      <td>facebook_ads</td>\n",
       "      <td>2020-05-08</td>\n",
       "      <td>111.766796</td>\n",
       "    </tr>\n",
       "  </tbody>\n",
       "</table>\n",
       "</div>"
      ],
      "text/plain": [
       "         source        day        cost\n",
       "0  facebook_ads 2020-05-04  935.882786\n",
       "1  facebook_ads 2020-05-05  548.354480\n",
       "2  facebook_ads 2020-05-06  260.185754\n",
       "3  facebook_ads 2020-05-07  177.982200\n",
       "4  facebook_ads 2020-05-08  111.766796"
      ]
     },
     "execution_count": 17,
     "metadata": {},
     "output_type": "execute_result"
    }
   ],
   "source": [
    "costs['day'] = costs['day'] + pd.to_timedelta('1 day')\n",
    "costs.head()"
   ]
  },
  {
   "cell_type": "markdown",
   "metadata": {},
   "source": [
    "### Source"
   ]
  },
  {
   "cell_type": "code",
   "execution_count": 18,
   "metadata": {
    "scrolled": true
   },
   "outputs": [
    {
     "data": {
      "text/html": [
       "<div>\n",
       "<style scoped>\n",
       "    .dataframe tbody tr th:only-of-type {\n",
       "        vertical-align: middle;\n",
       "    }\n",
       "\n",
       "    .dataframe tbody tr th {\n",
       "        vertical-align: top;\n",
       "    }\n",
       "\n",
       "    .dataframe thead th {\n",
       "        text-align: right;\n",
       "    }\n",
       "</style>\n",
       "<table border=\"1\" class=\"dataframe\">\n",
       "  <thead>\n",
       "    <tr style=\"text-align: right;\">\n",
       "      <th></th>\n",
       "      <th>user_id</th>\n",
       "      <th>source</th>\n",
       "    </tr>\n",
       "  </thead>\n",
       "  <tbody>\n",
       "    <tr>\n",
       "      <th>0</th>\n",
       "      <td>0001f83c-c6ac-4621-b7f0-8a28b283ac30</td>\n",
       "      <td>facebook_ads</td>\n",
       "    </tr>\n",
       "    <tr>\n",
       "      <th>1</th>\n",
       "      <td>00151b4f-ba38-44a8-a650-d7cf130a0105</td>\n",
       "      <td>yandex_direct</td>\n",
       "    </tr>\n",
       "    <tr>\n",
       "      <th>2</th>\n",
       "      <td>001aaea6-3d14-43f1-8ca8-7f48820f17aa</td>\n",
       "      <td>youtube_channel_reklama</td>\n",
       "    </tr>\n",
       "    <tr>\n",
       "      <th>3</th>\n",
       "      <td>001d39dc-366c-4021-9604-6a3b9ff01e25</td>\n",
       "      <td>instagram_new_adverts</td>\n",
       "    </tr>\n",
       "    <tr>\n",
       "      <th>4</th>\n",
       "      <td>002f508f-67b6-479f-814b-b05f00d4e995</td>\n",
       "      <td>facebook_ads</td>\n",
       "    </tr>\n",
       "  </tbody>\n",
       "</table>\n",
       "</div>"
      ],
      "text/plain": [
       "                                user_id                   source\n",
       "0  0001f83c-c6ac-4621-b7f0-8a28b283ac30             facebook_ads\n",
       "1  00151b4f-ba38-44a8-a650-d7cf130a0105            yandex_direct\n",
       "2  001aaea6-3d14-43f1-8ca8-7f48820f17aa  youtube_channel_reklama\n",
       "3  001d39dc-366c-4021-9604-6a3b9ff01e25    instagram_new_adverts\n",
       "4  002f508f-67b6-479f-814b-b05f00d4e995             facebook_ads"
      ]
     },
     "execution_count": 18,
     "metadata": {},
     "output_type": "execute_result"
    }
   ],
   "source": [
    "source.head()"
   ]
  },
  {
   "cell_type": "markdown",
   "metadata": {},
   "source": [
    "Видим, что датасет **source** содержит следующую информацию:\n",
    "- `user_id` — идентификатор пользователя;\n",
    "- `source` — источников, с которого пришёл пользователь, установивший приложение."
   ]
  },
  {
   "cell_type": "code",
   "execution_count": 19,
   "metadata": {
    "scrolled": false
   },
   "outputs": [
    {
     "name": "stdout",
     "output_type": "stream",
     "text": [
      "<class 'pandas.core.frame.DataFrame'>\n",
      "RangeIndex: 13576 entries, 0 to 13575\n",
      "Data columns (total 2 columns):\n",
      " #   Column   Non-Null Count  Dtype \n",
      "---  ------   --------------  ----- \n",
      " 0   user_id  13576 non-null  object\n",
      " 1   source   13576 non-null  object\n",
      "dtypes: object(2)\n",
      "memory usage: 212.2+ KB\n"
     ]
    }
   ],
   "source": [
    "source.info()"
   ]
  },
  {
   "cell_type": "markdown",
   "metadata": {},
   "source": [
    "Пропусков нет."
   ]
  },
  {
   "cell_type": "code",
   "execution_count": 20,
   "metadata": {
    "scrolled": true
   },
   "outputs": [
    {
     "data": {
      "text/plain": [
       "0"
      ]
     },
     "execution_count": 20,
     "metadata": {},
     "output_type": "execute_result"
    }
   ],
   "source": [
    "# проверим на дубликаты:\n",
    "source.duplicated().sum()"
   ]
  },
  {
   "cell_type": "markdown",
   "metadata": {},
   "source": [
    "Видится целесообразным сразу добавить в actions информацию об источниках, из которых пришли пользователи:"
   ]
  },
  {
   "cell_type": "code",
   "execution_count": 21,
   "metadata": {},
   "outputs": [
    {
     "data": {
      "text/html": [
       "<div>\n",
       "<style scoped>\n",
       "    .dataframe tbody tr th:only-of-type {\n",
       "        vertical-align: middle;\n",
       "    }\n",
       "\n",
       "    .dataframe tbody tr th {\n",
       "        vertical-align: top;\n",
       "    }\n",
       "\n",
       "    .dataframe thead th {\n",
       "        text-align: right;\n",
       "    }\n",
       "</style>\n",
       "<table border=\"1\" class=\"dataframe\">\n",
       "  <thead>\n",
       "    <tr style=\"text-align: right;\">\n",
       "      <th></th>\n",
       "      <th>event_datetime</th>\n",
       "      <th>event</th>\n",
       "      <th>building_type</th>\n",
       "      <th>user_id</th>\n",
       "      <th>day</th>\n",
       "      <th>source</th>\n",
       "    </tr>\n",
       "  </thead>\n",
       "  <tbody>\n",
       "    <tr>\n",
       "      <th>0</th>\n",
       "      <td>2020-05-04 00:00:01</td>\n",
       "      <td>building</td>\n",
       "      <td>assembly_shop</td>\n",
       "      <td>55e92310-cb8e-4754-b622-597e124b03de</td>\n",
       "      <td>2020-05-04</td>\n",
       "      <td>youtube_channel_reklama</td>\n",
       "    </tr>\n",
       "    <tr>\n",
       "      <th>1</th>\n",
       "      <td>2020-05-05 05:20:15</td>\n",
       "      <td>building</td>\n",
       "      <td>assembly_shop</td>\n",
       "      <td>55e92310-cb8e-4754-b622-597e124b03de</td>\n",
       "      <td>2020-05-05</td>\n",
       "      <td>youtube_channel_reklama</td>\n",
       "    </tr>\n",
       "    <tr>\n",
       "      <th>2</th>\n",
       "      <td>2020-05-05 19:24:02</td>\n",
       "      <td>building</td>\n",
       "      <td>assembly_shop</td>\n",
       "      <td>55e92310-cb8e-4754-b622-597e124b03de</td>\n",
       "      <td>2020-05-05</td>\n",
       "      <td>youtube_channel_reklama</td>\n",
       "    </tr>\n",
       "    <tr>\n",
       "      <th>3</th>\n",
       "      <td>2020-05-05 20:59:19</td>\n",
       "      <td>building</td>\n",
       "      <td>assembly_shop</td>\n",
       "      <td>55e92310-cb8e-4754-b622-597e124b03de</td>\n",
       "      <td>2020-05-05</td>\n",
       "      <td>youtube_channel_reklama</td>\n",
       "    </tr>\n",
       "    <tr>\n",
       "      <th>4</th>\n",
       "      <td>2020-05-06 00:52:56</td>\n",
       "      <td>building</td>\n",
       "      <td>assembly_shop</td>\n",
       "      <td>55e92310-cb8e-4754-b622-597e124b03de</td>\n",
       "      <td>2020-05-06</td>\n",
       "      <td>youtube_channel_reklama</td>\n",
       "    </tr>\n",
       "  </tbody>\n",
       "</table>\n",
       "</div>"
      ],
      "text/plain": [
       "       event_datetime     event  building_type  \\\n",
       "0 2020-05-04 00:00:01  building  assembly_shop   \n",
       "1 2020-05-05 05:20:15  building  assembly_shop   \n",
       "2 2020-05-05 19:24:02  building  assembly_shop   \n",
       "3 2020-05-05 20:59:19  building  assembly_shop   \n",
       "4 2020-05-06 00:52:56  building  assembly_shop   \n",
       "\n",
       "                                user_id         day                   source  \n",
       "0  55e92310-cb8e-4754-b622-597e124b03de  2020-05-04  youtube_channel_reklama  \n",
       "1  55e92310-cb8e-4754-b622-597e124b03de  2020-05-05  youtube_channel_reklama  \n",
       "2  55e92310-cb8e-4754-b622-597e124b03de  2020-05-05  youtube_channel_reklama  \n",
       "3  55e92310-cb8e-4754-b622-597e124b03de  2020-05-05  youtube_channel_reklama  \n",
       "4  55e92310-cb8e-4754-b622-597e124b03de  2020-05-06  youtube_channel_reklama  "
      ]
     },
     "execution_count": 21,
     "metadata": {},
     "output_type": "execute_result"
    }
   ],
   "source": [
    "actions = actions.merge(source)\n",
    "actions.head()"
   ]
  },
  {
   "cell_type": "markdown",
   "metadata": {},
   "source": [
    "**Вывод:**\n",
    "\n",
    "Данные о событиях в игре и рекламных активностях загружены и подготовлены для исследовательского анализа: \n",
    "- датасет actions — обработаны пропуски в столбце building_type, удалён дублирующий столбец project_type, удалён единственный явный дубликат, а также event_datetime приведён к типу date. Информация об источнике рекламы, по которому перешел пользватель подтянута в датасет.\n",
    "- датасет costs — пропуски и дубликаты не обнаружены, данные в столбце day приведён к типу date. Данные о заратах на рекламу в столбце day \"сдвинуты\" на 1 день позже, чтобы соответствовать данным об активностях игроков.\n",
    "- датасет source — пропуски и дубликаты также не обнаружены, все форматы корректны. \n",
    "\n",
    "Данные подготовлены для исследовательского анализа."
   ]
  },
  {
   "cell_type": "markdown",
   "metadata": {},
   "source": [
    "## Исследовательский анализ данных"
   ]
  },
  {
   "cell_type": "markdown",
   "metadata": {},
   "source": [
    "### ДАННЫЕ О СОБЫТИЯХ В ИГРЕ"
   ]
  },
  {
   "cell_type": "markdown",
   "metadata": {},
   "source": [
    "Изучим поведение пользователей в игре."
   ]
  },
  {
   "cell_type": "markdown",
   "metadata": {},
   "source": [
    "#### Количество пользователей"
   ]
  },
  {
   "cell_type": "code",
   "execution_count": 22,
   "metadata": {
    "scrolled": true
   },
   "outputs": [
    {
     "data": {
      "image/png": "[encoded data removed]",
      "text/plain": [
       "<Figure size 1080x360 with 1 Axes>"
      ]
     },
     "metadata": {
      "needs_background": "light"
     },
     "output_type": "display_data"
    }
   ],
   "source": [
    "# построим гистограмму распределения количества пользователей по дням:\n",
    "user_days = actions.pivot_table(index='day', values='user_id', aggfunc='nunique')\n",
    "\n",
    "fig = plt.figure(figsize=(15, 5))\n",
    "splot_no = sns.barplot(x=user_days.index, y='user_id', data=user_days , label = 'Количество пользователей')\n",
    "plt.title('АКТИВНОСТЬ ПОЛЬЗОВАТЕЛЕЙ ПО ДНЯМ')\n",
    "plt.ylabel('Количество пользователей')\n",
    "plt.xticks(fontsize=(12),rotation=90)\n",
    "plt.xlabel('')\n",
    "plt.show()"
   ]
  },
  {
   "cell_type": "markdown",
   "metadata": {},
   "source": [
    "Наблюдаем уверенный рост количества пользователей в течение первой недели - это, вероятно, связано с активной рекламой именно в данный период. Однако после того, как привлечение из рекламных источниов прекратилось, начиная с 11 мая количество пользователей неуклонно снижается. \n",
    "\n",
    "Полагаем, что кроме рекламы на количество пользователей также могло повлиять наличие как раз в этот период майских праздников (рост игр в период с 4-10 мая и падение начиная с 11 мая)."
   ]
  },
  {
   "cell_type": "code",
   "execution_count": 23,
   "metadata": {},
   "outputs": [
    {
     "data": {
      "text/plain": [
       "13576"
      ]
     },
     "execution_count": 23,
     "metadata": {},
     "output_type": "execute_result"
    }
   ],
   "source": [
    "# посчитаем количество уникальных пользователей:\n",
    "len(actions['user_id'].unique())"
   ]
  },
  {
   "cell_type": "markdown",
   "metadata": {},
   "source": [
    "Выяснили, что наша когорта для исследования состоит из **13 576** пользователей."
   ]
  },
  {
   "cell_type": "code",
   "execution_count": 24,
   "metadata": {
    "scrolled": false
   },
   "outputs": [
    {
     "data": {
      "text/plain": [
       "building            127956\n",
       "finished_stage_1      5817\n",
       "project               1866\n",
       "Name: event, dtype: int64"
      ]
     },
     "execution_count": 24,
     "metadata": {},
     "output_type": "execute_result"
    }
   ],
   "source": [
    "# выведем действия пользователей:\n",
    "actions['event'].value_counts()"
   ]
  },
  {
   "cell_type": "markdown",
   "metadata": {},
   "source": [
    "Видим, что первый уровень прошли тем или иным способом всего **5 817** пользователей. \n",
    "\n",
    "Мы знаем, что 1 866 пользователей реализовали проект, но нам неизвестно - прошли ли они первый уровень (грубо говоря, нажали ли они кнопку перехода на следующий уровень).\n",
    "\n",
    "Чтобы выяснить точное количество пользователей, которые реализовали проект и прошли первый уровень, необходимо, определить пользователей, у которых есть оба статуса:\n",
    "- finished_stage_1;\n",
    "- project."
   ]
  },
  {
   "cell_type": "code",
   "execution_count": 25,
   "metadata": {},
   "outputs": [
    {
     "data": {
      "text/plain": [
       "1866"
      ]
     },
     "execution_count": 25,
     "metadata": {},
     "output_type": "execute_result"
    }
   ],
   "source": [
    "# создадим список user_id, которые реализовали проект: \n",
    "projects = actions['user_id'].loc[actions['event'] == 'project']\n",
    "\n",
    "# создадим также список user_id, которые прошли 1й уровень: \n",
    "finished_stage_1 = actions['user_id'].loc[actions['event'] == 'finished_stage_1']\n",
    "\n",
    "# подсчитаем количество элементов, которые находятся в обоих списках:\n",
    "len(set(projects) & set(finished_stage_1))"
   ]
  },
  {
   "cell_type": "markdown",
   "metadata": {},
   "source": [
    "Мы убедились, что все пльзователи из тех, кто реализовал проект, действительно завершили первый уровень."
   ]
  },
  {
   "cell_type": "code",
   "execution_count": 26,
   "metadata": {},
   "outputs": [
    {
     "data": {
      "text/plain": [
       "3951"
      ]
     },
     "execution_count": 26,
     "metadata": {},
     "output_type": "execute_result"
    }
   ],
   "source": [
    "# посчитаем количество пользователей, выбравших PvP:\n",
    "PvP = len(finished_stage_1) - len(projects)\n",
    "PvP"
   ]
  },
  {
   "cell_type": "code",
   "execution_count": 27,
   "metadata": {},
   "outputs": [
    {
     "name": "stdout",
     "output_type": "stream",
     "text": [
      "Доля прошедших первый уровень от всех: 42.85%\n"
     ]
    }
   ],
   "source": [
    "# посчитаем долю прошедших первый уровень от всех пользователей:\n",
    "a = len(finished_stage_1) / len(actions['user_id'].value_counts())\n",
    "print('Доля прошедших первый уровень от всех: {:.2%}'.format(a))"
   ]
  },
  {
   "cell_type": "code",
   "execution_count": 28,
   "metadata": {},
   "outputs": [
    {
     "data": {
      "image/png": "[encoded data removed]",
      "text/plain": [
       "<Figure size 864x504 with 1 Axes>"
      ]
     },
     "metadata": {},
     "output_type": "display_data"
    }
   ],
   "source": [
    "# визиализируем распределение пользователе по способу прохождения первого уровня: \n",
    "labels = ['Воители', 'Исследователи']\n",
    "sizes = [PvP, len(projects)]\n",
    "\n",
    "fig1, ax1 = plt.subplots(figsize=(12, 7))\n",
    "ax1.pie(sizes, labels=labels, autopct='%1.1f%%')\n",
    "ax1.set_title('РАСПРЕДЕЛЕНИЕ СПОСОБОВ ПРОХОЖДЕНИЯ ПЕРВОГО УРОВНЯ') \n",
    "\n",
    "plt.show()"
   ]
  },
  {
   "cell_type": "markdown",
   "metadata": {},
   "source": [
    "Видим, что первый уровень прошли  тем или иным способом всего **5 817** пользователей (т.е. 43% от всех пользователей), из которых:\n",
    "- **3 951** пользователей предпочли сражение (это составляет 68% от всех прошедших первый уровень);\n",
    "- **1 866** пользователей предпочли исследование (это составляет 32% от всех прошедших первый уровень)."
   ]
  },
  {
   "cell_type": "markdown",
   "metadata": {},
   "source": [
    "#### Продолжительность игры"
   ]
  },
  {
   "cell_type": "code",
   "execution_count": 29,
   "metadata": {},
   "outputs": [
    {
     "data": {
      "text/html": [
       "<div>\n",
       "<style scoped>\n",
       "    .dataframe tbody tr th:only-of-type {\n",
       "        vertical-align: middle;\n",
       "    }\n",
       "\n",
       "    .dataframe tbody tr th {\n",
       "        vertical-align: top;\n",
       "    }\n",
       "\n",
       "    .dataframe thead th {\n",
       "        text-align: right;\n",
       "    }\n",
       "</style>\n",
       "<table border=\"1\" class=\"dataframe\">\n",
       "  <thead>\n",
       "    <tr style=\"text-align: right;\">\n",
       "      <th></th>\n",
       "      <th>event_datetime</th>\n",
       "      <th>event</th>\n",
       "      <th>building_type</th>\n",
       "      <th>user_id</th>\n",
       "      <th>day</th>\n",
       "      <th>source</th>\n",
       "      <th>first</th>\n",
       "      <th>last</th>\n",
       "      <th>time</th>\n",
       "    </tr>\n",
       "  </thead>\n",
       "  <tbody>\n",
       "    <tr>\n",
       "      <th>0</th>\n",
       "      <td>2020-05-04 00:00:01</td>\n",
       "      <td>building</td>\n",
       "      <td>assembly_shop</td>\n",
       "      <td>55e92310-cb8e-4754-b622-597e124b03de</td>\n",
       "      <td>2020-05-04</td>\n",
       "      <td>youtube_channel_reklama</td>\n",
       "      <td>2020-05-04 00:00:01</td>\n",
       "      <td>2020-05-10 20:27:01</td>\n",
       "      <td>6</td>\n",
       "    </tr>\n",
       "    <tr>\n",
       "      <th>1</th>\n",
       "      <td>2020-05-05 05:20:15</td>\n",
       "      <td>building</td>\n",
       "      <td>assembly_shop</td>\n",
       "      <td>55e92310-cb8e-4754-b622-597e124b03de</td>\n",
       "      <td>2020-05-05</td>\n",
       "      <td>youtube_channel_reklama</td>\n",
       "      <td>2020-05-04 00:00:01</td>\n",
       "      <td>2020-05-10 20:27:01</td>\n",
       "      <td>6</td>\n",
       "    </tr>\n",
       "    <tr>\n",
       "      <th>2</th>\n",
       "      <td>2020-05-05 19:24:02</td>\n",
       "      <td>building</td>\n",
       "      <td>assembly_shop</td>\n",
       "      <td>55e92310-cb8e-4754-b622-597e124b03de</td>\n",
       "      <td>2020-05-05</td>\n",
       "      <td>youtube_channel_reklama</td>\n",
       "      <td>2020-05-04 00:00:01</td>\n",
       "      <td>2020-05-10 20:27:01</td>\n",
       "      <td>6</td>\n",
       "    </tr>\n",
       "    <tr>\n",
       "      <th>3</th>\n",
       "      <td>2020-05-05 20:59:19</td>\n",
       "      <td>building</td>\n",
       "      <td>assembly_shop</td>\n",
       "      <td>55e92310-cb8e-4754-b622-597e124b03de</td>\n",
       "      <td>2020-05-05</td>\n",
       "      <td>youtube_channel_reklama</td>\n",
       "      <td>2020-05-04 00:00:01</td>\n",
       "      <td>2020-05-10 20:27:01</td>\n",
       "      <td>6</td>\n",
       "    </tr>\n",
       "    <tr>\n",
       "      <th>4</th>\n",
       "      <td>2020-05-06 00:52:56</td>\n",
       "      <td>building</td>\n",
       "      <td>assembly_shop</td>\n",
       "      <td>55e92310-cb8e-4754-b622-597e124b03de</td>\n",
       "      <td>2020-05-06</td>\n",
       "      <td>youtube_channel_reklama</td>\n",
       "      <td>2020-05-04 00:00:01</td>\n",
       "      <td>2020-05-10 20:27:01</td>\n",
       "      <td>6</td>\n",
       "    </tr>\n",
       "    <tr>\n",
       "      <th>...</th>\n",
       "      <td>...</td>\n",
       "      <td>...</td>\n",
       "      <td>...</td>\n",
       "      <td>...</td>\n",
       "      <td>...</td>\n",
       "      <td>...</td>\n",
       "      <td>...</td>\n",
       "      <td>...</td>\n",
       "      <td>...</td>\n",
       "    </tr>\n",
       "    <tr>\n",
       "      <th>135634</th>\n",
       "      <td>2020-05-13 23:56:39</td>\n",
       "      <td>building</td>\n",
       "      <td>spaceport</td>\n",
       "      <td>cafd1b8b-507b-49ae-abf0-89fe863a8b03</td>\n",
       "      <td>2020-05-13</td>\n",
       "      <td>facebook_ads</td>\n",
       "      <td>2020-05-10 23:57:56</td>\n",
       "      <td>2020-05-18 00:23:28</td>\n",
       "      <td>7</td>\n",
       "    </tr>\n",
       "    <tr>\n",
       "      <th>135635</th>\n",
       "      <td>2020-05-18 00:23:28</td>\n",
       "      <td>building</td>\n",
       "      <td>spaceport</td>\n",
       "      <td>cafd1b8b-507b-49ae-abf0-89fe863a8b03</td>\n",
       "      <td>2020-05-18</td>\n",
       "      <td>facebook_ads</td>\n",
       "      <td>2020-05-10 23:57:56</td>\n",
       "      <td>2020-05-18 00:23:28</td>\n",
       "      <td>7</td>\n",
       "    </tr>\n",
       "    <tr>\n",
       "      <th>135636</th>\n",
       "      <td>2020-05-10 23:59:52</td>\n",
       "      <td>building</td>\n",
       "      <td>assembly_shop</td>\n",
       "      <td>bdc53e19-462a-4dc3-8b55-b4a34278af6a</td>\n",
       "      <td>2020-05-10</td>\n",
       "      <td>youtube_channel_reklama</td>\n",
       "      <td>2020-05-10 23:59:52</td>\n",
       "      <td>2020-05-18 11:11:11</td>\n",
       "      <td>7</td>\n",
       "    </tr>\n",
       "    <tr>\n",
       "      <th>135637</th>\n",
       "      <td>2020-05-13 08:11:19</td>\n",
       "      <td>building</td>\n",
       "      <td>spaceport</td>\n",
       "      <td>bdc53e19-462a-4dc3-8b55-b4a34278af6a</td>\n",
       "      <td>2020-05-13</td>\n",
       "      <td>youtube_channel_reklama</td>\n",
       "      <td>2020-05-10 23:59:52</td>\n",
       "      <td>2020-05-18 11:11:11</td>\n",
       "      <td>7</td>\n",
       "    </tr>\n",
       "    <tr>\n",
       "      <th>135638</th>\n",
       "      <td>2020-05-18 11:11:11</td>\n",
       "      <td>building</td>\n",
       "      <td>spaceport</td>\n",
       "      <td>bdc53e19-462a-4dc3-8b55-b4a34278af6a</td>\n",
       "      <td>2020-05-18</td>\n",
       "      <td>youtube_channel_reklama</td>\n",
       "      <td>2020-05-10 23:59:52</td>\n",
       "      <td>2020-05-18 11:11:11</td>\n",
       "      <td>7</td>\n",
       "    </tr>\n",
       "  </tbody>\n",
       "</table>\n",
       "<p>135639 rows × 9 columns</p>\n",
       "</div>"
      ],
      "text/plain": [
       "            event_datetime     event  building_type  \\\n",
       "0      2020-05-04 00:00:01  building  assembly_shop   \n",
       "1      2020-05-05 05:20:15  building  assembly_shop   \n",
       "2      2020-05-05 19:24:02  building  assembly_shop   \n",
       "3      2020-05-05 20:59:19  building  assembly_shop   \n",
       "4      2020-05-06 00:52:56  building  assembly_shop   \n",
       "...                    ...       ...            ...   \n",
       "135634 2020-05-13 23:56:39  building      spaceport   \n",
       "135635 2020-05-18 00:23:28  building      spaceport   \n",
       "135636 2020-05-10 23:59:52  building  assembly_shop   \n",
       "135637 2020-05-13 08:11:19  building      spaceport   \n",
       "135638 2020-05-18 11:11:11  building      spaceport   \n",
       "\n",
       "                                     user_id         day  \\\n",
       "0       55e92310-cb8e-4754-b622-597e124b03de  2020-05-04   \n",
       "1       55e92310-cb8e-4754-b622-597e124b03de  2020-05-05   \n",
       "2       55e92310-cb8e-4754-b622-597e124b03de  2020-05-05   \n",
       "3       55e92310-cb8e-4754-b622-597e124b03de  2020-05-05   \n",
       "4       55e92310-cb8e-4754-b622-597e124b03de  2020-05-06   \n",
       "...                                      ...         ...   \n",
       "135634  cafd1b8b-507b-49ae-abf0-89fe863a8b03  2020-05-13   \n",
       "135635  cafd1b8b-507b-49ae-abf0-89fe863a8b03  2020-05-18   \n",
       "135636  bdc53e19-462a-4dc3-8b55-b4a34278af6a  2020-05-10   \n",
       "135637  bdc53e19-462a-4dc3-8b55-b4a34278af6a  2020-05-13   \n",
       "135638  bdc53e19-462a-4dc3-8b55-b4a34278af6a  2020-05-18   \n",
       "\n",
       "                         source               first                last  time  \n",
       "0       youtube_channel_reklama 2020-05-04 00:00:01 2020-05-10 20:27:01     6  \n",
       "1       youtube_channel_reklama 2020-05-04 00:00:01 2020-05-10 20:27:01     6  \n",
       "2       youtube_channel_reklama 2020-05-04 00:00:01 2020-05-10 20:27:01     6  \n",
       "3       youtube_channel_reklama 2020-05-04 00:00:01 2020-05-10 20:27:01     6  \n",
       "4       youtube_channel_reklama 2020-05-04 00:00:01 2020-05-10 20:27:01     6  \n",
       "...                         ...                 ...                 ...   ...  \n",
       "135634             facebook_ads 2020-05-10 23:57:56 2020-05-18 00:23:28     7  \n",
       "135635             facebook_ads 2020-05-10 23:57:56 2020-05-18 00:23:28     7  \n",
       "135636  youtube_channel_reklama 2020-05-10 23:59:52 2020-05-18 11:11:11     7  \n",
       "135637  youtube_channel_reklama 2020-05-10 23:59:52 2020-05-18 11:11:11     7  \n",
       "135638  youtube_channel_reklama 2020-05-10 23:59:52 2020-05-18 11:11:11     7  \n",
       "\n",
       "[135639 rows x 9 columns]"
      ]
     },
     "execution_count": 29,
     "metadata": {},
     "output_type": "execute_result"
    }
   ],
   "source": [
    "# добавим дату первого взаимодействия:\n",
    "first = actions.groupby('user_id')['event_datetime'].min() \n",
    "first.name = 'first'\n",
    "actions = pd.merge(actions, first, on = 'user_id')\n",
    "actions['first'] = pd.to_datetime(actions['first'])\n",
    "\n",
    "# добавим дату последнего взаимодействия:\n",
    "last = actions.groupby('user_id')['event_datetime'].max() \n",
    "last.name = 'last'\n",
    "actions = pd.merge(actions, last, on = 'user_id')\n",
    "actions['last'] = pd.to_datetime(actions['last'])\n",
    "\n",
    "# расчитаем продолжительность взаимодействия:\n",
    "actions['time'] = (actions['last'] - actions['first']).dt.days\n",
    "actions"
   ]
  },
  {
   "cell_type": "code",
   "execution_count": 30,
   "metadata": {
    "scrolled": false
   },
   "outputs": [
    {
     "data": {
      "image/png": "[encoded data removed]",
      "text/plain": [
       "<Figure size 720x504 with 1 Axes>"
      ]
     },
     "metadata": {
      "needs_background": "light"
     },
     "output_type": "display_data"
    }
   ],
   "source": [
    "# построим гистрограмму распределения продолжительности прохождения первого уровня:\n",
    "data = actions.loc[actions['event']=='finished_stage_1']\n",
    "plt.figure(figsize=(10,7))\n",
    "data['time'].hist()\n",
    "\n",
    "plt.title('РАСПРЕДЕЛЕНИЕ ПРОДОЛЖИТЕЛЬНОСТИ ПРОХОЖДЕНИЯ ПЕРВОГО УРОВНЯ',size=15)\n",
    "plt.xlabel('Количество дней')\n",
    "plt.ylabel('Количество пользователей');"
   ]
  },
  {
   "cell_type": "markdown",
   "metadata": {},
   "source": [
    "Видим, что прохождеие первого уровня может занять у пользователей и 1 день и даже 30 дней, но в целом большинство пользователей проходит первый уровень за 9-12 дней. \n",
    "\n",
    "Теперь выясним, у кого это получаетс быстрее - у исследователей или у воителей:"
   ]
  },
  {
   "cell_type": "code",
   "execution_count": 31,
   "metadata": {},
   "outputs": [
    {
     "data": {
      "text/plain": [
       "13.0"
      ]
     },
     "execution_count": 31,
     "metadata": {},
     "output_type": "execute_result"
    }
   ],
   "source": [
    "# расчитаем медианную длительность прохождения первого уровня для исследователей:\n",
    "actions['time'].loc[actions['event'] == 'project'].median()"
   ]
  },
  {
   "cell_type": "code",
   "execution_count": 32,
   "metadata": {},
   "outputs": [
    {
     "data": {
      "text/plain": [
       "11.0"
      ]
     },
     "execution_count": 32,
     "metadata": {},
     "output_type": "execute_result"
    }
   ],
   "source": [
    "# расчитаем медианную длительность прохождения первого уровня для воителей:\n",
    "actions['time'].loc[(actions['event'] == 'finished_stage_1')&(actions['event'] != 'project')].median()"
   ]
  },
  {
   "cell_type": "markdown",
   "metadata": {},
   "source": [
    "В среднем пользователи завершали проект и проходили первый уровень за  **13** дней. \n",
    "\n",
    "А тем, кто предпочел сражение, удавалось пройти первый уровень всго за **11** дней, т.е. им требовалось на 2 дня меньше. "
   ]
  },
  {
   "cell_type": "markdown",
   "metadata": {},
   "source": [
    "#### Количество действий"
   ]
  },
  {
   "cell_type": "code",
   "execution_count": 33,
   "metadata": {
    "scrolled": true
   },
   "outputs": [
    {
     "data": {
      "image/png": "[encoded data removed]",
      "text/plain": [
       "<Figure size 432x288 with 1 Axes>"
      ]
     },
     "metadata": {
      "needs_background": "light"
     },
     "output_type": "display_data"
    }
   ],
   "source": [
    "# построим гистограмму распределения количества действий пользователей:\n",
    "actions.pivot_table(index='user_id',values='event',aggfunc='count').hist()\n",
    "plt.title('КОЛИЧЕСТВО ДЕЙСТВИЙ ЗА ПЕРВЫЙ УРОВЕНЬ ИГРЫ')\n",
    "plt.xlabel('Количество действий')\n",
    "plt.ylabel('Количество пользователей');"
   ]
  },
  {
   "cell_type": "markdown",
   "metadata": {},
   "source": [
    "Видим, что в среднем пользователи **в первом уровне игры совершают от 10 до 13 действий**. Теперь выясним, какие действия совершают пользователи."
   ]
  },
  {
   "cell_type": "code",
   "execution_count": 34,
   "metadata": {},
   "outputs": [
    {
     "data": {
      "image/png": "[encoded data removed]",
      "text/plain": [
       "<Figure size 504x504 with 1 Axes>"
      ]
     },
     "metadata": {
      "needs_background": "light"
     },
     "output_type": "display_data"
    }
   ],
   "source": [
    "# посмотрим, какие действия совершали игроки в каких количествах\n",
    "actions['event'].value_counts().plot(kind='bar', figsize=(7,7), grid=True, rot = 0)\n",
    "plt.title('РАСПРЕДЕЛЕНИЕ СОБЫТИЙ ПО ТИПУ ДЕЙСТВИЯ')\n",
    "plt.xlabel('Тип действий')\n",
    "plt.ylabel('Количество действий')\n",
    "plt.show()"
   ]
  },
  {
   "cell_type": "code",
   "execution_count": 35,
   "metadata": {},
   "outputs": [
    {
     "data": {
      "text/html": [
       "<div>\n",
       "<style scoped>\n",
       "    .dataframe tbody tr th:only-of-type {\n",
       "        vertical-align: middle;\n",
       "    }\n",
       "\n",
       "    .dataframe tbody tr th {\n",
       "        vertical-align: top;\n",
       "    }\n",
       "\n",
       "    .dataframe thead th {\n",
       "        text-align: right;\n",
       "    }\n",
       "</style>\n",
       "<table border=\"1\" class=\"dataframe\">\n",
       "  <thead>\n",
       "    <tr style=\"text-align: right;\">\n",
       "      <th></th>\n",
       "      <th>count</th>\n",
       "      <th>%</th>\n",
       "    </tr>\n",
       "    <tr>\n",
       "      <th>event</th>\n",
       "      <th></th>\n",
       "      <th></th>\n",
       "    </tr>\n",
       "  </thead>\n",
       "  <tbody>\n",
       "    <tr>\n",
       "      <th>building</th>\n",
       "      <td>127956</td>\n",
       "      <td>94.34</td>\n",
       "    </tr>\n",
       "    <tr>\n",
       "      <th>finished_stage_1</th>\n",
       "      <td>5817</td>\n",
       "      <td>4.29</td>\n",
       "    </tr>\n",
       "    <tr>\n",
       "      <th>project</th>\n",
       "      <td>1866</td>\n",
       "      <td>1.38</td>\n",
       "    </tr>\n",
       "  </tbody>\n",
       "</table>\n",
       "</div>"
      ],
      "text/plain": [
       "                   count      %\n",
       "event                          \n",
       "building          127956  94.34\n",
       "finished_stage_1    5817   4.29\n",
       "project             1866   1.38"
      ]
     },
     "execution_count": 35,
     "metadata": {},
     "output_type": "execute_result"
    }
   ],
   "source": [
    "# рассчитаем доли событий:\n",
    "events = actions.pivot_table(index='event', values='event_datetime', aggfunc = {'count'})\n",
    "events['%'] = round(events['count'] / events['count'].sum(),4) * 100\n",
    "events"
   ]
  },
  {
   "cell_type": "markdown",
   "metadata": {},
   "source": [
    "Видим, что 94% всех событий представляют собой строительство. Посмотрим, какие объекты строят чаще всего:"
   ]
  },
  {
   "cell_type": "code",
   "execution_count": 36,
   "metadata": {},
   "outputs": [
    {
     "data": {
      "image/png": "[encoded data removed]",
      "text/plain": [
       "<Figure size 504x504 with 1 Axes>"
      ]
     },
     "metadata": {
      "needs_background": "light"
     },
     "output_type": "display_data"
    }
   ],
   "source": [
    "# посмотрим, какие здания строят чаще:\n",
    "df = actions.query('building_type != \"not_building\"')\n",
    "df['building_type'].value_counts().plot(kind='bar', figsize=(7,7), grid=True, rot = 0)\n",
    "plt.title('РАСПРЕДЕЛЕНИЕ СТРОЙКИ ПО ТИПУ ЗДАНИЙ')\n",
    "plt.xlabel('Тип здания')\n",
    "plt.ylabel('Количество действий')\n",
    "plt.show()"
   ]
  },
  {
   "cell_type": "markdown",
   "metadata": {},
   "source": [
    "С небольшим отрывом от сборочных цехов **лидируют космопорты**. Научные центры строят редко."
   ]
  },
  {
   "cell_type": "markdown",
   "metadata": {},
   "source": [
    "**ВЫВОД:**\n",
    "\n",
    "Выяснили, что наша когорта для исследования состоит из **13 576** пользователей. Первый уровень прошли  тем или иным способом всего **5 817** пользователей (т.е. 43% от всех пользователей), из которых:\n",
    "- **3 951** пользователей предпочли сражение (это составляет 68% от всех прошедших первый уровень);\n",
    "- **1 866** пользователей предпочли исследование (это составляет 32% от всех прошедших первый уровень).\n",
    "Это неудачно с точки зрения монетизации, т.к. показ рекламы на экране происходит именно с выбором типа объекта для постройки, а а нам желательно показать рекламу как можно большему количеству пользователей и еще при этом чтобы пользователи успешно завершили первый уровень. Как вариант - **показывать рекламу также и при выборе оружия**, к примеру, чтобы воители тоже видели рекламный баннер. \n",
    "\n",
    "Отметили уверенный рост количества пользователей в течение первой недели - это, вероятно, связано с активной рекламой именно в данный период. Однако после того, как привлечение из рекламных источниов прекратилось, начиная с 11 мая количество пользователей неуклонно снижается и к концу концу рассматриваемого периода доходит очень мало игроков.<br>Полагаем, что кроме рекламы на количество пользователей также могло повлиять наличие как раз в этот период майских праздников (рост игр в период с 4-10 мая и падение начиная с 11 мая).\n",
    "\n",
    "Любопытно, что из всех пользователей, прошедших первый уровень, в 2 раза больше тех, кто выбрал режим сражения вместо реализации проекта. Этому, вероятно, способствует частично и то, что на завершение первого уровня у тех, кто предпочел сражение, уходит в среднем на 2 дня меньше, чем у тех, кто выбрал исследования (воители проходят первый уровень в среднем за **11** дней, а исследователи - за **13** дней). В целом, большинство пользователей проходит обычно первый уровень в течение 2х недель.\n",
    "\n",
    "Выяснили, что в среднем пользователи в первом уровне игры совершают от 10 до 13 действий.\n",
    "\n",
    "Видим, что 94% всех событий представляют собой строительство. С точки зения монетизации рекламы, это супер выгодно, т.к. в приложении происходит показ рекламы на экране именно с выбором типа объекта для постройки. Строят в основном космопорты и сборочные цеха, а вот научные центры строят достаточно редко."
   ]
  },
  {
   "cell_type": "markdown",
   "metadata": {},
   "source": [
    "### ДАННЫЕ О РАСХОДАХ НА РЕКЛАМУ"
   ]
  },
  {
   "cell_type": "markdown",
   "metadata": {},
   "source": [
    "Изучим источники, из которых приходят пользователи в игру."
   ]
  },
  {
   "cell_type": "markdown",
   "metadata": {},
   "source": [
    "#### Количество пользователей по источникам"
   ]
  },
  {
   "cell_type": "code",
   "execution_count": 37,
   "metadata": {},
   "outputs": [
    {
     "data": {
      "image/png": "[encoded data removed]",
      "text/plain": [
       "<Figure size 720x720 with 1 Axes>"
      ]
     },
     "metadata": {},
     "output_type": "display_data"
    }
   ],
   "source": [
    "# построим диаграмму количества привлеченных пользователей по источникам:\n",
    "plt.figure(figsize=(10,10))\n",
    "plt.pie(\n",
    "    x=source.groupby('source').count()['user_id'],\n",
    "    labels=source.groupby('source').count().index,\n",
    "    autopct=lambda p: '{:.1f}%  ({:.0f})'.format(p,(p/100)*(source['user_id'].count()))\n",
    ")\n",
    "plt.title('РАСПРЕДЕЛЕНИЕ ПОЛЬЗОВАТЕЛЕЙ ПО ИСТОЧНИКАМ')\n",
    "plt.show()"
   ]
  },
  {
   "cell_type": "markdown",
   "metadata": {},
   "source": [
    "Видим, что всего в проекте использовалось 4 источника привлечения пользователей:\n",
    "- yandex_direct - 35%;\n",
    "- instagram_new_adverts - 25%;\n",
    "- facebook_ads - 20%;\n",
    "- youtube_channel_reklama - 20%.\n",
    "\n",
    "Больше всего пользователей привлек Яндекс, затем идёт Инстаграмм. Меньше всего привлекли Фейсбук и Ютуб, у которых примерно одинаковое количество пользователей."
   ]
  },
  {
   "cell_type": "markdown",
   "metadata": {},
   "source": [
    "#### Затраты по источникам"
   ]
  },
  {
   "cell_type": "code",
   "execution_count": 38,
   "metadata": {},
   "outputs": [
    {
     "data": {
      "text/plain": [
       "7603.576986788023"
      ]
     },
     "execution_count": 38,
     "metadata": {},
     "output_type": "execute_result"
    }
   ],
   "source": [
    "# рассчитаем общие затраты на рекламу:\n",
    "costs['cost'].sum()"
   ]
  },
  {
   "cell_type": "markdown",
   "metadata": {},
   "source": [
    "Общие затраты на рекламы за весь период составили 7 604 у.е. Посмотрим, как эти расходы распределились между 4мя источниками.  "
   ]
  },
  {
   "cell_type": "code",
   "execution_count": 39,
   "metadata": {},
   "outputs": [
    {
     "data": {
      "image/png": "[encoded data removed]",
      "text/plain": [
       "<Figure size 720x720 with 1 Axes>"
      ]
     },
     "metadata": {},
     "output_type": "display_data"
    }
   ],
   "source": [
    "# построим диаграмму общих затрат на рекламу:\n",
    "plt.figure(figsize=(10,10))\n",
    "plt.pie(\n",
    "    x=costs.groupby('source').sum()['cost'],\n",
    "    labels=costs.groupby('source').sum().index,\n",
    "    autopct=lambda p: '{:.1f}%  ({:.0f})'.format(p,(p/100)*(costs['cost'].sum()))\n",
    "    \n",
    ")\n",
    "plt.title('РАСПРЕДЕЛЕНИЕ ЗАТРАТ НА РЕКЛАМУ ПО ИСТОЧНИКАМ', fontsize=(15))\n",
    "plt.show()"
   ]
  },
  {
   "cell_type": "markdown",
   "metadata": {},
   "source": [
    "Затраты на рекламу распределились следующим образом по источникам привлечения пользователей:\n",
    "- yandex_direct - 29%;\n",
    "- instagram_new_adverts - 28%;\n",
    "- facebook_ads - 28%;\n",
    "- youtube_channel_reklama - 14%.\n",
    "\n",
    "Больше всего потратили денег на рекламу в Яндексе, Инстаграмм и Фейсбук, причем это примерно одинаковая сумма. А вот на рекламу в Ютуб потратили сумму в 2 раза меньше. Теперь проанализируем эффективность вложений в рекламу на 1 пользователя."
   ]
  },
  {
   "cell_type": "code",
   "execution_count": 40,
   "metadata": {},
   "outputs": [
    {
     "data": {
      "text/html": [
       "<div>\n",
       "<style scoped>\n",
       "    .dataframe tbody tr th:only-of-type {\n",
       "        vertical-align: middle;\n",
       "    }\n",
       "\n",
       "    .dataframe tbody tr th {\n",
       "        vertical-align: top;\n",
       "    }\n",
       "\n",
       "    .dataframe thead th {\n",
       "        text-align: right;\n",
       "    }\n",
       "</style>\n",
       "<table border=\"1\" class=\"dataframe\">\n",
       "  <thead>\n",
       "    <tr style=\"text-align: right;\">\n",
       "      <th></th>\n",
       "      <th>source</th>\n",
       "      <th>cost</th>\n",
       "      <th>users</th>\n",
       "      <th>CAC</th>\n",
       "    </tr>\n",
       "  </thead>\n",
       "  <tbody>\n",
       "    <tr>\n",
       "      <th>0</th>\n",
       "      <td>youtube_channel_reklama</td>\n",
       "      <td>1068.12</td>\n",
       "      <td>2686</td>\n",
       "      <td>0.40</td>\n",
       "    </tr>\n",
       "    <tr>\n",
       "      <th>1</th>\n",
       "      <td>yandex_direct</td>\n",
       "      <td>2233.11</td>\n",
       "      <td>4817</td>\n",
       "      <td>0.46</td>\n",
       "    </tr>\n",
       "    <tr>\n",
       "      <th>2</th>\n",
       "      <td>instagram_new_adverts</td>\n",
       "      <td>2161.44</td>\n",
       "      <td>3347</td>\n",
       "      <td>0.65</td>\n",
       "    </tr>\n",
       "    <tr>\n",
       "      <th>3</th>\n",
       "      <td>facebook_ads</td>\n",
       "      <td>2140.90</td>\n",
       "      <td>2726</td>\n",
       "      <td>0.79</td>\n",
       "    </tr>\n",
       "  </tbody>\n",
       "</table>\n",
       "</div>"
      ],
      "text/plain": [
       "                    source     cost  users   CAC\n",
       "0  youtube_channel_reklama  1068.12   2686  0.40\n",
       "1            yandex_direct  2233.11   4817  0.46\n",
       "2    instagram_new_adverts  2161.44   3347  0.65\n",
       "3             facebook_ads  2140.90   2726  0.79"
      ]
     },
     "execution_count": 40,
     "metadata": {},
     "output_type": "execute_result"
    }
   ],
   "source": [
    "# посчитаем затраты на 1 пользователя по источникам:\n",
    "CAC = round(costs.groupby('source').sum(),2)\n",
    "CAC['users'] = source.groupby('source').count()['user_id']\n",
    "CAC['CAC'] = round(CAC['cost'] / CAC['users'],2)\n",
    "CAC = CAC.sort_values(by=['CAC']).reset_index()\n",
    "CAC"
   ]
  },
  {
   "cell_type": "code",
   "execution_count": 41,
   "metadata": {},
   "outputs": [
    {
     "data": {
      "text/plain": [
       "0.56"
      ]
     },
     "execution_count": 41,
     "metadata": {},
     "output_type": "execute_result"
    }
   ],
   "source": [
    "# посчитаем общие средние затраты на 1 пользователя:\n",
    "round(costs['cost'].sum() / source['user_id'].count(),2)"
   ]
  },
  {
   "cell_type": "markdown",
   "metadata": {},
   "source": [
    "В целом на привлечение одного пользователя компания потратила **0,56 у.е.** Мы выяснили, из чего складывается данная цифра:\n",
    "- Фейсбук - самый дорогой источник (0,79 у.е. на человека). Несмотря на это Фейсбук наравне с Инстаграммом и Яндексом лидер по затратам на рекламу.\n",
    "- Инстраграмм - чуть подешевле, но все равно дорого (0,65 у.е. на человека).\n",
    "- Яндекс - относительно недорогой источник (0,46 у.е. на человека).\n",
    "- Ютуб - самый дешевый источник привлечения (0,4 у.е. на человека, т.е. в 2 раза дешевле Фейсбука). Однако на него было потрачено в 2 меньше средств, чем на все прочие источники. Вероятно, это произошло потому что либо неверно сработала служба маркетинга, либо обхват нужной аудитории в Ютубе недостаточен и ребуется больше вложений в другие соц.сети."
   ]
  },
  {
   "cell_type": "markdown",
   "metadata": {},
   "source": [
    "**Вывод:**\n",
    "\n",
    "Мы помним, что в игру было привлечено всего 13 576 пользователей. Больше всего пользователей привлек Яндекс (35%), затем идёт Инстаграмм (25%). Меньше всего привлекли Фейсбук и Ютуб, у которых примерно одинаковое количество пользователей (по 20%).\n",
    "\n",
    "\n",
    "Общие затраты на рекламы за весь период составили **7 604 у.е.** и распределились следующим образом: больше всего потратили денег на рекламу в Яндексе, Инстаграмм и Фейсбук, причем это примерно одинаковая сумма (по 28-29%). А вот на рекламу в Ютуб потратили сумму в 2 раза меньше (всего 14%). \n",
    "\n",
    "Таким образом, в целом на привлечение одного пользователя компания потратила **0,56 у.е.** Мы выяснили, из чего складывается данная цифра:\n",
    "\n",
    "- Фейсбук - самый дорогой источник (0,79 у.е. на человека). Несмотря на это Фейсбук наравне с Инстаграммом и Яндексом лидер по затратам на рекламу.\n",
    "- Инстраграмм - чуть подешевле, но все равно дорого (0,65 у.е. на человека).\n",
    "- Яндекс - относительно недорогой источник (0,46 у.е. на человека).\n",
    "- Ютуб - самый дешевый источник привлечения (0,4 у.е. на человека, т.е. в 2 раза дешевле Фейсбука). Однако на него было потрачено в 2 меньше средств, чем на все прочие источники. Вероятно, это произошло потому что либо неверно сработала служба маркетинга, либо обхват нужной аудитории в Ютубе недостаточен и ребуется больше вложений в другие соц.сети."
   ]
  },
  {
   "cell_type": "markdown",
   "metadata": {},
   "source": [
    "Мы изучили данные о поведении пользователей в игре, а также информацию о стоимости привлечения пользователей в зависимости от источника привлечения. Теперь попытаемся проанализировать влияние источников привлечения пользователей с точки зрения монетизации."
   ]
  },
  {
   "cell_type": "markdown",
   "metadata": {},
   "source": [
    "### АНАЛИЗ ВЛИЯНИЯ ИСТОЧНИКА ПЕРЕХОДА НА ПОВЕДЕНИЕ ПОЛЬЗОВАТЕЛЕЙ"
   ]
  },
  {
   "cell_type": "markdown",
   "metadata": {},
   "source": [
    "#### Сравнение источников по доле, прошедших уровень"
   ]
  },
  {
   "cell_type": "markdown",
   "metadata": {},
   "source": [
    "Сравненим источники по доли прохождения первого уровня."
   ]
  },
  {
   "cell_type": "code",
   "execution_count": 42,
   "metadata": {},
   "outputs": [
    {
     "data": {
      "text/plain": [
       "source\n",
       "facebook_ads               1150\n",
       "instagram_new_adverts      1466\n",
       "yandex_direct              2042\n",
       "youtube_channel_reklama    1159\n",
       "Name: user_id, dtype: int64"
      ]
     },
     "execution_count": 42,
     "metadata": {},
     "output_type": "execute_result"
    }
   ],
   "source": [
    "# рассчитаем количество игроков, завершивших первый уровень по источникам:\n",
    "finished = actions.query('event == \"finished_stage_1\"').groupby('source').count()['user_id']\n",
    "finished"
   ]
  },
  {
   "cell_type": "code",
   "execution_count": 43,
   "metadata": {},
   "outputs": [
    {
     "data": {
      "text/plain": [
       "source\n",
       "facebook_ads               2726\n",
       "instagram_new_adverts      3347\n",
       "yandex_direct              4817\n",
       "youtube_channel_reklama    2686\n",
       "Name: user_id, dtype: int64"
      ]
     },
     "execution_count": 43,
     "metadata": {},
     "output_type": "execute_result"
    }
   ],
   "source": [
    "# рассчитаем количество привлеченных игроков по источникам:\n",
    "players =source.groupby('source').count()['user_id']\n",
    "players"
   ]
  },
  {
   "cell_type": "code",
   "execution_count": 44,
   "metadata": {},
   "outputs": [
    {
     "data": {
      "text/plain": [
       "source\n",
       "facebook_ads               42.2\n",
       "yandex_direct              42.4\n",
       "youtube_channel_reklama    43.1\n",
       "instagram_new_adverts      43.8\n",
       "Name: user_id, dtype: float64"
      ]
     },
     "execution_count": 44,
     "metadata": {},
     "output_type": "execute_result"
    }
   ],
   "source": [
    "# рассчитаем долю прошедших первый уровень по источникам:\n",
    "round(finished / players * 100, 1).sort_values()"
   ]
  },
  {
   "cell_type": "markdown",
   "metadata": {},
   "source": [
    "С точки зрения монетизации выгоднее привлечь пользователя, который успешно продет первый уровень игры и останется играть дальше, чем того, который уйдет, не окончив даже первый уровень.\n",
    "\n",
    "В целом существенной разницы в доле прошедших первый уровень по источникам не наблюдается. Видим, что среди пользователей, пришедших из Инстаграмма, доля пользователей закончивших первый уровень максимальная - 43,8%. Меньше всего проходят первый уровень пользователи, пришедшие из Фейсбука - 42,2%. Однако разница между долями незначительна."
   ]
  },
  {
   "cell_type": "markdown",
   "metadata": {},
   "source": [
    "#### Сравнение источников по количеству показов рекламы"
   ]
  },
  {
   "cell_type": "code",
   "execution_count": 45,
   "metadata": {
    "scrolled": true
   },
   "outputs": [
    {
     "data": {
      "text/plain": [
       "source\n",
       "facebook_ads               26131\n",
       "instagram_new_adverts      31815\n",
       "yandex_direct              45032\n",
       "youtube_channel_reklama    24978\n",
       "Name: event, dtype: int64"
      ]
     },
     "execution_count": 45,
     "metadata": {},
     "output_type": "execute_result"
    }
   ],
   "source": [
    "# посчитаем, сколько раз в общем показывалась реклама для разных источников:\n",
    "banners = actions.query('event == \"building\"').groupby('source')['event'].count()\n",
    "banners "
   ]
  },
  {
   "cell_type": "code",
   "execution_count": 46,
   "metadata": {},
   "outputs": [
    {
     "data": {
      "text/plain": [
       "source\n",
       "youtube_channel_reklama    9.30\n",
       "yandex_direct              9.35\n",
       "instagram_new_adverts      9.51\n",
       "facebook_ads               9.59\n",
       "dtype: float64"
      ]
     },
     "execution_count": 46,
     "metadata": {},
     "output_type": "execute_result"
    }
   ],
   "source": [
    "# посчитаем, сколько раз один пользователь увидел рекламу:\n",
    "round(banners / players, 2).sort_values()"
   ]
  },
  {
   "cell_type": "markdown",
   "metadata": {},
   "source": [
    "Мы знаем, что в приложении происходит показ рекламы на экране с выбором типа объекта для постройки. Поэтому можем предположить, что чем больше доля количества исследователей (по отношению к количеству воителей), тем выгоднее с точки зрения монетизации.\n",
    "\n",
    "Мы увидели, что среднее количество показов рекламы одному пользователю также существенно не отличается в зависимости от источника, от которого он пришел. Чаще всего реклама показывалась пользователям, пришедшим от Фейсбука. Чуть реже тем, кто пришел от Ютуба. Эти цифры косвенно характеризуют соотношение игроков, т.е. их распределение на воителей и исследователей в зависимости от источника. Получается, что среди пользователей, пришедших от Ютуба чуть больше доля воителей, чем среди тех, кто пришел в игру от Фейсбука."
   ]
  },
  {
   "cell_type": "markdown",
   "metadata": {},
   "source": [
    "**ВЫВОД:**\n",
    "\n",
    "С точки зрения монетизации выгоднее привлечь пользователя, который успешно продет первый уровень игры и останется играть дальше, чем того, который уйдет, не окончив даже первый уровень.\n",
    "\n",
    "Также мы знаем, что в приложении происходит показ рекламы на экране с выбором типа объекта для постройки. Поэтому можем предположить, что чем больше доля количества исследователей (по отношению к количеству воителей), тем выгоднее с точки зрения монетизации.\n",
    "\n",
    "Расчеты показали, что существенной разницы ни в доле завершивших первый уровень игры, ни в соотношении исследователь/воитель не наблюдается. Таким образом можно утверждать, что источник привлечения пользователей в игру не влияет на поведение игроков. Следовательно, целесообразнее при планировании маркетинговых затрат просто отталкиваться от данных по затратам на привлечение одного пользователя."
   ]
  },
  {
   "cell_type": "markdown",
   "metadata": {},
   "source": [
    "## Проверка гипотез"
   ]
  },
  {
   "cell_type": "markdown",
   "metadata": {},
   "source": [
    "### Проверка первой гипотезы"
   ]
  },
  {
   "cell_type": "markdown",
   "metadata": {},
   "source": [
    "Нам необходимо проверить следующую гипотезу: время завершения уровня различается в зависимости способа прохождения:\n",
    "- через реализацию проекта,\n",
    "- через победу над первым игроком."
   ]
  },
  {
   "cell_type": "markdown",
   "metadata": {},
   "source": [
    "Формулируем две гипотезы:\n",
    "- **H0**: Среднее время завершения завершения уровня через реализацию проекта РАВНО среднему времени завершения уровня через победу над первым игроком;\n",
    "- **H1**: Среднее время завершения уровня через реализацию проекта НЕ РАВНО среднему времени завершения уровня через победу над первым игроком."
   ]
  },
  {
   "cell_type": "code",
   "execution_count": 47,
   "metadata": {},
   "outputs": [],
   "source": [
    "# сформируем 2 среза пользователей для исследования гипотезы:\n",
    "project_data = actions.loc[actions['event']=='project']\n",
    "projectors = project_data['time']\n",
    "warriors_data  = actions.loc[(actions['event'] == 'finished_stage_1')&(actions['event'] != 'project')]\n",
    "warriors = warriors_data['time']"
   ]
  },
  {
   "cell_type": "code",
   "execution_count": 48,
   "metadata": {},
   "outputs": [
    {
     "name": "stdout",
     "output_type": "stream",
     "text": [
      "p-значение:  2.381192712538441e-58\n",
      "Отвергаем нулевую гипотезу\n"
     ]
    }
   ],
   "source": [
    "# зададим критический уровень статистической значимости (если p-value меньше, то гипотезу отвергнем):\n",
    "alpha = 0.05 \n",
    "results = st.ttest_ind(warriors, projectors, equal_var = False)\n",
    "\n",
    "print('p-значение: ', results.pvalue)\n",
    "    \n",
    "if (results.pvalue < alpha):\n",
    "    print(\"Отвергаем нулевую гипотезу\")\n",
    "else:\n",
    "    print(\"Не получилось отвергнуть нулевую гипотезу\") "
   ]
  },
  {
   "cell_type": "markdown",
   "metadata": {},
   "source": [
    "**Отвергаем нулевую гипотезу. Это говорит о том, что время завершения уровня исследователя и воителя РАЗНЫЕ. Действительно, ранее мы выяснили, что игроки, заканчивающие уровень через исследование, тратят в среднем на 2 дня больше времени, чем воители.**"
   ]
  },
  {
   "cell_type": "markdown",
   "metadata": {},
   "source": [
    "### Проверка второй гипотезы"
   ]
  },
  {
   "cell_type": "markdown",
   "metadata": {},
   "source": [
    "Формулируем две гипотезы:\n",
    "- **H0**: Количество действий по строительству от Инстаграмма РАВНЫ количеству действий по строительству пользователей от Фейсбука;\n",
    "- **H1**: Количество действий по строительству пользователей от Инстаграмма НЕ РАВНЫ количеству действий по строительству пользователей от Фейсбука."
   ]
  },
  {
   "cell_type": "code",
   "execution_count": 49,
   "metadata": {},
   "outputs": [],
   "source": [
    "#делаем срезы данных\n",
    "actions['number'] = np.where(actions.event == 'building', 0, 1)\n",
    "Insta_data = actions.loc[actions['source']=='instagram_new_adverts']\n",
    "Insta = Insta_data['number']\n",
    "FB_data  = actions.loc[actions['source'] == 'facebook_ads']\n",
    "FB = FB_data['number']"
   ]
  },
  {
   "cell_type": "code",
   "execution_count": 50,
   "metadata": {},
   "outputs": [
    {
     "name": "stdout",
     "output_type": "stream",
     "text": [
      "p-значение:  0.32561686566305836\n",
      "Не получилось отвергнуть нулевую гипотезу\n"
     ]
    }
   ],
   "source": [
    "# зададим критический уровень статистической значимости (если p-value меньше, то гипотезу отвергнем):\n",
    "alpha = 0.05 \n",
    "results = st.ttest_ind(Insta, FB, equal_var = False)\n",
    "\n",
    "print('p-значение: ', results.pvalue)\n",
    "    \n",
    "if (results.pvalue < alpha):\n",
    "    print(\"Отвергаем нулевую гипотезу\")\n",
    "else:\n",
    "    print(\"Не получилось отвергнуть нулевую гипотезу\") "
   ]
  },
  {
   "cell_type": "markdown",
   "metadata": {},
   "source": [
    "**Не получилось отвергнуть нулевую гипотезу. Значит, количество действий пользователей по строительству от Инстаграмма примерно равны количеству действий по строительству пользователей от Фейсбука. Действительно, ранее мы увидели, что среднее количество показов рекламы одному пользователю существенно не отличается в зависимости от источника, от которого он пришел.**"
   ]
  },
  {
   "cell_type": "markdown",
   "metadata": {},
   "source": [
    "## ИТОГОВЫЙ ВЫВОД"
   ]
  },
  {
   "cell_type": "markdown",
   "metadata": {},
   "source": [
    "1. Мы скачали данные о событиях в игре и рекламных активностях и подготовили данные для исследовательского анализа (обработали пропуски и дубликаты, привели данные у нужному типу).\n",
    "\n",
    "\n",
    "2. **ДАННЫЕ О ПОВЕЕНИИ ПОЛЬЗОВАТЕЛЕЙ В ИГРЕ.**\n",
    "\n",
    "    Выяснили, что наша когорта для исследования состоит из **13 576** пользователей. Первый уровень прошли тем или иным способом всего **5 817** пользователей (т.е. 43% от всех пользователей), из которых:\n",
    "- 3 951 пользователей предпочли сражение (это составляет 68% от всех прошедших первый уровень);\n",
    "- 1 866 пользователей предпочли исследование (это составляет 32% от всех прошедших первый уровень). \n",
    "\n",
    "    Это не очень удачно с точки зрения монетизации, т.к. показ рекламы на экране происходит именно с выбором типа объекта для постройки, а а нам желательно показать рекламу как можно большему количеству пользователей и еще при этом чтобы пользователи успешно завершили первый уровень. Как вариант - показывать рекламу также и при выборе оружия, к примеру, чтобы воители тоже видели рекламный баннер.\n",
    "\n",
    "    Отметили уверенный рост количества пользователей в течение первой недели - это, вероятно, связано с активной рекламой именно в данный период. Однако после того, как привлечение из рекламных источниов прекратилось, начиная с 11 мая количество пользователей неуклонно снижается и к концу концу рассматриваемого периода доходит очень мало игроков.\n",
    "Полагаем, что кроме рекламы на количество пользователей также могло повлиять наличие как раз в этот период майских праздников (рост игр в период с 4-10 мая и падение начиная с 11 мая).\n",
    "\n",
    "    Любопытно, что из всех пользователей, прошедших первый уровень, в 2 раза больше тех, кто выбрал режим сражения вместо реализации проекта. Этому, вероятно, способствует частично и то, что на завершение первого уровня у тех, кто предпочел сражение, уходит в среднем на 2 дня меньше, чем у тех, кто выбрал исследования (**воители проходят первый уровень в среднем за 11 дней, а исследователи - за 13 дней**). В целом, большинство пользователей проходит обычно первый уровень в течение 2х недель.<br>\n",
    "\n",
    "    Выяснили, что в среднем пользователи в первом уровне игры совершают от 10 до 13 действий.\n",
    "\n",
    "    Видим, что **94%** всех событий представляют собой строительство. С точки зения монетизации рекламы, это супер выгодно, т.к. в приложении происходит показ рекламы на экране именно с выбором типа объекта для постройки. Строят в основном космопорты и сборочные цеха, а вот научные центры строят достаточно редко.\n",
    "    \n",
    "    \n",
    "3. **АНАЛИЗ РАСХОДОВ НА РЕКЛАМУ.**\n",
    "\n",
    "    Мы помним, что в игру было привлечено всего 13 576 пользователей. Больше всего пользователей привлек Яндекс (**35%**), затем идёт Инстаграмм (**25%**). Меньше всего привлекли Фейсбук и Ютуб, у которых примерно одинаковое количество пользователей (по 20%).\n",
    "\n",
    "    Общие затраты на рекламы за весь период составили **7 604 у.е.** и распределились следующим образом: больше всего потратили денег на рекламу в Яндексе, Инстаграмм и Фейсбук, причем это примерно одинаковая сумма (по 28-29%). А вот на рекламу в Ютуб потратили сумму в 2 раза меньше (всего 14%).\n",
    "\n",
    "    Таким образом, в целом на привлечение одного пользователя компания потратила **0,56 у.е.** Мы выяснили, из чего складывается данная цифра:\n",
    "    - Фейсбук - самый дорогой источник (0,79 у.е. на человека). Несмотря на это Фейсбук наравне с Инстаграммом и Яндексом лидер по затратам на рекламу.\n",
    "    - Инстраграмм - чуть подешевле, но все равно дорого (0,65 у.е. на человека).\n",
    "    - Яндекс - относительно недорогой источник (0,46 у.е. на человека).\n",
    "    - Ютуб - самый дешевый источник привлечения (0,4 у.е. на человека, т.е. в 2 раза дешевле Фейсбука). Однако на него было потрачено в 2 меньше средств, чем на все прочие источники. Вероятно, это произошло потому что либо неверно сработала служба маркетинга, либо обхват нужной аудитории в Ютубе недостаточен и ребуется больше вложений в другие соц.сети.\n",
    "    \n",
    "    Мы изучили данные о поведении пользователей в игре, а также информацию о стоимости привлечения пользователей в зависимости от источника привлечения. Теперь попытаемся проанализировать влияние источников привлечения пользователей с точки зрения монетизации.\n",
    "    \n",
    "    \n",
    "4. **АНАЛИЗ ВЛИЯНИЯ ИСТОЧНИКА ПЕРЕХОДА НА ПОВЕДЕНИЕ ПОЛЬЗОВАТЕЛЕЙ.**\n",
    "    \n",
    "    С точки зрения монетизации выгоднее привлечь пользователя, который успешно продет первый уровень игры и останется играть дальше, чем того, который уйдет, не окончив даже первый уровень.\n",
    "\n",
    "    Также мы знаем, что в приложении происходит показ рекламы на экране с выбором типа объекта для постройки. Поэтому можем предположить, что чем больше доля количества исследователей (по отношению к количеству воителей), тем выгоднее с точки зрения монетизации.\n",
    "\n",
    "    Расчеты показали, что существенной разницы ни в доле завершивших первый уровень игры, ни в соотношении исследователь/воитель не наблюдается. Таким образом можно утверждать, что **источник привлечения пользователей в игру не влияет на поведение игроков.** Следовательно, целесообразнее при планировании маркетинговых затрат просто отталкиваться от данных по затратам на привлечение одного пользователя (Ютуб показывает самую высокую эффективность - стоит дешево, а аудиторию по количеству привлекает не хуже прочих источников).\n",
    "    \n",
    "    \n",
    "5. **Было проверено две гипотезы:**\n",
    "\n",
    "- Гипотеза о том, что *время завершения уровня не различается в зависимости способа прохождения игры* **была отвергнута** - можно с уверенностью утверждать, что время завершения уровня различается в зависимости от способа прохождения уровня. Действительно, ранее мы выяснили, что игроки, заканчивающие уровень через исследование, тратят в среднем на 2 дня больше времени, чем воители.\n",
    "\n",
    "- Гипотезу о том, что *количество действий по строительству пользователей, привлеченных Инстаграммом, РАВНЫ количеству действий по строительству пользователей от Фейсбука* **не получилось отвергнуть.** Действительно, ранее мы увидели, что среднее количество показов рекламы одному пользователю существенно не отличается в зависимости от источника, от которого он пришел.\n",
    "\n",
    "\n",
    "6. **РАНЖИРОВАНИЕ ИСТОЧНИКОВ ПРИВЛЕЧЕНИЯ ПОЛЬЗОВАТЕЛЕЙ.**\n",
    "\n",
    "    Ранжирование по цене привлечения - РАЗНИЦЫ СУЩЕСТВЕННЫЕ:\n",
    "    - Ютуб (0,4 у.е.);\n",
    "    - Яндекс (0,46 у.е.);\n",
    "    - Инстраграмм (0,65 у.е.);\n",
    "    - Фейсбук (0,79 у.е.).\n",
    "\n",
    "    Ранжирование по успешности прохождения пользователями первого уровня - СУЩЕСТВЕННЫХ РАЗНИЦ НЕТ:\n",
    "    - Инстраграмм (43,8%);\n",
    "    - Ютуб (43,1%);\n",
    "    - Инстраграмм (42,4%);\n",
    "    - Фейсбук (42,2%).\n",
    "\n",
    "    Ранжирование по среднему количеству показа рекламы - СУЩЕСТВЕННЫХ РАЗНИЦ НЕТ:\n",
    "    - Фейсбук (9,59);\n",
    "    - Инстраграмм (9,51);\n",
    "    - Яндекс (9,35);\n",
    "    - Ютуб (9,3).\n",
    "\n",
    "\n",
    "Итоговый вывод и рекомендации:\n",
    "- Так как в поведении пользователей в игре существенных разниц обнаружено не было, нужно перераспределить маркетинговый бюджет в сторону более рентабельных источников (Ютуб и Яндекс);\n",
    "- Большинство воителей тратят на прохождение первого уровня меньше времени, поэтому данная стратегия очень популярна. Целесообразно проверить игровой баланс в области сражения/исследования. Нужно каким-то образом стимулировать игроков к прохождению игры через исследовательский проект, именно это позволит максимально монетизировать приложение;\n",
    "- Мы выяснили, что в среднем пользователь строит всего одно здание в день. С точки зрения монетизации необходимо увеличивать количество показов рекламы (например, можно показывать рекламу при выборе сражения, или закрепить перманентный рекламный баннер, или использовать для рекламы экран перехода с уровня на уровень)."
   ]
  }
 ],
 "metadata": {
  "ExecuteTimeLog": [
   {
    "duration": 71,
    "start_time": "2022-09-08T08:29:42.116Z"
   },
   {
    "duration": 1444,
    "start_time": "2022-09-08T08:49:46.779Z"
   },
   {
    "duration": 4,
    "start_time": "2022-09-08T08:50:17.014Z"
   },
   {
    "duration": 3,
    "start_time": "2022-09-08T08:50:23.960Z"
   },
   {
    "duration": 664,
    "start_time": "2022-09-08T08:50:45.121Z"
   },
   {
    "duration": 14,
    "start_time": "2022-09-08T08:51:13.354Z"
   },
   {
    "duration": 10,
    "start_time": "2022-09-08T08:56:48.661Z"
   },
   {
    "duration": 8,
    "start_time": "2022-09-08T08:56:50.766Z"
   },
   {
    "duration": 33,
    "start_time": "2022-09-08T09:01:09.810Z"
   },
   {
    "duration": 39,
    "start_time": "2022-09-08T09:01:26.130Z"
   },
   {
    "duration": 9,
    "start_time": "2022-09-08T09:06:37.981Z"
   },
   {
    "duration": 46,
    "start_time": "2022-09-08T09:06:43.152Z"
   },
   {
    "duration": 141,
    "start_time": "2022-09-08T09:09:47.248Z"
   },
   {
    "duration": 102,
    "start_time": "2022-09-08T09:09:57.885Z"
   },
   {
    "duration": 24,
    "start_time": "2022-09-08T09:11:05.943Z"
   },
   {
    "duration": 15,
    "start_time": "2022-09-08T09:11:55.899Z"
   },
   {
    "duration": 21,
    "start_time": "2022-09-08T09:11:59.788Z"
   },
   {
    "duration": 14,
    "start_time": "2022-09-08T09:12:01.552Z"
   },
   {
    "duration": 3,
    "start_time": "2022-09-08T09:18:13.633Z"
   },
   {
    "duration": 50,
    "start_time": "2022-09-08T09:18:36.384Z"
   },
   {
    "duration": 34,
    "start_time": "2022-09-08T09:18:44.539Z"
   },
   {
    "duration": 103,
    "start_time": "2022-09-08T09:20:33.633Z"
   },
   {
    "duration": 78,
    "start_time": "2022-09-08T09:20:37.483Z"
   },
   {
    "duration": 29,
    "start_time": "2022-09-08T09:21:31.923Z"
   },
   {
    "duration": 67,
    "start_time": "2022-09-08T09:21:37.945Z"
   },
   {
    "duration": 46,
    "start_time": "2022-09-08T09:21:38.914Z"
   },
   {
    "duration": 45,
    "start_time": "2022-09-08T09:23:25.159Z"
   },
   {
    "duration": 41,
    "start_time": "2022-09-08T09:24:22.402Z"
   },
   {
    "duration": 39,
    "start_time": "2022-09-08T09:30:36.794Z"
   },
   {
    "duration": 31,
    "start_time": "2022-09-08T09:30:55.807Z"
   },
   {
    "duration": 15,
    "start_time": "2022-09-08T09:31:11.583Z"
   },
   {
    "duration": 18,
    "start_time": "2022-09-08T09:31:34.655Z"
   },
   {
    "duration": 28,
    "start_time": "2022-09-08T09:32:19.787Z"
   },
   {
    "duration": 10,
    "start_time": "2022-09-08T09:33:00.793Z"
   },
   {
    "duration": 25,
    "start_time": "2022-09-08T09:33:09.425Z"
   },
   {
    "duration": 23,
    "start_time": "2022-09-08T09:33:15.100Z"
   },
   {
    "duration": 15,
    "start_time": "2022-09-08T09:36:56.497Z"
   },
   {
    "duration": 19,
    "start_time": "2022-09-08T09:37:02.556Z"
   },
   {
    "duration": 35,
    "start_time": "2022-09-08T09:37:08.439Z"
   },
   {
    "duration": 16,
    "start_time": "2022-09-08T09:37:28.946Z"
   },
   {
    "duration": 30,
    "start_time": "2022-09-08T09:38:57.504Z"
   },
   {
    "duration": 40,
    "start_time": "2022-09-08T09:39:05.339Z"
   },
   {
    "duration": 30,
    "start_time": "2022-09-08T09:39:11.704Z"
   },
   {
    "duration": 31,
    "start_time": "2022-09-08T09:39:25.846Z"
   },
   {
    "duration": 31,
    "start_time": "2022-09-08T09:39:58.942Z"
   },
   {
    "duration": 1311,
    "start_time": "2022-09-08T09:40:09.397Z"
   },
   {
    "duration": 327,
    "start_time": "2022-09-08T09:40:10.710Z"
   },
   {
    "duration": 18,
    "start_time": "2022-09-08T09:40:11.039Z"
   },
   {
    "duration": 62,
    "start_time": "2022-09-08T09:40:11.059Z"
   },
   {
    "duration": 45,
    "start_time": "2022-09-08T09:40:11.124Z"
   },
   {
    "duration": 74,
    "start_time": "2022-09-08T09:40:11.171Z"
   },
   {
    "duration": 94,
    "start_time": "2022-09-08T09:40:11.246Z"
   },
   {
    "duration": 37,
    "start_time": "2022-09-08T09:40:11.342Z"
   },
   {
    "duration": 0,
    "start_time": "2022-09-08T09:40:11.382Z"
   },
   {
    "duration": 1,
    "start_time": "2022-09-08T09:40:11.383Z"
   },
   {
    "duration": 0,
    "start_time": "2022-09-08T09:40:11.385Z"
   },
   {
    "duration": 0,
    "start_time": "2022-09-08T09:40:11.387Z"
   },
   {
    "duration": 151,
    "start_time": "2022-09-08T09:40:27.548Z"
   },
   {
    "duration": 30,
    "start_time": "2022-09-08T09:40:39.427Z"
   },
   {
    "duration": 103,
    "start_time": "2022-09-08T09:40:52.459Z"
   },
   {
    "duration": 29,
    "start_time": "2022-09-08T09:40:59.163Z"
   },
   {
    "duration": 29,
    "start_time": "2022-09-08T09:41:02.458Z"
   },
   {
    "duration": 44,
    "start_time": "2022-09-08T09:41:20.207Z"
   },
   {
    "duration": 27,
    "start_time": "2022-09-08T09:41:30.067Z"
   },
   {
    "duration": 30,
    "start_time": "2022-09-08T09:41:43.932Z"
   },
   {
    "duration": 31,
    "start_time": "2022-09-08T09:41:51.775Z"
   },
   {
    "duration": 28,
    "start_time": "2022-09-08T09:41:59.959Z"
   },
   {
    "duration": 91,
    "start_time": "2022-09-08T09:42:28.907Z"
   },
   {
    "duration": 50,
    "start_time": "2022-09-08T09:42:53.487Z"
   },
   {
    "duration": 26,
    "start_time": "2022-09-08T09:43:13.880Z"
   },
   {
    "duration": 62,
    "start_time": "2022-09-08T09:43:16.049Z"
   },
   {
    "duration": 25,
    "start_time": "2022-09-08T09:43:19.181Z"
   },
   {
    "duration": 19,
    "start_time": "2022-09-08T09:44:18.426Z"
   },
   {
    "duration": 35,
    "start_time": "2022-09-08T09:44:44.020Z"
   },
   {
    "duration": 19,
    "start_time": "2022-09-08T09:44:52.960Z"
   },
   {
    "duration": 26,
    "start_time": "2022-09-08T09:46:17.672Z"
   },
   {
    "duration": 25,
    "start_time": "2022-09-08T09:46:40.081Z"
   },
   {
    "duration": 27,
    "start_time": "2022-09-08T09:46:44.719Z"
   },
   {
    "duration": 19,
    "start_time": "2022-09-08T09:47:02.206Z"
   },
   {
    "duration": 3,
    "start_time": "2022-09-08T09:47:09.536Z"
   },
   {
    "duration": 20,
    "start_time": "2022-09-08T09:47:19.908Z"
   },
   {
    "duration": 19,
    "start_time": "2022-09-08T09:47:20.639Z"
   },
   {
    "duration": 4,
    "start_time": "2022-09-08T09:47:21.255Z"
   },
   {
    "duration": 12,
    "start_time": "2022-09-08T09:47:44.869Z"
   },
   {
    "duration": 13,
    "start_time": "2022-09-08T09:49:16.060Z"
   },
   {
    "duration": 9,
    "start_time": "2022-09-08T09:51:39.146Z"
   },
   {
    "duration": 30,
    "start_time": "2022-09-08T09:51:46.623Z"
   },
   {
    "duration": 72,
    "start_time": "2022-09-08T09:53:49.453Z"
   },
   {
    "duration": 16,
    "start_time": "2022-09-08T09:55:27.789Z"
   },
   {
    "duration": 1153,
    "start_time": "2022-09-08T09:55:44.533Z"
   },
   {
    "duration": 271,
    "start_time": "2022-09-08T09:55:45.688Z"
   },
   {
    "duration": 14,
    "start_time": "2022-09-08T09:55:45.961Z"
   },
   {
    "duration": 34,
    "start_time": "2022-09-08T09:55:45.977Z"
   },
   {
    "duration": 35,
    "start_time": "2022-09-08T09:55:46.013Z"
   },
   {
    "duration": 70,
    "start_time": "2022-09-08T09:55:46.050Z"
   },
   {
    "duration": 66,
    "start_time": "2022-09-08T09:55:46.122Z"
   },
   {
    "duration": 16,
    "start_time": "2022-09-08T09:55:46.190Z"
   },
   {
    "duration": 15,
    "start_time": "2022-09-08T09:55:46.221Z"
   },
   {
    "duration": 11,
    "start_time": "2022-09-08T09:55:46.238Z"
   },
   {
    "duration": 12,
    "start_time": "2022-09-08T09:55:46.251Z"
   },
   {
    "duration": 10,
    "start_time": "2022-09-08T09:55:46.265Z"
   },
   {
    "duration": 10,
    "start_time": "2022-09-08T09:56:23.390Z"
   },
   {
    "duration": 13,
    "start_time": "2022-09-08T10:01:54.932Z"
   },
   {
    "duration": 3,
    "start_time": "2022-09-08T10:03:34.738Z"
   },
   {
    "duration": 4,
    "start_time": "2022-09-08T10:03:39.080Z"
   },
   {
    "duration": 4,
    "start_time": "2022-09-08T10:03:48.200Z"
   },
   {
    "duration": 14,
    "start_time": "2022-09-08T10:03:55.355Z"
   },
   {
    "duration": 15,
    "start_time": "2022-09-08T10:04:18.780Z"
   },
   {
    "duration": 75,
    "start_time": "2022-09-08T10:13:38.754Z"
   },
   {
    "duration": 10,
    "start_time": "2022-09-08T10:13:42.534Z"
   },
   {
    "duration": 15,
    "start_time": "2022-09-08T10:14:03.853Z"
   },
   {
    "duration": 1221,
    "start_time": "2022-09-08T10:14:18.209Z"
   },
   {
    "duration": 273,
    "start_time": "2022-09-08T10:14:19.432Z"
   },
   {
    "duration": 15,
    "start_time": "2022-09-08T10:14:19.706Z"
   },
   {
    "duration": 32,
    "start_time": "2022-09-08T10:14:19.724Z"
   },
   {
    "duration": 40,
    "start_time": "2022-09-08T10:14:19.758Z"
   },
   {
    "duration": 82,
    "start_time": "2022-09-08T10:14:19.800Z"
   },
   {
    "duration": 76,
    "start_time": "2022-09-08T10:14:19.883Z"
   },
   {
    "duration": 16,
    "start_time": "2022-09-08T10:14:19.961Z"
   },
   {
    "duration": 17,
    "start_time": "2022-09-08T10:14:19.979Z"
   },
   {
    "duration": 28,
    "start_time": "2022-09-08T10:14:19.999Z"
   },
   {
    "duration": 21,
    "start_time": "2022-09-08T10:14:20.029Z"
   },
   {
    "duration": 11,
    "start_time": "2022-09-08T10:14:20.052Z"
   },
   {
    "duration": 9,
    "start_time": "2022-09-08T10:14:20.065Z"
   },
   {
    "duration": 12,
    "start_time": "2022-09-08T10:14:20.076Z"
   },
   {
    "duration": 13,
    "start_time": "2022-09-08T10:16:52.008Z"
   },
   {
    "duration": 10,
    "start_time": "2022-09-08T10:18:59.201Z"
   },
   {
    "duration": 24,
    "start_time": "2022-09-08T10:19:09.785Z"
   },
   {
    "duration": 14,
    "start_time": "2022-09-08T10:23:33.726Z"
   },
   {
    "duration": 11,
    "start_time": "2022-09-08T10:23:42.948Z"
   },
   {
    "duration": 5,
    "start_time": "2022-09-08T10:25:11.658Z"
   },
   {
    "duration": 12,
    "start_time": "2022-09-08T10:25:15.819Z"
   },
   {
    "duration": 4,
    "start_time": "2022-09-08T10:25:23.547Z"
   },
   {
    "duration": 83,
    "start_time": "2022-09-08T10:25:39.007Z"
   },
   {
    "duration": 9,
    "start_time": "2022-09-08T10:25:43.207Z"
   },
   {
    "duration": 10,
    "start_time": "2022-09-08T10:25:56.511Z"
   },
   {
    "duration": 6,
    "start_time": "2022-09-08T10:26:56.025Z"
   },
   {
    "duration": 9,
    "start_time": "2022-09-08T10:27:18.930Z"
   },
   {
    "duration": 9,
    "start_time": "2022-09-08T10:56:57.344Z"
   },
   {
    "duration": 10,
    "start_time": "2022-09-08T10:57:06.835Z"
   },
   {
    "duration": 8,
    "start_time": "2022-09-08T10:57:10.766Z"
   },
   {
    "duration": 6,
    "start_time": "2022-09-08T10:57:43.669Z"
   },
   {
    "duration": 6,
    "start_time": "2022-09-08T10:57:50.170Z"
   },
   {
    "duration": 5,
    "start_time": "2022-09-08T11:02:20.063Z"
   },
   {
    "duration": 6,
    "start_time": "2022-09-08T11:02:22.305Z"
   },
   {
    "duration": 136,
    "start_time": "2022-09-08T11:09:52.551Z"
   },
   {
    "duration": 36,
    "start_time": "2022-09-08T11:09:56.570Z"
   },
   {
    "duration": 158,
    "start_time": "2022-09-08T11:10:02.799Z"
   },
   {
    "duration": 44,
    "start_time": "2022-09-08T11:10:15.150Z"
   },
   {
    "duration": 63,
    "start_time": "2022-09-08T11:10:46.417Z"
   },
   {
    "duration": 1352,
    "start_time": "2022-09-08T11:10:58.505Z"
   },
   {
    "duration": 311,
    "start_time": "2022-09-08T11:10:59.864Z"
   },
   {
    "duration": 14,
    "start_time": "2022-09-08T11:11:00.177Z"
   },
   {
    "duration": 51,
    "start_time": "2022-09-08T11:11:00.193Z"
   },
   {
    "duration": 63,
    "start_time": "2022-09-08T11:11:00.251Z"
   },
   {
    "duration": 98,
    "start_time": "2022-09-08T11:11:00.316Z"
   },
   {
    "duration": 100,
    "start_time": "2022-09-08T11:11:00.416Z"
   },
   {
    "duration": 27,
    "start_time": "2022-09-08T11:11:00.525Z"
   },
   {
    "duration": 24,
    "start_time": "2022-09-08T11:11:00.554Z"
   },
   {
    "duration": 23,
    "start_time": "2022-09-08T11:11:00.580Z"
   },
   {
    "duration": 57,
    "start_time": "2022-09-08T11:11:00.604Z"
   },
   {
    "duration": 10,
    "start_time": "2022-09-08T11:11:00.663Z"
   },
   {
    "duration": 20,
    "start_time": "2022-09-08T11:11:00.675Z"
   },
   {
    "duration": 7,
    "start_time": "2022-09-08T11:11:00.699Z"
   },
   {
    "duration": 42,
    "start_time": "2022-09-08T11:11:00.708Z"
   },
   {
    "duration": 12,
    "start_time": "2022-09-08T11:11:00.752Z"
   },
   {
    "duration": 44,
    "start_time": "2022-09-08T11:11:00.766Z"
   },
   {
    "duration": 89,
    "start_time": "2022-09-08T11:11:00.812Z"
   },
   {
    "duration": 70,
    "start_time": "2022-09-08T11:11:00.903Z"
   },
   {
    "duration": 35,
    "start_time": "2022-09-08T11:11:00.975Z"
   },
   {
    "duration": 104,
    "start_time": "2022-09-08T11:11:01.012Z"
   },
   {
    "duration": 41,
    "start_time": "2022-09-08T11:11:26.855Z"
   },
   {
    "duration": 119,
    "start_time": "2022-09-08T11:11:31.886Z"
   },
   {
    "duration": 9,
    "start_time": "2022-09-08T11:11:36.196Z"
   },
   {
    "duration": 31,
    "start_time": "2022-09-08T11:11:38.550Z"
   },
   {
    "duration": 51,
    "start_time": "2022-09-08T11:11:47.320Z"
   },
   {
    "duration": 5,
    "start_time": "2022-09-08T11:15:16.387Z"
   },
   {
    "duration": 9,
    "start_time": "2022-09-08T11:15:44.580Z"
   },
   {
    "duration": 1246,
    "start_time": "2022-09-08T11:15:52.394Z"
   },
   {
    "duration": 292,
    "start_time": "2022-09-08T11:15:53.643Z"
   },
   {
    "duration": 13,
    "start_time": "2022-09-08T11:15:53.937Z"
   },
   {
    "duration": 35,
    "start_time": "2022-09-08T11:15:53.952Z"
   },
   {
    "duration": 60,
    "start_time": "2022-09-08T11:15:53.988Z"
   },
   {
    "duration": 68,
    "start_time": "2022-09-08T11:15:54.050Z"
   },
   {
    "duration": 78,
    "start_time": "2022-09-08T11:15:54.119Z"
   },
   {
    "duration": 22,
    "start_time": "2022-09-08T11:15:54.199Z"
   },
   {
    "duration": 16,
    "start_time": "2022-09-08T11:15:54.225Z"
   },
   {
    "duration": 14,
    "start_time": "2022-09-08T11:15:54.245Z"
   },
   {
    "duration": 25,
    "start_time": "2022-09-08T11:15:54.261Z"
   },
   {
    "duration": 15,
    "start_time": "2022-09-08T11:15:54.288Z"
   },
   {
    "duration": 42,
    "start_time": "2022-09-08T11:15:54.305Z"
   },
   {
    "duration": 21,
    "start_time": "2022-09-08T11:15:54.349Z"
   },
   {
    "duration": 16,
    "start_time": "2022-09-08T11:15:54.372Z"
   },
   {
    "duration": 28,
    "start_time": "2022-09-08T11:15:54.390Z"
   },
   {
    "duration": 28,
    "start_time": "2022-09-08T11:15:54.420Z"
   },
   {
    "duration": 23,
    "start_time": "2022-09-08T11:15:54.450Z"
   },
   {
    "duration": 24,
    "start_time": "2022-09-08T11:15:54.475Z"
   },
   {
    "duration": 75,
    "start_time": "2022-09-08T11:15:54.500Z"
   },
   {
    "duration": 5,
    "start_time": "2022-09-08T11:15:54.577Z"
   },
   {
    "duration": 21,
    "start_time": "2022-09-08T11:15:54.583Z"
   },
   {
    "duration": 2,
    "start_time": "2022-09-08T11:52:40.036Z"
   },
   {
    "duration": 16,
    "start_time": "2022-09-08T11:57:23.658Z"
   },
   {
    "duration": 119,
    "start_time": "2022-09-08T11:57:33.511Z"
   },
   {
    "duration": 17,
    "start_time": "2022-09-08T11:57:53.840Z"
   },
   {
    "duration": 21,
    "start_time": "2022-09-08T11:58:33.858Z"
   },
   {
    "duration": 106,
    "start_time": "2022-09-08T12:00:03.554Z"
   },
   {
    "duration": 16,
    "start_time": "2022-09-08T12:00:44.524Z"
   },
   {
    "duration": 22,
    "start_time": "2022-09-08T12:02:05.953Z"
   },
   {
    "duration": 67,
    "start_time": "2022-09-08T12:05:21.144Z"
   },
   {
    "duration": 28,
    "start_time": "2022-09-08T12:05:36.287Z"
   },
   {
    "duration": 36,
    "start_time": "2022-09-08T12:06:01.576Z"
   },
   {
    "duration": 38,
    "start_time": "2022-09-08T12:06:10.539Z"
   },
   {
    "duration": 24,
    "start_time": "2022-09-08T12:11:22.337Z"
   },
   {
    "duration": 27,
    "start_time": "2022-09-08T12:22:07.935Z"
   },
   {
    "duration": 21,
    "start_time": "2022-09-08T12:22:28.665Z"
   },
   {
    "duration": 33,
    "start_time": "2022-09-08T12:23:09.195Z"
   },
   {
    "duration": 8,
    "start_time": "2022-09-08T12:23:46.272Z"
   },
   {
    "duration": 16,
    "start_time": "2022-09-08T12:23:50.982Z"
   },
   {
    "duration": 32,
    "start_time": "2022-09-08T12:25:44.980Z"
   },
   {
    "duration": 5,
    "start_time": "2022-09-08T12:45:40.774Z"
   },
   {
    "duration": 43,
    "start_time": "2022-09-08T12:45:51.734Z"
   },
   {
    "duration": 15,
    "start_time": "2022-09-08T12:46:46.517Z"
   },
   {
    "duration": 19,
    "start_time": "2022-09-08T12:47:32.776Z"
   },
   {
    "duration": 13,
    "start_time": "2022-09-08T12:47:48.912Z"
   },
   {
    "duration": 15,
    "start_time": "2022-09-08T12:47:52.890Z"
   },
   {
    "duration": 16,
    "start_time": "2022-09-08T12:49:43.550Z"
   },
   {
    "duration": 8,
    "start_time": "2022-09-08T12:49:53.250Z"
   },
   {
    "duration": 17,
    "start_time": "2022-09-08T12:49:57.508Z"
   },
   {
    "duration": 18,
    "start_time": "2022-09-08T12:50:49.011Z"
   },
   {
    "duration": 28,
    "start_time": "2022-09-08T12:50:59.516Z"
   },
   {
    "duration": 25,
    "start_time": "2022-09-08T12:51:28.492Z"
   },
   {
    "duration": 24,
    "start_time": "2022-09-08T12:52:31.642Z"
   },
   {
    "duration": 24,
    "start_time": "2022-09-08T12:52:44.287Z"
   },
   {
    "duration": 28,
    "start_time": "2022-09-08T12:53:27.890Z"
   },
   {
    "duration": 20,
    "start_time": "2022-09-08T12:58:31.677Z"
   },
   {
    "duration": 21,
    "start_time": "2022-09-08T12:58:43.090Z"
   },
   {
    "duration": 25,
    "start_time": "2022-09-08T12:58:52.477Z"
   },
   {
    "duration": 14,
    "start_time": "2022-09-08T12:59:32.897Z"
   },
   {
    "duration": 10,
    "start_time": "2022-09-08T13:00:51.394Z"
   },
   {
    "duration": 25,
    "start_time": "2022-09-08T13:00:54.365Z"
   },
   {
    "duration": 1248,
    "start_time": "2022-09-08T13:01:02.540Z"
   },
   {
    "duration": 274,
    "start_time": "2022-09-08T13:01:03.790Z"
   },
   {
    "duration": 13,
    "start_time": "2022-09-08T13:01:04.066Z"
   },
   {
    "duration": 46,
    "start_time": "2022-09-08T13:01:04.082Z"
   },
   {
    "duration": 34,
    "start_time": "2022-09-08T13:01:04.130Z"
   },
   {
    "duration": 81,
    "start_time": "2022-09-08T13:01:04.166Z"
   },
   {
    "duration": 73,
    "start_time": "2022-09-08T13:01:04.249Z"
   },
   {
    "duration": 28,
    "start_time": "2022-09-08T13:01:04.323Z"
   },
   {
    "duration": 24,
    "start_time": "2022-09-08T13:01:04.353Z"
   },
   {
    "duration": 12,
    "start_time": "2022-09-08T13:01:04.380Z"
   },
   {
    "duration": 10,
    "start_time": "2022-09-08T13:01:04.394Z"
   },
   {
    "duration": 20,
    "start_time": "2022-09-08T13:01:04.405Z"
   },
   {
    "duration": 17,
    "start_time": "2022-09-08T13:01:04.426Z"
   },
   {
    "duration": 7,
    "start_time": "2022-09-08T13:01:04.445Z"
   },
   {
    "duration": 11,
    "start_time": "2022-09-08T13:01:04.454Z"
   },
   {
    "duration": 14,
    "start_time": "2022-09-08T13:01:04.467Z"
   },
   {
    "duration": 9,
    "start_time": "2022-09-08T13:01:04.483Z"
   },
   {
    "duration": 37,
    "start_time": "2022-09-08T13:01:04.493Z"
   },
   {
    "duration": 17,
    "start_time": "2022-09-08T13:01:04.531Z"
   },
   {
    "duration": 49,
    "start_time": "2022-09-08T13:01:04.550Z"
   },
   {
    "duration": 17,
    "start_time": "2022-09-08T13:01:04.621Z"
   },
   {
    "duration": 15,
    "start_time": "2022-09-08T13:01:04.640Z"
   },
   {
    "duration": 69,
    "start_time": "2022-09-08T13:01:04.657Z"
   },
   {
    "duration": 21,
    "start_time": "2022-09-08T13:01:04.728Z"
   },
   {
    "duration": 3,
    "start_time": "2022-09-08T13:01:04.751Z"
   },
   {
    "duration": 118,
    "start_time": "2022-09-08T13:01:04.756Z"
   },
   {
    "duration": 0,
    "start_time": "2022-09-08T13:01:04.876Z"
   },
   {
    "duration": 0,
    "start_time": "2022-09-08T13:01:04.877Z"
   },
   {
    "duration": 10,
    "start_time": "2022-09-08T13:02:23.424Z"
   },
   {
    "duration": 22,
    "start_time": "2022-09-08T13:03:04.547Z"
   },
   {
    "duration": 13,
    "start_time": "2022-09-08T13:03:05.540Z"
   },
   {
    "duration": 25,
    "start_time": "2022-09-08T13:03:07.879Z"
   },
   {
    "duration": 1177,
    "start_time": "2022-09-08T13:03:13.253Z"
   },
   {
    "duration": 272,
    "start_time": "2022-09-08T13:03:14.431Z"
   },
   {
    "duration": 14,
    "start_time": "2022-09-08T13:03:14.704Z"
   },
   {
    "duration": 33,
    "start_time": "2022-09-08T13:03:14.720Z"
   },
   {
    "duration": 34,
    "start_time": "2022-09-08T13:03:14.754Z"
   },
   {
    "duration": 81,
    "start_time": "2022-09-08T13:03:14.790Z"
   },
   {
    "duration": 70,
    "start_time": "2022-09-08T13:03:14.873Z"
   },
   {
    "duration": 16,
    "start_time": "2022-09-08T13:03:14.945Z"
   },
   {
    "duration": 9,
    "start_time": "2022-09-08T13:03:14.963Z"
   },
   {
    "duration": 12,
    "start_time": "2022-09-08T13:03:14.976Z"
   },
   {
    "duration": 35,
    "start_time": "2022-09-08T13:03:14.989Z"
   },
   {
    "duration": 9,
    "start_time": "2022-09-08T13:03:15.026Z"
   },
   {
    "duration": 15,
    "start_time": "2022-09-08T13:03:15.036Z"
   },
   {
    "duration": 11,
    "start_time": "2022-09-08T13:03:15.052Z"
   },
   {
    "duration": 9,
    "start_time": "2022-09-08T13:03:15.064Z"
   },
   {
    "duration": 14,
    "start_time": "2022-09-08T13:03:15.074Z"
   },
   {
    "duration": 8,
    "start_time": "2022-09-08T13:03:15.090Z"
   },
   {
    "duration": 11,
    "start_time": "2022-09-08T13:03:15.121Z"
   },
   {
    "duration": 16,
    "start_time": "2022-09-08T13:03:15.134Z"
   },
   {
    "duration": 49,
    "start_time": "2022-09-08T13:03:15.152Z"
   },
   {
    "duration": 17,
    "start_time": "2022-09-08T13:03:15.221Z"
   },
   {
    "duration": 13,
    "start_time": "2022-09-08T13:03:15.240Z"
   },
   {
    "duration": 66,
    "start_time": "2022-09-08T13:03:15.255Z"
   },
   {
    "duration": 21,
    "start_time": "2022-09-08T13:03:15.323Z"
   },
   {
    "duration": 12,
    "start_time": "2022-09-08T13:03:15.346Z"
   },
   {
    "duration": 23,
    "start_time": "2022-09-08T13:03:15.360Z"
   },
   {
    "duration": 68,
    "start_time": "2022-09-08T13:03:15.385Z"
   },
   {
    "duration": 15,
    "start_time": "2022-09-08T13:03:15.456Z"
   },
   {
    "duration": 26,
    "start_time": "2022-09-08T13:04:16.661Z"
   },
   {
    "duration": 105,
    "start_time": "2022-09-08T13:05:23.179Z"
   },
   {
    "duration": 10,
    "start_time": "2022-09-08T13:05:29.542Z"
   },
   {
    "duration": 8,
    "start_time": "2022-09-08T13:05:47.866Z"
   },
   {
    "duration": 6,
    "start_time": "2022-09-08T13:06:02.338Z"
   },
   {
    "duration": 6,
    "start_time": "2022-09-08T13:06:17.500Z"
   },
   {
    "duration": 26,
    "start_time": "2022-09-08T13:06:22.137Z"
   },
   {
    "duration": 12,
    "start_time": "2022-09-08T13:06:31.861Z"
   },
   {
    "duration": 5257,
    "start_time": "2022-09-08T13:07:28.100Z"
   },
   {
    "duration": 41,
    "start_time": "2022-09-08T13:09:12.213Z"
   },
   {
    "duration": 35,
    "start_time": "2022-09-08T13:09:33.887Z"
   },
   {
    "duration": 14,
    "start_time": "2022-09-08T13:10:32.072Z"
   },
   {
    "duration": 33,
    "start_time": "2022-09-08T13:10:36.521Z"
   },
   {
    "duration": 22,
    "start_time": "2022-09-08T13:11:27.742Z"
   },
   {
    "duration": 20,
    "start_time": "2022-09-08T13:11:37.621Z"
   },
   {
    "duration": 4,
    "start_time": "2022-09-08T13:12:14.068Z"
   },
   {
    "duration": 23,
    "start_time": "2022-09-08T13:12:17.762Z"
   },
   {
    "duration": 20,
    "start_time": "2022-09-08T13:13:37.264Z"
   },
   {
    "duration": 57,
    "start_time": "2022-09-08T13:14:16.395Z"
   },
   {
    "duration": 22,
    "start_time": "2022-09-08T13:14:54.976Z"
   },
   {
    "duration": 48,
    "start_time": "2022-09-08T13:17:15.642Z"
   },
   {
    "duration": 2,
    "start_time": "2022-09-08T13:19:01.885Z"
   },
   {
    "duration": 15,
    "start_time": "2022-09-08T13:19:06.083Z"
   },
   {
    "duration": 10,
    "start_time": "2022-09-08T13:21:24.511Z"
   },
   {
    "duration": 11,
    "start_time": "2022-09-08T13:21:39.199Z"
   },
   {
    "duration": 2221,
    "start_time": "2022-09-08T13:24:31.484Z"
   },
   {
    "duration": 15,
    "start_time": "2022-09-08T13:24:54.809Z"
   },
   {
    "duration": 33,
    "start_time": "2022-09-08T13:25:00.493Z"
   },
   {
    "duration": 47,
    "start_time": "2022-09-08T13:25:22.096Z"
   },
   {
    "duration": 24,
    "start_time": "2022-09-08T13:25:45.197Z"
   },
   {
    "duration": 45,
    "start_time": "2022-09-08T13:26:12.006Z"
   },
   {
    "duration": 22,
    "start_time": "2022-09-08T13:26:30.361Z"
   },
   {
    "duration": 35,
    "start_time": "2022-09-08T13:26:35.558Z"
   },
   {
    "duration": 62,
    "start_time": "2022-09-08T13:26:42.810Z"
   },
   {
    "duration": 54,
    "start_time": "2022-09-08T13:27:24.604Z"
   },
   {
    "duration": 32,
    "start_time": "2022-09-08T13:27:29.554Z"
   },
   {
    "duration": 178,
    "start_time": "2022-09-08T13:28:20.078Z"
   },
   {
    "duration": 54,
    "start_time": "2022-09-08T13:28:27.110Z"
   },
   {
    "duration": 118,
    "start_time": "2022-09-08T13:28:33.483Z"
   },
   {
    "duration": 98,
    "start_time": "2022-09-08T13:28:38.809Z"
   },
   {
    "duration": 28,
    "start_time": "2022-09-08T13:28:41.384Z"
   },
   {
    "duration": 33,
    "start_time": "2022-09-08T13:29:08.415Z"
   },
   {
    "duration": 85,
    "start_time": "2022-09-08T13:29:14.815Z"
   },
   {
    "duration": 1237,
    "start_time": "2022-09-08T13:29:25.065Z"
   },
   {
    "duration": 301,
    "start_time": "2022-09-08T13:29:26.304Z"
   },
   {
    "duration": 16,
    "start_time": "2022-09-08T13:29:26.607Z"
   },
   {
    "duration": 63,
    "start_time": "2022-09-08T13:29:26.630Z"
   },
   {
    "duration": 54,
    "start_time": "2022-09-08T13:29:26.696Z"
   },
   {
    "duration": 105,
    "start_time": "2022-09-08T13:29:26.752Z"
   },
   {
    "duration": 79,
    "start_time": "2022-09-08T13:29:26.859Z"
   },
   {
    "duration": 26,
    "start_time": "2022-09-08T13:29:26.940Z"
   },
   {
    "duration": 19,
    "start_time": "2022-09-08T13:29:26.971Z"
   },
   {
    "duration": 14,
    "start_time": "2022-09-08T13:29:26.993Z"
   },
   {
    "duration": 16,
    "start_time": "2022-09-08T13:29:27.009Z"
   },
   {
    "duration": 11,
    "start_time": "2022-09-08T13:29:27.027Z"
   },
   {
    "duration": 38,
    "start_time": "2022-09-08T13:29:27.051Z"
   },
   {
    "duration": 9,
    "start_time": "2022-09-08T13:29:27.091Z"
   },
   {
    "duration": 8,
    "start_time": "2022-09-08T13:29:27.102Z"
   },
   {
    "duration": 26,
    "start_time": "2022-09-08T13:29:27.111Z"
   },
   {
    "duration": 42,
    "start_time": "2022-09-08T13:29:27.145Z"
   },
   {
    "duration": 12,
    "start_time": "2022-09-08T13:29:27.188Z"
   },
   {
    "duration": 14,
    "start_time": "2022-09-08T13:29:27.202Z"
   },
   {
    "duration": 67,
    "start_time": "2022-09-08T13:29:27.218Z"
   },
   {
    "duration": 17,
    "start_time": "2022-09-08T13:29:27.287Z"
   },
   {
    "duration": 37,
    "start_time": "2022-09-08T13:29:27.306Z"
   },
   {
    "duration": 89,
    "start_time": "2022-09-08T13:29:27.347Z"
   },
   {
    "duration": 30,
    "start_time": "2022-09-08T13:29:27.439Z"
   },
   {
    "duration": 15,
    "start_time": "2022-09-08T13:29:27.472Z"
   },
   {
    "duration": 27,
    "start_time": "2022-09-08T13:29:27.488Z"
   },
   {
    "duration": 94,
    "start_time": "2022-09-08T13:29:27.516Z"
   },
   {
    "duration": 67,
    "start_time": "2022-09-08T13:29:27.613Z"
   },
   {
    "duration": 18,
    "start_time": "2022-09-08T13:29:27.682Z"
   },
   {
    "duration": 34,
    "start_time": "2022-09-08T13:30:12.658Z"
   },
   {
    "duration": 25,
    "start_time": "2022-09-08T13:30:22.983Z"
   },
   {
    "duration": 204,
    "start_time": "2022-09-08T13:30:29.689Z"
   },
   {
    "duration": 80,
    "start_time": "2022-09-08T13:30:43.802Z"
   },
   {
    "duration": 148,
    "start_time": "2022-09-08T13:30:49.363Z"
   },
   {
    "duration": 132,
    "start_time": "2022-09-08T13:30:59.557Z"
   },
   {
    "duration": 51,
    "start_time": "2022-09-08T13:31:04.112Z"
   },
   {
    "duration": 40,
    "start_time": "2022-09-08T13:31:08.978Z"
   },
   {
    "duration": 78,
    "start_time": "2022-09-08T13:32:15.685Z"
   },
   {
    "duration": 48,
    "start_time": "2022-09-08T13:32:20.958Z"
   },
   {
    "duration": 63,
    "start_time": "2022-09-08T13:32:35.462Z"
   },
   {
    "duration": 40,
    "start_time": "2022-09-08T13:32:43.376Z"
   },
   {
    "duration": 36,
    "start_time": "2022-09-08T13:32:58.260Z"
   },
   {
    "duration": 26,
    "start_time": "2022-09-08T13:33:11.864Z"
   },
   {
    "duration": 34,
    "start_time": "2022-09-08T13:33:24.171Z"
   },
   {
    "duration": 27,
    "start_time": "2022-09-08T13:33:48.802Z"
   },
   {
    "duration": 32,
    "start_time": "2022-09-08T13:34:53.646Z"
   },
   {
    "duration": 20,
    "start_time": "2022-09-08T13:35:36.884Z"
   },
   {
    "duration": 49,
    "start_time": "2022-09-08T13:35:39.605Z"
   },
   {
    "duration": 32,
    "start_time": "2022-09-08T13:35:53.601Z"
   },
   {
    "duration": 24,
    "start_time": "2022-09-08T13:35:58.683Z"
   },
   {
    "duration": 7,
    "start_time": "2022-09-08T13:36:26.368Z"
   },
   {
    "duration": 16,
    "start_time": "2022-09-08T13:36:29.366Z"
   },
   {
    "duration": 24,
    "start_time": "2022-09-08T13:37:04.561Z"
   },
   {
    "duration": 22,
    "start_time": "2022-09-08T13:37:08.422Z"
   },
   {
    "duration": 14,
    "start_time": "2022-09-08T13:37:44.790Z"
   },
   {
    "duration": 25,
    "start_time": "2022-09-08T16:37:09.708Z"
   },
   {
    "duration": 22,
    "start_time": "2022-09-08T16:37:12.749Z"
   },
   {
    "duration": 15,
    "start_time": "2022-09-08T16:37:14.994Z"
   },
   {
    "duration": 17,
    "start_time": "2022-09-08T16:38:35.840Z"
   },
   {
    "duration": 23,
    "start_time": "2022-09-08T16:38:53.603Z"
   },
   {
    "duration": 18,
    "start_time": "2022-09-08T16:39:04.552Z"
   },
   {
    "duration": 15,
    "start_time": "2022-09-08T16:39:16.489Z"
   },
   {
    "duration": 10,
    "start_time": "2022-09-08T16:39:31.780Z"
   },
   {
    "duration": 15,
    "start_time": "2022-09-08T16:39:35.800Z"
   },
   {
    "duration": 14,
    "start_time": "2022-09-08T16:40:05.270Z"
   },
   {
    "duration": 899,
    "start_time": "2022-09-08T16:41:05.338Z"
   },
   {
    "duration": 800,
    "start_time": "2022-09-08T16:41:17.612Z"
   },
   {
    "duration": 1290,
    "start_time": "2022-09-08T16:41:46.697Z"
   },
   {
    "duration": 286,
    "start_time": "2022-09-08T16:41:47.989Z"
   },
   {
    "duration": 15,
    "start_time": "2022-09-08T16:41:48.276Z"
   },
   {
    "duration": 41,
    "start_time": "2022-09-08T16:41:48.293Z"
   },
   {
    "duration": 38,
    "start_time": "2022-09-08T16:41:48.337Z"
   },
   {
    "duration": 66,
    "start_time": "2022-09-08T16:41:48.377Z"
   },
   {
    "duration": 83,
    "start_time": "2022-09-08T16:41:48.446Z"
   },
   {
    "duration": 23,
    "start_time": "2022-09-08T16:41:48.535Z"
   },
   {
    "duration": 9,
    "start_time": "2022-09-08T16:41:48.560Z"
   },
   {
    "duration": 13,
    "start_time": "2022-09-08T16:41:48.572Z"
   },
   {
    "duration": 10,
    "start_time": "2022-09-08T16:41:48.587Z"
   },
   {
    "duration": 23,
    "start_time": "2022-09-08T16:41:48.598Z"
   },
   {
    "duration": 16,
    "start_time": "2022-09-08T16:41:48.623Z"
   },
   {
    "duration": 9,
    "start_time": "2022-09-08T16:41:48.642Z"
   },
   {
    "duration": 12,
    "start_time": "2022-09-08T16:41:48.653Z"
   },
   {
    "duration": 11,
    "start_time": "2022-09-08T16:41:48.667Z"
   },
   {
    "duration": 9,
    "start_time": "2022-09-08T16:41:48.680Z"
   },
   {
    "duration": 38,
    "start_time": "2022-09-08T16:41:48.692Z"
   },
   {
    "duration": 21,
    "start_time": "2022-09-08T16:41:48.732Z"
   },
   {
    "duration": 48,
    "start_time": "2022-09-08T16:41:48.755Z"
   },
   {
    "duration": 35,
    "start_time": "2022-09-08T16:41:48.804Z"
   },
   {
    "duration": 24,
    "start_time": "2022-09-08T16:41:48.841Z"
   },
   {
    "duration": 94,
    "start_time": "2022-09-08T16:41:48.868Z"
   },
   {
    "duration": 32,
    "start_time": "2022-09-08T16:41:48.964Z"
   },
   {
    "duration": 38,
    "start_time": "2022-09-08T16:41:48.999Z"
   },
   {
    "duration": 52,
    "start_time": "2022-09-08T16:41:49.039Z"
   },
   {
    "duration": 41,
    "start_time": "2022-09-08T16:41:49.093Z"
   },
   {
    "duration": 28,
    "start_time": "2022-09-08T16:41:49.141Z"
   },
   {
    "duration": 20,
    "start_time": "2022-09-08T16:41:49.171Z"
   },
   {
    "duration": 44,
    "start_time": "2022-09-08T16:41:49.193Z"
   },
   {
    "duration": 48,
    "start_time": "2022-09-08T16:41:49.245Z"
   },
   {
    "duration": 121,
    "start_time": "2022-09-08T16:41:49.296Z"
   },
   {
    "duration": 16,
    "start_time": "2022-09-08T16:43:18.313Z"
   },
   {
    "duration": 11,
    "start_time": "2022-09-08T16:43:23.131Z"
   },
   {
    "duration": 7,
    "start_time": "2022-09-08T16:45:07.964Z"
   },
   {
    "duration": 7,
    "start_time": "2022-09-08T16:46:08.640Z"
   },
   {
    "duration": 8,
    "start_time": "2022-09-08T16:46:15.141Z"
   },
   {
    "duration": 8,
    "start_time": "2022-09-08T16:46:52.093Z"
   },
   {
    "duration": 8,
    "start_time": "2022-09-08T16:47:29.868Z"
   },
   {
    "duration": 12,
    "start_time": "2022-09-08T16:47:40.272Z"
   },
   {
    "duration": 28,
    "start_time": "2022-09-08T16:47:55.515Z"
   },
   {
    "duration": 18,
    "start_time": "2022-09-08T16:49:19.537Z"
   },
   {
    "duration": 23,
    "start_time": "2022-09-08T16:49:29.874Z"
   },
   {
    "duration": 21,
    "start_time": "2022-09-08T16:49:53.157Z"
   },
   {
    "duration": 33,
    "start_time": "2022-09-08T17:00:39.381Z"
   },
   {
    "duration": 35,
    "start_time": "2022-09-08T17:01:29.528Z"
   },
   {
    "duration": 4,
    "start_time": "2022-09-08T17:02:05.699Z"
   },
   {
    "duration": 9,
    "start_time": "2022-09-08T17:02:14.933Z"
   },
   {
    "duration": 22,
    "start_time": "2022-09-08T17:02:25.488Z"
   },
   {
    "duration": 2,
    "start_time": "2022-09-08T17:02:26.880Z"
   },
   {
    "duration": 5,
    "start_time": "2022-09-08T17:02:28.292Z"
   },
   {
    "duration": 5,
    "start_time": "2022-09-08T17:02:29.167Z"
   },
   {
    "duration": 10,
    "start_time": "2022-09-08T17:03:38.783Z"
   },
   {
    "duration": 5,
    "start_time": "2022-09-08T17:03:55.712Z"
   },
   {
    "duration": 149,
    "start_time": "2022-09-08T17:09:53.885Z"
   },
   {
    "duration": 855,
    "start_time": "2022-09-08T17:10:16.599Z"
   },
   {
    "duration": 13,
    "start_time": "2022-09-08T17:10:22.353Z"
   },
   {
    "duration": 21,
    "start_time": "2022-09-08T17:10:36.907Z"
   },
   {
    "duration": 19,
    "start_time": "2022-09-08T17:11:54.382Z"
   },
   {
    "duration": 22,
    "start_time": "2022-09-08T17:12:00.498Z"
   },
   {
    "duration": 21,
    "start_time": "2022-09-08T17:12:59.614Z"
   },
   {
    "duration": 22,
    "start_time": "2022-09-08T17:13:05.977Z"
   },
   {
    "duration": 20,
    "start_time": "2022-09-08T17:13:20.592Z"
   },
   {
    "duration": 20,
    "start_time": "2022-09-08T17:13:33.514Z"
   },
   {
    "duration": 10,
    "start_time": "2022-09-08T17:14:32.224Z"
   },
   {
    "duration": 20,
    "start_time": "2022-09-08T17:15:28.440Z"
   },
   {
    "duration": 9,
    "start_time": "2022-09-08T17:15:35.890Z"
   },
   {
    "duration": 9,
    "start_time": "2022-09-08T17:15:48.597Z"
   },
   {
    "duration": 9,
    "start_time": "2022-09-08T17:16:45.302Z"
   },
   {
    "duration": 20,
    "start_time": "2022-09-08T17:18:08.395Z"
   },
   {
    "duration": 25,
    "start_time": "2022-09-08T17:18:29.168Z"
   },
   {
    "duration": 59,
    "start_time": "2022-09-08T17:18:44.256Z"
   },
   {
    "duration": 44,
    "start_time": "2022-09-08T17:18:48.452Z"
   },
   {
    "duration": 25,
    "start_time": "2022-09-08T17:18:59.015Z"
   },
   {
    "duration": 8,
    "start_time": "2022-09-08T17:19:26.290Z"
   },
   {
    "duration": 19,
    "start_time": "2022-09-08T17:19:31.549Z"
   },
   {
    "duration": 9,
    "start_time": "2022-09-08T17:19:32.758Z"
   },
   {
    "duration": 21,
    "start_time": "2022-09-08T17:20:10.372Z"
   },
   {
    "duration": 22,
    "start_time": "2022-09-08T17:20:20.016Z"
   },
   {
    "duration": 20,
    "start_time": "2022-09-08T17:20:28.759Z"
   },
   {
    "duration": 21,
    "start_time": "2022-09-08T17:22:15.647Z"
   },
   {
    "duration": 47,
    "start_time": "2022-09-08T19:45:52.580Z"
   },
   {
    "duration": 1308,
    "start_time": "2022-09-08T19:45:59.816Z"
   },
   {
    "duration": 614,
    "start_time": "2022-09-08T19:46:01.126Z"
   },
   {
    "duration": 12,
    "start_time": "2022-09-08T19:46:01.742Z"
   },
   {
    "duration": 30,
    "start_time": "2022-09-08T19:46:01.756Z"
   },
   {
    "duration": 34,
    "start_time": "2022-09-08T19:46:01.788Z"
   },
   {
    "duration": 69,
    "start_time": "2022-09-08T19:46:01.824Z"
   },
   {
    "duration": 57,
    "start_time": "2022-09-08T19:46:01.895Z"
   },
   {
    "duration": 14,
    "start_time": "2022-09-08T19:46:01.953Z"
   },
   {
    "duration": 10,
    "start_time": "2022-09-08T19:46:01.968Z"
   },
   {
    "duration": 11,
    "start_time": "2022-09-08T19:46:01.979Z"
   },
   {
    "duration": 22,
    "start_time": "2022-09-08T19:46:01.992Z"
   },
   {
    "duration": 8,
    "start_time": "2022-09-08T19:46:02.015Z"
   },
   {
    "duration": 28,
    "start_time": "2022-09-08T19:46:02.024Z"
   },
   {
    "duration": 23,
    "start_time": "2022-09-08T19:46:02.055Z"
   },
   {
    "duration": 10,
    "start_time": "2022-09-08T19:46:02.079Z"
   },
   {
    "duration": 16,
    "start_time": "2022-09-08T19:46:02.090Z"
   },
   {
    "duration": 9,
    "start_time": "2022-09-08T19:46:02.108Z"
   },
   {
    "duration": 25,
    "start_time": "2022-09-08T19:46:02.118Z"
   },
   {
    "duration": 16,
    "start_time": "2022-09-08T19:46:02.145Z"
   },
   {
    "duration": 55,
    "start_time": "2022-09-08T19:46:02.163Z"
   },
   {
    "duration": 15,
    "start_time": "2022-09-08T19:46:02.220Z"
   },
   {
    "duration": 14,
    "start_time": "2022-09-08T19:46:02.236Z"
   },
   {
    "duration": 24,
    "start_time": "2022-09-08T19:46:02.252Z"
   },
   {
    "duration": 3,
    "start_time": "2022-09-08T19:46:02.278Z"
   },
   {
    "duration": 41,
    "start_time": "2022-09-08T19:46:02.283Z"
   },
   {
    "duration": 18,
    "start_time": "2022-09-08T19:46:10.913Z"
   },
   {
    "duration": 20,
    "start_time": "2022-09-08T20:00:21.760Z"
   },
   {
    "duration": 157,
    "start_time": "2022-09-08T20:06:10.790Z"
   },
   {
    "duration": 115,
    "start_time": "2022-09-08T20:06:16.694Z"
   },
   {
    "duration": 898,
    "start_time": "2022-09-08T20:06:39.604Z"
   },
   {
    "duration": 1075,
    "start_time": "2022-09-08T20:07:15.951Z"
   },
   {
    "duration": 245,
    "start_time": "2022-09-08T20:07:17.028Z"
   },
   {
    "duration": 12,
    "start_time": "2022-09-08T20:07:17.274Z"
   },
   {
    "duration": 46,
    "start_time": "2022-09-08T20:07:17.289Z"
   },
   {
    "duration": 35,
    "start_time": "2022-09-08T20:07:17.336Z"
   },
   {
    "duration": 60,
    "start_time": "2022-09-08T20:07:17.372Z"
   },
   {
    "duration": 56,
    "start_time": "2022-09-08T20:07:17.433Z"
   },
   {
    "duration": 28,
    "start_time": "2022-09-08T20:07:17.491Z"
   },
   {
    "duration": 9,
    "start_time": "2022-09-08T20:07:17.521Z"
   },
   {
    "duration": 19,
    "start_time": "2022-09-08T20:07:17.532Z"
   },
   {
    "duration": 30,
    "start_time": "2022-09-08T20:07:17.552Z"
   },
   {
    "duration": 16,
    "start_time": "2022-09-08T20:07:17.584Z"
   },
   {
    "duration": 16,
    "start_time": "2022-09-08T20:07:17.602Z"
   },
   {
    "duration": 4,
    "start_time": "2022-09-08T20:07:17.620Z"
   },
   {
    "duration": 9,
    "start_time": "2022-09-08T20:07:17.626Z"
   },
   {
    "duration": 12,
    "start_time": "2022-09-08T20:07:17.636Z"
   },
   {
    "duration": 16,
    "start_time": "2022-09-08T20:07:17.650Z"
   },
   {
    "duration": 11,
    "start_time": "2022-09-08T20:07:17.667Z"
   },
   {
    "duration": 17,
    "start_time": "2022-09-08T20:07:17.679Z"
   },
   {
    "duration": 44,
    "start_time": "2022-09-08T20:07:17.697Z"
   },
   {
    "duration": 16,
    "start_time": "2022-09-08T20:07:17.742Z"
   },
   {
    "duration": 13,
    "start_time": "2022-09-08T20:07:17.760Z"
   },
   {
    "duration": 38,
    "start_time": "2022-09-08T20:07:17.775Z"
   },
   {
    "duration": 6,
    "start_time": "2022-09-08T20:07:17.815Z"
   },
   {
    "duration": 20,
    "start_time": "2022-09-08T20:07:17.822Z"
   },
   {
    "duration": 143,
    "start_time": "2022-09-08T20:07:17.844Z"
   },
   {
    "duration": 1652,
    "start_time": "2022-09-08T20:07:42.779Z"
   },
   {
    "duration": 1075,
    "start_time": "2022-09-08T20:07:51.445Z"
   },
   {
    "duration": 238,
    "start_time": "2022-09-08T20:07:52.522Z"
   },
   {
    "duration": 12,
    "start_time": "2022-09-08T20:07:52.762Z"
   },
   {
    "duration": 59,
    "start_time": "2022-09-08T20:07:52.776Z"
   },
   {
    "duration": 53,
    "start_time": "2022-09-08T20:07:52.837Z"
   },
   {
    "duration": 70,
    "start_time": "2022-09-08T20:07:52.892Z"
   },
   {
    "duration": 76,
    "start_time": "2022-09-08T20:07:52.963Z"
   },
   {
    "duration": 22,
    "start_time": "2022-09-08T20:07:53.041Z"
   },
   {
    "duration": 15,
    "start_time": "2022-09-08T20:07:53.064Z"
   },
   {
    "duration": 29,
    "start_time": "2022-09-08T20:07:53.082Z"
   },
   {
    "duration": 8,
    "start_time": "2022-09-08T20:07:53.113Z"
   },
   {
    "duration": 7,
    "start_time": "2022-09-08T20:07:53.123Z"
   },
   {
    "duration": 12,
    "start_time": "2022-09-08T20:07:53.132Z"
   },
   {
    "duration": 4,
    "start_time": "2022-09-08T20:07:53.145Z"
   },
   {
    "duration": 7,
    "start_time": "2022-09-08T20:07:53.151Z"
   },
   {
    "duration": 12,
    "start_time": "2022-09-08T20:07:53.160Z"
   },
   {
    "duration": 42,
    "start_time": "2022-09-08T20:07:53.173Z"
   },
   {
    "duration": 14,
    "start_time": "2022-09-08T20:07:53.217Z"
   },
   {
    "duration": 14,
    "start_time": "2022-09-08T20:07:53.232Z"
   },
   {
    "duration": 77,
    "start_time": "2022-09-08T20:07:53.247Z"
   },
   {
    "duration": 17,
    "start_time": "2022-09-08T20:07:53.327Z"
   },
   {
    "duration": 32,
    "start_time": "2022-09-08T20:07:53.346Z"
   },
   {
    "duration": 24,
    "start_time": "2022-09-08T20:07:53.380Z"
   },
   {
    "duration": 5,
    "start_time": "2022-09-08T20:07:53.405Z"
   },
   {
    "duration": 19,
    "start_time": "2022-09-08T20:07:53.412Z"
   },
   {
    "duration": 147,
    "start_time": "2022-09-08T20:07:53.432Z"
   },
   {
    "duration": 8,
    "start_time": "2022-09-08T20:08:48.590Z"
   },
   {
    "duration": 1371,
    "start_time": "2022-09-08T20:13:18.596Z"
   },
   {
    "duration": 1147,
    "start_time": "2022-09-08T20:13:29.605Z"
   },
   {
    "duration": 249,
    "start_time": "2022-09-08T20:13:30.754Z"
   },
   {
    "duration": 12,
    "start_time": "2022-09-08T20:13:31.004Z"
   },
   {
    "duration": 35,
    "start_time": "2022-09-08T20:13:31.018Z"
   },
   {
    "duration": 39,
    "start_time": "2022-09-08T20:13:31.055Z"
   },
   {
    "duration": 78,
    "start_time": "2022-09-08T20:13:31.095Z"
   },
   {
    "duration": 58,
    "start_time": "2022-09-08T20:13:31.175Z"
   },
   {
    "duration": 14,
    "start_time": "2022-09-08T20:13:31.234Z"
   },
   {
    "duration": 9,
    "start_time": "2022-09-08T20:13:31.249Z"
   },
   {
    "duration": 16,
    "start_time": "2022-09-08T20:13:31.261Z"
   },
   {
    "duration": 17,
    "start_time": "2022-09-08T20:13:31.278Z"
   },
   {
    "duration": 16,
    "start_time": "2022-09-08T20:13:31.296Z"
   },
   {
    "duration": 11,
    "start_time": "2022-09-08T20:13:31.313Z"
   },
   {
    "duration": 11,
    "start_time": "2022-09-08T20:13:31.326Z"
   },
   {
    "duration": 8,
    "start_time": "2022-09-08T20:13:31.339Z"
   },
   {
    "duration": 10,
    "start_time": "2022-09-08T20:13:31.349Z"
   },
   {
    "duration": 12,
    "start_time": "2022-09-08T20:13:31.361Z"
   },
   {
    "duration": 15,
    "start_time": "2022-09-08T20:13:31.374Z"
   },
   {
    "duration": 23,
    "start_time": "2022-09-08T20:13:31.390Z"
   },
   {
    "duration": 37,
    "start_time": "2022-09-08T20:13:31.415Z"
   },
   {
    "duration": 16,
    "start_time": "2022-09-08T20:13:31.453Z"
   },
   {
    "duration": 16,
    "start_time": "2022-09-08T20:13:31.470Z"
   },
   {
    "duration": 36,
    "start_time": "2022-09-08T20:13:31.487Z"
   },
   {
    "duration": 3,
    "start_time": "2022-09-08T20:13:31.525Z"
   },
   {
    "duration": 19,
    "start_time": "2022-09-08T20:13:31.530Z"
   },
   {
    "duration": 140,
    "start_time": "2022-09-08T20:13:31.550Z"
   },
   {
    "duration": 6,
    "start_time": "2022-09-08T20:13:31.691Z"
   },
   {
    "duration": 1116,
    "start_time": "2022-09-08T20:13:31.710Z"
   },
   {
    "duration": 1824,
    "start_time": "2022-09-08T20:15:12.760Z"
   },
   {
    "duration": 1014,
    "start_time": "2022-09-08T20:15:37.772Z"
   },
   {
    "duration": 1039,
    "start_time": "2022-09-08T20:15:42.043Z"
   },
   {
    "duration": 1068,
    "start_time": "2022-09-08T20:16:19.758Z"
   },
   {
    "duration": 249,
    "start_time": "2022-09-08T20:16:20.828Z"
   },
   {
    "duration": 13,
    "start_time": "2022-09-08T20:16:21.078Z"
   },
   {
    "duration": 36,
    "start_time": "2022-09-08T20:16:21.093Z"
   },
   {
    "duration": 32,
    "start_time": "2022-09-08T20:16:21.131Z"
   },
   {
    "duration": 66,
    "start_time": "2022-09-08T20:16:21.165Z"
   },
   {
    "duration": 66,
    "start_time": "2022-09-08T20:16:21.233Z"
   },
   {
    "duration": 27,
    "start_time": "2022-09-08T20:16:21.301Z"
   },
   {
    "duration": 13,
    "start_time": "2022-09-08T20:16:21.330Z"
   },
   {
    "duration": 12,
    "start_time": "2022-09-08T20:16:21.347Z"
   },
   {
    "duration": 11,
    "start_time": "2022-09-08T20:16:21.361Z"
   },
   {
    "duration": 7,
    "start_time": "2022-09-08T20:16:21.374Z"
   },
   {
    "duration": 10,
    "start_time": "2022-09-08T20:16:21.409Z"
   },
   {
    "duration": 9,
    "start_time": "2022-09-08T20:16:21.420Z"
   },
   {
    "duration": 7,
    "start_time": "2022-09-08T20:16:21.430Z"
   },
   {
    "duration": 9,
    "start_time": "2022-09-08T20:16:21.439Z"
   },
   {
    "duration": 13,
    "start_time": "2022-09-08T20:16:21.450Z"
   },
   {
    "duration": 15,
    "start_time": "2022-09-08T20:16:21.464Z"
   },
   {
    "duration": 10,
    "start_time": "2022-09-08T20:16:21.481Z"
   },
   {
    "duration": 40,
    "start_time": "2022-09-08T20:16:21.508Z"
   },
   {
    "duration": 15,
    "start_time": "2022-09-08T20:16:21.550Z"
   },
   {
    "duration": 12,
    "start_time": "2022-09-08T20:16:21.567Z"
   },
   {
    "duration": 40,
    "start_time": "2022-09-08T20:16:21.581Z"
   },
   {
    "duration": 4,
    "start_time": "2022-09-08T20:16:21.623Z"
   },
   {
    "duration": 24,
    "start_time": "2022-09-08T20:16:21.628Z"
   },
   {
    "duration": 1186,
    "start_time": "2022-09-08T20:16:21.654Z"
   },
   {
    "duration": 306,
    "start_time": "2022-09-08T20:16:22.842Z"
   },
   {
    "duration": 60,
    "start_time": "2022-09-08T20:16:23.151Z"
   },
   {
    "duration": 1028,
    "start_time": "2022-09-08T20:16:23.212Z"
   },
   {
    "duration": 12,
    "start_time": "2022-09-08T20:17:32.701Z"
   },
   {
    "duration": 9,
    "start_time": "2022-09-08T20:17:41.949Z"
   },
   {
    "duration": 1037,
    "start_time": "2022-09-08T20:17:56.091Z"
   },
   {
    "duration": 1127,
    "start_time": "2022-09-08T20:18:06.390Z"
   },
   {
    "duration": 244,
    "start_time": "2022-09-08T20:18:07.519Z"
   },
   {
    "duration": 11,
    "start_time": "2022-09-08T20:18:07.765Z"
   },
   {
    "duration": 29,
    "start_time": "2022-09-08T20:18:07.777Z"
   },
   {
    "duration": 33,
    "start_time": "2022-09-08T20:18:07.809Z"
   },
   {
    "duration": 66,
    "start_time": "2022-09-08T20:18:07.844Z"
   },
   {
    "duration": 55,
    "start_time": "2022-09-08T20:18:07.911Z"
   },
   {
    "duration": 14,
    "start_time": "2022-09-08T20:18:07.968Z"
   },
   {
    "duration": 26,
    "start_time": "2022-09-08T20:18:07.983Z"
   },
   {
    "duration": 11,
    "start_time": "2022-09-08T20:18:08.011Z"
   },
   {
    "duration": 8,
    "start_time": "2022-09-08T20:18:08.024Z"
   },
   {
    "duration": 7,
    "start_time": "2022-09-08T20:18:08.033Z"
   },
   {
    "duration": 13,
    "start_time": "2022-09-08T20:18:08.041Z"
   },
   {
    "duration": 4,
    "start_time": "2022-09-08T20:18:08.056Z"
   },
   {
    "duration": 6,
    "start_time": "2022-09-08T20:18:08.062Z"
   },
   {
    "duration": 10,
    "start_time": "2022-09-08T20:18:08.069Z"
   },
   {
    "duration": 30,
    "start_time": "2022-09-08T20:18:08.080Z"
   },
   {
    "duration": 11,
    "start_time": "2022-09-08T20:18:08.111Z"
   },
   {
    "duration": 10,
    "start_time": "2022-09-08T20:18:08.123Z"
   },
   {
    "duration": 39,
    "start_time": "2022-09-08T20:18:08.134Z"
   },
   {
    "duration": 37,
    "start_time": "2022-09-08T20:18:08.174Z"
   },
   {
    "duration": 13,
    "start_time": "2022-09-08T20:18:08.213Z"
   },
   {
    "duration": 30,
    "start_time": "2022-09-08T20:18:08.227Z"
   },
   {
    "duration": 6,
    "start_time": "2022-09-08T20:18:08.259Z"
   },
   {
    "duration": 20,
    "start_time": "2022-09-08T20:18:08.267Z"
   },
   {
    "duration": 1640,
    "start_time": "2022-09-08T20:18:08.288Z"
   },
   {
    "duration": 291,
    "start_time": "2022-09-08T20:18:09.930Z"
   },
   {
    "duration": 9,
    "start_time": "2022-09-08T20:18:10.223Z"
   },
   {
    "duration": 1106,
    "start_time": "2022-09-08T20:18:10.233Z"
   },
   {
    "duration": 955,
    "start_time": "2022-09-08T20:19:09.186Z"
   },
   {
    "duration": 151,
    "start_time": "2022-09-08T20:19:31.551Z"
   },
   {
    "duration": 1064,
    "start_time": "2022-09-08T20:19:38.565Z"
   },
   {
    "duration": 235,
    "start_time": "2022-09-08T20:19:39.631Z"
   },
   {
    "duration": 12,
    "start_time": "2022-09-08T20:19:39.867Z"
   },
   {
    "duration": 30,
    "start_time": "2022-09-08T20:19:39.880Z"
   },
   {
    "duration": 31,
    "start_time": "2022-09-08T20:19:39.911Z"
   },
   {
    "duration": 50,
    "start_time": "2022-09-08T20:19:39.943Z"
   },
   {
    "duration": 70,
    "start_time": "2022-09-08T20:19:39.994Z"
   },
   {
    "duration": 13,
    "start_time": "2022-09-08T20:19:40.065Z"
   },
   {
    "duration": 8,
    "start_time": "2022-09-08T20:19:40.079Z"
   },
   {
    "duration": 22,
    "start_time": "2022-09-08T20:19:40.089Z"
   },
   {
    "duration": 9,
    "start_time": "2022-09-08T20:19:40.112Z"
   },
   {
    "duration": 12,
    "start_time": "2022-09-08T20:19:40.122Z"
   },
   {
    "duration": 11,
    "start_time": "2022-09-08T20:19:40.136Z"
   },
   {
    "duration": 10,
    "start_time": "2022-09-08T20:19:40.149Z"
   },
   {
    "duration": 8,
    "start_time": "2022-09-08T20:19:40.160Z"
   },
   {
    "duration": 16,
    "start_time": "2022-09-08T20:19:40.169Z"
   },
   {
    "duration": 19,
    "start_time": "2022-09-08T20:19:40.187Z"
   },
   {
    "duration": 16,
    "start_time": "2022-09-08T20:19:40.209Z"
   },
   {
    "duration": 12,
    "start_time": "2022-09-08T20:19:40.226Z"
   },
   {
    "duration": 37,
    "start_time": "2022-09-08T20:19:40.240Z"
   },
   {
    "duration": 15,
    "start_time": "2022-09-08T20:19:40.279Z"
   },
   {
    "duration": 23,
    "start_time": "2022-09-08T20:19:40.295Z"
   },
   {
    "duration": 19,
    "start_time": "2022-09-08T20:19:40.320Z"
   },
   {
    "duration": 11,
    "start_time": "2022-09-08T20:19:40.341Z"
   },
   {
    "duration": 24,
    "start_time": "2022-09-08T20:19:40.353Z"
   },
   {
    "duration": 1050,
    "start_time": "2022-09-08T20:19:40.378Z"
   },
   {
    "duration": 0,
    "start_time": "2022-09-08T20:19:41.429Z"
   },
   {
    "duration": 0,
    "start_time": "2022-09-08T20:19:41.431Z"
   },
   {
    "duration": 831,
    "start_time": "2022-09-08T20:28:37.017Z"
   },
   {
    "duration": 1111,
    "start_time": "2022-09-08T20:28:46.797Z"
   },
   {
    "duration": 232,
    "start_time": "2022-09-08T20:28:47.909Z"
   },
   {
    "duration": 12,
    "start_time": "2022-09-08T20:28:48.143Z"
   },
   {
    "duration": 29,
    "start_time": "2022-09-08T20:28:48.157Z"
   },
   {
    "duration": 32,
    "start_time": "2022-09-08T20:28:48.187Z"
   },
   {
    "duration": 54,
    "start_time": "2022-09-08T20:28:48.220Z"
   },
   {
    "duration": 65,
    "start_time": "2022-09-08T20:28:48.276Z"
   },
   {
    "duration": 13,
    "start_time": "2022-09-08T20:28:48.343Z"
   },
   {
    "duration": 8,
    "start_time": "2022-09-08T20:28:48.357Z"
   },
   {
    "duration": 11,
    "start_time": "2022-09-08T20:28:48.368Z"
   },
   {
    "duration": 28,
    "start_time": "2022-09-08T20:28:48.381Z"
   },
   {
    "duration": 7,
    "start_time": "2022-09-08T20:28:48.410Z"
   },
   {
    "duration": 11,
    "start_time": "2022-09-08T20:28:48.418Z"
   },
   {
    "duration": 7,
    "start_time": "2022-09-08T20:28:48.431Z"
   },
   {
    "duration": 8,
    "start_time": "2022-09-08T20:28:48.439Z"
   },
   {
    "duration": 19,
    "start_time": "2022-09-08T20:28:48.448Z"
   },
   {
    "duration": 9,
    "start_time": "2022-09-08T20:28:48.468Z"
   },
   {
    "duration": 18,
    "start_time": "2022-09-08T20:28:48.478Z"
   },
   {
    "duration": 13,
    "start_time": "2022-09-08T20:28:48.497Z"
   },
   {
    "duration": 43,
    "start_time": "2022-09-08T20:28:48.511Z"
   },
   {
    "duration": 15,
    "start_time": "2022-09-08T20:28:48.555Z"
   },
   {
    "duration": 12,
    "start_time": "2022-09-08T20:28:48.572Z"
   },
   {
    "duration": 34,
    "start_time": "2022-09-08T20:28:48.585Z"
   },
   {
    "duration": 3,
    "start_time": "2022-09-08T20:28:48.621Z"
   },
   {
    "duration": 21,
    "start_time": "2022-09-08T20:28:48.626Z"
   },
   {
    "duration": 150,
    "start_time": "2022-09-08T20:28:48.648Z"
   },
   {
    "duration": 105,
    "start_time": "2022-09-08T20:28:48.799Z"
   },
   {
    "duration": 0,
    "start_time": "2022-09-08T20:28:48.906Z"
   },
   {
    "duration": 1476,
    "start_time": "2022-09-08T20:30:26.172Z"
   },
   {
    "duration": 1098,
    "start_time": "2022-09-08T20:30:41.014Z"
   },
   {
    "duration": 239,
    "start_time": "2022-09-08T20:30:42.114Z"
   },
   {
    "duration": 11,
    "start_time": "2022-09-08T20:30:42.354Z"
   },
   {
    "duration": 36,
    "start_time": "2022-09-08T20:30:42.367Z"
   },
   {
    "duration": 32,
    "start_time": "2022-09-08T20:30:42.404Z"
   },
   {
    "duration": 50,
    "start_time": "2022-09-08T20:30:42.438Z"
   },
   {
    "duration": 65,
    "start_time": "2022-09-08T20:30:42.489Z"
   },
   {
    "duration": 13,
    "start_time": "2022-09-08T20:30:42.556Z"
   },
   {
    "duration": 10,
    "start_time": "2022-09-08T20:30:42.570Z"
   },
   {
    "duration": 8,
    "start_time": "2022-09-08T20:30:42.582Z"
   },
   {
    "duration": 23,
    "start_time": "2022-09-08T20:30:42.591Z"
   },
   {
    "duration": 9,
    "start_time": "2022-09-08T20:30:42.616Z"
   },
   {
    "duration": 11,
    "start_time": "2022-09-08T20:30:42.626Z"
   },
   {
    "duration": 5,
    "start_time": "2022-09-08T20:30:42.638Z"
   },
   {
    "duration": 10,
    "start_time": "2022-09-08T20:30:42.644Z"
   },
   {
    "duration": 8,
    "start_time": "2022-09-08T20:30:42.656Z"
   },
   {
    "duration": 7,
    "start_time": "2022-09-08T20:30:42.666Z"
   },
   {
    "duration": 37,
    "start_time": "2022-09-08T20:30:42.674Z"
   },
   {
    "duration": 12,
    "start_time": "2022-09-08T20:30:42.712Z"
   },
   {
    "duration": 37,
    "start_time": "2022-09-08T20:30:42.725Z"
   },
   {
    "duration": 14,
    "start_time": "2022-09-08T20:30:42.764Z"
   },
   {
    "duration": 30,
    "start_time": "2022-09-08T20:30:42.779Z"
   },
   {
    "duration": 17,
    "start_time": "2022-09-08T20:30:42.811Z"
   },
   {
    "duration": 3,
    "start_time": "2022-09-08T20:30:42.830Z"
   },
   {
    "duration": 18,
    "start_time": "2022-09-08T20:30:42.835Z"
   },
   {
    "duration": 148,
    "start_time": "2022-09-08T20:30:42.854Z"
   },
   {
    "duration": 5,
    "start_time": "2022-09-08T20:31:07.940Z"
   },
   {
    "duration": 11,
    "start_time": "2022-09-08T20:31:33.109Z"
   },
   {
    "duration": 11,
    "start_time": "2022-09-08T20:31:53.643Z"
   },
   {
    "duration": 10,
    "start_time": "2022-09-08T20:32:16.734Z"
   },
   {
    "duration": 14,
    "start_time": "2022-09-08T20:34:49.514Z"
   },
   {
    "duration": 16,
    "start_time": "2022-09-08T20:35:22.762Z"
   },
   {
    "duration": 7,
    "start_time": "2022-09-08T20:35:39.590Z"
   },
   {
    "duration": 21,
    "start_time": "2022-09-08T20:36:04.448Z"
   },
   {
    "duration": 4,
    "start_time": "2022-09-08T20:36:08.606Z"
   },
   {
    "duration": 6,
    "start_time": "2022-09-08T20:36:15.508Z"
   },
   {
    "duration": 17,
    "start_time": "2022-09-08T20:36:17.536Z"
   },
   {
    "duration": 5,
    "start_time": "2022-09-08T20:37:35.819Z"
   },
   {
    "duration": 6,
    "start_time": "2022-09-08T20:37:42.447Z"
   },
   {
    "duration": 12,
    "start_time": "2022-09-08T20:38:20.110Z"
   },
   {
    "duration": 11,
    "start_time": "2022-09-08T20:38:54.698Z"
   },
   {
    "duration": 18,
    "start_time": "2022-09-08T20:39:41.288Z"
   },
   {
    "duration": 10,
    "start_time": "2022-09-08T20:40:08.404Z"
   },
   {
    "duration": 12,
    "start_time": "2022-09-08T20:40:12.615Z"
   },
   {
    "duration": 17,
    "start_time": "2022-09-08T20:40:22.588Z"
   },
   {
    "duration": 42,
    "start_time": "2022-09-09T07:49:25.574Z"
   },
   {
    "duration": 1259,
    "start_time": "2022-09-09T07:49:31.297Z"
   },
   {
    "duration": 889,
    "start_time": "2022-09-09T07:49:32.558Z"
   },
   {
    "duration": 11,
    "start_time": "2022-09-09T07:49:33.449Z"
   },
   {
    "duration": 29,
    "start_time": "2022-09-09T07:49:33.462Z"
   },
   {
    "duration": 28,
    "start_time": "2022-09-09T07:49:33.493Z"
   },
   {
    "duration": 50,
    "start_time": "2022-09-09T07:49:33.523Z"
   },
   {
    "duration": 60,
    "start_time": "2022-09-09T07:49:33.575Z"
   },
   {
    "duration": 13,
    "start_time": "2022-09-09T07:49:33.637Z"
   },
   {
    "duration": 8,
    "start_time": "2022-09-09T07:49:33.651Z"
   },
   {
    "duration": 12,
    "start_time": "2022-09-09T07:49:33.661Z"
   },
   {
    "duration": 8,
    "start_time": "2022-09-09T07:49:33.674Z"
   },
   {
    "duration": 8,
    "start_time": "2022-09-09T07:49:33.705Z"
   },
   {
    "duration": 12,
    "start_time": "2022-09-09T07:49:33.714Z"
   },
   {
    "duration": 5,
    "start_time": "2022-09-09T07:49:33.727Z"
   },
   {
    "duration": 10,
    "start_time": "2022-09-09T07:49:33.734Z"
   },
   {
    "duration": 10,
    "start_time": "2022-09-09T07:49:33.745Z"
   },
   {
    "duration": 8,
    "start_time": "2022-09-09T07:49:33.757Z"
   },
   {
    "duration": 12,
    "start_time": "2022-09-09T07:49:33.766Z"
   },
   {
    "duration": 32,
    "start_time": "2022-09-09T07:49:33.780Z"
   },
   {
    "duration": 44,
    "start_time": "2022-09-09T07:49:33.814Z"
   },
   {
    "duration": 15,
    "start_time": "2022-09-09T07:49:33.859Z"
   },
   {
    "duration": 37,
    "start_time": "2022-09-09T07:49:33.876Z"
   },
   {
    "duration": 26,
    "start_time": "2022-09-09T07:49:33.915Z"
   },
   {
    "duration": 6,
    "start_time": "2022-09-09T07:49:33.942Z"
   },
   {
    "duration": 18,
    "start_time": "2022-09-09T07:49:33.949Z"
   },
   {
    "duration": 150,
    "start_time": "2022-09-09T07:49:33.969Z"
   },
   {
    "duration": 10,
    "start_time": "2022-09-09T07:49:34.120Z"
   },
   {
    "duration": 19,
    "start_time": "2022-09-09T07:49:34.132Z"
   },
   {
    "duration": 4,
    "start_time": "2022-09-09T07:49:34.152Z"
   },
   {
    "duration": 5,
    "start_time": "2022-09-09T07:50:08.236Z"
   },
   {
    "duration": 93,
    "start_time": "2022-09-09T07:50:25.347Z"
   },
   {
    "duration": 11,
    "start_time": "2022-09-09T07:50:42.210Z"
   },
   {
    "duration": 1286,
    "start_time": "2022-09-09T07:50:47.007Z"
   },
   {
    "duration": 1473,
    "start_time": "2022-09-09T07:51:01.286Z"
   },
   {
    "duration": 1270,
    "start_time": "2022-09-09T07:51:12.470Z"
   },
   {
    "duration": 1531,
    "start_time": "2022-09-09T07:51:19.490Z"
   },
   {
    "duration": 1352,
    "start_time": "2022-09-09T07:51:25.889Z"
   },
   {
    "duration": 4,
    "start_time": "2022-09-09T07:55:03.637Z"
   },
   {
    "duration": 19,
    "start_time": "2022-09-09T07:55:27.337Z"
   },
   {
    "duration": 199,
    "start_time": "2022-09-09T07:55:56.698Z"
   },
   {
    "duration": 93,
    "start_time": "2022-09-09T07:56:10.943Z"
   },
   {
    "duration": 79,
    "start_time": "2022-09-09T07:56:15.947Z"
   },
   {
    "duration": 91,
    "start_time": "2022-09-09T07:56:20.652Z"
   },
   {
    "duration": 91,
    "start_time": "2022-09-09T07:56:37.093Z"
   },
   {
    "duration": 127,
    "start_time": "2022-09-09T07:56:41.939Z"
   },
   {
    "duration": 64,
    "start_time": "2022-09-09T07:57:01.364Z"
   },
   {
    "duration": 62,
    "start_time": "2022-09-09T07:57:11.354Z"
   },
   {
    "duration": 55,
    "start_time": "2022-09-09T07:57:25.115Z"
   },
   {
    "duration": 63,
    "start_time": "2022-09-09T07:57:28.117Z"
   },
   {
    "duration": 66,
    "start_time": "2022-09-09T07:57:35.772Z"
   },
   {
    "duration": 63,
    "start_time": "2022-09-09T07:57:43.463Z"
   },
   {
    "duration": 208,
    "start_time": "2022-09-09T07:59:10.256Z"
   },
   {
    "duration": 4,
    "start_time": "2022-09-09T07:59:35.578Z"
   },
   {
    "duration": 61,
    "start_time": "2022-09-09T07:59:43.439Z"
   },
   {
    "duration": 68,
    "start_time": "2022-09-09T08:00:07.947Z"
   },
   {
    "duration": 63,
    "start_time": "2022-09-09T08:01:28.554Z"
   },
   {
    "duration": 111,
    "start_time": "2022-09-09T08:02:01.546Z"
   },
   {
    "duration": 4,
    "start_time": "2022-09-09T08:02:20.703Z"
   },
   {
    "duration": 76,
    "start_time": "2022-09-09T08:02:26.039Z"
   },
   {
    "duration": 61,
    "start_time": "2022-09-09T08:02:50.941Z"
   },
   {
    "duration": 57,
    "start_time": "2022-09-09T08:03:41.162Z"
   },
   {
    "duration": 128,
    "start_time": "2022-09-09T08:03:49.379Z"
   },
   {
    "duration": 71,
    "start_time": "2022-09-09T08:04:32.044Z"
   },
   {
    "duration": 81,
    "start_time": "2022-09-09T08:06:23.857Z"
   },
   {
    "duration": 139,
    "start_time": "2022-09-09T08:06:43.642Z"
   },
   {
    "duration": 149,
    "start_time": "2022-09-09T08:07:10.816Z"
   },
   {
    "duration": 66,
    "start_time": "2022-09-09T08:07:22.840Z"
   },
   {
    "duration": 105,
    "start_time": "2022-09-09T08:11:07.773Z"
   },
   {
    "duration": 71,
    "start_time": "2022-09-09T08:11:20.971Z"
   },
   {
    "duration": 77,
    "start_time": "2022-09-09T08:11:28.187Z"
   },
   {
    "duration": 97,
    "start_time": "2022-09-09T08:11:35.286Z"
   },
   {
    "duration": 87,
    "start_time": "2022-09-09T08:11:45.430Z"
   },
   {
    "duration": 163,
    "start_time": "2022-09-09T08:14:59.671Z"
   },
   {
    "duration": 105,
    "start_time": "2022-09-09T08:15:09.978Z"
   },
   {
    "duration": 107,
    "start_time": "2022-09-09T08:15:43.350Z"
   },
   {
    "duration": 87,
    "start_time": "2022-09-09T08:16:00.836Z"
   },
   {
    "duration": 12,
    "start_time": "2022-09-09T08:16:14.941Z"
   },
   {
    "duration": 34,
    "start_time": "2022-09-09T08:17:48.444Z"
   },
   {
    "duration": 17,
    "start_time": "2022-09-09T08:18:25.097Z"
   },
   {
    "duration": 77,
    "start_time": "2022-09-09T08:19:21.899Z"
   },
   {
    "duration": 4295,
    "start_time": "2022-09-09T08:20:07.103Z"
   },
   {
    "duration": 169,
    "start_time": "2022-09-09T08:20:52.054Z"
   },
   {
    "duration": 764,
    "start_time": "2022-09-09T08:21:13.344Z"
   },
   {
    "duration": 247,
    "start_time": "2022-09-09T08:22:07.847Z"
   },
   {
    "duration": 246,
    "start_time": "2022-09-09T08:22:14.602Z"
   },
   {
    "duration": 1056,
    "start_time": "2022-09-09T08:22:24.052Z"
   },
   {
    "duration": 232,
    "start_time": "2022-09-09T08:22:25.109Z"
   },
   {
    "duration": 11,
    "start_time": "2022-09-09T08:22:25.343Z"
   },
   {
    "duration": 29,
    "start_time": "2022-09-09T08:22:25.356Z"
   },
   {
    "duration": 31,
    "start_time": "2022-09-09T08:22:25.386Z"
   },
   {
    "duration": 52,
    "start_time": "2022-09-09T08:22:25.419Z"
   },
   {
    "duration": 66,
    "start_time": "2022-09-09T08:22:25.473Z"
   },
   {
    "duration": 14,
    "start_time": "2022-09-09T08:22:25.540Z"
   },
   {
    "duration": 8,
    "start_time": "2022-09-09T08:22:25.555Z"
   },
   {
    "duration": 10,
    "start_time": "2022-09-09T08:22:25.565Z"
   },
   {
    "duration": 8,
    "start_time": "2022-09-09T08:22:25.577Z"
   },
   {
    "duration": 8,
    "start_time": "2022-09-09T08:22:25.606Z"
   },
   {
    "duration": 11,
    "start_time": "2022-09-09T08:22:25.615Z"
   },
   {
    "duration": 5,
    "start_time": "2022-09-09T08:22:25.627Z"
   },
   {
    "duration": 9,
    "start_time": "2022-09-09T08:22:25.633Z"
   },
   {
    "duration": 10,
    "start_time": "2022-09-09T08:22:25.643Z"
   },
   {
    "duration": 7,
    "start_time": "2022-09-09T08:22:25.654Z"
   },
   {
    "duration": 14,
    "start_time": "2022-09-09T08:22:25.663Z"
   },
   {
    "duration": 29,
    "start_time": "2022-09-09T08:22:25.678Z"
   },
   {
    "duration": 43,
    "start_time": "2022-09-09T08:22:25.708Z"
   },
   {
    "duration": 14,
    "start_time": "2022-09-09T08:22:25.752Z"
   },
   {
    "duration": 11,
    "start_time": "2022-09-09T08:22:25.768Z"
   },
   {
    "duration": 20,
    "start_time": "2022-09-09T08:22:25.805Z"
   },
   {
    "duration": 3,
    "start_time": "2022-09-09T08:22:25.827Z"
   },
   {
    "duration": 19,
    "start_time": "2022-09-09T08:22:25.831Z"
   },
   {
    "duration": 114,
    "start_time": "2022-09-09T08:22:25.852Z"
   },
   {
    "duration": 165,
    "start_time": "2022-09-09T08:22:25.968Z"
   },
   {
    "duration": 20,
    "start_time": "2022-09-09T08:22:26.137Z"
   },
   {
    "duration": 23,
    "start_time": "2022-09-09T08:22:26.159Z"
   },
   {
    "duration": 280,
    "start_time": "2022-09-09T08:22:26.184Z"
   },
   {
    "duration": 992,
    "start_time": "2022-09-09T08:22:52.113Z"
   },
   {
    "duration": 183,
    "start_time": "2022-09-09T08:23:03.822Z"
   },
   {
    "duration": 160,
    "start_time": "2022-09-09T08:23:34.414Z"
   },
   {
    "duration": 165,
    "start_time": "2022-09-09T08:23:57.744Z"
   },
   {
    "duration": 213,
    "start_time": "2022-09-09T08:24:03.462Z"
   },
   {
    "duration": 164,
    "start_time": "2022-09-09T08:24:10.099Z"
   },
   {
    "duration": 155,
    "start_time": "2022-09-09T08:24:21.900Z"
   },
   {
    "duration": 173,
    "start_time": "2022-09-09T08:24:29.681Z"
   },
   {
    "duration": 161,
    "start_time": "2022-09-09T08:25:20.113Z"
   },
   {
    "duration": 169,
    "start_time": "2022-09-09T08:26:27.961Z"
   },
   {
    "duration": 14,
    "start_time": "2022-09-09T08:33:14.297Z"
   },
   {
    "duration": 10,
    "start_time": "2022-09-09T08:34:26.570Z"
   },
   {
    "duration": 11,
    "start_time": "2022-09-09T08:34:31.635Z"
   },
   {
    "duration": 19,
    "start_time": "2022-09-09T08:34:39.414Z"
   },
   {
    "duration": 17,
    "start_time": "2022-09-09T08:34:51.461Z"
   },
   {
    "duration": 1164,
    "start_time": "2022-09-09T08:35:38.084Z"
   },
   {
    "duration": 244,
    "start_time": "2022-09-09T08:35:39.250Z"
   },
   {
    "duration": 13,
    "start_time": "2022-09-09T08:35:39.496Z"
   },
   {
    "duration": 38,
    "start_time": "2022-09-09T08:35:39.511Z"
   },
   {
    "duration": 45,
    "start_time": "2022-09-09T08:35:39.551Z"
   },
   {
    "duration": 70,
    "start_time": "2022-09-09T08:35:39.598Z"
   },
   {
    "duration": 66,
    "start_time": "2022-09-09T08:35:39.669Z"
   },
   {
    "duration": 13,
    "start_time": "2022-09-09T08:35:39.737Z"
   },
   {
    "duration": 17,
    "start_time": "2022-09-09T08:35:39.751Z"
   },
   {
    "duration": 25,
    "start_time": "2022-09-09T08:35:39.770Z"
   },
   {
    "duration": 20,
    "start_time": "2022-09-09T08:35:39.796Z"
   },
   {
    "duration": 114,
    "start_time": "2022-09-09T08:35:39.818Z"
   },
   {
    "duration": 23,
    "start_time": "2022-09-09T08:35:39.933Z"
   },
   {
    "duration": 12,
    "start_time": "2022-09-09T08:35:39.958Z"
   },
   {
    "duration": 18,
    "start_time": "2022-09-09T08:35:39.972Z"
   },
   {
    "duration": 20,
    "start_time": "2022-09-09T08:35:39.991Z"
   },
   {
    "duration": 32,
    "start_time": "2022-09-09T08:35:40.013Z"
   },
   {
    "duration": 28,
    "start_time": "2022-09-09T08:35:40.047Z"
   },
   {
    "duration": 37,
    "start_time": "2022-09-09T08:35:40.077Z"
   },
   {
    "duration": 57,
    "start_time": "2022-09-09T08:35:40.116Z"
   },
   {
    "duration": 14,
    "start_time": "2022-09-09T08:35:40.174Z"
   },
   {
    "duration": 20,
    "start_time": "2022-09-09T08:35:40.190Z"
   },
   {
    "duration": 44,
    "start_time": "2022-09-09T08:35:40.212Z"
   },
   {
    "duration": 4,
    "start_time": "2022-09-09T08:35:40.258Z"
   },
   {
    "duration": 46,
    "start_time": "2022-09-09T08:35:40.264Z"
   },
   {
    "duration": 116,
    "start_time": "2022-09-09T08:35:40.312Z"
   },
   {
    "duration": 142,
    "start_time": "2022-09-09T08:35:40.430Z"
   },
   {
    "duration": 190,
    "start_time": "2022-09-09T08:35:40.575Z"
   },
   {
    "duration": 11,
    "start_time": "2022-09-09T08:35:40.766Z"
   },
   {
    "duration": 31,
    "start_time": "2022-09-09T08:35:40.779Z"
   },
   {
    "duration": 59,
    "start_time": "2022-09-09T08:39:36.450Z"
   },
   {
    "duration": 7,
    "start_time": "2022-09-09T08:39:49.694Z"
   },
   {
    "duration": 1152,
    "start_time": "2022-09-09T08:39:56.407Z"
   },
   {
    "duration": 976,
    "start_time": "2022-09-09T08:39:57.560Z"
   },
   {
    "duration": 14,
    "start_time": "2022-09-09T08:39:58.538Z"
   },
   {
    "duration": 40,
    "start_time": "2022-09-09T08:39:58.554Z"
   },
   {
    "duration": 48,
    "start_time": "2022-09-09T08:39:58.596Z"
   },
   {
    "duration": 76,
    "start_time": "2022-09-09T08:39:58.646Z"
   },
   {
    "duration": 66,
    "start_time": "2022-09-09T08:39:58.724Z"
   },
   {
    "duration": 29,
    "start_time": "2022-09-09T08:39:58.792Z"
   },
   {
    "duration": 12,
    "start_time": "2022-09-09T08:39:58.822Z"
   },
   {
    "duration": 13,
    "start_time": "2022-09-09T08:39:58.837Z"
   },
   {
    "duration": 10,
    "start_time": "2022-09-09T08:39:58.852Z"
   },
   {
    "duration": 9,
    "start_time": "2022-09-09T08:39:58.863Z"
   },
   {
    "duration": 46,
    "start_time": "2022-09-09T08:39:58.875Z"
   },
   {
    "duration": 14,
    "start_time": "2022-09-09T08:39:58.923Z"
   },
   {
    "duration": 9,
    "start_time": "2022-09-09T08:39:58.940Z"
   },
   {
    "duration": 15,
    "start_time": "2022-09-09T08:39:58.951Z"
   },
   {
    "duration": 9,
    "start_time": "2022-09-09T08:39:58.968Z"
   },
   {
    "duration": 36,
    "start_time": "2022-09-09T08:39:58.979Z"
   },
   {
    "duration": 20,
    "start_time": "2022-09-09T08:39:59.019Z"
   },
   {
    "duration": 49,
    "start_time": "2022-09-09T08:39:59.041Z"
   },
   {
    "duration": 41,
    "start_time": "2022-09-09T08:39:59.092Z"
   },
   {
    "duration": 14,
    "start_time": "2022-09-09T08:39:59.135Z"
   },
   {
    "duration": 36,
    "start_time": "2022-09-09T08:39:59.150Z"
   },
   {
    "duration": 22,
    "start_time": "2022-09-09T08:39:59.189Z"
   },
   {
    "duration": 25,
    "start_time": "2022-09-09T08:39:59.220Z"
   },
   {
    "duration": 115,
    "start_time": "2022-09-09T08:39:59.247Z"
   },
   {
    "duration": 164,
    "start_time": "2022-09-09T08:39:59.364Z"
   },
   {
    "duration": 225,
    "start_time": "2022-09-09T08:39:59.532Z"
   },
   {
    "duration": 13,
    "start_time": "2022-09-09T08:39:59.759Z"
   },
   {
    "duration": 36,
    "start_time": "2022-09-09T08:39:59.774Z"
   },
   {
    "duration": 83,
    "start_time": "2022-09-09T08:39:59.812Z"
   },
   {
    "duration": 47,
    "start_time": "2022-09-09T08:44:42.128Z"
   },
   {
    "duration": 1111,
    "start_time": "2022-09-09T08:44:48.438Z"
   },
   {
    "duration": 1045,
    "start_time": "2022-09-09T08:44:49.551Z"
   },
   {
    "duration": 11,
    "start_time": "2022-09-09T08:44:50.598Z"
   },
   {
    "duration": 59,
    "start_time": "2022-09-09T08:44:50.611Z"
   },
   {
    "duration": 28,
    "start_time": "2022-09-09T08:44:50.672Z"
   },
   {
    "duration": 62,
    "start_time": "2022-09-09T08:44:50.702Z"
   },
   {
    "duration": 72,
    "start_time": "2022-09-09T08:44:50.766Z"
   },
   {
    "duration": 15,
    "start_time": "2022-09-09T08:44:50.840Z"
   },
   {
    "duration": 9,
    "start_time": "2022-09-09T08:44:50.856Z"
   },
   {
    "duration": 19,
    "start_time": "2022-09-09T08:44:50.867Z"
   },
   {
    "duration": 24,
    "start_time": "2022-09-09T08:44:50.888Z"
   },
   {
    "duration": 43,
    "start_time": "2022-09-09T08:44:50.917Z"
   },
   {
    "duration": 12,
    "start_time": "2022-09-09T08:44:50.962Z"
   },
   {
    "duration": 14,
    "start_time": "2022-09-09T08:44:50.976Z"
   },
   {
    "duration": 7,
    "start_time": "2022-09-09T08:44:50.992Z"
   },
   {
    "duration": 17,
    "start_time": "2022-09-09T08:44:51.000Z"
   },
   {
    "duration": 23,
    "start_time": "2022-09-09T08:44:51.024Z"
   },
   {
    "duration": 11,
    "start_time": "2022-09-09T08:44:51.048Z"
   },
   {
    "duration": 12,
    "start_time": "2022-09-09T08:44:51.060Z"
   },
   {
    "duration": 11,
    "start_time": "2022-09-09T08:44:51.073Z"
   },
   {
    "duration": 60,
    "start_time": "2022-09-09T08:44:51.085Z"
   },
   {
    "duration": 15,
    "start_time": "2022-09-09T08:44:51.146Z"
   },
   {
    "duration": 12,
    "start_time": "2022-09-09T08:44:51.162Z"
   },
   {
    "duration": 47,
    "start_time": "2022-09-09T08:44:51.176Z"
   },
   {
    "duration": 11,
    "start_time": "2022-09-09T08:44:51.229Z"
   },
   {
    "duration": 22,
    "start_time": "2022-09-09T08:44:51.242Z"
   },
   {
    "duration": 104,
    "start_time": "2022-09-09T08:44:51.265Z"
   },
   {
    "duration": 166,
    "start_time": "2022-09-09T08:44:51.372Z"
   },
   {
    "duration": 216,
    "start_time": "2022-09-09T08:44:51.539Z"
   },
   {
    "duration": 10,
    "start_time": "2022-09-09T08:44:51.757Z"
   },
   {
    "duration": 19,
    "start_time": "2022-09-09T08:44:51.768Z"
   },
   {
    "duration": 85,
    "start_time": "2022-09-09T08:44:51.789Z"
   },
   {
    "duration": 8,
    "start_time": "2022-09-09T08:44:51.876Z"
   },
   {
    "duration": 1176,
    "start_time": "2022-09-09T08:45:46.883Z"
   },
   {
    "duration": 275,
    "start_time": "2022-09-09T08:45:48.061Z"
   },
   {
    "duration": 12,
    "start_time": "2022-09-09T08:45:48.338Z"
   },
   {
    "duration": 60,
    "start_time": "2022-09-09T08:45:48.352Z"
   },
   {
    "duration": 66,
    "start_time": "2022-09-09T08:45:48.413Z"
   },
   {
    "duration": 83,
    "start_time": "2022-09-09T08:45:48.480Z"
   },
   {
    "duration": 65,
    "start_time": "2022-09-09T08:45:48.565Z"
   },
   {
    "duration": 15,
    "start_time": "2022-09-09T08:45:48.631Z"
   },
   {
    "duration": 35,
    "start_time": "2022-09-09T08:45:48.647Z"
   },
   {
    "duration": 40,
    "start_time": "2022-09-09T08:45:48.684Z"
   },
   {
    "duration": 33,
    "start_time": "2022-09-09T08:45:48.731Z"
   },
   {
    "duration": 67,
    "start_time": "2022-09-09T08:45:48.766Z"
   },
   {
    "duration": 38,
    "start_time": "2022-09-09T08:45:48.835Z"
   },
   {
    "duration": 70,
    "start_time": "2022-09-09T08:45:48.874Z"
   },
   {
    "duration": 34,
    "start_time": "2022-09-09T08:45:48.946Z"
   },
   {
    "duration": 50,
    "start_time": "2022-09-09T08:45:48.982Z"
   },
   {
    "duration": 55,
    "start_time": "2022-09-09T08:45:49.033Z"
   },
   {
    "duration": 63,
    "start_time": "2022-09-09T08:45:49.089Z"
   },
   {
    "duration": 38,
    "start_time": "2022-09-09T08:45:49.153Z"
   },
   {
    "duration": 61,
    "start_time": "2022-09-09T08:45:49.193Z"
   },
   {
    "duration": 77,
    "start_time": "2022-09-09T08:45:49.255Z"
   },
   {
    "duration": 15,
    "start_time": "2022-09-09T08:45:49.333Z"
   },
   {
    "duration": 42,
    "start_time": "2022-09-09T08:45:49.349Z"
   },
   {
    "duration": 71,
    "start_time": "2022-09-09T08:45:49.393Z"
   },
   {
    "duration": 68,
    "start_time": "2022-09-09T08:45:49.466Z"
   },
   {
    "duration": 55,
    "start_time": "2022-09-09T08:45:49.536Z"
   },
   {
    "duration": 146,
    "start_time": "2022-09-09T08:45:49.592Z"
   },
   {
    "duration": 168,
    "start_time": "2022-09-09T08:45:49.741Z"
   },
   {
    "duration": 222,
    "start_time": "2022-09-09T08:45:49.910Z"
   },
   {
    "duration": 10,
    "start_time": "2022-09-09T08:45:50.134Z"
   },
   {
    "duration": 52,
    "start_time": "2022-09-09T08:45:50.145Z"
   },
   {
    "duration": 92,
    "start_time": "2022-09-09T08:45:50.199Z"
   },
   {
    "duration": 7,
    "start_time": "2022-09-09T08:45:50.293Z"
   },
   {
    "duration": 422,
    "start_time": "2022-09-09T08:45:50.301Z"
   },
   {
    "duration": 383,
    "start_time": "2022-09-09T08:47:10.451Z"
   },
   {
    "duration": 299,
    "start_time": "2022-09-09T08:47:47.365Z"
   },
   {
    "duration": 91,
    "start_time": "2022-09-09T08:47:54.441Z"
   },
   {
    "duration": 13,
    "start_time": "2022-09-09T08:48:13.840Z"
   },
   {
    "duration": 1115,
    "start_time": "2022-09-09T08:48:20.721Z"
   },
   {
    "duration": 259,
    "start_time": "2022-09-09T08:48:21.838Z"
   },
   {
    "duration": 24,
    "start_time": "2022-09-09T08:48:22.098Z"
   },
   {
    "duration": 31,
    "start_time": "2022-09-09T08:48:22.126Z"
   },
   {
    "duration": 35,
    "start_time": "2022-09-09T08:48:22.158Z"
   },
   {
    "duration": 59,
    "start_time": "2022-09-09T08:48:22.194Z"
   },
   {
    "duration": 71,
    "start_time": "2022-09-09T08:48:22.255Z"
   },
   {
    "duration": 22,
    "start_time": "2022-09-09T08:48:22.329Z"
   },
   {
    "duration": 15,
    "start_time": "2022-09-09T08:48:22.353Z"
   },
   {
    "duration": 43,
    "start_time": "2022-09-09T08:48:22.372Z"
   },
   {
    "duration": 9,
    "start_time": "2022-09-09T08:48:22.420Z"
   },
   {
    "duration": 37,
    "start_time": "2022-09-09T08:48:22.431Z"
   },
   {
    "duration": 15,
    "start_time": "2022-09-09T08:48:22.470Z"
   },
   {
    "duration": 12,
    "start_time": "2022-09-09T08:48:22.487Z"
   },
   {
    "duration": 19,
    "start_time": "2022-09-09T08:48:22.508Z"
   },
   {
    "duration": 15,
    "start_time": "2022-09-09T08:48:22.528Z"
   },
   {
    "duration": 13,
    "start_time": "2022-09-09T08:48:22.545Z"
   },
   {
    "duration": 10,
    "start_time": "2022-09-09T08:48:22.560Z"
   },
   {
    "duration": 18,
    "start_time": "2022-09-09T08:48:22.572Z"
   },
   {
    "duration": 22,
    "start_time": "2022-09-09T08:48:22.592Z"
   },
   {
    "duration": 66,
    "start_time": "2022-09-09T08:48:22.616Z"
   },
   {
    "duration": 30,
    "start_time": "2022-09-09T08:48:22.684Z"
   },
   {
    "duration": 20,
    "start_time": "2022-09-09T08:48:22.715Z"
   },
   {
    "duration": 32,
    "start_time": "2022-09-09T08:48:22.737Z"
   },
   {
    "duration": 5,
    "start_time": "2022-09-09T08:48:22.771Z"
   },
   {
    "duration": 40,
    "start_time": "2022-09-09T08:48:22.778Z"
   },
   {
    "duration": 107,
    "start_time": "2022-09-09T08:48:22.820Z"
   },
   {
    "duration": 169,
    "start_time": "2022-09-09T08:48:22.930Z"
   },
   {
    "duration": 224,
    "start_time": "2022-09-09T08:48:23.107Z"
   },
   {
    "duration": 12,
    "start_time": "2022-09-09T08:48:23.333Z"
   },
   {
    "duration": 17,
    "start_time": "2022-09-09T08:48:23.347Z"
   },
   {
    "duration": 77,
    "start_time": "2022-09-09T08:48:23.365Z"
   },
   {
    "duration": 110,
    "start_time": "2022-09-09T08:48:23.444Z"
   },
   {
    "duration": 51,
    "start_time": "2022-09-09T08:48:38.564Z"
   },
   {
    "duration": 16,
    "start_time": "2022-09-09T08:48:39.390Z"
   },
   {
    "duration": 360,
    "start_time": "2022-09-09T08:48:47.785Z"
   },
   {
    "duration": 425,
    "start_time": "2022-09-09T08:49:10.443Z"
   },
   {
    "duration": 343,
    "start_time": "2022-09-09T08:49:21.755Z"
   },
   {
    "duration": 360,
    "start_time": "2022-09-09T08:49:26.417Z"
   },
   {
    "duration": 330,
    "start_time": "2022-09-09T08:49:34.446Z"
   },
   {
    "duration": 368,
    "start_time": "2022-09-09T08:49:38.922Z"
   },
   {
    "duration": 439,
    "start_time": "2022-09-09T08:49:51.650Z"
   },
   {
    "duration": 423,
    "start_time": "2022-09-09T08:49:56.075Z"
   },
   {
    "duration": 409,
    "start_time": "2022-09-09T08:51:07.686Z"
   },
   {
    "duration": 12,
    "start_time": "2022-09-09T08:51:14.299Z"
   },
   {
    "duration": 444,
    "start_time": "2022-09-09T08:53:13.589Z"
   },
   {
    "duration": 360,
    "start_time": "2022-09-09T08:53:24.021Z"
   },
   {
    "duration": 390,
    "start_time": "2022-09-09T08:53:28.995Z"
   },
   {
    "duration": 480,
    "start_time": "2022-09-09T08:53:40.821Z"
   },
   {
    "duration": 429,
    "start_time": "2022-09-09T08:53:51.337Z"
   },
   {
    "duration": 470,
    "start_time": "2022-09-09T08:54:00.864Z"
   },
   {
    "duration": 390,
    "start_time": "2022-09-09T08:54:18.445Z"
   },
   {
    "duration": 419,
    "start_time": "2022-09-09T08:54:31.324Z"
   },
   {
    "duration": 494,
    "start_time": "2022-09-09T08:54:47.562Z"
   },
   {
    "duration": 418,
    "start_time": "2022-09-09T08:55:07.326Z"
   },
   {
    "duration": 393,
    "start_time": "2022-09-09T08:55:22.028Z"
   },
   {
    "duration": 386,
    "start_time": "2022-09-09T08:56:08.405Z"
   },
   {
    "duration": 69,
    "start_time": "2022-09-09T09:00:49.209Z"
   },
   {
    "duration": 162,
    "start_time": "2022-09-09T09:05:51.939Z"
   },
   {
    "duration": 167,
    "start_time": "2022-09-09T09:06:15.517Z"
   },
   {
    "duration": 156,
    "start_time": "2022-09-09T09:07:10.521Z"
   },
   {
    "duration": 151,
    "start_time": "2022-09-09T09:09:46.675Z"
   },
   {
    "duration": 297,
    "start_time": "2022-09-09T09:10:01.175Z"
   },
   {
    "duration": 166,
    "start_time": "2022-09-09T09:10:09.391Z"
   },
   {
    "duration": 90,
    "start_time": "2022-09-09T09:10:14.253Z"
   },
   {
    "duration": 158,
    "start_time": "2022-09-09T09:10:17.937Z"
   },
   {
    "duration": 153,
    "start_time": "2022-09-09T09:10:23.158Z"
   },
   {
    "duration": 153,
    "start_time": "2022-09-09T09:11:23.534Z"
   },
   {
    "duration": 9,
    "start_time": "2022-09-09T09:13:34.717Z"
   },
   {
    "duration": 1456,
    "start_time": "2022-09-09T09:13:53.818Z"
   },
   {
    "duration": 9,
    "start_time": "2022-09-09T09:14:51.314Z"
   },
   {
    "duration": 1856,
    "start_time": "2022-09-09T09:15:05.744Z"
   },
   {
    "duration": 7,
    "start_time": "2022-09-09T09:15:34.897Z"
   },
   {
    "duration": 9,
    "start_time": "2022-09-09T09:17:40.781Z"
   },
   {
    "duration": 33,
    "start_time": "2022-09-09T09:17:45.928Z"
   },
   {
    "duration": 29,
    "start_time": "2022-09-09T09:17:53.533Z"
   },
   {
    "duration": 5,
    "start_time": "2022-09-09T09:17:55.037Z"
   },
   {
    "duration": 7,
    "start_time": "2022-09-09T09:18:07.918Z"
   },
   {
    "duration": 143,
    "start_time": "2022-09-09T09:27:34.759Z"
   },
   {
    "duration": 151,
    "start_time": "2022-09-09T09:31:17.040Z"
   },
   {
    "duration": 141,
    "start_time": "2022-09-09T09:31:25.037Z"
   },
   {
    "duration": 144,
    "start_time": "2022-09-09T09:31:44.988Z"
   },
   {
    "duration": 159,
    "start_time": "2022-09-09T09:32:12.792Z"
   },
   {
    "duration": 469,
    "start_time": "2022-09-09T09:32:44.508Z"
   },
   {
    "duration": 357,
    "start_time": "2022-09-09T09:32:50.764Z"
   },
   {
    "duration": 132,
    "start_time": "2022-09-09T09:33:40.517Z"
   },
   {
    "duration": 148,
    "start_time": "2022-09-09T09:33:49.695Z"
   },
   {
    "duration": 144,
    "start_time": "2022-09-09T09:34:54.322Z"
   },
   {
    "duration": 146,
    "start_time": "2022-09-09T09:35:06.533Z"
   },
   {
    "duration": 145,
    "start_time": "2022-09-09T09:35:47.701Z"
   },
   {
    "duration": 24,
    "start_time": "2022-09-09T09:37:15.867Z"
   },
   {
    "duration": 21,
    "start_time": "2022-09-09T09:37:32.058Z"
   },
   {
    "duration": 22,
    "start_time": "2022-09-09T09:38:20.133Z"
   },
   {
    "duration": 13,
    "start_time": "2022-09-09T09:38:30.310Z"
   },
   {
    "duration": 143,
    "start_time": "2022-09-09T09:39:23.782Z"
   },
   {
    "duration": 154,
    "start_time": "2022-09-09T09:39:27.917Z"
   },
   {
    "duration": 9,
    "start_time": "2022-09-09T09:39:53.508Z"
   },
   {
    "duration": 87,
    "start_time": "2022-09-09T09:40:01.065Z"
   },
   {
    "duration": 3,
    "start_time": "2022-09-09T09:40:10.864Z"
   },
   {
    "duration": 16,
    "start_time": "2022-09-09T09:40:56.245Z"
   },
   {
    "duration": 135,
    "start_time": "2022-09-09T09:41:39.321Z"
   },
   {
    "duration": 139,
    "start_time": "2022-09-09T09:41:44.807Z"
   },
   {
    "duration": 220,
    "start_time": "2022-09-09T09:41:51.767Z"
   },
   {
    "duration": 128,
    "start_time": "2022-09-09T09:42:25.764Z"
   },
   {
    "duration": 136,
    "start_time": "2022-09-09T09:42:42.021Z"
   },
   {
    "duration": 129,
    "start_time": "2022-09-09T09:42:51.172Z"
   },
   {
    "duration": 137,
    "start_time": "2022-09-09T09:42:59.460Z"
   },
   {
    "duration": 122,
    "start_time": "2022-09-09T09:43:03.169Z"
   },
   {
    "duration": 136,
    "start_time": "2022-09-09T09:43:06.698Z"
   },
   {
    "duration": 158,
    "start_time": "2022-09-09T09:43:12.077Z"
   },
   {
    "duration": 130,
    "start_time": "2022-09-09T09:43:17.725Z"
   },
   {
    "duration": 148,
    "start_time": "2022-09-09T09:43:27.092Z"
   },
   {
    "duration": 140,
    "start_time": "2022-09-09T09:43:32.714Z"
   },
   {
    "duration": 10,
    "start_time": "2022-09-09T09:44:16.526Z"
   },
   {
    "duration": 11,
    "start_time": "2022-09-09T09:44:52.397Z"
   },
   {
    "duration": 36,
    "start_time": "2022-09-09T09:44:57.686Z"
   },
   {
    "duration": 25,
    "start_time": "2022-09-09T09:45:05.664Z"
   },
   {
    "duration": 175,
    "start_time": "2022-09-09T09:48:10.220Z"
   },
   {
    "duration": 161,
    "start_time": "2022-09-09T09:48:16.810Z"
   },
   {
    "duration": 256,
    "start_time": "2022-09-09T09:48:30.030Z"
   },
   {
    "duration": 172,
    "start_time": "2022-09-09T09:49:12.180Z"
   },
   {
    "duration": 147,
    "start_time": "2022-09-09T09:49:21.727Z"
   },
   {
    "duration": 137,
    "start_time": "2022-09-09T09:49:31.826Z"
   },
   {
    "duration": 11,
    "start_time": "2022-09-09T09:52:23.215Z"
   },
   {
    "duration": 1276,
    "start_time": "2022-09-09T09:54:12.694Z"
   },
   {
    "duration": 280,
    "start_time": "2022-09-09T09:54:13.972Z"
   },
   {
    "duration": 14,
    "start_time": "2022-09-09T09:54:14.253Z"
   },
   {
    "duration": 35,
    "start_time": "2022-09-09T09:54:14.269Z"
   },
   {
    "duration": 35,
    "start_time": "2022-09-09T09:54:14.306Z"
   },
   {
    "duration": 78,
    "start_time": "2022-09-09T09:54:14.343Z"
   },
   {
    "duration": 69,
    "start_time": "2022-09-09T09:54:14.423Z"
   },
   {
    "duration": 22,
    "start_time": "2022-09-09T09:54:14.493Z"
   },
   {
    "duration": 9,
    "start_time": "2022-09-09T09:54:14.517Z"
   },
   {
    "duration": 12,
    "start_time": "2022-09-09T09:54:14.529Z"
   },
   {
    "duration": 10,
    "start_time": "2022-09-09T09:54:14.543Z"
   },
   {
    "duration": 66,
    "start_time": "2022-09-09T09:54:14.555Z"
   },
   {
    "duration": 11,
    "start_time": "2022-09-09T09:54:14.622Z"
   },
   {
    "duration": 13,
    "start_time": "2022-09-09T09:54:14.635Z"
   },
   {
    "duration": 6,
    "start_time": "2022-09-09T09:54:14.650Z"
   },
   {
    "duration": 9,
    "start_time": "2022-09-09T09:54:14.658Z"
   },
   {
    "duration": 42,
    "start_time": "2022-09-09T09:54:14.669Z"
   },
   {
    "duration": 8,
    "start_time": "2022-09-09T09:54:14.713Z"
   },
   {
    "duration": 13,
    "start_time": "2022-09-09T09:54:14.723Z"
   },
   {
    "duration": 8,
    "start_time": "2022-09-09T09:54:14.738Z"
   },
   {
    "duration": 77,
    "start_time": "2022-09-09T09:54:14.748Z"
   },
   {
    "duration": 420,
    "start_time": "2022-09-09T09:54:14.826Z"
   },
   {
    "duration": 24,
    "start_time": "2022-09-09T09:54:15.249Z"
   },
   {
    "duration": 13,
    "start_time": "2022-09-09T09:54:15.275Z"
   },
   {
    "duration": 21,
    "start_time": "2022-09-09T09:54:15.306Z"
   },
   {
    "duration": 21,
    "start_time": "2022-09-09T09:54:15.329Z"
   },
   {
    "duration": 27,
    "start_time": "2022-09-09T09:54:15.351Z"
   },
   {
    "duration": 103,
    "start_time": "2022-09-09T09:54:15.381Z"
   },
   {
    "duration": 158,
    "start_time": "2022-09-09T09:54:15.486Z"
   },
   {
    "duration": 185,
    "start_time": "2022-09-09T09:54:15.646Z"
   },
   {
    "duration": 12,
    "start_time": "2022-09-09T09:54:15.833Z"
   },
   {
    "duration": 46,
    "start_time": "2022-09-09T09:54:15.846Z"
   },
   {
    "duration": 198,
    "start_time": "2022-09-09T09:54:15.893Z"
   },
   {
    "duration": 189,
    "start_time": "2022-09-09T09:54:16.094Z"
   },
   {
    "duration": 37,
    "start_time": "2022-09-09T09:54:16.285Z"
   },
   {
    "duration": 231,
    "start_time": "2022-09-09T09:54:16.323Z"
   },
   {
    "duration": 153,
    "start_time": "2022-09-09T09:54:58.229Z"
   },
   {
    "duration": 136,
    "start_time": "2022-09-09T09:55:15.301Z"
   },
   {
    "duration": 26,
    "start_time": "2022-09-09T09:55:20.438Z"
   },
   {
    "duration": 137,
    "start_time": "2022-09-09T09:55:23.200Z"
   },
   {
    "duration": 217,
    "start_time": "2022-09-09T10:22:30.418Z"
   },
   {
    "duration": 133,
    "start_time": "2022-09-09T10:23:04.358Z"
   },
   {
    "duration": 156,
    "start_time": "2022-09-09T10:23:26.477Z"
   },
   {
    "duration": 109,
    "start_time": "2022-09-09T10:23:50.860Z"
   },
   {
    "duration": 81,
    "start_time": "2022-09-09T10:23:55.253Z"
   },
   {
    "duration": 89,
    "start_time": "2022-09-09T10:24:08.448Z"
   },
   {
    "duration": 84,
    "start_time": "2022-09-09T10:26:18.540Z"
   },
   {
    "duration": 167,
    "start_time": "2022-09-09T10:26:52.976Z"
   },
   {
    "duration": 4,
    "start_time": "2022-09-09T10:27:20.383Z"
   },
   {
    "duration": 170,
    "start_time": "2022-09-09T10:27:24.353Z"
   },
   {
    "duration": 123,
    "start_time": "2022-09-09T10:31:46.405Z"
   },
   {
    "duration": 94,
    "start_time": "2022-09-09T10:31:59.418Z"
   },
   {
    "duration": 221,
    "start_time": "2022-09-09T10:32:27.586Z"
   },
   {
    "duration": 80,
    "start_time": "2022-09-09T10:32:33.809Z"
   },
   {
    "duration": 273,
    "start_time": "2022-09-09T10:33:54.355Z"
   },
   {
    "duration": 778,
    "start_time": "2022-09-09T10:34:39.763Z"
   },
   {
    "duration": 3886,
    "start_time": "2022-09-09T10:35:20.394Z"
   },
   {
    "duration": 116,
    "start_time": "2022-09-09T10:38:31.677Z"
   },
   {
    "duration": 576,
    "start_time": "2022-09-09T10:38:49.843Z"
   },
   {
    "duration": 749,
    "start_time": "2022-09-09T10:40:11.625Z"
   },
   {
    "duration": 538,
    "start_time": "2022-09-09T10:44:40.676Z"
   },
   {
    "duration": 584,
    "start_time": "2022-09-09T10:46:47.930Z"
   },
   {
    "duration": 9,
    "start_time": "2022-09-09T10:47:40.461Z"
   },
   {
    "duration": 114,
    "start_time": "2022-09-09T10:47:51.209Z"
   },
   {
    "duration": 175,
    "start_time": "2022-09-09T10:50:50.786Z"
   },
   {
    "duration": 12,
    "start_time": "2022-09-09T10:51:28.474Z"
   },
   {
    "duration": 228,
    "start_time": "2022-09-09T10:51:47.542Z"
   },
   {
    "duration": 230,
    "start_time": "2022-09-09T10:51:57.818Z"
   },
   {
    "duration": 215,
    "start_time": "2022-09-09T10:52:55.778Z"
   },
   {
    "duration": 4,
    "start_time": "2022-09-09T10:53:00.171Z"
   },
   {
    "duration": 195,
    "start_time": "2022-09-09T10:53:04.696Z"
   },
   {
    "duration": 261,
    "start_time": "2022-09-09T10:53:13.561Z"
   },
   {
    "duration": 319,
    "start_time": "2022-09-09T10:53:33.903Z"
   },
   {
    "duration": 17,
    "start_time": "2022-09-09T10:55:07.936Z"
   },
   {
    "duration": 140,
    "start_time": "2022-09-09T10:55:23.421Z"
   },
   {
    "duration": 137,
    "start_time": "2022-09-09T10:55:57.341Z"
   },
   {
    "duration": 131,
    "start_time": "2022-09-09T10:56:04.394Z"
   },
   {
    "duration": 138,
    "start_time": "2022-09-09T10:56:09.498Z"
   },
   {
    "duration": 145,
    "start_time": "2022-09-09T10:56:13.288Z"
   },
   {
    "duration": 136,
    "start_time": "2022-09-09T10:56:31.178Z"
   },
   {
    "duration": 133,
    "start_time": "2022-09-09T10:56:42.513Z"
   },
   {
    "duration": 137,
    "start_time": "2022-09-09T10:56:46.538Z"
   },
   {
    "duration": 135,
    "start_time": "2022-09-09T10:57:28.004Z"
   },
   {
    "duration": 8,
    "start_time": "2022-09-09T11:04:42.248Z"
   },
   {
    "duration": 4,
    "start_time": "2022-09-09T11:04:51.240Z"
   },
   {
    "duration": 4,
    "start_time": "2022-09-09T11:05:47.286Z"
   },
   {
    "duration": 1473,
    "start_time": "2022-09-09T11:08:44.329Z"
   },
   {
    "duration": 156,
    "start_time": "2022-09-09T11:09:51.793Z"
   },
   {
    "duration": 1108,
    "start_time": "2022-09-09T11:10:42.405Z"
   },
   {
    "duration": 248,
    "start_time": "2022-09-09T11:10:43.514Z"
   },
   {
    "duration": 11,
    "start_time": "2022-09-09T11:10:43.764Z"
   },
   {
    "duration": 40,
    "start_time": "2022-09-09T11:10:43.777Z"
   },
   {
    "duration": 41,
    "start_time": "2022-09-09T11:10:43.819Z"
   },
   {
    "duration": 72,
    "start_time": "2022-09-09T11:10:43.862Z"
   },
   {
    "duration": 57,
    "start_time": "2022-09-09T11:10:43.935Z"
   },
   {
    "duration": 21,
    "start_time": "2022-09-09T11:10:43.994Z"
   },
   {
    "duration": 9,
    "start_time": "2022-09-09T11:10:44.016Z"
   },
   {
    "duration": 30,
    "start_time": "2022-09-09T11:10:44.027Z"
   },
   {
    "duration": 11,
    "start_time": "2022-09-09T11:10:44.058Z"
   },
   {
    "duration": 44,
    "start_time": "2022-09-09T11:10:44.071Z"
   },
   {
    "duration": 7,
    "start_time": "2022-09-09T11:10:44.117Z"
   },
   {
    "duration": 25,
    "start_time": "2022-09-09T11:10:44.126Z"
   },
   {
    "duration": 13,
    "start_time": "2022-09-09T11:10:44.152Z"
   },
   {
    "duration": 13,
    "start_time": "2022-09-09T11:10:44.166Z"
   },
   {
    "duration": 35,
    "start_time": "2022-09-09T11:10:44.181Z"
   },
   {
    "duration": 17,
    "start_time": "2022-09-09T11:10:44.218Z"
   },
   {
    "duration": 29,
    "start_time": "2022-09-09T11:10:44.236Z"
   },
   {
    "duration": 22,
    "start_time": "2022-09-09T11:10:44.266Z"
   },
   {
    "duration": 71,
    "start_time": "2022-09-09T11:10:44.289Z"
   },
   {
    "duration": 392,
    "start_time": "2022-09-09T11:10:44.361Z"
   },
   {
    "duration": 15,
    "start_time": "2022-09-09T11:10:44.754Z"
   },
   {
    "duration": 20,
    "start_time": "2022-09-09T11:10:44.770Z"
   },
   {
    "duration": 38,
    "start_time": "2022-09-09T11:10:44.805Z"
   },
   {
    "duration": 10,
    "start_time": "2022-09-09T11:10:44.844Z"
   },
   {
    "duration": 24,
    "start_time": "2022-09-09T11:10:44.855Z"
   },
   {
    "duration": 90,
    "start_time": "2022-09-09T11:10:44.882Z"
   },
   {
    "duration": 145,
    "start_time": "2022-09-09T11:10:44.973Z"
   },
   {
    "duration": 172,
    "start_time": "2022-09-09T11:10:45.120Z"
   },
   {
    "duration": 14,
    "start_time": "2022-09-09T11:10:45.294Z"
   },
   {
    "duration": 29,
    "start_time": "2022-09-09T11:10:45.310Z"
   },
   {
    "duration": 171,
    "start_time": "2022-09-09T11:10:45.341Z"
   },
   {
    "duration": 127,
    "start_time": "2022-09-09T11:10:45.514Z"
   },
   {
    "duration": 26,
    "start_time": "2022-09-09T11:10:45.643Z"
   },
   {
    "duration": 218,
    "start_time": "2022-09-09T11:10:45.670Z"
   },
   {
    "duration": 152,
    "start_time": "2022-09-09T11:10:45.889Z"
   },
   {
    "duration": 7,
    "start_time": "2022-09-09T11:10:46.043Z"
   },
   {
    "duration": 315,
    "start_time": "2022-09-09T11:10:46.052Z"
   },
   {
    "duration": 10,
    "start_time": "2022-09-09T11:11:33.349Z"
   },
   {
    "duration": 8,
    "start_time": "2022-09-09T11:12:17.405Z"
   },
   {
    "duration": 6,
    "start_time": "2022-09-09T11:12:29.299Z"
   },
   {
    "duration": 9,
    "start_time": "2022-09-09T11:12:47.327Z"
   },
   {
    "duration": 9,
    "start_time": "2022-09-09T11:13:59.031Z"
   },
   {
    "duration": 4,
    "start_time": "2022-09-09T11:14:05.699Z"
   },
   {
    "duration": 132,
    "start_time": "2022-09-09T11:14:17.106Z"
   },
   {
    "duration": 130,
    "start_time": "2022-09-09T11:14:30.548Z"
   },
   {
    "duration": 131,
    "start_time": "2022-09-09T11:14:35.390Z"
   },
   {
    "duration": 147,
    "start_time": "2022-09-09T11:14:58.737Z"
   },
   {
    "duration": 132,
    "start_time": "2022-09-09T11:23:30.765Z"
   },
   {
    "duration": 1204,
    "start_time": "2022-09-09T11:23:42.190Z"
   },
   {
    "duration": 278,
    "start_time": "2022-09-09T11:23:43.397Z"
   },
   {
    "duration": 12,
    "start_time": "2022-09-09T11:23:43.676Z"
   },
   {
    "duration": 28,
    "start_time": "2022-09-09T11:23:43.690Z"
   },
   {
    "duration": 29,
    "start_time": "2022-09-09T11:23:43.719Z"
   },
   {
    "duration": 66,
    "start_time": "2022-09-09T11:23:43.749Z"
   },
   {
    "duration": 55,
    "start_time": "2022-09-09T11:23:43.817Z"
   },
   {
    "duration": 14,
    "start_time": "2022-09-09T11:23:43.873Z"
   },
   {
    "duration": 24,
    "start_time": "2022-09-09T11:23:43.888Z"
   },
   {
    "duration": 16,
    "start_time": "2022-09-09T11:23:43.914Z"
   },
   {
    "duration": 11,
    "start_time": "2022-09-09T11:23:43.932Z"
   },
   {
    "duration": 63,
    "start_time": "2022-09-09T11:23:43.945Z"
   },
   {
    "duration": 12,
    "start_time": "2022-09-09T11:23:44.010Z"
   },
   {
    "duration": 31,
    "start_time": "2022-09-09T11:23:44.024Z"
   },
   {
    "duration": 30,
    "start_time": "2022-09-09T11:23:44.057Z"
   },
   {
    "duration": 18,
    "start_time": "2022-09-09T11:23:44.089Z"
   },
   {
    "duration": 24,
    "start_time": "2022-09-09T11:23:44.109Z"
   },
   {
    "duration": 21,
    "start_time": "2022-09-09T11:23:44.135Z"
   },
   {
    "duration": 18,
    "start_time": "2022-09-09T11:23:44.158Z"
   },
   {
    "duration": 33,
    "start_time": "2022-09-09T11:23:44.177Z"
   },
   {
    "duration": 75,
    "start_time": "2022-09-09T11:23:44.212Z"
   },
   {
    "duration": 444,
    "start_time": "2022-09-09T11:23:44.291Z"
   },
   {
    "duration": 23,
    "start_time": "2022-09-09T11:23:44.737Z"
   },
   {
    "duration": 17,
    "start_time": "2022-09-09T11:23:44.763Z"
   },
   {
    "duration": 41,
    "start_time": "2022-09-09T11:23:44.782Z"
   },
   {
    "duration": 4,
    "start_time": "2022-09-09T11:23:44.824Z"
   },
   {
    "duration": 29,
    "start_time": "2022-09-09T11:23:44.830Z"
   },
   {
    "duration": 107,
    "start_time": "2022-09-09T11:23:44.862Z"
   },
   {
    "duration": 157,
    "start_time": "2022-09-09T11:23:44.971Z"
   },
   {
    "duration": 198,
    "start_time": "2022-09-09T11:23:45.130Z"
   },
   {
    "duration": 12,
    "start_time": "2022-09-09T11:23:45.330Z"
   },
   {
    "duration": 22,
    "start_time": "2022-09-09T11:23:45.344Z"
   },
   {
    "duration": 183,
    "start_time": "2022-09-09T11:23:45.368Z"
   },
   {
    "duration": 145,
    "start_time": "2022-09-09T11:23:45.553Z"
   },
   {
    "duration": 32,
    "start_time": "2022-09-09T11:23:45.700Z"
   },
   {
    "duration": 260,
    "start_time": "2022-09-09T11:23:45.734Z"
   },
   {
    "duration": 180,
    "start_time": "2022-09-09T11:23:45.997Z"
   },
   {
    "duration": 5,
    "start_time": "2022-09-09T11:23:46.179Z"
   },
   {
    "duration": 189,
    "start_time": "2022-09-09T11:23:46.186Z"
   },
   {
    "duration": 140,
    "start_time": "2022-09-09T11:23:46.377Z"
   },
   {
    "duration": 165,
    "start_time": "2022-09-09T11:24:05.396Z"
   },
   {
    "duration": 124,
    "start_time": "2022-09-09T11:24:08.875Z"
   },
   {
    "duration": 156,
    "start_time": "2022-09-09T11:24:13.128Z"
   },
   {
    "duration": 154,
    "start_time": "2022-09-09T11:24:17.511Z"
   },
   {
    "duration": 131,
    "start_time": "2022-09-09T11:24:21.755Z"
   },
   {
    "duration": 5,
    "start_time": "2022-09-09T11:24:32.431Z"
   },
   {
    "duration": 166,
    "start_time": "2022-09-09T11:24:35.933Z"
   },
   {
    "duration": 29,
    "start_time": "2022-09-09T11:25:46.529Z"
   },
   {
    "duration": 16,
    "start_time": "2022-09-09T11:26:09.347Z"
   },
   {
    "duration": 19,
    "start_time": "2022-09-09T11:26:46.303Z"
   },
   {
    "duration": 8,
    "start_time": "2022-09-09T11:27:24.926Z"
   },
   {
    "duration": 12,
    "start_time": "2022-09-09T11:27:43.264Z"
   },
   {
    "duration": 9,
    "start_time": "2022-09-09T11:28:38.839Z"
   },
   {
    "duration": 15,
    "start_time": "2022-09-09T11:28:42.303Z"
   },
   {
    "duration": 11,
    "start_time": "2022-09-09T11:29:25.770Z"
   },
   {
    "duration": 17,
    "start_time": "2022-09-09T11:32:17.473Z"
   },
   {
    "duration": 18,
    "start_time": "2022-09-09T11:32:58.903Z"
   },
   {
    "duration": 1282,
    "start_time": "2022-09-09T11:33:50.010Z"
   },
   {
    "duration": 16,
    "start_time": "2022-09-09T11:33:56.258Z"
   },
   {
    "duration": 18,
    "start_time": "2022-09-09T11:34:34.538Z"
   },
   {
    "duration": 16,
    "start_time": "2022-09-09T11:34:52.273Z"
   },
   {
    "duration": 1459,
    "start_time": "2022-09-09T11:35:07.061Z"
   },
   {
    "duration": 243,
    "start_time": "2022-09-09T11:35:08.522Z"
   },
   {
    "duration": 12,
    "start_time": "2022-09-09T11:35:08.766Z"
   },
   {
    "duration": 31,
    "start_time": "2022-09-09T11:35:08.780Z"
   },
   {
    "duration": 30,
    "start_time": "2022-09-09T11:35:08.813Z"
   },
   {
    "duration": 62,
    "start_time": "2022-09-09T11:35:08.845Z"
   },
   {
    "duration": 57,
    "start_time": "2022-09-09T11:35:08.909Z"
   },
   {
    "duration": 15,
    "start_time": "2022-09-09T11:35:08.968Z"
   },
   {
    "duration": 27,
    "start_time": "2022-09-09T11:35:08.985Z"
   },
   {
    "duration": 17,
    "start_time": "2022-09-09T11:35:09.014Z"
   },
   {
    "duration": 9,
    "start_time": "2022-09-09T11:35:09.033Z"
   },
   {
    "duration": 36,
    "start_time": "2022-09-09T11:35:09.043Z"
   },
   {
    "duration": 28,
    "start_time": "2022-09-09T11:35:09.080Z"
   },
   {
    "duration": 12,
    "start_time": "2022-09-09T11:35:09.109Z"
   },
   {
    "duration": 7,
    "start_time": "2022-09-09T11:35:09.123Z"
   },
   {
    "duration": 9,
    "start_time": "2022-09-09T11:35:09.131Z"
   },
   {
    "duration": 10,
    "start_time": "2022-09-09T11:35:09.141Z"
   },
   {
    "duration": 8,
    "start_time": "2022-09-09T11:35:09.153Z"
   },
   {
    "duration": 12,
    "start_time": "2022-09-09T11:35:09.163Z"
   },
   {
    "duration": 11,
    "start_time": "2022-09-09T11:35:09.176Z"
   },
   {
    "duration": 50,
    "start_time": "2022-09-09T11:35:09.205Z"
   },
   {
    "duration": 407,
    "start_time": "2022-09-09T11:35:09.256Z"
   },
   {
    "duration": 21,
    "start_time": "2022-09-09T11:35:09.664Z"
   },
   {
    "duration": 23,
    "start_time": "2022-09-09T11:35:09.686Z"
   },
   {
    "duration": 44,
    "start_time": "2022-09-09T11:35:09.710Z"
   },
   {
    "duration": 4,
    "start_time": "2022-09-09T11:35:09.756Z"
   },
   {
    "duration": 21,
    "start_time": "2022-09-09T11:35:09.762Z"
   },
   {
    "duration": 85,
    "start_time": "2022-09-09T11:35:09.787Z"
   },
   {
    "duration": 143,
    "start_time": "2022-09-09T11:35:09.875Z"
   },
   {
    "duration": 188,
    "start_time": "2022-09-09T11:35:10.020Z"
   },
   {
    "duration": 11,
    "start_time": "2022-09-09T11:35:10.210Z"
   },
   {
    "duration": 17,
    "start_time": "2022-09-09T11:35:10.223Z"
   },
   {
    "duration": 187,
    "start_time": "2022-09-09T11:35:10.242Z"
   },
   {
    "duration": 143,
    "start_time": "2022-09-09T11:35:10.431Z"
   },
   {
    "duration": 39,
    "start_time": "2022-09-09T11:35:10.577Z"
   },
   {
    "duration": 215,
    "start_time": "2022-09-09T11:35:10.618Z"
   },
   {
    "duration": 133,
    "start_time": "2022-09-09T11:35:10.835Z"
   },
   {
    "duration": 3,
    "start_time": "2022-09-09T11:35:10.970Z"
   },
   {
    "duration": 137,
    "start_time": "2022-09-09T11:35:10.974Z"
   },
   {
    "duration": 97,
    "start_time": "2022-09-09T11:35:11.112Z"
   },
   {
    "duration": 16,
    "start_time": "2022-09-09T11:35:46.471Z"
   },
   {
    "duration": 17,
    "start_time": "2022-09-09T11:35:52.352Z"
   },
   {
    "duration": 2090,
    "start_time": "2022-09-09T11:36:00.291Z"
   },
   {
    "duration": 15,
    "start_time": "2022-09-09T11:36:13.734Z"
   },
   {
    "duration": 14,
    "start_time": "2022-09-09T11:36:20.197Z"
   },
   {
    "duration": 14,
    "start_time": "2022-09-09T11:36:31.540Z"
   },
   {
    "duration": 120,
    "start_time": "2022-09-09T11:37:40.151Z"
   },
   {
    "duration": 14,
    "start_time": "2022-09-09T11:37:46.496Z"
   },
   {
    "duration": 9,
    "start_time": "2022-09-09T11:38:23.756Z"
   },
   {
    "duration": 5,
    "start_time": "2022-09-09T11:38:39.090Z"
   },
   {
    "duration": 5,
    "start_time": "2022-09-09T11:38:54.920Z"
   },
   {
    "duration": 6,
    "start_time": "2022-09-09T11:38:58.747Z"
   },
   {
    "duration": 17,
    "start_time": "2022-09-09T11:39:12.140Z"
   },
   {
    "duration": 17,
    "start_time": "2022-09-09T11:39:25.473Z"
   },
   {
    "duration": 6,
    "start_time": "2022-09-09T11:39:55.673Z"
   },
   {
    "duration": 9,
    "start_time": "2022-09-09T12:27:25.872Z"
   },
   {
    "duration": 11,
    "start_time": "2022-09-09T12:27:34.077Z"
   },
   {
    "duration": 712,
    "start_time": "2022-09-09T12:27:48.199Z"
   },
   {
    "duration": 12,
    "start_time": "2022-09-09T12:28:58.450Z"
   },
   {
    "duration": 39,
    "start_time": "2022-09-09T12:30:06.538Z"
   },
   {
    "duration": 18,
    "start_time": "2022-09-09T12:30:23.996Z"
   },
   {
    "duration": 19,
    "start_time": "2022-09-09T12:30:37.134Z"
   },
   {
    "duration": 20,
    "start_time": "2022-09-09T12:30:58.240Z"
   },
   {
    "duration": 61,
    "start_time": "2022-09-09T12:31:10.655Z"
   },
   {
    "duration": 20,
    "start_time": "2022-09-09T12:31:18.387Z"
   },
   {
    "duration": 19,
    "start_time": "2022-09-09T12:32:07.487Z"
   },
   {
    "duration": 14,
    "start_time": "2022-09-09T12:32:52.104Z"
   },
   {
    "duration": 23,
    "start_time": "2022-09-09T12:32:57.815Z"
   },
   {
    "duration": 18,
    "start_time": "2022-09-09T12:33:04.464Z"
   },
   {
    "duration": 11,
    "start_time": "2022-09-09T12:33:36.389Z"
   },
   {
    "duration": 11,
    "start_time": "2022-09-09T12:34:06.019Z"
   },
   {
    "duration": 17,
    "start_time": "2022-09-09T12:34:15.299Z"
   },
   {
    "duration": 16,
    "start_time": "2022-09-09T12:34:21.942Z"
   },
   {
    "duration": 8,
    "start_time": "2022-09-09T12:34:35.358Z"
   },
   {
    "duration": 16,
    "start_time": "2022-09-09T12:35:25.604Z"
   },
   {
    "duration": 8,
    "start_time": "2022-09-09T12:35:55.024Z"
   },
   {
    "duration": 14,
    "start_time": "2022-09-09T12:36:06.655Z"
   },
   {
    "duration": 15,
    "start_time": "2022-09-09T12:36:21.046Z"
   },
   {
    "duration": 8,
    "start_time": "2022-09-09T12:36:54.616Z"
   },
   {
    "duration": 17,
    "start_time": "2022-09-09T12:37:03.858Z"
   },
   {
    "duration": 7,
    "start_time": "2022-09-09T12:37:04.509Z"
   },
   {
    "duration": 4,
    "start_time": "2022-09-09T12:37:21.713Z"
   },
   {
    "duration": 5,
    "start_time": "2022-09-09T12:38:34.697Z"
   },
   {
    "duration": 5,
    "start_time": "2022-09-09T12:38:54.549Z"
   },
   {
    "duration": 5,
    "start_time": "2022-09-09T12:38:58.456Z"
   },
   {
    "duration": 5,
    "start_time": "2022-09-09T12:39:03.429Z"
   },
   {
    "duration": 6,
    "start_time": "2022-09-09T12:39:06.219Z"
   },
   {
    "duration": 5,
    "start_time": "2022-09-09T12:39:28.374Z"
   },
   {
    "duration": 6,
    "start_time": "2022-09-09T12:39:32.290Z"
   },
   {
    "duration": 11,
    "start_time": "2022-09-09T12:45:45.224Z"
   },
   {
    "duration": 13,
    "start_time": "2022-09-09T12:45:53.183Z"
   },
   {
    "duration": 70,
    "start_time": "2022-09-09T12:46:04.223Z"
   },
   {
    "duration": 68,
    "start_time": "2022-09-09T12:46:18.654Z"
   },
   {
    "duration": 89,
    "start_time": "2022-09-09T12:46:33.481Z"
   },
   {
    "duration": 68,
    "start_time": "2022-09-09T12:46:37.105Z"
   },
   {
    "duration": 81,
    "start_time": "2022-09-09T12:46:50.052Z"
   },
   {
    "duration": 49,
    "start_time": "2022-09-09T12:46:53.470Z"
   },
   {
    "duration": 65,
    "start_time": "2022-09-09T12:49:01.424Z"
   },
   {
    "duration": 20,
    "start_time": "2022-09-09T12:49:29.750Z"
   },
   {
    "duration": 17,
    "start_time": "2022-09-09T12:49:35.297Z"
   },
   {
    "duration": 1122,
    "start_time": "2022-09-09T12:49:47.393Z"
   },
   {
    "duration": 237,
    "start_time": "2022-09-09T12:49:48.517Z"
   },
   {
    "duration": 12,
    "start_time": "2022-09-09T12:49:48.755Z"
   },
   {
    "duration": 30,
    "start_time": "2022-09-09T12:49:48.768Z"
   },
   {
    "duration": 32,
    "start_time": "2022-09-09T12:49:48.800Z"
   },
   {
    "duration": 53,
    "start_time": "2022-09-09T12:49:48.833Z"
   },
   {
    "duration": 71,
    "start_time": "2022-09-09T12:49:48.888Z"
   },
   {
    "duration": 14,
    "start_time": "2022-09-09T12:49:48.961Z"
   },
   {
    "duration": 8,
    "start_time": "2022-09-09T12:49:48.977Z"
   },
   {
    "duration": 24,
    "start_time": "2022-09-09T12:49:48.986Z"
   },
   {
    "duration": 9,
    "start_time": "2022-09-09T12:49:49.011Z"
   },
   {
    "duration": 47,
    "start_time": "2022-09-09T12:49:49.021Z"
   },
   {
    "duration": 8,
    "start_time": "2022-09-09T12:49:49.069Z"
   },
   {
    "duration": 20,
    "start_time": "2022-09-09T12:49:49.080Z"
   },
   {
    "duration": 11,
    "start_time": "2022-09-09T12:49:49.106Z"
   },
   {
    "duration": 14,
    "start_time": "2022-09-09T12:49:49.119Z"
   },
   {
    "duration": 23,
    "start_time": "2022-09-09T12:49:49.135Z"
   },
   {
    "duration": 26,
    "start_time": "2022-09-09T12:49:49.160Z"
   },
   {
    "duration": 17,
    "start_time": "2022-09-09T12:49:49.188Z"
   },
   {
    "duration": 20,
    "start_time": "2022-09-09T12:49:49.207Z"
   },
   {
    "duration": 62,
    "start_time": "2022-09-09T12:49:49.228Z"
   },
   {
    "duration": 389,
    "start_time": "2022-09-09T12:49:49.292Z"
   },
   {
    "duration": 24,
    "start_time": "2022-09-09T12:49:49.683Z"
   },
   {
    "duration": 19,
    "start_time": "2022-09-09T12:49:49.709Z"
   },
   {
    "duration": 24,
    "start_time": "2022-09-09T12:49:49.730Z"
   },
   {
    "duration": 4,
    "start_time": "2022-09-09T12:49:49.756Z"
   },
   {
    "duration": 50,
    "start_time": "2022-09-09T12:49:49.761Z"
   },
   {
    "duration": 82,
    "start_time": "2022-09-09T12:49:49.813Z"
   },
   {
    "duration": 132,
    "start_time": "2022-09-09T12:49:49.896Z"
   },
   {
    "duration": 185,
    "start_time": "2022-09-09T12:49:50.030Z"
   },
   {
    "duration": 10,
    "start_time": "2022-09-09T12:49:50.217Z"
   },
   {
    "duration": 21,
    "start_time": "2022-09-09T12:49:50.228Z"
   },
   {
    "duration": 157,
    "start_time": "2022-09-09T12:49:50.251Z"
   },
   {
    "duration": 134,
    "start_time": "2022-09-09T12:49:50.409Z"
   },
   {
    "duration": 30,
    "start_time": "2022-09-09T12:49:50.544Z"
   },
   {
    "duration": 223,
    "start_time": "2022-09-09T12:49:50.576Z"
   },
   {
    "duration": 127,
    "start_time": "2022-09-09T12:49:50.801Z"
   },
   {
    "duration": 4,
    "start_time": "2022-09-09T12:49:50.929Z"
   },
   {
    "duration": 138,
    "start_time": "2022-09-09T12:49:50.934Z"
   },
   {
    "duration": 17,
    "start_time": "2022-09-09T12:49:51.073Z"
   },
   {
    "duration": 15,
    "start_time": "2022-09-09T12:49:51.093Z"
   },
   {
    "duration": 29,
    "start_time": "2022-09-09T12:49:51.110Z"
   },
   {
    "duration": 7,
    "start_time": "2022-09-09T12:49:51.140Z"
   },
   {
    "duration": 9,
    "start_time": "2022-09-09T12:49:51.149Z"
   },
   {
    "duration": 17,
    "start_time": "2022-09-09T12:49:51.160Z"
   },
   {
    "duration": 16,
    "start_time": "2022-09-09T12:50:11.712Z"
   },
   {
    "duration": 12,
    "start_time": "2022-09-09T12:51:09.410Z"
   },
   {
    "duration": 136,
    "start_time": "2022-09-09T12:51:35.975Z"
   },
   {
    "duration": 18,
    "start_time": "2022-09-09T12:51:45.995Z"
   },
   {
    "duration": 20,
    "start_time": "2022-09-09T12:51:52.517Z"
   },
   {
    "duration": 60,
    "start_time": "2022-09-09T12:52:55.472Z"
   },
   {
    "duration": 61,
    "start_time": "2022-09-09T12:56:48.853Z"
   },
   {
    "duration": 60,
    "start_time": "2022-09-09T12:56:52.977Z"
   },
   {
    "duration": 73,
    "start_time": "2022-09-09T12:56:58.741Z"
   },
   {
    "duration": 14,
    "start_time": "2022-09-09T12:57:38.102Z"
   },
   {
    "duration": 15,
    "start_time": "2022-09-09T12:57:49.005Z"
   },
   {
    "duration": 49,
    "start_time": "2022-09-09T12:58:38.334Z"
   },
   {
    "duration": 46,
    "start_time": "2022-09-09T12:58:47.774Z"
   },
   {
    "duration": 15,
    "start_time": "2022-09-09T13:00:37.714Z"
   },
   {
    "duration": 40,
    "start_time": "2022-09-09T13:01:17.845Z"
   },
   {
    "duration": 59,
    "start_time": "2022-09-09T13:01:38.175Z"
   },
   {
    "duration": 8,
    "start_time": "2022-09-09T13:02:30.819Z"
   },
   {
    "duration": 40,
    "start_time": "2022-09-09T13:02:50.759Z"
   },
   {
    "duration": 63,
    "start_time": "2022-09-09T13:03:14.342Z"
   },
   {
    "duration": 65,
    "start_time": "2022-09-09T13:09:05.037Z"
   },
   {
    "duration": 50,
    "start_time": "2022-09-09T13:09:21.814Z"
   },
   {
    "duration": 59,
    "start_time": "2022-09-09T13:09:34.647Z"
   },
   {
    "duration": 66,
    "start_time": "2022-09-09T13:10:05.762Z"
   },
   {
    "duration": 30,
    "start_time": "2022-09-09T13:10:33.117Z"
   },
   {
    "duration": 12,
    "start_time": "2022-09-09T13:10:42.001Z"
   },
   {
    "duration": 68,
    "start_time": "2022-09-09T13:10:45.654Z"
   },
   {
    "duration": 37,
    "start_time": "2022-09-09T13:10:54.143Z"
   },
   {
    "duration": 36,
    "start_time": "2022-09-09T13:11:45.041Z"
   },
   {
    "duration": 6,
    "start_time": "2022-09-09T13:11:53.241Z"
   },
   {
    "duration": 5,
    "start_time": "2022-09-09T13:14:45.524Z"
   },
   {
    "duration": 7,
    "start_time": "2022-09-09T13:14:58.203Z"
   },
   {
    "duration": 6,
    "start_time": "2022-09-09T13:15:11.823Z"
   },
   {
    "duration": 45,
    "start_time": "2022-09-09T19:53:53.452Z"
   },
   {
    "duration": 1236,
    "start_time": "2022-09-09T19:54:01.464Z"
   },
   {
    "duration": 1222,
    "start_time": "2022-09-09T19:54:02.702Z"
   },
   {
    "duration": 17,
    "start_time": "2022-09-09T19:54:03.926Z"
   },
   {
    "duration": 36,
    "start_time": "2022-09-09T19:54:03.945Z"
   },
   {
    "duration": 29,
    "start_time": "2022-09-09T19:54:03.983Z"
   },
   {
    "duration": 71,
    "start_time": "2022-09-09T19:54:04.014Z"
   },
   {
    "duration": 56,
    "start_time": "2022-09-09T19:54:04.086Z"
   },
   {
    "duration": 22,
    "start_time": "2022-09-09T19:54:04.144Z"
   },
   {
    "duration": 9,
    "start_time": "2022-09-09T19:54:04.167Z"
   },
   {
    "duration": 11,
    "start_time": "2022-09-09T19:54:04.179Z"
   },
   {
    "duration": 8,
    "start_time": "2022-09-09T19:54:04.191Z"
   },
   {
    "duration": 58,
    "start_time": "2022-09-09T19:54:04.201Z"
   },
   {
    "duration": 11,
    "start_time": "2022-09-09T19:54:04.261Z"
   },
   {
    "duration": 14,
    "start_time": "2022-09-09T19:54:04.274Z"
   },
   {
    "duration": 4,
    "start_time": "2022-09-09T19:54:04.290Z"
   },
   {
    "duration": 8,
    "start_time": "2022-09-09T19:54:04.295Z"
   },
   {
    "duration": 10,
    "start_time": "2022-09-09T19:54:04.304Z"
   },
   {
    "duration": 9,
    "start_time": "2022-09-09T19:54:04.316Z"
   },
   {
    "duration": 35,
    "start_time": "2022-09-09T19:54:04.326Z"
   },
   {
    "duration": 9,
    "start_time": "2022-09-09T19:54:04.362Z"
   },
   {
    "duration": 50,
    "start_time": "2022-09-09T19:54:04.372Z"
   },
   {
    "duration": 429,
    "start_time": "2022-09-09T19:54:04.423Z"
   },
   {
    "duration": 15,
    "start_time": "2022-09-09T19:54:04.855Z"
   },
   {
    "duration": 12,
    "start_time": "2022-09-09T19:54:04.872Z"
   },
   {
    "duration": 24,
    "start_time": "2022-09-09T19:54:04.886Z"
   },
   {
    "duration": 6,
    "start_time": "2022-09-09T19:54:04.912Z"
   },
   {
    "duration": 44,
    "start_time": "2022-09-09T19:54:04.920Z"
   },
   {
    "duration": 121,
    "start_time": "2022-09-09T19:54:04.967Z"
   },
   {
    "duration": 145,
    "start_time": "2022-09-09T19:54:05.089Z"
   },
   {
    "duration": 170,
    "start_time": "2022-09-09T19:54:05.236Z"
   },
   {
    "duration": 12,
    "start_time": "2022-09-09T19:54:05.408Z"
   },
   {
    "duration": 17,
    "start_time": "2022-09-09T19:54:05.422Z"
   },
   {
    "duration": 173,
    "start_time": "2022-09-09T19:54:05.440Z"
   },
   {
    "duration": 155,
    "start_time": "2022-09-09T19:54:05.615Z"
   },
   {
    "duration": 31,
    "start_time": "2022-09-09T19:54:05.771Z"
   },
   {
    "duration": 209,
    "start_time": "2022-09-09T19:54:05.804Z"
   },
   {
    "duration": 129,
    "start_time": "2022-09-09T19:54:06.015Z"
   },
   {
    "duration": 10,
    "start_time": "2022-09-09T19:54:06.146Z"
   },
   {
    "duration": 132,
    "start_time": "2022-09-09T19:54:06.158Z"
   },
   {
    "duration": 16,
    "start_time": "2022-09-09T19:54:06.293Z"
   },
   {
    "duration": 6,
    "start_time": "2022-09-09T19:54:06.312Z"
   },
   {
    "duration": 40,
    "start_time": "2022-09-09T19:54:06.320Z"
   },
   {
    "duration": 7,
    "start_time": "2022-09-09T19:54:06.362Z"
   },
   {
    "duration": 9,
    "start_time": "2022-09-09T19:54:06.371Z"
   },
   {
    "duration": 52,
    "start_time": "2022-09-09T19:54:06.382Z"
   },
   {
    "duration": 6,
    "start_time": "2022-09-09T19:54:06.454Z"
   },
   {
    "duration": 24,
    "start_time": "2022-09-09T19:54:06.461Z"
   },
   {
    "duration": 124,
    "start_time": "2022-09-09T19:54:06.487Z"
   },
   {
    "duration": 32,
    "start_time": "2022-09-09T19:54:35.352Z"
   },
   {
    "duration": 26,
    "start_time": "2022-09-09T19:54:50.340Z"
   },
   {
    "duration": 5,
    "start_time": "2022-09-09T19:55:03.863Z"
   },
   {
    "duration": 24,
    "start_time": "2022-09-09T19:56:57.884Z"
   },
   {
    "duration": 5,
    "start_time": "2022-09-09T19:58:03.944Z"
   },
   {
    "duration": 33,
    "start_time": "2022-09-09T20:08:07.452Z"
   },
   {
    "duration": 29,
    "start_time": "2022-09-09T20:13:51.945Z"
   },
   {
    "duration": 6,
    "start_time": "2022-09-09T20:14:17.882Z"
   },
   {
    "duration": 47,
    "start_time": "2022-09-09T20:14:37.573Z"
   },
   {
    "duration": 19,
    "start_time": "2022-09-09T20:14:52.775Z"
   },
   {
    "duration": 34,
    "start_time": "2022-09-09T20:15:05.935Z"
   },
   {
    "duration": 20,
    "start_time": "2022-09-09T20:15:42.170Z"
   },
   {
    "duration": 27,
    "start_time": "2022-09-09T20:15:48.726Z"
   },
   {
    "duration": 21,
    "start_time": "2022-09-09T20:15:54.506Z"
   },
   {
    "duration": 1558,
    "start_time": "2022-09-09T20:21:42.313Z"
   },
   {
    "duration": 1069,
    "start_time": "2022-09-09T20:21:52.187Z"
   },
   {
    "duration": 248,
    "start_time": "2022-09-09T20:21:53.263Z"
   },
   {
    "duration": 11,
    "start_time": "2022-09-09T20:21:53.513Z"
   },
   {
    "duration": 37,
    "start_time": "2022-09-09T20:21:53.526Z"
   },
   {
    "duration": 42,
    "start_time": "2022-09-09T20:21:53.565Z"
   },
   {
    "duration": 57,
    "start_time": "2022-09-09T20:21:53.609Z"
   },
   {
    "duration": 55,
    "start_time": "2022-09-09T20:21:53.668Z"
   },
   {
    "duration": 13,
    "start_time": "2022-09-09T20:21:53.724Z"
   },
   {
    "duration": 8,
    "start_time": "2022-09-09T20:21:53.738Z"
   },
   {
    "duration": 19,
    "start_time": "2022-09-09T20:21:53.758Z"
   },
   {
    "duration": 8,
    "start_time": "2022-09-09T20:21:53.779Z"
   },
   {
    "duration": 35,
    "start_time": "2022-09-09T20:21:53.789Z"
   },
   {
    "duration": 9,
    "start_time": "2022-09-09T20:21:53.825Z"
   },
   {
    "duration": 33,
    "start_time": "2022-09-09T20:21:53.835Z"
   },
   {
    "duration": 8,
    "start_time": "2022-09-09T20:21:53.871Z"
   },
   {
    "duration": 7,
    "start_time": "2022-09-09T20:21:53.880Z"
   },
   {
    "duration": 11,
    "start_time": "2022-09-09T20:21:53.889Z"
   },
   {
    "duration": 26,
    "start_time": "2022-09-09T20:21:53.901Z"
   },
   {
    "duration": 11,
    "start_time": "2022-09-09T20:21:53.930Z"
   },
   {
    "duration": 11,
    "start_time": "2022-09-09T20:21:53.942Z"
   },
   {
    "duration": 53,
    "start_time": "2022-09-09T20:21:53.958Z"
   },
   {
    "duration": 417,
    "start_time": "2022-09-09T20:21:54.013Z"
   },
   {
    "duration": 25,
    "start_time": "2022-09-09T20:21:54.431Z"
   },
   {
    "duration": 18,
    "start_time": "2022-09-09T20:21:54.458Z"
   },
   {
    "duration": 24,
    "start_time": "2022-09-09T20:21:54.478Z"
   },
   {
    "duration": 12,
    "start_time": "2022-09-09T20:21:54.503Z"
   },
   {
    "duration": 22,
    "start_time": "2022-09-09T20:21:54.516Z"
   },
   {
    "duration": 92,
    "start_time": "2022-09-09T20:21:54.542Z"
   },
   {
    "duration": 150,
    "start_time": "2022-09-09T20:21:54.636Z"
   },
   {
    "duration": 178,
    "start_time": "2022-09-09T20:21:54.788Z"
   },
   {
    "duration": 15,
    "start_time": "2022-09-09T20:21:54.972Z"
   },
   {
    "duration": 22,
    "start_time": "2022-09-09T20:21:54.989Z"
   },
   {
    "duration": 169,
    "start_time": "2022-09-09T20:21:55.014Z"
   },
   {
    "duration": 139,
    "start_time": "2022-09-09T20:21:55.184Z"
   },
   {
    "duration": 43,
    "start_time": "2022-09-09T20:21:55.325Z"
   },
   {
    "duration": 201,
    "start_time": "2022-09-09T20:21:55.373Z"
   },
   {
    "duration": 133,
    "start_time": "2022-09-09T20:21:55.576Z"
   },
   {
    "duration": 4,
    "start_time": "2022-09-09T20:21:55.711Z"
   },
   {
    "duration": 133,
    "start_time": "2022-09-09T20:21:55.717Z"
   },
   {
    "duration": 19,
    "start_time": "2022-09-09T20:21:55.854Z"
   },
   {
    "duration": 7,
    "start_time": "2022-09-09T20:21:55.874Z"
   },
   {
    "duration": 16,
    "start_time": "2022-09-09T20:21:55.882Z"
   },
   {
    "duration": 7,
    "start_time": "2022-09-09T20:21:55.899Z"
   },
   {
    "duration": 5,
    "start_time": "2022-09-09T20:21:55.907Z"
   },
   {
    "duration": 63,
    "start_time": "2022-09-09T20:21:55.914Z"
   },
   {
    "duration": 6,
    "start_time": "2022-09-09T20:21:55.978Z"
   },
   {
    "duration": 26,
    "start_time": "2022-09-09T20:21:55.985Z"
   },
   {
    "duration": 5,
    "start_time": "2022-09-09T20:21:56.013Z"
   },
   {
    "duration": 1344,
    "start_time": "2022-09-09T20:21:56.019Z"
   },
   {
    "duration": 0,
    "start_time": "2022-09-09T20:21:57.365Z"
   },
   {
    "duration": 0,
    "start_time": "2022-09-09T20:21:57.366Z"
   },
   {
    "duration": 0,
    "start_time": "2022-09-09T20:21:57.366Z"
   },
   {
    "duration": 0,
    "start_time": "2022-09-09T20:21:57.367Z"
   },
   {
    "duration": 16,
    "start_time": "2022-09-09T20:22:27.088Z"
   },
   {
    "duration": 5,
    "start_time": "2022-09-09T20:22:29.793Z"
   },
   {
    "duration": 1364,
    "start_time": "2022-09-09T20:22:39.719Z"
   },
   {
    "duration": 1460,
    "start_time": "2022-09-09T20:23:06.073Z"
   },
   {
    "duration": 1266,
    "start_time": "2022-09-09T20:23:22.116Z"
   },
   {
    "duration": 75,
    "start_time": "2022-09-09T20:23:43.449Z"
   },
   {
    "duration": 8,
    "start_time": "2022-09-09T20:24:12.501Z"
   },
   {
    "duration": 7,
    "start_time": "2022-09-09T20:24:24.782Z"
   },
   {
    "duration": 1255,
    "start_time": "2022-09-09T20:24:48.399Z"
   },
   {
    "duration": 17,
    "start_time": "2022-09-09T20:24:58.019Z"
   },
   {
    "duration": 16,
    "start_time": "2022-09-09T20:25:04.589Z"
   },
   {
    "duration": 77,
    "start_time": "2022-09-09T20:25:30.370Z"
   },
   {
    "duration": 17,
    "start_time": "2022-09-09T20:25:33.052Z"
   },
   {
    "duration": 5,
    "start_time": "2022-09-09T20:25:35.634Z"
   },
   {
    "duration": 1118,
    "start_time": "2022-09-09T20:25:41.070Z"
   },
   {
    "duration": 244,
    "start_time": "2022-09-09T20:25:42.190Z"
   },
   {
    "duration": 12,
    "start_time": "2022-09-09T20:25:42.436Z"
   },
   {
    "duration": 37,
    "start_time": "2022-09-09T20:25:42.449Z"
   },
   {
    "duration": 29,
    "start_time": "2022-09-09T20:25:42.487Z"
   },
   {
    "duration": 57,
    "start_time": "2022-09-09T20:25:42.517Z"
   },
   {
    "duration": 55,
    "start_time": "2022-09-09T20:25:42.576Z"
   },
   {
    "duration": 40,
    "start_time": "2022-09-09T20:25:42.632Z"
   },
   {
    "duration": 8,
    "start_time": "2022-09-09T20:25:42.673Z"
   },
   {
    "duration": 14,
    "start_time": "2022-09-09T20:25:42.683Z"
   },
   {
    "duration": 8,
    "start_time": "2022-09-09T20:25:42.699Z"
   },
   {
    "duration": 34,
    "start_time": "2022-09-09T20:25:42.709Z"
   },
   {
    "duration": 26,
    "start_time": "2022-09-09T20:25:42.744Z"
   },
   {
    "duration": 12,
    "start_time": "2022-09-09T20:25:42.771Z"
   },
   {
    "duration": 10,
    "start_time": "2022-09-09T20:25:42.785Z"
   },
   {
    "duration": 12,
    "start_time": "2022-09-09T20:25:42.796Z"
   },
   {
    "duration": 10,
    "start_time": "2022-09-09T20:25:42.809Z"
   },
   {
    "duration": 8,
    "start_time": "2022-09-09T20:25:42.821Z"
   },
   {
    "duration": 10,
    "start_time": "2022-09-09T20:25:42.830Z"
   },
   {
    "duration": 15,
    "start_time": "2022-09-09T20:25:42.842Z"
   },
   {
    "duration": 59,
    "start_time": "2022-09-09T20:25:42.858Z"
   },
   {
    "duration": 410,
    "start_time": "2022-09-09T20:25:42.919Z"
   },
   {
    "duration": 14,
    "start_time": "2022-09-09T20:25:43.331Z"
   },
   {
    "duration": 26,
    "start_time": "2022-09-09T20:25:43.346Z"
   },
   {
    "duration": 19,
    "start_time": "2022-09-09T20:25:43.374Z"
   },
   {
    "duration": 4,
    "start_time": "2022-09-09T20:25:43.394Z"
   },
   {
    "duration": 18,
    "start_time": "2022-09-09T20:25:43.399Z"
   },
   {
    "duration": 102,
    "start_time": "2022-09-09T20:25:43.420Z"
   },
   {
    "duration": 147,
    "start_time": "2022-09-09T20:25:43.523Z"
   },
   {
    "duration": 169,
    "start_time": "2022-09-09T20:25:43.671Z"
   },
   {
    "duration": 21,
    "start_time": "2022-09-09T20:25:43.841Z"
   },
   {
    "duration": 20,
    "start_time": "2022-09-09T20:25:43.864Z"
   },
   {
    "duration": 161,
    "start_time": "2022-09-09T20:25:43.885Z"
   },
   {
    "duration": 132,
    "start_time": "2022-09-09T20:25:44.048Z"
   },
   {
    "duration": 29,
    "start_time": "2022-09-09T20:25:44.182Z"
   },
   {
    "duration": 215,
    "start_time": "2022-09-09T20:25:44.213Z"
   },
   {
    "duration": 142,
    "start_time": "2022-09-09T20:25:44.430Z"
   },
   {
    "duration": 4,
    "start_time": "2022-09-09T20:25:44.573Z"
   },
   {
    "duration": 125,
    "start_time": "2022-09-09T20:25:44.578Z"
   },
   {
    "duration": 12,
    "start_time": "2022-09-09T20:25:44.705Z"
   },
   {
    "duration": 5,
    "start_time": "2022-09-09T20:25:44.719Z"
   },
   {
    "duration": 36,
    "start_time": "2022-09-09T20:25:44.725Z"
   },
   {
    "duration": 7,
    "start_time": "2022-09-09T20:25:44.766Z"
   },
   {
    "duration": 6,
    "start_time": "2022-09-09T20:25:44.774Z"
   },
   {
    "duration": 39,
    "start_time": "2022-09-09T20:25:44.782Z"
   },
   {
    "duration": 5,
    "start_time": "2022-09-09T20:25:44.823Z"
   },
   {
    "duration": 54,
    "start_time": "2022-09-09T20:25:44.830Z"
   },
   {
    "duration": 5,
    "start_time": "2022-09-09T20:25:44.886Z"
   },
   {
    "duration": 6,
    "start_time": "2022-09-09T20:25:44.893Z"
   },
   {
    "duration": 9,
    "start_time": "2022-09-09T20:25:44.901Z"
   },
   {
    "duration": 100,
    "start_time": "2022-09-09T20:25:44.911Z"
   },
   {
    "duration": 0,
    "start_time": "2022-09-09T20:25:45.012Z"
   },
   {
    "duration": 0,
    "start_time": "2022-09-09T20:25:45.013Z"
   },
   {
    "duration": 22,
    "start_time": "2022-09-09T20:26:06.252Z"
   },
   {
    "duration": 18,
    "start_time": "2022-09-09T20:26:15.338Z"
   },
   {
    "duration": 5,
    "start_time": "2022-09-09T20:26:18.072Z"
   },
   {
    "duration": 5,
    "start_time": "2022-09-09T20:26:20.752Z"
   },
   {
    "duration": 7,
    "start_time": "2022-09-09T20:26:22.718Z"
   },
   {
    "duration": 5,
    "start_time": "2022-09-09T20:27:08.072Z"
   },
   {
    "duration": 4,
    "start_time": "2022-09-09T20:28:23.910Z"
   },
   {
    "duration": 8,
    "start_time": "2022-09-09T20:28:24.772Z"
   },
   {
    "duration": 5,
    "start_time": "2022-09-09T20:28:29.875Z"
   },
   {
    "duration": 1283,
    "start_time": "2022-09-09T20:28:53.841Z"
   },
   {
    "duration": 260,
    "start_time": "2022-09-09T20:28:55.126Z"
   },
   {
    "duration": 12,
    "start_time": "2022-09-09T20:28:55.387Z"
   },
   {
    "duration": 29,
    "start_time": "2022-09-09T20:28:55.401Z"
   },
   {
    "duration": 43,
    "start_time": "2022-09-09T20:28:55.432Z"
   },
   {
    "duration": 52,
    "start_time": "2022-09-09T20:28:55.477Z"
   },
   {
    "duration": 76,
    "start_time": "2022-09-09T20:28:55.530Z"
   },
   {
    "duration": 14,
    "start_time": "2022-09-09T20:28:55.608Z"
   },
   {
    "duration": 8,
    "start_time": "2022-09-09T20:28:55.623Z"
   },
   {
    "duration": 37,
    "start_time": "2022-09-09T20:28:55.633Z"
   },
   {
    "duration": 10,
    "start_time": "2022-09-09T20:28:55.672Z"
   },
   {
    "duration": 42,
    "start_time": "2022-09-09T20:28:55.684Z"
   },
   {
    "duration": 12,
    "start_time": "2022-09-09T20:28:55.727Z"
   },
   {
    "duration": 25,
    "start_time": "2022-09-09T20:28:55.740Z"
   },
   {
    "duration": 14,
    "start_time": "2022-09-09T20:28:55.766Z"
   },
   {
    "duration": 8,
    "start_time": "2022-09-09T20:28:55.782Z"
   },
   {
    "duration": 31,
    "start_time": "2022-09-09T20:28:55.791Z"
   },
   {
    "duration": 7,
    "start_time": "2022-09-09T20:28:55.824Z"
   },
   {
    "duration": 12,
    "start_time": "2022-09-09T20:28:55.832Z"
   },
   {
    "duration": 12,
    "start_time": "2022-09-09T20:28:55.845Z"
   },
   {
    "duration": 56,
    "start_time": "2022-09-09T20:28:55.858Z"
   },
   {
    "duration": 418,
    "start_time": "2022-09-09T20:28:55.915Z"
   },
   {
    "duration": 25,
    "start_time": "2022-09-09T20:28:56.334Z"
   },
   {
    "duration": 12,
    "start_time": "2022-09-09T20:28:56.368Z"
   },
   {
    "duration": 19,
    "start_time": "2022-09-09T20:28:56.382Z"
   },
   {
    "duration": 4,
    "start_time": "2022-09-09T20:28:56.402Z"
   },
   {
    "duration": 19,
    "start_time": "2022-09-09T20:28:56.407Z"
   },
   {
    "duration": 104,
    "start_time": "2022-09-09T20:28:56.430Z"
   },
   {
    "duration": 161,
    "start_time": "2022-09-09T20:28:56.536Z"
   },
   {
    "duration": 207,
    "start_time": "2022-09-09T20:28:56.699Z"
   },
   {
    "duration": 11,
    "start_time": "2022-09-09T20:28:56.908Z"
   },
   {
    "duration": 41,
    "start_time": "2022-09-09T20:28:56.921Z"
   },
   {
    "duration": 181,
    "start_time": "2022-09-09T20:28:56.963Z"
   },
   {
    "duration": 147,
    "start_time": "2022-09-09T20:28:57.145Z"
   },
   {
    "duration": 36,
    "start_time": "2022-09-09T20:28:57.294Z"
   },
   {
    "duration": 273,
    "start_time": "2022-09-09T20:28:57.332Z"
   },
   {
    "duration": 157,
    "start_time": "2022-09-09T20:28:57.608Z"
   },
   {
    "duration": 8,
    "start_time": "2022-09-09T20:28:57.767Z"
   },
   {
    "duration": 169,
    "start_time": "2022-09-09T20:28:57.779Z"
   },
   {
    "duration": 19,
    "start_time": "2022-09-09T20:28:57.950Z"
   },
   {
    "duration": 16,
    "start_time": "2022-09-09T20:28:57.971Z"
   },
   {
    "duration": 21,
    "start_time": "2022-09-09T20:28:57.988Z"
   },
   {
    "duration": 7,
    "start_time": "2022-09-09T20:28:58.010Z"
   },
   {
    "duration": 5,
    "start_time": "2022-09-09T20:28:58.018Z"
   },
   {
    "duration": 51,
    "start_time": "2022-09-09T20:28:58.024Z"
   },
   {
    "duration": 5,
    "start_time": "2022-09-09T20:28:58.077Z"
   },
   {
    "duration": 25,
    "start_time": "2022-09-09T20:28:58.084Z"
   },
   {
    "duration": 4,
    "start_time": "2022-09-09T20:28:58.111Z"
   },
   {
    "duration": 8,
    "start_time": "2022-09-09T20:28:58.117Z"
   },
   {
    "duration": 10,
    "start_time": "2022-09-09T20:28:58.126Z"
   },
   {
    "duration": 29,
    "start_time": "2022-09-09T20:28:58.155Z"
   },
   {
    "duration": 18,
    "start_time": "2022-09-09T20:28:58.186Z"
   },
   {
    "duration": 4,
    "start_time": "2022-09-09T20:29:40.570Z"
   },
   {
    "duration": 6,
    "start_time": "2022-09-09T20:29:41.285Z"
   },
   {
    "duration": 1697,
    "start_time": "2022-09-09T20:30:02.223Z"
   },
   {
    "duration": 883,
    "start_time": "2022-09-09T20:30:11.278Z"
   },
   {
    "duration": 8,
    "start_time": "2022-09-09T20:30:21.084Z"
   },
   {
    "duration": 16,
    "start_time": "2022-09-09T20:31:16.542Z"
   },
   {
    "duration": 16,
    "start_time": "2022-09-09T20:31:40.191Z"
   },
   {
    "duration": 17,
    "start_time": "2022-09-09T20:31:55.303Z"
   },
   {
    "duration": 10,
    "start_time": "2022-09-09T20:32:21.570Z"
   },
   {
    "duration": 9,
    "start_time": "2022-09-09T20:33:00.669Z"
   },
   {
    "duration": 11,
    "start_time": "2022-09-09T20:33:24.283Z"
   },
   {
    "duration": 11,
    "start_time": "2022-09-09T20:33:28.616Z"
   },
   {
    "duration": 7,
    "start_time": "2022-09-09T20:33:56.601Z"
   },
   {
    "duration": 6,
    "start_time": "2022-09-09T20:34:01.976Z"
   },
   {
    "duration": 32,
    "start_time": "2022-09-09T20:40:01.251Z"
   },
   {
    "duration": 10,
    "start_time": "2022-09-09T20:41:13.945Z"
   },
   {
    "duration": 132,
    "start_time": "2022-09-09T20:41:18.445Z"
   },
   {
    "duration": 102,
    "start_time": "2022-09-09T20:41:25.443Z"
   },
   {
    "duration": 48,
    "start_time": "2022-09-09T20:43:56.374Z"
   },
   {
    "duration": 52,
    "start_time": "2022-09-09T20:44:10.010Z"
   },
   {
    "duration": 146,
    "start_time": "2022-09-09T20:44:55.035Z"
   },
   {
    "duration": 111,
    "start_time": "2022-09-09T20:45:36.948Z"
   },
   {
    "duration": 136,
    "start_time": "2022-09-09T20:45:47.540Z"
   },
   {
    "duration": 145,
    "start_time": "2022-09-09T20:45:58.106Z"
   },
   {
    "duration": 158,
    "start_time": "2022-09-09T20:46:06.481Z"
   },
   {
    "duration": 1282,
    "start_time": "2022-09-09T20:47:02.699Z"
   },
   {
    "duration": 65,
    "start_time": "2022-09-09T20:48:01.042Z"
   },
   {
    "duration": 77,
    "start_time": "2022-09-09T20:48:17.456Z"
   },
   {
    "duration": 115,
    "start_time": "2022-09-09T20:48:40.365Z"
   },
   {
    "duration": 165,
    "start_time": "2022-09-09T20:48:56.315Z"
   },
   {
    "duration": 1270,
    "start_time": "2022-09-09T20:49:01.500Z"
   },
   {
    "duration": 1302,
    "start_time": "2022-09-09T20:49:30.474Z"
   },
   {
    "duration": 20,
    "start_time": "2022-09-09T20:49:40.050Z"
   },
   {
    "duration": 5,
    "start_time": "2022-09-09T20:53:53.835Z"
   },
   {
    "duration": 23,
    "start_time": "2022-09-09T20:55:38.324Z"
   },
   {
    "duration": 21,
    "start_time": "2022-09-09T20:55:57.193Z"
   },
   {
    "duration": 412,
    "start_time": "2022-09-09T20:56:29.581Z"
   },
   {
    "duration": 32,
    "start_time": "2022-09-09T20:59:43.263Z"
   },
   {
    "duration": 37,
    "start_time": "2022-09-09T20:59:49.052Z"
   },
   {
    "duration": 44,
    "start_time": "2022-09-09T20:59:53.694Z"
   },
   {
    "duration": 1294,
    "start_time": "2022-09-09T21:00:20.999Z"
   },
   {
    "duration": 24,
    "start_time": "2022-09-09T21:00:33.610Z"
   },
   {
    "duration": 6,
    "start_time": "2022-09-09T21:00:42.403Z"
   },
   {
    "duration": 6,
    "start_time": "2022-09-09T21:00:52.612Z"
   },
   {
    "duration": 11,
    "start_time": "2022-09-09T21:07:24.184Z"
   },
   {
    "duration": 27,
    "start_time": "2022-09-09T21:07:27.614Z"
   },
   {
    "duration": 44,
    "start_time": "2022-09-09T21:07:58.781Z"
   },
   {
    "duration": 19,
    "start_time": "2022-09-09T21:08:09.734Z"
   },
   {
    "duration": 11,
    "start_time": "2022-09-09T21:08:12.670Z"
   },
   {
    "duration": 50,
    "start_time": "2022-09-09T21:08:19.818Z"
   },
   {
    "duration": 78,
    "start_time": "2022-09-09T21:08:21.201Z"
   },
   {
    "duration": 63,
    "start_time": "2022-09-09T21:08:24.337Z"
   },
   {
    "duration": 17,
    "start_time": "2022-09-09T21:08:35.100Z"
   },
   {
    "duration": 41,
    "start_time": "2022-09-09T21:08:37.990Z"
   },
   {
    "duration": 61,
    "start_time": "2022-09-09T21:08:38.493Z"
   },
   {
    "duration": 69,
    "start_time": "2022-09-09T21:08:59.111Z"
   },
   {
    "duration": 6,
    "start_time": "2022-09-09T21:09:07.475Z"
   },
   {
    "duration": 5,
    "start_time": "2022-09-09T21:09:15.133Z"
   },
   {
    "duration": 16,
    "start_time": "2022-09-09T21:11:36.857Z"
   },
   {
    "duration": 23,
    "start_time": "2022-09-09T21:11:39.533Z"
   },
   {
    "duration": 10,
    "start_time": "2022-09-09T21:11:40.273Z"
   },
   {
    "duration": 10,
    "start_time": "2022-09-09T21:11:48.148Z"
   },
   {
    "duration": 24,
    "start_time": "2022-09-09T21:11:50.581Z"
   },
   {
    "duration": 5,
    "start_time": "2022-09-09T21:11:51.246Z"
   },
   {
    "duration": 9,
    "start_time": "2022-09-09T21:12:15.783Z"
   },
   {
    "duration": 32,
    "start_time": "2022-09-09T21:12:26.268Z"
   },
   {
    "duration": 30,
    "start_time": "2022-09-09T21:12:31.695Z"
   },
   {
    "duration": 39,
    "start_time": "2022-09-09T21:12:38.752Z"
   },
   {
    "duration": 5,
    "start_time": "2022-09-09T21:12:40.362Z"
   },
   {
    "duration": 36,
    "start_time": "2022-09-09T21:13:35.470Z"
   },
   {
    "duration": 6,
    "start_time": "2022-09-09T21:13:36.062Z"
   },
   {
    "duration": 2,
    "start_time": "2022-09-09T21:17:10.086Z"
   },
   {
    "duration": 1126,
    "start_time": "2022-09-09T21:40:42.831Z"
   },
   {
    "duration": 243,
    "start_time": "2022-09-09T21:40:43.959Z"
   },
   {
    "duration": 11,
    "start_time": "2022-09-09T21:40:44.204Z"
   },
   {
    "duration": 32,
    "start_time": "2022-09-09T21:40:44.216Z"
   },
   {
    "duration": 41,
    "start_time": "2022-09-09T21:40:44.251Z"
   },
   {
    "duration": 53,
    "start_time": "2022-09-09T21:40:44.293Z"
   },
   {
    "duration": 57,
    "start_time": "2022-09-09T21:40:44.347Z"
   },
   {
    "duration": 13,
    "start_time": "2022-09-09T21:40:44.406Z"
   },
   {
    "duration": 21,
    "start_time": "2022-09-09T21:40:44.421Z"
   },
   {
    "duration": 30,
    "start_time": "2022-09-09T21:40:44.444Z"
   },
   {
    "duration": 27,
    "start_time": "2022-09-09T21:40:44.475Z"
   },
   {
    "duration": 41,
    "start_time": "2022-09-09T21:40:44.503Z"
   },
   {
    "duration": 8,
    "start_time": "2022-09-09T21:40:44.546Z"
   },
   {
    "duration": 19,
    "start_time": "2022-09-09T21:40:44.556Z"
   },
   {
    "duration": 18,
    "start_time": "2022-09-09T21:40:44.577Z"
   },
   {
    "duration": 35,
    "start_time": "2022-09-09T21:40:44.596Z"
   },
   {
    "duration": 17,
    "start_time": "2022-09-09T21:40:44.632Z"
   },
   {
    "duration": 14,
    "start_time": "2022-09-09T21:40:44.650Z"
   },
   {
    "duration": 23,
    "start_time": "2022-09-09T21:40:44.665Z"
   },
   {
    "duration": 24,
    "start_time": "2022-09-09T21:40:44.690Z"
   },
   {
    "duration": 85,
    "start_time": "2022-09-09T21:40:44.716Z"
   },
   {
    "duration": 393,
    "start_time": "2022-09-09T21:40:44.803Z"
   },
   {
    "duration": 15,
    "start_time": "2022-09-09T21:40:45.198Z"
   },
   {
    "duration": 13,
    "start_time": "2022-09-09T21:40:45.214Z"
   },
   {
    "duration": 37,
    "start_time": "2022-09-09T21:40:45.228Z"
   },
   {
    "duration": 4,
    "start_time": "2022-09-09T21:40:45.266Z"
   },
   {
    "duration": 20,
    "start_time": "2022-09-09T21:40:45.271Z"
   },
   {
    "duration": 100,
    "start_time": "2022-09-09T21:40:45.293Z"
   },
   {
    "duration": 152,
    "start_time": "2022-09-09T21:40:45.395Z"
   },
   {
    "duration": 171,
    "start_time": "2022-09-09T21:40:45.548Z"
   },
   {
    "duration": 10,
    "start_time": "2022-09-09T21:40:45.721Z"
   },
   {
    "duration": 32,
    "start_time": "2022-09-09T21:40:45.733Z"
   },
   {
    "duration": 159,
    "start_time": "2022-09-09T21:40:45.767Z"
   },
   {
    "duration": 129,
    "start_time": "2022-09-09T21:40:45.927Z"
   },
   {
    "duration": 30,
    "start_time": "2022-09-09T21:40:46.058Z"
   },
   {
    "duration": 217,
    "start_time": "2022-09-09T21:40:46.090Z"
   },
   {
    "duration": 129,
    "start_time": "2022-09-09T21:40:46.309Z"
   },
   {
    "duration": 4,
    "start_time": "2022-09-09T21:40:46.440Z"
   },
   {
    "duration": 129,
    "start_time": "2022-09-09T21:40:46.455Z"
   },
   {
    "duration": 16,
    "start_time": "2022-09-09T21:40:46.586Z"
   },
   {
    "duration": 4,
    "start_time": "2022-09-09T21:40:46.606Z"
   },
   {
    "duration": 17,
    "start_time": "2022-09-09T21:40:46.612Z"
   },
   {
    "duration": 29,
    "start_time": "2022-09-09T21:40:46.630Z"
   },
   {
    "duration": 24,
    "start_time": "2022-09-09T21:40:46.662Z"
   },
   {
    "duration": 59,
    "start_time": "2022-09-09T21:40:46.688Z"
   },
   {
    "duration": 7,
    "start_time": "2022-09-09T21:40:46.749Z"
   },
   {
    "duration": 36,
    "start_time": "2022-09-09T21:40:46.758Z"
   },
   {
    "duration": 5,
    "start_time": "2022-09-09T21:40:46.796Z"
   },
   {
    "duration": 38,
    "start_time": "2022-09-09T21:40:46.803Z"
   },
   {
    "duration": 17,
    "start_time": "2022-09-09T21:40:46.843Z"
   },
   {
    "duration": 1269,
    "start_time": "2022-09-10T04:17:24.637Z"
   },
   {
    "duration": 1202,
    "start_time": "2022-09-10T04:17:25.908Z"
   },
   {
    "duration": 16,
    "start_time": "2022-09-10T04:17:27.112Z"
   },
   {
    "duration": 35,
    "start_time": "2022-09-10T04:17:27.131Z"
   },
   {
    "duration": 28,
    "start_time": "2022-09-10T04:17:27.168Z"
   },
   {
    "duration": 64,
    "start_time": "2022-09-10T04:17:27.197Z"
   },
   {
    "duration": 54,
    "start_time": "2022-09-10T04:17:27.263Z"
   },
   {
    "duration": 16,
    "start_time": "2022-09-10T04:17:27.320Z"
   },
   {
    "duration": 30,
    "start_time": "2022-09-10T04:17:27.338Z"
   },
   {
    "duration": 24,
    "start_time": "2022-09-10T04:17:27.371Z"
   },
   {
    "duration": 9,
    "start_time": "2022-09-10T04:17:27.397Z"
   },
   {
    "duration": 56,
    "start_time": "2022-09-10T04:17:27.408Z"
   },
   {
    "duration": 10,
    "start_time": "2022-09-10T04:17:27.467Z"
   },
   {
    "duration": 16,
    "start_time": "2022-09-10T04:17:27.478Z"
   },
   {
    "duration": 7,
    "start_time": "2022-09-10T04:17:27.496Z"
   },
   {
    "duration": 7,
    "start_time": "2022-09-10T04:17:27.507Z"
   },
   {
    "duration": 15,
    "start_time": "2022-09-10T04:17:27.516Z"
   },
   {
    "duration": 28,
    "start_time": "2022-09-10T04:17:27.533Z"
   },
   {
    "duration": 11,
    "start_time": "2022-09-10T04:17:27.563Z"
   },
   {
    "duration": 9,
    "start_time": "2022-09-10T04:17:27.575Z"
   },
   {
    "duration": 47,
    "start_time": "2022-09-10T04:17:27.585Z"
   },
   {
    "duration": 386,
    "start_time": "2022-09-10T04:17:27.634Z"
   },
   {
    "duration": 14,
    "start_time": "2022-09-10T04:17:28.021Z"
   },
   {
    "duration": 22,
    "start_time": "2022-09-10T04:17:28.036Z"
   },
   {
    "duration": 19,
    "start_time": "2022-09-10T04:17:28.060Z"
   },
   {
    "duration": 5,
    "start_time": "2022-09-10T04:17:28.080Z"
   },
   {
    "duration": 19,
    "start_time": "2022-09-10T04:17:28.086Z"
   },
   {
    "duration": 92,
    "start_time": "2022-09-10T04:17:28.109Z"
   },
   {
    "duration": 135,
    "start_time": "2022-09-10T04:17:28.203Z"
   },
   {
    "duration": 167,
    "start_time": "2022-09-10T04:17:28.340Z"
   },
   {
    "duration": 10,
    "start_time": "2022-09-10T04:17:28.509Z"
   },
   {
    "duration": 18,
    "start_time": "2022-09-10T04:17:28.521Z"
   },
   {
    "duration": 155,
    "start_time": "2022-09-10T04:17:28.540Z"
   },
   {
    "duration": 133,
    "start_time": "2022-09-10T04:17:28.696Z"
   },
   {
    "duration": 35,
    "start_time": "2022-09-10T04:17:28.831Z"
   },
   {
    "duration": 200,
    "start_time": "2022-09-10T04:17:28.867Z"
   },
   {
    "duration": 118,
    "start_time": "2022-09-10T04:17:29.068Z"
   },
   {
    "duration": 4,
    "start_time": "2022-09-10T04:17:29.188Z"
   },
   {
    "duration": 150,
    "start_time": "2022-09-10T04:17:29.193Z"
   },
   {
    "duration": 22,
    "start_time": "2022-09-10T04:17:29.345Z"
   },
   {
    "duration": 5,
    "start_time": "2022-09-10T04:17:29.368Z"
   },
   {
    "duration": 14,
    "start_time": "2022-09-10T04:17:29.374Z"
   },
   {
    "duration": 6,
    "start_time": "2022-09-10T04:17:29.390Z"
   },
   {
    "duration": 6,
    "start_time": "2022-09-10T04:17:29.397Z"
   },
   {
    "duration": 62,
    "start_time": "2022-09-10T04:17:29.405Z"
   },
   {
    "duration": 5,
    "start_time": "2022-09-10T04:17:29.469Z"
   },
   {
    "duration": 28,
    "start_time": "2022-09-10T04:17:29.475Z"
   },
   {
    "duration": 5,
    "start_time": "2022-09-10T04:17:29.504Z"
   },
   {
    "duration": 48,
    "start_time": "2022-09-10T04:17:29.511Z"
   },
   {
    "duration": 5,
    "start_time": "2022-09-10T04:17:29.561Z"
   },
   {
    "duration": 75,
    "start_time": "2022-09-10T04:18:00.327Z"
   },
   {
    "duration": 91,
    "start_time": "2022-09-10T04:18:00.647Z"
   },
   {
    "duration": 1288,
    "start_time": "2022-09-10T13:19:18.230Z"
   },
   {
    "duration": 79,
    "start_time": "2022-09-10T14:41:52.962Z"
   },
   {
    "duration": 90,
    "start_time": "2022-09-10T15:50:15.752Z"
   }
  ],
  "kernelspec": {
   "display_name": "Python 3 (ipykernel)",
   "language": "python",
   "name": "python3"
  },
  "language_info": {
   "codemirror_mode": {
    "name": "ipython",
    "version": 3
   },
   "file_extension": ".py",
   "mimetype": "text/x-python",
   "name": "python",
   "nbconvert_exporter": "python",
   "pygments_lexer": "ipython3",
   "version": "3.9.5"
  },
  "toc": {
   "base_numbering": 1,
   "nav_menu": {},
   "number_sections": true,
   "sideBar": true,
   "skip_h1_title": true,
   "title_cell": "Table of Contents",
   "title_sidebar": "Contents",
   "toc_cell": true,
   "toc_position": {
    "height": "calc(100% - 180px)",
    "left": "10px",
    "top": "150px",
    "width": "295.295px"
   },
   "toc_section_display": true,
   "toc_window_display": true
  }
 },
 "nbformat": 4,
 "nbformat_minor": 2
}
