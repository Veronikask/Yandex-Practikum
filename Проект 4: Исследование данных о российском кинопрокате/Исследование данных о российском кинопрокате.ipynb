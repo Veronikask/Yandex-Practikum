{
 "cells": [
  {
   "cell_type": "markdown",
   "metadata": {
    "toc": true
   },
   "source": [
    "<h1>Table of Contents<span class=\"tocSkip\"></span></h1>\n",
    "<div class=\"toc\"><ul class=\"toc-item\"><li><span><a href=\"#1.-Исследование-данных-о-российском-кинопрокате---постановка-задачи\" data-toc-modified-id=\"1.-Исследование-данных-о-российском-кинопрокате---постановка-задачи-1\"><span class=\"toc-item-num\">1&nbsp;&nbsp;</span>1. Исследование данных о российском кинопрокате - постановка задачи</a></span></li><li><span><a href=\"#2.-Исходные-данные\" data-toc-modified-id=\"2.-Исходные-данные-2\"><span class=\"toc-item-num\">2&nbsp;&nbsp;</span>2. Исходные данные</a></span></li><li><span><a href=\"#Предобработка-данных\" data-toc-modified-id=\"Предобработка-данных-3\"><span class=\"toc-item-num\">3&nbsp;&nbsp;</span>Предобработка данных</a></span><ul class=\"toc-item\"><li><span><a href=\"#3.1.-Проверка-типов-данных\" data-toc-modified-id=\"3.1.-Проверка-типов-данных-3.1\"><span class=\"toc-item-num\">3.1&nbsp;&nbsp;</span>3.1. Проверка типов данных</a></span></li><li><span><a href=\"#3.2.-Изучение-пропусков-в-датафрейме\" data-toc-modified-id=\"3.2.-Изучение-пропусков-в-датафрейме-3.2\"><span class=\"toc-item-num\">3.2&nbsp;&nbsp;</span>3.2. Изучение пропусков в датафрейме</a></span></li><li><span><a href=\"#3.3.-Проверка-на-дубликаты-в-датафрейме\" data-toc-modified-id=\"3.3.-Проверка-на-дубликаты-в-датафрейме-3.3\"><span class=\"toc-item-num\">3.3&nbsp;&nbsp;</span>3.3. Проверка на дубликаты в датафрейме</a></span></li><li><span><a href=\"#3.4.-Изучение-категориальных-значений\" data-toc-modified-id=\"3.4.-Изучение-категориальных-значений-3.4\"><span class=\"toc-item-num\">3.4&nbsp;&nbsp;</span>3.4. Изучение категориальных значений</a></span></li><li><span><a href=\"#3.5.-Проверка-количественных-значений\" data-toc-modified-id=\"3.5.-Проверка-количественных-значений-3.5\"><span class=\"toc-item-num\">3.5&nbsp;&nbsp;</span>3.5. Проверка количественных значений</a></span></li><li><span><a href=\"#3.6.-Добавление-новых-столбцов\" data-toc-modified-id=\"3.6.-Добавление-новых-столбцов-3.6\"><span class=\"toc-item-num\">3.6&nbsp;&nbsp;</span>3.6. Добавление новых столбцов</a></span></li></ul></li><li><span><a href=\"#Исследовательский-анализ-данных\" data-toc-modified-id=\"Исследовательский-анализ-данных-4\"><span class=\"toc-item-num\">4&nbsp;&nbsp;</span>Исследовательский анализ данных</a></span><ul class=\"toc-item\"><li><span><a href=\"#4.1.-Количество-фильмов-вышедших-в-прокат\" data-toc-modified-id=\"4.1.-Количество-фильмов-вышедших-в-прокат-4.1\"><span class=\"toc-item-num\">4.1&nbsp;&nbsp;</span>4.1. Количество фильмов вышедших в прокат</a></span></li><li><span><a href=\"#4.2.-Динамика-проката-по-годам\" data-toc-modified-id=\"4.2.-Динамика-проката-по-годам-4.2\"><span class=\"toc-item-num\">4.2&nbsp;&nbsp;</span>4.2. Динамика проката по годам</a></span></li><li><span><a href=\"#4.3.-Средняя-и-медианная-сумму-сборов\" data-toc-modified-id=\"4.3.-Средняя-и-медианная-сумму-сборов-4.3\"><span class=\"toc-item-num\">4.3&nbsp;&nbsp;</span>4.3. Средняя и медианная сумму сборов</a></span></li><li><span><a href=\"#4.4.-Возрастное-ограничение-аудитории\" data-toc-modified-id=\"4.4.-Возрастное-ограничение-аудитории-4.4\"><span class=\"toc-item-num\">4.4&nbsp;&nbsp;</span>4.4. Возрастное ограничение аудитории</a></span></li></ul></li><li><span><a href=\"#5.-Исследование-фильмов,-которые-получили-государственную-поддержку\" data-toc-modified-id=\"5.-Исследование-фильмов,-которые-получили-государственную-поддержку-5\"><span class=\"toc-item-num\">5&nbsp;&nbsp;</span>5. Исследование фильмов, которые получили государственную поддержку</a></span></li><li><span><a href=\"#6.-Общий-вывод\" data-toc-modified-id=\"6.-Общий-вывод-6\"><span class=\"toc-item-num\">6&nbsp;&nbsp;</span>6. Общий вывод</a></span></li></ul></div>"
   ]
  },
  {
   "cell_type": "markdown",
   "metadata": {
    "id": "sIfNaMOxgFyK"
   },
   "source": [
    "## 1. Исследование данных о российском кинопрокате - постановка задачи"
   ]
  },
  {
   "cell_type": "markdown",
   "metadata": {},
   "source": [
    "Перед нами поставлена задача изучить рынок российского кинопроката и выявить текущие тренды. Мы получили данные о прокатных удостоверениях, сборах и государственной поддержке фильмов, опубликованные на портале Министерства культуры, а также информацию с сайта КиноПоиск."
   ]
  },
  {
   "cell_type": "markdown",
   "metadata": {
    "id": "sIfNaMOxgFyK"
   },
   "source": [
    "## 2. Исходные данные"
   ]
  },
  {
   "cell_type": "markdown",
   "metadata": {
    "id": "3bSlkCsbgFyL"
   },
   "source": [
    "Откроем файлы с данными и объединим их в один датафрейм таким образом, чтобы все объекты из датасета `mkrf_movies` обязательно вошли в получившийся датафрейм:"
   ]
  },
  {
   "cell_type": "code",
   "execution_count": 1,
   "metadata": {
    "id": "dw87FlzMgFyM"
   },
   "outputs": [
    {
     "data": {
      "text/html": [
       "<div>\n",
       "<style scoped>\n",
       "    .dataframe tbody tr th:only-of-type {\n",
       "        vertical-align: middle;\n",
       "    }\n",
       "\n",
       "    .dataframe tbody tr th {\n",
       "        vertical-align: top;\n",
       "    }\n",
       "\n",
       "    .dataframe thead th {\n",
       "        text-align: right;\n",
       "    }\n",
       "</style>\n",
       "<table border=\"1\" class=\"dataframe\">\n",
       "  <thead>\n",
       "    <tr style=\"text-align: right;\">\n",
       "      <th></th>\n",
       "      <th>title</th>\n",
       "      <th>puNumber</th>\n",
       "      <th>show_start_date</th>\n",
       "      <th>type</th>\n",
       "      <th>film_studio</th>\n",
       "      <th>production_country</th>\n",
       "      <th>director</th>\n",
       "      <th>producer</th>\n",
       "      <th>age_restriction</th>\n",
       "      <th>refundable_support</th>\n",
       "      <th>nonrefundable_support</th>\n",
       "      <th>budget</th>\n",
       "      <th>financing_source</th>\n",
       "      <th>ratings</th>\n",
       "      <th>genres</th>\n",
       "    </tr>\n",
       "  </thead>\n",
       "  <tbody>\n",
       "    <tr>\n",
       "      <td>0</td>\n",
       "      <td>Открытый простор</td>\n",
       "      <td>221048915</td>\n",
       "      <td>2015-11-27T12:00:00.000Z</td>\n",
       "      <td>Художественный</td>\n",
       "      <td>Тачстоун Пикчерз, Кобальт Пикчерз, Бикон Пикче...</td>\n",
       "      <td>США</td>\n",
       "      <td>Кевин Костнер</td>\n",
       "      <td>Дэвид Валдес, Кевин Костнер, Джейк Эбертс</td>\n",
       "      <td>«18+» - запрещено для детей</td>\n",
       "      <td>NaN</td>\n",
       "      <td>NaN</td>\n",
       "      <td>NaN</td>\n",
       "      <td>NaN</td>\n",
       "      <td>7.2</td>\n",
       "      <td>боевик,драма,мелодрама</td>\n",
       "    </tr>\n",
       "    <tr>\n",
       "      <td>1</td>\n",
       "      <td>Особо важное задание</td>\n",
       "      <td>111013716</td>\n",
       "      <td>2016-09-13T12:00:00.000Z</td>\n",
       "      <td>Художественный</td>\n",
       "      <td>Киностудия \"Мосфильм\"</td>\n",
       "      <td>СССР</td>\n",
       "      <td>Е.Матвеев</td>\n",
       "      <td>NaN</td>\n",
       "      <td>«6+» - для детей старше 6 лет</td>\n",
       "      <td>NaN</td>\n",
       "      <td>NaN</td>\n",
       "      <td>NaN</td>\n",
       "      <td>NaN</td>\n",
       "      <td>6.6</td>\n",
       "      <td>драма,военный</td>\n",
       "    </tr>\n",
       "    <tr>\n",
       "      <td>2</td>\n",
       "      <td>Особо опасен</td>\n",
       "      <td>221038416</td>\n",
       "      <td>2016-10-10T12:00:00.000Z</td>\n",
       "      <td>Художественный</td>\n",
       "      <td>Юниверсал Пикчерз, Кикстарт Продакшнз, Марк Пл...</td>\n",
       "      <td>США</td>\n",
       "      <td>Тимур Бекмамбетов</td>\n",
       "      <td>Джим Лемли, Джейсон Нетер, Марк Е.Платт, Яйн Смит</td>\n",
       "      <td>«18+» - запрещено для детей</td>\n",
       "      <td>NaN</td>\n",
       "      <td>NaN</td>\n",
       "      <td>NaN</td>\n",
       "      <td>NaN</td>\n",
       "      <td>6.8</td>\n",
       "      <td>фантастика,боевик,триллер</td>\n",
       "    </tr>\n",
       "    <tr>\n",
       "      <td>3</td>\n",
       "      <td>Особо опасен</td>\n",
       "      <td>221026916</td>\n",
       "      <td>2016-06-10T12:00:00.000Z</td>\n",
       "      <td>Художественный</td>\n",
       "      <td>Юниверсал Пикчерз, Кикстарт Продакшнз, Марк Пл...</td>\n",
       "      <td>США</td>\n",
       "      <td>Тимур Бекмамбетов</td>\n",
       "      <td>Джим Лемли, Джейсон Нетер, Марк Е.Платт, Яйн Смит</td>\n",
       "      <td>«18+» - запрещено для детей</td>\n",
       "      <td>NaN</td>\n",
       "      <td>NaN</td>\n",
       "      <td>NaN</td>\n",
       "      <td>NaN</td>\n",
       "      <td>6.8</td>\n",
       "      <td>фантастика,боевик,триллер</td>\n",
       "    </tr>\n",
       "    <tr>\n",
       "      <td>4</td>\n",
       "      <td>Особо опасен</td>\n",
       "      <td>221030815</td>\n",
       "      <td>2015-07-29T12:00:00.000Z</td>\n",
       "      <td>Художественный</td>\n",
       "      <td>Юниверсал Пикчерз, Кикстарт Продакшнз, Марк Пл...</td>\n",
       "      <td>США</td>\n",
       "      <td>Тимур Бекмамбетов</td>\n",
       "      <td>Джим Лемли, Джейсон Нетер, Марк Е.Платт, Яйн Смит</td>\n",
       "      <td>«18+» - запрещено для детей</td>\n",
       "      <td>NaN</td>\n",
       "      <td>NaN</td>\n",
       "      <td>NaN</td>\n",
       "      <td>NaN</td>\n",
       "      <td>6.8</td>\n",
       "      <td>фантастика,боевик,триллер</td>\n",
       "    </tr>\n",
       "  </tbody>\n",
       "</table>\n",
       "</div>"
      ],
      "text/plain": [
       "                  title   puNumber           show_start_date            type  \\\n",
       "0      Открытый простор  221048915  2015-11-27T12:00:00.000Z  Художественный   \n",
       "1  Особо важное задание  111013716  2016-09-13T12:00:00.000Z  Художественный   \n",
       "2          Особо опасен  221038416  2016-10-10T12:00:00.000Z  Художественный   \n",
       "3          Особо опасен  221026916  2016-06-10T12:00:00.000Z  Художественный   \n",
       "4          Особо опасен  221030815  2015-07-29T12:00:00.000Z  Художественный   \n",
       "\n",
       "                                         film_studio production_country  \\\n",
       "0  Тачстоун Пикчерз, Кобальт Пикчерз, Бикон Пикче...                США   \n",
       "1                              Киностудия \"Мосфильм\"               СССР   \n",
       "2  Юниверсал Пикчерз, Кикстарт Продакшнз, Марк Пл...                США   \n",
       "3  Юниверсал Пикчерз, Кикстарт Продакшнз, Марк Пл...                США   \n",
       "4  Юниверсал Пикчерз, Кикстарт Продакшнз, Марк Пл...                США   \n",
       "\n",
       "            director                                           producer  \\\n",
       "0      Кевин Костнер          Дэвид Валдес, Кевин Костнер, Джейк Эбертс   \n",
       "1          Е.Матвеев                                                NaN   \n",
       "2  Тимур Бекмамбетов  Джим Лемли, Джейсон Нетер, Марк Е.Платт, Яйн Смит   \n",
       "3  Тимур Бекмамбетов  Джим Лемли, Джейсон Нетер, Марк Е.Платт, Яйн Смит   \n",
       "4  Тимур Бекмамбетов  Джим Лемли, Джейсон Нетер, Марк Е.Платт, Яйн Смит   \n",
       "\n",
       "                 age_restriction  refundable_support  nonrefundable_support  \\\n",
       "0    «18+» - запрещено для детей                 NaN                    NaN   \n",
       "1  «6+» - для детей старше 6 лет                 NaN                    NaN   \n",
       "2    «18+» - запрещено для детей                 NaN                    NaN   \n",
       "3    «18+» - запрещено для детей                 NaN                    NaN   \n",
       "4    «18+» - запрещено для детей                 NaN                    NaN   \n",
       "\n",
       "   budget financing_source ratings                     genres  \n",
       "0     NaN              NaN     7.2     боевик,драма,мелодрама  \n",
       "1     NaN              NaN     6.6              драма,военный  \n",
       "2     NaN              NaN     6.8  фантастика,боевик,триллер  \n",
       "3     NaN              NaN     6.8  фантастика,боевик,триллер  \n",
       "4     NaN              NaN     6.8  фантастика,боевик,триллер  "
      ]
     },
     "metadata": {},
     "output_type": "display_data"
    },
    {
     "data": {
      "text/html": [
       "<div>\n",
       "<style scoped>\n",
       "    .dataframe tbody tr th:only-of-type {\n",
       "        vertical-align: middle;\n",
       "    }\n",
       "\n",
       "    .dataframe tbody tr th {\n",
       "        vertical-align: top;\n",
       "    }\n",
       "\n",
       "    .dataframe thead th {\n",
       "        text-align: right;\n",
       "    }\n",
       "</style>\n",
       "<table border=\"1\" class=\"dataframe\">\n",
       "  <thead>\n",
       "    <tr style=\"text-align: right;\">\n",
       "      <th></th>\n",
       "      <th>puNumber</th>\n",
       "      <th>box_office</th>\n",
       "    </tr>\n",
       "  </thead>\n",
       "  <tbody>\n",
       "    <tr>\n",
       "      <td>0</td>\n",
       "      <td>111000113</td>\n",
       "      <td>2.450000e+03</td>\n",
       "    </tr>\n",
       "    <tr>\n",
       "      <td>1</td>\n",
       "      <td>111000115</td>\n",
       "      <td>6.104000e+04</td>\n",
       "    </tr>\n",
       "    <tr>\n",
       "      <td>2</td>\n",
       "      <td>111000116</td>\n",
       "      <td>1.530300e+08</td>\n",
       "    </tr>\n",
       "    <tr>\n",
       "      <td>3</td>\n",
       "      <td>111000117</td>\n",
       "      <td>1.226096e+07</td>\n",
       "    </tr>\n",
       "    <tr>\n",
       "      <td>4</td>\n",
       "      <td>111000118</td>\n",
       "      <td>1.636841e+08</td>\n",
       "    </tr>\n",
       "  </tbody>\n",
       "</table>\n",
       "</div>"
      ],
      "text/plain": [
       "    puNumber    box_office\n",
       "0  111000113  2.450000e+03\n",
       "1  111000115  6.104000e+04\n",
       "2  111000116  1.530300e+08\n",
       "3  111000117  1.226096e+07\n",
       "4  111000118  1.636841e+08"
      ]
     },
     "execution_count": 1,
     "metadata": {},
     "output_type": "execute_result"
    }
   ],
   "source": [
    "# Импортируем библиотеки:\n",
    "import pandas as pd\n",
    "import numpy as np\n",
    "import seaborn as sns\n",
    "import matplotlib.pyplot as plt\n",
    "from datetime import datetime\n",
    "\n",
    "pd.options.display.max_columns = None\n",
    "\n",
    "# Откроем файлы с данными и выведем первые 5 строк на экран:\n",
    "movies=pd.read_csv('/datasets/mkrf_movies.csv')\n",
    "shows=pd.read_csv('/datasets/mkrf_shows.csv')\n",
    "\n",
    "display(movies.head())\n",
    "shows.head()"
   ]
  },
  {
   "cell_type": "markdown",
   "metadata": {},
   "source": [
    "Таблица mkrf_movies содержит следующую информацию из реестра прокатных удостоверений:\n",
    "- title — название фильма;\n",
    "- puNumber — номер прокатного удостоверения;\n",
    "- show_start_date — дата премьеры фильма;\n",
    "- type — тип фильма;\n",
    "- film_studio — студия-производитель;\n",
    "- production_country — страна-производитель;\n",
    "- director — режиссёр;\n",
    "- producer — продюсер;\n",
    "- age_restriction — возрастная категория;\n",
    "- refundable_support — объём возвратных средств государственной поддержки;\n",
    "- nonrefundable_support — объём невозвратных средств государственной поддержки;\n",
    "- financing_source — источник государственного финансирования;\n",
    "- budget — общий бюджет фильма;\n",
    "- ratings — рейтинг фильма на КиноПоиске;\n",
    "- genres — жанр фильма.\n",
    "\n",
    "Таблица mkrf_shows содержит следующие сведения о показах фильмов в российских кинотеатрах:\n",
    "- puNumber — номер прокатного удостоверения;\n",
    "- box_office — сборы в рублях."
   ]
  },
  {
   "cell_type": "code",
   "execution_count": 2,
   "metadata": {
    "scrolled": true
   },
   "outputs": [
    {
     "name": "stdout",
     "output_type": "stream",
     "text": [
      "<class 'pandas.core.frame.DataFrame'>\n",
      "RangeIndex: 7486 entries, 0 to 7485\n",
      "Data columns (total 15 columns):\n",
      "title                    7486 non-null object\n",
      "puNumber                 7486 non-null object\n",
      "show_start_date          7486 non-null object\n",
      "type                     7486 non-null object\n",
      "film_studio              7468 non-null object\n",
      "production_country       7484 non-null object\n",
      "director                 7477 non-null object\n",
      "producer                 6918 non-null object\n",
      "age_restriction          7486 non-null object\n",
      "refundable_support       332 non-null float64\n",
      "nonrefundable_support    332 non-null float64\n",
      "budget                   332 non-null float64\n",
      "financing_source         332 non-null object\n",
      "ratings                  6519 non-null object\n",
      "genres                   6510 non-null object\n",
      "dtypes: float64(3), object(12)\n",
      "memory usage: 877.4+ KB\n"
     ]
    },
    {
     "data": {
      "text/plain": [
       "None"
      ]
     },
     "metadata": {},
     "output_type": "display_data"
    },
    {
     "name": "stdout",
     "output_type": "stream",
     "text": [
      "<class 'pandas.core.frame.DataFrame'>\n",
      "RangeIndex: 3158 entries, 0 to 3157\n",
      "Data columns (total 2 columns):\n",
      "puNumber      3158 non-null int64\n",
      "box_office    3158 non-null float64\n",
      "dtypes: float64(1), int64(1)\n",
      "memory usage: 49.5 KB\n"
     ]
    }
   ],
   "source": [
    "# Проверим тип данных в столбце puNumber в каждой из таблиц (чтобы затем по нему соединить таблицы): \n",
    "display(movies.info())\n",
    "shows.info()"
   ]
  },
  {
   "cell_type": "markdown",
   "metadata": {},
   "source": [
    "В таблице movies puNumber есть строковое значение, которое мешает приведению в целочисленное значение. Напишем функцию, чтобы найти его:                 "
   ]
  },
  {
   "cell_type": "code",
   "execution_count": 3,
   "metadata": {
    "scrolled": true
   },
   "outputs": [
    {
     "data": {
      "text/html": [
       "<div>\n",
       "<style scoped>\n",
       "    .dataframe tbody tr th:only-of-type {\n",
       "        vertical-align: middle;\n",
       "    }\n",
       "\n",
       "    .dataframe tbody tr th {\n",
       "        vertical-align: top;\n",
       "    }\n",
       "\n",
       "    .dataframe thead th {\n",
       "        text-align: right;\n",
       "    }\n",
       "</style>\n",
       "<table border=\"1\" class=\"dataframe\">\n",
       "  <thead>\n",
       "    <tr style=\"text-align: right;\">\n",
       "      <th></th>\n",
       "      <th>title</th>\n",
       "      <th>puNumber</th>\n",
       "      <th>show_start_date</th>\n",
       "      <th>type</th>\n",
       "      <th>film_studio</th>\n",
       "      <th>production_country</th>\n",
       "      <th>director</th>\n",
       "      <th>producer</th>\n",
       "      <th>age_restriction</th>\n",
       "      <th>refundable_support</th>\n",
       "      <th>nonrefundable_support</th>\n",
       "      <th>budget</th>\n",
       "      <th>financing_source</th>\n",
       "      <th>ratings</th>\n",
       "      <th>genres</th>\n",
       "      <th>puNumber_int</th>\n",
       "    </tr>\n",
       "  </thead>\n",
       "  <tbody>\n",
       "    <tr>\n",
       "      <td>1797</td>\n",
       "      <td>Курбан-роман. (История с жертвой)</td>\n",
       "      <td>нет</td>\n",
       "      <td>2014-05-15T12:00:00.000Z</td>\n",
       "      <td>Художественный</td>\n",
       "      <td>ФОНД \"ИННОВАЦИЯ\"</td>\n",
       "      <td>Россия</td>\n",
       "      <td>С.Юзеев</td>\n",
       "      <td>М.Галицкая</td>\n",
       "      <td>«12+» - для детей старше 12 лет</td>\n",
       "      <td>NaN</td>\n",
       "      <td>NaN</td>\n",
       "      <td>NaN</td>\n",
       "      <td>NaN</td>\n",
       "      <td>NaN</td>\n",
       "      <td>NaN</td>\n",
       "      <td>False</td>\n",
       "    </tr>\n",
       "  </tbody>\n",
       "</table>\n",
       "</div>"
      ],
      "text/plain": [
       "                                  title puNumber           show_start_date  \\\n",
       "1797  Курбан-роман. (История с жертвой)      нет  2014-05-15T12:00:00.000Z   \n",
       "\n",
       "                type       film_studio production_country director  \\\n",
       "1797  Художественный  ФОНД \"ИННОВАЦИЯ\"             Россия  С.Юзеев   \n",
       "\n",
       "        producer                  age_restriction  refundable_support  \\\n",
       "1797  М.Галицкая  «12+» - для детей старше 12 лет                 NaN   \n",
       "\n",
       "      nonrefundable_support  budget financing_source ratings genres  \\\n",
       "1797                    NaN     NaN              NaN     NaN    NaN   \n",
       "\n",
       "      puNumber_int  \n",
       "1797         False  "
      ]
     },
     "execution_count": 3,
     "metadata": {},
     "output_type": "execute_result"
    }
   ],
   "source": [
    "def check_int(value):\n",
    "    try:\n",
    "        int(value)\n",
    "        return True\n",
    "    except:\n",
    "        return False\n",
    "\n",
    "movies['puNumber_int'] = movies['puNumber'].apply(check_int)\n",
    "\n",
    "movies.query('puNumber_int==False')                                                "
   ]
  },
  {
   "cell_type": "code",
   "execution_count": 4,
   "metadata": {},
   "outputs": [
    {
     "name": "stdout",
     "output_type": "stream",
     "text": [
      "<class 'pandas.core.frame.DataFrame'>\n",
      "Int64Index: 7485 entries, 0 to 7485\n",
      "Data columns (total 16 columns):\n",
      "title                    7485 non-null object\n",
      "puNumber                 7485 non-null int64\n",
      "show_start_date          7485 non-null object\n",
      "type                     7485 non-null object\n",
      "film_studio              7467 non-null object\n",
      "production_country       7483 non-null object\n",
      "director                 7476 non-null object\n",
      "producer                 6917 non-null object\n",
      "age_restriction          7485 non-null object\n",
      "refundable_support       332 non-null float64\n",
      "nonrefundable_support    332 non-null float64\n",
      "budget                   332 non-null float64\n",
      "financing_source         332 non-null object\n",
      "ratings                  6519 non-null object\n",
      "genres                   6510 non-null object\n",
      "puNumber_int             7485 non-null bool\n",
      "dtypes: bool(1), float64(3), int64(1), object(11)\n",
      "memory usage: 942.9+ KB\n"
     ]
    }
   ],
   "source": [
    "# Удаляем запись, где отсутствует номер прокатного удостоверения (такая запись всего одна):\n",
    "movies = movies.drop(index=[1797])\n",
    "\n",
    "# Изменим тип данных столбца puNumber в таблице movies на целочисленный:\n",
    "movies['puNumber'] = movies['puNumber'].astype('int')\n",
    "movies.info()"
   ]
  },
  {
   "cell_type": "code",
   "execution_count": 5,
   "metadata": {},
   "outputs": [
    {
     "data": {
      "text/html": [
       "<div>\n",
       "<style scoped>\n",
       "    .dataframe tbody tr th:only-of-type {\n",
       "        vertical-align: middle;\n",
       "    }\n",
       "\n",
       "    .dataframe tbody tr th {\n",
       "        vertical-align: top;\n",
       "    }\n",
       "\n",
       "    .dataframe thead th {\n",
       "        text-align: right;\n",
       "    }\n",
       "</style>\n",
       "<table border=\"1\" class=\"dataframe\">\n",
       "  <thead>\n",
       "    <tr style=\"text-align: right;\">\n",
       "      <th></th>\n",
       "      <th>title</th>\n",
       "      <th>puNumber</th>\n",
       "      <th>show_start_date</th>\n",
       "      <th>type</th>\n",
       "      <th>film_studio</th>\n",
       "      <th>production_country</th>\n",
       "      <th>director</th>\n",
       "      <th>producer</th>\n",
       "      <th>age_restriction</th>\n",
       "      <th>refundable_support</th>\n",
       "      <th>nonrefundable_support</th>\n",
       "      <th>budget</th>\n",
       "      <th>financing_source</th>\n",
       "      <th>ratings</th>\n",
       "      <th>genres</th>\n",
       "      <th>puNumber_int</th>\n",
       "      <th>box_office</th>\n",
       "    </tr>\n",
       "  </thead>\n",
       "  <tbody>\n",
       "    <tr>\n",
       "      <td>0</td>\n",
       "      <td>Открытый простор</td>\n",
       "      <td>221048915</td>\n",
       "      <td>2015-11-27T12:00:00.000Z</td>\n",
       "      <td>Художественный</td>\n",
       "      <td>Тачстоун Пикчерз, Кобальт Пикчерз, Бикон Пикче...</td>\n",
       "      <td>США</td>\n",
       "      <td>Кевин Костнер</td>\n",
       "      <td>Дэвид Валдес, Кевин Костнер, Джейк Эбертс</td>\n",
       "      <td>«18+» - запрещено для детей</td>\n",
       "      <td>NaN</td>\n",
       "      <td>NaN</td>\n",
       "      <td>NaN</td>\n",
       "      <td>NaN</td>\n",
       "      <td>7.2</td>\n",
       "      <td>боевик,драма,мелодрама</td>\n",
       "      <td>True</td>\n",
       "      <td>NaN</td>\n",
       "    </tr>\n",
       "    <tr>\n",
       "      <td>1</td>\n",
       "      <td>Особо важное задание</td>\n",
       "      <td>111013716</td>\n",
       "      <td>2016-09-13T12:00:00.000Z</td>\n",
       "      <td>Художественный</td>\n",
       "      <td>Киностудия \"Мосфильм\"</td>\n",
       "      <td>СССР</td>\n",
       "      <td>Е.Матвеев</td>\n",
       "      <td>NaN</td>\n",
       "      <td>«6+» - для детей старше 6 лет</td>\n",
       "      <td>NaN</td>\n",
       "      <td>NaN</td>\n",
       "      <td>NaN</td>\n",
       "      <td>NaN</td>\n",
       "      <td>6.6</td>\n",
       "      <td>драма,военный</td>\n",
       "      <td>True</td>\n",
       "      <td>NaN</td>\n",
       "    </tr>\n",
       "    <tr>\n",
       "      <td>2</td>\n",
       "      <td>Особо опасен</td>\n",
       "      <td>221038416</td>\n",
       "      <td>2016-10-10T12:00:00.000Z</td>\n",
       "      <td>Художественный</td>\n",
       "      <td>Юниверсал Пикчерз, Кикстарт Продакшнз, Марк Пл...</td>\n",
       "      <td>США</td>\n",
       "      <td>Тимур Бекмамбетов</td>\n",
       "      <td>Джим Лемли, Джейсон Нетер, Марк Е.Платт, Яйн Смит</td>\n",
       "      <td>«18+» - запрещено для детей</td>\n",
       "      <td>NaN</td>\n",
       "      <td>NaN</td>\n",
       "      <td>NaN</td>\n",
       "      <td>NaN</td>\n",
       "      <td>6.8</td>\n",
       "      <td>фантастика,боевик,триллер</td>\n",
       "      <td>True</td>\n",
       "      <td>NaN</td>\n",
       "    </tr>\n",
       "    <tr>\n",
       "      <td>3</td>\n",
       "      <td>Особо опасен</td>\n",
       "      <td>221026916</td>\n",
       "      <td>2016-06-10T12:00:00.000Z</td>\n",
       "      <td>Художественный</td>\n",
       "      <td>Юниверсал Пикчерз, Кикстарт Продакшнз, Марк Пл...</td>\n",
       "      <td>США</td>\n",
       "      <td>Тимур Бекмамбетов</td>\n",
       "      <td>Джим Лемли, Джейсон Нетер, Марк Е.Платт, Яйн Смит</td>\n",
       "      <td>«18+» - запрещено для детей</td>\n",
       "      <td>NaN</td>\n",
       "      <td>NaN</td>\n",
       "      <td>NaN</td>\n",
       "      <td>NaN</td>\n",
       "      <td>6.8</td>\n",
       "      <td>фантастика,боевик,триллер</td>\n",
       "      <td>True</td>\n",
       "      <td>NaN</td>\n",
       "    </tr>\n",
       "    <tr>\n",
       "      <td>4</td>\n",
       "      <td>Особо опасен</td>\n",
       "      <td>221030815</td>\n",
       "      <td>2015-07-29T12:00:00.000Z</td>\n",
       "      <td>Художественный</td>\n",
       "      <td>Юниверсал Пикчерз, Кикстарт Продакшнз, Марк Пл...</td>\n",
       "      <td>США</td>\n",
       "      <td>Тимур Бекмамбетов</td>\n",
       "      <td>Джим Лемли, Джейсон Нетер, Марк Е.Платт, Яйн Смит</td>\n",
       "      <td>«18+» - запрещено для детей</td>\n",
       "      <td>NaN</td>\n",
       "      <td>NaN</td>\n",
       "      <td>NaN</td>\n",
       "      <td>NaN</td>\n",
       "      <td>6.8</td>\n",
       "      <td>фантастика,боевик,триллер</td>\n",
       "      <td>True</td>\n",
       "      <td>NaN</td>\n",
       "    </tr>\n",
       "  </tbody>\n",
       "</table>\n",
       "</div>"
      ],
      "text/plain": [
       "                  title   puNumber           show_start_date            type  \\\n",
       "0      Открытый простор  221048915  2015-11-27T12:00:00.000Z  Художественный   \n",
       "1  Особо важное задание  111013716  2016-09-13T12:00:00.000Z  Художественный   \n",
       "2          Особо опасен  221038416  2016-10-10T12:00:00.000Z  Художественный   \n",
       "3          Особо опасен  221026916  2016-06-10T12:00:00.000Z  Художественный   \n",
       "4          Особо опасен  221030815  2015-07-29T12:00:00.000Z  Художественный   \n",
       "\n",
       "                                         film_studio production_country  \\\n",
       "0  Тачстоун Пикчерз, Кобальт Пикчерз, Бикон Пикче...                США   \n",
       "1                              Киностудия \"Мосфильм\"               СССР   \n",
       "2  Юниверсал Пикчерз, Кикстарт Продакшнз, Марк Пл...                США   \n",
       "3  Юниверсал Пикчерз, Кикстарт Продакшнз, Марк Пл...                США   \n",
       "4  Юниверсал Пикчерз, Кикстарт Продакшнз, Марк Пл...                США   \n",
       "\n",
       "            director                                           producer  \\\n",
       "0      Кевин Костнер          Дэвид Валдес, Кевин Костнер, Джейк Эбертс   \n",
       "1          Е.Матвеев                                                NaN   \n",
       "2  Тимур Бекмамбетов  Джим Лемли, Джейсон Нетер, Марк Е.Платт, Яйн Смит   \n",
       "3  Тимур Бекмамбетов  Джим Лемли, Джейсон Нетер, Марк Е.Платт, Яйн Смит   \n",
       "4  Тимур Бекмамбетов  Джим Лемли, Джейсон Нетер, Марк Е.Платт, Яйн Смит   \n",
       "\n",
       "                 age_restriction  refundable_support  nonrefundable_support  \\\n",
       "0    «18+» - запрещено для детей                 NaN                    NaN   \n",
       "1  «6+» - для детей старше 6 лет                 NaN                    NaN   \n",
       "2    «18+» - запрещено для детей                 NaN                    NaN   \n",
       "3    «18+» - запрещено для детей                 NaN                    NaN   \n",
       "4    «18+» - запрещено для детей                 NaN                    NaN   \n",
       "\n",
       "   budget financing_source ratings                     genres  puNumber_int  \\\n",
       "0     NaN              NaN     7.2     боевик,драма,мелодрама          True   \n",
       "1     NaN              NaN     6.6              драма,военный          True   \n",
       "2     NaN              NaN     6.8  фантастика,боевик,триллер          True   \n",
       "3     NaN              NaN     6.8  фантастика,боевик,триллер          True   \n",
       "4     NaN              NaN     6.8  фантастика,боевик,триллер          True   \n",
       "\n",
       "   box_office  \n",
       "0         NaN  \n",
       "1         NaN  \n",
       "2         NaN  \n",
       "3         NaN  \n",
       "4         NaN  "
      ]
     },
     "execution_count": 5,
     "metadata": {},
     "output_type": "execute_result"
    }
   ],
   "source": [
    "# Объединим таблицы movies и shows по столбцу puNumber:\n",
    "data=movies.merge(shows, on='puNumber', how='left')\n",
    "data.head()"
   ]
  },
  {
   "cell_type": "code",
   "execution_count": 6,
   "metadata": {},
   "outputs": [],
   "source": [
    "# Заменим название столбца:\n",
    "data.rename(columns = {'puNumber':'pu_number'}, inplace=True)"
   ]
  },
  {
   "cell_type": "markdown",
   "metadata": {
    "id": "KLDGpPG0gFyM"
   },
   "source": [
    "## Предобработка данных"
   ]
  },
  {
   "cell_type": "markdown",
   "metadata": {
    "id": "ssWwKXsxgFyO"
   },
   "source": [
    "### 3.1. Проверка типов данных"
   ]
  },
  {
   "cell_type": "code",
   "execution_count": 7,
   "metadata": {
    "id": "kVGSplJOgFyO"
   },
   "outputs": [
    {
     "name": "stdout",
     "output_type": "stream",
     "text": [
      "<class 'pandas.core.frame.DataFrame'>\n",
      "Int64Index: 7485 entries, 0 to 7484\n",
      "Data columns (total 17 columns):\n",
      "title                    7485 non-null object\n",
      "pu_number                7485 non-null int64\n",
      "show_start_date          7485 non-null object\n",
      "type                     7485 non-null object\n",
      "film_studio              7467 non-null object\n",
      "production_country       7483 non-null object\n",
      "director                 7476 non-null object\n",
      "producer                 6917 non-null object\n",
      "age_restriction          7485 non-null object\n",
      "refundable_support       332 non-null float64\n",
      "nonrefundable_support    332 non-null float64\n",
      "budget                   332 non-null float64\n",
      "financing_source         332 non-null object\n",
      "ratings                  6519 non-null object\n",
      "genres                   6510 non-null object\n",
      "puNumber_int             7485 non-null bool\n",
      "box_office               3158 non-null float64\n",
      "dtypes: bool(1), float64(4), int64(1), object(11)\n",
      "memory usage: 1001.4+ KB\n"
     ]
    }
   ],
   "source": [
    "data.info()"
   ]
  },
  {
   "cell_type": "code",
   "execution_count": 8,
   "metadata": {},
   "outputs": [
    {
     "name": "stdout",
     "output_type": "stream",
     "text": [
      "<class 'pandas.core.frame.DataFrame'>\n",
      "Int64Index: 7485 entries, 0 to 7484\n",
      "Data columns (total 17 columns):\n",
      "title                    7485 non-null object\n",
      "pu_number                7485 non-null int64\n",
      "show_start_date          7485 non-null datetime64[ns, UTC]\n",
      "type                     7485 non-null object\n",
      "film_studio              7467 non-null object\n",
      "production_country       7483 non-null object\n",
      "director                 7476 non-null object\n",
      "producer                 6917 non-null object\n",
      "age_restriction          7485 non-null object\n",
      "refundable_support       332 non-null float64\n",
      "nonrefundable_support    332 non-null float64\n",
      "budget                   332 non-null float64\n",
      "financing_source         332 non-null object\n",
      "ratings                  6490 non-null float64\n",
      "genres                   6510 non-null object\n",
      "puNumber_int             7485 non-null bool\n",
      "box_office               3158 non-null float64\n",
      "dtypes: bool(1), datetime64[ns, UTC](1), float64(5), int64(1), object(9)\n",
      "memory usage: 1001.4+ KB\n"
     ]
    }
   ],
   "source": [
    "# Переведем значения в столбце show_start_date в формат даты:\n",
    "data['show_start_date']=pd.to_datetime(data['show_start_date'])\n",
    "\n",
    "# Изменим тип данных столбца ratings:\n",
    "data['ratings']=pd.to_numeric(data['ratings'],errors='coerce')\n",
    "\n",
    "# Проверим, как изменились типы данных:\n",
    "data.info()"
   ]
  },
  {
   "cell_type": "markdown",
   "metadata": {
    "id": "i0MOLbF-gFyP"
   },
   "source": [
    "### 3.2. Изучение пропусков в датафрейме"
   ]
  },
  {
   "cell_type": "code",
   "execution_count": 9,
   "metadata": {},
   "outputs": [
    {
     "data": {
      "text/plain": [
       "title                       0\n",
       "pu_number                   0\n",
       "show_start_date             0\n",
       "type                        0\n",
       "film_studio                18\n",
       "production_country          2\n",
       "director                    9\n",
       "producer                  568\n",
       "age_restriction             0\n",
       "refundable_support       7153\n",
       "nonrefundable_support    7153\n",
       "budget                   7153\n",
       "financing_source         7153\n",
       "ratings                   995\n",
       "genres                    975\n",
       "puNumber_int                0\n",
       "box_office               4327\n",
       "dtype: int64"
      ]
     },
     "execution_count": 9,
     "metadata": {},
     "output_type": "execute_result"
    }
   ],
   "source": [
    "data.isna().sum()"
   ]
  },
  {
   "cell_type": "markdown",
   "metadata": {
    "id": "8MJD_lkngFyP"
   },
   "source": [
    "Оценен объём данных в таблице movies: 7 485 записей. Заметно, что во многих колонках есть пропуски значений:\n",
    "- film_studio: у 18 фильмов не указана студия-производитель - заменим пропуски на \"неизвестно\";\n",
    "- production_country: у 2 фильмов не указана страна производства - заменим пропуски на \"неизвестно\";\n",
    "- director: режиссер не указан в 9 фильмах  -  заменим пропуски на \"неизвестно\";\n",
    "- producer: продюсер не указан для 568 фильмах  -  заменим пропуски на \"неизвестно\";\n",
    "- только у 5% фильмов есть информация о бюджете фильма, а также об источнике государственного финансирования и объёмах возвратных и невозвратных средств государственной поддержки. Это связано с тем, что для фильмов, которые не получали государственную поддержку, данные о бюджете не указаны. Оставим данные пропуски как есть;\n",
    "- ratings: для 995 фильмов рейтинги не указаны -  оставим пропуски как есть;\n",
    "- genres: 976 фильмов остались без информации о жанре -  заменим пропуски на \"неизвестно\";\n",
    "- box_office: 4328 записей о кассовых сборах не заполнены. Вероятно, произошел сбой в выгрузке информации. Также оставим пропуски, чтобы не было искажения информации о кассовых сборах.\n",
    "Проверим, много ли фильмов имеет одновременно пропуски и по рейтингу и по жанру. Если это так, то имеет смысл удалить данные фильмы."
   ]
  },
  {
   "cell_type": "code",
   "execution_count": 10,
   "metadata": {},
   "outputs": [],
   "source": [
    "# Пропуски заменим на слово \"неизвестно\":\n",
    "list_1=['film_studio', 'production_country', 'director', 'producer', 'genres']\n",
    "for i in list_1:\n",
    "    data[i]=data[i].fillna('неизвестно')"
   ]
  },
  {
   "cell_type": "markdown",
   "metadata": {},
   "source": [
    "Все пропуски изучены и обработаны."
   ]
  },
  {
   "cell_type": "markdown",
   "metadata": {
    "id": "4c6k1t9ygFyQ"
   },
   "source": [
    "### 3.3. Проверка на дубликаты в датафрейме"
   ]
  },
  {
   "cell_type": "code",
   "execution_count": 11,
   "metadata": {
    "id": "aKck8RIdgFyQ"
   },
   "outputs": [
    {
     "data": {
      "text/plain": [
       "0"
      ]
     },
     "execution_count": 11,
     "metadata": {},
     "output_type": "execute_result"
    }
   ],
   "source": [
    "# Проверим на явные дубликаты:\n",
    "data.duplicated().sum()"
   ]
  },
  {
   "cell_type": "markdown",
   "metadata": {},
   "source": [
    "Явных дубликатов нет."
   ]
  },
  {
   "cell_type": "code",
   "execution_count": 12,
   "metadata": {},
   "outputs": [
    {
     "data": {
      "text/plain": [
       "2"
      ]
     },
     "execution_count": 12,
     "metadata": {},
     "output_type": "execute_result"
    }
   ],
   "source": [
    "# Проверим теперь, есть ли дубликаты в столбце с номером прокатного удостоверения:\n",
    "data['pu_number'].duplicated().sum()"
   ]
  },
  {
   "cell_type": "code",
   "execution_count": 13,
   "metadata": {},
   "outputs": [
    {
     "data": {
      "text/html": [
       "<div>\n",
       "<style scoped>\n",
       "    .dataframe tbody tr th:only-of-type {\n",
       "        vertical-align: middle;\n",
       "    }\n",
       "\n",
       "    .dataframe tbody tr th {\n",
       "        vertical-align: top;\n",
       "    }\n",
       "\n",
       "    .dataframe thead th {\n",
       "        text-align: right;\n",
       "    }\n",
       "</style>\n",
       "<table border=\"1\" class=\"dataframe\">\n",
       "  <thead>\n",
       "    <tr style=\"text-align: right;\">\n",
       "      <th></th>\n",
       "      <th>title</th>\n",
       "      <th>pu_number</th>\n",
       "      <th>show_start_date</th>\n",
       "      <th>type</th>\n",
       "      <th>film_studio</th>\n",
       "      <th>production_country</th>\n",
       "      <th>director</th>\n",
       "      <th>producer</th>\n",
       "      <th>age_restriction</th>\n",
       "      <th>refundable_support</th>\n",
       "      <th>nonrefundable_support</th>\n",
       "      <th>budget</th>\n",
       "      <th>financing_source</th>\n",
       "      <th>ratings</th>\n",
       "      <th>genres</th>\n",
       "      <th>puNumber_int</th>\n",
       "      <th>box_office</th>\n",
       "    </tr>\n",
       "  </thead>\n",
       "  <tbody>\n",
       "    <tr>\n",
       "      <td>4637</td>\n",
       "      <td>Как жениться и остаться холостым</td>\n",
       "      <td>221154310</td>\n",
       "      <td>2010-12-17 12:00:00+00:00</td>\n",
       "      <td>Художественный</td>\n",
       "      <td>Ше Вам, Скрипт Ассосье, Тэ Фэ 1 Фильм Продюксь...</td>\n",
       "      <td>Франция</td>\n",
       "      <td>Эрик Лартиго</td>\n",
       "      <td>Амандин Било, Алан Шаба</td>\n",
       "      <td>«16+» - для детей старше 16 лет</td>\n",
       "      <td>NaN</td>\n",
       "      <td>NaN</td>\n",
       "      <td>NaN</td>\n",
       "      <td>NaN</td>\n",
       "      <td>7.0</td>\n",
       "      <td>мелодрама,комедия</td>\n",
       "      <td>True</td>\n",
       "      <td>NaN</td>\n",
       "    </tr>\n",
       "    <tr>\n",
       "      <td>4638</td>\n",
       "      <td>Иоанна - женщина на папском престоле /По роман...</td>\n",
       "      <td>221154310</td>\n",
       "      <td>2010-12-17 12:00:00+00:00</td>\n",
       "      <td>Художественный</td>\n",
       "      <td>Константин Фильм, А Эр Ди Дегето Фильм, Дюне ...</td>\n",
       "      <td>Германия - Великобритания - Италия - Испания</td>\n",
       "      <td>Зенке Вортманн</td>\n",
       "      <td>Оливер Бербен, Дорис Д.Хайнце, Фарук Элтан</td>\n",
       "      <td>«16+» - для детей старше 16 лет</td>\n",
       "      <td>NaN</td>\n",
       "      <td>NaN</td>\n",
       "      <td>NaN</td>\n",
       "      <td>NaN</td>\n",
       "      <td>7.6</td>\n",
       "      <td>драма,мелодрама,история</td>\n",
       "      <td>True</td>\n",
       "      <td>NaN</td>\n",
       "    </tr>\n",
       "    <tr>\n",
       "      <td>5066</td>\n",
       "      <td>Анализируй это!</td>\n",
       "      <td>221054410</td>\n",
       "      <td>2010-05-25 12:00:00+00:00</td>\n",
       "      <td>Художественный</td>\n",
       "      <td>Уорнер Бразерс, Вилладж Роудшоу Филмз ЛТД</td>\n",
       "      <td>США-Австралия</td>\n",
       "      <td>ХЭрольд Рэмис</td>\n",
       "      <td>Джейн Розенталь, Пола Уейнстейн</td>\n",
       "      <td>«16+» - для детей старше 16 лет</td>\n",
       "      <td>NaN</td>\n",
       "      <td>NaN</td>\n",
       "      <td>NaN</td>\n",
       "      <td>NaN</td>\n",
       "      <td>7.4</td>\n",
       "      <td>комедия,криминал</td>\n",
       "      <td>True</td>\n",
       "      <td>NaN</td>\n",
       "    </tr>\n",
       "    <tr>\n",
       "      <td>5067</td>\n",
       "      <td>Анализируй то!</td>\n",
       "      <td>221054410</td>\n",
       "      <td>2010-05-25 12:00:00+00:00</td>\n",
       "      <td>Художественный</td>\n",
       "      <td>Уорнер Бразерс, Виллидж Роадшоу Пикчерз, Эн-Пи...</td>\n",
       "      <td>США</td>\n",
       "      <td>Гарольд Реймис</td>\n",
       "      <td>Джейн Розенталь, Паул Уэйнстейн</td>\n",
       "      <td>«12+» - для детей старше 12 лет</td>\n",
       "      <td>NaN</td>\n",
       "      <td>NaN</td>\n",
       "      <td>NaN</td>\n",
       "      <td>NaN</td>\n",
       "      <td>6.8</td>\n",
       "      <td>комедия,криминал</td>\n",
       "      <td>True</td>\n",
       "      <td>NaN</td>\n",
       "    </tr>\n",
       "  </tbody>\n",
       "</table>\n",
       "</div>"
      ],
      "text/plain": [
       "                                                  title  pu_number  \\\n",
       "4637                   Как жениться и остаться холостым  221154310   \n",
       "4638  Иоанна - женщина на папском престоле /По роман...  221154310   \n",
       "5066                                    Анализируй это!  221054410   \n",
       "5067                                     Анализируй то!  221054410   \n",
       "\n",
       "               show_start_date            type  \\\n",
       "4637 2010-12-17 12:00:00+00:00  Художественный   \n",
       "4638 2010-12-17 12:00:00+00:00  Художественный   \n",
       "5066 2010-05-25 12:00:00+00:00  Художественный   \n",
       "5067 2010-05-25 12:00:00+00:00  Художественный   \n",
       "\n",
       "                                            film_studio  \\\n",
       "4637  Ше Вам, Скрипт Ассосье, Тэ Фэ 1 Фильм Продюксь...   \n",
       "4638   Константин Фильм, А Эр Ди Дегето Фильм, Дюне ...   \n",
       "5066          Уорнер Бразерс, Вилладж Роудшоу Филмз ЛТД   \n",
       "5067  Уорнер Бразерс, Виллидж Роадшоу Пикчерз, Эн-Пи...   \n",
       "\n",
       "                                production_country        director  \\\n",
       "4637                                       Франция    Эрик Лартиго   \n",
       "4638  Германия - Великобритания - Италия - Испания  Зенке Вортманн   \n",
       "5066                                 США-Австралия   ХЭрольд Рэмис   \n",
       "5067                                           США  Гарольд Реймис   \n",
       "\n",
       "                                        producer  \\\n",
       "4637                     Амандин Било, Алан Шаба   \n",
       "4638  Оливер Бербен, Дорис Д.Хайнце, Фарук Элтан   \n",
       "5066             Джейн Розенталь, Пола Уейнстейн   \n",
       "5067             Джейн Розенталь, Паул Уэйнстейн   \n",
       "\n",
       "                      age_restriction  refundable_support  \\\n",
       "4637  «16+» - для детей старше 16 лет                 NaN   \n",
       "4638  «16+» - для детей старше 16 лет                 NaN   \n",
       "5066  «16+» - для детей старше 16 лет                 NaN   \n",
       "5067  «12+» - для детей старше 12 лет                 NaN   \n",
       "\n",
       "      nonrefundable_support  budget financing_source  ratings  \\\n",
       "4637                    NaN     NaN              NaN      7.0   \n",
       "4638                    NaN     NaN              NaN      7.6   \n",
       "5066                    NaN     NaN              NaN      7.4   \n",
       "5067                    NaN     NaN              NaN      6.8   \n",
       "\n",
       "                       genres  puNumber_int  box_office  \n",
       "4637        мелодрама,комедия          True         NaN  \n",
       "4638  драма,мелодрама,история          True         NaN  \n",
       "5066         комедия,криминал          True         NaN  \n",
       "5067         комедия,криминал          True         NaN  "
      ]
     },
     "execution_count": 13,
     "metadata": {},
     "output_type": "execute_result"
    }
   ],
   "source": [
    "# Датафрейм содержит всего 2 дубликата - посмотрим на них:\n",
    "data[data.duplicated(subset=['pu_number'], keep = False)]"
   ]
  },
  {
   "cell_type": "markdown",
   "metadata": {},
   "source": [
    "Видно, что оба \"дубликата\" на самом деле не являются дубликатами, т.к:\n",
    "- для pu_number 221154310 различается название фильма;\n",
    "- для pu_number 221054410 различаются рейтинги.\n",
    "Похоже, что это была просто ошибка ввода номера, или технический сбой при присванивании номера выдаваемому прокатному удостоверению.\n",
    "Удалять данные дубликаты нельзя, но можно вручную присвоить им другие номера прокатных удостоверений. Чтобы убедиться, что будут присвоены уникальные номера pu_number, ознакомимся с имеющимися значениями:"
   ]
  },
  {
   "cell_type": "code",
   "execution_count": 14,
   "metadata": {},
   "outputs": [
    {
     "data": {
      "text/plain": [
       "count    7.485000e+03\n",
       "mean     1.351966e+08\n",
       "std      3.835292e+07\n",
       "min      1.811096e+06\n",
       "25%      1.120251e+08\n",
       "50%      1.210155e+08\n",
       "75%      1.240033e+08\n",
       "max      2.310011e+08\n",
       "Name: pu_number, dtype: float64"
      ]
     },
     "execution_count": 14,
     "metadata": {},
     "output_type": "execute_result"
    }
   ],
   "source": [
    "data['pu_number'].describe()"
   ]
  },
  {
   "cell_type": "code",
   "execution_count": 15,
   "metadata": {},
   "outputs": [
    {
     "data": {
      "text/plain": [
       "0"
      ]
     },
     "execution_count": 15,
     "metadata": {},
     "output_type": "execute_result"
    }
   ],
   "source": [
    "# Присвоим два значения pu_number, которые не встречаются (100000000 и 100000001):\n",
    "data.loc[((data['pu_number'] == 221154310)&(data['title'] == 'Как жениться и остаться холостым')),'pu_number'] = 100000000\n",
    "data.loc[((data['pu_number'] == 221054410)&(data['title'] == 'Анализируй то!')),'pu_number'] = 100000001\n",
    "\n",
    "# Проверим теперь, осталисьли дубликаты в столбце с номером прокатного удостоверения:\n",
    "data['pu_number'].duplicated().sum()"
   ]
  },
  {
   "cell_type": "markdown",
   "metadata": {},
   "source": [
    "Дубликатов в столбце с номером прокатного удостоверения не осталось."
   ]
  },
  {
   "cell_type": "markdown",
   "metadata": {
    "id": "52fOPrEBgFyQ"
   },
   "source": [
    "### 3.4. Изучение категориальных значений"
   ]
  },
  {
   "cell_type": "code",
   "execution_count": 16,
   "metadata": {
    "id": "PnXKIVdFgFyR"
   },
   "outputs": [],
   "source": [
    "# Удалим из столбца type лишние пробелы, которые встречаются в начале и в конце строки:\n",
    "data['type']=data['type'].str.strip()\n",
    "\n",
    "# Удалим также и из столбца production_country лишние пробелы, которые встречаются внутри строки:\n",
    "data['production_country']=data['production_country'].replace(' ','', regex=True)\n",
    "\n",
    "# Заменим еще в столбце production_country дефис на запятую в целях единообразия разделителей:\n",
    "data['production_country']=data['production_country'].replace('-',',', regex=True)"
   ]
  },
  {
   "cell_type": "markdown",
   "metadata": {},
   "source": [
    "Некоторые значения в категориальных переменных хранятся как списки - несколько стран, режиссеров, студий, жанров и т.д. Решением данной пролемы станет выделение первых значений из этих списков."
   ]
  },
  {
   "cell_type": "markdown",
   "metadata": {
    "id": "XFSN5lrEgFyR"
   },
   "source": [
    "### 3.5. Проверка количественных значений"
   ]
  },
  {
   "cell_type": "code",
   "execution_count": 17,
   "metadata": {
    "scrolled": false
   },
   "outputs": [
    {
     "data": {
      "text/html": [
       "<div>\n",
       "<style scoped>\n",
       "    .dataframe tbody tr th:only-of-type {\n",
       "        vertical-align: middle;\n",
       "    }\n",
       "\n",
       "    .dataframe tbody tr th {\n",
       "        vertical-align: top;\n",
       "    }\n",
       "\n",
       "    .dataframe thead th {\n",
       "        text-align: right;\n",
       "    }\n",
       "</style>\n",
       "<table border=\"1\" class=\"dataframe\">\n",
       "  <thead>\n",
       "    <tr style=\"text-align: right;\">\n",
       "      <th></th>\n",
       "      <th>pu_number</th>\n",
       "      <th>refundable_support</th>\n",
       "      <th>nonrefundable_support</th>\n",
       "      <th>budget</th>\n",
       "      <th>ratings</th>\n",
       "      <th>box_office</th>\n",
       "    </tr>\n",
       "  </thead>\n",
       "  <tbody>\n",
       "    <tr>\n",
       "      <td>count</td>\n",
       "      <td>7.485000e+03</td>\n",
       "      <td>3.320000e+02</td>\n",
       "      <td>3.320000e+02</td>\n",
       "      <td>3.320000e+02</td>\n",
       "      <td>6490.000000</td>\n",
       "      <td>3.158000e+03</td>\n",
       "    </tr>\n",
       "    <tr>\n",
       "      <td>mean</td>\n",
       "      <td>1.351642e+08</td>\n",
       "      <td>1.186446e+07</td>\n",
       "      <td>4.898099e+07</td>\n",
       "      <td>1.272297e+08</td>\n",
       "      <td>6.479245</td>\n",
       "      <td>7.647870e+07</td>\n",
       "    </tr>\n",
       "    <tr>\n",
       "      <td>std</td>\n",
       "      <td>3.833150e+07</td>\n",
       "      <td>2.491656e+07</td>\n",
       "      <td>5.998012e+07</td>\n",
       "      <td>1.885883e+08</td>\n",
       "      <td>1.101665</td>\n",
       "      <td>2.403531e+08</td>\n",
       "    </tr>\n",
       "    <tr>\n",
       "      <td>min</td>\n",
       "      <td>1.811096e+06</td>\n",
       "      <td>0.000000e+00</td>\n",
       "      <td>0.000000e+00</td>\n",
       "      <td>0.000000e+00</td>\n",
       "      <td>1.000000</td>\n",
       "      <td>0.000000e+00</td>\n",
       "    </tr>\n",
       "    <tr>\n",
       "      <td>25%</td>\n",
       "      <td>1.120249e+08</td>\n",
       "      <td>0.000000e+00</td>\n",
       "      <td>2.500000e+07</td>\n",
       "      <td>4.200000e+07</td>\n",
       "      <td>5.900000</td>\n",
       "      <td>8.623900e+04</td>\n",
       "    </tr>\n",
       "    <tr>\n",
       "      <td>50%</td>\n",
       "      <td>1.210154e+08</td>\n",
       "      <td>0.000000e+00</td>\n",
       "      <td>3.000000e+07</td>\n",
       "      <td>6.864992e+07</td>\n",
       "      <td>6.600000</td>\n",
       "      <td>2.327988e+06</td>\n",
       "    </tr>\n",
       "    <tr>\n",
       "      <td>75%</td>\n",
       "      <td>1.240033e+08</td>\n",
       "      <td>1.500000e+07</td>\n",
       "      <td>4.037500e+07</td>\n",
       "      <td>1.419853e+08</td>\n",
       "      <td>7.200000</td>\n",
       "      <td>2.397967e+07</td>\n",
       "    </tr>\n",
       "    <tr>\n",
       "      <td>max</td>\n",
       "      <td>2.310011e+08</td>\n",
       "      <td>1.800000e+08</td>\n",
       "      <td>4.000000e+08</td>\n",
       "      <td>2.305074e+09</td>\n",
       "      <td>9.200000</td>\n",
       "      <td>3.073569e+09</td>\n",
       "    </tr>\n",
       "  </tbody>\n",
       "</table>\n",
       "</div>"
      ],
      "text/plain": [
       "          pu_number  refundable_support  nonrefundable_support        budget  \\\n",
       "count  7.485000e+03        3.320000e+02           3.320000e+02  3.320000e+02   \n",
       "mean   1.351642e+08        1.186446e+07           4.898099e+07  1.272297e+08   \n",
       "std    3.833150e+07        2.491656e+07           5.998012e+07  1.885883e+08   \n",
       "min    1.811096e+06        0.000000e+00           0.000000e+00  0.000000e+00   \n",
       "25%    1.120249e+08        0.000000e+00           2.500000e+07  4.200000e+07   \n",
       "50%    1.210154e+08        0.000000e+00           3.000000e+07  6.864992e+07   \n",
       "75%    1.240033e+08        1.500000e+07           4.037500e+07  1.419853e+08   \n",
       "max    2.310011e+08        1.800000e+08           4.000000e+08  2.305074e+09   \n",
       "\n",
       "           ratings    box_office  \n",
       "count  6490.000000  3.158000e+03  \n",
       "mean      6.479245  7.647870e+07  \n",
       "std       1.101665  2.403531e+08  \n",
       "min       1.000000  0.000000e+00  \n",
       "25%       5.900000  8.623900e+04  \n",
       "50%       6.600000  2.327988e+06  \n",
       "75%       7.200000  2.397967e+07  \n",
       "max       9.200000  3.073569e+09  "
      ]
     },
     "execution_count": 17,
     "metadata": {},
     "output_type": "execute_result"
    }
   ],
   "source": [
    "# Опишем количественные значения:\n",
    "data.describe()"
   ]
  },
  {
   "cell_type": "code",
   "execution_count": 18,
   "metadata": {
    "scrolled": true
   },
   "outputs": [
    {
     "data": {
      "text/plain": [
       "16"
      ]
     },
     "execution_count": 18,
     "metadata": {},
     "output_type": "execute_result"
    }
   ],
   "source": [
    "# Посчитаем количество фильмов, в которых бюджет составляет 0 руб, несмотря на наличие nonrefundable_support:\n",
    "data[(data['nonrefundable_support'] != 0)&(data['budget']==0)]['title'].count()"
   ]
  },
  {
   "cell_type": "code",
   "execution_count": 19,
   "metadata": {},
   "outputs": [
    {
     "data": {
      "text/plain": [
       "0"
      ]
     },
     "execution_count": 19,
     "metadata": {},
     "output_type": "execute_result"
    }
   ],
   "source": [
    "# Удалим эти 16 записей и проверим результат:\n",
    "data = data[(data['nonrefundable_support'] != 0)&(data['budget']!=0)]\n",
    "data[(data['nonrefundable_support'] != 0)&(data['budget']==0)]['title'].count()"
   ]
  },
  {
   "cell_type": "code",
   "execution_count": 20,
   "metadata": {},
   "outputs": [
    {
     "data": {
      "text/plain": [
       "0"
      ]
     },
     "execution_count": 20,
     "metadata": {},
     "output_type": "execute_result"
    }
   ],
   "source": [
    "# Проверим - остались ли фильмы, в которых объем невозвратных средств составляет 0 руб:\n",
    "data.loc[data['nonrefundable_support'] == 0]['title'].count()"
   ]
  },
  {
   "cell_type": "code",
   "execution_count": 21,
   "metadata": {},
   "outputs": [
    {
     "data": {
      "text/plain": [
       "231"
      ]
     },
     "execution_count": 21,
     "metadata": {},
     "output_type": "execute_result"
    }
   ],
   "source": [
    "# Посчитаем количество фильмов, в которых кассовые сборы составляет менее 500 руб:\n",
    "data[data['box_office'] < 1000]['title'].count()"
   ]
  },
  {
   "cell_type": "markdown",
   "metadata": {},
   "source": [
    "Количественные значения содержатся в следующих столбцах:\n",
    "- budget. Бюджет фильма указан только в случае, если была получена гос.поддержка. Это нормально и может объясняется невозможностью получить данные о бюджете фильмов, которые были сняты без господдержки. Однако вызывают сомнение данные, в которых бюджет составляет 0 руб, несмотря на наличие nonrefundable_support - количество таких фильмов 16. Вероятно, что просто забыли указать реальный бюджет фильма. Удалим эти значения.  \n",
    "- refundable_support. Получение гос.поддержки не всегда означает, что будет возвращена какая-то часть средств (т.е. объем возвратных средств гос.поддержки во многих случает составляет 0 руб). Это нормально.\n",
    "- nonrefundable_support. Получение гос.поддержки всегда означает наличие какого-то объёма невозвратных средств. Поэтому выглядят подозрительными 9 фильмов с гос.поддержкой, у которых объём невозвратных средств составляет 0 руб. Скорее всего, забыли указать сумму nonrefundable_support. Эти фильмы были удалены вместе с 16 записями с нулевым бюджетом.\n",
    "- ratings указан не для всех фильмов, но данные подозрения не вызывают.\n",
    "- box_office (кассовые сборы) указаны только для половины фильмов. Известно, что сумма указана в руб. Выглядят подозрительными кассовые сборы c маленькими значениями Например, у 231 фильмов сборы составили менее 1000 руб. Это выглядит, нереальным. Возможная причина этого в том, что забыли приписать нули (т.е. сумма должна была быть указана в тыс руб/в млн руб), либо сумма исходная была все-таки в валюте.  "
   ]
  },
  {
   "cell_type": "markdown",
   "metadata": {
    "id": "Eu6oWp2CgFyS"
   },
   "source": [
    "### 3.6. Добавление новых столбцов"
   ]
  },
  {
   "cell_type": "markdown",
   "metadata": {
    "id": "7GgW-UpAgFyS"
   },
   "source": [
    "1) Создадим столбец с информацией о годе проката. Выделим год из даты премьеры фильма."
   ]
  },
  {
   "cell_type": "code",
   "execution_count": 22,
   "metadata": {},
   "outputs": [],
   "source": [
    "# Создадим столбец с годом премьеры фильма:\n",
    "data['year']=pd.DatetimeIndex(data['show_start_date']).year"
   ]
  },
  {
   "cell_type": "markdown",
   "metadata": {
    "id": "nFTDLDYOgFyT"
   },
   "source": [
    "2) Создадим два столбца: с именем и фамилией главного режиссёра и основным жанром фильма. В столбцы войдут первые значения из списка режиссёров и жанров соответственно."
   ]
  },
  {
   "cell_type": "code",
   "execution_count": 23,
   "metadata": {},
   "outputs": [
    {
     "data": {
      "text/html": [
       "<div>\n",
       "<style scoped>\n",
       "    .dataframe tbody tr th:only-of-type {\n",
       "        vertical-align: middle;\n",
       "    }\n",
       "\n",
       "    .dataframe tbody tr th {\n",
       "        vertical-align: top;\n",
       "    }\n",
       "\n",
       "    .dataframe thead th {\n",
       "        text-align: right;\n",
       "    }\n",
       "</style>\n",
       "<table border=\"1\" class=\"dataframe\">\n",
       "  <thead>\n",
       "    <tr style=\"text-align: right;\">\n",
       "      <th></th>\n",
       "      <th>director</th>\n",
       "      <th>director_first</th>\n",
       "      <th>genres</th>\n",
       "      <th>genres_first</th>\n",
       "    </tr>\n",
       "  </thead>\n",
       "  <tbody>\n",
       "    <tr>\n",
       "      <td>0</td>\n",
       "      <td>Кевин Костнер</td>\n",
       "      <td>Кевин Костнер</td>\n",
       "      <td>боевик,драма,мелодрама</td>\n",
       "      <td>боевик</td>\n",
       "    </tr>\n",
       "    <tr>\n",
       "      <td>1</td>\n",
       "      <td>Е.Матвеев</td>\n",
       "      <td>Е.Матвеев</td>\n",
       "      <td>драма,военный</td>\n",
       "      <td>драма</td>\n",
       "    </tr>\n",
       "    <tr>\n",
       "      <td>2</td>\n",
       "      <td>Тимур Бекмамбетов</td>\n",
       "      <td>Тимур Бекмамбетов</td>\n",
       "      <td>фантастика,боевик,триллер</td>\n",
       "      <td>фантастика</td>\n",
       "    </tr>\n",
       "    <tr>\n",
       "      <td>3</td>\n",
       "      <td>Тимур Бекмамбетов</td>\n",
       "      <td>Тимур Бекмамбетов</td>\n",
       "      <td>фантастика,боевик,триллер</td>\n",
       "      <td>фантастика</td>\n",
       "    </tr>\n",
       "    <tr>\n",
       "      <td>4</td>\n",
       "      <td>Тимур Бекмамбетов</td>\n",
       "      <td>Тимур Бекмамбетов</td>\n",
       "      <td>фантастика,боевик,триллер</td>\n",
       "      <td>фантастика</td>\n",
       "    </tr>\n",
       "  </tbody>\n",
       "</table>\n",
       "</div>"
      ],
      "text/plain": [
       "            director     director_first                     genres  \\\n",
       "0      Кевин Костнер      Кевин Костнер     боевик,драма,мелодрама   \n",
       "1          Е.Матвеев          Е.Матвеев              драма,военный   \n",
       "2  Тимур Бекмамбетов  Тимур Бекмамбетов  фантастика,боевик,триллер   \n",
       "3  Тимур Бекмамбетов  Тимур Бекмамбетов  фантастика,боевик,триллер   \n",
       "4  Тимур Бекмамбетов  Тимур Бекмамбетов  фантастика,боевик,триллер   \n",
       "\n",
       "  genres_first  \n",
       "0       боевик  \n",
       "1        драма  \n",
       "2   фантастика  \n",
       "3   фантастика  \n",
       "4   фантастика  "
      ]
     },
     "execution_count": 23,
     "metadata": {},
     "output_type": "execute_result"
    }
   ],
   "source": [
    "# Создадим столбец с именем главного режиссера:\n",
    "df_director=data['director'].str.split(',',expand=True)\n",
    "data['director_first']=df_director[0]\n",
    "\n",
    "# Создадим столбец с названием главного жанра:\n",
    "df_genres=data['genres'].str.split(',',expand=True)\n",
    "data['genres_first']=df_genres[0]\n",
    "\n",
    "# Создадим столбец с главной страной:\n",
    "df_country=data['production_country'].str.split(',',expand=True)\n",
    "data['country_first']=df_country[0]\n",
    "\n",
    "# Проверим результат:\n",
    "data[['director', 'director_first', 'genres', 'genres_first']].head()"
   ]
  },
  {
   "cell_type": "markdown",
   "metadata": {
    "id": "1FsCXHwdgFyU"
   },
   "source": [
    "3) Посчитаем, какую долю от общего бюджета фильма составляет государственная поддержка."
   ]
  },
  {
   "cell_type": "code",
   "execution_count": 24,
   "metadata": {},
   "outputs": [
    {
     "data": {
      "text/html": [
       "<div>\n",
       "<style scoped>\n",
       "    .dataframe tbody tr th:only-of-type {\n",
       "        vertical-align: middle;\n",
       "    }\n",
       "\n",
       "    .dataframe tbody tr th {\n",
       "        vertical-align: top;\n",
       "    }\n",
       "\n",
       "    .dataframe thead th {\n",
       "        text-align: right;\n",
       "    }\n",
       "</style>\n",
       "<table border=\"1\" class=\"dataframe\">\n",
       "  <thead>\n",
       "    <tr style=\"text-align: right;\">\n",
       "      <th></th>\n",
       "      <th>title</th>\n",
       "      <th>pu_number</th>\n",
       "      <th>show_start_date</th>\n",
       "      <th>type</th>\n",
       "      <th>film_studio</th>\n",
       "      <th>production_country</th>\n",
       "      <th>director</th>\n",
       "      <th>producer</th>\n",
       "      <th>age_restriction</th>\n",
       "      <th>refundable_support</th>\n",
       "      <th>nonrefundable_support</th>\n",
       "      <th>budget</th>\n",
       "      <th>financing_source</th>\n",
       "      <th>ratings</th>\n",
       "      <th>genres</th>\n",
       "      <th>puNumber_int</th>\n",
       "      <th>box_office</th>\n",
       "      <th>year</th>\n",
       "      <th>director_first</th>\n",
       "      <th>genres_first</th>\n",
       "      <th>country_first</th>\n",
       "      <th>total_support</th>\n",
       "      <th>%_total_support</th>\n",
       "      <th>%_refundable_support</th>\n",
       "      <th>%_nonrefundable_support</th>\n",
       "    </tr>\n",
       "  </thead>\n",
       "  <tbody>\n",
       "    <tr>\n",
       "      <td>1281</td>\n",
       "      <td>Пока еще жива</td>\n",
       "      <td>111005313</td>\n",
       "      <td>2013-10-11 12:00:00+00:00</td>\n",
       "      <td>Художественный</td>\n",
       "      <td>АНО содействия развитию кинематографии \"Ангел-...</td>\n",
       "      <td>Россия</td>\n",
       "      <td>А.Атанесян</td>\n",
       "      <td>А.Атанесян, М.Бабаханов, Р.Бутко</td>\n",
       "      <td>«16+» - для детей старше 16 лет</td>\n",
       "      <td>0.0</td>\n",
       "      <td>26500000.0</td>\n",
       "      <td>79411900.0</td>\n",
       "      <td>Министерство культуры</td>\n",
       "      <td>8.1</td>\n",
       "      <td>драма,мелодрама</td>\n",
       "      <td>True</td>\n",
       "      <td>365353.6</td>\n",
       "      <td>2013</td>\n",
       "      <td>А.Атанесян</td>\n",
       "      <td>драма</td>\n",
       "      <td>Россия</td>\n",
       "      <td>26500000.0</td>\n",
       "      <td>0.333703</td>\n",
       "      <td>0.0</td>\n",
       "      <td>0.333703</td>\n",
       "    </tr>\n",
       "    <tr>\n",
       "      <td>1448</td>\n",
       "      <td>Бесславные придурки</td>\n",
       "      <td>111003314</td>\n",
       "      <td>2014-03-28 12:00:00+00:00</td>\n",
       "      <td>Художественный</td>\n",
       "      <td>ООО \"Компания \"АТК-Студио\"</td>\n",
       "      <td>Россия</td>\n",
       "      <td>А.Якимчук</td>\n",
       "      <td>А.Тютрюмов</td>\n",
       "      <td>«12+» - для детей старше 12 лет</td>\n",
       "      <td>0.0</td>\n",
       "      <td>26000000.0</td>\n",
       "      <td>37142857.0</td>\n",
       "      <td>Министерство культуры</td>\n",
       "      <td>NaN</td>\n",
       "      <td>неизвестно</td>\n",
       "      <td>True</td>\n",
       "      <td>28140.0</td>\n",
       "      <td>2014</td>\n",
       "      <td>А.Якимчук</td>\n",
       "      <td>неизвестно</td>\n",
       "      <td>Россия</td>\n",
       "      <td>26000000.0</td>\n",
       "      <td>0.700000</td>\n",
       "      <td>0.0</td>\n",
       "      <td>0.700000</td>\n",
       "    </tr>\n",
       "    <tr>\n",
       "      <td>1498</td>\n",
       "      <td>Невидимки</td>\n",
       "      <td>111004213</td>\n",
       "      <td>2013-09-10 12:00:00+00:00</td>\n",
       "      <td>Художественный</td>\n",
       "      <td>ООО \"Компания \"РЕАЛ-ДАКОТА\"</td>\n",
       "      <td>Россия</td>\n",
       "      <td>Р.Давлетьяров, С.Комаров</td>\n",
       "      <td>Р.Давлетьяров, А.Котелевский, А.Олейников</td>\n",
       "      <td>«12+» - для детей старше 12 лет</td>\n",
       "      <td>0.0</td>\n",
       "      <td>107847945.0</td>\n",
       "      <td>176023490.0</td>\n",
       "      <td>Фонд кино</td>\n",
       "      <td>5.3</td>\n",
       "      <td>комедия,фантастика</td>\n",
       "      <td>True</td>\n",
       "      <td>19957031.5</td>\n",
       "      <td>2013</td>\n",
       "      <td>Р.Давлетьяров</td>\n",
       "      <td>комедия</td>\n",
       "      <td>Россия</td>\n",
       "      <td>107847945.0</td>\n",
       "      <td>0.612691</td>\n",
       "      <td>0.0</td>\n",
       "      <td>0.612691</td>\n",
       "    </tr>\n",
       "    <tr>\n",
       "      <td>1524</td>\n",
       "      <td>БЕРЦЫ</td>\n",
       "      <td>111004314</td>\n",
       "      <td>2014-05-05 12:00:00+00:00</td>\n",
       "      <td>Художественный</td>\n",
       "      <td>ООО \"Студия \"Пассажир\"</td>\n",
       "      <td>Россия</td>\n",
       "      <td>Е.Миндадзе (псевдоним Катя Шагалова)</td>\n",
       "      <td>Л.Антонова</td>\n",
       "      <td>«16+» - для детей старше 16 лет</td>\n",
       "      <td>0.0</td>\n",
       "      <td>28000000.0</td>\n",
       "      <td>40574140.0</td>\n",
       "      <td>Министерство культуры</td>\n",
       "      <td>4.2</td>\n",
       "      <td>драма</td>\n",
       "      <td>True</td>\n",
       "      <td>55917.5</td>\n",
       "      <td>2014</td>\n",
       "      <td>Е.Миндадзе (псевдоним Катя Шагалова)</td>\n",
       "      <td>драма</td>\n",
       "      <td>Россия</td>\n",
       "      <td>28000000.0</td>\n",
       "      <td>0.690095</td>\n",
       "      <td>0.0</td>\n",
       "      <td>0.690095</td>\n",
       "    </tr>\n",
       "    <tr>\n",
       "      <td>1792</td>\n",
       "      <td>Братья Ч</td>\n",
       "      <td>111004414</td>\n",
       "      <td>2014-04-23 12:00:00+00:00</td>\n",
       "      <td>Художественный</td>\n",
       "      <td>ООО \"Студия \"Пассажир\"</td>\n",
       "      <td>Россия</td>\n",
       "      <td>М.Угаров</td>\n",
       "      <td>А.Миндадзе, Л.Антонова</td>\n",
       "      <td>«16+» - для детей старше 16 лет</td>\n",
       "      <td>0.0</td>\n",
       "      <td>25000000.0</td>\n",
       "      <td>40015122.0</td>\n",
       "      <td>Министерство культуры</td>\n",
       "      <td>6.4</td>\n",
       "      <td>драма</td>\n",
       "      <td>True</td>\n",
       "      <td>232100.0</td>\n",
       "      <td>2014</td>\n",
       "      <td>М.Угаров</td>\n",
       "      <td>драма</td>\n",
       "      <td>Россия</td>\n",
       "      <td>25000000.0</td>\n",
       "      <td>0.624764</td>\n",
       "      <td>0.0</td>\n",
       "      <td>0.624764</td>\n",
       "    </tr>\n",
       "  </tbody>\n",
       "</table>\n",
       "</div>"
      ],
      "text/plain": [
       "                    title  pu_number           show_start_date  \\\n",
       "1281        Пока еще жива  111005313 2013-10-11 12:00:00+00:00   \n",
       "1448  Бесславные придурки  111003314 2014-03-28 12:00:00+00:00   \n",
       "1498            Невидимки  111004213 2013-09-10 12:00:00+00:00   \n",
       "1524                БЕРЦЫ  111004314 2014-05-05 12:00:00+00:00   \n",
       "1792             Братья Ч  111004414 2014-04-23 12:00:00+00:00   \n",
       "\n",
       "                type                                        film_studio  \\\n",
       "1281  Художественный  АНО содействия развитию кинематографии \"Ангел-...   \n",
       "1448  Художественный                         ООО \"Компания \"АТК-Студио\"   \n",
       "1498  Художественный                        ООО \"Компания \"РЕАЛ-ДАКОТА\"   \n",
       "1524  Художественный                             ООО \"Студия \"Пассажир\"   \n",
       "1792  Художественный                             ООО \"Студия \"Пассажир\"   \n",
       "\n",
       "     production_country                              director  \\\n",
       "1281             Россия                            А.Атанесян   \n",
       "1448             Россия                             А.Якимчук   \n",
       "1498             Россия              Р.Давлетьяров, С.Комаров   \n",
       "1524             Россия  Е.Миндадзе (псевдоним Катя Шагалова)   \n",
       "1792             Россия                              М.Угаров   \n",
       "\n",
       "                                       producer  \\\n",
       "1281           А.Атанесян, М.Бабаханов, Р.Бутко   \n",
       "1448                                 А.Тютрюмов   \n",
       "1498  Р.Давлетьяров, А.Котелевский, А.Олейников   \n",
       "1524                                 Л.Антонова   \n",
       "1792                     А.Миндадзе, Л.Антонова   \n",
       "\n",
       "                      age_restriction  refundable_support  \\\n",
       "1281  «16+» - для детей старше 16 лет                 0.0   \n",
       "1448  «12+» - для детей старше 12 лет                 0.0   \n",
       "1498  «12+» - для детей старше 12 лет                 0.0   \n",
       "1524  «16+» - для детей старше 16 лет                 0.0   \n",
       "1792  «16+» - для детей старше 16 лет                 0.0   \n",
       "\n",
       "      nonrefundable_support       budget       financing_source  ratings  \\\n",
       "1281             26500000.0   79411900.0  Министерство культуры      8.1   \n",
       "1448             26000000.0   37142857.0  Министерство культуры      NaN   \n",
       "1498            107847945.0  176023490.0              Фонд кино      5.3   \n",
       "1524             28000000.0   40574140.0  Министерство культуры      4.2   \n",
       "1792             25000000.0   40015122.0  Министерство культуры      6.4   \n",
       "\n",
       "                  genres  puNumber_int  box_office  year  \\\n",
       "1281     драма,мелодрама          True    365353.6  2013   \n",
       "1448          неизвестно          True     28140.0  2014   \n",
       "1498  комедия,фантастика          True  19957031.5  2013   \n",
       "1524               драма          True     55917.5  2014   \n",
       "1792               драма          True    232100.0  2014   \n",
       "\n",
       "                            director_first genres_first country_first  \\\n",
       "1281                            А.Атанесян        драма        Россия   \n",
       "1448                             А.Якимчук   неизвестно        Россия   \n",
       "1498                         Р.Давлетьяров      комедия        Россия   \n",
       "1524  Е.Миндадзе (псевдоним Катя Шагалова)        драма        Россия   \n",
       "1792                              М.Угаров        драма        Россия   \n",
       "\n",
       "      total_support  %_total_support  %_refundable_support  \\\n",
       "1281     26500000.0         0.333703                   0.0   \n",
       "1448     26000000.0         0.700000                   0.0   \n",
       "1498    107847945.0         0.612691                   0.0   \n",
       "1524     28000000.0         0.690095                   0.0   \n",
       "1792     25000000.0         0.624764                   0.0   \n",
       "\n",
       "      %_nonrefundable_support  \n",
       "1281                 0.333703  \n",
       "1448                 0.700000  \n",
       "1498                 0.612691  \n",
       "1524                 0.690095  \n",
       "1792                 0.624764  "
      ]
     },
     "execution_count": 24,
     "metadata": {},
     "output_type": "execute_result"
    }
   ],
   "source": [
    "# Добавим в таблицу столбец total_support, в котором сумируем объем возвратных и невозвратных средств гос.поддержки:\n",
    "data['total_support']=data['refundable_support']+data['nonrefundable_support']\n",
    "\n",
    "# Добавим столбец с расчетом доли каждого вида гос.поддержки от общего бюджета фильма: \n",
    "data['%_total_support']=data['total_support']/data['budget']\n",
    "data['%_refundable_support']=data['refundable_support']/data['budget']\n",
    "data['%_nonrefundable_support']=data['nonrefundable_support']/data['budget']\n",
    "\n",
    "# Проверим результат:\n",
    "data[(data['budget']>0)].head()"
   ]
  },
  {
   "cell_type": "code",
   "execution_count": 25,
   "metadata": {},
   "outputs": [
    {
     "data": {
      "text/html": [
       "<div>\n",
       "<style scoped>\n",
       "    .dataframe tbody tr th:only-of-type {\n",
       "        vertical-align: middle;\n",
       "    }\n",
       "\n",
       "    .dataframe tbody tr th {\n",
       "        vertical-align: top;\n",
       "    }\n",
       "\n",
       "    .dataframe thead th {\n",
       "        text-align: right;\n",
       "    }\n",
       "</style>\n",
       "<table border=\"1\" class=\"dataframe\">\n",
       "  <thead>\n",
       "    <tr style=\"text-align: right;\">\n",
       "      <th></th>\n",
       "      <th>budget</th>\n",
       "      <th>total_support</th>\n",
       "      <th>refundable_support</th>\n",
       "      <th>nonrefundable_support</th>\n",
       "      <th>%_total_support</th>\n",
       "      <th>%_refundable_support</th>\n",
       "      <th>%_nonrefundable_support</th>\n",
       "    </tr>\n",
       "  </thead>\n",
       "  <tbody>\n",
       "    <tr>\n",
       "      <td>count</td>\n",
       "      <td>3.070000e+02</td>\n",
       "      <td>3.070000e+02</td>\n",
       "      <td>3.070000e+02</td>\n",
       "      <td>3.070000e+02</td>\n",
       "      <td>307.000000</td>\n",
       "      <td>307.000000</td>\n",
       "      <td>307.000000</td>\n",
       "    </tr>\n",
       "    <tr>\n",
       "      <td>mean</td>\n",
       "      <td>1.333371e+08</td>\n",
       "      <td>5.977107e+07</td>\n",
       "      <td>1.041042e+07</td>\n",
       "      <td>4.936065e+07</td>\n",
       "      <td>0.519514</td>\n",
       "      <td>0.057192</td>\n",
       "      <td>0.462322</td>\n",
       "    </tr>\n",
       "    <tr>\n",
       "      <td>std</td>\n",
       "      <td>1.929219e+08</td>\n",
       "      <td>7.387266e+07</td>\n",
       "      <td>2.385699e+07</td>\n",
       "      <td>6.015006e+07</td>\n",
       "      <td>0.168866</td>\n",
       "      <td>0.104377</td>\n",
       "      <td>0.184470</td>\n",
       "    </tr>\n",
       "    <tr>\n",
       "      <td>min</td>\n",
       "      <td>1.446246e+07</td>\n",
       "      <td>3.000000e+06</td>\n",
       "      <td>0.000000e+00</td>\n",
       "      <td>3.000000e+06</td>\n",
       "      <td>0.044043</td>\n",
       "      <td>0.000000</td>\n",
       "      <td>0.024553</td>\n",
       "    </tr>\n",
       "    <tr>\n",
       "      <td>25%</td>\n",
       "      <td>4.551094e+07</td>\n",
       "      <td>2.510000e+07</td>\n",
       "      <td>0.000000e+00</td>\n",
       "      <td>2.500000e+07</td>\n",
       "      <td>0.375000</td>\n",
       "      <td>0.000000</td>\n",
       "      <td>0.323825</td>\n",
       "    </tr>\n",
       "    <tr>\n",
       "      <td>50%</td>\n",
       "      <td>7.087617e+07</td>\n",
       "      <td>3.500000e+07</td>\n",
       "      <td>0.000000e+00</td>\n",
       "      <td>3.000000e+07</td>\n",
       "      <td>0.593163</td>\n",
       "      <td>0.000000</td>\n",
       "      <td>0.476190</td>\n",
       "    </tr>\n",
       "    <tr>\n",
       "      <td>75%</td>\n",
       "      <td>1.482258e+08</td>\n",
       "      <td>6.000000e+07</td>\n",
       "      <td>1.000000e+07</td>\n",
       "      <td>4.000000e+07</td>\n",
       "      <td>0.657363</td>\n",
       "      <td>0.090520</td>\n",
       "      <td>0.648232</td>\n",
       "    </tr>\n",
       "    <tr>\n",
       "      <td>max</td>\n",
       "      <td>2.305074e+09</td>\n",
       "      <td>5.000000e+08</td>\n",
       "      <td>1.800000e+08</td>\n",
       "      <td>4.000000e+08</td>\n",
       "      <td>0.784745</td>\n",
       "      <td>0.603861</td>\n",
       "      <td>0.700000</td>\n",
       "    </tr>\n",
       "  </tbody>\n",
       "</table>\n",
       "</div>"
      ],
      "text/plain": [
       "             budget  total_support  refundable_support  nonrefundable_support  \\\n",
       "count  3.070000e+02   3.070000e+02        3.070000e+02           3.070000e+02   \n",
       "mean   1.333371e+08   5.977107e+07        1.041042e+07           4.936065e+07   \n",
       "std    1.929219e+08   7.387266e+07        2.385699e+07           6.015006e+07   \n",
       "min    1.446246e+07   3.000000e+06        0.000000e+00           3.000000e+06   \n",
       "25%    4.551094e+07   2.510000e+07        0.000000e+00           2.500000e+07   \n",
       "50%    7.087617e+07   3.500000e+07        0.000000e+00           3.000000e+07   \n",
       "75%    1.482258e+08   6.000000e+07        1.000000e+07           4.000000e+07   \n",
       "max    2.305074e+09   5.000000e+08        1.800000e+08           4.000000e+08   \n",
       "\n",
       "       %_total_support  %_refundable_support  %_nonrefundable_support  \n",
       "count       307.000000            307.000000               307.000000  \n",
       "mean          0.519514              0.057192                 0.462322  \n",
       "std           0.168866              0.104377                 0.184470  \n",
       "min           0.044043              0.000000                 0.024553  \n",
       "25%           0.375000              0.000000                 0.323825  \n",
       "50%           0.593163              0.000000                 0.476190  \n",
       "75%           0.657363              0.090520                 0.648232  \n",
       "max           0.784745              0.603861                 0.700000  "
      ]
     },
     "execution_count": 25,
     "metadata": {},
     "output_type": "execute_result"
    }
   ],
   "source": [
    "# Исключим пока из анализа фильмы, по которым не были заполненные данные по бюджету фильма, а также по объему невозвратных средств гос.поддержки:\n",
    "list=['budget', 'total_support', 'refundable_support', 'nonrefundable_support', '%_total_support', '%_refundable_support', '%_nonrefundable_support']\n",
    "data[list].describe()"
   ]
  },
  {
   "cell_type": "markdown",
   "metadata": {},
   "source": [
    "Видим, что медианная величина бюджета фильма с гос.поддержкой составляет около 71 млн руб, в то время как средняя величина составляет 133 млн руб.Это свидетельствует о том, что есть некоторые фильмы, снятые с гос.поддержкой, с очень значительным бюджетом. Их бюджет повлиял на среднюю величину, но не затронул значение медианного бюджета.\n",
    "\n",
    "Объем средств гос.поддержки в среднем составляет около 35 млн руб, т.е. около 59% от бюджета фильма. Причем гос.поддержка в основном представляет собой именно невозвратные средства в размере около 30 млн руб. "
   ]
  },
  {
   "cell_type": "markdown",
   "metadata": {
    "id": "6t4EukPLgFyV"
   },
   "source": [
    "## Исследовательский анализ данных"
   ]
  },
  {
   "cell_type": "markdown",
   "metadata": {
    "id": "6t4EukPLgFyV"
   },
   "source": [
    "### 4.1. Количество фильмов вышедших в прокат"
   ]
  },
  {
   "cell_type": "markdown",
   "metadata": {
    "id": "vAH8WCzugFyV"
   },
   "source": [
    "Посмотрим, сколько фильмов выходило в прокат каждый год. Обратим внимание, что данные о прокате в кинотеатрах известны не для всех фильмов. Посчитаем, какую долю составляют фильмы с указанной информацией о прокате в кинотеатрах."
   ]
  },
  {
   "cell_type": "code",
   "execution_count": 26,
   "metadata": {},
   "outputs": [
    {
     "data": {
      "text/html": [
       "<div>\n",
       "<style scoped>\n",
       "    .dataframe tbody tr th:only-of-type {\n",
       "        vertical-align: middle;\n",
       "    }\n",
       "\n",
       "    .dataframe tbody tr th {\n",
       "        vertical-align: top;\n",
       "    }\n",
       "\n",
       "    .dataframe thead th {\n",
       "        text-align: right;\n",
       "    }\n",
       "</style>\n",
       "<table border=\"1\" class=\"dataframe\">\n",
       "  <thead>\n",
       "    <tr style=\"text-align: right;\">\n",
       "      <th></th>\n",
       "      <th>year</th>\n",
       "      <th>number_of_films_cinema</th>\n",
       "    </tr>\n",
       "  </thead>\n",
       "  <tbody>\n",
       "    <tr>\n",
       "      <td>0</td>\n",
       "      <td>2010</td>\n",
       "      <td>105</td>\n",
       "    </tr>\n",
       "    <tr>\n",
       "      <td>1</td>\n",
       "      <td>2011</td>\n",
       "      <td>109</td>\n",
       "    </tr>\n",
       "    <tr>\n",
       "      <td>2</td>\n",
       "      <td>2012</td>\n",
       "      <td>128</td>\n",
       "    </tr>\n",
       "    <tr>\n",
       "      <td>3</td>\n",
       "      <td>2013</td>\n",
       "      <td>184</td>\n",
       "    </tr>\n",
       "    <tr>\n",
       "      <td>4</td>\n",
       "      <td>2014</td>\n",
       "      <td>278</td>\n",
       "    </tr>\n",
       "    <tr>\n",
       "      <td>5</td>\n",
       "      <td>2015</td>\n",
       "      <td>456</td>\n",
       "    </tr>\n",
       "    <tr>\n",
       "      <td>6</td>\n",
       "      <td>2016</td>\n",
       "      <td>523</td>\n",
       "    </tr>\n",
       "    <tr>\n",
       "      <td>7</td>\n",
       "      <td>2017</td>\n",
       "      <td>353</td>\n",
       "    </tr>\n",
       "    <tr>\n",
       "      <td>8</td>\n",
       "      <td>2018</td>\n",
       "      <td>470</td>\n",
       "    </tr>\n",
       "    <tr>\n",
       "      <td>9</td>\n",
       "      <td>2019</td>\n",
       "      <td>527</td>\n",
       "    </tr>\n",
       "  </tbody>\n",
       "</table>\n",
       "</div>"
      ],
      "text/plain": [
       "   year  number_of_films_cinema\n",
       "0  2010                     105\n",
       "1  2011                     109\n",
       "2  2012                     128\n",
       "3  2013                     184\n",
       "4  2014                     278\n",
       "5  2015                     456\n",
       "6  2016                     523\n",
       "7  2017                     353\n",
       "8  2018                     470\n",
       "9  2019                     527"
      ]
     },
     "execution_count": 26,
     "metadata": {},
     "output_type": "execute_result"
    }
   ],
   "source": [
    "# Посмотрим, сколько фильмов выходило в прокат В КИНОТЕАТРАХ каждый год:\n",
    "cinema=data.groupby('year')['box_office'].count()\n",
    "cinema=cinema.to_frame().reset_index()\n",
    "cinema.rename(columns={'box_office':'number_of_films_cinema'}, inplace=True)\n",
    "cinema"
   ]
  },
  {
   "cell_type": "code",
   "execution_count": 27,
   "metadata": {},
   "outputs": [
    {
     "data": {
      "text/html": [
       "<div>\n",
       "<style scoped>\n",
       "    .dataframe tbody tr th:only-of-type {\n",
       "        vertical-align: middle;\n",
       "    }\n",
       "\n",
       "    .dataframe tbody tr th {\n",
       "        vertical-align: top;\n",
       "    }\n",
       "\n",
       "    .dataframe thead th {\n",
       "        text-align: right;\n",
       "    }\n",
       "</style>\n",
       "<table border=\"1\" class=\"dataframe\">\n",
       "  <thead>\n",
       "    <tr style=\"text-align: right;\">\n",
       "      <th></th>\n",
       "      <th>year</th>\n",
       "      <th>number_of_films</th>\n",
       "      <th>number_of_films_cinema</th>\n",
       "      <th>%_of_cinema</th>\n",
       "    </tr>\n",
       "  </thead>\n",
       "  <tbody>\n",
       "    <tr>\n",
       "      <td>0</td>\n",
       "      <td>2010</td>\n",
       "      <td>985</td>\n",
       "      <td>105</td>\n",
       "      <td>0.106599</td>\n",
       "    </tr>\n",
       "    <tr>\n",
       "      <td>1</td>\n",
       "      <td>2011</td>\n",
       "      <td>622</td>\n",
       "      <td>109</td>\n",
       "      <td>0.175241</td>\n",
       "    </tr>\n",
       "    <tr>\n",
       "      <td>2</td>\n",
       "      <td>2012</td>\n",
       "      <td>593</td>\n",
       "      <td>128</td>\n",
       "      <td>0.215852</td>\n",
       "    </tr>\n",
       "    <tr>\n",
       "      <td>3</td>\n",
       "      <td>2013</td>\n",
       "      <td>630</td>\n",
       "      <td>184</td>\n",
       "      <td>0.292063</td>\n",
       "    </tr>\n",
       "    <tr>\n",
       "      <td>4</td>\n",
       "      <td>2014</td>\n",
       "      <td>805</td>\n",
       "      <td>278</td>\n",
       "      <td>0.345342</td>\n",
       "    </tr>\n",
       "    <tr>\n",
       "      <td>5</td>\n",
       "      <td>2015</td>\n",
       "      <td>696</td>\n",
       "      <td>456</td>\n",
       "      <td>0.655172</td>\n",
       "    </tr>\n",
       "    <tr>\n",
       "      <td>6</td>\n",
       "      <td>2016</td>\n",
       "      <td>815</td>\n",
       "      <td>523</td>\n",
       "      <td>0.641718</td>\n",
       "    </tr>\n",
       "    <tr>\n",
       "      <td>7</td>\n",
       "      <td>2017</td>\n",
       "      <td>501</td>\n",
       "      <td>353</td>\n",
       "      <td>0.704591</td>\n",
       "    </tr>\n",
       "    <tr>\n",
       "      <td>8</td>\n",
       "      <td>2018</td>\n",
       "      <td>886</td>\n",
       "      <td>470</td>\n",
       "      <td>0.530474</td>\n",
       "    </tr>\n",
       "    <tr>\n",
       "      <td>9</td>\n",
       "      <td>2019</td>\n",
       "      <td>927</td>\n",
       "      <td>527</td>\n",
       "      <td>0.568501</td>\n",
       "    </tr>\n",
       "  </tbody>\n",
       "</table>\n",
       "</div>"
      ],
      "text/plain": [
       "   year  number_of_films  number_of_films_cinema  %_of_cinema\n",
       "0  2010              985                     105     0.106599\n",
       "1  2011              622                     109     0.175241\n",
       "2  2012              593                     128     0.215852\n",
       "3  2013              630                     184     0.292063\n",
       "4  2014              805                     278     0.345342\n",
       "5  2015              696                     456     0.655172\n",
       "6  2016              815                     523     0.641718\n",
       "7  2017              501                     353     0.704591\n",
       "8  2018              886                     470     0.530474\n",
       "9  2019              927                     527     0.568501"
      ]
     },
     "metadata": {},
     "output_type": "display_data"
    },
    {
     "name": "stdout",
     "output_type": "stream",
     "text": [
      "Cреднее количество фильмов в год: 746\n",
      "Cреднее количество фильмов в кинотеатрах в год: 313\n",
      "Доля фильмов с указанной информацией о прокате в кинотеатрах: 0.42\n"
     ]
    }
   ],
   "source": [
    "# Посмотрим, сколько фильмов выходило в целом в прокат каждый год и объединим с данными в кинотеатрах:\n",
    "films=data.groupby('year')['title'].count()\n",
    "films=films.to_frame().reset_index()\n",
    "films.rename(columns={'title':'number_of_films'}, inplace=True)\n",
    "films['number_of_films_cinema']=cinema['number_of_films_cinema']\n",
    "films['%_of_cinema']=films['number_of_films_cinema']/films['number_of_films']\n",
    "display(films)\n",
    "\n",
    "# Рассчитаем среднее количество фильмов в год: \n",
    "print('Cреднее количество фильмов в год: %.0f' % films['number_of_films'].mean())\n",
    "print('Cреднее количество фильмов в кинотеатрах в год: %.0f' % cinema['number_of_films_cinema'].mean())\n",
    "print('Доля фильмов с указанной информацией о прокате в кинотеатрах: %.2f' % films['%_of_cinema'].mean())"
   ]
  },
  {
   "cell_type": "code",
   "execution_count": 28,
   "metadata": {},
   "outputs": [
    {
     "data": {
      "text/plain": [
       "<matplotlib.axes._subplots.AxesSubplot at 0x7f6a37ad3e10>"
      ]
     },
     "execution_count": 28,
     "metadata": {},
     "output_type": "execute_result"
    },
    {
     "data": {
      "image/png": "[encoded data removed]",
      "text/plain": [
       "<Figure size 720x360 with 1 Axes>"
      ]
     },
     "metadata": {
      "needs_background": "light"
     },
     "output_type": "display_data"
    }
   ],
   "source": [
    "# Построим барчарт по данным о прокате в целом, и о прокате В КИНОТЕАТРАХ\n",
    "films.plot(x='year', kind='bar', figsize = (10, 5), grid = True, title='Количество фильмов по годам')"
   ]
  },
  {
   "cell_type": "code",
   "execution_count": 29,
   "metadata": {},
   "outputs": [
    {
     "data": {
      "text/plain": [
       "<matplotlib.axes._subplots.AxesSubplot at 0x7f6a374c4610>"
      ]
     },
     "execution_count": 29,
     "metadata": {},
     "output_type": "execute_result"
    },
    {
     "data": {
      "image/png": "[encoded data removed]",
      "text/plain": [
       "<Figure size 720x360 with 1 Axes>"
      ]
     },
     "metadata": {
      "needs_background": "light"
     },
     "output_type": "display_data"
    }
   ],
   "source": [
    "films.plot(x='year', y='%_of_cinema', figsize = (10, 5), grid = True, title='Доля фильмов с указанной информацией о прокате в кинотеатрах')"
   ]
  },
  {
   "cell_type": "markdown",
   "metadata": {},
   "source": [
    "Данные о прокате в кинотеатрах известны не для всех фильмов, это означает, что часть фильмов получили удостоверение на прокат на ТВ. В среднем, в прокат в целом выходило около 746 фильмов в год, а в прокат В КИНОТЕАТРЫ выходило в 2 раза меньше - 313 фильмов в год. В целом, количество фильмов, выходивших в прокат стабильно, чего не скажешь про количество фильмов, выходивших в прокат В КИНОТЕАТРАХ - оно стаильно растет. \n",
    "Меньше всего фильмов вышло в прокат В КИНОТЕАТРАХ в 2010 году (это начало исследуемого периода) - всего 105 фильмов. Затем это количество постепенно увеличивалось до 523 в 2016 году. На следующий год количество фильмов упало до 353, а затем в течение еще 3 лет постепенно увеличивалось до 527 фильмов в 2019 году (это максимум). В целом, можно утверждать, что и количество фильмов, вышдших в прокат В КИНОТЕАТРАХ, и доля фильмов с указанной информацией о прокате в кинотеатрах стабильно растет. \n",
    "Это, может быть, связано со следующими факторами:\n",
    "- начиная с 2014-2015 активно начали развиваться он-лайн кинотеатры (типа Okko, Ivi и т.д.), благодаря чему выросло количество кассовых сборов кинотеатров;\n",
    "- также благодаря цифровым технологиям даёт свои плоды многолетняя борьба с пиратством - людям проще заплатить теперь за фильм, чем пытаться найти его для росмотра на бесплатном ресурсе;\n",
    "- как вариант, можно рассмотреть влияние стоимости прокатных удостоверений - возможно в последние годы стоиомость прокатного удостоверения в кинотеатры могла снизиться."
   ]
  },
  {
   "cell_type": "markdown",
   "metadata": {
    "id": "6t4EukPLgFyV"
   },
   "source": [
    "### 4.2. Динамика проката по годам"
   ]
  },
  {
   "cell_type": "markdown",
   "metadata": {
    "id": "BEOdcIrIgFyW"
   },
   "source": [
    "Изучим, как менялась динамика проката по годам. "
   ]
  },
  {
   "cell_type": "code",
   "execution_count": 30,
   "metadata": {},
   "outputs": [
    {
     "data": {
      "text/html": [
       "<div>\n",
       "<style scoped>\n",
       "    .dataframe tbody tr th:only-of-type {\n",
       "        vertical-align: middle;\n",
       "    }\n",
       "\n",
       "    .dataframe tbody tr th {\n",
       "        vertical-align: top;\n",
       "    }\n",
       "\n",
       "    .dataframe thead th {\n",
       "        text-align: right;\n",
       "    }\n",
       "</style>\n",
       "<table border=\"1\" class=\"dataframe\">\n",
       "  <thead>\n",
       "    <tr style=\"text-align: right;\">\n",
       "      <th></th>\n",
       "      <th>sum</th>\n",
       "      <th>count</th>\n",
       "      <th>mean</th>\n",
       "    </tr>\n",
       "    <tr>\n",
       "      <th>year</th>\n",
       "      <th></th>\n",
       "      <th></th>\n",
       "      <th></th>\n",
       "    </tr>\n",
       "  </thead>\n",
       "  <tbody>\n",
       "    <tr>\n",
       "      <td>2010</td>\n",
       "      <td>2.428654e+06</td>\n",
       "      <td>105</td>\n",
       "      <td>2.313004e+04</td>\n",
       "    </tr>\n",
       "    <tr>\n",
       "      <td>2011</td>\n",
       "      <td>1.410276e+07</td>\n",
       "      <td>109</td>\n",
       "      <td>1.293832e+05</td>\n",
       "    </tr>\n",
       "    <tr>\n",
       "      <td>2012</td>\n",
       "      <td>6.955423e+06</td>\n",
       "      <td>128</td>\n",
       "      <td>5.433924e+04</td>\n",
       "    </tr>\n",
       "    <tr>\n",
       "      <td>2013</td>\n",
       "      <td>2.979971e+07</td>\n",
       "      <td>184</td>\n",
       "      <td>1.619549e+05</td>\n",
       "    </tr>\n",
       "    <tr>\n",
       "      <td>2014</td>\n",
       "      <td>7.434718e+09</td>\n",
       "      <td>278</td>\n",
       "      <td>2.674359e+07</td>\n",
       "    </tr>\n",
       "    <tr>\n",
       "      <td>2015</td>\n",
       "      <td>3.842744e+10</td>\n",
       "      <td>456</td>\n",
       "      <td>8.427071e+07</td>\n",
       "    </tr>\n",
       "    <tr>\n",
       "      <td>2016</td>\n",
       "      <td>4.674232e+10</td>\n",
       "      <td>523</td>\n",
       "      <td>8.937345e+07</td>\n",
       "    </tr>\n",
       "    <tr>\n",
       "      <td>2017</td>\n",
       "      <td>4.736491e+10</td>\n",
       "      <td>353</td>\n",
       "      <td>1.341782e+08</td>\n",
       "    </tr>\n",
       "    <tr>\n",
       "      <td>2018</td>\n",
       "      <td>4.867462e+10</td>\n",
       "      <td>470</td>\n",
       "      <td>1.035630e+08</td>\n",
       "    </tr>\n",
       "    <tr>\n",
       "      <td>2019</td>\n",
       "      <td>4.772358e+10</td>\n",
       "      <td>527</td>\n",
       "      <td>9.055708e+07</td>\n",
       "    </tr>\n",
       "  </tbody>\n",
       "</table>\n",
       "</div>"
      ],
      "text/plain": [
       "               sum  count          mean\n",
       "year                                   \n",
       "2010  2.428654e+06    105  2.313004e+04\n",
       "2011  1.410276e+07    109  1.293832e+05\n",
       "2012  6.955423e+06    128  5.433924e+04\n",
       "2013  2.979971e+07    184  1.619549e+05\n",
       "2014  7.434718e+09    278  2.674359e+07\n",
       "2015  3.842744e+10    456  8.427071e+07\n",
       "2016  4.674232e+10    523  8.937345e+07\n",
       "2017  4.736491e+10    353  1.341782e+08\n",
       "2018  4.867462e+10    470  1.035630e+08\n",
       "2019  4.772358e+10    527  9.055708e+07"
      ]
     },
     "execution_count": 30,
     "metadata": {},
     "output_type": "execute_result"
    }
   ],
   "source": [
    "# Посмотрим на величину проката за каждый год:\n",
    "revenue=data.groupby('year')['box_office'].agg(['sum','count', 'mean'])\n",
    "revenue"
   ]
  },
  {
   "cell_type": "code",
   "execution_count": 31,
   "metadata": {
    "scrolled": true
   },
   "outputs": [
    {
     "data": {
      "text/plain": [
       "Text(0, 0.5, 'Кассовые сборы, млрд руб')"
      ]
     },
     "execution_count": 31,
     "metadata": {},
     "output_type": "execute_result"
    },
    {
     "data": {
      "image/png": "[encoded data removed]",
      "text/plain": [
       "<Figure size 432x288 with 1 Axes>"
      ]
     },
     "metadata": {
      "needs_background": "light"
     },
     "output_type": "display_data"
    }
   ],
   "source": [
    "# Посторим  график, отражающий зависимость между величиной кассовых сборов и годом:\n",
    "revenue['sum'].plot(kind='bar', grid=True)\n",
    "plt.title('Кассовые сборы')\n",
    "plt.xlabel('Годы')\n",
    "plt.ylabel('Кассовые сборы, млрд руб')"
   ]
  },
  {
   "cell_type": "markdown",
   "metadata": {},
   "source": [
    "Видно, что с каждым годом объем кассовых сборов только увеличивается.\n",
    "Минимальная общая сумма кассовых сборов составила 2,4 млн руб - это было в 2010 году. А максимальная сумма составила 201,8 трлн руб - это было в 2018 году. \n",
    "\n",
    "Причем в 2018 (475 фильмов из 889) сведений о кассовых сборах по фильмам было в 4,5 раза больше, чем в 2010 (105 фильмов). Но рост в объеме кассовых сборов несопоставим с ростом количества фильмов. Это означает, что растёт именно средняя величина кассовых сборов по фильмам.\n",
    "\n",
    "В 2010 средние сборы за фильм составили 23 тыс руб. Эта цифра наверняка не отражает действительность. Для интереса посмотрим, какие максимальные сборы были у самых успешных фильмов: "
   ]
  },
  {
   "cell_type": "code",
   "execution_count": 32,
   "metadata": {
    "scrolled": false
   },
   "outputs": [
    {
     "data": {
      "text/html": [
       "<div>\n",
       "<style scoped>\n",
       "    .dataframe tbody tr th:only-of-type {\n",
       "        vertical-align: middle;\n",
       "    }\n",
       "\n",
       "    .dataframe tbody tr th {\n",
       "        vertical-align: top;\n",
       "    }\n",
       "\n",
       "    .dataframe thead th {\n",
       "        text-align: right;\n",
       "    }\n",
       "</style>\n",
       "<table border=\"1\" class=\"dataframe\">\n",
       "  <thead>\n",
       "    <tr style=\"text-align: right;\">\n",
       "      <th></th>\n",
       "      <th></th>\n",
       "      <th>box_office</th>\n",
       "    </tr>\n",
       "    <tr>\n",
       "      <th>title</th>\n",
       "      <th>year</th>\n",
       "      <th></th>\n",
       "    </tr>\n",
       "  </thead>\n",
       "  <tbody>\n",
       "    <tr>\n",
       "      <td>Морские динозавры 3D: Путешествие в доисторический мир</td>\n",
       "      <td>2010</td>\n",
       "      <td>1446400.0</td>\n",
       "    </tr>\n",
       "    <tr>\n",
       "      <td>Хаббл 3D</td>\n",
       "      <td>2010</td>\n",
       "      <td>245630.0</td>\n",
       "    </tr>\n",
       "    <tr>\n",
       "      <td>Братья      .</td>\n",
       "      <td>2010</td>\n",
       "      <td>168411.0</td>\n",
       "    </tr>\n",
       "    <tr>\n",
       "      <td>Стоун</td>\n",
       "      <td>2010</td>\n",
       "      <td>54060.0</td>\n",
       "    </tr>\n",
       "    <tr>\n",
       "      <td>Три богатыря и Шамаханская царица</td>\n",
       "      <td>2010</td>\n",
       "      <td>45225.0</td>\n",
       "    </tr>\n",
       "  </tbody>\n",
       "</table>\n",
       "</div>"
      ],
      "text/plain": [
       "                                                         box_office\n",
       "title                                              year            \n",
       "Морские динозавры 3D: Путешествие в доисторичес... 2010   1446400.0\n",
       "Хаббл 3D                                           2010    245630.0\n",
       "Братья      .                                      2010    168411.0\n",
       "Стоун                                              2010     54060.0\n",
       "Три богатыря и Шамаханская царица                  2010     45225.0"
      ]
     },
     "execution_count": 32,
     "metadata": {},
     "output_type": "execute_result"
    }
   ],
   "source": [
    "# Посмотрим, какие фильмы собрали максимальные сборы в 2010:\n",
    "revenue_data=data.pivot_table(index=['title', 'year'], values='box_office', aggfunc='sum')\n",
    "revenue_data.query('year==2010').sort_values(by='box_office', ascending=False).head()"
   ]
  },
  {
   "cell_type": "markdown",
   "metadata": {
    "id": "LSbRZKbMgFyU"
   },
   "source": [
    "Видим, что согласно данным в 2010 максимальные сборы имели следующие фильмы:\n",
    "- фильм \"Морские динозавры 3D\" - сборы составили 1,4 млн руб;\n",
    "- фильм \"Хаббл 3D\" - собрано 246 тыс руб;\n",
    "- фильм \"Братья\" - сборы составили 168 тыс руб;\n",
    "- фильм \"Стоун\" - сбора составили 54 тыс руб;\n",
    "- фильм \"Три богатыря и Шамаханская царица\" - собрано всего 45 тыс руб.\n",
    "\n",
    "Данные показатели выглядят неправдоподобно низкими для сборов фильма. Скорее всего, при выгрузке данных была перепутана валюта, или разряд цифр. "
   ]
  },
  {
   "cell_type": "markdown",
   "metadata": {
    "id": "6t4EukPLgFyV"
   },
   "source": [
    "### 4.3. Средняя и медианная сумму сборов "
   ]
  },
  {
   "cell_type": "markdown",
   "metadata": {
    "id": "G-7qS-N-gFyY"
   },
   "source": [
    "С помощью сводной таблицы посчитаем среднюю и медианную сумму сборов для каждого года."
   ]
  },
  {
   "cell_type": "code",
   "execution_count": 33,
   "metadata": {},
   "outputs": [
    {
     "data": {
      "text/html": [
       "<div>\n",
       "<style scoped>\n",
       "    .dataframe tbody tr th:only-of-type {\n",
       "        vertical-align: middle;\n",
       "    }\n",
       "\n",
       "    .dataframe tbody tr th {\n",
       "        vertical-align: top;\n",
       "    }\n",
       "\n",
       "    .dataframe thead tr th {\n",
       "        text-align: left;\n",
       "    }\n",
       "\n",
       "    .dataframe thead tr:last-of-type th {\n",
       "        text-align: right;\n",
       "    }\n",
       "</style>\n",
       "<table border=\"1\" class=\"dataframe\">\n",
       "  <thead>\n",
       "    <tr>\n",
       "      <th></th>\n",
       "      <th>mean</th>\n",
       "      <th>median</th>\n",
       "    </tr>\n",
       "    <tr>\n",
       "      <th></th>\n",
       "      <th>box_office</th>\n",
       "      <th>box_office</th>\n",
       "    </tr>\n",
       "    <tr>\n",
       "      <th>year</th>\n",
       "      <th></th>\n",
       "      <th></th>\n",
       "    </tr>\n",
       "  </thead>\n",
       "  <tbody>\n",
       "    <tr>\n",
       "      <td>2010</td>\n",
       "      <td>2.313004e+04</td>\n",
       "      <td>1700.000</td>\n",
       "    </tr>\n",
       "    <tr>\n",
       "      <td>2011</td>\n",
       "      <td>1.293832e+05</td>\n",
       "      <td>3000.000</td>\n",
       "    </tr>\n",
       "    <tr>\n",
       "      <td>2012</td>\n",
       "      <td>5.433924e+04</td>\n",
       "      <td>5660.000</td>\n",
       "    </tr>\n",
       "    <tr>\n",
       "      <td>2013</td>\n",
       "      <td>1.619549e+05</td>\n",
       "      <td>3522.500</td>\n",
       "    </tr>\n",
       "    <tr>\n",
       "      <td>2014</td>\n",
       "      <td>2.674359e+07</td>\n",
       "      <td>18137.500</td>\n",
       "    </tr>\n",
       "    <tr>\n",
       "      <td>2015</td>\n",
       "      <td>8.427071e+07</td>\n",
       "      <td>4742671.665</td>\n",
       "    </tr>\n",
       "    <tr>\n",
       "      <td>2016</td>\n",
       "      <td>8.937345e+07</td>\n",
       "      <td>3776087.560</td>\n",
       "    </tr>\n",
       "    <tr>\n",
       "      <td>2017</td>\n",
       "      <td>1.341782e+08</td>\n",
       "      <td>9876765.000</td>\n",
       "    </tr>\n",
       "    <tr>\n",
       "      <td>2018</td>\n",
       "      <td>1.035630e+08</td>\n",
       "      <td>8730277.525</td>\n",
       "    </tr>\n",
       "    <tr>\n",
       "      <td>2019</td>\n",
       "      <td>9.055708e+07</td>\n",
       "      <td>4554745.000</td>\n",
       "    </tr>\n",
       "  </tbody>\n",
       "</table>\n",
       "</div>"
      ],
      "text/plain": [
       "              mean       median\n",
       "        box_office   box_office\n",
       "year                           \n",
       "2010  2.313004e+04     1700.000\n",
       "2011  1.293832e+05     3000.000\n",
       "2012  5.433924e+04     5660.000\n",
       "2013  1.619549e+05     3522.500\n",
       "2014  2.674359e+07    18137.500\n",
       "2015  8.427071e+07  4742671.665\n",
       "2016  8.937345e+07  3776087.560\n",
       "2017  1.341782e+08  9876765.000\n",
       "2018  1.035630e+08  8730277.525\n",
       "2019  9.055708e+07  4554745.000"
      ]
     },
     "metadata": {},
     "output_type": "display_data"
    },
    {
     "data": {
      "text/plain": [
       "Text(0, 0.5, 'Кассовые сборы')"
      ]
     },
     "execution_count": 33,
     "metadata": {},
     "output_type": "execute_result"
    },
    {
     "data": {
      "image/png": "[encoded data removed]",
      "text/plain": [
       "<Figure size 432x288 with 1 Axes>"
      ]
     },
     "metadata": {
      "needs_background": "light"
     },
     "output_type": "display_data"
    }
   ],
   "source": [
    "box_office_year=data.pivot_table(index='year', values='box_office', aggfunc=['mean', 'median'])\n",
    "display(box_office_year)\n",
    "box_office_year.plot(grid=True)\n",
    "plt.title('Кассовые сборы по годам')\n",
    "plt.xlabel('Годы')\n",
    "plt.ylabel('Кассовые сборы')"
   ]
  },
  {
   "cell_type": "markdown",
   "metadata": {},
   "source": [
    "Видим, что медиана по кассовым сборам во много раз меньше среднего каждый год. Это свидетельствует о том, что есть некоторое количество фильмов с очень значительными сборами, что повлияло на среднююю величину."
   ]
  },
  {
   "cell_type": "markdown",
   "metadata": {
    "id": "6t4EukPLgFyV"
   },
   "source": [
    "### 4.4. Возрастное ограничение аудитории"
   ]
  },
  {
   "cell_type": "markdown",
   "metadata": {
    "id": "Ok89WFwJgFyZ"
   },
   "source": [
    "Определим, влияет ли возрастное ограничение аудитории («6+», «12+», «16+», «18+» и т. д.) на сборы фильма в прокате в период с 2015 по 2019 год."
   ]
  },
  {
   "cell_type": "code",
   "execution_count": 34,
   "metadata": {},
   "outputs": [
    {
     "data": {
      "text/plain": [
       "age_restriction\n",
       "«0+» - для любой зрительской аудитории    8.090774e+08\n",
       "«12+» - для детей старше 12 лет           5.901553e+10\n",
       "«16+» - для детей старше 16 лет           7.503778e+10\n",
       "«18+» - запрещено для детей               4.075766e+10\n",
       "«6+» - для детей старше 6 лет             5.331283e+10\n",
       "Name: box_office, dtype: float64"
      ]
     },
     "metadata": {},
     "output_type": "display_data"
    },
    {
     "data": {
      "text/plain": [
       "Text(0, 0.5, 'Кассовые сборы')"
      ]
     },
     "execution_count": 34,
     "metadata": {},
     "output_type": "execute_result"
    },
    {
     "data": {
      "image/png": "[encoded data removed]",
      "text/plain": [
       "<Figure size 432x288 with 1 Axes>"
      ]
     },
     "metadata": {
      "needs_background": "light"
     },
     "output_type": "display_data"
    }
   ],
   "source": [
    "# Определеим сумму кассовых сборов по возрастным ограничениям за период с 2015-2019:\n",
    "age_restriction_data=data.query('year>2014').groupby('age_restriction')['box_office'].sum()\n",
    "display(age_restriction_data)\n",
    "age_restriction_data.plot(kind='bar', grid=True)\n",
    "plt.title('Кассовые сборы по возрастной категории')\n",
    "plt.xlabel('Года')\n",
    "plt.ylabel('Кассовые сборы')"
   ]
  },
  {
   "cell_type": "code",
   "execution_count": 35,
   "metadata": {},
   "outputs": [
    {
     "data": {
      "text/plain": [
       "age_restriction\n",
       "«0+» - для любой зрительской аудитории    3.790546e+08\n",
       "«12+» - для детей старше 12 лет           1.339986e+10\n",
       "«16+» - для детей старше 16 лет           1.077057e+10\n",
       "«18+» - запрещено для детей               5.430351e+09\n",
       "«6+» - для детей старше 6 лет             8.447618e+09\n",
       "Name: box_office, dtype: float64"
      ]
     },
     "metadata": {},
     "output_type": "display_data"
    },
    {
     "data": {
      "text/plain": [
       "Text(0, 0.5, 'Кассовые сборы')"
      ]
     },
     "execution_count": 35,
     "metadata": {},
     "output_type": "execute_result"
    },
    {
     "data": {
      "image/png": "[encoded data removed]",
      "text/plain": [
       "<Figure size 432x288 with 1 Axes>"
      ]
     },
     "metadata": {
      "needs_background": "light"
     },
     "output_type": "display_data"
    }
   ],
   "source": [
    "age_restriction_2015=data.query('year==2015').groupby('age_restriction')['box_office'].sum()\n",
    "display(age_restriction_2015)\n",
    "age_restriction_2015.plot(kind='bar', grid=True)\n",
    "plt.title('Кассовые сборы по возрастной категории')\n",
    "plt.xlabel('Года')\n",
    "plt.ylabel('Кассовые сборы')"
   ]
  },
  {
   "cell_type": "code",
   "execution_count": 36,
   "metadata": {
    "id": "ABeV47y7gFyW"
   },
   "outputs": [
    {
     "data": {
      "text/plain": [
       "age_restriction\n",
       "«0+» - для любой зрительской аудитории    1.502288e+08\n",
       "«12+» - для детей старше 12 лет           1.115076e+10\n",
       "«16+» - для детей старше 16 лет           1.659425e+10\n",
       "«18+» - запрещено для детей               6.793930e+09\n",
       "«6+» - для детей старше 6 лет             1.205315e+10\n",
       "Name: box_office, dtype: float64"
      ]
     },
     "metadata": {},
     "output_type": "display_data"
    },
    {
     "data": {
      "text/plain": [
       "Text(0, 0.5, 'Кассовые сборы')"
      ]
     },
     "execution_count": 36,
     "metadata": {},
     "output_type": "execute_result"
    },
    {
     "data": {
      "image/png": "[encoded data removed]",
      "text/plain": [
       "<Figure size 432x288 with 1 Axes>"
      ]
     },
     "metadata": {
      "needs_background": "light"
     },
     "output_type": "display_data"
    }
   ],
   "source": [
    "age_restriction_2016=data.query('year==2016').groupby('age_restriction')['box_office'].sum()\n",
    "display(age_restriction_2016)\n",
    "age_restriction_2016.plot(kind='bar', grid=True)\n",
    "plt.title('Кассовые сборы в 2016 по возрастной категории')\n",
    "plt.xlabel('Года')\n",
    "plt.ylabel('Кассовые сборы')"
   ]
  },
  {
   "cell_type": "code",
   "execution_count": 37,
   "metadata": {
    "id": "tfEhofYvgFyX"
   },
   "outputs": [
    {
     "data": {
      "text/plain": [
       "age_restriction\n",
       "«0+» - для любой зрительской аудитории    2.295989e+08\n",
       "«12+» - для детей старше 12 лет           7.517420e+09\n",
       "«16+» - для детей старше 16 лет           1.869459e+10\n",
       "«18+» - запрещено для детей               9.651496e+09\n",
       "«6+» - для детей старше 6 лет             1.127181e+10\n",
       "Name: box_office, dtype: float64"
      ]
     },
     "metadata": {},
     "output_type": "display_data"
    },
    {
     "data": {
      "text/plain": [
       "Text(0, 0.5, 'Кассовые сборы')"
      ]
     },
     "execution_count": 37,
     "metadata": {},
     "output_type": "execute_result"
    },
    {
     "data": {
      "image/png": "[encoded data removed]",
      "text/plain": [
       "<Figure size 432x288 with 1 Axes>"
      ]
     },
     "metadata": {
      "needs_background": "light"
     },
     "output_type": "display_data"
    }
   ],
   "source": [
    "age_restriction_2017=data.query('year==2017').groupby('age_restriction')['box_office'].sum()\n",
    "display(age_restriction_2017)\n",
    "age_restriction_2017.plot(kind='bar', grid=True)\n",
    "plt.title('Кассовые сборы в 2017 по возрастной категории')\n",
    "plt.xlabel('Года')\n",
    "plt.ylabel('Кассовые сборы')"
   ]
  },
  {
   "cell_type": "code",
   "execution_count": 38,
   "metadata": {
    "id": "jmp-rgg9gFyY"
   },
   "outputs": [
    {
     "data": {
      "text/plain": [
       "age_restriction\n",
       "«0+» - для любой зрительской аудитории    3.244900e+07\n",
       "«12+» - для детей старше 12 лет           1.426729e+10\n",
       "«16+» - для детей старше 16 лет           1.627841e+10\n",
       "«18+» - запрещено для детей               8.760086e+09\n",
       "«6+» - для детей старше 6 лет             9.336390e+09\n",
       "Name: box_office, dtype: float64"
      ]
     },
     "metadata": {},
     "output_type": "display_data"
    },
    {
     "data": {
      "text/plain": [
       "Text(0, 0.5, 'Кассовые сборы')"
      ]
     },
     "execution_count": 38,
     "metadata": {},
     "output_type": "execute_result"
    },
    {
     "data": {
      "image/png": "[encoded data removed]",
      "text/plain": [
       "<Figure size 432x288 with 1 Axes>"
      ]
     },
     "metadata": {
      "needs_background": "light"
     },
     "output_type": "display_data"
    }
   ],
   "source": [
    "age_restriction_2018=data.query('year==2018').groupby('age_restriction')['box_office'].sum()\n",
    "display(age_restriction_2018)\n",
    "age_restriction_2018.plot(kind='bar', grid=True)\n",
    "plt.title('Кассовые сборы в 2018 по возрастной категории')\n",
    "plt.xlabel('Года')\n",
    "plt.ylabel('Кассовые сборы')"
   ]
  },
  {
   "cell_type": "code",
   "execution_count": 39,
   "metadata": {
    "id": "jsSbEqfjgFya",
    "scrolled": true
   },
   "outputs": [
    {
     "data": {
      "text/plain": [
       "age_restriction\n",
       "«0+» - для любой зрительской аудитории    1.774607e+07\n",
       "«12+» - для детей старше 12 лет           1.268020e+10\n",
       "«16+» - для детей старше 16 лет           1.269997e+10\n",
       "«18+» - запрещено для детей               1.012180e+10\n",
       "«6+» - для детей старше 6 лет             1.220387e+10\n",
       "Name: box_office, dtype: float64"
      ]
     },
     "metadata": {},
     "output_type": "display_data"
    },
    {
     "data": {
      "text/plain": [
       "Text(0, 0.5, 'Кассовые сборы')"
      ]
     },
     "execution_count": 39,
     "metadata": {},
     "output_type": "execute_result"
    },
    {
     "data": {
      "image/png": "[encoded data removed]",
      "text/plain": [
       "<Figure size 432x288 with 1 Axes>"
      ]
     },
     "metadata": {
      "needs_background": "light"
     },
     "output_type": "display_data"
    }
   ],
   "source": [
    "age_restriction_2019=data.query('year==2019').groupby('age_restriction')['box_office'].sum()\n",
    "display(age_restriction_2019)\n",
    "age_restriction_2019.plot(kind='bar', grid=True)\n",
    "plt.title('Кассовые сборы в 2019 по возрастной категории')\n",
    "plt.xlabel('Года')\n",
    "plt.ylabel('Кассовые сборы')"
   ]
  },
  {
   "cell_type": "markdown",
   "metadata": {},
   "source": [
    "За период с 2015-2019 больше всего кассовых сборов собрали фильмы категории 16+, далее идут фильмы категорий 12+ и 6+, затем идут фильмы категории 18+, а фильмы категории 0+ принесли меньше всего выручки. Анализ кассовых сборов по годам показал следующее:\n",
    "- 2015: наибольшие кассовые сборы показали фильмы 12+, затем идут фильмы категории 16+ и 6+.\n",
    "- 2016: начиная с этого года фильмы категории 16+ будут всегда занимать первое место по кассовым сборам, затем идут фильмы 12+ и 6+ с одинаковыми показателями.\n",
    "- 2017: фильмы категории 12+ впервые уступили место фильмам 18+.\n",
    "- 2018: фильмы 12+ заняли второе место, а третье место досталось фильмам категории 6+.\n",
    "- 2019: почти равномерно распределились фильмы категорий 6+/12+/16+, ненамного отстают от них фильмы 18+.\n",
    "Можно утверждать, что есть некоторая закономерность между возрастной категорией и кассовыми сборами. Например, фильмы категории 0+ почти не имеют значительных сборов. Также фильмы категории 18+ пости всегда приносят меньше сборов, чем фильмы категорий 6+/12+/16+. Это, вероятно, связано с тем, что их смотрят только совершеннолетние люди, а на фильмы категорий 6+/12+/16+ родители приходят вместе с детьми, или возможно связано с тем, что основной потребитель киноиндустрии это несовершеннолетняя молодежь."
   ]
  },
  {
   "cell_type": "markdown",
   "metadata": {
    "id": "l_Kg6Ku4gFya"
   },
   "source": [
    "## 5. Исследование фильмов, которые получили государственную поддержку"
   ]
  },
  {
   "cell_type": "markdown",
   "metadata": {},
   "source": [
    "Поищем интересные закономерности в данных. Посмотрим, сколько выделяют средств на поддержку кино. Проверим, хорошо ли окупаются такие фильмы, какой у них рейтинг."
   ]
  },
  {
   "cell_type": "code",
   "execution_count": 40,
   "metadata": {},
   "outputs": [
    {
     "data": {
      "text/html": [
       "<div>\n",
       "<style scoped>\n",
       "    .dataframe tbody tr th:only-of-type {\n",
       "        vertical-align: middle;\n",
       "    }\n",
       "\n",
       "    .dataframe tbody tr th {\n",
       "        vertical-align: top;\n",
       "    }\n",
       "\n",
       "    .dataframe thead th {\n",
       "        text-align: right;\n",
       "    }\n",
       "</style>\n",
       "<table border=\"1\" class=\"dataframe\">\n",
       "  <thead>\n",
       "    <tr style=\"text-align: right;\">\n",
       "      <th></th>\n",
       "      <th>title</th>\n",
       "      <th>pu_number</th>\n",
       "      <th>show_start_date</th>\n",
       "      <th>type</th>\n",
       "      <th>film_studio</th>\n",
       "      <th>production_country</th>\n",
       "      <th>director</th>\n",
       "      <th>producer</th>\n",
       "      <th>age_restriction</th>\n",
       "      <th>refundable_support</th>\n",
       "      <th>nonrefundable_support</th>\n",
       "      <th>budget</th>\n",
       "      <th>financing_source</th>\n",
       "      <th>ratings</th>\n",
       "      <th>genres</th>\n",
       "      <th>puNumber_int</th>\n",
       "      <th>box_office</th>\n",
       "      <th>year</th>\n",
       "      <th>director_first</th>\n",
       "      <th>genres_first</th>\n",
       "      <th>country_first</th>\n",
       "      <th>total_support</th>\n",
       "      <th>%_total_support</th>\n",
       "      <th>%_refundable_support</th>\n",
       "      <th>%_nonrefundable_support</th>\n",
       "    </tr>\n",
       "  </thead>\n",
       "  <tbody>\n",
       "    <tr>\n",
       "      <td>1281</td>\n",
       "      <td>Пока еще жива</td>\n",
       "      <td>111005313</td>\n",
       "      <td>2013-10-11 12:00:00+00:00</td>\n",
       "      <td>Художественный</td>\n",
       "      <td>АНО содействия развитию кинематографии \"Ангел-...</td>\n",
       "      <td>Россия</td>\n",
       "      <td>А.Атанесян</td>\n",
       "      <td>А.Атанесян, М.Бабаханов, Р.Бутко</td>\n",
       "      <td>«16+» - для детей старше 16 лет</td>\n",
       "      <td>0.0</td>\n",
       "      <td>26500000.0</td>\n",
       "      <td>79411900.0</td>\n",
       "      <td>Министерство культуры</td>\n",
       "      <td>8.1</td>\n",
       "      <td>драма,мелодрама</td>\n",
       "      <td>True</td>\n",
       "      <td>3.653536e+05</td>\n",
       "      <td>2013</td>\n",
       "      <td>А.Атанесян</td>\n",
       "      <td>драма</td>\n",
       "      <td>Россия</td>\n",
       "      <td>26500000.0</td>\n",
       "      <td>0.333703</td>\n",
       "      <td>0.000000</td>\n",
       "      <td>0.333703</td>\n",
       "    </tr>\n",
       "    <tr>\n",
       "      <td>1448</td>\n",
       "      <td>Бесславные придурки</td>\n",
       "      <td>111003314</td>\n",
       "      <td>2014-03-28 12:00:00+00:00</td>\n",
       "      <td>Художественный</td>\n",
       "      <td>ООО \"Компания \"АТК-Студио\"</td>\n",
       "      <td>Россия</td>\n",
       "      <td>А.Якимчук</td>\n",
       "      <td>А.Тютрюмов</td>\n",
       "      <td>«12+» - для детей старше 12 лет</td>\n",
       "      <td>0.0</td>\n",
       "      <td>26000000.0</td>\n",
       "      <td>37142857.0</td>\n",
       "      <td>Министерство культуры</td>\n",
       "      <td>NaN</td>\n",
       "      <td>неизвестно</td>\n",
       "      <td>True</td>\n",
       "      <td>2.814000e+04</td>\n",
       "      <td>2014</td>\n",
       "      <td>А.Якимчук</td>\n",
       "      <td>неизвестно</td>\n",
       "      <td>Россия</td>\n",
       "      <td>26000000.0</td>\n",
       "      <td>0.700000</td>\n",
       "      <td>0.000000</td>\n",
       "      <td>0.700000</td>\n",
       "    </tr>\n",
       "    <tr>\n",
       "      <td>1498</td>\n",
       "      <td>Невидимки</td>\n",
       "      <td>111004213</td>\n",
       "      <td>2013-09-10 12:00:00+00:00</td>\n",
       "      <td>Художественный</td>\n",
       "      <td>ООО \"Компания \"РЕАЛ-ДАКОТА\"</td>\n",
       "      <td>Россия</td>\n",
       "      <td>Р.Давлетьяров, С.Комаров</td>\n",
       "      <td>Р.Давлетьяров, А.Котелевский, А.Олейников</td>\n",
       "      <td>«12+» - для детей старше 12 лет</td>\n",
       "      <td>0.0</td>\n",
       "      <td>107847945.0</td>\n",
       "      <td>176023490.0</td>\n",
       "      <td>Фонд кино</td>\n",
       "      <td>5.3</td>\n",
       "      <td>комедия,фантастика</td>\n",
       "      <td>True</td>\n",
       "      <td>1.995703e+07</td>\n",
       "      <td>2013</td>\n",
       "      <td>Р.Давлетьяров</td>\n",
       "      <td>комедия</td>\n",
       "      <td>Россия</td>\n",
       "      <td>107847945.0</td>\n",
       "      <td>0.612691</td>\n",
       "      <td>0.000000</td>\n",
       "      <td>0.612691</td>\n",
       "    </tr>\n",
       "    <tr>\n",
       "      <td>1524</td>\n",
       "      <td>БЕРЦЫ</td>\n",
       "      <td>111004314</td>\n",
       "      <td>2014-05-05 12:00:00+00:00</td>\n",
       "      <td>Художественный</td>\n",
       "      <td>ООО \"Студия \"Пассажир\"</td>\n",
       "      <td>Россия</td>\n",
       "      <td>Е.Миндадзе (псевдоним Катя Шагалова)</td>\n",
       "      <td>Л.Антонова</td>\n",
       "      <td>«16+» - для детей старше 16 лет</td>\n",
       "      <td>0.0</td>\n",
       "      <td>28000000.0</td>\n",
       "      <td>40574140.0</td>\n",
       "      <td>Министерство культуры</td>\n",
       "      <td>4.2</td>\n",
       "      <td>драма</td>\n",
       "      <td>True</td>\n",
       "      <td>5.591750e+04</td>\n",
       "      <td>2014</td>\n",
       "      <td>Е.Миндадзе (псевдоним Катя Шагалова)</td>\n",
       "      <td>драма</td>\n",
       "      <td>Россия</td>\n",
       "      <td>28000000.0</td>\n",
       "      <td>0.690095</td>\n",
       "      <td>0.000000</td>\n",
       "      <td>0.690095</td>\n",
       "    </tr>\n",
       "    <tr>\n",
       "      <td>1792</td>\n",
       "      <td>Братья Ч</td>\n",
       "      <td>111004414</td>\n",
       "      <td>2014-04-23 12:00:00+00:00</td>\n",
       "      <td>Художественный</td>\n",
       "      <td>ООО \"Студия \"Пассажир\"</td>\n",
       "      <td>Россия</td>\n",
       "      <td>М.Угаров</td>\n",
       "      <td>А.Миндадзе, Л.Антонова</td>\n",
       "      <td>«16+» - для детей старше 16 лет</td>\n",
       "      <td>0.0</td>\n",
       "      <td>25000000.0</td>\n",
       "      <td>40015122.0</td>\n",
       "      <td>Министерство культуры</td>\n",
       "      <td>6.4</td>\n",
       "      <td>драма</td>\n",
       "      <td>True</td>\n",
       "      <td>2.321000e+05</td>\n",
       "      <td>2014</td>\n",
       "      <td>М.Угаров</td>\n",
       "      <td>драма</td>\n",
       "      <td>Россия</td>\n",
       "      <td>25000000.0</td>\n",
       "      <td>0.624764</td>\n",
       "      <td>0.000000</td>\n",
       "      <td>0.624764</td>\n",
       "    </tr>\n",
       "    <tr>\n",
       "      <td>1853</td>\n",
       "      <td>Тайна Сухаревой башни. Чародей равновесия</td>\n",
       "      <td>114000115</td>\n",
       "      <td>2015-02-18 12:00:00+00:00</td>\n",
       "      <td>Анимационный</td>\n",
       "      <td>ООО \"Студия \"Мастер-Фильм\"</td>\n",
       "      <td>Россия</td>\n",
       "      <td>С.Серегин</td>\n",
       "      <td>А.Герасимов</td>\n",
       "      <td>«6+» - для детей старше 6 лет</td>\n",
       "      <td>0.0</td>\n",
       "      <td>25000000.0</td>\n",
       "      <td>51850000.0</td>\n",
       "      <td>Министерство культуры</td>\n",
       "      <td>6.1</td>\n",
       "      <td>мультфильм,фэнтези,история</td>\n",
       "      <td>True</td>\n",
       "      <td>1.507886e+07</td>\n",
       "      <td>2015</td>\n",
       "      <td>С.Серегин</td>\n",
       "      <td>мультфильм</td>\n",
       "      <td>Россия</td>\n",
       "      <td>25000000.0</td>\n",
       "      <td>0.482160</td>\n",
       "      <td>0.000000</td>\n",
       "      <td>0.482160</td>\n",
       "    </tr>\n",
       "    <tr>\n",
       "      <td>1869</td>\n",
       "      <td>А зори здесь тихие..._</td>\n",
       "      <td>111002915</td>\n",
       "      <td>2015-03-16 12:00:00+00:00</td>\n",
       "      <td>Художественный</td>\n",
       "      <td>ООО \"Компания \"Реал-Дакота\"</td>\n",
       "      <td>Россия</td>\n",
       "      <td>Р.Давлетьяров</td>\n",
       "      <td>неизвестно</td>\n",
       "      <td>«12+» - для детей старше 12 лет</td>\n",
       "      <td>50000000.0</td>\n",
       "      <td>100000000.0</td>\n",
       "      <td>220588394.0</td>\n",
       "      <td>Фонд кино</td>\n",
       "      <td>8.5</td>\n",
       "      <td>драма,военный,история</td>\n",
       "      <td>True</td>\n",
       "      <td>2.491668e+08</td>\n",
       "      <td>2015</td>\n",
       "      <td>Р.Давлетьяров</td>\n",
       "      <td>драма</td>\n",
       "      <td>Россия</td>\n",
       "      <td>150000000.0</td>\n",
       "      <td>0.680000</td>\n",
       "      <td>0.226667</td>\n",
       "      <td>0.453333</td>\n",
       "    </tr>\n",
       "    <tr>\n",
       "      <td>1870</td>\n",
       "      <td>Две женщины</td>\n",
       "      <td>111013714</td>\n",
       "      <td>2014-10-02 12:00:00+00:00</td>\n",
       "      <td>Художественный</td>\n",
       "      <td>ООО \"Продюсерский Центр \"Хорошо Продакшн\", Rez...</td>\n",
       "      <td>Россия,Франция,Латвия</td>\n",
       "      <td>В.Глаголева</td>\n",
       "      <td>Н.Иванова</td>\n",
       "      <td>«12+» - для детей старше 12 лет</td>\n",
       "      <td>0.0</td>\n",
       "      <td>46502299.0</td>\n",
       "      <td>86210067.0</td>\n",
       "      <td>Министерство культуры, Фонд кино</td>\n",
       "      <td>6.7</td>\n",
       "      <td>драма</td>\n",
       "      <td>True</td>\n",
       "      <td>4.731240e+06</td>\n",
       "      <td>2014</td>\n",
       "      <td>В.Глаголева</td>\n",
       "      <td>драма</td>\n",
       "      <td>Россия</td>\n",
       "      <td>46502299.0</td>\n",
       "      <td>0.539407</td>\n",
       "      <td>0.000000</td>\n",
       "      <td>0.539407</td>\n",
       "    </tr>\n",
       "    <tr>\n",
       "      <td>1902</td>\n",
       "      <td>Призрак_.</td>\n",
       "      <td>111001815</td>\n",
       "      <td>2015-03-02 12:00:00+00:00</td>\n",
       "      <td>Художественный</td>\n",
       "      <td>ООО \"Водород 2011\"</td>\n",
       "      <td>Россия</td>\n",
       "      <td>А.Войтинский</td>\n",
       "      <td>С.Сельянов</td>\n",
       "      <td>«6+» - для детей старше 6 лет</td>\n",
       "      <td>0.0</td>\n",
       "      <td>75000000.0</td>\n",
       "      <td>139551503.0</td>\n",
       "      <td>Фонд кино</td>\n",
       "      <td>7.0</td>\n",
       "      <td>триллер,боевик,приключения</td>\n",
       "      <td>True</td>\n",
       "      <td>3.528043e+08</td>\n",
       "      <td>2015</td>\n",
       "      <td>А.Войтинский</td>\n",
       "      <td>триллер</td>\n",
       "      <td>Россия</td>\n",
       "      <td>75000000.0</td>\n",
       "      <td>0.537436</td>\n",
       "      <td>0.000000</td>\n",
       "      <td>0.537436</td>\n",
       "    </tr>\n",
       "    <tr>\n",
       "      <td>1911</td>\n",
       "      <td>Ведьма .</td>\n",
       "      <td>111002215</td>\n",
       "      <td>2015-03-05 12:00:00+00:00</td>\n",
       "      <td>Художественный</td>\n",
       "      <td>ООО \"Кинокомпания \"Ракурс\"</td>\n",
       "      <td>Россия</td>\n",
       "      <td>Д.Федоров</td>\n",
       "      <td>В.Сидоренко</td>\n",
       "      <td>«16+» - для детей старше 16 лет</td>\n",
       "      <td>0.0</td>\n",
       "      <td>34000000.0</td>\n",
       "      <td>48571430.0</td>\n",
       "      <td>Министерство культуры</td>\n",
       "      <td>7.4</td>\n",
       "      <td>фэнтези,приключения,драма</td>\n",
       "      <td>True</td>\n",
       "      <td>5.190750e+04</td>\n",
       "      <td>2015</td>\n",
       "      <td>Д.Федоров</td>\n",
       "      <td>фэнтези</td>\n",
       "      <td>Россия</td>\n",
       "      <td>34000000.0</td>\n",
       "      <td>0.700000</td>\n",
       "      <td>0.000000</td>\n",
       "      <td>0.700000</td>\n",
       "    </tr>\n",
       "    <tr>\n",
       "      <td>1986</td>\n",
       "      <td>Елки Лохматые</td>\n",
       "      <td>111023114</td>\n",
       "      <td>2014-12-10 12:00:00+00:00</td>\n",
       "      <td>Художественный</td>\n",
       "      <td>ООО \"ТаББаК\"</td>\n",
       "      <td>Россия</td>\n",
       "      <td>Максим Свешников</td>\n",
       "      <td>Тимур Бекмамбетов, Евгения Аронова</td>\n",
       "      <td>«6+» - для детей старше 6 лет</td>\n",
       "      <td>26000000.0</td>\n",
       "      <td>30000000.0</td>\n",
       "      <td>80000000.0</td>\n",
       "      <td>Фонд кино</td>\n",
       "      <td>5.0</td>\n",
       "      <td>семейный,комедия</td>\n",
       "      <td>True</td>\n",
       "      <td>1.212256e+08</td>\n",
       "      <td>2014</td>\n",
       "      <td>Максим Свешников</td>\n",
       "      <td>семейный</td>\n",
       "      <td>Россия</td>\n",
       "      <td>56000000.0</td>\n",
       "      <td>0.700000</td>\n",
       "      <td>0.325000</td>\n",
       "      <td>0.375000</td>\n",
       "    </tr>\n",
       "    <tr>\n",
       "      <td>1990</td>\n",
       "      <td>Смайлик</td>\n",
       "      <td>111008614</td>\n",
       "      <td>2014-08-08 12:00:00+00:00</td>\n",
       "      <td>Художественный</td>\n",
       "      <td>ООО \"Продюсерская кинокомпания \"Киномир\"</td>\n",
       "      <td>Россия</td>\n",
       "      <td>Т.Аленикова</td>\n",
       "      <td>Т.Яковенко</td>\n",
       "      <td>«16+» - для детей старше 16 лет</td>\n",
       "      <td>0.0</td>\n",
       "      <td>25000000.0</td>\n",
       "      <td>36259500.0</td>\n",
       "      <td>Министерство культуры</td>\n",
       "      <td>6.8</td>\n",
       "      <td>мелодрама</td>\n",
       "      <td>True</td>\n",
       "      <td>5.542510e+05</td>\n",
       "      <td>2014</td>\n",
       "      <td>Т.Аленикова</td>\n",
       "      <td>мелодрама</td>\n",
       "      <td>Россия</td>\n",
       "      <td>25000000.0</td>\n",
       "      <td>0.689474</td>\n",
       "      <td>0.000000</td>\n",
       "      <td>0.689474</td>\n",
       "    </tr>\n",
       "    <tr>\n",
       "      <td>1996</td>\n",
       "      <td>Овечка Долли была злая и рано умерла</td>\n",
       "      <td>111015214</td>\n",
       "      <td>2014-11-10 12:00:00+00:00</td>\n",
       "      <td>Художественный</td>\n",
       "      <td>ООО \"Пиманов и партнеры\"</td>\n",
       "      <td>Россия</td>\n",
       "      <td>А.Пиманов</td>\n",
       "      <td>А.Пиманов, О.Погодина</td>\n",
       "      <td>«12+» - для детей старше 12 лет</td>\n",
       "      <td>0.0</td>\n",
       "      <td>25000000.0</td>\n",
       "      <td>70876172.0</td>\n",
       "      <td>Фонд кино</td>\n",
       "      <td>6.6</td>\n",
       "      <td>фантастика,комедия,приключения</td>\n",
       "      <td>True</td>\n",
       "      <td>4.353485e+07</td>\n",
       "      <td>2014</td>\n",
       "      <td>А.Пиманов</td>\n",
       "      <td>фантастика</td>\n",
       "      <td>Россия</td>\n",
       "      <td>25000000.0</td>\n",
       "      <td>0.352728</td>\n",
       "      <td>0.000000</td>\n",
       "      <td>0.352728</td>\n",
       "    </tr>\n",
       "    <tr>\n",
       "      <td>2004</td>\n",
       "      <td>Снежная Королева 2: Перезаморозка</td>\n",
       "      <td>114000214</td>\n",
       "      <td>2014-11-13 12:00:00+00:00</td>\n",
       "      <td>Анимационный</td>\n",
       "      <td>ООО \"ВИЗАРТ ФИЛЬМ\"</td>\n",
       "      <td>Россия</td>\n",
       "      <td>А.Цицилин</td>\n",
       "      <td>ООО \"ВИЗАРТ ФИЛЬМ\", ООО \"ТаББаК\"</td>\n",
       "      <td>«0+» - для любой зрительской аудитории</td>\n",
       "      <td>30000000.0</td>\n",
       "      <td>40000000.0</td>\n",
       "      <td>252489571.0</td>\n",
       "      <td>Фонд кино</td>\n",
       "      <td>6.5</td>\n",
       "      <td>мультфильм,фэнтези,приключения</td>\n",
       "      <td>True</td>\n",
       "      <td>3.134898e+08</td>\n",
       "      <td>2014</td>\n",
       "      <td>А.Цицилин</td>\n",
       "      <td>мультфильм</td>\n",
       "      <td>Россия</td>\n",
       "      <td>70000000.0</td>\n",
       "      <td>0.277239</td>\n",
       "      <td>0.118817</td>\n",
       "      <td>0.158422</td>\n",
       "    </tr>\n",
       "    <tr>\n",
       "      <td>2013</td>\n",
       "      <td>Дедушка моей мечты</td>\n",
       "      <td>111007714</td>\n",
       "      <td>2014-07-22 12:00:00+00:00</td>\n",
       "      <td>Художественный</td>\n",
       "      <td>ООО \"Пендулум\"</td>\n",
       "      <td>Россия</td>\n",
       "      <td>А.Стриженов</td>\n",
       "      <td>Л.Якубович, А.Стриженов, Л.Лищинская</td>\n",
       "      <td>«12+» - для детей старше 12 лет</td>\n",
       "      <td>0.0</td>\n",
       "      <td>28000000.0</td>\n",
       "      <td>74910000.0</td>\n",
       "      <td>Министерство культуры</td>\n",
       "      <td>5.7</td>\n",
       "      <td>комедия,семейный</td>\n",
       "      <td>True</td>\n",
       "      <td>6.277796e+06</td>\n",
       "      <td>2014</td>\n",
       "      <td>А.Стриженов</td>\n",
       "      <td>комедия</td>\n",
       "      <td>Россия</td>\n",
       "      <td>28000000.0</td>\n",
       "      <td>0.373782</td>\n",
       "      <td>0.000000</td>\n",
       "      <td>0.373782</td>\n",
       "    </tr>\n",
       "    <tr>\n",
       "      <td>2083</td>\n",
       "      <td>Дорога на Берлин</td>\n",
       "      <td>111001315</td>\n",
       "      <td>2015-02-17 12:00:00+00:00</td>\n",
       "      <td>Художественный</td>\n",
       "      <td>ООО \"Продюсерская компания Александра Литвинов...</td>\n",
       "      <td>Россия</td>\n",
       "      <td>С.Попов</td>\n",
       "      <td>А.Литвинов, К.Шахназаров</td>\n",
       "      <td>«12+» - для детей старше 12 лет</td>\n",
       "      <td>0.0</td>\n",
       "      <td>45000000.0</td>\n",
       "      <td>89782312.0</td>\n",
       "      <td>Министерство культуры</td>\n",
       "      <td>6.2</td>\n",
       "      <td>военный,драма,история</td>\n",
       "      <td>True</td>\n",
       "      <td>2.272358e+07</td>\n",
       "      <td>2015</td>\n",
       "      <td>С.Попов</td>\n",
       "      <td>военный</td>\n",
       "      <td>Россия</td>\n",
       "      <td>45000000.0</td>\n",
       "      <td>0.501212</td>\n",
       "      <td>0.000000</td>\n",
       "      <td>0.501212</td>\n",
       "    </tr>\n",
       "    <tr>\n",
       "      <td>2091</td>\n",
       "      <td>Батальонъ</td>\n",
       "      <td>111000715</td>\n",
       "      <td>2015-01-29 12:00:00+00:00</td>\n",
       "      <td>Художественный</td>\n",
       "      <td>ООО \"Корнер Ворк\", ООО \"Арт Пикчерс Студия\"</td>\n",
       "      <td>Россия</td>\n",
       "      <td>Д.Месхиев</td>\n",
       "      <td>И.Угольников</td>\n",
       "      <td>«12+» - для детей старше 12 лет</td>\n",
       "      <td>0.0</td>\n",
       "      <td>56579055.0</td>\n",
       "      <td>436437176.0</td>\n",
       "      <td>Министерство культуры, Фонд кино</td>\n",
       "      <td>7.1</td>\n",
       "      <td>драма,военный,история</td>\n",
       "      <td>True</td>\n",
       "      <td>4.518122e+08</td>\n",
       "      <td>2015</td>\n",
       "      <td>Д.Месхиев</td>\n",
       "      <td>драма</td>\n",
       "      <td>Россия</td>\n",
       "      <td>56579055.0</td>\n",
       "      <td>0.129638</td>\n",
       "      <td>0.000000</td>\n",
       "      <td>0.129638</td>\n",
       "    </tr>\n",
       "    <tr>\n",
       "      <td>2105</td>\n",
       "      <td>С пяти до семи</td>\n",
       "      <td>111000615</td>\n",
       "      <td>2015-01-28 12:00:00+00:00</td>\n",
       "      <td>Художественный</td>\n",
       "      <td>ООО \"АМАЛЬГАМА ПРОДАКШН\"</td>\n",
       "      <td>Россия</td>\n",
       "      <td>В.Щегольков</td>\n",
       "      <td>А.Феофанов, С.Новиков</td>\n",
       "      <td>«16+» - для детей старше 16 лет</td>\n",
       "      <td>0.0</td>\n",
       "      <td>25500000.0</td>\n",
       "      <td>40500000.0</td>\n",
       "      <td>Министерство культуры</td>\n",
       "      <td>6.7</td>\n",
       "      <td>драма,мелодрама</td>\n",
       "      <td>True</td>\n",
       "      <td>3.669980e+05</td>\n",
       "      <td>2015</td>\n",
       "      <td>В.Щегольков</td>\n",
       "      <td>драма</td>\n",
       "      <td>Россия</td>\n",
       "      <td>25500000.0</td>\n",
       "      <td>0.629630</td>\n",
       "      <td>0.000000</td>\n",
       "      <td>0.629630</td>\n",
       "    </tr>\n",
       "    <tr>\n",
       "      <td>2107</td>\n",
       "      <td>ОХРАНА</td>\n",
       "      <td>111001115</td>\n",
       "      <td>2015-02-11 12:00:00+00:00</td>\n",
       "      <td>Художественный</td>\n",
       "      <td>ООО \"Амкарт\"</td>\n",
       "      <td>Россия</td>\n",
       "      <td>А.Прошкин</td>\n",
       "      <td>Д.Пиркулов</td>\n",
       "      <td>«16+» - для детей старше 16 лет</td>\n",
       "      <td>0.0</td>\n",
       "      <td>45000000.0</td>\n",
       "      <td>68490606.0</td>\n",
       "      <td>Министерство культуры, Фонд кино</td>\n",
       "      <td>5.0</td>\n",
       "      <td>драма,комедия</td>\n",
       "      <td>True</td>\n",
       "      <td>3.107380e+05</td>\n",
       "      <td>2015</td>\n",
       "      <td>А.Прошкин</td>\n",
       "      <td>драма</td>\n",
       "      <td>Россия</td>\n",
       "      <td>45000000.0</td>\n",
       "      <td>0.657024</td>\n",
       "      <td>0.000000</td>\n",
       "      <td>0.657024</td>\n",
       "    </tr>\n",
       "    <tr>\n",
       "      <td>2108</td>\n",
       "      <td>Полное превращение</td>\n",
       "      <td>111001215</td>\n",
       "      <td>2015-02-12 12:00:00+00:00</td>\n",
       "      <td>Художественный</td>\n",
       "      <td>ООО \"Каро Продакшн\"</td>\n",
       "      <td>Россия</td>\n",
       "      <td>П.Санаев, Ф.Коршунов</td>\n",
       "      <td>Ю.Обухов, А.Рязанцев</td>\n",
       "      <td>«16+» - для детей старше 16 лет</td>\n",
       "      <td>0.0</td>\n",
       "      <td>30000000.0</td>\n",
       "      <td>45006609.0</td>\n",
       "      <td>Фонд кино</td>\n",
       "      <td>5.4</td>\n",
       "      <td>комедия,фантастика</td>\n",
       "      <td>True</td>\n",
       "      <td>1.166319e+07</td>\n",
       "      <td>2015</td>\n",
       "      <td>П.Санаев</td>\n",
       "      <td>комедия</td>\n",
       "      <td>Россия</td>\n",
       "      <td>30000000.0</td>\n",
       "      <td>0.666569</td>\n",
       "      <td>0.000000</td>\n",
       "      <td>0.666569</td>\n",
       "    </tr>\n",
       "    <tr>\n",
       "      <td>2131</td>\n",
       "      <td>Битва за Севастополь</td>\n",
       "      <td>111001415</td>\n",
       "      <td>2015-02-20 12:00:00+00:00</td>\n",
       "      <td>Художественный</td>\n",
       "      <td>ООО \"Кинокомпания \"Новые люди\", ООО \"Студия \"К...</td>\n",
       "      <td>Россия,Украина</td>\n",
       "      <td>С.Мокрицкий</td>\n",
       "      <td>Н.Мокрицкая, Е.Олесов</td>\n",
       "      <td>«12+» - для детей старше 12 лет</td>\n",
       "      <td>0.0</td>\n",
       "      <td>27510000.0</td>\n",
       "      <td>131000000.0</td>\n",
       "      <td>Министерство культуры</td>\n",
       "      <td>7.5</td>\n",
       "      <td>биография,военный,драма</td>\n",
       "      <td>True</td>\n",
       "      <td>4.018045e+08</td>\n",
       "      <td>2015</td>\n",
       "      <td>С.Мокрицкий</td>\n",
       "      <td>биография</td>\n",
       "      <td>Россия</td>\n",
       "      <td>27510000.0</td>\n",
       "      <td>0.210000</td>\n",
       "      <td>0.000000</td>\n",
       "      <td>0.210000</td>\n",
       "    </tr>\n",
       "    <tr>\n",
       "      <td>2141</td>\n",
       "      <td>Территория</td>\n",
       "      <td>111000515</td>\n",
       "      <td>2015-01-27 12:00:00+00:00</td>\n",
       "      <td>Художественный</td>\n",
       "      <td>ООО \"Творческое объединение \"Кинокомпания \"Анд...</td>\n",
       "      <td>Россия</td>\n",
       "      <td>А.Мельник</td>\n",
       "      <td>А.Мельник</td>\n",
       "      <td>«12+» - для детей старше 12 лет</td>\n",
       "      <td>30000000.0</td>\n",
       "      <td>30000000.0</td>\n",
       "      <td>500000000.0</td>\n",
       "      <td>Фонд кино</td>\n",
       "      <td>6.8</td>\n",
       "      <td>детектив,фэнтези,триллер</td>\n",
       "      <td>True</td>\n",
       "      <td>7.257832e+07</td>\n",
       "      <td>2015</td>\n",
       "      <td>А.Мельник</td>\n",
       "      <td>детектив</td>\n",
       "      <td>Россия</td>\n",
       "      <td>60000000.0</td>\n",
       "      <td>0.120000</td>\n",
       "      <td>0.060000</td>\n",
       "      <td>0.060000</td>\n",
       "    </tr>\n",
       "    <tr>\n",
       "      <td>2142</td>\n",
       "      <td>Неуловимые .</td>\n",
       "      <td>111002715</td>\n",
       "      <td>2015-03-16 12:00:00+00:00</td>\n",
       "      <td>Художественный</td>\n",
       "      <td>ООО \"Энджой мувиз\", ООО \"Ультра стори\"</td>\n",
       "      <td>Россия</td>\n",
       "      <td>А.Аксененко</td>\n",
       "      <td>Г.Малков, В.Поляков, И.Капитонов, В.Муругов</td>\n",
       "      <td>«16+» - для детей старше 16 лет</td>\n",
       "      <td>0.0</td>\n",
       "      <td>25000000.0</td>\n",
       "      <td>61011407.0</td>\n",
       "      <td>Фонд кино</td>\n",
       "      <td>5.6</td>\n",
       "      <td>боевик,драма</td>\n",
       "      <td>True</td>\n",
       "      <td>3.300553e+07</td>\n",
       "      <td>2015</td>\n",
       "      <td>А.Аксененко</td>\n",
       "      <td>боевик</td>\n",
       "      <td>Россия</td>\n",
       "      <td>25000000.0</td>\n",
       "      <td>0.409759</td>\n",
       "      <td>0.000000</td>\n",
       "      <td>0.409759</td>\n",
       "    </tr>\n",
       "    <tr>\n",
       "      <td>2145</td>\n",
       "      <td>Главный</td>\n",
       "      <td>111003415</td>\n",
       "      <td>2015-03-27 12:00:00+00:00</td>\n",
       "      <td>Художественный</td>\n",
       "      <td>ООО \"Киностудия \"МАСТЕР\"</td>\n",
       "      <td>Россия</td>\n",
       "      <td>Ю.Кара</td>\n",
       "      <td>Ю.Кара</td>\n",
       "      <td>«6+» - для детей старше 6 лет</td>\n",
       "      <td>0.0</td>\n",
       "      <td>10000000.0</td>\n",
       "      <td>40000000.0</td>\n",
       "      <td>Министерство культуры</td>\n",
       "      <td>NaN</td>\n",
       "      <td>фантастика,боевик,комедия</td>\n",
       "      <td>True</td>\n",
       "      <td>3.347500e+05</td>\n",
       "      <td>2015</td>\n",
       "      <td>Ю.Кара</td>\n",
       "      <td>фантастика</td>\n",
       "      <td>Россия</td>\n",
       "      <td>10000000.0</td>\n",
       "      <td>0.250000</td>\n",
       "      <td>0.000000</td>\n",
       "      <td>0.250000</td>\n",
       "    </tr>\n",
       "    <tr>\n",
       "      <td>2149</td>\n",
       "      <td>РЕВЕРБЕРАЦИЯ</td>\n",
       "      <td>111003515</td>\n",
       "      <td>2015-03-30 12:00:00+00:00</td>\n",
       "      <td>Художественный</td>\n",
       "      <td>ООО \"Артлайт\"</td>\n",
       "      <td>Россия</td>\n",
       "      <td>К.Сухарьков</td>\n",
       "      <td>А.Новиков</td>\n",
       "      <td>«18+» - запрещено для детей</td>\n",
       "      <td>0.0</td>\n",
       "      <td>25000000.0</td>\n",
       "      <td>37371262.0</td>\n",
       "      <td>Министерство культуры</td>\n",
       "      <td>NaN</td>\n",
       "      <td>неизвестно</td>\n",
       "      <td>True</td>\n",
       "      <td>1.982000e+04</td>\n",
       "      <td>2015</td>\n",
       "      <td>К.Сухарьков</td>\n",
       "      <td>неизвестно</td>\n",
       "      <td>Россия</td>\n",
       "      <td>25000000.0</td>\n",
       "      <td>0.668963</td>\n",
       "      <td>0.000000</td>\n",
       "      <td>0.668963</td>\n",
       "    </tr>\n",
       "    <tr>\n",
       "      <td>2165</td>\n",
       "      <td>Находка.</td>\n",
       "      <td>111003615</td>\n",
       "      <td>2015-04-02 12:00:00+00:00</td>\n",
       "      <td>Художественный</td>\n",
       "      <td>ООО \"Кинокомпания \"Фигаро\"</td>\n",
       "      <td>Россия</td>\n",
       "      <td>В.Демент</td>\n",
       "      <td>Н.Будкина</td>\n",
       "      <td>«16+» - для детей старше 16 лет</td>\n",
       "      <td>0.0</td>\n",
       "      <td>24000000.0</td>\n",
       "      <td>35296950.0</td>\n",
       "      <td>Министерство культуры</td>\n",
       "      <td>6.7</td>\n",
       "      <td>драма</td>\n",
       "      <td>True</td>\n",
       "      <td>8.543345e+05</td>\n",
       "      <td>2015</td>\n",
       "      <td>В.Демент</td>\n",
       "      <td>драма</td>\n",
       "      <td>Россия</td>\n",
       "      <td>24000000.0</td>\n",
       "      <td>0.679945</td>\n",
       "      <td>0.000000</td>\n",
       "      <td>0.679945</td>\n",
       "    </tr>\n",
       "    <tr>\n",
       "      <td>2168</td>\n",
       "      <td>Трагедия в бухте Роджерс</td>\n",
       "      <td>111003215</td>\n",
       "      <td>2015-03-26 12:00:00+00:00</td>\n",
       "      <td>Художественный</td>\n",
       "      <td>ООО \"Валдай\"</td>\n",
       "      <td>Россия</td>\n",
       "      <td>Ф.Абрютин</td>\n",
       "      <td>С.Кучмаева, С.Зернов</td>\n",
       "      <td>«12+» - для детей старше 12 лет</td>\n",
       "      <td>0.0</td>\n",
       "      <td>30000000.0</td>\n",
       "      <td>43000000.0</td>\n",
       "      <td>Министерство культуры</td>\n",
       "      <td>6.1</td>\n",
       "      <td>детектив,история,драма</td>\n",
       "      <td>True</td>\n",
       "      <td>4.005000e+04</td>\n",
       "      <td>2015</td>\n",
       "      <td>Ф.Абрютин</td>\n",
       "      <td>детектив</td>\n",
       "      <td>Россия</td>\n",
       "      <td>30000000.0</td>\n",
       "      <td>0.697674</td>\n",
       "      <td>0.000000</td>\n",
       "      <td>0.697674</td>\n",
       "    </tr>\n",
       "    <tr>\n",
       "      <td>2204</td>\n",
       "      <td>8 новых свиданий</td>\n",
       "      <td>111014914</td>\n",
       "      <td>2014-10-30 12:00:00+00:00</td>\n",
       "      <td>Художественный</td>\n",
       "      <td>ООО \"Смарт ТВ Продакшн\"</td>\n",
       "      <td>Россия</td>\n",
       "      <td>М.Бальчюнас</td>\n",
       "      <td>ООО \"Грин Филмс\", ООО \"ПЦ \"Горад\"</td>\n",
       "      <td>«12+» - для детей старше 12 лет</td>\n",
       "      <td>0.0</td>\n",
       "      <td>30000000.0</td>\n",
       "      <td>77401751.0</td>\n",
       "      <td>Фонд кино</td>\n",
       "      <td>6.0</td>\n",
       "      <td>комедия</td>\n",
       "      <td>True</td>\n",
       "      <td>3.933446e+08</td>\n",
       "      <td>2014</td>\n",
       "      <td>М.Бальчюнас</td>\n",
       "      <td>комедия</td>\n",
       "      <td>Россия</td>\n",
       "      <td>30000000.0</td>\n",
       "      <td>0.387588</td>\n",
       "      <td>0.000000</td>\n",
       "      <td>0.387588</td>\n",
       "    </tr>\n",
       "    <tr>\n",
       "      <td>2264</td>\n",
       "      <td>КЛЕТКА (по мотивам фантастического рассказа Ф....</td>\n",
       "      <td>111015314</td>\n",
       "      <td>2014-11-14 12:00:00+00:00</td>\n",
       "      <td>Художественный</td>\n",
       "      <td>ООО Кинокомпания \"Фортуна Фильм\", ООО \"Центр Ю...</td>\n",
       "      <td>Россия</td>\n",
       "      <td>Э.Архангельская, М.Пандурски</td>\n",
       "      <td>Э.Архангельская, А.Пискунова, Ю.Арабов</td>\n",
       "      <td>«16+» - для детей старше 16 лет</td>\n",
       "      <td>0.0</td>\n",
       "      <td>24500000.0</td>\n",
       "      <td>35000000.0</td>\n",
       "      <td>Министерство культуры</td>\n",
       "      <td>6.2</td>\n",
       "      <td>драма,детектив</td>\n",
       "      <td>True</td>\n",
       "      <td>9.559705e+05</td>\n",
       "      <td>2014</td>\n",
       "      <td>Э.Архангельская</td>\n",
       "      <td>драма</td>\n",
       "      <td>Россия</td>\n",
       "      <td>24500000.0</td>\n",
       "      <td>0.700000</td>\n",
       "      <td>0.000000</td>\n",
       "      <td>0.700000</td>\n",
       "    </tr>\n",
       "    <tr>\n",
       "      <td>2268</td>\n",
       "      <td>Исповедь Z@drota</td>\n",
       "      <td>111014214</td>\n",
       "      <td>2014-10-15 12:00:00+00:00</td>\n",
       "      <td>Художественный</td>\n",
       "      <td>ООО \"Магнум-фильм\" по заказу ООО \"ММЕ\"</td>\n",
       "      <td>Россия</td>\n",
       "      <td>К.Шипенко</td>\n",
       "      <td>Р.Дишдишян, ООО \"ММЕ\"</td>\n",
       "      <td>«18+» - запрещено для детей</td>\n",
       "      <td>0.0</td>\n",
       "      <td>27000000.0</td>\n",
       "      <td>51196711.0</td>\n",
       "      <td>Министерство культуры</td>\n",
       "      <td>6.3</td>\n",
       "      <td>драма</td>\n",
       "      <td>True</td>\n",
       "      <td>1.523750e+06</td>\n",
       "      <td>2014</td>\n",
       "      <td>К.Шипенко</td>\n",
       "      <td>драма</td>\n",
       "      <td>Россия</td>\n",
       "      <td>27000000.0</td>\n",
       "      <td>0.527378</td>\n",
       "      <td>0.000000</td>\n",
       "      <td>0.527378</td>\n",
       "    </tr>\n",
       "    <tr>\n",
       "      <td>2287</td>\n",
       "      <td>12 месяцев. Новая сказка</td>\n",
       "      <td>111014414</td>\n",
       "      <td>2014-10-16 12:00:00+00:00</td>\n",
       "      <td>Художественный</td>\n",
       "      <td>ООО \"Киностудия \"Никола-фильм\", ООО \"Инвестмен...</td>\n",
       "      <td>Россия</td>\n",
       "      <td>Д.Елеонский</td>\n",
       "      <td>И.Каленов</td>\n",
       "      <td>«0+» - для любой зрительской аудитории</td>\n",
       "      <td>15000000.0</td>\n",
       "      <td>5000000.0</td>\n",
       "      <td>90120000.0</td>\n",
       "      <td>Фонд кино</td>\n",
       "      <td>3.8</td>\n",
       "      <td>семейный,фэнтези</td>\n",
       "      <td>True</td>\n",
       "      <td>3.224481e+07</td>\n",
       "      <td>2014</td>\n",
       "      <td>Д.Елеонский</td>\n",
       "      <td>семейный</td>\n",
       "      <td>Россия</td>\n",
       "      <td>20000000.0</td>\n",
       "      <td>0.221926</td>\n",
       "      <td>0.166445</td>\n",
       "      <td>0.055482</td>\n",
       "    </tr>\n",
       "    <tr>\n",
       "      <td>2363</td>\n",
       "      <td>Левиафан.</td>\n",
       "      <td>111009714</td>\n",
       "      <td>2014-09-11 12:00:00+00:00</td>\n",
       "      <td>Художественный</td>\n",
       "      <td>ООО \"Нон-Стоп Продакшн\"</td>\n",
       "      <td>Россия</td>\n",
       "      <td>А.Звягинцев</td>\n",
       "      <td>А.Роднянский, С.Мелькумов</td>\n",
       "      <td>«18+» - запрещено для детей</td>\n",
       "      <td>0.0</td>\n",
       "      <td>90000000.0</td>\n",
       "      <td>267288892.0</td>\n",
       "      <td>Министерство культуры, Фонд кино</td>\n",
       "      <td>6.9</td>\n",
       "      <td>драма,криминал</td>\n",
       "      <td>True</td>\n",
       "      <td>8.812004e+07</td>\n",
       "      <td>2014</td>\n",
       "      <td>А.Звягинцев</td>\n",
       "      <td>драма</td>\n",
       "      <td>Россия</td>\n",
       "      <td>90000000.0</td>\n",
       "      <td>0.336714</td>\n",
       "      <td>0.000000</td>\n",
       "      <td>0.336714</td>\n",
       "    </tr>\n",
       "    <tr>\n",
       "      <td>2378</td>\n",
       "      <td>Экспириенс</td>\n",
       "      <td>111000315</td>\n",
       "      <td>2015-01-13 12:00:00+00:00</td>\n",
       "      <td>Художественный</td>\n",
       "      <td>ООО \"Компания \"АТК-Студио\"</td>\n",
       "      <td>Россия</td>\n",
       "      <td>Е.Татаров</td>\n",
       "      <td>А.Тютрюмов</td>\n",
       "      <td>«16+» - для детей старше 16 лет</td>\n",
       "      <td>0.0</td>\n",
       "      <td>26000000.0</td>\n",
       "      <td>37142857.0</td>\n",
       "      <td>Министерство культуры</td>\n",
       "      <td>4.7</td>\n",
       "      <td>драма</td>\n",
       "      <td>True</td>\n",
       "      <td>3.655000e+04</td>\n",
       "      <td>2015</td>\n",
       "      <td>Е.Татаров</td>\n",
       "      <td>драма</td>\n",
       "      <td>Россия</td>\n",
       "      <td>26000000.0</td>\n",
       "      <td>0.700000</td>\n",
       "      <td>0.000000</td>\n",
       "      <td>0.700000</td>\n",
       "    </tr>\n",
       "    <tr>\n",
       "      <td>2379</td>\n",
       "      <td>Ангелы Революции</td>\n",
       "      <td>111023214</td>\n",
       "      <td>2014-12-11 12:00:00+00:00</td>\n",
       "      <td>Художественный</td>\n",
       "      <td>ООО \"29 февраля\"</td>\n",
       "      <td>Россия</td>\n",
       "      <td>А.Федорченко</td>\n",
       "      <td>Д.Воробьев, А.Федорченко, Л.Лебедев</td>\n",
       "      <td>«16+» - для детей старше 16 лет</td>\n",
       "      <td>0.0</td>\n",
       "      <td>28000000.0</td>\n",
       "      <td>40000000.0</td>\n",
       "      <td>Министерство культуры</td>\n",
       "      <td>6.4</td>\n",
       "      <td>драма</td>\n",
       "      <td>True</td>\n",
       "      <td>8.691810e+05</td>\n",
       "      <td>2014</td>\n",
       "      <td>А.Федорченко</td>\n",
       "      <td>драма</td>\n",
       "      <td>Россия</td>\n",
       "      <td>28000000.0</td>\n",
       "      <td>0.700000</td>\n",
       "      <td>0.000000</td>\n",
       "      <td>0.700000</td>\n",
       "    </tr>\n",
       "    <tr>\n",
       "      <td>2396</td>\n",
       "      <td>Небесный верблюд</td>\n",
       "      <td>111000115</td>\n",
       "      <td>2015-01-14 12:00:00+00:00</td>\n",
       "      <td>Художественный</td>\n",
       "      <td>ООО Продюсерский центр \"Всё хорошо\"</td>\n",
       "      <td>Россия</td>\n",
       "      <td>Ю.Фетинг</td>\n",
       "      <td>И.Плиско</td>\n",
       "      <td>«0+» - для любой зрительской аудитории</td>\n",
       "      <td>0.0</td>\n",
       "      <td>34000000.0</td>\n",
       "      <td>49280496.0</td>\n",
       "      <td>Министерство культуры</td>\n",
       "      <td>6.7</td>\n",
       "      <td>детский,семейный</td>\n",
       "      <td>True</td>\n",
       "      <td>6.104000e+04</td>\n",
       "      <td>2015</td>\n",
       "      <td>Ю.Фетинг</td>\n",
       "      <td>детский</td>\n",
       "      <td>Россия</td>\n",
       "      <td>34000000.0</td>\n",
       "      <td>0.689928</td>\n",
       "      <td>0.000000</td>\n",
       "      <td>0.689928</td>\n",
       "    </tr>\n",
       "    <tr>\n",
       "      <td>2450</td>\n",
       "      <td>ПРАЗДНИК НЕПОСЛУШАНИЯ</td>\n",
       "      <td>111016215</td>\n",
       "      <td>2015-08-28 12:00:00+00:00</td>\n",
       "      <td>Художественный</td>\n",
       "      <td>АНО \"Творческая студия \"Стелла\"</td>\n",
       "      <td>Россия</td>\n",
       "      <td>В.Харченко, А.Волков</td>\n",
       "      <td>Ф.Попов</td>\n",
       "      <td>«6+» - для детей старше 6 лет</td>\n",
       "      <td>0.0</td>\n",
       "      <td>34000000.0</td>\n",
       "      <td>49071428.0</td>\n",
       "      <td>Министерство культуры</td>\n",
       "      <td>NaN</td>\n",
       "      <td>неизвестно</td>\n",
       "      <td>True</td>\n",
       "      <td>1.825100e+05</td>\n",
       "      <td>2015</td>\n",
       "      <td>В.Харченко</td>\n",
       "      <td>неизвестно</td>\n",
       "      <td>Россия</td>\n",
       "      <td>34000000.0</td>\n",
       "      <td>0.692868</td>\n",
       "      <td>0.000000</td>\n",
       "      <td>0.692868</td>\n",
       "    </tr>\n",
       "    <tr>\n",
       "      <td>2460</td>\n",
       "      <td>Парень с нашего кладбища</td>\n",
       "      <td>111016415</td>\n",
       "      <td>2015-09-02 12:00:00+00:00</td>\n",
       "      <td>Художественный</td>\n",
       "      <td>ООО \"Кинокомпания \"СТВ\"</td>\n",
       "      <td>Россия</td>\n",
       "      <td>И.Чижиков, А.Чижиков</td>\n",
       "      <td>С.Сельянов</td>\n",
       "      <td>«12+» - для детей старше 12 лет</td>\n",
       "      <td>0.0</td>\n",
       "      <td>20000000.0</td>\n",
       "      <td>46968883.0</td>\n",
       "      <td>Фонд кино</td>\n",
       "      <td>6.2</td>\n",
       "      <td>комедия,триллер</td>\n",
       "      <td>True</td>\n",
       "      <td>1.493668e+07</td>\n",
       "      <td>2015</td>\n",
       "      <td>И.Чижиков</td>\n",
       "      <td>комедия</td>\n",
       "      <td>Россия</td>\n",
       "      <td>20000000.0</td>\n",
       "      <td>0.425814</td>\n",
       "      <td>0.000000</td>\n",
       "      <td>0.425814</td>\n",
       "    </tr>\n",
       "    <tr>\n",
       "      <td>2470</td>\n",
       "      <td>Pro любовь</td>\n",
       "      <td>111016615</td>\n",
       "      <td>2015-09-17 12:00:00+00:00</td>\n",
       "      <td>Художественный</td>\n",
       "      <td>ООО \"Магнум-фильм\"</td>\n",
       "      <td>Россия</td>\n",
       "      <td>А.Меликян</td>\n",
       "      <td>А.Меликян</td>\n",
       "      <td>«18+» - запрещено для детей</td>\n",
       "      <td>0.0</td>\n",
       "      <td>20000000.0</td>\n",
       "      <td>55195000.0</td>\n",
       "      <td>Министерство культуры</td>\n",
       "      <td>6.6</td>\n",
       "      <td>комедия</td>\n",
       "      <td>True</td>\n",
       "      <td>5.288230e+07</td>\n",
       "      <td>2015</td>\n",
       "      <td>А.Меликян</td>\n",
       "      <td>комедия</td>\n",
       "      <td>Россия</td>\n",
       "      <td>20000000.0</td>\n",
       "      <td>0.362352</td>\n",
       "      <td>0.000000</td>\n",
       "      <td>0.362352</td>\n",
       "    </tr>\n",
       "    <tr>\n",
       "      <td>2481</td>\n",
       "      <td>Однажды._</td>\n",
       "      <td>111004215</td>\n",
       "      <td>2015-04-15 12:00:00+00:00</td>\n",
       "      <td>Художественный</td>\n",
       "      <td>ООО \"Компания \"РЕАЛ-ДАКОТА\", НП \"Интерфест\"</td>\n",
       "      <td>Россия</td>\n",
       "      <td>Р.Давлетьяров</td>\n",
       "      <td>Р.Давлетьяров, А.Котелевский</td>\n",
       "      <td>«16+» - для детей старше 16 лет</td>\n",
       "      <td>0.0</td>\n",
       "      <td>97000000.0</td>\n",
       "      <td>156360666.0</td>\n",
       "      <td>Фонд кино</td>\n",
       "      <td>7.9</td>\n",
       "      <td>драма,криминал,детектив</td>\n",
       "      <td>True</td>\n",
       "      <td>1.274840e+07</td>\n",
       "      <td>2015</td>\n",
       "      <td>Р.Давлетьяров</td>\n",
       "      <td>драма</td>\n",
       "      <td>Россия</td>\n",
       "      <td>97000000.0</td>\n",
       "      <td>0.620361</td>\n",
       "      <td>0.000000</td>\n",
       "      <td>0.620361</td>\n",
       "    </tr>\n",
       "    <tr>\n",
       "      <td>2484</td>\n",
       "      <td>Чайки</td>\n",
       "      <td>111004615</td>\n",
       "      <td>2015-04-20 12:00:00+00:00</td>\n",
       "      <td>Художественный</td>\n",
       "      <td>ООО \"Кинокомпания \"Ладья\"</td>\n",
       "      <td>Россия</td>\n",
       "      <td>Э.Манжеева</td>\n",
       "      <td>Е.Гликман, Я.Живов</td>\n",
       "      <td>«16+» - для детей старше 16 лет</td>\n",
       "      <td>0.0</td>\n",
       "      <td>24450000.0</td>\n",
       "      <td>37424796.0</td>\n",
       "      <td>Министерство культуры</td>\n",
       "      <td>6.2</td>\n",
       "      <td>драма</td>\n",
       "      <td>True</td>\n",
       "      <td>3.599800e+05</td>\n",
       "      <td>2015</td>\n",
       "      <td>Э.Манжеева</td>\n",
       "      <td>драма</td>\n",
       "      <td>Россия</td>\n",
       "      <td>24450000.0</td>\n",
       "      <td>0.653310</td>\n",
       "      <td>0.000000</td>\n",
       "      <td>0.653310</td>\n",
       "    </tr>\n",
       "    <tr>\n",
       "      <td>2488</td>\n",
       "      <td>Последний вагон. Весна</td>\n",
       "      <td>111004115</td>\n",
       "      <td>2015-04-15 12:00:00+00:00</td>\n",
       "      <td>Художественный</td>\n",
       "      <td>ООО \"ТАН Фильм\"</td>\n",
       "      <td>Россия</td>\n",
       "      <td>А.Калинкин</td>\n",
       "      <td>Д.Ефремов, В.Пономаренко</td>\n",
       "      <td>«18+» - запрещено для детей</td>\n",
       "      <td>0.0</td>\n",
       "      <td>25000000.0</td>\n",
       "      <td>35760060.0</td>\n",
       "      <td>Министерство культуры</td>\n",
       "      <td>5.1</td>\n",
       "      <td>триллер</td>\n",
       "      <td>True</td>\n",
       "      <td>6.119300e+04</td>\n",
       "      <td>2015</td>\n",
       "      <td>А.Калинкин</td>\n",
       "      <td>триллер</td>\n",
       "      <td>Россия</td>\n",
       "      <td>25000000.0</td>\n",
       "      <td>0.699104</td>\n",
       "      <td>0.000000</td>\n",
       "      <td>0.699104</td>\n",
       "    </tr>\n",
       "    <tr>\n",
       "      <td>2516</td>\n",
       "      <td>Норвег</td>\n",
       "      <td>111018215</td>\n",
       "      <td>2015-10-15 12:00:00+00:00</td>\n",
       "      <td>Художественный</td>\n",
       "      <td>ООО \"Росмедиа Продакшн\" по заказу ООО \"МАРС МЕ...</td>\n",
       "      <td>Россия</td>\n",
       "      <td>Е.Константинова (псевдоним Алена Званцева)</td>\n",
       "      <td>Р.Дишдишян, ООО \"ММЕ\"</td>\n",
       "      <td>«12+» - для детей старше 12 лет</td>\n",
       "      <td>0.0</td>\n",
       "      <td>5000000.0</td>\n",
       "      <td>28115580.0</td>\n",
       "      <td>Министерство культуры</td>\n",
       "      <td>6.3</td>\n",
       "      <td>комедия</td>\n",
       "      <td>True</td>\n",
       "      <td>2.323980e+06</td>\n",
       "      <td>2015</td>\n",
       "      <td>Е.Константинова (псевдоним Алена Званцева)</td>\n",
       "      <td>комедия</td>\n",
       "      <td>Россия</td>\n",
       "      <td>5000000.0</td>\n",
       "      <td>0.177837</td>\n",
       "      <td>0.000000</td>\n",
       "      <td>0.177837</td>\n",
       "    </tr>\n",
       "    <tr>\n",
       "      <td>2526</td>\n",
       "      <td>Вдвоем на льдине.</td>\n",
       "      <td>111011015</td>\n",
       "      <td>2015-06-25 12:00:00+00:00</td>\n",
       "      <td>Художественный</td>\n",
       "      <td>ООО \"Первое творческое объединение\"</td>\n",
       "      <td>Россия</td>\n",
       "      <td>Н.Джорджадзе, В.Игнатьев</td>\n",
       "      <td>П.Поляков, И.Букреев</td>\n",
       "      <td>«12+» - для детей старше 12 лет</td>\n",
       "      <td>0.0</td>\n",
       "      <td>26500000.0</td>\n",
       "      <td>37943652.0</td>\n",
       "      <td>Министерство культуры</td>\n",
       "      <td>6.6</td>\n",
       "      <td>мелодрама</td>\n",
       "      <td>True</td>\n",
       "      <td>4.450000e+03</td>\n",
       "      <td>2015</td>\n",
       "      <td>Н.Джорджадзе</td>\n",
       "      <td>мелодрама</td>\n",
       "      <td>Россия</td>\n",
       "      <td>26500000.0</td>\n",
       "      <td>0.698404</td>\n",
       "      <td>0.000000</td>\n",
       "      <td>0.698404</td>\n",
       "    </tr>\n",
       "    <tr>\n",
       "      <td>2529</td>\n",
       "      <td>Крепость. Щитом и мечом</td>\n",
       "      <td>114003015</td>\n",
       "      <td>2015-10-21 12:00:00+00:00</td>\n",
       "      <td>Анимационный</td>\n",
       "      <td>ООО \"Студия анимационного кино \"Мельница\"</td>\n",
       "      <td>Россия</td>\n",
       "      <td>Ф.Дмитриев</td>\n",
       "      <td>С.Сельянов, А.Боярский</td>\n",
       "      <td>«6+» - для детей старше 6 лет</td>\n",
       "      <td>0.0</td>\n",
       "      <td>50000000.0</td>\n",
       "      <td>138325738.0</td>\n",
       "      <td>Фонд кино</td>\n",
       "      <td>7.4</td>\n",
       "      <td>мультфильм,приключения,военный</td>\n",
       "      <td>True</td>\n",
       "      <td>7.274922e+07</td>\n",
       "      <td>2015</td>\n",
       "      <td>Ф.Дмитриев</td>\n",
       "      <td>мультфильм</td>\n",
       "      <td>Россия</td>\n",
       "      <td>50000000.0</td>\n",
       "      <td>0.361466</td>\n",
       "      <td>0.000000</td>\n",
       "      <td>0.361466</td>\n",
       "    </tr>\n",
       "    <tr>\n",
       "      <td>2530</td>\n",
       "      <td>Черная вода</td>\n",
       "      <td>111018315</td>\n",
       "      <td>2015-10-09 12:00:00+00:00</td>\n",
       "      <td>Художественный</td>\n",
       "      <td>ООО \"АРТЛАЙТ\"</td>\n",
       "      <td>Россия</td>\n",
       "      <td>Р.Каримов</td>\n",
       "      <td>А.Новиков, А.Котелевский</td>\n",
       "      <td>«16+» - для детей старше 16 лет</td>\n",
       "      <td>0.0</td>\n",
       "      <td>28000000.0</td>\n",
       "      <td>42252509.0</td>\n",
       "      <td>Министерство культуры</td>\n",
       "      <td>5.1</td>\n",
       "      <td>ужасы,драма</td>\n",
       "      <td>True</td>\n",
       "      <td>1.607720e+07</td>\n",
       "      <td>2015</td>\n",
       "      <td>Р.Каримов</td>\n",
       "      <td>ужасы</td>\n",
       "      <td>Россия</td>\n",
       "      <td>28000000.0</td>\n",
       "      <td>0.662683</td>\n",
       "      <td>0.000000</td>\n",
       "      <td>0.662683</td>\n",
       "    </tr>\n",
       "    <tr>\n",
       "      <td>2532</td>\n",
       "      <td>Райские кущи</td>\n",
       "      <td>111009415</td>\n",
       "      <td>2015-05-21 12:00:00+00:00</td>\n",
       "      <td>Художественный</td>\n",
       "      <td>ООО \"Кинокомпания \"ТАЛАН\"</td>\n",
       "      <td>Россия</td>\n",
       "      <td>А.Аравин, А.Прошкин</td>\n",
       "      <td>Н.Будкина</td>\n",
       "      <td>«16+» - для детей старше 16 лет</td>\n",
       "      <td>0.0</td>\n",
       "      <td>27000000.0</td>\n",
       "      <td>39990000.0</td>\n",
       "      <td>Министерство культуры</td>\n",
       "      <td>5.6</td>\n",
       "      <td>драма</td>\n",
       "      <td>True</td>\n",
       "      <td>1.184344e+06</td>\n",
       "      <td>2015</td>\n",
       "      <td>А.Аравин</td>\n",
       "      <td>драма</td>\n",
       "      <td>Россия</td>\n",
       "      <td>27000000.0</td>\n",
       "      <td>0.675169</td>\n",
       "      <td>0.000000</td>\n",
       "      <td>0.675169</td>\n",
       "    </tr>\n",
       "    <tr>\n",
       "      <td>2533</td>\n",
       "      <td>Конец прекрасной эпохи</td>\n",
       "      <td>111009915</td>\n",
       "      <td>2015-06-01 12:00:00+00:00</td>\n",
       "      <td>Художественный</td>\n",
       "      <td>ООО \"Киностудия \"ВЕРТИКАЛЬ\"</td>\n",
       "      <td>Россия</td>\n",
       "      <td>С.Говорухин</td>\n",
       "      <td>С.Говорухин, Е.Маскина</td>\n",
       "      <td>«16+» - для детей старше 16 лет</td>\n",
       "      <td>0.0</td>\n",
       "      <td>28000000.0</td>\n",
       "      <td>112000000.0</td>\n",
       "      <td>Министерство культуры</td>\n",
       "      <td>6.5</td>\n",
       "      <td>драма,комедия</td>\n",
       "      <td>True</td>\n",
       "      <td>1.502070e+07</td>\n",
       "      <td>2015</td>\n",
       "      <td>С.Говорухин</td>\n",
       "      <td>драма</td>\n",
       "      <td>Россия</td>\n",
       "      <td>28000000.0</td>\n",
       "      <td>0.250000</td>\n",
       "      <td>0.000000</td>\n",
       "      <td>0.250000</td>\n",
       "    </tr>\n",
       "    <tr>\n",
       "      <td>2534</td>\n",
       "      <td>72 часа</td>\n",
       "      <td>111011815</td>\n",
       "      <td>2015-07-15 12:00:00+00:00</td>\n",
       "      <td>Художественный</td>\n",
       "      <td>ООО \"Продюсерская компания Николая Расторгуева\"</td>\n",
       "      <td>Россия</td>\n",
       "      <td>К.Ангелина</td>\n",
       "      <td>И.Николенко, Н.Расторгуев</td>\n",
       "      <td>«12+» - для детей старше 12 лет</td>\n",
       "      <td>10000000.0</td>\n",
       "      <td>27000000.0</td>\n",
       "      <td>55729424.0</td>\n",
       "      <td>Министерство культуры, Фонд кино</td>\n",
       "      <td>7.0</td>\n",
       "      <td>военный,драма</td>\n",
       "      <td>True</td>\n",
       "      <td>1.035554e+07</td>\n",
       "      <td>2015</td>\n",
       "      <td>К.Ангелина</td>\n",
       "      <td>военный</td>\n",
       "      <td>Россия</td>\n",
       "      <td>37000000.0</td>\n",
       "      <td>0.663922</td>\n",
       "      <td>0.179438</td>\n",
       "      <td>0.484484</td>\n",
       "    </tr>\n",
       "    <tr>\n",
       "      <td>2535</td>\n",
       "      <td>Частное пионерское-2</td>\n",
       "      <td>111004415</td>\n",
       "      <td>2015-04-15 12:00:00+00:00</td>\n",
       "      <td>Художественный</td>\n",
       "      <td>ООО \"Кинопрограмма XXI век\"</td>\n",
       "      <td>Россия</td>\n",
       "      <td>А.Карпиловский</td>\n",
       "      <td>В.Есинов</td>\n",
       "      <td>«6+» - для детей старше 6 лет</td>\n",
       "      <td>0.0</td>\n",
       "      <td>25000000.0</td>\n",
       "      <td>35714286.0</td>\n",
       "      <td>Министерство культуры</td>\n",
       "      <td>7.3</td>\n",
       "      <td>детский,приключения,семейный</td>\n",
       "      <td>True</td>\n",
       "      <td>9.774800e+05</td>\n",
       "      <td>2015</td>\n",
       "      <td>А.Карпиловский</td>\n",
       "      <td>детский</td>\n",
       "      <td>Россия</td>\n",
       "      <td>25000000.0</td>\n",
       "      <td>0.700000</td>\n",
       "      <td>0.000000</td>\n",
       "      <td>0.700000</td>\n",
       "    </tr>\n",
       "    <tr>\n",
       "      <td>2536</td>\n",
       "      <td>ВСТАВАЙ И БЕЙСЯ</td>\n",
       "      <td>111008615</td>\n",
       "      <td>2015-05-05 12:00:00+00:00</td>\n",
       "      <td>Художественный</td>\n",
       "      <td>ООО \"ЛИГА ПРОДАКШН\"</td>\n",
       "      <td>Россия,Италия</td>\n",
       "      <td>Стефано Лоренци</td>\n",
       "      <td>Жанфранко Пиччоли, Надежда Горшкова, Катерина ...</td>\n",
       "      <td>«18+» - запрещено для детей</td>\n",
       "      <td>0.0</td>\n",
       "      <td>60000000.0</td>\n",
       "      <td>139357211.0</td>\n",
       "      <td>Министерство культуры, Фонд кино</td>\n",
       "      <td>6.4</td>\n",
       "      <td>драма</td>\n",
       "      <td>True</td>\n",
       "      <td>1.440400e+05</td>\n",
       "      <td>2015</td>\n",
       "      <td>Стефано Лоренци</td>\n",
       "      <td>драма</td>\n",
       "      <td>Россия</td>\n",
       "      <td>60000000.0</td>\n",
       "      <td>0.430548</td>\n",
       "      <td>0.000000</td>\n",
       "      <td>0.430548</td>\n",
       "    </tr>\n",
       "  </tbody>\n",
       "</table>\n",
       "</div>"
      ],
      "text/plain": [
       "                                                  title  pu_number  \\\n",
       "1281                                      Пока еще жива  111005313   \n",
       "1448                                Бесславные придурки  111003314   \n",
       "1498                                          Невидимки  111004213   \n",
       "1524                                              БЕРЦЫ  111004314   \n",
       "1792                                           Братья Ч  111004414   \n",
       "1853          Тайна Сухаревой башни. Чародей равновесия  114000115   \n",
       "1869                             А зори здесь тихие..._  111002915   \n",
       "1870                                        Две женщины  111013714   \n",
       "1902                                          Призрак_.  111001815   \n",
       "1911                                           Ведьма .  111002215   \n",
       "1986                                      Елки Лохматые  111023114   \n",
       "1990                                            Смайлик  111008614   \n",
       "1996               Овечка Долли была злая и рано умерла  111015214   \n",
       "2004                  Снежная Королева 2: Перезаморозка  114000214   \n",
       "2013                                 Дедушка моей мечты  111007714   \n",
       "2083                                   Дорога на Берлин  111001315   \n",
       "2091                                          Батальонъ  111000715   \n",
       "2105                                     С пяти до семи  111000615   \n",
       "2107                                             ОХРАНА  111001115   \n",
       "2108                                 Полное превращение  111001215   \n",
       "2131                               Битва за Севастополь  111001415   \n",
       "2141                                         Территория  111000515   \n",
       "2142                                       Неуловимые .  111002715   \n",
       "2145                                            Главный  111003415   \n",
       "2149                                       РЕВЕРБЕРАЦИЯ  111003515   \n",
       "2165                                           Находка.  111003615   \n",
       "2168                           Трагедия в бухте Роджерс  111003215   \n",
       "2204                                   8 новых свиданий  111014914   \n",
       "2264  КЛЕТКА (по мотивам фантастического рассказа Ф....  111015314   \n",
       "2268                                   Исповедь Z@drota  111014214   \n",
       "2287                           12 месяцев. Новая сказка  111014414   \n",
       "2363                                          Левиафан.  111009714   \n",
       "2378                                         Экспириенс  111000315   \n",
       "2379                                   Ангелы Революции  111023214   \n",
       "2396                                   Небесный верблюд  111000115   \n",
       "2450                              ПРАЗДНИК НЕПОСЛУШАНИЯ  111016215   \n",
       "2460                           Парень с нашего кладбища  111016415   \n",
       "2470                                         Pro любовь  111016615   \n",
       "2481                                          Однажды._  111004215   \n",
       "2484                                              Чайки  111004615   \n",
       "2488                             Последний вагон. Весна  111004115   \n",
       "2516                                             Норвег  111018215   \n",
       "2526                                  Вдвоем на льдине.  111011015   \n",
       "2529                            Крепость. Щитом и мечом  114003015   \n",
       "2530                                        Черная вода  111018315   \n",
       "2532                                       Райские кущи  111009415   \n",
       "2533                             Конец прекрасной эпохи  111009915   \n",
       "2534                                            72 часа  111011815   \n",
       "2535                               Частное пионерское-2  111004415   \n",
       "2536                                    ВСТАВАЙ И БЕЙСЯ  111008615   \n",
       "\n",
       "               show_start_date            type  \\\n",
       "1281 2013-10-11 12:00:00+00:00  Художественный   \n",
       "1448 2014-03-28 12:00:00+00:00  Художественный   \n",
       "1498 2013-09-10 12:00:00+00:00  Художественный   \n",
       "1524 2014-05-05 12:00:00+00:00  Художественный   \n",
       "1792 2014-04-23 12:00:00+00:00  Художественный   \n",
       "1853 2015-02-18 12:00:00+00:00    Анимационный   \n",
       "1869 2015-03-16 12:00:00+00:00  Художественный   \n",
       "1870 2014-10-02 12:00:00+00:00  Художественный   \n",
       "1902 2015-03-02 12:00:00+00:00  Художественный   \n",
       "1911 2015-03-05 12:00:00+00:00  Художественный   \n",
       "1986 2014-12-10 12:00:00+00:00  Художественный   \n",
       "1990 2014-08-08 12:00:00+00:00  Художественный   \n",
       "1996 2014-11-10 12:00:00+00:00  Художественный   \n",
       "2004 2014-11-13 12:00:00+00:00    Анимационный   \n",
       "2013 2014-07-22 12:00:00+00:00  Художественный   \n",
       "2083 2015-02-17 12:00:00+00:00  Художественный   \n",
       "2091 2015-01-29 12:00:00+00:00  Художественный   \n",
       "2105 2015-01-28 12:00:00+00:00  Художественный   \n",
       "2107 2015-02-11 12:00:00+00:00  Художественный   \n",
       "2108 2015-02-12 12:00:00+00:00  Художественный   \n",
       "2131 2015-02-20 12:00:00+00:00  Художественный   \n",
       "2141 2015-01-27 12:00:00+00:00  Художественный   \n",
       "2142 2015-03-16 12:00:00+00:00  Художественный   \n",
       "2145 2015-03-27 12:00:00+00:00  Художественный   \n",
       "2149 2015-03-30 12:00:00+00:00  Художественный   \n",
       "2165 2015-04-02 12:00:00+00:00  Художественный   \n",
       "2168 2015-03-26 12:00:00+00:00  Художественный   \n",
       "2204 2014-10-30 12:00:00+00:00  Художественный   \n",
       "2264 2014-11-14 12:00:00+00:00  Художественный   \n",
       "2268 2014-10-15 12:00:00+00:00  Художественный   \n",
       "2287 2014-10-16 12:00:00+00:00  Художественный   \n",
       "2363 2014-09-11 12:00:00+00:00  Художественный   \n",
       "2378 2015-01-13 12:00:00+00:00  Художественный   \n",
       "2379 2014-12-11 12:00:00+00:00  Художественный   \n",
       "2396 2015-01-14 12:00:00+00:00  Художественный   \n",
       "2450 2015-08-28 12:00:00+00:00  Художественный   \n",
       "2460 2015-09-02 12:00:00+00:00  Художественный   \n",
       "2470 2015-09-17 12:00:00+00:00  Художественный   \n",
       "2481 2015-04-15 12:00:00+00:00  Художественный   \n",
       "2484 2015-04-20 12:00:00+00:00  Художественный   \n",
       "2488 2015-04-15 12:00:00+00:00  Художественный   \n",
       "2516 2015-10-15 12:00:00+00:00  Художественный   \n",
       "2526 2015-06-25 12:00:00+00:00  Художественный   \n",
       "2529 2015-10-21 12:00:00+00:00    Анимационный   \n",
       "2530 2015-10-09 12:00:00+00:00  Художественный   \n",
       "2532 2015-05-21 12:00:00+00:00  Художественный   \n",
       "2533 2015-06-01 12:00:00+00:00  Художественный   \n",
       "2534 2015-07-15 12:00:00+00:00  Художественный   \n",
       "2535 2015-04-15 12:00:00+00:00  Художественный   \n",
       "2536 2015-05-05 12:00:00+00:00  Художественный   \n",
       "\n",
       "                                            film_studio  \\\n",
       "1281  АНО содействия развитию кинематографии \"Ангел-...   \n",
       "1448                         ООО \"Компания \"АТК-Студио\"   \n",
       "1498                        ООО \"Компания \"РЕАЛ-ДАКОТА\"   \n",
       "1524                             ООО \"Студия \"Пассажир\"   \n",
       "1792                             ООО \"Студия \"Пассажир\"   \n",
       "1853                        ООО \"Студия \"Мастер-Фильм\"    \n",
       "1869                        ООО \"Компания \"Реал-Дакота\"   \n",
       "1870  ООО \"Продюсерский Центр \"Хорошо Продакшн\", Rez...   \n",
       "1902                                 ООО \"Водород 2011\"   \n",
       "1911                         ООО \"Кинокомпания \"Ракурс\"   \n",
       "1986                                       ООО \"ТаББаК\"   \n",
       "1990           ООО \"Продюсерская кинокомпания \"Киномир\"   \n",
       "1996                           ООО \"Пиманов и партнеры\"   \n",
       "2004                                 ООО \"ВИЗАРТ ФИЛЬМ\"   \n",
       "2013                                     ООО \"Пендулум\"   \n",
       "2083  ООО \"Продюсерская компания Александра Литвинов...   \n",
       "2091        ООО \"Корнер Ворк\", ООО \"Арт Пикчерс Студия\"   \n",
       "2105                           ООО \"АМАЛЬГАМА ПРОДАКШН\"   \n",
       "2107                                       ООО \"Амкарт\"   \n",
       "2108                                ООО \"Каро Продакшн\"   \n",
       "2131  ООО \"Кинокомпания \"Новые люди\", ООО \"Студия \"К...   \n",
       "2141  ООО \"Творческое объединение \"Кинокомпания \"Анд...   \n",
       "2142             ООО \"Энджой мувиз\", ООО \"Ультра стори\"   \n",
       "2145                           ООО \"Киностудия \"МАСТЕР\"   \n",
       "2149                                      ООО \"Артлайт\"   \n",
       "2165                         ООО \"Кинокомпания \"Фигаро\"   \n",
       "2168                                       ООО \"Валдай\"   \n",
       "2204                            ООО \"Смарт ТВ Продакшн\"   \n",
       "2264  ООО Кинокомпания \"Фортуна Фильм\", ООО \"Центр Ю...   \n",
       "2268             ООО \"Магнум-фильм\" по заказу ООО \"ММЕ\"   \n",
       "2287  ООО \"Киностудия \"Никола-фильм\", ООО \"Инвестмен...   \n",
       "2363                            ООО \"Нон-Стоп Продакшн\"   \n",
       "2378                         ООО \"Компания \"АТК-Студио\"   \n",
       "2379                                   ООО \"29 февраля\"   \n",
       "2396                ООО Продюсерский центр \"Всё хорошо\"   \n",
       "2450                    АНО \"Творческая студия \"Стелла\"   \n",
       "2460                            ООО \"Кинокомпания \"СТВ\"   \n",
       "2470                                 ООО \"Магнум-фильм\"   \n",
       "2481        ООО \"Компания \"РЕАЛ-ДАКОТА\", НП \"Интерфест\"   \n",
       "2484                          ООО \"Кинокомпания \"Ладья\"   \n",
       "2488                                    ООО \"ТАН Фильм\"   \n",
       "2516  ООО \"Росмедиа Продакшн\" по заказу ООО \"МАРС МЕ...   \n",
       "2526                ООО \"Первое творческое объединение\"   \n",
       "2529          ООО \"Студия анимационного кино \"Мельница\"   \n",
       "2530                                      ООО \"АРТЛАЙТ\"   \n",
       "2532                          ООО \"Кинокомпания \"ТАЛАН\"   \n",
       "2533                        ООО \"Киностудия \"ВЕРТИКАЛЬ\"   \n",
       "2534    ООО \"Продюсерская компания Николая Расторгуева\"   \n",
       "2535                        ООО \"Кинопрограмма XXI век\"   \n",
       "2536                                ООО \"ЛИГА ПРОДАКШН\"   \n",
       "\n",
       "         production_country                                    director  \\\n",
       "1281                 Россия                                  А.Атанесян   \n",
       "1448                 Россия                                   А.Якимчук   \n",
       "1498                 Россия                    Р.Давлетьяров, С.Комаров   \n",
       "1524                 Россия        Е.Миндадзе (псевдоним Катя Шагалова)   \n",
       "1792                 Россия                                    М.Угаров   \n",
       "1853                 Россия                                   С.Серегин   \n",
       "1869                 Россия                               Р.Давлетьяров   \n",
       "1870  Россия,Франция,Латвия                                 В.Глаголева   \n",
       "1902                 Россия                                А.Войтинский   \n",
       "1911                 Россия                                   Д.Федоров   \n",
       "1986                 Россия                            Максим Свешников   \n",
       "1990                 Россия                                 Т.Аленикова   \n",
       "1996                 Россия                                   А.Пиманов   \n",
       "2004                 Россия                                   А.Цицилин   \n",
       "2013                 Россия                                 А.Стриженов   \n",
       "2083                 Россия                                     С.Попов   \n",
       "2091                 Россия                                   Д.Месхиев   \n",
       "2105                 Россия                                 В.Щегольков   \n",
       "2107                 Россия                                   А.Прошкин   \n",
       "2108                 Россия                        П.Санаев, Ф.Коршунов   \n",
       "2131         Россия,Украина                                 С.Мокрицкий   \n",
       "2141                 Россия                                   А.Мельник   \n",
       "2142                 Россия                                 А.Аксененко   \n",
       "2145                 Россия                                      Ю.Кара   \n",
       "2149                 Россия                                 К.Сухарьков   \n",
       "2165                 Россия                                    В.Демент   \n",
       "2168                 Россия                                   Ф.Абрютин   \n",
       "2204                 Россия                                 М.Бальчюнас   \n",
       "2264                 Россия                Э.Архангельская, М.Пандурски   \n",
       "2268                 Россия                                   К.Шипенко   \n",
       "2287                 Россия                                 Д.Елеонский   \n",
       "2363                 Россия                                 А.Звягинцев   \n",
       "2378                 Россия                                   Е.Татаров   \n",
       "2379                 Россия                                А.Федорченко   \n",
       "2396                 Россия                                    Ю.Фетинг   \n",
       "2450                 Россия                        В.Харченко, А.Волков   \n",
       "2460                 Россия                        И.Чижиков, А.Чижиков   \n",
       "2470                 Россия                                   А.Меликян   \n",
       "2481                 Россия                               Р.Давлетьяров   \n",
       "2484                 Россия                                  Э.Манжеева   \n",
       "2488                 Россия                                  А.Калинкин   \n",
       "2516                 Россия  Е.Константинова (псевдоним Алена Званцева)   \n",
       "2526                 Россия                    Н.Джорджадзе, В.Игнатьев   \n",
       "2529                 Россия                                  Ф.Дмитриев   \n",
       "2530                 Россия                                   Р.Каримов   \n",
       "2532                 Россия                         А.Аравин, А.Прошкин   \n",
       "2533                 Россия                                 С.Говорухин   \n",
       "2534                 Россия                                  К.Ангелина   \n",
       "2535                 Россия                              А.Карпиловский   \n",
       "2536          Россия,Италия                             Стефано Лоренци   \n",
       "\n",
       "                                               producer  \\\n",
       "1281                   А.Атанесян, М.Бабаханов, Р.Бутко   \n",
       "1448                                         А.Тютрюмов   \n",
       "1498          Р.Давлетьяров, А.Котелевский, А.Олейников   \n",
       "1524                                         Л.Антонова   \n",
       "1792                             А.Миндадзе, Л.Антонова   \n",
       "1853                                        А.Герасимов   \n",
       "1869                                         неизвестно   \n",
       "1870                                          Н.Иванова   \n",
       "1902                                         С.Сельянов   \n",
       "1911                                        В.Сидоренко   \n",
       "1986                 Тимур Бекмамбетов, Евгения Аронова   \n",
       "1990                                         Т.Яковенко   \n",
       "1996                              А.Пиманов, О.Погодина   \n",
       "2004                   ООО \"ВИЗАРТ ФИЛЬМ\", ООО \"ТаББаК\"   \n",
       "2013               Л.Якубович, А.Стриженов, Л.Лищинская   \n",
       "2083                           А.Литвинов, К.Шахназаров   \n",
       "2091                                       И.Угольников   \n",
       "2105                              А.Феофанов, С.Новиков   \n",
       "2107                                         Д.Пиркулов   \n",
       "2108                               Ю.Обухов, А.Рязанцев   \n",
       "2131                              Н.Мокрицкая, Е.Олесов   \n",
       "2141                                          А.Мельник   \n",
       "2142        Г.Малков, В.Поляков, И.Капитонов, В.Муругов   \n",
       "2145                                             Ю.Кара   \n",
       "2149                                          А.Новиков   \n",
       "2165                                          Н.Будкина   \n",
       "2168                               С.Кучмаева, С.Зернов   \n",
       "2204                  ООО \"Грин Филмс\", ООО \"ПЦ \"Горад\"   \n",
       "2264             Э.Архангельская, А.Пискунова, Ю.Арабов   \n",
       "2268                              Р.Дишдишян, ООО \"ММЕ\"   \n",
       "2287                                          И.Каленов   \n",
       "2363                          А.Роднянский, С.Мелькумов   \n",
       "2378                                         А.Тютрюмов   \n",
       "2379                Д.Воробьев, А.Федорченко, Л.Лебедев   \n",
       "2396                                           И.Плиско   \n",
       "2450                                            Ф.Попов   \n",
       "2460                                         С.Сельянов   \n",
       "2470                                          А.Меликян   \n",
       "2481                       Р.Давлетьяров, А.Котелевский   \n",
       "2484                                 Е.Гликман, Я.Живов   \n",
       "2488                           Д.Ефремов, В.Пономаренко   \n",
       "2516                              Р.Дишдишян, ООО \"ММЕ\"   \n",
       "2526                               П.Поляков, И.Букреев   \n",
       "2529                             С.Сельянов, А.Боярский   \n",
       "2530                           А.Новиков, А.Котелевский   \n",
       "2532                                          Н.Будкина   \n",
       "2533                             С.Говорухин, Е.Маскина   \n",
       "2534                          И.Николенко, Н.Расторгуев   \n",
       "2535                                           В.Есинов   \n",
       "2536  Жанфранко Пиччоли, Надежда Горшкова, Катерина ...   \n",
       "\n",
       "                             age_restriction  refundable_support  \\\n",
       "1281         «16+» - для детей старше 16 лет                 0.0   \n",
       "1448         «12+» - для детей старше 12 лет                 0.0   \n",
       "1498         «12+» - для детей старше 12 лет                 0.0   \n",
       "1524         «16+» - для детей старше 16 лет                 0.0   \n",
       "1792         «16+» - для детей старше 16 лет                 0.0   \n",
       "1853           «6+» - для детей старше 6 лет                 0.0   \n",
       "1869         «12+» - для детей старше 12 лет          50000000.0   \n",
       "1870         «12+» - для детей старше 12 лет                 0.0   \n",
       "1902           «6+» - для детей старше 6 лет                 0.0   \n",
       "1911         «16+» - для детей старше 16 лет                 0.0   \n",
       "1986           «6+» - для детей старше 6 лет          26000000.0   \n",
       "1990         «16+» - для детей старше 16 лет                 0.0   \n",
       "1996         «12+» - для детей старше 12 лет                 0.0   \n",
       "2004  «0+» - для любой зрительской аудитории          30000000.0   \n",
       "2013         «12+» - для детей старше 12 лет                 0.0   \n",
       "2083         «12+» - для детей старше 12 лет                 0.0   \n",
       "2091         «12+» - для детей старше 12 лет                 0.0   \n",
       "2105         «16+» - для детей старше 16 лет                 0.0   \n",
       "2107         «16+» - для детей старше 16 лет                 0.0   \n",
       "2108         «16+» - для детей старше 16 лет                 0.0   \n",
       "2131         «12+» - для детей старше 12 лет                 0.0   \n",
       "2141         «12+» - для детей старше 12 лет          30000000.0   \n",
       "2142         «16+» - для детей старше 16 лет                 0.0   \n",
       "2145           «6+» - для детей старше 6 лет                 0.0   \n",
       "2149             «18+» - запрещено для детей                 0.0   \n",
       "2165         «16+» - для детей старше 16 лет                 0.0   \n",
       "2168         «12+» - для детей старше 12 лет                 0.0   \n",
       "2204         «12+» - для детей старше 12 лет                 0.0   \n",
       "2264         «16+» - для детей старше 16 лет                 0.0   \n",
       "2268             «18+» - запрещено для детей                 0.0   \n",
       "2287  «0+» - для любой зрительской аудитории          15000000.0   \n",
       "2363             «18+» - запрещено для детей                 0.0   \n",
       "2378         «16+» - для детей старше 16 лет                 0.0   \n",
       "2379         «16+» - для детей старше 16 лет                 0.0   \n",
       "2396  «0+» - для любой зрительской аудитории                 0.0   \n",
       "2450           «6+» - для детей старше 6 лет                 0.0   \n",
       "2460         «12+» - для детей старше 12 лет                 0.0   \n",
       "2470             «18+» - запрещено для детей                 0.0   \n",
       "2481         «16+» - для детей старше 16 лет                 0.0   \n",
       "2484         «16+» - для детей старше 16 лет                 0.0   \n",
       "2488             «18+» - запрещено для детей                 0.0   \n",
       "2516         «12+» - для детей старше 12 лет                 0.0   \n",
       "2526         «12+» - для детей старше 12 лет                 0.0   \n",
       "2529           «6+» - для детей старше 6 лет                 0.0   \n",
       "2530         «16+» - для детей старше 16 лет                 0.0   \n",
       "2532         «16+» - для детей старше 16 лет                 0.0   \n",
       "2533         «16+» - для детей старше 16 лет                 0.0   \n",
       "2534         «12+» - для детей старше 12 лет          10000000.0   \n",
       "2535           «6+» - для детей старше 6 лет                 0.0   \n",
       "2536             «18+» - запрещено для детей                 0.0   \n",
       "\n",
       "      nonrefundable_support       budget                  financing_source  \\\n",
       "1281             26500000.0   79411900.0             Министерство культуры   \n",
       "1448             26000000.0   37142857.0             Министерство культуры   \n",
       "1498            107847945.0  176023490.0                         Фонд кино   \n",
       "1524             28000000.0   40574140.0             Министерство культуры   \n",
       "1792             25000000.0   40015122.0             Министерство культуры   \n",
       "1853             25000000.0   51850000.0             Министерство культуры   \n",
       "1869            100000000.0  220588394.0                         Фонд кино   \n",
       "1870             46502299.0   86210067.0  Министерство культуры, Фонд кино   \n",
       "1902             75000000.0  139551503.0                         Фонд кино   \n",
       "1911             34000000.0   48571430.0             Министерство культуры   \n",
       "1986             30000000.0   80000000.0                         Фонд кино   \n",
       "1990             25000000.0   36259500.0             Министерство культуры   \n",
       "1996             25000000.0   70876172.0                         Фонд кино   \n",
       "2004             40000000.0  252489571.0                         Фонд кино   \n",
       "2013             28000000.0   74910000.0             Министерство культуры   \n",
       "2083             45000000.0   89782312.0             Министерство культуры   \n",
       "2091             56579055.0  436437176.0  Министерство культуры, Фонд кино   \n",
       "2105             25500000.0   40500000.0             Министерство культуры   \n",
       "2107             45000000.0   68490606.0  Министерство культуры, Фонд кино   \n",
       "2108             30000000.0   45006609.0                         Фонд кино   \n",
       "2131             27510000.0  131000000.0             Министерство культуры   \n",
       "2141             30000000.0  500000000.0                         Фонд кино   \n",
       "2142             25000000.0   61011407.0                         Фонд кино   \n",
       "2145             10000000.0   40000000.0             Министерство культуры   \n",
       "2149             25000000.0   37371262.0             Министерство культуры   \n",
       "2165             24000000.0   35296950.0             Министерство культуры   \n",
       "2168             30000000.0   43000000.0             Министерство культуры   \n",
       "2204             30000000.0   77401751.0                         Фонд кино   \n",
       "2264             24500000.0   35000000.0             Министерство культуры   \n",
       "2268             27000000.0   51196711.0             Министерство культуры   \n",
       "2287              5000000.0   90120000.0                         Фонд кино   \n",
       "2363             90000000.0  267288892.0  Министерство культуры, Фонд кино   \n",
       "2378             26000000.0   37142857.0             Министерство культуры   \n",
       "2379             28000000.0   40000000.0             Министерство культуры   \n",
       "2396             34000000.0   49280496.0             Министерство культуры   \n",
       "2450             34000000.0   49071428.0             Министерство культуры   \n",
       "2460             20000000.0   46968883.0                         Фонд кино   \n",
       "2470             20000000.0   55195000.0             Министерство культуры   \n",
       "2481             97000000.0  156360666.0                         Фонд кино   \n",
       "2484             24450000.0   37424796.0             Министерство культуры   \n",
       "2488             25000000.0   35760060.0             Министерство культуры   \n",
       "2516              5000000.0   28115580.0             Министерство культуры   \n",
       "2526             26500000.0   37943652.0             Министерство культуры   \n",
       "2529             50000000.0  138325738.0                         Фонд кино   \n",
       "2530             28000000.0   42252509.0             Министерство культуры   \n",
       "2532             27000000.0   39990000.0             Министерство культуры   \n",
       "2533             28000000.0  112000000.0             Министерство культуры   \n",
       "2534             27000000.0   55729424.0  Министерство культуры, Фонд кино   \n",
       "2535             25000000.0   35714286.0             Министерство культуры   \n",
       "2536             60000000.0  139357211.0  Министерство культуры, Фонд кино   \n",
       "\n",
       "      ratings                          genres  puNumber_int    box_office  \\\n",
       "1281      8.1                 драма,мелодрама          True  3.653536e+05   \n",
       "1448      NaN                      неизвестно          True  2.814000e+04   \n",
       "1498      5.3              комедия,фантастика          True  1.995703e+07   \n",
       "1524      4.2                           драма          True  5.591750e+04   \n",
       "1792      6.4                           драма          True  2.321000e+05   \n",
       "1853      6.1      мультфильм,фэнтези,история          True  1.507886e+07   \n",
       "1869      8.5           драма,военный,история          True  2.491668e+08   \n",
       "1870      6.7                           драма          True  4.731240e+06   \n",
       "1902      7.0      триллер,боевик,приключения          True  3.528043e+08   \n",
       "1911      7.4       фэнтези,приключения,драма          True  5.190750e+04   \n",
       "1986      5.0                семейный,комедия          True  1.212256e+08   \n",
       "1990      6.8                       мелодрама          True  5.542510e+05   \n",
       "1996      6.6  фантастика,комедия,приключения          True  4.353485e+07   \n",
       "2004      6.5  мультфильм,фэнтези,приключения          True  3.134898e+08   \n",
       "2013      5.7                комедия,семейный          True  6.277796e+06   \n",
       "2083      6.2           военный,драма,история          True  2.272358e+07   \n",
       "2091      7.1           драма,военный,история          True  4.518122e+08   \n",
       "2105      6.7                 драма,мелодрама          True  3.669980e+05   \n",
       "2107      5.0                   драма,комедия          True  3.107380e+05   \n",
       "2108      5.4              комедия,фантастика          True  1.166319e+07   \n",
       "2131      7.5         биография,военный,драма          True  4.018045e+08   \n",
       "2141      6.8        детектив,фэнтези,триллер          True  7.257832e+07   \n",
       "2142      5.6                    боевик,драма          True  3.300553e+07   \n",
       "2145      NaN       фантастика,боевик,комедия          True  3.347500e+05   \n",
       "2149      NaN                      неизвестно          True  1.982000e+04   \n",
       "2165      6.7                           драма          True  8.543345e+05   \n",
       "2168      6.1          детектив,история,драма          True  4.005000e+04   \n",
       "2204      6.0                         комедия          True  3.933446e+08   \n",
       "2264      6.2                  драма,детектив          True  9.559705e+05   \n",
       "2268      6.3                           драма          True  1.523750e+06   \n",
       "2287      3.8                семейный,фэнтези          True  3.224481e+07   \n",
       "2363      6.9                  драма,криминал          True  8.812004e+07   \n",
       "2378      4.7                           драма          True  3.655000e+04   \n",
       "2379      6.4                           драма          True  8.691810e+05   \n",
       "2396      6.7                детский,семейный          True  6.104000e+04   \n",
       "2450      NaN                      неизвестно          True  1.825100e+05   \n",
       "2460      6.2                 комедия,триллер          True  1.493668e+07   \n",
       "2470      6.6                         комедия          True  5.288230e+07   \n",
       "2481      7.9         драма,криминал,детектив          True  1.274840e+07   \n",
       "2484      6.2                           драма          True  3.599800e+05   \n",
       "2488      5.1                         триллер          True  6.119300e+04   \n",
       "2516      6.3                         комедия          True  2.323980e+06   \n",
       "2526      6.6                       мелодрама          True  4.450000e+03   \n",
       "2529      7.4  мультфильм,приключения,военный          True  7.274922e+07   \n",
       "2530      5.1                     ужасы,драма          True  1.607720e+07   \n",
       "2532      5.6                           драма          True  1.184344e+06   \n",
       "2533      6.5                   драма,комедия          True  1.502070e+07   \n",
       "2534      7.0                   военный,драма          True  1.035554e+07   \n",
       "2535      7.3    детский,приключения,семейный          True  9.774800e+05   \n",
       "2536      6.4                           драма          True  1.440400e+05   \n",
       "\n",
       "      year                              director_first genres_first  \\\n",
       "1281  2013                                  А.Атанесян        драма   \n",
       "1448  2014                                   А.Якимчук   неизвестно   \n",
       "1498  2013                               Р.Давлетьяров      комедия   \n",
       "1524  2014        Е.Миндадзе (псевдоним Катя Шагалова)        драма   \n",
       "1792  2014                                    М.Угаров        драма   \n",
       "1853  2015                                   С.Серегин   мультфильм   \n",
       "1869  2015                               Р.Давлетьяров        драма   \n",
       "1870  2014                                 В.Глаголева        драма   \n",
       "1902  2015                                А.Войтинский      триллер   \n",
       "1911  2015                                   Д.Федоров      фэнтези   \n",
       "1986  2014                            Максим Свешников     семейный   \n",
       "1990  2014                                 Т.Аленикова    мелодрама   \n",
       "1996  2014                                   А.Пиманов   фантастика   \n",
       "2004  2014                                   А.Цицилин   мультфильм   \n",
       "2013  2014                                 А.Стриженов      комедия   \n",
       "2083  2015                                     С.Попов      военный   \n",
       "2091  2015                                   Д.Месхиев        драма   \n",
       "2105  2015                                 В.Щегольков        драма   \n",
       "2107  2015                                   А.Прошкин        драма   \n",
       "2108  2015                                    П.Санаев      комедия   \n",
       "2131  2015                                 С.Мокрицкий    биография   \n",
       "2141  2015                                   А.Мельник     детектив   \n",
       "2142  2015                                 А.Аксененко       боевик   \n",
       "2145  2015                                      Ю.Кара   фантастика   \n",
       "2149  2015                                 К.Сухарьков   неизвестно   \n",
       "2165  2015                                    В.Демент        драма   \n",
       "2168  2015                                   Ф.Абрютин     детектив   \n",
       "2204  2014                                 М.Бальчюнас      комедия   \n",
       "2264  2014                             Э.Архангельская        драма   \n",
       "2268  2014                                   К.Шипенко        драма   \n",
       "2287  2014                                 Д.Елеонский     семейный   \n",
       "2363  2014                                 А.Звягинцев        драма   \n",
       "2378  2015                                   Е.Татаров        драма   \n",
       "2379  2014                                А.Федорченко        драма   \n",
       "2396  2015                                    Ю.Фетинг      детский   \n",
       "2450  2015                                  В.Харченко   неизвестно   \n",
       "2460  2015                                   И.Чижиков      комедия   \n",
       "2470  2015                                   А.Меликян      комедия   \n",
       "2481  2015                               Р.Давлетьяров        драма   \n",
       "2484  2015                                  Э.Манжеева        драма   \n",
       "2488  2015                                  А.Калинкин      триллер   \n",
       "2516  2015  Е.Константинова (псевдоним Алена Званцева)      комедия   \n",
       "2526  2015                                Н.Джорджадзе    мелодрама   \n",
       "2529  2015                                  Ф.Дмитриев   мультфильм   \n",
       "2530  2015                                   Р.Каримов        ужасы   \n",
       "2532  2015                                    А.Аравин        драма   \n",
       "2533  2015                                 С.Говорухин        драма   \n",
       "2534  2015                                  К.Ангелина      военный   \n",
       "2535  2015                              А.Карпиловский      детский   \n",
       "2536  2015                             Стефано Лоренци        драма   \n",
       "\n",
       "     country_first  total_support  %_total_support  %_refundable_support  \\\n",
       "1281        Россия     26500000.0         0.333703              0.000000   \n",
       "1448        Россия     26000000.0         0.700000              0.000000   \n",
       "1498        Россия    107847945.0         0.612691              0.000000   \n",
       "1524        Россия     28000000.0         0.690095              0.000000   \n",
       "1792        Россия     25000000.0         0.624764              0.000000   \n",
       "1853        Россия     25000000.0         0.482160              0.000000   \n",
       "1869        Россия    150000000.0         0.680000              0.226667   \n",
       "1870        Россия     46502299.0         0.539407              0.000000   \n",
       "1902        Россия     75000000.0         0.537436              0.000000   \n",
       "1911        Россия     34000000.0         0.700000              0.000000   \n",
       "1986        Россия     56000000.0         0.700000              0.325000   \n",
       "1990        Россия     25000000.0         0.689474              0.000000   \n",
       "1996        Россия     25000000.0         0.352728              0.000000   \n",
       "2004        Россия     70000000.0         0.277239              0.118817   \n",
       "2013        Россия     28000000.0         0.373782              0.000000   \n",
       "2083        Россия     45000000.0         0.501212              0.000000   \n",
       "2091        Россия     56579055.0         0.129638              0.000000   \n",
       "2105        Россия     25500000.0         0.629630              0.000000   \n",
       "2107        Россия     45000000.0         0.657024              0.000000   \n",
       "2108        Россия     30000000.0         0.666569              0.000000   \n",
       "2131        Россия     27510000.0         0.210000              0.000000   \n",
       "2141        Россия     60000000.0         0.120000              0.060000   \n",
       "2142        Россия     25000000.0         0.409759              0.000000   \n",
       "2145        Россия     10000000.0         0.250000              0.000000   \n",
       "2149        Россия     25000000.0         0.668963              0.000000   \n",
       "2165        Россия     24000000.0         0.679945              0.000000   \n",
       "2168        Россия     30000000.0         0.697674              0.000000   \n",
       "2204        Россия     30000000.0         0.387588              0.000000   \n",
       "2264        Россия     24500000.0         0.700000              0.000000   \n",
       "2268        Россия     27000000.0         0.527378              0.000000   \n",
       "2287        Россия     20000000.0         0.221926              0.166445   \n",
       "2363        Россия     90000000.0         0.336714              0.000000   \n",
       "2378        Россия     26000000.0         0.700000              0.000000   \n",
       "2379        Россия     28000000.0         0.700000              0.000000   \n",
       "2396        Россия     34000000.0         0.689928              0.000000   \n",
       "2450        Россия     34000000.0         0.692868              0.000000   \n",
       "2460        Россия     20000000.0         0.425814              0.000000   \n",
       "2470        Россия     20000000.0         0.362352              0.000000   \n",
       "2481        Россия     97000000.0         0.620361              0.000000   \n",
       "2484        Россия     24450000.0         0.653310              0.000000   \n",
       "2488        Россия     25000000.0         0.699104              0.000000   \n",
       "2516        Россия      5000000.0         0.177837              0.000000   \n",
       "2526        Россия     26500000.0         0.698404              0.000000   \n",
       "2529        Россия     50000000.0         0.361466              0.000000   \n",
       "2530        Россия     28000000.0         0.662683              0.000000   \n",
       "2532        Россия     27000000.0         0.675169              0.000000   \n",
       "2533        Россия     28000000.0         0.250000              0.000000   \n",
       "2534        Россия     37000000.0         0.663922              0.179438   \n",
       "2535        Россия     25000000.0         0.700000              0.000000   \n",
       "2536        Россия     60000000.0         0.430548              0.000000   \n",
       "\n",
       "      %_nonrefundable_support  \n",
       "1281                 0.333703  \n",
       "1448                 0.700000  \n",
       "1498                 0.612691  \n",
       "1524                 0.690095  \n",
       "1792                 0.624764  \n",
       "1853                 0.482160  \n",
       "1869                 0.453333  \n",
       "1870                 0.539407  \n",
       "1902                 0.537436  \n",
       "1911                 0.700000  \n",
       "1986                 0.375000  \n",
       "1990                 0.689474  \n",
       "1996                 0.352728  \n",
       "2004                 0.158422  \n",
       "2013                 0.373782  \n",
       "2083                 0.501212  \n",
       "2091                 0.129638  \n",
       "2105                 0.629630  \n",
       "2107                 0.657024  \n",
       "2108                 0.666569  \n",
       "2131                 0.210000  \n",
       "2141                 0.060000  \n",
       "2142                 0.409759  \n",
       "2145                 0.250000  \n",
       "2149                 0.668963  \n",
       "2165                 0.679945  \n",
       "2168                 0.697674  \n",
       "2204                 0.387588  \n",
       "2264                 0.700000  \n",
       "2268                 0.527378  \n",
       "2287                 0.055482  \n",
       "2363                 0.336714  \n",
       "2378                 0.700000  \n",
       "2379                 0.700000  \n",
       "2396                 0.689928  \n",
       "2450                 0.692868  \n",
       "2460                 0.425814  \n",
       "2470                 0.362352  \n",
       "2481                 0.620361  \n",
       "2484                 0.653310  \n",
       "2488                 0.699104  \n",
       "2516                 0.177837  \n",
       "2526                 0.698404  \n",
       "2529                 0.361466  \n",
       "2530                 0.662683  \n",
       "2532                 0.675169  \n",
       "2533                 0.250000  \n",
       "2534                 0.484484  \n",
       "2535                 0.700000  \n",
       "2536                 0.430548  "
      ]
     },
     "metadata": {},
     "output_type": "display_data"
    },
    {
     "name": "stdout",
     "output_type": "stream",
     "text": [
      "Кол-во прокатных удостоверний у фильмов с гос.поддержкой: 307 , Кол-во фильмов с гос.поддержкой: 307\n"
     ]
    }
   ],
   "source": [
    "# Создадим таблицу с данными по фильмам с гос.поддержкой:\n",
    "support_data=data.query('nonrefundable_support>=0')\n",
    "display(support_data.head(50))\n",
    "print('Кол-во прокатных удостоверний у фильмов с гос.поддержкой:', len(support_data['pu_number']),\n",
    "        ', Кол-во фильмов с гос.поддержкой:', len(support_data['title'].unique()))"
   ]
  },
  {
   "cell_type": "code",
   "execution_count": 41,
   "metadata": {},
   "outputs": [
    {
     "name": "stdout",
     "output_type": "stream",
     "text": [
      "Кол-во прокатных удостоверний у фильмов без гос.поддержки: 7153 , Кол-во фильмов без гос.поддержки: 6444\n"
     ]
    }
   ],
   "source": [
    "# Создадим таблицу с данными по фильмам без гос.поддержки:\n",
    "no_support_data=data.query('nonrefundable_support.isnull() == True')\n",
    "print('Кол-во прокатных удостоверний у фильмов без гос.поддержки:', len(no_support_data['pu_number']),\n",
    "        ', Кол-во фильмов без гос.поддержки:', len(no_support_data['title'].unique()))"
   ]
  },
  {
   "cell_type": "code",
   "execution_count": 42,
   "metadata": {},
   "outputs": [
    {
     "data": {
      "text/plain": [
       "count    3.070000e+02\n",
       "mean     5.977107e+07\n",
       "std      7.387266e+07\n",
       "min      3.000000e+06\n",
       "25%      2.510000e+07\n",
       "50%      3.500000e+07\n",
       "75%      6.000000e+07\n",
       "max      5.000000e+08\n",
       "Name: total_support, dtype: float64"
      ]
     },
     "metadata": {},
     "output_type": "display_data"
    },
    {
     "name": "stdout",
     "output_type": "stream",
     "text": [
      "Суммарная гос.поддержка за весь период: 18349718847\n"
     ]
    }
   ],
   "source": [
    "# Посчитаем, сколько выделяется средств на поддержку кино за весь период:\n",
    "display(support_data['total_support'].describe())\n",
    "print('Суммарная гос.поддержка за весь период: %.0f' % support_data['total_support'].sum())"
   ]
  },
  {
   "cell_type": "code",
   "execution_count": 43,
   "metadata": {},
   "outputs": [
    {
     "data": {
      "text/html": [
       "<div>\n",
       "<style scoped>\n",
       "    .dataframe tbody tr th:only-of-type {\n",
       "        vertical-align: middle;\n",
       "    }\n",
       "\n",
       "    .dataframe tbody tr th {\n",
       "        vertical-align: top;\n",
       "    }\n",
       "\n",
       "    .dataframe thead th {\n",
       "        text-align: right;\n",
       "    }\n",
       "</style>\n",
       "<table border=\"1\" class=\"dataframe\">\n",
       "  <thead>\n",
       "    <tr style=\"text-align: right;\">\n",
       "      <th></th>\n",
       "      <th>sum</th>\n",
       "      <th>count</th>\n",
       "      <th>median</th>\n",
       "    </tr>\n",
       "    <tr>\n",
       "      <th>year</th>\n",
       "      <th></th>\n",
       "      <th></th>\n",
       "      <th></th>\n",
       "    </tr>\n",
       "  </thead>\n",
       "  <tbody>\n",
       "    <tr>\n",
       "      <td>2013</td>\n",
       "      <td>1.343479e+08</td>\n",
       "      <td>2</td>\n",
       "      <td>67173972.5</td>\n",
       "    </tr>\n",
       "    <tr>\n",
       "      <td>2014</td>\n",
       "      <td>5.490023e+08</td>\n",
       "      <td>15</td>\n",
       "      <td>28000000.0</td>\n",
       "    </tr>\n",
       "    <tr>\n",
       "      <td>2015</td>\n",
       "      <td>3.118241e+09</td>\n",
       "      <td>77</td>\n",
       "      <td>30000000.0</td>\n",
       "    </tr>\n",
       "    <tr>\n",
       "      <td>2016</td>\n",
       "      <td>3.977155e+09</td>\n",
       "      <td>58</td>\n",
       "      <td>35000000.0</td>\n",
       "    </tr>\n",
       "    <tr>\n",
       "      <td>2017</td>\n",
       "      <td>2.998972e+09</td>\n",
       "      <td>37</td>\n",
       "      <td>37346881.0</td>\n",
       "    </tr>\n",
       "    <tr>\n",
       "      <td>2018</td>\n",
       "      <td>2.983000e+09</td>\n",
       "      <td>51</td>\n",
       "      <td>35000000.0</td>\n",
       "    </tr>\n",
       "    <tr>\n",
       "      <td>2019</td>\n",
       "      <td>4.589000e+09</td>\n",
       "      <td>67</td>\n",
       "      <td>40000000.0</td>\n",
       "    </tr>\n",
       "  </tbody>\n",
       "</table>\n",
       "</div>"
      ],
      "text/plain": [
       "               sum  count      median\n",
       "year                                 \n",
       "2013  1.343479e+08      2  67173972.5\n",
       "2014  5.490023e+08     15  28000000.0\n",
       "2015  3.118241e+09     77  30000000.0\n",
       "2016  3.977155e+09     58  35000000.0\n",
       "2017  2.998972e+09     37  37346881.0\n",
       "2018  2.983000e+09     51  35000000.0\n",
       "2019  4.589000e+09     67  40000000.0"
      ]
     },
     "execution_count": 43,
     "metadata": {},
     "output_type": "execute_result"
    }
   ],
   "source": [
    "# Посчитаем, как распределилась гос.поддержка по годам:\n",
    "support_pivot=support_data.groupby('year')['total_support'].agg(['sum','count', 'median'])\n",
    "support_pivot"
   ]
  },
  {
   "cell_type": "code",
   "execution_count": 44,
   "metadata": {},
   "outputs": [
    {
     "data": {
      "text/plain": [
       "Text(0, 0.5, 'Сумма гос.поддержки, млрд руб')"
      ]
     },
     "execution_count": 44,
     "metadata": {},
     "output_type": "execute_result"
    },
    {
     "data": {
      "image/png": "[encoded data removed]",
      "text/plain": [
       "<Figure size 432x288 with 1 Axes>"
      ]
     },
     "metadata": {
      "needs_background": "light"
     },
     "output_type": "display_data"
    }
   ],
   "source": [
    "# Посторим  график, отражающий зависимость между величиной гос.поддержки и годом:\n",
    "support_pivot['sum'].plot(kind='bar', grid=True)\n",
    "plt.title('Сумма гос.поддержки по годам')\n",
    "plt.xlabel('Годы')\n",
    "plt.ylabel('Сумма гос.поддержки, млрд руб')"
   ]
  },
  {
   "cell_type": "code",
   "execution_count": 45,
   "metadata": {},
   "outputs": [
    {
     "data": {
      "text/plain": [
       "Text(0, 0.5, 'Количество фильмов')"
      ]
     },
     "execution_count": 45,
     "metadata": {},
     "output_type": "execute_result"
    },
    {
     "data": {
      "image/png": "[encoded data removed]",
      "text/plain": [
       "<Figure size 432x288 with 1 Axes>"
      ]
     },
     "metadata": {
      "needs_background": "light"
     },
     "output_type": "display_data"
    }
   ],
   "source": [
    "# Посторим  график, отражающий зависимость между количеством фильмов, снятых с гос.поддержкой и годом:\n",
    "support_pivot['count'].plot(kind='bar', grid=True)\n",
    "plt.title('Количество фильмов, снятых с гос.поддержкой, по годам')\n",
    "plt.xlabel('Годы')\n",
    "plt.ylabel('Количество фильмов')"
   ]
  },
  {
   "cell_type": "code",
   "execution_count": 46,
   "metadata": {},
   "outputs": [
    {
     "data": {
      "text/plain": [
       "Text(0, 0.5, 'Медианная сумма гос.поддержки, десятки млн руб')"
      ]
     },
     "execution_count": 46,
     "metadata": {},
     "output_type": "execute_result"
    },
    {
     "data": {
      "image/png": "[encoded data removed]",
      "text/plain": [
       "<Figure size 432x288 with 1 Axes>"
      ]
     },
     "metadata": {
      "needs_background": "light"
     },
     "output_type": "display_data"
    }
   ],
   "source": [
    "# Посторим  график, отражающий зависимость между медианной величиной гос.поддержки и годом:\n",
    "support_pivot['median'].plot(kind='bar', grid=True)\n",
    "plt.title('Медианная сумма гос.поддержки по годам')\n",
    "plt.xlabel('Годы')\n",
    "plt.ylabel('Медианная сумма гос.поддержки, десятки млн руб')"
   ]
  },
  {
   "cell_type": "code",
   "execution_count": 47,
   "metadata": {},
   "outputs": [
    {
     "data": {
      "text/html": [
       "<div>\n",
       "<style scoped>\n",
       "    .dataframe tbody tr th:only-of-type {\n",
       "        vertical-align: middle;\n",
       "    }\n",
       "\n",
       "    .dataframe tbody tr th {\n",
       "        vertical-align: top;\n",
       "    }\n",
       "\n",
       "    .dataframe thead th {\n",
       "        text-align: right;\n",
       "    }\n",
       "</style>\n",
       "<table border=\"1\" class=\"dataframe\">\n",
       "  <thead>\n",
       "    <tr style=\"text-align: right;\">\n",
       "      <th></th>\n",
       "      <th>title</th>\n",
       "      <th>pu_number</th>\n",
       "      <th>show_start_date</th>\n",
       "      <th>type</th>\n",
       "      <th>film_studio</th>\n",
       "      <th>production_country</th>\n",
       "      <th>director</th>\n",
       "      <th>producer</th>\n",
       "      <th>age_restriction</th>\n",
       "      <th>refundable_support</th>\n",
       "      <th>nonrefundable_support</th>\n",
       "      <th>budget</th>\n",
       "      <th>financing_source</th>\n",
       "      <th>ratings</th>\n",
       "      <th>genres</th>\n",
       "      <th>puNumber_int</th>\n",
       "      <th>box_office</th>\n",
       "      <th>year</th>\n",
       "      <th>director_first</th>\n",
       "      <th>genres_first</th>\n",
       "      <th>country_first</th>\n",
       "      <th>total_support</th>\n",
       "      <th>%_total_support</th>\n",
       "      <th>%_refundable_support</th>\n",
       "      <th>%_nonrefundable_support</th>\n",
       "    </tr>\n",
       "  </thead>\n",
       "  <tbody>\n",
       "    <tr>\n",
       "      <td>1281</td>\n",
       "      <td>Пока еще жива</td>\n",
       "      <td>111005313</td>\n",
       "      <td>2013-10-11 12:00:00+00:00</td>\n",
       "      <td>Художественный</td>\n",
       "      <td>АНО содействия развитию кинематографии \"Ангел-...</td>\n",
       "      <td>Россия</td>\n",
       "      <td>А.Атанесян</td>\n",
       "      <td>А.Атанесян, М.Бабаханов, Р.Бутко</td>\n",
       "      <td>«16+» - для детей старше 16 лет</td>\n",
       "      <td>0.0</td>\n",
       "      <td>26500000.0</td>\n",
       "      <td>79411900.0</td>\n",
       "      <td>Министерство культуры</td>\n",
       "      <td>8.1</td>\n",
       "      <td>драма,мелодрама</td>\n",
       "      <td>True</td>\n",
       "      <td>365353.6</td>\n",
       "      <td>2013</td>\n",
       "      <td>А.Атанесян</td>\n",
       "      <td>драма</td>\n",
       "      <td>Россия</td>\n",
       "      <td>26500000.0</td>\n",
       "      <td>0.333703</td>\n",
       "      <td>0.0</td>\n",
       "      <td>0.333703</td>\n",
       "    </tr>\n",
       "    <tr>\n",
       "      <td>1498</td>\n",
       "      <td>Невидимки</td>\n",
       "      <td>111004213</td>\n",
       "      <td>2013-09-10 12:00:00+00:00</td>\n",
       "      <td>Художественный</td>\n",
       "      <td>ООО \"Компания \"РЕАЛ-ДАКОТА\"</td>\n",
       "      <td>Россия</td>\n",
       "      <td>Р.Давлетьяров, С.Комаров</td>\n",
       "      <td>Р.Давлетьяров, А.Котелевский, А.Олейников</td>\n",
       "      <td>«12+» - для детей старше 12 лет</td>\n",
       "      <td>0.0</td>\n",
       "      <td>107847945.0</td>\n",
       "      <td>176023490.0</td>\n",
       "      <td>Фонд кино</td>\n",
       "      <td>5.3</td>\n",
       "      <td>комедия,фантастика</td>\n",
       "      <td>True</td>\n",
       "      <td>19957031.5</td>\n",
       "      <td>2013</td>\n",
       "      <td>Р.Давлетьяров</td>\n",
       "      <td>комедия</td>\n",
       "      <td>Россия</td>\n",
       "      <td>107847945.0</td>\n",
       "      <td>0.612691</td>\n",
       "      <td>0.0</td>\n",
       "      <td>0.612691</td>\n",
       "    </tr>\n",
       "  </tbody>\n",
       "</table>\n",
       "</div>"
      ],
      "text/plain": [
       "              title  pu_number           show_start_date            type  \\\n",
       "1281  Пока еще жива  111005313 2013-10-11 12:00:00+00:00  Художественный   \n",
       "1498      Невидимки  111004213 2013-09-10 12:00:00+00:00  Художественный   \n",
       "\n",
       "                                            film_studio production_country  \\\n",
       "1281  АНО содействия развитию кинематографии \"Ангел-...             Россия   \n",
       "1498                        ООО \"Компания \"РЕАЛ-ДАКОТА\"             Россия   \n",
       "\n",
       "                      director                                   producer  \\\n",
       "1281                А.Атанесян           А.Атанесян, М.Бабаханов, Р.Бутко   \n",
       "1498  Р.Давлетьяров, С.Комаров  Р.Давлетьяров, А.Котелевский, А.Олейников   \n",
       "\n",
       "                      age_restriction  refundable_support  \\\n",
       "1281  «16+» - для детей старше 16 лет                 0.0   \n",
       "1498  «12+» - для детей старше 12 лет                 0.0   \n",
       "\n",
       "      nonrefundable_support       budget       financing_source  ratings  \\\n",
       "1281             26500000.0   79411900.0  Министерство культуры      8.1   \n",
       "1498            107847945.0  176023490.0              Фонд кино      5.3   \n",
       "\n",
       "                  genres  puNumber_int  box_office  year director_first  \\\n",
       "1281     драма,мелодрама          True    365353.6  2013     А.Атанесян   \n",
       "1498  комедия,фантастика          True  19957031.5  2013  Р.Давлетьяров   \n",
       "\n",
       "     genres_first country_first  total_support  %_total_support  \\\n",
       "1281        драма        Россия     26500000.0         0.333703   \n",
       "1498      комедия        Россия    107847945.0         0.612691   \n",
       "\n",
       "      %_refundable_support  %_nonrefundable_support  \n",
       "1281                   0.0                 0.333703  \n",
       "1498                   0.0                 0.612691  "
      ]
     },
     "execution_count": 47,
     "metadata": {},
     "output_type": "execute_result"
    }
   ],
   "source": [
    "# Выведем, фильмы, выпущенные в прокат в 2013 году:\n",
    "support_data.query('year==2013')"
   ]
  },
  {
   "cell_type": "code",
   "execution_count": 48,
   "metadata": {},
   "outputs": [
    {
     "data": {
      "text/plain": [
       "year\n",
       "2013    107847945.0\n",
       "2014     90000000.0\n",
       "2015    250000000.0\n",
       "2016    450000000.0\n",
       "2017    400000000.0\n",
       "2018    260000000.0\n",
       "2019    500000000.0\n",
       "Name: total_support, dtype: float64"
      ]
     },
     "metadata": {},
     "output_type": "display_data"
    },
    {
     "data": {
      "text/plain": [
       "Text(0, 0.5, 'Максимальная сумма гос.поддержки, млн руб')"
      ]
     },
     "execution_count": 48,
     "metadata": {},
     "output_type": "execute_result"
    },
    {
     "data": {
      "image/png": "[encoded data removed]",
      "text/plain": [
       "<Figure size 432x288 with 1 Axes>"
      ]
     },
     "metadata": {
      "needs_background": "light"
     },
     "output_type": "display_data"
    }
   ],
   "source": [
    "max_support=support_data.groupby('year')['total_support'].agg('max')\n",
    "display(max_support)\n",
    "\n",
    "max_support.plot(kind='bar', grid=True)\n",
    "plt.title('Максимальная сумма гос.поддержки по годам')\n",
    "plt.xlabel('Годы')\n",
    "plt.ylabel('Максимальная сумма гос.поддержки, млн руб')"
   ]
  },
  {
   "cell_type": "code",
   "execution_count": 49,
   "metadata": {
    "scrolled": true
   },
   "outputs": [
    {
     "name": "stdout",
     "output_type": "stream",
     "text": [
      "Суммарный бюджет фильмов с гос.поддержкой за весь период: 39280394141\n",
      "Суммарные кассовые сборы фильмов с гос.поддержкой за весь период: 37014670923\n"
     ]
    }
   ],
   "source": [
    "# Мы помним, что есть несколько строк с пропущенными значениями budget и box_office  - удалим их для чистоты сравнения:\n",
    "net_support_data=support_data.dropna(subset=['budget', 'box_office'])\n",
    "\n",
    "# Посчитаем, каков совокупный бюджет фильмов с гос.поддержкой:\n",
    "print('Суммарный бюджет фильмов с гос.поддержкой за весь период: %.0f' % net_support_data['budget'].sum())\n",
    "print('Суммарные кассовые сборы фильмов с гос.поддержкой за весь период: %.0f' % net_support_data['box_office'].sum())"
   ]
  },
  {
   "cell_type": "code",
   "execution_count": 50,
   "metadata": {},
   "outputs": [
    {
     "data": {
      "text/html": [
       "<div>\n",
       "<style scoped>\n",
       "    .dataframe tbody tr th:only-of-type {\n",
       "        vertical-align: middle;\n",
       "    }\n",
       "\n",
       "    .dataframe tbody tr th {\n",
       "        vertical-align: top;\n",
       "    }\n",
       "\n",
       "    .dataframe thead tr th {\n",
       "        text-align: left;\n",
       "    }\n",
       "\n",
       "    .dataframe thead tr:last-of-type th {\n",
       "        text-align: right;\n",
       "    }\n",
       "</style>\n",
       "<table border=\"1\" class=\"dataframe\">\n",
       "  <thead>\n",
       "    <tr>\n",
       "      <th></th>\n",
       "      <th colspan=\"3\" halign=\"left\">box_office</th>\n",
       "      <th colspan=\"3\" halign=\"left\">budget</th>\n",
       "      <th>result</th>\n",
       "    </tr>\n",
       "    <tr>\n",
       "      <th></th>\n",
       "      <th>sum</th>\n",
       "      <th>count</th>\n",
       "      <th>median</th>\n",
       "      <th>sum</th>\n",
       "      <th>count</th>\n",
       "      <th>median</th>\n",
       "      <th>sum</th>\n",
       "    </tr>\n",
       "    <tr>\n",
       "      <th>year</th>\n",
       "      <th></th>\n",
       "      <th></th>\n",
       "      <th></th>\n",
       "      <th></th>\n",
       "      <th></th>\n",
       "      <th></th>\n",
       "      <th></th>\n",
       "    </tr>\n",
       "  </thead>\n",
       "  <tbody>\n",
       "    <tr>\n",
       "      <td>2013</td>\n",
       "      <td>2.032239e+07</td>\n",
       "      <td>2</td>\n",
       "      <td>1.016119e+07</td>\n",
       "      <td>2.554354e+08</td>\n",
       "      <td>2</td>\n",
       "      <td>127717695.0</td>\n",
       "      <td>-2.351130e+08</td>\n",
       "    </tr>\n",
       "    <tr>\n",
       "      <td>2014</td>\n",
       "      <td>1.007188e+09</td>\n",
       "      <td>15</td>\n",
       "      <td>4.731240e+06</td>\n",
       "      <td>1.279485e+09</td>\n",
       "      <td>15</td>\n",
       "      <td>70876172.0</td>\n",
       "      <td>-2.722966e+08</td>\n",
       "    </tr>\n",
       "    <tr>\n",
       "      <td>2015</td>\n",
       "      <td>4.715365e+09</td>\n",
       "      <td>76</td>\n",
       "      <td>3.538065e+06</td>\n",
       "      <td>6.731185e+09</td>\n",
       "      <td>76</td>\n",
       "      <td>55567193.5</td>\n",
       "      <td>-2.015821e+09</td>\n",
       "    </tr>\n",
       "    <tr>\n",
       "      <td>2016</td>\n",
       "      <td>4.957724e+09</td>\n",
       "      <td>57</td>\n",
       "      <td>1.681433e+07</td>\n",
       "      <td>7.210237e+09</td>\n",
       "      <td>57</td>\n",
       "      <td>69883049.0</td>\n",
       "      <td>-2.252512e+09</td>\n",
       "    </tr>\n",
       "    <tr>\n",
       "      <td>2017</td>\n",
       "      <td>9.666281e+09</td>\n",
       "      <td>35</td>\n",
       "      <td>3.015617e+07</td>\n",
       "      <td>6.529478e+09</td>\n",
       "      <td>35</td>\n",
       "      <td>80000000.0</td>\n",
       "      <td>3.136803e+09</td>\n",
       "    </tr>\n",
       "    <tr>\n",
       "      <td>2018</td>\n",
       "      <td>8.940288e+09</td>\n",
       "      <td>51</td>\n",
       "      <td>2.273024e+07</td>\n",
       "      <td>6.466194e+09</td>\n",
       "      <td>51</td>\n",
       "      <td>93000000.0</td>\n",
       "      <td>2.474094e+09</td>\n",
       "    </tr>\n",
       "    <tr>\n",
       "      <td>2019</td>\n",
       "      <td>7.707502e+09</td>\n",
       "      <td>57</td>\n",
       "      <td>1.887846e+07</td>\n",
       "      <td>1.080838e+10</td>\n",
       "      <td>57</td>\n",
       "      <td>80000000.0</td>\n",
       "      <td>-3.100879e+09</td>\n",
       "    </tr>\n",
       "  </tbody>\n",
       "</table>\n",
       "</div>"
      ],
      "text/plain": [
       "        box_office                            budget                     \\\n",
       "               sum count        median           sum count       median   \n",
       "year                                                                      \n",
       "2013  2.032239e+07     2  1.016119e+07  2.554354e+08     2  127717695.0   \n",
       "2014  1.007188e+09    15  4.731240e+06  1.279485e+09    15   70876172.0   \n",
       "2015  4.715365e+09    76  3.538065e+06  6.731185e+09    76   55567193.5   \n",
       "2016  4.957724e+09    57  1.681433e+07  7.210237e+09    57   69883049.0   \n",
       "2017  9.666281e+09    35  3.015617e+07  6.529478e+09    35   80000000.0   \n",
       "2018  8.940288e+09    51  2.273024e+07  6.466194e+09    51   93000000.0   \n",
       "2019  7.707502e+09    57  1.887846e+07  1.080838e+10    57   80000000.0   \n",
       "\n",
       "            result  \n",
       "               sum  \n",
       "year                \n",
       "2013 -2.351130e+08  \n",
       "2014 -2.722966e+08  \n",
       "2015 -2.015821e+09  \n",
       "2016 -2.252512e+09  \n",
       "2017  3.136803e+09  \n",
       "2018  2.474094e+09  \n",
       "2019 -3.100879e+09  "
      ]
     },
     "execution_count": 50,
     "metadata": {},
     "output_type": "execute_result"
    }
   ],
   "source": [
    "# Посчитаем, как распределились бюджеты и кассовые сборы по годам:\n",
    "net_support_pivot=net_support_data.groupby('year')['box_office', 'budget'].agg(['sum','count', 'median'])\n",
    "net_support_pivot['result','sum']=net_support_pivot['box_office','sum']-net_support_pivot['budget','sum']\n",
    "net_support_pivot"
   ]
  },
  {
   "cell_type": "code",
   "execution_count": 51,
   "metadata": {},
   "outputs": [
    {
     "data": {
      "text/plain": [
       "Text(0, 0.5, 'Результат, млрд руб')"
      ]
     },
     "execution_count": 51,
     "metadata": {},
     "output_type": "execute_result"
    },
    {
     "data": {
      "image/png": "[encoded data removed]",
      "text/plain": [
       "<Figure size 432x288 with 1 Axes>"
      ]
     },
     "metadata": {
      "needs_background": "light"
     },
     "output_type": "display_data"
    }
   ],
   "source": [
    "# Посторим  график, отражающий прибыльность фильмов с гос.поддержкой по годам:\n",
    "net_support_pivot['result','sum'].plot(kind='bar', grid=True)\n",
    "plt.title('Кассовые сборы за минусом гос.поддержки по годам')\n",
    "plt.xlabel('Годы')\n",
    "plt.ylabel('Результат, млрд руб')"
   ]
  },
  {
   "cell_type": "code",
   "execution_count": 52,
   "metadata": {},
   "outputs": [
    {
     "data": {
      "text/plain": [
       "count    290.000000\n",
       "mean       6.026207\n",
       "std        1.128708\n",
       "min        1.000000\n",
       "25%        5.400000\n",
       "50%        6.200000\n",
       "75%        6.700000\n",
       "max        8.500000\n",
       "Name: ratings, dtype: float64"
      ]
     },
     "metadata": {},
     "output_type": "display_data"
    },
    {
     "data": {
      "text/plain": [
       "count    6176.000000\n",
       "mean        6.503578\n",
       "std         1.095038\n",
       "min         1.100000\n",
       "25%         5.900000\n",
       "50%         6.600000\n",
       "75%         7.300000\n",
       "max         9.200000\n",
       "Name: ratings, dtype: float64"
      ]
     },
     "execution_count": 52,
     "metadata": {},
     "output_type": "execute_result"
    }
   ],
   "source": [
    "# Выведем описание рейтинга фильмов с гос.поддержкой:\n",
    "display(support_data['ratings'].describe())\n",
    "\n",
    "# Выведем описание рейтинга фильмов БЕЗ гос.поддержки:\n",
    "no_support_data['ratings'].describe()"
   ]
  },
  {
   "cell_type": "code",
   "execution_count": 53,
   "metadata": {
    "scrolled": false
   },
   "outputs": [
    {
     "data": {
      "text/plain": [
       "<matplotlib.axes._subplots.AxesSubplot at 0x7f6a2ccfa210>"
      ]
     },
     "metadata": {},
     "output_type": "display_data"
    },
    {
     "data": {
      "text/plain": [
       "count      5.000000\n",
       "mean      61.400000\n",
       "std       46.435977\n",
       "min        8.000000\n",
       "25%       27.000000\n",
       "50%       55.000000\n",
       "75%      101.000000\n",
       "max      116.000000\n",
       "Name: age_restriction, dtype: float64"
      ]
     },
     "execution_count": 53,
     "metadata": {},
     "output_type": "execute_result"
    },
    {
     "data": {
      "image/png": "[encoded data removed]",
      "text/plain": [
       "<Figure size 576x576 with 1 Axes>"
      ]
     },
     "metadata": {},
     "output_type": "display_data"
    }
   ],
   "source": [
    "# Посмотрим, для каких возрастных категорий снимают фильмы с гос.поддержкой:\n",
    "display(support_data['age_restriction'].value_counts().plot(y='count', kind='pie', figsize=(8, 8)))\n",
    "plt.title('Распределение возрастных категорий фильмов с гос.поддержкой')\n",
    "\n",
    "support_data['age_restriction'].value_counts().describe()"
   ]
  },
  {
   "cell_type": "code",
   "execution_count": 54,
   "metadata": {
    "scrolled": false
   },
   "outputs": [
    {
     "data": {
      "text/plain": [
       "<matplotlib.axes._subplots.AxesSubplot at 0x7f6a2ccc6410>"
      ]
     },
     "metadata": {},
     "output_type": "display_data"
    },
    {
     "data": {
      "text/plain": [
       "count       5.000000\n",
       "mean     1430.600000\n",
       "std       844.489372\n",
       "min       561.000000\n",
       "25%       803.000000\n",
       "50%      1486.000000\n",
       "75%      1577.000000\n",
       "max      2726.000000\n",
       "Name: age_restriction, dtype: float64"
      ]
     },
     "execution_count": 54,
     "metadata": {},
     "output_type": "execute_result"
    },
    {
     "data": {
      "image/png": "[encoded data removed]",
      "text/plain": [
       "<Figure size 576x576 with 1 Axes>"
      ]
     },
     "metadata": {},
     "output_type": "display_data"
    }
   ],
   "source": [
    "# Посмотрим, для каких возрастных категорий снимают фильмы БЕЗ гос.поддержки:\n",
    "display(no_support_data['age_restriction'].value_counts().plot(y='count', kind='pie', figsize=(8, 8)))\n",
    "plt.title('Распределение возрастных категорий фильмов БЕЗ гос.поддержки')\n",
    "\n",
    "no_support_data['age_restriction'].value_counts().describe()"
   ]
  },
  {
   "cell_type": "code",
   "execution_count": 55,
   "metadata": {},
   "outputs": [
    {
     "data": {
      "text/plain": [
       "«16+» - для детей старше 16 лет           116\n",
       "«12+» - для детей старше 12 лет           101\n",
       "«6+» - для детей старше 6 лет              55\n",
       "«18+» - запрещено для детей                27\n",
       "«0+» - для любой зрительской аудитории      8\n",
       "Name: age_restriction, dtype: int64"
      ]
     },
     "metadata": {},
     "output_type": "display_data"
    },
    {
     "data": {
      "text/plain": [
       "«16+» - для детей старше 16 лет           2726\n",
       "«18+» - запрещено для детей               1577\n",
       "«12+» - для детей старше 12 лет           1486\n",
       "«0+» - для любой зрительской аудитории     803\n",
       "«6+» - для детей старше 6 лет              561\n",
       "Name: age_restriction, dtype: int64"
      ]
     },
     "execution_count": 55,
     "metadata": {},
     "output_type": "execute_result"
    }
   ],
   "source": [
    "# Выведем описание рейтинга фильмов с гос.поддержкой:\n",
    "display(support_data['age_restriction'].value_counts())\n",
    "\n",
    "# Выведем описание рейтинга фильмов БЕЗ гос.поддержки:\n",
    "no_support_data['age_restriction'].value_counts()"
   ]
  },
  {
   "cell_type": "code",
   "execution_count": 56,
   "metadata": {},
   "outputs": [
    {
     "data": {
      "text/plain": [
       "Художественный    285\n",
       "Анимационный       21\n",
       "Документальный      1\n",
       "Name: type, dtype: int64"
      ]
     },
     "metadata": {},
     "output_type": "display_data"
    },
    {
     "data": {
      "text/plain": [
       "Художественный                5608\n",
       "Анимационный                   798\n",
       "Прочие                         406\n",
       "Документальный                 287\n",
       "Научно-популярный               53\n",
       "Музыкально-развлекательный       1\n",
       "Name: type, dtype: int64"
      ]
     },
     "execution_count": 56,
     "metadata": {},
     "output_type": "execute_result"
    }
   ],
   "source": [
    "# Выведем описание рейтинга фильмов с гос.поддержкой:\n",
    "display(support_data['type'].value_counts())\n",
    "\n",
    "# Выведем описание рейтинга фильмов БЕЗ гос.поддержки:\n",
    "no_support_data['type'].value_counts()"
   ]
  },
  {
   "cell_type": "code",
   "execution_count": 57,
   "metadata": {
    "scrolled": true
   },
   "outputs": [
    {
     "data": {
      "text/plain": [
       "director_first   type          \n",
       "Кристофер Нолан  Художественный    8\n",
       "Питер Джексон    Художественный    7\n",
       "Гай Ричи         Художественный    6\n",
       "Ю.Озеров         Художественный    6\n",
       "Л.Гайдай         Художественный    6\n",
       "Хаяо Миядзаки    Анимационный      5\n",
       "Дэвид Финчер     Художественный    4\n",
       "Дэвид Йейтс      Художественный    4\n",
       "Мартин Скорсезе  Художественный    3\n",
       "Люк Бессон       Художественный    3\n",
       "Name: ratings, dtype: int64"
      ]
     },
     "execution_count": 57,
     "metadata": {},
     "output_type": "execute_result"
    }
   ],
   "source": [
    "# Выведем имена главных режиссеров, чьи фильмы получили максимальные оценки зрителей, а также их жанры:\n",
    "data.query('ratings>8').groupby(['director_first', 'type'])['ratings'].count().sort_values(ascending=False).head(10)"
   ]
  },
  {
   "cell_type": "code",
   "execution_count": 58,
   "metadata": {},
   "outputs": [
    {
     "data": {
      "text/plain": [
       "country_first\n",
       "США               104\n",
       "Россия             53\n",
       "СССР               41\n",
       "Великобритания     24\n",
       "Франция            12\n",
       "Германия            7\n",
       "Япония              7\n",
       "РеспубликаКипр      5\n",
       "Ирландия            3\n",
       "Индия               3\n",
       "Name: ratings, dtype: int64"
      ]
     },
     "execution_count": 58,
     "metadata": {},
     "output_type": "execute_result"
    }
   ],
   "source": [
    "# Выведем страны, где были сняты фильмы, которые получили максимальные оценки зрителей:\n",
    "data.query('ratings>8').groupby('country_first')['ratings'].count().sort_values(ascending=False).head(10)"
   ]
  },
  {
   "cell_type": "markdown",
   "metadata": {
    "id": "W9QKpjUdgFyb"
   },
   "source": [
    "ОБЪЁМ СРЕДСТВ, ВЫДЕЛЯЕМЫХ НА ГОС.ПОДДЕРЖКУ\n",
    "\n",
    "Количество фильмов, вышедших в прокат за период с 2010-2019, снятых с гос.поддержкой, составляет 332. Причем каждому фильму с гос.поддержкой было выдано только одно прокатное удостоверение в отличие от остальных фильмов, где в среднем каждому 10-му фильму выдавалось по 2 удостоверения.\n",
    "\n",
    "Всего за период с 2013-2019 была оказана гос.поддержка на сумму 20,2 млрд руб. Медианное значение гос.поддержки одного фильма за весь период с 2013-2019 составляет 35 млн руб. Однако среднее значение составляет 61 млн руб. На среднее значение повлияли значительные суммыгос.поддержки некоторых фильмов (максимальная сумма гос.поддержки составила 500 млн руб). Минимальное значение гос.поддержки составило 3 млн руб. \n",
    "\n",
    "Меньше всего фильмов с гос.поддержкой вышло в прокат в 2013 году (2 фильма). В 2014 году вышел уже 61 фильм, а в 2015 году вышло больше всего фильмов с гос.поддержкой за весь рассматриваемый период (86 фильмов). В течение следующих двух лет количество вышедших в прокат фильмов с гос.поддержкой снижалось и в 2017 составило всего 41 фильм. После чего наблюдался стабильный рост количества фильмов с гос.поддержкой – так к 2019 году было выпущено в прокат 70 фильмов.\n",
    "\n",
    "Наблюдается аналогичная тенденция и по величине гос.поддержки, за исключением следующего:\n",
    "- максимальный объем гос.поддержки был предоставлен не в 2015 году (когда было выпущено максимальное количество фильмов с гос.поддержкой), а в 2019 году – 4,9 млрд руб;\n",
    "- на втором месте по объему гос.поддержки за год занимает 2016 – 4,3 млрд руб;\n",
    "- на третьем месте по объему гос.поддержки находится 2015 год – 3,6 млрд руб. \n",
    "\n",
    "На 1 фильм в 2013 году в среднем было потрачено 67 млн руб гос.поддержки. Однако уже в следующем году в среднем размер гос.поддержки одного фильма составил в 2 раза меньше – всего 27,5 млн руб. Объем гос.поддержки постепенно увеличивался вплоть до 2018 года, когда составил он 45 млн руб. Однако на следующий год он снова снизился до уровня 2017 года и составио 40 млн руб.\n",
    "\n",
    "В 2013 году максимальная гос.поддержка фильма составляла 108 млн руб. На следующий год объем гос.поддержки фильма снизился до 90 млн руб, однако начиная с этого времени объем максимальной гос.поддержки стабильно увеличивался и в 2016 году составил уже 450 млн руб. Затем в течение двух лет наблюдается снижение максимальной гос.поддерки до 260 млн руб. Но уже в 2019 году фильм получил максимальную сумму гос.поддержки за весь период – 500 млн руб.\n",
    "\n",
    "ОКУПАЕМОСТЬ ФИЛЬМОВ С ГОС.ПОДДЕРЖКОЙ\n",
    "\n",
    "Мы выяснили, что общая сумма кассовых сборов за весь рассматриваемый период по фильмам, снятым с гос.поддержкой, составляет 42 млрд руб, что всего на 1,5 млрд превышает бюджет данных фильмов. Однако за весь рассматриваемый период лишь в 2017 и в 2018 годах фильмы с гос.поддержкой себя окупили:\n",
    "- в 2017 году прибыль составила 4 млрд руб;\n",
    "- в 2018 году прибыль составила 3,3 млрд руб.\n",
    "\n",
    "В остальные годы фильмы с гос.поддержкой себя не окупали. Максимальный убыток получили фильмы в 2019 году - минус 2,6 млрд руб.\n",
    "\n",
    "К сожалению, мы не имеем возможности сравнить окупаемость фильмов без гос.поддержки, т.к. у нас отсутствуют данные о бюджетах фильмов без гос.поддержки.\n",
    "\n",
    "РЕЙТИНГ ФИЛЬМОВ С ГОС.ПОДДЕРЖКОЙ\n",
    "\n",
    "Медианное значение рейтинга по фильмам с гос.поддержкой составляет 6,2, что на 0,4 меньше рейтинга фильмов без гос.поддержки. Фильмам с гос.поддержкой не ставили никогда оценок болеее 8,5 в то время, как прочие фильмы получали оценки до 9,2. Таким образом, можно сделать вывод о том, что фильмы, снятые без участия государства, пользуются большей любовью у зрителей, чем фильмы, снятые с гом.поддержкой.\n",
    "\n",
    "ВОЗРАСТНАЯ КАТЕГОРИЯ ФИЛЬМОВ С ГОС.ПОДДЕРЖКОЙ\n",
    "\n",
    "Самая распространенная возрастная категория как среди фильмов с гос.поддержкой так и без неё – это категория 16+ (снимается чуть больше 1/3 всех фильмов). \n",
    "\n",
    "Второе месте среди фильмов с гос.поддержкой принадлежит фильмам категории 12+ (также около 1/3 фильмов). У фильмов, снятых без гос.поддержки, категория 12+ уступает место фильмам 18+.  \n",
    "\n",
    "На третьем месте среди фильмов с гос.поддержкой находится категория 6+ (снимается около 20% фильмов). Однако среди фильмов, снятых без гос.поддержки фильмы 6+ находятся на самом последнем месте.\n",
    "\n",
    "ЖАНРЫ ФИЛЬМОВ С ГОС.ПОДДЕРЖКОЙ\n",
    "\n",
    "Фильмы, снятые с гос.поддержкой не отличаются разнообразием жанров:\n",
    "- 90% всех фильмов с гос.поддержкой представляют собой художественные фильмы;\n",
    "- оставшиеся 10% фильмов это мультфильмы.\n",
    "\n",
    "Однако, жанры фильмов, снятых без участия государства очень разнообразны. Несмотря на то, что художественные фильмы и мультфильмы также наиболее распространены, было снято много  документальных, научно-популярных и прочих фильмов.\n",
    "\n"
   ]
  },
  {
   "cell_type": "markdown",
   "metadata": {
    "id": "V2gYwMcPgFyd"
   },
   "source": [
    "## 6. Общий вывод"
   ]
  },
  {
   "cell_type": "markdown",
   "metadata": {},
   "source": [
    "Перед нами была поставлена задача изучить рынок российского кинопроката и выявить текущие тренды. Мы получили данные о прокатных удостоверениях, сборах и государственной поддержке фильмов и сделали следующие выводы:\n",
    "\n",
    "КОЛИЧЕСТВО ФИЛЬМОВ, ВЫПУСКАЕМЫХ В ПРОКАТ\n",
    "\n",
    "В среднем, в прокат выходило около 677 фильмов в год. Меньше всего фильмов вышло в прокат в 2019 году (218 фильмов), больше всего фильмов вышло в 2010 году (985 фильмов).\n",
    "\n",
    "КАССОВЫЕ СБОРЫ\n",
    "\n",
    "Ежегодно объем кассовых сборов растет – это связано прежде всего с ростом средней величины кассовых сборов по фильмам. Минимальная общая сумма кассовых сборов составила 2,4 млн руб - это было в 2010 году. А максимальная сумма составила 201,8 трлн руб - это было в 2018 году. \n",
    "Однако некоторые показатели по кассовым сборам вызывают сомнение, т.к. выглядят неправдоподобно низкими. Скорее всего, при выгрузке данных была перепутана валюта, или разряд цифр.\n",
    "Медиана по кассовым сборам во много раз меньше среднего каждый год. Это свидетельствует о том, что есть некоторое количество фильмов с очень значительными сборами, что повлияло на среднюю величину.\n",
    "\n",
    "ВОЗРАСТНОЕ ОГРАНИЧЕНИЕ\n",
    "\n",
    "Наблюдается некоторая закономерность между возрастной категорией и кассовыми сборами. Например, фильмы категории 0+ почти не имеют значительных сборов. Также фильмы категории 18+ почти всегда приносят меньше сборов, чем фильмы категорий 6+/12+/16+. Это, вероятно, связано с тем, что их смотрят только совершеннолетние люди, а на фильмы категорий 6+/12+/16+ родители приходят вместе с детьми, или возможно связано с тем, что основной потребитель киноиндустрии представляет собой несовершеннолетнюю молодежь.\n",
    "\n",
    "САМЫЕ УСПЕШНЫЕ ФИЛЬМЫ\n",
    "За одним исключением (мультфильм) фильмы с рейтингом более 8 баллов это именно художественные фильмы.\n",
    "Самые любимые режиссеры согласно оценкам: К.Нолан, П.Джексон, Г.Ричи, Ю.Озеров, Л.Гайдай, Х.Миядзаки, Д.Финчер, Д.Йойтс, М.Скорсезе и Л.Бессон.\n",
    "Фильмы, получившие максимальные оценки зрителей были сняты в основном в США, России, СССР, Великобретании и Франции.\n",
    "\n",
    "ФИЛЬМЫ С ГОС.ПОДДЕРЖКОЙ \n",
    "Количество фильмов, снятых с участием государства составляет около 5% от всех фильмов, выпущенных в прокат за весь рассматриваемый период. Количество фильмов, вышедших в прокат за период с 2010-2019, снятых с гос.поддержкой, составляет 332. \n",
    "Всего за период с 2013-2019 была оказана гос.поддержка на сумму 20,2 млрд руб. Медианное значение гос.поддержки одного фильма за весь период с 2013-2019 составляет 35 млн руб. Минимальное значение гос.поддержки составило 3 млн руб. \n",
    "Общая сумма кассовых сборов за весь рассматриваемый период по фильмам, снятым с гос.поддержкой, составляет 42 млрд руб, что всего на 1,5 млрд превышает бюджет данных фильмов. Однако за весь рассматриваемый период лишь в 2017 и в 2018 годах фильмы с гос.поддержкой себя окупили. В остальные годы фильмы с гос.поддержкой себя не окупали. \n",
    "Мы выяснили, что фильмы, снятые без участия государства, пользуются большей любовью у зрителей, чем фильмы, снятые с гом.поддержкой.\n",
    "\n",
    "Самая распространенная возрастная категория как среди фильмов с гос.поддержкой так и без неё – это категория 16+.\n",
    "\n",
    "Фильмы, снятые с гос.поддержкой не отличаются разнообразием жанров: 90% всех фильмов с гос.поддержкой представляют собой художественные фильмы, а оставшиеся 10% фильмов это мультфильмы.\n",
    "Однако, жанры фильмов, снятых без участия государства очень разнообразны. Несмотря на то, что художественные фильмы и мультфильмы также наиболее распространены, было снято много  документальных, научно-популярных и прочих фильмов."
   ]
  }
 ],
 "metadata": {
  "ExecuteTimeLog": [
   {
    "duration": 537,
    "start_time": "2021-07-07T10:12:08.634Z"
   },
   {
    "duration": 206,
    "start_time": "2021-07-07T10:12:30.191Z"
   },
   {
    "duration": 227,
    "start_time": "2021-07-07T10:12:33.078Z"
   },
   {
    "duration": 153,
    "start_time": "2021-07-07T10:13:42.146Z"
   },
   {
    "duration": 233,
    "start_time": "2021-07-07T10:30:09.252Z"
   },
   {
    "duration": 19,
    "start_time": "2021-07-07T10:30:15.577Z"
   },
   {
    "duration": 18,
    "start_time": "2021-07-07T10:30:57.348Z"
   },
   {
    "duration": 19,
    "start_time": "2021-07-07T10:31:17.452Z"
   },
   {
    "duration": 21,
    "start_time": "2021-07-07T10:31:32.227Z"
   },
   {
    "duration": 27,
    "start_time": "2021-07-07T10:32:06.588Z"
   },
   {
    "duration": 23,
    "start_time": "2021-07-07T10:32:43.645Z"
   },
   {
    "duration": 24,
    "start_time": "2021-07-07T10:33:06.948Z"
   },
   {
    "duration": 7,
    "start_time": "2021-07-07T10:33:28.558Z"
   },
   {
    "duration": 23,
    "start_time": "2021-07-07T10:33:43.761Z"
   },
   {
    "duration": 28,
    "start_time": "2021-07-07T10:34:13.466Z"
   },
   {
    "duration": 23,
    "start_time": "2021-07-07T10:35:56.187Z"
   },
   {
    "duration": 6,
    "start_time": "2021-07-07T10:36:48.182Z"
   },
   {
    "duration": 14,
    "start_time": "2021-07-07T10:37:49.641Z"
   },
   {
    "duration": 6,
    "start_time": "2021-07-07T10:38:06.694Z"
   },
   {
    "duration": 6,
    "start_time": "2021-07-07T10:38:13.493Z"
   },
   {
    "duration": 19,
    "start_time": "2021-07-07T10:38:44.056Z"
   },
   {
    "duration": 186,
    "start_time": "2021-07-07T10:48:35.618Z"
   },
   {
    "duration": 24,
    "start_time": "2021-07-07T10:48:51.498Z"
   },
   {
    "duration": 20,
    "start_time": "2021-07-07T10:48:59.415Z"
   },
   {
    "duration": 20,
    "start_time": "2021-07-07T10:53:02.195Z"
   },
   {
    "duration": 188,
    "start_time": "2021-07-07T10:54:40.486Z"
   },
   {
    "duration": 115,
    "start_time": "2021-07-07T10:54:52.552Z"
   },
   {
    "duration": 214,
    "start_time": "2021-07-07T10:54:56.354Z"
   },
   {
    "duration": 47,
    "start_time": "2021-07-07T10:54:58.282Z"
   },
   {
    "duration": 217,
    "start_time": "2021-07-07T10:59:16.075Z"
   },
   {
    "duration": 51,
    "start_time": "2021-07-07T10:59:16.243Z"
   },
   {
    "duration": 578,
    "start_time": "2021-07-07T10:59:18.774Z"
   },
   {
    "duration": 161,
    "start_time": "2021-07-07T10:59:21.238Z"
   },
   {
    "duration": 59,
    "start_time": "2021-07-07T10:59:21.453Z"
   },
   {
    "duration": 3,
    "start_time": "2021-07-07T11:02:10.786Z"
   },
   {
    "duration": 13,
    "start_time": "2021-07-07T11:07:07.722Z"
   },
   {
    "duration": 26,
    "start_time": "2021-07-07T11:07:17.958Z"
   },
   {
    "duration": 22,
    "start_time": "2021-07-07T11:08:17.939Z"
   },
   {
    "duration": 212,
    "start_time": "2021-07-07T11:08:19.665Z"
   },
   {
    "duration": 21,
    "start_time": "2021-07-07T11:08:29.945Z"
   },
   {
    "duration": 31,
    "start_time": "2021-07-07T11:08:38.899Z"
   },
   {
    "duration": 23,
    "start_time": "2021-07-07T11:08:54.527Z"
   },
   {
    "duration": 8,
    "start_time": "2021-07-07T11:18:55.974Z"
   },
   {
    "duration": 7,
    "start_time": "2021-07-07T11:19:03.639Z"
   },
   {
    "duration": 7,
    "start_time": "2021-07-07T11:19:06.444Z"
   },
   {
    "duration": 578,
    "start_time": "2021-07-07T12:09:59.576Z"
   },
   {
    "duration": 195,
    "start_time": "2021-07-07T12:10:00.156Z"
   },
   {
    "duration": 115,
    "start_time": "2021-07-07T12:10:00.353Z"
   },
   {
    "duration": 3,
    "start_time": "2021-07-07T12:10:00.470Z"
   },
   {
    "duration": 32,
    "start_time": "2021-07-07T12:10:00.474Z"
   },
   {
    "duration": 23,
    "start_time": "2021-07-07T12:10:00.508Z"
   },
   {
    "duration": 19,
    "start_time": "2021-07-07T12:10:00.533Z"
   },
   {
    "duration": 44,
    "start_time": "2021-07-07T12:10:00.553Z"
   },
   {
    "duration": 7,
    "start_time": "2021-07-07T12:10:00.600Z"
   },
   {
    "duration": 7,
    "start_time": "2021-07-07T12:19:45.761Z"
   },
   {
    "duration": 21,
    "start_time": "2021-07-07T12:21:35.482Z"
   },
   {
    "duration": 21,
    "start_time": "2021-07-07T12:29:23.569Z"
   },
   {
    "duration": 525,
    "start_time": "2021-07-07T12:29:44.542Z"
   },
   {
    "duration": 214,
    "start_time": "2021-07-07T12:29:45.069Z"
   },
   {
    "duration": 92,
    "start_time": "2021-07-07T12:29:45.285Z"
   },
   {
    "duration": 3,
    "start_time": "2021-07-07T12:29:45.379Z"
   },
   {
    "duration": 28,
    "start_time": "2021-07-07T12:29:45.384Z"
   },
   {
    "duration": 23,
    "start_time": "2021-07-07T12:29:45.413Z"
   },
   {
    "duration": 21,
    "start_time": "2021-07-07T12:29:45.437Z"
   },
   {
    "duration": 41,
    "start_time": "2021-07-07T12:29:45.460Z"
   },
   {
    "duration": 7,
    "start_time": "2021-07-07T12:29:45.502Z"
   },
   {
    "duration": 20,
    "start_time": "2021-07-07T12:29:45.511Z"
   },
   {
    "duration": 12,
    "start_time": "2021-07-07T12:34:02.800Z"
   },
   {
    "duration": 7,
    "start_time": "2021-07-07T12:35:10.479Z"
   },
   {
    "duration": 8,
    "start_time": "2021-07-07T12:35:22.440Z"
   },
   {
    "duration": 6,
    "start_time": "2021-07-07T12:35:35.649Z"
   },
   {
    "duration": 6,
    "start_time": "2021-07-07T12:35:43.107Z"
   },
   {
    "duration": 22,
    "start_time": "2021-07-07T12:38:03.029Z"
   },
   {
    "duration": 10,
    "start_time": "2021-07-07T12:38:06.592Z"
   },
   {
    "duration": 563,
    "start_time": "2021-07-07T12:38:46.493Z"
   },
   {
    "duration": 265,
    "start_time": "2021-07-07T12:38:47.058Z"
   },
   {
    "duration": 94,
    "start_time": "2021-07-07T12:38:47.325Z"
   },
   {
    "duration": 3,
    "start_time": "2021-07-07T12:38:47.422Z"
   },
   {
    "duration": 30,
    "start_time": "2021-07-07T12:38:47.427Z"
   },
   {
    "duration": 16,
    "start_time": "2021-07-07T12:38:53.305Z"
   },
   {
    "duration": 10,
    "start_time": "2021-07-07T12:38:53.499Z"
   },
   {
    "duration": 8,
    "start_time": "2021-07-07T12:39:48.161Z"
   },
   {
    "duration": 27,
    "start_time": "2021-07-07T12:41:17.629Z"
   },
   {
    "duration": 17,
    "start_time": "2021-07-07T12:41:17.867Z"
   },
   {
    "duration": 21,
    "start_time": "2021-07-07T12:41:19.310Z"
   },
   {
    "duration": 7,
    "start_time": "2021-07-07T12:41:19.544Z"
   },
   {
    "duration": 20,
    "start_time": "2021-07-07T12:41:20.504Z"
   },
   {
    "duration": 554,
    "start_time": "2021-07-07T12:56:23.696Z"
   },
   {
    "duration": 200,
    "start_time": "2021-07-07T12:56:25.234Z"
   },
   {
    "duration": 119,
    "start_time": "2021-07-07T12:56:25.480Z"
   },
   {
    "duration": 4,
    "start_time": "2021-07-07T12:56:25.762Z"
   },
   {
    "duration": 26,
    "start_time": "2021-07-07T12:56:27.172Z"
   },
   {
    "duration": 12,
    "start_time": "2021-07-07T12:56:29.051Z"
   },
   {
    "duration": 10,
    "start_time": "2021-07-07T12:56:29.291Z"
   },
   {
    "duration": 8,
    "start_time": "2021-07-07T12:56:29.623Z"
   },
   {
    "duration": 28,
    "start_time": "2021-07-07T12:56:32.137Z"
   },
   {
    "duration": 19,
    "start_time": "2021-07-07T12:56:39.785Z"
   },
   {
    "duration": 20,
    "start_time": "2021-07-07T12:56:44.297Z"
   },
   {
    "duration": 7,
    "start_time": "2021-07-07T12:56:45.392Z"
   },
   {
    "duration": 23,
    "start_time": "2021-07-07T12:56:46.615Z"
   },
   {
    "duration": 4,
    "start_time": "2021-07-07T12:57:06.625Z"
   },
   {
    "duration": 32,
    "start_time": "2021-07-07T12:57:36.690Z"
   },
   {
    "duration": 18,
    "start_time": "2021-07-07T12:58:00.149Z"
   },
   {
    "duration": 15,
    "start_time": "2021-07-07T12:59:16.793Z"
   },
   {
    "duration": 7,
    "start_time": "2021-07-07T13:19:22.624Z"
   },
   {
    "duration": 6,
    "start_time": "2021-07-07T14:17:33.527Z"
   },
   {
    "duration": 9,
    "start_time": "2021-07-07T14:17:48.409Z"
   },
   {
    "duration": 8,
    "start_time": "2021-07-07T14:20:13.060Z"
   },
   {
    "duration": 8,
    "start_time": "2021-07-07T14:20:37.957Z"
   },
   {
    "duration": 8,
    "start_time": "2021-07-07T14:20:47.470Z"
   },
   {
    "duration": 9,
    "start_time": "2021-07-07T14:20:54.503Z"
   },
   {
    "duration": 10,
    "start_time": "2021-07-07T14:28:57.763Z"
   },
   {
    "duration": 3,
    "start_time": "2021-07-07T14:30:23.377Z"
   },
   {
    "duration": 3,
    "start_time": "2021-07-07T14:30:36.489Z"
   },
   {
    "duration": 103,
    "start_time": "2021-07-07T14:30:52.351Z"
   },
   {
    "duration": 8,
    "start_time": "2021-07-07T14:30:54.763Z"
   },
   {
    "duration": 8,
    "start_time": "2021-07-07T14:31:29.301Z"
   },
   {
    "duration": 13,
    "start_time": "2021-07-07T14:31:44.516Z"
   },
   {
    "duration": 7,
    "start_time": "2021-07-07T14:33:10.972Z"
   },
   {
    "duration": 11,
    "start_time": "2021-07-07T14:33:27.780Z"
   },
   {
    "duration": 8,
    "start_time": "2021-07-07T14:34:44.588Z"
   },
   {
    "duration": 57,
    "start_time": "2021-07-07T14:35:59.042Z"
   },
   {
    "duration": 3,
    "start_time": "2021-07-07T14:36:28.168Z"
   },
   {
    "duration": 5,
    "start_time": "2021-07-07T14:36:46.254Z"
   },
   {
    "duration": 4,
    "start_time": "2021-07-07T14:36:52.714Z"
   },
   {
    "duration": 3,
    "start_time": "2021-07-07T14:36:56.612Z"
   },
   {
    "duration": 4,
    "start_time": "2021-07-07T14:36:57.049Z"
   },
   {
    "duration": 3,
    "start_time": "2021-07-07T14:39:21.214Z"
   },
   {
    "duration": 7,
    "start_time": "2021-07-07T14:39:52.406Z"
   },
   {
    "duration": 11,
    "start_time": "2021-07-07T14:39:58.576Z"
   },
   {
    "duration": 9,
    "start_time": "2021-07-07T14:40:26.301Z"
   },
   {
    "duration": 10,
    "start_time": "2021-07-07T14:40:31.704Z"
   },
   {
    "duration": 11,
    "start_time": "2021-07-07T14:40:36.249Z"
   },
   {
    "duration": 10,
    "start_time": "2021-07-07T14:40:39.783Z"
   },
   {
    "duration": 9,
    "start_time": "2021-07-07T14:40:48.558Z"
   },
   {
    "duration": 10,
    "start_time": "2021-07-07T14:40:57.143Z"
   },
   {
    "duration": 9,
    "start_time": "2021-07-07T14:41:06.074Z"
   },
   {
    "duration": 4324,
    "start_time": "2021-07-07T14:41:22.004Z"
   },
   {
    "duration": 11,
    "start_time": "2021-07-07T14:41:33.392Z"
   },
   {
    "duration": 9,
    "start_time": "2021-07-07T14:41:39.288Z"
   },
   {
    "duration": 569,
    "start_time": "2021-07-07T14:42:14.387Z"
   },
   {
    "duration": 197,
    "start_time": "2021-07-07T14:42:14.959Z"
   },
   {
    "duration": 84,
    "start_time": "2021-07-07T14:42:16.052Z"
   },
   {
    "duration": 4,
    "start_time": "2021-07-07T14:42:16.900Z"
   },
   {
    "duration": 27,
    "start_time": "2021-07-07T14:42:19.898Z"
   },
   {
    "duration": 12,
    "start_time": "2021-07-07T14:42:21.577Z"
   },
   {
    "duration": 9,
    "start_time": "2021-07-07T14:42:21.813Z"
   },
   {
    "duration": 9,
    "start_time": "2021-07-07T14:42:22.569Z"
   },
   {
    "duration": 29,
    "start_time": "2021-07-07T14:42:25.837Z"
   },
   {
    "duration": 20,
    "start_time": "2021-07-07T14:42:27.003Z"
   },
   {
    "duration": 21,
    "start_time": "2021-07-07T14:42:28.767Z"
   },
   {
    "duration": 7,
    "start_time": "2021-07-07T14:42:29.838Z"
   },
   {
    "duration": 4,
    "start_time": "2021-07-07T14:43:25.493Z"
   },
   {
    "duration": 7,
    "start_time": "2021-07-07T14:43:26.573Z"
   },
   {
    "duration": 10,
    "start_time": "2021-07-07T14:43:31.639Z"
   },
   {
    "duration": 9,
    "start_time": "2021-07-07T14:43:32.046Z"
   },
   {
    "duration": 10,
    "start_time": "2021-07-07T14:43:33.301Z"
   },
   {
    "duration": 12,
    "start_time": "2021-07-07T14:43:33.658Z"
   },
   {
    "duration": 8,
    "start_time": "2021-07-07T14:43:34.552Z"
   },
   {
    "duration": 9,
    "start_time": "2021-07-07T14:43:35.058Z"
   },
   {
    "duration": 12,
    "start_time": "2021-07-07T14:43:35.914Z"
   },
   {
    "duration": 17,
    "start_time": "2021-07-07T14:45:34.368Z"
   },
   {
    "duration": 512,
    "start_time": "2021-07-07T14:51:58.236Z"
   },
   {
    "duration": 223,
    "start_time": "2021-07-07T14:51:58.750Z"
   },
   {
    "duration": 93,
    "start_time": "2021-07-07T14:51:58.977Z"
   },
   {
    "duration": 4,
    "start_time": "2021-07-07T14:51:59.071Z"
   },
   {
    "duration": 37,
    "start_time": "2021-07-07T14:51:59.077Z"
   },
   {
    "duration": 18,
    "start_time": "2021-07-07T14:51:59.116Z"
   },
   {
    "duration": 10,
    "start_time": "2021-07-07T14:51:59.137Z"
   },
   {
    "duration": 8,
    "start_time": "2021-07-07T14:51:59.149Z"
   },
   {
    "duration": 54,
    "start_time": "2021-07-07T14:51:59.158Z"
   },
   {
    "duration": 18,
    "start_time": "2021-07-07T14:51:59.213Z"
   },
   {
    "duration": 22,
    "start_time": "2021-07-07T14:51:59.232Z"
   },
   {
    "duration": 36,
    "start_time": "2021-07-07T14:51:59.255Z"
   },
   {
    "duration": 7,
    "start_time": "2021-07-07T14:51:59.293Z"
   },
   {
    "duration": 10,
    "start_time": "2021-07-07T14:51:59.302Z"
   },
   {
    "duration": 9,
    "start_time": "2021-07-07T14:51:59.313Z"
   },
   {
    "duration": 11,
    "start_time": "2021-07-07T14:51:59.324Z"
   },
   {
    "duration": 8,
    "start_time": "2021-07-07T14:51:59.337Z"
   },
   {
    "duration": 46,
    "start_time": "2021-07-07T14:51:59.347Z"
   },
   {
    "duration": 22,
    "start_time": "2021-07-07T14:51:59.395Z"
   },
   {
    "duration": 24,
    "start_time": "2021-07-07T14:57:32.911Z"
   },
   {
    "duration": 7,
    "start_time": "2021-07-07T14:58:22.070Z"
   },
   {
    "duration": 4,
    "start_time": "2021-07-07T14:59:11.239Z"
   },
   {
    "duration": 25,
    "start_time": "2021-07-07T15:07:22.208Z"
   },
   {
    "duration": 16,
    "start_time": "2021-07-07T15:08:25.560Z"
   },
   {
    "duration": 15,
    "start_time": "2021-07-07T15:08:40.647Z"
   },
   {
    "duration": 14,
    "start_time": "2021-07-07T15:08:46.669Z"
   },
   {
    "duration": 533,
    "start_time": "2021-07-07T15:18:07.440Z"
   },
   {
    "duration": 173,
    "start_time": "2021-07-07T15:18:07.974Z"
   },
   {
    "duration": 84,
    "start_time": "2021-07-07T15:18:08.149Z"
   },
   {
    "duration": 3,
    "start_time": "2021-07-07T15:18:08.235Z"
   },
   {
    "duration": 30,
    "start_time": "2021-07-07T15:18:08.240Z"
   },
   {
    "duration": 22,
    "start_time": "2021-07-07T15:18:08.272Z"
   },
   {
    "duration": 11,
    "start_time": "2021-07-07T15:18:08.295Z"
   },
   {
    "duration": 11,
    "start_time": "2021-07-07T15:18:08.309Z"
   },
   {
    "duration": 40,
    "start_time": "2021-07-07T15:18:08.322Z"
   },
   {
    "duration": 42,
    "start_time": "2021-07-07T15:18:08.364Z"
   },
   {
    "duration": 22,
    "start_time": "2021-07-07T15:18:08.408Z"
   },
   {
    "duration": 5,
    "start_time": "2021-07-07T15:18:08.432Z"
   },
   {
    "duration": 13,
    "start_time": "2021-07-07T15:18:08.439Z"
   },
   {
    "duration": 9,
    "start_time": "2021-07-07T15:18:08.454Z"
   },
   {
    "duration": 32,
    "start_time": "2021-07-07T15:18:08.465Z"
   },
   {
    "duration": 10,
    "start_time": "2021-07-07T15:18:08.501Z"
   },
   {
    "duration": 7,
    "start_time": "2021-07-07T15:18:08.513Z"
   },
   {
    "duration": 11,
    "start_time": "2021-07-07T15:18:08.521Z"
   },
   {
    "duration": 17,
    "start_time": "2021-07-07T15:18:08.534Z"
   },
   {
    "duration": 44,
    "start_time": "2021-07-07T15:18:08.553Z"
   },
   {
    "duration": 22,
    "start_time": "2021-07-07T15:18:08.599Z"
   },
   {
    "duration": 61,
    "start_time": "2021-07-07T15:18:08.622Z"
   },
   {
    "duration": 7,
    "start_time": "2021-07-07T15:18:39.457Z"
   },
   {
    "duration": 5,
    "start_time": "2021-07-07T16:05:17.020Z"
   },
   {
    "duration": 5,
    "start_time": "2021-07-07T16:51:28.794Z"
   },
   {
    "duration": 546,
    "start_time": "2021-07-07T16:52:26.306Z"
   },
   {
    "duration": 203,
    "start_time": "2021-07-07T16:52:27.523Z"
   },
   {
    "duration": 85,
    "start_time": "2021-07-07T16:52:27.736Z"
   },
   {
    "duration": 4,
    "start_time": "2021-07-07T16:52:27.899Z"
   },
   {
    "duration": 25,
    "start_time": "2021-07-07T16:52:28.674Z"
   },
   {
    "duration": 8,
    "start_time": "2021-07-07T16:52:32.956Z"
   },
   {
    "duration": 18,
    "start_time": "2021-07-07T16:52:35.616Z"
   },
   {
    "duration": 6,
    "start_time": "2021-07-07T16:52:36.913Z"
   },
   {
    "duration": 11,
    "start_time": "2021-07-07T16:52:40.258Z"
   },
   {
    "duration": 10,
    "start_time": "2021-07-07T16:52:46.251Z"
   },
   {
    "duration": 8,
    "start_time": "2021-07-07T16:52:47.182Z"
   },
   {
    "duration": 27,
    "start_time": "2021-07-07T16:53:20.391Z"
   },
   {
    "duration": 20,
    "start_time": "2021-07-07T16:53:22.022Z"
   },
   {
    "duration": 23,
    "start_time": "2021-07-07T16:53:23.690Z"
   },
   {
    "duration": 8,
    "start_time": "2021-07-07T16:53:24.261Z"
   },
   {
    "duration": 4,
    "start_time": "2021-07-07T16:53:38.733Z"
   },
   {
    "duration": 7,
    "start_time": "2021-07-07T16:53:40.445Z"
   },
   {
    "duration": 11,
    "start_time": "2021-07-07T16:53:41.348Z"
   },
   {
    "duration": 13,
    "start_time": "2021-07-07T16:53:45.250Z"
   },
   {
    "duration": 12,
    "start_time": "2021-07-07T16:53:45.467Z"
   },
   {
    "duration": 4,
    "start_time": "2021-07-07T16:55:32.704Z"
   },
   {
    "duration": 12,
    "start_time": "2021-07-07T16:55:49.012Z"
   },
   {
    "duration": 18,
    "start_time": "2021-07-07T16:55:49.547Z"
   },
   {
    "duration": 611,
    "start_time": "2021-07-07T16:58:35.156Z"
   },
   {
    "duration": 200,
    "start_time": "2021-07-07T16:58:35.770Z"
   },
   {
    "duration": 86,
    "start_time": "2021-07-07T16:58:35.972Z"
   },
   {
    "duration": 3,
    "start_time": "2021-07-07T16:58:36.060Z"
   },
   {
    "duration": 27,
    "start_time": "2021-07-07T16:58:36.065Z"
   },
   {
    "duration": 8,
    "start_time": "2021-07-07T16:58:36.094Z"
   },
   {
    "duration": 17,
    "start_time": "2021-07-07T16:58:36.103Z"
   },
   {
    "duration": 5,
    "start_time": "2021-07-07T16:58:36.123Z"
   },
   {
    "duration": 11,
    "start_time": "2021-07-07T16:58:36.130Z"
   },
   {
    "duration": 7,
    "start_time": "2021-07-07T16:58:36.143Z"
   },
   {
    "duration": 37,
    "start_time": "2021-07-07T16:58:36.152Z"
   },
   {
    "duration": 27,
    "start_time": "2021-07-07T16:58:36.191Z"
   },
   {
    "duration": 19,
    "start_time": "2021-07-07T16:58:36.219Z"
   },
   {
    "duration": 49,
    "start_time": "2021-07-07T16:58:36.240Z"
   },
   {
    "duration": 6,
    "start_time": "2021-07-07T16:58:36.291Z"
   },
   {
    "duration": 3,
    "start_time": "2021-07-07T16:58:36.299Z"
   },
   {
    "duration": 13,
    "start_time": "2021-07-07T16:58:36.304Z"
   },
   {
    "duration": 10,
    "start_time": "2021-07-07T16:58:36.319Z"
   },
   {
    "duration": 10,
    "start_time": "2021-07-07T16:58:36.331Z"
   },
   {
    "duration": 44,
    "start_time": "2021-07-07T16:58:36.343Z"
   },
   {
    "duration": 4,
    "start_time": "2021-07-07T16:58:36.388Z"
   },
   {
    "duration": 13,
    "start_time": "2021-07-07T16:58:36.394Z"
   },
   {
    "duration": 16,
    "start_time": "2021-07-07T16:58:36.410Z"
   },
   {
    "duration": 8,
    "start_time": "2021-07-07T17:02:31.629Z"
   },
   {
    "duration": 8,
    "start_time": "2021-07-07T17:02:34.308Z"
   },
   {
    "duration": 6,
    "start_time": "2021-07-07T17:05:13.483Z"
   },
   {
    "duration": 17,
    "start_time": "2021-07-07T17:05:20.606Z"
   },
   {
    "duration": 7,
    "start_time": "2021-07-07T17:05:34.638Z"
   },
   {
    "duration": 3,
    "start_time": "2021-07-07T17:06:31.883Z"
   },
   {
    "duration": 570,
    "start_time": "2021-07-07T17:06:37.165Z"
   },
   {
    "duration": 174,
    "start_time": "2021-07-07T17:06:37.737Z"
   },
   {
    "duration": 47,
    "start_time": "2021-07-07T17:06:37.913Z"
   },
   {
    "duration": 3,
    "start_time": "2021-07-07T17:06:37.962Z"
   },
   {
    "duration": 27,
    "start_time": "2021-07-07T17:06:37.967Z"
   },
   {
    "duration": 7,
    "start_time": "2021-07-07T17:06:37.996Z"
   },
   {
    "duration": 16,
    "start_time": "2021-07-07T17:06:38.005Z"
   },
   {
    "duration": 6,
    "start_time": "2021-07-07T17:06:38.024Z"
   },
   {
    "duration": 12,
    "start_time": "2021-07-07T17:06:38.031Z"
   },
   {
    "duration": 41,
    "start_time": "2021-07-07T17:06:38.045Z"
   },
   {
    "duration": 8,
    "start_time": "2021-07-07T17:06:38.088Z"
   },
   {
    "duration": 26,
    "start_time": "2021-07-07T17:06:38.098Z"
   },
   {
    "duration": 17,
    "start_time": "2021-07-07T17:06:38.126Z"
   },
   {
    "duration": 43,
    "start_time": "2021-07-07T17:06:38.144Z"
   },
   {
    "duration": 6,
    "start_time": "2021-07-07T17:06:38.188Z"
   },
   {
    "duration": 5,
    "start_time": "2021-07-07T17:06:38.195Z"
   },
   {
    "duration": 9,
    "start_time": "2021-07-07T17:06:38.201Z"
   },
   {
    "duration": 12,
    "start_time": "2021-07-07T17:06:38.212Z"
   },
   {
    "duration": 11,
    "start_time": "2021-07-07T17:06:38.226Z"
   },
   {
    "duration": 47,
    "start_time": "2021-07-07T17:06:38.239Z"
   },
   {
    "duration": 4,
    "start_time": "2021-07-07T17:06:38.288Z"
   },
   {
    "duration": 13,
    "start_time": "2021-07-07T17:06:38.293Z"
   },
   {
    "duration": 5,
    "start_time": "2021-07-07T17:06:38.309Z"
   },
   {
    "duration": 18,
    "start_time": "2021-07-07T17:06:38.325Z"
   },
   {
    "duration": 20,
    "start_time": "2021-07-07T17:07:02.805Z"
   },
   {
    "duration": 19,
    "start_time": "2021-07-07T17:07:08.527Z"
   },
   {
    "duration": 19,
    "start_time": "2021-07-07T17:07:12.758Z"
   },
   {
    "duration": 22,
    "start_time": "2021-07-07T17:07:17.497Z"
   },
   {
    "duration": 19,
    "start_time": "2021-07-07T17:07:19.645Z"
   },
   {
    "duration": 10,
    "start_time": "2021-07-07T17:07:34.239Z"
   },
   {
    "duration": 17,
    "start_time": "2021-07-07T17:07:54.144Z"
   },
   {
    "duration": 14,
    "start_time": "2021-07-07T17:08:14.357Z"
   },
   {
    "duration": 616,
    "start_time": "2021-07-07T17:08:45.254Z"
   },
   {
    "duration": 178,
    "start_time": "2021-07-07T17:08:45.872Z"
   },
   {
    "duration": 60,
    "start_time": "2021-07-07T17:08:46.054Z"
   },
   {
    "duration": 3,
    "start_time": "2021-07-07T17:08:46.116Z"
   },
   {
    "duration": 26,
    "start_time": "2021-07-07T17:08:46.121Z"
   },
   {
    "duration": 7,
    "start_time": "2021-07-07T17:08:46.149Z"
   },
   {
    "duration": 17,
    "start_time": "2021-07-07T17:08:46.158Z"
   },
   {
    "duration": 14,
    "start_time": "2021-07-07T17:08:46.176Z"
   },
   {
    "duration": 17,
    "start_time": "2021-07-07T17:08:46.193Z"
   },
   {
    "duration": 9,
    "start_time": "2021-07-07T17:08:46.211Z"
   },
   {
    "duration": 21,
    "start_time": "2021-07-07T17:08:46.221Z"
   },
   {
    "duration": 49,
    "start_time": "2021-07-07T17:08:46.244Z"
   },
   {
    "duration": 24,
    "start_time": "2021-07-07T17:08:46.295Z"
   },
   {
    "duration": 22,
    "start_time": "2021-07-07T17:08:46.321Z"
   },
   {
    "duration": 6,
    "start_time": "2021-07-07T17:08:46.345Z"
   },
   {
    "duration": 5,
    "start_time": "2021-07-07T17:08:46.353Z"
   },
   {
    "duration": 13,
    "start_time": "2021-07-07T17:08:46.386Z"
   },
   {
    "duration": 12,
    "start_time": "2021-07-07T17:08:46.402Z"
   },
   {
    "duration": 10,
    "start_time": "2021-07-07T17:08:46.415Z"
   },
   {
    "duration": 7,
    "start_time": "2021-07-07T17:08:46.427Z"
   },
   {
    "duration": 8,
    "start_time": "2021-07-07T17:08:46.435Z"
   },
   {
    "duration": 68,
    "start_time": "2021-07-07T17:08:46.446Z"
   },
   {
    "duration": 13,
    "start_time": "2021-07-07T17:08:46.516Z"
   },
   {
    "duration": 78,
    "start_time": "2021-07-07T17:08:46.530Z"
   },
   {
    "duration": 40,
    "start_time": "2021-07-07T17:09:08.185Z"
   },
   {
    "duration": 16,
    "start_time": "2021-07-07T17:09:19.324Z"
   },
   {
    "duration": 21,
    "start_time": "2021-07-07T17:09:23.290Z"
   },
   {
    "duration": 13,
    "start_time": "2021-07-07T17:09:54.812Z"
   },
   {
    "duration": 13,
    "start_time": "2021-07-07T17:10:02.039Z"
   },
   {
    "duration": 10,
    "start_time": "2021-07-07T17:10:29.632Z"
   },
   {
    "duration": 13,
    "start_time": "2021-07-07T17:10:52.372Z"
   },
   {
    "duration": 13,
    "start_time": "2021-07-07T17:11:17.270Z"
   },
   {
    "duration": 13,
    "start_time": "2021-07-07T17:14:59.284Z"
   },
   {
    "duration": 547,
    "start_time": "2021-07-07T17:18:52.403Z"
   },
   {
    "duration": 163,
    "start_time": "2021-07-07T17:18:52.952Z"
   },
   {
    "duration": 44,
    "start_time": "2021-07-07T17:18:53.117Z"
   },
   {
    "duration": 3,
    "start_time": "2021-07-07T17:18:53.162Z"
   },
   {
    "duration": 26,
    "start_time": "2021-07-07T17:18:53.167Z"
   },
   {
    "duration": 6,
    "start_time": "2021-07-07T17:18:53.195Z"
   },
   {
    "duration": 15,
    "start_time": "2021-07-07T17:18:53.203Z"
   },
   {
    "duration": 5,
    "start_time": "2021-07-07T17:18:53.220Z"
   },
   {
    "duration": 11,
    "start_time": "2021-07-07T17:18:53.228Z"
   },
   {
    "duration": 9,
    "start_time": "2021-07-07T17:18:53.241Z"
   },
   {
    "duration": 41,
    "start_time": "2021-07-07T17:18:53.252Z"
   },
   {
    "duration": 33,
    "start_time": "2021-07-07T17:18:53.295Z"
   },
   {
    "duration": 19,
    "start_time": "2021-07-07T17:18:53.330Z"
   },
   {
    "duration": 49,
    "start_time": "2021-07-07T17:18:53.350Z"
   },
   {
    "duration": 5,
    "start_time": "2021-07-07T17:18:53.401Z"
   },
   {
    "duration": 5,
    "start_time": "2021-07-07T17:18:53.408Z"
   },
   {
    "duration": 11,
    "start_time": "2021-07-07T17:18:53.414Z"
   },
   {
    "duration": 9,
    "start_time": "2021-07-07T17:18:53.427Z"
   },
   {
    "duration": 10,
    "start_time": "2021-07-07T17:18:53.437Z"
   },
   {
    "duration": 39,
    "start_time": "2021-07-07T17:18:53.448Z"
   },
   {
    "duration": 26,
    "start_time": "2021-07-07T17:18:55.799Z"
   },
   {
    "duration": 598,
    "start_time": "2021-07-07T17:20:17.862Z"
   },
   {
    "duration": 161,
    "start_time": "2021-07-07T17:20:18.462Z"
   },
   {
    "duration": 45,
    "start_time": "2021-07-07T17:20:18.626Z"
   },
   {
    "duration": 4,
    "start_time": "2021-07-07T17:20:18.673Z"
   },
   {
    "duration": 38,
    "start_time": "2021-07-07T17:20:26.877Z"
   },
   {
    "duration": 7,
    "start_time": "2021-07-07T17:20:37.405Z"
   },
   {
    "duration": 19,
    "start_time": "2021-07-07T17:20:51.534Z"
   },
   {
    "duration": 5,
    "start_time": "2021-07-07T17:20:57.228Z"
   },
   {
    "duration": 7,
    "start_time": "2021-07-07T17:21:08.235Z"
   },
   {
    "duration": 19,
    "start_time": "2021-07-07T17:21:42.158Z"
   },
   {
    "duration": 14,
    "start_time": "2021-07-07T17:21:50.225Z"
   },
   {
    "duration": 22,
    "start_time": "2021-07-07T17:22:54.104Z"
   },
   {
    "duration": 5,
    "start_time": "2021-07-07T17:22:56.371Z"
   },
   {
    "duration": 14,
    "start_time": "2021-07-07T17:22:58.316Z"
   },
   {
    "duration": 5,
    "start_time": "2021-07-07T17:22:58.493Z"
   },
   {
    "duration": 35,
    "start_time": "2021-07-07T17:22:59.666Z"
   },
   {
    "duration": 6,
    "start_time": "2021-07-07T17:23:02.410Z"
   },
   {
    "duration": 611,
    "start_time": "2021-07-07T17:24:59.664Z"
   },
   {
    "duration": 178,
    "start_time": "2021-07-07T17:25:01.945Z"
   },
   {
    "duration": 47,
    "start_time": "2021-07-07T17:25:02.125Z"
   },
   {
    "duration": 2,
    "start_time": "2021-07-07T17:25:07.903Z"
   },
   {
    "duration": 254,
    "start_time": "2021-07-07T17:25:08.232Z"
   },
   {
    "duration": 182,
    "start_time": "2021-07-07T17:25:08.671Z"
   },
   {
    "duration": 6,
    "start_time": "2021-07-07T17:25:13.104Z"
   },
   {
    "duration": 36,
    "start_time": "2021-07-07T17:25:13.662Z"
   },
   {
    "duration": 7,
    "start_time": "2021-07-07T17:25:14.528Z"
   },
   {
    "duration": 24,
    "start_time": "2021-07-07T17:25:27.982Z"
   },
   {
    "duration": 3,
    "start_time": "2021-07-07T17:25:48.982Z"
   },
   {
    "duration": 165,
    "start_time": "2021-07-07T17:25:48.987Z"
   },
   {
    "duration": 50,
    "start_time": "2021-07-07T17:25:49.154Z"
   },
   {
    "duration": 4,
    "start_time": "2021-07-07T17:25:49.206Z"
   },
   {
    "duration": 26,
    "start_time": "2021-07-07T17:25:49.212Z"
   },
   {
    "duration": 7,
    "start_time": "2021-07-07T17:25:49.240Z"
   },
   {
    "duration": 16,
    "start_time": "2021-07-07T17:25:49.249Z"
   },
   {
    "duration": 22,
    "start_time": "2021-07-07T17:25:49.266Z"
   },
   {
    "duration": 16,
    "start_time": "2021-07-07T17:25:49.291Z"
   },
   {
    "duration": 9,
    "start_time": "2021-07-07T17:25:49.309Z"
   },
   {
    "duration": 7,
    "start_time": "2021-07-07T17:25:49.319Z"
   },
   {
    "duration": 28,
    "start_time": "2021-07-07T17:25:49.328Z"
   },
   {
    "duration": 44,
    "start_time": "2021-07-07T17:25:49.357Z"
   },
   {
    "duration": 22,
    "start_time": "2021-07-07T17:25:49.403Z"
   },
   {
    "duration": 7,
    "start_time": "2021-07-07T17:25:49.427Z"
   },
   {
    "duration": 3,
    "start_time": "2021-07-07T17:25:49.436Z"
   },
   {
    "duration": 44,
    "start_time": "2021-07-07T17:25:49.441Z"
   },
   {
    "duration": 12,
    "start_time": "2021-07-07T17:25:49.488Z"
   },
   {
    "duration": 13,
    "start_time": "2021-07-07T17:25:49.502Z"
   },
   {
    "duration": 10,
    "start_time": "2021-07-07T17:25:49.516Z"
   },
   {
    "duration": 62,
    "start_time": "2021-07-07T17:25:49.527Z"
   },
   {
    "duration": 26,
    "start_time": "2021-07-07T17:26:51.809Z"
   },
   {
    "duration": 26,
    "start_time": "2021-07-07T17:26:55.759Z"
   },
   {
    "duration": 26,
    "start_time": "2021-07-07T17:27:04.501Z"
   },
   {
    "duration": 25,
    "start_time": "2021-07-07T17:28:24.859Z"
   },
   {
    "duration": 21,
    "start_time": "2021-07-07T17:28:55.250Z"
   },
   {
    "duration": 21,
    "start_time": "2021-07-07T17:28:58.885Z"
   },
   {
    "duration": 7,
    "start_time": "2021-07-07T17:45:40.972Z"
   },
   {
    "duration": 13,
    "start_time": "2021-07-07T17:45:42.529Z"
   },
   {
    "duration": 27,
    "start_time": "2021-07-07T17:45:51.026Z"
   },
   {
    "duration": 518,
    "start_time": "2021-07-07T17:46:15.532Z"
   },
   {
    "duration": 235,
    "start_time": "2021-07-07T17:46:16.053Z"
   },
   {
    "duration": 80,
    "start_time": "2021-07-07T17:46:16.292Z"
   },
   {
    "duration": 5,
    "start_time": "2021-07-07T17:46:16.373Z"
   },
   {
    "duration": 26,
    "start_time": "2021-07-07T17:46:16.380Z"
   },
   {
    "duration": 7,
    "start_time": "2021-07-07T17:46:16.408Z"
   },
   {
    "duration": 16,
    "start_time": "2021-07-07T17:46:16.418Z"
   },
   {
    "duration": 5,
    "start_time": "2021-07-07T17:46:16.436Z"
   },
   {
    "duration": 13,
    "start_time": "2021-07-07T17:46:16.442Z"
   },
   {
    "duration": 35,
    "start_time": "2021-07-07T17:46:16.456Z"
   },
   {
    "duration": 8,
    "start_time": "2021-07-07T17:46:16.493Z"
   },
   {
    "duration": 28,
    "start_time": "2021-07-07T17:46:16.502Z"
   },
   {
    "duration": 17,
    "start_time": "2021-07-07T17:46:16.532Z"
   },
   {
    "duration": 44,
    "start_time": "2021-07-07T17:46:16.551Z"
   },
   {
    "duration": 6,
    "start_time": "2021-07-07T17:46:16.597Z"
   },
   {
    "duration": 4,
    "start_time": "2021-07-07T17:46:16.605Z"
   },
   {
    "duration": 9,
    "start_time": "2021-07-07T17:46:16.610Z"
   },
   {
    "duration": 9,
    "start_time": "2021-07-07T17:46:16.621Z"
   },
   {
    "duration": 10,
    "start_time": "2021-07-07T17:46:16.632Z"
   },
   {
    "duration": 43,
    "start_time": "2021-07-07T17:46:16.644Z"
   },
   {
    "duration": 26,
    "start_time": "2021-07-07T17:46:16.689Z"
   },
   {
    "duration": 19,
    "start_time": "2021-07-07T17:46:16.718Z"
   },
   {
    "duration": 8,
    "start_time": "2021-07-07T17:46:16.738Z"
   },
   {
    "duration": 43,
    "start_time": "2021-07-07T17:46:16.747Z"
   },
   {
    "duration": 19,
    "start_time": "2021-07-07T17:46:16.791Z"
   },
   {
    "duration": 9,
    "start_time": "2021-07-07T17:46:16.812Z"
   },
   {
    "duration": 60,
    "start_time": "2021-07-07T17:46:16.822Z"
   },
   {
    "duration": -8,
    "start_time": "2021-07-07T17:46:16.892Z"
   },
   {
    "duration": 12,
    "start_time": "2021-07-07T17:48:47.707Z"
   },
   {
    "duration": 553,
    "start_time": "2021-07-07T18:10:09.350Z"
   },
   {
    "duration": 230,
    "start_time": "2021-07-07T18:10:09.905Z"
   },
   {
    "duration": 97,
    "start_time": "2021-07-07T18:10:10.137Z"
   },
   {
    "duration": 5,
    "start_time": "2021-07-07T18:10:10.236Z"
   },
   {
    "duration": 29,
    "start_time": "2021-07-07T18:10:10.242Z"
   },
   {
    "duration": 7,
    "start_time": "2021-07-07T18:10:10.272Z"
   },
   {
    "duration": 15,
    "start_time": "2021-07-07T18:10:10.281Z"
   },
   {
    "duration": 4,
    "start_time": "2021-07-07T18:10:10.299Z"
   },
   {
    "duration": 14,
    "start_time": "2021-07-07T18:10:10.305Z"
   },
   {
    "duration": 8,
    "start_time": "2021-07-07T18:10:10.321Z"
   },
   {
    "duration": 8,
    "start_time": "2021-07-07T18:10:10.331Z"
   },
   {
    "duration": 56,
    "start_time": "2021-07-07T18:10:10.341Z"
   },
   {
    "duration": 19,
    "start_time": "2021-07-07T18:10:10.399Z"
   },
   {
    "duration": 23,
    "start_time": "2021-07-07T18:10:10.419Z"
   },
   {
    "duration": 6,
    "start_time": "2021-07-07T18:10:10.444Z"
   },
   {
    "duration": 9,
    "start_time": "2021-07-07T18:10:10.451Z"
   },
   {
    "duration": 30,
    "start_time": "2021-07-07T18:10:10.462Z"
   },
   {
    "duration": 9,
    "start_time": "2021-07-07T18:10:10.494Z"
   },
   {
    "duration": 14,
    "start_time": "2021-07-07T18:10:10.505Z"
   },
   {
    "duration": 7,
    "start_time": "2021-07-07T18:10:10.521Z"
   },
   {
    "duration": 26,
    "start_time": "2021-07-07T18:10:10.530Z"
   },
   {
    "duration": 44,
    "start_time": "2021-07-07T18:10:10.558Z"
   },
   {
    "duration": 7,
    "start_time": "2021-07-07T18:10:10.605Z"
   },
   {
    "duration": 11,
    "start_time": "2021-07-07T18:10:10.614Z"
   },
   {
    "duration": 19,
    "start_time": "2021-07-07T18:10:10.626Z"
   },
   {
    "duration": 44,
    "start_time": "2021-07-07T18:10:10.646Z"
   },
   {
    "duration": 516,
    "start_time": "2021-07-07T18:14:00.826Z"
   },
   {
    "duration": 230,
    "start_time": "2021-07-07T18:14:01.344Z"
   },
   {
    "duration": 105,
    "start_time": "2021-07-07T18:14:01.576Z"
   },
   {
    "duration": 5,
    "start_time": "2021-07-07T18:14:01.683Z"
   },
   {
    "duration": 46,
    "start_time": "2021-07-07T18:14:01.690Z"
   },
   {
    "duration": 7,
    "start_time": "2021-07-07T18:14:01.738Z"
   },
   {
    "duration": 20,
    "start_time": "2021-07-07T18:14:01.747Z"
   },
   {
    "duration": 16,
    "start_time": "2021-07-07T18:14:01.769Z"
   },
   {
    "duration": 14,
    "start_time": "2021-07-07T18:14:01.787Z"
   },
   {
    "duration": 15,
    "start_time": "2021-07-07T18:14:01.803Z"
   },
   {
    "duration": 12,
    "start_time": "2021-07-07T18:14:01.820Z"
   },
   {
    "duration": 35,
    "start_time": "2021-07-07T18:14:01.833Z"
   },
   {
    "duration": 31,
    "start_time": "2021-07-07T18:14:01.869Z"
   },
   {
    "duration": 37,
    "start_time": "2021-07-07T18:14:01.902Z"
   },
   {
    "duration": 8,
    "start_time": "2021-07-07T18:14:01.942Z"
   },
   {
    "duration": 16,
    "start_time": "2021-07-07T18:14:01.952Z"
   },
   {
    "duration": 13,
    "start_time": "2021-07-07T18:14:01.970Z"
   },
   {
    "duration": 32,
    "start_time": "2021-07-07T18:14:01.985Z"
   },
   {
    "duration": 11,
    "start_time": "2021-07-07T18:14:02.019Z"
   },
   {
    "duration": 22,
    "start_time": "2021-07-07T18:14:02.031Z"
   },
   {
    "duration": 27,
    "start_time": "2021-07-07T18:14:02.055Z"
   },
   {
    "duration": 18,
    "start_time": "2021-07-07T18:14:02.084Z"
   },
   {
    "duration": 18,
    "start_time": "2021-07-07T18:14:02.106Z"
   },
   {
    "duration": 11,
    "start_time": "2021-07-07T18:14:02.126Z"
   },
   {
    "duration": 21,
    "start_time": "2021-07-07T18:14:02.138Z"
   },
   {
    "duration": 32,
    "start_time": "2021-07-07T18:14:02.161Z"
   },
   {
    "duration": 28,
    "start_time": "2021-07-07T18:14:44.295Z"
   },
   {
    "duration": 6,
    "start_time": "2021-07-07T18:15:05.834Z"
   },
   {
    "duration": 511,
    "start_time": "2021-07-07T18:15:41.541Z"
   },
   {
    "duration": 183,
    "start_time": "2021-07-07T18:15:42.054Z"
   },
   {
    "duration": 50,
    "start_time": "2021-07-07T18:15:42.239Z"
   },
   {
    "duration": 5,
    "start_time": "2021-07-07T18:15:42.291Z"
   },
   {
    "duration": 48,
    "start_time": "2021-07-07T18:15:42.297Z"
   },
   {
    "duration": 8,
    "start_time": "2021-07-07T18:15:42.346Z"
   },
   {
    "duration": 17,
    "start_time": "2021-07-07T18:15:42.356Z"
   },
   {
    "duration": 15,
    "start_time": "2021-07-07T18:15:42.375Z"
   },
   {
    "duration": 12,
    "start_time": "2021-07-07T18:15:42.392Z"
   },
   {
    "duration": 7,
    "start_time": "2021-07-07T18:15:42.406Z"
   },
   {
    "duration": 7,
    "start_time": "2021-07-07T18:15:42.415Z"
   },
   {
    "duration": 29,
    "start_time": "2021-07-07T18:15:42.423Z"
   },
   {
    "duration": 43,
    "start_time": "2021-07-07T18:15:42.453Z"
   },
   {
    "duration": 18,
    "start_time": "2021-07-07T18:15:42.497Z"
   },
   {
    "duration": 6,
    "start_time": "2021-07-07T18:15:42.516Z"
   },
   {
    "duration": 3,
    "start_time": "2021-07-07T18:15:42.523Z"
   },
   {
    "duration": 18,
    "start_time": "2021-07-07T18:15:42.528Z"
   },
   {
    "duration": 10,
    "start_time": "2021-07-07T18:15:42.547Z"
   },
   {
    "duration": 36,
    "start_time": "2021-07-07T18:15:42.559Z"
   },
   {
    "duration": 8,
    "start_time": "2021-07-07T18:15:42.597Z"
   },
   {
    "duration": 28,
    "start_time": "2021-07-07T18:15:42.606Z"
   },
   {
    "duration": 52,
    "start_time": "2021-07-07T18:15:42.635Z"
   },
   {
    "duration": 7,
    "start_time": "2021-07-07T18:15:42.690Z"
   },
   {
    "duration": 10,
    "start_time": "2021-07-07T18:15:42.699Z"
   },
   {
    "duration": 19,
    "start_time": "2021-07-07T18:15:42.711Z"
   },
   {
    "duration": 9,
    "start_time": "2021-07-07T18:15:42.732Z"
   },
   {
    "duration": 5,
    "start_time": "2021-07-07T18:15:42.743Z"
   },
   {
    "duration": 1450,
    "start_time": "2021-07-07T18:15:51.984Z"
   },
   {
    "duration": 161,
    "start_time": "2021-07-07T18:15:53.435Z"
   },
   {
    "duration": 124,
    "start_time": "2021-07-07T18:15:53.598Z"
   },
   {
    "duration": 5,
    "start_time": "2021-07-07T18:15:53.724Z"
   },
   {
    "duration": 34,
    "start_time": "2021-07-07T18:15:53.730Z"
   },
   {
    "duration": 7,
    "start_time": "2021-07-07T18:15:53.765Z"
   },
   {
    "duration": 15,
    "start_time": "2021-07-07T18:15:53.773Z"
   },
   {
    "duration": 5,
    "start_time": "2021-07-07T18:15:53.791Z"
   },
   {
    "duration": 19,
    "start_time": "2021-07-07T18:15:53.798Z"
   },
   {
    "duration": 9,
    "start_time": "2021-07-07T18:15:53.818Z"
   },
   {
    "duration": 19,
    "start_time": "2021-07-07T18:15:53.828Z"
   },
   {
    "duration": 27,
    "start_time": "2021-07-07T18:15:53.848Z"
   },
   {
    "duration": 16,
    "start_time": "2021-07-07T18:15:53.884Z"
   },
   {
    "duration": 29,
    "start_time": "2021-07-07T18:15:53.901Z"
   },
   {
    "duration": 5,
    "start_time": "2021-07-07T18:15:53.932Z"
   },
   {
    "duration": 15,
    "start_time": "2021-07-07T18:15:53.939Z"
   },
   {
    "duration": 13,
    "start_time": "2021-07-07T18:15:53.956Z"
   },
   {
    "duration": 20,
    "start_time": "2021-07-07T18:15:53.971Z"
   },
   {
    "duration": 14,
    "start_time": "2021-07-07T18:15:53.992Z"
   },
   {
    "duration": 9,
    "start_time": "2021-07-07T18:15:54.009Z"
   },
   {
    "duration": 28,
    "start_time": "2021-07-07T18:15:54.020Z"
   },
   {
    "duration": 50,
    "start_time": "2021-07-07T18:15:54.051Z"
   },
   {
    "duration": 8,
    "start_time": "2021-07-07T18:15:54.105Z"
   },
   {
    "duration": 11,
    "start_time": "2021-07-07T18:15:54.115Z"
   },
   {
    "duration": 20,
    "start_time": "2021-07-07T18:15:54.128Z"
   },
   {
    "duration": 13,
    "start_time": "2021-07-07T18:15:54.184Z"
   },
   {
    "duration": 7,
    "start_time": "2021-07-07T18:15:54.199Z"
   },
   {
    "duration": 7,
    "start_time": "2021-07-07T18:17:08.042Z"
   },
   {
    "duration": 8,
    "start_time": "2021-07-07T18:17:21.008Z"
   },
   {
    "duration": 7,
    "start_time": "2021-07-07T18:17:29.003Z"
   },
   {
    "duration": 8,
    "start_time": "2021-07-07T18:17:32.492Z"
   },
   {
    "duration": 9,
    "start_time": "2021-07-07T18:17:41.758Z"
   },
   {
    "duration": 255,
    "start_time": "2021-07-07T18:20:20.897Z"
   },
   {
    "duration": 173,
    "start_time": "2021-07-07T18:20:26.636Z"
   },
   {
    "duration": 7,
    "start_time": "2021-07-07T18:21:47.164Z"
   },
   {
    "duration": 254,
    "start_time": "2021-07-07T18:23:08.703Z"
   },
   {
    "duration": 21,
    "start_time": "2021-07-07T18:23:22.506Z"
   },
   {
    "duration": 315,
    "start_time": "2021-07-07T18:25:54.801Z"
   },
   {
    "duration": 34,
    "start_time": "2021-07-07T18:26:51.817Z"
   },
   {
    "duration": 327,
    "start_time": "2021-07-07T18:26:56.147Z"
   },
   {
    "duration": 342,
    "start_time": "2021-07-07T18:27:15.887Z"
   },
   {
    "duration": 302,
    "start_time": "2021-07-07T18:28:18.569Z"
   },
   {
    "duration": 226,
    "start_time": "2021-07-07T18:29:20.879Z"
   },
   {
    "duration": 207,
    "start_time": "2021-07-07T18:29:58.114Z"
   },
   {
    "duration": 140,
    "start_time": "2021-07-07T18:32:04.372Z"
   },
   {
    "duration": 158,
    "start_time": "2021-07-07T18:32:32.508Z"
   },
   {
    "duration": 145,
    "start_time": "2021-07-07T18:32:41.365Z"
   },
   {
    "duration": 132,
    "start_time": "2021-07-07T18:32:45.199Z"
   },
   {
    "duration": 11,
    "start_time": "2021-07-07T18:35:24.679Z"
   },
   {
    "duration": 268,
    "start_time": "2021-07-07T18:36:16.145Z"
   },
   {
    "duration": 227,
    "start_time": "2021-07-07T18:37:04.918Z"
   },
   {
    "duration": 3,
    "start_time": "2021-07-07T18:37:33.012Z"
   },
   {
    "duration": 671,
    "start_time": "2021-07-07T18:37:38.295Z"
   },
   {
    "duration": 54,
    "start_time": "2021-07-07T18:37:53.406Z"
   },
   {
    "duration": 631,
    "start_time": "2021-07-07T18:37:56.463Z"
   },
   {
    "duration": 19,
    "start_time": "2021-07-07T18:39:40.535Z"
   },
   {
    "duration": 20,
    "start_time": "2021-07-07T18:40:12.236Z"
   },
   {
    "duration": 633,
    "start_time": "2021-07-07T18:42:00.398Z"
   },
   {
    "duration": 218,
    "start_time": "2021-07-07T18:42:01.033Z"
   },
   {
    "duration": 49,
    "start_time": "2021-07-07T18:42:01.253Z"
   },
   {
    "duration": 5,
    "start_time": "2021-07-07T18:42:01.303Z"
   },
   {
    "duration": 27,
    "start_time": "2021-07-07T18:42:01.310Z"
   },
   {
    "duration": 8,
    "start_time": "2021-07-07T18:42:01.339Z"
   },
   {
    "duration": 20,
    "start_time": "2021-07-07T18:42:01.348Z"
   },
   {
    "duration": 6,
    "start_time": "2021-07-07T18:42:01.386Z"
   },
   {
    "duration": 16,
    "start_time": "2021-07-07T18:42:01.394Z"
   },
   {
    "duration": 9,
    "start_time": "2021-07-07T18:42:01.411Z"
   },
   {
    "duration": 11,
    "start_time": "2021-07-07T18:42:01.421Z"
   },
   {
    "duration": 31,
    "start_time": "2021-07-07T18:42:01.434Z"
   },
   {
    "duration": 18,
    "start_time": "2021-07-07T18:42:01.485Z"
   },
   {
    "duration": 23,
    "start_time": "2021-07-07T18:42:01.505Z"
   },
   {
    "duration": 6,
    "start_time": "2021-07-07T18:42:01.530Z"
   },
   {
    "duration": 10,
    "start_time": "2021-07-07T18:42:01.538Z"
   },
   {
    "duration": 13,
    "start_time": "2021-07-07T18:42:01.550Z"
   },
   {
    "duration": 24,
    "start_time": "2021-07-07T18:42:01.564Z"
   },
   {
    "duration": 20,
    "start_time": "2021-07-07T18:42:01.590Z"
   },
   {
    "duration": 8,
    "start_time": "2021-07-07T18:42:01.611Z"
   },
   {
    "duration": 31,
    "start_time": "2021-07-07T18:42:01.620Z"
   },
   {
    "duration": 39,
    "start_time": "2021-07-07T18:42:01.653Z"
   },
   {
    "duration": 8,
    "start_time": "2021-07-07T18:42:01.696Z"
   },
   {
    "duration": 13,
    "start_time": "2021-07-07T18:42:01.705Z"
   },
   {
    "duration": 20,
    "start_time": "2021-07-07T18:42:01.720Z"
   },
   {
    "duration": 12,
    "start_time": "2021-07-07T18:42:01.741Z"
   },
   {
    "duration": 35,
    "start_time": "2021-07-07T18:42:01.755Z"
   },
   {
    "duration": 14,
    "start_time": "2021-07-07T18:42:01.792Z"
   },
   {
    "duration": 188,
    "start_time": "2021-07-07T18:42:01.808Z"
   },
   {
    "duration": 19,
    "start_time": "2021-07-07T18:42:01.998Z"
   },
   {
    "duration": 175,
    "start_time": "2021-07-07T18:42:02.019Z"
   },
   {
    "duration": 134,
    "start_time": "2021-07-07T18:42:02.196Z"
   },
   {
    "duration": 10,
    "start_time": "2021-07-07T18:42:02.331Z"
   },
   {
    "duration": 19,
    "start_time": "2021-07-07T18:42:02.343Z"
   },
   {
    "duration": 628,
    "start_time": "2021-07-07T18:46:30.701Z"
   },
   {
    "duration": 183,
    "start_time": "2021-07-07T18:46:31.331Z"
   },
   {
    "duration": 48,
    "start_time": "2021-07-07T18:46:31.516Z"
   },
   {
    "duration": 5,
    "start_time": "2021-07-07T18:46:31.566Z"
   },
   {
    "duration": 28,
    "start_time": "2021-07-07T18:46:31.572Z"
   },
   {
    "duration": 8,
    "start_time": "2021-07-07T18:46:31.602Z"
   },
   {
    "duration": 19,
    "start_time": "2021-07-07T18:46:31.611Z"
   },
   {
    "duration": 6,
    "start_time": "2021-07-07T18:46:31.633Z"
   },
   {
    "duration": 17,
    "start_time": "2021-07-07T18:46:31.642Z"
   },
   {
    "duration": 10,
    "start_time": "2021-07-07T18:46:31.684Z"
   },
   {
    "duration": 9,
    "start_time": "2021-07-07T18:46:31.695Z"
   },
   {
    "duration": 28,
    "start_time": "2021-07-07T18:46:31.705Z"
   },
   {
    "duration": 18,
    "start_time": "2021-07-07T18:46:31.735Z"
   },
   {
    "duration": 48,
    "start_time": "2021-07-07T18:46:31.755Z"
   },
   {
    "duration": 6,
    "start_time": "2021-07-07T18:46:31.804Z"
   },
   {
    "duration": 4,
    "start_time": "2021-07-07T18:46:31.812Z"
   },
   {
    "duration": 9,
    "start_time": "2021-07-07T18:46:31.817Z"
   },
   {
    "duration": 10,
    "start_time": "2021-07-07T18:46:31.827Z"
   },
   {
    "duration": 12,
    "start_time": "2021-07-07T18:46:31.838Z"
   },
   {
    "duration": 39,
    "start_time": "2021-07-07T18:46:31.851Z"
   },
   {
    "duration": 24,
    "start_time": "2021-07-07T18:46:31.892Z"
   },
   {
    "duration": 15,
    "start_time": "2021-07-07T18:46:31.918Z"
   },
   {
    "duration": 7,
    "start_time": "2021-07-07T18:46:31.936Z"
   },
   {
    "duration": 8,
    "start_time": "2021-07-07T18:46:31.944Z"
   },
   {
    "duration": 19,
    "start_time": "2021-07-07T18:46:31.984Z"
   },
   {
    "duration": 10,
    "start_time": "2021-07-07T18:46:32.004Z"
   },
   {
    "duration": 5,
    "start_time": "2021-07-07T18:46:32.016Z"
   },
   {
    "duration": 9,
    "start_time": "2021-07-07T18:46:32.023Z"
   },
   {
    "duration": 199,
    "start_time": "2021-07-07T18:46:32.033Z"
   },
   {
    "duration": 19,
    "start_time": "2021-07-07T18:46:32.234Z"
   },
   {
    "duration": 159,
    "start_time": "2021-07-07T18:46:32.255Z"
   },
   {
    "duration": 134,
    "start_time": "2021-07-07T18:46:32.416Z"
   },
   {
    "duration": 10,
    "start_time": "2021-07-07T18:46:32.552Z"
   },
   {
    "duration": 34,
    "start_time": "2021-07-07T18:46:32.563Z"
   },
   {
    "duration": 1039,
    "start_time": "2021-07-08T08:41:09.419Z"
   },
   {
    "duration": 333,
    "start_time": "2021-07-08T08:41:10.459Z"
   },
   {
    "duration": 173,
    "start_time": "2021-07-08T08:41:10.794Z"
   },
   {
    "duration": 5,
    "start_time": "2021-07-08T08:41:10.968Z"
   },
   {
    "duration": 25,
    "start_time": "2021-07-08T08:41:10.975Z"
   },
   {
    "duration": 9,
    "start_time": "2021-07-08T08:41:11.002Z"
   },
   {
    "duration": 18,
    "start_time": "2021-07-08T08:41:11.013Z"
   },
   {
    "duration": 6,
    "start_time": "2021-07-08T08:41:11.033Z"
   },
   {
    "duration": 44,
    "start_time": "2021-07-08T08:41:11.042Z"
   },
   {
    "duration": 10,
    "start_time": "2021-07-08T08:41:11.088Z"
   },
   {
    "duration": 9,
    "start_time": "2021-07-08T08:41:11.100Z"
   },
   {
    "duration": 27,
    "start_time": "2021-07-08T08:41:11.111Z"
   },
   {
    "duration": 46,
    "start_time": "2021-07-08T08:41:11.140Z"
   },
   {
    "duration": 17,
    "start_time": "2021-07-08T08:41:11.187Z"
   },
   {
    "duration": 6,
    "start_time": "2021-07-08T08:41:11.206Z"
   },
   {
    "duration": 5,
    "start_time": "2021-07-08T08:41:11.213Z"
   },
   {
    "duration": 10,
    "start_time": "2021-07-08T08:41:11.219Z"
   },
   {
    "duration": 9,
    "start_time": "2021-07-08T08:41:11.230Z"
   },
   {
    "duration": 45,
    "start_time": "2021-07-08T08:41:11.241Z"
   },
   {
    "duration": 7,
    "start_time": "2021-07-08T08:41:11.287Z"
   },
   {
    "duration": 24,
    "start_time": "2021-07-08T08:41:11.296Z"
   },
   {
    "duration": 16,
    "start_time": "2021-07-08T08:41:11.322Z"
   },
   {
    "duration": 7,
    "start_time": "2021-07-08T08:41:11.341Z"
   },
   {
    "duration": 41,
    "start_time": "2021-07-08T08:41:11.349Z"
   },
   {
    "duration": 17,
    "start_time": "2021-07-08T08:41:11.391Z"
   },
   {
    "duration": 9,
    "start_time": "2021-07-08T08:41:11.410Z"
   },
   {
    "duration": 5,
    "start_time": "2021-07-08T08:41:11.421Z"
   },
   {
    "duration": 6,
    "start_time": "2021-07-08T08:41:11.428Z"
   },
   {
    "duration": 198,
    "start_time": "2021-07-08T08:41:11.435Z"
   },
   {
    "duration": 18,
    "start_time": "2021-07-08T08:41:11.635Z"
   },
   {
    "duration": 155,
    "start_time": "2021-07-08T08:41:11.655Z"
   },
   {
    "duration": 138,
    "start_time": "2021-07-08T08:41:11.811Z"
   },
   {
    "duration": 10,
    "start_time": "2021-07-08T08:41:11.950Z"
   },
   {
    "duration": 29,
    "start_time": "2021-07-08T08:41:11.961Z"
   },
   {
    "duration": 171,
    "start_time": "2021-07-08T08:47:44.522Z"
   },
   {
    "duration": 124,
    "start_time": "2021-07-08T08:47:46.872Z"
   },
   {
    "duration": 191,
    "start_time": "2021-07-08T08:47:58.148Z"
   },
   {
    "duration": 191,
    "start_time": "2021-07-08T08:48:07.412Z"
   },
   {
    "duration": 261,
    "start_time": "2021-07-08T08:48:10.385Z"
   },
   {
    "duration": 255,
    "start_time": "2021-07-08T08:48:14.494Z"
   },
   {
    "duration": 219,
    "start_time": "2021-07-08T08:48:22.752Z"
   },
   {
    "duration": 173,
    "start_time": "2021-07-08T08:49:06.395Z"
   },
   {
    "duration": 180,
    "start_time": "2021-07-08T08:49:21.011Z"
   },
   {
    "duration": 6,
    "start_time": "2021-07-08T08:50:31.697Z"
   },
   {
    "duration": 10,
    "start_time": "2021-07-08T08:50:47.394Z"
   },
   {
    "duration": 11,
    "start_time": "2021-07-08T08:53:49.332Z"
   },
   {
    "duration": 171,
    "start_time": "2021-07-08T08:54:28.408Z"
   },
   {
    "duration": 636,
    "start_time": "2021-07-08T09:02:48.385Z"
   },
   {
    "duration": 227,
    "start_time": "2021-07-08T09:02:49.023Z"
   },
   {
    "duration": 104,
    "start_time": "2021-07-08T09:02:49.252Z"
   },
   {
    "duration": 5,
    "start_time": "2021-07-08T09:02:49.358Z"
   },
   {
    "duration": 27,
    "start_time": "2021-07-08T09:02:49.365Z"
   },
   {
    "duration": 8,
    "start_time": "2021-07-08T09:02:49.394Z"
   },
   {
    "duration": 18,
    "start_time": "2021-07-08T09:02:49.404Z"
   },
   {
    "duration": 6,
    "start_time": "2021-07-08T09:02:49.424Z"
   },
   {
    "duration": 11,
    "start_time": "2021-07-08T09:02:49.433Z"
   },
   {
    "duration": 13,
    "start_time": "2021-07-08T09:02:49.485Z"
   },
   {
    "duration": 9,
    "start_time": "2021-07-08T09:02:49.500Z"
   },
   {
    "duration": 38,
    "start_time": "2021-07-08T09:02:49.511Z"
   },
   {
    "duration": 42,
    "start_time": "2021-07-08T09:02:49.551Z"
   },
   {
    "duration": 21,
    "start_time": "2021-07-08T09:02:49.594Z"
   },
   {
    "duration": 6,
    "start_time": "2021-07-08T09:02:49.616Z"
   },
   {
    "duration": 3,
    "start_time": "2021-07-08T09:02:49.623Z"
   },
   {
    "duration": 9,
    "start_time": "2021-07-08T09:02:49.628Z"
   },
   {
    "duration": 52,
    "start_time": "2021-07-08T09:02:49.638Z"
   },
   {
    "duration": 11,
    "start_time": "2021-07-08T09:02:49.692Z"
   },
   {
    "duration": 8,
    "start_time": "2021-07-08T09:02:49.704Z"
   },
   {
    "duration": 27,
    "start_time": "2021-07-08T09:02:49.713Z"
   },
   {
    "duration": 59,
    "start_time": "2021-07-08T09:02:49.741Z"
   },
   {
    "duration": 8,
    "start_time": "2021-07-08T09:02:49.803Z"
   },
   {
    "duration": 14,
    "start_time": "2021-07-08T09:02:49.813Z"
   },
   {
    "duration": 20,
    "start_time": "2021-07-08T09:02:49.829Z"
   },
   {
    "duration": 44,
    "start_time": "2021-07-08T09:02:49.851Z"
   },
   {
    "duration": 14,
    "start_time": "2021-07-08T09:02:49.896Z"
   },
   {
    "duration": 221,
    "start_time": "2021-07-08T09:02:49.912Z"
   },
   {
    "duration": 6,
    "start_time": "2021-07-08T09:02:50.134Z"
   },
   {
    "duration": 206,
    "start_time": "2021-07-08T09:02:50.142Z"
   },
   {
    "duration": 19,
    "start_time": "2021-07-08T09:02:50.350Z"
   },
   {
    "duration": 21,
    "start_time": "2021-07-08T09:02:50.370Z"
   },
   {
    "duration": 20,
    "start_time": "2021-07-08T09:02:50.393Z"
   },
   {
    "duration": 5,
    "start_time": "2021-07-08T09:02:50.414Z"
   },
   {
    "duration": 5,
    "start_time": "2021-07-08T09:03:34.173Z"
   },
   {
    "duration": 6,
    "start_time": "2021-07-08T09:04:49.062Z"
   },
   {
    "duration": 9,
    "start_time": "2021-07-08T09:04:50.118Z"
   },
   {
    "duration": 14,
    "start_time": "2021-07-08T09:04:58.512Z"
   },
   {
    "duration": 9,
    "start_time": "2021-07-08T09:05:10.988Z"
   },
   {
    "duration": 11,
    "start_time": "2021-07-08T09:05:11.743Z"
   },
   {
    "duration": 7,
    "start_time": "2021-07-08T09:05:25.677Z"
   },
   {
    "duration": 13,
    "start_time": "2021-07-08T09:05:47.189Z"
   },
   {
    "duration": 13,
    "start_time": "2021-07-08T09:05:54.755Z"
   },
   {
    "duration": 4,
    "start_time": "2021-07-08T09:06:29.189Z"
   },
   {
    "duration": 244,
    "start_time": "2021-07-08T09:06:29.195Z"
   },
   {
    "duration": 91,
    "start_time": "2021-07-08T09:06:29.441Z"
   },
   {
    "duration": 4,
    "start_time": "2021-07-08T09:06:29.534Z"
   },
   {
    "duration": 28,
    "start_time": "2021-07-08T09:06:29.540Z"
   },
   {
    "duration": 6,
    "start_time": "2021-07-08T09:06:29.570Z"
   },
   {
    "duration": 18,
    "start_time": "2021-07-08T09:06:29.578Z"
   },
   {
    "duration": 5,
    "start_time": "2021-07-08T09:06:29.597Z"
   },
   {
    "duration": 13,
    "start_time": "2021-07-08T09:06:29.605Z"
   },
   {
    "duration": 8,
    "start_time": "2021-07-08T09:06:29.620Z"
   },
   {
    "duration": 7,
    "start_time": "2021-07-08T09:06:29.630Z"
   },
   {
    "duration": 63,
    "start_time": "2021-07-08T09:06:29.639Z"
   },
   {
    "duration": 17,
    "start_time": "2021-07-08T09:06:29.704Z"
   },
   {
    "duration": 20,
    "start_time": "2021-07-08T09:06:29.723Z"
   },
   {
    "duration": 6,
    "start_time": "2021-07-08T09:06:29.745Z"
   },
   {
    "duration": 3,
    "start_time": "2021-07-08T09:06:29.752Z"
   },
   {
    "duration": 7,
    "start_time": "2021-07-08T09:06:29.785Z"
   },
   {
    "duration": 11,
    "start_time": "2021-07-08T09:06:29.794Z"
   },
   {
    "duration": 15,
    "start_time": "2021-07-08T09:06:29.807Z"
   },
   {
    "duration": 8,
    "start_time": "2021-07-08T09:06:29.823Z"
   },
   {
    "duration": 70,
    "start_time": "2021-07-08T09:06:29.832Z"
   },
   {
    "duration": 17,
    "start_time": "2021-07-08T09:06:29.903Z"
   },
   {
    "duration": 9,
    "start_time": "2021-07-08T09:06:29.921Z"
   },
   {
    "duration": 9,
    "start_time": "2021-07-08T09:06:29.932Z"
   },
   {
    "duration": 57,
    "start_time": "2021-07-08T09:06:29.942Z"
   },
   {
    "duration": 11,
    "start_time": "2021-07-08T09:06:30.001Z"
   },
   {
    "duration": 19,
    "start_time": "2021-07-08T09:06:30.016Z"
   },
   {
    "duration": 217,
    "start_time": "2021-07-08T09:06:30.037Z"
   },
   {
    "duration": 6,
    "start_time": "2021-07-08T09:06:30.255Z"
   },
   {
    "duration": 205,
    "start_time": "2021-07-08T09:06:30.263Z"
   },
   {
    "duration": 27,
    "start_time": "2021-07-08T09:06:30.470Z"
   },
   {
    "duration": 11,
    "start_time": "2021-07-08T09:06:30.500Z"
   },
   {
    "duration": 31,
    "start_time": "2021-07-08T09:06:30.513Z"
   },
   {
    "duration": 18,
    "start_time": "2021-07-08T09:06:30.546Z"
   },
   {
    "duration": 11,
    "start_time": "2021-07-08T09:06:30.566Z"
   },
   {
    "duration": 19,
    "start_time": "2021-07-08T09:06:30.579Z"
   },
   {
    "duration": 20,
    "start_time": "2021-07-08T09:06:49.466Z"
   },
   {
    "duration": 9,
    "start_time": "2021-07-08T09:06:51.994Z"
   },
   {
    "duration": 20,
    "start_time": "2021-07-08T09:06:52.273Z"
   },
   {
    "duration": 246,
    "start_time": "2021-07-08T09:10:21.272Z"
   },
   {
    "duration": 84,
    "start_time": "2021-07-08T09:10:21.436Z"
   },
   {
    "duration": 7,
    "start_time": "2021-07-08T09:10:37.608Z"
   },
   {
    "duration": 189,
    "start_time": "2021-07-08T09:10:38.573Z"
   },
   {
    "duration": 185,
    "start_time": "2021-07-08T09:10:53.181Z"
   },
   {
    "duration": 11,
    "start_time": "2021-07-08T09:10:59.549Z"
   },
   {
    "duration": 42,
    "start_time": "2021-07-08T09:10:59.709Z"
   },
   {
    "duration": 12,
    "start_time": "2021-07-08T09:11:02.857Z"
   },
   {
    "duration": 28,
    "start_time": "2021-07-08T09:11:10.062Z"
   },
   {
    "duration": 249,
    "start_time": "2021-07-08T09:11:37.388Z"
   },
   {
    "duration": 232,
    "start_time": "2021-07-08T09:11:49.485Z"
   },
   {
    "duration": 453,
    "start_time": "2021-07-08T09:12:01.546Z"
   },
   {
    "duration": 440,
    "start_time": "2021-07-08T09:12:12.347Z"
   },
   {
    "duration": 213,
    "start_time": "2021-07-08T09:13:32.196Z"
   },
   {
    "duration": 172,
    "start_time": "2021-07-08T09:14:07.400Z"
   },
   {
    "duration": 185,
    "start_time": "2021-07-08T09:14:14.905Z"
   },
   {
    "duration": 209,
    "start_time": "2021-07-08T09:14:40.109Z"
   },
   {
    "duration": 201,
    "start_time": "2021-07-08T09:14:54.506Z"
   },
   {
    "duration": 622,
    "start_time": "2021-07-08T09:18:14.497Z"
   },
   {
    "duration": 220,
    "start_time": "2021-07-08T09:18:15.121Z"
   },
   {
    "duration": 79,
    "start_time": "2021-07-08T09:18:15.343Z"
   },
   {
    "duration": 4,
    "start_time": "2021-07-08T09:18:15.425Z"
   },
   {
    "duration": 24,
    "start_time": "2021-07-08T09:18:15.431Z"
   },
   {
    "duration": 8,
    "start_time": "2021-07-08T09:18:15.457Z"
   },
   {
    "duration": 16,
    "start_time": "2021-07-08T09:18:15.466Z"
   },
   {
    "duration": 5,
    "start_time": "2021-07-08T09:18:15.484Z"
   },
   {
    "duration": 10,
    "start_time": "2021-07-08T09:18:15.493Z"
   },
   {
    "duration": 8,
    "start_time": "2021-07-08T09:18:15.504Z"
   },
   {
    "duration": 7,
    "start_time": "2021-07-08T09:18:15.513Z"
   },
   {
    "duration": 26,
    "start_time": "2021-07-08T09:18:15.522Z"
   },
   {
    "duration": 49,
    "start_time": "2021-07-08T09:18:15.550Z"
   },
   {
    "duration": 21,
    "start_time": "2021-07-08T09:18:15.601Z"
   },
   {
    "duration": 8,
    "start_time": "2021-07-08T09:18:15.624Z"
   },
   {
    "duration": 3,
    "start_time": "2021-07-08T09:18:15.634Z"
   },
   {
    "duration": 8,
    "start_time": "2021-07-08T09:18:15.639Z"
   },
   {
    "duration": 45,
    "start_time": "2021-07-08T09:18:15.649Z"
   },
   {
    "duration": 13,
    "start_time": "2021-07-08T09:18:15.696Z"
   },
   {
    "duration": 10,
    "start_time": "2021-07-08T09:18:15.711Z"
   },
   {
    "duration": 64,
    "start_time": "2021-07-08T09:18:15.722Z"
   },
   {
    "duration": 19,
    "start_time": "2021-07-08T09:18:15.788Z"
   },
   {
    "duration": 9,
    "start_time": "2021-07-08T09:18:15.809Z"
   },
   {
    "duration": 9,
    "start_time": "2021-07-08T09:18:15.820Z"
   },
   {
    "duration": 18,
    "start_time": "2021-07-08T09:18:15.831Z"
   },
   {
    "duration": 43,
    "start_time": "2021-07-08T09:18:15.851Z"
   },
   {
    "duration": 12,
    "start_time": "2021-07-08T09:18:15.897Z"
   },
   {
    "duration": 219,
    "start_time": "2021-07-08T09:18:15.911Z"
   },
   {
    "duration": 8,
    "start_time": "2021-07-08T09:18:16.132Z"
   },
   {
    "duration": 199,
    "start_time": "2021-07-08T09:18:16.141Z"
   },
   {
    "duration": 18,
    "start_time": "2021-07-08T09:18:16.341Z"
   },
   {
    "duration": 24,
    "start_time": "2021-07-08T09:18:16.361Z"
   },
   {
    "duration": 24,
    "start_time": "2021-07-08T09:18:16.387Z"
   },
   {
    "duration": 211,
    "start_time": "2021-07-08T09:18:16.413Z"
   },
   {
    "duration": 18,
    "start_time": "2021-07-08T09:18:16.626Z"
   },
   {
    "duration": 596,
    "start_time": "2021-07-08T10:06:33.623Z"
   },
   {
    "duration": 181,
    "start_time": "2021-07-08T10:06:34.221Z"
   },
   {
    "duration": 176,
    "start_time": "2021-07-08T10:06:34.635Z"
   },
   {
    "duration": 239,
    "start_time": "2021-07-08T10:06:55.572Z"
   },
   {
    "duration": 6,
    "start_time": "2021-07-08T10:06:57.687Z"
   },
   {
    "duration": 4,
    "start_time": "2021-07-08T10:07:03.956Z"
   },
   {
    "duration": 4,
    "start_time": "2021-07-08T10:07:10.376Z"
   },
   {
    "duration": 4,
    "start_time": "2021-07-08T10:17:19.889Z"
   },
   {
    "duration": 3,
    "start_time": "2021-07-08T10:19:19.407Z"
   },
   {
    "duration": 197,
    "start_time": "2021-07-08T10:19:19.412Z"
   },
   {
    "duration": 127,
    "start_time": "2021-07-08T10:19:19.611Z"
   },
   {
    "duration": 4,
    "start_time": "2021-07-08T10:19:19.740Z"
   },
   {
    "duration": 27,
    "start_time": "2021-07-08T10:19:19.746Z"
   },
   {
    "duration": 7,
    "start_time": "2021-07-08T10:19:19.775Z"
   },
   {
    "duration": 30,
    "start_time": "2021-07-08T10:19:19.784Z"
   },
   {
    "duration": 7,
    "start_time": "2021-07-08T10:19:19.817Z"
   },
   {
    "duration": 26,
    "start_time": "2021-07-08T10:19:19.826Z"
   },
   {
    "duration": 18,
    "start_time": "2021-07-08T10:19:19.854Z"
   },
   {
    "duration": 14,
    "start_time": "2021-07-08T10:19:19.874Z"
   },
   {
    "duration": 48,
    "start_time": "2021-07-08T10:19:19.890Z"
   },
   {
    "duration": 17,
    "start_time": "2021-07-08T10:19:19.940Z"
   },
   {
    "duration": 38,
    "start_time": "2021-07-08T10:19:19.959Z"
   },
   {
    "duration": 8,
    "start_time": "2021-07-08T10:19:19.999Z"
   },
   {
    "duration": 15,
    "start_time": "2021-07-08T10:19:20.009Z"
   },
   {
    "duration": 22,
    "start_time": "2021-07-08T10:19:20.026Z"
   },
   {
    "duration": 10,
    "start_time": "2021-07-08T10:19:20.050Z"
   },
   {
    "duration": 10,
    "start_time": "2021-07-08T10:19:20.062Z"
   },
   {
    "duration": 20,
    "start_time": "2021-07-08T10:19:20.073Z"
   },
   {
    "duration": 29,
    "start_time": "2021-07-08T10:19:20.095Z"
   },
   {
    "duration": 17,
    "start_time": "2021-07-08T10:19:20.126Z"
   },
   {
    "duration": 40,
    "start_time": "2021-07-08T10:19:20.146Z"
   },
   {
    "duration": 15,
    "start_time": "2021-07-08T10:19:20.189Z"
   },
   {
    "duration": 19,
    "start_time": "2021-07-08T10:19:20.206Z"
   },
   {
    "duration": 10,
    "start_time": "2021-07-08T10:19:20.226Z"
   },
   {
    "duration": 11,
    "start_time": "2021-07-08T10:19:20.238Z"
   },
   {
    "duration": 297,
    "start_time": "2021-07-08T10:19:20.250Z"
   },
   {
    "duration": 6,
    "start_time": "2021-07-08T10:19:20.549Z"
   },
   {
    "duration": 191,
    "start_time": "2021-07-08T10:19:20.557Z"
   },
   {
    "duration": 19,
    "start_time": "2021-07-08T10:19:20.750Z"
   },
   {
    "duration": 20,
    "start_time": "2021-07-08T10:19:20.771Z"
   },
   {
    "duration": 15,
    "start_time": "2021-07-08T10:19:20.793Z"
   },
   {
    "duration": 222,
    "start_time": "2021-07-08T10:19:20.809Z"
   },
   {
    "duration": 20,
    "start_time": "2021-07-08T10:19:21.033Z"
   },
   {
    "duration": 27,
    "start_time": "2021-07-08T10:45:04.055Z"
   },
   {
    "duration": 8,
    "start_time": "2021-07-08T10:45:08.478Z"
   },
   {
    "duration": 8,
    "start_time": "2021-07-08T10:45:31.982Z"
   },
   {
    "duration": 10,
    "start_time": "2021-07-08T10:46:01.221Z"
   },
   {
    "duration": 17,
    "start_time": "2021-07-08T10:46:40.011Z"
   },
   {
    "duration": 193,
    "start_time": "2021-07-08T10:48:19.471Z"
   },
   {
    "duration": 225,
    "start_time": "2021-07-08T10:49:26.480Z"
   },
   {
    "duration": 204,
    "start_time": "2021-07-08T10:49:59.992Z"
   },
   {
    "duration": 435,
    "start_time": "2021-07-08T10:50:06.779Z"
   },
   {
    "duration": 199,
    "start_time": "2021-07-08T10:50:14.891Z"
   },
   {
    "duration": 204,
    "start_time": "2021-07-08T10:50:18.501Z"
   },
   {
    "duration": 244,
    "start_time": "2021-07-08T10:50:23.359Z"
   },
   {
    "duration": 192,
    "start_time": "2021-07-08T10:50:29.135Z"
   },
   {
    "duration": 218,
    "start_time": "2021-07-08T10:50:33.092Z"
   },
   {
    "duration": 207,
    "start_time": "2021-07-08T10:52:45.381Z"
   },
   {
    "duration": 5,
    "start_time": "2021-07-08T10:53:34.641Z"
   },
   {
    "duration": 196,
    "start_time": "2021-07-08T10:53:41.478Z"
   },
   {
    "duration": 43,
    "start_time": "2021-07-08T10:53:50.335Z"
   },
   {
    "duration": 32,
    "start_time": "2021-07-08T10:53:55.294Z"
   },
   {
    "duration": 55,
    "start_time": "2021-07-08T10:54:09.675Z"
   },
   {
    "duration": 16,
    "start_time": "2021-07-08T10:54:12.260Z"
   },
   {
    "duration": 15,
    "start_time": "2021-07-08T10:54:49.150Z"
   },
   {
    "duration": 20,
    "start_time": "2021-07-08T10:56:07.596Z"
   },
   {
    "duration": 16,
    "start_time": "2021-07-08T10:58:26.276Z"
   },
   {
    "duration": 22,
    "start_time": "2021-07-08T10:59:00.486Z"
   },
   {
    "duration": 18,
    "start_time": "2021-07-08T11:02:09.653Z"
   },
   {
    "duration": 10,
    "start_time": "2021-07-08T11:03:44.331Z"
   },
   {
    "duration": 10,
    "start_time": "2021-07-08T11:03:54.055Z"
   },
   {
    "duration": 12,
    "start_time": "2021-07-08T11:04:41.967Z"
   },
   {
    "duration": 24,
    "start_time": "2021-07-08T11:07:30.732Z"
   },
   {
    "duration": 6,
    "start_time": "2021-07-08T11:07:37.364Z"
   },
   {
    "duration": 16,
    "start_time": "2021-07-08T11:08:01.819Z"
   },
   {
    "duration": 17,
    "start_time": "2021-07-08T11:09:47.488Z"
   },
   {
    "duration": 246,
    "start_time": "2021-07-08T11:10:00.830Z"
   },
   {
    "duration": 18,
    "start_time": "2021-07-08T11:13:55.195Z"
   },
   {
    "duration": 204,
    "start_time": "2021-07-08T11:14:04.951Z"
   },
   {
    "duration": 19,
    "start_time": "2021-07-08T11:15:10.613Z"
   },
   {
    "duration": 680,
    "start_time": "2021-07-08T11:16:25.793Z"
   },
   {
    "duration": 451,
    "start_time": "2021-07-08T11:16:40.313Z"
   },
   {
    "duration": 469,
    "start_time": "2021-07-08T11:17:21.286Z"
   },
   {
    "duration": 20,
    "start_time": "2021-07-08T11:19:12.554Z"
   },
   {
    "duration": 35,
    "start_time": "2021-07-08T11:20:05.484Z"
   },
   {
    "duration": 53,
    "start_time": "2021-07-08T11:21:40.050Z"
   },
   {
    "duration": 13,
    "start_time": "2021-07-08T11:22:26.059Z"
   },
   {
    "duration": 19,
    "start_time": "2021-07-08T11:22:47.419Z"
   },
   {
    "duration": 25,
    "start_time": "2021-07-08T11:23:19.958Z"
   },
   {
    "duration": 29,
    "start_time": "2021-07-08T11:23:25.415Z"
   },
   {
    "duration": 10,
    "start_time": "2021-07-08T11:24:45.138Z"
   },
   {
    "duration": 19,
    "start_time": "2021-07-08T11:24:54.498Z"
   },
   {
    "duration": 12,
    "start_time": "2021-07-08T11:25:32.225Z"
   },
   {
    "duration": 19,
    "start_time": "2021-07-08T11:25:37.092Z"
   },
   {
    "duration": 17,
    "start_time": "2021-07-08T11:25:58.116Z"
   },
   {
    "duration": 15,
    "start_time": "2021-07-08T11:26:02.258Z"
   },
   {
    "duration": 8,
    "start_time": "2021-07-08T11:26:59.682Z"
   },
   {
    "duration": 184,
    "start_time": "2021-07-08T11:27:21.894Z"
   },
   {
    "duration": 8,
    "start_time": "2021-07-08T11:27:23.824Z"
   },
   {
    "duration": 202,
    "start_time": "2021-07-08T11:27:23.962Z"
   },
   {
    "duration": 360,
    "start_time": "2021-07-08T11:28:33.215Z"
   },
   {
    "duration": 231,
    "start_time": "2021-07-08T11:32:05.542Z"
   },
   {
    "duration": 607,
    "start_time": "2021-07-08T11:36:27.854Z"
   },
   {
    "duration": 241,
    "start_time": "2021-07-08T11:36:28.463Z"
   },
   {
    "duration": 67,
    "start_time": "2021-07-08T11:36:28.709Z"
   },
   {
    "duration": 5,
    "start_time": "2021-07-08T11:36:28.778Z"
   },
   {
    "duration": 32,
    "start_time": "2021-07-08T11:36:28.784Z"
   },
   {
    "duration": 11,
    "start_time": "2021-07-08T11:36:28.819Z"
   },
   {
    "duration": 20,
    "start_time": "2021-07-08T11:36:28.834Z"
   },
   {
    "duration": 36,
    "start_time": "2021-07-08T11:36:28.857Z"
   },
   {
    "duration": 16,
    "start_time": "2021-07-08T11:36:28.895Z"
   },
   {
    "duration": 14,
    "start_time": "2021-07-08T11:36:28.913Z"
   },
   {
    "duration": 9,
    "start_time": "2021-07-08T11:36:28.930Z"
   },
   {
    "duration": 55,
    "start_time": "2021-07-08T11:36:28.941Z"
   },
   {
    "duration": 27,
    "start_time": "2021-07-08T11:36:28.999Z"
   },
   {
    "duration": 30,
    "start_time": "2021-07-08T11:36:29.028Z"
   },
   {
    "duration": 31,
    "start_time": "2021-07-08T11:36:29.060Z"
   },
   {
    "duration": 3,
    "start_time": "2021-07-08T11:36:29.093Z"
   },
   {
    "duration": 12,
    "start_time": "2021-07-08T11:36:29.099Z"
   },
   {
    "duration": 11,
    "start_time": "2021-07-08T11:36:29.112Z"
   },
   {
    "duration": 12,
    "start_time": "2021-07-08T11:36:29.125Z"
   },
   {
    "duration": 9,
    "start_time": "2021-07-08T11:36:29.139Z"
   },
   {
    "duration": 31,
    "start_time": "2021-07-08T11:36:29.191Z"
   },
   {
    "duration": 17,
    "start_time": "2021-07-08T11:36:29.226Z"
   },
   {
    "duration": 7,
    "start_time": "2021-07-08T11:36:29.245Z"
   },
   {
    "duration": 10,
    "start_time": "2021-07-08T11:36:29.254Z"
   },
   {
    "duration": 30,
    "start_time": "2021-07-08T11:36:29.292Z"
   },
   {
    "duration": 11,
    "start_time": "2021-07-08T11:36:29.324Z"
   },
   {
    "duration": 11,
    "start_time": "2021-07-08T11:36:29.337Z"
   },
   {
    "duration": 230,
    "start_time": "2021-07-08T11:36:29.349Z"
   },
   {
    "duration": 13,
    "start_time": "2021-07-08T11:36:29.588Z"
   },
   {
    "duration": 205,
    "start_time": "2021-07-08T11:36:29.603Z"
   },
   {
    "duration": 20,
    "start_time": "2021-07-08T11:36:29.810Z"
   },
   {
    "duration": 9,
    "start_time": "2021-07-08T11:36:29.832Z"
   },
   {
    "duration": 16,
    "start_time": "2021-07-08T11:36:29.843Z"
   },
   {
    "duration": 283,
    "start_time": "2021-07-08T11:36:29.861Z"
   },
   {
    "duration": 50,
    "start_time": "2021-07-08T11:36:30.146Z"
   },
   {
    "duration": 14,
    "start_time": "2021-07-08T11:36:30.198Z"
   },
   {
    "duration": 11,
    "start_time": "2021-07-08T11:36:30.214Z"
   },
   {
    "duration": 245,
    "start_time": "2021-07-08T11:36:30.227Z"
   },
   {
    "duration": 439,
    "start_time": "2021-07-08T11:36:30.474Z"
   },
   {
    "duration": 210,
    "start_time": "2021-07-08T11:36:30.915Z"
   },
   {
    "duration": 15,
    "start_time": "2021-07-08T11:36:31.127Z"
   },
   {
    "duration": 17,
    "start_time": "2021-07-08T11:38:20.451Z"
   },
   {
    "duration": 642,
    "start_time": "2021-07-08T11:46:17.881Z"
   },
   {
    "duration": 210,
    "start_time": "2021-07-08T11:46:18.525Z"
   },
   {
    "duration": 104,
    "start_time": "2021-07-08T11:46:18.741Z"
   },
   {
    "duration": 8,
    "start_time": "2021-07-08T11:46:18.847Z"
   },
   {
    "duration": 25,
    "start_time": "2021-07-08T11:46:18.857Z"
   },
   {
    "duration": 14,
    "start_time": "2021-07-08T11:46:18.884Z"
   },
   {
    "duration": 22,
    "start_time": "2021-07-08T11:46:18.900Z"
   },
   {
    "duration": 5,
    "start_time": "2021-07-08T11:46:18.924Z"
   },
   {
    "duration": 13,
    "start_time": "2021-07-08T11:46:18.931Z"
   },
   {
    "duration": 45,
    "start_time": "2021-07-08T11:46:18.946Z"
   },
   {
    "duration": 12,
    "start_time": "2021-07-08T11:46:18.993Z"
   },
   {
    "duration": 38,
    "start_time": "2021-07-08T11:46:19.006Z"
   },
   {
    "duration": 50,
    "start_time": "2021-07-08T11:46:19.046Z"
   },
   {
    "duration": 29,
    "start_time": "2021-07-08T11:46:19.099Z"
   },
   {
    "duration": 7,
    "start_time": "2021-07-08T11:46:19.130Z"
   },
   {
    "duration": 3,
    "start_time": "2021-07-08T11:46:19.139Z"
   },
   {
    "duration": 11,
    "start_time": "2021-07-08T11:46:19.144Z"
   },
   {
    "duration": 40,
    "start_time": "2021-07-08T11:46:19.157Z"
   },
   {
    "duration": 15,
    "start_time": "2021-07-08T11:46:19.199Z"
   },
   {
    "duration": 10,
    "start_time": "2021-07-08T11:46:19.217Z"
   },
   {
    "duration": 68,
    "start_time": "2021-07-08T11:46:19.230Z"
   },
   {
    "duration": 17,
    "start_time": "2021-07-08T11:46:19.301Z"
   },
   {
    "duration": 7,
    "start_time": "2021-07-08T11:46:19.321Z"
   },
   {
    "duration": 11,
    "start_time": "2021-07-08T11:46:19.330Z"
   },
   {
    "duration": 59,
    "start_time": "2021-07-08T11:46:19.343Z"
   },
   {
    "duration": 17,
    "start_time": "2021-07-08T11:46:19.405Z"
   },
   {
    "duration": 16,
    "start_time": "2021-07-08T11:46:19.424Z"
   },
   {
    "duration": 252,
    "start_time": "2021-07-08T11:46:19.443Z"
   },
   {
    "duration": 9,
    "start_time": "2021-07-08T11:46:19.697Z"
   },
   {
    "duration": 224,
    "start_time": "2021-07-08T11:46:19.708Z"
   },
   {
    "duration": 21,
    "start_time": "2021-07-08T11:46:19.934Z"
   },
   {
    "duration": 9,
    "start_time": "2021-07-08T11:46:19.956Z"
   },
   {
    "duration": 32,
    "start_time": "2021-07-08T11:46:19.967Z"
   },
   {
    "duration": 288,
    "start_time": "2021-07-08T11:46:20.004Z"
   },
   {
    "duration": 23,
    "start_time": "2021-07-08T11:46:20.300Z"
   },
   {
    "duration": 11,
    "start_time": "2021-07-08T11:46:20.325Z"
   },
   {
    "duration": 11,
    "start_time": "2021-07-08T11:46:20.339Z"
   },
   {
    "duration": 259,
    "start_time": "2021-07-08T11:46:20.352Z"
   },
   {
    "duration": 438,
    "start_time": "2021-07-08T11:46:20.613Z"
   },
   {
    "duration": 207,
    "start_time": "2021-07-08T11:46:21.054Z"
   },
   {
    "duration": 27,
    "start_time": "2021-07-08T11:46:21.262Z"
   },
   {
    "duration": 19,
    "start_time": "2021-07-08T11:46:21.291Z"
   },
   {
    "duration": 820,
    "start_time": "2021-07-08T11:49:01.655Z"
   },
   {
    "duration": 372,
    "start_time": "2021-07-08T11:49:02.478Z"
   },
   {
    "duration": 98,
    "start_time": "2021-07-08T11:49:02.853Z"
   },
   {
    "duration": 6,
    "start_time": "2021-07-08T11:49:02.953Z"
   },
   {
    "duration": 39,
    "start_time": "2021-07-08T11:49:02.960Z"
   },
   {
    "duration": 9,
    "start_time": "2021-07-08T11:49:03.003Z"
   },
   {
    "duration": 23,
    "start_time": "2021-07-08T11:49:03.014Z"
   },
   {
    "duration": 6,
    "start_time": "2021-07-08T11:49:03.041Z"
   },
   {
    "duration": 20,
    "start_time": "2021-07-08T11:49:03.049Z"
   },
   {
    "duration": 18,
    "start_time": "2021-07-08T11:49:03.084Z"
   },
   {
    "duration": 14,
    "start_time": "2021-07-08T11:49:03.104Z"
   },
   {
    "duration": 39,
    "start_time": "2021-07-08T11:49:03.119Z"
   },
   {
    "duration": 38,
    "start_time": "2021-07-08T11:49:03.160Z"
   },
   {
    "duration": 26,
    "start_time": "2021-07-08T11:49:03.200Z"
   },
   {
    "duration": 7,
    "start_time": "2021-07-08T11:49:03.227Z"
   },
   {
    "duration": 4,
    "start_time": "2021-07-08T11:49:03.236Z"
   },
   {
    "duration": 15,
    "start_time": "2021-07-08T11:49:03.243Z"
   },
   {
    "duration": 21,
    "start_time": "2021-07-08T11:49:03.285Z"
   },
   {
    "duration": 17,
    "start_time": "2021-07-08T11:49:03.309Z"
   },
   {
    "duration": 10,
    "start_time": "2021-07-08T11:49:03.328Z"
   },
   {
    "duration": 65,
    "start_time": "2021-07-08T11:49:03.340Z"
   },
   {
    "duration": 18,
    "start_time": "2021-07-08T11:49:03.407Z"
   },
   {
    "duration": 8,
    "start_time": "2021-07-08T11:49:03.428Z"
   },
   {
    "duration": 15,
    "start_time": "2021-07-08T11:49:03.438Z"
   },
   {
    "duration": 40,
    "start_time": "2021-07-08T11:49:03.455Z"
   },
   {
    "duration": 12,
    "start_time": "2021-07-08T11:49:03.497Z"
   },
   {
    "duration": 29,
    "start_time": "2021-07-08T11:49:03.511Z"
   },
   {
    "duration": 285,
    "start_time": "2021-07-08T11:49:03.542Z"
   },
   {
    "duration": 8,
    "start_time": "2021-07-08T11:49:03.829Z"
   },
   {
    "duration": 227,
    "start_time": "2021-07-08T11:49:03.838Z"
   },
   {
    "duration": 40,
    "start_time": "2021-07-08T11:49:04.066Z"
   },
   {
    "duration": 10,
    "start_time": "2021-07-08T11:49:04.108Z"
   },
   {
    "duration": 26,
    "start_time": "2021-07-08T11:49:04.121Z"
   },
   {
    "duration": 290,
    "start_time": "2021-07-08T11:49:04.149Z"
   },
   {
    "duration": 26,
    "start_time": "2021-07-08T11:49:04.441Z"
   },
   {
    "duration": 31,
    "start_time": "2021-07-08T11:49:04.470Z"
   },
   {
    "duration": 14,
    "start_time": "2021-07-08T11:49:04.503Z"
   },
   {
    "duration": 259,
    "start_time": "2021-07-08T11:49:04.521Z"
   },
   {
    "duration": 480,
    "start_time": "2021-07-08T11:49:04.782Z"
   },
   {
    "duration": 225,
    "start_time": "2021-07-08T11:49:05.264Z"
   },
   {
    "duration": 22,
    "start_time": "2021-07-08T11:49:05.491Z"
   },
   {
    "duration": 24,
    "start_time": "2021-07-08T11:49:05.515Z"
   },
   {
    "duration": 634,
    "start_time": "2021-07-08T11:52:24.960Z"
   },
   {
    "duration": 199,
    "start_time": "2021-07-08T11:52:25.599Z"
   },
   {
    "duration": 106,
    "start_time": "2021-07-08T11:52:25.803Z"
   },
   {
    "duration": 7,
    "start_time": "2021-07-08T11:52:25.911Z"
   },
   {
    "duration": 29,
    "start_time": "2021-07-08T11:52:25.920Z"
   },
   {
    "duration": 7,
    "start_time": "2021-07-08T11:52:25.951Z"
   },
   {
    "duration": 26,
    "start_time": "2021-07-08T11:52:25.961Z"
   },
   {
    "duration": 11,
    "start_time": "2021-07-08T11:52:25.990Z"
   },
   {
    "duration": 29,
    "start_time": "2021-07-08T11:52:26.005Z"
   },
   {
    "duration": 9,
    "start_time": "2021-07-08T11:52:26.036Z"
   },
   {
    "duration": 8,
    "start_time": "2021-07-08T11:52:26.047Z"
   },
   {
    "duration": 63,
    "start_time": "2021-07-08T11:52:26.057Z"
   },
   {
    "duration": 17,
    "start_time": "2021-07-08T11:52:26.122Z"
   },
   {
    "duration": 43,
    "start_time": "2021-07-08T11:52:26.142Z"
   },
   {
    "duration": 17,
    "start_time": "2021-07-08T11:52:26.187Z"
   },
   {
    "duration": 5,
    "start_time": "2021-07-08T11:52:26.206Z"
   },
   {
    "duration": 12,
    "start_time": "2021-07-08T11:52:26.212Z"
   },
   {
    "duration": 11,
    "start_time": "2021-07-08T11:52:26.226Z"
   },
   {
    "duration": 12,
    "start_time": "2021-07-08T11:52:26.238Z"
   },
   {
    "duration": 38,
    "start_time": "2021-07-08T11:52:26.252Z"
   },
   {
    "duration": 40,
    "start_time": "2021-07-08T11:52:26.292Z"
   },
   {
    "duration": 17,
    "start_time": "2021-07-08T11:52:26.336Z"
   },
   {
    "duration": 39,
    "start_time": "2021-07-08T11:52:26.355Z"
   },
   {
    "duration": 11,
    "start_time": "2021-07-08T11:52:26.395Z"
   },
   {
    "duration": 23,
    "start_time": "2021-07-08T11:52:26.408Z"
   },
   {
    "duration": 12,
    "start_time": "2021-07-08T11:52:26.432Z"
   },
   {
    "duration": 41,
    "start_time": "2021-07-08T11:52:26.446Z"
   },
   {
    "duration": 215,
    "start_time": "2021-07-08T11:52:26.493Z"
   },
   {
    "duration": 8,
    "start_time": "2021-07-08T11:52:26.710Z"
   },
   {
    "duration": 228,
    "start_time": "2021-07-08T11:52:26.720Z"
   },
   {
    "duration": 18,
    "start_time": "2021-07-08T11:52:26.950Z"
   },
   {
    "duration": 35,
    "start_time": "2021-07-08T11:52:26.969Z"
   },
   {
    "duration": 23,
    "start_time": "2021-07-08T11:52:27.006Z"
   },
   {
    "duration": 258,
    "start_time": "2021-07-08T11:52:27.030Z"
   },
   {
    "duration": 24,
    "start_time": "2021-07-08T11:52:27.290Z"
   },
   {
    "duration": 12,
    "start_time": "2021-07-08T11:52:27.316Z"
   },
   {
    "duration": 10,
    "start_time": "2021-07-08T11:52:27.329Z"
   },
   {
    "duration": 298,
    "start_time": "2021-07-08T11:52:27.341Z"
   },
   {
    "duration": 436,
    "start_time": "2021-07-08T11:52:27.641Z"
   },
   {
    "duration": 216,
    "start_time": "2021-07-08T11:52:28.079Z"
   },
   {
    "duration": 20,
    "start_time": "2021-07-08T11:52:28.297Z"
   },
   {
    "duration": 17,
    "start_time": "2021-07-08T11:52:28.319Z"
   },
   {
    "duration": 1087,
    "start_time": "2021-11-17T15:58:56.232Z"
   },
   {
    "duration": 136,
    "start_time": "2021-11-17T15:59:35.388Z"
   },
   {
    "duration": 122,
    "start_time": "2021-11-17T16:00:02.353Z"
   },
   {
    "duration": 127,
    "start_time": "2021-11-17T16:00:39.971Z"
   },
   {
    "duration": 141,
    "start_time": "2021-11-17T16:05:09.277Z"
   },
   {
    "duration": 137,
    "start_time": "2021-11-17T16:05:22.926Z"
   },
   {
    "duration": 122,
    "start_time": "2021-11-17T16:06:26.369Z"
   },
   {
    "duration": 589,
    "start_time": "2021-11-17T16:18:29.883Z"
   },
   {
    "duration": 256,
    "start_time": "2021-11-17T16:20:49.882Z"
   },
   {
    "duration": -15,
    "start_time": "2021-11-17T16:21:02.759Z"
   },
   {
    "duration": 171,
    "start_time": "2021-11-17T16:21:10.786Z"
   },
   {
    "duration": 11,
    "start_time": "2021-11-17T16:21:21.856Z"
   },
   {
    "duration": 8,
    "start_time": "2021-11-17T16:21:40.248Z"
   },
   {
    "duration": 5,
    "start_time": "2021-11-17T16:28:44.323Z"
   },
   {
    "duration": 249,
    "start_time": "2021-11-17T16:29:31.600Z"
   },
   {
    "duration": 3,
    "start_time": "2021-11-17T16:31:33.647Z"
   },
   {
    "duration": 686,
    "start_time": "2021-11-17T16:33:24.813Z"
   },
   {
    "duration": 713,
    "start_time": "2021-11-17T16:33:39.550Z"
   },
   {
    "duration": 1527,
    "start_time": "2021-11-17T16:34:19.565Z"
   },
   {
    "duration": 214,
    "start_time": "2021-11-17T16:35:02.297Z"
   },
   {
    "duration": 8,
    "start_time": "2021-11-17T16:35:16.336Z"
   },
   {
    "duration": 10,
    "start_time": "2021-11-17T16:35:27.484Z"
   },
   {
    "duration": 13,
    "start_time": "2021-11-17T16:38:53.963Z"
   },
   {
    "duration": 1187,
    "start_time": "2021-11-17T16:39:03.813Z"
   },
   {
    "duration": 15,
    "start_time": "2021-11-17T16:39:05.002Z"
   },
   {
    "duration": 12,
    "start_time": "2021-11-17T16:39:05.018Z"
   },
   {
    "duration": 56,
    "start_time": "2021-11-17T16:39:05.031Z"
   },
   {
    "duration": -21,
    "start_time": "2021-11-17T16:39:05.110Z"
   },
   {
    "duration": 2,
    "start_time": "2021-11-17T16:40:56.234Z"
   },
   {
    "duration": 482,
    "start_time": "2021-11-17T16:42:41.535Z"
   },
   {
    "duration": 32,
    "start_time": "2021-11-17T16:43:40.289Z"
   },
   {
    "duration": 24,
    "start_time": "2021-11-17T16:43:59.973Z"
   },
   {
    "duration": 5,
    "start_time": "2021-11-17T16:46:09.636Z"
   },
   {
    "duration": 17,
    "start_time": "2021-11-17T16:46:29.594Z"
   },
   {
    "duration": 5,
    "start_time": "2021-11-17T16:46:36.181Z"
   },
   {
    "duration": 11,
    "start_time": "2021-11-17T16:47:58.078Z"
   },
   {
    "duration": 1158,
    "start_time": "2021-11-17T16:48:20.137Z"
   },
   {
    "duration": 15,
    "start_time": "2021-11-17T16:48:21.296Z"
   },
   {
    "duration": 11,
    "start_time": "2021-11-17T16:48:21.313Z"
   },
   {
    "duration": 22,
    "start_time": "2021-11-17T16:48:21.325Z"
   },
   {
    "duration": 4,
    "start_time": "2021-11-17T16:48:21.349Z"
   },
   {
    "duration": 38,
    "start_time": "2021-11-17T16:48:21.355Z"
   },
   {
    "duration": 267,
    "start_time": "2021-11-17T16:54:04.361Z"
   },
   {
    "duration": 179,
    "start_time": "2021-11-17T16:54:22.382Z"
   },
   {
    "duration": 3964,
    "start_time": "2021-11-17T16:56:16.934Z"
   },
   {
    "duration": 61,
    "start_time": "2021-11-17T16:56:37.693Z"
   },
   {
    "duration": 3303,
    "start_time": "2021-11-17T16:56:41.514Z"
   },
   {
    "duration": 21,
    "start_time": "2021-11-17T17:00:34.205Z"
   },
   {
    "duration": 10,
    "start_time": "2021-11-17T17:01:11.028Z"
   },
   {
    "duration": 20,
    "start_time": "2021-11-17T17:07:14.793Z"
   },
   {
    "duration": 12,
    "start_time": "2021-11-17T17:07:23.954Z"
   },
   {
    "duration": 1198,
    "start_time": "2021-11-17T17:07:40.145Z"
   },
   {
    "duration": 16,
    "start_time": "2021-11-17T17:07:41.345Z"
   },
   {
    "duration": 12,
    "start_time": "2021-11-17T17:07:41.363Z"
   },
   {
    "duration": 28,
    "start_time": "2021-11-17T17:07:41.377Z"
   },
   {
    "duration": 4,
    "start_time": "2021-11-17T17:07:41.407Z"
   },
   {
    "duration": 21,
    "start_time": "2021-11-17T17:07:41.413Z"
   },
   {
    "duration": 21,
    "start_time": "2021-11-17T17:07:41.435Z"
   },
   {
    "duration": 10,
    "start_time": "2021-11-17T17:07:41.458Z"
   },
   {
    "duration": 22,
    "start_time": "2021-11-17T17:08:25.053Z"
   },
   {
    "duration": 11,
    "start_time": "2021-11-17T17:08:28.820Z"
   },
   {
    "duration": 1237,
    "start_time": "2021-11-17T17:08:39.606Z"
   },
   {
    "duration": 16,
    "start_time": "2021-11-17T17:08:40.845Z"
   },
   {
    "duration": 12,
    "start_time": "2021-11-17T17:08:40.867Z"
   },
   {
    "duration": 25,
    "start_time": "2021-11-17T17:08:40.881Z"
   },
   {
    "duration": 6,
    "start_time": "2021-11-17T17:08:40.908Z"
   },
   {
    "duration": 11,
    "start_time": "2021-11-17T17:08:40.916Z"
   },
   {
    "duration": 21,
    "start_time": "2021-11-17T17:08:40.930Z"
   },
   {
    "duration": 43,
    "start_time": "2021-11-17T17:08:40.953Z"
   },
   {
    "duration": 18,
    "start_time": "2021-11-17T17:09:16.377Z"
   },
   {
    "duration": 18,
    "start_time": "2021-11-17T17:09:22.440Z"
   },
   {
    "duration": 5,
    "start_time": "2021-11-17T17:09:28.826Z"
   },
   {
    "duration": 10,
    "start_time": "2021-11-17T17:09:32.306Z"
   },
   {
    "duration": 8,
    "start_time": "2021-11-17T17:10:51.833Z"
   },
   {
    "duration": 11,
    "start_time": "2021-11-17T17:10:54.202Z"
   },
   {
    "duration": 6,
    "start_time": "2021-11-17T17:11:49.679Z"
   },
   {
    "duration": 10,
    "start_time": "2021-11-17T17:38:26.823Z"
   },
   {
    "duration": 10,
    "start_time": "2021-11-17T17:39:12.406Z"
   },
   {
    "duration": 24,
    "start_time": "2021-11-17T17:45:52.089Z"
   },
   {
    "duration": 288,
    "start_time": "2021-11-17T17:46:08.235Z"
   },
   {
    "duration": 5,
    "start_time": "2021-11-17T17:46:27.457Z"
   },
   {
    "duration": 27,
    "start_time": "2021-11-17T17:46:37.105Z"
   },
   {
    "duration": 25,
    "start_time": "2021-11-17T17:48:44.057Z"
   },
   {
    "duration": 31,
    "start_time": "2021-11-17T17:50:34.643Z"
   },
   {
    "duration": 20,
    "start_time": "2021-11-17T17:53:02.814Z"
   },
   {
    "duration": 330,
    "start_time": "2021-11-17T17:53:23.635Z"
   },
   {
    "duration": 21,
    "start_time": "2021-11-17T17:54:17.366Z"
   },
   {
    "duration": 185,
    "start_time": "2021-11-17T17:54:27.195Z"
   },
   {
    "duration": 9,
    "start_time": "2021-11-17T17:55:47.880Z"
   },
   {
    "duration": 9,
    "start_time": "2021-11-17T17:56:33.005Z"
   },
   {
    "duration": 52,
    "start_time": "2021-11-17T17:58:35.154Z"
   },
   {
    "duration": 62,
    "start_time": "2021-11-17T17:58:50.110Z"
   },
   {
    "duration": 60,
    "start_time": "2021-11-17T17:58:59.393Z"
   },
   {
    "duration": 57,
    "start_time": "2021-11-17T17:59:02.395Z"
   },
   {
    "duration": 61,
    "start_time": "2021-11-17T17:59:06.605Z"
   },
   {
    "duration": 59,
    "start_time": "2021-11-17T17:59:09.824Z"
   },
   {
    "duration": 30,
    "start_time": "2021-11-17T17:59:27.714Z"
   },
   {
    "duration": 8,
    "start_time": "2021-11-17T17:59:52.613Z"
   },
   {
    "duration": 12,
    "start_time": "2021-11-17T18:08:11.622Z"
   },
   {
    "duration": 10,
    "start_time": "2021-11-17T18:08:19.800Z"
   },
   {
    "duration": 183,
    "start_time": "2021-11-17T18:08:41.635Z"
   },
   {
    "duration": 12,
    "start_time": "2021-11-17T18:09:39.096Z"
   },
   {
    "duration": 9,
    "start_time": "2021-11-17T18:09:40.918Z"
   },
   {
    "duration": 180,
    "start_time": "2021-11-17T18:12:08.932Z"
   },
   {
    "duration": 15,
    "start_time": "2021-11-17T18:12:24.957Z"
   },
   {
    "duration": 10,
    "start_time": "2021-11-17T18:12:26.864Z"
   },
   {
    "duration": 19,
    "start_time": "2021-11-17T18:13:56.959Z"
   },
   {
    "duration": 10,
    "start_time": "2021-11-17T18:14:00.095Z"
   },
   {
    "duration": 1253,
    "start_time": "2021-11-17T18:14:07.584Z"
   },
   {
    "duration": 17,
    "start_time": "2021-11-17T18:14:08.839Z"
   },
   {
    "duration": 13,
    "start_time": "2021-11-17T18:14:08.858Z"
   },
   {
    "duration": 26,
    "start_time": "2021-11-17T18:14:08.873Z"
   },
   {
    "duration": 6,
    "start_time": "2021-11-17T18:14:08.901Z"
   },
   {
    "duration": 11,
    "start_time": "2021-11-17T18:14:08.909Z"
   },
   {
    "duration": 11,
    "start_time": "2021-11-17T18:14:08.922Z"
   },
   {
    "duration": 10,
    "start_time": "2021-11-17T18:14:08.936Z"
   },
   {
    "duration": 55,
    "start_time": "2021-11-17T18:14:08.948Z"
   },
   {
    "duration": 9,
    "start_time": "2021-11-17T18:14:09.005Z"
   },
   {
    "duration": 20,
    "start_time": "2021-11-17T18:14:43.703Z"
   },
   {
    "duration": 1212,
    "start_time": "2021-11-17T18:14:49.434Z"
   },
   {
    "duration": 15,
    "start_time": "2021-11-17T18:14:50.648Z"
   },
   {
    "duration": 12,
    "start_time": "2021-11-17T18:14:50.667Z"
   },
   {
    "duration": 31,
    "start_time": "2021-11-17T18:14:50.680Z"
   },
   {
    "duration": 4,
    "start_time": "2021-11-17T18:14:50.713Z"
   },
   {
    "duration": 14,
    "start_time": "2021-11-17T18:14:50.719Z"
   },
   {
    "duration": 11,
    "start_time": "2021-11-17T18:14:50.735Z"
   },
   {
    "duration": 9,
    "start_time": "2021-11-17T18:14:50.748Z"
   },
   {
    "duration": 43,
    "start_time": "2021-11-17T18:14:50.758Z"
   },
   {
    "duration": 8,
    "start_time": "2021-11-17T18:14:50.803Z"
   },
   {
    "duration": 9,
    "start_time": "2021-11-17T18:14:54.714Z"
   },
   {
    "duration": 19,
    "start_time": "2021-11-17T18:15:37.475Z"
   },
   {
    "duration": 9,
    "start_time": "2021-11-17T18:19:24.849Z"
   },
   {
    "duration": 13,
    "start_time": "2021-11-17T18:19:30.136Z"
   },
   {
    "duration": 7,
    "start_time": "2021-11-17T18:24:41.948Z"
   },
   {
    "duration": 258,
    "start_time": "2021-11-17T18:25:21.907Z"
   },
   {
    "duration": 23,
    "start_time": "2021-11-17T18:25:28.198Z"
   },
   {
    "duration": 198,
    "start_time": "2021-11-17T18:30:07.861Z"
   },
   {
    "duration": 189,
    "start_time": "2021-11-17T18:30:18.028Z"
   },
   {
    "duration": 1679,
    "start_time": "2021-11-17T18:30:33.687Z"
   },
   {
    "duration": 17,
    "start_time": "2021-11-17T18:30:35.368Z"
   },
   {
    "duration": 14,
    "start_time": "2021-11-17T18:30:35.387Z"
   },
   {
    "duration": 14,
    "start_time": "2021-11-17T18:30:35.403Z"
   },
   {
    "duration": 5,
    "start_time": "2021-11-17T18:30:35.419Z"
   },
   {
    "duration": 19,
    "start_time": "2021-11-17T18:30:35.425Z"
   },
   {
    "duration": 18,
    "start_time": "2021-11-17T18:30:35.445Z"
   },
   {
    "duration": 30,
    "start_time": "2021-11-17T18:30:35.465Z"
   },
   {
    "duration": 19,
    "start_time": "2021-11-17T18:30:35.497Z"
   },
   {
    "duration": 14,
    "start_time": "2021-11-17T18:30:35.518Z"
   },
   {
    "duration": 22,
    "start_time": "2021-11-17T18:30:35.534Z"
   },
   {
    "duration": 356,
    "start_time": "2021-11-17T18:30:56.170Z"
   },
   {
    "duration": 178,
    "start_time": "2021-11-17T18:31:03.481Z"
   },
   {
    "duration": 188,
    "start_time": "2021-11-17T18:31:07.162Z"
   },
   {
    "duration": 1174,
    "start_time": "2021-11-17T18:31:18.661Z"
   },
   {
    "duration": 17,
    "start_time": "2021-11-17T18:31:19.837Z"
   },
   {
    "duration": 13,
    "start_time": "2021-11-17T18:31:19.859Z"
   },
   {
    "duration": 32,
    "start_time": "2021-11-17T18:31:19.874Z"
   },
   {
    "duration": 4,
    "start_time": "2021-11-17T18:31:19.908Z"
   },
   {
    "duration": 12,
    "start_time": "2021-11-17T18:31:19.914Z"
   },
   {
    "duration": 10,
    "start_time": "2021-11-17T18:31:19.928Z"
   },
   {
    "duration": 8,
    "start_time": "2021-11-17T18:31:19.939Z"
   },
   {
    "duration": 45,
    "start_time": "2021-11-17T18:31:19.949Z"
   },
   {
    "duration": 12,
    "start_time": "2021-11-17T18:31:19.995Z"
   },
   {
    "duration": 23,
    "start_time": "2021-11-17T18:31:20.009Z"
   },
   {
    "duration": 117,
    "start_time": "2021-11-17T18:31:26.416Z"
   },
   {
    "duration": 17,
    "start_time": "2021-11-17T18:31:32.032Z"
   },
   {
    "duration": 12,
    "start_time": "2021-11-17T18:31:33.930Z"
   },
   {
    "duration": 25,
    "start_time": "2021-11-17T18:31:35.850Z"
   },
   {
    "duration": 14,
    "start_time": "2021-11-17T18:31:46.338Z"
   },
   {
    "duration": 27,
    "start_time": "2021-11-17T18:31:55.166Z"
   },
   {
    "duration": 7,
    "start_time": "2021-11-17T18:32:03.895Z"
   },
   {
    "duration": 10,
    "start_time": "2021-11-17T18:32:10.445Z"
   },
   {
    "duration": 12,
    "start_time": "2021-11-17T18:32:32.192Z"
   },
   {
    "duration": 9,
    "start_time": "2021-11-17T18:32:35.479Z"
   },
   {
    "duration": 18,
    "start_time": "2021-11-17T18:32:57.166Z"
   },
   {
    "duration": 13,
    "start_time": "2021-11-17T18:33:02.333Z"
   },
   {
    "duration": 18,
    "start_time": "2021-11-17T18:35:19.398Z"
   },
   {
    "duration": 19,
    "start_time": "2021-11-17T18:35:35.031Z"
   },
   {
    "duration": 1270,
    "start_time": "2021-11-17T18:35:41.469Z"
   },
   {
    "duration": 16,
    "start_time": "2021-11-17T18:35:42.741Z"
   },
   {
    "duration": 12,
    "start_time": "2021-11-17T18:35:42.759Z"
   },
   {
    "duration": 24,
    "start_time": "2021-11-17T18:35:42.773Z"
   },
   {
    "duration": 7,
    "start_time": "2021-11-17T18:35:42.798Z"
   },
   {
    "duration": 12,
    "start_time": "2021-11-17T18:35:42.806Z"
   },
   {
    "duration": 11,
    "start_time": "2021-11-17T18:35:42.820Z"
   },
   {
    "duration": 8,
    "start_time": "2021-11-17T18:35:42.833Z"
   },
   {
    "duration": 54,
    "start_time": "2021-11-17T18:35:42.842Z"
   },
   {
    "duration": 13,
    "start_time": "2021-11-17T18:35:42.897Z"
   },
   {
    "duration": 20,
    "start_time": "2021-11-17T18:35:42.911Z"
   },
   {
    "duration": 264,
    "start_time": "2021-11-17T18:46:35.601Z"
   },
   {
    "duration": 204,
    "start_time": "2021-11-17T18:46:42.272Z"
   },
   {
    "duration": 211,
    "start_time": "2021-11-17T18:46:57.839Z"
   },
   {
    "duration": 176,
    "start_time": "2021-11-17T18:47:09.186Z"
   },
   {
    "duration": 178,
    "start_time": "2021-11-17T18:47:17.854Z"
   },
   {
    "duration": 177,
    "start_time": "2021-11-17T18:48:22.177Z"
   },
   {
    "duration": 181,
    "start_time": "2021-11-17T18:48:25.798Z"
   },
   {
    "duration": 169,
    "start_time": "2021-11-17T18:48:41.644Z"
   },
   {
    "duration": 254,
    "start_time": "2021-11-17T18:48:46.012Z"
   },
   {
    "duration": 173,
    "start_time": "2021-11-17T18:49:00.564Z"
   },
   {
    "duration": 11,
    "start_time": "2021-11-17T18:49:06.804Z"
   },
   {
    "duration": 15,
    "start_time": "2021-11-17T18:49:23.780Z"
   },
   {
    "duration": 54,
    "start_time": "2021-11-17T18:53:46.034Z"
   },
   {
    "duration": 62,
    "start_time": "2021-11-17T18:54:02.113Z"
   },
   {
    "duration": 6,
    "start_time": "2021-11-17T18:54:06.092Z"
   },
   {
    "duration": 20,
    "start_time": "2021-11-17T18:54:19.585Z"
   },
   {
    "duration": 198,
    "start_time": "2021-11-17T18:54:57.805Z"
   },
   {
    "duration": 19,
    "start_time": "2021-11-17T18:55:02.625Z"
   },
   {
    "duration": 1277,
    "start_time": "2021-11-17T18:56:28.283Z"
   },
   {
    "duration": 15,
    "start_time": "2021-11-17T18:56:29.562Z"
   },
   {
    "duration": 3,
    "start_time": "2021-11-17T18:56:29.579Z"
   },
   {
    "duration": 25,
    "start_time": "2021-11-17T18:56:29.584Z"
   },
   {
    "duration": 15,
    "start_time": "2021-11-17T18:56:29.611Z"
   },
   {
    "duration": 29,
    "start_time": "2021-11-17T18:56:29.629Z"
   },
   {
    "duration": 33,
    "start_time": "2021-11-17T18:56:29.660Z"
   },
   {
    "duration": 12,
    "start_time": "2021-11-17T18:56:29.695Z"
   },
   {
    "duration": 12,
    "start_time": "2021-11-17T18:56:29.709Z"
   },
   {
    "duration": 9,
    "start_time": "2021-11-17T18:56:29.723Z"
   },
   {
    "duration": 20,
    "start_time": "2021-11-17T18:56:29.734Z"
   },
   {
    "duration": 45,
    "start_time": "2021-11-17T18:56:29.756Z"
   },
   {
    "duration": 20,
    "start_time": "2021-11-17T18:56:29.803Z"
   },
   {
    "duration": 19,
    "start_time": "2021-11-17T18:58:15.193Z"
   },
   {
    "duration": 13,
    "start_time": "2021-11-17T18:59:50.206Z"
   },
   {
    "duration": 8,
    "start_time": "2021-11-17T19:00:55.647Z"
   },
   {
    "duration": 7,
    "start_time": "2021-11-17T19:02:14.954Z"
   },
   {
    "duration": 283,
    "start_time": "2021-11-17T19:02:23.347Z"
   },
   {
    "duration": 8,
    "start_time": "2021-11-17T19:02:31.595Z"
   },
   {
    "duration": 9,
    "start_time": "2021-11-17T19:03:07.435Z"
   },
   {
    "duration": 15,
    "start_time": "2021-11-17T19:03:19.556Z"
   },
   {
    "duration": 1214,
    "start_time": "2021-11-17T19:04:12.554Z"
   },
   {
    "duration": 23,
    "start_time": "2021-11-17T19:04:13.770Z"
   },
   {
    "duration": 23,
    "start_time": "2021-11-17T19:04:13.796Z"
   },
   {
    "duration": 763,
    "start_time": "2021-11-17T19:04:13.821Z"
   },
   {
    "duration": -23,
    "start_time": "2021-11-17T19:04:14.609Z"
   },
   {
    "duration": -24,
    "start_time": "2021-11-17T19:04:14.611Z"
   },
   {
    "duration": -25,
    "start_time": "2021-11-17T19:04:14.613Z"
   },
   {
    "duration": -26,
    "start_time": "2021-11-17T19:04:14.615Z"
   },
   {
    "duration": -27,
    "start_time": "2021-11-17T19:04:14.617Z"
   },
   {
    "duration": -28,
    "start_time": "2021-11-17T19:04:14.619Z"
   },
   {
    "duration": -29,
    "start_time": "2021-11-17T19:04:14.621Z"
   },
   {
    "duration": -30,
    "start_time": "2021-11-17T19:04:14.623Z"
   },
   {
    "duration": 708,
    "start_time": "2021-11-17T19:08:24.433Z"
   },
   {
    "duration": 1703,
    "start_time": "2021-11-19T15:40:22.573Z"
   },
   {
    "duration": 21,
    "start_time": "2021-11-19T15:40:24.278Z"
   },
   {
    "duration": 34,
    "start_time": "2021-11-19T15:40:24.303Z"
   },
   {
    "duration": 1342,
    "start_time": "2021-11-19T15:40:24.368Z"
   },
   {
    "duration": -26,
    "start_time": "2021-11-19T15:40:25.739Z"
   },
   {
    "duration": -26,
    "start_time": "2021-11-19T15:40:25.741Z"
   },
   {
    "duration": -27,
    "start_time": "2021-11-19T15:40:25.743Z"
   },
   {
    "duration": -28,
    "start_time": "2021-11-19T15:40:25.746Z"
   },
   {
    "duration": -29,
    "start_time": "2021-11-19T15:40:25.748Z"
   },
   {
    "duration": -29,
    "start_time": "2021-11-19T15:40:25.750Z"
   },
   {
    "duration": -30,
    "start_time": "2021-11-19T15:40:25.752Z"
   },
   {
    "duration": -31,
    "start_time": "2021-11-19T15:40:25.755Z"
   },
   {
    "duration": 306,
    "start_time": "2021-11-19T15:44:14.881Z"
   },
   {
    "duration": 7,
    "start_time": "2021-11-19T15:50:06.412Z"
   },
   {
    "duration": 275,
    "start_time": "2021-11-19T15:50:31.148Z"
   },
   {
    "duration": 1738,
    "start_time": "2021-11-19T15:50:55.429Z"
   },
   {
    "duration": 23,
    "start_time": "2021-11-19T15:50:57.169Z"
   },
   {
    "duration": 35,
    "start_time": "2021-11-19T15:50:57.198Z"
   },
   {
    "duration": 49,
    "start_time": "2021-11-19T15:50:57.236Z"
   },
   {
    "duration": 38,
    "start_time": "2021-11-19T15:50:57.288Z"
   },
   {
    "duration": 44,
    "start_time": "2021-11-19T15:50:57.328Z"
   },
   {
    "duration": 14,
    "start_time": "2021-11-19T15:50:57.375Z"
   },
   {
    "duration": 14,
    "start_time": "2021-11-19T15:50:57.392Z"
   },
   {
    "duration": 11,
    "start_time": "2021-11-19T15:50:57.408Z"
   },
   {
    "duration": 57,
    "start_time": "2021-11-19T15:50:57.422Z"
   },
   {
    "duration": 20,
    "start_time": "2021-11-19T15:50:57.482Z"
   },
   {
    "duration": 66,
    "start_time": "2021-11-19T15:50:57.505Z"
   },
   {
    "duration": 18,
    "start_time": "2021-11-19T15:54:01.822Z"
   },
   {
    "duration": 11,
    "start_time": "2021-11-19T15:54:34.786Z"
   },
   {
    "duration": 1753,
    "start_time": "2021-11-19T15:54:51.144Z"
   },
   {
    "duration": 22,
    "start_time": "2021-11-19T15:54:52.899Z"
   },
   {
    "duration": 54,
    "start_time": "2021-11-19T15:54:52.924Z"
   },
   {
    "duration": 24,
    "start_time": "2021-11-19T15:54:52.981Z"
   },
   {
    "duration": 62,
    "start_time": "2021-11-19T15:54:53.007Z"
   },
   {
    "duration": 10,
    "start_time": "2021-11-19T15:54:53.071Z"
   },
   {
    "duration": 16,
    "start_time": "2021-11-19T15:54:53.084Z"
   },
   {
    "duration": 27,
    "start_time": "2021-11-19T15:54:53.103Z"
   },
   {
    "duration": 45,
    "start_time": "2021-11-19T15:54:53.133Z"
   },
   {
    "duration": 23,
    "start_time": "2021-11-19T15:54:53.181Z"
   },
   {
    "duration": 19,
    "start_time": "2021-11-19T15:54:53.206Z"
   },
   {
    "duration": 57,
    "start_time": "2021-11-19T15:54:53.227Z"
   },
   {
    "duration": 6904,
    "start_time": "2021-11-19T16:13:14.211Z"
   },
   {
    "duration": 8156,
    "start_time": "2021-11-19T16:17:31.483Z"
   },
   {
    "duration": 6,
    "start_time": "2021-11-19T16:17:57.560Z"
   },
   {
    "duration": 104,
    "start_time": "2021-11-19T16:22:22.772Z"
   },
   {
    "duration": 92,
    "start_time": "2021-11-19T16:22:26.554Z"
   },
   {
    "duration": 6820,
    "start_time": "2021-11-19T16:22:37.331Z"
   },
   {
    "duration": 272,
    "start_time": "2021-11-19T16:27:07.262Z"
   },
   {
    "duration": 267,
    "start_time": "2021-11-19T16:29:43.102Z"
   },
   {
    "duration": 6,
    "start_time": "2021-11-19T16:30:15.393Z"
   },
   {
    "duration": 1673,
    "start_time": "2021-11-19T16:30:27.964Z"
   },
   {
    "duration": 24,
    "start_time": "2021-11-19T16:30:29.640Z"
   },
   {
    "duration": 31,
    "start_time": "2021-11-19T16:30:29.667Z"
   },
   {
    "duration": 22,
    "start_time": "2021-11-19T16:30:29.701Z"
   },
   {
    "duration": 70,
    "start_time": "2021-11-19T16:30:29.726Z"
   },
   {
    "duration": 9,
    "start_time": "2021-11-19T16:30:29.799Z"
   },
   {
    "duration": 16,
    "start_time": "2021-11-19T16:30:29.811Z"
   },
   {
    "duration": 55,
    "start_time": "2021-11-19T16:30:29.831Z"
   },
   {
    "duration": 11,
    "start_time": "2021-11-19T16:30:29.889Z"
   },
   {
    "duration": 25,
    "start_time": "2021-11-19T16:30:29.903Z"
   },
   {
    "duration": 53,
    "start_time": "2021-11-19T16:30:29.931Z"
   },
   {
    "duration": 30,
    "start_time": "2021-11-19T16:30:29.987Z"
   },
   {
    "duration": 774,
    "start_time": "2021-11-19T16:30:30.019Z"
   },
   {
    "duration": 92,
    "start_time": "2021-11-19T16:39:36.515Z"
   },
   {
    "duration": 6971,
    "start_time": "2021-11-19T16:39:43.080Z"
   },
   {
    "duration": 6893,
    "start_time": "2021-11-19T16:40:02.417Z"
   },
   {
    "duration": 14,
    "start_time": "2021-11-19T16:41:39.208Z"
   },
   {
    "duration": 7063,
    "start_time": "2021-11-19T16:42:24.521Z"
   },
   {
    "duration": 10,
    "start_time": "2021-11-19T16:43:19.809Z"
   },
   {
    "duration": 7671,
    "start_time": "2021-11-19T16:43:44.287Z"
   },
   {
    "duration": 11,
    "start_time": "2021-11-19T16:44:34.504Z"
   },
   {
    "duration": -19,
    "start_time": "2021-11-19T16:45:19.454Z"
   },
   {
    "duration": 8021,
    "start_time": "2021-11-19T16:45:20.623Z"
   },
   {
    "duration": 6969,
    "start_time": "2021-11-19T16:56:04.826Z"
   },
   {
    "duration": 17,
    "start_time": "2021-11-19T16:56:52.160Z"
   },
   {
    "duration": 224,
    "start_time": "2021-11-20T06:20:13.590Z"
   },
   {
    "duration": 1376,
    "start_time": "2021-11-20T06:20:25.614Z"
   },
   {
    "duration": 15,
    "start_time": "2021-11-20T06:20:26.992Z"
   },
   {
    "duration": 29,
    "start_time": "2021-11-20T06:20:27.009Z"
   },
   {
    "duration": 29,
    "start_time": "2021-11-20T06:20:27.040Z"
   },
   {
    "duration": 35,
    "start_time": "2021-11-20T06:20:27.071Z"
   },
   {
    "duration": 21,
    "start_time": "2021-11-20T06:20:27.108Z"
   },
   {
    "duration": 40,
    "start_time": "2021-11-20T06:20:27.131Z"
   },
   {
    "duration": 16,
    "start_time": "2021-11-20T06:20:27.174Z"
   },
   {
    "duration": 7,
    "start_time": "2021-11-20T06:20:27.191Z"
   },
   {
    "duration": 13,
    "start_time": "2021-11-20T06:20:27.200Z"
   },
   {
    "duration": 14,
    "start_time": "2021-11-20T06:20:27.214Z"
   },
   {
    "duration": 17,
    "start_time": "2021-11-20T06:20:27.230Z"
   },
   {
    "duration": 4991,
    "start_time": "2021-11-20T06:20:27.248Z"
   },
   {
    "duration": 203,
    "start_time": "2021-11-20T06:25:56.768Z"
   },
   {
    "duration": 4827,
    "start_time": "2021-11-20T06:41:38.181Z"
   },
   {
    "duration": 5,
    "start_time": "2021-11-20T06:43:55.388Z"
   },
   {
    "duration": 1197,
    "start_time": "2021-11-20T06:44:19.724Z"
   },
   {
    "duration": 12,
    "start_time": "2021-11-20T06:44:20.923Z"
   },
   {
    "duration": 17,
    "start_time": "2021-11-20T06:44:20.937Z"
   },
   {
    "duration": 13,
    "start_time": "2021-11-20T06:44:20.956Z"
   },
   {
    "duration": 32,
    "start_time": "2021-11-20T06:44:20.970Z"
   },
   {
    "duration": 7,
    "start_time": "2021-11-20T06:44:21.004Z"
   },
   {
    "duration": 9,
    "start_time": "2021-11-20T06:44:21.012Z"
   },
   {
    "duration": 16,
    "start_time": "2021-11-20T06:44:21.023Z"
   },
   {
    "duration": 8,
    "start_time": "2021-11-20T06:44:21.040Z"
   },
   {
    "duration": 45,
    "start_time": "2021-11-20T06:44:21.049Z"
   },
   {
    "duration": 12,
    "start_time": "2021-11-20T06:44:21.095Z"
   },
   {
    "duration": 21,
    "start_time": "2021-11-20T06:44:21.109Z"
   },
   {
    "duration": 7,
    "start_time": "2021-11-20T06:44:21.131Z"
   },
   {
    "duration": 4,
    "start_time": "2021-11-20T06:44:28.950Z"
   },
   {
    "duration": 5,
    "start_time": "2021-11-20T06:44:47.790Z"
   },
   {
    "duration": 21,
    "start_time": "2021-11-20T06:45:36.182Z"
   },
   {
    "duration": 5,
    "start_time": "2021-11-20T06:45:47.042Z"
   },
   {
    "duration": 6,
    "start_time": "2021-11-20T06:46:02.562Z"
   },
   {
    "duration": 5,
    "start_time": "2021-11-20T06:46:21.112Z"
   },
   {
    "duration": 5,
    "start_time": "2021-11-20T06:46:33.575Z"
   },
   {
    "duration": 5,
    "start_time": "2021-11-20T06:46:50.443Z"
   },
   {
    "duration": 54,
    "start_time": "2021-11-20T06:53:22.640Z"
   },
   {
    "duration": 55,
    "start_time": "2021-11-20T06:53:38.776Z"
   },
   {
    "duration": 64,
    "start_time": "2021-11-20T06:53:45.886Z"
   },
   {
    "duration": 17,
    "start_time": "2021-11-20T06:54:06.968Z"
   },
   {
    "duration": 10,
    "start_time": "2021-11-20T06:56:58.462Z"
   },
   {
    "duration": 11,
    "start_time": "2021-11-20T10:07:02.316Z"
   },
   {
    "duration": 45,
    "start_time": "2021-11-20T10:17:16.731Z"
   },
   {
    "duration": 1234,
    "start_time": "2021-11-20T10:17:23.814Z"
   },
   {
    "duration": 13,
    "start_time": "2021-11-20T10:17:25.050Z"
   },
   {
    "duration": 22,
    "start_time": "2021-11-20T10:17:25.065Z"
   },
   {
    "duration": 15,
    "start_time": "2021-11-20T10:17:25.089Z"
   },
   {
    "duration": 21,
    "start_time": "2021-11-20T10:17:25.106Z"
   },
   {
    "duration": 7,
    "start_time": "2021-11-20T10:17:25.129Z"
   },
   {
    "duration": 9,
    "start_time": "2021-11-20T10:17:25.138Z"
   },
   {
    "duration": 42,
    "start_time": "2021-11-20T10:17:25.149Z"
   },
   {
    "duration": 9,
    "start_time": "2021-11-20T10:17:25.193Z"
   },
   {
    "duration": 22,
    "start_time": "2021-11-20T10:17:25.203Z"
   },
   {
    "duration": 12,
    "start_time": "2021-11-20T10:17:25.226Z"
   },
   {
    "duration": 21,
    "start_time": "2021-11-20T10:17:25.240Z"
   },
   {
    "duration": 4,
    "start_time": "2021-11-20T10:17:25.262Z"
   },
   {
    "duration": 19,
    "start_time": "2021-11-20T10:17:25.292Z"
   },
   {
    "duration": 7,
    "start_time": "2021-11-20T10:17:25.313Z"
   },
   {
    "duration": 70,
    "start_time": "2021-11-20T10:17:25.322Z"
   },
   {
    "duration": 17,
    "start_time": "2021-11-20T10:17:50.368Z"
   },
   {
    "duration": 11,
    "start_time": "2021-11-20T10:18:44.516Z"
   },
   {
    "duration": 11,
    "start_time": "2021-11-20T10:18:48.754Z"
   },
   {
    "duration": 17,
    "start_time": "2021-11-20T10:18:52.782Z"
   },
   {
    "duration": 74,
    "start_time": "2021-11-20T10:19:43.587Z"
   },
   {
    "duration": 51,
    "start_time": "2021-11-20T10:20:25.857Z"
   },
   {
    "duration": 407,
    "start_time": "2021-11-20T10:20:31.428Z"
   },
   {
    "duration": 8,
    "start_time": "2021-11-20T10:21:22.453Z"
   },
   {
    "duration": 8,
    "start_time": "2021-11-20T10:21:25.582Z"
   },
   {
    "duration": 17,
    "start_time": "2021-11-20T10:21:27.404Z"
   },
   {
    "duration": 68,
    "start_time": "2021-11-20T10:23:04.240Z"
   },
   {
    "duration": 6,
    "start_time": "2021-11-20T10:23:14.409Z"
   },
   {
    "duration": 6,
    "start_time": "2021-11-20T10:23:17.136Z"
   },
   {
    "duration": 17,
    "start_time": "2021-11-20T10:23:18.693Z"
   },
   {
    "duration": 1182,
    "start_time": "2021-11-20T10:23:25.766Z"
   },
   {
    "duration": 13,
    "start_time": "2021-11-20T10:23:26.950Z"
   },
   {
    "duration": 17,
    "start_time": "2021-11-20T10:23:26.965Z"
   },
   {
    "duration": 14,
    "start_time": "2021-11-20T10:23:26.984Z"
   },
   {
    "duration": 21,
    "start_time": "2021-11-20T10:23:27.000Z"
   },
   {
    "duration": 6,
    "start_time": "2021-11-20T10:23:27.023Z"
   },
   {
    "duration": 12,
    "start_time": "2021-11-20T10:23:27.031Z"
   },
   {
    "duration": 16,
    "start_time": "2021-11-20T10:23:27.046Z"
   },
   {
    "duration": 29,
    "start_time": "2021-11-20T10:23:27.063Z"
   },
   {
    "duration": 16,
    "start_time": "2021-11-20T10:23:27.094Z"
   },
   {
    "duration": 12,
    "start_time": "2021-11-20T10:23:27.112Z"
   },
   {
    "duration": 20,
    "start_time": "2021-11-20T10:23:27.125Z"
   },
   {
    "duration": 4,
    "start_time": "2021-11-20T10:23:27.146Z"
   },
   {
    "duration": 46,
    "start_time": "2021-11-20T10:23:27.151Z"
   },
   {
    "duration": 7,
    "start_time": "2021-11-20T10:23:27.199Z"
   },
   {
    "duration": 5,
    "start_time": "2021-11-20T10:23:27.208Z"
   },
   {
    "duration": 16,
    "start_time": "2021-11-20T10:23:27.215Z"
   },
   {
    "duration": 7,
    "start_time": "2021-11-20T10:23:37.119Z"
   },
   {
    "duration": 71,
    "start_time": "2021-11-20T10:23:47.750Z"
   },
   {
    "duration": 8,
    "start_time": "2021-11-20T10:23:51.385Z"
   },
   {
    "duration": 8,
    "start_time": "2021-11-20T10:24:16.577Z"
   },
   {
    "duration": 7,
    "start_time": "2021-11-20T10:24:21.890Z"
   },
   {
    "duration": 16,
    "start_time": "2021-11-20T10:24:24.112Z"
   },
   {
    "duration": 1239,
    "start_time": "2021-11-20T10:25:00.177Z"
   },
   {
    "duration": 13,
    "start_time": "2021-11-20T10:25:01.417Z"
   },
   {
    "duration": 18,
    "start_time": "2021-11-20T10:25:01.432Z"
   },
   {
    "duration": 17,
    "start_time": "2021-11-20T10:25:01.452Z"
   },
   {
    "duration": 42,
    "start_time": "2021-11-20T10:25:01.470Z"
   },
   {
    "duration": 8,
    "start_time": "2021-11-20T10:25:01.513Z"
   },
   {
    "duration": 39,
    "start_time": "2021-11-20T10:25:01.523Z"
   },
   {
    "duration": 29,
    "start_time": "2021-11-20T10:25:01.565Z"
   },
   {
    "duration": 20,
    "start_time": "2021-11-20T10:25:01.597Z"
   },
   {
    "duration": 32,
    "start_time": "2021-11-20T10:25:01.619Z"
   },
   {
    "duration": 38,
    "start_time": "2021-11-20T10:25:01.652Z"
   },
   {
    "duration": 33,
    "start_time": "2021-11-20T10:25:01.692Z"
   },
   {
    "duration": 12,
    "start_time": "2021-11-20T10:25:01.727Z"
   },
   {
    "duration": 34,
    "start_time": "2021-11-20T10:25:01.741Z"
   },
   {
    "duration": 29,
    "start_time": "2021-11-20T10:25:01.777Z"
   },
   {
    "duration": 22,
    "start_time": "2021-11-20T10:25:01.808Z"
   },
   {
    "duration": 61,
    "start_time": "2021-11-20T10:25:01.832Z"
   },
   {
    "duration": 8,
    "start_time": "2021-11-20T10:25:12.908Z"
   },
   {
    "duration": 19,
    "start_time": "2021-11-20T10:25:22.278Z"
   },
   {
    "duration": 8,
    "start_time": "2021-11-20T10:26:19.764Z"
   },
   {
    "duration": 8,
    "start_time": "2021-11-20T10:26:22.761Z"
   },
   {
    "duration": 18,
    "start_time": "2021-11-20T10:26:24.399Z"
   },
   {
    "duration": 10,
    "start_time": "2021-11-20T10:27:27.929Z"
   },
   {
    "duration": 21,
    "start_time": "2021-11-20T10:27:30.510Z"
   },
   {
    "duration": 10,
    "start_time": "2021-11-20T10:27:59.728Z"
   },
   {
    "duration": 18,
    "start_time": "2021-11-20T10:28:01.913Z"
   },
   {
    "duration": 18,
    "start_time": "2021-11-20T10:28:08.270Z"
   },
   {
    "duration": 1871,
    "start_time": "2021-11-20T10:28:20.601Z"
   },
   {
    "duration": 15,
    "start_time": "2021-11-20T10:28:22.475Z"
   },
   {
    "duration": 36,
    "start_time": "2021-11-20T10:28:22.492Z"
   },
   {
    "duration": 14,
    "start_time": "2021-11-20T10:28:22.529Z"
   },
   {
    "duration": 43,
    "start_time": "2021-11-20T10:28:22.544Z"
   },
   {
    "duration": 18,
    "start_time": "2021-11-20T10:28:22.589Z"
   },
   {
    "duration": 21,
    "start_time": "2021-11-20T10:28:22.609Z"
   },
   {
    "duration": 33,
    "start_time": "2021-11-20T10:28:22.632Z"
   },
   {
    "duration": 8,
    "start_time": "2021-11-20T10:28:22.667Z"
   },
   {
    "duration": 14,
    "start_time": "2021-11-20T10:28:22.676Z"
   },
   {
    "duration": 11,
    "start_time": "2021-11-20T10:28:22.692Z"
   },
   {
    "duration": 21,
    "start_time": "2021-11-20T10:28:22.705Z"
   },
   {
    "duration": 5,
    "start_time": "2021-11-20T10:28:22.727Z"
   },
   {
    "duration": 27,
    "start_time": "2021-11-20T10:28:22.733Z"
   },
   {
    "duration": 29,
    "start_time": "2021-11-20T10:28:22.762Z"
   },
   {
    "duration": 11,
    "start_time": "2021-11-20T10:28:22.793Z"
   },
   {
    "duration": 21,
    "start_time": "2021-11-20T10:28:22.806Z"
   },
   {
    "duration": 12,
    "start_time": "2021-11-20T10:28:57.961Z"
   },
   {
    "duration": 12,
    "start_time": "2021-11-20T10:29:00.035Z"
   },
   {
    "duration": 14,
    "start_time": "2021-11-20T10:29:22.807Z"
   },
   {
    "duration": 5,
    "start_time": "2021-11-20T10:34:13.706Z"
   },
   {
    "duration": 8,
    "start_time": "2021-11-20T10:34:38.777Z"
   },
   {
    "duration": 5,
    "start_time": "2021-11-20T10:35:50.473Z"
   },
   {
    "duration": 5,
    "start_time": "2021-11-20T10:36:10.623Z"
   },
   {
    "duration": 8,
    "start_time": "2021-11-20T10:36:29.328Z"
   },
   {
    "duration": 8,
    "start_time": "2021-11-20T10:46:48.107Z"
   },
   {
    "duration": 5,
    "start_time": "2021-11-20T10:52:02.927Z"
   },
   {
    "duration": 4,
    "start_time": "2021-11-20T10:52:20.927Z"
   },
   {
    "duration": 5,
    "start_time": "2021-11-20T10:52:51.719Z"
   },
   {
    "duration": 2,
    "start_time": "2021-11-20T10:57:46.901Z"
   },
   {
    "duration": 264,
    "start_time": "2021-11-20T10:57:55.340Z"
   },
   {
    "duration": 7,
    "start_time": "2021-11-20T10:58:02.583Z"
   },
   {
    "duration": 4,
    "start_time": "2021-11-20T10:58:07.318Z"
   },
   {
    "duration": 7,
    "start_time": "2021-11-20T10:58:12.417Z"
   },
   {
    "duration": 1199,
    "start_time": "2021-11-20T10:58:18.442Z"
   },
   {
    "duration": 13,
    "start_time": "2021-11-20T10:58:19.643Z"
   },
   {
    "duration": 17,
    "start_time": "2021-11-20T10:58:19.658Z"
   },
   {
    "duration": 14,
    "start_time": "2021-11-20T10:58:19.677Z"
   },
   {
    "duration": 21,
    "start_time": "2021-11-20T10:58:19.692Z"
   },
   {
    "duration": 7,
    "start_time": "2021-11-20T10:58:19.715Z"
   },
   {
    "duration": 10,
    "start_time": "2021-11-20T10:58:19.724Z"
   },
   {
    "duration": 16,
    "start_time": "2021-11-20T10:58:19.736Z"
   },
   {
    "duration": 7,
    "start_time": "2021-11-20T10:58:19.754Z"
   },
   {
    "duration": 15,
    "start_time": "2021-11-20T10:58:19.792Z"
   },
   {
    "duration": 12,
    "start_time": "2021-11-20T10:58:19.808Z"
   },
   {
    "duration": 20,
    "start_time": "2021-11-20T10:58:19.821Z"
   },
   {
    "duration": 4,
    "start_time": "2021-11-20T10:58:19.843Z"
   },
   {
    "duration": 47,
    "start_time": "2021-11-20T10:58:19.848Z"
   },
   {
    "duration": 8,
    "start_time": "2021-11-20T10:58:19.896Z"
   },
   {
    "duration": 12,
    "start_time": "2021-11-20T10:58:19.905Z"
   },
   {
    "duration": 8,
    "start_time": "2021-11-20T10:58:19.918Z"
   },
   {
    "duration": 5,
    "start_time": "2021-11-20T10:58:19.927Z"
   },
   {
    "duration": 7,
    "start_time": "2021-11-20T10:58:29.975Z"
   },
   {
    "duration": 5,
    "start_time": "2021-11-20T10:58:42.492Z"
   },
   {
    "duration": 2393,
    "start_time": "2021-11-20T10:58:45.310Z"
   },
   {
    "duration": 2052,
    "start_time": "2021-11-20T10:59:01.241Z"
   },
   {
    "duration": 1133,
    "start_time": "2021-11-20T10:59:06.326Z"
   },
   {
    "duration": 16,
    "start_time": "2021-11-20T10:59:07.461Z"
   },
   {
    "duration": 19,
    "start_time": "2021-11-20T10:59:07.479Z"
   },
   {
    "duration": 15,
    "start_time": "2021-11-20T10:59:07.500Z"
   },
   {
    "duration": 21,
    "start_time": "2021-11-20T10:59:07.517Z"
   },
   {
    "duration": 7,
    "start_time": "2021-11-20T10:59:07.540Z"
   },
   {
    "duration": 10,
    "start_time": "2021-11-20T10:59:07.549Z"
   },
   {
    "duration": 45,
    "start_time": "2021-11-20T10:59:07.562Z"
   },
   {
    "duration": 9,
    "start_time": "2021-11-20T10:59:07.608Z"
   },
   {
    "duration": 13,
    "start_time": "2021-11-20T10:59:07.619Z"
   },
   {
    "duration": 11,
    "start_time": "2021-11-20T10:59:07.633Z"
   },
   {
    "duration": 47,
    "start_time": "2021-11-20T10:59:07.645Z"
   },
   {
    "duration": 4,
    "start_time": "2021-11-20T10:59:07.693Z"
   },
   {
    "duration": 19,
    "start_time": "2021-11-20T10:59:07.699Z"
   },
   {
    "duration": 7,
    "start_time": "2021-11-20T10:59:07.719Z"
   },
   {
    "duration": 11,
    "start_time": "2021-11-20T10:59:07.727Z"
   },
   {
    "duration": 6,
    "start_time": "2021-11-20T10:59:07.740Z"
   },
   {
    "duration": 6,
    "start_time": "2021-11-20T10:59:07.747Z"
   },
   {
    "duration": 5,
    "start_time": "2021-11-20T10:59:14.440Z"
   },
   {
    "duration": 5,
    "start_time": "2021-11-20T10:59:17.123Z"
   },
   {
    "duration": 5,
    "start_time": "2021-11-20T11:00:07.231Z"
   },
   {
    "duration": 8,
    "start_time": "2021-11-20T11:00:28.610Z"
   },
   {
    "duration": 8,
    "start_time": "2021-11-20T11:05:25.476Z"
   },
   {
    "duration": 5,
    "start_time": "2021-11-20T11:05:28.968Z"
   },
   {
    "duration": 8,
    "start_time": "2021-11-20T11:05:33.209Z"
   },
   {
    "duration": 3,
    "start_time": "2021-11-20T11:10:27.963Z"
   },
   {
    "duration": 8,
    "start_time": "2021-11-20T11:10:31.057Z"
   },
   {
    "duration": 5,
    "start_time": "2021-11-20T11:10:59.287Z"
   },
   {
    "duration": 5,
    "start_time": "2021-11-20T11:11:03.728Z"
   },
   {
    "duration": 7,
    "start_time": "2021-11-20T11:11:05.566Z"
   },
   {
    "duration": 1207,
    "start_time": "2021-11-20T11:11:13.285Z"
   },
   {
    "duration": 16,
    "start_time": "2021-11-20T11:11:14.494Z"
   },
   {
    "duration": 19,
    "start_time": "2021-11-20T11:11:14.512Z"
   },
   {
    "duration": 14,
    "start_time": "2021-11-20T11:11:14.533Z"
   },
   {
    "duration": 53,
    "start_time": "2021-11-20T11:11:14.548Z"
   },
   {
    "duration": 6,
    "start_time": "2021-11-20T11:11:14.603Z"
   },
   {
    "duration": 9,
    "start_time": "2021-11-20T11:11:14.611Z"
   },
   {
    "duration": 18,
    "start_time": "2021-11-20T11:11:14.623Z"
   },
   {
    "duration": 8,
    "start_time": "2021-11-20T11:11:14.643Z"
   },
   {
    "duration": 44,
    "start_time": "2021-11-20T11:11:14.653Z"
   },
   {
    "duration": 11,
    "start_time": "2021-11-20T11:11:14.699Z"
   },
   {
    "duration": 20,
    "start_time": "2021-11-20T11:11:14.711Z"
   },
   {
    "duration": 3,
    "start_time": "2021-11-20T11:11:14.732Z"
   },
   {
    "duration": 20,
    "start_time": "2021-11-20T11:11:14.737Z"
   },
   {
    "duration": 35,
    "start_time": "2021-11-20T11:11:14.758Z"
   },
   {
    "duration": 12,
    "start_time": "2021-11-20T11:11:14.794Z"
   },
   {
    "duration": 8,
    "start_time": "2021-11-20T11:11:14.808Z"
   },
   {
    "duration": 4,
    "start_time": "2021-11-20T11:11:14.818Z"
   },
   {
    "duration": 9,
    "start_time": "2021-11-20T11:11:14.823Z"
   },
   {
    "duration": 4,
    "start_time": "2021-11-20T11:11:21.475Z"
   },
   {
    "duration": 8,
    "start_time": "2021-11-20T11:11:27.854Z"
   },
   {
    "duration": 8,
    "start_time": "2021-11-20T11:12:05.196Z"
   },
   {
    "duration": 10,
    "start_time": "2021-11-20T11:12:07.688Z"
   },
   {
    "duration": 9,
    "start_time": "2021-11-20T11:12:13.900Z"
   },
   {
    "duration": 8,
    "start_time": "2021-11-20T11:12:17.130Z"
   },
   {
    "duration": 13,
    "start_time": "2021-11-20T11:12:55.127Z"
   },
   {
    "duration": 8,
    "start_time": "2021-11-20T11:12:56.743Z"
   },
   {
    "duration": 10,
    "start_time": "2021-11-20T11:13:56.539Z"
   },
   {
    "duration": 7,
    "start_time": "2021-11-20T11:14:09.404Z"
   },
   {
    "duration": 11,
    "start_time": "2021-11-20T11:15:26.814Z"
   },
   {
    "duration": 7,
    "start_time": "2021-11-20T11:15:28.448Z"
   },
   {
    "duration": 7,
    "start_time": "2021-11-20T11:17:40.804Z"
   },
   {
    "duration": 5,
    "start_time": "2021-11-20T11:18:17.316Z"
   },
   {
    "duration": 6,
    "start_time": "2021-11-20T11:18:49.555Z"
   },
   {
    "duration": 5,
    "start_time": "2021-11-20T11:22:48.859Z"
   },
   {
    "duration": 7,
    "start_time": "2021-11-20T11:24:27.035Z"
   },
   {
    "duration": 242,
    "start_time": "2021-11-20T11:26:20.792Z"
   },
   {
    "duration": 993,
    "start_time": "2021-11-20T11:26:48.605Z"
   },
   {
    "duration": 153,
    "start_time": "2021-11-20T11:27:08.741Z"
   },
   {
    "duration": 159,
    "start_time": "2021-11-20T11:27:20.520Z"
   },
   {
    "duration": 155,
    "start_time": "2021-11-20T11:27:29.023Z"
   },
   {
    "duration": 172,
    "start_time": "2021-11-20T11:29:01.994Z"
   },
   {
    "duration": 9,
    "start_time": "2021-11-20T11:29:33.545Z"
   },
   {
    "duration": 8,
    "start_time": "2021-11-20T11:29:35.444Z"
   },
   {
    "duration": 5,
    "start_time": "2021-11-20T11:29:48.380Z"
   },
   {
    "duration": 7,
    "start_time": "2021-11-20T11:30:16.978Z"
   },
   {
    "duration": 8,
    "start_time": "2021-11-20T11:33:43.065Z"
   },
   {
    "duration": 8,
    "start_time": "2021-11-20T11:34:41.825Z"
   },
   {
    "duration": 8,
    "start_time": "2021-11-20T11:35:05.209Z"
   },
   {
    "duration": 11,
    "start_time": "2021-11-20T11:36:57.881Z"
   },
   {
    "duration": 1190,
    "start_time": "2021-11-20T11:37:27.197Z"
   },
   {
    "duration": 19,
    "start_time": "2021-11-20T11:37:28.388Z"
   },
   {
    "duration": 22,
    "start_time": "2021-11-20T11:37:28.410Z"
   },
   {
    "duration": 15,
    "start_time": "2021-11-20T11:37:28.435Z"
   },
   {
    "duration": 55,
    "start_time": "2021-11-20T11:37:28.452Z"
   },
   {
    "duration": 9,
    "start_time": "2021-11-20T11:37:28.509Z"
   },
   {
    "duration": 11,
    "start_time": "2021-11-20T11:37:28.520Z"
   },
   {
    "duration": 21,
    "start_time": "2021-11-20T11:37:28.534Z"
   },
   {
    "duration": 46,
    "start_time": "2021-11-20T11:37:28.557Z"
   },
   {
    "duration": 13,
    "start_time": "2021-11-20T11:37:28.605Z"
   },
   {
    "duration": 14,
    "start_time": "2021-11-20T11:37:28.620Z"
   },
   {
    "duration": 20,
    "start_time": "2021-11-20T11:37:28.636Z"
   },
   {
    "duration": 6,
    "start_time": "2021-11-20T11:37:28.658Z"
   },
   {
    "duration": 23,
    "start_time": "2021-11-20T11:37:28.692Z"
   },
   {
    "duration": 8,
    "start_time": "2021-11-20T11:37:28.716Z"
   },
   {
    "duration": 12,
    "start_time": "2021-11-20T11:37:28.726Z"
   },
   {
    "duration": 12,
    "start_time": "2021-11-20T11:37:28.739Z"
   },
   {
    "duration": 40,
    "start_time": "2021-11-20T11:37:28.752Z"
   },
   {
    "duration": 11,
    "start_time": "2021-11-20T11:37:28.794Z"
   },
   {
    "duration": 8,
    "start_time": "2021-11-20T11:37:28.807Z"
   },
   {
    "duration": 11,
    "start_time": "2021-11-20T11:37:28.817Z"
   },
   {
    "duration": 12,
    "start_time": "2021-11-20T11:39:43.584Z"
   },
   {
    "duration": 1263,
    "start_time": "2021-11-20T11:39:58.464Z"
   },
   {
    "duration": 14,
    "start_time": "2021-11-20T11:39:59.728Z"
   },
   {
    "duration": 17,
    "start_time": "2021-11-20T11:39:59.744Z"
   },
   {
    "duration": 13,
    "start_time": "2021-11-20T11:39:59.763Z"
   },
   {
    "duration": 38,
    "start_time": "2021-11-20T11:39:59.778Z"
   },
   {
    "duration": 8,
    "start_time": "2021-11-20T11:39:59.819Z"
   },
   {
    "duration": 11,
    "start_time": "2021-11-20T11:39:59.829Z"
   },
   {
    "duration": 16,
    "start_time": "2021-11-20T11:39:59.843Z"
   },
   {
    "duration": 11,
    "start_time": "2021-11-20T11:39:59.891Z"
   },
   {
    "duration": 12,
    "start_time": "2021-11-20T11:39:59.905Z"
   },
   {
    "duration": 10,
    "start_time": "2021-11-20T11:39:59.919Z"
   },
   {
    "duration": 19,
    "start_time": "2021-11-20T11:39:59.931Z"
   },
   {
    "duration": 4,
    "start_time": "2021-11-20T11:39:59.952Z"
   },
   {
    "duration": 60,
    "start_time": "2021-11-20T11:39:59.957Z"
   },
   {
    "duration": 9,
    "start_time": "2021-11-20T11:40:00.019Z"
   },
   {
    "duration": 22,
    "start_time": "2021-11-20T11:40:00.030Z"
   },
   {
    "duration": 13,
    "start_time": "2021-11-20T11:40:00.054Z"
   },
   {
    "duration": 12,
    "start_time": "2021-11-20T11:40:00.093Z"
   },
   {
    "duration": 9,
    "start_time": "2021-11-20T11:40:00.108Z"
   },
   {
    "duration": 11,
    "start_time": "2021-11-20T11:40:00.119Z"
   },
   {
    "duration": 14,
    "start_time": "2021-11-20T11:40:00.132Z"
   },
   {
    "duration": 8,
    "start_time": "2021-11-20T11:41:47.463Z"
   },
   {
    "duration": 8,
    "start_time": "2021-11-20T11:41:52.996Z"
   },
   {
    "duration": 11,
    "start_time": "2021-11-20T11:41:54.794Z"
   },
   {
    "duration": 8,
    "start_time": "2021-11-20T11:42:00.201Z"
   },
   {
    "duration": 9,
    "start_time": "2021-11-20T11:42:02.005Z"
   },
   {
    "duration": 260,
    "start_time": "2021-11-20T11:47:30.244Z"
   },
   {
    "duration": 8,
    "start_time": "2021-11-20T11:47:36.413Z"
   },
   {
    "duration": 8,
    "start_time": "2021-11-20T11:48:00.483Z"
   },
   {
    "duration": 10,
    "start_time": "2021-11-20T11:48:02.586Z"
   },
   {
    "duration": 7,
    "start_time": "2021-11-20T11:48:06.526Z"
   },
   {
    "duration": 5,
    "start_time": "2021-11-20T11:48:20.432Z"
   },
   {
    "duration": 6,
    "start_time": "2021-11-20T11:48:25.220Z"
   },
   {
    "duration": 7,
    "start_time": "2021-11-20T11:49:46.050Z"
   },
   {
    "duration": 6,
    "start_time": "2021-11-20T11:50:05.177Z"
   },
   {
    "duration": 50,
    "start_time": "2021-11-20T11:50:41.427Z"
   },
   {
    "duration": 49,
    "start_time": "2021-11-20T11:50:47.758Z"
   },
   {
    "duration": 56,
    "start_time": "2021-11-20T11:51:27.846Z"
   },
   {
    "duration": 55,
    "start_time": "2021-11-20T11:51:35.585Z"
   },
   {
    "duration": 51,
    "start_time": "2021-11-20T11:51:41.228Z"
   },
   {
    "duration": 406,
    "start_time": "2021-11-20T11:51:49.952Z"
   },
   {
    "duration": 7,
    "start_time": "2021-11-20T11:52:46.461Z"
   },
   {
    "duration": 7,
    "start_time": "2021-11-20T11:52:53.860Z"
   },
   {
    "duration": 158,
    "start_time": "2021-11-20T11:53:15.231Z"
   },
   {
    "duration": 6,
    "start_time": "2021-11-20T11:53:30.155Z"
   },
   {
    "duration": 5,
    "start_time": "2021-11-20T11:53:56.276Z"
   },
   {
    "duration": 18,
    "start_time": "2021-11-20T11:54:03.893Z"
   },
   {
    "duration": 32,
    "start_time": "2021-11-20T11:54:09.690Z"
   },
   {
    "duration": 26,
    "start_time": "2021-11-20T11:54:54.595Z"
   },
   {
    "duration": 11,
    "start_time": "2021-11-20T11:55:06.563Z"
   },
   {
    "duration": 26,
    "start_time": "2021-11-20T11:55:11.681Z"
   },
   {
    "duration": 32,
    "start_time": "2021-11-20T11:55:34.472Z"
   },
   {
    "duration": 18,
    "start_time": "2021-11-20T12:09:56.193Z"
   },
   {
    "duration": 9,
    "start_time": "2021-11-20T12:11:29.559Z"
   },
   {
    "duration": 10,
    "start_time": "2021-11-20T12:12:36.105Z"
   },
   {
    "duration": 10,
    "start_time": "2021-11-20T12:12:42.561Z"
   },
   {
    "duration": 10,
    "start_time": "2021-11-20T12:12:44.925Z"
   },
   {
    "duration": 23,
    "start_time": "2021-11-20T12:12:48.708Z"
   },
   {
    "duration": 176,
    "start_time": "2021-11-20T12:13:11.216Z"
   },
   {
    "duration": 37,
    "start_time": "2021-11-20T12:13:17.549Z"
   },
   {
    "duration": 37,
    "start_time": "2021-11-20T12:13:48.572Z"
   },
   {
    "duration": 16,
    "start_time": "2021-11-20T12:14:11.400Z"
   },
   {
    "duration": 17,
    "start_time": "2021-11-20T12:14:22.670Z"
   },
   {
    "duration": 11,
    "start_time": "2021-11-20T12:15:17.072Z"
   },
   {
    "duration": 25,
    "start_time": "2021-11-20T12:15:27.263Z"
   },
   {
    "duration": 26,
    "start_time": "2021-11-20T12:17:23.620Z"
   },
   {
    "duration": 26,
    "start_time": "2021-11-20T12:17:36.355Z"
   },
   {
    "duration": 3835,
    "start_time": "2021-11-20T12:38:42.374Z"
   },
   {
    "duration": 8,
    "start_time": "2021-11-20T12:39:19.010Z"
   },
   {
    "duration": 395,
    "start_time": "2021-11-20T12:41:00.499Z"
   },
   {
    "duration": 3705,
    "start_time": "2021-11-20T12:42:31.977Z"
   },
   {
    "duration": 29,
    "start_time": "2021-11-20T12:52:03.515Z"
   },
   {
    "duration": 164,
    "start_time": "2021-11-20T12:53:00.735Z"
   },
   {
    "duration": 24,
    "start_time": "2021-11-20T12:53:16.358Z"
   },
   {
    "duration": 20,
    "start_time": "2021-11-20T12:55:49.770Z"
   },
   {
    "duration": 23,
    "start_time": "2021-11-20T13:01:58.569Z"
   },
   {
    "duration": 8,
    "start_time": "2021-11-20T13:02:13.438Z"
   },
   {
    "duration": 162,
    "start_time": "2021-11-20T13:02:30.139Z"
   },
   {
    "duration": 8,
    "start_time": "2021-11-20T13:02:37.285Z"
   },
   {
    "duration": 9,
    "start_time": "2021-11-20T13:04:07.956Z"
   },
   {
    "duration": 7,
    "start_time": "2021-11-20T13:06:03.001Z"
   },
   {
    "duration": 20,
    "start_time": "2021-11-20T13:06:18.302Z"
   },
   {
    "duration": 9,
    "start_time": "2021-11-20T13:06:36.204Z"
   },
   {
    "duration": 9,
    "start_time": "2021-11-20T13:07:14.272Z"
   },
   {
    "duration": 18,
    "start_time": "2021-11-20T13:07:28.166Z"
   },
   {
    "duration": 20,
    "start_time": "2021-11-20T13:07:50.947Z"
   },
   {
    "duration": 9,
    "start_time": "2021-11-20T13:07:59.771Z"
   },
   {
    "duration": 24,
    "start_time": "2021-11-20T13:14:20.080Z"
   },
   {
    "duration": 25,
    "start_time": "2021-11-20T13:14:28.490Z"
   },
   {
    "duration": 28,
    "start_time": "2021-11-20T13:14:52.962Z"
   },
   {
    "duration": 26,
    "start_time": "2021-11-20T13:15:43.904Z"
   },
   {
    "duration": 8,
    "start_time": "2021-11-20T13:18:25.510Z"
   },
   {
    "duration": 3,
    "start_time": "2021-11-20T13:23:25.838Z"
   },
   {
    "duration": 5,
    "start_time": "2021-11-20T13:25:23.349Z"
   },
   {
    "duration": 17,
    "start_time": "2021-11-20T13:25:32.150Z"
   },
   {
    "duration": 17,
    "start_time": "2021-11-20T13:25:49.170Z"
   },
   {
    "duration": 156,
    "start_time": "2021-11-20T13:28:32.927Z"
   },
   {
    "duration": 5,
    "start_time": "2021-11-20T13:28:36.356Z"
   },
   {
    "duration": 8,
    "start_time": "2021-11-20T13:29:07.054Z"
   },
   {
    "duration": 5,
    "start_time": "2021-11-20T13:29:27.916Z"
   },
   {
    "duration": 5,
    "start_time": "2021-11-20T13:29:38.261Z"
   },
   {
    "duration": 28,
    "start_time": "2021-11-20T13:29:47.149Z"
   },
   {
    "duration": 34,
    "start_time": "2021-11-20T13:29:51.607Z"
   },
   {
    "duration": 162,
    "start_time": "2021-11-20T13:39:38.148Z"
   },
   {
    "duration": 159,
    "start_time": "2021-11-20T13:40:08.366Z"
   },
   {
    "duration": 3048,
    "start_time": "2021-11-20T13:52:36.886Z"
   },
   {
    "duration": 2863,
    "start_time": "2021-11-20T13:52:58.337Z"
   },
   {
    "duration": 1215,
    "start_time": "2021-11-20T13:53:16.560Z"
   },
   {
    "duration": 13,
    "start_time": "2021-11-20T13:53:17.777Z"
   },
   {
    "duration": 18,
    "start_time": "2021-11-20T13:53:17.792Z"
   },
   {
    "duration": 14,
    "start_time": "2021-11-20T13:53:17.812Z"
   },
   {
    "duration": 23,
    "start_time": "2021-11-20T13:53:17.828Z"
   },
   {
    "duration": 38,
    "start_time": "2021-11-20T13:53:17.853Z"
   },
   {
    "duration": 12,
    "start_time": "2021-11-20T13:53:17.893Z"
   },
   {
    "duration": 17,
    "start_time": "2021-11-20T13:53:17.908Z"
   },
   {
    "duration": 9,
    "start_time": "2021-11-20T13:53:17.927Z"
   },
   {
    "duration": 12,
    "start_time": "2021-11-20T13:53:17.938Z"
   },
   {
    "duration": 50,
    "start_time": "2021-11-20T13:53:17.952Z"
   },
   {
    "duration": 22,
    "start_time": "2021-11-20T13:53:18.004Z"
   },
   {
    "duration": 5,
    "start_time": "2021-11-20T13:53:18.028Z"
   },
   {
    "duration": 18,
    "start_time": "2021-11-20T13:53:18.035Z"
   },
   {
    "duration": 41,
    "start_time": "2021-11-20T13:53:18.055Z"
   },
   {
    "duration": 12,
    "start_time": "2021-11-20T13:53:18.098Z"
   },
   {
    "duration": 15,
    "start_time": "2021-11-20T13:53:18.112Z"
   },
   {
    "duration": 29,
    "start_time": "2021-11-20T13:53:18.129Z"
   },
   {
    "duration": 38,
    "start_time": "2021-11-20T13:53:18.159Z"
   },
   {
    "duration": 9,
    "start_time": "2021-11-20T13:53:18.199Z"
   },
   {
    "duration": 10,
    "start_time": "2021-11-20T13:53:18.209Z"
   },
   {
    "duration": 4,
    "start_time": "2021-11-20T13:53:18.221Z"
   },
   {
    "duration": 3350,
    "start_time": "2021-11-20T13:53:18.228Z"
   },
   {
    "duration": -36,
    "start_time": "2021-11-20T13:53:21.616Z"
   },
   {
    "duration": -37,
    "start_time": "2021-11-20T13:53:21.618Z"
   },
   {
    "duration": 7,
    "start_time": "2021-11-20T13:53:54.443Z"
   },
   {
    "duration": 17,
    "start_time": "2021-11-20T13:53:59.893Z"
   },
   {
    "duration": 2956,
    "start_time": "2021-11-20T13:54:49.075Z"
   },
   {
    "duration": 3,
    "start_time": "2021-11-20T13:54:56.799Z"
   },
   {
    "duration": 18,
    "start_time": "2021-11-20T13:55:01.239Z"
   },
   {
    "duration": 23,
    "start_time": "2021-11-20T13:55:19.291Z"
   },
   {
    "duration": 4,
    "start_time": "2021-11-20T13:55:40.028Z"
   },
   {
    "duration": 22,
    "start_time": "2021-11-20T13:55:42.552Z"
   },
   {
    "duration": 4,
    "start_time": "2021-11-20T13:55:55.570Z"
   },
   {
    "duration": 167,
    "start_time": "2021-11-20T13:56:32.073Z"
   },
   {
    "duration": 3,
    "start_time": "2021-11-20T13:56:57.224Z"
   },
   {
    "duration": 3,
    "start_time": "2021-11-20T13:57:06.064Z"
   },
   {
    "duration": 23,
    "start_time": "2021-11-20T13:57:08.481Z"
   },
   {
    "duration": 1262,
    "start_time": "2021-11-20T13:57:20.072Z"
   },
   {
    "duration": 14,
    "start_time": "2021-11-20T13:57:21.336Z"
   },
   {
    "duration": 26,
    "start_time": "2021-11-20T13:57:21.352Z"
   },
   {
    "duration": 28,
    "start_time": "2021-11-20T13:57:21.380Z"
   },
   {
    "duration": 36,
    "start_time": "2021-11-20T13:57:21.409Z"
   },
   {
    "duration": 6,
    "start_time": "2021-11-20T13:57:21.447Z"
   },
   {
    "duration": 16,
    "start_time": "2021-11-20T13:57:21.454Z"
   },
   {
    "duration": 37,
    "start_time": "2021-11-20T13:57:21.472Z"
   },
   {
    "duration": 18,
    "start_time": "2021-11-20T13:57:21.511Z"
   },
   {
    "duration": 28,
    "start_time": "2021-11-20T13:57:21.530Z"
   },
   {
    "duration": 34,
    "start_time": "2021-11-20T13:57:21.559Z"
   },
   {
    "duration": 45,
    "start_time": "2021-11-20T13:57:21.595Z"
   },
   {
    "duration": 6,
    "start_time": "2021-11-20T13:57:21.642Z"
   },
   {
    "duration": 32,
    "start_time": "2021-11-20T13:57:21.650Z"
   },
   {
    "duration": 31,
    "start_time": "2021-11-20T13:57:21.684Z"
   },
   {
    "duration": 14,
    "start_time": "2021-11-20T13:57:21.716Z"
   },
   {
    "duration": 26,
    "start_time": "2021-11-20T13:57:21.732Z"
   },
   {
    "duration": 52,
    "start_time": "2021-11-20T13:57:21.760Z"
   },
   {
    "duration": 8,
    "start_time": "2021-11-20T13:57:21.813Z"
   },
   {
    "duration": 9,
    "start_time": "2021-11-20T13:57:21.823Z"
   },
   {
    "duration": 10,
    "start_time": "2021-11-20T13:57:21.834Z"
   },
   {
    "duration": 7,
    "start_time": "2021-11-20T13:57:21.846Z"
   },
   {
    "duration": 5,
    "start_time": "2021-11-20T13:57:21.855Z"
   },
   {
    "duration": 46,
    "start_time": "2021-11-20T13:57:21.861Z"
   },
   {
    "duration": 18,
    "start_time": "2021-11-20T13:57:21.908Z"
   },
   {
    "duration": 239,
    "start_time": "2021-11-20T13:59:18.317Z"
   },
   {
    "duration": 1947,
    "start_time": "2021-11-20T14:00:45.081Z"
   },
   {
    "duration": 5,
    "start_time": "2021-11-20T14:01:13.341Z"
   },
   {
    "duration": 23,
    "start_time": "2021-11-20T14:01:18.899Z"
   },
   {
    "duration": 5,
    "start_time": "2021-11-20T14:01:35.967Z"
   },
   {
    "duration": 22,
    "start_time": "2021-11-20T14:01:38.618Z"
   },
   {
    "duration": 4,
    "start_time": "2021-11-20T14:02:08.160Z"
   },
   {
    "duration": 23,
    "start_time": "2021-11-20T14:02:10.398Z"
   },
   {
    "duration": 4,
    "start_time": "2021-11-20T14:02:16.792Z"
   },
   {
    "duration": 3,
    "start_time": "2021-11-20T14:02:23.353Z"
   },
   {
    "duration": 23,
    "start_time": "2021-11-20T14:02:25.225Z"
   },
   {
    "duration": 3,
    "start_time": "2021-11-20T14:02:40.168Z"
   },
   {
    "duration": 24,
    "start_time": "2021-11-20T14:02:42.264Z"
   },
   {
    "duration": 4,
    "start_time": "2021-11-20T14:03:08.649Z"
   },
   {
    "duration": 23,
    "start_time": "2021-11-20T14:03:11.689Z"
   },
   {
    "duration": 3,
    "start_time": "2021-11-20T14:03:27.432Z"
   },
   {
    "duration": 24,
    "start_time": "2021-11-20T14:03:30.280Z"
   },
   {
    "duration": 3,
    "start_time": "2021-11-20T14:03:41.201Z"
   },
   {
    "duration": 24,
    "start_time": "2021-11-20T14:03:46.059Z"
   },
   {
    "duration": 4,
    "start_time": "2021-11-20T14:04:10.148Z"
   },
   {
    "duration": 25,
    "start_time": "2021-11-20T14:04:12.617Z"
   },
   {
    "duration": 3,
    "start_time": "2021-11-20T14:11:57.438Z"
   },
   {
    "duration": 5,
    "start_time": "2021-11-20T14:12:01.830Z"
   },
   {
    "duration": 22,
    "start_time": "2021-11-20T14:12:12.820Z"
   },
   {
    "duration": 1285,
    "start_time": "2021-11-20T14:12:26.777Z"
   },
   {
    "duration": 16,
    "start_time": "2021-11-20T14:12:28.064Z"
   },
   {
    "duration": 19,
    "start_time": "2021-11-20T14:12:28.083Z"
   },
   {
    "duration": 16,
    "start_time": "2021-11-20T14:12:28.104Z"
   },
   {
    "duration": 25,
    "start_time": "2021-11-20T14:12:28.122Z"
   },
   {
    "duration": 8,
    "start_time": "2021-11-20T14:12:28.149Z"
   },
   {
    "duration": 40,
    "start_time": "2021-11-20T14:12:28.159Z"
   },
   {
    "duration": 18,
    "start_time": "2021-11-20T14:12:28.202Z"
   },
   {
    "duration": 8,
    "start_time": "2021-11-20T14:12:28.223Z"
   },
   {
    "duration": 13,
    "start_time": "2021-11-20T14:12:28.233Z"
   },
   {
    "duration": 51,
    "start_time": "2021-11-20T14:12:28.248Z"
   },
   {
    "duration": 24,
    "start_time": "2021-11-20T14:12:28.301Z"
   },
   {
    "duration": 5,
    "start_time": "2021-11-20T14:12:28.327Z"
   },
   {
    "duration": 19,
    "start_time": "2021-11-20T14:12:28.334Z"
   },
   {
    "duration": 37,
    "start_time": "2021-11-20T14:12:28.356Z"
   },
   {
    "duration": 14,
    "start_time": "2021-11-20T14:12:28.395Z"
   },
   {
    "duration": 13,
    "start_time": "2021-11-20T14:12:28.411Z"
   },
   {
    "duration": 29,
    "start_time": "2021-11-20T14:12:28.426Z"
   },
   {
    "duration": 39,
    "start_time": "2021-11-20T14:12:28.457Z"
   },
   {
    "duration": 15,
    "start_time": "2021-11-20T14:12:28.497Z"
   },
   {
    "duration": 10,
    "start_time": "2021-11-20T14:12:28.514Z"
   },
   {
    "duration": 6,
    "start_time": "2021-11-20T14:12:28.525Z"
   },
   {
    "duration": 6,
    "start_time": "2021-11-20T14:12:28.533Z"
   },
   {
    "duration": 28,
    "start_time": "2021-11-20T14:12:28.541Z"
   },
   {
    "duration": 35,
    "start_time": "2021-11-20T14:12:28.571Z"
   },
   {
    "duration": 4,
    "start_time": "2021-11-20T14:13:00.455Z"
   },
   {
    "duration": 23,
    "start_time": "2021-11-20T14:13:02.974Z"
   },
   {
    "duration": 17,
    "start_time": "2021-11-20T14:16:09.252Z"
   },
   {
    "duration": 4,
    "start_time": "2021-11-20T14:16:39.409Z"
   },
   {
    "duration": 5,
    "start_time": "2021-11-20T14:16:42.801Z"
   },
   {
    "duration": 5541,
    "start_time": "2021-11-20T14:16:58.953Z"
   },
   {
    "duration": 12,
    "start_time": "2021-11-20T14:18:45.934Z"
   },
   {
    "duration": 26,
    "start_time": "2021-11-20T14:18:52.799Z"
   },
   {
    "duration": 342,
    "start_time": "2021-11-20T14:19:14.355Z"
   },
   {
    "duration": 15,
    "start_time": "2021-11-20T14:20:22.700Z"
   },
   {
    "duration": 14,
    "start_time": "2021-11-20T14:20:34.913Z"
   },
   {
    "duration": 57,
    "start_time": "2021-11-20T14:22:47.680Z"
   },
   {
    "duration": 6,
    "start_time": "2021-11-20T14:23:16.410Z"
   },
   {
    "duration": 6,
    "start_time": "2021-11-20T14:23:31.469Z"
   },
   {
    "duration": 3,
    "start_time": "2021-11-20T14:23:34.155Z"
   },
   {
    "duration": 3,
    "start_time": "2021-11-20T14:23:35.968Z"
   },
   {
    "duration": 25,
    "start_time": "2021-11-20T14:23:38.143Z"
   },
   {
    "duration": 1239,
    "start_time": "2021-11-20T14:23:52.396Z"
   },
   {
    "duration": 16,
    "start_time": "2021-11-20T14:23:53.636Z"
   },
   {
    "duration": 20,
    "start_time": "2021-11-20T14:23:53.654Z"
   },
   {
    "duration": 19,
    "start_time": "2021-11-20T14:23:53.676Z"
   },
   {
    "duration": 22,
    "start_time": "2021-11-20T14:23:53.697Z"
   },
   {
    "duration": 8,
    "start_time": "2021-11-20T14:23:53.721Z"
   },
   {
    "duration": 9,
    "start_time": "2021-11-20T14:23:53.731Z"
   },
   {
    "duration": 17,
    "start_time": "2021-11-20T14:23:53.742Z"
   },
   {
    "duration": 38,
    "start_time": "2021-11-20T14:23:53.760Z"
   },
   {
    "duration": 12,
    "start_time": "2021-11-20T14:23:53.799Z"
   },
   {
    "duration": 12,
    "start_time": "2021-11-20T14:23:53.812Z"
   },
   {
    "duration": 20,
    "start_time": "2021-11-20T14:23:53.825Z"
   },
   {
    "duration": 4,
    "start_time": "2021-11-20T14:23:53.847Z"
   },
   {
    "duration": 50,
    "start_time": "2021-11-20T14:23:53.852Z"
   },
   {
    "duration": 8,
    "start_time": "2021-11-20T14:23:53.903Z"
   },
   {
    "duration": 12,
    "start_time": "2021-11-20T14:23:53.912Z"
   },
   {
    "duration": 10,
    "start_time": "2021-11-20T14:23:53.926Z"
   },
   {
    "duration": 54,
    "start_time": "2021-11-20T14:23:53.938Z"
   },
   {
    "duration": 8,
    "start_time": "2021-11-20T14:23:53.994Z"
   },
   {
    "duration": 12,
    "start_time": "2021-11-20T14:23:54.004Z"
   },
   {
    "duration": 11,
    "start_time": "2021-11-20T14:23:54.017Z"
   },
   {
    "duration": 5,
    "start_time": "2021-11-20T14:23:54.030Z"
   },
   {
    "duration": 5,
    "start_time": "2021-11-20T14:23:54.039Z"
   },
   {
    "duration": 5,
    "start_time": "2021-11-20T14:23:54.046Z"
   },
   {
    "duration": 39,
    "start_time": "2021-11-20T14:23:54.052Z"
   },
   {
    "duration": 24,
    "start_time": "2021-11-20T14:23:54.093Z"
   },
   {
    "duration": 20,
    "start_time": "2021-11-20T14:23:54.118Z"
   },
   {
    "duration": 245,
    "start_time": "2021-11-20T14:46:07.611Z"
   },
   {
    "duration": 164,
    "start_time": "2021-11-20T14:46:16.466Z"
   },
   {
    "duration": 447,
    "start_time": "2021-11-20T14:46:30.436Z"
   },
   {
    "duration": 174,
    "start_time": "2021-11-20T14:46:44.241Z"
   },
   {
    "duration": 165,
    "start_time": "2021-11-20T14:47:13.152Z"
   },
   {
    "duration": 156,
    "start_time": "2021-11-20T14:47:43.918Z"
   },
   {
    "duration": 159,
    "start_time": "2021-11-20T14:58:36.655Z"
   },
   {
    "duration": 176,
    "start_time": "2021-11-20T14:59:11.895Z"
   },
   {
    "duration": 160,
    "start_time": "2021-11-20T15:04:35.454Z"
   },
   {
    "duration": 168,
    "start_time": "2021-11-20T15:06:24.918Z"
   },
   {
    "duration": 171,
    "start_time": "2021-11-20T15:06:34.794Z"
   },
   {
    "duration": 232,
    "start_time": "2021-11-20T15:07:33.074Z"
   },
   {
    "duration": 8,
    "start_time": "2021-11-20T15:07:36.751Z"
   },
   {
    "duration": 162,
    "start_time": "2021-11-20T15:07:39.416Z"
   },
   {
    "duration": 4,
    "start_time": "2021-11-20T15:07:42.285Z"
   },
   {
    "duration": 154,
    "start_time": "2021-11-20T15:10:33.380Z"
   },
   {
    "duration": 4,
    "start_time": "2021-11-20T15:11:56.904Z"
   },
   {
    "duration": 14,
    "start_time": "2021-11-20T15:12:05.867Z"
   },
   {
    "duration": 164,
    "start_time": "2021-11-20T15:12:19.213Z"
   },
   {
    "duration": 6,
    "start_time": "2021-11-20T15:12:42.021Z"
   },
   {
    "duration": 151,
    "start_time": "2021-11-20T15:12:44.647Z"
   },
   {
    "duration": 162,
    "start_time": "2021-11-20T15:12:51.917Z"
   },
   {
    "duration": 14,
    "start_time": "2021-11-20T15:13:10.611Z"
   },
   {
    "duration": 3,
    "start_time": "2021-11-20T15:14:01.020Z"
   },
   {
    "duration": 4,
    "start_time": "2021-11-20T15:14:05.880Z"
   },
   {
    "duration": 4,
    "start_time": "2021-11-20T15:14:35.631Z"
   },
   {
    "duration": 4,
    "start_time": "2021-11-20T15:14:38.357Z"
   },
   {
    "duration": 4,
    "start_time": "2021-11-20T15:14:55.720Z"
   },
   {
    "duration": 6,
    "start_time": "2021-11-20T15:14:58.664Z"
   },
   {
    "duration": 1191,
    "start_time": "2021-11-20T15:15:04.924Z"
   },
   {
    "duration": 13,
    "start_time": "2021-11-20T15:15:06.116Z"
   },
   {
    "duration": 16,
    "start_time": "2021-11-20T15:15:06.131Z"
   },
   {
    "duration": 13,
    "start_time": "2021-11-20T15:15:06.149Z"
   },
   {
    "duration": 41,
    "start_time": "2021-11-20T15:15:06.164Z"
   },
   {
    "duration": 7,
    "start_time": "2021-11-20T15:15:06.207Z"
   },
   {
    "duration": 9,
    "start_time": "2021-11-20T15:15:06.216Z"
   },
   {
    "duration": 17,
    "start_time": "2021-11-20T15:15:06.228Z"
   },
   {
    "duration": 8,
    "start_time": "2021-11-20T15:15:06.247Z"
   },
   {
    "duration": 44,
    "start_time": "2021-11-20T15:15:06.256Z"
   },
   {
    "duration": 12,
    "start_time": "2021-11-20T15:15:06.302Z"
   },
   {
    "duration": 20,
    "start_time": "2021-11-20T15:15:06.315Z"
   },
   {
    "duration": 4,
    "start_time": "2021-11-20T15:15:06.337Z"
   },
   {
    "duration": 24,
    "start_time": "2021-11-20T15:15:06.342Z"
   },
   {
    "duration": 29,
    "start_time": "2021-11-20T15:15:06.368Z"
   },
   {
    "duration": 13,
    "start_time": "2021-11-20T15:15:06.398Z"
   },
   {
    "duration": 11,
    "start_time": "2021-11-20T15:15:06.412Z"
   },
   {
    "duration": 43,
    "start_time": "2021-11-20T15:15:06.425Z"
   },
   {
    "duration": 29,
    "start_time": "2021-11-20T15:15:06.469Z"
   },
   {
    "duration": 8,
    "start_time": "2021-11-20T15:15:06.499Z"
   },
   {
    "duration": 7,
    "start_time": "2021-11-20T15:15:06.509Z"
   },
   {
    "duration": 3,
    "start_time": "2021-11-20T15:15:06.518Z"
   },
   {
    "duration": 6,
    "start_time": "2021-11-20T15:15:06.524Z"
   },
   {
    "duration": 251,
    "start_time": "2021-11-20T15:15:06.532Z"
   },
   {
    "duration": -29,
    "start_time": "2021-11-20T15:15:06.814Z"
   },
   {
    "duration": -30,
    "start_time": "2021-11-20T15:15:06.816Z"
   },
   {
    "duration": -31,
    "start_time": "2021-11-20T15:15:06.818Z"
   },
   {
    "duration": 169,
    "start_time": "2021-11-20T15:24:08.153Z"
   },
   {
    "duration": 160,
    "start_time": "2021-11-20T15:26:42.557Z"
   },
   {
    "duration": 214,
    "start_time": "2021-11-20T15:30:52.198Z"
   },
   {
    "duration": 172,
    "start_time": "2021-11-20T15:31:02.148Z"
   },
   {
    "duration": 3948,
    "start_time": "2021-11-20T15:36:17.805Z"
   },
   {
    "duration": 10,
    "start_time": "2021-11-20T15:36:41.351Z"
   },
   {
    "duration": 15,
    "start_time": "2021-11-20T15:37:10.844Z"
   },
   {
    "duration": 5,
    "start_time": "2021-11-20T15:37:23.243Z"
   },
   {
    "duration": 37,
    "start_time": "2021-11-20T15:37:25.435Z"
   },
   {
    "duration": 10,
    "start_time": "2021-11-20T15:37:59.836Z"
   },
   {
    "duration": 3,
    "start_time": "2021-11-20T15:38:02.589Z"
   },
   {
    "duration": 27,
    "start_time": "2021-11-20T15:38:04.904Z"
   },
   {
    "duration": 1555,
    "start_time": "2021-11-20T15:38:15.814Z"
   },
   {
    "duration": 14,
    "start_time": "2021-11-20T15:38:17.371Z"
   },
   {
    "duration": 19,
    "start_time": "2021-11-20T15:38:17.388Z"
   },
   {
    "duration": 14,
    "start_time": "2021-11-20T15:38:17.409Z"
   },
   {
    "duration": 41,
    "start_time": "2021-11-20T15:38:17.425Z"
   },
   {
    "duration": 7,
    "start_time": "2021-11-20T15:38:17.468Z"
   },
   {
    "duration": 19,
    "start_time": "2021-11-20T15:38:17.477Z"
   },
   {
    "duration": 16,
    "start_time": "2021-11-20T15:38:17.499Z"
   },
   {
    "duration": 8,
    "start_time": "2021-11-20T15:38:17.518Z"
   },
   {
    "duration": 13,
    "start_time": "2021-11-20T15:38:17.527Z"
   },
   {
    "duration": 45,
    "start_time": "2021-11-20T15:38:17.542Z"
   },
   {
    "duration": 28,
    "start_time": "2021-11-20T15:38:17.589Z"
   },
   {
    "duration": 4,
    "start_time": "2021-11-20T15:38:17.619Z"
   },
   {
    "duration": 27,
    "start_time": "2021-11-20T15:38:17.625Z"
   },
   {
    "duration": 13,
    "start_time": "2021-11-20T15:38:17.654Z"
   },
   {
    "duration": 23,
    "start_time": "2021-11-20T15:38:17.669Z"
   },
   {
    "duration": 18,
    "start_time": "2021-11-20T15:38:17.693Z"
   },
   {
    "duration": 57,
    "start_time": "2021-11-20T15:38:17.712Z"
   },
   {
    "duration": 7,
    "start_time": "2021-11-20T15:38:17.771Z"
   },
   {
    "duration": 34,
    "start_time": "2021-11-20T15:38:17.779Z"
   },
   {
    "duration": 31,
    "start_time": "2021-11-20T15:38:17.815Z"
   },
   {
    "duration": 18,
    "start_time": "2021-11-20T15:38:17.848Z"
   },
   {
    "duration": 11,
    "start_time": "2021-11-20T15:38:17.869Z"
   },
   {
    "duration": 37,
    "start_time": "2021-11-20T15:38:17.882Z"
   },
   {
    "duration": 25,
    "start_time": "2021-11-20T15:38:17.920Z"
   },
   {
    "duration": 45,
    "start_time": "2021-11-20T15:38:17.947Z"
   },
   {
    "duration": 24,
    "start_time": "2021-11-20T15:38:17.994Z"
   },
   {
    "duration": 1290,
    "start_time": "2021-11-20T15:43:51.670Z"
   },
   {
    "duration": 4,
    "start_time": "2021-11-20T15:44:43.443Z"
   },
   {
    "duration": 4,
    "start_time": "2021-11-20T15:45:57.185Z"
   },
   {
    "duration": 173,
    "start_time": "2021-11-20T15:46:04.981Z"
   },
   {
    "duration": 5,
    "start_time": "2021-11-20T15:51:11.510Z"
   },
   {
    "duration": 155,
    "start_time": "2021-11-20T15:54:09.520Z"
   },
   {
    "duration": 164,
    "start_time": "2021-11-20T15:54:18.748Z"
   },
   {
    "duration": 2,
    "start_time": "2021-11-20T15:58:04.838Z"
   },
   {
    "duration": 6,
    "start_time": "2021-11-20T15:58:08.532Z"
   },
   {
    "duration": 167,
    "start_time": "2021-11-20T15:58:23.654Z"
   },
   {
    "duration": 4,
    "start_time": "2021-11-20T16:03:01.898Z"
   },
   {
    "duration": 4,
    "start_time": "2021-11-20T16:03:13.637Z"
   },
   {
    "duration": 25,
    "start_time": "2021-11-20T16:03:16.174Z"
   },
   {
    "duration": 4,
    "start_time": "2021-11-20T16:03:30.223Z"
   },
   {
    "duration": 5,
    "start_time": "2021-11-20T16:05:55.940Z"
   },
   {
    "duration": 4,
    "start_time": "2021-11-20T16:05:58.360Z"
   },
   {
    "duration": 25,
    "start_time": "2021-11-20T16:06:01.556Z"
   },
   {
    "duration": 1140,
    "start_time": "2021-11-20T16:06:11.856Z"
   },
   {
    "duration": 16,
    "start_time": "2021-11-20T16:06:12.998Z"
   },
   {
    "duration": 18,
    "start_time": "2021-11-20T16:06:13.016Z"
   },
   {
    "duration": 15,
    "start_time": "2021-11-20T16:06:13.035Z"
   },
   {
    "duration": 51,
    "start_time": "2021-11-20T16:06:13.051Z"
   },
   {
    "duration": 8,
    "start_time": "2021-11-20T16:06:13.103Z"
   },
   {
    "duration": 12,
    "start_time": "2021-11-20T16:06:13.113Z"
   },
   {
    "duration": 16,
    "start_time": "2021-11-20T16:06:13.128Z"
   },
   {
    "duration": 7,
    "start_time": "2021-11-20T16:06:13.146Z"
   },
   {
    "duration": 40,
    "start_time": "2021-11-20T16:06:13.155Z"
   },
   {
    "duration": 12,
    "start_time": "2021-11-20T16:06:13.196Z"
   },
   {
    "duration": 23,
    "start_time": "2021-11-20T16:06:13.209Z"
   },
   {
    "duration": 4,
    "start_time": "2021-11-20T16:06:13.233Z"
   },
   {
    "duration": 19,
    "start_time": "2021-11-20T16:06:13.238Z"
   },
   {
    "duration": 33,
    "start_time": "2021-11-20T16:06:13.259Z"
   },
   {
    "duration": 12,
    "start_time": "2021-11-20T16:06:13.294Z"
   },
   {
    "duration": 16,
    "start_time": "2021-11-20T16:06:13.308Z"
   },
   {
    "duration": 30,
    "start_time": "2021-11-20T16:06:13.325Z"
   },
   {
    "duration": 7,
    "start_time": "2021-11-20T16:06:13.356Z"
   },
   {
    "duration": 30,
    "start_time": "2021-11-20T16:06:13.364Z"
   },
   {
    "duration": 9,
    "start_time": "2021-11-20T16:06:13.396Z"
   },
   {
    "duration": 5,
    "start_time": "2021-11-20T16:06:13.407Z"
   },
   {
    "duration": 7,
    "start_time": "2021-11-20T16:06:13.415Z"
   },
   {
    "duration": 7,
    "start_time": "2021-11-20T16:06:13.424Z"
   },
   {
    "duration": 5,
    "start_time": "2021-11-20T16:06:13.432Z"
   },
   {
    "duration": 26,
    "start_time": "2021-11-20T16:06:13.439Z"
   },
   {
    "duration": 43,
    "start_time": "2021-11-20T16:06:13.467Z"
   },
   {
    "duration": 4,
    "start_time": "2021-11-20T16:06:41.671Z"
   },
   {
    "duration": 4,
    "start_time": "2021-11-20T16:06:53.733Z"
   },
   {
    "duration": 3,
    "start_time": "2021-11-20T16:06:55.927Z"
   },
   {
    "duration": 23,
    "start_time": "2021-11-20T16:06:57.588Z"
   },
   {
    "duration": 4,
    "start_time": "2021-11-20T16:07:18.782Z"
   },
   {
    "duration": 241,
    "start_time": "2021-11-20T16:07:23.191Z"
   },
   {
    "duration": 4,
    "start_time": "2021-11-20T16:07:28.728Z"
   },
   {
    "duration": 4,
    "start_time": "2021-11-20T16:07:36.088Z"
   },
   {
    "duration": 4,
    "start_time": "2021-11-20T16:07:39.891Z"
   },
   {
    "duration": 4,
    "start_time": "2021-11-20T16:07:54.570Z"
   },
   {
    "duration": 159,
    "start_time": "2021-11-20T16:07:57.897Z"
   },
   {
    "duration": 154,
    "start_time": "2021-11-20T16:08:47.566Z"
   },
   {
    "duration": 157,
    "start_time": "2021-11-20T16:09:16.381Z"
   },
   {
    "duration": 3,
    "start_time": "2021-11-20T16:22:43.446Z"
   },
   {
    "duration": 4,
    "start_time": "2021-11-20T16:22:51.840Z"
   },
   {
    "duration": 4,
    "start_time": "2021-11-20T16:24:04.842Z"
   },
   {
    "duration": 6,
    "start_time": "2021-11-20T16:24:17.103Z"
   },
   {
    "duration": 159,
    "start_time": "2021-11-20T16:24:19.473Z"
   },
   {
    "duration": 31,
    "start_time": "2021-11-20T16:25:52.319Z"
   },
   {
    "duration": 23,
    "start_time": "2021-11-20T16:25:56.718Z"
   },
   {
    "duration": 1192,
    "start_time": "2021-11-20T16:26:09.995Z"
   },
   {
    "duration": 12,
    "start_time": "2021-11-20T16:26:11.189Z"
   },
   {
    "duration": 26,
    "start_time": "2021-11-20T16:26:11.203Z"
   },
   {
    "duration": 28,
    "start_time": "2021-11-20T16:26:11.231Z"
   },
   {
    "duration": 26,
    "start_time": "2021-11-20T16:26:11.261Z"
   },
   {
    "duration": 15,
    "start_time": "2021-11-20T16:26:11.289Z"
   },
   {
    "duration": 17,
    "start_time": "2021-11-20T16:26:11.306Z"
   },
   {
    "duration": 30,
    "start_time": "2021-11-20T16:26:11.326Z"
   },
   {
    "duration": 19,
    "start_time": "2021-11-20T16:26:11.358Z"
   },
   {
    "duration": 23,
    "start_time": "2021-11-20T16:26:11.379Z"
   },
   {
    "duration": 23,
    "start_time": "2021-11-20T16:26:11.403Z"
   },
   {
    "duration": 25,
    "start_time": "2021-11-20T16:26:11.428Z"
   },
   {
    "duration": 6,
    "start_time": "2021-11-20T16:26:11.455Z"
   },
   {
    "duration": 35,
    "start_time": "2021-11-20T16:26:11.462Z"
   },
   {
    "duration": 18,
    "start_time": "2021-11-20T16:26:11.499Z"
   },
   {
    "duration": 14,
    "start_time": "2021-11-20T16:26:11.518Z"
   },
   {
    "duration": 17,
    "start_time": "2021-11-20T16:26:11.533Z"
   },
   {
    "duration": 28,
    "start_time": "2021-11-20T16:26:11.552Z"
   },
   {
    "duration": 15,
    "start_time": "2021-11-20T16:26:11.582Z"
   },
   {
    "duration": 9,
    "start_time": "2021-11-20T16:26:11.598Z"
   },
   {
    "duration": 10,
    "start_time": "2021-11-20T16:26:11.608Z"
   },
   {
    "duration": 5,
    "start_time": "2021-11-20T16:26:11.620Z"
   },
   {
    "duration": 5,
    "start_time": "2021-11-20T16:26:11.628Z"
   },
   {
    "duration": 60,
    "start_time": "2021-11-20T16:26:11.634Z"
   },
   {
    "duration": 24,
    "start_time": "2021-11-20T16:26:11.696Z"
   },
   {
    "duration": 331,
    "start_time": "2021-11-20T16:27:35.739Z"
   },
   {
    "duration": 18,
    "start_time": "2021-11-20T16:31:04.103Z"
   },
   {
    "duration": 16,
    "start_time": "2021-11-20T16:31:18.225Z"
   },
   {
    "duration": 32,
    "start_time": "2021-11-20T16:31:27.770Z"
   },
   {
    "duration": 4,
    "start_time": "2021-11-20T16:32:52.365Z"
   },
   {
    "duration": 28,
    "start_time": "2021-11-20T16:32:54.420Z"
   },
   {
    "duration": 1185,
    "start_time": "2021-11-20T16:33:08.167Z"
   },
   {
    "duration": 13,
    "start_time": "2021-11-20T16:33:09.354Z"
   },
   {
    "duration": 31,
    "start_time": "2021-11-20T16:33:09.369Z"
   },
   {
    "duration": 21,
    "start_time": "2021-11-20T16:33:09.402Z"
   },
   {
    "duration": 49,
    "start_time": "2021-11-20T16:33:09.425Z"
   },
   {
    "duration": 7,
    "start_time": "2021-11-20T16:33:09.476Z"
   },
   {
    "duration": 25,
    "start_time": "2021-11-20T16:33:09.484Z"
   },
   {
    "duration": 26,
    "start_time": "2021-11-20T16:33:09.511Z"
   },
   {
    "duration": 7,
    "start_time": "2021-11-20T16:33:09.539Z"
   },
   {
    "duration": 10,
    "start_time": "2021-11-20T16:33:09.548Z"
   },
   {
    "duration": 10,
    "start_time": "2021-11-20T16:33:09.560Z"
   },
   {
    "duration": 27,
    "start_time": "2021-11-20T16:33:09.572Z"
   },
   {
    "duration": 5,
    "start_time": "2021-11-20T16:33:09.601Z"
   },
   {
    "duration": 17,
    "start_time": "2021-11-20T16:33:09.608Z"
   },
   {
    "duration": 8,
    "start_time": "2021-11-20T16:33:09.626Z"
   },
   {
    "duration": 12,
    "start_time": "2021-11-20T16:33:09.636Z"
   },
   {
    "duration": 48,
    "start_time": "2021-11-20T16:33:09.650Z"
   },
   {
    "duration": 26,
    "start_time": "2021-11-20T16:33:09.700Z"
   },
   {
    "duration": 9,
    "start_time": "2021-11-20T16:33:09.728Z"
   },
   {
    "duration": 8,
    "start_time": "2021-11-20T16:33:09.738Z"
   },
   {
    "duration": 7,
    "start_time": "2021-11-20T16:33:09.748Z"
   },
   {
    "duration": 42,
    "start_time": "2021-11-20T16:33:09.756Z"
   },
   {
    "duration": 31,
    "start_time": "2021-11-20T16:33:09.801Z"
   },
   {
    "duration": 5,
    "start_time": "2021-11-20T16:33:09.834Z"
   },
   {
    "duration": 23,
    "start_time": "2021-11-20T16:33:09.841Z"
   },
   {
    "duration": 44,
    "start_time": "2021-11-20T16:35:12.080Z"
   },
   {
    "duration": 37,
    "start_time": "2021-11-20T16:35:25.290Z"
   },
   {
    "duration": 38,
    "start_time": "2021-11-20T16:36:25.567Z"
   },
   {
    "duration": 28,
    "start_time": "2021-11-20T16:37:08.935Z"
   },
   {
    "duration": 7,
    "start_time": "2021-11-20T16:37:53.507Z"
   },
   {
    "duration": 31,
    "start_time": "2021-11-20T16:37:55.964Z"
   },
   {
    "duration": 114,
    "start_time": "2021-11-20T16:39:25.163Z"
   },
   {
    "duration": 1281,
    "start_time": "2021-11-20T16:39:34.981Z"
   },
   {
    "duration": 14,
    "start_time": "2021-11-20T16:39:36.264Z"
   },
   {
    "duration": 20,
    "start_time": "2021-11-20T16:39:36.279Z"
   },
   {
    "duration": 23,
    "start_time": "2021-11-20T16:39:36.302Z"
   },
   {
    "duration": 22,
    "start_time": "2021-11-20T16:39:36.327Z"
   },
   {
    "duration": 7,
    "start_time": "2021-11-20T16:39:36.351Z"
   },
   {
    "duration": 39,
    "start_time": "2021-11-20T16:39:36.359Z"
   },
   {
    "duration": 28,
    "start_time": "2021-11-20T16:39:36.400Z"
   },
   {
    "duration": 8,
    "start_time": "2021-11-20T16:39:36.429Z"
   },
   {
    "duration": 11,
    "start_time": "2021-11-20T16:39:36.439Z"
   },
   {
    "duration": 12,
    "start_time": "2021-11-20T16:39:36.452Z"
   },
   {
    "duration": 32,
    "start_time": "2021-11-20T16:39:36.492Z"
   },
   {
    "duration": 4,
    "start_time": "2021-11-20T16:39:36.526Z"
   },
   {
    "duration": 23,
    "start_time": "2021-11-20T16:39:36.532Z"
   },
   {
    "duration": 35,
    "start_time": "2021-11-20T16:39:36.556Z"
   },
   {
    "duration": 23,
    "start_time": "2021-11-20T16:39:36.594Z"
   },
   {
    "duration": 11,
    "start_time": "2021-11-20T16:39:36.619Z"
   },
   {
    "duration": 31,
    "start_time": "2021-11-20T16:39:36.632Z"
   },
   {
    "duration": 27,
    "start_time": "2021-11-20T16:39:36.664Z"
   },
   {
    "duration": 8,
    "start_time": "2021-11-20T16:39:36.693Z"
   },
   {
    "duration": 13,
    "start_time": "2021-11-20T16:39:36.702Z"
   },
   {
    "duration": 6,
    "start_time": "2021-11-20T16:39:36.716Z"
   },
   {
    "duration": 76,
    "start_time": "2021-11-20T16:39:36.724Z"
   },
   {
    "duration": 46,
    "start_time": "2021-11-20T16:40:48.815Z"
   },
   {
    "duration": 9,
    "start_time": "2021-11-20T16:49:11.092Z"
   },
   {
    "duration": 12,
    "start_time": "2021-11-20T16:49:21.082Z"
   },
   {
    "duration": 28,
    "start_time": "2021-11-20T16:49:27.835Z"
   },
   {
    "duration": 28,
    "start_time": "2021-11-20T16:49:46.327Z"
   },
   {
    "duration": 5,
    "start_time": "2021-11-20T16:51:07.007Z"
   },
   {
    "duration": 4,
    "start_time": "2021-11-20T16:51:51.705Z"
   },
   {
    "duration": 6,
    "start_time": "2021-11-20T16:52:26.325Z"
   },
   {
    "duration": 22,
    "start_time": "2021-11-20T16:52:39.908Z"
   },
   {
    "duration": 23,
    "start_time": "2021-11-20T16:53:07.081Z"
   },
   {
    "duration": 22,
    "start_time": "2021-11-20T16:53:15.917Z"
   },
   {
    "duration": 1137,
    "start_time": "2021-11-20T16:53:26.863Z"
   },
   {
    "duration": 13,
    "start_time": "2021-11-20T16:53:28.002Z"
   },
   {
    "duration": 24,
    "start_time": "2021-11-20T16:53:28.016Z"
   },
   {
    "duration": 25,
    "start_time": "2021-11-20T16:53:28.042Z"
   },
   {
    "duration": 31,
    "start_time": "2021-11-20T16:53:28.069Z"
   },
   {
    "duration": 7,
    "start_time": "2021-11-20T16:53:28.102Z"
   },
   {
    "duration": 27,
    "start_time": "2021-11-20T16:53:28.110Z"
   },
   {
    "duration": 51,
    "start_time": "2021-11-20T16:53:28.139Z"
   },
   {
    "duration": 7,
    "start_time": "2021-11-20T16:53:28.192Z"
   },
   {
    "duration": 29,
    "start_time": "2021-11-20T16:53:28.200Z"
   },
   {
    "duration": 42,
    "start_time": "2021-11-20T16:53:28.230Z"
   },
   {
    "duration": 20,
    "start_time": "2021-11-20T16:53:28.274Z"
   },
   {
    "duration": 8,
    "start_time": "2021-11-20T16:53:28.296Z"
   },
   {
    "duration": 24,
    "start_time": "2021-11-20T16:53:28.306Z"
   },
   {
    "duration": 34,
    "start_time": "2021-11-20T16:53:28.332Z"
   },
   {
    "duration": 24,
    "start_time": "2021-11-20T16:53:28.367Z"
   },
   {
    "duration": 29,
    "start_time": "2021-11-20T16:53:28.392Z"
   },
   {
    "duration": 55,
    "start_time": "2021-11-20T16:53:28.422Z"
   },
   {
    "duration": 7,
    "start_time": "2021-11-20T16:53:28.479Z"
   },
   {
    "duration": 21,
    "start_time": "2021-11-20T16:53:28.487Z"
   },
   {
    "duration": 32,
    "start_time": "2021-11-20T16:53:28.510Z"
   },
   {
    "duration": 35,
    "start_time": "2021-11-20T16:53:28.544Z"
   },
   {
    "duration": 46,
    "start_time": "2021-11-20T16:53:28.582Z"
   },
   {
    "duration": 23,
    "start_time": "2021-11-20T16:53:28.630Z"
   },
   {
    "duration": 35,
    "start_time": "2021-11-20T16:55:35.894Z"
   },
   {
    "duration": 27,
    "start_time": "2021-11-20T17:01:28.573Z"
   },
   {
    "duration": 9,
    "start_time": "2021-11-20T18:12:32.528Z"
   },
   {
    "duration": 41,
    "start_time": "2021-11-20T18:13:18.855Z"
   },
   {
    "duration": 40,
    "start_time": "2021-11-20T18:17:49.023Z"
   },
   {
    "duration": 3936,
    "start_time": "2021-11-20T18:21:23.444Z"
   },
   {
    "duration": 4004,
    "start_time": "2021-11-20T18:21:35.679Z"
   },
   {
    "duration": 156,
    "start_time": "2021-11-20T18:22:15.214Z"
   },
   {
    "duration": 17,
    "start_time": "2021-11-20T18:25:25.496Z"
   },
   {
    "duration": 18,
    "start_time": "2021-11-20T18:27:12.566Z"
   },
   {
    "duration": 23,
    "start_time": "2021-11-20T18:27:44.275Z"
   },
   {
    "duration": 27,
    "start_time": "2021-11-20T18:31:49.816Z"
   },
   {
    "duration": 103,
    "start_time": "2021-11-20T18:32:23.187Z"
   },
   {
    "duration": 165,
    "start_time": "2021-11-20T18:33:09.457Z"
   },
   {
    "duration": 28,
    "start_time": "2021-11-20T18:33:36.321Z"
   },
   {
    "duration": 157,
    "start_time": "2021-11-20T18:33:48.833Z"
   },
   {
    "duration": 26,
    "start_time": "2021-11-20T18:33:52.652Z"
   },
   {
    "duration": 29,
    "start_time": "2021-11-20T18:34:52.815Z"
   },
   {
    "duration": 31,
    "start_time": "2021-11-20T18:37:51.451Z"
   },
   {
    "duration": 36,
    "start_time": "2021-11-20T18:38:01.469Z"
   },
   {
    "duration": 35,
    "start_time": "2021-11-20T18:39:12.786Z"
   },
   {
    "duration": 37,
    "start_time": "2021-11-20T18:39:51.241Z"
   },
   {
    "duration": 52,
    "start_time": "2021-11-20T18:40:11.720Z"
   },
   {
    "duration": 37,
    "start_time": "2021-11-20T18:40:22.522Z"
   },
   {
    "duration": 32,
    "start_time": "2021-11-20T18:40:30.329Z"
   },
   {
    "duration": 52,
    "start_time": "2021-11-20T18:40:36.967Z"
   },
   {
    "duration": 29,
    "start_time": "2021-11-20T18:45:34.999Z"
   },
   {
    "duration": 29,
    "start_time": "2021-11-20T18:49:49.476Z"
   },
   {
    "duration": 1166,
    "start_time": "2021-11-20T18:54:10.328Z"
   },
   {
    "duration": 14,
    "start_time": "2021-11-20T18:54:11.496Z"
   },
   {
    "duration": 18,
    "start_time": "2021-11-20T18:54:11.513Z"
   },
   {
    "duration": 15,
    "start_time": "2021-11-20T18:54:11.533Z"
   },
   {
    "duration": 54,
    "start_time": "2021-11-20T18:54:11.550Z"
   },
   {
    "duration": 7,
    "start_time": "2021-11-20T18:54:11.605Z"
   },
   {
    "duration": 9,
    "start_time": "2021-11-20T18:54:11.614Z"
   },
   {
    "duration": 15,
    "start_time": "2021-11-20T18:54:11.626Z"
   },
   {
    "duration": 7,
    "start_time": "2021-11-20T18:54:11.643Z"
   },
   {
    "duration": 40,
    "start_time": "2021-11-20T18:54:11.652Z"
   },
   {
    "duration": 11,
    "start_time": "2021-11-20T18:54:11.694Z"
   },
   {
    "duration": 19,
    "start_time": "2021-11-20T18:54:11.707Z"
   },
   {
    "duration": 4,
    "start_time": "2021-11-20T18:54:11.728Z"
   },
   {
    "duration": 21,
    "start_time": "2021-11-20T18:54:11.734Z"
   },
   {
    "duration": 39,
    "start_time": "2021-11-20T18:54:11.756Z"
   },
   {
    "duration": 11,
    "start_time": "2021-11-20T18:54:11.797Z"
   },
   {
    "duration": 11,
    "start_time": "2021-11-20T18:54:11.810Z"
   },
   {
    "duration": 31,
    "start_time": "2021-11-20T18:54:11.823Z"
   },
   {
    "duration": 7,
    "start_time": "2021-11-20T18:54:11.856Z"
   },
   {
    "duration": 8,
    "start_time": "2021-11-20T18:54:11.892Z"
   },
   {
    "duration": 9,
    "start_time": "2021-11-20T18:54:11.901Z"
   },
   {
    "duration": 4,
    "start_time": "2021-11-20T18:54:11.911Z"
   },
   {
    "duration": 42,
    "start_time": "2021-11-20T18:54:11.918Z"
   },
   {
    "duration": 50,
    "start_time": "2021-11-20T18:54:11.962Z"
   },
   {
    "duration": 30,
    "start_time": "2021-11-20T18:54:12.014Z"
   },
   {
    "duration": 1175,
    "start_time": "2021-11-22T16:12:06.518Z"
   },
   {
    "duration": 14,
    "start_time": "2021-11-22T16:12:07.694Z"
   },
   {
    "duration": 19,
    "start_time": "2021-11-22T16:12:07.712Z"
   },
   {
    "duration": 13,
    "start_time": "2021-11-22T16:12:07.733Z"
   },
   {
    "duration": 56,
    "start_time": "2021-11-22T16:12:07.748Z"
   },
   {
    "duration": 7,
    "start_time": "2021-11-22T16:12:07.806Z"
   },
   {
    "duration": 10,
    "start_time": "2021-11-22T16:12:07.815Z"
   },
   {
    "duration": 15,
    "start_time": "2021-11-22T16:12:07.827Z"
   },
   {
    "duration": 6,
    "start_time": "2021-11-22T16:12:07.844Z"
   },
   {
    "duration": 43,
    "start_time": "2021-11-22T16:12:07.852Z"
   },
   {
    "duration": 16,
    "start_time": "2021-11-22T16:12:07.897Z"
   },
   {
    "duration": 22,
    "start_time": "2021-11-22T16:12:07.915Z"
   },
   {
    "duration": 6,
    "start_time": "2021-11-22T16:12:07.938Z"
   },
   {
    "duration": 48,
    "start_time": "2021-11-22T16:12:07.945Z"
   },
   {
    "duration": 8,
    "start_time": "2021-11-22T16:12:07.995Z"
   },
   {
    "duration": 12,
    "start_time": "2021-11-22T16:12:08.005Z"
   },
   {
    "duration": 13,
    "start_time": "2021-11-22T16:12:08.018Z"
   },
   {
    "duration": 29,
    "start_time": "2021-11-22T16:12:08.033Z"
   },
   {
    "duration": 34,
    "start_time": "2021-11-22T16:12:08.064Z"
   },
   {
    "duration": 8,
    "start_time": "2021-11-22T16:12:08.100Z"
   },
   {
    "duration": 8,
    "start_time": "2021-11-22T16:12:08.110Z"
   },
   {
    "duration": 4,
    "start_time": "2021-11-22T16:12:08.122Z"
   },
   {
    "duration": 71,
    "start_time": "2021-11-22T16:12:08.128Z"
   },
   {
    "duration": 30,
    "start_time": "2021-11-22T16:12:08.201Z"
   },
   {
    "duration": 29,
    "start_time": "2021-11-22T16:12:08.233Z"
   },
   {
    "duration": 5,
    "start_time": "2021-11-22T16:19:05.898Z"
   },
   {
    "duration": 12,
    "start_time": "2021-11-22T16:20:15.767Z"
   },
   {
    "duration": 13,
    "start_time": "2021-11-22T16:27:54.308Z"
   },
   {
    "duration": 13,
    "start_time": "2021-11-22T16:28:32.449Z"
   },
   {
    "duration": 13,
    "start_time": "2021-11-22T16:28:35.930Z"
   },
   {
    "duration": 8,
    "start_time": "2021-11-22T16:28:58.701Z"
   },
   {
    "duration": 1178,
    "start_time": "2021-11-22T16:29:17.385Z"
   },
   {
    "duration": 16,
    "start_time": "2021-11-22T16:29:18.566Z"
   },
   {
    "duration": 19,
    "start_time": "2021-11-22T16:29:18.584Z"
   },
   {
    "duration": 13,
    "start_time": "2021-11-22T16:29:18.605Z"
   },
   {
    "duration": 21,
    "start_time": "2021-11-22T16:29:18.620Z"
   },
   {
    "duration": 6,
    "start_time": "2021-11-22T16:29:18.642Z"
   },
   {
    "duration": 10,
    "start_time": "2021-11-22T16:29:18.650Z"
   },
   {
    "duration": 43,
    "start_time": "2021-11-22T16:29:18.662Z"
   },
   {
    "duration": 8,
    "start_time": "2021-11-22T16:29:18.707Z"
   },
   {
    "duration": 8,
    "start_time": "2021-11-22T16:29:18.716Z"
   },
   {
    "duration": 25,
    "start_time": "2021-11-22T16:29:18.726Z"
   },
   {
    "duration": 4,
    "start_time": "2021-11-22T16:29:18.752Z"
   },
   {
    "duration": 50,
    "start_time": "2021-11-22T16:29:18.758Z"
   },
   {
    "duration": 8,
    "start_time": "2021-11-22T16:29:18.809Z"
   },
   {
    "duration": 12,
    "start_time": "2021-11-22T16:29:18.818Z"
   },
   {
    "duration": 12,
    "start_time": "2021-11-22T16:29:18.831Z"
   },
   {
    "duration": 55,
    "start_time": "2021-11-22T16:29:18.844Z"
   },
   {
    "duration": 8,
    "start_time": "2021-11-22T16:29:18.900Z"
   },
   {
    "duration": 8,
    "start_time": "2021-11-22T16:29:18.910Z"
   },
   {
    "duration": 7,
    "start_time": "2021-11-22T16:29:18.920Z"
   },
   {
    "duration": 4,
    "start_time": "2021-11-22T16:29:18.929Z"
   },
   {
    "duration": 80,
    "start_time": "2021-11-22T16:29:18.935Z"
   },
   {
    "duration": 28,
    "start_time": "2021-11-22T16:29:19.018Z"
   },
   {
    "duration": 49,
    "start_time": "2021-11-22T16:29:19.048Z"
   },
   {
    "duration": 5,
    "start_time": "2021-11-22T16:29:19.099Z"
   },
   {
    "duration": 13,
    "start_time": "2021-11-22T16:29:19.105Z"
   },
   {
    "duration": 8,
    "start_time": "2021-11-22T16:29:43.634Z"
   },
   {
    "duration": 14,
    "start_time": "2021-11-22T16:29:53.187Z"
   },
   {
    "duration": 12,
    "start_time": "2021-11-22T16:29:55.862Z"
   },
   {
    "duration": 39,
    "start_time": "2021-11-22T16:29:58.499Z"
   },
   {
    "duration": 9,
    "start_time": "2021-11-22T16:30:14.710Z"
   },
   {
    "duration": 9,
    "start_time": "2021-11-22T16:30:27.053Z"
   },
   {
    "duration": 9,
    "start_time": "2021-11-22T16:30:29.749Z"
   },
   {
    "duration": 1185,
    "start_time": "2021-11-22T16:30:47.671Z"
   },
   {
    "duration": 14,
    "start_time": "2021-11-22T16:30:48.858Z"
   },
   {
    "duration": 19,
    "start_time": "2021-11-22T16:30:48.876Z"
   },
   {
    "duration": 14,
    "start_time": "2021-11-22T16:30:48.897Z"
   },
   {
    "duration": 22,
    "start_time": "2021-11-22T16:30:48.912Z"
   },
   {
    "duration": 6,
    "start_time": "2021-11-22T16:30:48.936Z"
   },
   {
    "duration": 9,
    "start_time": "2021-11-22T16:30:48.945Z"
   },
   {
    "duration": 44,
    "start_time": "2021-11-22T16:30:48.956Z"
   },
   {
    "duration": 8,
    "start_time": "2021-11-22T16:30:49.001Z"
   },
   {
    "duration": 8,
    "start_time": "2021-11-22T16:30:49.010Z"
   },
   {
    "duration": 25,
    "start_time": "2021-11-22T16:30:49.019Z"
   },
   {
    "duration": 4,
    "start_time": "2021-11-22T16:30:49.046Z"
   },
   {
    "duration": 46,
    "start_time": "2021-11-22T16:30:49.052Z"
   },
   {
    "duration": 7,
    "start_time": "2021-11-22T16:30:49.100Z"
   },
   {
    "duration": 11,
    "start_time": "2021-11-22T16:30:49.109Z"
   },
   {
    "duration": 11,
    "start_time": "2021-11-22T16:30:49.122Z"
   },
   {
    "duration": 42,
    "start_time": "2021-11-22T16:30:49.135Z"
   },
   {
    "duration": 20,
    "start_time": "2021-11-22T16:30:49.178Z"
   },
   {
    "duration": 12,
    "start_time": "2021-11-22T16:30:49.199Z"
   },
   {
    "duration": 8,
    "start_time": "2021-11-22T16:30:49.213Z"
   },
   {
    "duration": 5,
    "start_time": "2021-11-22T16:30:49.223Z"
   },
   {
    "duration": 72,
    "start_time": "2021-11-22T16:30:49.231Z"
   },
   {
    "duration": 29,
    "start_time": "2021-11-22T16:30:49.305Z"
   },
   {
    "duration": 29,
    "start_time": "2021-11-22T16:30:49.337Z"
   },
   {
    "duration": 27,
    "start_time": "2021-11-22T16:30:49.368Z"
   },
   {
    "duration": 12,
    "start_time": "2021-11-22T16:30:49.397Z"
   },
   {
    "duration": 4,
    "start_time": "2021-11-22T16:32:59.679Z"
   },
   {
    "duration": 52,
    "start_time": "2021-11-22T16:33:02.064Z"
   },
   {
    "duration": 25,
    "start_time": "2021-11-22T16:33:14.462Z"
   },
   {
    "duration": 29,
    "start_time": "2021-11-22T16:33:21.366Z"
   },
   {
    "duration": 6,
    "start_time": "2021-11-22T16:35:19.791Z"
   },
   {
    "duration": 13,
    "start_time": "2021-11-22T16:35:25.096Z"
   },
   {
    "duration": 8,
    "start_time": "2021-11-22T16:36:55.050Z"
   },
   {
    "duration": 9,
    "start_time": "2021-11-22T16:37:25.292Z"
   },
   {
    "duration": 9,
    "start_time": "2021-11-22T16:41:30.079Z"
   },
   {
    "duration": 76,
    "start_time": "2021-11-22T16:41:48.965Z"
   },
   {
    "duration": 72,
    "start_time": "2021-11-22T16:41:55.092Z"
   },
   {
    "duration": 9,
    "start_time": "2021-11-22T16:42:08.782Z"
   },
   {
    "duration": 8,
    "start_time": "2021-11-22T16:42:21.982Z"
   },
   {
    "duration": 10,
    "start_time": "2021-11-22T16:43:11.639Z"
   },
   {
    "duration": 11,
    "start_time": "2021-11-22T16:43:19.136Z"
   },
   {
    "duration": 8,
    "start_time": "2021-11-22T16:43:56.966Z"
   },
   {
    "duration": 8,
    "start_time": "2021-11-22T16:44:55.960Z"
   },
   {
    "duration": 57,
    "start_time": "2021-11-22T16:45:20.184Z"
   },
   {
    "duration": 10,
    "start_time": "2021-11-22T16:45:23.851Z"
   },
   {
    "duration": 8,
    "start_time": "2021-11-22T16:45:30.482Z"
   },
   {
    "duration": 8,
    "start_time": "2021-11-22T16:45:42.334Z"
   },
   {
    "duration": 56,
    "start_time": "2021-11-22T16:46:27.095Z"
   },
   {
    "duration": 8,
    "start_time": "2021-11-22T16:46:32.173Z"
   },
   {
    "duration": 27,
    "start_time": "2021-11-22T16:47:09.869Z"
   },
   {
    "duration": 9,
    "start_time": "2021-11-22T16:48:45.639Z"
   },
   {
    "duration": 233,
    "start_time": "2021-11-22T16:49:25.483Z"
   },
   {
    "duration": 165,
    "start_time": "2021-11-22T16:49:58.114Z"
   },
   {
    "duration": 175,
    "start_time": "2021-11-22T16:50:15.893Z"
   },
   {
    "duration": 174,
    "start_time": "2021-11-22T16:52:04.619Z"
   },
   {
    "duration": 176,
    "start_time": "2021-11-22T16:52:20.736Z"
   },
   {
    "duration": 28,
    "start_time": "2021-11-22T16:57:52.967Z"
   },
   {
    "duration": 13,
    "start_time": "2021-11-22T16:59:04.749Z"
   },
   {
    "duration": 13,
    "start_time": "2021-11-22T16:59:24.325Z"
   },
   {
    "duration": 34,
    "start_time": "2021-11-22T16:59:38.513Z"
   },
   {
    "duration": 750,
    "start_time": "2021-11-22T16:59:58.069Z"
   },
   {
    "duration": 37,
    "start_time": "2021-11-22T17:00:08.478Z"
   },
   {
    "duration": 34,
    "start_time": "2021-11-22T17:00:12.656Z"
   },
   {
    "duration": 544,
    "start_time": "2021-11-22T17:00:44.733Z"
   },
   {
    "duration": 33,
    "start_time": "2021-11-22T17:00:50.124Z"
   },
   {
    "duration": 32,
    "start_time": "2021-11-22T17:01:41.224Z"
   },
   {
    "duration": 36,
    "start_time": "2021-11-22T17:05:08.025Z"
   },
   {
    "duration": 6,
    "start_time": "2021-11-22T17:07:33.990Z"
   },
   {
    "duration": 14,
    "start_time": "2021-11-22T17:07:48.491Z"
   },
   {
    "duration": 42,
    "start_time": "2021-11-22T17:08:24.651Z"
   },
   {
    "duration": 4,
    "start_time": "2021-11-22T17:08:51.357Z"
   },
   {
    "duration": 53,
    "start_time": "2021-11-22T17:08:58.431Z"
   },
   {
    "duration": 37,
    "start_time": "2021-11-22T17:10:12.092Z"
   },
   {
    "duration": 42,
    "start_time": "2021-11-22T17:10:14.592Z"
   },
   {
    "duration": 39,
    "start_time": "2021-11-22T17:12:36.715Z"
   },
   {
    "duration": 13,
    "start_time": "2021-11-22T17:13:39.433Z"
   },
   {
    "duration": 302,
    "start_time": "2021-11-22T17:14:25.185Z"
   },
   {
    "duration": 174,
    "start_time": "2021-11-22T17:15:43.707Z"
   },
   {
    "duration": 12,
    "start_time": "2021-11-22T17:15:48.002Z"
   },
   {
    "duration": 19,
    "start_time": "2021-11-22T17:15:51.513Z"
   },
   {
    "duration": 6,
    "start_time": "2021-11-22T17:16:31.433Z"
   },
   {
    "duration": 6,
    "start_time": "2021-11-22T17:16:45.372Z"
   },
   {
    "duration": 7,
    "start_time": "2021-11-22T17:16:52.790Z"
   },
   {
    "duration": 10,
    "start_time": "2021-11-22T17:17:14.656Z"
   },
   {
    "duration": 171,
    "start_time": "2021-11-22T17:17:42.345Z"
   },
   {
    "duration": 175,
    "start_time": "2021-11-22T17:17:56.204Z"
   },
   {
    "duration": 7,
    "start_time": "2021-11-22T17:18:16.694Z"
   },
   {
    "duration": 7,
    "start_time": "2021-11-22T17:19:33.685Z"
   },
   {
    "duration": 172,
    "start_time": "2021-11-22T17:19:42.172Z"
   },
   {
    "duration": 11,
    "start_time": "2021-11-22T17:20:48.351Z"
   },
   {
    "duration": 9,
    "start_time": "2021-11-22T17:21:09.755Z"
   },
   {
    "duration": 10,
    "start_time": "2021-11-22T17:21:41.259Z"
   },
   {
    "duration": 22,
    "start_time": "2021-11-22T17:22:18.949Z"
   },
   {
    "duration": 7,
    "start_time": "2021-11-22T17:22:49.388Z"
   },
   {
    "duration": 5,
    "start_time": "2021-11-22T17:23:29.856Z"
   },
   {
    "duration": 41,
    "start_time": "2021-11-22T17:23:35.250Z"
   },
   {
    "duration": 10,
    "start_time": "2021-11-22T17:24:15.471Z"
   },
   {
    "duration": 7,
    "start_time": "2021-11-22T17:24:51.569Z"
   },
   {
    "duration": 9,
    "start_time": "2021-11-22T17:25:23.425Z"
   },
   {
    "duration": 11,
    "start_time": "2021-11-22T17:26:33.071Z"
   },
   {
    "duration": 10,
    "start_time": "2021-11-22T17:26:42.158Z"
   },
   {
    "duration": 8,
    "start_time": "2021-11-22T17:26:47.258Z"
   },
   {
    "duration": 172,
    "start_time": "2021-11-22T17:27:44.420Z"
   },
   {
    "duration": 9,
    "start_time": "2021-11-22T17:28:11.668Z"
   },
   {
    "duration": 170,
    "start_time": "2021-11-22T17:28:21.699Z"
   },
   {
    "duration": 190,
    "start_time": "2021-11-22T17:28:33.304Z"
   },
   {
    "duration": 212,
    "start_time": "2021-11-22T17:30:55.960Z"
   },
   {
    "duration": 176,
    "start_time": "2021-11-22T17:31:04.048Z"
   },
   {
    "duration": 10,
    "start_time": "2021-11-22T17:32:36.113Z"
   },
   {
    "duration": 10,
    "start_time": "2021-11-22T17:34:57.962Z"
   },
   {
    "duration": 9,
    "start_time": "2021-11-22T17:35:01.535Z"
   },
   {
    "duration": 11,
    "start_time": "2021-11-22T17:35:03.257Z"
   },
   {
    "duration": 11,
    "start_time": "2021-11-22T17:35:27.316Z"
   },
   {
    "duration": 10,
    "start_time": "2021-11-22T17:35:30.464Z"
   },
   {
    "duration": 1216,
    "start_time": "2021-11-22T17:35:38.284Z"
   },
   {
    "duration": 14,
    "start_time": "2021-11-22T17:35:39.501Z"
   },
   {
    "duration": 19,
    "start_time": "2021-11-22T17:35:39.517Z"
   },
   {
    "duration": 14,
    "start_time": "2021-11-22T17:35:39.538Z"
   },
   {
    "duration": 51,
    "start_time": "2021-11-22T17:35:39.553Z"
   },
   {
    "duration": 8,
    "start_time": "2021-11-22T17:35:39.606Z"
   },
   {
    "duration": 10,
    "start_time": "2021-11-22T17:35:39.615Z"
   },
   {
    "duration": 16,
    "start_time": "2021-11-22T17:35:39.628Z"
   },
   {
    "duration": 8,
    "start_time": "2021-11-22T17:35:39.646Z"
   },
   {
    "duration": 37,
    "start_time": "2021-11-22T17:35:39.655Z"
   },
   {
    "duration": 25,
    "start_time": "2021-11-22T17:35:39.694Z"
   },
   {
    "duration": 5,
    "start_time": "2021-11-22T17:35:39.720Z"
   },
   {
    "duration": 18,
    "start_time": "2021-11-22T17:35:39.726Z"
   },
   {
    "duration": 7,
    "start_time": "2021-11-22T17:35:39.746Z"
   },
   {
    "duration": 42,
    "start_time": "2021-11-22T17:35:39.755Z"
   },
   {
    "duration": 12,
    "start_time": "2021-11-22T17:35:39.798Z"
   },
   {
    "duration": 29,
    "start_time": "2021-11-22T17:35:39.813Z"
   },
   {
    "duration": 9,
    "start_time": "2021-11-22T17:35:39.844Z"
   },
   {
    "duration": 8,
    "start_time": "2021-11-22T17:35:39.854Z"
   },
   {
    "duration": 8,
    "start_time": "2021-11-22T17:35:39.892Z"
   },
   {
    "duration": 7,
    "start_time": "2021-11-22T17:35:39.902Z"
   },
   {
    "duration": 52,
    "start_time": "2021-11-22T17:35:39.910Z"
   },
   {
    "duration": 47,
    "start_time": "2021-11-22T17:35:39.965Z"
   },
   {
    "duration": 33,
    "start_time": "2021-11-22T17:35:40.014Z"
   },
   {
    "duration": 8,
    "start_time": "2021-11-22T17:35:40.049Z"
   },
   {
    "duration": 214,
    "start_time": "2021-11-22T17:35:40.058Z"
   },
   {
    "duration": 17,
    "start_time": "2021-11-22T17:35:40.275Z"
   },
   {
    "duration": 31,
    "start_time": "2021-11-22T17:35:40.294Z"
   },
   {
    "duration": 6,
    "start_time": "2021-11-22T17:35:40.327Z"
   },
   {
    "duration": 9,
    "start_time": "2021-11-22T17:36:53.735Z"
   },
   {
    "duration": 10,
    "start_time": "2021-11-22T17:37:06.119Z"
   },
   {
    "duration": 9,
    "start_time": "2021-11-22T17:37:13.828Z"
   },
   {
    "duration": 10,
    "start_time": "2021-11-22T17:37:24.903Z"
   },
   {
    "duration": 8,
    "start_time": "2021-11-22T17:37:28.917Z"
   },
   {
    "duration": 248,
    "start_time": "2021-11-22T17:37:39.694Z"
   },
   {
    "duration": 10,
    "start_time": "2021-11-22T17:37:43.617Z"
   },
   {
    "duration": 10,
    "start_time": "2021-11-22T17:38:10.547Z"
   },
   {
    "duration": 10,
    "start_time": "2021-11-22T17:38:35.409Z"
   },
   {
    "duration": 5,
    "start_time": "2021-11-22T17:38:58.338Z"
   },
   {
    "duration": 7,
    "start_time": "2021-11-22T17:39:02.554Z"
   },
   {
    "duration": 178,
    "start_time": "2021-11-22T17:39:13.572Z"
   },
   {
    "duration": 186,
    "start_time": "2021-11-22T17:41:17.533Z"
   },
   {
    "duration": 174,
    "start_time": "2021-11-22T17:41:29.696Z"
   },
   {
    "duration": 14,
    "start_time": "2021-11-22T17:42:21.052Z"
   },
   {
    "duration": 15,
    "start_time": "2021-11-22T17:42:44.438Z"
   },
   {
    "duration": 14,
    "start_time": "2021-11-22T17:42:54.918Z"
   },
   {
    "duration": 15,
    "start_time": "2021-11-22T17:43:02.277Z"
   },
   {
    "duration": 4,
    "start_time": "2021-11-22T17:43:30.477Z"
   },
   {
    "duration": 11,
    "start_time": "2021-11-22T17:43:36.107Z"
   },
   {
    "duration": 56,
    "start_time": "2021-11-22T17:44:22.942Z"
   },
   {
    "duration": 56,
    "start_time": "2021-11-22T17:44:25.867Z"
   },
   {
    "duration": -40,
    "start_time": "2021-11-22T17:44:34.991Z"
   },
   {
    "duration": 11,
    "start_time": "2021-11-22T17:44:44.611Z"
   },
   {
    "duration": 9,
    "start_time": "2021-11-22T17:52:09.840Z"
   },
   {
    "duration": 22,
    "start_time": "2021-11-22T17:54:09.502Z"
   },
   {
    "duration": 11,
    "start_time": "2021-11-22T17:54:23.452Z"
   },
   {
    "duration": 10,
    "start_time": "2021-11-22T17:54:29.456Z"
   },
   {
    "duration": 4131,
    "start_time": "2021-11-22T17:56:20.260Z"
   },
   {
    "duration": 186,
    "start_time": "2021-11-22T17:58:29.807Z"
   },
   {
    "duration": 44,
    "start_time": "2021-11-22T17:58:41.499Z"
   },
   {
    "duration": 55,
    "start_time": "2021-11-22T17:59:04.309Z"
   },
   {
    "duration": 4,
    "start_time": "2021-11-22T18:00:00.738Z"
   },
   {
    "duration": 39,
    "start_time": "2021-11-22T18:00:06.945Z"
   },
   {
    "duration": 160,
    "start_time": "2021-11-22T18:02:12.775Z"
   },
   {
    "duration": 32,
    "start_time": "2021-11-22T18:02:44.003Z"
   },
   {
    "duration": 48,
    "start_time": "2021-11-22T18:03:05.535Z"
   },
   {
    "duration": 48,
    "start_time": "2021-11-22T18:03:21.895Z"
   },
   {
    "duration": 54,
    "start_time": "2021-11-22T18:04:59.705Z"
   },
   {
    "duration": 181,
    "start_time": "2021-11-22T18:05:20.661Z"
   },
   {
    "duration": 42,
    "start_time": "2021-11-22T18:05:23.286Z"
   },
   {
    "duration": 4579,
    "start_time": "2021-11-22T18:06:39.236Z"
   },
   {
    "duration": 38,
    "start_time": "2021-11-22T18:06:53.444Z"
   },
   {
    "duration": 37,
    "start_time": "2021-11-22T18:07:08.585Z"
   },
   {
    "duration": 14,
    "start_time": "2021-11-22T18:07:35.464Z"
   },
   {
    "duration": 11,
    "start_time": "2021-11-22T18:07:49.836Z"
   },
   {
    "duration": 16,
    "start_time": "2021-11-22T18:08:18.529Z"
   },
   {
    "duration": 9,
    "start_time": "2021-11-22T18:09:14.069Z"
   },
   {
    "duration": 8,
    "start_time": "2021-11-22T18:09:43.732Z"
   },
   {
    "duration": 172,
    "start_time": "2021-11-22T18:10:08.607Z"
   },
   {
    "duration": 16,
    "start_time": "2021-11-22T18:11:59.435Z"
   },
   {
    "duration": 16,
    "start_time": "2021-11-22T18:12:09.999Z"
   },
   {
    "duration": 9,
    "start_time": "2021-11-22T18:12:16.045Z"
   },
   {
    "duration": 185,
    "start_time": "2021-11-22T18:12:18.390Z"
   },
   {
    "duration": 9,
    "start_time": "2021-11-22T18:14:48.170Z"
   },
   {
    "duration": 8,
    "start_time": "2021-11-22T18:15:15.893Z"
   },
   {
    "duration": 9,
    "start_time": "2021-11-22T18:15:27.131Z"
   },
   {
    "duration": 7,
    "start_time": "2021-11-22T18:15:41.569Z"
   },
   {
    "duration": 7,
    "start_time": "2021-11-22T18:15:57.539Z"
   },
   {
    "duration": 8,
    "start_time": "2021-11-22T18:16:05.809Z"
   },
   {
    "duration": 9,
    "start_time": "2021-11-22T18:16:18.715Z"
   },
   {
    "duration": 6,
    "start_time": "2021-11-22T18:16:53.666Z"
   },
   {
    "duration": 192,
    "start_time": "2021-11-22T18:17:24.023Z"
   },
   {
    "duration": 7,
    "start_time": "2021-11-22T18:17:57.953Z"
   },
   {
    "duration": 264,
    "start_time": "2021-11-22T18:18:08.596Z"
   },
   {
    "duration": 6,
    "start_time": "2021-11-22T18:18:24.100Z"
   },
   {
    "duration": 5,
    "start_time": "2021-11-22T18:19:00.811Z"
   },
   {
    "duration": 6,
    "start_time": "2021-11-22T18:19:05.480Z"
   },
   {
    "duration": 191,
    "start_time": "2021-11-22T18:19:19.019Z"
   },
   {
    "duration": 11,
    "start_time": "2021-11-22T18:19:42.976Z"
   },
   {
    "duration": 179,
    "start_time": "2021-11-22T18:19:48.339Z"
   },
   {
    "duration": 185,
    "start_time": "2021-11-22T18:20:12.424Z"
   },
   {
    "duration": 197,
    "start_time": "2021-11-22T18:21:36.003Z"
   },
   {
    "duration": 277,
    "start_time": "2021-11-22T18:22:45.235Z"
   },
   {
    "duration": 163,
    "start_time": "2021-11-22T18:22:57.632Z"
   },
   {
    "duration": 174,
    "start_time": "2021-11-22T18:23:10.516Z"
   },
   {
    "duration": 181,
    "start_time": "2021-11-22T18:24:00.720Z"
   },
   {
    "duration": 221,
    "start_time": "2021-11-22T18:25:56.211Z"
   },
   {
    "duration": 209,
    "start_time": "2021-11-22T18:28:58.925Z"
   },
   {
    "duration": 228,
    "start_time": "2021-11-22T18:29:25.320Z"
   },
   {
    "duration": 14,
    "start_time": "2021-11-22T18:29:53.040Z"
   },
   {
    "duration": 8,
    "start_time": "2021-11-22T18:30:16.954Z"
   },
   {
    "duration": 219,
    "start_time": "2021-11-22T18:32:07.300Z"
   },
   {
    "duration": 210,
    "start_time": "2021-11-22T18:32:20.995Z"
   },
   {
    "duration": 11,
    "start_time": "2021-11-22T18:32:27.473Z"
   },
   {
    "duration": 10,
    "start_time": "2021-11-22T18:32:33.143Z"
   },
   {
    "duration": 206,
    "start_time": "2021-11-22T18:32:39.667Z"
   },
   {
    "duration": 170,
    "start_time": "2021-11-22T18:33:40.321Z"
   },
   {
    "duration": 10,
    "start_time": "2021-11-22T18:33:45.445Z"
   },
   {
    "duration": 185,
    "start_time": "2021-11-22T18:34:33.025Z"
   },
   {
    "duration": 10,
    "start_time": "2021-11-22T18:34:53.699Z"
   },
   {
    "duration": 10,
    "start_time": "2021-11-22T18:35:07.086Z"
   },
   {
    "duration": 11,
    "start_time": "2021-11-22T18:35:49.120Z"
   },
   {
    "duration": 11,
    "start_time": "2021-11-22T18:35:51.424Z"
   },
   {
    "duration": 1178,
    "start_time": "2021-11-22T18:35:57.754Z"
   },
   {
    "duration": 14,
    "start_time": "2021-11-22T18:35:58.934Z"
   },
   {
    "duration": 17,
    "start_time": "2021-11-22T18:35:58.950Z"
   },
   {
    "duration": 14,
    "start_time": "2021-11-22T18:35:58.969Z"
   },
   {
    "duration": 26,
    "start_time": "2021-11-22T18:35:58.985Z"
   },
   {
    "duration": 7,
    "start_time": "2021-11-22T18:35:59.013Z"
   },
   {
    "duration": 10,
    "start_time": "2021-11-22T18:35:59.022Z"
   },
   {
    "duration": 16,
    "start_time": "2021-11-22T18:35:59.034Z"
   },
   {
    "duration": 7,
    "start_time": "2021-11-22T18:35:59.052Z"
   },
   {
    "duration": 8,
    "start_time": "2021-11-22T18:35:59.092Z"
   },
   {
    "duration": 32,
    "start_time": "2021-11-22T18:35:59.101Z"
   },
   {
    "duration": 5,
    "start_time": "2021-11-22T18:35:59.134Z"
   },
   {
    "duration": 16,
    "start_time": "2021-11-22T18:35:59.141Z"
   },
   {
    "duration": 7,
    "start_time": "2021-11-22T18:35:59.159Z"
   },
   {
    "duration": 12,
    "start_time": "2021-11-22T18:35:59.192Z"
   },
   {
    "duration": 13,
    "start_time": "2021-11-22T18:35:59.206Z"
   },
   {
    "duration": 29,
    "start_time": "2021-11-22T18:35:59.221Z"
   },
   {
    "duration": 7,
    "start_time": "2021-11-22T18:35:59.252Z"
   },
   {
    "duration": 33,
    "start_time": "2021-11-22T18:35:59.260Z"
   },
   {
    "duration": 8,
    "start_time": "2021-11-22T18:35:59.295Z"
   },
   {
    "duration": 4,
    "start_time": "2021-11-22T18:35:59.304Z"
   },
   {
    "duration": 47,
    "start_time": "2021-11-22T18:35:59.310Z"
   },
   {
    "duration": 44,
    "start_time": "2021-11-22T18:35:59.360Z"
   },
   {
    "duration": 32,
    "start_time": "2021-11-22T18:35:59.406Z"
   },
   {
    "duration": 17,
    "start_time": "2021-11-22T18:35:59.440Z"
   },
   {
    "duration": 34,
    "start_time": "2021-11-22T18:35:59.459Z"
   },
   {
    "duration": 195,
    "start_time": "2021-11-22T18:35:59.495Z"
   },
   {
    "duration": 275,
    "start_time": "2021-11-22T18:35:59.692Z"
   },
   {
    "duration": -19,
    "start_time": "2021-11-22T18:35:59.987Z"
   },
   {
    "duration": -20,
    "start_time": "2021-11-22T18:35:59.989Z"
   },
   {
    "duration": 11,
    "start_time": "2021-11-22T18:36:28.068Z"
   },
   {
    "duration": 14,
    "start_time": "2021-11-22T18:36:32.324Z"
   },
   {
    "duration": 13,
    "start_time": "2021-11-22T18:36:50.439Z"
   },
   {
    "duration": 12,
    "start_time": "2021-11-22T18:36:58.669Z"
   },
   {
    "duration": 16,
    "start_time": "2021-11-22T18:37:05.602Z"
   },
   {
    "duration": 172,
    "start_time": "2021-11-22T18:38:59.678Z"
   },
   {
    "duration": 162,
    "start_time": "2021-11-22T18:39:13.226Z"
   },
   {
    "duration": 184,
    "start_time": "2021-11-22T18:39:20.170Z"
   },
   {
    "duration": 10,
    "start_time": "2021-11-22T18:40:01.956Z"
   },
   {
    "duration": 17,
    "start_time": "2021-11-22T18:40:10.048Z"
   },
   {
    "duration": 15,
    "start_time": "2021-11-22T18:41:02.934Z"
   },
   {
    "duration": 18,
    "start_time": "2021-11-22T18:41:18.468Z"
   },
   {
    "duration": 18,
    "start_time": "2021-11-22T18:41:48.493Z"
   },
   {
    "duration": 18,
    "start_time": "2021-11-22T18:42:19.000Z"
   },
   {
    "duration": 13,
    "start_time": "2021-11-22T18:44:27.422Z"
   },
   {
    "duration": 14,
    "start_time": "2021-11-22T18:44:37.912Z"
   },
   {
    "duration": 14,
    "start_time": "2021-11-22T18:44:52.270Z"
   },
   {
    "duration": 250,
    "start_time": "2021-11-22T18:45:09.813Z"
   },
   {
    "duration": 17,
    "start_time": "2021-11-22T18:45:48.897Z"
   },
   {
    "duration": 188,
    "start_time": "2021-11-22T18:46:40.090Z"
   },
   {
    "duration": 172,
    "start_time": "2021-11-22T18:46:54.416Z"
   },
   {
    "duration": 230,
    "start_time": "2021-11-22T18:47:15.404Z"
   },
   {
    "duration": 487,
    "start_time": "2021-11-23T06:33:50.229Z"
   },
   {
    "duration": 539,
    "start_time": "2021-11-23T06:33:56.498Z"
   },
   {
    "duration": 1393,
    "start_time": "2021-11-23T06:34:07.018Z"
   },
   {
    "duration": 16,
    "start_time": "2021-11-23T06:34:08.413Z"
   },
   {
    "duration": 25,
    "start_time": "2021-11-23T06:34:08.433Z"
   },
   {
    "duration": 15,
    "start_time": "2021-11-23T06:34:08.460Z"
   },
   {
    "duration": 27,
    "start_time": "2021-11-23T06:34:08.506Z"
   },
   {
    "duration": 8,
    "start_time": "2021-11-23T06:34:08.535Z"
   },
   {
    "duration": 14,
    "start_time": "2021-11-23T06:34:08.545Z"
   },
   {
    "duration": 45,
    "start_time": "2021-11-23T06:34:08.561Z"
   },
   {
    "duration": 10,
    "start_time": "2021-11-23T06:34:08.608Z"
   },
   {
    "duration": 8,
    "start_time": "2021-11-23T06:34:08.620Z"
   },
   {
    "duration": 29,
    "start_time": "2021-11-23T06:34:08.629Z"
   },
   {
    "duration": 4,
    "start_time": "2021-11-23T06:34:08.660Z"
   },
   {
    "duration": 47,
    "start_time": "2021-11-23T06:34:08.665Z"
   },
   {
    "duration": 9,
    "start_time": "2021-11-23T06:34:08.715Z"
   },
   {
    "duration": 15,
    "start_time": "2021-11-23T06:34:08.725Z"
   },
   {
    "duration": 15,
    "start_time": "2021-11-23T06:34:08.742Z"
   },
   {
    "duration": 59,
    "start_time": "2021-11-23T06:34:08.759Z"
   },
   {
    "duration": 11,
    "start_time": "2021-11-23T06:34:08.820Z"
   },
   {
    "duration": 12,
    "start_time": "2021-11-23T06:34:08.832Z"
   },
   {
    "duration": 13,
    "start_time": "2021-11-23T06:34:08.846Z"
   },
   {
    "duration": 5,
    "start_time": "2021-11-23T06:34:08.860Z"
   },
   {
    "duration": 75,
    "start_time": "2021-11-23T06:34:08.868Z"
   },
   {
    "duration": 29,
    "start_time": "2021-11-23T06:34:08.945Z"
   },
   {
    "duration": 46,
    "start_time": "2021-11-23T06:34:08.977Z"
   },
   {
    "duration": 16,
    "start_time": "2021-11-23T06:34:09.025Z"
   },
   {
    "duration": 8,
    "start_time": "2021-11-23T06:34:09.043Z"
   },
   {
    "duration": 212,
    "start_time": "2021-11-23T06:34:09.053Z"
   },
   {
    "duration": 11,
    "start_time": "2021-11-23T06:34:09.267Z"
   },
   {
    "duration": 203,
    "start_time": "2021-11-23T06:34:09.280Z"
   },
   {
    "duration": 26,
    "start_time": "2021-11-23T06:34:09.484Z"
   },
   {
    "duration": 181,
    "start_time": "2021-11-23T06:34:09.511Z"
   },
   {
    "duration": 199,
    "start_time": "2021-11-23T06:34:09.694Z"
   },
   {
    "duration": 264,
    "start_time": "2021-11-23T06:39:00.883Z"
   },
   {
    "duration": 199,
    "start_time": "2021-11-23T06:39:05.217Z"
   },
   {
    "duration": 20,
    "start_time": "2021-11-23T06:43:57.657Z"
   },
   {
    "duration": 12,
    "start_time": "2021-11-23T06:59:09.600Z"
   },
   {
    "duration": -54,
    "start_time": "2021-11-23T07:05:36.227Z"
   },
   {
    "duration": 23,
    "start_time": "2021-11-23T13:02:10.418Z"
   },
   {
    "duration": 12,
    "start_time": "2021-11-23T13:02:38.031Z"
   },
   {
    "duration": 179,
    "start_time": "2021-11-23T13:02:41.668Z"
   },
   {
    "duration": 22,
    "start_time": "2021-11-23T13:02:45.431Z"
   },
   {
    "duration": 37,
    "start_time": "2021-11-23T13:06:46.213Z"
   },
   {
    "duration": 27,
    "start_time": "2021-11-23T13:07:58.724Z"
   },
   {
    "duration": 23,
    "start_time": "2021-11-23T13:08:38.111Z"
   },
   {
    "duration": 31,
    "start_time": "2021-11-23T13:08:58.932Z"
   },
   {
    "duration": 25,
    "start_time": "2021-11-23T13:09:34.739Z"
   },
   {
    "duration": 410,
    "start_time": "2021-11-23T13:11:00.132Z"
   },
   {
    "duration": 384,
    "start_time": "2021-11-23T13:11:15.862Z"
   },
   {
    "duration": 12662,
    "start_time": "2021-11-23T13:12:15.571Z"
   },
   {
    "duration": 16,
    "start_time": "2021-11-23T13:13:28.543Z"
   },
   {
    "duration": 16,
    "start_time": "2021-11-23T13:15:33.215Z"
   },
   {
    "duration": 16,
    "start_time": "2021-11-23T13:15:53.049Z"
   },
   {
    "duration": 13,
    "start_time": "2021-11-23T13:16:04.423Z"
   },
   {
    "duration": 30,
    "start_time": "2021-11-23T13:16:18.736Z"
   },
   {
    "duration": 36,
    "start_time": "2021-11-23T13:17:03.499Z"
   },
   {
    "duration": 29,
    "start_time": "2021-11-23T13:26:38.620Z"
   },
   {
    "duration": 31,
    "start_time": "2021-11-23T13:26:46.495Z"
   },
   {
    "duration": 33,
    "start_time": "2021-11-23T13:26:53.712Z"
   },
   {
    "duration": 14,
    "start_time": "2021-11-23T13:28:12.040Z"
   },
   {
    "duration": 23,
    "start_time": "2021-11-23T13:28:33.514Z"
   },
   {
    "duration": 376,
    "start_time": "2021-11-23T13:52:52.347Z"
   },
   {
    "duration": 371,
    "start_time": "2021-11-23T13:53:34.473Z"
   },
   {
    "duration": 15,
    "start_time": "2021-11-23T13:53:41.062Z"
   },
   {
    "duration": 24,
    "start_time": "2021-11-23T13:53:46.900Z"
   },
   {
    "duration": 219,
    "start_time": "2021-11-23T13:53:49.793Z"
   },
   {
    "duration": 220,
    "start_time": "2021-11-23T13:54:19.342Z"
   },
   {
    "duration": 234,
    "start_time": "2021-11-23T13:55:32.454Z"
   },
   {
    "duration": 232,
    "start_time": "2021-11-23T13:55:37.607Z"
   },
   {
    "duration": 256,
    "start_time": "2021-11-23T13:55:45.105Z"
   },
   {
    "duration": 974,
    "start_time": "2021-11-23T13:56:37.768Z"
   },
   {
    "duration": 275,
    "start_time": "2021-11-23T13:57:03.305Z"
   },
   {
    "duration": 24,
    "start_time": "2021-11-23T14:01:07.798Z"
   },
   {
    "duration": 38,
    "start_time": "2021-11-23T14:01:48.101Z"
   },
   {
    "duration": 358,
    "start_time": "2021-11-23T14:02:17.847Z"
   },
   {
    "duration": 15,
    "start_time": "2021-11-23T14:02:53.282Z"
   },
   {
    "duration": 364,
    "start_time": "2021-11-23T14:03:06.417Z"
   },
   {
    "duration": 15,
    "start_time": "2021-11-23T14:03:16.521Z"
   },
   {
    "duration": 376,
    "start_time": "2021-11-23T14:03:48.111Z"
   },
   {
    "duration": 359,
    "start_time": "2021-11-23T14:04:55.290Z"
   },
   {
    "duration": 370,
    "start_time": "2021-11-23T14:05:41.170Z"
   },
   {
    "duration": 367,
    "start_time": "2021-11-23T14:06:03.131Z"
   },
   {
    "duration": 373,
    "start_time": "2021-11-23T14:06:10.370Z"
   },
   {
    "duration": 13,
    "start_time": "2021-11-23T14:06:26.977Z"
   },
   {
    "duration": 359,
    "start_time": "2021-11-23T14:06:55.382Z"
   },
   {
    "duration": 14,
    "start_time": "2021-11-23T14:07:02.723Z"
   },
   {
    "duration": 138,
    "start_time": "2021-11-23T14:08:07.358Z"
   },
   {
    "duration": 123,
    "start_time": "2021-11-23T14:08:18.640Z"
   },
   {
    "duration": 115,
    "start_time": "2021-11-23T14:08:28.616Z"
   },
   {
    "duration": 122,
    "start_time": "2021-11-23T14:08:30.852Z"
   },
   {
    "duration": 345,
    "start_time": "2021-11-23T14:08:52.627Z"
   },
   {
    "duration": 355,
    "start_time": "2021-11-23T14:09:03.562Z"
   },
   {
    "duration": 977,
    "start_time": "2021-11-23T14:09:12.178Z"
   },
   {
    "duration": 910,
    "start_time": "2021-11-23T14:09:26.056Z"
   },
   {
    "duration": 127,
    "start_time": "2021-11-23T14:09:55.525Z"
   },
   {
    "duration": 33,
    "start_time": "2021-11-23T14:10:04.544Z"
   },
   {
    "duration": 51,
    "start_time": "2021-11-23T14:10:34.692Z"
   },
   {
    "duration": 47,
    "start_time": "2021-11-23T14:10:56.552Z"
   },
   {
    "duration": 9,
    "start_time": "2021-11-23T14:11:54.731Z"
   },
   {
    "duration": 15,
    "start_time": "2021-11-23T14:12:17.811Z"
   },
   {
    "duration": 13,
    "start_time": "2021-11-23T14:13:10.463Z"
   },
   {
    "duration": 13,
    "start_time": "2021-11-23T14:14:22.673Z"
   },
   {
    "duration": 10,
    "start_time": "2021-11-23T14:15:24.039Z"
   },
   {
    "duration": 12,
    "start_time": "2021-11-23T14:15:30.519Z"
   },
   {
    "duration": 253,
    "start_time": "2021-11-23T14:15:37.589Z"
   },
   {
    "duration": 233,
    "start_time": "2021-11-23T14:15:41.172Z"
   },
   {
    "duration": 401,
    "start_time": "2021-11-23T14:17:22.784Z"
   },
   {
    "duration": 358,
    "start_time": "2021-11-23T14:19:59.085Z"
   },
   {
    "duration": 349,
    "start_time": "2021-11-23T14:20:14.822Z"
   },
   {
    "duration": 12,
    "start_time": "2021-11-23T14:20:21.829Z"
   },
   {
    "duration": 13,
    "start_time": "2021-11-23T14:20:25.512Z"
   },
   {
    "duration": 1337,
    "start_time": "2021-11-23T14:20:37.512Z"
   },
   {
    "duration": 15,
    "start_time": "2021-11-23T14:20:38.851Z"
   },
   {
    "duration": 34,
    "start_time": "2021-11-23T14:20:38.868Z"
   },
   {
    "duration": 21,
    "start_time": "2021-11-23T14:20:38.905Z"
   },
   {
    "duration": 24,
    "start_time": "2021-11-23T14:20:38.927Z"
   },
   {
    "duration": 8,
    "start_time": "2021-11-23T14:20:38.953Z"
   },
   {
    "duration": 15,
    "start_time": "2021-11-23T14:20:38.962Z"
   },
   {
    "duration": 39,
    "start_time": "2021-11-23T14:20:38.980Z"
   },
   {
    "duration": 10,
    "start_time": "2021-11-23T14:20:39.022Z"
   },
   {
    "duration": 9,
    "start_time": "2021-11-23T14:20:39.034Z"
   },
   {
    "duration": 41,
    "start_time": "2021-11-23T14:20:39.045Z"
   },
   {
    "duration": 5,
    "start_time": "2021-11-23T14:20:39.088Z"
   },
   {
    "duration": 21,
    "start_time": "2021-11-23T14:20:39.107Z"
   },
   {
    "duration": 8,
    "start_time": "2021-11-23T14:20:39.130Z"
   },
   {
    "duration": 23,
    "start_time": "2021-11-23T14:20:39.140Z"
   },
   {
    "duration": 24,
    "start_time": "2021-11-23T14:20:39.165Z"
   },
   {
    "duration": 44,
    "start_time": "2021-11-23T14:20:39.191Z"
   },
   {
    "duration": 7,
    "start_time": "2021-11-23T14:20:39.237Z"
   },
   {
    "duration": 6,
    "start_time": "2021-11-23T14:20:39.246Z"
   },
   {
    "duration": 14,
    "start_time": "2021-11-23T14:20:39.254Z"
   },
   {
    "duration": 3,
    "start_time": "2021-11-23T14:20:39.270Z"
   },
   {
    "duration": 71,
    "start_time": "2021-11-23T14:20:39.275Z"
   },
   {
    "duration": 31,
    "start_time": "2021-11-23T14:20:39.349Z"
   },
   {
    "duration": 51,
    "start_time": "2021-11-23T14:20:39.382Z"
   },
   {
    "duration": 18,
    "start_time": "2021-11-23T14:20:39.434Z"
   },
   {
    "duration": 10,
    "start_time": "2021-11-23T14:20:39.453Z"
   },
   {
    "duration": 209,
    "start_time": "2021-11-23T14:20:39.465Z"
   },
   {
    "duration": 12,
    "start_time": "2021-11-23T14:20:39.675Z"
   },
   {
    "duration": 201,
    "start_time": "2021-11-23T14:20:39.689Z"
   },
   {
    "duration": 35,
    "start_time": "2021-11-23T14:20:39.892Z"
   },
   {
    "duration": 264,
    "start_time": "2021-11-23T14:20:39.929Z"
   },
   {
    "duration": 20,
    "start_time": "2021-11-23T14:20:40.194Z"
   },
   {
    "duration": 11,
    "start_time": "2021-11-23T14:20:40.216Z"
   },
   {
    "duration": 12,
    "start_time": "2021-11-23T14:20:47.993Z"
   },
   {
    "duration": 11,
    "start_time": "2021-11-23T14:20:56.186Z"
   },
   {
    "duration": 113,
    "start_time": "2021-11-23T14:21:58.752Z"
   },
   {
    "duration": 440,
    "start_time": "2021-11-23T14:22:05.001Z"
   },
   {
    "duration": 356,
    "start_time": "2021-11-23T14:23:19.222Z"
   },
   {
    "duration": 18,
    "start_time": "2021-11-23T14:23:26.199Z"
   },
   {
    "duration": 12,
    "start_time": "2021-11-23T14:23:58.643Z"
   },
   {
    "duration": 11,
    "start_time": "2021-11-23T14:24:10.164Z"
   },
   {
    "duration": 172,
    "start_time": "2021-11-23T14:24:52.995Z"
   },
   {
    "duration": 245,
    "start_time": "2021-11-23T14:25:30.313Z"
   },
   {
    "duration": 5,
    "start_time": "2021-11-23T14:27:04.201Z"
   },
   {
    "duration": 4,
    "start_time": "2021-11-23T14:27:19.952Z"
   },
   {
    "duration": 182,
    "start_time": "2021-11-23T14:27:30.671Z"
   },
   {
    "duration": 431,
    "start_time": "2021-11-23T14:28:43.496Z"
   },
   {
    "duration": 4,
    "start_time": "2021-11-23T14:29:06.619Z"
   },
   {
    "duration": 388,
    "start_time": "2021-11-23T14:29:08.830Z"
   },
   {
    "duration": 4,
    "start_time": "2021-11-23T14:29:21.757Z"
   },
   {
    "duration": 3,
    "start_time": "2021-11-23T14:29:25.740Z"
   },
   {
    "duration": 5,
    "start_time": "2021-11-23T14:29:33.940Z"
   },
   {
    "duration": 6,
    "start_time": "2021-11-23T14:29:40.097Z"
   },
   {
    "duration": 376,
    "start_time": "2021-11-23T14:29:42.084Z"
   },
   {
    "duration": 387,
    "start_time": "2021-11-23T14:30:06.366Z"
   },
   {
    "duration": 4,
    "start_time": "2021-11-23T14:30:54.191Z"
   },
   {
    "duration": 5,
    "start_time": "2021-11-23T14:30:59.879Z"
   },
   {
    "duration": 585,
    "start_time": "2021-11-23T14:31:01.635Z"
   },
   {
    "duration": 583,
    "start_time": "2021-11-23T14:31:59.814Z"
   },
   {
    "duration": 134,
    "start_time": "2021-11-23T14:33:18.907Z"
   },
   {
    "duration": 11,
    "start_time": "2021-11-23T14:33:34.932Z"
   },
   {
    "duration": 5,
    "start_time": "2021-11-23T14:34:03.503Z"
   },
   {
    "duration": 5,
    "start_time": "2021-11-23T14:34:39.761Z"
   },
   {
    "duration": 184,
    "start_time": "2021-11-23T14:35:07.166Z"
   },
   {
    "duration": 177,
    "start_time": "2021-11-23T14:35:49.037Z"
   },
   {
    "duration": 167,
    "start_time": "2021-11-23T14:36:39.519Z"
   },
   {
    "duration": 173,
    "start_time": "2021-11-23T14:37:16.892Z"
   },
   {
    "duration": 5,
    "start_time": "2021-11-23T14:38:15.906Z"
   },
   {
    "duration": 175,
    "start_time": "2021-11-23T14:51:11.835Z"
   },
   {
    "duration": 168,
    "start_time": "2021-11-23T14:53:28.838Z"
   },
   {
    "duration": 407,
    "start_time": "2021-11-23T14:54:24.378Z"
   },
   {
    "duration": 431,
    "start_time": "2021-11-23T14:55:03.544Z"
   },
   {
    "duration": 8,
    "start_time": "2021-11-23T14:57:05.587Z"
   },
   {
    "duration": 340,
    "start_time": "2021-11-23T14:58:09.689Z"
   },
   {
    "duration": 351,
    "start_time": "2021-11-23T14:58:17.449Z"
   },
   {
    "duration": 5,
    "start_time": "2021-11-23T14:59:13.319Z"
   },
   {
    "duration": 336,
    "start_time": "2021-11-23T14:59:51.765Z"
   },
   {
    "duration": 353,
    "start_time": "2021-11-23T14:59:58.701Z"
   },
   {
    "duration": 415,
    "start_time": "2021-11-23T15:00:12.243Z"
   },
   {
    "duration": 16,
    "start_time": "2021-11-23T15:00:25.100Z"
   },
   {
    "duration": 212,
    "start_time": "2021-11-23T15:04:03.750Z"
   },
   {
    "duration": 277,
    "start_time": "2021-11-23T15:05:10.307Z"
   },
   {
    "duration": 267,
    "start_time": "2021-11-23T15:05:50.242Z"
   },
   {
    "duration": 363,
    "start_time": "2021-11-23T15:06:20.410Z"
   },
   {
    "duration": 1371,
    "start_time": "2021-11-23T15:06:37.321Z"
   },
   {
    "duration": 16,
    "start_time": "2021-11-23T15:06:38.695Z"
   },
   {
    "duration": 30,
    "start_time": "2021-11-23T15:06:38.714Z"
   },
   {
    "duration": 15,
    "start_time": "2021-11-23T15:06:38.746Z"
   },
   {
    "duration": 31,
    "start_time": "2021-11-23T15:06:38.763Z"
   },
   {
    "duration": 8,
    "start_time": "2021-11-23T15:06:38.796Z"
   },
   {
    "duration": 17,
    "start_time": "2021-11-23T15:06:38.807Z"
   },
   {
    "duration": 20,
    "start_time": "2021-11-23T15:06:38.826Z"
   },
   {
    "duration": 8,
    "start_time": "2021-11-23T15:06:38.848Z"
   },
   {
    "duration": 31,
    "start_time": "2021-11-23T15:06:38.857Z"
   },
   {
    "duration": 66,
    "start_time": "2021-11-23T15:06:38.889Z"
   },
   {
    "duration": 5,
    "start_time": "2021-11-23T15:06:38.956Z"
   },
   {
    "duration": 33,
    "start_time": "2021-11-23T15:06:38.962Z"
   },
   {
    "duration": 21,
    "start_time": "2021-11-23T15:06:38.996Z"
   },
   {
    "duration": 31,
    "start_time": "2021-11-23T15:06:39.019Z"
   },
   {
    "duration": 33,
    "start_time": "2021-11-23T15:06:39.052Z"
   },
   {
    "duration": 56,
    "start_time": "2021-11-23T15:06:39.087Z"
   },
   {
    "duration": 79,
    "start_time": "2021-11-23T15:06:39.145Z"
   },
   {
    "duration": 15,
    "start_time": "2021-11-23T15:06:39.225Z"
   },
   {
    "duration": 20,
    "start_time": "2021-11-23T15:06:39.242Z"
   },
   {
    "duration": 21,
    "start_time": "2021-11-23T15:06:39.264Z"
   },
   {
    "duration": 63,
    "start_time": "2021-11-23T15:06:39.288Z"
   },
   {
    "duration": 30,
    "start_time": "2021-11-23T15:06:39.353Z"
   },
   {
    "duration": 49,
    "start_time": "2021-11-23T15:06:39.385Z"
   },
   {
    "duration": 16,
    "start_time": "2021-11-23T15:06:39.435Z"
   },
   {
    "duration": 15,
    "start_time": "2021-11-23T15:06:39.507Z"
   },
   {
    "duration": 233,
    "start_time": "2021-11-23T15:06:39.524Z"
   },
   {
    "duration": 12,
    "start_time": "2021-11-23T15:06:39.759Z"
   },
   {
    "duration": 203,
    "start_time": "2021-11-23T15:06:39.773Z"
   },
   {
    "duration": 61,
    "start_time": "2021-11-23T15:06:39.978Z"
   },
   {
    "duration": 411,
    "start_time": "2021-11-23T15:06:40.041Z"
   },
   {
    "duration": 214,
    "start_time": "2021-11-23T15:06:40.454Z"
   },
   {
    "duration": 484,
    "start_time": "2021-11-23T15:06:40.670Z"
   },
   {
    "duration": 445,
    "start_time": "2021-11-23T15:06:41.156Z"
   },
   {
    "duration": 363,
    "start_time": "2021-11-23T15:07:10.530Z"
   },
   {
    "duration": 366,
    "start_time": "2021-11-23T15:08:20.531Z"
   },
   {
    "duration": 421,
    "start_time": "2021-11-23T15:09:43.106Z"
   },
   {
    "duration": 380,
    "start_time": "2021-11-23T15:09:52.827Z"
   },
   {
    "duration": 397,
    "start_time": "2021-11-23T15:10:27.728Z"
   },
   {
    "duration": 394,
    "start_time": "2021-11-23T15:10:42.783Z"
   },
   {
    "duration": 346,
    "start_time": "2021-11-23T15:10:53.262Z"
   },
   {
    "duration": 216,
    "start_time": "2021-11-23T15:11:01.811Z"
   },
   {
    "duration": 233,
    "start_time": "2021-11-23T15:11:15.791Z"
   },
   {
    "duration": 220,
    "start_time": "2021-11-23T15:12:53.091Z"
   },
   {
    "duration": 204,
    "start_time": "2021-11-23T15:12:56.588Z"
   },
   {
    "duration": 222,
    "start_time": "2021-11-23T15:12:59.422Z"
   },
   {
    "duration": 219,
    "start_time": "2021-11-23T15:13:01.703Z"
   },
   {
    "duration": 292,
    "start_time": "2021-11-23T15:13:27.650Z"
   },
   {
    "duration": 210,
    "start_time": "2021-11-23T15:14:08.315Z"
   },
   {
    "duration": 1309,
    "start_time": "2021-11-24T13:14:52.793Z"
   },
   {
    "duration": 17,
    "start_time": "2021-11-24T13:14:54.103Z"
   },
   {
    "duration": 21,
    "start_time": "2021-11-24T13:14:54.126Z"
   },
   {
    "duration": 24,
    "start_time": "2021-11-24T13:14:54.148Z"
   },
   {
    "duration": 45,
    "start_time": "2021-11-24T13:14:54.174Z"
   },
   {
    "duration": 7,
    "start_time": "2021-11-24T13:14:54.221Z"
   },
   {
    "duration": 25,
    "start_time": "2021-11-24T13:14:54.231Z"
   },
   {
    "duration": 33,
    "start_time": "2021-11-24T13:14:54.258Z"
   },
   {
    "duration": 8,
    "start_time": "2021-11-24T13:14:54.293Z"
   },
   {
    "duration": 20,
    "start_time": "2021-11-24T13:14:54.303Z"
   },
   {
    "duration": 36,
    "start_time": "2021-11-24T13:14:54.325Z"
   },
   {
    "duration": 5,
    "start_time": "2021-11-24T13:14:54.362Z"
   },
   {
    "duration": 22,
    "start_time": "2021-11-24T13:14:54.368Z"
   },
   {
    "duration": 7,
    "start_time": "2021-11-24T13:14:54.392Z"
   },
   {
    "duration": 20,
    "start_time": "2021-11-24T13:14:54.401Z"
   },
   {
    "duration": 13,
    "start_time": "2021-11-24T13:14:54.423Z"
   },
   {
    "duration": 38,
    "start_time": "2021-11-24T13:14:54.438Z"
   },
   {
    "duration": 8,
    "start_time": "2021-11-24T13:14:54.478Z"
   },
   {
    "duration": 20,
    "start_time": "2021-11-24T13:14:54.488Z"
   },
   {
    "duration": 18,
    "start_time": "2021-11-24T13:14:54.510Z"
   },
   {
    "duration": 13,
    "start_time": "2021-11-24T13:14:54.529Z"
   },
   {
    "duration": 57,
    "start_time": "2021-11-24T13:14:54.545Z"
   },
   {
    "duration": 30,
    "start_time": "2021-11-24T13:14:54.604Z"
   },
   {
    "duration": 32,
    "start_time": "2021-11-24T13:14:54.636Z"
   },
   {
    "duration": 37,
    "start_time": "2021-11-24T13:14:54.670Z"
   },
   {
    "duration": 9,
    "start_time": "2021-11-24T13:14:54.709Z"
   },
   {
    "duration": 194,
    "start_time": "2021-11-24T13:14:54.719Z"
   },
   {
    "duration": 11,
    "start_time": "2021-11-24T13:14:54.915Z"
   },
   {
    "duration": 195,
    "start_time": "2021-11-24T13:14:54.927Z"
   },
   {
    "duration": 29,
    "start_time": "2021-11-24T13:14:55.124Z"
   },
   {
    "duration": 261,
    "start_time": "2021-11-24T13:14:55.155Z"
   },
   {
    "duration": 210,
    "start_time": "2021-11-24T13:14:55.418Z"
   },
   {
    "duration": 267,
    "start_time": "2021-11-24T13:14:55.631Z"
   },
   {
    "duration": 213,
    "start_time": "2021-11-24T13:14:55.900Z"
   },
   {
    "duration": 222,
    "start_time": "2021-11-24T13:14:56.115Z"
   },
   {
    "duration": 229,
    "start_time": "2021-11-24T13:14:56.339Z"
   },
   {
    "duration": 300,
    "start_time": "2021-11-24T13:14:56.570Z"
   },
   {
    "duration": 6,
    "start_time": "2021-11-24T13:26:21.646Z"
   },
   {
    "duration": 34,
    "start_time": "2021-11-24T13:26:26.222Z"
   },
   {
    "duration": 34,
    "start_time": "2021-11-24T13:28:39.093Z"
   },
   {
    "duration": 36,
    "start_time": "2021-11-24T13:31:07.210Z"
   },
   {
    "duration": 17,
    "start_time": "2021-11-24T13:31:56.911Z"
   },
   {
    "duration": 444,
    "start_time": "2021-11-24T13:32:50.159Z"
   },
   {
    "duration": 386,
    "start_time": "2021-11-24T13:33:06.595Z"
   },
   {
    "duration": 416,
    "start_time": "2021-11-24T13:33:52.995Z"
   },
   {
    "duration": 9,
    "start_time": "2021-11-24T13:34:32.971Z"
   },
   {
    "duration": 10,
    "start_time": "2021-11-24T13:35:13.070Z"
   },
   {
    "duration": 33,
    "start_time": "2021-11-24T13:35:34.548Z"
   },
   {
    "duration": 43,
    "start_time": "2021-11-24T13:35:45.881Z"
   },
   {
    "duration": 380,
    "start_time": "2021-11-24T13:37:37.996Z"
   },
   {
    "duration": 41,
    "start_time": "2021-11-24T13:38:18.137Z"
   },
   {
    "duration": 376,
    "start_time": "2021-11-24T13:38:37.558Z"
   },
   {
    "duration": 36,
    "start_time": "2021-11-24T13:38:50.391Z"
   },
   {
    "duration": 417,
    "start_time": "2021-11-24T13:39:09.158Z"
   },
   {
    "duration": 24,
    "start_time": "2021-11-24T13:39:17.230Z"
   },
   {
    "duration": 35,
    "start_time": "2021-11-24T13:39:33.138Z"
   },
   {
    "duration": 117,
    "start_time": "2021-11-24T13:40:50.073Z"
   },
   {
    "duration": 123,
    "start_time": "2021-11-24T13:40:59.958Z"
   },
   {
    "duration": 115,
    "start_time": "2021-11-24T13:41:05.275Z"
   },
   {
    "duration": 108,
    "start_time": "2021-11-24T13:41:14.486Z"
   },
   {
    "duration": 39,
    "start_time": "2021-11-24T13:41:26.365Z"
   },
   {
    "duration": 37,
    "start_time": "2021-11-24T13:41:38.762Z"
   },
   {
    "duration": 35,
    "start_time": "2021-11-24T13:41:50.559Z"
   },
   {
    "duration": 26,
    "start_time": "2021-11-24T13:42:02.997Z"
   },
   {
    "duration": 24,
    "start_time": "2021-11-24T13:44:15.706Z"
   },
   {
    "duration": 25,
    "start_time": "2021-11-24T13:45:55.317Z"
   },
   {
    "duration": 11,
    "start_time": "2021-11-24T13:46:01.183Z"
   },
   {
    "duration": 335,
    "start_time": "2021-11-24T13:46:31.184Z"
   },
   {
    "duration": 107,
    "start_time": "2021-11-24T13:46:39.631Z"
   },
   {
    "duration": 12,
    "start_time": "2021-11-24T13:46:43.169Z"
   },
   {
    "duration": 469,
    "start_time": "2021-11-24T13:47:07.328Z"
   },
   {
    "duration": 1361,
    "start_time": "2021-11-24T13:47:10.720Z"
   },
   {
    "duration": 344,
    "start_time": "2021-11-24T13:47:57.491Z"
   },
   {
    "duration": 321,
    "start_time": "2021-11-24T13:48:43.288Z"
   },
   {
    "duration": 495,
    "start_time": "2021-11-24T13:48:49.487Z"
   },
   {
    "duration": 352,
    "start_time": "2021-11-24T13:49:04.937Z"
   },
   {
    "duration": 120,
    "start_time": "2021-11-24T13:51:03.914Z"
   },
   {
    "duration": 334,
    "start_time": "2021-11-24T13:51:08.408Z"
   },
   {
    "duration": 343,
    "start_time": "2021-11-24T13:51:14.740Z"
   },
   {
    "duration": 6,
    "start_time": "2021-11-24T13:52:12.231Z"
   },
   {
    "duration": 7,
    "start_time": "2021-11-24T13:52:20.328Z"
   },
   {
    "duration": 26,
    "start_time": "2021-11-24T13:52:33.546Z"
   },
   {
    "duration": 13,
    "start_time": "2021-11-24T13:52:45.980Z"
   },
   {
    "duration": 33,
    "start_time": "2021-11-24T13:55:55.612Z"
   },
   {
    "duration": 13,
    "start_time": "2021-11-24T13:56:21.671Z"
   },
   {
    "duration": 14,
    "start_time": "2021-11-24T13:56:37.486Z"
   },
   {
    "duration": 27,
    "start_time": "2021-11-24T13:56:49.833Z"
   },
   {
    "duration": 12,
    "start_time": "2021-11-24T13:57:00.444Z"
   },
   {
    "duration": 27,
    "start_time": "2021-11-24T13:57:04.629Z"
   },
   {
    "duration": 12,
    "start_time": "2021-11-24T13:57:31.539Z"
   },
   {
    "duration": 52,
    "start_time": "2021-11-24T14:53:47.578Z"
   },
   {
    "duration": 9,
    "start_time": "2021-11-24T14:56:15.178Z"
   },
   {
    "duration": 3,
    "start_time": "2021-11-24T15:08:45.009Z"
   },
   {
    "duration": 11,
    "start_time": "2021-11-24T15:09:45.044Z"
   },
   {
    "duration": 8,
    "start_time": "2021-11-24T15:10:29.238Z"
   },
   {
    "duration": 12,
    "start_time": "2021-11-24T15:11:01.197Z"
   },
   {
    "duration": 9,
    "start_time": "2021-11-24T15:12:44.901Z"
   },
   {
    "duration": 9,
    "start_time": "2021-11-24T15:12:50.633Z"
   },
   {
    "duration": 118,
    "start_time": "2021-11-24T15:15:35.330Z"
   },
   {
    "duration": 104,
    "start_time": "2021-11-24T15:15:41.465Z"
   },
   {
    "duration": 10,
    "start_time": "2021-11-24T15:15:43.622Z"
   },
   {
    "duration": 11,
    "start_time": "2021-11-24T15:15:54.485Z"
   },
   {
    "duration": 12,
    "start_time": "2021-11-24T15:20:32.495Z"
   },
   {
    "duration": 192,
    "start_time": "2021-11-24T15:24:11.091Z"
   },
   {
    "duration": 17,
    "start_time": "2021-11-24T15:24:41.479Z"
   },
   {
    "duration": 169,
    "start_time": "2021-11-24T15:24:48.491Z"
   },
   {
    "duration": 166,
    "start_time": "2021-11-24T15:25:21.871Z"
   },
   {
    "duration": 159,
    "start_time": "2021-11-24T15:25:40.647Z"
   },
   {
    "duration": 163,
    "start_time": "2021-11-24T15:26:31.212Z"
   },
   {
    "duration": 179,
    "start_time": "2021-11-24T15:27:06.859Z"
   },
   {
    "duration": 237,
    "start_time": "2021-11-24T15:27:48.563Z"
   },
   {
    "duration": 175,
    "start_time": "2021-11-24T15:29:20.797Z"
   },
   {
    "duration": 179,
    "start_time": "2021-11-24T15:30:27.146Z"
   },
   {
    "duration": 174,
    "start_time": "2021-11-24T15:32:14.591Z"
   },
   {
    "duration": 9,
    "start_time": "2021-11-24T15:33:36.403Z"
   },
   {
    "duration": 10,
    "start_time": "2021-11-24T15:34:31.749Z"
   },
   {
    "duration": 12,
    "start_time": "2021-11-24T16:06:47.552Z"
   },
   {
    "duration": 399,
    "start_time": "2021-11-24T16:23:35.890Z"
   },
   {
    "duration": 32,
    "start_time": "2021-11-24T16:26:27.441Z"
   },
   {
    "duration": 371,
    "start_time": "2021-11-24T16:26:57.329Z"
   },
   {
    "duration": 21,
    "start_time": "2021-11-24T16:27:01.108Z"
   },
   {
    "duration": 20,
    "start_time": "2021-11-24T16:28:39.254Z"
   },
   {
    "duration": 34,
    "start_time": "2021-11-24T16:30:01.483Z"
   },
   {
    "duration": 33,
    "start_time": "2021-11-24T16:30:47.511Z"
   },
   {
    "duration": 25,
    "start_time": "2021-11-24T16:30:55.224Z"
   },
   {
    "duration": 7,
    "start_time": "2021-11-24T16:31:39.403Z"
   },
   {
    "duration": 35,
    "start_time": "2021-11-24T16:31:49.892Z"
   },
   {
    "duration": 34,
    "start_time": "2021-11-24T16:32:26.793Z"
   },
   {
    "duration": 24,
    "start_time": "2021-11-24T16:32:32.577Z"
   },
   {
    "duration": 6,
    "start_time": "2021-11-24T16:34:16.617Z"
   },
   {
    "duration": 171,
    "start_time": "2021-11-24T16:34:41.494Z"
   },
   {
    "duration": 171,
    "start_time": "2021-11-24T16:34:54.302Z"
   },
   {
    "duration": 7,
    "start_time": "2021-11-24T16:35:02.578Z"
   },
   {
    "duration": 330,
    "start_time": "2021-11-24T16:35:28.011Z"
   },
   {
    "duration": 6,
    "start_time": "2021-11-24T16:35:35.060Z"
   },
   {
    "duration": 187,
    "start_time": "2021-11-24T16:35:36.708Z"
   },
   {
    "duration": 166,
    "start_time": "2021-11-24T16:36:00.546Z"
   },
   {
    "duration": 172,
    "start_time": "2021-11-24T16:36:06.748Z"
   },
   {
    "duration": 168,
    "start_time": "2021-11-24T16:36:19.785Z"
   },
   {
    "duration": 162,
    "start_time": "2021-11-24T16:36:35.823Z"
   },
   {
    "duration": 7,
    "start_time": "2021-11-24T16:36:50.885Z"
   },
   {
    "duration": 24,
    "start_time": "2021-11-24T16:37:10.390Z"
   },
   {
    "duration": 20,
    "start_time": "2021-11-24T16:38:15.551Z"
   },
   {
    "duration": 22,
    "start_time": "2021-11-24T16:38:17.346Z"
   },
   {
    "duration": 7,
    "start_time": "2021-11-24T16:38:37.992Z"
   },
   {
    "duration": 164,
    "start_time": "2021-11-24T16:39:34.759Z"
   },
   {
    "duration": 175,
    "start_time": "2021-11-24T16:40:04.273Z"
   },
   {
    "duration": 4,
    "start_time": "2021-11-24T16:42:51.530Z"
   },
   {
    "duration": 6,
    "start_time": "2021-11-24T16:43:17.963Z"
   },
   {
    "duration": 21,
    "start_time": "2021-11-24T16:43:40.746Z"
   },
   {
    "duration": 334,
    "start_time": "2021-11-24T16:44:09.751Z"
   },
   {
    "duration": 6,
    "start_time": "2021-11-24T16:44:15.336Z"
   },
   {
    "duration": 1605,
    "start_time": "2021-11-25T07:34:06.127Z"
   },
   {
    "duration": 24,
    "start_time": "2021-11-25T07:34:07.735Z"
   },
   {
    "duration": 43,
    "start_time": "2021-11-25T07:34:07.763Z"
   },
   {
    "duration": 40,
    "start_time": "2021-11-25T07:34:07.809Z"
   },
   {
    "duration": 37,
    "start_time": "2021-11-25T07:34:07.852Z"
   },
   {
    "duration": 9,
    "start_time": "2021-11-25T07:34:07.891Z"
   },
   {
    "duration": 15,
    "start_time": "2021-11-25T07:34:07.929Z"
   },
   {
    "duration": 32,
    "start_time": "2021-11-25T07:34:07.948Z"
   },
   {
    "duration": 12,
    "start_time": "2021-11-25T07:34:07.983Z"
   },
   {
    "duration": 39,
    "start_time": "2021-11-25T07:34:07.997Z"
   },
   {
    "duration": 86,
    "start_time": "2021-11-25T07:34:08.039Z"
   },
   {
    "duration": 6,
    "start_time": "2021-11-25T07:34:08.128Z"
   },
   {
    "duration": 48,
    "start_time": "2021-11-25T07:34:08.136Z"
   },
   {
    "duration": 11,
    "start_time": "2021-11-25T07:34:08.186Z"
   },
   {
    "duration": 50,
    "start_time": "2021-11-25T07:34:08.200Z"
   },
   {
    "duration": 24,
    "start_time": "2021-11-25T07:34:08.253Z"
   },
   {
    "duration": 78,
    "start_time": "2021-11-25T07:34:08.279Z"
   },
   {
    "duration": 16,
    "start_time": "2021-11-25T07:34:08.359Z"
   },
   {
    "duration": 27,
    "start_time": "2021-11-25T07:34:08.378Z"
   },
   {
    "duration": 32,
    "start_time": "2021-11-25T07:34:08.408Z"
   },
   {
    "duration": 26,
    "start_time": "2021-11-25T07:34:08.443Z"
   },
   {
    "duration": 91,
    "start_time": "2021-11-25T07:34:08.471Z"
   },
   {
    "duration": 62,
    "start_time": "2021-11-25T07:34:08.567Z"
   },
   {
    "duration": 46,
    "start_time": "2021-11-25T07:34:08.632Z"
   },
   {
    "duration": 25,
    "start_time": "2021-11-25T07:34:08.681Z"
   },
   {
    "duration": 11,
    "start_time": "2021-11-25T07:34:08.729Z"
   },
   {
    "duration": 320,
    "start_time": "2021-11-25T07:34:08.742Z"
   },
   {
    "duration": 16,
    "start_time": "2021-11-25T07:34:09.065Z"
   },
   {
    "duration": 315,
    "start_time": "2021-11-25T07:34:09.083Z"
   },
   {
    "duration": 49,
    "start_time": "2021-11-25T07:34:09.401Z"
   },
   {
    "duration": 412,
    "start_time": "2021-11-25T07:34:09.453Z"
   },
   {
    "duration": 331,
    "start_time": "2021-11-25T07:34:09.867Z"
   },
   {
    "duration": 391,
    "start_time": "2021-11-25T07:34:10.200Z"
   },
   {
    "duration": 333,
    "start_time": "2021-11-25T07:34:10.593Z"
   },
   {
    "duration": 330,
    "start_time": "2021-11-25T07:34:10.928Z"
   },
   {
    "duration": 332,
    "start_time": "2021-11-25T07:34:11.261Z"
   },
   {
    "duration": 327,
    "start_time": "2021-11-25T07:34:11.595Z"
   },
   {
    "duration": 82,
    "start_time": "2021-11-25T07:34:11.925Z"
   },
   {
    "duration": 21,
    "start_time": "2021-11-25T07:34:12.030Z"
   },
   {
    "duration": 13,
    "start_time": "2021-11-25T07:34:12.054Z"
   },
   {
    "duration": 60,
    "start_time": "2021-11-25T07:34:12.070Z"
   },
   {
    "duration": 291,
    "start_time": "2021-11-25T07:34:12.133Z"
   },
   {
    "duration": 283,
    "start_time": "2021-11-25T07:34:12.429Z"
   },
   {
    "duration": 305,
    "start_time": "2021-11-25T07:34:12.714Z"
   },
   {
    "duration": 31,
    "start_time": "2021-11-25T07:34:13.029Z"
   },
   {
    "duration": 303,
    "start_time": "2021-11-25T07:34:13.063Z"
   },
   {
    "duration": 16,
    "start_time": "2021-11-25T09:45:08.901Z"
   },
   {
    "duration": 6,
    "start_time": "2021-11-25T09:45:50.041Z"
   },
   {
    "duration": 10,
    "start_time": "2021-11-25T10:15:08.310Z"
   },
   {
    "duration": 11,
    "start_time": "2021-11-25T10:15:28.826Z"
   },
   {
    "duration": 4,
    "start_time": "2021-11-25T10:16:07.681Z"
   },
   {
    "duration": 12,
    "start_time": "2021-11-25T10:16:37.498Z"
   },
   {
    "duration": 12,
    "start_time": "2021-11-25T10:17:24.899Z"
   },
   {
    "duration": 513,
    "start_time": "2021-11-25T15:15:39.239Z"
   },
   {
    "duration": 84,
    "start_time": "2021-11-25T15:16:05.830Z"
   },
   {
    "duration": 244,
    "start_time": "2021-11-25T15:16:24.702Z"
   },
   {
    "duration": 12,
    "start_time": "2021-11-25T15:16:42.325Z"
   },
   {
    "duration": 11,
    "start_time": "2021-11-25T15:17:14.018Z"
   },
   {
    "duration": 247,
    "start_time": "2021-11-25T15:17:23.994Z"
   },
   {
    "duration": 81,
    "start_time": "2021-11-25T15:17:31.306Z"
   },
   {
    "duration": 236,
    "start_time": "2021-11-25T15:17:41.073Z"
   },
   {
    "duration": 13,
    "start_time": "2021-11-25T15:18:03.072Z"
   },
   {
    "duration": 10,
    "start_time": "2021-11-25T15:18:11.556Z"
   },
   {
    "duration": 84,
    "start_time": "2021-11-25T15:20:14.901Z"
   },
   {
    "duration": 286,
    "start_time": "2021-11-25T15:20:18.523Z"
   },
   {
    "duration": 289,
    "start_time": "2021-11-25T15:20:23.233Z"
   },
   {
    "duration": 271,
    "start_time": "2021-11-25T15:20:39.473Z"
   },
   {
    "duration": 328,
    "start_time": "2021-11-25T15:20:49.017Z"
   },
   {
    "duration": 10,
    "start_time": "2021-11-25T15:21:02.896Z"
   },
   {
    "duration": 11,
    "start_time": "2021-11-25T15:21:06.396Z"
   },
   {
    "duration": 13,
    "start_time": "2021-11-25T15:21:12.123Z"
   },
   {
    "duration": 20,
    "start_time": "2021-11-25T15:22:25.540Z"
   },
   {
    "duration": 17,
    "start_time": "2021-11-25T15:23:49.984Z"
   },
   {
    "duration": 17,
    "start_time": "2021-11-25T15:24:26.445Z"
   },
   {
    "duration": 29,
    "start_time": "2021-11-25T15:25:20.965Z"
   },
   {
    "duration": 31,
    "start_time": "2021-11-25T15:25:45.958Z"
   },
   {
    "duration": 19,
    "start_time": "2021-11-25T15:30:51.969Z"
   },
   {
    "duration": 30,
    "start_time": "2021-11-25T15:30:57.451Z"
   },
   {
    "duration": 6600,
    "start_time": "2021-11-25T15:32:14.940Z"
   },
   {
    "duration": 33,
    "start_time": "2021-11-25T15:32:53.895Z"
   },
   {
    "duration": 293,
    "start_time": "2021-11-25T15:33:38.830Z"
   },
   {
    "duration": 6348,
    "start_time": "2021-11-25T15:34:27.690Z"
   },
   {
    "duration": 365,
    "start_time": "2021-11-25T15:34:39.278Z"
   },
   {
    "duration": 6909,
    "start_time": "2021-11-25T15:34:57.189Z"
   },
   {
    "duration": -48,
    "start_time": "2021-11-25T15:35:12.293Z"
   },
   {
    "duration": 398,
    "start_time": "2021-11-25T15:35:17.889Z"
   },
   {
    "duration": 441,
    "start_time": "2021-11-25T15:38:57.423Z"
   },
   {
    "duration": 256,
    "start_time": "2021-11-25T15:39:24.630Z"
   },
   {
    "duration": 368,
    "start_time": "2021-11-25T15:39:30.073Z"
   },
   {
    "duration": 286,
    "start_time": "2021-11-25T15:39:34.247Z"
   },
   {
    "duration": 418,
    "start_time": "2021-11-25T15:39:48.623Z"
   },
   {
    "duration": 363,
    "start_time": "2021-11-25T15:39:52.375Z"
   },
   {
    "duration": 291,
    "start_time": "2021-11-25T15:39:56.181Z"
   },
   {
    "duration": 1619,
    "start_time": "2021-11-25T15:40:20.909Z"
   },
   {
    "duration": 21,
    "start_time": "2021-11-25T15:40:22.531Z"
   },
   {
    "duration": 44,
    "start_time": "2021-11-25T15:40:22.555Z"
   },
   {
    "duration": 32,
    "start_time": "2021-11-25T15:40:22.602Z"
   },
   {
    "duration": 37,
    "start_time": "2021-11-25T15:40:22.636Z"
   },
   {
    "duration": 22,
    "start_time": "2021-11-25T15:40:22.675Z"
   },
   {
    "duration": 48,
    "start_time": "2021-11-25T15:40:22.699Z"
   },
   {
    "duration": 44,
    "start_time": "2021-11-25T15:40:22.751Z"
   },
   {
    "duration": 18,
    "start_time": "2021-11-25T15:40:22.797Z"
   },
   {
    "duration": 29,
    "start_time": "2021-11-25T15:40:22.817Z"
   },
   {
    "duration": 48,
    "start_time": "2021-11-25T15:40:22.848Z"
   },
   {
    "duration": 6,
    "start_time": "2021-11-25T15:40:22.898Z"
   },
   {
    "duration": 47,
    "start_time": "2021-11-25T15:40:22.906Z"
   },
   {
    "duration": 11,
    "start_time": "2021-11-25T15:40:22.955Z"
   },
   {
    "duration": 23,
    "start_time": "2021-11-25T15:40:22.969Z"
   },
   {
    "duration": 50,
    "start_time": "2021-11-25T15:40:22.994Z"
   },
   {
    "duration": 52,
    "start_time": "2021-11-25T15:40:23.046Z"
   },
   {
    "duration": 11,
    "start_time": "2021-11-25T15:40:23.100Z"
   },
   {
    "duration": 24,
    "start_time": "2021-11-25T15:40:23.113Z"
   },
   {
    "duration": 34,
    "start_time": "2021-11-25T15:40:23.139Z"
   },
   {
    "duration": 45,
    "start_time": "2021-11-25T15:40:23.175Z"
   },
   {
    "duration": 86,
    "start_time": "2021-11-25T15:40:23.222Z"
   },
   {
    "duration": 43,
    "start_time": "2021-11-25T15:40:23.313Z"
   },
   {
    "duration": 79,
    "start_time": "2021-11-25T15:40:23.359Z"
   },
   {
    "duration": 27,
    "start_time": "2021-11-25T15:40:23.441Z"
   },
   {
    "duration": 12,
    "start_time": "2021-11-25T15:40:23.471Z"
   },
   {
    "duration": 457,
    "start_time": "2021-11-25T15:40:23.486Z"
   },
   {
    "duration": 20,
    "start_time": "2021-11-25T15:40:23.945Z"
   },
   {
    "duration": 323,
    "start_time": "2021-11-25T15:40:23.968Z"
   },
   {
    "duration": 54,
    "start_time": "2021-11-25T15:40:24.293Z"
   },
   {
    "duration": 553,
    "start_time": "2021-11-25T15:40:24.349Z"
   },
   {
    "duration": 340,
    "start_time": "2021-11-25T15:40:24.904Z"
   },
   {
    "duration": 332,
    "start_time": "2021-11-25T15:40:25.246Z"
   },
   {
    "duration": 411,
    "start_time": "2021-11-25T15:40:25.580Z"
   },
   {
    "duration": 369,
    "start_time": "2021-11-25T15:40:25.994Z"
   },
   {
    "duration": 446,
    "start_time": "2021-11-25T15:40:26.366Z"
   },
   {
    "duration": 331,
    "start_time": "2021-11-25T15:40:26.814Z"
   },
   {
    "duration": 97,
    "start_time": "2021-11-25T15:40:27.147Z"
   },
   {
    "duration": 21,
    "start_time": "2021-11-25T15:40:27.247Z"
   },
   {
    "duration": 11,
    "start_time": "2021-11-25T15:40:27.270Z"
   },
   {
    "duration": 62,
    "start_time": "2021-11-25T15:40:27.283Z"
   },
   {
    "duration": 401,
    "start_time": "2021-11-25T15:40:27.348Z"
   },
   {
    "duration": 287,
    "start_time": "2021-11-25T15:40:27.753Z"
   },
   {
    "duration": 313,
    "start_time": "2021-11-25T15:40:28.042Z"
   },
   {
    "duration": 33,
    "start_time": "2021-11-25T15:40:28.357Z"
   },
   {
    "duration": 399,
    "start_time": "2021-11-25T15:40:28.392Z"
   },
   {
    "duration": 16,
    "start_time": "2021-11-25T15:40:28.794Z"
   },
   {
    "duration": 32,
    "start_time": "2021-11-25T15:40:28.829Z"
   },
   {
    "duration": 388,
    "start_time": "2021-11-25T15:40:28.864Z"
   },
   {
    "duration": 317,
    "start_time": "2021-11-25T15:40:29.255Z"
   },
   {
    "duration": 6783,
    "start_time": "2021-11-25T15:41:00.235Z"
   },
   {
    "duration": 7996,
    "start_time": "2021-11-25T15:41:12.217Z"
   },
   {
    "duration": 26,
    "start_time": "2021-11-25T15:41:27.089Z"
   },
   {
    "duration": 31,
    "start_time": "2021-11-25T15:41:35.756Z"
   },
   {
    "duration": 375,
    "start_time": "2021-11-25T15:41:49.658Z"
   },
   {
    "duration": 312,
    "start_time": "2021-11-25T15:42:01.798Z"
   },
   {
    "duration": 384,
    "start_time": "2021-11-25T15:42:10.276Z"
   },
   {
    "duration": 8,
    "start_time": "2021-11-25T15:43:03.389Z"
   },
   {
    "duration": 28,
    "start_time": "2021-11-25T15:43:08.017Z"
   },
   {
    "duration": 36,
    "start_time": "2021-11-25T15:43:31.764Z"
   },
   {
    "duration": 294,
    "start_time": "2021-11-25T15:43:46.300Z"
   },
   {
    "duration": 288,
    "start_time": "2021-11-25T15:45:27.668Z"
   },
   {
    "duration": 9,
    "start_time": "2021-11-25T15:49:23.672Z"
   },
   {
    "duration": 12,
    "start_time": "2021-11-25T15:50:18.821Z"
   },
   {
    "duration": 13,
    "start_time": "2021-11-25T15:56:33.005Z"
   },
   {
    "duration": 11,
    "start_time": "2021-11-25T15:57:46.434Z"
   },
   {
    "duration": 12,
    "start_time": "2021-11-25T15:57:55.265Z"
   },
   {
    "duration": 11,
    "start_time": "2021-11-25T15:58:50.517Z"
   },
   {
    "duration": 11,
    "start_time": "2021-11-25T15:59:24.966Z"
   },
   {
    "duration": 12,
    "start_time": "2021-11-25T15:59:59.208Z"
   },
   {
    "duration": 11,
    "start_time": "2021-11-25T16:00:28.238Z"
   },
   {
    "duration": 11,
    "start_time": "2021-11-25T16:00:55.144Z"
   },
   {
    "duration": 38,
    "start_time": "2021-11-25T16:01:40.557Z"
   },
   {
    "duration": 318,
    "start_time": "2021-11-25T16:01:50.426Z"
   },
   {
    "duration": 297,
    "start_time": "2021-11-25T16:02:17.232Z"
   },
   {
    "duration": 6188,
    "start_time": "2021-11-25T16:10:25.834Z"
   },
   {
    "duration": 6559,
    "start_time": "2021-11-25T16:10:37.070Z"
   },
   {
    "duration": 6761,
    "start_time": "2021-11-25T16:10:47.650Z"
   },
   {
    "duration": 11,
    "start_time": "2021-11-25T16:11:30.564Z"
   },
   {
    "duration": 11,
    "start_time": "2021-11-25T16:12:37.451Z"
   },
   {
    "duration": 14,
    "start_time": "2021-11-25T16:13:06.563Z"
   },
   {
    "duration": 16,
    "start_time": "2021-11-25T16:13:17.873Z"
   },
   {
    "duration": 292,
    "start_time": "2021-11-25T16:13:44.789Z"
   },
   {
    "duration": 11,
    "start_time": "2021-11-25T16:19:42.208Z"
   },
   {
    "duration": 10,
    "start_time": "2021-11-25T16:19:57.528Z"
   },
   {
    "duration": 80,
    "start_time": "2021-11-25T16:20:20.747Z"
   },
   {
    "duration": 253,
    "start_time": "2021-11-25T16:20:29.793Z"
   },
   {
    "duration": 8,
    "start_time": "2021-11-25T16:20:48.443Z"
   },
   {
    "duration": 14,
    "start_time": "2021-11-25T16:21:02.811Z"
   },
   {
    "duration": 12,
    "start_time": "2021-11-25T16:22:41.629Z"
   },
   {
    "duration": 970,
    "start_time": "2021-11-25T16:24:24.205Z"
   },
   {
    "duration": 7,
    "start_time": "2021-11-25T16:25:34.007Z"
   },
   {
    "duration": 65,
    "start_time": "2021-11-25T16:25:45.854Z"
   },
   {
    "duration": 238,
    "start_time": "2021-11-25T16:26:10.284Z"
   },
   {
    "duration": 29,
    "start_time": "2021-11-25T16:26:23.449Z"
   },
   {
    "duration": 24,
    "start_time": "2021-11-25T16:28:29.045Z"
   },
   {
    "duration": 246,
    "start_time": "2021-11-25T16:28:57.548Z"
   },
   {
    "duration": 231,
    "start_time": "2021-11-25T16:29:03.324Z"
   },
   {
    "duration": 22,
    "start_time": "2021-11-25T16:29:08.746Z"
   },
   {
    "duration": 22,
    "start_time": "2021-11-25T16:29:48.885Z"
   },
   {
    "duration": 24,
    "start_time": "2021-11-25T16:30:17.952Z"
   },
   {
    "duration": 22,
    "start_time": "2021-11-25T16:30:27.854Z"
   },
   {
    "duration": 22,
    "start_time": "2021-11-25T16:30:36.871Z"
   },
   {
    "duration": 23,
    "start_time": "2021-11-25T16:30:43.053Z"
   },
   {
    "duration": 1042,
    "start_time": "2021-11-25T16:31:29.595Z"
   },
   {
    "duration": 258,
    "start_time": "2021-11-25T16:31:43.400Z"
   },
   {
    "duration": 38,
    "start_time": "2021-11-25T16:31:48.061Z"
   },
   {
    "duration": 1064,
    "start_time": "2021-11-25T16:32:31.191Z"
   },
   {
    "duration": 22,
    "start_time": "2021-11-25T16:32:42.321Z"
   },
   {
    "duration": 2007,
    "start_time": "2021-11-25T16:33:16.102Z"
   },
   {
    "duration": 21,
    "start_time": "2021-11-25T16:33:18.113Z"
   },
   {
    "duration": 32,
    "start_time": "2021-11-25T16:33:18.137Z"
   },
   {
    "duration": 21,
    "start_time": "2021-11-25T16:33:18.172Z"
   },
   {
    "duration": 67,
    "start_time": "2021-11-25T16:33:18.195Z"
   },
   {
    "duration": 9,
    "start_time": "2021-11-25T16:33:18.266Z"
   },
   {
    "duration": 25,
    "start_time": "2021-11-25T16:33:18.278Z"
   },
   {
    "duration": 47,
    "start_time": "2021-11-25T16:33:18.305Z"
   },
   {
    "duration": 23,
    "start_time": "2021-11-25T16:33:18.355Z"
   },
   {
    "duration": 32,
    "start_time": "2021-11-25T16:33:18.381Z"
   },
   {
    "duration": 74,
    "start_time": "2021-11-25T16:33:18.415Z"
   },
   {
    "duration": 7,
    "start_time": "2021-11-25T16:33:18.491Z"
   },
   {
    "duration": 58,
    "start_time": "2021-11-25T16:33:18.500Z"
   },
   {
    "duration": 16,
    "start_time": "2021-11-25T16:33:18.560Z"
   },
   {
    "duration": 37,
    "start_time": "2021-11-25T16:33:18.578Z"
   },
   {
    "duration": 43,
    "start_time": "2021-11-25T16:33:18.617Z"
   },
   {
    "duration": 72,
    "start_time": "2021-11-25T16:33:18.663Z"
   },
   {
    "duration": 12,
    "start_time": "2021-11-25T16:33:18.741Z"
   },
   {
    "duration": 14,
    "start_time": "2021-11-25T16:33:18.757Z"
   },
   {
    "duration": 50,
    "start_time": "2021-11-25T16:33:18.775Z"
   },
   {
    "duration": 33,
    "start_time": "2021-11-25T16:33:18.828Z"
   },
   {
    "duration": 104,
    "start_time": "2021-11-25T16:33:18.863Z"
   },
   {
    "duration": 61,
    "start_time": "2021-11-25T16:33:18.970Z"
   },
   {
    "duration": 49,
    "start_time": "2021-11-25T16:33:19.033Z"
   },
   {
    "duration": 53,
    "start_time": "2021-11-25T16:33:19.085Z"
   },
   {
    "duration": 17,
    "start_time": "2021-11-25T16:33:19.141Z"
   },
   {
    "duration": 312,
    "start_time": "2021-11-25T16:33:19.161Z"
   },
   {
    "duration": 24,
    "start_time": "2021-11-25T16:33:19.476Z"
   },
   {
    "duration": 453,
    "start_time": "2021-11-25T16:33:19.503Z"
   },
   {
    "duration": 43,
    "start_time": "2021-11-25T16:33:19.959Z"
   },
   {
    "duration": 437,
    "start_time": "2021-11-25T16:33:20.005Z"
   },
   {
    "duration": 341,
    "start_time": "2021-11-25T16:33:20.445Z"
   },
   {
    "duration": 422,
    "start_time": "2021-11-25T16:33:20.789Z"
   },
   {
    "duration": 491,
    "start_time": "2021-11-25T16:33:21.214Z"
   },
   {
    "duration": 479,
    "start_time": "2021-11-25T16:33:21.708Z"
   },
   {
    "duration": 348,
    "start_time": "2021-11-25T16:33:22.190Z"
   },
   {
    "duration": 333,
    "start_time": "2021-11-25T16:33:22.541Z"
   },
   {
    "duration": 93,
    "start_time": "2021-11-25T16:33:22.877Z"
   },
   {
    "duration": 21,
    "start_time": "2021-11-25T16:33:22.973Z"
   },
   {
    "duration": 44,
    "start_time": "2021-11-25T16:33:22.997Z"
   },
   {
    "duration": 19,
    "start_time": "2021-11-25T16:33:23.044Z"
   },
   {
    "duration": 310,
    "start_time": "2021-11-25T16:33:23.066Z"
   },
   {
    "duration": 365,
    "start_time": "2021-11-25T16:33:23.379Z"
   },
   {
    "duration": 385,
    "start_time": "2021-11-25T16:33:23.747Z"
   },
   {
    "duration": 46,
    "start_time": "2021-11-25T16:33:24.135Z"
   },
   {
    "duration": 426,
    "start_time": "2021-11-25T16:33:24.183Z"
   },
   {
    "duration": 23,
    "start_time": "2021-11-25T16:33:24.612Z"
   },
   {
    "duration": 38,
    "start_time": "2021-11-25T16:33:24.638Z"
   },
   {
    "duration": 461,
    "start_time": "2021-11-25T16:33:24.679Z"
   },
   {
    "duration": 23,
    "start_time": "2021-11-25T16:33:25.143Z"
   },
   {
    "duration": 17,
    "start_time": "2021-11-25T16:33:25.169Z"
   },
   {
    "duration": 58,
    "start_time": "2021-11-25T16:33:25.189Z"
   },
   {
    "duration": 253,
    "start_time": "2021-11-25T16:35:18.476Z"
   },
   {
    "duration": 95,
    "start_time": "2021-11-25T16:35:33.519Z"
   },
   {
    "duration": 301,
    "start_time": "2021-11-25T16:35:46.197Z"
   },
   {
    "duration": 327,
    "start_time": "2021-11-25T16:35:58.796Z"
   },
   {
    "duration": 313,
    "start_time": "2021-11-25T16:36:11.099Z"
   },
   {
    "duration": 237,
    "start_time": "2021-11-25T16:36:36.888Z"
   },
   {
    "duration": 236,
    "start_time": "2021-11-25T16:36:40.693Z"
   },
   {
    "duration": 242,
    "start_time": "2021-11-25T16:37:38.777Z"
   },
   {
    "duration": 261,
    "start_time": "2021-11-25T16:38:14.439Z"
   },
   {
    "duration": 247,
    "start_time": "2021-11-25T16:38:30.037Z"
   },
   {
    "duration": 251,
    "start_time": "2021-11-25T16:38:47.752Z"
   },
   {
    "duration": 16,
    "start_time": "2021-11-25T16:39:57.366Z"
   },
   {
    "duration": 23,
    "start_time": "2021-11-25T16:40:13.169Z"
   },
   {
    "duration": 18,
    "start_time": "2021-11-25T16:40:19.751Z"
   },
   {
    "duration": 14,
    "start_time": "2021-11-25T16:53:16.922Z"
   },
   {
    "duration": 6551,
    "start_time": "2021-11-25T16:53:29.885Z"
   },
   {
    "duration": 13,
    "start_time": "2021-11-25T16:53:48.708Z"
   },
   {
    "duration": 24,
    "start_time": "2021-11-25T17:00:35.175Z"
   },
   {
    "duration": 17,
    "start_time": "2021-11-25T17:01:01.964Z"
   },
   {
    "duration": 16,
    "start_time": "2021-11-25T17:09:44.493Z"
   },
   {
    "duration": 16,
    "start_time": "2021-11-25T17:09:53.563Z"
   },
   {
    "duration": 263,
    "start_time": "2021-11-25T17:18:27.280Z"
   },
   {
    "duration": 253,
    "start_time": "2021-11-25T17:18:49.652Z"
   },
   {
    "duration": 35,
    "start_time": "2021-11-25T17:20:11.330Z"
   },
   {
    "duration": 273,
    "start_time": "2021-11-25T17:20:59.803Z"
   },
   {
    "duration": 25,
    "start_time": "2021-11-25T17:21:29.764Z"
   },
   {
    "duration": 28,
    "start_time": "2021-11-25T17:21:45.583Z"
   },
   {
    "duration": 37,
    "start_time": "2021-11-25T17:22:03.749Z"
   },
   {
    "duration": 12,
    "start_time": "2021-11-25T17:22:14.259Z"
   },
   {
    "duration": 13,
    "start_time": "2021-11-25T17:22:20.452Z"
   },
   {
    "duration": 12,
    "start_time": "2021-11-25T17:22:36.293Z"
   },
   {
    "duration": 14,
    "start_time": "2021-11-25T17:22:41.924Z"
   },
   {
    "duration": 16,
    "start_time": "2021-11-25T17:22:56.121Z"
   },
   {
    "duration": 14,
    "start_time": "2021-11-25T17:23:10.377Z"
   },
   {
    "duration": 12,
    "start_time": "2021-11-25T17:23:12.587Z"
   },
   {
    "duration": 12,
    "start_time": "2021-11-25T17:23:21.061Z"
   },
   {
    "duration": 13,
    "start_time": "2021-11-25T17:23:25.049Z"
   },
   {
    "duration": 325,
    "start_time": "2021-11-25T17:24:20.893Z"
   },
   {
    "duration": 266,
    "start_time": "2021-11-25T17:24:52.899Z"
   },
   {
    "duration": 259,
    "start_time": "2021-11-25T17:25:03.069Z"
   },
   {
    "duration": 12,
    "start_time": "2021-11-25T17:25:42.998Z"
   },
   {
    "duration": 78,
    "start_time": "2021-11-25T17:26:10.897Z"
   },
   {
    "duration": 249,
    "start_time": "2021-11-25T17:26:15.950Z"
   },
   {
    "duration": 281,
    "start_time": "2021-11-25T17:27:51.735Z"
   },
   {
    "duration": 28,
    "start_time": "2021-11-25T17:28:19.414Z"
   },
   {
    "duration": 49,
    "start_time": "2021-11-25T17:28:31.175Z"
   },
   {
    "duration": 347,
    "start_time": "2021-11-25T17:28:54.875Z"
   },
   {
    "duration": 47,
    "start_time": "2021-11-25T17:29:06.910Z"
   },
   {
    "duration": 320,
    "start_time": "2021-11-25T17:29:22.944Z"
   },
   {
    "duration": 52,
    "start_time": "2021-11-25T17:29:35.250Z"
   },
   {
    "duration": 52,
    "start_time": "2021-11-25T17:29:51.853Z"
   },
   {
    "duration": 37,
    "start_time": "2021-11-25T17:30:04.311Z"
   },
   {
    "duration": 36,
    "start_time": "2021-11-25T17:30:10.913Z"
   },
   {
    "duration": 48,
    "start_time": "2021-11-25T17:30:34.904Z"
   },
   {
    "duration": 64,
    "start_time": "2021-11-25T17:30:59.711Z"
   },
   {
    "duration": 264,
    "start_time": "2021-11-25T17:31:44.513Z"
   },
   {
    "duration": 256,
    "start_time": "2021-11-25T17:31:53.406Z"
   },
   {
    "duration": 260,
    "start_time": "2021-11-25T17:31:55.687Z"
   },
   {
    "duration": 246,
    "start_time": "2021-11-25T17:31:59.456Z"
   },
   {
    "duration": 13,
    "start_time": "2021-11-25T17:32:24.193Z"
   },
   {
    "duration": 279,
    "start_time": "2021-11-25T17:32:38.715Z"
   },
   {
    "duration": 108,
    "start_time": "2021-11-25T17:32:50.979Z"
   },
   {
    "duration": 250,
    "start_time": "2021-11-25T17:33:00.131Z"
   },
   {
    "duration": 17,
    "start_time": "2021-11-25T17:33:05.385Z"
   },
   {
    "duration": 18,
    "start_time": "2021-11-25T17:33:17.492Z"
   },
   {
    "duration": 13,
    "start_time": "2021-11-25T17:33:27.968Z"
   },
   {
    "duration": 16,
    "start_time": "2021-11-25T17:33:35.306Z"
   },
   {
    "duration": 13,
    "start_time": "2021-11-25T17:34:19.949Z"
   },
   {
    "duration": 15,
    "start_time": "2021-11-25T17:35:45.936Z"
   },
   {
    "duration": 116,
    "start_time": "2021-11-25T17:38:26.316Z"
   },
   {
    "duration": 272,
    "start_time": "2021-11-25T17:38:54.559Z"
   },
   {
    "duration": 1710,
    "start_time": "2021-11-25T17:39:01.845Z"
   },
   {
    "duration": 22,
    "start_time": "2021-11-25T17:39:03.558Z"
   },
   {
    "duration": 50,
    "start_time": "2021-11-25T17:39:03.583Z"
   },
   {
    "duration": 21,
    "start_time": "2021-11-25T17:39:03.636Z"
   },
   {
    "duration": 55,
    "start_time": "2021-11-25T17:39:03.659Z"
   },
   {
    "duration": 21,
    "start_time": "2021-11-25T17:39:03.716Z"
   },
   {
    "duration": 43,
    "start_time": "2021-11-25T17:39:03.739Z"
   },
   {
    "duration": 40,
    "start_time": "2021-11-25T17:39:03.786Z"
   },
   {
    "duration": 12,
    "start_time": "2021-11-25T17:39:03.830Z"
   },
   {
    "duration": 38,
    "start_time": "2021-11-25T17:39:03.845Z"
   },
   {
    "duration": 48,
    "start_time": "2021-11-25T17:39:03.886Z"
   },
   {
    "duration": 6,
    "start_time": "2021-11-25T17:39:03.937Z"
   },
   {
    "duration": 64,
    "start_time": "2021-11-25T17:39:03.945Z"
   },
   {
    "duration": 16,
    "start_time": "2021-11-25T17:39:04.012Z"
   },
   {
    "duration": 51,
    "start_time": "2021-11-25T17:39:04.030Z"
   },
   {
    "duration": 50,
    "start_time": "2021-11-25T17:39:04.083Z"
   },
   {
    "duration": 61,
    "start_time": "2021-11-25T17:39:04.136Z"
   },
   {
    "duration": 12,
    "start_time": "2021-11-25T17:39:04.199Z"
   },
   {
    "duration": 42,
    "start_time": "2021-11-25T17:39:04.214Z"
   },
   {
    "duration": 40,
    "start_time": "2021-11-25T17:39:04.258Z"
   },
   {
    "duration": 47,
    "start_time": "2021-11-25T17:39:04.300Z"
   },
   {
    "duration": 186,
    "start_time": "2021-11-25T17:39:04.350Z"
   },
   {
    "duration": 65,
    "start_time": "2021-11-25T17:39:04.544Z"
   },
   {
    "duration": 81,
    "start_time": "2021-11-25T17:39:04.613Z"
   },
   {
    "duration": 50,
    "start_time": "2021-11-25T17:39:04.697Z"
   },
   {
    "duration": 27,
    "start_time": "2021-11-25T17:39:04.749Z"
   },
   {
    "duration": 314,
    "start_time": "2021-11-25T17:39:04.778Z"
   },
   {
    "duration": 16,
    "start_time": "2021-11-25T17:39:05.095Z"
   },
   {
    "duration": 318,
    "start_time": "2021-11-25T17:39:05.114Z"
   },
   {
    "duration": 41,
    "start_time": "2021-11-25T17:39:05.434Z"
   },
   {
    "duration": 590,
    "start_time": "2021-11-25T17:39:05.477Z"
   },
   {
    "duration": 361,
    "start_time": "2021-11-25T17:39:06.070Z"
   },
   {
    "duration": 394,
    "start_time": "2021-11-25T17:39:06.434Z"
   },
   {
    "duration": 335,
    "start_time": "2021-11-25T17:39:06.831Z"
   },
   {
    "duration": 339,
    "start_time": "2021-11-25T17:39:07.168Z"
   },
   {
    "duration": 334,
    "start_time": "2021-11-25T17:39:07.510Z"
   },
   {
    "duration": 339,
    "start_time": "2021-11-25T17:39:07.847Z"
   },
   {
    "duration": 94,
    "start_time": "2021-11-25T17:39:08.189Z"
   },
   {
    "duration": 48,
    "start_time": "2021-11-25T17:39:08.285Z"
   },
   {
    "duration": 12,
    "start_time": "2021-11-25T17:39:08.336Z"
   },
   {
    "duration": 42,
    "start_time": "2021-11-25T17:39:08.350Z"
   },
   {
    "duration": 303,
    "start_time": "2021-11-25T17:39:08.395Z"
   },
   {
    "duration": 285,
    "start_time": "2021-11-25T17:39:08.700Z"
   },
   {
    "duration": 302,
    "start_time": "2021-11-25T17:39:08.988Z"
   },
   {
    "duration": 46,
    "start_time": "2021-11-25T17:39:09.293Z"
   },
   {
    "duration": 293,
    "start_time": "2021-11-25T17:39:09.341Z"
   },
   {
    "duration": 11,
    "start_time": "2021-11-25T17:39:09.636Z"
   },
   {
    "duration": 64,
    "start_time": "2021-11-25T17:39:09.649Z"
   },
   {
    "duration": 291,
    "start_time": "2021-11-25T17:39:09.716Z"
   },
   {
    "duration": 29,
    "start_time": "2021-11-25T17:39:10.010Z"
   },
   {
    "duration": 478,
    "start_time": "2021-11-25T17:39:10.041Z"
   },
   {
    "duration": -31,
    "start_time": "2021-11-25T17:39:10.554Z"
   },
   {
    "duration": -33,
    "start_time": "2021-11-25T17:39:10.558Z"
   },
   {
    "duration": -35,
    "start_time": "2021-11-25T17:39:10.561Z"
   },
   {
    "duration": -35,
    "start_time": "2021-11-25T17:39:10.563Z"
   },
   {
    "duration": -38,
    "start_time": "2021-11-25T17:39:10.568Z"
   },
   {
    "duration": -39,
    "start_time": "2021-11-25T17:39:10.571Z"
   },
   {
    "duration": 15,
    "start_time": "2021-11-25T17:39:22.396Z"
   },
   {
    "duration": 14,
    "start_time": "2021-11-25T17:39:25.027Z"
   },
   {
    "duration": 13,
    "start_time": "2021-11-25T17:39:35.460Z"
   },
   {
    "duration": 358,
    "start_time": "2021-11-25T17:39:46.689Z"
   },
   {
    "duration": 270,
    "start_time": "2021-11-25T17:39:50.290Z"
   },
   {
    "duration": 13,
    "start_time": "2021-11-25T17:39:52.147Z"
   },
   {
    "duration": 14,
    "start_time": "2021-11-25T17:40:15.475Z"
   },
   {
    "duration": 14,
    "start_time": "2021-11-25T17:40:45.603Z"
   },
   {
    "duration": 13,
    "start_time": "2021-11-25T17:40:54.366Z"
   },
   {
    "duration": 13,
    "start_time": "2021-11-25T17:41:00.749Z"
   },
   {
    "duration": 15,
    "start_time": "2021-11-25T17:42:46.586Z"
   },
   {
    "duration": 18,
    "start_time": "2021-11-25T17:43:58.569Z"
   },
   {
    "duration": 16,
    "start_time": "2021-11-25T17:45:33.901Z"
   },
   {
    "duration": 13,
    "start_time": "2021-11-25T17:45:38.494Z"
   },
   {
    "duration": 18,
    "start_time": "2021-11-25T17:46:11.245Z"
   },
   {
    "duration": 16,
    "start_time": "2021-11-25T17:46:26.720Z"
   },
   {
    "duration": 104,
    "start_time": "2021-11-25T17:46:32.772Z"
   },
   {
    "duration": 22,
    "start_time": "2021-11-25T17:47:02.276Z"
   },
   {
    "duration": 18,
    "start_time": "2021-11-25T17:48:08.086Z"
   },
   {
    "duration": 14,
    "start_time": "2021-11-25T17:48:31.578Z"
   },
   {
    "duration": 16,
    "start_time": "2021-11-25T17:48:41.015Z"
   },
   {
    "duration": 14,
    "start_time": "2021-11-25T17:48:48.938Z"
   },
   {
    "duration": 18,
    "start_time": "2021-11-25T17:49:07.184Z"
   },
   {
    "duration": 1635,
    "start_time": "2021-11-25T17:50:57.717Z"
   },
   {
    "duration": 21,
    "start_time": "2021-11-25T17:50:59.354Z"
   },
   {
    "duration": 61,
    "start_time": "2021-11-25T17:50:59.378Z"
   },
   {
    "duration": 20,
    "start_time": "2021-11-25T17:50:59.442Z"
   },
   {
    "duration": 64,
    "start_time": "2021-11-25T17:50:59.465Z"
   },
   {
    "duration": 9,
    "start_time": "2021-11-25T17:50:59.532Z"
   },
   {
    "duration": 20,
    "start_time": "2021-11-25T17:50:59.544Z"
   },
   {
    "duration": 29,
    "start_time": "2021-11-25T17:50:59.568Z"
   },
   {
    "duration": 38,
    "start_time": "2021-11-25T17:50:59.600Z"
   },
   {
    "duration": 12,
    "start_time": "2021-11-25T17:50:59.641Z"
   },
   {
    "duration": 38,
    "start_time": "2021-11-25T17:50:59.655Z"
   },
   {
    "duration": 34,
    "start_time": "2021-11-25T17:50:59.695Z"
   },
   {
    "duration": 27,
    "start_time": "2021-11-25T17:50:59.732Z"
   },
   {
    "duration": 10,
    "start_time": "2021-11-25T17:50:59.762Z"
   },
   {
    "duration": 55,
    "start_time": "2021-11-25T17:50:59.775Z"
   },
   {
    "duration": 22,
    "start_time": "2021-11-25T17:50:59.833Z"
   },
   {
    "duration": 45,
    "start_time": "2021-11-25T17:50:59.858Z"
   },
   {
    "duration": 12,
    "start_time": "2021-11-25T17:50:59.929Z"
   },
   {
    "duration": 11,
    "start_time": "2021-11-25T17:50:59.944Z"
   },
   {
    "duration": 13,
    "start_time": "2021-11-25T17:50:59.957Z"
   },
   {
    "duration": 25,
    "start_time": "2021-11-25T17:50:59.973Z"
   },
   {
    "duration": 120,
    "start_time": "2021-11-25T17:51:00.028Z"
   },
   {
    "duration": 83,
    "start_time": "2021-11-25T17:51:00.157Z"
   },
   {
    "duration": 49,
    "start_time": "2021-11-25T17:51:00.244Z"
   },
   {
    "duration": 44,
    "start_time": "2021-11-25T17:51:00.296Z"
   },
   {
    "duration": 12,
    "start_time": "2021-11-25T17:51:00.343Z"
   },
   {
    "duration": 333,
    "start_time": "2021-11-25T17:51:00.358Z"
   },
   {
    "duration": 18,
    "start_time": "2021-11-25T17:51:00.693Z"
   },
   {
    "duration": 339,
    "start_time": "2021-11-25T17:51:00.713Z"
   },
   {
    "duration": 43,
    "start_time": "2021-11-25T17:51:01.054Z"
   },
   {
    "duration": 540,
    "start_time": "2021-11-25T17:51:01.099Z"
   },
   {
    "duration": 352,
    "start_time": "2021-11-25T17:51:01.641Z"
   },
   {
    "duration": 411,
    "start_time": "2021-11-25T17:51:01.996Z"
   },
   {
    "duration": 348,
    "start_time": "2021-11-25T17:51:02.409Z"
   },
   {
    "duration": 344,
    "start_time": "2021-11-25T17:51:02.760Z"
   },
   {
    "duration": 350,
    "start_time": "2021-11-25T17:51:03.106Z"
   },
   {
    "duration": 331,
    "start_time": "2021-11-25T17:51:03.458Z"
   },
   {
    "duration": 92,
    "start_time": "2021-11-25T17:51:03.791Z"
   },
   {
    "duration": 45,
    "start_time": "2021-11-25T17:51:03.886Z"
   },
   {
    "duration": 12,
    "start_time": "2021-11-25T17:51:03.933Z"
   },
   {
    "duration": 22,
    "start_time": "2021-11-25T17:51:03.948Z"
   },
   {
    "duration": 311,
    "start_time": "2021-11-25T17:51:03.972Z"
   },
   {
    "duration": 292,
    "start_time": "2021-11-25T17:51:04.286Z"
   },
   {
    "duration": 311,
    "start_time": "2021-11-25T17:51:04.580Z"
   },
   {
    "duration": 42,
    "start_time": "2021-11-25T17:51:04.894Z"
   },
   {
    "duration": 306,
    "start_time": "2021-11-25T17:51:04.939Z"
   },
   {
    "duration": 12,
    "start_time": "2021-11-25T17:51:05.248Z"
   },
   {
    "duration": 67,
    "start_time": "2021-11-25T17:51:05.263Z"
   },
   {
    "duration": 321,
    "start_time": "2021-11-25T17:51:05.333Z"
   },
   {
    "duration": 17,
    "start_time": "2021-11-25T17:51:05.656Z"
   },
   {
    "duration": 296,
    "start_time": "2021-11-25T17:51:05.675Z"
   },
   {
    "duration": 323,
    "start_time": "2021-11-25T17:51:05.974Z"
   },
   {
    "duration": 30,
    "start_time": "2021-11-25T17:51:06.299Z"
   },
   {
    "duration": 14,
    "start_time": "2021-11-25T17:51:06.332Z"
   },
   {
    "duration": 15,
    "start_time": "2021-11-25T17:51:06.349Z"
   },
   {
    "duration": 13,
    "start_time": "2021-11-25T17:51:06.367Z"
   },
   {
    "duration": 1300,
    "start_time": "2021-11-26T12:01:34.476Z"
   },
   {
    "duration": 14,
    "start_time": "2021-11-26T12:01:35.778Z"
   },
   {
    "duration": 27,
    "start_time": "2021-11-26T12:01:35.795Z"
   },
   {
    "duration": 20,
    "start_time": "2021-11-26T12:01:35.823Z"
   },
   {
    "duration": 25,
    "start_time": "2021-11-26T12:01:35.844Z"
   },
   {
    "duration": 31,
    "start_time": "2021-11-26T12:01:35.871Z"
   },
   {
    "duration": 13,
    "start_time": "2021-11-26T12:01:35.905Z"
   },
   {
    "duration": 22,
    "start_time": "2021-11-26T12:01:35.921Z"
   },
   {
    "duration": 18,
    "start_time": "2021-11-26T12:01:35.945Z"
   },
   {
    "duration": 38,
    "start_time": "2021-11-26T12:01:35.965Z"
   },
   {
    "duration": 51,
    "start_time": "2021-11-26T12:01:36.006Z"
   },
   {
    "duration": 4,
    "start_time": "2021-11-26T12:01:36.059Z"
   },
   {
    "duration": 57,
    "start_time": "2021-11-26T12:01:36.064Z"
   },
   {
    "duration": 19,
    "start_time": "2021-11-26T12:01:36.122Z"
   },
   {
    "duration": 22,
    "start_time": "2021-11-26T12:01:36.143Z"
   },
   {
    "duration": 22,
    "start_time": "2021-11-26T12:01:36.167Z"
   },
   {
    "duration": 58,
    "start_time": "2021-11-26T12:01:36.192Z"
   },
   {
    "duration": 7,
    "start_time": "2021-11-26T12:01:36.252Z"
   },
   {
    "duration": 36,
    "start_time": "2021-11-26T12:01:36.261Z"
   },
   {
    "duration": 16,
    "start_time": "2021-11-26T12:01:36.300Z"
   },
   {
    "duration": 13,
    "start_time": "2021-11-26T12:01:36.318Z"
   },
   {
    "duration": 84,
    "start_time": "2021-11-26T12:01:36.333Z"
   },
   {
    "duration": 28,
    "start_time": "2021-11-26T12:01:36.421Z"
   },
   {
    "duration": 53,
    "start_time": "2021-11-26T12:01:36.451Z"
   },
   {
    "duration": 17,
    "start_time": "2021-11-26T12:01:36.507Z"
   },
   {
    "duration": 9,
    "start_time": "2021-11-26T12:01:36.526Z"
   },
   {
    "duration": 232,
    "start_time": "2021-11-26T12:01:36.537Z"
   },
   {
    "duration": 20,
    "start_time": "2021-11-26T12:01:36.771Z"
   },
   {
    "duration": 224,
    "start_time": "2021-11-26T12:01:36.793Z"
   },
   {
    "duration": 27,
    "start_time": "2021-11-26T12:01:37.019Z"
   },
   {
    "duration": 304,
    "start_time": "2021-11-26T12:01:37.048Z"
   },
   {
    "duration": 233,
    "start_time": "2021-11-26T12:01:37.354Z"
   },
   {
    "duration": 279,
    "start_time": "2021-11-26T12:01:37.589Z"
   },
   {
    "duration": 243,
    "start_time": "2021-11-26T12:01:37.871Z"
   },
   {
    "duration": 232,
    "start_time": "2021-11-26T12:01:38.116Z"
   },
   {
    "duration": 254,
    "start_time": "2021-11-26T12:01:38.350Z"
   },
   {
    "duration": 216,
    "start_time": "2021-11-26T12:01:38.606Z"
   },
   {
    "duration": 53,
    "start_time": "2021-11-26T12:01:38.824Z"
   },
   {
    "duration": 31,
    "start_time": "2021-11-26T12:01:38.894Z"
   },
   {
    "duration": 19,
    "start_time": "2021-11-26T12:01:38.926Z"
   },
   {
    "duration": 26,
    "start_time": "2021-11-26T12:01:38.946Z"
   },
   {
    "duration": 208,
    "start_time": "2021-11-26T12:01:38.973Z"
   },
   {
    "duration": 204,
    "start_time": "2021-11-26T12:01:39.182Z"
   },
   {
    "duration": 210,
    "start_time": "2021-11-26T12:01:39.393Z"
   },
   {
    "duration": 21,
    "start_time": "2021-11-26T12:01:39.607Z"
   },
   {
    "duration": 211,
    "start_time": "2021-11-26T12:01:39.630Z"
   },
   {
    "duration": 7,
    "start_time": "2021-11-26T12:01:39.843Z"
   },
   {
    "duration": 38,
    "start_time": "2021-11-26T12:01:39.852Z"
   },
   {
    "duration": 205,
    "start_time": "2021-11-26T12:01:39.893Z"
   },
   {
    "duration": 17,
    "start_time": "2021-11-26T12:01:40.100Z"
   },
   {
    "duration": 207,
    "start_time": "2021-11-26T12:01:40.119Z"
   },
   {
    "duration": 196,
    "start_time": "2021-11-26T12:01:40.328Z"
   },
   {
    "duration": 9,
    "start_time": "2021-11-26T12:01:40.526Z"
   },
   {
    "duration": 12,
    "start_time": "2021-11-26T12:01:40.536Z"
   },
   {
    "duration": 10,
    "start_time": "2021-11-26T12:01:40.549Z"
   },
   {
    "duration": 43,
    "start_time": "2021-11-26T12:01:40.561Z"
   },
   {
    "duration": 402,
    "start_time": "2021-11-27T14:43:24.842Z"
   },
   {
    "duration": 1330,
    "start_time": "2021-11-27T14:43:42.576Z"
   },
   {
    "duration": 17,
    "start_time": "2021-11-27T14:43:43.908Z"
   },
   {
    "duration": 20,
    "start_time": "2021-11-27T14:43:43.927Z"
   },
   {
    "duration": 15,
    "start_time": "2021-11-27T14:43:43.949Z"
   },
   {
    "duration": 53,
    "start_time": "2021-11-27T14:43:43.966Z"
   },
   {
    "duration": 8,
    "start_time": "2021-11-27T14:43:44.021Z"
   },
   {
    "duration": 13,
    "start_time": "2021-11-27T14:43:44.031Z"
   },
   {
    "duration": 26,
    "start_time": "2021-11-27T14:43:44.048Z"
   },
   {
    "duration": 40,
    "start_time": "2021-11-27T14:43:44.077Z"
   },
   {
    "duration": 12,
    "start_time": "2021-11-27T14:43:44.119Z"
   },
   {
    "duration": 38,
    "start_time": "2021-11-27T14:43:44.133Z"
   },
   {
    "duration": 5,
    "start_time": "2021-11-27T14:43:44.174Z"
   },
   {
    "duration": 48,
    "start_time": "2021-11-27T14:43:44.181Z"
   },
   {
    "duration": 9,
    "start_time": "2021-11-27T14:43:44.232Z"
   },
   {
    "duration": 15,
    "start_time": "2021-11-27T14:43:44.243Z"
   },
   {
    "duration": 14,
    "start_time": "2021-11-27T14:43:44.260Z"
   },
   {
    "duration": 35,
    "start_time": "2021-11-27T14:43:44.275Z"
   },
   {
    "duration": 37,
    "start_time": "2021-11-27T14:43:44.312Z"
   },
   {
    "duration": 9,
    "start_time": "2021-11-27T14:43:44.350Z"
   },
   {
    "duration": 15,
    "start_time": "2021-11-27T14:43:44.361Z"
   },
   {
    "duration": 13,
    "start_time": "2021-11-27T14:43:44.377Z"
   },
   {
    "duration": 14,
    "start_time": "2021-11-27T14:43:44.392Z"
   },
   {
    "duration": 66,
    "start_time": "2021-11-27T14:43:44.411Z"
   },
   {
    "duration": 46,
    "start_time": "2021-11-27T14:43:44.479Z"
   },
   {
    "duration": 31,
    "start_time": "2021-11-27T14:43:44.527Z"
   },
   {
    "duration": 17,
    "start_time": "2021-11-27T14:43:44.560Z"
   },
   {
    "duration": 34,
    "start_time": "2021-11-27T14:43:44.578Z"
   },
   {
    "duration": 185,
    "start_time": "2021-11-27T14:43:44.613Z"
   },
   {
    "duration": 17,
    "start_time": "2021-11-27T14:43:44.800Z"
   },
   {
    "duration": 199,
    "start_time": "2021-11-27T14:43:44.819Z"
   },
   {
    "duration": 29,
    "start_time": "2021-11-27T14:43:45.020Z"
   },
   {
    "duration": 270,
    "start_time": "2021-11-27T14:43:45.051Z"
   },
   {
    "duration": 215,
    "start_time": "2021-11-27T14:43:45.323Z"
   },
   {
    "duration": 269,
    "start_time": "2021-11-27T14:43:45.539Z"
   },
   {
    "duration": 211,
    "start_time": "2021-11-27T14:43:45.810Z"
   },
   {
    "duration": 286,
    "start_time": "2021-11-27T14:43:46.023Z"
   },
   {
    "duration": 217,
    "start_time": "2021-11-27T14:43:46.312Z"
   },
   {
    "duration": 219,
    "start_time": "2021-11-27T14:43:46.531Z"
   },
   {
    "duration": 63,
    "start_time": "2021-11-27T14:43:46.753Z"
   },
   {
    "duration": 19,
    "start_time": "2021-11-27T14:43:46.818Z"
   },
   {
    "duration": 10,
    "start_time": "2021-11-27T14:43:46.839Z"
   },
   {
    "duration": 12,
    "start_time": "2021-11-27T14:43:46.850Z"
   },
   {
    "duration": 199,
    "start_time": "2021-11-27T14:43:46.863Z"
   },
   {
    "duration": 180,
    "start_time": "2021-11-27T14:43:47.064Z"
   },
   {
    "duration": 186,
    "start_time": "2021-11-27T14:43:47.246Z"
   },
   {
    "duration": 30,
    "start_time": "2021-11-27T14:43:47.434Z"
   },
   {
    "duration": 200,
    "start_time": "2021-11-27T14:43:47.467Z"
   },
   {
    "duration": 8,
    "start_time": "2021-11-27T14:43:47.669Z"
   },
   {
    "duration": 34,
    "start_time": "2021-11-27T14:43:47.679Z"
   },
   {
    "duration": 206,
    "start_time": "2021-11-27T14:43:47.715Z"
   },
   {
    "duration": 17,
    "start_time": "2021-11-27T14:43:47.923Z"
   },
   {
    "duration": 269,
    "start_time": "2021-11-27T14:43:47.942Z"
   },
   {
    "duration": 198,
    "start_time": "2021-11-27T14:43:48.213Z"
   },
   {
    "duration": 10,
    "start_time": "2021-11-27T14:43:48.412Z"
   },
   {
    "duration": 10,
    "start_time": "2021-11-27T14:43:48.424Z"
   },
   {
    "duration": 10,
    "start_time": "2021-11-27T14:43:48.436Z"
   },
   {
    "duration": 9,
    "start_time": "2021-11-27T14:43:48.448Z"
   },
   {
    "duration": 7,
    "start_time": "2021-11-27T14:44:58.212Z"
   },
   {
    "duration": 22,
    "start_time": "2021-11-27T14:45:13.655Z"
   },
   {
    "duration": 8,
    "start_time": "2021-11-27T14:48:03.853Z"
   },
   {
    "duration": 20,
    "start_time": "2021-11-27T14:49:06.406Z"
   },
   {
    "duration": 441,
    "start_time": "2021-11-27T14:52:33.684Z"
   },
   {
    "duration": 445,
    "start_time": "2021-11-27T14:52:40.486Z"
   },
   {
    "duration": 21,
    "start_time": "2021-11-27T14:52:47.295Z"
   },
   {
    "duration": 364,
    "start_time": "2021-11-27T14:52:57.904Z"
   },
   {
    "duration": 28,
    "start_time": "2021-11-27T14:53:06.015Z"
   },
   {
    "duration": 46,
    "start_time": "2021-11-27T14:53:19.585Z"
   },
   {
    "duration": 44,
    "start_time": "2021-11-27T14:53:37.789Z"
   },
   {
    "duration": 333,
    "start_time": "2021-11-27T14:53:50.995Z"
   },
   {
    "duration": 352,
    "start_time": "2021-11-27T14:54:19.578Z"
   },
   {
    "duration": 6,
    "start_time": "2021-11-27T14:54:28.480Z"
   },
   {
    "duration": 6,
    "start_time": "2021-11-27T14:57:28.354Z"
   },
   {
    "duration": 7,
    "start_time": "2021-11-27T14:57:43.505Z"
   },
   {
    "duration": 12,
    "start_time": "2021-11-27T14:58:07.701Z"
   },
   {
    "duration": 9,
    "start_time": "2021-11-27T14:59:49.790Z"
   },
   {
    "duration": 15,
    "start_time": "2021-11-27T15:00:12.740Z"
   },
   {
    "duration": 14,
    "start_time": "2021-11-27T15:00:15.055Z"
   },
   {
    "duration": 19,
    "start_time": "2021-11-27T15:00:16.908Z"
   },
   {
    "duration": 127,
    "start_time": "2021-11-27T15:00:33.671Z"
   },
   {
    "duration": 40,
    "start_time": "2021-11-27T15:03:15.282Z"
   },
   {
    "duration": 42,
    "start_time": "2021-11-27T15:05:25.595Z"
   },
   {
    "duration": 45,
    "start_time": "2021-11-27T15:05:48.018Z"
   },
   {
    "duration": 16,
    "start_time": "2021-11-27T15:12:03.510Z"
   },
   {
    "duration": 7,
    "start_time": "2021-11-27T15:12:25.742Z"
   },
   {
    "duration": 21,
    "start_time": "2021-11-27T15:13:01.722Z"
   },
   {
    "duration": 21,
    "start_time": "2021-11-27T15:13:15.298Z"
   },
   {
    "duration": 18,
    "start_time": "2021-11-27T15:15:16.571Z"
   },
   {
    "duration": 13,
    "start_time": "2021-11-27T15:15:25.853Z"
   },
   {
    "duration": 330,
    "start_time": "2021-11-27T15:22:25.833Z"
   },
   {
    "duration": 333,
    "start_time": "2021-11-27T15:22:35.466Z"
   },
   {
    "duration": 5,
    "start_time": "2021-11-27T15:22:45.510Z"
   },
   {
    "duration": 9020,
    "start_time": "2021-11-27T15:34:15.675Z"
   },
   {
    "duration": -48,
    "start_time": "2021-11-27T15:34:24.746Z"
   },
   {
    "duration": 8,
    "start_time": "2021-11-27T15:34:37.830Z"
   },
   {
    "duration": 8,
    "start_time": "2021-11-27T15:34:45.285Z"
   },
   {
    "duration": 6,
    "start_time": "2021-11-27T15:36:40.138Z"
   },
   {
    "duration": 7,
    "start_time": "2021-11-27T15:36:53.724Z"
   },
   {
    "duration": 7,
    "start_time": "2021-11-27T15:36:57.839Z"
   },
   {
    "duration": 501,
    "start_time": "2021-11-27T15:37:28.705Z"
   },
   {
    "duration": 8,
    "start_time": "2021-11-27T15:41:38.079Z"
   },
   {
    "duration": 118,
    "start_time": "2021-11-27T15:49:19.557Z"
   },
   {
    "duration": 115,
    "start_time": "2021-11-27T15:49:26.321Z"
   },
   {
    "duration": 354,
    "start_time": "2021-11-27T15:49:34.529Z"
   },
   {
    "duration": 368,
    "start_time": "2021-11-27T15:50:07.127Z"
   },
   {
    "duration": 122,
    "start_time": "2021-11-27T15:50:48.486Z"
   },
   {
    "duration": 128,
    "start_time": "2021-11-27T15:50:53.044Z"
   },
   {
    "duration": 356,
    "start_time": "2021-11-27T15:51:09.721Z"
   },
   {
    "duration": 8,
    "start_time": "2021-11-27T15:52:45.018Z"
   },
   {
    "duration": 7,
    "start_time": "2021-11-27T15:52:53.291Z"
   },
   {
    "duration": 6,
    "start_time": "2021-11-27T15:53:03.043Z"
   },
   {
    "duration": 7,
    "start_time": "2021-11-27T15:53:08.516Z"
   },
   {
    "duration": 8,
    "start_time": "2021-11-27T15:54:06.109Z"
   },
   {
    "duration": 7,
    "start_time": "2021-11-27T15:54:08.428Z"
   },
   {
    "duration": 7,
    "start_time": "2021-11-27T15:54:14.093Z"
   },
   {
    "duration": 11,
    "start_time": "2021-11-27T15:54:30.036Z"
   },
   {
    "duration": 385,
    "start_time": "2021-11-27T15:56:34.303Z"
   },
   {
    "duration": 579,
    "start_time": "2021-11-27T15:56:37.381Z"
   },
   {
    "duration": 347,
    "start_time": "2021-11-27T15:56:46.177Z"
   },
   {
    "duration": 1353,
    "start_time": "2021-11-27T15:56:53.009Z"
   },
   {
    "duration": 18,
    "start_time": "2021-11-27T15:56:55.743Z"
   },
   {
    "duration": 26,
    "start_time": "2021-11-27T15:56:58.319Z"
   },
   {
    "duration": 17,
    "start_time": "2021-11-27T15:57:00.566Z"
   },
   {
    "duration": 26,
    "start_time": "2021-11-27T15:57:02.834Z"
   },
   {
    "duration": 9,
    "start_time": "2021-11-27T15:57:05.213Z"
   },
   {
    "duration": 11,
    "start_time": "2021-11-27T15:57:09.299Z"
   },
   {
    "duration": 19,
    "start_time": "2021-11-27T15:57:11.429Z"
   },
   {
    "duration": 9,
    "start_time": "2021-11-27T15:57:13.947Z"
   },
   {
    "duration": 8,
    "start_time": "2021-11-27T15:57:30.083Z"
   },
   {
    "duration": 25,
    "start_time": "2021-11-27T15:57:32.730Z"
   },
   {
    "duration": 5,
    "start_time": "2021-11-27T15:57:34.897Z"
   },
   {
    "duration": 17,
    "start_time": "2021-11-27T15:57:36.588Z"
   },
   {
    "duration": 8,
    "start_time": "2021-11-27T15:57:39.549Z"
   },
   {
    "duration": 13,
    "start_time": "2021-11-27T15:57:41.221Z"
   },
   {
    "duration": 14,
    "start_time": "2021-11-27T15:57:45.644Z"
   },
   {
    "duration": 27,
    "start_time": "2021-11-27T15:57:52.138Z"
   },
   {
    "duration": 6,
    "start_time": "2021-11-27T15:57:54.040Z"
   },
   {
    "duration": 10,
    "start_time": "2021-11-27T15:57:56.692Z"
   },
   {
    "duration": 6,
    "start_time": "2021-11-27T15:57:58.335Z"
   },
   {
    "duration": 7,
    "start_time": "2021-11-27T15:58:00.546Z"
   },
   {
    "duration": 6,
    "start_time": "2021-11-27T15:58:56.428Z"
   },
   {
    "duration": 6,
    "start_time": "2021-11-27T15:58:58.683Z"
   },
   {
    "duration": 6,
    "start_time": "2021-11-27T16:00:18.915Z"
   },
   {
    "duration": 4,
    "start_time": "2021-11-27T16:00:23.334Z"
   },
   {
    "duration": 73,
    "start_time": "2021-11-27T16:00:25.280Z"
   },
   {
    "duration": 66,
    "start_time": "2021-11-27T16:01:06.921Z"
   },
   {
    "duration": 25,
    "start_time": "2021-11-27T16:01:40.851Z"
   },
   {
    "duration": 31,
    "start_time": "2021-11-27T16:01:47.972Z"
   },
   {
    "duration": 31,
    "start_time": "2021-11-27T16:03:09.209Z"
   },
   {
    "duration": 31,
    "start_time": "2021-11-27T16:03:12.359Z"
   },
   {
    "duration": 30,
    "start_time": "2021-11-27T16:03:17.167Z"
   },
   {
    "duration": 16,
    "start_time": "2021-11-27T16:04:35.799Z"
   },
   {
    "duration": 16,
    "start_time": "2021-11-27T16:04:37.933Z"
   },
   {
    "duration": 9,
    "start_time": "2021-11-27T16:04:40.151Z"
   },
   {
    "duration": 176,
    "start_time": "2021-11-27T16:04:44.078Z"
   },
   {
    "duration": 16,
    "start_time": "2021-11-27T16:09:20.137Z"
   },
   {
    "duration": 3,
    "start_time": "2021-11-27T16:11:46.866Z"
   },
   {
    "duration": 19,
    "start_time": "2021-11-27T16:11:49.362Z"
   },
   {
    "duration": 412,
    "start_time": "2021-11-27T16:12:01.942Z"
   },
   {
    "duration": 17,
    "start_time": "2021-11-27T16:12:46.110Z"
   },
   {
    "duration": 5,
    "start_time": "2021-11-27T16:13:00.476Z"
   },
   {
    "duration": 19,
    "start_time": "2021-11-27T16:13:58.990Z"
   },
   {
    "duration": 6,
    "start_time": "2021-11-27T16:14:28.604Z"
   },
   {
    "duration": 4,
    "start_time": "2021-11-27T16:14:46.990Z"
   },
   {
    "duration": 116,
    "start_time": "2021-11-27T16:14:49.510Z"
   },
   {
    "duration": 26,
    "start_time": "2021-11-27T16:14:54.659Z"
   },
   {
    "duration": 37,
    "start_time": "2021-11-27T16:14:57.504Z"
   },
   {
    "duration": 18,
    "start_time": "2021-11-27T16:15:00.809Z"
   },
   {
    "duration": 5,
    "start_time": "2021-11-27T16:15:10.325Z"
   },
   {
    "duration": 5,
    "start_time": "2021-11-27T16:15:20.447Z"
   },
   {
    "duration": 13,
    "start_time": "2021-11-27T16:16:07.080Z"
   },
   {
    "duration": 353,
    "start_time": "2021-11-27T16:17:36.170Z"
   },
   {
    "duration": 118,
    "start_time": "2021-11-27T16:17:42.514Z"
   },
   {
    "duration": 107,
    "start_time": "2021-11-27T16:17:45.627Z"
   },
   {
    "duration": 107,
    "start_time": "2021-11-27T16:17:48.913Z"
   },
   {
    "duration": 21,
    "start_time": "2021-11-27T16:18:02.613Z"
   },
   {
    "duration": 17,
    "start_time": "2021-11-27T16:19:00.709Z"
   },
   {
    "duration": 1309,
    "start_time": "2021-11-27T16:19:08.555Z"
   },
   {
    "duration": 15,
    "start_time": "2021-11-27T16:19:09.866Z"
   },
   {
    "duration": 20,
    "start_time": "2021-11-27T16:19:09.883Z"
   },
   {
    "duration": 15,
    "start_time": "2021-11-27T16:19:09.905Z"
   },
   {
    "duration": 25,
    "start_time": "2021-11-27T16:19:09.922Z"
   },
   {
    "duration": 8,
    "start_time": "2021-11-27T16:19:09.949Z"
   },
   {
    "duration": 10,
    "start_time": "2021-11-27T16:19:09.959Z"
   },
   {
    "duration": 48,
    "start_time": "2021-11-27T16:19:09.972Z"
   },
   {
    "duration": 9,
    "start_time": "2021-11-27T16:19:10.022Z"
   },
   {
    "duration": 9,
    "start_time": "2021-11-27T16:19:10.033Z"
   },
   {
    "duration": 34,
    "start_time": "2021-11-27T16:19:10.043Z"
   },
   {
    "duration": 28,
    "start_time": "2021-11-27T16:19:10.079Z"
   },
   {
    "duration": 25,
    "start_time": "2021-11-27T16:19:10.109Z"
   },
   {
    "duration": 8,
    "start_time": "2021-11-27T16:19:10.136Z"
   },
   {
    "duration": 15,
    "start_time": "2021-11-27T16:19:10.146Z"
   },
   {
    "duration": 14,
    "start_time": "2021-11-27T16:19:10.163Z"
   },
   {
    "duration": 29,
    "start_time": "2021-11-27T16:19:10.179Z"
   },
   {
    "duration": 28,
    "start_time": "2021-11-27T16:19:10.210Z"
   },
   {
    "duration": 7,
    "start_time": "2021-11-27T16:19:10.239Z"
   },
   {
    "duration": 15,
    "start_time": "2021-11-27T16:19:10.247Z"
   },
   {
    "duration": 5,
    "start_time": "2021-11-27T16:19:10.264Z"
   },
   {
    "duration": 37,
    "start_time": "2021-11-27T16:19:10.271Z"
   },
   {
    "duration": 7,
    "start_time": "2021-11-27T16:19:10.311Z"
   },
   {
    "duration": 70,
    "start_time": "2021-11-27T16:19:10.320Z"
   },
   {
    "duration": 39,
    "start_time": "2021-11-27T16:19:10.392Z"
   },
   {
    "duration": 32,
    "start_time": "2021-11-27T16:19:10.433Z"
   },
   {
    "duration": 42,
    "start_time": "2021-11-27T16:19:10.467Z"
   },
   {
    "duration": 12,
    "start_time": "2021-11-27T16:19:10.510Z"
   },
   {
    "duration": 22,
    "start_time": "2021-11-27T16:19:10.524Z"
   },
   {
    "duration": 10,
    "start_time": "2021-11-27T16:19:10.548Z"
   },
   {
    "duration": 208,
    "start_time": "2021-11-27T16:19:10.560Z"
   },
   {
    "duration": 12,
    "start_time": "2021-11-27T16:19:10.770Z"
   },
   {
    "duration": 199,
    "start_time": "2021-11-27T16:19:10.783Z"
   },
   {
    "duration": 38,
    "start_time": "2021-11-27T16:19:10.984Z"
   },
   {
    "duration": 345,
    "start_time": "2021-11-27T16:19:11.024Z"
   },
   {
    "duration": 217,
    "start_time": "2021-11-27T16:19:11.370Z"
   },
   {
    "duration": 269,
    "start_time": "2021-11-27T16:19:11.589Z"
   },
   {
    "duration": 217,
    "start_time": "2021-11-27T16:19:11.860Z"
   },
   {
    "duration": 240,
    "start_time": "2021-11-27T16:19:12.079Z"
   },
   {
    "duration": 223,
    "start_time": "2021-11-27T16:19:12.321Z"
   },
   {
    "duration": 208,
    "start_time": "2021-11-27T16:19:12.546Z"
   },
   {
    "duration": 71,
    "start_time": "2021-11-27T16:19:12.756Z"
   },
   {
    "duration": 13,
    "start_time": "2021-11-27T16:19:12.829Z"
   },
   {
    "duration": 10,
    "start_time": "2021-11-27T16:19:12.843Z"
   },
   {
    "duration": 15,
    "start_time": "2021-11-27T16:19:12.855Z"
   },
   {
    "duration": 208,
    "start_time": "2021-11-27T16:19:12.871Z"
   },
   {
    "duration": 197,
    "start_time": "2021-11-27T16:19:13.081Z"
   },
   {
    "duration": 191,
    "start_time": "2021-11-27T16:19:13.280Z"
   },
   {
    "duration": 21,
    "start_time": "2021-11-27T16:19:13.473Z"
   },
   {
    "duration": 197,
    "start_time": "2021-11-27T16:19:13.496Z"
   },
   {
    "duration": 15,
    "start_time": "2021-11-27T16:19:13.694Z"
   },
   {
    "duration": 34,
    "start_time": "2021-11-27T16:19:13.711Z"
   },
   {
    "duration": 189,
    "start_time": "2021-11-27T16:19:13.746Z"
   },
   {
    "duration": 15,
    "start_time": "2021-11-27T16:19:13.937Z"
   },
   {
    "duration": 198,
    "start_time": "2021-11-27T16:19:13.954Z"
   },
   {
    "duration": 176,
    "start_time": "2021-11-27T16:19:14.153Z"
   },
   {
    "duration": 9,
    "start_time": "2021-11-27T16:19:14.331Z"
   },
   {
    "duration": 9,
    "start_time": "2021-11-27T16:19:14.342Z"
   },
   {
    "duration": 11,
    "start_time": "2021-11-27T16:19:14.352Z"
   },
   {
    "duration": 42,
    "start_time": "2021-11-27T16:19:14.365Z"
   },
   {
    "duration": 1538,
    "start_time": "2021-11-27T16:19:44.252Z"
   },
   {
    "duration": 16,
    "start_time": "2021-11-27T16:20:13.058Z"
   },
   {
    "duration": 23,
    "start_time": "2021-11-27T16:20:34.784Z"
   },
   {
    "duration": 22,
    "start_time": "2021-11-27T16:44:40.228Z"
   },
   {
    "duration": 22,
    "start_time": "2021-11-27T16:46:21.921Z"
   },
   {
    "duration": 158,
    "start_time": "2021-11-27T16:46:31.126Z"
   },
   {
    "duration": 24,
    "start_time": "2021-11-27T16:50:05.394Z"
   },
   {
    "duration": 213,
    "start_time": "2021-11-27T16:50:11.709Z"
   },
   {
    "duration": 53,
    "start_time": "2021-11-27T16:50:29.984Z"
   },
   {
    "duration": 43,
    "start_time": "2021-11-27T16:50:50.533Z"
   },
   {
    "duration": 46,
    "start_time": "2021-11-27T16:51:03.385Z"
   },
   {
    "duration": 13,
    "start_time": "2021-11-27T16:51:12.301Z"
   },
   {
    "duration": 1353,
    "start_time": "2021-11-27T16:51:18.496Z"
   },
   {
    "duration": 18,
    "start_time": "2021-11-27T16:51:19.851Z"
   },
   {
    "duration": 19,
    "start_time": "2021-11-27T16:51:19.871Z"
   },
   {
    "duration": 17,
    "start_time": "2021-11-27T16:51:19.891Z"
   },
   {
    "duration": 24,
    "start_time": "2021-11-27T16:51:19.909Z"
   },
   {
    "duration": 7,
    "start_time": "2021-11-27T16:51:19.935Z"
   },
   {
    "duration": 10,
    "start_time": "2021-11-27T16:51:19.943Z"
   },
   {
    "duration": 51,
    "start_time": "2021-11-27T16:51:19.956Z"
   },
   {
    "duration": 9,
    "start_time": "2021-11-27T16:51:20.009Z"
   },
   {
    "duration": 11,
    "start_time": "2021-11-27T16:51:20.020Z"
   },
   {
    "duration": 31,
    "start_time": "2021-11-27T16:51:20.032Z"
   },
   {
    "duration": 5,
    "start_time": "2021-11-27T16:51:20.065Z"
   },
   {
    "duration": 45,
    "start_time": "2021-11-27T16:51:20.072Z"
   },
   {
    "duration": 8,
    "start_time": "2021-11-27T16:51:20.119Z"
   },
   {
    "duration": 14,
    "start_time": "2021-11-27T16:51:20.129Z"
   },
   {
    "duration": 16,
    "start_time": "2021-11-27T16:51:20.145Z"
   },
   {
    "duration": 5,
    "start_time": "2021-11-27T16:51:20.163Z"
   },
   {
    "duration": 61,
    "start_time": "2021-11-27T16:51:20.170Z"
   },
   {
    "duration": 6,
    "start_time": "2021-11-27T16:51:20.232Z"
   },
   {
    "duration": 16,
    "start_time": "2021-11-27T16:51:20.240Z"
   },
   {
    "duration": 5,
    "start_time": "2021-11-27T16:51:20.258Z"
   },
   {
    "duration": 11,
    "start_time": "2021-11-27T16:51:20.265Z"
   },
   {
    "duration": 27,
    "start_time": "2021-11-27T16:51:20.279Z"
   },
   {
    "duration": 62,
    "start_time": "2021-11-27T16:51:20.309Z"
   },
   {
    "duration": 44,
    "start_time": "2021-11-27T16:51:20.372Z"
   },
   {
    "duration": 29,
    "start_time": "2021-11-27T16:51:20.417Z"
   },
   {
    "duration": 60,
    "start_time": "2021-11-27T16:51:20.448Z"
   },
   {
    "duration": 13,
    "start_time": "2021-11-27T16:51:20.511Z"
   },
   {
    "duration": 196,
    "start_time": "2021-11-27T16:51:20.526Z"
   },
   {
    "duration": 13,
    "start_time": "2021-11-27T16:51:20.724Z"
   },
   {
    "duration": 197,
    "start_time": "2021-11-27T16:51:20.739Z"
   },
   {
    "duration": 28,
    "start_time": "2021-11-27T16:51:20.938Z"
   },
   {
    "duration": 260,
    "start_time": "2021-11-27T16:51:20.968Z"
   },
   {
    "duration": 211,
    "start_time": "2021-11-27T16:51:21.229Z"
   },
   {
    "duration": 260,
    "start_time": "2021-11-27T16:51:21.441Z"
   },
   {
    "duration": 213,
    "start_time": "2021-11-27T16:51:21.706Z"
   },
   {
    "duration": 218,
    "start_time": "2021-11-27T16:51:21.921Z"
   },
   {
    "duration": 203,
    "start_time": "2021-11-27T16:51:22.141Z"
   },
   {
    "duration": 206,
    "start_time": "2021-11-27T16:51:22.346Z"
   },
   {
    "duration": 66,
    "start_time": "2021-11-27T16:51:22.554Z"
   },
   {
    "duration": 16,
    "start_time": "2021-11-27T16:51:22.622Z"
   },
   {
    "duration": 8,
    "start_time": "2021-11-27T16:51:22.640Z"
   },
   {
    "duration": 11,
    "start_time": "2021-11-27T16:51:22.650Z"
   },
   {
    "duration": 194,
    "start_time": "2021-11-27T16:51:22.663Z"
   },
   {
    "duration": 182,
    "start_time": "2021-11-27T16:51:22.859Z"
   },
   {
    "duration": 199,
    "start_time": "2021-11-27T16:51:23.043Z"
   },
   {
    "duration": 22,
    "start_time": "2021-11-27T16:51:23.244Z"
   },
   {
    "duration": 199,
    "start_time": "2021-11-27T16:51:23.267Z"
   },
   {
    "duration": 8,
    "start_time": "2021-11-27T16:51:23.467Z"
   },
   {
    "duration": 36,
    "start_time": "2021-11-27T16:51:23.476Z"
   },
   {
    "duration": 201,
    "start_time": "2021-11-27T16:51:23.515Z"
   },
   {
    "duration": 14,
    "start_time": "2021-11-27T16:51:23.718Z"
   },
   {
    "duration": 192,
    "start_time": "2021-11-27T16:51:23.734Z"
   },
   {
    "duration": 191,
    "start_time": "2021-11-27T16:51:23.928Z"
   },
   {
    "duration": 9,
    "start_time": "2021-11-27T16:51:24.121Z"
   },
   {
    "duration": 12,
    "start_time": "2021-11-27T16:51:24.132Z"
   },
   {
    "duration": 12,
    "start_time": "2021-11-27T16:51:24.145Z"
   },
   {
    "duration": 9,
    "start_time": "2021-11-27T16:51:24.159Z"
   },
   {
    "duration": 46,
    "start_time": "2021-11-27T16:52:09.201Z"
   },
   {
    "duration": 48,
    "start_time": "2021-11-27T16:53:34.608Z"
   },
   {
    "duration": 10,
    "start_time": "2021-11-27T16:53:43.032Z"
   },
   {
    "duration": 16,
    "start_time": "2021-11-27T16:54:57.098Z"
   },
   {
    "duration": 37,
    "start_time": "2021-11-27T16:55:16.407Z"
   },
   {
    "duration": 536,
    "start_time": "2021-11-27T16:55:46.300Z"
   },
   {
    "duration": 354,
    "start_time": "2021-11-27T16:58:02.259Z"
   },
   {
    "duration": 342,
    "start_time": "2021-11-27T16:58:34.261Z"
   },
   {
    "duration": 65,
    "start_time": "2021-11-27T16:58:42.707Z"
   },
   {
    "duration": 21,
    "start_time": "2021-11-27T16:59:59.443Z"
   },
   {
    "duration": 31,
    "start_time": "2021-11-27T17:00:06.360Z"
   },
   {
    "duration": 55,
    "start_time": "2021-11-27T17:00:16.667Z"
   },
   {
    "duration": 349,
    "start_time": "2021-11-27T17:00:43.334Z"
   },
   {
    "duration": 384,
    "start_time": "2021-11-27T17:01:27.515Z"
   },
   {
    "duration": 370,
    "start_time": "2021-11-27T17:01:36.933Z"
   },
   {
    "duration": 59,
    "start_time": "2021-11-27T17:02:50.294Z"
   },
   {
    "duration": 29,
    "start_time": "2021-11-27T17:03:46.155Z"
   },
   {
    "duration": 476,
    "start_time": "2021-11-27T17:04:14.247Z"
   },
   {
    "duration": 381,
    "start_time": "2021-11-27T17:12:43.271Z"
   },
   {
    "duration": 461,
    "start_time": "2021-11-27T17:12:50.794Z"
   },
   {
    "duration": 359,
    "start_time": "2021-11-27T17:13:40.473Z"
   },
   {
    "duration": 43,
    "start_time": "2021-11-27T17:13:51.849Z"
   },
   {
    "duration": 345,
    "start_time": "2021-11-27T17:13:57.422Z"
   },
   {
    "duration": 30,
    "start_time": "2021-11-27T17:16:04.990Z"
   },
   {
    "duration": 484,
    "start_time": "2021-11-27T17:16:42.977Z"
   },
   {
    "duration": 1713,
    "start_time": "2021-11-27T17:21:08.189Z"
   },
   {
    "duration": 1652,
    "start_time": "2021-11-27T17:21:13.817Z"
   },
   {
    "duration": 1623,
    "start_time": "2021-11-27T17:21:33.777Z"
   },
   {
    "duration": 51,
    "start_time": "2021-11-27T17:21:42.508Z"
   },
   {
    "duration": 33,
    "start_time": "2021-11-27T17:23:03.392Z"
   },
   {
    "duration": 33,
    "start_time": "2021-11-27T17:23:24.120Z"
   },
   {
    "duration": 41,
    "start_time": "2021-11-27T17:23:39.199Z"
   },
   {
    "duration": -23,
    "start_time": "2021-11-27T17:23:53.843Z"
   },
   {
    "duration": 37,
    "start_time": "2021-11-27T17:23:59.978Z"
   },
   {
    "duration": 36,
    "start_time": "2021-11-27T17:27:23.333Z"
   },
   {
    "duration": 33,
    "start_time": "2021-11-27T17:27:28.521Z"
   },
   {
    "duration": 349,
    "start_time": "2021-11-27T17:27:41.835Z"
   },
   {
    "duration": 363,
    "start_time": "2021-11-27T17:28:21.034Z"
   },
   {
    "duration": 465,
    "start_time": "2021-11-27T17:29:45.448Z"
   },
   {
    "duration": 22,
    "start_time": "2021-11-27T17:30:38.338Z"
   },
   {
    "duration": 5,
    "start_time": "2021-11-27T17:30:45.888Z"
   },
   {
    "duration": 19,
    "start_time": "2021-11-27T17:30:51.169Z"
   },
   {
    "duration": 17,
    "start_time": "2021-11-27T17:31:05.626Z"
   },
   {
    "duration": 368,
    "start_time": "2021-11-27T17:31:29.663Z"
   },
   {
    "duration": 4,
    "start_time": "2021-11-27T17:31:35.397Z"
   },
   {
    "duration": 3,
    "start_time": "2021-11-27T17:31:39.254Z"
   },
   {
    "duration": 3,
    "start_time": "2021-11-27T17:32:16.136Z"
   },
   {
    "duration": 5,
    "start_time": "2021-11-27T17:32:19.248Z"
   },
   {
    "duration": 45,
    "start_time": "2021-11-27T17:32:22.643Z"
   },
   {
    "duration": 15,
    "start_time": "2021-11-27T17:32:43.391Z"
   },
   {
    "duration": 47,
    "start_time": "2021-11-27T17:32:50.486Z"
   },
   {
    "duration": 17,
    "start_time": "2021-11-27T17:33:05.626Z"
   },
   {
    "duration": 60,
    "start_time": "2021-11-27T17:33:10.201Z"
   },
   {
    "duration": -18,
    "start_time": "2021-11-27T17:33:49.781Z"
   },
   {
    "duration": 23,
    "start_time": "2021-11-27T17:34:34.611Z"
   },
   {
    "duration": 8,
    "start_time": "2021-11-27T17:35:39.257Z"
   },
   {
    "duration": 352,
    "start_time": "2021-11-27T17:36:19.804Z"
   },
   {
    "duration": 381,
    "start_time": "2021-11-27T17:36:35.102Z"
   },
   {
    "duration": 13,
    "start_time": "2021-11-27T17:37:02.346Z"
   },
   {
    "duration": 216,
    "start_time": "2021-11-27T17:37:28.351Z"
   },
   {
    "duration": 1491,
    "start_time": "2021-11-27T17:37:42.023Z"
   },
   {
    "duration": 22,
    "start_time": "2021-11-27T17:37:43.517Z"
   },
   {
    "duration": 26,
    "start_time": "2021-11-27T17:37:43.542Z"
   },
   {
    "duration": 57,
    "start_time": "2021-11-27T17:37:43.570Z"
   },
   {
    "duration": 29,
    "start_time": "2021-11-27T17:37:43.630Z"
   },
   {
    "duration": 8,
    "start_time": "2021-11-27T17:37:43.661Z"
   },
   {
    "duration": 36,
    "start_time": "2021-11-27T17:37:43.671Z"
   },
   {
    "duration": 24,
    "start_time": "2021-11-27T17:37:43.716Z"
   },
   {
    "duration": 10,
    "start_time": "2021-11-27T17:37:43.743Z"
   },
   {
    "duration": 18,
    "start_time": "2021-11-27T17:37:43.754Z"
   },
   {
    "duration": 49,
    "start_time": "2021-11-27T17:37:43.774Z"
   },
   {
    "duration": 6,
    "start_time": "2021-11-27T17:37:43.826Z"
   },
   {
    "duration": 40,
    "start_time": "2021-11-27T17:37:43.834Z"
   },
   {
    "duration": 8,
    "start_time": "2021-11-27T17:37:43.876Z"
   },
   {
    "duration": 42,
    "start_time": "2021-11-27T17:37:43.886Z"
   },
   {
    "duration": 14,
    "start_time": "2021-11-27T17:37:43.931Z"
   },
   {
    "duration": 13,
    "start_time": "2021-11-27T17:37:43.947Z"
   },
   {
    "duration": 43,
    "start_time": "2021-11-27T17:37:43.963Z"
   },
   {
    "duration": 11,
    "start_time": "2021-11-27T17:37:44.009Z"
   },
   {
    "duration": 59,
    "start_time": "2021-11-27T17:37:44.023Z"
   },
   {
    "duration": 8,
    "start_time": "2021-11-27T17:37:44.084Z"
   },
   {
    "duration": 25,
    "start_time": "2021-11-27T17:37:44.094Z"
   },
   {
    "duration": 7,
    "start_time": "2021-11-27T17:37:44.126Z"
   },
   {
    "duration": 122,
    "start_time": "2021-11-27T17:37:44.137Z"
   },
   {
    "duration": 30,
    "start_time": "2021-11-27T17:37:44.261Z"
   },
   {
    "duration": 40,
    "start_time": "2021-11-27T17:37:44.306Z"
   },
   {
    "duration": 10,
    "start_time": "2021-11-27T17:37:44.347Z"
   },
   {
    "duration": 492,
    "start_time": "2021-11-27T17:37:44.360Z"
   },
   {
    "duration": -32,
    "start_time": "2021-11-27T17:37:44.886Z"
   },
   {
    "duration": -35,
    "start_time": "2021-11-27T17:37:44.891Z"
   },
   {
    "duration": -39,
    "start_time": "2021-11-27T17:37:44.895Z"
   },
   {
    "duration": -43,
    "start_time": "2021-11-27T17:37:44.900Z"
   },
   {
    "duration": -47,
    "start_time": "2021-11-27T17:37:44.905Z"
   },
   {
    "duration": -50,
    "start_time": "2021-11-27T17:37:44.910Z"
   },
   {
    "duration": -55,
    "start_time": "2021-11-27T17:37:44.916Z"
   },
   {
    "duration": -66,
    "start_time": "2021-11-27T17:37:44.928Z"
   },
   {
    "duration": -69,
    "start_time": "2021-11-27T17:37:44.933Z"
   },
   {
    "duration": -73,
    "start_time": "2021-11-27T17:37:44.938Z"
   },
   {
    "duration": -77,
    "start_time": "2021-11-27T17:37:44.943Z"
   },
   {
    "duration": -81,
    "start_time": "2021-11-27T17:37:44.948Z"
   },
   {
    "duration": -85,
    "start_time": "2021-11-27T17:37:44.953Z"
   },
   {
    "duration": -89,
    "start_time": "2021-11-27T17:37:44.957Z"
   },
   {
    "duration": -94,
    "start_time": "2021-11-27T17:37:44.963Z"
   },
   {
    "duration": -98,
    "start_time": "2021-11-27T17:37:44.968Z"
   },
   {
    "duration": -102,
    "start_time": "2021-11-27T17:37:44.973Z"
   },
   {
    "duration": -104,
    "start_time": "2021-11-27T17:37:44.976Z"
   },
   {
    "duration": -107,
    "start_time": "2021-11-27T17:37:44.980Z"
   },
   {
    "duration": -109,
    "start_time": "2021-11-27T17:37:44.983Z"
   },
   {
    "duration": -111,
    "start_time": "2021-11-27T17:37:44.986Z"
   },
   {
    "duration": -113,
    "start_time": "2021-11-27T17:37:44.989Z"
   },
   {
    "duration": -117,
    "start_time": "2021-11-27T17:37:44.994Z"
   },
   {
    "duration": -119,
    "start_time": "2021-11-27T17:37:44.997Z"
   },
   {
    "duration": -123,
    "start_time": "2021-11-27T17:37:45.001Z"
   },
   {
    "duration": -127,
    "start_time": "2021-11-27T17:37:45.006Z"
   },
   {
    "duration": -129,
    "start_time": "2021-11-27T17:37:45.009Z"
   },
   {
    "duration": -131,
    "start_time": "2021-11-27T17:37:45.012Z"
   },
   {
    "duration": -133,
    "start_time": "2021-11-27T17:37:45.015Z"
   },
   {
    "duration": 228,
    "start_time": "2021-11-27T17:38:09.778Z"
   },
   {
    "duration": 38,
    "start_time": "2021-11-27T17:39:19.731Z"
   },
   {
    "duration": 420,
    "start_time": "2021-11-27T17:39:41.025Z"
   },
   {
    "duration": 37,
    "start_time": "2021-11-27T17:39:47.517Z"
   },
   {
    "duration": 11,
    "start_time": "2021-11-27T17:40:07.088Z"
   },
   {
    "duration": 14,
    "start_time": "2021-11-27T17:44:05.449Z"
   },
   {
    "duration": 353,
    "start_time": "2021-11-27T17:44:24.787Z"
   },
   {
    "duration": 422,
    "start_time": "2021-11-27T17:44:32.073Z"
   },
   {
    "duration": 10,
    "start_time": "2021-11-27T17:44:39.506Z"
   },
   {
    "duration": 14,
    "start_time": "2021-11-27T17:44:50.581Z"
   },
   {
    "duration": 14,
    "start_time": "2021-11-27T17:46:17.795Z"
   },
   {
    "duration": 14,
    "start_time": "2021-11-27T17:46:29.250Z"
   },
   {
    "duration": 423,
    "start_time": "2021-11-27T17:46:42.075Z"
   },
   {
    "duration": 14,
    "start_time": "2021-11-27T17:48:35.478Z"
   },
   {
    "duration": 593,
    "start_time": "2021-11-27T17:48:53.877Z"
   },
   {
    "duration": 399,
    "start_time": "2021-11-27T17:49:00.086Z"
   },
   {
    "duration": 398,
    "start_time": "2021-11-27T17:49:04.369Z"
   },
   {
    "duration": 19,
    "start_time": "2021-11-27T17:49:22.852Z"
   },
   {
    "duration": 362,
    "start_time": "2021-11-27T17:49:26.738Z"
   },
   {
    "duration": 121,
    "start_time": "2021-11-27T17:50:44.412Z"
   },
   {
    "duration": 17,
    "start_time": "2021-11-27T17:50:51.106Z"
   },
   {
    "duration": 9810,
    "start_time": "2021-11-27T17:51:20.161Z"
   },
   {
    "duration": -30,
    "start_time": "2021-11-27T17:51:30.004Z"
   },
   {
    "duration": 8678,
    "start_time": "2021-11-27T17:51:33.013Z"
   },
   {
    "duration": 18,
    "start_time": "2021-11-27T17:51:43.987Z"
   },
   {
    "duration": 202,
    "start_time": "2021-11-27T17:55:04.763Z"
   },
   {
    "duration": 245,
    "start_time": "2021-11-27T17:56:28.704Z"
   },
   {
    "duration": 409,
    "start_time": "2021-11-27T17:56:51.414Z"
   },
   {
    "duration": 303,
    "start_time": "2021-11-27T17:57:01.181Z"
   },
   {
    "duration": 206,
    "start_time": "2021-11-27T17:57:14.449Z"
   },
   {
    "duration": 187,
    "start_time": "2021-11-27T17:57:23.930Z"
   },
   {
    "duration": 233,
    "start_time": "2021-11-27T17:58:12.641Z"
   },
   {
    "duration": 291,
    "start_time": "2021-11-27T17:58:23.371Z"
   },
   {
    "duration": 1405,
    "start_time": "2021-11-27T18:00:19.690Z"
   },
   {
    "duration": 18,
    "start_time": "2021-11-27T18:00:21.097Z"
   },
   {
    "duration": 31,
    "start_time": "2021-11-27T18:00:21.118Z"
   },
   {
    "duration": 22,
    "start_time": "2021-11-27T18:00:21.151Z"
   },
   {
    "duration": 41,
    "start_time": "2021-11-27T18:00:21.175Z"
   },
   {
    "duration": 12,
    "start_time": "2021-11-27T18:00:21.219Z"
   },
   {
    "duration": 31,
    "start_time": "2021-11-27T18:00:21.233Z"
   },
   {
    "duration": 23,
    "start_time": "2021-11-27T18:00:21.267Z"
   },
   {
    "duration": 21,
    "start_time": "2021-11-27T18:00:21.293Z"
   },
   {
    "duration": 36,
    "start_time": "2021-11-27T18:00:21.316Z"
   },
   {
    "duration": 64,
    "start_time": "2021-11-27T18:00:21.355Z"
   },
   {
    "duration": 6,
    "start_time": "2021-11-27T18:00:21.421Z"
   },
   {
    "duration": 22,
    "start_time": "2021-11-27T18:00:21.430Z"
   },
   {
    "duration": 9,
    "start_time": "2021-11-27T18:00:21.454Z"
   },
   {
    "duration": 33,
    "start_time": "2021-11-27T18:00:21.465Z"
   },
   {
    "duration": 37,
    "start_time": "2021-11-27T18:00:21.499Z"
   },
   {
    "duration": 9,
    "start_time": "2021-11-27T18:00:21.538Z"
   },
   {
    "duration": 37,
    "start_time": "2021-11-27T18:00:21.549Z"
   },
   {
    "duration": 7,
    "start_time": "2021-11-27T18:00:21.588Z"
   },
   {
    "duration": 18,
    "start_time": "2021-11-27T18:00:21.607Z"
   },
   {
    "duration": 10,
    "start_time": "2021-11-27T18:00:21.627Z"
   },
   {
    "duration": 11,
    "start_time": "2021-11-27T18:00:21.638Z"
   },
   {
    "duration": 16,
    "start_time": "2021-11-27T18:00:21.655Z"
   },
   {
    "duration": 87,
    "start_time": "2021-11-27T18:00:21.674Z"
   },
   {
    "duration": 28,
    "start_time": "2021-11-27T18:00:21.762Z"
   },
   {
    "duration": 48,
    "start_time": "2021-11-27T18:00:21.792Z"
   },
   {
    "duration": 13,
    "start_time": "2021-11-27T18:00:21.842Z"
   },
   {
    "duration": 233,
    "start_time": "2021-11-27T18:00:21.858Z"
   },
   {
    "duration": 24,
    "start_time": "2021-11-27T18:00:22.093Z"
   },
   {
    "duration": 220,
    "start_time": "2021-11-27T18:00:22.119Z"
   },
   {
    "duration": 32,
    "start_time": "2021-11-27T18:00:22.340Z"
   },
   {
    "duration": 308,
    "start_time": "2021-11-27T18:00:22.374Z"
   },
   {
    "duration": 250,
    "start_time": "2021-11-27T18:00:22.685Z"
   },
   {
    "duration": 361,
    "start_time": "2021-11-27T18:00:22.937Z"
   },
   {
    "duration": 226,
    "start_time": "2021-11-27T18:00:23.299Z"
   },
   {
    "duration": 232,
    "start_time": "2021-11-27T18:00:23.527Z"
   },
   {
    "duration": 229,
    "start_time": "2021-11-27T18:00:23.761Z"
   },
   {
    "duration": 234,
    "start_time": "2021-11-27T18:00:23.991Z"
   },
   {
    "duration": 57,
    "start_time": "2021-11-27T18:00:24.227Z"
   },
   {
    "duration": 34,
    "start_time": "2021-11-27T18:00:24.286Z"
   },
   {
    "duration": 11,
    "start_time": "2021-11-27T18:00:24.323Z"
   },
   {
    "duration": 28,
    "start_time": "2021-11-27T18:00:24.336Z"
   },
   {
    "duration": 208,
    "start_time": "2021-11-27T18:00:24.366Z"
   },
   {
    "duration": 225,
    "start_time": "2021-11-27T18:00:24.576Z"
   },
   {
    "duration": 221,
    "start_time": "2021-11-27T18:00:24.807Z"
   },
   {
    "duration": 25,
    "start_time": "2021-11-27T18:00:25.030Z"
   },
   {
    "duration": 232,
    "start_time": "2021-11-27T18:00:25.057Z"
   },
   {
    "duration": 7,
    "start_time": "2021-11-27T18:00:25.291Z"
   },
   {
    "duration": 46,
    "start_time": "2021-11-27T18:00:25.300Z"
   },
   {
    "duration": 212,
    "start_time": "2021-11-27T18:00:25.348Z"
   },
   {
    "duration": 13,
    "start_time": "2021-11-27T18:00:25.562Z"
   },
   {
    "duration": 207,
    "start_time": "2021-11-27T18:00:25.577Z"
   },
   {
    "duration": 200,
    "start_time": "2021-11-27T18:00:25.786Z"
   },
   {
    "duration": 19,
    "start_time": "2021-11-27T18:00:25.988Z"
   },
   {
    "duration": 19,
    "start_time": "2021-11-27T18:00:26.010Z"
   },
   {
    "duration": 16,
    "start_time": "2021-11-27T18:00:26.031Z"
   },
   {
    "duration": 18,
    "start_time": "2021-11-27T18:00:26.049Z"
   },
   {
    "duration": -24,
    "start_time": "2021-11-27T18:03:38.303Z"
   },
   {
    "duration": 246,
    "start_time": "2021-11-27T18:03:41.905Z"
   },
   {
    "duration": 182,
    "start_time": "2021-11-27T18:04:13.642Z"
   },
   {
    "duration": 354,
    "start_time": "2021-11-27T18:04:58.905Z"
   },
   {
    "duration": 178,
    "start_time": "2021-11-27T18:05:06.876Z"
   },
   {
    "duration": 13,
    "start_time": "2021-11-27T18:05:12.293Z"
   },
   {
    "duration": 8809,
    "start_time": "2021-11-27T18:08:16.962Z"
   },
   {
    "duration": 118,
    "start_time": "2021-11-27T18:08:35.982Z"
   },
   {
    "duration": 348,
    "start_time": "2021-11-27T18:08:40.001Z"
   },
   {
    "duration": 352,
    "start_time": "2021-11-27T18:09:16.307Z"
   },
   {
    "duration": 341,
    "start_time": "2021-11-27T18:09:43.078Z"
   },
   {
    "duration": 17,
    "start_time": "2021-11-27T18:11:51.804Z"
   },
   {
    "duration": 13,
    "start_time": "2021-11-27T18:12:43.392Z"
   },
   {
    "duration": 454,
    "start_time": "2021-11-27T18:13:41.131Z"
   },
   {
    "duration": 695,
    "start_time": "2021-11-27T18:14:28.718Z"
   },
   {
    "duration": 14,
    "start_time": "2021-11-27T18:14:37.897Z"
   },
   {
    "duration": 366,
    "start_time": "2021-11-27T18:16:10.859Z"
   },
   {
    "duration": 516,
    "start_time": "2021-11-27T18:18:11.696Z"
   },
   {
    "duration": 160,
    "start_time": "2021-11-27T18:18:22.912Z"
   },
   {
    "duration": 161,
    "start_time": "2021-11-27T18:18:31.972Z"
   },
   {
    "duration": 167,
    "start_time": "2021-11-27T18:18:39.023Z"
   },
   {
    "duration": 198,
    "start_time": "2021-11-27T18:18:42.505Z"
   },
   {
    "duration": 163,
    "start_time": "2021-11-27T18:18:46.272Z"
   },
   {
    "duration": 12,
    "start_time": "2021-11-27T18:21:36.746Z"
   },
   {
    "duration": 348,
    "start_time": "2021-11-27T18:21:55.918Z"
   },
   {
    "duration": 364,
    "start_time": "2021-11-27T18:22:18.174Z"
   },
   {
    "duration": 332,
    "start_time": "2021-11-27T18:22:38.068Z"
   },
   {
    "duration": 201,
    "start_time": "2021-11-27T18:26:59.338Z"
   },
   {
    "duration": 302,
    "start_time": "2021-11-27T18:27:33.541Z"
   },
   {
    "duration": 219,
    "start_time": "2021-11-27T18:28:49.666Z"
   },
   {
    "duration": 628,
    "start_time": "2021-11-27T18:29:24.226Z"
   },
   {
    "duration": 247,
    "start_time": "2021-11-27T18:29:30.581Z"
   },
   {
    "duration": 8634,
    "start_time": "2021-11-27T18:33:19.493Z"
   },
   {
    "duration": 11,
    "start_time": "2021-11-27T18:33:39.781Z"
   },
   {
    "duration": 10142,
    "start_time": "2021-11-27T18:34:54.003Z"
   },
   {
    "duration": -41,
    "start_time": "2021-11-27T18:35:04.188Z"
   },
   {
    "duration": 13,
    "start_time": "2021-11-27T18:35:12.406Z"
   },
   {
    "duration": 12,
    "start_time": "2021-11-27T18:35:24.231Z"
   },
   {
    "duration": 11,
    "start_time": "2021-11-27T18:35:41.527Z"
   },
   {
    "duration": 656,
    "start_time": "2021-11-27T18:36:14.923Z"
   },
   {
    "duration": 224,
    "start_time": "2021-11-27T18:36:20.788Z"
   },
   {
    "duration": 437,
    "start_time": "2021-11-28T10:01:39.964Z"
   },
   {
    "duration": 623,
    "start_time": "2021-11-28T10:01:59.242Z"
   },
   {
    "duration": 718,
    "start_time": "2021-11-28T10:02:03.521Z"
   },
   {
    "duration": 2061,
    "start_time": "2021-11-28T10:02:27.041Z"
   },
   {
    "duration": 24,
    "start_time": "2021-11-28T10:02:29.105Z"
   },
   {
    "duration": 80,
    "start_time": "2021-11-28T10:02:29.133Z"
   },
   {
    "duration": 32,
    "start_time": "2021-11-28T10:02:29.218Z"
   },
   {
    "duration": 61,
    "start_time": "2021-11-28T10:02:29.254Z"
   },
   {
    "duration": 11,
    "start_time": "2021-11-28T10:02:29.317Z"
   },
   {
    "duration": 57,
    "start_time": "2021-11-28T10:02:29.331Z"
   },
   {
    "duration": 37,
    "start_time": "2021-11-28T10:02:29.392Z"
   },
   {
    "duration": 17,
    "start_time": "2021-11-28T10:02:29.433Z"
   },
   {
    "duration": 48,
    "start_time": "2021-11-28T10:02:29.453Z"
   },
   {
    "duration": 50,
    "start_time": "2021-11-28T10:02:29.505Z"
   },
   {
    "duration": 8,
    "start_time": "2021-11-28T10:02:29.558Z"
   },
   {
    "duration": 43,
    "start_time": "2021-11-28T10:02:29.582Z"
   },
   {
    "duration": 25,
    "start_time": "2021-11-28T10:02:29.629Z"
   },
   {
    "duration": 42,
    "start_time": "2021-11-28T10:02:29.657Z"
   },
   {
    "duration": 28,
    "start_time": "2021-11-28T10:02:29.704Z"
   },
   {
    "duration": 8,
    "start_time": "2021-11-28T10:02:29.735Z"
   },
   {
    "duration": 85,
    "start_time": "2021-11-28T10:02:29.746Z"
   },
   {
    "duration": 10,
    "start_time": "2021-11-28T10:02:29.833Z"
   },
   {
    "duration": 48,
    "start_time": "2021-11-28T10:02:29.846Z"
   },
   {
    "duration": 10,
    "start_time": "2021-11-28T10:02:29.897Z"
   },
   {
    "duration": 11,
    "start_time": "2021-11-28T10:02:29.910Z"
   },
   {
    "duration": 6,
    "start_time": "2021-11-28T10:02:29.929Z"
   },
   {
    "duration": 180,
    "start_time": "2021-11-28T10:02:29.940Z"
   },
   {
    "duration": 61,
    "start_time": "2021-11-28T10:02:30.123Z"
   },
   {
    "duration": 64,
    "start_time": "2021-11-28T10:02:30.188Z"
   },
   {
    "duration": 39,
    "start_time": "2021-11-28T10:02:30.255Z"
   },
   {
    "duration": 23,
    "start_time": "2021-11-28T10:02:30.297Z"
   },
   {
    "duration": 473,
    "start_time": "2021-11-28T10:02:30.322Z"
   },
   {
    "duration": 22,
    "start_time": "2021-11-28T10:02:30.798Z"
   },
   {
    "duration": 403,
    "start_time": "2021-11-28T10:02:30.823Z"
   },
   {
    "duration": 66,
    "start_time": "2021-11-28T10:02:31.229Z"
   },
   {
    "duration": 487,
    "start_time": "2021-11-28T10:02:31.299Z"
   },
   {
    "duration": 389,
    "start_time": "2021-11-28T10:02:31.789Z"
   },
   {
    "duration": 479,
    "start_time": "2021-11-28T10:02:32.183Z"
   },
   {
    "duration": 449,
    "start_time": "2021-11-28T10:02:32.665Z"
   },
   {
    "duration": 399,
    "start_time": "2021-11-28T10:02:33.117Z"
   },
   {
    "duration": 496,
    "start_time": "2021-11-28T10:02:33.520Z"
   },
   {
    "duration": 431,
    "start_time": "2021-11-28T10:02:34.020Z"
   },
   {
    "duration": 115,
    "start_time": "2021-11-28T10:02:34.454Z"
   },
   {
    "duration": 23,
    "start_time": "2021-11-28T10:02:34.582Z"
   },
   {
    "duration": 13,
    "start_time": "2021-11-28T10:02:34.607Z"
   },
   {
    "duration": 61,
    "start_time": "2021-11-28T10:02:34.623Z"
   },
   {
    "duration": 332,
    "start_time": "2021-11-28T10:02:34.686Z"
   },
   {
    "duration": 397,
    "start_time": "2021-11-28T10:02:35.021Z"
   },
   {
    "duration": 341,
    "start_time": "2021-11-28T10:02:35.421Z"
   },
   {
    "duration": 48,
    "start_time": "2021-11-28T10:02:35.765Z"
   },
   {
    "duration": 348,
    "start_time": "2021-11-28T10:02:35.815Z"
   },
   {
    "duration": 23,
    "start_time": "2021-11-28T10:02:36.165Z"
   },
   {
    "duration": 64,
    "start_time": "2021-11-28T10:02:36.191Z"
   },
   {
    "duration": 463,
    "start_time": "2021-11-28T10:02:36.258Z"
   },
   {
    "duration": 41,
    "start_time": "2021-11-28T10:02:36.724Z"
   },
   {
    "duration": 321,
    "start_time": "2021-11-28T10:02:36.768Z"
   },
   {
    "duration": 328,
    "start_time": "2021-11-28T10:02:37.092Z"
   },
   {
    "duration": 20,
    "start_time": "2021-11-28T10:02:37.424Z"
   },
   {
    "duration": 45,
    "start_time": "2021-11-28T10:02:37.447Z"
   },
   {
    "duration": 22,
    "start_time": "2021-11-28T10:02:37.495Z"
   },
   {
    "duration": 19,
    "start_time": "2021-11-28T10:02:37.521Z"
   },
   {
    "duration": 17,
    "start_time": "2021-11-28T10:02:41.929Z"
   },
   {
    "duration": 25,
    "start_time": "2021-11-28T10:02:48.486Z"
   },
   {
    "duration": 22,
    "start_time": "2021-11-28T10:03:26.967Z"
   },
   {
    "duration": 16,
    "start_time": "2021-11-28T10:03:53.354Z"
   },
   {
    "duration": 20,
    "start_time": "2021-11-28T10:04:07.037Z"
   },
   {
    "duration": 21,
    "start_time": "2021-11-28T10:04:40.743Z"
   },
   {
    "duration": 469,
    "start_time": "2021-11-28T10:05:10.445Z"
   },
   {
    "duration": 775,
    "start_time": "2021-11-28T10:05:50.474Z"
   },
   {
    "duration": 470,
    "start_time": "2021-11-28T10:18:29.259Z"
   },
   {
    "duration": 432,
    "start_time": "2021-11-28T10:18:38.115Z"
   },
   {
    "duration": 362,
    "start_time": "2021-11-28T10:18:54.953Z"
   },
   {
    "duration": 463,
    "start_time": "2021-11-28T10:19:43.497Z"
   },
   {
    "duration": 456,
    "start_time": "2021-11-28T10:20:31.245Z"
   },
   {
    "duration": 23,
    "start_time": "2021-11-28T10:23:57.834Z"
   },
   {
    "duration": 448,
    "start_time": "2021-11-28T10:25:42.667Z"
   },
   {
    "duration": 485,
    "start_time": "2021-11-28T10:26:09.445Z"
   },
   {
    "duration": 610,
    "start_time": "2021-11-28T10:26:50.758Z"
   },
   {
    "duration": 732,
    "start_time": "2021-11-28T10:27:11.971Z"
   },
   {
    "duration": 639,
    "start_time": "2021-11-28T10:27:18.551Z"
   },
   {
    "duration": 672,
    "start_time": "2021-11-28T10:27:21.954Z"
   },
   {
    "duration": 26,
    "start_time": "2021-11-28T10:29:03.596Z"
   },
   {
    "duration": 25,
    "start_time": "2021-11-28T10:29:21.768Z"
   },
   {
    "duration": 24,
    "start_time": "2021-11-28T10:29:41.289Z"
   },
   {
    "duration": 25,
    "start_time": "2021-11-28T10:30:04.123Z"
   },
   {
    "duration": 34,
    "start_time": "2021-11-28T10:31:26.423Z"
   },
   {
    "duration": 622,
    "start_time": "2021-11-28T10:31:35.164Z"
   },
   {
    "duration": 135,
    "start_time": "2021-11-28T11:25:17.612Z"
   },
   {
    "duration": 101,
    "start_time": "2021-11-28T11:25:35.630Z"
   },
   {
    "duration": 106,
    "start_time": "2021-11-28T11:26:03.548Z"
   },
   {
    "duration": 1194,
    "start_time": "2021-11-28T15:40:43.155Z"
   },
   {
    "duration": 14,
    "start_time": "2021-11-28T15:40:44.351Z"
   },
   {
    "duration": 20,
    "start_time": "2021-11-28T15:40:44.367Z"
   },
   {
    "duration": 19,
    "start_time": "2021-11-28T15:40:44.389Z"
   },
   {
    "duration": 23,
    "start_time": "2021-11-28T15:40:44.410Z"
   },
   {
    "duration": 7,
    "start_time": "2021-11-28T15:40:44.434Z"
   },
   {
    "duration": 10,
    "start_time": "2021-11-28T15:40:44.443Z"
   },
   {
    "duration": 16,
    "start_time": "2021-11-28T15:40:44.455Z"
   },
   {
    "duration": 37,
    "start_time": "2021-11-28T15:40:44.473Z"
   },
   {
    "duration": 9,
    "start_time": "2021-11-28T15:40:44.512Z"
   },
   {
    "duration": 32,
    "start_time": "2021-11-28T15:40:44.522Z"
   },
   {
    "duration": 6,
    "start_time": "2021-11-28T15:40:44.556Z"
   },
   {
    "duration": 44,
    "start_time": "2021-11-28T15:40:44.563Z"
   },
   {
    "duration": 9,
    "start_time": "2021-11-28T15:40:44.610Z"
   },
   {
    "duration": 17,
    "start_time": "2021-11-28T15:40:44.621Z"
   },
   {
    "duration": 14,
    "start_time": "2021-11-28T15:40:44.640Z"
   },
   {
    "duration": 54,
    "start_time": "2021-11-28T15:40:44.656Z"
   },
   {
    "duration": 7,
    "start_time": "2021-11-28T15:40:44.712Z"
   },
   {
    "duration": 11,
    "start_time": "2021-11-28T15:40:44.721Z"
   },
   {
    "duration": 11,
    "start_time": "2021-11-28T15:40:44.734Z"
   },
   {
    "duration": 12,
    "start_time": "2021-11-28T15:40:44.747Z"
   },
   {
    "duration": 6,
    "start_time": "2021-11-28T15:40:44.761Z"
   },
   {
    "duration": 84,
    "start_time": "2021-11-28T15:40:44.771Z"
   },
   {
    "duration": 27,
    "start_time": "2021-11-28T15:40:44.858Z"
   },
   {
    "duration": 47,
    "start_time": "2021-11-28T15:40:44.887Z"
   },
   {
    "duration": 11,
    "start_time": "2021-11-28T15:40:44.937Z"
   },
   {
    "duration": 16,
    "start_time": "2021-11-28T15:40:44.951Z"
   },
   {
    "duration": 320,
    "start_time": "2021-11-28T15:40:44.970Z"
   },
   {
    "duration": 263,
    "start_time": "2021-11-28T15:40:45.293Z"
   },
   {
    "duration": 13,
    "start_time": "2021-11-28T15:40:45.559Z"
   },
   {
    "duration": 203,
    "start_time": "2021-11-28T15:40:45.574Z"
   },
   {
    "duration": 36,
    "start_time": "2021-11-28T15:40:45.779Z"
   },
   {
    "duration": 307,
    "start_time": "2021-11-28T15:40:45.817Z"
   },
   {
    "duration": 210,
    "start_time": "2021-11-28T15:40:46.126Z"
   },
   {
    "duration": 209,
    "start_time": "2021-11-28T15:40:46.338Z"
   },
   {
    "duration": 212,
    "start_time": "2021-11-28T15:40:46.548Z"
   },
   {
    "duration": 212,
    "start_time": "2021-11-28T15:40:46.762Z"
   },
   {
    "duration": 212,
    "start_time": "2021-11-28T15:40:46.976Z"
   },
   {
    "duration": 203,
    "start_time": "2021-11-28T15:40:47.190Z"
   },
   {
    "duration": 64,
    "start_time": "2021-11-28T15:40:47.395Z"
   },
   {
    "duration": 16,
    "start_time": "2021-11-28T15:40:47.460Z"
   },
   {
    "duration": 28,
    "start_time": "2021-11-28T15:40:47.478Z"
   },
   {
    "duration": 11,
    "start_time": "2021-11-28T15:40:47.508Z"
   },
   {
    "duration": 176,
    "start_time": "2021-11-28T15:40:47.521Z"
   },
   {
    "duration": 197,
    "start_time": "2021-11-28T15:40:47.699Z"
   },
   {
    "duration": 189,
    "start_time": "2021-11-28T15:40:47.898Z"
   },
   {
    "duration": 30,
    "start_time": "2021-11-28T15:40:48.089Z"
   },
   {
    "duration": 185,
    "start_time": "2021-11-28T15:40:48.120Z"
   },
   {
    "duration": 7,
    "start_time": "2021-11-28T15:40:48.307Z"
   },
   {
    "duration": 29,
    "start_time": "2021-11-28T15:40:48.316Z"
   },
   {
    "duration": 250,
    "start_time": "2021-11-28T15:40:48.347Z"
   },
   {
    "duration": 18,
    "start_time": "2021-11-28T15:40:48.599Z"
   },
   {
    "duration": 298,
    "start_time": "2021-11-28T15:40:48.618Z"
   },
   {
    "duration": 179,
    "start_time": "2021-11-28T15:40:48.918Z"
   },
   {
    "duration": 10,
    "start_time": "2021-11-28T15:40:49.106Z"
   },
   {
    "duration": 11,
    "start_time": "2021-11-28T15:40:49.118Z"
   },
   {
    "duration": 13,
    "start_time": "2021-11-28T15:40:49.131Z"
   },
   {
    "duration": 10,
    "start_time": "2021-11-28T15:40:49.145Z"
   },
   {
    "duration": 185,
    "start_time": "2022-04-25T09:14:31.397Z"
   }
  ],
  "colab": {
   "name": "DA+. Сборный проект 1. Шаблон (1).ipynb",
   "provenance": []
  },
  "kernelspec": {
   "display_name": "Python 3 (ipykernel)",
   "language": "python",
   "name": "python3"
  },
  "language_info": {
   "codemirror_mode": {
    "name": "ipython",
    "version": 3
   },
   "file_extension": ".py",
   "mimetype": "text/x-python",
   "name": "python",
   "nbconvert_exporter": "python",
   "pygments_lexer": "ipython3",
   "version": "3.9.5"
  },
  "toc": {
   "base_numbering": 1,
   "nav_menu": {
    "height": "246.997px",
    "width": "742.986px"
   },
   "number_sections": true,
   "sideBar": true,
   "skip_h1_title": true,
   "title_cell": "Table of Contents",
   "title_sidebar": "Contents",
   "toc_cell": true,
   "toc_position": {
    "height": "calc(100% - 180px)",
    "left": "10px",
    "top": "150px",
    "width": "260.139px"
   },
   "toc_section_display": true,
   "toc_window_display": true
  }
 },
 "nbformat": 4,
 "nbformat_minor": 1
}
