{
 "cells": [
  {
   "cell_type": "markdown",
   "metadata": {
    "toc": true
   },
   "source": [
    "<h1>Table of Contents<span class=\"tocSkip\"></span></h1>\n",
    "<div class=\"toc\"><ul class=\"toc-item\"><li><span><a href=\"#Описание-проекта-и-загрузка-данных\" data-toc-modified-id=\"Описание-проекта-и-загрузка-данных-1\"><span class=\"toc-item-num\">1&nbsp;&nbsp;</span>Описание проекта и загрузка данных</a></span></li><li><span><a href=\"#Проведение-исследовательского-анализа-данных-(EDA)\" data-toc-modified-id=\"Проведение-исследовательского-анализа-данных-(EDA)-2\"><span class=\"toc-item-num\">2&nbsp;&nbsp;</span>Проведение исследовательского анализа данных (EDA)</a></span><ul class=\"toc-item\"><li><span><a href=\"#Анализ-статистических-данных\" data-toc-modified-id=\"Анализ-статистических-данных-2.1\"><span class=\"toc-item-num\">2.1&nbsp;&nbsp;</span>Анализ статистических данных</a></span></li><li><span><a href=\"#Средние-значения-признаков-в-двух-группах\" data-toc-modified-id=\"Средние-значения-признаков-в-двух-группах-2.2\"><span class=\"toc-item-num\">2.2&nbsp;&nbsp;</span>Средние значения признаков в двух группах</a></span></li><li><span><a href=\"#Столбчатые-гистограммы-и-распределения-признаков-для-двух-групп\" data-toc-modified-id=\"Столбчатые-гистограммы-и-распределения-признаков-для-двух-групп-2.3\"><span class=\"toc-item-num\">2.3&nbsp;&nbsp;</span>Столбчатые гистограммы и распределения признаков для двух групп</a></span></li><li><span><a href=\"#Матрица-корреляций\" data-toc-modified-id=\"Матрица-корреляций-2.4\"><span class=\"toc-item-num\">2.4&nbsp;&nbsp;</span>Матрица корреляций</a></span></li></ul></li><li><span><a href=\"#Модель-прогнозирования-оттока-клиентов\" data-toc-modified-id=\"Модель-прогнозирования-оттока-клиентов-3\"><span class=\"toc-item-num\">3&nbsp;&nbsp;</span>Модель прогнозирования оттока клиентов</a></span><ul class=\"toc-item\"><li><span><a href=\"#Разделение-на-обучающую-и-валидационную-выборку\" data-toc-modified-id=\"Разделение-на-обучающую-и-валидационную-выборку-3.1\"><span class=\"toc-item-num\">3.1&nbsp;&nbsp;</span>Разделение на обучающую и валидационную выборку</a></span></li><li><span><a href=\"#Обучение-модели-двумя-способами-и-сравнение-результатов\" data-toc-modified-id=\"Обучение-модели-двумя-способами-и-сравнение-результатов-3.2\"><span class=\"toc-item-num\">3.2&nbsp;&nbsp;</span>Обучение модели двумя способами и сравнение результатов</a></span></li></ul></li><li><span><a href=\"#Кластеризация-клиентов\" data-toc-modified-id=\"Кластеризация-клиентов-4\"><span class=\"toc-item-num\">4&nbsp;&nbsp;</span>Кластеризация клиентов</a></span><ul class=\"toc-item\"><li><span><a href=\"#Агломеративная-иерархическая-кластеризация\" data-toc-modified-id=\"Агломеративная-иерархическая-кластеризация-4.1\"><span class=\"toc-item-num\">4.1&nbsp;&nbsp;</span>Агломеративная иерархическая кластеризация</a></span></li><li><span><a href=\"#Обучение-модели-кластеризации-(алгоритм-K-Means)-и-прогноз-кластеров-клиентов\" data-toc-modified-id=\"Обучение-модели-кластеризации-(алгоритм-K-Means)-и-прогноз-кластеров-клиентов-4.2\"><span class=\"toc-item-num\">4.2&nbsp;&nbsp;</span>Обучение модели кластеризации (алгоритм K-Means) и прогноз кластеров клиентов</a></span></li></ul></li><li><span><a href=\"#Выводы-и-рекомендации-по-работе-с-клиентами\" data-toc-modified-id=\"Выводы-и-рекомендации-по-работе-с-клиентами-5\"><span class=\"toc-item-num\">5&nbsp;&nbsp;</span>Выводы и рекомендации по работе с клиентами</a></span><ul class=\"toc-item\"><li><span><a href=\"#Основные-этапы-проделанной-работы\" data-toc-modified-id=\"Основные-этапы-проделанной-работы-5.1\"><span class=\"toc-item-num\">5.1&nbsp;&nbsp;</span>Основные этапы проделанной работы</a></span></li><li><span><a href=\"#Рекомендации-по-работе-с-клиентами\" data-toc-modified-id=\"Рекомендации-по-работе-с-клиентами-5.2\"><span class=\"toc-item-num\">5.2&nbsp;&nbsp;</span>Рекомендации по работе с клиентами</a></span></li></ul></li></ul></div>"
   ]
  },
  {
   "cell_type": "markdown",
   "metadata": {},
   "source": [
    "# Прогноз вероятности оттока клиентов сети фитнес-центров «Культурист-датасаентист» "
   ]
  },
  {
   "cell_type": "markdown",
   "metadata": {},
   "source": [
    "## Описание проекта и загрузка данных"
   ]
  },
  {
   "cell_type": "markdown",
   "metadata": {},
   "source": [
    "Заказчик исследования - сеть фитнес-центров «Культурист-датасаентист». Требуется провести анализ данных по клиентам и подготовить план действий по удержанию клиентов. Для проведения данного анализа необходимо вылнить следующие этапы работы:\n",
    "- спрогнозировать вероятность оттока (на уровне следующего месяца) для каждого клиента;\n",
    "- сформировать типичные портреты клиентов;\n",
    "- проанализировать основные признаки, влияющие на отток;\n",
    "- сформулировать основные выводы и разработать рекомендации по повышению качества работы с клиентами."
   ]
  },
  {
   "cell_type": "code",
   "execution_count": 1,
   "metadata": {},
   "outputs": [],
   "source": [
    "# Загрузим необходимые библиотеки для работы с таблицами, визуализации данных и машинного обучения:\n",
    "import pandas as pd\n",
    "import matplotlib.pyplot as plt \n",
    "import matplotlib.pyplot as mplt\n",
    "import numpy as np\n",
    "import seaborn as sns\n",
    "from sklearn.linear_model import LogisticRegression\n",
    "from sklearn.model_selection import train_test_split\n",
    "from sklearn import metrics\n",
    "from sklearn.ensemble import RandomForestClassifier\n",
    "from sklearn.preprocessing import StandardScaler\n",
    "from scipy.cluster.hierarchy import dendrogram, linkage\n",
    "from sklearn.cluster import KMeans\n",
    "from sklearn.metrics import accuracy_score, precision_score, recall_score\n",
    "import warnings\n",
    "warnings.simplefilter('ignore')"
   ]
  },
  {
   "cell_type": "markdown",
   "metadata": {},
   "source": [
    "Для анализа нам предоставлена информация о клиентах, которая содержит данные на месяц до оттока и факт оттока на определённый месяц, выгрузим её:"
   ]
  },
  {
   "cell_type": "code",
   "execution_count": 2,
   "metadata": {},
   "outputs": [
    {
     "data": {
      "text/html": [
       "<div>\n",
       "<style scoped>\n",
       "    .dataframe tbody tr th:only-of-type {\n",
       "        vertical-align: middle;\n",
       "    }\n",
       "\n",
       "    .dataframe tbody tr th {\n",
       "        vertical-align: top;\n",
       "    }\n",
       "\n",
       "    .dataframe thead th {\n",
       "        text-align: right;\n",
       "    }\n",
       "</style>\n",
       "<table border=\"1\" class=\"dataframe\">\n",
       "  <thead>\n",
       "    <tr style=\"text-align: right;\">\n",
       "      <th></th>\n",
       "      <th>gender</th>\n",
       "      <th>Near_Location</th>\n",
       "      <th>Partner</th>\n",
       "      <th>Promo_friends</th>\n",
       "      <th>Phone</th>\n",
       "      <th>Contract_period</th>\n",
       "      <th>Group_visits</th>\n",
       "      <th>Age</th>\n",
       "      <th>Avg_additional_charges_total</th>\n",
       "      <th>Month_to_end_contract</th>\n",
       "      <th>Lifetime</th>\n",
       "      <th>Avg_class_frequency_total</th>\n",
       "      <th>Avg_class_frequency_current_month</th>\n",
       "      <th>Churn</th>\n",
       "    </tr>\n",
       "  </thead>\n",
       "  <tbody>\n",
       "    <tr>\n",
       "      <th>0</th>\n",
       "      <td>1</td>\n",
       "      <td>1</td>\n",
       "      <td>1</td>\n",
       "      <td>1</td>\n",
       "      <td>0</td>\n",
       "      <td>6</td>\n",
       "      <td>1</td>\n",
       "      <td>29</td>\n",
       "      <td>14.227470</td>\n",
       "      <td>5.0</td>\n",
       "      <td>3</td>\n",
       "      <td>0.020398</td>\n",
       "      <td>0.000000</td>\n",
       "      <td>0</td>\n",
       "    </tr>\n",
       "    <tr>\n",
       "      <th>1</th>\n",
       "      <td>0</td>\n",
       "      <td>1</td>\n",
       "      <td>0</td>\n",
       "      <td>0</td>\n",
       "      <td>1</td>\n",
       "      <td>12</td>\n",
       "      <td>1</td>\n",
       "      <td>31</td>\n",
       "      <td>113.202938</td>\n",
       "      <td>12.0</td>\n",
       "      <td>7</td>\n",
       "      <td>1.922936</td>\n",
       "      <td>1.910244</td>\n",
       "      <td>0</td>\n",
       "    </tr>\n",
       "    <tr>\n",
       "      <th>2</th>\n",
       "      <td>0</td>\n",
       "      <td>1</td>\n",
       "      <td>1</td>\n",
       "      <td>0</td>\n",
       "      <td>1</td>\n",
       "      <td>1</td>\n",
       "      <td>0</td>\n",
       "      <td>28</td>\n",
       "      <td>129.448479</td>\n",
       "      <td>1.0</td>\n",
       "      <td>2</td>\n",
       "      <td>1.859098</td>\n",
       "      <td>1.736502</td>\n",
       "      <td>0</td>\n",
       "    </tr>\n",
       "    <tr>\n",
       "      <th>3</th>\n",
       "      <td>0</td>\n",
       "      <td>1</td>\n",
       "      <td>1</td>\n",
       "      <td>1</td>\n",
       "      <td>1</td>\n",
       "      <td>12</td>\n",
       "      <td>1</td>\n",
       "      <td>33</td>\n",
       "      <td>62.669863</td>\n",
       "      <td>12.0</td>\n",
       "      <td>2</td>\n",
       "      <td>3.205633</td>\n",
       "      <td>3.357215</td>\n",
       "      <td>0</td>\n",
       "    </tr>\n",
       "    <tr>\n",
       "      <th>4</th>\n",
       "      <td>1</td>\n",
       "      <td>1</td>\n",
       "      <td>1</td>\n",
       "      <td>1</td>\n",
       "      <td>1</td>\n",
       "      <td>1</td>\n",
       "      <td>0</td>\n",
       "      <td>26</td>\n",
       "      <td>198.362265</td>\n",
       "      <td>1.0</td>\n",
       "      <td>3</td>\n",
       "      <td>1.113884</td>\n",
       "      <td>1.120078</td>\n",
       "      <td>0</td>\n",
       "    </tr>\n",
       "  </tbody>\n",
       "</table>\n",
       "</div>"
      ],
      "text/plain": [
       "   gender  Near_Location  Partner  Promo_friends  Phone  Contract_period  \\\n",
       "0       1              1        1              1      0                6   \n",
       "1       0              1        0              0      1               12   \n",
       "2       0              1        1              0      1                1   \n",
       "3       0              1        1              1      1               12   \n",
       "4       1              1        1              1      1                1   \n",
       "\n",
       "   Group_visits  Age  Avg_additional_charges_total  Month_to_end_contract  \\\n",
       "0             1   29                     14.227470                    5.0   \n",
       "1             1   31                    113.202938                   12.0   \n",
       "2             0   28                    129.448479                    1.0   \n",
       "3             1   33                     62.669863                   12.0   \n",
       "4             0   26                    198.362265                    1.0   \n",
       "\n",
       "   Lifetime  Avg_class_frequency_total  Avg_class_frequency_current_month  \\\n",
       "0         3                   0.020398                           0.000000   \n",
       "1         7                   1.922936                           1.910244   \n",
       "2         2                   1.859098                           1.736502   \n",
       "3         2                   3.205633                           3.357215   \n",
       "4         3                   1.113884                           1.120078   \n",
       "\n",
       "   Churn  \n",
       "0      0  \n",
       "1      0  \n",
       "2      0  \n",
       "3      0  \n",
       "4      0  "
      ]
     },
     "metadata": {},
     "output_type": "display_data"
    },
    {
     "name": "stdout",
     "output_type": "stream",
     "text": [
      "<class 'pandas.core.frame.DataFrame'>\n",
      "RangeIndex: 4000 entries, 0 to 3999\n",
      "Data columns (total 14 columns):\n",
      " #   Column                             Non-Null Count  Dtype  \n",
      "---  ------                             --------------  -----  \n",
      " 0   gender                             4000 non-null   int64  \n",
      " 1   Near_Location                      4000 non-null   int64  \n",
      " 2   Partner                            4000 non-null   int64  \n",
      " 3   Promo_friends                      4000 non-null   int64  \n",
      " 4   Phone                              4000 non-null   int64  \n",
      " 5   Contract_period                    4000 non-null   int64  \n",
      " 6   Group_visits                       4000 non-null   int64  \n",
      " 7   Age                                4000 non-null   int64  \n",
      " 8   Avg_additional_charges_total       4000 non-null   float64\n",
      " 9   Month_to_end_contract              4000 non-null   float64\n",
      " 10  Lifetime                           4000 non-null   int64  \n",
      " 11  Avg_class_frequency_total          4000 non-null   float64\n",
      " 12  Avg_class_frequency_current_month  4000 non-null   float64\n",
      " 13  Churn                              4000 non-null   int64  \n",
      "dtypes: float64(4), int64(10)\n",
      "memory usage: 437.6 KB\n"
     ]
    }
   ],
   "source": [
    "data = pd.read_csv('/datasets/gym_churn.csv')\n",
    "display(data.head(5))\n",
    "data.info()"
   ]
  },
  {
   "cell_type": "markdown",
   "metadata": {},
   "source": [
    "В таблице 4000 строк (каждая строка - информация о клиенте) и 14 столбцов (13 признаков клиента и 1 целевая переменная - остался клиент[0] через месяц или ушёл[1]). В столбцах хранится следующая информация:\n",
    "- `gender` — пол;\n",
    "- `Near_Location` — проживание или работа в районе, где находится фитнес-центр;\n",
    "- `Partner` — сотрудник компании-партнёра клуба (сотрудничество с компаниями, чьи сотрудники могут получать скидки на абонемент — в таком случае фитнес-центр хранит информацию о работодателе клиента);\n",
    "- `Promo_friends` — факт первоначальной записи в рамках акции «приведи друга» (использовал промо-код от знакомого при оплате первого абонемента);\n",
    "- `Phone` — наличие контактного телефона;\n",
    "- `Age` — возраст;\n",
    "- `Lifetime` — время с момента первого обращения в фитнес-центр (в месяцах).\n",
    "- `Contract_period` — длительность текущего действующего абонемента (месяц, 6 месяцев, год);\n",
    "- `Month_to_end_contract` — срок до окончания текущего действующего абонемента (в месяцах);\n",
    "- `Group_visits` — факт посещения групповых занятий;\n",
    "- `Avg_class_frequency_total` — средняя частота посещений в неделю за все время с начала действия абонемента;\n",
    "- `Avg_class_frequency_current_month` — средняя частота посещений в неделю за предыдущий месяц;\n",
    "- `Avg_additional_charges_total` — суммарная выручка от других услуг фитнес-центра: кафе, спорттовары, косметический и массажный салон."
   ]
  },
  {
   "cell_type": "code",
   "execution_count": 3,
   "metadata": {},
   "outputs": [
    {
     "data": {
      "text/plain": [
       "('Количество дубликатов:', 0)"
      ]
     },
     "execution_count": 3,
     "metadata": {},
     "output_type": "execute_result"
    }
   ],
   "source": [
    "# Проверим на дубликаты:\n",
    "'Количество дубликатов:', data.duplicated().sum()"
   ]
  },
  {
   "cell_type": "code",
   "execution_count": 4,
   "metadata": {},
   "outputs": [],
   "source": [
    "# Приведём названия столбцов к нижнему регистру:\n",
    "data.columns = data.columns.str.lower() "
   ]
  },
  {
   "cell_type": "markdown",
   "metadata": {},
   "source": [
    "В таблице 15 столбцов, 11 принадлежат типу int, 4 - float. Дубликатов и пропусков в данных не обнаружено, типы данных корректны. Названия столбцов приведены к нижнему регистру.\n",
    "\n",
    "Категориальные признаки отсутствуют, поэтому необходимости дополнительно обрабатывать нет."
   ]
  },
  {
   "cell_type": "markdown",
   "metadata": {},
   "source": [
    "## Проведение исследовательского анализа данных (EDA)"
   ]
  },
  {
   "cell_type": "markdown",
   "metadata": {},
   "source": [
    "### Анализ статистических данных"
   ]
  },
  {
   "cell_type": "code",
   "execution_count": 5,
   "metadata": {
    "scrolled": true
   },
   "outputs": [
    {
     "data": {
      "image/png": "[encoded data removed]",
      "text/plain": [
       "<Figure size 720x360 with 1 Axes>"
      ]
     },
     "metadata": {
      "needs_background": "light"
     },
     "output_type": "display_data"
    }
   ],
   "source": [
    "# Посмотрим, как распределяется целевая категория:\n",
    "fig = plt.figure(figsize=(10, 5))\n",
    "ax = sns.countplot(y='churn', data=data, alpha=0.8)\n",
    "total = data.shape[0]\n",
    "ax.grid(b=True, color='black', linestyle=':', axis='x', dashes=(1,5), alpha=0.5)\n",
    "ax.set_title('Распределение оттока пользователей')\n",
    "\n",
    "for p in ax.patches:\n",
    "    percentage = '{:.1f}%'.format(100 * p.get_width() / total)\n",
    "    x = p.get_x() + p.get_width()\n",
    "    y = p.get_y() + p.get_height() / 2\n",
    "    ax.annotate(percentage, (x, y))\n",
    "\n",
    "ax.set_xlabel('Количество пользователей')\n",
    "ax.set_ylabel('Отток пользователей')\n",
    "plt.legend(['Оттока НЕТ'])\n",
    "\n",
    "plt.show()"
   ]
  },
  {
   "cell_type": "markdown",
   "metadata": {},
   "source": [
    "Видим, что чуть более четверти (26,5%) клиентов покинула фитнес-центры в течение одного месяца. Это довольно большая доля. Чтобы понять причину оттока посмотрим на статистические данные и распределение признаков для тех, кто ушёл (отток) и тех, кто остался (не попали в отток)."
   ]
  },
  {
   "cell_type": "code",
   "execution_count": 6,
   "metadata": {
    "scrolled": true
   },
   "outputs": [
    {
     "data": {
      "text/html": [
       "<div>\n",
       "<style scoped>\n",
       "    .dataframe tbody tr th:only-of-type {\n",
       "        vertical-align: middle;\n",
       "    }\n",
       "\n",
       "    .dataframe tbody tr th {\n",
       "        vertical-align: top;\n",
       "    }\n",
       "\n",
       "    .dataframe thead th {\n",
       "        text-align: right;\n",
       "    }\n",
       "</style>\n",
       "<table border=\"1\" class=\"dataframe\">\n",
       "  <thead>\n",
       "    <tr style=\"text-align: right;\">\n",
       "      <th></th>\n",
       "      <th>count</th>\n",
       "      <th>mean</th>\n",
       "      <th>std</th>\n",
       "      <th>min</th>\n",
       "      <th>25%</th>\n",
       "      <th>50%</th>\n",
       "      <th>75%</th>\n",
       "      <th>max</th>\n",
       "    </tr>\n",
       "  </thead>\n",
       "  <tbody>\n",
       "    <tr>\n",
       "      <th>gender</th>\n",
       "      <td>4000.0</td>\n",
       "      <td>0.510250</td>\n",
       "      <td>0.499957</td>\n",
       "      <td>0.000000</td>\n",
       "      <td>0.000000</td>\n",
       "      <td>1.000000</td>\n",
       "      <td>1.000000</td>\n",
       "      <td>1.000000</td>\n",
       "    </tr>\n",
       "    <tr>\n",
       "      <th>near_location</th>\n",
       "      <td>4000.0</td>\n",
       "      <td>0.845250</td>\n",
       "      <td>0.361711</td>\n",
       "      <td>0.000000</td>\n",
       "      <td>1.000000</td>\n",
       "      <td>1.000000</td>\n",
       "      <td>1.000000</td>\n",
       "      <td>1.000000</td>\n",
       "    </tr>\n",
       "    <tr>\n",
       "      <th>partner</th>\n",
       "      <td>4000.0</td>\n",
       "      <td>0.486750</td>\n",
       "      <td>0.499887</td>\n",
       "      <td>0.000000</td>\n",
       "      <td>0.000000</td>\n",
       "      <td>0.000000</td>\n",
       "      <td>1.000000</td>\n",
       "      <td>1.000000</td>\n",
       "    </tr>\n",
       "    <tr>\n",
       "      <th>promo_friends</th>\n",
       "      <td>4000.0</td>\n",
       "      <td>0.308500</td>\n",
       "      <td>0.461932</td>\n",
       "      <td>0.000000</td>\n",
       "      <td>0.000000</td>\n",
       "      <td>0.000000</td>\n",
       "      <td>1.000000</td>\n",
       "      <td>1.000000</td>\n",
       "    </tr>\n",
       "    <tr>\n",
       "      <th>phone</th>\n",
       "      <td>4000.0</td>\n",
       "      <td>0.903500</td>\n",
       "      <td>0.295313</td>\n",
       "      <td>0.000000</td>\n",
       "      <td>1.000000</td>\n",
       "      <td>1.000000</td>\n",
       "      <td>1.000000</td>\n",
       "      <td>1.000000</td>\n",
       "    </tr>\n",
       "    <tr>\n",
       "      <th>contract_period</th>\n",
       "      <td>4000.0</td>\n",
       "      <td>4.681250</td>\n",
       "      <td>4.549706</td>\n",
       "      <td>1.000000</td>\n",
       "      <td>1.000000</td>\n",
       "      <td>1.000000</td>\n",
       "      <td>6.000000</td>\n",
       "      <td>12.000000</td>\n",
       "    </tr>\n",
       "    <tr>\n",
       "      <th>group_visits</th>\n",
       "      <td>4000.0</td>\n",
       "      <td>0.412250</td>\n",
       "      <td>0.492301</td>\n",
       "      <td>0.000000</td>\n",
       "      <td>0.000000</td>\n",
       "      <td>0.000000</td>\n",
       "      <td>1.000000</td>\n",
       "      <td>1.000000</td>\n",
       "    </tr>\n",
       "    <tr>\n",
       "      <th>age</th>\n",
       "      <td>4000.0</td>\n",
       "      <td>29.184250</td>\n",
       "      <td>3.258367</td>\n",
       "      <td>18.000000</td>\n",
       "      <td>27.000000</td>\n",
       "      <td>29.000000</td>\n",
       "      <td>31.000000</td>\n",
       "      <td>41.000000</td>\n",
       "    </tr>\n",
       "    <tr>\n",
       "      <th>avg_additional_charges_total</th>\n",
       "      <td>4000.0</td>\n",
       "      <td>146.943728</td>\n",
       "      <td>96.355602</td>\n",
       "      <td>0.148205</td>\n",
       "      <td>68.868830</td>\n",
       "      <td>136.220159</td>\n",
       "      <td>210.949625</td>\n",
       "      <td>552.590740</td>\n",
       "    </tr>\n",
       "    <tr>\n",
       "      <th>month_to_end_contract</th>\n",
       "      <td>4000.0</td>\n",
       "      <td>4.322750</td>\n",
       "      <td>4.191297</td>\n",
       "      <td>1.000000</td>\n",
       "      <td>1.000000</td>\n",
       "      <td>1.000000</td>\n",
       "      <td>6.000000</td>\n",
       "      <td>12.000000</td>\n",
       "    </tr>\n",
       "    <tr>\n",
       "      <th>lifetime</th>\n",
       "      <td>4000.0</td>\n",
       "      <td>3.724750</td>\n",
       "      <td>3.749267</td>\n",
       "      <td>0.000000</td>\n",
       "      <td>1.000000</td>\n",
       "      <td>3.000000</td>\n",
       "      <td>5.000000</td>\n",
       "      <td>31.000000</td>\n",
       "    </tr>\n",
       "    <tr>\n",
       "      <th>avg_class_frequency_total</th>\n",
       "      <td>4000.0</td>\n",
       "      <td>1.879020</td>\n",
       "      <td>0.972245</td>\n",
       "      <td>0.000000</td>\n",
       "      <td>1.180875</td>\n",
       "      <td>1.832768</td>\n",
       "      <td>2.536078</td>\n",
       "      <td>6.023668</td>\n",
       "    </tr>\n",
       "    <tr>\n",
       "      <th>avg_class_frequency_current_month</th>\n",
       "      <td>4000.0</td>\n",
       "      <td>1.767052</td>\n",
       "      <td>1.052906</td>\n",
       "      <td>0.000000</td>\n",
       "      <td>0.963003</td>\n",
       "      <td>1.719574</td>\n",
       "      <td>2.510336</td>\n",
       "      <td>6.146783</td>\n",
       "    </tr>\n",
       "    <tr>\n",
       "      <th>churn</th>\n",
       "      <td>4000.0</td>\n",
       "      <td>0.265250</td>\n",
       "      <td>0.441521</td>\n",
       "      <td>0.000000</td>\n",
       "      <td>0.000000</td>\n",
       "      <td>0.000000</td>\n",
       "      <td>1.000000</td>\n",
       "      <td>1.000000</td>\n",
       "    </tr>\n",
       "  </tbody>\n",
       "</table>\n",
       "</div>"
      ],
      "text/plain": [
       "                                    count        mean        std        min  \\\n",
       "gender                             4000.0    0.510250   0.499957   0.000000   \n",
       "near_location                      4000.0    0.845250   0.361711   0.000000   \n",
       "partner                            4000.0    0.486750   0.499887   0.000000   \n",
       "promo_friends                      4000.0    0.308500   0.461932   0.000000   \n",
       "phone                              4000.0    0.903500   0.295313   0.000000   \n",
       "contract_period                    4000.0    4.681250   4.549706   1.000000   \n",
       "group_visits                       4000.0    0.412250   0.492301   0.000000   \n",
       "age                                4000.0   29.184250   3.258367  18.000000   \n",
       "avg_additional_charges_total       4000.0  146.943728  96.355602   0.148205   \n",
       "month_to_end_contract              4000.0    4.322750   4.191297   1.000000   \n",
       "lifetime                           4000.0    3.724750   3.749267   0.000000   \n",
       "avg_class_frequency_total          4000.0    1.879020   0.972245   0.000000   \n",
       "avg_class_frequency_current_month  4000.0    1.767052   1.052906   0.000000   \n",
       "churn                              4000.0    0.265250   0.441521   0.000000   \n",
       "\n",
       "                                         25%         50%         75%  \\\n",
       "gender                              0.000000    1.000000    1.000000   \n",
       "near_location                       1.000000    1.000000    1.000000   \n",
       "partner                             0.000000    0.000000    1.000000   \n",
       "promo_friends                       0.000000    0.000000    1.000000   \n",
       "phone                               1.000000    1.000000    1.000000   \n",
       "contract_period                     1.000000    1.000000    6.000000   \n",
       "group_visits                        0.000000    0.000000    1.000000   \n",
       "age                                27.000000   29.000000   31.000000   \n",
       "avg_additional_charges_total       68.868830  136.220159  210.949625   \n",
       "month_to_end_contract               1.000000    1.000000    6.000000   \n",
       "lifetime                            1.000000    3.000000    5.000000   \n",
       "avg_class_frequency_total           1.180875    1.832768    2.536078   \n",
       "avg_class_frequency_current_month   0.963003    1.719574    2.510336   \n",
       "churn                               0.000000    0.000000    1.000000   \n",
       "\n",
       "                                          max  \n",
       "gender                               1.000000  \n",
       "near_location                        1.000000  \n",
       "partner                              1.000000  \n",
       "promo_friends                        1.000000  \n",
       "phone                                1.000000  \n",
       "contract_period                     12.000000  \n",
       "group_visits                         1.000000  \n",
       "age                                 41.000000  \n",
       "avg_additional_charges_total       552.590740  \n",
       "month_to_end_contract               12.000000  \n",
       "lifetime                            31.000000  \n",
       "avg_class_frequency_total            6.023668  \n",
       "avg_class_frequency_current_month    6.146783  \n",
       "churn                                1.000000  "
      ]
     },
     "execution_count": 6,
     "metadata": {},
     "output_type": "execute_result"
    }
   ],
   "source": [
    "# Посмотрим на статистические характеристики данных:\n",
    "describe = data.describe().T\n",
    "describe"
   ]
  },
  {
   "cell_type": "markdown",
   "metadata": {},
   "source": [
    "Видим существенные отклонения медианы от средего по следующим метрикам:\n",
    "- **contract_period**\t(срок действующего абонемента) составляет всего 1 месяц для медианы и почти 5 месяцев для среднего значения. \n",
    "- **month_to_end_contract** (срок до окончания абонемента) составляет всего 1 месяц для медианы и более 4х месяцев для среднего значения. \n",
    "- **lifetime** (количество месяцев посещения клуба) составляет 3 месяца для медианы и почти 4 месяца для среднего значения. \n",
    "- **avg_additional_charges_total** (суммарная выручка клуба от прочих услуг) составляет 136 д.е. для медианы и на 10 д.е.больше для среднего значения. \n",
    "\n",
    "Превышение среднего надо медианой свидетельствует о том, что вт данных метриках присутствуют значения-выбросы, которые искажают среднее в бОльшую сторону. Вероятно целесообразно будет в дальнейшем для целей прогноза избавиться от данных выбросов."
   ]
  },
  {
   "cell_type": "markdown",
   "metadata": {},
   "source": [
    "### Средние значения признаков в двух группах"
   ]
  },
  {
   "cell_type": "code",
   "execution_count": 7,
   "metadata": {},
   "outputs": [
    {
     "data": {
      "text/html": [
       "<div>\n",
       "<style scoped>\n",
       "    .dataframe tbody tr th:only-of-type {\n",
       "        vertical-align: middle;\n",
       "    }\n",
       "\n",
       "    .dataframe tbody tr th {\n",
       "        vertical-align: top;\n",
       "    }\n",
       "\n",
       "    .dataframe thead th {\n",
       "        text-align: right;\n",
       "    }\n",
       "</style>\n",
       "<table border=\"1\" class=\"dataframe\">\n",
       "  <thead>\n",
       "    <tr style=\"text-align: right;\">\n",
       "      <th>churn</th>\n",
       "      <th>0</th>\n",
       "      <th>1</th>\n",
       "    </tr>\n",
       "  </thead>\n",
       "  <tbody>\n",
       "    <tr>\n",
       "      <th>gender</th>\n",
       "      <td>0.51</td>\n",
       "      <td>0.51</td>\n",
       "    </tr>\n",
       "    <tr>\n",
       "      <th>near_location</th>\n",
       "      <td>0.87</td>\n",
       "      <td>0.77</td>\n",
       "    </tr>\n",
       "    <tr>\n",
       "      <th>partner</th>\n",
       "      <td>0.53</td>\n",
       "      <td>0.36</td>\n",
       "    </tr>\n",
       "    <tr>\n",
       "      <th>promo_friends</th>\n",
       "      <td>0.35</td>\n",
       "      <td>0.18</td>\n",
       "    </tr>\n",
       "    <tr>\n",
       "      <th>phone</th>\n",
       "      <td>0.90</td>\n",
       "      <td>0.90</td>\n",
       "    </tr>\n",
       "    <tr>\n",
       "      <th>contract_period</th>\n",
       "      <td>5.75</td>\n",
       "      <td>1.73</td>\n",
       "    </tr>\n",
       "    <tr>\n",
       "      <th>group_visits</th>\n",
       "      <td>0.46</td>\n",
       "      <td>0.27</td>\n",
       "    </tr>\n",
       "    <tr>\n",
       "      <th>age</th>\n",
       "      <td>29.98</td>\n",
       "      <td>26.99</td>\n",
       "    </tr>\n",
       "    <tr>\n",
       "      <th>avg_additional_charges_total</th>\n",
       "      <td>158.45</td>\n",
       "      <td>115.08</td>\n",
       "    </tr>\n",
       "    <tr>\n",
       "      <th>month_to_end_contract</th>\n",
       "      <td>5.28</td>\n",
       "      <td>1.66</td>\n",
       "    </tr>\n",
       "    <tr>\n",
       "      <th>lifetime</th>\n",
       "      <td>4.71</td>\n",
       "      <td>0.99</td>\n",
       "    </tr>\n",
       "    <tr>\n",
       "      <th>avg_class_frequency_total</th>\n",
       "      <td>2.02</td>\n",
       "      <td>1.47</td>\n",
       "    </tr>\n",
       "    <tr>\n",
       "      <th>avg_class_frequency_current_month</th>\n",
       "      <td>2.03</td>\n",
       "      <td>1.04</td>\n",
       "    </tr>\n",
       "  </tbody>\n",
       "</table>\n",
       "</div>"
      ],
      "text/plain": [
       "churn                                   0       1\n",
       "gender                               0.51    0.51\n",
       "near_location                        0.87    0.77\n",
       "partner                              0.53    0.36\n",
       "promo_friends                        0.35    0.18\n",
       "phone                                0.90    0.90\n",
       "contract_period                      5.75    1.73\n",
       "group_visits                         0.46    0.27\n",
       "age                                 29.98   26.99\n",
       "avg_additional_charges_total       158.45  115.08\n",
       "month_to_end_contract                5.28    1.66\n",
       "lifetime                             4.71    0.99\n",
       "avg_class_frequency_total            2.02    1.47\n",
       "avg_class_frequency_current_month    2.03    1.04"
      ]
     },
     "execution_count": 7,
     "metadata": {},
     "output_type": "execute_result"
    }
   ],
   "source": [
    "# Посмотрим на средние значения признаков в двух группах — тех, кто ушел в отток и тех, кто остался:\n",
    "data.groupby('churn').mean().round(2).T"
   ]
  },
  {
   "cell_type": "markdown",
   "metadata": {},
   "source": [
    "Если сравнить средние значения признаков в двух группах — тех, кто ушел в отток и тех, кто остался, то заметим следующее:\n",
    "- **lifetime** - те кто ушли, посещали клуб менее месяца в то время как те, кто остался, посещали клуб почти 5 месяцев. Это может свидетельствовать о том, что клиенты покупали пробный абонемент на 1 мес и клуб им не понравился;\n",
    "- **contract_period** - срок действия абонементов клентов, которые перестали посещать клуб, в среднем составлял меньше 2 месяцев, а абонементы тех, кто продолжает посещать клуб, покупалтсь в среднем почти на 6 мес;\n",
    "- **month_to_end_contract** - срок действия абонементов клиентов, бросивших клуб, истекал менее, чем через 2 месяца, а у тех, кто продолжает заниматься, остается в среднем более 5 месяцев до окончания срока действия абонемента;  \n",
    "- **avg_class_frequency_current_month** - те, кто ушли, в среднем посещали клуб в предыдущем месяце всего 1 раз в неделю, а те, кто остался, посещали в 2 раза чаще;\n",
    "- **promo_friends** - среди тех, кто ушел, на 17% меньше доля клиентов, пришедших в рамках акции «приведи друга»;\n",
    "- **group_visits** - также среди тех, кто ушел, на 19% меньше доля клиентов, посещающих групповые занятия;\n",
    "- **partner** - среди оставшихся на 17% больше клиентов, которые пришли по программе компаний-партнёров клуба;\n",
    "- **avg_additional_charges_total** - суммарная выручка от других услуг фитнес-центра на 43 руб больше у тех, кто остался в клубе, вероятно, их лояльность подкреплена тем, что клиенты довольны работой кафе/спорттоварами/косметическими или массажными салонами;\n",
    "- **avg_class_frequency_total** - те, кто ушли, в среднем посещали клуб за весь период действия их абонементов всего 1,5 раза в неделю, а те, кто остался, посещали 2 раза; \n",
    "- **near_location** - среди тех, кто ушел, на 10% меньше доля клиентов, проживающих/раотающих поблизости от клуба;\n",
    "- **age** - те, кто ушел из клуба, в среднем на 3 года моложе тех, кто остался."
   ]
  },
  {
   "cell_type": "markdown",
   "metadata": {},
   "source": [
    "Видим, что **gender** (пол), а также **phone** (наличие контактного телефона) никак не влияют на отток. "
   ]
  },
  {
   "cell_type": "markdown",
   "metadata": {},
   "source": [
    "### Столбчатые гистограммы и распределения признаков для двух групп"
   ]
  },
  {
   "cell_type": "code",
   "execution_count": 8,
   "metadata": {
    "scrolled": true
   },
   "outputs": [
    {
     "data": {
      "image/png": "[encoded data removed]",
      "text/plain": [
       "<Figure size 432x288 with 1 Axes>"
      ]
     },
     "metadata": {},
     "output_type": "display_data"
    },
    {
     "data": {
      "image/png": "[encoded data removed]",
      "text/plain": [
       "<Figure size 432x288 with 1 Axes>"
      ]
     },
     "metadata": {},
     "output_type": "display_data"
    },
    {
     "data": {
      "image/png": "[encoded data removed]",
      "text/plain": [
       "<Figure size 432x288 with 1 Axes>"
      ]
     },
     "metadata": {},
     "output_type": "display_data"
    },
    {
     "data": {
      "image/png": "[encoded data removed]",
      "text/plain": [
       "<Figure size 432x288 with 1 Axes>"
      ]
     },
     "metadata": {},
     "output_type": "display_data"
    }
   ],
   "source": [
    "# для визуализации при построении графиков разделим признаки на дискретные, непрерывные и булевые:\n",
    "\n",
    "continuous = ['avg_additional_charges_total','avg_class_frequency_current_month', 'avg_class_frequency_total']\n",
    "discrete = ['age','lifetime','month_to_end_contract','contract_period']\n",
    "boolean = ['gender', 'group_visits', 'partner','near_location', 'promo_friends', 'phone']\n",
    " \n",
    "\n",
    "for column in discrete:\n",
    "    for churn in range(0, 2):\n",
    "        sns.set(style=\"white\", palette=\"bright\")\n",
    "        ax = sns.distplot(data.query('churn == @churn')[column],\n",
    "                          kde=False,\n",
    "                          label=('Отток {}'.format(bool(churn))))\n",
    "        ax.legend()\n",
    "    plt.show()"
   ]
  },
  {
   "cell_type": "code",
   "execution_count": 9,
   "metadata": {
    "scrolled": true
   },
   "outputs": [
    {
     "data": {
      "image/png": "[encoded data removed]",
      "text/plain": [
       "<Figure size 432x288 with 1 Axes>"
      ]
     },
     "metadata": {},
     "output_type": "display_data"
    },
    {
     "data": {
      "image/png": "[encoded data removed]",
      "text/plain": [
       "<Figure size 432x288 with 1 Axes>"
      ]
     },
     "metadata": {},
     "output_type": "display_data"
    },
    {
     "data": {
      "image/png": "[encoded data removed]",
      "text/plain": [
       "<Figure size 432x288 with 1 Axes>"
      ]
     },
     "metadata": {},
     "output_type": "display_data"
    }
   ],
   "source": [
    "for column in continuous:\n",
    "    for churn in range(0, 2):\n",
    "        sns.set(style=\"white\", palette=\"bright\")\n",
    "        ax = sns.distplot(data.query('churn == @churn')[column], hist=False, kde_kws={\"shade\": True},\n",
    "                         label=('Отток {}'.format(bool(churn))))\n",
    "        ax.legend()\n",
    "        plt.title(column)\n",
    "\n",
    "    plt.show()"
   ]
  },
  {
   "cell_type": "code",
   "execution_count": 10,
   "metadata": {
    "scrolled": true
   },
   "outputs": [
    {
     "data": {
      "image/png": "[encoded data removed]",
      "text/plain": [
       "<Figure size 432x288 with 1 Axes>"
      ]
     },
     "metadata": {},
     "output_type": "display_data"
    },
    {
     "data": {
      "image/png": "[encoded data removed]",
      "text/plain": [
       "<Figure size 432x288 with 1 Axes>"
      ]
     },
     "metadata": {},
     "output_type": "display_data"
    },
    {
     "data": {
      "image/png": "[encoded data removed]",
      "text/plain": [
       "<Figure size 432x288 with 1 Axes>"
      ]
     },
     "metadata": {},
     "output_type": "display_data"
    },
    {
     "data": {
      "image/png": "[encoded data removed]",
      "text/plain": [
       "<Figure size 432x288 with 1 Axes>"
      ]
     },
     "metadata": {},
     "output_type": "display_data"
    },
    {
     "data": {
      "image/png": "[encoded data removed]",
      "text/plain": [
       "<Figure size 432x288 with 1 Axes>"
      ]
     },
     "metadata": {},
     "output_type": "display_data"
    },
    {
     "data": {
      "image/png": "[encoded data removed]",
      "text/plain": [
       "<Figure size 432x288 with 1 Axes>"
      ]
     },
     "metadata": {},
     "output_type": "display_data"
    }
   ],
   "source": [
    "for column in boolean:\n",
    "    for churn in range(0, 2):\n",
    "        ax = data.query('churn == @churn')[column].value_counts().plot(\n",
    "            kind='bar',alpha=(churn+1)/2, label=('Отток {}'.format(bool(churn))))\n",
    "        plt.title(column)\n",
    "        ax.legend()\n",
    "    plt.show()"
   ]
  },
  {
   "cell_type": "markdown",
   "metadata": {},
   "source": [
    "Графики наглядно подтвердили, то что ранее было определено по средним значениям."
   ]
  },
  {
   "cell_type": "markdown",
   "metadata": {},
   "source": [
    "### Матрица корреляций"
   ]
  },
  {
   "cell_type": "markdown",
   "metadata": {},
   "source": [
    "Оценим линейную взаимосвязь между всеми признаками и целевой переменной попарно - посчитаем коэффициенты корреляции и построим тепловую карту:"
   ]
  },
  {
   "cell_type": "code",
   "execution_count": 11,
   "metadata": {},
   "outputs": [
    {
     "data": {
      "image/png": "[encoded data removed]",
      "text/plain": [
       "<Figure size 720x576 with 2 Axes>"
      ]
     },
     "metadata": {},
     "output_type": "display_data"
    }
   ],
   "source": [
    "plt.figure(figsize=(10, 8))\n",
    "plt.title('Корреляционная матрица признаков и целевой переменной клиентов фитнес-центров')\n",
    "sns.heatmap(data.corr(), annot = True, fmt='.2f')\n",
    "plt.show()"
   ]
  },
  {
   "cell_type": "markdown",
   "metadata": {},
   "source": [
    "Из матрицы корреляции видим следущее:<br>\n",
    "\n",
    "**1.** Все корреляции с целевой переменной в матрице ОТРИЦАТЕЛЬНЫЕ.<br>\n",
    "\n",
    "**2.** Очень сильных корреляций по матрице не наблюдается, но самые высокие значения среди корреляций признаков с целевой переменной следующие:\n",
    "- **lifetime** - корреляция составляет -0,44: чем дольше клиент ходит в центр - тем ниже вероятность оттока;\n",
    "- **avg_class_frequency_current_month** - корреляция составляет -0,41: чем чаще в неделю клиент посещал занятия в предыдущем месяце, тем чем ниже вероятность его оттока;\n",
    "- **age** - корреляция составляет -0,40: чем старше клиент, тем ниже вероятность оттока;\n",
    "- **contract_period** - корреляция составляет -0,39: чем больше срок купленного абонемента, тем меньше вероятность оттока;\n",
    "- **month_to_end_contract** - корреляция составляет -0,38: чем больше количество месяцев, оставшихся до окончания контракта, тем меньше веротяность оттока.\n",
    "\n",
    "**3.** Остальные признаки практически не влияют на целевую переменную, а у признаков **gender** и **phone** нет не только взаимосвязи с целевой переменной, но и с другими признаками. Поскольку данных у нас немного, исключать незначимые признаки все же пока не будем.\n",
    "\n",
    "**4.** Самые высокие значение среди корреляций признаков между собой следующие:\n",
    "\n",
    "- Положительно коррелирует (0,97) **contract_period** (срок абонемента) и **month_to_end_contract** (количество месяцев, оставшихся до окончания абонемента), что логично, т.к.чем больше срок абонемента, тем выше вероятность, что больше времени осталось до конца его действия;\n",
    "- Положительно коррелирует (0,45) **partner** (партнёрская программа) и **promo_friends** (акция приведи друга). Возможно, эти акции клиенты совмещают;\n",
    "- Положительно коррелирует (0,31) **contract_period** (срок абонемента) и **partner**. У клиентов партнёрской программы периоды контракта выше;\n",
    "- Положительно коррелирует (0,24) **contract_period** и **promo_friends**. У людей, пришедших по акции, периода контракта дольше."
   ]
  },
  {
   "cell_type": "markdown",
   "metadata": {},
   "source": [
    "Итак мы определились с признаками, которые могут влиять на целевую метрику. Теперь нужно найти лучший алгоритм."
   ]
  },
  {
   "cell_type": "markdown",
   "metadata": {},
   "source": [
    "## Модель прогнозирования оттока клиентов"
   ]
  },
  {
   "cell_type": "markdown",
   "metadata": {},
   "source": [
    "Нам необходимо построить модель бинарной классификации клиентов, где целевой признак — факт оттока клиента в следующем месяце.  Прогноз оттока клиентов является задачей бинарной классификации - на основании признаков клиента мы будем относить его либо к тем, кто уйдёт из фитнес-центра через месяц, либо к тем, кто останется. Для решения этой задачи построим две модели:<br> \n",
    "- на основании алгоритма логистической регрессии (LogisticRegression);\n",
    "- на алгоритме случайного леса (RandomForestClassifier). \n",
    "\n",
    "Затем сравним, какая модель справляется лучше с задачей."
   ]
  },
  {
   "cell_type": "markdown",
   "metadata": {},
   "source": [
    "### Разделение на обучающую и валидационную выборку"
   ]
  },
  {
   "cell_type": "code",
   "execution_count": 12,
   "metadata": {},
   "outputs": [],
   "source": [
    "# разделим данные в таблице data на признаки (X) и целевую переменную (y):\n",
    "X = data.drop('churn', axis = 1)\n",
    "y = data['churn']"
   ]
  },
  {
   "cell_type": "code",
   "execution_count": 13,
   "metadata": {},
   "outputs": [],
   "source": [
    "# разделяем модель на обучающую и валидационную выборку в соотношении 80/20%:\n",
    "X_train, X_test, y_train, y_test = train_test_split(X, y, test_size=0.2, random_state=0)"
   ]
  },
  {
   "cell_type": "markdown",
   "metadata": {},
   "source": [
    "### Обучение модели двумя способами и сравнение результатов"
   ]
  },
  {
   "cell_type": "markdown",
   "metadata": {},
   "source": [
    "Для обучения модели LogisticRegression необходимо масштабировать признаки: привести их к стандартному виду (со средним 0 и стандартным отклонением 1). Для стандартизации признаков воспользуемся моделью StandardScaler, обучим её на обучающей выборке признаков, а затем масштабируем значения признаков в обучающей и валидационной выборке:"
   ]
  },
  {
   "cell_type": "code",
   "execution_count": 14,
   "metadata": {},
   "outputs": [],
   "source": [
    "# стандартизируем данные методом StandartScaler:\n",
    "scaler = StandardScaler()\n",
    "scaler.fit(X_train)\n",
    "X_train_st = scaler.transform(X_train)\n",
    "X_test_st = scaler.transform(X_test)"
   ]
  },
  {
   "cell_type": "markdown",
   "metadata": {},
   "source": [
    "Для сравнения качества прогноза двух моделей будем использовать четыре метрики:\n",
    "- **Матрица ошибок** — отображает количество верных прогнозов и количество неверных прогнозов. По матрице ошибок мы сможем оценить, есть ли у алгоритма перекос в сторону позитивного или негативного значения целевой перменной;\n",
    "- **Accuracy** (доля правильных ответов) — доля верно угаданных ответов из всех прогнозов, чем ближе значение accuracy к 100%, тем лучше;\n",
    "- **Precision** (точность) — доля правильных ответов модели в пределах класса, т.е. доля объектов действительно принадлежащих данному классу относительно всех объектов, которые система отнесла к этому классу;\n",
    "- **Recall** (полнота) — доля истинно положительных классификаций, которая показывает, какую долю объектов, реально относящихся к положительному классу, предсказала верно."
   ]
  },
  {
   "cell_type": "code",
   "execution_count": 15,
   "metadata": {},
   "outputs": [],
   "source": [
    "# напишем функцию обучения моделей:\n",
    "def confusion_matrix(model, model_name):\n",
    "    model.fit(X_train_st, y_train)\n",
    "    y_pred = model.predict(X_test_st)\n",
    "    cm = metrics.confusion_matrix(y_test, y_pred)\n",
    "    plt.figure(figsize=(8, 4))\n",
    "    sns.heatmap(cm, annot = True, fmt='.0f')\n",
    "    plt.title(f'Матрица ошибок модели {model_name}')\n",
    "    plt.xlabel('Прогноз модели')\n",
    "    plt.ylabel('Истинное значение')\n",
    "    plt.show()\n",
    "    print('Accuracy:', round(metrics.accuracy_score(y_test, y_pred), 2))\n",
    "    print('Precision:', round(metrics.precision_score(y_test, y_pred), 2))\n",
    "    print('Recall:', round(metrics.recall_score(y_test, y_pred), 2))"
   ]
  },
  {
   "cell_type": "code",
   "execution_count": 16,
   "metadata": {},
   "outputs": [
    {
     "data": {
      "image/png": "[encoded data removed]",
      "text/plain": [
       "<Figure size 576x288 with 2 Axes>"
      ]
     },
     "metadata": {},
     "output_type": "display_data"
    },
    {
     "name": "stdout",
     "output_type": "stream",
     "text": [
      "Accuracy: 0.92\n",
      "Precision: 0.85\n",
      "Recall: 0.83\n"
     ]
    }
   ],
   "source": [
    "# обучим модель LogisticRegression:\n",
    "confusion_matrix(LogisticRegression(random_state=0), 'LogisticRegression')"
   ]
  },
  {
   "cell_type": "markdown",
   "metadata": {},
   "source": [
    "- Модель логистической регрессии верно определила 574 оставшихся клиента и 164 ушедшего клиента, но ошиблась для 34 клиента, которые остались, и 28 клиента, которые ушли;\n",
    "- Доля правильных ответов составила 0,92;\n",
    "- Точность составила 0,85;\n",
    "- Полнота составила 0,83."
   ]
  },
  {
   "cell_type": "code",
   "execution_count": 17,
   "metadata": {
    "scrolled": true
   },
   "outputs": [
    {
     "data": {
      "image/png": "[encoded data removed]",
      "text/plain": [
       "<Figure size 576x288 with 2 Axes>"
      ]
     },
     "metadata": {},
     "output_type": "display_data"
    },
    {
     "name": "stdout",
     "output_type": "stream",
     "text": [
      "Accuracy: 0.92\n",
      "Precision: 0.84\n",
      "Recall: 0.81\n"
     ]
    }
   ],
   "source": [
    "# обучим модель случайного леса:\n",
    "confusion_matrix(RandomForestClassifier(n_estimators = 100, random_state=0), 'RandomForestClassifier')"
   ]
  },
  {
   "cell_type": "markdown",
   "metadata": {},
   "source": [
    "- Модель случайного леса верно определила 571 оставшихся клиента и 161 ушедшего клиента, но ошиблась для 37 клиента, которые остались, и 31 клиента, которые ушли;\n",
    "- Доля правильных ответов составила 0,92;\n",
    "- Точность составила 0,84;\n",
    "- Полнота составила 0,81."
   ]
  },
  {
   "cell_type": "markdown",
   "metadata": {},
   "source": [
    "**ВЫВОД:**<br>\n",
    "- Доля правильных ответов у обеих моделей одинакова;\n",
    "- Точность оказалась на 1% выше у модели логистической регрессии;\n",
    "- Полнота также оказалась на 2% выше у модели логистической регрессии. \n",
    "\n",
    "Анализ моделей бинарной классификации клиентов - логистической модели и модели случайного леса - показал лучшую точность логистической модели для составления прогноза. Поэтому видится целесообразным в будущем для прогноза оттока клиентов **использовать модель логистической регрессии.**"
   ]
  },
  {
   "cell_type": "markdown",
   "metadata": {},
   "source": [
    "## Кластеризация клиентов"
   ]
  },
  {
   "cell_type": "markdown",
   "metadata": {},
   "source": [
    "Чтобы оптимизировать маркетинговые активности необходимо выделить несколько наиболее ярких групп клиентов и определить их особенности, т.е. выполнить кластеризацию. Данную задачу можно выполнить с помощью следующих алгоритмов:\n",
    "\n",
    "- Агломеративная иерархическая кластеризация (не требует заранее заданного числа групп (кластеров));\n",
    "- K-Means (требует заранее заданное число кластеров).\n",
    "\n",
    "Воспользумеся обоими алгоритмами."
   ]
  },
  {
   "cell_type": "markdown",
   "metadata": {},
   "source": [
    "### Агломеративная иерархическая кластеризация"
   ]
  },
  {
   "cell_type": "markdown",
   "metadata": {},
   "source": [
    "Начнём с агломеративной иерархической кластеризации - пусть модель сама предложит количество кластеров и разделим по ним клиентов. Импортируем модель класса linkage() и передадим ей все стандартизированные признаки клиентов, затем визуализируем получившиеся связи между клиентами в виде дендрограммы:"
   ]
  },
  {
   "cell_type": "code",
   "execution_count": 18,
   "metadata": {},
   "outputs": [],
   "source": [
    "# обязательная стандартизация данных перед работой с алгоритмами\n",
    "sc = StandardScaler()\n",
    "X_sc = sc.fit_transform(X)\n",
    "\n",
    "linked = linkage(X_sc, method = 'ward') "
   ]
  },
  {
   "cell_type": "code",
   "execution_count": 19,
   "metadata": {
    "scrolled": false
   },
   "outputs": [
    {
     "data": {
      "image/png": "[encoded data removed]",
      "text/plain": [
       "<Figure size 1080x720 with 1 Axes>"
      ]
     },
     "metadata": {},
     "output_type": "display_data"
    }
   ],
   "source": [
    "mplt.figure(figsize=(15, 10))  \n",
    "dendrogram(linked, orientation='top')\n",
    "mplt.show() "
   ]
  },
  {
   "cell_type": "markdown",
   "metadata": {},
   "source": [
    "Предложенное оптимальное число кластеров 4 — по числу цветов на графике. В основании дендрограммы находятся все 4000 клиентов. Если двигаться по этому графику снизу (от клиентов) вверх, то клиенты будут объединяться сначала с другими наиболее похожими клиентами по парам или небольшим группам, затем группы будут объединяться между собой, пока не превратятся в одну, охватывающую всю выборку клиентов.\n",
    "\n",
    "По получившейся дендрограмме можно визуально оценить, сколько кластеров должно быть. Модель предложила 4 кластера, но также, как видно, можно разбить клиентов и на 5 кластеров. Как раз на такое количество кластеров разобьём клиентов алгоритмом K-Means."
   ]
  },
  {
   "cell_type": "markdown",
   "metadata": {},
   "source": [
    "### Обучение модели кластеризации (алгоритм K-Means) и прогноз кластеров клиентов"
   ]
  },
  {
   "cell_type": "markdown",
   "metadata": {},
   "source": [
    "Воспользуемся алгоритмом K-Means и разделим клиентов на заранее определённое число кластеров - 5. Создадим модель и применим её к стандартизированным признакам:"
   ]
  },
  {
   "cell_type": "code",
   "execution_count": 20,
   "metadata": {
    "scrolled": false
   },
   "outputs": [
    {
     "data": {
      "text/html": [
       "<div>\n",
       "<style scoped>\n",
       "    .dataframe tbody tr th:only-of-type {\n",
       "        vertical-align: middle;\n",
       "    }\n",
       "\n",
       "    .dataframe tbody tr th {\n",
       "        vertical-align: top;\n",
       "    }\n",
       "\n",
       "    .dataframe thead th {\n",
       "        text-align: right;\n",
       "    }\n",
       "</style>\n",
       "<table border=\"1\" class=\"dataframe\">\n",
       "  <thead>\n",
       "    <tr style=\"text-align: right;\">\n",
       "      <th>cluster</th>\n",
       "      <th>3</th>\n",
       "      <th>2</th>\n",
       "      <th>1</th>\n",
       "      <th>4</th>\n",
       "      <th>0</th>\n",
       "    </tr>\n",
       "  </thead>\n",
       "  <tbody>\n",
       "    <tr>\n",
       "      <th>gender</th>\n",
       "      <td>0.485737</td>\n",
       "      <td>0.495050</td>\n",
       "      <td>0.522078</td>\n",
       "      <td>0.559666</td>\n",
       "      <td>0.502970</td>\n",
       "    </tr>\n",
       "    <tr>\n",
       "      <th>near_location</th>\n",
       "      <td>1.000000</td>\n",
       "      <td>0.000000</td>\n",
       "      <td>0.862338</td>\n",
       "      <td>0.976134</td>\n",
       "      <td>0.959406</td>\n",
       "    </tr>\n",
       "    <tr>\n",
       "      <th>partner</th>\n",
       "      <td>0.350238</td>\n",
       "      <td>0.463366</td>\n",
       "      <td>0.470130</td>\n",
       "      <td>0.356802</td>\n",
       "      <td>0.783168</td>\n",
       "    </tr>\n",
       "    <tr>\n",
       "      <th>promo_friends</th>\n",
       "      <td>0.240095</td>\n",
       "      <td>0.079208</td>\n",
       "      <td>0.306494</td>\n",
       "      <td>0.230310</td>\n",
       "      <td>0.574257</td>\n",
       "    </tr>\n",
       "    <tr>\n",
       "      <th>phone</th>\n",
       "      <td>1.000000</td>\n",
       "      <td>1.000000</td>\n",
       "      <td>0.000000</td>\n",
       "      <td>0.998807</td>\n",
       "      <td>1.000000</td>\n",
       "    </tr>\n",
       "    <tr>\n",
       "      <th>contract_period</th>\n",
       "      <td>1.948494</td>\n",
       "      <td>2.352475</td>\n",
       "      <td>4.787013</td>\n",
       "      <td>2.669451</td>\n",
       "      <td>10.889109</td>\n",
       "    </tr>\n",
       "    <tr>\n",
       "      <th>group_visits</th>\n",
       "      <td>0.341521</td>\n",
       "      <td>0.215842</td>\n",
       "      <td>0.425974</td>\n",
       "      <td>0.473747</td>\n",
       "      <td>0.542574</td>\n",
       "    </tr>\n",
       "    <tr>\n",
       "      <th>age</th>\n",
       "      <td>28.167987</td>\n",
       "      <td>28.477228</td>\n",
       "      <td>29.301299</td>\n",
       "      <td>30.125298</td>\n",
       "      <td>29.982178</td>\n",
       "    </tr>\n",
       "    <tr>\n",
       "      <th>avg_additional_charges_total</th>\n",
       "      <td>131.622204</td>\n",
       "      <td>135.457501</td>\n",
       "      <td>143.957664</td>\n",
       "      <td>161.657905</td>\n",
       "      <td>160.761016</td>\n",
       "    </tr>\n",
       "    <tr>\n",
       "      <th>month_to_end_contract</th>\n",
       "      <td>1.856577</td>\n",
       "      <td>2.198020</td>\n",
       "      <td>4.475325</td>\n",
       "      <td>2.459427</td>\n",
       "      <td>9.954455</td>\n",
       "    </tr>\n",
       "    <tr>\n",
       "      <th>lifetime</th>\n",
       "      <td>2.440571</td>\n",
       "      <td>2.809901</td>\n",
       "      <td>3.924675</td>\n",
       "      <td>4.898568</td>\n",
       "      <td>4.736634</td>\n",
       "    </tr>\n",
       "    <tr>\n",
       "      <th>avg_class_frequency_total</th>\n",
       "      <td>1.247634</td>\n",
       "      <td>1.660461</td>\n",
       "      <td>1.847220</td>\n",
       "      <td>2.852002</td>\n",
       "      <td>1.982055</td>\n",
       "    </tr>\n",
       "    <tr>\n",
       "      <th>avg_class_frequency_current_month</th>\n",
       "      <td>1.012983</td>\n",
       "      <td>1.477324</td>\n",
       "      <td>1.716369</td>\n",
       "      <td>2.850161</td>\n",
       "      <td>1.974789</td>\n",
       "    </tr>\n",
       "    <tr>\n",
       "      <th>churn</th>\n",
       "      <td>0.514263</td>\n",
       "      <td>0.443564</td>\n",
       "      <td>0.267532</td>\n",
       "      <td>0.068019</td>\n",
       "      <td>0.027723</td>\n",
       "    </tr>\n",
       "  </tbody>\n",
       "</table>\n",
       "</div>"
      ],
      "text/plain": [
       "cluster                                     3           2           1  \\\n",
       "gender                               0.485737    0.495050    0.522078   \n",
       "near_location                        1.000000    0.000000    0.862338   \n",
       "partner                              0.350238    0.463366    0.470130   \n",
       "promo_friends                        0.240095    0.079208    0.306494   \n",
       "phone                                1.000000    1.000000    0.000000   \n",
       "contract_period                      1.948494    2.352475    4.787013   \n",
       "group_visits                         0.341521    0.215842    0.425974   \n",
       "age                                 28.167987   28.477228   29.301299   \n",
       "avg_additional_charges_total       131.622204  135.457501  143.957664   \n",
       "month_to_end_contract                1.856577    2.198020    4.475325   \n",
       "lifetime                             2.440571    2.809901    3.924675   \n",
       "avg_class_frequency_total            1.247634    1.660461    1.847220   \n",
       "avg_class_frequency_current_month    1.012983    1.477324    1.716369   \n",
       "churn                                0.514263    0.443564    0.267532   \n",
       "\n",
       "cluster                                     4           0  \n",
       "gender                               0.559666    0.502970  \n",
       "near_location                        0.976134    0.959406  \n",
       "partner                              0.356802    0.783168  \n",
       "promo_friends                        0.230310    0.574257  \n",
       "phone                                0.998807    1.000000  \n",
       "contract_period                      2.669451   10.889109  \n",
       "group_visits                         0.473747    0.542574  \n",
       "age                                 30.125298   29.982178  \n",
       "avg_additional_charges_total       161.657905  160.761016  \n",
       "month_to_end_contract                2.459427    9.954455  \n",
       "lifetime                             4.898568    4.736634  \n",
       "avg_class_frequency_total            2.852002    1.982055  \n",
       "avg_class_frequency_current_month    2.850161    1.974789  \n",
       "churn                                0.068019    0.027723  "
      ]
     },
     "execution_count": 20,
     "metadata": {},
     "output_type": "execute_result"
    }
   ],
   "source": [
    "# Зададим модель k_means с количеством кластеров 5:\n",
    "km = KMeans(n_clusters = 5, random_state=0)\n",
    "\n",
    "# Спрогнозируем кластеры для наблюдений: \n",
    "labels = km.fit_predict(X_sc)\n",
    "\n",
    "# Сохраним метки кластера в поле нашего датасета:\n",
    "data['cluster'] = labels\n",
    "\n",
    "# Посмотрим на средние значения признаков для кластеров:\n",
    "data.groupby('cluster').mean().sort_values('churn', ascending=False).T"
   ]
  },
  {
   "cell_type": "markdown",
   "metadata": {},
   "source": [
    "Теперь у каждого клиента появился дополнительный признак - номер кластера, к которому он относится."
   ]
  },
  {
   "cell_type": "code",
   "execution_count": 21,
   "metadata": {},
   "outputs": [
    {
     "data": {
      "text/plain": [
       "3    0.31550\n",
       "0    0.25250\n",
       "4    0.20950\n",
       "2    0.12625\n",
       "1    0.09625\n",
       "Name: cluster, dtype: float64"
      ]
     },
     "execution_count": 21,
     "metadata": {},
     "output_type": "execute_result"
    }
   ],
   "source": [
    "# Дополнительно посмотрим сколько корней в каждом кластере:\n",
    "data['cluster'].value_counts(normalize=True)"
   ]
  },
  {
   "cell_type": "code",
   "execution_count": 22,
   "metadata": {},
   "outputs": [
    {
     "data": {
      "image/png": "[encoded data removed]",
      "text/plain": [
       "<Figure size 432x432 with 1 Axes>"
      ]
     },
     "metadata": {},
     "output_type": "display_data"
    },
    {
     "data": {
      "image/png": "[encoded data removed]",
      "text/plain": [
       "<Figure size 432x432 with 1 Axes>"
      ]
     },
     "metadata": {},
     "output_type": "display_data"
    },
    {
     "data": {
      "image/png": "[encoded data removed]",
      "text/plain": [
       "<Figure size 432x432 with 1 Axes>"
      ]
     },
     "metadata": {},
     "output_type": "display_data"
    },
    {
     "data": {
      "image/png": "[encoded data removed]",
      "text/plain": [
       "<Figure size 432x432 with 1 Axes>"
      ]
     },
     "metadata": {},
     "output_type": "display_data"
    },
    {
     "data": {
      "image/png": "[encoded data removed]",
      "text/plain": [
       "<Figure size 432x432 with 1 Axes>"
      ]
     },
     "metadata": {},
     "output_type": "display_data"
    },
    {
     "data": {
      "image/png": "[encoded data removed]",
      "text/plain": [
       "<Figure size 432x432 with 1 Axes>"
      ]
     },
     "metadata": {},
     "output_type": "display_data"
    }
   ],
   "source": [
    "# Для бинарных данных проведем подсчет количества значений:\n",
    "\n",
    "for column in ['gender', 'near_location', 'partner', 'promo_friends', 'phone',  'contract_period']:\n",
    "    plt.figure(figsize=(6, 6))\n",
    "    sns.countplot(data=data, x = data[column], hue='cluster')\n",
    "    plt.title('Количество значений в ' + column)\n",
    "    plt.show()"
   ]
  },
  {
   "cell_type": "code",
   "execution_count": 23,
   "metadata": {},
   "outputs": [
    {
     "data": {
      "image/png": "[encoded data removed]",
      "text/plain": [
       "<Figure size 432x432 with 1 Axes>"
      ]
     },
     "metadata": {},
     "output_type": "display_data"
    },
    {
     "data": {
      "image/png": "[encoded data removed]",
      "text/plain": [
       "<Figure size 432x432 with 1 Axes>"
      ]
     },
     "metadata": {},
     "output_type": "display_data"
    },
    {
     "data": {
      "image/png": "[encoded data removed]",
      "text/plain": [
       "<Figure size 432x432 with 1 Axes>"
      ]
     },
     "metadata": {},
     "output_type": "display_data"
    },
    {
     "data": {
      "image/png": "[encoded data removed]",
      "text/plain": [
       "<Figure size 432x432 with 1 Axes>"
      ]
     },
     "metadata": {},
     "output_type": "display_data"
    },
    {
     "data": {
      "image/png": "[encoded data removed]",
      "text/plain": [
       "<Figure size 432x432 with 1 Axes>"
      ]
     },
     "metadata": {},
     "output_type": "display_data"
    },
    {
     "data": {
      "image/png": "[encoded data removed]",
      "text/plain": [
       "<Figure size 432x432 with 1 Axes>"
      ]
     },
     "metadata": {},
     "output_type": "display_data"
    }
   ],
   "source": [
    "# Для остальных значений построим \"ящики с усами\":\n",
    "\n",
    "for column in ['month_to_end_contract', 'age', 'avg_additional_charges_total', 'lifetime', 'avg_class_frequency_total', 'avg_class_frequency_current_month']:\n",
    "    plt.figure(figsize=(6, 6))\n",
    "    sns.boxplot(data = data, x = 'cluster', y = data[column])\n",
    "    plt.title('Ящик с усами' + ' ' + column)\n",
    "    plt.show()"
   ]
  },
  {
   "cell_type": "markdown",
   "metadata": {},
   "source": [
    "После изучения графиков можно выделить следующие особенности клиентов (в порядке увеличения оттока клиентов):\n",
    "\n",
    "**Кластер 0 - кластер с наименьшим оттоком клиентов:**\n",
    "\n",
    "Наименьший отток клиентов — около 2,8% <br>\n",
    "Доля клиентов в кластере — 25,3% <br>\n",
    "Возраст клиентов в среднем — 30 лет <br>\n",
    "95,9% клиентов проживают или работают в районе фитнес-центра <br>\n",
    "78,3% клиентов участники программы \"Партнер клуба\" <br>\n",
    "57,4% клиентов пришли по акции \"Приведи друга\" <br>\n",
    "Посещают фитнес центр в среднем 1,9 раз в неделю <br>\n",
    "54,2% клиентов посещают групповые занятия <br>\n",
    "Клиенты в среднем оформляют абонемент на 10,9 месяцев. <br>\n",
    "\n",
    "\n",
    "\n",
    "**Кластер 4 - наиболее стабильный кластер:**\n",
    "\n",
    "Низкий отток клиентов — около 6,8% <br>\n",
    "Доля клиентов в кластере — 21,0% <br>\n",
    "Возраст клиентов в среднем — 30,1 года <br>\n",
    "97,6% клиентов проживают или работают в районе фитнес-центра <br>\n",
    "35,6% клиентов участники программы \"Партнер клуба\" <br>\n",
    "23,0% клиентов пришли по акции \"Приведи друга\" <br>\n",
    "Посещают фитнес центр в среднем 2,8 раза в неделю <br>\n",
    "47,4% клиентов посещают групповые занятия <br>\n",
    "Клиенты в среднем оформляют абонемент на 2,7 месяцев. <br>\n",
    "\n",
    "\n",
    "**Кластер 1 - кластер с умеренным оттоком клиентов:**\n",
    "\n",
    "Умеренный отток клиентов — около 26,8% <br>\n",
    "Доля клиентов в кластере — 9,6% <br>\n",
    "Возраст клиентов в среднем — 29,3 года <br>\n",
    "86,2% клиентов проживают или работают в районе фитнес-центра <br>\n",
    "47% клиентов участники программы \"Партнер клуба\" <br>\n",
    "30,6% клиентов пришли по акции \"Приведи друга\" <br>\n",
    "Посещают фитнес центр в среднем 1,8 раза в неделю <br>\n",
    "42,6% клиентов посещают групповые занятия <br>\n",
    "Клиенты в среднем оформляют абонемент на 4,8 месяцев. <br>\n",
    "\n",
    "\n",
    "\n",
    "**Кластер 2 - кластер с существенным оттоком клиентов:**\n",
    "\n",
    "Существенный отток клиентов — около 44,4% <br>\n",
    "Доля клиентов в кластере — 12,6% <br>\n",
    "Возраст клиентов в среднем — 28,5 года <br>\n",
    "Клиенты НЕ проживают и НЕ работают в районе фитнес-центра <br>\n",
    "46,3% клиентов участники программы \"Партнер клуба\" <br>\n",
    "7,9% клиентов пришли по акции \"Приведи друга\" <br>\n",
    "Посещают фитнес центр в среднем 1,7 раза в неделю <br>\n",
    "21,6% клиентов посещают групповые занятия <br>\n",
    "Клиенты в среднем оформляют абонемент на 2,4 месяца. <br>\n",
    "\n",
    "\n",
    "\n",
    "**Кластер 3 - кластер с максимальным оттоком клиентов:**\n",
    "\n",
    "Максимальный отток клиентов — около 51,4% <br>\n",
    "Доля клиентов в кластере — 31,6% <br>\n",
    "Возраст клиентов в среднем — 28,2 года <br>\n",
    "Почти все клиенты проживают или работают в районе фитнес-центра <br>\n",
    "35,0% клиентов участники программы \"Партнер клуба\" <br>\n",
    "24,0% клиентов пришли по акции \"Приведи друга\" <br>\n",
    "Посещают фитнес центр в среднем 1,3 раза в неделю <br>\n",
    "34,5% клиентов посещают групповые занятия <br>\n",
    "Клиенты в среднем оформляют абонемент на 1,9 месяца.<br>\n",
    "\n",
    "\n",
    "**Подводя итоги, можно сказать, что кластеры с низким оттоком отличаются от кластеров с высоким оттоком в основном по следющим показателям:**\n",
    "\n",
    "- длительность абонемента;\n",
    "- факт проживания или работы в районе фитнес- центра;\n",
    "- программа \"Партнер клуба\";\n",
    "- акция \"Приведи друга\";\n",
    "- участие в групповых занятиях."
   ]
  },
  {
   "cell_type": "markdown",
   "metadata": {},
   "source": [
    "## Выводы и рекомендации по работе с клиентами"
   ]
  },
  {
   "cell_type": "markdown",
   "metadata": {},
   "source": [
    "### Основные этапы проделанной работы"
   ]
  },
  {
   "cell_type": "markdown",
   "metadata": {},
   "source": [
    "\n",
    "1. Предоставленный датасет был без пропусков и дубликатов, перед анализом названия столбцов были приведены к нижнему регистру.<br><br>\n",
    "\n",
    "2. На этапе анализа групп клиентов, которые остаются в клубе или уходят, были выявлены следующие зависимости с признакоми которые влияют останется клиент в клубе или нет:\n",
    "\n",
    "- факт проживания или работы в районе фитнес- центра;\n",
    "- акция \"Приведи друга\";\n",
    "- длительность абонемента;\n",
    "- участие в групповых занятиях;\n",
    "- сумма выручки от клиента на дополнительные услуги;\n",
    "- длительность посещения клуба;\n",
    "- средняя частота посещений.\n",
    "\n",
    "3. Матрица корреляции подтверждает зависимость основной переменной(оттока) со следующими признаками:\n",
    "\n",
    "- продолжительносью посещения клиентом клуба;\n",
    "- средним количеством посещений в неделю;\n",
    "- длительностью абонемента.\n",
    "\n",
    "4. На этапе прогнозирования оттока, были обучены модели \"Логистическая регрессия\" и \"Случайный лес\", обе модели показали следующие высокие результаты:\n",
    "\n",
    "*Логистическаяческая регресия:*\n",
    "\n",
    "Accuracy: 0.92<br>\n",
    "Precision: 0.85<br>\n",
    "Recall: 0.83.\n",
    "\n",
    "\n",
    "*Случайный лес:*\n",
    "\n",
    "Accuracy: 0.92<br>\n",
    "Precision: 0.84<br>\n",
    "Recall: 0.81.\n",
    "\n",
    "Видно, что логистическая регрессия показала себя немного лучше.\n",
    "\n",
    "5. По результатов иерархической кластеризации, было принято решение разбить клиентов на 5 кластеров, после анализа 5 кластеров были выявленные следующие особенности:\n",
    "\n",
    "*Кластер 0:*\n",
    "\n",
    "Почти никто из этих клиентов не уйдет в следующий месяц из клуба, а таких клиентов четверть от всех - в целом неплохой показатель. Ходят на тренировки почти 2 раза в неделю. Почти все живут поблизости от клуба. Приобретают длительные абонементы почти на год. Большинство пришли как участники программы \"Партнер клуба\" или акции \"Приведи друга\". Более половины посещают групповые занятия.\n",
    "\n",
    "\n",
    "*Кластер 4:*\n",
    "\n",
    "Из этого кластера клиентов также мало, кто покинет клуб, таких клиентов больее 1/5 от всех - также неплохой показатель стабильности. По сравнению с предыдущим кластером они посещают клуб даже чаще - почти 3 раза в неделю. Также живут/работают рядом с клубом. Однако в 2 меньше среди них доля пришедших по программе \"Партнер клуба\" или акции \"Приведи друга\". Но главная проблема - у них \"короткие\" абонементы (менее трех месяцев). Почти половина посещает групповые занятия.\n",
    "\n",
    "\n",
    "*Кластер 1:*\n",
    "\n",
    "Это маленький кластер (менее 1/10 клиентов) с умеренным оттоком. Среди них уже чуть меньше клиентов проживают/работают поблизости от клуба. На тренировки также ходят почти 2 раза в неделю. По-прежнему многие пришли по программе \"Партнер клуба\" или акции \"Приведи друга\". Срок абонемента достаточно длинный - почти полгода. Также почти половина посещает групповые занятия.\n",
    "\n",
    "\n",
    "*Кластер 2:*\n",
    "\n",
    "Также небольшой кластер, однако с большим оттоком (почти половина клиентов уйдет через месяц). Главная особенность кластера - почти никто не проживает/не работает поблизости от клуба. Почти половина клиентов пришла по программе \"Партнер клуба\". А вот по рекомендации друзей почти никто из них не приходил. Они по-прежнему почти 2 раза в неделю посещают клуб. Однако, к сожалению, приобрели абонемент с коротким сроком (чуть более 2х месяцев). По сравнению с предыдущими кластерами мало, кто посещает групповые занятия.\n",
    "\n",
    "\n",
    "*Кластер 3:*\n",
    "\n",
    "Очень проблемный кластер - уходит больше половины клиентов  в следующем месяце, причем таких клиентов в базе клуба более 1/3 (!). Это печально, при том, что почти все клиенты проживают или работают в районе фитнес-центра. Около трети из клиентов пришли в клуб по программе \"Партнер клуба\" или акции \"Приведи друга\". Проблемные моменты: низкая активность (всего 1 раз в неделю посещают клуб) и абонементы с коротким сроком (менее 2х месяцев). Всего 1/3 клиентов посещает групповые занятия."
   ]
  },
  {
   "cell_type": "markdown",
   "metadata": {},
   "source": [
    "### Рекомендации по работе с клиентами"
   ]
  },
  {
   "cell_type": "markdown",
   "metadata": {},
   "source": [
    "Специальные маркетинговые действия рекомендуется проводить только с теми клиентами, которых мы оценим как склонных к уходу через месяц. Это позволит нам снизить маркетинговые расходы. Процесс заключается с следующем: ежемесячно делать срез данных о всех клиентах и с помощью модели логистической регрессии выявля клиентов, склонных к уходу через месяц. Данных выявленных клиентов следует кластеризовать и для каждого кластера разработать свои маркетинговые действия. Через месяц будет целосообразно сравнить фактический отток среди клиентов с прогнозом модели и оценить качество маркетинговых активностей."
   ]
  },
  {
   "cell_type": "markdown",
   "metadata": {},
   "source": [
    "Ниже примеры маркетинговых активностей для разных кластеров клиентов:\n",
    "\n",
    "1. Кластер с клиентами, которые редко ходят в фитнес-центры. \n",
    "\n",
    "Нужно мотивировать клиентов чаще ходить на групповые занятия или на обычные тренировки (дарить бонусы за тренировки, которые потом можно будет обменять на скидку при покупке абонемента или прочих услуг клуба). Мы выяснили, что клиенты, которые реже  посещают зал, вероятнее всего покинут клуб - возможно, они при такой нагрузке не наблюдают желаемого эффекта и быстро сдаются), поэтому неплоход было бы на первый месяц выделить бесплатного инструктора, который будет контролировать посещаемость и эффективность тренировок.\n",
    "\n",
    "Нужно стараться привлекать клиентов в групповые занятия, это втянет их в \"коллектив\", где могут появиться новые знакомства и увеличится мотивация чаще ходить на тренировки. Неплохо бы составлять графики групповых тренировок с учетом интересов клиентов (обращать внимание на наиболее востребованые направления и предпочтения клиентов по времени, для чего можно проводить регулярное анкетирование, напрмер, на страницах соцсетей).\n",
    "\n",
    "Также можно стимулировать мотивацию клиентов к регулярному посещению зала с помощью соревнований-вызовов. В качестве призов могут быть скидки на услуги клуба. \n",
    "\n",
    "2. Кластер с клиентами, у которых краткосрочные абонементы или они скоро заканчиваются. \n",
    "\n",
    "Таких клиентов нужно переводить на долгосрочные абонементы за пару недель до окончания абонемента (при переходе на абонемент 9 или 12 месяцев можно давать скидку или дарить бесплатные тренировки с персональным инструктором). \n",
    "\n",
    "Приобретение долгосрочного абонемента увеличивает шансы остаться постоянным клиентом, однако стоит обратить внимание на тех, у кого он заканчивается.\n",
    "\n",
    "\n",
    "3. Кластер с клиентами, которые живут или работают далеко. \n",
    "\n",
    "Таким клиентам надо минимизировать дискомфорт от долгой поездки до фитнес-центров. Можно предоставлять им бесплатное парковочное место. Или предлагать особые условия акции \"приведи друга\" - возможно тогда такие клиенты будут ходить в зал чаще с друзьями. "
   ]
  },
  {
   "cell_type": "markdown",
   "metadata": {},
   "source": [
    "**Таким образом, если обобщить, то главным образом маркетинговые действия доолжны быть направлены на следующее:**\n",
    "- Расширять партнерские программы с корпоративными клиентами;\n",
    "- Разрабатывать мотивационную программу по привлечению клиентами своих друзей в зал;\n",
    "- Разработывать акции по продажам обанементов с большим количеством месяцев (от 9 до 12). "
   ]
  }
 ],
 "metadata": {
  "ExecuteTimeLog": [
   {
    "duration": 14,
    "start_time": "2022-07-16T15:26:57.024Z"
   },
   {
    "duration": 1850,
    "start_time": "2022-07-16T15:27:12.266Z"
   },
   {
    "duration": 10,
    "start_time": "2022-07-16T15:27:36.952Z"
   },
   {
    "duration": 121,
    "start_time": "2022-07-16T15:27:49.153Z"
   },
   {
    "duration": 47,
    "start_time": "2022-07-16T15:28:38.372Z"
   },
   {
    "duration": 48,
    "start_time": "2022-07-16T15:28:45.888Z"
   },
   {
    "duration": 82,
    "start_time": "2022-07-16T15:28:49.022Z"
   },
   {
    "duration": 72,
    "start_time": "2022-07-16T15:33:34.009Z"
   },
   {
    "duration": 66,
    "start_time": "2022-07-16T15:33:41.468Z"
   },
   {
    "duration": 11,
    "start_time": "2022-07-16T15:34:42.365Z"
   },
   {
    "duration": 13,
    "start_time": "2022-07-16T15:34:52.958Z"
   },
   {
    "duration": 21,
    "start_time": "2022-07-16T15:34:57.631Z"
   },
   {
    "duration": 169,
    "start_time": "2022-07-16T15:35:19.011Z"
   },
   {
    "duration": 11,
    "start_time": "2022-07-16T15:35:26.752Z"
   },
   {
    "duration": 3,
    "start_time": "2022-07-16T15:35:31.268Z"
   },
   {
    "duration": 10,
    "start_time": "2022-07-16T15:35:34.305Z"
   },
   {
    "duration": 3,
    "start_time": "2022-07-16T15:35:35.912Z"
   },
   {
    "duration": 47,
    "start_time": "2022-07-16T15:35:43.721Z"
   },
   {
    "duration": 54,
    "start_time": "2022-07-16T15:40:29.290Z"
   },
   {
    "duration": 67,
    "start_time": "2022-07-16T15:40:44.055Z"
   },
   {
    "duration": 67,
    "start_time": "2022-07-16T15:42:52.035Z"
   },
   {
    "duration": 3,
    "start_time": "2022-07-16T15:56:47.410Z"
   },
   {
    "duration": 25,
    "start_time": "2022-07-16T15:57:43.453Z"
   },
   {
    "duration": 351,
    "start_time": "2022-07-16T15:58:05.291Z"
   },
   {
    "duration": 299,
    "start_time": "2022-07-16T15:58:36.055Z"
   },
   {
    "duration": 1201,
    "start_time": "2022-07-16T15:58:59.792Z"
   },
   {
    "duration": 993,
    "start_time": "2022-07-16T15:59:34.356Z"
   },
   {
    "duration": 1009,
    "start_time": "2022-07-16T15:59:48.893Z"
   },
   {
    "duration": 36,
    "start_time": "2022-07-16T16:06:50.617Z"
   },
   {
    "duration": 32,
    "start_time": "2022-07-16T16:07:09.074Z"
   },
   {
    "duration": 22,
    "start_time": "2022-07-16T16:08:25.045Z"
   },
   {
    "duration": 24,
    "start_time": "2022-07-16T16:08:30.363Z"
   },
   {
    "duration": 52,
    "start_time": "2022-07-16T16:12:40.473Z"
   },
   {
    "duration": 1061,
    "start_time": "2022-07-16T16:12:48.996Z"
   },
   {
    "duration": 40,
    "start_time": "2022-07-16T16:14:38.573Z"
   },
   {
    "duration": 81,
    "start_time": "2022-07-16T16:14:44.573Z"
   },
   {
    "duration": 55,
    "start_time": "2022-07-16T16:15:09.710Z"
   },
   {
    "duration": 47,
    "start_time": "2022-07-16T16:15:18.835Z"
   },
   {
    "duration": 41,
    "start_time": "2022-07-16T16:15:35.854Z"
   },
   {
    "duration": 3,
    "start_time": "2022-07-16T16:17:09.871Z"
   },
   {
    "duration": 3,
    "start_time": "2022-07-16T16:17:14.672Z"
   },
   {
    "duration": 63,
    "start_time": "2022-07-16T16:17:21.558Z"
   },
   {
    "duration": 8,
    "start_time": "2022-07-16T16:17:32.655Z"
   },
   {
    "duration": 4,
    "start_time": "2022-07-16T16:17:50.899Z"
   },
   {
    "duration": 27,
    "start_time": "2022-07-16T16:18:10.607Z"
   },
   {
    "duration": 1003,
    "start_time": "2022-07-16T16:18:31.508Z"
   },
   {
    "duration": 1001,
    "start_time": "2022-07-16T16:18:39.058Z"
   },
   {
    "duration": 58,
    "start_time": "2022-07-16T16:18:59.958Z"
   },
   {
    "duration": 20,
    "start_time": "2022-07-16T16:19:02.274Z"
   },
   {
    "duration": 20,
    "start_time": "2022-07-16T16:19:04.448Z"
   },
   {
    "duration": 44,
    "start_time": "2022-07-16T16:20:29.669Z"
   },
   {
    "duration": 58,
    "start_time": "2022-07-16T16:20:37.740Z"
   },
   {
    "duration": 33,
    "start_time": "2022-07-16T16:20:48.248Z"
   },
   {
    "duration": 25,
    "start_time": "2022-07-16T16:20:53.761Z"
   },
   {
    "duration": 1028,
    "start_time": "2022-07-16T16:21:03.450Z"
   },
   {
    "duration": 74,
    "start_time": "2022-07-16T16:22:27.644Z"
   },
   {
    "duration": 71,
    "start_time": "2022-07-16T16:22:37.400Z"
   },
   {
    "duration": 43,
    "start_time": "2022-07-16T16:22:50.774Z"
   },
   {
    "duration": 63,
    "start_time": "2022-07-16T16:22:59.501Z"
   },
   {
    "duration": 55,
    "start_time": "2022-07-16T16:28:55.448Z"
   },
   {
    "duration": 65,
    "start_time": "2022-07-16T16:29:04.504Z"
   },
   {
    "duration": 62,
    "start_time": "2022-07-16T16:29:15.899Z"
   },
   {
    "duration": 46,
    "start_time": "2022-07-16T16:30:09.176Z"
   },
   {
    "duration": 89,
    "start_time": "2022-07-16T16:30:14.258Z"
   },
   {
    "duration": 57,
    "start_time": "2022-07-16T16:30:28.519Z"
   },
   {
    "duration": 51,
    "start_time": "2022-07-16T16:30:31.352Z"
   },
   {
    "duration": 821,
    "start_time": "2022-07-16T16:33:09.477Z"
   },
   {
    "duration": 814,
    "start_time": "2022-07-16T16:33:13.286Z"
   },
   {
    "duration": 1086,
    "start_time": "2022-07-16T16:33:19.885Z"
   },
   {
    "duration": 6,
    "start_time": "2022-07-16T16:34:43.456Z"
   },
   {
    "duration": 6,
    "start_time": "2022-07-16T16:34:54.057Z"
   },
   {
    "duration": 58,
    "start_time": "2022-07-16T16:36:19.607Z"
   },
   {
    "duration": 73,
    "start_time": "2022-07-16T16:36:32.288Z"
   },
   {
    "duration": 55,
    "start_time": "2022-07-16T16:36:43.374Z"
   },
   {
    "duration": 78,
    "start_time": "2022-07-16T16:36:50.599Z"
   },
   {
    "duration": 6,
    "start_time": "2022-07-16T16:38:20.053Z"
   },
   {
    "duration": 15,
    "start_time": "2022-07-16T16:39:27.363Z"
   },
   {
    "duration": 28,
    "start_time": "2022-07-16T16:39:38.109Z"
   },
   {
    "duration": 13,
    "start_time": "2022-07-16T16:39:43.254Z"
   },
   {
    "duration": 5,
    "start_time": "2022-07-16T16:47:44.785Z"
   },
   {
    "duration": 6,
    "start_time": "2022-07-16T16:47:51.848Z"
   },
   {
    "duration": 11,
    "start_time": "2022-07-16T16:48:30.362Z"
   },
   {
    "duration": 12,
    "start_time": "2022-07-16T16:48:36.019Z"
   },
   {
    "duration": 15,
    "start_time": "2022-07-16T16:49:04.845Z"
   },
   {
    "duration": 23,
    "start_time": "2022-07-16T16:49:09.215Z"
   },
   {
    "duration": 10,
    "start_time": "2022-07-16T16:50:21.048Z"
   },
   {
    "duration": 11,
    "start_time": "2022-07-16T16:50:25.604Z"
   },
   {
    "duration": 20,
    "start_time": "2022-07-16T16:50:38.919Z"
   },
   {
    "duration": 17,
    "start_time": "2022-07-16T16:52:24.560Z"
   },
   {
    "duration": 11,
    "start_time": "2022-07-16T16:52:38.056Z"
   },
   {
    "duration": 46,
    "start_time": "2022-07-16T16:52:41.964Z"
   },
   {
    "duration": 31,
    "start_time": "2022-07-16T16:52:43.719Z"
   },
   {
    "duration": 12,
    "start_time": "2022-07-16T16:53:07.300Z"
   },
   {
    "duration": 4,
    "start_time": "2022-07-16T16:53:39.964Z"
   },
   {
    "duration": 31,
    "start_time": "2022-07-16T16:53:52.313Z"
   },
   {
    "duration": 47,
    "start_time": "2022-07-16T16:53:58.648Z"
   },
   {
    "duration": 31,
    "start_time": "2022-07-16T16:54:01.753Z"
   },
   {
    "duration": 55,
    "start_time": "2022-07-16T16:54:45.504Z"
   },
   {
    "duration": 29,
    "start_time": "2022-07-16T16:54:53.598Z"
   },
   {
    "duration": 5,
    "start_time": "2022-07-16T16:54:56.878Z"
   },
   {
    "duration": 4,
    "start_time": "2022-07-16T16:55:29.867Z"
   },
   {
    "duration": 13,
    "start_time": "2022-07-16T16:55:34.045Z"
   },
   {
    "duration": 20,
    "start_time": "2022-07-16T16:56:20.146Z"
   },
   {
    "duration": 4,
    "start_time": "2022-07-16T16:56:58.701Z"
   },
   {
    "duration": 16,
    "start_time": "2022-07-16T16:57:10.011Z"
   },
   {
    "duration": 11,
    "start_time": "2022-07-16T16:57:24.440Z"
   },
   {
    "duration": 9,
    "start_time": "2022-07-16T16:57:47.658Z"
   },
   {
    "duration": 17,
    "start_time": "2022-07-16T16:57:51.791Z"
   },
   {
    "duration": 22,
    "start_time": "2022-07-16T16:58:24.314Z"
   },
   {
    "duration": 21,
    "start_time": "2022-07-16T16:59:56.251Z"
   },
   {
    "duration": 15,
    "start_time": "2022-07-16T17:00:03.170Z"
   },
   {
    "duration": 18,
    "start_time": "2022-07-16T17:00:35.910Z"
   },
   {
    "duration": 5,
    "start_time": "2022-07-16T17:01:23.515Z"
   },
   {
    "duration": 22,
    "start_time": "2022-07-16T17:01:47.561Z"
   },
   {
    "duration": 4,
    "start_time": "2022-07-16T17:01:56.251Z"
   },
   {
    "duration": 16,
    "start_time": "2022-07-16T17:02:02.687Z"
   },
   {
    "duration": 18,
    "start_time": "2022-07-16T17:02:46.954Z"
   },
   {
    "duration": 16,
    "start_time": "2022-07-16T17:02:58.501Z"
   },
   {
    "duration": 22,
    "start_time": "2022-07-16T17:03:00.523Z"
   },
   {
    "duration": 20,
    "start_time": "2022-07-16T17:03:21.497Z"
   },
   {
    "duration": 20,
    "start_time": "2022-07-16T17:03:32.147Z"
   },
   {
    "duration": 17,
    "start_time": "2022-07-16T17:03:58.202Z"
   },
   {
    "duration": 17,
    "start_time": "2022-07-16T17:04:14.854Z"
   },
   {
    "duration": 20,
    "start_time": "2022-07-16T17:04:50.554Z"
   },
   {
    "duration": 20,
    "start_time": "2022-07-16T17:05:02.071Z"
   },
   {
    "duration": 927,
    "start_time": "2022-07-16T17:05:14.692Z"
   },
   {
    "duration": 35,
    "start_time": "2022-07-16T17:05:28.610Z"
   },
   {
    "duration": 26,
    "start_time": "2022-07-16T17:06:13.391Z"
   },
   {
    "duration": 1100,
    "start_time": "2022-07-16T17:07:01.745Z"
   },
   {
    "duration": 20,
    "start_time": "2022-07-16T17:07:06.785Z"
   },
   {
    "duration": 58,
    "start_time": "2022-07-16T17:07:21.517Z"
   },
   {
    "duration": 27,
    "start_time": "2022-07-16T17:07:23.966Z"
   },
   {
    "duration": 19,
    "start_time": "2022-07-16T17:07:26.167Z"
   },
   {
    "duration": 52,
    "start_time": "2022-07-16T17:07:42.645Z"
   },
   {
    "duration": 19,
    "start_time": "2022-07-16T17:07:44.976Z"
   },
   {
    "duration": 10,
    "start_time": "2022-07-16T17:08:02.146Z"
   },
   {
    "duration": 40,
    "start_time": "2022-07-16T17:08:07.212Z"
   },
   {
    "duration": 16,
    "start_time": "2022-07-16T17:08:09.362Z"
   },
   {
    "duration": 27,
    "start_time": "2022-07-16T17:08:17.717Z"
   },
   {
    "duration": 963,
    "start_time": "2022-07-16T17:08:44.512Z"
   },
   {
    "duration": 1125,
    "start_time": "2022-07-16T17:08:53.443Z"
   },
   {
    "duration": 1029,
    "start_time": "2022-07-16T17:09:08.161Z"
   },
   {
    "duration": 1001,
    "start_time": "2022-07-16T17:09:17.686Z"
   },
   {
    "duration": 18,
    "start_time": "2022-07-16T17:10:22.368Z"
   },
   {
    "duration": 4,
    "start_time": "2022-07-16T17:11:44.960Z"
   },
   {
    "duration": 31,
    "start_time": "2022-07-16T17:11:48.619Z"
   },
   {
    "duration": 19,
    "start_time": "2022-07-16T17:15:08.198Z"
   },
   {
    "duration": 18,
    "start_time": "2022-07-16T17:15:11.641Z"
   },
   {
    "duration": 25,
    "start_time": "2022-07-16T17:15:14.666Z"
   },
   {
    "duration": 25,
    "start_time": "2022-07-16T17:15:17.645Z"
   },
   {
    "duration": 19,
    "start_time": "2022-07-16T17:15:24.678Z"
   },
   {
    "duration": 13,
    "start_time": "2022-07-16T17:15:34.076Z"
   },
   {
    "duration": 17,
    "start_time": "2022-07-16T17:18:40.566Z"
   },
   {
    "duration": 22,
    "start_time": "2022-07-16T17:22:24.889Z"
   },
   {
    "duration": 23,
    "start_time": "2022-07-16T17:22:43.332Z"
   },
   {
    "duration": 11,
    "start_time": "2022-07-16T17:22:54.954Z"
   },
   {
    "duration": 13,
    "start_time": "2022-07-16T17:23:22.090Z"
   },
   {
    "duration": 17,
    "start_time": "2022-07-16T17:23:27.349Z"
   },
   {
    "duration": 3,
    "start_time": "2022-07-16T17:25:15.584Z"
   },
   {
    "duration": 17,
    "start_time": "2022-07-16T17:26:01.883Z"
   },
   {
    "duration": 22,
    "start_time": "2022-07-16T17:26:24.758Z"
   },
   {
    "duration": 2708,
    "start_time": "2022-07-16T17:26:35.449Z"
   },
   {
    "duration": 2634,
    "start_time": "2022-07-16T17:27:31.160Z"
   },
   {
    "duration": 16,
    "start_time": "2022-07-16T17:27:45.571Z"
   },
   {
    "duration": 22,
    "start_time": "2022-07-16T17:27:48.790Z"
   },
   {
    "duration": 24,
    "start_time": "2022-07-16T17:27:52.315Z"
   },
   {
    "duration": 2723,
    "start_time": "2022-07-16T17:27:57.067Z"
   },
   {
    "duration": 2879,
    "start_time": "2022-07-16T17:30:01.744Z"
   },
   {
    "duration": 2633,
    "start_time": "2022-07-16T17:30:10.713Z"
   },
   {
    "duration": 2840,
    "start_time": "2022-07-16T17:30:19.007Z"
   },
   {
    "duration": 2986,
    "start_time": "2022-07-16T17:30:27.400Z"
   },
   {
    "duration": 2850,
    "start_time": "2022-07-16T17:30:37.321Z"
   },
   {
    "duration": 2754,
    "start_time": "2022-07-16T17:30:48.657Z"
   },
   {
    "duration": 2844,
    "start_time": "2022-07-16T17:30:55.898Z"
   },
   {
    "duration": 2832,
    "start_time": "2022-07-16T17:31:06.172Z"
   },
   {
    "duration": 191,
    "start_time": "2022-07-16T17:31:42.184Z"
   },
   {
    "duration": 21,
    "start_time": "2022-07-16T17:31:56.368Z"
   },
   {
    "duration": 19,
    "start_time": "2022-07-16T17:32:04.021Z"
   },
   {
    "duration": 51,
    "start_time": "2022-07-16T17:32:19.484Z"
   },
   {
    "duration": 15,
    "start_time": "2022-07-16T17:32:23.779Z"
   },
   {
    "duration": 18,
    "start_time": "2022-07-16T17:32:30.469Z"
   },
   {
    "duration": 27,
    "start_time": "2022-07-16T17:32:34.114Z"
   },
   {
    "duration": 3240,
    "start_time": "2022-07-16T17:36:02.588Z"
   },
   {
    "duration": 2477,
    "start_time": "2022-07-16T17:36:58.793Z"
   },
   {
    "duration": 181,
    "start_time": "2022-07-16T17:38:05.787Z"
   },
   {
    "duration": 192,
    "start_time": "2022-07-16T17:38:13.576Z"
   },
   {
    "duration": 169,
    "start_time": "2022-07-16T17:38:21.252Z"
   },
   {
    "duration": 186,
    "start_time": "2022-07-16T17:38:30.365Z"
   },
   {
    "duration": 205,
    "start_time": "2022-07-16T17:41:16.290Z"
   },
   {
    "duration": 204,
    "start_time": "2022-07-16T17:41:28.192Z"
   },
   {
    "duration": 2504,
    "start_time": "2022-07-16T17:41:36.943Z"
   },
   {
    "duration": 2310,
    "start_time": "2022-07-16T17:41:51.181Z"
   },
   {
    "duration": 2789,
    "start_time": "2022-07-16T17:41:57.821Z"
   },
   {
    "duration": 849,
    "start_time": "2022-07-16T17:42:40.094Z"
   },
   {
    "duration": 33,
    "start_time": "2022-07-16T17:43:14.064Z"
   },
   {
    "duration": 2587,
    "start_time": "2022-07-16T17:43:42.747Z"
   },
   {
    "duration": 21,
    "start_time": "2022-07-16T17:46:07.393Z"
   },
   {
    "duration": 21,
    "start_time": "2022-07-16T17:46:40.101Z"
   },
   {
    "duration": 972,
    "start_time": "2022-07-16T17:47:24.689Z"
   },
   {
    "duration": 25,
    "start_time": "2022-07-16T17:47:40.866Z"
   },
   {
    "duration": 721,
    "start_time": "2022-07-16T17:48:48.174Z"
   },
   {
    "duration": 866,
    "start_time": "2022-07-16T17:49:27.277Z"
   },
   {
    "duration": 984,
    "start_time": "2022-07-16T17:50:37.576Z"
   },
   {
    "duration": 256,
    "start_time": "2022-07-16T17:53:33.208Z"
   },
   {
    "duration": 231,
    "start_time": "2022-07-16T17:53:41.442Z"
   },
   {
    "duration": 152,
    "start_time": "2022-07-16T17:53:48.145Z"
   },
   {
    "duration": 160,
    "start_time": "2022-07-16T17:53:56.776Z"
   },
   {
    "duration": 122,
    "start_time": "2022-07-16T17:54:08.796Z"
   },
   {
    "duration": 285,
    "start_time": "2022-07-16T17:54:14.681Z"
   },
   {
    "duration": 134,
    "start_time": "2022-07-16T17:54:46.950Z"
   },
   {
    "duration": 133,
    "start_time": "2022-07-16T17:54:55.586Z"
   },
   {
    "duration": 190,
    "start_time": "2022-07-16T17:55:34.259Z"
   },
   {
    "duration": 172,
    "start_time": "2022-07-16T17:56:02.171Z"
   },
   {
    "duration": 173,
    "start_time": "2022-07-16T17:56:43.495Z"
   },
   {
    "duration": 141,
    "start_time": "2022-07-16T17:56:58.605Z"
   },
   {
    "duration": 134,
    "start_time": "2022-07-16T17:57:05.050Z"
   },
   {
    "duration": 151,
    "start_time": "2022-07-16T17:57:53.526Z"
   },
   {
    "duration": 150,
    "start_time": "2022-07-16T17:58:03.808Z"
   },
   {
    "duration": 205,
    "start_time": "2022-07-16T17:58:39.449Z"
   },
   {
    "duration": 174,
    "start_time": "2022-07-16T17:59:08.762Z"
   },
   {
    "duration": 151,
    "start_time": "2022-07-16T17:59:25.316Z"
   },
   {
    "duration": 183,
    "start_time": "2022-07-16T17:59:49.858Z"
   },
   {
    "duration": 193,
    "start_time": "2022-07-16T18:00:16.756Z"
   },
   {
    "duration": 163,
    "start_time": "2022-07-16T18:00:36.792Z"
   },
   {
    "duration": 260,
    "start_time": "2022-07-16T18:00:51.154Z"
   },
   {
    "duration": 145,
    "start_time": "2022-07-16T18:01:04.151Z"
   },
   {
    "duration": 166,
    "start_time": "2022-07-16T18:01:21.194Z"
   },
   {
    "duration": 1273,
    "start_time": "2022-07-16T18:01:34.685Z"
   },
   {
    "duration": 1411,
    "start_time": "2022-07-16T18:01:45.904Z"
   },
   {
    "duration": 694,
    "start_time": "2022-07-16T18:01:59.926Z"
   },
   {
    "duration": 1211,
    "start_time": "2022-07-16T18:02:09.343Z"
   },
   {
    "duration": 942,
    "start_time": "2022-07-16T18:02:23.448Z"
   },
   {
    "duration": 1212,
    "start_time": "2022-07-16T18:02:33.477Z"
   },
   {
    "duration": 1707,
    "start_time": "2022-07-16T18:02:46.157Z"
   },
   {
    "duration": 950,
    "start_time": "2022-07-16T18:02:57.047Z"
   },
   {
    "duration": 1841,
    "start_time": "2022-07-16T18:03:06.619Z"
   },
   {
    "duration": 811,
    "start_time": "2022-07-16T18:03:24.150Z"
   },
   {
    "duration": 624,
    "start_time": "2022-07-16T18:03:37.255Z"
   },
   {
    "duration": 3726,
    "start_time": "2022-07-16T18:03:56.051Z"
   },
   {
    "duration": 1096,
    "start_time": "2022-07-16T18:04:25.399Z"
   },
   {
    "duration": 926,
    "start_time": "2022-07-16T18:06:21.579Z"
   },
   {
    "duration": 948,
    "start_time": "2022-07-16T18:06:28.214Z"
   },
   {
    "duration": 99,
    "start_time": "2022-07-16T18:52:20.562Z"
   },
   {
    "duration": 17,
    "start_time": "2022-07-16T18:52:35.586Z"
   },
   {
    "duration": 23,
    "start_time": "2022-07-16T18:52:50.223Z"
   },
   {
    "duration": 22,
    "start_time": "2022-07-16T18:53:18.351Z"
   },
   {
    "duration": 31,
    "start_time": "2022-07-16T18:54:00.608Z"
   },
   {
    "duration": 22,
    "start_time": "2022-07-16T18:54:08.077Z"
   },
   {
    "duration": 20,
    "start_time": "2022-07-16T18:54:29.557Z"
   },
   {
    "duration": 23,
    "start_time": "2022-07-16T18:55:11.936Z"
   },
   {
    "duration": 22,
    "start_time": "2022-07-16T18:55:26.881Z"
   },
   {
    "duration": 30,
    "start_time": "2022-07-16T18:58:30.965Z"
   },
   {
    "duration": 19,
    "start_time": "2022-07-16T18:58:51.149Z"
   },
   {
    "duration": 28,
    "start_time": "2022-07-16T18:58:55.151Z"
   },
   {
    "duration": 20,
    "start_time": "2022-07-16T18:59:01.648Z"
   },
   {
    "duration": 20,
    "start_time": "2022-07-16T18:59:04.952Z"
   },
   {
    "duration": 24,
    "start_time": "2022-07-16T18:59:16.415Z"
   },
   {
    "duration": 18,
    "start_time": "2022-07-16T18:59:25.704Z"
   },
   {
    "duration": 47,
    "start_time": "2022-07-17T12:30:07.756Z"
   },
   {
    "duration": 1610,
    "start_time": "2022-07-17T12:30:15.515Z"
   },
   {
    "duration": 147,
    "start_time": "2022-07-17T12:30:17.127Z"
   },
   {
    "duration": 6,
    "start_time": "2022-07-17T12:30:17.276Z"
   },
   {
    "duration": 2,
    "start_time": "2022-07-17T12:30:17.284Z"
   },
   {
    "duration": 40,
    "start_time": "2022-07-17T12:30:17.288Z"
   },
   {
    "duration": 28,
    "start_time": "2022-07-17T12:30:17.329Z"
   },
   {
    "duration": 17,
    "start_time": "2022-07-17T12:30:17.359Z"
   },
   {
    "duration": 147,
    "start_time": "2022-07-17T12:30:17.377Z"
   },
   {
    "duration": 1097,
    "start_time": "2022-07-17T12:30:17.526Z"
   },
   {
    "duration": 19,
    "start_time": "2022-07-17T12:30:24.512Z"
   },
   {
    "duration": 140,
    "start_time": "2022-07-17T12:54:23.664Z"
   },
   {
    "duration": 3,
    "start_time": "2022-07-17T12:56:45.614Z"
   },
   {
    "duration": 4,
    "start_time": "2022-07-17T12:56:51.821Z"
   },
   {
    "duration": 4,
    "start_time": "2022-07-17T12:57:03.968Z"
   },
   {
    "duration": 5,
    "start_time": "2022-07-17T12:57:17.548Z"
   },
   {
    "duration": 118,
    "start_time": "2022-07-17T12:57:31.493Z"
   },
   {
    "duration": 13,
    "start_time": "2022-07-17T12:57:46.809Z"
   },
   {
    "duration": 6,
    "start_time": "2022-07-17T12:58:37.486Z"
   },
   {
    "duration": 511,
    "start_time": "2022-07-17T12:58:44.175Z"
   },
   {
    "duration": 11,
    "start_time": "2022-07-17T13:00:41.046Z"
   },
   {
    "duration": 56,
    "start_time": "2022-07-17T13:00:43.502Z"
   },
   {
    "duration": 5,
    "start_time": "2022-07-17T13:00:59.774Z"
   },
   {
    "duration": 336,
    "start_time": "2022-07-17T13:01:01.688Z"
   },
   {
    "duration": 77,
    "start_time": "2022-07-17T13:08:23.867Z"
   },
   {
    "duration": 13,
    "start_time": "2022-07-17T13:13:02.262Z"
   },
   {
    "duration": 13,
    "start_time": "2022-07-17T13:13:05.795Z"
   },
   {
    "duration": 12,
    "start_time": "2022-07-17T13:13:46.814Z"
   },
   {
    "duration": 1124,
    "start_time": "2022-07-17T13:13:57.811Z"
   },
   {
    "duration": 4,
    "start_time": "2022-07-17T13:14:40.645Z"
   },
   {
    "duration": 1046,
    "start_time": "2022-07-17T13:14:46.082Z"
   },
   {
    "duration": 1217,
    "start_time": "2022-07-17T13:15:06.393Z"
   },
   {
    "duration": 1132,
    "start_time": "2022-07-17T13:15:17.156Z"
   },
   {
    "duration": 1118,
    "start_time": "2022-07-17T13:16:30.819Z"
   },
   {
    "duration": 14,
    "start_time": "2022-07-17T13:16:54.727Z"
   },
   {
    "duration": 658,
    "start_time": "2022-07-17T13:17:07.034Z"
   },
   {
    "duration": 21,
    "start_time": "2022-07-17T13:17:23.851Z"
   },
   {
    "duration": 975,
    "start_time": "2022-07-17T13:17:30.113Z"
   },
   {
    "duration": 181,
    "start_time": "2022-07-17T13:19:05.769Z"
   },
   {
    "duration": 1435,
    "start_time": "2022-07-17T13:19:10.403Z"
   },
   {
    "duration": 1089,
    "start_time": "2022-07-17T13:23:47.628Z"
   },
   {
    "duration": 83,
    "start_time": "2022-07-17T14:22:26.575Z"
   },
   {
    "duration": 3,
    "start_time": "2022-07-17T14:34:24.104Z"
   },
   {
    "duration": 578,
    "start_time": "2022-07-17T14:35:24.380Z"
   },
   {
    "duration": 2143,
    "start_time": "2022-07-17T14:37:27.613Z"
   },
   {
    "duration": 4,
    "start_time": "2022-07-17T14:38:10.366Z"
   },
   {
    "duration": 553,
    "start_time": "2022-07-17T14:38:24.702Z"
   },
   {
    "duration": 5,
    "start_time": "2022-07-17T14:39:06.834Z"
   },
   {
    "duration": 622,
    "start_time": "2022-07-17T14:39:11.134Z"
   },
   {
    "duration": 1242,
    "start_time": "2022-07-17T14:42:04.916Z"
   },
   {
    "duration": 3,
    "start_time": "2022-07-17T14:43:00.670Z"
   },
   {
    "duration": 15,
    "start_time": "2022-07-17T14:43:15.123Z"
   },
   {
    "duration": 4,
    "start_time": "2022-07-17T14:43:40.433Z"
   },
   {
    "duration": 9,
    "start_time": "2022-07-17T14:43:45.469Z"
   },
   {
    "duration": 13,
    "start_time": "2022-07-17T14:44:53.477Z"
   },
   {
    "duration": 14,
    "start_time": "2022-07-17T14:45:48.578Z"
   },
   {
    "duration": 1467,
    "start_time": "2022-07-17T14:45:55.283Z"
   },
   {
    "duration": 64,
    "start_time": "2022-07-17T14:45:56.752Z"
   },
   {
    "duration": 7,
    "start_time": "2022-07-17T14:45:56.818Z"
   },
   {
    "duration": 3,
    "start_time": "2022-07-17T14:45:56.827Z"
   },
   {
    "duration": 145,
    "start_time": "2022-07-17T14:45:56.831Z"
   },
   {
    "duration": 41,
    "start_time": "2022-07-17T14:45:56.978Z"
   },
   {
    "duration": 10,
    "start_time": "2022-07-17T14:45:57.020Z"
   },
   {
    "duration": 44,
    "start_time": "2022-07-17T14:45:57.032Z"
   },
   {
    "duration": 1112,
    "start_time": "2022-07-17T14:45:57.078Z"
   },
   {
    "duration": 681,
    "start_time": "2022-07-17T14:45:58.194Z"
   },
   {
    "duration": 1002,
    "start_time": "2022-07-17T14:45:58.877Z"
   },
   {
    "duration": 1634,
    "start_time": "2022-07-17T14:45:59.881Z"
   },
   {
    "duration": 5,
    "start_time": "2022-07-17T14:46:01.517Z"
   },
   {
    "duration": 8,
    "start_time": "2022-07-17T14:46:01.524Z"
   },
   {
    "duration": 629,
    "start_time": "2022-07-17T14:46:01.534Z"
   },
   {
    "duration": 470,
    "start_time": "2022-07-17T14:46:02.252Z"
   },
   {
    "duration": 7,
    "start_time": "2022-07-17T14:46:02.723Z"
   },
   {
    "duration": 20,
    "start_time": "2022-07-17T14:46:02.732Z"
   },
   {
    "duration": 4,
    "start_time": "2022-07-17T14:57:40.877Z"
   },
   {
    "duration": 4,
    "start_time": "2022-07-17T14:58:00.716Z"
   },
   {
    "duration": 1411,
    "start_time": "2022-07-17T14:58:45.131Z"
   },
   {
    "duration": 55,
    "start_time": "2022-07-17T14:58:46.544Z"
   },
   {
    "duration": 8,
    "start_time": "2022-07-17T14:58:46.601Z"
   },
   {
    "duration": 3,
    "start_time": "2022-07-17T14:58:46.611Z"
   },
   {
    "duration": 167,
    "start_time": "2022-07-17T14:58:46.617Z"
   },
   {
    "duration": 46,
    "start_time": "2022-07-17T14:58:46.785Z"
   },
   {
    "duration": 26,
    "start_time": "2022-07-17T14:58:46.832Z"
   },
   {
    "duration": 22,
    "start_time": "2022-07-17T14:58:46.860Z"
   },
   {
    "duration": 1130,
    "start_time": "2022-07-17T14:58:46.884Z"
   },
   {
    "duration": 655,
    "start_time": "2022-07-17T14:58:48.017Z"
   },
   {
    "duration": 884,
    "start_time": "2022-07-17T14:58:48.674Z"
   },
   {
    "duration": 1407,
    "start_time": "2022-07-17T14:58:49.559Z"
   },
   {
    "duration": 5,
    "start_time": "2022-07-17T14:58:50.969Z"
   },
   {
    "duration": 9,
    "start_time": "2022-07-17T14:58:50.976Z"
   },
   {
    "duration": 1368,
    "start_time": "2022-07-17T14:58:50.987Z"
   },
   {
    "duration": 429,
    "start_time": "2022-07-17T14:58:52.358Z"
   },
   {
    "duration": 7,
    "start_time": "2022-07-17T14:58:52.789Z"
   },
   {
    "duration": 9,
    "start_time": "2022-07-17T14:58:52.797Z"
   },
   {
    "duration": 4,
    "start_time": "2022-07-17T14:58:52.807Z"
   },
   {
    "duration": 7,
    "start_time": "2022-07-17T14:59:01.364Z"
   },
   {
    "duration": 372,
    "start_time": "2022-07-17T14:59:11.367Z"
   },
   {
    "duration": 5,
    "start_time": "2022-07-17T15:00:07.465Z"
   },
   {
    "duration": 61,
    "start_time": "2022-07-17T15:00:09.699Z"
   },
   {
    "duration": 6,
    "start_time": "2022-07-17T15:01:16.703Z"
   },
   {
    "duration": 253,
    "start_time": "2022-07-17T15:01:18.700Z"
   },
   {
    "duration": 6,
    "start_time": "2022-07-17T15:01:55.778Z"
   },
   {
    "duration": 11,
    "start_time": "2022-07-17T15:02:10.666Z"
   },
   {
    "duration": 17,
    "start_time": "2022-07-17T15:02:58.118Z"
   },
   {
    "duration": 25,
    "start_time": "2022-07-17T15:03:17.559Z"
   },
   {
    "duration": 3,
    "start_time": "2022-07-17T15:04:02.652Z"
   },
   {
    "duration": 6,
    "start_time": "2022-07-17T15:04:10.660Z"
   },
   {
    "duration": 26,
    "start_time": "2022-07-17T15:04:12.820Z"
   },
   {
    "duration": 4,
    "start_time": "2022-07-17T15:06:02.896Z"
   },
   {
    "duration": 528,
    "start_time": "2022-07-17T15:06:09.194Z"
   },
   {
    "duration": 5,
    "start_time": "2022-07-17T15:06:35.963Z"
   },
   {
    "duration": 540,
    "start_time": "2022-07-17T15:06:37.882Z"
   },
   {
    "duration": 501,
    "start_time": "2022-07-17T15:07:07.231Z"
   },
   {
    "duration": 658,
    "start_time": "2022-07-17T15:07:24.477Z"
   },
   {
    "duration": 3,
    "start_time": "2022-07-17T15:21:07.078Z"
   },
   {
    "duration": 549,
    "start_time": "2022-07-17T15:30:19.189Z"
   },
   {
    "duration": 542,
    "start_time": "2022-07-17T15:30:43.597Z"
   },
   {
    "duration": 10,
    "start_time": "2022-07-17T15:30:54.993Z"
   },
   {
    "duration": 5,
    "start_time": "2022-07-17T15:31:22.300Z"
   },
   {
    "duration": 1341,
    "start_time": "2022-07-17T15:31:42.687Z"
   },
   {
    "duration": 56,
    "start_time": "2022-07-17T15:31:44.030Z"
   },
   {
    "duration": 6,
    "start_time": "2022-07-17T15:31:44.088Z"
   },
   {
    "duration": 3,
    "start_time": "2022-07-17T15:31:44.096Z"
   },
   {
    "duration": 170,
    "start_time": "2022-07-17T15:31:44.101Z"
   },
   {
    "duration": 48,
    "start_time": "2022-07-17T15:31:44.272Z"
   },
   {
    "duration": 35,
    "start_time": "2022-07-17T15:31:44.322Z"
   },
   {
    "duration": 21,
    "start_time": "2022-07-17T15:31:44.358Z"
   },
   {
    "duration": 1120,
    "start_time": "2022-07-17T15:31:44.380Z"
   },
   {
    "duration": 623,
    "start_time": "2022-07-17T15:31:45.502Z"
   },
   {
    "duration": 966,
    "start_time": "2022-07-17T15:31:46.127Z"
   },
   {
    "duration": 1480,
    "start_time": "2022-07-17T15:31:47.095Z"
   },
   {
    "duration": 5,
    "start_time": "2022-07-17T15:31:48.577Z"
   },
   {
    "duration": 8,
    "start_time": "2022-07-17T15:31:48.584Z"
   },
   {
    "duration": 561,
    "start_time": "2022-07-17T15:31:48.594Z"
   },
   {
    "duration": 544,
    "start_time": "2022-07-17T15:31:49.157Z"
   },
   {
    "duration": 5,
    "start_time": "2022-07-17T15:31:49.702Z"
   },
   {
    "duration": 525,
    "start_time": "2022-07-17T15:31:49.708Z"
   },
   {
    "duration": 589,
    "start_time": "2022-07-17T15:31:50.234Z"
   },
   {
    "duration": 555,
    "start_time": "2022-07-17T15:31:50.825Z"
   },
   {
    "duration": 109030,
    "start_time": "2022-07-17T15:40:57.912Z"
   },
   {
    "duration": 101,
    "start_time": "2022-07-17T16:19:54.876Z"
   },
   {
    "duration": 11,
    "start_time": "2022-07-17T16:20:01.332Z"
   },
   {
    "duration": 1127,
    "start_time": "2022-07-17T16:20:32.830Z"
   },
   {
    "duration": 1144,
    "start_time": "2022-07-17T16:20:37.618Z"
   },
   {
    "duration": 1247,
    "start_time": "2022-07-17T16:20:59.206Z"
   },
   {
    "duration": 1252,
    "start_time": "2022-07-17T16:21:04.309Z"
   },
   {
    "duration": 12,
    "start_time": "2022-07-17T16:25:41.637Z"
   },
   {
    "duration": 4553,
    "start_time": "2022-07-17T16:25:50.595Z"
   },
   {
    "duration": 1250,
    "start_time": "2022-07-17T16:31:13.314Z"
   },
   {
    "duration": 1183,
    "start_time": "2022-07-17T16:44:33.303Z"
   },
   {
    "duration": 981,
    "start_time": "2022-07-17T16:45:05.305Z"
   },
   {
    "duration": 6,
    "start_time": "2022-07-17T16:45:13.035Z"
   },
   {
    "duration": 97,
    "start_time": "2022-07-17T16:48:18.371Z"
   },
   {
    "duration": 1060,
    "start_time": "2022-07-17T16:48:28.471Z"
   },
   {
    "duration": 1089,
    "start_time": "2022-07-17T16:48:41.180Z"
   },
   {
    "duration": 4,
    "start_time": "2022-07-17T16:48:47.495Z"
   },
   {
    "duration": 1233,
    "start_time": "2022-07-17T16:48:49.688Z"
   },
   {
    "duration": 9,
    "start_time": "2022-07-17T16:51:54.473Z"
   },
   {
    "duration": 9,
    "start_time": "2022-07-17T16:52:14.472Z"
   },
   {
    "duration": 73,
    "start_time": "2022-07-17T16:52:44.278Z"
   },
   {
    "duration": 7,
    "start_time": "2022-07-17T16:52:47.609Z"
   },
   {
    "duration": 9,
    "start_time": "2022-07-17T16:53:17.823Z"
   },
   {
    "duration": 9,
    "start_time": "2022-07-17T16:53:21.909Z"
   },
   {
    "duration": 1167,
    "start_time": "2022-07-17T16:53:36.704Z"
   },
   {
    "duration": 73,
    "start_time": "2022-07-17T16:53:50.566Z"
   },
   {
    "duration": 1353,
    "start_time": "2022-07-17T16:53:52.728Z"
   },
   {
    "duration": 1329,
    "start_time": "2022-07-17T16:54:12.035Z"
   },
   {
    "duration": 1298,
    "start_time": "2022-07-17T16:54:16.766Z"
   },
   {
    "duration": 1363,
    "start_time": "2022-07-17T16:54:25.004Z"
   },
   {
    "duration": 1441,
    "start_time": "2022-07-17T16:54:40.589Z"
   },
   {
    "duration": 59,
    "start_time": "2022-07-17T16:54:42.031Z"
   },
   {
    "duration": 8,
    "start_time": "2022-07-17T16:54:42.092Z"
   },
   {
    "duration": 12,
    "start_time": "2022-07-17T16:54:42.103Z"
   },
   {
    "duration": 198,
    "start_time": "2022-07-17T16:54:42.117Z"
   },
   {
    "duration": 55,
    "start_time": "2022-07-17T16:54:42.316Z"
   },
   {
    "duration": 13,
    "start_time": "2022-07-17T16:54:42.372Z"
   },
   {
    "duration": 22,
    "start_time": "2022-07-17T16:54:42.386Z"
   },
   {
    "duration": 1115,
    "start_time": "2022-07-17T16:54:42.410Z"
   },
   {
    "duration": 640,
    "start_time": "2022-07-17T16:54:43.527Z"
   },
   {
    "duration": 1037,
    "start_time": "2022-07-17T16:54:44.169Z"
   },
   {
    "duration": 1559,
    "start_time": "2022-07-17T16:54:45.208Z"
   },
   {
    "duration": 4,
    "start_time": "2022-07-17T16:54:46.769Z"
   },
   {
    "duration": 7,
    "start_time": "2022-07-17T16:54:46.775Z"
   },
   {
    "duration": 1688,
    "start_time": "2022-07-17T16:54:46.783Z"
   },
   {
    "duration": 525,
    "start_time": "2022-07-17T16:54:48.473Z"
   },
   {
    "duration": 4,
    "start_time": "2022-07-17T16:54:49.000Z"
   },
   {
    "duration": 821,
    "start_time": "2022-07-17T16:54:49.006Z"
   },
   {
    "duration": 633,
    "start_time": "2022-07-17T16:54:49.828Z"
   },
   {
    "duration": 613,
    "start_time": "2022-07-17T16:54:50.462Z"
   },
   {
    "duration": 115608,
    "start_time": "2022-07-17T16:54:51.076Z"
   },
   {
    "duration": 127,
    "start_time": "2022-07-17T16:56:47.667Z"
   },
   {
    "duration": 0,
    "start_time": "2022-07-17T16:56:47.796Z"
   },
   {
    "duration": 0,
    "start_time": "2022-07-17T16:56:47.797Z"
   },
   {
    "duration": 1254,
    "start_time": "2022-07-17T16:57:22.333Z"
   },
   {
    "duration": 22,
    "start_time": "2022-07-17T16:58:01.441Z"
   },
   {
    "duration": 1134,
    "start_time": "2022-07-17T16:58:21.826Z"
   },
   {
    "duration": 1179,
    "start_time": "2022-07-17T16:58:36.595Z"
   },
   {
    "duration": 12,
    "start_time": "2022-07-17T16:59:01.810Z"
   },
   {
    "duration": 1465,
    "start_time": "2022-07-17T16:59:39.110Z"
   },
   {
    "duration": 20,
    "start_time": "2022-07-17T17:00:00.748Z"
   },
   {
    "duration": 1295,
    "start_time": "2022-07-17T17:00:27.483Z"
   },
   {
    "duration": 23,
    "start_time": "2022-07-17T17:01:35.549Z"
   },
   {
    "duration": 1262,
    "start_time": "2022-07-17T17:04:11.501Z"
   },
   {
    "duration": 1141,
    "start_time": "2022-07-17T17:05:49.212Z"
   },
   {
    "duration": 1144,
    "start_time": "2022-07-17T17:06:12.110Z"
   },
   {
    "duration": 4,
    "start_time": "2022-07-17T17:06:45.669Z"
   },
   {
    "duration": 1121,
    "start_time": "2022-07-17T17:06:48.833Z"
   },
   {
    "duration": 1170,
    "start_time": "2022-07-17T17:07:00.283Z"
   },
   {
    "duration": 1232,
    "start_time": "2022-07-17T17:07:34.529Z"
   },
   {
    "duration": 1158,
    "start_time": "2022-07-17T17:07:41.195Z"
   },
   {
    "duration": 1143,
    "start_time": "2022-07-17T17:07:48.510Z"
   },
   {
    "duration": 1138,
    "start_time": "2022-07-17T17:08:08.516Z"
   },
   {
    "duration": 2816,
    "start_time": "2022-07-17T17:08:40.652Z"
   },
   {
    "duration": 1160,
    "start_time": "2022-07-17T17:08:52.298Z"
   },
   {
    "duration": 1139,
    "start_time": "2022-07-17T17:09:26.414Z"
   },
   {
    "duration": 1171,
    "start_time": "2022-07-17T17:09:32.682Z"
   },
   {
    "duration": 1607,
    "start_time": "2022-07-17T17:11:24.018Z"
   },
   {
    "duration": 1112,
    "start_time": "2022-07-17T17:11:34.441Z"
   },
   {
    "duration": 1055,
    "start_time": "2022-07-17T17:11:48.698Z"
   },
   {
    "duration": 1087,
    "start_time": "2022-07-17T17:11:53.767Z"
   },
   {
    "duration": 1037,
    "start_time": "2022-07-17T17:12:13.221Z"
   },
   {
    "duration": 10,
    "start_time": "2022-07-17T17:12:35.213Z"
   },
   {
    "duration": 12,
    "start_time": "2022-07-17T17:12:44.003Z"
   },
   {
    "duration": 539,
    "start_time": "2022-07-17T17:13:03.373Z"
   },
   {
    "duration": 1198,
    "start_time": "2022-07-17T17:13:07.161Z"
   },
   {
    "duration": 966,
    "start_time": "2022-07-17T17:14:02.396Z"
   },
   {
    "duration": 1792,
    "start_time": "2022-07-17T17:14:18.216Z"
   },
   {
    "duration": 9,
    "start_time": "2022-07-17T17:14:30.855Z"
   },
   {
    "duration": 12,
    "start_time": "2022-07-17T17:14:59.133Z"
   },
   {
    "duration": 153,
    "start_time": "2022-07-17T17:15:25.864Z"
   },
   {
    "duration": 4,
    "start_time": "2022-07-17T17:15:32.880Z"
   },
   {
    "duration": 46,
    "start_time": "2022-07-17T17:15:35.634Z"
   },
   {
    "duration": 7,
    "start_time": "2022-07-17T17:15:38.284Z"
   },
   {
    "duration": 3,
    "start_time": "2022-07-17T17:15:39.121Z"
   },
   {
    "duration": 159,
    "start_time": "2022-07-17T17:15:42.964Z"
   },
   {
    "duration": 44,
    "start_time": "2022-07-17T17:15:44.932Z"
   },
   {
    "duration": 12,
    "start_time": "2022-07-17T17:15:47.360Z"
   },
   {
    "duration": 20,
    "start_time": "2022-07-17T17:15:48.172Z"
   },
   {
    "duration": 1149,
    "start_time": "2022-07-17T17:15:51.164Z"
   },
   {
    "duration": 610,
    "start_time": "2022-07-17T17:15:52.315Z"
   },
   {
    "duration": 952,
    "start_time": "2022-07-17T17:15:52.927Z"
   },
   {
    "duration": 1504,
    "start_time": "2022-07-17T17:15:57.218Z"
   },
   {
    "duration": 6,
    "start_time": "2022-07-17T17:16:06.084Z"
   },
   {
    "duration": 15,
    "start_time": "2022-07-17T17:16:06.093Z"
   },
   {
    "duration": 1150,
    "start_time": "2022-07-17T17:16:09.403Z"
   },
   {
    "duration": 413,
    "start_time": "2022-07-17T17:16:13.706Z"
   },
   {
    "duration": 6,
    "start_time": "2022-07-17T17:16:16.066Z"
   },
   {
    "duration": 467,
    "start_time": "2022-07-17T17:16:16.788Z"
   },
   {
    "duration": 637,
    "start_time": "2022-07-17T17:16:18.031Z"
   },
   {
    "duration": 589,
    "start_time": "2022-07-17T17:16:25.506Z"
   },
   {
    "duration": 1762,
    "start_time": "2022-07-17T17:16:33.671Z"
   },
   {
    "duration": 1181,
    "start_time": "2022-07-17T17:17:12.783Z"
   },
   {
    "duration": 1143,
    "start_time": "2022-07-17T17:17:19.611Z"
   },
   {
    "duration": 17,
    "start_time": "2022-07-17T17:17:36.690Z"
   },
   {
    "duration": 1247,
    "start_time": "2022-07-17T17:18:24.206Z"
   },
   {
    "duration": 1058,
    "start_time": "2022-07-17T17:18:32.106Z"
   },
   {
    "duration": 1199,
    "start_time": "2022-07-17T17:19:04.355Z"
   },
   {
    "duration": 1210,
    "start_time": "2022-07-17T17:19:52.766Z"
   },
   {
    "duration": 1283,
    "start_time": "2022-07-17T17:20:12.271Z"
   },
   {
    "duration": 17,
    "start_time": "2022-07-17T17:20:33.973Z"
   },
   {
    "duration": 18,
    "start_time": "2022-07-17T17:20:44.672Z"
   },
   {
    "duration": 39,
    "start_time": "2022-07-17T17:20:51.161Z"
   },
   {
    "duration": 31,
    "start_time": "2022-07-17T17:21:00.361Z"
   },
   {
    "duration": 4740,
    "start_time": "2022-07-17T17:21:07.083Z"
   },
   {
    "duration": 5125,
    "start_time": "2022-07-17T17:21:44.301Z"
   },
   {
    "duration": 6,
    "start_time": "2022-07-17T17:23:00.968Z"
   },
   {
    "duration": 1303,
    "start_time": "2022-07-17T17:28:29.064Z"
   },
   {
    "duration": 5,
    "start_time": "2022-07-17T17:29:46.660Z"
   },
   {
    "duration": 1164,
    "start_time": "2022-07-17T17:29:55.796Z"
   },
   {
    "duration": 6,
    "start_time": "2022-07-17T17:30:03.363Z"
   },
   {
    "duration": 4551,
    "start_time": "2022-07-17T17:30:06.909Z"
   },
   {
    "duration": 4,
    "start_time": "2022-07-17T17:30:15.911Z"
   },
   {
    "duration": 4,
    "start_time": "2022-07-17T17:30:38.595Z"
   },
   {
    "duration": 5,
    "start_time": "2022-07-17T17:30:42.655Z"
   },
   {
    "duration": 4,
    "start_time": "2022-07-17T17:30:51.372Z"
   },
   {
    "duration": 74,
    "start_time": "2022-07-17T17:31:15.210Z"
   },
   {
    "duration": 73,
    "start_time": "2022-07-17T17:31:21.144Z"
   },
   {
    "duration": 5,
    "start_time": "2022-07-17T17:31:36.992Z"
   },
   {
    "duration": 82,
    "start_time": "2022-07-17T17:31:57.827Z"
   },
   {
    "duration": 10,
    "start_time": "2022-07-17T17:32:11.528Z"
   },
   {
    "duration": 10,
    "start_time": "2022-07-17T17:32:21.036Z"
   },
   {
    "duration": 72,
    "start_time": "2022-07-17T17:32:26.258Z"
   },
   {
    "duration": 9,
    "start_time": "2022-07-17T17:32:42.798Z"
   },
   {
    "duration": 11,
    "start_time": "2022-07-17T17:32:48.032Z"
   },
   {
    "duration": 10,
    "start_time": "2022-07-17T17:32:55.219Z"
   },
   {
    "duration": 9,
    "start_time": "2022-07-17T17:33:00.525Z"
   },
   {
    "duration": 14,
    "start_time": "2022-07-17T17:33:16.055Z"
   },
   {
    "duration": 5,
    "start_time": "2022-07-17T17:33:24.102Z"
   },
   {
    "duration": 4,
    "start_time": "2022-07-17T17:33:32.725Z"
   },
   {
    "duration": 1305,
    "start_time": "2022-07-17T17:34:31.028Z"
   },
   {
    "duration": 16,
    "start_time": "2022-07-17T17:34:39.453Z"
   },
   {
    "duration": 1323,
    "start_time": "2022-07-17T17:38:41.933Z"
   },
   {
    "duration": 5,
    "start_time": "2022-07-17T17:42:24.042Z"
   },
   {
    "duration": 9,
    "start_time": "2022-07-17T17:42:57.100Z"
   },
   {
    "duration": 8,
    "start_time": "2022-07-17T17:43:17.578Z"
   },
   {
    "duration": 51,
    "start_time": "2022-07-19T12:58:51.777Z"
   },
   {
    "duration": 3016,
    "start_time": "2022-07-19T16:40:25.551Z"
   },
   {
    "duration": 153,
    "start_time": "2022-07-19T16:40:28.569Z"
   },
   {
    "duration": 8,
    "start_time": "2022-07-19T16:40:28.723Z"
   },
   {
    "duration": 4,
    "start_time": "2022-07-19T16:40:28.733Z"
   },
   {
    "duration": 172,
    "start_time": "2022-07-19T16:40:28.740Z"
   },
   {
    "duration": 48,
    "start_time": "2022-07-19T16:40:28.914Z"
   },
   {
    "duration": 12,
    "start_time": "2022-07-19T16:40:28.965Z"
   },
   {
    "duration": 45,
    "start_time": "2022-07-19T16:40:28.978Z"
   },
   {
    "duration": 1137,
    "start_time": "2022-07-19T16:40:29.025Z"
   },
   {
    "duration": 741,
    "start_time": "2022-07-19T16:41:11.356Z"
   },
   {
    "duration": 941,
    "start_time": "2022-07-19T16:41:18.824Z"
   },
   {
    "duration": 1009,
    "start_time": "2022-07-19T16:41:28.786Z"
   },
   {
    "duration": 653,
    "start_time": "2022-07-19T16:41:59.562Z"
   },
   {
    "duration": 670,
    "start_time": "2022-07-19T16:42:21.002Z"
   },
   {
    "duration": 5,
    "start_time": "2022-07-19T16:44:54.232Z"
   },
   {
    "duration": 57,
    "start_time": "2022-07-19T16:44:54.239Z"
   },
   {
    "duration": 7,
    "start_time": "2022-07-19T16:44:54.298Z"
   },
   {
    "duration": 5,
    "start_time": "2022-07-19T16:44:54.307Z"
   },
   {
    "duration": 271,
    "start_time": "2022-07-19T16:44:54.315Z"
   },
   {
    "duration": 54,
    "start_time": "2022-07-19T16:44:54.587Z"
   },
   {
    "duration": 13,
    "start_time": "2022-07-19T16:44:54.643Z"
   },
   {
    "duration": 20,
    "start_time": "2022-07-19T16:44:54.658Z"
   },
   {
    "duration": 1106,
    "start_time": "2022-07-19T16:44:54.680Z"
   },
   {
    "duration": 1003,
    "start_time": "2022-07-19T16:45:22.134Z"
   },
   {
    "duration": 653,
    "start_time": "2022-07-19T16:46:08.881Z"
   },
   {
    "duration": 122,
    "start_time": "2022-07-19T16:46:35.007Z"
   },
   {
    "duration": 121,
    "start_time": "2022-07-19T16:46:41.009Z"
   },
   {
    "duration": 703,
    "start_time": "2022-07-19T16:46:54.871Z"
   },
   {
    "duration": 629,
    "start_time": "2022-07-19T17:01:44.994Z"
   },
   {
    "duration": 701,
    "start_time": "2022-07-19T17:01:55.224Z"
   },
   {
    "duration": 712,
    "start_time": "2022-07-19T17:03:14.924Z"
   },
   {
    "duration": 695,
    "start_time": "2022-07-19T17:03:20.232Z"
   },
   {
    "duration": 5,
    "start_time": "2022-07-19T17:44:04.400Z"
   },
   {
    "duration": 61,
    "start_time": "2022-07-19T17:44:04.408Z"
   },
   {
    "duration": 8,
    "start_time": "2022-07-19T17:44:04.471Z"
   },
   {
    "duration": 15,
    "start_time": "2022-07-19T17:44:04.481Z"
   },
   {
    "duration": 191,
    "start_time": "2022-07-19T17:44:04.498Z"
   },
   {
    "duration": 49,
    "start_time": "2022-07-19T17:44:04.691Z"
   },
   {
    "duration": 11,
    "start_time": "2022-07-19T17:44:04.742Z"
   },
   {
    "duration": 29,
    "start_time": "2022-07-19T17:44:04.755Z"
   },
   {
    "duration": 1243,
    "start_time": "2022-07-19T17:44:04.787Z"
   },
   {
    "duration": 710,
    "start_time": "2022-07-19T17:44:06.032Z"
   },
   {
    "duration": 958,
    "start_time": "2022-07-19T17:44:06.743Z"
   },
   {
    "duration": 1847,
    "start_time": "2022-07-19T17:44:07.703Z"
   },
   {
    "duration": 5,
    "start_time": "2022-07-19T17:44:09.551Z"
   },
   {
    "duration": 8,
    "start_time": "2022-07-19T17:44:09.558Z"
   },
   {
    "duration": 1346,
    "start_time": "2022-07-19T17:44:09.568Z"
   },
   {
    "duration": 506,
    "start_time": "2022-07-19T17:44:10.916Z"
   },
   {
    "duration": 5,
    "start_time": "2022-07-19T17:44:11.424Z"
   },
   {
    "duration": 881,
    "start_time": "2022-07-19T17:44:11.431Z"
   },
   {
    "duration": 686,
    "start_time": "2022-07-19T17:44:12.314Z"
   },
   {
    "duration": 716,
    "start_time": "2022-07-19T17:44:13.010Z"
   },
   {
    "duration": 122258,
    "start_time": "2022-07-19T17:44:13.728Z"
   },
   {
    "duration": 1533,
    "start_time": "2022-07-19T17:46:15.988Z"
   },
   {
    "duration": 5,
    "start_time": "2022-07-19T17:46:17.523Z"
   },
   {
    "duration": 13,
    "start_time": "2022-07-19T17:46:17.531Z"
   },
   {
    "duration": 1633,
    "start_time": "2022-07-20T06:03:11.702Z"
   },
   {
    "duration": 59,
    "start_time": "2022-07-20T16:45:34.152Z"
   },
   {
    "duration": 7,
    "start_time": "2022-07-20T16:45:57.514Z"
   },
   {
    "duration": 1781,
    "start_time": "2022-07-20T16:46:02.709Z"
   },
   {
    "duration": 256,
    "start_time": "2022-07-20T16:46:05.153Z"
   },
   {
    "duration": 8,
    "start_time": "2022-07-20T16:46:06.266Z"
   },
   {
    "duration": 3,
    "start_time": "2022-07-20T16:46:06.794Z"
   },
   {
    "duration": 168,
    "start_time": "2022-07-20T16:46:09.654Z"
   },
   {
    "duration": 65,
    "start_time": "2022-07-20T16:46:11.774Z"
   },
   {
    "duration": 28,
    "start_time": "2022-07-20T16:46:15.206Z"
   },
   {
    "duration": 22,
    "start_time": "2022-07-20T16:46:25.257Z"
   },
   {
    "duration": 94,
    "start_time": "2022-07-20T16:57:59.354Z"
   },
   {
    "duration": 18,
    "start_time": "2022-07-20T16:58:16.987Z"
   },
   {
    "duration": 1250,
    "start_time": "2022-07-20T16:58:23.046Z"
   },
   {
    "duration": 750,
    "start_time": "2022-07-20T16:58:24.298Z"
   },
   {
    "duration": 1077,
    "start_time": "2022-07-20T16:58:25.050Z"
   },
   {
    "duration": 1686,
    "start_time": "2022-07-20T16:58:28.656Z"
   },
   {
    "duration": 4,
    "start_time": "2022-07-20T16:58:34.457Z"
   },
   {
    "duration": 6,
    "start_time": "2022-07-20T16:58:35.192Z"
   },
   {
    "duration": 10,
    "start_time": "2022-07-20T16:58:40.889Z"
   },
   {
    "duration": 3,
    "start_time": "2022-07-20T16:58:43.396Z"
   },
   {
    "duration": 8,
    "start_time": "2022-07-20T16:58:47.454Z"
   },
   {
    "duration": 763,
    "start_time": "2022-07-20T16:58:48.825Z"
   },
   {
    "duration": 760,
    "start_time": "2022-07-20T16:58:51.650Z"
   },
   {
    "duration": 11,
    "start_time": "2022-07-20T16:59:01.049Z"
   },
   {
    "duration": 3,
    "start_time": "2022-07-20T16:59:05.115Z"
   },
   {
    "duration": 2,
    "start_time": "2022-07-20T16:59:53.290Z"
   },
   {
    "duration": 5,
    "start_time": "2022-07-20T16:59:56.990Z"
   },
   {
    "duration": 635,
    "start_time": "2022-07-20T16:59:58.457Z"
   },
   {
    "duration": 10,
    "start_time": "2022-07-20T17:01:14.511Z"
   },
   {
    "duration": 3,
    "start_time": "2022-07-20T17:01:15.863Z"
   },
   {
    "duration": 5,
    "start_time": "2022-07-20T17:01:21.355Z"
   },
   {
    "duration": 548,
    "start_time": "2022-07-20T17:01:22.649Z"
   },
   {
    "duration": 651,
    "start_time": "2022-07-20T17:01:25.251Z"
   },
   {
    "duration": 10,
    "start_time": "2022-07-20T17:02:23.626Z"
   },
   {
    "duration": 675,
    "start_time": "2022-07-20T17:03:17.506Z"
   },
   {
    "duration": 731,
    "start_time": "2022-07-20T17:03:31.767Z"
   },
   {
    "duration": 597,
    "start_time": "2022-07-20T17:03:36.390Z"
   },
   {
    "duration": 5,
    "start_time": "2022-07-20T17:09:34.964Z"
   },
   {
    "duration": 492,
    "start_time": "2022-07-20T17:09:36.399Z"
   },
   {
    "duration": 666,
    "start_time": "2022-07-20T17:09:37.950Z"
   },
   {
    "duration": 1345,
    "start_time": "2022-07-20T17:10:58.753Z"
   },
   {
    "duration": 15,
    "start_time": "2022-07-20T17:11:08.595Z"
   },
   {
    "duration": 618,
    "start_time": "2022-07-20T17:11:23.152Z"
   },
   {
    "duration": 1547,
    "start_time": "2022-07-20T17:11:26.887Z"
   },
   {
    "duration": 7,
    "start_time": "2022-07-20T17:11:32.651Z"
   },
   {
    "duration": 1767,
    "start_time": "2022-07-20T17:11:44.751Z"
   },
   {
    "duration": 1578,
    "start_time": "2022-07-20T17:14:12.449Z"
   },
   {
    "duration": 5,
    "start_time": "2022-07-20T17:14:25.851Z"
   },
   {
    "duration": 10,
    "start_time": "2022-07-20T17:14:31.087Z"
   },
   {
    "duration": 9,
    "start_time": "2022-07-20T17:14:45.964Z"
   },
   {
    "duration": 1212,
    "start_time": "2022-07-20T17:33:12.167Z"
   },
   {
    "duration": 1403,
    "start_time": "2022-07-20T17:34:19.868Z"
   },
   {
    "duration": 1765,
    "start_time": "2022-07-20T17:36:03.261Z"
   },
   {
    "duration": 57,
    "start_time": "2022-07-20T17:36:05.028Z"
   },
   {
    "duration": 10,
    "start_time": "2022-07-20T17:36:05.088Z"
   },
   {
    "duration": 4,
    "start_time": "2022-07-20T17:36:05.101Z"
   },
   {
    "duration": 192,
    "start_time": "2022-07-20T17:36:05.109Z"
   },
   {
    "duration": 73,
    "start_time": "2022-07-20T17:36:05.303Z"
   },
   {
    "duration": 38,
    "start_time": "2022-07-20T17:36:05.378Z"
   },
   {
    "duration": 1254,
    "start_time": "2022-07-20T17:36:05.418Z"
   },
   {
    "duration": 773,
    "start_time": "2022-07-20T17:36:06.674Z"
   },
   {
    "duration": 1156,
    "start_time": "2022-07-20T17:36:07.450Z"
   },
   {
    "duration": 1660,
    "start_time": "2022-07-20T17:36:08.610Z"
   },
   {
    "duration": 5,
    "start_time": "2022-07-20T17:36:10.273Z"
   },
   {
    "duration": 9,
    "start_time": "2022-07-20T17:36:10.279Z"
   },
   {
    "duration": 12,
    "start_time": "2022-07-20T17:36:10.290Z"
   },
   {
    "duration": 5,
    "start_time": "2022-07-20T17:36:10.304Z"
   },
   {
    "duration": 583,
    "start_time": "2022-07-20T17:36:10.311Z"
   },
   {
    "duration": 693,
    "start_time": "2022-07-20T17:36:10.896Z"
   },
   {
    "duration": 725,
    "start_time": "2022-07-20T17:36:11.591Z"
   },
   {
    "duration": 122779,
    "start_time": "2022-07-20T17:36:12.317Z"
   },
   {
    "duration": 1623,
    "start_time": "2022-07-20T17:38:15.097Z"
   },
   {
    "duration": 9,
    "start_time": "2022-07-20T17:38:16.722Z"
   },
   {
    "duration": 1350,
    "start_time": "2022-07-20T17:38:16.732Z"
   },
   {
    "duration": 1110,
    "start_time": "2022-07-20T17:38:18.084Z"
   }
  ],
  "kernelspec": {
   "display_name": "Python 3 (ipykernel)",
   "language": "python",
   "name": "python3"
  },
  "language_info": {
   "codemirror_mode": {
    "name": "ipython",
    "version": 3
   },
   "file_extension": ".py",
   "mimetype": "text/x-python",
   "name": "python",
   "nbconvert_exporter": "python",
   "pygments_lexer": "ipython3",
   "version": "3.9.5"
  },
  "toc": {
   "base_numbering": 1,
   "nav_menu": {},
   "number_sections": true,
   "sideBar": true,
   "skip_h1_title": true,
   "title_cell": "Table of Contents",
   "title_sidebar": "Contents",
   "toc_cell": true,
   "toc_position": {
    "height": "calc(100% - 180px)",
    "left": "10px",
    "top": "150px",
    "width": "204.757px"
   },
   "toc_section_display": true,
   "toc_window_display": true
  }
 },
 "nbformat": 4,
 "nbformat_minor": 2
}
