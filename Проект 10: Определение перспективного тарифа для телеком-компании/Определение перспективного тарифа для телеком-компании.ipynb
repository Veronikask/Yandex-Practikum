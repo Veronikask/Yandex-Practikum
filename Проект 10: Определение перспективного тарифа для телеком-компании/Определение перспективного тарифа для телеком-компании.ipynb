{
 "cells": [
  {
   "cell_type": "markdown",
   "metadata": {},
   "source": [
    "# Определение перспективного тарифа для телеком-компании"
   ]
  },
  
  {
   "cell_type": "markdown",
   "metadata": {},
   "source": [
    "# Содержание"
   ]
  },
{
   "cell_type": "markdown",
   "metadata": {},
   "source": [
    "**Получение данных** \n","\n",
    "**Подготовка данных** \n","\n",
    "    Приведение данных к нужным типам \n","\n",
    "    Исправление ошибок в данных \n","\n",
    "    Расчеты для каждого пользователя: \n","\n",
      "       Количество сделанных звонков и израсходованных минут разговора по месяцам \n","\n",
      "       Количество отправленных сообщений по месяцам \n","\n",
      "       Объем израсходованного интернет-трафика по месяцам \n","\n",
      "       Помесячная выручка с каждого пользователя \n","\n",
    "**Анализ данных выборки по каждому тарифу** \n","\n",
    "**Проверка гипотез** \n","\n",
    "**Вывод** \n"
   ]
  },
  
  
  
  
  
  {
   "cell_type": "markdown",
   "metadata": {},
   "source": [
    "# Описание проекта"
   ]
  },
  {
   "cell_type": "markdown",
   "metadata": {},
   "source": [
    "Заказчик исследования — федеральный оператор сотовой связи «Мегалайн». \n",
    "\n",
    "Цель исследования — определить, какой из двух тарифов приносит больше денег: «Смарт» и «Ультра». \n",
    "\n",
    "Данные для исследования — небольшая выборка из 500 клиентов, содержащая следующую информацию: кто они, откуда, каким тарифом пользуются, сколько звонков и сообщений каждый отправил за 2018 год. \n",
    "\n",
    "ОПИСАНИЕ ТАРИФОВ\n",
    "\n",
    "**Тариф «Смарт»:**\n",
    "- Ежемесячная плата: 550 рублей;\n",
    "- Включено 500 минут разговора, 50 сообщений и 15 Гб интернет-трафика;\n",
    "- Стоимость услуг сверх тарифного пакета: минута разговора 3 рубля, сообщение 3 рубля, 1 Гб интернет-трафика 200 рублей.\n",
    "\n",
    "**Тариф «Ультра»:**\n",
    "- Ежемесячная плата: 1950 рублей;\n",
    "- Включено 3000 минут разговора, 1000 сообщений и 30 Гб интернет-трафика;\n",
    "- Стоимость услуг сверх тарифного пакета: минута разговора 1 рубль, сообщение 1 рубль, 1 Гб интернет-трафика 150 рублей.\n",
    "\n",
    "*«Мегалайн» всегда округляет секунды до минут, а мегабайты — до гигабайт. Каждый звонок округляется отдельно: даже если он длился всего 1 секунду, будет засчитан как 1 минута.\n",
    "Для веб-трафика отдельные сессии не считаются. Вместо этого общая сумма за месяц округляется в бо́льшую сторону. Если абонент использует 1025 мегабайт в этом месяце, с него возьмут плату за 2 гигабайта. Неиспользованные за предыдущий месяц звонки, смс, интернет на следующий месяц не переносятся.*"
   ]
  },
  {
   "cell_type": "markdown",
   "metadata": {},
   "source": [
    "## Получение данных"
   ]
  },
  {
   "cell_type": "code",
   "execution_count": 1,
   "metadata": {},
   "outputs": [],
   "source": [
    "# Импорт библиотек:\n",
    "import pandas as pd\n",
    "import numpy as np\n",
    "from scipy import stats as st\n",
    "import plotly.express as px\n",
    "import math\n",
    "import matplotlib.pyplot as plt\n",
    "import seaborn as sns"
   ]
  },
  {
   "cell_type": "markdown",
   "metadata": {},
   "source": [
    "### Информация о звонках"
   ]
  },
  {
   "cell_type": "code",
   "execution_count": 2,
   "metadata": {},
   "outputs": [
    {
     "name": "stdout",
     "output_type": "stream",
     "text": [
      "<class 'pandas.core.frame.DataFrame'>\n",
      "RangeIndex: 202607 entries, 0 to 202606\n",
      "Data columns (total 4 columns):\n",
      " #   Column     Non-Null Count   Dtype  \n",
      "---  ------     --------------   -----  \n",
      " 0   id         202607 non-null  object \n",
      " 1   call_date  202607 non-null  object \n",
      " 2   duration   202607 non-null  float64\n",
      " 3   user_id    202607 non-null  int64  \n",
      "dtypes: float64(1), int64(1), object(2)\n",
      "memory usage: 6.2+ MB\n"
     ]
    }
   ],
   "source": [
    "try:\n",
    "    calls = pd.read_csv('C:/datasets/yandex_projects/telecom/calls.csv')\n",
    "except:\n",
    "    calls = pd.read_csv('/datasets/calls.csv')\n",
    "calls.info()"
   ]
  },
  {
   "cell_type": "code",
   "execution_count": 3,
   "metadata": {},
   "outputs": [
    {
     "data": {
      "text/html": [
       "<div>\n",
       "<style scoped>\n",
       "    .dataframe tbody tr th:only-of-type {\n",
       "        vertical-align: middle;\n",
       "    }\n",
       "\n",
       "    .dataframe tbody tr th {\n",
       "        vertical-align: top;\n",
       "    }\n",
       "\n",
       "    .dataframe thead th {\n",
       "        text-align: right;\n",
       "    }\n",
       "</style>\n",
       "<table border=\"1\" class=\"dataframe\">\n",
       "  <thead>\n",
       "    <tr style=\"text-align: right;\">\n",
       "      <th></th>\n",
       "      <th>id</th>\n",
       "      <th>call_date</th>\n",
       "      <th>duration</th>\n",
       "      <th>user_id</th>\n",
       "    </tr>\n",
       "  </thead>\n",
       "  <tbody>\n",
       "    <tr>\n",
       "      <th>0</th>\n",
       "      <td>1000_0</td>\n",
       "      <td>2018-07-25</td>\n",
       "      <td>0.00</td>\n",
       "      <td>1000</td>\n",
       "    </tr>\n",
       "    <tr>\n",
       "      <th>1</th>\n",
       "      <td>1000_1</td>\n",
       "      <td>2018-08-17</td>\n",
       "      <td>0.00</td>\n",
       "      <td>1000</td>\n",
       "    </tr>\n",
       "    <tr>\n",
       "      <th>2</th>\n",
       "      <td>1000_2</td>\n",
       "      <td>2018-06-11</td>\n",
       "      <td>2.85</td>\n",
       "      <td>1000</td>\n",
       "    </tr>\n",
       "    <tr>\n",
       "      <th>3</th>\n",
       "      <td>1000_3</td>\n",
       "      <td>2018-09-21</td>\n",
       "      <td>13.80</td>\n",
       "      <td>1000</td>\n",
       "    </tr>\n",
       "    <tr>\n",
       "      <th>4</th>\n",
       "      <td>1000_4</td>\n",
       "      <td>2018-12-15</td>\n",
       "      <td>5.18</td>\n",
       "      <td>1000</td>\n",
       "    </tr>\n",
       "  </tbody>\n",
       "</table>\n",
       "</div>"
      ],
      "text/plain": [
       "       id   call_date  duration  user_id\n",
       "0  1000_0  2018-07-25      0.00     1000\n",
       "1  1000_1  2018-08-17      0.00     1000\n",
       "2  1000_2  2018-06-11      2.85     1000\n",
       "3  1000_3  2018-09-21     13.80     1000\n",
       "4  1000_4  2018-12-15      5.18     1000"
      ]
     },
     "execution_count": 3,
     "metadata": {},
     "output_type": "execute_result"
    }
   ],
   "source": [
    "calls.head(5)"
   ]
  },
  {
   "cell_type": "markdown",
   "metadata": {},
   "source": [
    "Таблица calls содержит следующую информацию:\n",
    "- id — уникальный номер звонка;\n",
    "- call_date — дата звонка;\n",
    "- duration — длительность звонка в минутах;\n",
    "- user_id — идентификатор пользователя, сделавшего звонок."
   ]
  },
  {
   "cell_type": "markdown",
   "metadata": {},
   "source": [
    "Видим, что в датасете присутстуют звонки с нулевой продолжительностью. Известно, что это не ошибка: нулями обозначены пропущенные звонки, поэтому их не нужно удалять."
   ]
  },
  {
   "cell_type": "markdown",
   "metadata": {},
   "source": [
    "### Информация об интернет-сессиях"
   ]
  },
  {
   "cell_type": "code",
   "execution_count": 4,
   "metadata": {},
   "outputs": [
    {
     "name": "stdout",
     "output_type": "stream",
     "text": [
      "<class 'pandas.core.frame.DataFrame'>\n",
      "RangeIndex: 149396 entries, 0 to 149395\n",
      "Data columns (total 5 columns):\n",
      " #   Column        Non-Null Count   Dtype  \n",
      "---  ------        --------------   -----  \n",
      " 0   Unnamed: 0    149396 non-null  int64  \n",
      " 1   id            149396 non-null  object \n",
      " 2   mb_used       149396 non-null  float64\n",
      " 3   session_date  149396 non-null  object \n",
      " 4   user_id       149396 non-null  int64  \n",
      "dtypes: float64(1), int64(2), object(2)\n",
      "memory usage: 5.7+ MB\n"
     ]
    }
   ],
   "source": [
    "try:\n",
    "    internet = pd.read_csv('C:/datasets/yandex_projects/telecom/internet.csv')\n",
    "except:\n",
    "    internet = pd.read_csv('/datasets/internet.csv')\n",
    "internet.info()"
   ]
  },
  {
   "cell_type": "code",
   "execution_count": 5,
   "metadata": {},
   "outputs": [
    {
     "data": {
      "text/html": [
       "<div>\n",
       "<style scoped>\n",
       "    .dataframe tbody tr th:only-of-type {\n",
       "        vertical-align: middle;\n",
       "    }\n",
       "\n",
       "    .dataframe tbody tr th {\n",
       "        vertical-align: top;\n",
       "    }\n",
       "\n",
       "    .dataframe thead th {\n",
       "        text-align: right;\n",
       "    }\n",
       "</style>\n",
       "<table border=\"1\" class=\"dataframe\">\n",
       "  <thead>\n",
       "    <tr style=\"text-align: right;\">\n",
       "      <th></th>\n",
       "      <th>Unnamed: 0</th>\n",
       "      <th>id</th>\n",
       "      <th>mb_used</th>\n",
       "      <th>session_date</th>\n",
       "      <th>user_id</th>\n",
       "    </tr>\n",
       "  </thead>\n",
       "  <tbody>\n",
       "    <tr>\n",
       "      <th>0</th>\n",
       "      <td>0</td>\n",
       "      <td>1000_0</td>\n",
       "      <td>112.95</td>\n",
       "      <td>2018-11-25</td>\n",
       "      <td>1000</td>\n",
       "    </tr>\n",
       "    <tr>\n",
       "      <th>1</th>\n",
       "      <td>1</td>\n",
       "      <td>1000_1</td>\n",
       "      <td>1052.81</td>\n",
       "      <td>2018-09-07</td>\n",
       "      <td>1000</td>\n",
       "    </tr>\n",
       "    <tr>\n",
       "      <th>2</th>\n",
       "      <td>2</td>\n",
       "      <td>1000_2</td>\n",
       "      <td>1197.26</td>\n",
       "      <td>2018-06-25</td>\n",
       "      <td>1000</td>\n",
       "    </tr>\n",
       "    <tr>\n",
       "      <th>3</th>\n",
       "      <td>3</td>\n",
       "      <td>1000_3</td>\n",
       "      <td>550.27</td>\n",
       "      <td>2018-08-22</td>\n",
       "      <td>1000</td>\n",
       "    </tr>\n",
       "    <tr>\n",
       "      <th>4</th>\n",
       "      <td>4</td>\n",
       "      <td>1000_4</td>\n",
       "      <td>302.56</td>\n",
       "      <td>2018-09-24</td>\n",
       "      <td>1000</td>\n",
       "    </tr>\n",
       "  </tbody>\n",
       "</table>\n",
       "</div>"
      ],
      "text/plain": [
       "   Unnamed: 0      id  mb_used session_date  user_id\n",
       "0           0  1000_0   112.95   2018-11-25     1000\n",
       "1           1  1000_1  1052.81   2018-09-07     1000\n",
       "2           2  1000_2  1197.26   2018-06-25     1000\n",
       "3           3  1000_3   550.27   2018-08-22     1000\n",
       "4           4  1000_4   302.56   2018-09-24     1000"
      ]
     },
     "execution_count": 5,
     "metadata": {},
     "output_type": "execute_result"
    }
   ],
   "source": [
    "internet.head(5)"
   ]
  },
  {
   "cell_type": "markdown",
   "metadata": {},
   "source": [
    "Таблица internet:\n",
    "- id — уникальный номер сессии;\n",
    "- mb_used — объём потраченного за сессию интернет-трафика (в мегабайтах);\n",
    "- session_date — дата интернет-сессии;\n",
    "- user_id — идентификатор пользователя."
   ]
  },
  {
   "cell_type": "markdown",
   "metadata": {},
   "source": [
    "### Информация  о сообщениях"
   ]
  },
  {
   "cell_type": "code",
   "execution_count": 6,
   "metadata": {},
   "outputs": [
    {
     "name": "stdout",
     "output_type": "stream",
     "text": [
      "<class 'pandas.core.frame.DataFrame'>\n",
      "RangeIndex: 123036 entries, 0 to 123035\n",
      "Data columns (total 3 columns):\n",
      " #   Column        Non-Null Count   Dtype \n",
      "---  ------        --------------   ----- \n",
      " 0   id            123036 non-null  object\n",
      " 1   message_date  123036 non-null  object\n",
      " 2   user_id       123036 non-null  int64 \n",
      "dtypes: int64(1), object(2)\n",
      "memory usage: 2.8+ MB\n"
     ]
    }
   ],
   "source": [
    "try:\n",
    "    messages = pd.read_csv('C:/datasets/yandex_projects/telecom/messages.csv')\n",
    "except:\n",
    "    messages = pd.read_csv('/datasets/messages.csv')\n",
    "messages.info()"
   ]
  },
  {
   "cell_type": "code",
   "execution_count": 7,
   "metadata": {},
   "outputs": [
    {
     "data": {
      "text/html": [
       "<div>\n",
       "<style scoped>\n",
       "    .dataframe tbody tr th:only-of-type {\n",
       "        vertical-align: middle;\n",
       "    }\n",
       "\n",
       "    .dataframe tbody tr th {\n",
       "        vertical-align: top;\n",
       "    }\n",
       "\n",
       "    .dataframe thead th {\n",
       "        text-align: right;\n",
       "    }\n",
       "</style>\n",
       "<table border=\"1\" class=\"dataframe\">\n",
       "  <thead>\n",
       "    <tr style=\"text-align: right;\">\n",
       "      <th></th>\n",
       "      <th>id</th>\n",
       "      <th>message_date</th>\n",
       "      <th>user_id</th>\n",
       "    </tr>\n",
       "  </thead>\n",
       "  <tbody>\n",
       "    <tr>\n",
       "      <th>0</th>\n",
       "      <td>1000_0</td>\n",
       "      <td>2018-06-27</td>\n",
       "      <td>1000</td>\n",
       "    </tr>\n",
       "    <tr>\n",
       "      <th>1</th>\n",
       "      <td>1000_1</td>\n",
       "      <td>2018-10-08</td>\n",
       "      <td>1000</td>\n",
       "    </tr>\n",
       "    <tr>\n",
       "      <th>2</th>\n",
       "      <td>1000_2</td>\n",
       "      <td>2018-08-04</td>\n",
       "      <td>1000</td>\n",
       "    </tr>\n",
       "    <tr>\n",
       "      <th>3</th>\n",
       "      <td>1000_3</td>\n",
       "      <td>2018-06-16</td>\n",
       "      <td>1000</td>\n",
       "    </tr>\n",
       "    <tr>\n",
       "      <th>4</th>\n",
       "      <td>1000_4</td>\n",
       "      <td>2018-12-05</td>\n",
       "      <td>1000</td>\n",
       "    </tr>\n",
       "  </tbody>\n",
       "</table>\n",
       "</div>"
      ],
      "text/plain": [
       "       id message_date  user_id\n",
       "0  1000_0   2018-06-27     1000\n",
       "1  1000_1   2018-10-08     1000\n",
       "2  1000_2   2018-08-04     1000\n",
       "3  1000_3   2018-06-16     1000\n",
       "4  1000_4   2018-12-05     1000"
      ]
     },
     "execution_count": 7,
     "metadata": {},
     "output_type": "execute_result"
    }
   ],
   "source": [
    "messages.head(5)"
   ]
  },
  {
   "cell_type": "markdown",
   "metadata": {},
   "source": [
    "Таблица messages:\n",
    "- id — уникальный номер сообщения;\n",
    "- message_date — дата сообщения;\n",
    "- user_id — идентификатор пользователя, отправившего сообщение."
   ]
  },
  {
   "cell_type": "markdown",
   "metadata": {},
   "source": [
    "### Информация о тарифах"
   ]
  },
  {
   "cell_type": "code",
   "execution_count": 8,
   "metadata": {},
   "outputs": [
    {
     "name": "stdout",
     "output_type": "stream",
     "text": [
      "<class 'pandas.core.frame.DataFrame'>\n",
      "RangeIndex: 2 entries, 0 to 1\n",
      "Data columns (total 8 columns):\n",
      " #   Column                 Non-Null Count  Dtype \n",
      "---  ------                 --------------  ----- \n",
      " 0   messages_included      2 non-null      int64 \n",
      " 1   mb_per_month_included  2 non-null      int64 \n",
      " 2   minutes_included       2 non-null      int64 \n",
      " 3   rub_monthly_fee        2 non-null      int64 \n",
      " 4   rub_per_gb             2 non-null      int64 \n",
      " 5   rub_per_message        2 non-null      int64 \n",
      " 6   rub_per_minute         2 non-null      int64 \n",
      " 7   tariff_name            2 non-null      object\n",
      "dtypes: int64(7), object(1)\n",
      "memory usage: 256.0+ bytes\n"
     ]
    }
   ],
   "source": [
    "try:\n",
    "    tariffs = pd.read_csv('C:/datasets/yandex_projects/telecom/tariffs.csv')\n",
    "except:\n",
    "    tariffs = pd.read_csv('/datasets/tariffs.csv')\n",
    "tariffs.info()"
   ]
  },
  {
   "cell_type": "code",
   "execution_count": 9,
   "metadata": {},
   "outputs": [
    {
     "data": {
      "text/html": [
       "<div>\n",
       "<style scoped>\n",
       "    .dataframe tbody tr th:only-of-type {\n",
       "        vertical-align: middle;\n",
       "    }\n",
       "\n",
       "    .dataframe tbody tr th {\n",
       "        vertical-align: top;\n",
       "    }\n",
       "\n",
       "    .dataframe thead th {\n",
       "        text-align: right;\n",
       "    }\n",
       "</style>\n",
       "<table border=\"1\" class=\"dataframe\">\n",
       "  <thead>\n",
       "    <tr style=\"text-align: right;\">\n",
       "      <th></th>\n",
       "      <th>messages_included</th>\n",
       "      <th>mb_per_month_included</th>\n",
       "      <th>minutes_included</th>\n",
       "      <th>rub_monthly_fee</th>\n",
       "      <th>rub_per_gb</th>\n",
       "      <th>rub_per_message</th>\n",
       "      <th>rub_per_minute</th>\n",
       "      <th>tariff_name</th>\n",
       "    </tr>\n",
       "  </thead>\n",
       "  <tbody>\n",
       "    <tr>\n",
       "      <th>0</th>\n",
       "      <td>50</td>\n",
       "      <td>15360</td>\n",
       "      <td>500</td>\n",
       "      <td>550</td>\n",
       "      <td>200</td>\n",
       "      <td>3</td>\n",
       "      <td>3</td>\n",
       "      <td>smart</td>\n",
       "    </tr>\n",
       "    <tr>\n",
       "      <th>1</th>\n",
       "      <td>1000</td>\n",
       "      <td>30720</td>\n",
       "      <td>3000</td>\n",
       "      <td>1950</td>\n",
       "      <td>150</td>\n",
       "      <td>1</td>\n",
       "      <td>1</td>\n",
       "      <td>ultra</td>\n",
       "    </tr>\n",
       "  </tbody>\n",
       "</table>\n",
       "</div>"
      ],
      "text/plain": [
       "   messages_included  mb_per_month_included  minutes_included  \\\n",
       "0                 50                  15360               500   \n",
       "1               1000                  30720              3000   \n",
       "\n",
       "   rub_monthly_fee  rub_per_gb  rub_per_message  rub_per_minute tariff_name  \n",
       "0              550         200                3               3       smart  \n",
       "1             1950         150                1               1       ultra  "
      ]
     },
     "execution_count": 9,
     "metadata": {},
     "output_type": "execute_result"
    }
   ],
   "source": [
    "tariffs.head(5)"
   ]
  },
  {
   "cell_type": "markdown",
   "metadata": {},
   "source": [
    "Таблица tariffs:\n",
    "- tariff_name — название тарифа;\n",
    "- rub_monthly_fee — ежемесячная абонентская плата в рублях;\n",
    "- minutes_included — количество минут разговора в месяц, включённых в абонентскую плату;\n",
    "- messages_included — количество сообщений в месяц, включённых в абонентскую плату;\n",
    "- mb_per_month_included — объём интернет-трафика, включённого в абонентскую плату (в мегабайтах);\n",
    "- rub_per_minute — стоимость минуты разговора сверх тарифного пакета (например, если в тарифе 100 минут разговора в месяц, то со 101 минуты будет взиматься плата);\n",
    "- rub_per_message — стоимость отправки сообщения сверх тарифного пакета;\n",
    "- rub_per_gb — стоимость дополнительного гигабайта интернет-трафика сверх тарифного пакета (1 гигабайт = 1024 мегабайта)."
   ]
  },
  {
   "cell_type": "code",
   "execution_count": 10,
   "metadata": {},
   "outputs": [],
   "source": [
    "# Переведем МБ в ГБ:\n",
    "tariffs['mb_per_month_included'] = tariffs['mb_per_month_included'] / 1024\n",
    "tariffs.columns = ['messages_included', 'gb_per_month_included', 'minutes_included',\n",
    "       'rub_monthly_fee', 'rub_per_gb', 'rub_per_message', 'rub_per_minute',\n",
    "       'tariff']"
   ]
  },
  {
   "cell_type": "code",
   "execution_count": 11,
   "metadata": {},
   "outputs": [
    {
     "data": {
      "text/html": [
       "<div>\n",
       "<style scoped>\n",
       "    .dataframe tbody tr th:only-of-type {\n",
       "        vertical-align: middle;\n",
       "    }\n",
       "\n",
       "    .dataframe tbody tr th {\n",
       "        vertical-align: top;\n",
       "    }\n",
       "\n",
       "    .dataframe thead th {\n",
       "        text-align: right;\n",
       "    }\n",
       "</style>\n",
       "<table border=\"1\" class=\"dataframe\">\n",
       "  <thead>\n",
       "    <tr style=\"text-align: right;\">\n",
       "      <th></th>\n",
       "      <th>messages_included</th>\n",
       "      <th>gb_per_month_included</th>\n",
       "      <th>minutes_included</th>\n",
       "      <th>rub_monthly_fee</th>\n",
       "      <th>rub_per_gb</th>\n",
       "      <th>rub_per_message</th>\n",
       "      <th>rub_per_minute</th>\n",
       "      <th>tariff</th>\n",
       "    </tr>\n",
       "  </thead>\n",
       "  <tbody>\n",
       "    <tr>\n",
       "      <th>0</th>\n",
       "      <td>50</td>\n",
       "      <td>15.0</td>\n",
       "      <td>500</td>\n",
       "      <td>550</td>\n",
       "      <td>200</td>\n",
       "      <td>3</td>\n",
       "      <td>3</td>\n",
       "      <td>smart</td>\n",
       "    </tr>\n",
       "    <tr>\n",
       "      <th>1</th>\n",
       "      <td>1000</td>\n",
       "      <td>30.0</td>\n",
       "      <td>3000</td>\n",
       "      <td>1950</td>\n",
       "      <td>150</td>\n",
       "      <td>1</td>\n",
       "      <td>1</td>\n",
       "      <td>ultra</td>\n",
       "    </tr>\n",
       "  </tbody>\n",
       "</table>\n",
       "</div>"
      ],
      "text/plain": [
       "   messages_included  gb_per_month_included  minutes_included  \\\n",
       "0                 50                   15.0               500   \n",
       "1               1000                   30.0              3000   \n",
       "\n",
       "   rub_monthly_fee  rub_per_gb  rub_per_message  rub_per_minute tariff  \n",
       "0              550         200                3               3  smart  \n",
       "1             1950         150                1               1  ultra  "
      ]
     },
     "execution_count": 11,
     "metadata": {},
     "output_type": "execute_result"
    }
   ],
   "source": [
    "tariffs.head(5)"
   ]
  },
  {
   "cell_type": "markdown",
   "metadata": {},
   "source": [
    "### Информация о пользователях"
   ]
  },
  {
   "cell_type": "code",
   "execution_count": 12,
   "metadata": {},
   "outputs": [
    {
     "name": "stdout",
     "output_type": "stream",
     "text": [
      "<class 'pandas.core.frame.DataFrame'>\n",
      "RangeIndex: 500 entries, 0 to 499\n",
      "Data columns (total 8 columns):\n",
      " #   Column      Non-Null Count  Dtype \n",
      "---  ------      --------------  ----- \n",
      " 0   user_id     500 non-null    int64 \n",
      " 1   age         500 non-null    int64 \n",
      " 2   churn_date  38 non-null     object\n",
      " 3   city        500 non-null    object\n",
      " 4   first_name  500 non-null    object\n",
      " 5   last_name   500 non-null    object\n",
      " 6   reg_date    500 non-null    object\n",
      " 7   tariff      500 non-null    object\n",
      "dtypes: int64(2), object(6)\n",
      "memory usage: 31.4+ KB\n"
     ]
    }
   ],
   "source": [
    "try:\n",
    "    users = pd.read_csv('C:/datasets/yandex_projects/telecom/users.csv')\n",
    "except:\n",
    "    users = pd.read_csv('/datasets/users.csv')\n",
    "users.info()"
   ]
  },
  {
   "cell_type": "code",
   "execution_count": 13,
   "metadata": {},
   "outputs": [
    {
     "data": {
      "text/html": [
       "<div>\n",
       "<style scoped>\n",
       "    .dataframe tbody tr th:only-of-type {\n",
       "        vertical-align: middle;\n",
       "    }\n",
       "\n",
       "    .dataframe tbody tr th {\n",
       "        vertical-align: top;\n",
       "    }\n",
       "\n",
       "    .dataframe thead th {\n",
       "        text-align: right;\n",
       "    }\n",
       "</style>\n",
       "<table border=\"1\" class=\"dataframe\">\n",
       "  <thead>\n",
       "    <tr style=\"text-align: right;\">\n",
       "      <th></th>\n",
       "      <th>user_id</th>\n",
       "      <th>age</th>\n",
       "      <th>churn_date</th>\n",
       "      <th>city</th>\n",
       "      <th>first_name</th>\n",
       "      <th>last_name</th>\n",
       "      <th>reg_date</th>\n",
       "      <th>tariff</th>\n",
       "    </tr>\n",
       "  </thead>\n",
       "  <tbody>\n",
       "    <tr>\n",
       "      <th>0</th>\n",
       "      <td>1000</td>\n",
       "      <td>52</td>\n",
       "      <td>NaN</td>\n",
       "      <td>Краснодар</td>\n",
       "      <td>Рафаил</td>\n",
       "      <td>Верещагин</td>\n",
       "      <td>2018-05-25</td>\n",
       "      <td>ultra</td>\n",
       "    </tr>\n",
       "    <tr>\n",
       "      <th>1</th>\n",
       "      <td>1001</td>\n",
       "      <td>41</td>\n",
       "      <td>NaN</td>\n",
       "      <td>Москва</td>\n",
       "      <td>Иван</td>\n",
       "      <td>Ежов</td>\n",
       "      <td>2018-11-01</td>\n",
       "      <td>smart</td>\n",
       "    </tr>\n",
       "    <tr>\n",
       "      <th>2</th>\n",
       "      <td>1002</td>\n",
       "      <td>59</td>\n",
       "      <td>NaN</td>\n",
       "      <td>Стерлитамак</td>\n",
       "      <td>Евгений</td>\n",
       "      <td>Абрамович</td>\n",
       "      <td>2018-06-17</td>\n",
       "      <td>smart</td>\n",
       "    </tr>\n",
       "    <tr>\n",
       "      <th>3</th>\n",
       "      <td>1003</td>\n",
       "      <td>23</td>\n",
       "      <td>NaN</td>\n",
       "      <td>Москва</td>\n",
       "      <td>Белла</td>\n",
       "      <td>Белякова</td>\n",
       "      <td>2018-08-17</td>\n",
       "      <td>ultra</td>\n",
       "    </tr>\n",
       "    <tr>\n",
       "      <th>4</th>\n",
       "      <td>1004</td>\n",
       "      <td>68</td>\n",
       "      <td>NaN</td>\n",
       "      <td>Новокузнецк</td>\n",
       "      <td>Татьяна</td>\n",
       "      <td>Авдеенко</td>\n",
       "      <td>2018-05-14</td>\n",
       "      <td>ultra</td>\n",
       "    </tr>\n",
       "  </tbody>\n",
       "</table>\n",
       "</div>"
      ],
      "text/plain": [
       "   user_id  age churn_date         city first_name  last_name    reg_date  \\\n",
       "0     1000   52        NaN    Краснодар     Рафаил  Верещагин  2018-05-25   \n",
       "1     1001   41        NaN       Москва       Иван       Ежов  2018-11-01   \n",
       "2     1002   59        NaN  Стерлитамак    Евгений  Абрамович  2018-06-17   \n",
       "3     1003   23        NaN       Москва      Белла   Белякова  2018-08-17   \n",
       "4     1004   68        NaN  Новокузнецк    Татьяна   Авдеенко  2018-05-14   \n",
       "\n",
       "  tariff  \n",
       "0  ultra  \n",
       "1  smart  \n",
       "2  smart  \n",
       "3  ultra  \n",
       "4  ultra  "
      ]
     },
     "execution_count": 13,
     "metadata": {},
     "output_type": "execute_result"
    }
   ],
   "source": [
    "users.head(5)"
   ]
  },
  {
   "cell_type": "markdown",
   "metadata": {},
   "source": [
    "Таблица users:\n",
    "- user_id — уникальный идентификатор пользователя;\n",
    "- first_name — имя пользователя;\n",
    "- last_name — фамилия пользователя;\n",
    "- age — возраст пользователя (годы);\n",
    "- reg_date — дата подключения тарифа (день, месяц, год);\n",
    "- churn_date — дата прекращения пользования тарифом (если значение пропущено, то тариф ещё действовал на момент выгрузки данных);\n",
    "- city — город проживания пользователя;\n",
    "- tariff — название тарифного плана."
   ]
  },
  {
   "cell_type": "markdown",
   "metadata": {},
   "source": [
    "Видно, что в стобце churn_date (дата прекращения пользования тарифом) имеются пропуски. Известно, что если значение пропущено, то тариф ещё действовал на момент выгрузки данных. Значит у 462 человек тариф еще действует."
   ]
  },
  {
   "cell_type": "markdown",
   "metadata": {},
   "source": [
    "## Подготовка данных"
   ]
  },
  {
   "cell_type": "markdown",
   "metadata": {},
   "source": [
    "### Приведение данных к нужным типам"
   ]
  },
  {
   "cell_type": "code",
   "execution_count": 14,
   "metadata": {},
   "outputs": [],
   "source": [
    "# Заменим во всех таблицах тип данных даты на  datetime:\n",
    "\n",
    "calls['call_date'] = pd.to_datetime(calls['call_date'], format='%Y-%m-%d')\n",
    "calls['month'] = calls['call_date'].dt.month\n",
    "\n",
    "internet['session_date'] = pd.to_datetime(internet['session_date'], format='%Y-%m-%d')\n",
    "internet['month'] = internet['session_date'].dt.month\n",
    "\n",
    "messages['message_date'] = pd.to_datetime(messages['message_date'], format='%Y-%m-%d')\n",
    "messages['month'] = messages['message_date'].dt.month"
   ]
  },
  {
   "cell_type": "markdown",
   "metadata": {},
   "source": [
    "### Исправление ошибок в данных"
   ]
  },
  {
   "cell_type": "markdown",
   "metadata": {},
   "source": [
    "Мы знаем, что оператор округляет значения минут в большую сторону, поэтому округлим до большего значения и приведем к целочисленному типу после округления:"
   ]
  },
  {
   "cell_type": "code",
   "execution_count": 15,
   "metadata": {},
   "outputs": [],
   "source": [
    "calls['duration'] = np.ceil(calls['duration'])"
   ]
  },
  {
   "cell_type": "markdown",
   "metadata": {},
   "source": [
    "### Расчеты для каждого пользователя"
   ]
  },
  {
   "cell_type": "code",
   "execution_count": 16,
   "metadata": {},
   "outputs": [],
   "source": [
    "# Создадим одинаковый столбец во всех таблицах, чтобы можно было объединить в одну таблицу:\n",
    "\n",
    "calls['call_date'] = pd.to_datetime(calls['call_date'], format='%Y-%m-%d')\n",
    "calls['month'] = calls['call_date'].dt.month\n",
    "\n",
    "internet['session_date'] = pd.to_datetime(internet['session_date'], format='%Y-%m-%d')\n",
    "internet['month'] = internet['session_date'].dt.month\n",
    "\n",
    "messages['message_date'] = pd.to_datetime(messages['message_date'], format='%Y-%m-%d')\n",
    "messages['month'] = messages['message_date'].dt.month"
   ]
  },
  {
   "cell_type": "markdown",
   "metadata": {},
   "source": [
    "#### Количество сделанных звонков и израсходованных минут разговора по месяцам"
   ]
  },
  {
   "cell_type": "code",
   "execution_count": 17,
   "metadata": {
    "scrolled": true
   },
   "outputs": [
    {
     "data": {
      "text/html": [
       "<div>\n",
       "<style scoped>\n",
       "    .dataframe tbody tr th:only-of-type {\n",
       "        vertical-align: middle;\n",
       "    }\n",
       "\n",
       "    .dataframe tbody tr th {\n",
       "        vertical-align: top;\n",
       "    }\n",
       "\n",
       "    .dataframe thead th {\n",
       "        text-align: right;\n",
       "    }\n",
       "</style>\n",
       "<table border=\"1\" class=\"dataframe\">\n",
       "  <thead>\n",
       "    <tr style=\"text-align: right;\">\n",
       "      <th></th>\n",
       "      <th>user_id</th>\n",
       "      <th>month</th>\n",
       "      <th>calls_count</th>\n",
       "      <th>min_sum</th>\n",
       "    </tr>\n",
       "  </thead>\n",
       "  <tbody>\n",
       "    <tr>\n",
       "      <th>0</th>\n",
       "      <td>1000</td>\n",
       "      <td>5</td>\n",
       "      <td>22</td>\n",
       "      <td>159.0</td>\n",
       "    </tr>\n",
       "    <tr>\n",
       "      <th>1</th>\n",
       "      <td>1000</td>\n",
       "      <td>6</td>\n",
       "      <td>43</td>\n",
       "      <td>172.0</td>\n",
       "    </tr>\n",
       "    <tr>\n",
       "      <th>2</th>\n",
       "      <td>1000</td>\n",
       "      <td>7</td>\n",
       "      <td>47</td>\n",
       "      <td>340.0</td>\n",
       "    </tr>\n",
       "    <tr>\n",
       "      <th>3</th>\n",
       "      <td>1000</td>\n",
       "      <td>8</td>\n",
       "      <td>52</td>\n",
       "      <td>408.0</td>\n",
       "    </tr>\n",
       "    <tr>\n",
       "      <th>4</th>\n",
       "      <td>1000</td>\n",
       "      <td>9</td>\n",
       "      <td>58</td>\n",
       "      <td>466.0</td>\n",
       "    </tr>\n",
       "    <tr>\n",
       "      <th>...</th>\n",
       "      <td>...</td>\n",
       "      <td>...</td>\n",
       "      <td>...</td>\n",
       "      <td>...</td>\n",
       "    </tr>\n",
       "    <tr>\n",
       "      <th>3169</th>\n",
       "      <td>1498</td>\n",
       "      <td>10</td>\n",
       "      <td>41</td>\n",
       "      <td>247.0</td>\n",
       "    </tr>\n",
       "    <tr>\n",
       "      <th>3170</th>\n",
       "      <td>1499</td>\n",
       "      <td>9</td>\n",
       "      <td>9</td>\n",
       "      <td>70.0</td>\n",
       "    </tr>\n",
       "    <tr>\n",
       "      <th>3171</th>\n",
       "      <td>1499</td>\n",
       "      <td>10</td>\n",
       "      <td>68</td>\n",
       "      <td>449.0</td>\n",
       "    </tr>\n",
       "    <tr>\n",
       "      <th>3172</th>\n",
       "      <td>1499</td>\n",
       "      <td>11</td>\n",
       "      <td>74</td>\n",
       "      <td>612.0</td>\n",
       "    </tr>\n",
       "    <tr>\n",
       "      <th>3173</th>\n",
       "      <td>1499</td>\n",
       "      <td>12</td>\n",
       "      <td>69</td>\n",
       "      <td>492.0</td>\n",
       "    </tr>\n",
       "  </tbody>\n",
       "</table>\n",
       "<p>3174 rows × 4 columns</p>\n",
       "</div>"
      ],
      "text/plain": [
       "      user_id  month  calls_count  min_sum\n",
       "0        1000      5           22    159.0\n",
       "1        1000      6           43    172.0\n",
       "2        1000      7           47    340.0\n",
       "3        1000      8           52    408.0\n",
       "4        1000      9           58    466.0\n",
       "...       ...    ...          ...      ...\n",
       "3169     1498     10           41    247.0\n",
       "3170     1499      9            9     70.0\n",
       "3171     1499     10           68    449.0\n",
       "3172     1499     11           74    612.0\n",
       "3173     1499     12           69    492.0\n",
       "\n",
       "[3174 rows x 4 columns]"
      ]
     },
     "metadata": {},
     "output_type": "display_data"
    }
   ],
   "source": [
    "# Найдем количество сделанных звонков и израсходованных минут разговора по месяцам для каждого пользователя:\n",
    "calls_pivot = pd.pivot_table(calls, index=['user_id', 'month'], values = ['duration'], aggfunc=('sum', 'count')).reset_index()\n",
    "calls_pivot.columns = ['user_id', 'month', ( 'calls_count'), ( 'min_sum')]\n",
    "display(calls_pivot)"
   ]
  },
  {
   "cell_type": "markdown",
   "metadata": {},
   "source": [
    "#### Количество отправленных сообщений по месяцам"
   ]
  },
  {
   "cell_type": "code",
   "execution_count": 18,
   "metadata": {},
   "outputs": [
    {
     "data": {
      "text/html": [
       "<div>\n",
       "<style scoped>\n",
       "    .dataframe tbody tr th:only-of-type {\n",
       "        vertical-align: middle;\n",
       "    }\n",
       "\n",
       "    .dataframe tbody tr th {\n",
       "        vertical-align: top;\n",
       "    }\n",
       "\n",
       "    .dataframe thead th {\n",
       "        text-align: right;\n",
       "    }\n",
       "</style>\n",
       "<table border=\"1\" class=\"dataframe\">\n",
       "  <thead>\n",
       "    <tr style=\"text-align: right;\">\n",
       "      <th></th>\n",
       "      <th>user_id</th>\n",
       "      <th>month</th>\n",
       "      <th>messages_count</th>\n",
       "    </tr>\n",
       "  </thead>\n",
       "  <tbody>\n",
       "    <tr>\n",
       "      <th>0</th>\n",
       "      <td>1000</td>\n",
       "      <td>5</td>\n",
       "      <td>22</td>\n",
       "    </tr>\n",
       "    <tr>\n",
       "      <th>1</th>\n",
       "      <td>1000</td>\n",
       "      <td>6</td>\n",
       "      <td>60</td>\n",
       "    </tr>\n",
       "    <tr>\n",
       "      <th>2</th>\n",
       "      <td>1000</td>\n",
       "      <td>7</td>\n",
       "      <td>75</td>\n",
       "    </tr>\n",
       "    <tr>\n",
       "      <th>3</th>\n",
       "      <td>1000</td>\n",
       "      <td>8</td>\n",
       "      <td>81</td>\n",
       "    </tr>\n",
       "    <tr>\n",
       "      <th>4</th>\n",
       "      <td>1000</td>\n",
       "      <td>9</td>\n",
       "      <td>57</td>\n",
       "    </tr>\n",
       "    <tr>\n",
       "      <th>...</th>\n",
       "      <td>...</td>\n",
       "      <td>...</td>\n",
       "      <td>...</td>\n",
       "    </tr>\n",
       "    <tr>\n",
       "      <th>2712</th>\n",
       "      <td>1498</td>\n",
       "      <td>10</td>\n",
       "      <td>42</td>\n",
       "    </tr>\n",
       "    <tr>\n",
       "      <th>2713</th>\n",
       "      <td>1499</td>\n",
       "      <td>9</td>\n",
       "      <td>11</td>\n",
       "    </tr>\n",
       "    <tr>\n",
       "      <th>2714</th>\n",
       "      <td>1499</td>\n",
       "      <td>10</td>\n",
       "      <td>48</td>\n",
       "    </tr>\n",
       "    <tr>\n",
       "      <th>2715</th>\n",
       "      <td>1499</td>\n",
       "      <td>11</td>\n",
       "      <td>59</td>\n",
       "    </tr>\n",
       "    <tr>\n",
       "      <th>2716</th>\n",
       "      <td>1499</td>\n",
       "      <td>12</td>\n",
       "      <td>66</td>\n",
       "    </tr>\n",
       "  </tbody>\n",
       "</table>\n",
       "<p>2717 rows × 3 columns</p>\n",
       "</div>"
      ],
      "text/plain": [
       "      user_id  month  messages_count\n",
       "0        1000      5              22\n",
       "1        1000      6              60\n",
       "2        1000      7              75\n",
       "3        1000      8              81\n",
       "4        1000      9              57\n",
       "...       ...    ...             ...\n",
       "2712     1498     10              42\n",
       "2713     1499      9              11\n",
       "2714     1499     10              48\n",
       "2715     1499     11              59\n",
       "2716     1499     12              66\n",
       "\n",
       "[2717 rows x 3 columns]"
      ]
     },
     "metadata": {},
     "output_type": "display_data"
    }
   ],
   "source": [
    "# Посчитаем количество отправленных смс по месяцам для каждого пользователя:\n",
    "message_pivot = pd.pivot_table(messages, index=['user_id', 'month'], values = ['id'], aggfunc='count').reset_index()\n",
    "message_pivot.columns = ['user_id', 'month', 'messages_count']\n",
    "display(message_pivot)"
   ]
  },
  {
   "cell_type": "markdown",
   "metadata": {},
   "source": [
    "#### Объем израсходованного интернет-трафика по месяцам"
   ]
  },
  {
   "cell_type": "code",
   "execution_count": 19,
   "metadata": {},
   "outputs": [
    {
     "data": {
      "text/html": [
       "<div>\n",
       "<style scoped>\n",
       "    .dataframe tbody tr th:only-of-type {\n",
       "        vertical-align: middle;\n",
       "    }\n",
       "\n",
       "    .dataframe tbody tr th {\n",
       "        vertical-align: top;\n",
       "    }\n",
       "\n",
       "    .dataframe thead th {\n",
       "        text-align: right;\n",
       "    }\n",
       "</style>\n",
       "<table border=\"1\" class=\"dataframe\">\n",
       "  <thead>\n",
       "    <tr style=\"text-align: right;\">\n",
       "      <th></th>\n",
       "      <th>user_id</th>\n",
       "      <th>month</th>\n",
       "      <th>gb_used</th>\n",
       "    </tr>\n",
       "  </thead>\n",
       "  <tbody>\n",
       "    <tr>\n",
       "      <th>0</th>\n",
       "      <td>1000</td>\n",
       "      <td>5</td>\n",
       "      <td>2.200674</td>\n",
       "    </tr>\n",
       "    <tr>\n",
       "      <th>1</th>\n",
       "      <td>1000</td>\n",
       "      <td>6</td>\n",
       "      <td>22.689229</td>\n",
       "    </tr>\n",
       "    <tr>\n",
       "      <th>2</th>\n",
       "      <td>1000</td>\n",
       "      <td>7</td>\n",
       "      <td>13.675430</td>\n",
       "    </tr>\n",
       "    <tr>\n",
       "      <th>3</th>\n",
       "      <td>1000</td>\n",
       "      <td>8</td>\n",
       "      <td>13.726494</td>\n",
       "    </tr>\n",
       "    <tr>\n",
       "      <th>4</th>\n",
       "      <td>1000</td>\n",
       "      <td>9</td>\n",
       "      <td>14.227451</td>\n",
       "    </tr>\n",
       "    <tr>\n",
       "      <th>...</th>\n",
       "      <td>...</td>\n",
       "      <td>...</td>\n",
       "      <td>...</td>\n",
       "    </tr>\n",
       "    <tr>\n",
       "      <th>3198</th>\n",
       "      <td>1498</td>\n",
       "      <td>10</td>\n",
       "      <td>20.097031</td>\n",
       "    </tr>\n",
       "    <tr>\n",
       "      <th>3199</th>\n",
       "      <td>1499</td>\n",
       "      <td>9</td>\n",
       "      <td>1.802490</td>\n",
       "    </tr>\n",
       "    <tr>\n",
       "      <th>3200</th>\n",
       "      <td>1499</td>\n",
       "      <td>10</td>\n",
       "      <td>17.371592</td>\n",
       "    </tr>\n",
       "    <tr>\n",
       "      <th>3201</th>\n",
       "      <td>1499</td>\n",
       "      <td>11</td>\n",
       "      <td>17.542295</td>\n",
       "    </tr>\n",
       "    <tr>\n",
       "      <th>3202</th>\n",
       "      <td>1499</td>\n",
       "      <td>12</td>\n",
       "      <td>12.749590</td>\n",
       "    </tr>\n",
       "  </tbody>\n",
       "</table>\n",
       "<p>3203 rows × 3 columns</p>\n",
       "</div>"
      ],
      "text/plain": [
       "      user_id  month    gb_used\n",
       "0        1000      5   2.200674\n",
       "1        1000      6  22.689229\n",
       "2        1000      7  13.675430\n",
       "3        1000      8  13.726494\n",
       "4        1000      9  14.227451\n",
       "...       ...    ...        ...\n",
       "3198     1498     10  20.097031\n",
       "3199     1499      9   1.802490\n",
       "3200     1499     10  17.371592\n",
       "3201     1499     11  17.542295\n",
       "3202     1499     12  12.749590\n",
       "\n",
       "[3203 rows x 3 columns]"
      ]
     },
     "metadata": {},
     "output_type": "display_data"
    }
   ],
   "source": [
    "# Переведем Мб в Гб\n",
    "internet['gb_used'] = internet['mb_used']/1024\n",
    "\n",
    "# Посчитаем объем израсходованного интернет-трафика по месяцам для каждого пользователя:\n",
    "internet_pivot = pd.pivot_table(internet, index=['user_id', 'month'], values = ['gb_used'], aggfunc='sum').reset_index()\n",
    "display(internet_pivot)"
   ]
  },
  {
   "cell_type": "markdown",
   "metadata": {},
   "source": [
    "####  Помесячная выручка с каждого пользователя"
   ]
  },
  {
   "cell_type": "code",
   "execution_count": 20,
   "metadata": {},
   "outputs": [
    {
     "data": {
      "text/html": [
       "<div>\n",
       "<style scoped>\n",
       "    .dataframe tbody tr th:only-of-type {\n",
       "        vertical-align: middle;\n",
       "    }\n",
       "\n",
       "    .dataframe tbody tr th {\n",
       "        vertical-align: top;\n",
       "    }\n",
       "\n",
       "    .dataframe thead th {\n",
       "        text-align: right;\n",
       "    }\n",
       "</style>\n",
       "<table border=\"1\" class=\"dataframe\">\n",
       "  <thead>\n",
       "    <tr style=\"text-align: right;\">\n",
       "      <th></th>\n",
       "      <th>user_id</th>\n",
       "      <th>month</th>\n",
       "      <th>calls_count</th>\n",
       "      <th>min_sum</th>\n",
       "      <th>messages_count</th>\n",
       "      <th>gb_used</th>\n",
       "      <th>city</th>\n",
       "      <th>tariff</th>\n",
       "      <th>messages_included</th>\n",
       "      <th>gb_per_month_included</th>\n",
       "      <th>minutes_included</th>\n",
       "      <th>rub_monthly_fee</th>\n",
       "      <th>rub_per_gb</th>\n",
       "      <th>rub_per_message</th>\n",
       "      <th>rub_per_minute</th>\n",
       "      <th>sales</th>\n",
       "    </tr>\n",
       "  </thead>\n",
       "  <tbody>\n",
       "    <tr>\n",
       "      <th>0</th>\n",
       "      <td>1000</td>\n",
       "      <td>5.0</td>\n",
       "      <td>22</td>\n",
       "      <td>159</td>\n",
       "      <td>22</td>\n",
       "      <td>2</td>\n",
       "      <td>Краснодар</td>\n",
       "      <td>ultra</td>\n",
       "      <td>1000</td>\n",
       "      <td>30.0</td>\n",
       "      <td>3000</td>\n",
       "      <td>1950</td>\n",
       "      <td>150</td>\n",
       "      <td>1</td>\n",
       "      <td>1</td>\n",
       "      <td>1950.0</td>\n",
       "    </tr>\n",
       "    <tr>\n",
       "      <th>1</th>\n",
       "      <td>1000</td>\n",
       "      <td>6.0</td>\n",
       "      <td>43</td>\n",
       "      <td>172</td>\n",
       "      <td>60</td>\n",
       "      <td>22</td>\n",
       "      <td>Краснодар</td>\n",
       "      <td>ultra</td>\n",
       "      <td>1000</td>\n",
       "      <td>30.0</td>\n",
       "      <td>3000</td>\n",
       "      <td>1950</td>\n",
       "      <td>150</td>\n",
       "      <td>1</td>\n",
       "      <td>1</td>\n",
       "      <td>1950.0</td>\n",
       "    </tr>\n",
       "    <tr>\n",
       "      <th>2</th>\n",
       "      <td>1000</td>\n",
       "      <td>7.0</td>\n",
       "      <td>47</td>\n",
       "      <td>340</td>\n",
       "      <td>75</td>\n",
       "      <td>13</td>\n",
       "      <td>Краснодар</td>\n",
       "      <td>ultra</td>\n",
       "      <td>1000</td>\n",
       "      <td>30.0</td>\n",
       "      <td>3000</td>\n",
       "      <td>1950</td>\n",
       "      <td>150</td>\n",
       "      <td>1</td>\n",
       "      <td>1</td>\n",
       "      <td>1950.0</td>\n",
       "    </tr>\n",
       "    <tr>\n",
       "      <th>3</th>\n",
       "      <td>1000</td>\n",
       "      <td>8.0</td>\n",
       "      <td>52</td>\n",
       "      <td>408</td>\n",
       "      <td>81</td>\n",
       "      <td>13</td>\n",
       "      <td>Краснодар</td>\n",
       "      <td>ultra</td>\n",
       "      <td>1000</td>\n",
       "      <td>30.0</td>\n",
       "      <td>3000</td>\n",
       "      <td>1950</td>\n",
       "      <td>150</td>\n",
       "      <td>1</td>\n",
       "      <td>1</td>\n",
       "      <td>1950.0</td>\n",
       "    </tr>\n",
       "    <tr>\n",
       "      <th>4</th>\n",
       "      <td>1000</td>\n",
       "      <td>9.0</td>\n",
       "      <td>58</td>\n",
       "      <td>466</td>\n",
       "      <td>57</td>\n",
       "      <td>14</td>\n",
       "      <td>Краснодар</td>\n",
       "      <td>ultra</td>\n",
       "      <td>1000</td>\n",
       "      <td>30.0</td>\n",
       "      <td>3000</td>\n",
       "      <td>1950</td>\n",
       "      <td>150</td>\n",
       "      <td>1</td>\n",
       "      <td>1</td>\n",
       "      <td>1950.0</td>\n",
       "    </tr>\n",
       "    <tr>\n",
       "      <th>...</th>\n",
       "      <td>...</td>\n",
       "      <td>...</td>\n",
       "      <td>...</td>\n",
       "      <td>...</td>\n",
       "      <td>...</td>\n",
       "      <td>...</td>\n",
       "      <td>...</td>\n",
       "      <td>...</td>\n",
       "      <td>...</td>\n",
       "      <td>...</td>\n",
       "      <td>...</td>\n",
       "      <td>...</td>\n",
       "      <td>...</td>\n",
       "      <td>...</td>\n",
       "      <td>...</td>\n",
       "      <td>...</td>\n",
       "    </tr>\n",
       "    <tr>\n",
       "      <th>3211</th>\n",
       "      <td>1489</td>\n",
       "      <td>9.0</td>\n",
       "      <td>0</td>\n",
       "      <td>0</td>\n",
       "      <td>32</td>\n",
       "      <td>16</td>\n",
       "      <td>Санкт-Петербург</td>\n",
       "      <td>smart</td>\n",
       "      <td>50</td>\n",
       "      <td>15.0</td>\n",
       "      <td>500</td>\n",
       "      <td>550</td>\n",
       "      <td>200</td>\n",
       "      <td>3</td>\n",
       "      <td>3</td>\n",
       "      <td>750.0</td>\n",
       "    </tr>\n",
       "    <tr>\n",
       "      <th>3212</th>\n",
       "      <td>1489</td>\n",
       "      <td>10.0</td>\n",
       "      <td>0</td>\n",
       "      <td>0</td>\n",
       "      <td>21</td>\n",
       "      <td>19</td>\n",
       "      <td>Санкт-Петербург</td>\n",
       "      <td>smart</td>\n",
       "      <td>50</td>\n",
       "      <td>15.0</td>\n",
       "      <td>500</td>\n",
       "      <td>550</td>\n",
       "      <td>200</td>\n",
       "      <td>3</td>\n",
       "      <td>3</td>\n",
       "      <td>1350.0</td>\n",
       "    </tr>\n",
       "    <tr>\n",
       "      <th>3213</th>\n",
       "      <td>1489</td>\n",
       "      <td>11.0</td>\n",
       "      <td>0</td>\n",
       "      <td>0</td>\n",
       "      <td>20</td>\n",
       "      <td>17</td>\n",
       "      <td>Санкт-Петербург</td>\n",
       "      <td>smart</td>\n",
       "      <td>50</td>\n",
       "      <td>15.0</td>\n",
       "      <td>500</td>\n",
       "      <td>550</td>\n",
       "      <td>200</td>\n",
       "      <td>3</td>\n",
       "      <td>3</td>\n",
       "      <td>950.0</td>\n",
       "    </tr>\n",
       "    <tr>\n",
       "      <th>3214</th>\n",
       "      <td>1489</td>\n",
       "      <td>12.0</td>\n",
       "      <td>0</td>\n",
       "      <td>0</td>\n",
       "      <td>35</td>\n",
       "      <td>16</td>\n",
       "      <td>Санкт-Петербург</td>\n",
       "      <td>smart</td>\n",
       "      <td>50</td>\n",
       "      <td>15.0</td>\n",
       "      <td>500</td>\n",
       "      <td>550</td>\n",
       "      <td>200</td>\n",
       "      <td>3</td>\n",
       "      <td>3</td>\n",
       "      <td>750.0</td>\n",
       "    </tr>\n",
       "    <tr>\n",
       "      <th>3215</th>\n",
       "      <td>1371</td>\n",
       "      <td>NaN</td>\n",
       "      <td>0</td>\n",
       "      <td>0</td>\n",
       "      <td>0</td>\n",
       "      <td>0</td>\n",
       "      <td>Омск</td>\n",
       "      <td>smart</td>\n",
       "      <td>50</td>\n",
       "      <td>15.0</td>\n",
       "      <td>500</td>\n",
       "      <td>550</td>\n",
       "      <td>200</td>\n",
       "      <td>3</td>\n",
       "      <td>3</td>\n",
       "      <td>550.0</td>\n",
       "    </tr>\n",
       "  </tbody>\n",
       "</table>\n",
       "<p>3216 rows × 16 columns</p>\n",
       "</div>"
      ],
      "text/plain": [
       "      user_id  month  calls_count  min_sum  messages_count  gb_used  \\\n",
       "0        1000    5.0           22      159              22        2   \n",
       "1        1000    6.0           43      172              60       22   \n",
       "2        1000    7.0           47      340              75       13   \n",
       "3        1000    8.0           52      408              81       13   \n",
       "4        1000    9.0           58      466              57       14   \n",
       "...       ...    ...          ...      ...             ...      ...   \n",
       "3211     1489    9.0            0        0              32       16   \n",
       "3212     1489   10.0            0        0              21       19   \n",
       "3213     1489   11.0            0        0              20       17   \n",
       "3214     1489   12.0            0        0              35       16   \n",
       "3215     1371    NaN            0        0               0        0   \n",
       "\n",
       "                 city tariff  messages_included  gb_per_month_included  \\\n",
       "0           Краснодар  ultra               1000                   30.0   \n",
       "1           Краснодар  ultra               1000                   30.0   \n",
       "2           Краснодар  ultra               1000                   30.0   \n",
       "3           Краснодар  ultra               1000                   30.0   \n",
       "4           Краснодар  ultra               1000                   30.0   \n",
       "...               ...    ...                ...                    ...   \n",
       "3211  Санкт-Петербург  smart                 50                   15.0   \n",
       "3212  Санкт-Петербург  smart                 50                   15.0   \n",
       "3213  Санкт-Петербург  smart                 50                   15.0   \n",
       "3214  Санкт-Петербург  smart                 50                   15.0   \n",
       "3215             Омск  smart                 50                   15.0   \n",
       "\n",
       "      minutes_included  rub_monthly_fee  rub_per_gb  rub_per_message  \\\n",
       "0                 3000             1950         150                1   \n",
       "1                 3000             1950         150                1   \n",
       "2                 3000             1950         150                1   \n",
       "3                 3000             1950         150                1   \n",
       "4                 3000             1950         150                1   \n",
       "...                ...              ...         ...              ...   \n",
       "3211               500              550         200                3   \n",
       "3212               500              550         200                3   \n",
       "3213               500              550         200                3   \n",
       "3214               500              550         200                3   \n",
       "3215               500              550         200                3   \n",
       "\n",
       "      rub_per_minute   sales  \n",
       "0                  1  1950.0  \n",
       "1                  1  1950.0  \n",
       "2                  1  1950.0  \n",
       "3                  1  1950.0  \n",
       "4                  1  1950.0  \n",
       "...              ...     ...  \n",
       "3211               3   750.0  \n",
       "3212               3  1350.0  \n",
       "3213               3   950.0  \n",
       "3214               3   750.0  \n",
       "3215               3   550.0  \n",
       "\n",
       "[3216 rows x 16 columns]"
      ]
     },
     "execution_count": 20,
     "metadata": {},
     "output_type": "execute_result"
    }
   ],
   "source": [
    "# Объединим в единый датасет таблицы звонков, смс, интернета, тарифов и данные пользователей:\n",
    "data = calls_pivot.merge(message_pivot, on=['user_id', 'month'],  how='outer')\n",
    "data = data.merge(internet_pivot, on=['user_id', 'month'], how='outer')\n",
    "data = data.merge(users, on=['user_id'], how='outer')\n",
    "data = data.merge(tariffs, on=['tariff'],  how='outer')\n",
    "\n",
    "# Уберем ненужные для анализа столбцы:\n",
    "data.drop(['age', 'first_name', 'last_name', 'churn_date', 'reg_date'], axis='columns', inplace=True)\n",
    "\n",
    "# Заполним пропуски нулями:\n",
    "columns = ['calls_count', 'min_sum','messages_count','gb_used']\n",
    "for col in columns:\n",
    "     data[col] = data[col].fillna(value='0').astype('int')\n",
    "        \n",
    "# Посчитаем помесячную выручку с каждого пользователя:\n",
    "def sales (data):\n",
    "    min_sum=data['min_sum']\n",
    "    messages_count=data['messages_count']\n",
    "    gb_used=data['gb_used']\n",
    "    rub_monthly_fee =data['rub_monthly_fee']\n",
    "    \n",
    "    delta_min= max(((min_sum-data['minutes_included'])*data['rub_per_minute']), 0)\n",
    "    delta_mess= max(((messages_count-data['messages_included']) * data['rub_per_message']), 0)\n",
    "    delta_data= max((np.ceil(gb_used)-data['gb_per_month_included'])*data['rub_per_gb'], 0)                \n",
    "    total = rub_monthly_fee + delta_min + delta_mess + delta_data\n",
    "                    \n",
    "    return total\n",
    "    \n",
    "data['sales'] = data.apply(sales, axis=1)\n",
    "data"
   ]
  },
  {
   "cell_type": "markdown",
   "metadata": {},
   "source": [
    "## Анализ данных выборки по каждому тарифу"
   ]
  },
  {
   "cell_type": "markdown",
   "metadata": {},
   "source": [
    "### Количество минут разговора в месяц"
   ]
  },
  {
   "cell_type": "markdown",
   "metadata": {},
   "source": [
    "Определим исходя из выборки, сколько минут разговора требуется пользователям каждого тарифа в месяц."
   ]
  },
  {
   "cell_type": "code",
   "execution_count": 21,
   "metadata": {},
   "outputs": [
    {
     "data": {
      "image/png": "[encoded data removed]",
      "text/plain": [
       "<Figure size 432x288 with 1 Axes>"
      ]
     },
     "metadata": {
      "needs_background": "light"
     },
     "output_type": "display_data"
    }
   ],
   "source": [
    "# Сделаем две выборки, раделенные по тарифам:\n",
    "data_smart = data.query('tariff == \"smart\"')\n",
    "data_ultra = data.query('tariff == \"ultra\"')\n",
    "\n",
    "# Построим гистограммы распределения количества минут разговоров по каждому тарифу:\n",
    "data_smart['min_sum'].hist(alpha = 0.7, range = (0,1400), label=\"Смарт\")\n",
    "data_ultra['min_sum'].hist(alpha = 0.5, range = (0,1400), label=\"Ультра\")\n",
    "plt.legend()\n",
    "plt.title('Распределение количества минут разговора по тарифам')\n",
    "plt.xlabel('Количество минут')\n",
    "plt.ylabel('Частота')\n",
    "plt.show()"
   ]
  },
  {
   "cell_type": "markdown",
   "metadata": {},
   "source": [
    "Из гистограммы по тарифу Смарт видим, что у нас биноминальное распределение, немного скошенное вправо. Значит, медиана будет чуть меньше среднего.<br>Также из графика распределения видно, что тарифом Ультра пользуется намного меньше людей, чем тарифом Смарт. \n",
    "Из гистограммы видно, что чаще всего на тарифе Смарт пользователи тратят примерно 300-400 минут в месяц, а пользователи тарифа Ультра в широком диапазоне от 0 до 800 минут. <br> Согласно тарифам, тариф Смарт включает в себя 500 минут разговора, тогда как тариф Ультра содержит 3000 минут разговора. <br> Таким образом, можно прийти к следующим выводам:\n",
    "- некоторой части тарифа Смарт приходится доплачивать за дополнительные минуты разговора, т.к. ежемесячный лимит времени на разговоры иногда превышается; \n",
    "- среди пользователей тарифа Ультра почти не встречаются абоненты, которые бы доплачивали за дополнительные минуты разговора, т.к.они с большим запасом укладываются в лимит."
   ]
  },
  {
   "cell_type": "code",
   "execution_count": 22,
   "metadata": {},
   "outputs": [
    {
     "data": {
      "text/html": [
       "<div>\n",
       "<style scoped>\n",
       "    .dataframe tbody tr th:only-of-type {\n",
       "        vertical-align: middle;\n",
       "    }\n",
       "\n",
       "    .dataframe tbody tr th {\n",
       "        vertical-align: top;\n",
       "    }\n",
       "\n",
       "    .dataframe thead tr th {\n",
       "        text-align: left;\n",
       "    }\n",
       "\n",
       "    .dataframe thead tr:last-of-type th {\n",
       "        text-align: right;\n",
       "    }\n",
       "</style>\n",
       "<table border=\"1\" class=\"dataframe\">\n",
       "  <thead>\n",
       "    <tr>\n",
       "      <th></th>\n",
       "      <th>mean</th>\n",
       "      <th>var</th>\n",
       "      <th>std</th>\n",
       "    </tr>\n",
       "    <tr>\n",
       "      <th></th>\n",
       "      <th>min_sum</th>\n",
       "      <th>min_sum</th>\n",
       "      <th>min_sum</th>\n",
       "    </tr>\n",
       "    <tr>\n",
       "      <th>tariff</th>\n",
       "      <th></th>\n",
       "      <th></th>\n",
       "      <th></th>\n",
       "    </tr>\n",
       "  </thead>\n",
       "  <tbody>\n",
       "    <tr>\n",
       "      <th>smart</th>\n",
       "      <td>417.747534</td>\n",
       "      <td>36281.393836</td>\n",
       "      <td>190.476754</td>\n",
       "    </tr>\n",
       "    <tr>\n",
       "      <th>ultra</th>\n",
       "      <td>526.089249</td>\n",
       "      <td>101052.493549</td>\n",
       "      <td>317.887549</td>\n",
       "    </tr>\n",
       "  </tbody>\n",
       "</table>\n",
       "</div>"
      ],
      "text/plain": [
       "              mean            var         std\n",
       "           min_sum        min_sum     min_sum\n",
       "tariff                                       \n",
       "smart   417.747534   36281.393836  190.476754\n",
       "ultra   526.089249  101052.493549  317.887549"
      ]
     },
     "execution_count": 22,
     "metadata": {},
     "output_type": "execute_result"
    }
   ],
   "source": [
    "# Посчитаем среднее, дисперсию и стандартное октлонение для количества минут разговора по тарифам:\n",
    "data.pivot_table(index = ['tariff'], values = 'min_sum', aggfunc = ['mean', np.var, np.std] )"
   ]
  },
  {
   "cell_type": "markdown",
   "metadata": {},
   "source": [
    "Пользователи тарифа Смарт в среднем разговаривают по телефону 371 минут в месяц. Это обусловлено тем, что в тариф включено лишь 500 минут. Дисперсия составляет 29 тыс минут, а стандартное отклонение - 170 минут.<br>\n",
    "Пользователи тарифа Ультра в среднем разговаривают по телефону 467 минут в месяц. Причём иногда их разговоры могут достигать 1400 минут в месяц, т.к. в тариф Ультра включено 3000 минут. Дисперсия составляет 80 тыс минут, а стандартное отклонение - 283 минуты."
   ]
  },
  {
   "cell_type": "code",
   "execution_count": 23,
   "metadata": {
    "scrolled": true
   },
   "outputs": [
    {
     "data": {
      "image/png": "[encoded data removed]",
      "text/plain": [
       "<Figure size 432x288 with 2 Axes>"
      ]
     },
     "metadata": {
      "needs_background": "light"
     },
     "output_type": "display_data"
    }
   ],
   "source": [
    "# Посчитаем и визуализируем среднее для количества минут разговора по месяцам:\n",
    "calls_mean = data.pivot_table(index='month', columns = 'tariff', values='min_sum', aggfunc = 'mean')\n",
    "sns.heatmap(calls_mean)\n",
    "plt.title('Среднее количество минут разговора по тарифам')\n",
    "plt.xlabel('Тариф')\n",
    "plt.ylabel('Месяц')\n",
    "plt.show()"
   ]
  },
  {
   "cell_type": "markdown",
   "metadata": {},
   "source": [
    "Из хитмэпа видно, что с каждым месяцем среднее количество минут разговора в месяц растёт как для тарифа Смарт, так и для тарифа Ультра. <br>За исключением февраля пользователи тарифа Ультра в среднем разговаривают всегда больше, чем пользователи тарифа Смарт. Лишь в феврале они потратили примерно одинаковое количество минут разговора."
   ]
  },
  {
   "cell_type": "code",
   "execution_count": 24,
   "metadata": {
    "scrolled": true
   },
   "outputs": [
    {
     "data": {
      "image/png": "[encoded data removed]",
      "text/plain": [
       "<Figure size 432x288 with 2 Axes>"
      ]
     },
     "metadata": {
      "needs_background": "light"
     },
     "output_type": "display_data"
    }
   ],
   "source": [
    "# Посчитаем и визуализируем дисперсию для количества минут разговора по месяцам:\n",
    "calls_var = data.pivot_table(index='month', columns = 'tariff', values='min_sum', aggfunc = (lambda x: round(np.var(x),2)))\n",
    "sns.heatmap(calls_var)\n",
    "plt.title('Дисперсия количества минут разговора по тарифам')\n",
    "plt.xlabel('Тариф')\n",
    "plt.ylabel('Месяц')\n",
    "plt.show()"
   ]
  },
  {
   "cell_type": "markdown",
   "metadata": {},
   "source": [
    "Из хитмэпа видно, что с каждым месяцем дисперсия количества минут разговора в месяц также растёт для обоих тарифов. <br>Дисперсия по тарифу Ультра всегда больше, чем по тарифу Смарт."
   ]
  },
  {
   "cell_type": "code",
   "execution_count": 25,
   "metadata": {
    "scrolled": true
   },
   "outputs": [
    {
     "data": {
      "image/png": "[encoded data removed]",
      "text/plain": [
       "<Figure size 432x288 with 2 Axes>"
      ]
     },
     "metadata": {
      "needs_background": "light"
     },
     "output_type": "display_data"
    }
   ],
   "source": [
    "# Посчитаем и визуализируем стандартное отклонение для количества минут разговора по месяцам:\n",
    "calls_std = data.pivot_table(index='month', columns = 'tariff', values='min_sum', aggfunc=(lambda x: round(np.std(x),2)))\n",
    "sns.heatmap(calls_std)\n",
    "plt.title('Стандартное отклонение количества минут разговора по тарифам')\n",
    "plt.xlabel('Тариф')\n",
    "plt.ylabel('Месяц')\n",
    "plt.show()"
   ]
  },
  {
   "cell_type": "markdown",
   "metadata": {},
   "source": [
    "Из хитмэпа видно, что с каждым месяцем стандартное отклонение количества минут разговора в месяц также растёт для обоих тарифов. <br>Стандартное отклонение по тарифу Ультра всегда больше, чем по тарифу Смарт."
   ]
  },
  {
   "cell_type": "markdown",
   "metadata": {},
   "source": [
    "### Количество сообщений в месяц"
   ]
  },
  {
   "cell_type": "markdown",
   "metadata": {},
   "source": [
    "Определим исходя из выборки, сколько сообщений отсылают пользователи каждого тарифа в месяц."
   ]
  },
  {
   "cell_type": "code",
   "execution_count": 26,
   "metadata": {},
   "outputs": [
    {
     "data": {
      "image/png": "[encoded data removed]",
      "text/plain": [
       "<Figure size 432x288 with 1 Axes>"
      ]
     },
     "metadata": {
      "needs_background": "light"
     },
     "output_type": "display_data"
    }
   ],
   "source": [
    "# Построим гистограммы распределения количества сообщений по каждому тарифу:\n",
    "data_smart['messages_count'].hist(alpha = 0.7, range = (0,250), label=\"Смарт\")\n",
    "data_ultra['messages_count'].hist(alpha = 0.5, range = (0,250), label=\"Ультра\")\n",
    "plt.legend()\n",
    "plt.title('Распределение количества сообщений по тарифам')\n",
    "plt.xlabel('Количество сообщений')\n",
    "plt.ylabel('Частота')\n",
    "plt.show()"
   ]
  },
  {
   "cell_type": "markdown",
   "metadata": {},
   "source": [
    "В обеих гистограммах биноминальное распределение, скошенное вправо - медиана будет меньше среднего.\n",
    "Пользователи тарифа Смарт в основном используют до 50 смс в месяц. Однако некоторым польхователям тарифа Смарт не хватает количества смс и им приходится перелачивать. Пользователи тарифа Ультра не переплачивают за смс, так как вполне укладываются в свой лимит 1000 смс при том, что большинство не расходует и 100 смс в месяц."
   ]
  },
  {
   "cell_type": "code",
   "execution_count": 27,
   "metadata": {},
   "outputs": [
    {
     "data": {
      "text/html": [
       "<div>\n",
       "<style scoped>\n",
       "    .dataframe tbody tr th:only-of-type {\n",
       "        vertical-align: middle;\n",
       "    }\n",
       "\n",
       "    .dataframe tbody tr th {\n",
       "        vertical-align: top;\n",
       "    }\n",
       "\n",
       "    .dataframe thead tr th {\n",
       "        text-align: left;\n",
       "    }\n",
       "\n",
       "    .dataframe thead tr:last-of-type th {\n",
       "        text-align: right;\n",
       "    }\n",
       "</style>\n",
       "<table border=\"1\" class=\"dataframe\">\n",
       "  <thead>\n",
       "    <tr>\n",
       "      <th></th>\n",
       "      <th>mean</th>\n",
       "      <th>var</th>\n",
       "      <th>std</th>\n",
       "    </tr>\n",
       "    <tr>\n",
       "      <th></th>\n",
       "      <th>messages_count</th>\n",
       "      <th>messages_count</th>\n",
       "      <th>messages_count</th>\n",
       "    </tr>\n",
       "    <tr>\n",
       "      <th>tariff</th>\n",
       "      <th></th>\n",
       "      <th></th>\n",
       "      <th></th>\n",
       "    </tr>\n",
       "  </thead>\n",
       "  <tbody>\n",
       "    <tr>\n",
       "      <th>smart</th>\n",
       "      <td>33.369058</td>\n",
       "      <td>796.955256</td>\n",
       "      <td>28.230396</td>\n",
       "    </tr>\n",
       "    <tr>\n",
       "      <th>ultra</th>\n",
       "      <td>49.313387</td>\n",
       "      <td>2285.417425</td>\n",
       "      <td>47.806040</td>\n",
       "    </tr>\n",
       "  </tbody>\n",
       "</table>\n",
       "</div>"
      ],
      "text/plain": [
       "                 mean            var            std\n",
       "       messages_count messages_count messages_count\n",
       "tariff                                             \n",
       "smart       33.369058     796.955256      28.230396\n",
       "ultra       49.313387    2285.417425      47.806040"
      ]
     },
     "execution_count": 27,
     "metadata": {},
     "output_type": "execute_result"
    }
   ],
   "source": [
    "# Посчитаем среднее, дисперсию и стандартное октлонение для количества сообщений по тарифам:\n",
    "data.pivot_table(index = ['tariff'], values = 'messages_count', aggfunc = ['mean', np.var, np.std] )"
   ]
  },
  {
   "cell_type": "markdown",
   "metadata": {},
   "source": [
    "Пользователи тарифа Смарт в среднем отсылают 33 смс в месяц. Это обусловлено тем, что в тариф включено лишь 50 смс. Дисперсия составляет 797 смс, а стандартное отклонение - 28 смс.<br>\n",
    "Пользователи тарифа Ультра в среднем шлют 49 смс в месяц. Дисперсия составляет 2285 смс, а стандартное отклонение - 47 смс."
   ]
  },
  {
   "cell_type": "code",
   "execution_count": 28,
   "metadata": {
    "scrolled": true
   },
   "outputs": [
    {
     "data": {
      "image/png": "[encoded data removed]",
      "text/plain": [
       "<Figure size 432x288 with 2 Axes>"
      ]
     },
     "metadata": {
      "needs_background": "light"
     },
     "output_type": "display_data"
    }
   ],
   "source": [
    "# Посчитаем и визуализируем среднее для количества сообщений по месяцам:\n",
    "messages_mean = data.pivot_table(index='month', columns = 'tariff', values='messages_count', aggfunc = 'mean')\n",
    "sns.heatmap(messages_mean)\n",
    "plt.title('Среднее количество сообщений по тарифам')\n",
    "plt.xlabel('Тариф')\n",
    "plt.ylabel('Месяц')\n",
    "plt.show()"
   ]
  },
  {
   "cell_type": "markdown",
   "metadata": {},
   "source": [
    "Из хитмэпа видно, что с каждым месяцем среднее количество смс в месяц растёт как для тарифа Смарт, так и для тарифа Ультра. <br>За исключением февраля пользователи тарифа Ультра в среднем шлют смс всегда чаще, чем пользователи тарифа Смарт. Лишь в феврале они отослали меньшее количество смс."
   ]
  },
  {
   "cell_type": "code",
   "execution_count": 29,
   "metadata": {
    "scrolled": true
   },
   "outputs": [
    {
     "data": {
      "image/png": "[encoded data removed]",
      "text/plain": [
       "<Figure size 432x288 with 2 Axes>"
      ]
     },
     "metadata": {
      "needs_background": "light"
     },
     "output_type": "display_data"
    }
   ],
   "source": [
    "# Посчитаем и визуализируем дисперсию для количества сообщений по месяцам:\n",
    "messages_var = data.pivot_table(index='month', columns = 'tariff', values='messages_count', aggfunc = (lambda x: round(np.var(x),2)))\n",
    "sns.heatmap(messages_var)\n",
    "plt.title('Дисперсия количества сообщений по тарифам')\n",
    "plt.xlabel('Тариф')\n",
    "plt.ylabel('Месяц')\n",
    "plt.show()"
   ]
  },
  {
   "cell_type": "markdown",
   "metadata": {},
   "source": [
    "Из хитмэпа видно, что с каждым месяцем дисперсия количества смс в месяц также растёт для обоих тарифов. <br>Дисперсия по тарифу Ультра всегда больше, чем по тарифу Смарт."
   ]
  },
  {
   "cell_type": "code",
   "execution_count": 30,
   "metadata": {
    "scrolled": true
   },
   "outputs": [
    {
     "data": {
      "image/png": "[encoded data removed]",
      "text/plain": [
       "<Figure size 432x288 with 2 Axes>"
      ]
     },
     "metadata": {
      "needs_background": "light"
     },
     "output_type": "display_data"
    }
   ],
   "source": [
    "# Посчитаем и визуализируем стандартное отклонение для количества сообщений по месяцам:\n",
    "messages_std = data.pivot_table(index='month', columns = 'tariff', values='messages_count', aggfunc=(lambda x: round(np.std(x),2)))\n",
    "sns.heatmap(messages_std)\n",
    "plt.title('Стандартное отклонение количества сообщений по тарифам')\n",
    "plt.xlabel('Тариф')\n",
    "plt.ylabel('Месяц')\n",
    "plt.show()"
   ]
  },
  {
   "cell_type": "markdown",
   "metadata": {},
   "source": [
    "Из хитмэпа видно, что с каждым месяцем стандартное отклонение количества смс в месяц также растёт для обоих тарифов. <br>Стандартное отклонение по тарифу Ультра всегда больше, чем по тарифу Смарт."
   ]
  },
  {
   "cell_type": "markdown",
   "metadata": {},
   "source": [
    "### Объём интернет-трафика в месяц"
   ]
  },
  {
   "cell_type": "markdown",
   "metadata": {},
   "source": [
    "Определим исходя из выборки, сколько минут разговора требуется пользователям каждого тарифа в месяц."
   ]
  },
  {
   "cell_type": "code",
   "execution_count": 31,
   "metadata": {},
   "outputs": [
    {
     "data": {
      "image/png": "[encoded data removed]",
      "text/plain": [
       "<Figure size 432x288 with 1 Axes>"
      ]
     },
     "metadata": {
      "needs_background": "light"
     },
     "output_type": "display_data"
    }
   ],
   "source": [
    "# Построим гистограммы распределения количества интернет-трафика по каждому тарифу:\n",
    "data_smart['gb_used'].hist(alpha = 0.7, range = (0,50), label=\"Смарт\")\n",
    "data_ultra['gb_used'].hist(alpha = 0.5, range = (0,50), label=\"Ультра\")\n",
    "plt.legend()\n",
    "plt.title('Распределение количества интернет-трафика по тарифам')\n",
    "plt.xlabel('Количество Гб')\n",
    "plt.ylabel('Частота')\n",
    "plt.show()"
   ]
  },
  {
   "cell_type": "markdown",
   "metadata": {},
   "source": [
    "Распределение трафика по тарифу Смарт скошено влево - медиана будет чуть больше среднего. Пользователи тарифа Смарт используют в основном от 10 до 20 ГБ в месяц, при включенном в тариф объеме интернета в 15 ГБ. Следовательно можно сделать вывод , что пользователи зачастую переплачивают.<br>\n",
    "Распределение трафика по тарифу Ультра больше стремится к нормальному, но немного скошено вправо. Пользователи тарифа Ультра при включенном в 30 ГБ объема интернета, используют от 10 до 30 ГБ. "
   ]
  },
  {
   "cell_type": "code",
   "execution_count": 32,
   "metadata": {},
   "outputs": [
    {
     "data": {
      "text/html": [
       "<div>\n",
       "<style scoped>\n",
       "    .dataframe tbody tr th:only-of-type {\n",
       "        vertical-align: middle;\n",
       "    }\n",
       "\n",
       "    .dataframe tbody tr th {\n",
       "        vertical-align: top;\n",
       "    }\n",
       "\n",
       "    .dataframe thead tr th {\n",
       "        text-align: left;\n",
       "    }\n",
       "\n",
       "    .dataframe thead tr:last-of-type th {\n",
       "        text-align: right;\n",
       "    }\n",
       "</style>\n",
       "<table border=\"1\" class=\"dataframe\">\n",
       "  <thead>\n",
       "    <tr>\n",
       "      <th></th>\n",
       "      <th>mean</th>\n",
       "      <th>var</th>\n",
       "      <th>std</th>\n",
       "    </tr>\n",
       "    <tr>\n",
       "      <th></th>\n",
       "      <th>gb_used</th>\n",
       "      <th>gb_used</th>\n",
       "      <th>gb_used</th>\n",
       "    </tr>\n",
       "    <tr>\n",
       "      <th>tariff</th>\n",
       "      <th></th>\n",
       "      <th></th>\n",
       "      <th></th>\n",
       "    </tr>\n",
       "  </thead>\n",
       "  <tbody>\n",
       "    <tr>\n",
       "      <th>smart</th>\n",
       "      <td>15.322870</td>\n",
       "      <td>33.090863</td>\n",
       "      <td>5.752466</td>\n",
       "    </tr>\n",
       "    <tr>\n",
       "      <th>ultra</th>\n",
       "      <td>18.486815</td>\n",
       "      <td>96.916070</td>\n",
       "      <td>9.844596</td>\n",
       "    </tr>\n",
       "  </tbody>\n",
       "</table>\n",
       "</div>"
      ],
      "text/plain": [
       "             mean        var       std\n",
       "          gb_used    gb_used   gb_used\n",
       "tariff                                \n",
       "smart   15.322870  33.090863  5.752466\n",
       "ultra   18.486815  96.916070  9.844596"
      ]
     },
     "execution_count": 32,
     "metadata": {},
     "output_type": "execute_result"
    }
   ],
   "source": [
    "# Посчитаем среднее, дисперсию и стандартное октлонение для количества интернет-трафика по тарифам:\n",
    "data.pivot_table(index = ['tariff'], values = 'gb_used', aggfunc = ['mean', np.var, np.std] )"
   ]
  },
  {
   "cell_type": "markdown",
   "metadata": {},
   "source": [
    "Пользователи тарифа Смарт в среднем трятят 15 Гб интернета в месяц. Это обусловлено тем, что в тариф включено лишь 15 Гб интернета в месяц. Дисперсия составляет 33 Гб, а стандартное отклонение - 5,7 Гб.<br>\n",
    "Пользователи тарифа Ультра в среднем трятят 18 Гб интернета в месяц. Но есть пользователи, которые используют и до 50 ГБ интенет трафика. Дисперсия составляет 97 Гб, а стандартное отклонение - 9,8 Гб."
   ]
  },
  {
   "cell_type": "code",
   "execution_count": 33,
   "metadata": {
    "scrolled": true
   },
   "outputs": [
    {
     "data": {
      "image/png": "[encoded data removed]",
      "text/plain": [
       "<Figure size 432x288 with 2 Axes>"
      ]
     },
     "metadata": {
      "needs_background": "light"
     },
     "output_type": "display_data"
    }
   ],
   "source": [
    "# Посчитаем и визуализируем среднее для количества интернет-трафика по месяцам:\n",
    "gb_mean = data.pivot_table(index='month', columns = 'tariff', values='gb_used', aggfunc = 'mean')\n",
    "sns.heatmap(gb_mean)\n",
    "plt.title('Среднее количество интернет-трафика по тарифам')\n",
    "plt.xlabel('Тариф')\n",
    "plt.ylabel('Месяц')\n",
    "plt.show()"
   ]
  },
  {
   "cell_type": "markdown",
   "metadata": {},
   "source": [
    "Из хитмэпа видно, что с каждым месяцем пользователи обоих тарифов более охотно тратят интернет-трафик. <br>За исключением февраля пользователи тарифа Ультра в среднем используют больше Гб, чем пользователи тарифа Смарт."
   ]
  },
  {
   "cell_type": "code",
   "execution_count": 34,
   "metadata": {
    "scrolled": true
   },
   "outputs": [
    {
     "data": {
      "image/png": "[encoded data removed]",
      "text/plain": [
       "<Figure size 432x288 with 2 Axes>"
      ]
     },
     "metadata": {
      "needs_background": "light"
     },
     "output_type": "display_data"
    }
   ],
   "source": [
    "# Посчитаем и визуализируем дисперсию для количества интернет-трафика по месяцам:\n",
    "gb_var = data.pivot_table(index='month', columns = 'tariff', values='gb_used', aggfunc = (lambda x: round(np.var(x),2)))\n",
    "sns.heatmap(gb_var)\n",
    "plt.title('Дисперсия количества минут разговора по тарифам')\n",
    "plt.xlabel('Тариф')\n",
    "plt.ylabel('Месяц')\n",
    "plt.show()"
   ]
  },
  {
   "cell_type": "markdown",
   "metadata": {},
   "source": [
    "Из хитмэпа видно, что с каждым месяцем дисперсия количества интернет-трафика в месяц также растёт для обоих тарифов. Но для тарифа Ультра растёт быстрее. <br>Дисперсия по тарифу Ультра всегда больше, чем по тарифу Смарт."
   ]
  },
  {
   "cell_type": "code",
   "execution_count": 35,
   "metadata": {
    "scrolled": false
   },
   "outputs": [
    {
     "data": {
      "image/png": "[encoded data removed]",
      "text/plain": [
       "<Figure size 432x288 with 2 Axes>"
      ]
     },
     "metadata": {
      "needs_background": "light"
     },
     "output_type": "display_data"
    }
   ],
   "source": [
    "# Посчитаем и визуализируем стандартное отклонение для количества интернет-трафика по месяцам:\n",
    "gb_std = data.pivot_table(index='month', columns = 'tariff', values='gb_used', aggfunc=(lambda x: round(np.std(x),2)))\n",
    "sns.heatmap(gb_std)\n",
    "plt.title('Стандартное отклонение количества минут разговора по тарифам')\n",
    "plt.xlabel('Тариф')\n",
    "plt.ylabel('Месяц')\n",
    "plt.show()"
   ]
  },
  {
   "cell_type": "markdown",
   "metadata": {},
   "source": [
    "Из хитмэпа видно, что для обоих тарифов стандартное отклонение существенно не меняется в течение года.<br>Стандартное отклонение по тарифу Ультра всегда больше, чем по тарифу Смарт."
   ]
  },
  {
   "cell_type": "code",
   "execution_count": 36,
   "metadata": {},
   "outputs": [
    {
     "data": {
      "image/png": "[encoded data removed]",
      "text/plain": [
       "<Figure size 432x288 with 1 Axes>"
      ]
     },
     "metadata": {
      "needs_background": "light"
     },
     "output_type": "display_data"
    }
   ],
   "source": [
    "sns.barplot(x='month', y='sales', data=data, hue = 'tariff')\n",
    "plt.xlabel('Месяц')\n",
    "plt.ylabel('Выручка, руб')\n",
    "plt.title('Средняя выручка по двум тарифам')\n",
    "plt.show()"
   ]
  },
  {
   "cell_type": "code",
   "execution_count": 37,
   "metadata": {},
   "outputs": [
    {
     "data": {
      "text/html": [
       "<div>\n",
       "<style scoped>\n",
       "    .dataframe tbody tr th:only-of-type {\n",
       "        vertical-align: middle;\n",
       "    }\n",
       "\n",
       "    .dataframe tbody tr th {\n",
       "        vertical-align: top;\n",
       "    }\n",
       "\n",
       "    .dataframe thead th {\n",
       "        text-align: right;\n",
       "    }\n",
       "</style>\n",
       "<table border=\"1\" class=\"dataframe\">\n",
       "  <thead>\n",
       "    <tr style=\"text-align: right;\">\n",
       "      <th></th>\n",
       "      <th>sales</th>\n",
       "    </tr>\n",
       "    <tr>\n",
       "      <th>tariff</th>\n",
       "      <th></th>\n",
       "    </tr>\n",
       "  </thead>\n",
       "  <tbody>\n",
       "    <tr>\n",
       "      <th>smart</th>\n",
       "      <td>1172.691031</td>\n",
       "    </tr>\n",
       "    <tr>\n",
       "      <th>ultra</th>\n",
       "      <td>2049.645030</td>\n",
       "    </tr>\n",
       "  </tbody>\n",
       "</table>\n",
       "</div>"
      ],
      "text/plain": [
       "              sales\n",
       "tariff             \n",
       "smart   1172.691031\n",
       "ultra   2049.645030"
      ]
     },
     "execution_count": 37,
     "metadata": {},
     "output_type": "execute_result"
    }
   ],
   "source": [
    "data.pivot_table(index = ['tariff'], values = 'sales', aggfunc = 'mean' )"
   ]
  },
  {
   "cell_type": "markdown",
   "metadata": {},
   "source": [
    "В среднем выручка от каждого пользователя на тарифе Смарт составила 1 172 руб в месяц при том, что цена тарифа всего 550 руб. Получается, что пользователи тарифа Смарт переплачивают в среднем 622 руб в месяц, т.е. больше, чем стоил их тариф (!) Причем переплата растет от месяца к месяцу к концу года. <br> А по тарифу Ультра средняя выручка составила 2 049 руб в месяц при том, что цена тарифа всего 1950 руб. Их переплата составляет в среднем всего 99 руб."
   ]
  },
  {
   "cell_type": "markdown",
   "metadata": {},
   "source": [
    "## Проверка гипотез"
   ]
  },
  {
   "cell_type": "markdown",
   "metadata": {},
   "source": [
    "### Средняя выручка пользователей тарифов «Ультра» и «Смарт» различаются"
   ]
  },
  {
   "cell_type": "markdown",
   "metadata": {},
   "source": [
    "Сформируем нулевую гипотезу H0 - средняя выручка пользователей тарифов «Ультра» и «Смарт» не различается.<br>\n",
    "Сформируем альтернативную гипотезу H1 - Средняя выручка пользователей тарифов «Ультра» и «Смарт» различается.<br>\n",
    "Критический уровень статистической значимости зададим alpha =0.05, чтобы вероятность правильности нашего вывода была 95% и больше."
   ]
  },
  {
   "cell_type": "code",
   "execution_count": 38,
   "metadata": {},
   "outputs": [
    {
     "name": "stdout",
     "output_type": "stream",
     "text": [
      "P-value: 3.0481957189513244e-226\n",
      "Отвергаем нулевую гипотезу\n"
     ]
    }
   ],
   "source": [
    "sales_smart = data.query('tariff == \"smart\"')['sales']\n",
    "sales_ultra = data.query('tariff == \"ultra\"')['sales']\n",
    "alpha = .05\n",
    "results = st.ttest_ind(\n",
    "    sales_smart, \n",
    "    sales_ultra)\n",
    "\n",
    "print('P-value:', results.pvalue)\n",
    "\n",
    "if (results.pvalue < alpha):\n",
    "    print(\"Отвергаем нулевую гипотезу\")\n",
    "else:\n",
    "    print(\"Не получилось отвергнуть нулевую гипотезу\")"
   ]
  },
  {
   "cell_type": "markdown",
   "metadata": {},
   "source": [
    "Для выбранного уровня значимости нулевая гипотеза не подтвердилась. Следовательно можно сделать вывод, что **средняя выручка пользователей тарифов «Ультра» и «Смарт» различается.**"
   ]
  },
  {
   "cell_type": "markdown",
   "metadata": {},
   "source": [
    "### Cредняя выручка пользователей из Москвы отличается от выручки пользователей из других регионов"
   ]
  },
  {
   "cell_type": "markdown",
   "metadata": {},
   "source": [
    "Сформируем нулевую гипотезу H0 - средняя выручка пользователей из Москвы не отличается от выручки пользователей из других регионов.<br>\n",
    "Сформируем альтернативную гипотезу H1 - средняя выручка пользователей из Москвы отличается от выручки пользователей из других регионов.<br>\n",
    "Критический уровень статистической значимости также зададим alpha = 0.05."
   ]
  },
  {
   "cell_type": "code",
   "execution_count": 39,
   "metadata": {},
   "outputs": [
    {
     "name": "stdout",
     "output_type": "stream",
     "text": [
      "P-value: 0.37930405825891833\n",
      "Не получилось отвергнуть нулевую гипотезу\n"
     ]
    }
   ],
   "source": [
    "sales_moscow = data.query('city == \"Москва\"')['sales']\n",
    "sales_other = data.query('city != \"Москва\"')['sales']\n",
    "from scipy import stats as st\n",
    "alpha = .05\n",
    "results = st.ttest_ind(\n",
    "    sales_moscow, \n",
    "    sales_other)\n",
    "\n",
    "print('P-value:', results.pvalue)\n",
    "\n",
    "if (results.pvalue < alpha):\n",
    "    print(\"Отвергаем нулевую гипотезу\")\n",
    "else:\n",
    "    print(\"Не получилось отвергнуть нулевую гипотезу\")"
   ]
  },
  {
   "cell_type": "markdown",
   "metadata": {},
   "source": [
    "Для выбранного уровня значимости не получилось отвергнуть нулевую гипотезу. Следовательно можно сделать вывод, что **средняя выручка пользователей из Москвы не отличается от выручки пользователей из других регионов.**"
   ]
  },
  {
   "cell_type": "markdown",
   "metadata": {},
   "source": [
    "## Вывод"
   ]
  },
  {
   "cell_type": "markdown",
   "metadata": {},
   "source": [
    "Мы провели предварительный анализ тарифов Смарт и Ультра на небольшой выборке из 500 клиентов «Мегалайна». Пользователей использующих тариф Смарт в предоставленной нам выборке намного больше, чем пользователей тарифа Ультра. Мы заметили, что активность в разговорах, отправке смс и потреблении интернет-трафика пользователей обоих тарифов растёт от месяца к месяцу в течение всего года (за исключением февраля)."
   ]
  },
  {
   "cell_type": "markdown",
   "metadata": {},
   "source": [
    "Проанализировав данные по пользователям, мы увидели, что люди использующие тариф Ультра в среднем совершают более длительные звонки, чаще отправляют сообщения и больше используют интернет. "
   ]
  },
  {
   "cell_type": "markdown",
   "metadata": {},
   "source": [
    "В отличие от пользователей тарифа Ультра некоторой части тарифа Смарт приходится доплачивать за дополнительные минуты разговора и дополнительные смс, т.к. ежемесячный лимит времени на разговоры и сообщения превышается. \n",
    "Значительная часть пользователей тарифа Смарт дополнительно платит и за интернет-трафик, как и некоторые пользователи тарифа Ультра. Таким образом, пользователи тарифа Смарт намного чаще переплачивают за ту или иную услугу, нежели пользователи тарифа Ультра. В среднем пользователям тарифа Смарт приходится переплачивать сумму, превышающую стоимость их тарифа, причем ближе к концу года переплата возрастала.\n",
    "\n",
    "Тариф Ультра хорошо подходит тем пользователям, которые в основном общаются через смс и по телефону. А для пользователей которым ольше нужен хороший интернет больше подходит тариф Смарт."
   ]
  },
  {
   "cell_type": "markdown",
   "metadata": {},
   "source": [
    "Несмотря на то, что пользователи тарифа Смарт сильно переплачивают, можно сделать вывод, что пользователи, которые используют тариф Ультра, все-таки выгоднее обходятся компании, так как стоимость их тарифа больше чем в 3 раза выше стоимости тарифа Смарт, а звонков и смс они в основном тратят значительно ниже лимита. При этом, многие пользователи тарифа Ультра еще и доплачивают за интернет. А вот пользователи тарифа Смарт стараются полностью расходовать свои лимиты, а стоимость абонентской платы намного ниже."
   ]
  },
  {
   "cell_type": "markdown",
   "metadata": {},
   "source": [
    "Также при помощи p-value тестирования были проврены две гипотезы. Исходя из расчетов этих гипотез, мы можем смело утверждать следующее:\n",
    "- средняя выручка пользователей тарифов «Ультра» и «Смарт» различается;\n",
    "- местонахождение не влияет на уровень выручки пользователей."
   ]
  }
 ],
 "metadata": {
  "ExecuteTimeLog": [
   {
    "duration": 2172,
    "start_time": "2022-06-01T12:16:04.692Z"
   },
   {
    "duration": 337,
    "start_time": "2022-06-01T12:17:20.867Z"
   },
   {
    "duration": 4,
    "start_time": "2022-06-02T08:56:22.184Z"
   },
   {
    "duration": 1103,
    "start_time": "2022-06-02T08:56:53.850Z"
   },
   {
    "duration": 268,
    "start_time": "2022-06-02T08:57:15.999Z"
   },
   {
    "duration": 193,
    "start_time": "2022-06-02T08:57:38.126Z"
   },
   {
    "duration": 3,
    "start_time": "2022-06-02T08:59:40.719Z"
   },
   {
    "duration": 2,
    "start_time": "2022-06-02T08:59:47.011Z"
   },
   {
    "duration": 19,
    "start_time": "2022-06-02T09:02:27.429Z"
   },
   {
    "duration": 3,
    "start_time": "2022-06-02T09:04:11.870Z"
   },
   {
    "duration": 379,
    "start_time": "2022-06-02T09:06:41.929Z"
   },
   {
    "duration": 9,
    "start_time": "2022-06-02T09:06:44.511Z"
   },
   {
    "duration": 361,
    "start_time": "2022-06-02T09:08:24.574Z"
   },
   {
    "duration": 11,
    "start_time": "2022-06-02T09:08:27.540Z"
   },
   {
    "duration": 79,
    "start_time": "2022-06-02T09:09:31.340Z"
   },
   {
    "duration": 13,
    "start_time": "2022-06-02T09:09:33.813Z"
   },
   {
    "duration": 95,
    "start_time": "2022-06-02T09:11:34.262Z"
   },
   {
    "duration": 11,
    "start_time": "2022-06-02T09:11:38.320Z"
   },
   {
    "duration": 61,
    "start_time": "2022-06-05T13:23:58.283Z"
   },
   {
    "duration": 6,
    "start_time": "2022-06-05T13:24:12.983Z"
   },
   {
    "duration": 869,
    "start_time": "2022-06-05T13:24:19.346Z"
   },
   {
    "duration": 261,
    "start_time": "2022-06-05T13:24:20.217Z"
   },
   {
    "duration": 15,
    "start_time": "2022-06-05T13:24:20.479Z"
   },
   {
    "duration": 351,
    "start_time": "2022-06-05T13:24:20.496Z"
   },
   {
    "duration": 8,
    "start_time": "2022-06-05T13:24:20.850Z"
   },
   {
    "duration": 356,
    "start_time": "2022-06-05T13:24:20.860Z"
   },
   {
    "duration": 7,
    "start_time": "2022-06-05T13:24:21.217Z"
   },
   {
    "duration": 91,
    "start_time": "2022-06-05T13:24:21.226Z"
   },
   {
    "duration": 7,
    "start_time": "2022-06-05T13:24:21.319Z"
   },
   {
    "duration": 79,
    "start_time": "2022-06-05T13:24:21.327Z"
   },
   {
    "duration": 8,
    "start_time": "2022-06-05T13:24:21.408Z"
   },
   {
    "duration": 20,
    "start_time": "2022-06-05T13:24:21.418Z"
   },
   {
    "duration": 7,
    "start_time": "2022-06-05T13:24:25.915Z"
   },
   {
    "duration": 7,
    "start_time": "2022-06-05T13:26:10.771Z"
   },
   {
    "duration": 5,
    "start_time": "2022-06-05T13:26:24.943Z"
   },
   {
    "duration": 89,
    "start_time": "2022-06-05T13:26:42.954Z"
   },
   {
    "duration": 51,
    "start_time": "2022-06-05T13:27:00.098Z"
   },
   {
    "duration": 30,
    "start_time": "2022-06-05T13:27:12.987Z"
   },
   {
    "duration": 33,
    "start_time": "2022-06-05T13:27:24.672Z"
   },
   {
    "duration": 85,
    "start_time": "2022-06-05T13:27:32.589Z"
   },
   {
    "duration": 37,
    "start_time": "2022-06-05T13:27:34.440Z"
   },
   {
    "duration": 34,
    "start_time": "2022-06-05T13:27:36.509Z"
   },
   {
    "duration": 24,
    "start_time": "2022-06-05T13:28:05.327Z"
   },
   {
    "duration": 28,
    "start_time": "2022-06-05T13:28:06.974Z"
   },
   {
    "duration": 35,
    "start_time": "2022-06-05T13:28:08.349Z"
   },
   {
    "duration": 34,
    "start_time": "2022-06-05T13:29:04.518Z"
   },
   {
    "duration": 34,
    "start_time": "2022-06-05T13:29:20.157Z"
   },
   {
    "duration": 2,
    "start_time": "2022-06-05T13:41:06.690Z"
   },
   {
    "duration": 74,
    "start_time": "2022-06-05T13:44:20.946Z"
   },
   {
    "duration": 3,
    "start_time": "2022-06-05T13:47:33.824Z"
   },
   {
    "duration": 2,
    "start_time": "2022-06-05T13:50:06.696Z"
   },
   {
    "duration": 121,
    "start_time": "2022-06-05T13:50:29.687Z"
   },
   {
    "duration": 76,
    "start_time": "2022-06-05T13:50:42.344Z"
   },
   {
    "duration": 9,
    "start_time": "2022-06-05T14:01:18.975Z"
   },
   {
    "duration": 81,
    "start_time": "2022-06-05T14:02:03.274Z"
   },
   {
    "duration": 54,
    "start_time": "2022-06-05T14:02:20.308Z"
   },
   {
    "duration": 41,
    "start_time": "2022-06-05T14:03:19.902Z"
   },
   {
    "duration": 41,
    "start_time": "2022-06-05T14:03:24.546Z"
   },
   {
    "duration": 39,
    "start_time": "2022-06-05T14:04:05.475Z"
   },
   {
    "duration": 47,
    "start_time": "2022-06-05T14:05:06.444Z"
   },
   {
    "duration": 33,
    "start_time": "2022-06-05T14:05:28.752Z"
   },
   {
    "duration": 9,
    "start_time": "2022-06-05T14:07:50.581Z"
   },
   {
    "duration": 8,
    "start_time": "2022-06-05T14:08:48.157Z"
   },
   {
    "duration": 9,
    "start_time": "2022-06-05T14:08:54.073Z"
   },
   {
    "duration": 28,
    "start_time": "2022-06-05T14:08:59.483Z"
   },
   {
    "duration": 27,
    "start_time": "2022-06-05T14:09:34.941Z"
   },
   {
    "duration": 26,
    "start_time": "2022-06-05T14:09:47.477Z"
   },
   {
    "duration": 32,
    "start_time": "2022-06-05T14:09:52.906Z"
   },
   {
    "duration": 22,
    "start_time": "2022-06-05T14:10:08.921Z"
   },
   {
    "duration": 22,
    "start_time": "2022-06-05T14:10:28.829Z"
   },
   {
    "duration": 22,
    "start_time": "2022-06-05T14:10:55.898Z"
   },
   {
    "duration": 298,
    "start_time": "2022-06-05T14:21:32.801Z"
   },
   {
    "duration": 302,
    "start_time": "2022-06-05T14:21:59.608Z"
   },
   {
    "duration": 26,
    "start_time": "2022-06-05T14:27:48.252Z"
   },
   {
    "duration": 24,
    "start_time": "2022-06-05T14:27:53.087Z"
   },
   {
    "duration": 20,
    "start_time": "2022-06-05T14:31:01.248Z"
   },
   {
    "duration": 31,
    "start_time": "2022-06-05T14:34:33.542Z"
   },
   {
    "duration": 307,
    "start_time": "2022-06-05T14:34:48.122Z"
   },
   {
    "duration": 8,
    "start_time": "2022-06-05T14:35:42.250Z"
   },
   {
    "duration": 8,
    "start_time": "2022-06-05T14:35:52.493Z"
   },
   {
    "duration": 7,
    "start_time": "2022-06-05T14:35:54.948Z"
   },
   {
    "duration": 434,
    "start_time": "2022-06-05T14:37:34.760Z"
   },
   {
    "duration": 412,
    "start_time": "2022-06-05T14:38:23.434Z"
   },
   {
    "duration": 417,
    "start_time": "2022-06-05T14:39:18.796Z"
   },
   {
    "duration": 393,
    "start_time": "2022-06-05T14:39:33.620Z"
   },
   {
    "duration": 381,
    "start_time": "2022-06-05T14:40:17.318Z"
   },
   {
    "duration": 41,
    "start_time": "2022-06-05T14:40:38.753Z"
   },
   {
    "duration": 2,
    "start_time": "2022-06-05T14:41:11.156Z"
   },
   {
    "duration": 886,
    "start_time": "2022-06-05T14:41:18.526Z"
   },
   {
    "duration": 183,
    "start_time": "2022-06-05T14:41:19.413Z"
   },
   {
    "duration": 15,
    "start_time": "2022-06-05T14:41:19.599Z"
   },
   {
    "duration": 153,
    "start_time": "2022-06-05T14:41:19.615Z"
   },
   {
    "duration": 8,
    "start_time": "2022-06-05T14:41:19.769Z"
   },
   {
    "duration": 97,
    "start_time": "2022-06-05T14:41:19.778Z"
   },
   {
    "duration": 6,
    "start_time": "2022-06-05T14:41:19.877Z"
   },
   {
    "duration": 28,
    "start_time": "2022-06-05T14:41:19.885Z"
   },
   {
    "duration": 7,
    "start_time": "2022-06-05T14:41:19.915Z"
   },
   {
    "duration": 38,
    "start_time": "2022-06-05T14:41:19.925Z"
   },
   {
    "duration": 8,
    "start_time": "2022-06-05T14:41:19.965Z"
   },
   {
    "duration": 111,
    "start_time": "2022-06-05T14:41:19.975Z"
   },
   {
    "duration": 7,
    "start_time": "2022-06-05T14:41:20.088Z"
   },
   {
    "duration": 138,
    "start_time": "2022-06-05T14:41:20.096Z"
   },
   {
    "duration": 44,
    "start_time": "2022-06-05T14:41:20.236Z"
   },
   {
    "duration": 30,
    "start_time": "2022-06-05T14:41:20.281Z"
   },
   {
    "duration": 40,
    "start_time": "2022-06-05T14:41:20.313Z"
   },
   {
    "duration": 125,
    "start_time": "2022-06-05T14:41:20.355Z"
   },
   {
    "duration": 8,
    "start_time": "2022-06-05T14:41:20.482Z"
   },
   {
    "duration": 522,
    "start_time": "2022-06-05T14:42:19.238Z"
   },
   {
    "duration": 421,
    "start_time": "2022-06-05T14:43:02.009Z"
   },
   {
    "duration": 7,
    "start_time": "2022-06-05T14:44:02.292Z"
   },
   {
    "duration": 113,
    "start_time": "2022-06-05T14:44:17.494Z"
   },
   {
    "duration": 7,
    "start_time": "2022-06-05T14:44:20.644Z"
   },
   {
    "duration": 105,
    "start_time": "2022-06-05T14:44:39.458Z"
   },
   {
    "duration": 119,
    "start_time": "2022-06-05T14:45:09.597Z"
   },
   {
    "duration": 8,
    "start_time": "2022-06-05T14:45:18.596Z"
   },
   {
    "duration": 56,
    "start_time": "2022-06-05T14:47:13.456Z"
   },
   {
    "duration": 888,
    "start_time": "2022-06-05T14:47:14.350Z"
   },
   {
    "duration": 187,
    "start_time": "2022-06-05T14:47:15.240Z"
   },
   {
    "duration": 15,
    "start_time": "2022-06-05T14:47:15.429Z"
   },
   {
    "duration": 174,
    "start_time": "2022-06-05T14:47:15.445Z"
   },
   {
    "duration": 12,
    "start_time": "2022-06-05T14:47:15.621Z"
   },
   {
    "duration": 144,
    "start_time": "2022-06-05T14:47:15.635Z"
   },
   {
    "duration": 13,
    "start_time": "2022-06-05T14:47:15.781Z"
   },
   {
    "duration": 34,
    "start_time": "2022-06-05T14:47:15.796Z"
   },
   {
    "duration": 8,
    "start_time": "2022-06-05T14:47:15.832Z"
   },
   {
    "duration": 36,
    "start_time": "2022-06-05T14:47:15.842Z"
   },
   {
    "duration": 11,
    "start_time": "2022-06-05T14:47:15.879Z"
   },
   {
    "duration": 114,
    "start_time": "2022-06-05T14:47:15.891Z"
   },
   {
    "duration": 8,
    "start_time": "2022-06-05T14:47:16.007Z"
   },
   {
    "duration": 154,
    "start_time": "2022-06-05T14:47:16.018Z"
   },
   {
    "duration": 59,
    "start_time": "2022-06-05T14:47:16.174Z"
   },
   {
    "duration": 41,
    "start_time": "2022-06-05T14:47:16.235Z"
   },
   {
    "duration": 57,
    "start_time": "2022-06-05T14:47:16.279Z"
   },
   {
    "duration": 169,
    "start_time": "2022-06-05T14:47:16.339Z"
   },
   {
    "duration": 9,
    "start_time": "2022-06-05T14:47:16.510Z"
   },
   {
    "duration": 850,
    "start_time": "2022-06-05T14:50:23.962Z"
   },
   {
    "duration": 184,
    "start_time": "2022-06-05T14:50:24.814Z"
   },
   {
    "duration": 13,
    "start_time": "2022-06-05T14:50:25.000Z"
   },
   {
    "duration": 137,
    "start_time": "2022-06-05T14:50:25.015Z"
   },
   {
    "duration": 8,
    "start_time": "2022-06-05T14:50:25.154Z"
   },
   {
    "duration": 98,
    "start_time": "2022-06-05T14:50:25.164Z"
   },
   {
    "duration": 7,
    "start_time": "2022-06-05T14:50:25.264Z"
   },
   {
    "duration": 26,
    "start_time": "2022-06-05T14:50:25.273Z"
   },
   {
    "duration": 19,
    "start_time": "2022-06-05T14:50:25.300Z"
   },
   {
    "duration": 11,
    "start_time": "2022-06-05T14:50:25.321Z"
   },
   {
    "duration": 11,
    "start_time": "2022-06-05T14:50:25.333Z"
   },
   {
    "duration": 37,
    "start_time": "2022-06-05T14:50:25.346Z"
   },
   {
    "duration": 8,
    "start_time": "2022-06-05T14:50:25.385Z"
   },
   {
    "duration": 106,
    "start_time": "2022-06-05T14:50:25.396Z"
   },
   {
    "duration": 7,
    "start_time": "2022-06-05T14:50:25.504Z"
   },
   {
    "duration": 144,
    "start_time": "2022-06-05T14:50:25.512Z"
   },
   {
    "duration": 41,
    "start_time": "2022-06-05T14:50:25.658Z"
   },
   {
    "duration": 43,
    "start_time": "2022-06-05T14:50:25.701Z"
   },
   {
    "duration": 28,
    "start_time": "2022-06-05T14:50:25.746Z"
   },
   {
    "duration": 131,
    "start_time": "2022-06-05T14:50:25.776Z"
   },
   {
    "duration": 124,
    "start_time": "2022-06-05T14:51:02.251Z"
   },
   {
    "duration": 126,
    "start_time": "2022-06-05T14:51:53.032Z"
   },
   {
    "duration": 118,
    "start_time": "2022-06-05T14:52:58.002Z"
   },
   {
    "duration": 114,
    "start_time": "2022-06-05T14:53:48.031Z"
   },
   {
    "duration": 117,
    "start_time": "2022-06-05T14:54:50.395Z"
   },
   {
    "duration": 116,
    "start_time": "2022-06-05T14:55:34.001Z"
   },
   {
    "duration": 117,
    "start_time": "2022-06-05T14:55:47.798Z"
   },
   {
    "duration": 119,
    "start_time": "2022-06-05T14:56:00.660Z"
   },
   {
    "duration": 119,
    "start_time": "2022-06-05T14:56:14.305Z"
   },
   {
    "duration": 121,
    "start_time": "2022-06-05T14:56:30.998Z"
   },
   {
    "duration": 115,
    "start_time": "2022-06-05T14:56:50.323Z"
   },
   {
    "duration": 609,
    "start_time": "2022-06-05T15:16:04.954Z"
   },
   {
    "duration": 154,
    "start_time": "2022-06-05T15:16:21.996Z"
   },
   {
    "duration": 149,
    "start_time": "2022-06-05T15:16:29.126Z"
   },
   {
    "duration": 149,
    "start_time": "2022-06-05T15:16:33.296Z"
   },
   {
    "duration": 148,
    "start_time": "2022-06-05T15:16:44.121Z"
   },
   {
    "duration": 147,
    "start_time": "2022-06-05T15:16:48.960Z"
   },
   {
    "duration": 147,
    "start_time": "2022-06-05T15:17:00.429Z"
   },
   {
    "duration": 226,
    "start_time": "2022-06-05T15:17:04.444Z"
   },
   {
    "duration": 129,
    "start_time": "2022-06-05T15:17:11.392Z"
   },
   {
    "duration": 145,
    "start_time": "2022-06-05T15:17:18.040Z"
   },
   {
    "duration": 144,
    "start_time": "2022-06-05T15:17:29.644Z"
   },
   {
    "duration": 149,
    "start_time": "2022-06-05T15:17:35.917Z"
   },
   {
    "duration": 147,
    "start_time": "2022-06-05T15:17:44.001Z"
   },
   {
    "duration": 145,
    "start_time": "2022-06-05T15:17:50.096Z"
   },
   {
    "duration": 222,
    "start_time": "2022-06-05T15:18:37.883Z"
   },
   {
    "duration": 159,
    "start_time": "2022-06-05T15:18:51.834Z"
   },
   {
    "duration": 154,
    "start_time": "2022-06-05T15:19:02.914Z"
   },
   {
    "duration": 180,
    "start_time": "2022-06-05T15:19:19.359Z"
   },
   {
    "duration": 287,
    "start_time": "2022-06-05T15:19:26.347Z"
   },
   {
    "duration": 166,
    "start_time": "2022-06-05T15:19:39.021Z"
   },
   {
    "duration": 161,
    "start_time": "2022-06-05T15:20:24.324Z"
   },
   {
    "duration": 158,
    "start_time": "2022-06-05T15:21:08.965Z"
   },
   {
    "duration": 156,
    "start_time": "2022-06-05T15:21:17.840Z"
   },
   {
    "duration": 144,
    "start_time": "2022-06-05T15:22:44.492Z"
   },
   {
    "duration": 4,
    "start_time": "2022-06-05T15:23:21.248Z"
   },
   {
    "duration": 195,
    "start_time": "2022-06-05T15:23:26.286Z"
   },
   {
    "duration": 186,
    "start_time": "2022-06-05T15:23:51.519Z"
   },
   {
    "duration": 188,
    "start_time": "2022-06-05T15:24:12.560Z"
   },
   {
    "duration": 176,
    "start_time": "2022-06-05T15:24:24.048Z"
   },
   {
    "duration": 172,
    "start_time": "2022-06-05T15:24:28.322Z"
   },
   {
    "duration": 174,
    "start_time": "2022-06-05T15:24:39.322Z"
   },
   {
    "duration": 311,
    "start_time": "2022-06-05T15:25:40.828Z"
   },
   {
    "duration": 181,
    "start_time": "2022-06-05T15:25:47.460Z"
   },
   {
    "duration": 204,
    "start_time": "2022-06-05T15:26:07.191Z"
   },
   {
    "duration": 10,
    "start_time": "2022-06-05T15:30:52.248Z"
   },
   {
    "duration": 37,
    "start_time": "2022-06-05T15:31:09.954Z"
   },
   {
    "duration": 195,
    "start_time": "2022-06-05T15:31:56.799Z"
   },
   {
    "duration": 31,
    "start_time": "2022-06-05T15:32:15.944Z"
   },
   {
    "duration": 175,
    "start_time": "2022-06-05T15:53:22.652Z"
   },
   {
    "duration": 182,
    "start_time": "2022-06-05T15:54:23.194Z"
   },
   {
    "duration": 239,
    "start_time": "2022-06-05T16:08:08.620Z"
   },
   {
    "duration": 43,
    "start_time": "2022-06-05T16:08:18.638Z"
   },
   {
    "duration": 27,
    "start_time": "2022-06-05T16:09:08.538Z"
   },
   {
    "duration": 24,
    "start_time": "2022-06-05T16:11:46.193Z"
   },
   {
    "duration": 26,
    "start_time": "2022-06-05T16:12:33.717Z"
   },
   {
    "duration": 223,
    "start_time": "2022-06-05T16:22:31.806Z"
   },
   {
    "duration": 191,
    "start_time": "2022-06-05T16:28:53.772Z"
   },
   {
    "duration": 185,
    "start_time": "2022-06-05T16:29:29.371Z"
   },
   {
    "duration": 177,
    "start_time": "2022-06-05T16:29:39.638Z"
   },
   {
    "duration": 193,
    "start_time": "2022-06-05T16:29:50.269Z"
   },
   {
    "duration": 337,
    "start_time": "2022-06-05T16:29:59.736Z"
   },
   {
    "duration": 28,
    "start_time": "2022-06-05T16:31:28.770Z"
   },
   {
    "duration": 22,
    "start_time": "2022-06-05T16:37:02.047Z"
   },
   {
    "duration": 35,
    "start_time": "2022-06-05T16:37:39.749Z"
   },
   {
    "duration": 29,
    "start_time": "2022-06-05T16:40:35.842Z"
   },
   {
    "duration": 28,
    "start_time": "2022-06-05T16:41:27.337Z"
   },
   {
    "duration": 13,
    "start_time": "2022-06-05T16:43:06.783Z"
   },
   {
    "duration": 14,
    "start_time": "2022-06-05T16:43:13.514Z"
   },
   {
    "duration": 19,
    "start_time": "2022-06-05T16:43:20.825Z"
   },
   {
    "duration": 15,
    "start_time": "2022-06-05T16:43:34.095Z"
   },
   {
    "duration": 18,
    "start_time": "2022-06-05T16:43:43.485Z"
   },
   {
    "duration": 21,
    "start_time": "2022-06-05T16:43:48.816Z"
   },
   {
    "duration": 19,
    "start_time": "2022-06-05T16:44:04.144Z"
   },
   {
    "duration": 20,
    "start_time": "2022-06-05T16:45:28.802Z"
   },
   {
    "duration": 25,
    "start_time": "2022-06-05T16:45:34.135Z"
   },
   {
    "duration": 19,
    "start_time": "2022-06-05T16:45:56.120Z"
   },
   {
    "duration": 87,
    "start_time": "2022-06-05T16:46:20.204Z"
   },
   {
    "duration": 324,
    "start_time": "2022-06-05T16:46:28.258Z"
   },
   {
    "duration": 310,
    "start_time": "2022-06-05T16:46:43.705Z"
   },
   {
    "duration": 282,
    "start_time": "2022-06-05T16:46:48.347Z"
   },
   {
    "duration": 278,
    "start_time": "2022-06-05T16:46:53.565Z"
   },
   {
    "duration": 324,
    "start_time": "2022-06-05T16:47:10.317Z"
   },
   {
    "duration": 269,
    "start_time": "2022-06-05T16:47:44.260Z"
   },
   {
    "duration": 316,
    "start_time": "2022-06-05T16:48:11.506Z"
   },
   {
    "duration": 286,
    "start_time": "2022-06-05T16:48:23.761Z"
   },
   {
    "duration": 322,
    "start_time": "2022-06-05T16:48:29.414Z"
   },
   {
    "duration": 343,
    "start_time": "2022-06-05T16:48:32.948Z"
   },
   {
    "duration": 449,
    "start_time": "2022-06-05T16:49:09.738Z"
   },
   {
    "duration": 309,
    "start_time": "2022-06-05T16:49:37.678Z"
   },
   {
    "duration": 332,
    "start_time": "2022-06-05T16:51:15.401Z"
   },
   {
    "duration": 31,
    "start_time": "2022-06-05T16:55:20.636Z"
   },
   {
    "duration": 24,
    "start_time": "2022-06-05T16:55:24.618Z"
   },
   {
    "duration": 316,
    "start_time": "2022-06-05T16:55:31.666Z"
   },
   {
    "duration": 334,
    "start_time": "2022-06-05T16:58:25.667Z"
   },
   {
    "duration": 334,
    "start_time": "2022-06-05T16:58:38.867Z"
   },
   {
    "duration": 339,
    "start_time": "2022-06-05T16:58:50.627Z"
   },
   {
    "duration": 86,
    "start_time": "2022-06-06T08:22:37.053Z"
   },
   {
    "duration": 16,
    "start_time": "2022-06-06T08:22:50.673Z"
   },
   {
    "duration": 1674,
    "start_time": "2022-06-06T08:22:59.245Z"
   },
   {
    "duration": 745,
    "start_time": "2022-06-06T08:23:00.921Z"
   },
   {
    "duration": 17,
    "start_time": "2022-06-06T08:23:01.668Z"
   },
   {
    "duration": 608,
    "start_time": "2022-06-06T08:23:01.687Z"
   },
   {
    "duration": 9,
    "start_time": "2022-06-06T08:23:02.298Z"
   },
   {
    "duration": 296,
    "start_time": "2022-06-06T08:23:02.309Z"
   },
   {
    "duration": 8,
    "start_time": "2022-06-06T08:23:02.606Z"
   },
   {
    "duration": 134,
    "start_time": "2022-06-06T08:23:02.616Z"
   },
   {
    "duration": 12,
    "start_time": "2022-06-06T08:23:02.753Z"
   },
   {
    "duration": 30,
    "start_time": "2022-06-06T08:23:02.767Z"
   },
   {
    "duration": 65,
    "start_time": "2022-06-06T08:23:02.799Z"
   },
   {
    "duration": 109,
    "start_time": "2022-06-06T08:23:02.868Z"
   },
   {
    "duration": 10,
    "start_time": "2022-06-06T08:23:02.979Z"
   },
   {
    "duration": 166,
    "start_time": "2022-06-06T08:23:02.991Z"
   },
   {
    "duration": 13,
    "start_time": "2022-06-06T08:23:03.162Z"
   },
   {
    "duration": 187,
    "start_time": "2022-06-06T08:23:03.179Z"
   },
   {
    "duration": 50,
    "start_time": "2022-06-06T08:23:03.368Z"
   },
   {
    "duration": 65,
    "start_time": "2022-06-06T08:23:03.419Z"
   },
   {
    "duration": 82,
    "start_time": "2022-06-06T08:23:03.485Z"
   },
   {
    "duration": 182,
    "start_time": "2022-06-06T08:23:03.569Z"
   },
   {
    "duration": 270,
    "start_time": "2022-06-06T08:23:03.753Z"
   },
   {
    "duration": 47,
    "start_time": "2022-06-06T08:23:04.025Z"
   },
   {
    "duration": 398,
    "start_time": "2022-06-06T08:23:04.074Z"
   },
   {
    "duration": 423,
    "start_time": "2022-06-06T08:23:04.474Z"
   },
   {
    "duration": 409,
    "start_time": "2022-06-06T08:23:04.899Z"
   },
   {
    "duration": 253,
    "start_time": "2022-06-06T08:23:05.310Z"
   },
   {
    "duration": 27,
    "start_time": "2022-06-06T08:23:05.571Z"
   },
   {
    "duration": 396,
    "start_time": "2022-06-06T08:23:05.601Z"
   },
   {
    "duration": 362,
    "start_time": "2022-06-06T08:23:05.999Z"
   },
   {
    "duration": 497,
    "start_time": "2022-06-06T08:23:06.364Z"
   },
   {
    "duration": 243,
    "start_time": "2022-06-06T08:24:29.374Z"
   },
   {
    "duration": 243,
    "start_time": "2022-06-06T08:24:37.553Z"
   },
   {
    "duration": 220,
    "start_time": "2022-06-06T08:24:47.253Z"
   },
   {
    "duration": 343,
    "start_time": "2022-06-06T08:26:11.245Z"
   },
   {
    "duration": 391,
    "start_time": "2022-06-06T08:26:28.392Z"
   },
   {
    "duration": 348,
    "start_time": "2022-06-06T08:26:55.972Z"
   },
   {
    "duration": 220,
    "start_time": "2022-06-06T08:27:29.552Z"
   },
   {
    "duration": 26,
    "start_time": "2022-06-06T08:27:37.291Z"
   },
   {
    "duration": 380,
    "start_time": "2022-06-06T08:27:44.718Z"
   },
   {
    "duration": 360,
    "start_time": "2022-06-06T08:27:52.552Z"
   },
   {
    "duration": 339,
    "start_time": "2022-06-06T08:28:07.172Z"
   },
   {
    "duration": 503,
    "start_time": "2022-06-06T08:28:18.071Z"
   },
   {
    "duration": 28,
    "start_time": "2022-06-06T08:33:50.939Z"
   },
   {
    "duration": 218,
    "start_time": "2022-06-06T08:41:17.246Z"
   },
   {
    "duration": 249,
    "start_time": "2022-06-06T08:50:20.499Z"
   },
   {
    "duration": 219,
    "start_time": "2022-06-06T08:50:28.045Z"
   },
   {
    "duration": 207,
    "start_time": "2022-06-06T08:50:36.548Z"
   },
   {
    "duration": 267,
    "start_time": "2022-06-06T08:50:44.359Z"
   },
   {
    "duration": 28,
    "start_time": "2022-06-06T08:51:06.977Z"
   },
   {
    "duration": 408,
    "start_time": "2022-06-06T08:51:17.297Z"
   },
   {
    "duration": 381,
    "start_time": "2022-06-06T08:51:46.319Z"
   },
   {
    "duration": 343,
    "start_time": "2022-06-06T08:52:26.148Z"
   },
   {
    "duration": 323,
    "start_time": "2022-06-06T08:52:34.760Z"
   },
   {
    "duration": 204,
    "start_time": "2022-06-06T08:53:35.476Z"
   },
   {
    "duration": 81,
    "start_time": "2022-06-06T09:30:02.099Z"
   },
   {
    "duration": 187,
    "start_time": "2022-06-06T09:31:06.795Z"
   },
   {
    "duration": 1256,
    "start_time": "2022-06-06T09:39:04.564Z"
   },
   {
    "duration": 191,
    "start_time": "2022-06-06T09:39:05.823Z"
   },
   {
    "duration": 25,
    "start_time": "2022-06-06T09:39:06.019Z"
   },
   {
    "duration": 228,
    "start_time": "2022-06-06T09:39:06.046Z"
   },
   {
    "duration": 13,
    "start_time": "2022-06-06T09:39:06.276Z"
   },
   {
    "duration": 171,
    "start_time": "2022-06-06T09:39:06.291Z"
   },
   {
    "duration": 9,
    "start_time": "2022-06-06T09:39:06.464Z"
   },
   {
    "duration": 28,
    "start_time": "2022-06-06T09:39:06.475Z"
   },
   {
    "duration": 8,
    "start_time": "2022-06-06T09:39:06.506Z"
   },
   {
    "duration": 18,
    "start_time": "2022-06-06T09:39:06.516Z"
   },
   {
    "duration": 19,
    "start_time": "2022-06-06T09:39:06.536Z"
   },
   {
    "duration": 43,
    "start_time": "2022-06-06T09:39:06.558Z"
   },
   {
    "duration": 12,
    "start_time": "2022-06-06T09:39:06.604Z"
   },
   {
    "duration": 156,
    "start_time": "2022-06-06T09:39:06.617Z"
   },
   {
    "duration": 7,
    "start_time": "2022-06-06T09:39:06.775Z"
   },
   {
    "duration": 164,
    "start_time": "2022-06-06T09:39:06.784Z"
   },
   {
    "duration": 46,
    "start_time": "2022-06-06T09:39:06.950Z"
   },
   {
    "duration": 51,
    "start_time": "2022-06-06T09:39:06.997Z"
   },
   {
    "duration": 29,
    "start_time": "2022-06-06T09:39:07.050Z"
   },
   {
    "duration": 173,
    "start_time": "2022-06-06T09:39:07.082Z"
   },
   {
    "duration": 243,
    "start_time": "2022-06-06T09:39:07.257Z"
   },
   {
    "duration": 41,
    "start_time": "2022-06-06T09:39:07.502Z"
   },
   {
    "duration": 328,
    "start_time": "2022-06-06T09:39:07.545Z"
   },
   {
    "duration": 402,
    "start_time": "2022-06-06T09:39:07.874Z"
   },
   {
    "duration": 410,
    "start_time": "2022-06-06T09:39:08.278Z"
   },
   {
    "duration": 214,
    "start_time": "2022-06-06T09:39:08.691Z"
   },
   {
    "duration": 35,
    "start_time": "2022-06-06T09:39:08.908Z"
   },
   {
    "duration": 332,
    "start_time": "2022-06-06T09:39:08.945Z"
   },
   {
    "duration": 352,
    "start_time": "2022-06-06T09:39:09.278Z"
   },
   {
    "duration": 424,
    "start_time": "2022-06-06T09:39:09.632Z"
   },
   {
    "duration": 220,
    "start_time": "2022-06-06T09:39:10.058Z"
   },
   {
    "duration": 28,
    "start_time": "2022-06-06T09:39:10.279Z"
   },
   {
    "duration": 366,
    "start_time": "2022-06-06T09:39:10.308Z"
   },
   {
    "duration": 398,
    "start_time": "2022-06-06T09:39:10.677Z"
   },
   {
    "duration": 371,
    "start_time": "2022-06-06T09:39:11.077Z"
   },
   {
    "duration": 13,
    "start_time": "2022-06-06T09:39:11.450Z"
   },
   {
    "duration": 11,
    "start_time": "2022-06-06T09:43:18.781Z"
   },
   {
    "duration": 11,
    "start_time": "2022-06-06T09:46:11.614Z"
   },
   {
    "duration": 1406,
    "start_time": "2022-06-06T09:47:10.675Z"
   },
   {
    "duration": 220,
    "start_time": "2022-06-06T09:47:12.084Z"
   },
   {
    "duration": 25,
    "start_time": "2022-06-06T09:47:12.308Z"
   },
   {
    "duration": 149,
    "start_time": "2022-06-06T09:48:44.124Z"
   },
   {
    "duration": 1428,
    "start_time": "2022-06-06T09:48:54.407Z"
   },
   {
    "duration": 219,
    "start_time": "2022-06-06T09:48:55.837Z"
   },
   {
    "duration": 12,
    "start_time": "2022-06-06T09:48:56.058Z"
   },
   {
    "duration": 188,
    "start_time": "2022-06-06T09:48:56.072Z"
   },
   {
    "duration": 11,
    "start_time": "2022-06-06T09:48:56.262Z"
   },
   {
    "duration": 116,
    "start_time": "2022-06-06T09:48:56.275Z"
   },
   {
    "duration": 8,
    "start_time": "2022-06-06T09:48:56.392Z"
   },
   {
    "duration": 30,
    "start_time": "2022-06-06T09:48:56.402Z"
   },
   {
    "duration": 18,
    "start_time": "2022-06-06T09:48:56.435Z"
   },
   {
    "duration": 11,
    "start_time": "2022-06-06T09:48:56.456Z"
   },
   {
    "duration": 16,
    "start_time": "2022-06-06T09:48:56.468Z"
   },
   {
    "duration": 37,
    "start_time": "2022-06-06T09:48:56.485Z"
   },
   {
    "duration": 17,
    "start_time": "2022-06-06T09:48:56.524Z"
   },
   {
    "duration": 159,
    "start_time": "2022-06-06T09:48:56.547Z"
   },
   {
    "duration": 8,
    "start_time": "2022-06-06T09:48:56.708Z"
   },
   {
    "duration": 200,
    "start_time": "2022-06-06T09:48:56.718Z"
   },
   {
    "duration": 69,
    "start_time": "2022-06-06T09:48:56.920Z"
   },
   {
    "duration": 53,
    "start_time": "2022-06-06T09:48:56.990Z"
   },
   {
    "duration": 34,
    "start_time": "2022-06-06T09:48:57.045Z"
   },
   {
    "duration": 161,
    "start_time": "2022-06-06T09:48:57.081Z"
   },
   {
    "duration": 241,
    "start_time": "2022-06-06T09:48:57.244Z"
   },
   {
    "duration": 32,
    "start_time": "2022-06-06T09:48:57.486Z"
   },
   {
    "duration": 340,
    "start_time": "2022-06-06T09:48:57.537Z"
   },
   {
    "duration": 467,
    "start_time": "2022-06-06T09:48:57.879Z"
   },
   {
    "duration": 426,
    "start_time": "2022-06-06T09:48:58.349Z"
   },
   {
    "duration": 233,
    "start_time": "2022-06-06T09:48:58.777Z"
   },
   {
    "duration": 60,
    "start_time": "2022-06-06T09:48:59.011Z"
   },
   {
    "duration": 402,
    "start_time": "2022-06-06T09:48:59.075Z"
   },
   {
    "duration": 378,
    "start_time": "2022-06-06T09:48:59.479Z"
   },
   {
    "duration": 482,
    "start_time": "2022-06-06T09:48:59.859Z"
   },
   {
    "duration": 257,
    "start_time": "2022-06-06T09:49:00.354Z"
   },
   {
    "duration": 51,
    "start_time": "2022-06-06T09:49:00.613Z"
   },
   {
    "duration": 411,
    "start_time": "2022-06-06T09:49:00.666Z"
   },
   {
    "duration": 401,
    "start_time": "2022-06-06T09:49:01.079Z"
   },
   {
    "duration": 383,
    "start_time": "2022-06-06T09:49:01.482Z"
   },
   {
    "duration": 14,
    "start_time": "2022-06-06T09:49:01.867Z"
   },
   {
    "duration": 32,
    "start_time": "2022-06-06T09:49:01.883Z"
   },
   {
    "duration": 1312,
    "start_time": "2022-06-06T10:43:25.885Z"
   },
   {
    "duration": 208,
    "start_time": "2022-06-06T10:43:27.199Z"
   },
   {
    "duration": 22,
    "start_time": "2022-06-06T10:43:27.409Z"
   },
   {
    "duration": 176,
    "start_time": "2022-06-06T10:43:27.433Z"
   },
   {
    "duration": 16,
    "start_time": "2022-06-06T10:43:27.611Z"
   },
   {
    "duration": 156,
    "start_time": "2022-06-06T10:43:27.635Z"
   },
   {
    "duration": 7,
    "start_time": "2022-06-06T10:43:27.793Z"
   },
   {
    "duration": 39,
    "start_time": "2022-06-06T10:43:27.802Z"
   },
   {
    "duration": 14,
    "start_time": "2022-06-06T10:43:27.849Z"
   },
   {
    "duration": 10,
    "start_time": "2022-06-06T10:43:27.866Z"
   },
   {
    "duration": 16,
    "start_time": "2022-06-06T10:43:27.877Z"
   },
   {
    "duration": 46,
    "start_time": "2022-06-06T10:43:27.895Z"
   },
   {
    "duration": 13,
    "start_time": "2022-06-06T10:43:27.946Z"
   },
   {
    "duration": 137,
    "start_time": "2022-06-06T10:43:27.961Z"
   },
   {
    "duration": 10,
    "start_time": "2022-06-06T10:43:28.100Z"
   },
   {
    "duration": 206,
    "start_time": "2022-06-06T10:43:28.112Z"
   },
   {
    "duration": 54,
    "start_time": "2022-06-06T10:43:28.320Z"
   },
   {
    "duration": 69,
    "start_time": "2022-06-06T10:43:28.376Z"
   },
   {
    "duration": 38,
    "start_time": "2022-06-06T10:43:28.454Z"
   },
   {
    "duration": 199,
    "start_time": "2022-06-06T10:43:28.494Z"
   },
   {
    "duration": 269,
    "start_time": "2022-06-06T10:43:28.695Z"
   },
   {
    "duration": 29,
    "start_time": "2022-06-06T10:43:28.965Z"
   },
   {
    "duration": 388,
    "start_time": "2022-06-06T10:43:28.996Z"
   },
   {
    "duration": 433,
    "start_time": "2022-06-06T10:43:29.386Z"
   },
   {
    "duration": 375,
    "start_time": "2022-06-06T10:43:29.820Z"
   },
   {
    "duration": 223,
    "start_time": "2022-06-06T10:43:30.197Z"
   },
   {
    "duration": 43,
    "start_time": "2022-06-06T10:43:30.422Z"
   },
   {
    "duration": 407,
    "start_time": "2022-06-06T10:43:30.470Z"
   },
   {
    "duration": 375,
    "start_time": "2022-06-06T10:43:30.879Z"
   },
   {
    "duration": 430,
    "start_time": "2022-06-06T10:43:31.256Z"
   },
   {
    "duration": 221,
    "start_time": "2022-06-06T10:43:31.688Z"
   },
   {
    "duration": 52,
    "start_time": "2022-06-06T10:43:31.910Z"
   },
   {
    "duration": 434,
    "start_time": "2022-06-06T10:43:31.965Z"
   },
   {
    "duration": 378,
    "start_time": "2022-06-06T10:43:32.401Z"
   },
   {
    "duration": 376,
    "start_time": "2022-06-06T10:43:32.781Z"
   },
   {
    "duration": 10,
    "start_time": "2022-06-06T10:43:33.159Z"
   },
   {
    "duration": 16,
    "start_time": "2022-06-06T10:43:33.171Z"
   },
   {
    "duration": 1326,
    "start_time": "2022-06-06T18:38:50.987Z"
   },
   {
    "duration": 255,
    "start_time": "2022-06-06T18:38:52.315Z"
   },
   {
    "duration": 12,
    "start_time": "2022-06-06T18:38:52.572Z"
   },
   {
    "duration": 320,
    "start_time": "2022-06-06T18:38:52.585Z"
   },
   {
    "duration": 8,
    "start_time": "2022-06-06T18:38:52.907Z"
   },
   {
    "duration": 361,
    "start_time": "2022-06-06T18:38:52.917Z"
   },
   {
    "duration": 49,
    "start_time": "2022-06-06T18:38:53.280Z"
   },
   {
    "duration": 97,
    "start_time": "2022-06-06T18:38:53.330Z"
   },
   {
    "duration": 8,
    "start_time": "2022-06-06T18:38:53.428Z"
   },
   {
    "duration": 11,
    "start_time": "2022-06-06T18:38:53.438Z"
   },
   {
    "duration": 11,
    "start_time": "2022-06-06T18:38:53.450Z"
   },
   {
    "duration": 72,
    "start_time": "2022-06-06T18:38:53.463Z"
   },
   {
    "duration": 10,
    "start_time": "2022-06-06T18:38:53.537Z"
   },
   {
    "duration": 218,
    "start_time": "2022-06-06T18:38:53.550Z"
   },
   {
    "duration": 57,
    "start_time": "2022-06-06T18:38:53.770Z"
   },
   {
    "duration": 327,
    "start_time": "2022-06-06T18:38:53.829Z"
   },
   {
    "duration": 95,
    "start_time": "2022-06-06T18:38:54.158Z"
   },
   {
    "duration": 30,
    "start_time": "2022-06-06T18:38:54.254Z"
   },
   {
    "duration": 68,
    "start_time": "2022-06-06T18:38:54.285Z"
   },
   {
    "duration": 120,
    "start_time": "2022-06-06T18:38:54.355Z"
   },
   {
    "duration": 201,
    "start_time": "2022-06-06T18:38:54.477Z"
   },
   {
    "duration": 25,
    "start_time": "2022-06-06T18:38:54.680Z"
   },
   {
    "duration": 352,
    "start_time": "2022-06-06T18:38:54.706Z"
   },
   {
    "duration": 312,
    "start_time": "2022-06-06T18:38:55.060Z"
   },
   {
    "duration": 353,
    "start_time": "2022-06-06T18:38:55.374Z"
   },
   {
    "duration": 171,
    "start_time": "2022-06-06T18:38:55.729Z"
   },
   {
    "duration": 36,
    "start_time": "2022-06-06T18:38:55.901Z"
   },
   {
    "duration": 310,
    "start_time": "2022-06-06T18:38:55.938Z"
   },
   {
    "duration": 318,
    "start_time": "2022-06-06T18:38:56.250Z"
   },
   {
    "duration": 374,
    "start_time": "2022-06-06T18:38:56.570Z"
   },
   {
    "duration": 167,
    "start_time": "2022-06-06T18:38:56.946Z"
   },
   {
    "duration": 34,
    "start_time": "2022-06-06T18:38:57.115Z"
   },
   {
    "duration": 287,
    "start_time": "2022-06-06T18:38:57.151Z"
   },
   {
    "duration": 302,
    "start_time": "2022-06-06T18:38:57.439Z"
   },
   {
    "duration": 287,
    "start_time": "2022-06-06T18:38:57.742Z"
   },
   {
    "duration": 10,
    "start_time": "2022-06-06T18:38:58.030Z"
   },
   {
    "duration": 13,
    "start_time": "2022-06-06T18:38:58.041Z"
   },
   {
    "duration": 124,
    "start_time": "2022-06-06T18:53:56.195Z"
   },
   {
    "duration": 15,
    "start_time": "2022-06-06T18:54:48.726Z"
   },
   {
    "duration": 1318,
    "start_time": "2022-06-06T18:55:00.859Z"
   },
   {
    "duration": 204,
    "start_time": "2022-06-06T18:55:02.180Z"
   },
   {
    "duration": 12,
    "start_time": "2022-06-06T18:55:02.385Z"
   },
   {
    "duration": 350,
    "start_time": "2022-06-06T18:55:02.399Z"
   },
   {
    "duration": 8,
    "start_time": "2022-06-06T18:55:02.751Z"
   },
   {
    "duration": 210,
    "start_time": "2022-06-06T18:55:02.760Z"
   },
   {
    "duration": 57,
    "start_time": "2022-06-06T18:55:02.972Z"
   },
   {
    "duration": 69,
    "start_time": "2022-06-06T18:55:03.031Z"
   },
   {
    "duration": 20,
    "start_time": "2022-06-06T18:55:03.128Z"
   },
   {
    "duration": 14,
    "start_time": "2022-06-06T18:55:03.152Z"
   },
   {
    "duration": 14,
    "start_time": "2022-06-06T18:55:03.168Z"
   },
   {
    "duration": 56,
    "start_time": "2022-06-06T18:55:03.183Z"
   },
   {
    "duration": 15,
    "start_time": "2022-06-06T18:55:03.241Z"
   },
   {
    "duration": 303,
    "start_time": "2022-06-06T18:55:03.258Z"
   },
   {
    "duration": 8,
    "start_time": "2022-06-06T18:55:03.563Z"
   },
   {
    "duration": 392,
    "start_time": "2022-06-06T18:55:03.573Z"
   },
   {
    "duration": 107,
    "start_time": "2022-06-06T18:55:03.967Z"
   },
   {
    "duration": 99,
    "start_time": "2022-06-06T18:55:04.076Z"
   },
   {
    "duration": 89,
    "start_time": "2022-06-06T18:55:04.176Z"
   },
   {
    "duration": 297,
    "start_time": "2022-06-06T18:55:04.266Z"
   },
   {
    "duration": 235,
    "start_time": "2022-06-06T18:55:04.565Z"
   },
   {
    "duration": 46,
    "start_time": "2022-06-06T18:55:04.802Z"
   },
   {
    "duration": 323,
    "start_time": "2022-06-06T18:55:04.850Z"
   },
   {
    "duration": 384,
    "start_time": "2022-06-06T18:55:05.175Z"
   },
   {
    "duration": 359,
    "start_time": "2022-06-06T18:55:05.561Z"
   },
   {
    "duration": 209,
    "start_time": "2022-06-06T18:55:05.922Z"
   },
   {
    "duration": 40,
    "start_time": "2022-06-06T18:55:06.133Z"
   },
   {
    "duration": 462,
    "start_time": "2022-06-06T18:55:06.178Z"
   },
   {
    "duration": 311,
    "start_time": "2022-06-06T18:55:06.643Z"
   },
   {
    "duration": 433,
    "start_time": "2022-06-06T18:55:06.956Z"
   },
   {
    "duration": 211,
    "start_time": "2022-06-06T18:55:07.391Z"
   },
   {
    "duration": 44,
    "start_time": "2022-06-06T18:55:07.604Z"
   },
   {
    "duration": 311,
    "start_time": "2022-06-06T18:55:07.650Z"
   },
   {
    "duration": 328,
    "start_time": "2022-06-06T18:55:07.963Z"
   },
   {
    "duration": 356,
    "start_time": "2022-06-06T18:55:08.293Z"
   },
   {
    "duration": 116,
    "start_time": "2022-06-06T18:55:08.651Z"
   },
   {
    "duration": 0,
    "start_time": "2022-06-06T18:55:08.769Z"
   },
   {
    "duration": 0,
    "start_time": "2022-06-06T18:55:08.770Z"
   },
   {
    "duration": 8,
    "start_time": "2022-06-06T18:56:09.048Z"
   },
   {
    "duration": 786,
    "start_time": "2022-06-06T18:56:31.770Z"
   }
  ],
  "kernelspec": {
   "display_name": "Python 3 (ipykernel)",
   "language": "python",
   "name": "python3"
  },
  "language_info": {
   "codemirror_mode": {
    "name": "ipython",
    "version": 3
   },
   "file_extension": ".py",
   "mimetype": "text/x-python",
   "name": "python",
   "nbconvert_exporter": "python",
   "pygments_lexer": "ipython3",
   "version": "3.9.5"
  },
  "toc": {
   "base_numbering": 1,
   "nav_menu": {},
   "number_sections": true,
   "sideBar": true,
   "skip_h1_title": true,
   "title_cell": "Table of Contents",
   "title_sidebar": "Contents",
   "toc_cell": false,
   "toc_position": {
    "height": "calc(100% - 180px)",
    "left": "10px",
    "top": "150px",
    "width": "285.99px"
   },
   "toc_section_display": true,
   "toc_window_display": true
  }
 },
 "nbformat": 4,
 "nbformat_minor": 2
}
