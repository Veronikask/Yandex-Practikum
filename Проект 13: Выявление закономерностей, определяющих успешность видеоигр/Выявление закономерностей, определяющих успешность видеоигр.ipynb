{
 "cells": [
  {
   "cell_type": "markdown",
   "metadata": {
    "toc": true
   },
   "source": [
    "<h1>Table of Contents<span class=\"tocSkip\"></span></h1>\n",
    "<div class=\"toc\"><ul class=\"toc-item\"><li><span><a href=\"#Исходные-данные\" data-toc-modified-id=\"Исходные-данные-1\"><span class=\"toc-item-num\">1&nbsp;&nbsp;</span>Исходные данные</a></span></li><li><span><a href=\"#Подготовка-данных\" data-toc-modified-id=\"Подготовка-данных-2\"><span class=\"toc-item-num\">2&nbsp;&nbsp;</span>Подготовка данных</a></span><ul class=\"toc-item\"><li><span><a href=\"#Названия-стобцов\" data-toc-modified-id=\"Названия-стобцов-2.1\"><span class=\"toc-item-num\">2.1&nbsp;&nbsp;</span>Названия стобцов</a></span></li><li><span><a href=\"#Преобразование-данных-в-нужные-типы\" data-toc-modified-id=\"Преобразование-данных-в-нужные-типы-2.2\"><span class=\"toc-item-num\">2.2&nbsp;&nbsp;</span>Преобразование данных в нужные типы</a></span></li><li><span><a href=\"#Обработка-пропусков\" data-toc-modified-id=\"Обработка-пропусков-2.3\"><span class=\"toc-item-num\">2.3&nbsp;&nbsp;</span>Обработка пропусков</a></span></li><li><span><a href=\"#Суммарные-продажи-во-всех-регионах\" data-toc-modified-id=\"Суммарные-продажи-во-всех-регионах-2.4\"><span class=\"toc-item-num\">2.4&nbsp;&nbsp;</span>Суммарные продажи во всех регионах</a></span></li></ul></li><li><span><a href=\"#Исследовательский-анализ-данных\" data-toc-modified-id=\"Исследовательский-анализ-данных-3\"><span class=\"toc-item-num\">3&nbsp;&nbsp;</span>Исследовательский анализ данных</a></span><ul class=\"toc-item\"><li><span><a href=\"#Количество-игр-выпущенных-в-разные-годы.\" data-toc-modified-id=\"Количество-игр-выпущенных-в-разные-годы.-3.1\"><span class=\"toc-item-num\">3.1&nbsp;&nbsp;</span>Количество игр выпущенных в разные годы.</a></span></li><li><span><a href=\"#Продажи-по-платформам.\" data-toc-modified-id=\"Продажи-по-платформам.-3.2\"><span class=\"toc-item-num\">3.2&nbsp;&nbsp;</span>Продажи по платформам.</a></span></li><li><span><a href=\"#Данные-за-актуальный-период.\" data-toc-modified-id=\"Данные-за-актуальный-период.-3.3\"><span class=\"toc-item-num\">3.3&nbsp;&nbsp;</span>Данные за актуальный период.</a></span></li><li><span><a href=\"#График-«ящик-с-усами»-по-глобальным-продажам-игр-в-разбивке-по-платформам.\" data-toc-modified-id=\"График-«ящик-с-усами»-по-глобальным-продажам-игр-в-разбивке-по-платформам.-3.4\"><span class=\"toc-item-num\">3.4&nbsp;&nbsp;</span>График «ящик с усами» по глобальным продажам игр в разбивке по платформам.</a></span></li><li><span><a href=\"#Влияние-на-продажи-внутри-одной-платформы-отзывов-пользователей-и-критиков.\" data-toc-modified-id=\"Влияние-на-продажи-внутри-одной-платформы-отзывов-пользователей-и-критиков.-3.5\"><span class=\"toc-item-num\">3.5&nbsp;&nbsp;</span>Влияние на продажи внутри одной платформы отзывов пользователей и критиков.</a></span></li><li><span><a href=\"#Соотнесение-выводов-с-продажами-игр-на-других-платформах.\" data-toc-modified-id=\"Соотнесение-выводов-с-продажами-игр-на-других-платформах.-3.6\"><span class=\"toc-item-num\">3.6&nbsp;&nbsp;</span>Соотнесение выводов с продажами игр на других платформах.</a></span></li><li><span><a href=\"#Общее-распределение-игр-по-жанрам.\" data-toc-modified-id=\"Общее-распределение-игр-по-жанрам.-3.7\"><span class=\"toc-item-num\">3.7&nbsp;&nbsp;</span>Общее распределение игр по жанрам.</a></span></li></ul></li><li><span><a href=\"#Портрет-пользователя-каждого-региона\" data-toc-modified-id=\"Портрет-пользователя-каждого-региона-4\"><span class=\"toc-item-num\">4&nbsp;&nbsp;</span>Портрет пользователя каждого региона</a></span><ul class=\"toc-item\"><li><span><a href=\"#Самые-популярные-платформы-(топ-5).\" data-toc-modified-id=\"Самые-популярные-платформы-(топ-5).-4.1\"><span class=\"toc-item-num\">4.1&nbsp;&nbsp;</span>Самые популярные платформы (топ-5).</a></span></li><li><span><a href=\"#Самые-популярные-жанры-(топ-5).\" data-toc-modified-id=\"Самые-популярные-жанры-(топ-5).-4.2\"><span class=\"toc-item-num\">4.2&nbsp;&nbsp;</span>Самые популярные жанры (топ-5).</a></span></li><li><span><a href=\"#Влияет-ли-рейтинг-ESRB-на-продажи-в-отдельном-регионе?\" data-toc-modified-id=\"Влияет-ли-рейтинг-ESRB-на-продажи-в-отдельном-регионе?-4.3\"><span class=\"toc-item-num\">4.3&nbsp;&nbsp;</span>Влияет ли рейтинг ESRB на продажи в отдельном регионе?</a></span></li></ul></li><li><span><a href=\"#Проверка-гипотез\" data-toc-modified-id=\"Проверка-гипотез-5\"><span class=\"toc-item-num\">5&nbsp;&nbsp;</span>Проверка гипотез</a></span><ul class=\"toc-item\"><li><span><a href=\"#Средние-пользовательские-рейтинги-платформ-Xbox-One-и-PC-одинаковые?\" data-toc-modified-id=\"Средние-пользовательские-рейтинги-платформ-Xbox-One-и-PC-одинаковые?-5.1\"><span class=\"toc-item-num\">5.1&nbsp;&nbsp;</span>Средние пользовательские рейтинги платформ Xbox One и PC одинаковые?</a></span></li><li><span><a href=\"#Средние-пользовательские-рейтинги-жанров-Action-и-Sports-разные?\" data-toc-modified-id=\"Средние-пользовательские-рейтинги-жанров-Action-и-Sports-разные?-5.2\"><span class=\"toc-item-num\">5.2&nbsp;&nbsp;</span>Средние пользовательские рейтинги жанров Action и Sports разные?</a></span></li></ul></li><li><span><a href=\"#Общий-вывод\" data-toc-modified-id=\"Общий-вывод-6\"><span class=\"toc-item-num\">6&nbsp;&nbsp;</span>Общий вывод</a></span></li></ul></div>"
   ]
  },
  {
   "cell_type": "markdown",
   "metadata": {},
   "source": [
    "# Выявление закономерностей, определяющих успешность видеоигр "
   ]
  },
  {
   "cell_type": "markdown",
   "metadata": {},
   "source": [
    "## Исходные данные\n",
    "Заказчик проекта - интернет-магазин «Стримчик», который продаёт по всему миру компьютерные игры. Нам необходимо выявить определяющие успешность игры закономерности. Это позволит сделать ставку на потенциально популярный продукт и спланировать рекламные кампании. \n",
    "\n",
    "Из открытых источников нам доступны исторические данные о продажах игр, оценки пользователей и экспертов, жанры и платформы. "
   ]
  },
  {
   "cell_type": "code",
   "execution_count": 1,
   "metadata": {
    "scrolled": true
   },
   "outputs": [],
   "source": [
    "# Импортируем библиотеки:\n",
    "import pandas as pd\n",
    "import numpy as np\n",
    "import matplotlib.pyplot as plt\n",
    "from matplotlib.pyplot import figure\n",
    "from scipy import stats as st\n",
    "import seaborn as sns\n",
    "import warnings\n",
    "warnings.filterwarnings('ignore')"
   ]
  },
  {
   "cell_type": "code",
   "execution_count": 2,
   "metadata": {
    "scrolled": true
   },
   "outputs": [
    {
     "data": {
      "text/html": [
       "<div>\n",
       "<style scoped>\n",
       "    .dataframe tbody tr th:only-of-type {\n",
       "        vertical-align: middle;\n",
       "    }\n",
       "\n",
       "    .dataframe tbody tr th {\n",
       "        vertical-align: top;\n",
       "    }\n",
       "\n",
       "    .dataframe thead th {\n",
       "        text-align: right;\n",
       "    }\n",
       "</style>\n",
       "<table border=\"1\" class=\"dataframe\">\n",
       "  <thead>\n",
       "    <tr style=\"text-align: right;\">\n",
       "      <th></th>\n",
       "      <th>Name</th>\n",
       "      <th>Platform</th>\n",
       "      <th>Year_of_Release</th>\n",
       "      <th>Genre</th>\n",
       "      <th>NA_sales</th>\n",
       "      <th>EU_sales</th>\n",
       "      <th>JP_sales</th>\n",
       "      <th>Other_sales</th>\n",
       "      <th>Critic_Score</th>\n",
       "      <th>User_Score</th>\n",
       "      <th>Rating</th>\n",
       "    </tr>\n",
       "  </thead>\n",
       "  <tbody>\n",
       "    <tr>\n",
       "      <th>0</th>\n",
       "      <td>Wii Sports</td>\n",
       "      <td>Wii</td>\n",
       "      <td>2006.0</td>\n",
       "      <td>Sports</td>\n",
       "      <td>41.36</td>\n",
       "      <td>28.96</td>\n",
       "      <td>3.77</td>\n",
       "      <td>8.45</td>\n",
       "      <td>76.0</td>\n",
       "      <td>8</td>\n",
       "      <td>E</td>\n",
       "    </tr>\n",
       "    <tr>\n",
       "      <th>1</th>\n",
       "      <td>Super Mario Bros.</td>\n",
       "      <td>NES</td>\n",
       "      <td>1985.0</td>\n",
       "      <td>Platform</td>\n",
       "      <td>29.08</td>\n",
       "      <td>3.58</td>\n",
       "      <td>6.81</td>\n",
       "      <td>0.77</td>\n",
       "      <td>NaN</td>\n",
       "      <td>NaN</td>\n",
       "      <td>NaN</td>\n",
       "    </tr>\n",
       "    <tr>\n",
       "      <th>2</th>\n",
       "      <td>Mario Kart Wii</td>\n",
       "      <td>Wii</td>\n",
       "      <td>2008.0</td>\n",
       "      <td>Racing</td>\n",
       "      <td>15.68</td>\n",
       "      <td>12.76</td>\n",
       "      <td>3.79</td>\n",
       "      <td>3.29</td>\n",
       "      <td>82.0</td>\n",
       "      <td>8.3</td>\n",
       "      <td>E</td>\n",
       "    </tr>\n",
       "    <tr>\n",
       "      <th>3</th>\n",
       "      <td>Wii Sports Resort</td>\n",
       "      <td>Wii</td>\n",
       "      <td>2009.0</td>\n",
       "      <td>Sports</td>\n",
       "      <td>15.61</td>\n",
       "      <td>10.93</td>\n",
       "      <td>3.28</td>\n",
       "      <td>2.95</td>\n",
       "      <td>80.0</td>\n",
       "      <td>8</td>\n",
       "      <td>E</td>\n",
       "    </tr>\n",
       "    <tr>\n",
       "      <th>4</th>\n",
       "      <td>Pokemon Red/Pokemon Blue</td>\n",
       "      <td>GB</td>\n",
       "      <td>1996.0</td>\n",
       "      <td>Role-Playing</td>\n",
       "      <td>11.27</td>\n",
       "      <td>8.89</td>\n",
       "      <td>10.22</td>\n",
       "      <td>1.00</td>\n",
       "      <td>NaN</td>\n",
       "      <td>NaN</td>\n",
       "      <td>NaN</td>\n",
       "    </tr>\n",
       "  </tbody>\n",
       "</table>\n",
       "</div>"
      ],
      "text/plain": [
       "                       Name Platform  Year_of_Release         Genre  NA_sales  \\\n",
       "0                Wii Sports      Wii           2006.0        Sports     41.36   \n",
       "1         Super Mario Bros.      NES           1985.0      Platform     29.08   \n",
       "2            Mario Kart Wii      Wii           2008.0        Racing     15.68   \n",
       "3         Wii Sports Resort      Wii           2009.0        Sports     15.61   \n",
       "4  Pokemon Red/Pokemon Blue       GB           1996.0  Role-Playing     11.27   \n",
       "\n",
       "   EU_sales  JP_sales  Other_sales  Critic_Score User_Score Rating  \n",
       "0     28.96      3.77         8.45          76.0          8      E  \n",
       "1      3.58      6.81         0.77           NaN        NaN    NaN  \n",
       "2     12.76      3.79         3.29          82.0        8.3      E  \n",
       "3     10.93      3.28         2.95          80.0          8      E  \n",
       "4      8.89     10.22         1.00           NaN        NaN    NaN  "
      ]
     },
     "execution_count": 2,
     "metadata": {},
     "output_type": "execute_result"
    }
   ],
   "source": [
    "# Изучим данные:\n",
    "data = pd.read_csv('/datasets/games.csv')\n",
    "data.head(5)"
   ]
  },
  {
   "cell_type": "markdown",
   "metadata": {},
   "source": [
    "В таблице содержатся следующие данные:\n",
    "- `Name` — название игры;\n",
    "- `Platform` — платформа;\n",
    "- `Year_of_Release` — год выпуска;\n",
    "- `Genre` — жанр игры;\n",
    "- `NA_sales` — продажи в Северной Америке (миллионы проданных копий);\n",
    "- `EU_sales` — продажи в Европе (миллионы проданных копий);\n",
    "- `JP_sales` — продажи в Японии (миллионы проданных копий);\n",
    "- `Other_sales` — продажи в других странах (миллионы проданных копий);\n",
    "- `Critic_Score` — оценка критиков (максимум 100);\n",
    "- `User_Score` — оценка пользователей (максимум 10);\n",
    "- `Rating` — рейтинг от организации ESRB (англ. Entertainment Software Rating Board). Эта ассоциация определяет рейтинг компьютерных игр и присваивает им подходящую возрастную категорию."
   ]
  },
  {
   "cell_type": "code",
   "execution_count": 3,
   "metadata": {
    "scrolled": true
   },
   "outputs": [
    {
     "name": "stdout",
     "output_type": "stream",
     "text": [
      "<class 'pandas.core.frame.DataFrame'>\n",
      "RangeIndex: 16715 entries, 0 to 16714\n",
      "Data columns (total 11 columns):\n",
      " #   Column           Non-Null Count  Dtype  \n",
      "---  ------           --------------  -----  \n",
      " 0   Name             16713 non-null  object \n",
      " 1   Platform         16715 non-null  object \n",
      " 2   Year_of_Release  16446 non-null  float64\n",
      " 3   Genre            16713 non-null  object \n",
      " 4   NA_sales         16715 non-null  float64\n",
      " 5   EU_sales         16715 non-null  float64\n",
      " 6   JP_sales         16715 non-null  float64\n",
      " 7   Other_sales      16715 non-null  float64\n",
      " 8   Critic_Score     8137 non-null   float64\n",
      " 9   User_Score       10014 non-null  object \n",
      " 10  Rating           9949 non-null   object \n",
      "dtypes: float64(6), object(5)\n",
      "memory usage: 1.4+ MB\n"
     ]
    }
   ],
   "source": [
    "data.info()"
   ]
  },
  {
   "cell_type": "markdown",
   "metadata": {},
   "source": [
    "Видно, что в некоторых столбцах есть пропущенные значения."
   ]
  },
  {
   "cell_type": "markdown",
   "metadata": {},
   "source": [
    "**Вывод:**\n",
    "\n",
    "- Были изучены данные, представленные в датасете;\n",
    "- В столбцах есть нарушения стиля написания, отсутствующие значения и \"выбросы\"."
   ]
  },
  {
   "cell_type": "markdown",
   "metadata": {},
   "source": [
    "## Подготовка данных"
   ]
  },
  {
   "cell_type": "markdown",
   "metadata": {},
   "source": [
    "### Названия стобцов"
   ]
  },
  {
   "cell_type": "code",
   "execution_count": 4,
   "metadata": {
    "scrolled": true
   },
   "outputs": [],
   "source": [
    "# Заменим названия столбцов - приведем к нижнему регистру:\n",
    "data = data.rename(str.lower, axis='columns')"
   ]
  },
  {
   "cell_type": "code",
   "execution_count": 5,
   "metadata": {},
   "outputs": [],
   "source": [
    "# Приведем к нижнему регистру содержимое категориальных столбцов:\n",
    "list = ['name', 'platform', 'genre', 'rating']\n",
    "for i in list:\n",
    "    data[i] = data[i].str.lower()"
   ]
  },
  {
   "cell_type": "markdown",
   "metadata": {},
   "source": [
    "### Преобразование данных в нужные типы"
   ]
  },
  {
   "cell_type": "code",
   "execution_count": 6,
   "metadata": {
    "scrolled": true
   },
   "outputs": [
    {
     "data": {
      "text/plain": [
       "name                object\n",
       "platform            object\n",
       "year_of_release    float64\n",
       "genre               object\n",
       "na_sales           float64\n",
       "eu_sales           float64\n",
       "jp_sales           float64\n",
       "other_sales        float64\n",
       "critic_score       float64\n",
       "user_score          object\n",
       "rating              object\n",
       "dtype: object"
      ]
     },
     "execution_count": 6,
     "metadata": {},
     "output_type": "execute_result"
    }
   ],
   "source": [
    "# Посмотрим еще раз на типы данных в столбцах:\n",
    "data.dtypes"
   ]
  },
  {
   "cell_type": "markdown",
   "metadata": {},
   "source": [
    "Итак, замене типа подлежат следующие столбцы:\n",
    "- year_of_release определенно переделаем на тип int;\n",
    "- user_score и rating, вероятно, переделаем на тип float."
   ]
  },
  {
   "cell_type": "code",
   "execution_count": 7,
   "metadata": {
    "scrolled": true
   },
   "outputs": [],
   "source": [
    "# Заменим тип данных в столбце year_of_release, сначала изменив все отсутсmвующие значения на 0:\n",
    "data['year_of_release'] = data['year_of_release'].fillna(0).astype('int')"
   ]
  },
  {
   "cell_type": "markdown",
   "metadata": {},
   "source": [
    "Видно, что столбец user_score имеет формат 'object'. Это значит, что среди значений данного столбца присутствуют не только числа, но и строковые значения. Проверим это:"
   ]
  },
  {
   "cell_type": "code",
   "execution_count": 8,
   "metadata": {
    "scrolled": true
   },
   "outputs": [
    {
     "data": {
      "text/plain": [
       "array(['8', nan, '8.3', '8.5', '6.6', '8.4', '8.6', '7.7', '6.3', '7.4',\n",
       "       '8.2', '9', '7.9', '8.1', '8.7', '7.1', '3.4', '5.3', '4.8', '3.2',\n",
       "       '8.9', '6.4', '7.8', '7.5', '2.6', '7.2', '9.2', '7', '7.3', '4.3',\n",
       "       '7.6', '5.7', '5', '9.1', '6.5', 'tbd', '8.8', '6.9', '9.4', '6.8',\n",
       "       '6.1', '6.7', '5.4', '4', '4.9', '4.5', '9.3', '6.2', '4.2', '6',\n",
       "       '3.7', '4.1', '5.8', '5.6', '5.5', '4.4', '4.6', '5.9', '3.9',\n",
       "       '3.1', '2.9', '5.2', '3.3', '4.7', '5.1', '3.5', '2.5', '1.9', '3',\n",
       "       '2.7', '2.2', '2', '9.5', '2.1', '3.6', '2.8', '1.8', '3.8', '0',\n",
       "       '1.6', '9.6', '2.4', '1.7', '1.1', '0.3', '1.5', '0.7', '1.2',\n",
       "       '2.3', '0.5', '1.3', '0.2', '0.6', '1.4', '0.9', '1', '9.7'],\n",
       "      dtype=object)"
      ]
     },
     "execution_count": 8,
     "metadata": {},
     "output_type": "execute_result"
    }
   ],
   "source": [
    "data['user_score'].unique()"
   ]
  },
  {
   "cell_type": "markdown",
   "metadata": {},
   "source": [
    "Видим строкое значение 'tbd' (To Be Determined), которое указывается в том случае, когда рейтинг по играм еще не был определен. Заменим 'tbd' на 0:"
   ]
  },
  {
   "cell_type": "code",
   "execution_count": 9,
   "metadata": {
    "scrolled": true
   },
   "outputs": [],
   "source": [
    "# Заменим в столбце user_score \"tbd\" на пропуски:\n",
    "data['user_score'] = data['user_score'].replace('tbd', np.NaN)\n",
    "\n",
    "# Изменим тип данных в столбце user_score:\n",
    "data['user_score'] = data['user_score'].astype(float)"
   ]
  },
  {
   "cell_type": "code",
   "execution_count": 10,
   "metadata": {
    "scrolled": true
   },
   "outputs": [
    {
     "data": {
      "text/plain": [
       "array(['e', nan, 'm', 't', 'e10+', 'k-a', 'ao', 'ec', 'rp'], dtype=object)"
      ]
     },
     "execution_count": 10,
     "metadata": {},
     "output_type": "execute_result"
    }
   ],
   "source": [
    "# Посмотрим, из каких значений состоит стоблец rating: \n",
    "data['rating'].unique()"
   ]
  },
  {
   "cell_type": "markdown",
   "metadata": {},
   "source": [
    "Видим, что все значения представлены категориальными переменными, поэтому для rating менять тип не требуется. Видим, что все значения возрастного рейтинга представлены категориальными переменными, поэтому для rating менять тип не требуется. Согласно Википедии, обозначения рейтинга содержат следующую информацию:\n",
    "- `E` («Everyone») — «Для всех», причем **он первоначально обозначался как \"K-A\" (\"Kids to Adults\")**;\n",
    "- `M` («Mature») — «Для взрослых»;\n",
    "- `T` («Teen») — «Подросткам»;\n",
    "- `E10+` («Everyone 10 and older») — «Для всех от 10 лет и старше»;\n",
    "- `AO` («Adults Only 18+») — «Только для взрослых»;\n",
    "- `EC` («Early childhood») — «Для детей младшего возраста»;\n",
    "- `RP` («Rating Pending») — «Рейтинг ожидается».\t"
   ]
  },
  {
   "cell_type": "code",
   "execution_count": 11,
   "metadata": {},
   "outputs": [
    {
     "data": {
      "text/plain": [
       "array(['e', nan, 'm', 't', 'e10+', 'k-a', 'ao', 'ec', 'rp'], dtype=object)"
      ]
     },
     "execution_count": 11,
     "metadata": {},
     "output_type": "execute_result"
    }
   ],
   "source": [
    "# Переназовем категорию 'K-A' в 'E':\n",
    "data['rating'] = data['rating'].replace('K-A', 'E')\n",
    "data['rating'].unique()"
   ]
  },
  {
   "cell_type": "markdown",
   "metadata": {},
   "source": [
    "### Обработка пропусков"
   ]
  },
  {
   "cell_type": "code",
   "execution_count": 12,
   "metadata": {},
   "outputs": [
    {
     "data": {
      "text/plain": [
       "name                  2\n",
       "platform              0\n",
       "year_of_release       0\n",
       "genre                 2\n",
       "na_sales              0\n",
       "eu_sales              0\n",
       "jp_sales              0\n",
       "other_sales           0\n",
       "critic_score       8578\n",
       "user_score         9125\n",
       "rating             6766\n",
       "dtype: int64"
      ]
     },
     "execution_count": 12,
     "metadata": {},
     "output_type": "execute_result"
    }
   ],
   "source": [
    "# Посчитаем количество пропусков во всех столбцах:\n",
    "data.isna().sum(axis=0)"
   ]
  },
  {
   "cell_type": "markdown",
   "metadata": {},
   "source": [
    "Видим следующее:\n",
    "- больше половины значений пропущено в столбцах `user_score` и `critic_score`. Пропуски в оценках критиков и пользователях естественны, так как не все игры набрали необходимое количество оценок. Заменим пропущенные значения на любое число кроме от 0-100, например на **-1**; \n",
    "- чуть меньше половины значений пропущено в столбце `rating`. Пропуски в рейтинге могут быть из-за того, что рейтинг стал присваиваться не так давно, или из-за технических сбоев и ошибок заполнения. **Также заменим пропуски на специальное значение 'NR' - Not Rated** (т.е нет рейтинга на момент анализа);\n",
    "- пропущенные значения в столбце `year_of_release` были заменены на 0 ранее (одновременно с преобразованием в целочисленный тип);\n",
    "- столбцы `name` и `genre` содержат всего по два пропуска. Два пропуска незначительно повлияют на исследование, поэтому **данные записи можно просто удалить**;\n",
    "- в остальных столбцах пропусков нет. "
   ]
  },
  {
   "cell_type": "code",
   "execution_count": 13,
   "metadata": {},
   "outputs": [],
   "source": [
    "# Заменим пропуски в оценках на 101: \n",
    "data['user_score'].fillna('-1', inplace=True)\n",
    "data['critic_score'].fillna('-1', inplace=True)"
   ]
  },
  {
   "cell_type": "code",
   "execution_count": 14,
   "metadata": {},
   "outputs": [],
   "source": [
    "# Изменим тип данных:\n",
    "data['critic_score'] = data['critic_score'].astype(int)\n",
    "data['user_score'] = data['user_score'].astype(float)"
   ]
  },
  {
   "cell_type": "code",
   "execution_count": 15,
   "metadata": {},
   "outputs": [],
   "source": [
    "# Заменим пропуски в rating на Not Rated: \n",
    "data['rating'].fillna('NR', inplace=True)"
   ]
  },
  {
   "cell_type": "code",
   "execution_count": 16,
   "metadata": {},
   "outputs": [],
   "source": [
    "# Удалим пропуски в 'name' и 'genre':\n",
    "data.dropna(subset=['name'], inplace=True)\n",
    "data.dropna(subset=['genre'], inplace=True)"
   ]
  },
  {
   "cell_type": "code",
   "execution_count": 17,
   "metadata": {
    "scrolled": true
   },
   "outputs": [
    {
     "data": {
      "text/plain": [
       "name               0\n",
       "platform           0\n",
       "year_of_release    0\n",
       "genre              0\n",
       "na_sales           0\n",
       "eu_sales           0\n",
       "jp_sales           0\n",
       "other_sales        0\n",
       "critic_score       0\n",
       "user_score         0\n",
       "rating             0\n",
       "dtype: int64"
      ]
     },
     "execution_count": 17,
     "metadata": {},
     "output_type": "execute_result"
    }
   ],
   "source": [
    "# Проверим, остались ли пропуски:\n",
    "data.isna().sum(axis=0)"
   ]
  },
  {
   "cell_type": "markdown",
   "metadata": {},
   "source": [
    "Мы избавились от всех пропущенных значений."
   ]
  },
  {
   "cell_type": "code",
   "execution_count": 18,
   "metadata": {},
   "outputs": [
    {
     "data": {
      "text/plain": [
       "0"
      ]
     },
     "execution_count": 18,
     "metadata": {},
     "output_type": "execute_result"
    }
   ],
   "source": [
    "# Провери на явные дубликаты:\n",
    "data.duplicated().sum()"
   ]
  },
  {
   "cell_type": "markdown",
   "metadata": {},
   "source": [
    "Дубликатов не обнаружено."
   ]
  },
  {
   "cell_type": "markdown",
   "metadata": {},
   "source": [
    "### Суммарные продажи во всех регионах"
   ]
  },
  {
   "cell_type": "code",
   "execution_count": 19,
   "metadata": {
    "scrolled": false
   },
   "outputs": [
    {
     "data": {
      "text/html": [
       "<div>\n",
       "<style scoped>\n",
       "    .dataframe tbody tr th:only-of-type {\n",
       "        vertical-align: middle;\n",
       "    }\n",
       "\n",
       "    .dataframe tbody tr th {\n",
       "        vertical-align: top;\n",
       "    }\n",
       "\n",
       "    .dataframe thead th {\n",
       "        text-align: right;\n",
       "    }\n",
       "</style>\n",
       "<table border=\"1\" class=\"dataframe\">\n",
       "  <thead>\n",
       "    <tr style=\"text-align: right;\">\n",
       "      <th></th>\n",
       "      <th>name</th>\n",
       "      <th>platform</th>\n",
       "      <th>year_of_release</th>\n",
       "      <th>genre</th>\n",
       "      <th>na_sales</th>\n",
       "      <th>eu_sales</th>\n",
       "      <th>jp_sales</th>\n",
       "      <th>other_sales</th>\n",
       "      <th>critic_score</th>\n",
       "      <th>user_score</th>\n",
       "      <th>rating</th>\n",
       "      <th>total_sales</th>\n",
       "    </tr>\n",
       "  </thead>\n",
       "  <tbody>\n",
       "    <tr>\n",
       "      <th>0</th>\n",
       "      <td>wii sports</td>\n",
       "      <td>wii</td>\n",
       "      <td>2006</td>\n",
       "      <td>sports</td>\n",
       "      <td>41.36</td>\n",
       "      <td>28.96</td>\n",
       "      <td>3.77</td>\n",
       "      <td>8.45</td>\n",
       "      <td>76</td>\n",
       "      <td>8.0</td>\n",
       "      <td>e</td>\n",
       "      <td>82.54</td>\n",
       "    </tr>\n",
       "    <tr>\n",
       "      <th>1</th>\n",
       "      <td>super mario bros.</td>\n",
       "      <td>nes</td>\n",
       "      <td>1985</td>\n",
       "      <td>platform</td>\n",
       "      <td>29.08</td>\n",
       "      <td>3.58</td>\n",
       "      <td>6.81</td>\n",
       "      <td>0.77</td>\n",
       "      <td>-1</td>\n",
       "      <td>-1.0</td>\n",
       "      <td>NR</td>\n",
       "      <td>40.24</td>\n",
       "    </tr>\n",
       "    <tr>\n",
       "      <th>2</th>\n",
       "      <td>mario kart wii</td>\n",
       "      <td>wii</td>\n",
       "      <td>2008</td>\n",
       "      <td>racing</td>\n",
       "      <td>15.68</td>\n",
       "      <td>12.76</td>\n",
       "      <td>3.79</td>\n",
       "      <td>3.29</td>\n",
       "      <td>82</td>\n",
       "      <td>8.3</td>\n",
       "      <td>e</td>\n",
       "      <td>35.52</td>\n",
       "    </tr>\n",
       "    <tr>\n",
       "      <th>3</th>\n",
       "      <td>wii sports resort</td>\n",
       "      <td>wii</td>\n",
       "      <td>2009</td>\n",
       "      <td>sports</td>\n",
       "      <td>15.61</td>\n",
       "      <td>10.93</td>\n",
       "      <td>3.28</td>\n",
       "      <td>2.95</td>\n",
       "      <td>80</td>\n",
       "      <td>8.0</td>\n",
       "      <td>e</td>\n",
       "      <td>32.77</td>\n",
       "    </tr>\n",
       "    <tr>\n",
       "      <th>4</th>\n",
       "      <td>pokemon red/pokemon blue</td>\n",
       "      <td>gb</td>\n",
       "      <td>1996</td>\n",
       "      <td>role-playing</td>\n",
       "      <td>11.27</td>\n",
       "      <td>8.89</td>\n",
       "      <td>10.22</td>\n",
       "      <td>1.00</td>\n",
       "      <td>-1</td>\n",
       "      <td>-1.0</td>\n",
       "      <td>NR</td>\n",
       "      <td>31.38</td>\n",
       "    </tr>\n",
       "  </tbody>\n",
       "</table>\n",
       "</div>"
      ],
      "text/plain": [
       "                       name platform  year_of_release         genre  na_sales  \\\n",
       "0                wii sports      wii             2006        sports     41.36   \n",
       "1         super mario bros.      nes             1985      platform     29.08   \n",
       "2            mario kart wii      wii             2008        racing     15.68   \n",
       "3         wii sports resort      wii             2009        sports     15.61   \n",
       "4  pokemon red/pokemon blue       gb             1996  role-playing     11.27   \n",
       "\n",
       "   eu_sales  jp_sales  other_sales  critic_score  user_score rating  \\\n",
       "0     28.96      3.77         8.45            76         8.0      e   \n",
       "1      3.58      6.81         0.77            -1        -1.0     NR   \n",
       "2     12.76      3.79         3.29            82         8.3      e   \n",
       "3     10.93      3.28         2.95            80         8.0      e   \n",
       "4      8.89     10.22         1.00            -1        -1.0     NR   \n",
       "\n",
       "   total_sales  \n",
       "0        82.54  \n",
       "1        40.24  \n",
       "2        35.52  \n",
       "3        32.77  \n",
       "4        31.38  "
      ]
     },
     "execution_count": 19,
     "metadata": {},
     "output_type": "execute_result"
    }
   ],
   "source": [
    "# Посчитаем суммарные продажи во всех регионах и запишем их в отдельный столбец:\n",
    "data['total_sales'] = data[['na_sales','eu_sales','jp_sales', 'other_sales']].sum(axis = 1)\n",
    "data.head(5)"
   ]
  },
  {
   "cell_type": "markdown",
   "metadata": {},
   "source": [
    "**Вывод:**\n",
    "\n",
    "- Приведены к нижнему регистру названия столбцов, а также содержимое категориальных столбцов;\n",
    "- Преобразованы данные в нужные типы (year_of_release и critic score переведены в целочисленный тип, а user_score в число с плавающей запятой);\n",
    "- Обработаны пропуски;\n",
    "- Проверено на дубликаты;\n",
    "- В отдельном столбце посчитаны суммарные продажи во всех регионах."
   ]
  },
  {
   "cell_type": "code",
   "execution_count": 20,
   "metadata": {},
   "outputs": [
    {
     "name": "stdout",
     "output_type": "stream",
     "text": [
      "<class 'pandas.core.frame.DataFrame'>\n",
      "Int64Index: 16713 entries, 0 to 16714\n",
      "Data columns (total 12 columns):\n",
      " #   Column           Non-Null Count  Dtype  \n",
      "---  ------           --------------  -----  \n",
      " 0   name             16713 non-null  object \n",
      " 1   platform         16713 non-null  object \n",
      " 2   year_of_release  16713 non-null  int64  \n",
      " 3   genre            16713 non-null  object \n",
      " 4   na_sales         16713 non-null  float64\n",
      " 5   eu_sales         16713 non-null  float64\n",
      " 6   jp_sales         16713 non-null  float64\n",
      " 7   other_sales      16713 non-null  float64\n",
      " 8   critic_score     16713 non-null  int64  \n",
      " 9   user_score       16713 non-null  float64\n",
      " 10  rating           16713 non-null  object \n",
      " 11  total_sales      16713 non-null  float64\n",
      "dtypes: float64(6), int64(2), object(4)\n",
      "memory usage: 1.7+ MB\n"
     ]
    }
   ],
   "source": [
    "# check\n",
    "data.info()"
   ]
  },
  {
   "cell_type": "markdown",
   "metadata": {},
   "source": [
    "## Исследовательский анализ данных"
   ]
  },
  {
   "cell_type": "markdown",
   "metadata": {},
   "source": [
    "### Количество игр выпущенных в разные годы."
   ]
  },
  {
   "cell_type": "code",
   "execution_count": 21,
   "metadata": {
    "scrolled": true
   },
   "outputs": [
    {
     "data": {
      "text/html": [
       "<div>\n",
       "<style scoped>\n",
       "    .dataframe tbody tr th:only-of-type {\n",
       "        vertical-align: middle;\n",
       "    }\n",
       "\n",
       "    .dataframe tbody tr th {\n",
       "        vertical-align: top;\n",
       "    }\n",
       "\n",
       "    .dataframe thead th {\n",
       "        text-align: right;\n",
       "    }\n",
       "</style>\n",
       "<table border=\"1\" class=\"dataframe\">\n",
       "  <thead>\n",
       "    <tr style=\"text-align: right;\">\n",
       "      <th></th>\n",
       "      <th>year_of_release</th>\n",
       "      <th>platform</th>\n",
       "    </tr>\n",
       "  </thead>\n",
       "  <tbody>\n",
       "    <tr>\n",
       "      <th>0</th>\n",
       "      <td>0</td>\n",
       "      <td>269</td>\n",
       "    </tr>\n",
       "    <tr>\n",
       "      <th>1</th>\n",
       "      <td>1980</td>\n",
       "      <td>9</td>\n",
       "    </tr>\n",
       "    <tr>\n",
       "      <th>2</th>\n",
       "      <td>1981</td>\n",
       "      <td>46</td>\n",
       "    </tr>\n",
       "    <tr>\n",
       "      <th>3</th>\n",
       "      <td>1982</td>\n",
       "      <td>36</td>\n",
       "    </tr>\n",
       "    <tr>\n",
       "      <th>4</th>\n",
       "      <td>1983</td>\n",
       "      <td>17</td>\n",
       "    </tr>\n",
       "    <tr>\n",
       "      <th>5</th>\n",
       "      <td>1984</td>\n",
       "      <td>14</td>\n",
       "    </tr>\n",
       "    <tr>\n",
       "      <th>6</th>\n",
       "      <td>1985</td>\n",
       "      <td>14</td>\n",
       "    </tr>\n",
       "    <tr>\n",
       "      <th>7</th>\n",
       "      <td>1986</td>\n",
       "      <td>21</td>\n",
       "    </tr>\n",
       "    <tr>\n",
       "      <th>8</th>\n",
       "      <td>1987</td>\n",
       "      <td>16</td>\n",
       "    </tr>\n",
       "    <tr>\n",
       "      <th>9</th>\n",
       "      <td>1988</td>\n",
       "      <td>15</td>\n",
       "    </tr>\n",
       "    <tr>\n",
       "      <th>10</th>\n",
       "      <td>1989</td>\n",
       "      <td>17</td>\n",
       "    </tr>\n",
       "    <tr>\n",
       "      <th>11</th>\n",
       "      <td>1990</td>\n",
       "      <td>16</td>\n",
       "    </tr>\n",
       "    <tr>\n",
       "      <th>12</th>\n",
       "      <td>1991</td>\n",
       "      <td>41</td>\n",
       "    </tr>\n",
       "    <tr>\n",
       "      <th>13</th>\n",
       "      <td>1992</td>\n",
       "      <td>43</td>\n",
       "    </tr>\n",
       "    <tr>\n",
       "      <th>14</th>\n",
       "      <td>1993</td>\n",
       "      <td>60</td>\n",
       "    </tr>\n",
       "    <tr>\n",
       "      <th>15</th>\n",
       "      <td>1994</td>\n",
       "      <td>121</td>\n",
       "    </tr>\n",
       "    <tr>\n",
       "      <th>16</th>\n",
       "      <td>1995</td>\n",
       "      <td>219</td>\n",
       "    </tr>\n",
       "    <tr>\n",
       "      <th>17</th>\n",
       "      <td>1996</td>\n",
       "      <td>263</td>\n",
       "    </tr>\n",
       "    <tr>\n",
       "      <th>18</th>\n",
       "      <td>1997</td>\n",
       "      <td>289</td>\n",
       "    </tr>\n",
       "    <tr>\n",
       "      <th>19</th>\n",
       "      <td>1998</td>\n",
       "      <td>379</td>\n",
       "    </tr>\n",
       "    <tr>\n",
       "      <th>20</th>\n",
       "      <td>1999</td>\n",
       "      <td>338</td>\n",
       "    </tr>\n",
       "    <tr>\n",
       "      <th>21</th>\n",
       "      <td>2000</td>\n",
       "      <td>350</td>\n",
       "    </tr>\n",
       "    <tr>\n",
       "      <th>22</th>\n",
       "      <td>2001</td>\n",
       "      <td>482</td>\n",
       "    </tr>\n",
       "    <tr>\n",
       "      <th>23</th>\n",
       "      <td>2002</td>\n",
       "      <td>829</td>\n",
       "    </tr>\n",
       "    <tr>\n",
       "      <th>24</th>\n",
       "      <td>2003</td>\n",
       "      <td>775</td>\n",
       "    </tr>\n",
       "    <tr>\n",
       "      <th>25</th>\n",
       "      <td>2004</td>\n",
       "      <td>762</td>\n",
       "    </tr>\n",
       "    <tr>\n",
       "      <th>26</th>\n",
       "      <td>2005</td>\n",
       "      <td>939</td>\n",
       "    </tr>\n",
       "    <tr>\n",
       "      <th>27</th>\n",
       "      <td>2006</td>\n",
       "      <td>1006</td>\n",
       "    </tr>\n",
       "    <tr>\n",
       "      <th>28</th>\n",
       "      <td>2007</td>\n",
       "      <td>1197</td>\n",
       "    </tr>\n",
       "    <tr>\n",
       "      <th>29</th>\n",
       "      <td>2008</td>\n",
       "      <td>1427</td>\n",
       "    </tr>\n",
       "    <tr>\n",
       "      <th>30</th>\n",
       "      <td>2009</td>\n",
       "      <td>1426</td>\n",
       "    </tr>\n",
       "    <tr>\n",
       "      <th>31</th>\n",
       "      <td>2010</td>\n",
       "      <td>1255</td>\n",
       "    </tr>\n",
       "    <tr>\n",
       "      <th>32</th>\n",
       "      <td>2011</td>\n",
       "      <td>1136</td>\n",
       "    </tr>\n",
       "    <tr>\n",
       "      <th>33</th>\n",
       "      <td>2012</td>\n",
       "      <td>653</td>\n",
       "    </tr>\n",
       "    <tr>\n",
       "      <th>34</th>\n",
       "      <td>2013</td>\n",
       "      <td>544</td>\n",
       "    </tr>\n",
       "    <tr>\n",
       "      <th>35</th>\n",
       "      <td>2014</td>\n",
       "      <td>581</td>\n",
       "    </tr>\n",
       "    <tr>\n",
       "      <th>36</th>\n",
       "      <td>2015</td>\n",
       "      <td>606</td>\n",
       "    </tr>\n",
       "    <tr>\n",
       "      <th>37</th>\n",
       "      <td>2016</td>\n",
       "      <td>502</td>\n",
       "    </tr>\n",
       "  </tbody>\n",
       "</table>\n",
       "</div>"
      ],
      "text/plain": [
       "    year_of_release  platform\n",
       "0                 0       269\n",
       "1              1980         9\n",
       "2              1981        46\n",
       "3              1982        36\n",
       "4              1983        17\n",
       "5              1984        14\n",
       "6              1985        14\n",
       "7              1986        21\n",
       "8              1987        16\n",
       "9              1988        15\n",
       "10             1989        17\n",
       "11             1990        16\n",
       "12             1991        41\n",
       "13             1992        43\n",
       "14             1993        60\n",
       "15             1994       121\n",
       "16             1995       219\n",
       "17             1996       263\n",
       "18             1997       289\n",
       "19             1998       379\n",
       "20             1999       338\n",
       "21             2000       350\n",
       "22             2001       482\n",
       "23             2002       829\n",
       "24             2003       775\n",
       "25             2004       762\n",
       "26             2005       939\n",
       "27             2006      1006\n",
       "28             2007      1197\n",
       "29             2008      1427\n",
       "30             2009      1426\n",
       "31             2010      1255\n",
       "32             2011      1136\n",
       "33             2012       653\n",
       "34             2013       544\n",
       "35             2014       581\n",
       "36             2015       606\n",
       "37             2016       502"
      ]
     },
     "execution_count": 21,
     "metadata": {},
     "output_type": "execute_result"
    }
   ],
   "source": [
    "# Посмотрим, сколько игр выпускалось в разные годы:\n",
    "games = data.groupby(['year_of_release']).agg('count')['platform'].reset_index()\n",
    "games"
   ]
  },
  {
   "cell_type": "code",
   "execution_count": 22,
   "metadata": {},
   "outputs": [
    {
     "data": {
      "text/plain": [
       "<AxesSubplot:title={'center':'КОЛИЧЕСТВО ВЫПУЩЕННЫХ КОМПЬЮТЕРНЫХ ИГР'}, xlabel='Год', ylabel='Количество'>"
      ]
     },
     "execution_count": 22,
     "metadata": {},
     "output_type": "execute_result"
    },
    {
     "data": {
      "image/png": "[encoded data removed]",
      "text/plain": [
       "<Figure size 936x360 with 1 Axes>"
      ]
     },
     "metadata": {
      "needs_background": "light"
     },
     "output_type": "display_data"
    }
   ],
   "source": [
    "# Визиализируем динамику выпуска компьютерных игр по годам:\n",
    "data.query('year_of_release > 0').groupby('year_of_release')['platform'].count().plot(\n",
    "    kind='bar', \n",
    "    figsize=(13, 5), \n",
    "    xlabel='Год', \n",
    "    ylabel='Количество', \n",
    "    title='КОЛИЧЕСТВО ВЫПУЩЕННЫХ КОМПЬЮТЕРНЫХ ИГР')"
   ]
  },
  {
   "cell_type": "markdown",
   "metadata": {},
   "source": [
    "**Вывод:**\n",
    "\n",
    "Из графика видим, что величина выпуска компьютерных игр до 1993 годы была совсем незначительна. Начиная с 1994 года выпуск стал сильно увеличиваться с каждым годом и в 2008-2009 годах достиг своего максимума. Начиная с 2009 года наблюдается устойчивое снижение выпуска игр вплоть до 2016 года, который по объёму выпуска находится на уровне 2001 года. \n",
    "Данный спад количества выпускаемых игр предположительно может быть связан с развитием индустрии мобильных игр, или активным развитием социальных сетей.\n",
    "\n",
    "Можно уверенно сказать, что для анализа нам не важны данные за все периоды, которые у нас есть, а только начиная примерно с 1994, когда объем выпуска стал уже намного более существенным. Рост количества выпускаемых игр начиная с 1994 года, скорее всего, связан с технологическим прорывом в отрасли ЭВМ и создания персональных компьютеров."
   ]
  },
  {
   "cell_type": "markdown",
   "metadata": {},
   "source": [
    "### Продажи по платформам."
   ]
  },
  {
   "cell_type": "code",
   "execution_count": 23,
   "metadata": {},
   "outputs": [
    {
     "data": {
      "text/html": [
       "<div>\n",
       "<style scoped>\n",
       "    .dataframe tbody tr th:only-of-type {\n",
       "        vertical-align: middle;\n",
       "    }\n",
       "\n",
       "    .dataframe tbody tr th {\n",
       "        vertical-align: top;\n",
       "    }\n",
       "\n",
       "    .dataframe thead th {\n",
       "        text-align: right;\n",
       "    }\n",
       "</style>\n",
       "<table border=\"1\" class=\"dataframe\">\n",
       "  <thead>\n",
       "    <tr style=\"text-align: right;\">\n",
       "      <th></th>\n",
       "      <th>total_sales</th>\n",
       "    </tr>\n",
       "    <tr>\n",
       "      <th>platform</th>\n",
       "      <th></th>\n",
       "    </tr>\n",
       "  </thead>\n",
       "  <tbody>\n",
       "    <tr>\n",
       "      <th>ps2</th>\n",
       "      <td>1255.77</td>\n",
       "    </tr>\n",
       "    <tr>\n",
       "      <th>x360</th>\n",
       "      <td>971.42</td>\n",
       "    </tr>\n",
       "    <tr>\n",
       "      <th>ps3</th>\n",
       "      <td>939.65</td>\n",
       "    </tr>\n",
       "    <tr>\n",
       "      <th>wii</th>\n",
       "      <td>907.51</td>\n",
       "    </tr>\n",
       "    <tr>\n",
       "      <th>ds</th>\n",
       "      <td>806.12</td>\n",
       "    </tr>\n",
       "    <tr>\n",
       "      <th>ps</th>\n",
       "      <td>730.86</td>\n",
       "    </tr>\n",
       "    <tr>\n",
       "      <th>gba</th>\n",
       "      <td>317.85</td>\n",
       "    </tr>\n",
       "    <tr>\n",
       "      <th>ps4</th>\n",
       "      <td>314.14</td>\n",
       "    </tr>\n",
       "    <tr>\n",
       "      <th>psp</th>\n",
       "      <td>294.05</td>\n",
       "    </tr>\n",
       "    <tr>\n",
       "      <th>pc</th>\n",
       "      <td>259.52</td>\n",
       "    </tr>\n",
       "    <tr>\n",
       "      <th>3ds</th>\n",
       "      <td>259.00</td>\n",
       "    </tr>\n",
       "    <tr>\n",
       "      <th>xb</th>\n",
       "      <td>257.74</td>\n",
       "    </tr>\n",
       "    <tr>\n",
       "      <th>gb</th>\n",
       "      <td>255.46</td>\n",
       "    </tr>\n",
       "    <tr>\n",
       "      <th>nes</th>\n",
       "      <td>251.05</td>\n",
       "    </tr>\n",
       "    <tr>\n",
       "      <th>n64</th>\n",
       "      <td>218.68</td>\n",
       "    </tr>\n",
       "    <tr>\n",
       "      <th>snes</th>\n",
       "      <td>200.04</td>\n",
       "    </tr>\n",
       "    <tr>\n",
       "      <th>gc</th>\n",
       "      <td>198.93</td>\n",
       "    </tr>\n",
       "    <tr>\n",
       "      <th>xone</th>\n",
       "      <td>159.32</td>\n",
       "    </tr>\n",
       "    <tr>\n",
       "      <th>2600</th>\n",
       "      <td>96.98</td>\n",
       "    </tr>\n",
       "    <tr>\n",
       "      <th>wiiu</th>\n",
       "      <td>82.19</td>\n",
       "    </tr>\n",
       "    <tr>\n",
       "      <th>psv</th>\n",
       "      <td>54.07</td>\n",
       "    </tr>\n",
       "    <tr>\n",
       "      <th>sat</th>\n",
       "      <td>33.59</td>\n",
       "    </tr>\n",
       "    <tr>\n",
       "      <th>gen</th>\n",
       "      <td>28.35</td>\n",
       "    </tr>\n",
       "    <tr>\n",
       "      <th>dc</th>\n",
       "      <td>15.95</td>\n",
       "    </tr>\n",
       "    <tr>\n",
       "      <th>scd</th>\n",
       "      <td>1.86</td>\n",
       "    </tr>\n",
       "    <tr>\n",
       "      <th>ng</th>\n",
       "      <td>1.44</td>\n",
       "    </tr>\n",
       "    <tr>\n",
       "      <th>ws</th>\n",
       "      <td>1.42</td>\n",
       "    </tr>\n",
       "    <tr>\n",
       "      <th>tg16</th>\n",
       "      <td>0.16</td>\n",
       "    </tr>\n",
       "    <tr>\n",
       "      <th>3do</th>\n",
       "      <td>0.10</td>\n",
       "    </tr>\n",
       "    <tr>\n",
       "      <th>gg</th>\n",
       "      <td>0.04</td>\n",
       "    </tr>\n",
       "    <tr>\n",
       "      <th>pcfx</th>\n",
       "      <td>0.03</td>\n",
       "    </tr>\n",
       "  </tbody>\n",
       "</table>\n",
       "</div>"
      ],
      "text/plain": [
       "          total_sales\n",
       "platform             \n",
       "ps2           1255.77\n",
       "x360           971.42\n",
       "ps3            939.65\n",
       "wii            907.51\n",
       "ds             806.12\n",
       "ps             730.86\n",
       "gba            317.85\n",
       "ps4            314.14\n",
       "psp            294.05\n",
       "pc             259.52\n",
       "3ds            259.00\n",
       "xb             257.74\n",
       "gb             255.46\n",
       "nes            251.05\n",
       "n64            218.68\n",
       "snes           200.04\n",
       "gc             198.93\n",
       "xone           159.32\n",
       "2600            96.98\n",
       "wiiu            82.19\n",
       "psv             54.07\n",
       "sat             33.59\n",
       "gen             28.35\n",
       "dc              15.95\n",
       "scd              1.86\n",
       "ng               1.44\n",
       "ws               1.42\n",
       "tg16             0.16\n",
       "3do              0.10\n",
       "gg               0.04\n",
       "pcfx             0.03"
      ]
     },
     "execution_count": 23,
     "metadata": {},
     "output_type": "execute_result"
    }
   ],
   "source": [
    "# Выведем платформы с их суммарными продажами:\n",
    "platforms = data.groupby('platform').agg({'total_sales' : 'sum'}).sort_values(by='total_sales',ascending=False)\n",
    "platforms"
   ]
  },
  {
   "cell_type": "code",
   "execution_count": 24,
   "metadata": {
    "scrolled": true
   },
   "outputs": [
    {
     "data": {
      "text/plain": [
       "<AxesSubplot:title={'center':'СУММАРНЫЕ ПРОДАЖИ ПО ПЛАТФОРМАМ'}, xlabel='Год', ylabel='Объём продаж'>"
      ]
     },
     "execution_count": 24,
     "metadata": {},
     "output_type": "execute_result"
    },
    {
     "data": {
      "image/png": "[encoded data removed]",
      "text/plain": [
       "<Figure size 936x360 with 1 Axes>"
      ]
     },
     "metadata": {
      "needs_background": "light"
     },
     "output_type": "display_data"
    }
   ],
   "source": [
    "# Посмотрим, как менялись продажи по платформам:\n",
    "platforms.plot(\n",
    "    kind='bar', \n",
    "    figsize=(13, 5), \n",
    "    xlabel='Год', \n",
    "    ylabel='Объём продаж', \n",
    "    title='СУММАРНЫЕ ПРОДАЖИ ПО ПЛАТФОРМАМ')"
   ]
  },
  {
   "cell_type": "code",
   "execution_count": 25,
   "metadata": {},
   "outputs": [
    {
     "data": {
      "text/plain": [
       "Index(['ps2', 'x360', 'ps3', 'wii', 'ds', 'ps'], dtype='object', name='platform')"
      ]
     },
     "execution_count": 25,
     "metadata": {},
     "output_type": "execute_result"
    }
   ],
   "source": [
    "# Выберем платформы с наибольшими суммарными продажами (топ-6:)\n",
    "platforms_list = platforms.head(6).index\n",
    "platforms_list"
   ]
  },
  {
   "cell_type": "code",
   "execution_count": 26,
   "metadata": {},
   "outputs": [
    {
     "data": {
      "image/png": "[encoded data removed]",
      "text/plain": [
       "<Figure size 1440x720 with 1 Axes>"
      ]
     },
     "metadata": {
      "needs_background": "light"
     },
     "output_type": "display_data"
    }
   ],
   "source": [
    "# Визуализируем топ-6 суммарных продаж по платформам:\n",
    "data.query('platform in @ platforms_list').pivot_table(index='year_of_release', columns='platform', \n",
    "                                                      values='total_sales', aggfunc='sum').plot(grid=True, figsize=(20, 10));\n",
    "plt.title('РАСПРЕДЕЛЕНИЕ ПРОДАЖ ПО ПЛАТФОРМАМ')\n",
    "plt.xlabel('Год', fontsize=16)\n",
    "plt.ylabel('Объём продаж', fontsize=16)\n",
    "plt.legend()\n",
    "plt.xlim([1993, 2017])\n",
    "plt.minorticks_on()\n",
    "plt.show();"
   ]
  },
  {
   "cell_type": "markdown",
   "metadata": {},
   "source": [
    "**Вывод:**\n",
    "\n",
    "Максимальные продажи за всё время принесли следующие платформы:\n",
    "- PS2 (1,3 тыс уе);\n",
    "- X360 (1 тыс уе);\n",
    "- PS3 (0,9 тыс уе);\n",
    "- Wii (0,9 тыс уе);\n",
    "- DS (0,8 тыс уе);\n",
    "- PS (0,7 тыс уе).<br/>\n",
    "Прочие платформы принесли существенно меньшую выручку. Таким образом, самыми продаваемыми платформами являются Sony Play Station и XBOX.\n",
    "\n",
    "Топ-6 платформ имели следующие сроки \"жизни\":\n",
    "- PS (1994-2003 => 9 лет);\n",
    "- PS2 (2000-2011 => 11 лет);\n",
    "- DS (2004-2013 => 9 лет);\n",
    "- X360 (2005-2016 => 11 лет);\n",
    "- PS3 (2006-2016 => 10 лет);\n",
    "- Wii (2006-2016 => 10 лет).<br/>\n",
    "Исходя из графика распределения суммарных продаж по годам видно, что в среднем новые платформы появляются и исчезают примерно за 9-11 лет. Причем каждая платформа развивалась постепенно и имела пик примерно в середине жизненного цикла.\n",
    "\n",
    "Примечательно, что в первое десятилетие активного роста продаж компьютерных игр на рынке пользовались популярностью только 2 платформы (PS2 сменила PS), а затем на рынке одновременно активно использовались несколько разных платформ."
   ]
  },
  {
   "cell_type": "markdown",
   "metadata": {},
   "source": [
    "### Данные за актуальный период."
   ]
  },
  {
   "cell_type": "markdown",
   "metadata": {},
   "source": [
    "Нам необходимо выбрать актуальный период - период, за который мы будем оценивать наши данные, на основании выводов по которым будем строить прогноз на 2017 год. Мы знаем, что срок жизни платформ составляет в среднем около 10 лет, поэтому данные ранее 2006 года нас точно не интересуют, т.к. любая платформа, появившаяся до 2006 года скорее всего к 2016 уже \"отживёт\", а нам для корректного прогноза на 2017 год необходимо брать только актуальные платформы. Визуализируем объем продаж по платформам, появившимся после 2006 года:"
   ]
  },
  {
   "cell_type": "code",
   "execution_count": 27,
   "metadata": {},
   "outputs": [
    {
     "data": {
      "image/png": "[encoded data removed]",
      "text/plain": [
       "<Figure size 1440x720 with 1 Axes>"
      ]
     },
     "metadata": {
      "needs_background": "light"
     },
     "output_type": "display_data"
    }
   ],
   "source": [
    "data.query('year_of_release > 2006').pivot_table(\n",
    "    index='year_of_release', \n",
    "    columns='platform', \n",
    "    values='total_sales', \n",
    "    aggfunc='sum').plot(grid=True, figsize=(20, 10));\n",
    "plt.title('РАСПРЕДЕЛЕНИЕ ПРОДАЖ ПО ПЛАТФОРМАМ, ПОЯВИВШИМСЯ ПОСЛЕ 2006')\n",
    "plt.xlabel('Год', fontsize=16)\n",
    "plt.ylabel('Объём продаж', fontsize=16)\n",
    "plt.legend()\n",
    "plt.show();"
   ]
  },
  {
   "cell_type": "markdown",
   "metadata": {},
   "source": [
    "Видится целесообразным в такой динамичной отрасли как компьютерные игры для прогноза взять небольшой период - около 2 лет. По графику видим, что на 2016 год двумя самыми развивающимися и перспективными платформами являются PS4 и XOne, которые появились в 2013 году и набрали популярность в 2014. Добавим в актуальный период данные за 2014 год, чтобы не потерять влияния на продажи фактора сезонности.\n",
    "\n",
    "Также видим, что ни у одной из платформ не наблюдается рост в 2016 году. Проверим подробнее цифры:"
   ]
  },
  {
   "cell_type": "code",
   "execution_count": 28,
   "metadata": {
    "scrolled": true
   },
   "outputs": [
    {
     "data": {
      "text/html": [
       "<div>\n",
       "<style scoped>\n",
       "    .dataframe tbody tr th:only-of-type {\n",
       "        vertical-align: middle;\n",
       "    }\n",
       "\n",
       "    .dataframe tbody tr th {\n",
       "        vertical-align: top;\n",
       "    }\n",
       "\n",
       "    .dataframe thead th {\n",
       "        text-align: right;\n",
       "    }\n",
       "</style>\n",
       "<table border=\"1\" class=\"dataframe\">\n",
       "  <thead>\n",
       "    <tr style=\"text-align: right;\">\n",
       "      <th>year_of_release</th>\n",
       "      <th>2014</th>\n",
       "      <th>2015</th>\n",
       "      <th>2016</th>\n",
       "    </tr>\n",
       "    <tr>\n",
       "      <th>platform</th>\n",
       "      <th></th>\n",
       "      <th></th>\n",
       "      <th></th>\n",
       "    </tr>\n",
       "  </thead>\n",
       "  <tbody>\n",
       "    <tr>\n",
       "      <th>ps4</th>\n",
       "      <td>100.00</td>\n",
       "      <td>118.90</td>\n",
       "      <td>69.25</td>\n",
       "    </tr>\n",
       "    <tr>\n",
       "      <th>xone</th>\n",
       "      <td>54.07</td>\n",
       "      <td>60.14</td>\n",
       "      <td>26.15</td>\n",
       "    </tr>\n",
       "    <tr>\n",
       "      <th>3ds</th>\n",
       "      <td>43.76</td>\n",
       "      <td>27.78</td>\n",
       "      <td>15.14</td>\n",
       "    </tr>\n",
       "    <tr>\n",
       "      <th>pc</th>\n",
       "      <td>13.28</td>\n",
       "      <td>8.52</td>\n",
       "      <td>5.25</td>\n",
       "    </tr>\n",
       "    <tr>\n",
       "      <th>wiiu</th>\n",
       "      <td>22.03</td>\n",
       "      <td>16.35</td>\n",
       "      <td>4.60</td>\n",
       "    </tr>\n",
       "    <tr>\n",
       "      <th>psv</th>\n",
       "      <td>11.90</td>\n",
       "      <td>6.25</td>\n",
       "      <td>4.25</td>\n",
       "    </tr>\n",
       "    <tr>\n",
       "      <th>ps3</th>\n",
       "      <td>47.76</td>\n",
       "      <td>16.82</td>\n",
       "      <td>3.60</td>\n",
       "    </tr>\n",
       "    <tr>\n",
       "      <th>x360</th>\n",
       "      <td>34.74</td>\n",
       "      <td>11.96</td>\n",
       "      <td>1.52</td>\n",
       "    </tr>\n",
       "    <tr>\n",
       "      <th>wii</th>\n",
       "      <td>3.75</td>\n",
       "      <td>1.14</td>\n",
       "      <td>0.18</td>\n",
       "    </tr>\n",
       "    <tr>\n",
       "      <th>ds</th>\n",
       "      <td>NaN</td>\n",
       "      <td>NaN</td>\n",
       "      <td>NaN</td>\n",
       "    </tr>\n",
       "    <tr>\n",
       "      <th>psp</th>\n",
       "      <td>0.24</td>\n",
       "      <td>0.12</td>\n",
       "      <td>NaN</td>\n",
       "    </tr>\n",
       "  </tbody>\n",
       "</table>\n",
       "</div>"
      ],
      "text/plain": [
       "year_of_release    2014    2015   2016\n",
       "platform                              \n",
       "ps4              100.00  118.90  69.25\n",
       "xone              54.07   60.14  26.15\n",
       "3ds               43.76   27.78  15.14\n",
       "pc                13.28    8.52   5.25\n",
       "wiiu              22.03   16.35   4.60\n",
       "psv               11.90    6.25   4.25\n",
       "ps3               47.76   16.82   3.60\n",
       "x360              34.74   11.96   1.52\n",
       "wii                3.75    1.14   0.18\n",
       "ds                  NaN     NaN    NaN\n",
       "psp                0.24    0.12    NaN"
      ]
     },
     "execution_count": 28,
     "metadata": {},
     "output_type": "execute_result"
    }
   ],
   "source": [
    "# Выведем сумму продаж по платформам за 2014-2016 гг:\n",
    "sales_2_years = data.pivot_table(\n",
    "    index='year_of_release', \n",
    "    columns='platform', \n",
    "    values='total_sales', \n",
    "    aggfunc='sum'\n",
    "    ).loc[[2014, 2015, 2016]].T\n",
    "\n",
    "# Создадим список платформ, созданных после 2012:\n",
    "platforms_actual = data.query('year_of_release > 2012')['platform'].unique()\n",
    "\n",
    "\n",
    "sales_2_years = sales_2_years.query('platform in @ platforms_actual').sort_values(by=2016,ascending=False)\n",
    "sales_2_years"
   ]
  },
  {
   "cell_type": "markdown",
   "metadata": {},
   "source": [
    "На конец 2016 года лидируют по продажам следующие платформы:\n",
    "- PS4;\n",
    "- Xone;\n",
    "- 3DS.<br/>\n",
    "\n",
    "Данные платформы являются потенциально прибыльными.\n",
    "\n",
    "Также на графике можно видеть общую тенденцию снижения продаж для всех платформ. Появление новой платформы пока не заметно. \n",
    "\n",
    "**Видится целесообразым считать актульные данные начиная с 2014 года:** в этом периоде представлены данные по абсолютно всем самым популярным платформам. "
   ]
  },
  {
   "cell_type": "markdown",
   "metadata": {},
   "source": [
    "### График «ящик с усами» по глобальным продажам игр в разбивке по платформам. "
   ]
  },
  {
   "cell_type": "markdown",
   "metadata": {},
   "source": [
    "После того, как мы определились с актуалтным периодом (с 2014 по 2016), необходимо сформировать актуальную выборку для анализа:"
   ]
  },
  {
   "cell_type": "code",
   "execution_count": 29,
   "metadata": {},
   "outputs": [],
   "source": [
    "# Актуальная выборка для дпльнейшего анализа:\n",
    "data_actual = data.query('year_of_release > 2013')"
   ]
  },
  {
   "cell_type": "code",
   "execution_count": 30,
   "metadata": {
    "scrolled": true
   },
   "outputs": [
    {
     "data": {
      "image/png": "[encoded data removed]",
      "text/plain": [
       "<Figure size 432x360 with 1 Axes>"
      ]
     },
     "metadata": {
      "needs_background": "light"
     },
     "output_type": "display_data"
    }
   ],
   "source": [
    "# Построим \"ящик с усами\" по продажам по топ-платформам:\n",
    "data_actual.boxplot(column='total_sales', by='platform', figsize=(6,5));\n",
    "plt.xlabel('Платформа')\n",
    "plt.ylabel('Объём продаж, млн.копий')\n",
    "plt.title('ГЛОБАЛЬНЫЕ ПРОДАЖИ ПО ПЛАТФОРМАМ')\n",
    "plt.show()"
   ]
  },
  {
   "cell_type": "markdown",
   "metadata": {},
   "source": [
    "Выбросы есть почти у всех платформ (наибольшие у PS4, 3DS, XOne и WIIU) - скорее всего, это игры которые многим понравились и они приносят максимум выручки, поэтому чтобы посмотреть на продаже детальнее, ограничим значения по оси Y:"
   ]
  },
  {
   "cell_type": "code",
   "execution_count": 31,
   "metadata": {},
   "outputs": [
    {
     "data": {
      "image/png": "[encoded data removed]",
      "text/plain": [
       "<Figure size 432x360 with 1 Axes>"
      ]
     },
     "metadata": {
      "needs_background": "light"
     },
     "output_type": "display_data"
    }
   ],
   "source": [
    "data_actual.boxplot(column='total_sales', by='platform', figsize=(6,5));\n",
    "plt.ylim(0,1)\n",
    "plt.xlabel('Платформа')\n",
    "plt.ylabel('Объём продаж')\n",
    "plt.suptitle('');\n",
    "plt.show()"
   ]
  },
  {
   "cell_type": "markdown",
   "metadata": {},
   "source": [
    "В целом, медиана колеблется в промежутке от 100 до 200 тыс проданных копий различных игр. Лидируют платформы XOne, X360, Wiiu, Wii и PS4. А вот медианный объём продаж карманных игровых консолей PSP, PSV и PC составляет менее 80 тыс копий."
   ]
  },
  {
   "cell_type": "markdown",
   "metadata": {},
   "source": [
    "### Влияние на продажи внутри одной платформы отзывов пользователей и критиков."
   ]
  },
  {
   "cell_type": "markdown",
   "metadata": {},
   "source": [
    "Посмотрим, как влияют на продажи внутри одной популярной платформы отзывы пользователей и критиков. Для этого нужно построть диаграмму рассеяния и посчитать корреляцию между отзывами и продажами."
   ]
  },
  {
   "cell_type": "code",
   "execution_count": 32,
   "metadata": {},
   "outputs": [
    {
     "data": {
      "image/png": "[encoded data removed]",
      "text/plain": [
       "<Figure size 648x360 with 1 Axes>"
      ]
     },
     "metadata": {
      "needs_background": "light"
     },
     "output_type": "display_data"
    }
   ],
   "source": [
    "# Построим диаграмму зависимости продаж от отзывов критиков на примере платформы PS4:\n",
    "data_actual[(data_actual['platform'] == 'ps4') & (data_actual['critic_score'] > 0)].plot(\n",
    "    kind='scatter', \n",
    "    x='critic_score', \n",
    "    y='total_sales', \n",
    "    figsize=(9,5));\n",
    "\n",
    "plt.title('РАСПРЕДЕЛЕНИЕ ОТЗЫВОВ КРИТИКОВ ДЛЯ ПЛАТФОРМЫ PS4')\n",
    "plt.show();"
   ]
  },
  {
   "cell_type": "markdown",
   "metadata": {},
   "source": [
    "На диаграмме наблюдается некоторая зависимость продаж от отзывов критиков - в среднем при увеличении оценок критиков растут и продажи."
   ]
  },
  {
   "cell_type": "code",
   "execution_count": 33,
   "metadata": {},
   "outputs": [
    {
     "data": {
      "image/png": "[encoded data removed]",
      "text/plain": [
       "<Figure size 648x360 with 1 Axes>"
      ]
     },
     "metadata": {
      "needs_background": "light"
     },
     "output_type": "display_data"
    }
   ],
   "source": [
    "# Построим диаграмму зависимости продаж от отзывов пользователей на примере платформы PS4:\n",
    "data_actual[(data_actual['platform'] == 'ps4') & (data_actual['user_score'] > 0)].plot(\n",
    "    kind='scatter', \n",
    "    x='user_score', \n",
    "    y='total_sales', \n",
    "    figsize=(9,5));\n",
    "\n",
    "plt.title('РАСПРЕДЕЛЕНИЕ ОТЗЫВОВ ПОЛЬЗОВАТЕЛЕЙ ДЛЯ ПЛАТФОРМЫ PS4')\n",
    "plt.show();"
   ]
  },
  {
   "cell_type": "markdown",
   "metadata": {},
   "source": [
    "Почти не наблюдается зависимость зависимость продаж от отзывов пользователей. Даже видим игры, которые не имеют высокую оценку пользователей, но при этом неплохо продаются, и наоборот."
   ]
  },
  {
   "cell_type": "code",
   "execution_count": 34,
   "metadata": {},
   "outputs": [
    {
     "data": {
      "text/html": [
       "<div>\n",
       "<style scoped>\n",
       "    .dataframe tbody tr th:only-of-type {\n",
       "        vertical-align: middle;\n",
       "    }\n",
       "\n",
       "    .dataframe tbody tr th {\n",
       "        vertical-align: top;\n",
       "    }\n",
       "\n",
       "    .dataframe thead th {\n",
       "        text-align: right;\n",
       "    }\n",
       "</style>\n",
       "<table border=\"1\" class=\"dataframe\">\n",
       "  <thead>\n",
       "    <tr style=\"text-align: right;\">\n",
       "      <th></th>\n",
       "      <th>total_sales</th>\n",
       "      <th>user_score</th>\n",
       "      <th>critic_score</th>\n",
       "    </tr>\n",
       "  </thead>\n",
       "  <tbody>\n",
       "    <tr>\n",
       "      <th>total_sales</th>\n",
       "      <td>1.000000</td>\n",
       "      <td>-0.043186</td>\n",
       "      <td>0.401903</td>\n",
       "    </tr>\n",
       "    <tr>\n",
       "      <th>user_score</th>\n",
       "      <td>-0.043186</td>\n",
       "      <td>1.000000</td>\n",
       "      <td>0.546434</td>\n",
       "    </tr>\n",
       "    <tr>\n",
       "      <th>critic_score</th>\n",
       "      <td>0.401903</td>\n",
       "      <td>0.546434</td>\n",
       "      <td>1.000000</td>\n",
       "    </tr>\n",
       "  </tbody>\n",
       "</table>\n",
       "</div>"
      ],
      "text/plain": [
       "              total_sales  user_score  critic_score\n",
       "total_sales      1.000000   -0.043186      0.401903\n",
       "user_score      -0.043186    1.000000      0.546434\n",
       "critic_score     0.401903    0.546434      1.000000"
      ]
     },
     "execution_count": 34,
     "metadata": {},
     "output_type": "execute_result"
    }
   ],
   "source": [
    "# Теперь посмотрим зависимость продаж от отзывов критиков и пользователей при помощи корреляции Пирсона на примере платформы PS2:\n",
    "data_actual[(data_actual['platform'] == 'ps4') & \n",
    "            (data_actual['critic_score'] > 0) & \n",
    "            (data_actual['user_score'] > 0)][['total_sales', 'user_score', 'critic_score']].corr()"
   ]
  },
  {
   "cell_type": "markdown",
   "metadata": {},
   "source": [
    "Значения коэффициента корреляции Пирсона свидетельствуют о том, что пользователи не имеют никакого влияния на продажи игр, т.к. корреляция продаж с отзывами пользователей близка к 0. Возможно, что явной взаимосвязи между отзывами пользователей и количеством проданных копий игр для платформы PS4 в рамках данного проекта мы не наблюдаем вследствие ограниченности имеющихся данных.\n",
    "\n",
    "Другая ситуация с отзывами критиков (k=0,4), корреляция продаж с которыми умеренная. Это значит, что в среднем при увеличении оценок критиков растут и продажи. Возможно, критики не так критичны к играм, как пользователи."
   ]
  },
  {
   "cell_type": "code",
   "execution_count": 35,
   "metadata": {},
   "outputs": [
    {
     "data": {
      "text/html": [
       "<div>\n",
       "<style scoped>\n",
       "    .dataframe tbody tr th:only-of-type {\n",
       "        vertical-align: middle;\n",
       "    }\n",
       "\n",
       "    .dataframe tbody tr th {\n",
       "        vertical-align: top;\n",
       "    }\n",
       "\n",
       "    .dataframe thead th {\n",
       "        text-align: right;\n",
       "    }\n",
       "</style>\n",
       "<table border=\"1\" class=\"dataframe\">\n",
       "  <thead>\n",
       "    <tr style=\"text-align: right;\">\n",
       "      <th></th>\n",
       "      <th>total_sales</th>\n",
       "      <th>user_score</th>\n",
       "      <th>critic_score</th>\n",
       "    </tr>\n",
       "  </thead>\n",
       "  <tbody>\n",
       "    <tr>\n",
       "      <th>42</th>\n",
       "      <td>12.62</td>\n",
       "      <td>8.3</td>\n",
       "      <td>97</td>\n",
       "    </tr>\n",
       "    <tr>\n",
       "      <th>77</th>\n",
       "      <td>8.58</td>\n",
       "      <td>4.3</td>\n",
       "      <td>82</td>\n",
       "    </tr>\n",
       "    <tr>\n",
       "      <th>92</th>\n",
       "      <td>7.66</td>\n",
       "      <td>5.7</td>\n",
       "      <td>83</td>\n",
       "    </tr>\n",
       "    <tr>\n",
       "      <th>94</th>\n",
       "      <td>7.60</td>\n",
       "      <td>5.0</td>\n",
       "      <td>85</td>\n",
       "    </tr>\n",
       "  </tbody>\n",
       "</table>\n",
       "</div>"
      ],
      "text/plain": [
       "    total_sales  user_score  critic_score\n",
       "42        12.62         8.3            97\n",
       "77         8.58         4.3            82\n",
       "92         7.66         5.7            83\n",
       "94         7.60         5.0            85"
      ]
     },
     "execution_count": 35,
     "metadata": {},
     "output_type": "execute_result"
    }
   ],
   "source": [
    "# check\n",
    "data[(data['platform'] == 'ps4') & (data['critic_score'] > 0)][['total_sales', 'user_score', 'critic_score']].head(4)"
   ]
  },
  {
   "cell_type": "markdown",
   "metadata": {},
   "source": [
    "### Соотнесение выводов с продажами игр на других платформах."
   ]
  },
  {
   "cell_type": "markdown",
   "metadata": {},
   "source": [
    "Выполним исследование зависимости по конкурентной платформу - на примере XOne."
   ]
  },
  {
   "cell_type": "code",
   "execution_count": 36,
   "metadata": {},
   "outputs": [
    {
     "data": {
      "image/png": "[encoded data removed]",
      "text/plain": [
       "<Figure size 648x360 with 1 Axes>"
      ]
     },
     "metadata": {
      "needs_background": "light"
     },
     "output_type": "display_data"
    }
   ],
   "source": [
    "# Построим диаграмму зависимости продаж от отзывов критиков на примере XOne:\n",
    "data[(data['platform'] == 'xone') & (data['critic_score'] > 0)].plot(\n",
    "    kind='scatter', \n",
    "    x='critic_score', \n",
    "    y='total_sales', \n",
    "    figsize=(9,5));\n",
    "\n",
    "plt.title('РАСПРЕДЕЛЕНИЕ ОТЗЫВОВ КРИТИКОВ ДЛЯ ПЛАТФОРМЫ XONE')\n",
    "plt.show();"
   ]
  },
  {
   "cell_type": "code",
   "execution_count": 37,
   "metadata": {},
   "outputs": [
    {
     "data": {
      "image/png": "[encoded data removed]",
      "text/plain": [
       "<Figure size 648x360 with 1 Axes>"
      ]
     },
     "metadata": {
      "needs_background": "light"
     },
     "output_type": "display_data"
    }
   ],
   "source": [
    "# Построим диаграмму зависимости продаж от отзывов пользователей на примере XOne:\n",
    "data[(data['platform'] == 'xone') & (data['user_score'] > 0)].plot(kind='scatter', x='user_score', y='total_sales', figsize=(9,5));\n",
    "plt.title('РАСПРЕДЕЛЕНИЕ ОТЗЫВОВ ПОЛЬЗОВАТЕЛЕЙ ДЛЯ ПЛАТФОРМЫ XONE')\n",
    "plt.show();"
   ]
  },
  {
   "cell_type": "code",
   "execution_count": 38,
   "metadata": {},
   "outputs": [
    {
     "data": {
      "text/html": [
       "<div>\n",
       "<style scoped>\n",
       "    .dataframe tbody tr th:only-of-type {\n",
       "        vertical-align: middle;\n",
       "    }\n",
       "\n",
       "    .dataframe tbody tr th {\n",
       "        vertical-align: top;\n",
       "    }\n",
       "\n",
       "    .dataframe thead th {\n",
       "        text-align: right;\n",
       "    }\n",
       "</style>\n",
       "<table border=\"1\" class=\"dataframe\">\n",
       "  <thead>\n",
       "    <tr style=\"text-align: right;\">\n",
       "      <th></th>\n",
       "      <th>total_sales</th>\n",
       "      <th>user_score</th>\n",
       "      <th>critic_score</th>\n",
       "    </tr>\n",
       "  </thead>\n",
       "  <tbody>\n",
       "    <tr>\n",
       "      <th>total_sales</th>\n",
       "      <td>1.000000</td>\n",
       "      <td>0.121712</td>\n",
       "      <td>0.273782</td>\n",
       "    </tr>\n",
       "    <tr>\n",
       "      <th>user_score</th>\n",
       "      <td>0.121712</td>\n",
       "      <td>1.000000</td>\n",
       "      <td>0.781040</td>\n",
       "    </tr>\n",
       "    <tr>\n",
       "      <th>critic_score</th>\n",
       "      <td>0.273782</td>\n",
       "      <td>0.781040</td>\n",
       "      <td>1.000000</td>\n",
       "    </tr>\n",
       "  </tbody>\n",
       "</table>\n",
       "</div>"
      ],
      "text/plain": [
       "              total_sales  user_score  critic_score\n",
       "total_sales      1.000000    0.121712      0.273782\n",
       "user_score       0.121712    1.000000      0.781040\n",
       "critic_score     0.273782    0.781040      1.000000"
      ]
     },
     "execution_count": 38,
     "metadata": {},
     "output_type": "execute_result"
    }
   ],
   "source": [
    "# Теперь посмотрим зависимость продаж от отзывов критиков и пользователей при помощи корреляции Пирсона на примере XOne:\n",
    "data[data['platform'] == 'xone'][['total_sales', 'user_score', 'critic_score']].corr()"
   ]
  },
  {
   "cell_type": "markdown",
   "metadata": {},
   "source": [
    "Видим, что по платформе XOne корреляция продаж как с отзывами пользователей, так и с отзывами критиков незначительно сильнее, чем у платформы PS4, но все же слабая. Таким образом, зависимость продаж от отзывов практически отсутствует."
   ]
  },
  {
   "cell_type": "markdown",
   "metadata": {},
   "source": [
    "### Общее распределение игр по жанрам."
   ]
  },
  {
   "cell_type": "code",
   "execution_count": 39,
   "metadata": {},
   "outputs": [
    {
     "data": {
      "image/png": "[encoded data removed]",
      "text/plain": [
       "<Figure size 936x360 with 1 Axes>"
      ]
     },
     "metadata": {
      "needs_background": "light"
     },
     "output_type": "display_data"
    }
   ],
   "source": [
    "# Посмотрим на общее распределение игр по жанрам:\n",
    "data_actual.value_counts('genre').sort_values(ascending=False).plot(kind='bar', figsize=(13, 5))\n",
    "plt.ylabel('Количество игр данного жанра')\n",
    "plt.xlabel('Название жанра')\n",
    "plt.title('РАСПРЕДЕЛЕНИЕ ИГР ПО ЖАНРАМ')\n",
    "plt.show()"
   ]
  },
  {
   "cell_type": "markdown",
   "metadata": {},
   "source": [
    "Больше всего игр принадлежат жанру Action, за ними с большим отрывом идут ролевые игры, приключенческие игры, игры спортивного жанра и шутероы. Реже всего встречаются головоломки (puzzle), стратегии и платформеры. "
   ]
  },
  {
   "cell_type": "code",
   "execution_count": 40,
   "metadata": {},
   "outputs": [
    {
     "data": {
      "image/png": "[encoded data removed]",
      "text/plain": [
       "<Figure size 936x360 with 1 Axes>"
      ]
     },
     "metadata": {
      "needs_background": "light"
     },
     "output_type": "display_data"
    }
   ],
   "source": [
    "data_actual.groupby('genre')['total_sales'].median().sort_values(ascending=False).plot(kind='bar', figsize=(13, 5))\n",
    "plt.xlabel('Наименование жанра')\n",
    "plt.ylabel('Объём продаж, млн копий')\n",
    "plt.title('ОБЪЁМ ПРОДАЖ ПО ЖАНРАМ')\n",
    "plt.show()"
   ]
  },
  {
   "cell_type": "markdown",
   "metadata": {},
   "source": [
    "Больше всего было продано шутеров. Затем с большим отрывом идет cпортивные симуляторы, платформеры, бои. Приключенческие игры, головоломки и стратегии продаются реже всего."
   ]
  },
  {
   "cell_type": "markdown",
   "metadata": {},
   "source": [
    "Определим прибыльность игры как соотношение выпущенных игр по жанрам к их сумарным продажам."
   ]
  },
  {
   "cell_type": "code",
   "execution_count": 41,
   "metadata": {},
   "outputs": [
    {
     "data": {
      "image/png": "[encoded data removed]",
      "text/plain": [
       "<Figure size 936x360 with 1 Axes>"
      ]
     },
     "metadata": {
      "needs_background": "light"
     },
     "output_type": "display_data"
    }
   ],
   "source": [
    "(data_actual.groupby('genre')['total_sales'].median() / data_actual.groupby('genre')['name'].count()).sort_values(\n",
    "    ascending=False).plot(kind='bar', figsize=(13, 5))\n",
    "\n",
    "plt.xlabel('Наименование жанра')\n",
    "plt.ylabel('Объём продаж в млн руб на жанр')\n",
    "plt.title('ПРИБЫЛЬНОСТЬ ПО ЖАНРАМ')\n",
    "plt.show()"
   ]
  },
  {
   "cell_type": "markdown",
   "metadata": {},
   "source": [
    "Из графика видим, что самые прибыльные жанры:\n",
    "- шутеры;\n",
    "- платформеры;\n",
    "- головоломки.\n",
    "\n",
    "А вот самые не прибыльные жанры:\n",
    "- экшн;\n",
    "- приключения;\n",
    "- ролевые игры."
   ]
  },
  {
   "cell_type": "markdown",
   "metadata": {},
   "source": [
    "Построим диаграмму размаха по жанрам:"
   ]
  },
  {
   "cell_type": "code",
   "execution_count": 42,
   "metadata": {
    "scrolled": true
   },
   "outputs": [
    {
     "data": {
      "image/png": "[encoded data removed]",
      "text/plain": [
       "<Figure size 720x360 with 1 Axes>"
      ]
     },
     "metadata": {
      "needs_background": "light"
     },
     "output_type": "display_data"
    }
   ],
   "source": [
    "# Построим \"ящик с усами\" по продажам по жанрам:\n",
    "data_actual.boxplot(column='total_sales', by='genre', figsize=(10,5));\n",
    "plt.xlabel('Платформа')\n",
    "plt.ylabel('Объём продаж, млн.копий')\n",
    "plt.title('ГЛОБАЛЬНЫЕ ПРОДАЖИ ПО ЖАНРАМ')\n",
    "plt.suptitle('');\n",
    "plt.show()"
   ]
  },
  {
   "cell_type": "markdown",
   "metadata": {},
   "source": [
    "Из графика видим, что у всех жанров есть выбросы, т.е. очень успешно продающиеся игры. Более длинный ряд таких игр видим у шутеров, экшнов, ролевых игр, спортивных симуляторов и боёв. Посмотрим теперь на диаграмму размаха без выбросов:"
   ]
  },
  {
   "cell_type": "code",
   "execution_count": 43,
   "metadata": {},
   "outputs": [
    {
     "data": {
      "image/png": "[encoded data removed]",
      "text/plain": [
       "<Figure size 720x360 with 1 Axes>"
      ]
     },
     "metadata": {
      "needs_background": "light"
     },
     "output_type": "display_data"
    }
   ],
   "source": [
    "# Построим \"ящик с усами\" по продажам по жанрам без выбросов:\n",
    "data_actual.boxplot(column='total_sales', by='genre', figsize=(10,5));\n",
    "plt.xlabel('Платформа')\n",
    "plt.ylabel('Объём продаж, млн.копий')\n",
    "plt.title('ГЛОБАЛЬНЫЕ ПРОДАЖИ ПО ЖАНРАМ')\n",
    "plt.ylim(0,2)\n",
    "plt.suptitle('');\n",
    "plt.show()"
   ]
  },
  {
   "cell_type": "markdown",
   "metadata": {},
   "source": [
    "Видим, что самое высокое значение с большим отрывом у медианных продаж шутеров (более 500 тыс копий). Затем идут медианные продажи (около 120 тыс копий) у спортивных симуляторов, платформеров, симуляторов и боёв. А вот у приключенческих игр, стратегий и головоломок самые низкие продажи."
   ]
  },
  {
   "cell_type": "markdown",
   "metadata": {},
   "source": [
    "**Вывод:**\n",
    "- Проанализировано количество игр, выпущенных в разные годы. Величина выпуска компьютерных игр до 1993 годы была совсем незначительна. Начиная с 1994 года выпуск стал сильно увеличиваться с каждым годом и в 2008-2009 годах достиг своего максимума. Начиная с 2009 года наблюдается устойчивое снижение выпуска игр вплоть до 2016 года. Данный спад количества выпускаемых игр предположительно может быть связан с развитием индустрии мобильных игр, или активным развитием социальных сетей. Выяснили, что для анализа нам не важны данные за все периоды, а только начиная примерно с 1994, когда объем выпуска стал уже намного более существенным. Рост количества выпускаемых игр начиная с 1994 года, скорее всего, связан с технологическим прорывом в отрасли ЭВМ и создания персональных компьютеров.\n",
    "\n",
    "- Проанализировано, как менялись продажи по платформам. Выбраны платформы с наибольшими суммарными продажами: PS2, X360, PS3, Wii, DS и PS. Также выяснили, что в среднем новые платформы появляются и исчезают примерно за 9-11 лет. Причем каждая платформа развивалась постепенно и имела пик примерно в середине жизненного цикла.\n",
    "\n",
    "- Определен актуальный период для построения прогноза на 2017 год. Видится целесообразным в такой динамичной отрасли как компьюерные игры для прогноза взять небольшой период - около 3 лет. Поэтому будем считать актульные данные начиная с 2014 года: в этом периоде представлены данные по абсолютно всем самым популярным платформам. Выбераны несколько потенциально прибыльных платформ: PS4, Xone и 3DS.\n",
    "\n",
    "- Построен график «ящик с усами» по актуальной выборке в разбивке по платформам. Выбросы присутствуют у всех платформ (наибольшие у PS4, 3DS, XOne и WIIU). В целом, медиана колеблется в промежутке от 100 до 200 тыс проданных копий различных игр. Но все-таки по медианному количеству немного лидируют платформы XOne, X360, Wiiu, Wii и PS4. А вот вот медианный объём продаж карманных игровых консолей PSP, PSV и PC составляет менее 80 тыс копий.\n",
    "\n",
    "- Оценено влияние на продажи отзывов пользователей и критиков внутри одной популярной платформы на примере PS4. Построена диаграмма рассеяния и посчитана корреляция между отзывами и продажами. Выяснили, что отзывы пользователей не имеют никакого влияния на продажи игр. Явной взаимосвязи между отзывами пользователей и количеством проданных копий игр для платформы PS4 в рамках данного проекта не наблюдаем, возможно, вследствие ограниченности имеющихся данных. А вот критики имеют некоторое влияние на продажи игр - в среднем при увеличении оценок критиков растут и продажи. Возможно, критики просто не так критичны к играм, как пользователи.\n",
    "\n",
    "- Соотнесены выводы по PS2 с продажами игр на других платформах и выяснено, что по всем оставшимся платформам корреляция продаж как с отзывами пользователей, так и с отзывами критиков более слабая, чем у платформы PS2. Таким образом, зависимость продаж от отзывов практически отсутствует.\n",
    "\n",
    "- Проанализировано общее распределение игр по жанрам - больше всего игр принадлежат жанру Action, за ними с большим отрывом идут ролевые игры, приключенческие игры, игры спортивного жанра и шутероы. Реже всего встречаются головоломки (puzzle), стратегии и платформеры. По объёму продаж - больше всего было продано шутеров. Затем с большим отрывом идет cпортивные симуляторы, платформеры, бои. Приключенческие игры, головоломки и стратегии продаются реже всего. По прибыльности: самые прибыльные жанры - шутеры, платформеры и головоломки, а вот самые не прибыльные жанры - экшн, приключения и ролевые игры."
   ]
  },
  {
   "cell_type": "markdown",
   "metadata": {},
   "source": [
    "## Портрет пользователя каждого региона"
   ]
  },
  {
   "cell_type": "markdown",
   "metadata": {},
   "source": [
    "Определим портрет для пользователя каждого региона (NA, EU, JP)."
   ]
  },
  {
   "cell_type": "markdown",
   "metadata": {},
   "source": [
    "### Самые популярные платформы (топ-5). "
   ]
  },
  {
   "cell_type": "code",
   "execution_count": 44,
   "metadata": {},
   "outputs": [],
   "source": [
    "# Напишем функцию для прорисовки графиков:\n",
    "def graph (df, region, name, axes):\n",
    "    \n",
    "    df = data_actual\n",
    "    \n",
    "    sales = df.pivot_table(index='platform', \n",
    "                           values=region, \n",
    "                           aggfunc='sum').nlargest(5, region)\n",
    "    \n",
    "    sales = sales.reset_index()\n",
    "    \n",
    "    sales = (\n",
    "            sales.append({'platform': 'Прочие', region: df[region].sum() \n",
    "                       - sales[region].sum()}, ignore_index= True)\n",
    "         )\n",
    "    \n",
    "    \n",
    "    sales.columns = ['platform', 'sales']\n",
    "    sales.plot(kind='pie',\n",
    "               y=\"sales\",\n",
    "               \n",
    "               autopct='%1.0f%%',\n",
    "               wedgeprops={'linewidth': 3.0, 'edgecolor': 'white'},\n",
    "               textprops={'size': 'x-large'}, labels = sales.platform,\n",
    "               \n",
    "               legend=False, \n",
    "               title = f\"Популярность платформ в {name} \", \n",
    "               ax = axes).set(ylabel='')\n",
    "    plt.tight_layout()"
   ]
  },
  {
   "cell_type": "code",
   "execution_count": 45,
   "metadata": {},
   "outputs": [
    {
     "data": {
      "image/png": "[encoded data removed]",
      "text/plain": [
       "<Figure size 1080x432 with 3 Axes>"
      ]
     },
     "metadata": {},
     "output_type": "display_data"
    }
   ],
   "source": [
    "# Выведем самые популярные платформы (топ-5) по странам, все прочие платформы фойдут в группу \"Прочие\":\n",
    "fig, axes = plt.subplots(1, 3, figsize = (15,6))\n",
    "fig.suptitle('Обзор рынка платформ (портрет покупателя)', fontsize = 30, fontweight='bold')\n",
    "\n",
    "graph(data_actual, 'na_sales', 'Северной Америке', axes[0])\n",
    "graph(data_actual, 'eu_sales', 'Европе', axes[1])\n",
    "graph(data_actual, 'jp_sales', 'Японии', axes[2])"
   ]
  },
  {
   "cell_type": "markdown",
   "metadata": {},
   "source": [
    "**Северная Америка:**\n",
    "- PS4 лидирует;\n",
    "- Xone немного отстаёт;\n",
    "- намного меньше игр продаются на платфомах X360, 3DS и PS3.\n",
    "\n",
    "**Европа:**\n",
    "- PS4 лидирует с большим отрывом;\n",
    "- Xone сильно отстаёт;\n",
    "- меньше игр продаются на платфомах PS3, PC и 3DS.\n",
    "\n",
    "**Япония:**\n",
    "- 3DS уверенно лидирует;\n",
    "- PS4 и PSV сильно отстают;\n",
    "- чуть меньше игр продаются на платфомах PS3 и Wiiu."
   ]
  },
  {
   "cell_type": "markdown",
   "metadata": {},
   "source": [
    "Таким образом, видим, что как в Северной Америке, так и в Европе лидером является платформа `PS4`, которая в Японии пользуется более низкой популярностью. На втором месте в Америке и Европе находится платформа `XOne`, причём в Америке она отстаёт от лидеоа совсем незначительно, а в Европе разница существенная. В Европе также очень любят `PS3`, `PC` и `3DS`,  которые за исключением PC также распространени и в Америке, но не востребованы в Японии (также за исключением PC). В Америке очень любят платформу `X360`, которая не популярна ни в Европе, ни в Японии.\n",
    "\n",
    "С другой стороны, Японии больше всего предпочитают платформу `3DS`, которая мало популярна в Америке и в Европе. Еще японцы часто играют на платформе `PSV`, на которой в Европе и в Америке играют, видимо, намного реже. Также в Японии играют на такой платформе как `Wiiu`, которые в топ-5 платформ по Америке и Европе даже не вошла.\n",
    "\n",
    "Примечательно, что прочие платформы (все, которые не вошли в топ-5) в Японии не востребованы, а в Америке и Европе составляют 11-13%. "
   ]
  },
  {
   "cell_type": "markdown",
   "metadata": {},
   "source": [
    "### Самые популярные жанры (топ-5). "
   ]
  },
  {
   "cell_type": "code",
   "execution_count": 46,
   "metadata": {},
   "outputs": [],
   "source": [
    "# Функция для прорисовки графиков по жанрам:\n",
    "def top_genres(groupby, region_sales, ax):\n",
    "    pivot = data_actual.groupby(groupby).agg({region_sales: 'sum'}).sort_values(by=region_sales, ascending=False)[:5]\n",
    "    title_dict = {'na_sales': 'Северная Америка', 'eu_sales': 'Европа', 'jp_sales': 'Япония'}\n",
    "    color_dict = {'na_sales': 'pink', 'eu_sales': 'green', 'jp_sales': 'yellow'}\n",
    "    plot = pivot.plot(kind='bar', ec='black', title=title_dict[region_sales], ax=axes[ax], \n",
    "                   fontsize=18, color=color_dict[region_sales], rot=20)\n",
    "    plot.legend('')\n",
    "    plot.set_xlabel('Платформа', fontsize=18)\n",
    "    plot.set_ylabel('Объём продаж', fontsize=18) \n",
    "    plot.title.set_size(20)"
   ]
  },
  {
   "cell_type": "code",
   "execution_count": 47,
   "metadata": {
    "scrolled": false
   },
   "outputs": [
    {
     "name": "stdout",
     "output_type": "stream",
     "text": [
      "Cамые популярные платформы (топ-5) по странам\n"
     ]
    },
    {
     "data": {
      "image/png": "[encoded data removed]",
      "text/plain": [
       "<Figure size 1800x432 with 3 Axes>"
      ]
     },
     "metadata": {
      "needs_background": "light"
     },
     "output_type": "display_data"
    }
   ],
   "source": [
    "print ('Cамые популярные платформы (топ-5) по странам')\n",
    "fig, axes = plt.subplots(1, 3, figsize=(25,6))\n",
    "\n",
    "top_genres('genre', 'na_sales', 0)\n",
    "top_genres('genre', 'eu_sales', 1)\n",
    "top_genres('genre', 'jp_sales', 2)"
   ]
  },
  {
   "cell_type": "markdown",
   "metadata": {},
   "source": [
    "**Северная Америка:**\n",
    "- лидируют шутеры и экшны;\n",
    "- затем идут спортивные симуляторы, ролевые игры и аркады.\n",
    "\n",
    "**Европа:**\n",
    "- лидируют экшны и шутеры;\n",
    "- затем идут спортивные симуляторы, ролевые игры и гонки.\n",
    "\n",
    "**Япония:**\n",
    "- лидируют ролевые игры и экшны;\n",
    "- затем идут боевые игры, аркады и шутеры."
   ]
  },
  {
   "cell_type": "markdown",
   "metadata": {},
   "source": [
    "Видим, что в Северной Америке и Европе картина практически идентичная - больше всего любят экшны или шутеры, затем идут спортивные и ролевые игры, только на пятом месте видим различие: в Америке - аркады, а в Европе - гонки. \n",
    "\n",
    "А вот в Японии препочтения совершенно иные - на первом месте идут ролевые игры, далее идут экшны, борьба и аркада. А вот шутеры, столь популярные в Америке и Европе, замыкают пятерку лидеров."
   ]
  },
  {
   "cell_type": "markdown",
   "metadata": {},
   "source": [
    "### Влияет ли рейтинг ESRB на продажи в отдельном регионе?"
   ]
  },
  {
   "cell_type": "code",
   "execution_count": 48,
   "metadata": {},
   "outputs": [
    {
     "data": {
      "image/png": "[encoded data removed]",
      "text/plain": [
       "<Figure size 432x288 with 1 Axes>"
      ]
     },
     "metadata": {
      "needs_background": "light"
     },
     "output_type": "display_data"
    }
   ],
   "source": [
    "# Определим распределение рейтингов ESRB в каждом регионе:\n",
    "list_regions = ['na_sales', 'eu_sales', 'jp_sales']\n",
    "rating_data = data.groupby('rating')[list_regions].sum()\n",
    "rating_data['total_sales'] = rating_data.sum(axis=1)\n",
    "\n",
    "rating_data.sort_values('total_sales', ascending=False)[list_regions].plot.bar(stacked=True, rot=0)\n",
    "\n",
    "plt.ylabel('Объём продаж, млн копий')\n",
    "plt.title('ESRB РЕЙТИНГИ ПО РЕГИОНАМ')\n",
    "\n",
    "plt.show()"
   ]
  },
  {
   "cell_type": "markdown",
   "metadata": {},
   "source": [
    "Напомним основные обозначения рейтинга ESRB:\n",
    "- E («Everyone») — «Для всех»;\n",
    "- M («Mature») — «Для взрослых»;\n",
    "- T («Teen») — «Подросткам»;\n",
    "- E10+ («Everyone 10 and older») — «Для всех от 10 лет и старше»;\n",
    "- *NR - рейтинг отсутствует (обозначение введено нами).*"
   ]
  },
  {
   "cell_type": "markdown",
   "metadata": {},
   "source": [
    "В Северной Америке и в Европе снова картина практически одинаковая - большая часть выручки получено с игр с рейтингом \"для всех\", после этого идут игры без рейтинга. Затем следуют игры \"для подростков\" и \"для взрослых\".\n",
    "\n",
    "А вот в Японии немного по-другому - в лидерах находятся игры с неопределенным рейтингом, а затем картина схожа с Америкой и Европой. Вероятно, что много игр не имеют ESRB рейтинга, т.к. ESRB принадлежит американской компании и японские игры просто не проходят его."
   ]
  },
  {
   "cell_type": "markdown",
   "metadata": {},
   "source": [
    "**Вывод:**\n",
    "- Типичный пользователь из **Северной Америки** играет:\n",
    "    - на платформе PS4 или XOne;\n",
    "    - в шутеры или игры жанра экшн;\n",
    "    - в игры возрастной категории \"Для всех\".\n",
    "    \n",
    "\n",
    "- Типичный пользователь из **Европы** играет:\n",
    "    - на платформе PS4\n",
    "    - в игры жанра экшн или шутеры;\n",
    "    - в игры возрастной категории \"Для всех\".\n",
    "    \n",
    "\n",
    "- Типичный пользователь из **Японии** играет:\n",
    "    - на платформе 3DS;\n",
    "    - в ролевые игры или экшн;\n",
    "    - возрастная категория игры будет не определена."
   ]
  },
  {
   "cell_type": "markdown",
   "metadata": {},
   "source": [
    "## Проверка гипотез"
   ]
  },
  {
   "cell_type": "markdown",
   "metadata": {},
   "source": [
    "Для проверки двух следующих гипотез будем использовать t-критерий Стьюдента, т.к. в обоих случаях выборки независимы между собой. Определим пороговое значение alpha = 0.05 - это критический уровень статистической значимости и если p-value окажется меньше него, то мы отвергнем нулевую гипотезу."
   ]
  },
  {
   "cell_type": "markdown",
   "metadata": {},
   "source": [
    "### Средние пользовательские рейтинги платформ Xbox One и PC одинаковые?"
   ]
  },
  {
   "cell_type": "markdown",
   "metadata": {},
   "source": [
    "**Н0 (нулевая гипотеза)** - средние пользовательские рейтинги платформ Xbox One и PC РАВНЫ.<br>\n",
    "**Н1 (альтернативная гипотеза)** - средние пользовательские рейтинги платформ Xbox One и PC отличаются между собой."
   ]
  },
  {
   "cell_type": "code",
   "execution_count": 49,
   "metadata": {},
   "outputs": [
    {
     "name": "stdout",
     "output_type": "stream",
     "text": [
      "p-value:  0.11601398086668827\n",
      "Не получилось отвергнуть нулевую гипотезу\n"
     ]
    }
   ],
   "source": [
    "# Проверим первую гипотезу:\n",
    "pc= data_actual.query('user_score >= 0')[data_actual['platform'] == 'pc']['user_score']\n",
    "xone = data_actual.query('user_score >= 0')[data_actual['platform'] == 'xone']['user_score']\n",
    "\n",
    "alpha = 0.05 \n",
    "\n",
    "results = st.ttest_ind(xone, pc, equal_var=False) \n",
    "\n",
    "print('p-value: ', results.pvalue)\n",
    "\n",
    "if results.pvalue < alpha:\n",
    "    print(\"Отвергаем нулевую гипотезу\")\n",
    "else:\n",
    "    print(\"Не получилось отвергнуть нулевую гипотезу\")"
   ]
  },
  {
   "cell_type": "markdown",
   "metadata": {},
   "source": [
    "Вывод - **не получилось отвергнуть нулевую гипотезу**."
   ]
  },
  {
   "cell_type": "code",
   "execution_count": 50,
   "metadata": {},
   "outputs": [
    {
     "name": "stdout",
     "output_type": "stream",
     "text": [
      "p-значение: 0.1912450522572209\n",
      "Не получилось отвергнуть нулевую гипотезу\n"
     ]
    }
   ],
   "source": [
    "# Приведены два датасета: сумма покупок, совершённых за месяц посетителями ...\n",
    "\n",
    "sample_1 = [3071, 3636, 3454, 3151, 2185, 3259, 1727, 2263, 2015,\n",
    "2582, 4815, 633, 3186, 887, 2028, 3589, 2564, 1422, 1785,\n",
    "3180, 1770, 2716, 2546, 1848, 4644, 3134, 475, 2686,\n",
    "1838, 3352]\n",
    "sample_2 = [1211, 1228, 2157, 3699, 600, 1898, 1688, 1420, 5048, 3007,\n",
    "509, 3777, 5583, 3949, 121, 1674, 4300, 1338, 3066,\n",
    "3562, 1010, 2311, 462, 863, 2021, 528, 1849, 255,\n",
    "1740, 2596]\n",
    "alpha = .05 # критический уровень статистической значимости\n",
    "# если p-value окажется меньше него - отвергнем гипотезу\n",
    "results = st.ttest_ind(\n",
    "sample_1,\n",
    "sample_2)\n",
    "print('p-значение:', results.pvalue)\n",
    "if (results.pvalue < alpha):\n",
    "    print(\"Отвергаем нулевую гипотезу\")\n",
    "else:\n",
    "\n",
    "    print(\"Не получилось отвергнуть нулевую гипотезу\")"
   ]
  },
  {
   "cell_type": "markdown",
   "metadata": {},
   "source": [
    "### Средние пользовательские рейтинги жанров Action и Sports разные?"
   ]
  },
  {
   "cell_type": "markdown",
   "metadata": {},
   "source": [
    "**Н0 (нулевая гипотеза)** - средние пользовательские рейтинги жанров Action и Sports РАВНЫ.<br>\n",
    "**Н1 (альтернативная гипотеза)** - средние пользовательские рейтинги жанров Action и Sports разные."
   ]
  },
  {
   "cell_type": "code",
   "execution_count": 51,
   "metadata": {},
   "outputs": [
    {
     "name": "stdout",
     "output_type": "stream",
     "text": [
      "p-значение:  1.1825550382644557e-14\n",
      "Отвергаем нулевую гипотезу\n"
     ]
    }
   ],
   "source": [
    "# Проверим вторую гипотезу:\n",
    "action = data_actual.query('user_score >= 0')[data_actual['genre'] == 'action']['user_score']\n",
    "sports = data_actual.query('user_score >= 0')[data_actual['genre'] == 'sports']['user_score']\n",
    "\n",
    "alpha = 0.05\n",
    "\n",
    "results = st.ttest_ind(action, sports, equal_var=False) \n",
    "\n",
    "print('p-значение: ', results.pvalue)\n",
    "\n",
    "if results.pvalue < alpha:\n",
    "    print(\"Отвергаем нулевую гипотезу\")\n",
    "else:\n",
    "    print(\"Не получилось отвергнуть нулевую гипотезу\")"
   ]
  },
  {
   "cell_type": "markdown",
   "metadata": {},
   "source": [
    "Вывод - **отвергаем нулевую гипотезу.**"
   ]
  },
  {
   "cell_type": "markdown",
   "metadata": {},
   "source": [
    "## Общий вывод"
   ]
  },
  {
   "cell_type": "markdown",
   "metadata": {},
   "source": [
    "- ПОДГОТОВКА ДАННЫХ. Данные по играм были получены и подготовлены для анализа (замена названий столбцов и содержимого категориальных данных, преобразование в нужные типы, обработка пропусков, проверка на дубликаты).\n",
    "\n",
    "\n",
    "- АНАЛИЗ ДАННЫХ:\n",
    "    - Проанализировано количество игр, выпущенных в разные годы. Выяснили, что для анализа нам не важны данные за все периоды, а только начиная примерно с 1994, когда объем выпуска стал уже намного более существенным. Рост количества выпускаемых игр начиная с 1994 года, скорее всего, связан с технологическим прорывом в отрасли ЭВМ и создания персональных компьютеров.\n",
    "\n",
    "    - Проанализировано, как менялись продажи по платформам. Выбраны платформы с наибольшими суммарными продажами: PS2, X360, PS3, Wii, DS и PS. Также выяснили, что в среднем новые платформы появляются и исчезают примерно за 9-11 лет. \n",
    "\n",
    "    - Определен актуальный период для построения прогноза на 2017 год - будем считать актульные данные начиная с 2014 года: в этом периоде представлены данные по абсолютно всем самым популярным платформам. Выбераны несколько потенциально прибыльных платформ: PS4, Xone и 3DS.\n",
    "    \n",
    "    - Построен график «ящик с усами» по актуальной выборке в разбивке по платформам. Выбросы присутствуют у всех платформ (наибольшие у PS4, 3DS, XOne и WIIU). В целом, медиана колеблется в промежутке от 100 до 200 тыс проданных копий различных игр. Но все-таки по медианному количеству немного лидируют платформы XOne, X360, Wiiu, Wii и PS4. А вот вот медианный объём продаж карманных игровых консолей PSP, PSV и PC составляет менее 80 тыс копий.\n",
    "\n",
    "    - Оценено влияние на продажи отзывов пользователей и критиков внутри одной популярной платформы на примере PS2. Построена диаграмма рассеяния и посчитана корреляция между отзывами и продажами. Явной взаимосвязи между отзывами пользователей и количеством проданных копий игр для платформы PS4 в рамках данного проекта не наблюдаем, возможно, вследствие ограниченности имеющихся данных. А вот критики имеют некоторое влияние на продажи игр - в среднем при увеличении оценок критиков растут и продажи. Возможно, критики просто не так критичны к играм, как пользователи.\n",
    "\n",
    "    - Соотнесены выводы по PS2 с продажами игр на других платформах и выяснено, что по всем оставшимся платформам корреляция продаж как с отзывами пользователей, так и с отзывами критиков более слабая, чем у платформы PS2. Таким образом, зависимость продаж от отзывов практически отсутствует.\n",
    "\n",
    "    - Проанализировано общее распределение игр по жанрам - больше всего игр принадлежат жанру Action, за ними с большим отрывом идут ролевые игры, приключенческие игры, игры спортивного жанра и шутероы. Реже всего встречаются головоломки (puzzle), стратегии и платформеры. По объёму продаж - больше всего было продано шутеров. Затем с большим отрывом идет cпортивные симуляторы, платформеры, бои. Приключенческие игры, головоломки и стратегии продаются реже всего. По прибыльности: самые прибыльные жанры - шутеры, платформеры и головоломки, а вот самые не прибыльные жанры - экшн, приключения и ролевые игры.\n",
    "    \n",
    "    \n",
    "- ПОТРЕТЫ ПОЛЬЗОВАТЕЛЕЙ. Составлены портреты типичных пользоватлей из каждого региона:\n",
    "    - **Северная Америка**:\n",
    "        - платформа PS4 или XOne;\n",
    "        - играет в шутеры или игры жанра экшн;\n",
    "        - играет в игры возрастной категории \"Для всех\".    \n",
    "\n",
    "    - **Европа**:\n",
    "        - платформа PS4;\n",
    "        - играет в игры жанра экшн или шутеры;\n",
    "        - играет в игры возрастной категории \"Для всех\".\n",
    "    \n",
    "    - **Япония**:\n",
    "        - платформа 3DS;\n",
    "        - играет в ролевые игры или экшн;\n",
    "        - возрастная категория игры будет не определена.\n",
    "        \n",
    "        \n",
    "- ПРОВЕРКА ГИПОТЕЗ. Были проверены две гипотезы:\n",
    "    - гипотеза №1: средние пользовательские рейтинги платформ Xbox One и PC между собой РАВНЫ - не смогли отвергнуть гипотезу.\n",
    "    - гипотеза №2: средние пользовательские рейтинги жанров Action и Sports разные - гипотеза была отклонена."
   ]
  }
 ],
 "metadata": {
  "ExecuteTimeLog": [
   {
    "duration": 77,
    "start_time": "2022-08-16T16:07:09.531Z"
   },
   {
    "duration": 2,
    "start_time": "2022-08-16T16:07:16.599Z"
   },
   {
    "duration": 1259,
    "start_time": "2022-08-16T16:11:41.484Z"
   },
   {
    "duration": 208,
    "start_time": "2022-08-16T16:13:48.730Z"
   },
   {
    "duration": 70,
    "start_time": "2022-08-16T16:14:52.563Z"
   },
   {
    "duration": 56,
    "start_time": "2022-08-16T16:15:22.089Z"
   },
   {
    "duration": 124,
    "start_time": "2022-08-16T16:19:15.749Z"
   },
   {
    "duration": 2,
    "start_time": "2022-08-16T16:20:22.684Z"
   },
   {
    "duration": 13,
    "start_time": "2022-08-16T16:21:29.494Z"
   },
   {
    "duration": 76,
    "start_time": "2022-08-16T16:27:49.848Z"
   },
   {
    "duration": 4,
    "start_time": "2022-08-16T16:28:05.249Z"
   },
   {
    "duration": 16,
    "start_time": "2022-08-16T16:30:32.950Z"
   },
   {
    "duration": 13,
    "start_time": "2022-08-16T16:42:35.545Z"
   },
   {
    "duration": 4,
    "start_time": "2022-08-16T16:42:49.336Z"
   },
   {
    "duration": 4,
    "start_time": "2022-08-16T16:43:30.376Z"
   },
   {
    "duration": 4,
    "start_time": "2022-08-16T16:46:34.725Z"
   },
   {
    "duration": 3,
    "start_time": "2022-08-16T16:46:46.366Z"
   },
   {
    "duration": 4,
    "start_time": "2022-08-16T16:51:59.671Z"
   },
   {
    "duration": 5,
    "start_time": "2022-08-16T16:56:15.004Z"
   },
   {
    "duration": 145,
    "start_time": "2022-08-16T17:06:37.550Z"
   },
   {
    "duration": 2,
    "start_time": "2022-08-16T17:07:32.645Z"
   },
   {
    "duration": 3,
    "start_time": "2022-08-16T17:10:29.767Z"
   },
   {
    "duration": 6,
    "start_time": "2022-08-16T17:11:15.326Z"
   },
   {
    "duration": 90,
    "start_time": "2022-08-16T18:31:24.209Z"
   },
   {
    "duration": 87,
    "start_time": "2022-08-16T18:36:14.816Z"
   },
   {
    "duration": 7,
    "start_time": "2022-08-16T18:36:29.097Z"
   },
   {
    "duration": 5,
    "start_time": "2022-08-16T18:36:35.818Z"
   },
   {
    "duration": 3,
    "start_time": "2022-08-16T18:36:40.579Z"
   },
   {
    "duration": 5,
    "start_time": "2022-08-16T18:38:16.937Z"
   },
   {
    "duration": 4,
    "start_time": "2022-08-16T18:38:22.168Z"
   },
   {
    "duration": 51,
    "start_time": "2022-08-18T18:10:25.754Z"
   },
   {
    "duration": 1451,
    "start_time": "2022-08-18T18:10:37.192Z"
   },
   {
    "duration": 120,
    "start_time": "2022-08-18T18:10:38.645Z"
   },
   {
    "duration": 15,
    "start_time": "2022-08-18T18:10:38.766Z"
   },
   {
    "duration": 4,
    "start_time": "2022-08-18T18:10:38.783Z"
   },
   {
    "duration": 7,
    "start_time": "2022-08-18T18:10:38.789Z"
   },
   {
    "duration": 18,
    "start_time": "2022-08-18T18:10:38.798Z"
   },
   {
    "duration": 8,
    "start_time": "2022-08-18T18:10:38.819Z"
   },
   {
    "duration": 150,
    "start_time": "2022-08-18T18:10:38.829Z"
   },
   {
    "duration": 0,
    "start_time": "2022-08-18T18:10:38.981Z"
   },
   {
    "duration": 5,
    "start_time": "2022-08-18T18:11:34.191Z"
   },
   {
    "duration": 5,
    "start_time": "2022-08-18T18:14:10.840Z"
   },
   {
    "duration": 4,
    "start_time": "2022-08-18T18:14:23.647Z"
   },
   {
    "duration": 13,
    "start_time": "2022-08-18T18:15:21.398Z"
   },
   {
    "duration": 3,
    "start_time": "2022-08-18T18:21:05.729Z"
   },
   {
    "duration": 4,
    "start_time": "2022-08-18T18:22:25.178Z"
   },
   {
    "duration": 3,
    "start_time": "2022-08-18T18:22:35.541Z"
   },
   {
    "duration": 6,
    "start_time": "2022-08-18T18:22:47.340Z"
   },
   {
    "duration": 1138,
    "start_time": "2022-08-18T18:23:04.869Z"
   },
   {
    "duration": 72,
    "start_time": "2022-08-18T18:23:06.009Z"
   },
   {
    "duration": 15,
    "start_time": "2022-08-18T18:23:06.084Z"
   },
   {
    "duration": 5,
    "start_time": "2022-08-18T18:23:06.101Z"
   },
   {
    "duration": 23,
    "start_time": "2022-08-18T18:23:06.111Z"
   },
   {
    "duration": 111,
    "start_time": "2022-08-18T18:23:06.137Z"
   },
   {
    "duration": 0,
    "start_time": "2022-08-18T18:23:06.250Z"
   },
   {
    "duration": 0,
    "start_time": "2022-08-18T18:23:06.251Z"
   },
   {
    "duration": 0,
    "start_time": "2022-08-18T18:23:06.253Z"
   },
   {
    "duration": 5,
    "start_time": "2022-08-18T18:23:25.248Z"
   },
   {
    "duration": 6,
    "start_time": "2022-08-18T18:23:32.888Z"
   },
   {
    "duration": 6,
    "start_time": "2022-08-18T18:26:55.745Z"
   },
   {
    "duration": 9,
    "start_time": "2022-08-18T18:27:17.077Z"
   },
   {
    "duration": 9,
    "start_time": "2022-08-18T18:28:37.358Z"
   },
   {
    "duration": 9,
    "start_time": "2022-08-18T18:29:06.849Z"
   },
   {
    "duration": 44,
    "start_time": "2022-08-18T18:41:51.529Z"
   },
   {
    "duration": 5,
    "start_time": "2022-08-18T18:56:00.787Z"
   },
   {
    "duration": 46,
    "start_time": "2022-08-18T22:27:41.260Z"
   },
   {
    "duration": 1314,
    "start_time": "2022-08-18T22:27:50.067Z"
   },
   {
    "duration": 117,
    "start_time": "2022-08-18T22:27:51.383Z"
   },
   {
    "duration": 15,
    "start_time": "2022-08-18T22:27:51.501Z"
   },
   {
    "duration": 7,
    "start_time": "2022-08-18T22:27:51.517Z"
   },
   {
    "duration": 6,
    "start_time": "2022-08-18T22:27:51.525Z"
   },
   {
    "duration": 8,
    "start_time": "2022-08-18T22:27:51.532Z"
   },
   {
    "duration": 6,
    "start_time": "2022-08-18T22:27:51.542Z"
   },
   {
    "duration": 7,
    "start_time": "2022-08-18T22:27:51.550Z"
   },
   {
    "duration": 5,
    "start_time": "2022-08-18T22:27:51.558Z"
   },
   {
    "duration": 27,
    "start_time": "2022-08-18T22:27:51.564Z"
   },
   {
    "duration": 10,
    "start_time": "2022-08-18T22:27:51.593Z"
   },
   {
    "duration": 12,
    "start_time": "2022-08-18T22:29:42.407Z"
   },
   {
    "duration": 4,
    "start_time": "2022-08-18T22:32:28.657Z"
   },
   {
    "duration": 7,
    "start_time": "2022-08-18T22:33:32.656Z"
   },
   {
    "duration": 10,
    "start_time": "2022-08-18T22:33:50.547Z"
   },
   {
    "duration": 10,
    "start_time": "2022-08-18T22:34:19.278Z"
   },
   {
    "duration": 4,
    "start_time": "2022-08-18T22:37:34.635Z"
   },
   {
    "duration": 14,
    "start_time": "2022-08-18T22:37:44.235Z"
   },
   {
    "duration": 20,
    "start_time": "2022-08-18T22:39:00.646Z"
   },
   {
    "duration": 16,
    "start_time": "2022-08-18T22:39:27.002Z"
   },
   {
    "duration": 98,
    "start_time": "2022-08-18T22:40:00.746Z"
   },
   {
    "duration": 10,
    "start_time": "2022-08-18T22:42:26.246Z"
   },
   {
    "duration": 16,
    "start_time": "2022-08-18T22:42:32.314Z"
   },
   {
    "duration": 15,
    "start_time": "2022-08-18T22:43:31.075Z"
   },
   {
    "duration": 48,
    "start_time": "2022-08-19T18:01:01.852Z"
   },
   {
    "duration": 7,
    "start_time": "2022-08-19T18:02:14.112Z"
   },
   {
    "duration": 1438,
    "start_time": "2022-08-19T18:02:31.164Z"
   },
   {
    "duration": 110,
    "start_time": "2022-08-19T18:02:32.604Z"
   },
   {
    "duration": 15,
    "start_time": "2022-08-19T18:02:32.716Z"
   },
   {
    "duration": 4,
    "start_time": "2022-08-19T18:02:32.733Z"
   },
   {
    "duration": 10,
    "start_time": "2022-08-19T18:02:32.739Z"
   },
   {
    "duration": 15,
    "start_time": "2022-08-19T18:02:32.751Z"
   },
   {
    "duration": 18,
    "start_time": "2022-08-19T18:02:32.768Z"
   },
   {
    "duration": 17,
    "start_time": "2022-08-19T18:02:32.788Z"
   },
   {
    "duration": 15,
    "start_time": "2022-08-19T18:02:32.807Z"
   },
   {
    "duration": 9,
    "start_time": "2022-08-19T18:02:32.824Z"
   },
   {
    "duration": 12,
    "start_time": "2022-08-19T18:02:32.834Z"
   },
   {
    "duration": 11,
    "start_time": "2022-08-19T18:02:32.848Z"
   },
   {
    "duration": 6,
    "start_time": "2022-08-19T18:02:32.861Z"
   },
   {
    "duration": 15,
    "start_time": "2022-08-19T18:02:32.870Z"
   },
   {
    "duration": 9,
    "start_time": "2022-08-19T18:02:32.887Z"
   },
   {
    "duration": 33,
    "start_time": "2022-08-19T18:02:32.898Z"
   },
   {
    "duration": 25,
    "start_time": "2022-08-19T18:02:32.933Z"
   },
   {
    "duration": 25,
    "start_time": "2022-08-19T18:02:32.960Z"
   },
   {
    "duration": 379,
    "start_time": "2022-08-19T18:02:32.986Z"
   },
   {
    "duration": 110,
    "start_time": "2022-08-19T18:02:33.366Z"
   },
   {
    "duration": 410,
    "start_time": "2022-08-19T18:02:44.742Z"
   },
   {
    "duration": 667,
    "start_time": "2022-08-19T18:04:43.397Z"
   },
   {
    "duration": 727,
    "start_time": "2022-08-19T18:04:54.806Z"
   },
   {
    "duration": 46,
    "start_time": "2022-08-21T15:53:57.063Z"
   },
   {
    "duration": 6,
    "start_time": "2022-08-21T15:54:02.622Z"
   },
   {
    "duration": 1250,
    "start_time": "2022-08-21T15:54:11.341Z"
   },
   {
    "duration": 129,
    "start_time": "2022-08-21T15:54:12.593Z"
   },
   {
    "duration": 14,
    "start_time": "2022-08-21T15:54:12.723Z"
   },
   {
    "duration": 3,
    "start_time": "2022-08-21T15:54:12.739Z"
   },
   {
    "duration": 5,
    "start_time": "2022-08-21T15:54:12.744Z"
   },
   {
    "duration": 6,
    "start_time": "2022-08-21T15:54:12.751Z"
   },
   {
    "duration": 8,
    "start_time": "2022-08-21T15:54:12.758Z"
   },
   {
    "duration": 20,
    "start_time": "2022-08-21T15:54:12.767Z"
   },
   {
    "duration": 5,
    "start_time": "2022-08-21T15:54:12.788Z"
   },
   {
    "duration": 10,
    "start_time": "2022-08-21T15:54:12.795Z"
   },
   {
    "duration": 17,
    "start_time": "2022-08-21T15:54:12.806Z"
   },
   {
    "duration": 7,
    "start_time": "2022-08-21T15:54:12.824Z"
   },
   {
    "duration": 4,
    "start_time": "2022-08-21T15:54:12.833Z"
   },
   {
    "duration": 25,
    "start_time": "2022-08-21T15:54:12.839Z"
   },
   {
    "duration": 22,
    "start_time": "2022-08-21T15:54:12.866Z"
   },
   {
    "duration": 16,
    "start_time": "2022-08-21T15:54:12.889Z"
   },
   {
    "duration": 16,
    "start_time": "2022-08-21T15:54:12.907Z"
   },
   {
    "duration": 16,
    "start_time": "2022-08-21T15:54:12.925Z"
   },
   {
    "duration": 368,
    "start_time": "2022-08-21T15:54:12.942Z"
   },
   {
    "duration": 102,
    "start_time": "2022-08-21T15:54:13.312Z"
   },
   {
    "duration": 0,
    "start_time": "2022-08-21T15:54:13.416Z"
   },
   {
    "duration": 277,
    "start_time": "2022-08-21T15:55:29.085Z"
   },
   {
    "duration": 279,
    "start_time": "2022-08-21T15:55:39.846Z"
   },
   {
    "duration": 283,
    "start_time": "2022-08-21T15:56:05.485Z"
   },
   {
    "duration": 342,
    "start_time": "2022-08-21T15:56:12.486Z"
   },
   {
    "duration": 265,
    "start_time": "2022-08-21T15:56:30.934Z"
   },
   {
    "duration": 262,
    "start_time": "2022-08-21T15:56:35.286Z"
   },
   {
    "duration": 358,
    "start_time": "2022-08-21T16:00:51.967Z"
   },
   {
    "duration": 1068,
    "start_time": "2022-08-21T16:01:02.415Z"
   },
   {
    "duration": 70,
    "start_time": "2022-08-21T16:01:03.485Z"
   },
   {
    "duration": 14,
    "start_time": "2022-08-21T16:01:03.557Z"
   },
   {
    "duration": 4,
    "start_time": "2022-08-21T16:01:03.572Z"
   },
   {
    "duration": 7,
    "start_time": "2022-08-21T16:01:03.578Z"
   },
   {
    "duration": 6,
    "start_time": "2022-08-21T16:01:03.586Z"
   },
   {
    "duration": 6,
    "start_time": "2022-08-21T16:01:03.594Z"
   },
   {
    "duration": 9,
    "start_time": "2022-08-21T16:01:03.602Z"
   },
   {
    "duration": 7,
    "start_time": "2022-08-21T16:01:03.613Z"
   },
   {
    "duration": 7,
    "start_time": "2022-08-21T16:01:03.621Z"
   },
   {
    "duration": 12,
    "start_time": "2022-08-21T16:01:03.630Z"
   },
   {
    "duration": 8,
    "start_time": "2022-08-21T16:01:03.935Z"
   },
   {
    "duration": 7,
    "start_time": "2022-08-21T16:01:03.945Z"
   },
   {
    "duration": 17,
    "start_time": "2022-08-21T16:01:03.953Z"
   },
   {
    "duration": 10,
    "start_time": "2022-08-21T16:01:03.971Z"
   },
   {
    "duration": 18,
    "start_time": "2022-08-21T16:01:03.984Z"
   },
   {
    "duration": 19,
    "start_time": "2022-08-21T16:01:04.003Z"
   },
   {
    "duration": 21,
    "start_time": "2022-08-21T16:01:04.024Z"
   },
   {
    "duration": 362,
    "start_time": "2022-08-21T16:01:04.047Z"
   },
   {
    "duration": 163,
    "start_time": "2022-08-21T16:01:04.411Z"
   },
   {
    "duration": 0,
    "start_time": "2022-08-21T16:01:04.576Z"
   },
   {
    "duration": 293,
    "start_time": "2022-08-21T16:01:31.409Z"
   },
   {
    "duration": 312,
    "start_time": "2022-08-21T16:05:16.465Z"
   },
   {
    "duration": 284,
    "start_time": "2022-08-21T16:06:17.808Z"
   },
   {
    "duration": 60,
    "start_time": "2022-08-21T16:06:31.207Z"
   },
   {
    "duration": 107,
    "start_time": "2022-08-21T16:08:00.165Z"
   },
   {
    "duration": 420,
    "start_time": "2022-08-21T16:08:07.963Z"
   },
   {
    "duration": 315,
    "start_time": "2022-08-21T16:08:24.926Z"
   },
   {
    "duration": 372,
    "start_time": "2022-08-21T16:09:23.487Z"
   },
   {
    "duration": 178,
    "start_time": "2022-08-21T16:10:08.206Z"
   },
   {
    "duration": 68,
    "start_time": "2022-08-21T16:10:18.728Z"
   },
   {
    "duration": 290,
    "start_time": "2022-08-21T16:10:30.670Z"
   },
   {
    "duration": 290,
    "start_time": "2022-08-21T16:10:45.485Z"
   },
   {
    "duration": 374,
    "start_time": "2022-08-21T16:11:02.934Z"
   },
   {
    "duration": 348,
    "start_time": "2022-08-21T16:11:10.006Z"
   },
   {
    "duration": 341,
    "start_time": "2022-08-21T16:11:17.805Z"
   },
   {
    "duration": 321,
    "start_time": "2022-08-21T16:12:26.525Z"
   },
   {
    "duration": 338,
    "start_time": "2022-08-21T16:12:35.751Z"
   },
   {
    "duration": 330,
    "start_time": "2022-08-21T16:12:39.765Z"
   },
   {
    "duration": 427,
    "start_time": "2022-08-21T16:13:12.925Z"
   },
   {
    "duration": 356,
    "start_time": "2022-08-21T16:13:50.173Z"
   },
   {
    "duration": 305,
    "start_time": "2022-08-21T16:14:18.045Z"
   },
   {
    "duration": 304,
    "start_time": "2022-08-21T16:14:49.285Z"
   },
   {
    "duration": 288,
    "start_time": "2022-08-21T16:15:00.205Z"
   },
   {
    "duration": 394,
    "start_time": "2022-08-21T16:16:10.209Z"
   },
   {
    "duration": 2,
    "start_time": "2022-08-21T16:50:37.373Z"
   },
   {
    "duration": 301,
    "start_time": "2022-08-21T16:50:55.285Z"
   },
   {
    "duration": 295,
    "start_time": "2022-08-21T16:51:02.564Z"
   },
   {
    "duration": 48,
    "start_time": "2022-08-21T20:36:50.493Z"
   },
   {
    "duration": 6,
    "start_time": "2022-08-21T20:38:14.590Z"
   },
   {
    "duration": 1279,
    "start_time": "2022-08-21T20:38:23.585Z"
   },
   {
    "duration": 110,
    "start_time": "2022-08-21T20:38:24.865Z"
   },
   {
    "duration": 12,
    "start_time": "2022-08-21T20:38:24.977Z"
   },
   {
    "duration": 4,
    "start_time": "2022-08-21T20:38:27.619Z"
   },
   {
    "duration": 9,
    "start_time": "2022-08-21T20:38:27.625Z"
   },
   {
    "duration": 5,
    "start_time": "2022-08-21T20:38:27.778Z"
   },
   {
    "duration": 7,
    "start_time": "2022-08-21T20:38:27.785Z"
   },
   {
    "duration": 7,
    "start_time": "2022-08-21T20:38:27.794Z"
   },
   {
    "duration": 6,
    "start_time": "2022-08-21T20:38:27.802Z"
   },
   {
    "duration": 7,
    "start_time": "2022-08-21T20:38:27.809Z"
   },
   {
    "duration": 11,
    "start_time": "2022-08-21T20:38:27.818Z"
   },
   {
    "duration": 7,
    "start_time": "2022-08-21T20:38:27.859Z"
   },
   {
    "duration": 7,
    "start_time": "2022-08-21T20:38:27.867Z"
   },
   {
    "duration": 17,
    "start_time": "2022-08-21T20:38:27.875Z"
   },
   {
    "duration": 9,
    "start_time": "2022-08-21T20:38:27.893Z"
   },
   {
    "duration": 14,
    "start_time": "2022-08-21T20:38:27.905Z"
   },
   {
    "duration": 13,
    "start_time": "2022-08-21T20:38:27.921Z"
   },
   {
    "duration": 14,
    "start_time": "2022-08-21T20:38:27.935Z"
   },
   {
    "duration": 328,
    "start_time": "2022-08-21T20:38:27.951Z"
   },
   {
    "duration": 314,
    "start_time": "2022-08-21T20:38:28.281Z"
   },
   {
    "duration": 99,
    "start_time": "2022-08-21T20:38:28.597Z"
   },
   {
    "duration": 17,
    "start_time": "2022-08-21T20:39:03.945Z"
   },
   {
    "duration": 8,
    "start_time": "2022-08-21T20:39:11.977Z"
   },
   {
    "duration": 8,
    "start_time": "2022-08-21T20:39:25.417Z"
   },
   {
    "duration": 15,
    "start_time": "2022-08-21T20:39:42.537Z"
   },
   {
    "duration": 6,
    "start_time": "2022-08-21T20:42:49.271Z"
   },
   {
    "duration": 6,
    "start_time": "2022-08-21T20:43:01.080Z"
   },
   {
    "duration": 14,
    "start_time": "2022-08-21T20:43:16.708Z"
   },
   {
    "duration": 12,
    "start_time": "2022-08-21T20:43:44.390Z"
   },
   {
    "duration": 2,
    "start_time": "2022-08-21T20:45:44.428Z"
   },
   {
    "duration": 16,
    "start_time": "2022-08-21T20:46:40.947Z"
   },
   {
    "duration": 214,
    "start_time": "2022-08-21T20:47:12.466Z"
   },
   {
    "duration": 230,
    "start_time": "2022-08-21T20:47:24.907Z"
   },
   {
    "duration": 387,
    "start_time": "2022-08-21T20:47:57.035Z"
   },
   {
    "duration": 12,
    "start_time": "2022-08-21T20:51:34.334Z"
   },
   {
    "duration": 11,
    "start_time": "2022-08-21T20:51:58.884Z"
   },
   {
    "duration": 2,
    "start_time": "2022-08-21T20:52:17.737Z"
   },
   {
    "duration": 4,
    "start_time": "2022-08-21T20:52:24.987Z"
   },
   {
    "duration": 4,
    "start_time": "2022-08-21T20:52:43.109Z"
   },
   {
    "duration": 369,
    "start_time": "2022-08-21T20:52:54.390Z"
   },
   {
    "duration": 503,
    "start_time": "2022-08-21T20:54:41.900Z"
   },
   {
    "duration": 535,
    "start_time": "2022-08-21T20:55:16.262Z"
   },
   {
    "duration": 245,
    "start_time": "2022-08-21T20:56:12.981Z"
   },
   {
    "duration": 4,
    "start_time": "2022-08-21T21:06:01.798Z"
   },
   {
    "duration": 247,
    "start_time": "2022-08-21T21:06:31.067Z"
   },
   {
    "duration": 253,
    "start_time": "2022-08-21T21:10:27.005Z"
   },
   {
    "duration": 259,
    "start_time": "2022-08-21T21:19:16.634Z"
   },
   {
    "duration": 243,
    "start_time": "2022-08-21T21:19:43.036Z"
   },
   {
    "duration": 241,
    "start_time": "2022-08-21T21:19:59.034Z"
   },
   {
    "duration": 237,
    "start_time": "2022-08-21T21:20:25.032Z"
   },
   {
    "duration": 272,
    "start_time": "2022-08-21T21:21:15.234Z"
   },
   {
    "duration": 236,
    "start_time": "2022-08-21T21:21:37.274Z"
   },
   {
    "duration": 244,
    "start_time": "2022-08-21T21:21:45.034Z"
   },
   {
    "duration": 428,
    "start_time": "2022-08-21T21:23:16.954Z"
   },
   {
    "duration": 302,
    "start_time": "2022-08-21T21:28:56.027Z"
   },
   {
    "duration": 438,
    "start_time": "2022-08-21T21:30:19.260Z"
   },
   {
    "duration": 342,
    "start_time": "2022-08-21T21:31:45.872Z"
   },
   {
    "duration": 330,
    "start_time": "2022-08-21T21:31:59.171Z"
   },
   {
    "duration": 392,
    "start_time": "2022-08-21T21:33:33.513Z"
   },
   {
    "duration": 330,
    "start_time": "2022-08-21T21:33:51.713Z"
   },
   {
    "duration": 3,
    "start_time": "2022-08-21T21:34:30.714Z"
   },
   {
    "duration": 294,
    "start_time": "2022-08-21T21:37:04.112Z"
   },
   {
    "duration": 260,
    "start_time": "2022-08-21T21:37:53.723Z"
   },
   {
    "duration": 262,
    "start_time": "2022-08-21T21:38:30.195Z"
   },
   {
    "duration": 269,
    "start_time": "2022-08-21T21:49:49.625Z"
   },
   {
    "duration": 4,
    "start_time": "2022-08-21T21:50:30.895Z"
   },
   {
    "duration": 41,
    "start_time": "2022-08-24T21:38:17.336Z"
   },
   {
    "duration": 1125,
    "start_time": "2022-08-24T21:38:25.142Z"
   },
   {
    "duration": 108,
    "start_time": "2022-08-24T21:38:26.269Z"
   },
   {
    "duration": 16,
    "start_time": "2022-08-24T21:38:26.379Z"
   },
   {
    "duration": 4,
    "start_time": "2022-08-24T21:38:26.397Z"
   },
   {
    "duration": 7,
    "start_time": "2022-08-24T21:38:26.403Z"
   },
   {
    "duration": 6,
    "start_time": "2022-08-24T21:38:26.411Z"
   },
   {
    "duration": 7,
    "start_time": "2022-08-24T21:38:26.418Z"
   },
   {
    "duration": 7,
    "start_time": "2022-08-24T21:38:26.426Z"
   },
   {
    "duration": 4,
    "start_time": "2022-08-24T21:38:26.435Z"
   },
   {
    "duration": 43,
    "start_time": "2022-08-24T21:38:26.442Z"
   },
   {
    "duration": 8,
    "start_time": "2022-08-24T21:38:26.487Z"
   },
   {
    "duration": 8,
    "start_time": "2022-08-24T21:38:26.497Z"
   },
   {
    "duration": 5,
    "start_time": "2022-08-24T21:38:26.507Z"
   },
   {
    "duration": 7,
    "start_time": "2022-08-24T21:38:26.513Z"
   },
   {
    "duration": 13,
    "start_time": "2022-08-24T21:38:26.521Z"
   },
   {
    "duration": 8,
    "start_time": "2022-08-24T21:38:26.535Z"
   },
   {
    "duration": 41,
    "start_time": "2022-08-24T21:38:26.544Z"
   },
   {
    "duration": 15,
    "start_time": "2022-08-24T21:38:26.586Z"
   },
   {
    "duration": 12,
    "start_time": "2022-08-24T21:38:26.603Z"
   },
   {
    "duration": 325,
    "start_time": "2022-08-24T21:38:26.616Z"
   },
   {
    "duration": 12,
    "start_time": "2022-08-24T21:38:26.943Z"
   },
   {
    "duration": 290,
    "start_time": "2022-08-24T21:38:26.957Z"
   },
   {
    "duration": 3,
    "start_time": "2022-08-24T21:38:27.249Z"
   },
   {
    "duration": 346,
    "start_time": "2022-08-24T21:38:27.253Z"
   },
   {
    "duration": 318,
    "start_time": "2022-08-24T21:38:27.601Z"
   },
   {
    "duration": 18,
    "start_time": "2022-08-24T21:38:27.921Z"
   },
   {
    "duration": 236,
    "start_time": "2022-08-24T21:38:27.941Z"
   },
   {
    "duration": 182,
    "start_time": "2022-08-24T21:38:28.180Z"
   },
   {
    "duration": 151,
    "start_time": "2022-08-24T21:38:28.364Z"
   },
   {
    "duration": 149,
    "start_time": "2022-08-24T21:38:28.517Z"
   },
   {
    "duration": 18,
    "start_time": "2022-08-24T21:38:28.667Z"
   },
   {
    "duration": 144,
    "start_time": "2022-08-24T21:38:28.687Z"
   },
   {
    "duration": 141,
    "start_time": "2022-08-24T21:40:53.616Z"
   },
   {
    "duration": 150,
    "start_time": "2022-08-24T21:41:03.015Z"
   },
   {
    "duration": 127,
    "start_time": "2022-08-24T21:45:59.021Z"
   },
   {
    "duration": 139,
    "start_time": "2022-08-24T21:46:33.841Z"
   },
   {
    "duration": 13,
    "start_time": "2022-08-24T21:47:05.640Z"
   },
   {
    "duration": 145,
    "start_time": "2022-08-24T21:50:20.690Z"
   },
   {
    "duration": 160,
    "start_time": "2022-08-24T21:50:34.554Z"
   },
   {
    "duration": 212,
    "start_time": "2022-08-24T21:53:07.289Z"
   },
   {
    "duration": 132,
    "start_time": "2022-08-24T21:53:10.731Z"
   },
   {
    "duration": 13,
    "start_time": "2022-08-24T21:53:37.852Z"
   },
   {
    "duration": 149,
    "start_time": "2022-08-24T22:13:41.050Z"
   },
   {
    "duration": 108,
    "start_time": "2022-08-24T22:13:57.396Z"
   },
   {
    "duration": 146,
    "start_time": "2022-08-24T22:14:03.591Z"
   },
   {
    "duration": 169,
    "start_time": "2022-08-24T22:14:32.630Z"
   },
   {
    "duration": 167,
    "start_time": "2022-08-24T22:15:46.593Z"
   },
   {
    "duration": 174,
    "start_time": "2022-08-24T22:16:25.632Z"
   },
   {
    "duration": 182,
    "start_time": "2022-08-24T22:16:46.049Z"
   },
   {
    "duration": 179,
    "start_time": "2022-08-24T22:17:15.451Z"
   },
   {
    "duration": 264,
    "start_time": "2022-08-24T22:20:29.614Z"
   },
   {
    "duration": 373,
    "start_time": "2022-08-24T22:20:48.774Z"
   },
   {
    "duration": 280,
    "start_time": "2022-08-24T22:21:57.062Z"
   },
   {
    "duration": 302,
    "start_time": "2022-08-24T22:22:00.895Z"
   },
   {
    "duration": 291,
    "start_time": "2022-08-24T22:22:17.622Z"
   },
   {
    "duration": 127,
    "start_time": "2022-08-24T22:23:34.174Z"
   },
   {
    "duration": 134,
    "start_time": "2022-08-24T22:24:29.175Z"
   },
   {
    "duration": 160,
    "start_time": "2022-08-24T22:25:05.654Z"
   },
   {
    "duration": 260,
    "start_time": "2022-08-24T22:25:31.990Z"
   },
   {
    "duration": 169,
    "start_time": "2022-08-24T22:26:31.668Z"
   },
   {
    "duration": 160,
    "start_time": "2022-08-24T22:31:32.958Z"
   },
   {
    "duration": 175,
    "start_time": "2022-08-24T22:32:41.932Z"
   },
   {
    "duration": 168,
    "start_time": "2022-08-24T22:33:38.732Z"
   },
   {
    "duration": 164,
    "start_time": "2022-08-24T22:34:15.411Z"
   },
   {
    "duration": 181,
    "start_time": "2022-08-24T22:34:40.692Z"
   },
   {
    "duration": 105,
    "start_time": "2022-08-25T10:45:20.561Z"
   },
   {
    "duration": 104,
    "start_time": "2022-08-25T11:51:39.900Z"
   },
   {
    "duration": 61,
    "start_time": "2022-08-25T11:51:48.227Z"
   },
   {
    "duration": 9,
    "start_time": "2022-08-25T11:51:59.854Z"
   },
   {
    "duration": 1520,
    "start_time": "2022-08-25T11:52:07.843Z"
   },
   {
    "duration": 254,
    "start_time": "2022-08-25T11:52:09.366Z"
   },
   {
    "duration": 15,
    "start_time": "2022-08-25T11:52:09.622Z"
   },
   {
    "duration": 4,
    "start_time": "2022-08-25T11:52:09.639Z"
   },
   {
    "duration": 11,
    "start_time": "2022-08-25T11:52:09.645Z"
   },
   {
    "duration": 7,
    "start_time": "2022-08-25T11:52:09.657Z"
   },
   {
    "duration": 34,
    "start_time": "2022-08-25T11:52:09.666Z"
   },
   {
    "duration": 9,
    "start_time": "2022-08-25T11:52:09.703Z"
   },
   {
    "duration": 7,
    "start_time": "2022-08-25T11:52:09.714Z"
   },
   {
    "duration": 8,
    "start_time": "2022-08-25T11:52:09.723Z"
   },
   {
    "duration": 13,
    "start_time": "2022-08-25T11:52:09.733Z"
   },
   {
    "duration": 8,
    "start_time": "2022-08-25T11:52:09.748Z"
   },
   {
    "duration": 23,
    "start_time": "2022-08-25T11:52:09.758Z"
   },
   {
    "duration": 22,
    "start_time": "2022-08-25T11:52:09.782Z"
   },
   {
    "duration": 16,
    "start_time": "2022-08-25T11:52:09.806Z"
   },
   {
    "duration": 11,
    "start_time": "2022-08-25T11:52:09.824Z"
   },
   {
    "duration": 22,
    "start_time": "2022-08-25T11:52:09.838Z"
   },
   {
    "duration": 33,
    "start_time": "2022-08-25T11:52:09.869Z"
   },
   {
    "duration": 18,
    "start_time": "2022-08-25T11:52:09.904Z"
   },
   {
    "duration": 497,
    "start_time": "2022-08-25T11:52:09.924Z"
   },
   {
    "duration": 16,
    "start_time": "2022-08-25T11:52:10.423Z"
   },
   {
    "duration": 392,
    "start_time": "2022-08-25T11:52:10.441Z"
   },
   {
    "duration": 5,
    "start_time": "2022-08-25T11:52:10.835Z"
   },
   {
    "duration": 479,
    "start_time": "2022-08-25T11:52:10.842Z"
   },
   {
    "duration": 435,
    "start_time": "2022-08-25T11:52:11.323Z"
   },
   {
    "duration": 40,
    "start_time": "2022-08-25T11:52:11.760Z"
   },
   {
    "duration": 286,
    "start_time": "2022-08-25T11:52:11.803Z"
   },
   {
    "duration": 236,
    "start_time": "2022-08-25T11:52:12.094Z"
   },
   {
    "duration": 196,
    "start_time": "2022-08-25T11:52:12.332Z"
   },
   {
    "duration": 192,
    "start_time": "2022-08-25T11:52:12.530Z"
   },
   {
    "duration": 12,
    "start_time": "2022-08-25T11:52:12.724Z"
   },
   {
    "duration": 200,
    "start_time": "2022-08-25T11:52:12.738Z"
   },
   {
    "duration": 187,
    "start_time": "2022-08-25T11:52:12.940Z"
   },
   {
    "duration": 16,
    "start_time": "2022-08-25T11:52:13.130Z"
   },
   {
    "duration": 276,
    "start_time": "2022-08-25T11:52:13.148Z"
   },
   {
    "duration": 234,
    "start_time": "2022-08-25T11:52:13.427Z"
   },
   {
    "duration": 256,
    "start_time": "2022-08-25T11:52:13.663Z"
   },
   {
    "duration": 778,
    "start_time": "2022-08-25T11:52:13.921Z"
   },
   {
    "duration": 120,
    "start_time": "2022-08-25T11:53:07.821Z"
   },
   {
    "duration": 609,
    "start_time": "2022-08-25T11:53:35.065Z"
   },
   {
    "duration": 695,
    "start_time": "2022-08-25T11:53:56.300Z"
   },
   {
    "duration": 633,
    "start_time": "2022-08-25T11:54:59.386Z"
   },
   {
    "duration": 701,
    "start_time": "2022-08-25T11:55:51.697Z"
   },
   {
    "duration": 622,
    "start_time": "2022-08-25T11:56:25.101Z"
   },
   {
    "duration": 725,
    "start_time": "2022-08-25T11:56:36.334Z"
   },
   {
    "duration": 611,
    "start_time": "2022-08-25T11:56:43.309Z"
   },
   {
    "duration": 1346,
    "start_time": "2022-08-25T11:58:15.702Z"
   },
   {
    "duration": 97,
    "start_time": "2022-08-25T11:58:17.052Z"
   },
   {
    "duration": 24,
    "start_time": "2022-08-25T11:58:17.151Z"
   },
   {
    "duration": 36,
    "start_time": "2022-08-25T11:58:17.177Z"
   },
   {
    "duration": 7,
    "start_time": "2022-08-25T11:58:17.215Z"
   },
   {
    "duration": 12,
    "start_time": "2022-08-25T11:58:17.224Z"
   },
   {
    "duration": 11,
    "start_time": "2022-08-25T11:58:17.238Z"
   },
   {
    "duration": 22,
    "start_time": "2022-08-25T11:58:17.251Z"
   },
   {
    "duration": 36,
    "start_time": "2022-08-25T11:58:17.275Z"
   },
   {
    "duration": 10,
    "start_time": "2022-08-25T11:58:17.314Z"
   },
   {
    "duration": 12,
    "start_time": "2022-08-25T11:58:17.326Z"
   },
   {
    "duration": 11,
    "start_time": "2022-08-25T11:58:17.340Z"
   },
   {
    "duration": 7,
    "start_time": "2022-08-25T11:58:17.353Z"
   },
   {
    "duration": 39,
    "start_time": "2022-08-25T11:58:17.361Z"
   },
   {
    "duration": 13,
    "start_time": "2022-08-25T11:58:17.402Z"
   },
   {
    "duration": 9,
    "start_time": "2022-08-25T11:58:17.417Z"
   },
   {
    "duration": 15,
    "start_time": "2022-08-25T11:58:17.429Z"
   },
   {
    "duration": 15,
    "start_time": "2022-08-25T11:58:17.446Z"
   },
   {
    "duration": 37,
    "start_time": "2022-08-25T11:58:17.463Z"
   },
   {
    "duration": 366,
    "start_time": "2022-08-25T11:58:17.503Z"
   },
   {
    "duration": 25,
    "start_time": "2022-08-25T11:58:17.871Z"
   },
   {
    "duration": 328,
    "start_time": "2022-08-25T11:58:17.901Z"
   },
   {
    "duration": 5,
    "start_time": "2022-08-25T11:58:18.231Z"
   },
   {
    "duration": 457,
    "start_time": "2022-08-25T11:58:18.238Z"
   },
   {
    "duration": 402,
    "start_time": "2022-08-25T11:58:18.699Z"
   },
   {
    "duration": 23,
    "start_time": "2022-08-25T11:58:19.103Z"
   },
   {
    "duration": 303,
    "start_time": "2022-08-25T11:58:19.128Z"
   },
   {
    "duration": 255,
    "start_time": "2022-08-25T11:58:19.436Z"
   },
   {
    "duration": 193,
    "start_time": "2022-08-25T11:58:19.698Z"
   },
   {
    "duration": 199,
    "start_time": "2022-08-25T11:58:19.902Z"
   },
   {
    "duration": 23,
    "start_time": "2022-08-25T11:58:20.104Z"
   },
   {
    "duration": 277,
    "start_time": "2022-08-25T11:58:20.130Z"
   },
   {
    "duration": 196,
    "start_time": "2022-08-25T11:58:20.412Z"
   },
   {
    "duration": 20,
    "start_time": "2022-08-25T11:58:20.611Z"
   },
   {
    "duration": 281,
    "start_time": "2022-08-25T11:58:20.634Z"
   },
   {
    "duration": 249,
    "start_time": "2022-08-25T11:58:20.918Z"
   },
   {
    "duration": 238,
    "start_time": "2022-08-25T11:58:21.185Z"
   },
   {
    "duration": 139,
    "start_time": "2022-08-25T11:58:21.425Z"
   },
   {
    "duration": 16,
    "start_time": "2022-08-25T11:59:15.006Z"
   },
   {
    "duration": 16,
    "start_time": "2022-08-25T12:00:26.840Z"
   },
   {
    "duration": 796,
    "start_time": "2022-08-25T12:00:35.394Z"
   },
   {
    "duration": 578,
    "start_time": "2022-08-25T12:02:25.550Z"
   },
   {
    "duration": 559,
    "start_time": "2022-08-25T12:03:29.793Z"
   },
   {
    "duration": 45,
    "start_time": "2022-08-25T21:01:49.627Z"
   },
   {
    "duration": 1306,
    "start_time": "2022-08-25T21:02:19.670Z"
   },
   {
    "duration": 110,
    "start_time": "2022-08-25T21:02:20.978Z"
   },
   {
    "duration": 14,
    "start_time": "2022-08-25T21:02:21.090Z"
   },
   {
    "duration": 4,
    "start_time": "2022-08-25T21:02:21.106Z"
   },
   {
    "duration": 8,
    "start_time": "2022-08-25T21:02:21.111Z"
   },
   {
    "duration": 6,
    "start_time": "2022-08-25T21:02:21.121Z"
   },
   {
    "duration": 6,
    "start_time": "2022-08-25T21:02:21.129Z"
   },
   {
    "duration": 8,
    "start_time": "2022-08-25T21:02:21.136Z"
   },
   {
    "duration": 6,
    "start_time": "2022-08-25T21:02:21.184Z"
   },
   {
    "duration": 9,
    "start_time": "2022-08-25T21:02:21.194Z"
   },
   {
    "duration": 20,
    "start_time": "2022-08-25T21:02:21.205Z"
   },
   {
    "duration": 9,
    "start_time": "2022-08-25T21:02:21.227Z"
   },
   {
    "duration": 7,
    "start_time": "2022-08-25T21:02:21.238Z"
   },
   {
    "duration": 10,
    "start_time": "2022-08-25T21:02:21.247Z"
   },
   {
    "duration": 38,
    "start_time": "2022-08-25T21:02:21.259Z"
   },
   {
    "duration": 8,
    "start_time": "2022-08-25T21:02:21.299Z"
   },
   {
    "duration": 17,
    "start_time": "2022-08-25T21:02:21.308Z"
   },
   {
    "duration": 16,
    "start_time": "2022-08-25T21:02:21.326Z"
   },
   {
    "duration": 42,
    "start_time": "2022-08-25T21:02:21.344Z"
   },
   {
    "duration": 323,
    "start_time": "2022-08-25T21:02:21.387Z"
   },
   {
    "duration": 14,
    "start_time": "2022-08-25T21:02:21.712Z"
   },
   {
    "duration": 302,
    "start_time": "2022-08-25T21:02:21.728Z"
   },
   {
    "duration": 6,
    "start_time": "2022-08-25T21:02:22.032Z"
   },
   {
    "duration": 400,
    "start_time": "2022-08-25T21:02:22.040Z"
   },
   {
    "duration": 363,
    "start_time": "2022-08-25T21:02:22.442Z"
   },
   {
    "duration": 22,
    "start_time": "2022-08-25T21:02:22.809Z"
   },
   {
    "duration": 279,
    "start_time": "2022-08-25T21:02:22.833Z"
   },
   {
    "duration": 211,
    "start_time": "2022-08-25T21:02:23.115Z"
   },
   {
    "duration": 153,
    "start_time": "2022-08-25T21:02:23.328Z"
   },
   {
    "duration": 150,
    "start_time": "2022-08-25T21:02:23.484Z"
   },
   {
    "duration": 13,
    "start_time": "2022-08-25T21:02:23.636Z"
   },
   {
    "duration": 146,
    "start_time": "2022-08-25T21:02:23.650Z"
   },
   {
    "duration": 154,
    "start_time": "2022-08-25T21:02:23.799Z"
   },
   {
    "duration": 12,
    "start_time": "2022-08-25T21:02:23.955Z"
   },
   {
    "duration": 204,
    "start_time": "2022-08-25T21:02:23.968Z"
   },
   {
    "duration": 179,
    "start_time": "2022-08-25T21:02:24.174Z"
   },
   {
    "duration": 222,
    "start_time": "2022-08-25T21:02:24.355Z"
   },
   {
    "duration": 635,
    "start_time": "2022-08-25T21:02:24.578Z"
   },
   {
    "duration": 547,
    "start_time": "2022-08-25T21:02:25.214Z"
   },
   {
    "duration": 495,
    "start_time": "2022-08-25T21:03:48.312Z"
   },
   {
    "duration": 487,
    "start_time": "2022-08-25T21:05:04.997Z"
   },
   {
    "duration": 570,
    "start_time": "2022-08-25T21:05:17.675Z"
   },
   {
    "duration": 89,
    "start_time": "2022-08-25T21:49:19.058Z"
   },
   {
    "duration": 172,
    "start_time": "2022-08-25T21:50:40.635Z"
   },
   {
    "duration": 175,
    "start_time": "2022-08-25T21:52:43.347Z"
   },
   {
    "duration": 16,
    "start_time": "2022-08-25T21:52:52.301Z"
   },
   {
    "duration": 188,
    "start_time": "2022-08-25T21:52:58.989Z"
   },
   {
    "duration": 187,
    "start_time": "2022-08-25T21:54:05.071Z"
   },
   {
    "duration": 166,
    "start_time": "2022-08-25T21:54:26.264Z"
   },
   {
    "duration": 175,
    "start_time": "2022-08-25T21:55:29.237Z"
   },
   {
    "duration": 183,
    "start_time": "2022-08-25T21:55:58.285Z"
   },
   {
    "duration": 184,
    "start_time": "2022-08-25T21:56:45.475Z"
   },
   {
    "duration": 204,
    "start_time": "2022-08-25T21:56:52.231Z"
   },
   {
    "duration": 5,
    "start_time": "2022-08-25T21:59:14.210Z"
   },
   {
    "duration": 10,
    "start_time": "2022-08-25T22:58:39.400Z"
   },
   {
    "duration": 8,
    "start_time": "2022-08-25T22:58:58.720Z"
   },
   {
    "duration": 9,
    "start_time": "2022-08-25T22:59:21.048Z"
   },
   {
    "duration": 48,
    "start_time": "2022-08-25T22:59:32.720Z"
   },
   {
    "duration": 10,
    "start_time": "2022-08-25T22:59:35.673Z"
   },
   {
    "duration": 9,
    "start_time": "2022-08-25T23:04:52.232Z"
   },
   {
    "duration": 9,
    "start_time": "2022-08-25T23:05:03.639Z"
   },
   {
    "duration": 11,
    "start_time": "2022-08-25T23:05:20.151Z"
   },
   {
    "duration": 1099,
    "start_time": "2022-08-25T23:05:34.555Z"
   },
   {
    "duration": 67,
    "start_time": "2022-08-25T23:05:35.656Z"
   },
   {
    "duration": 14,
    "start_time": "2022-08-25T23:05:35.725Z"
   },
   {
    "duration": 3,
    "start_time": "2022-08-25T23:05:35.741Z"
   },
   {
    "duration": 9,
    "start_time": "2022-08-25T23:05:35.746Z"
   },
   {
    "duration": 8,
    "start_time": "2022-08-25T23:05:35.757Z"
   },
   {
    "duration": 20,
    "start_time": "2022-08-25T23:05:35.766Z"
   },
   {
    "duration": 10,
    "start_time": "2022-08-25T23:05:35.788Z"
   },
   {
    "duration": 5,
    "start_time": "2022-08-25T23:05:35.799Z"
   },
   {
    "duration": 9,
    "start_time": "2022-08-25T23:05:35.805Z"
   },
   {
    "duration": 11,
    "start_time": "2022-08-25T23:05:35.815Z"
   },
   {
    "duration": 8,
    "start_time": "2022-08-25T23:05:35.828Z"
   },
   {
    "duration": 6,
    "start_time": "2022-08-25T23:05:35.838Z"
   },
   {
    "duration": 9,
    "start_time": "2022-08-25T23:05:35.847Z"
   },
   {
    "duration": 22,
    "start_time": "2022-08-25T23:05:35.886Z"
   },
   {
    "duration": 8,
    "start_time": "2022-08-25T23:05:35.910Z"
   },
   {
    "duration": 22,
    "start_time": "2022-08-25T23:05:35.920Z"
   },
   {
    "duration": 17,
    "start_time": "2022-08-25T23:05:35.944Z"
   },
   {
    "duration": 30,
    "start_time": "2022-08-25T23:05:35.963Z"
   },
   {
    "duration": 327,
    "start_time": "2022-08-25T23:05:35.995Z"
   },
   {
    "duration": 12,
    "start_time": "2022-08-25T23:05:36.323Z"
   },
   {
    "duration": 295,
    "start_time": "2022-08-25T23:05:36.337Z"
   },
   {
    "duration": 4,
    "start_time": "2022-08-25T23:05:36.634Z"
   },
   {
    "duration": 371,
    "start_time": "2022-08-25T23:05:36.640Z"
   },
   {
    "duration": 313,
    "start_time": "2022-08-25T23:05:37.013Z"
   },
   {
    "duration": 19,
    "start_time": "2022-08-25T23:05:37.328Z"
   },
   {
    "duration": 235,
    "start_time": "2022-08-25T23:05:37.349Z"
   },
   {
    "duration": 180,
    "start_time": "2022-08-25T23:05:37.585Z"
   },
   {
    "duration": 151,
    "start_time": "2022-08-25T23:05:37.767Z"
   },
   {
    "duration": 153,
    "start_time": "2022-08-25T23:05:37.920Z"
   },
   {
    "duration": 16,
    "start_time": "2022-08-25T23:05:38.075Z"
   },
   {
    "duration": 148,
    "start_time": "2022-08-25T23:05:38.093Z"
   },
   {
    "duration": 156,
    "start_time": "2022-08-25T23:05:38.242Z"
   },
   {
    "duration": 13,
    "start_time": "2022-08-25T23:05:38.399Z"
   },
   {
    "duration": 198,
    "start_time": "2022-08-25T23:05:38.413Z"
   },
   {
    "duration": 176,
    "start_time": "2022-08-25T23:05:38.613Z"
   },
   {
    "duration": 178,
    "start_time": "2022-08-25T23:05:38.790Z"
   },
   {
    "duration": 538,
    "start_time": "2022-08-25T23:05:38.969Z"
   },
   {
    "duration": 483,
    "start_time": "2022-08-25T23:05:39.508Z"
   },
   {
    "duration": 104,
    "start_time": "2022-08-25T23:05:39.992Z"
   },
   {
    "duration": 0,
    "start_time": "2022-08-25T23:05:40.098Z"
   },
   {
    "duration": 10,
    "start_time": "2022-08-25T23:06:01.148Z"
   },
   {
    "duration": 14,
    "start_time": "2022-08-25T23:08:13.995Z"
   },
   {
    "duration": 3,
    "start_time": "2022-08-25T23:08:59.947Z"
   },
   {
    "duration": 1100,
    "start_time": "2022-08-25T23:09:05.906Z"
   },
   {
    "duration": 63,
    "start_time": "2022-08-25T23:09:07.008Z"
   },
   {
    "duration": 11,
    "start_time": "2022-08-25T23:09:07.073Z"
   },
   {
    "duration": 17,
    "start_time": "2022-08-25T23:09:07.087Z"
   },
   {
    "duration": 7,
    "start_time": "2022-08-25T23:09:07.105Z"
   },
   {
    "duration": 9,
    "start_time": "2022-08-25T23:09:07.114Z"
   },
   {
    "duration": 7,
    "start_time": "2022-08-25T23:09:07.124Z"
   },
   {
    "duration": 7,
    "start_time": "2022-08-25T23:09:07.132Z"
   },
   {
    "duration": 8,
    "start_time": "2022-08-25T23:09:07.140Z"
   },
   {
    "duration": 10,
    "start_time": "2022-08-25T23:09:07.151Z"
   },
   {
    "duration": 25,
    "start_time": "2022-08-25T23:09:07.162Z"
   },
   {
    "duration": 21,
    "start_time": "2022-08-25T23:09:07.189Z"
   },
   {
    "duration": 7,
    "start_time": "2022-08-25T23:09:07.211Z"
   },
   {
    "duration": 9,
    "start_time": "2022-08-25T23:09:07.220Z"
   },
   {
    "duration": 17,
    "start_time": "2022-08-25T23:09:07.230Z"
   },
   {
    "duration": 8,
    "start_time": "2022-08-25T23:09:07.248Z"
   },
   {
    "duration": 16,
    "start_time": "2022-08-25T23:09:07.257Z"
   },
   {
    "duration": 25,
    "start_time": "2022-08-25T23:09:07.274Z"
   },
   {
    "duration": 14,
    "start_time": "2022-08-25T23:09:07.301Z"
   },
   {
    "duration": 338,
    "start_time": "2022-08-25T23:09:07.317Z"
   },
   {
    "duration": 12,
    "start_time": "2022-08-25T23:09:07.657Z"
   },
   {
    "duration": 303,
    "start_time": "2022-08-25T23:09:07.671Z"
   },
   {
    "duration": 4,
    "start_time": "2022-08-25T23:09:07.976Z"
   },
   {
    "duration": 426,
    "start_time": "2022-08-25T23:09:07.990Z"
   },
   {
    "duration": 332,
    "start_time": "2022-08-25T23:09:08.417Z"
   },
   {
    "duration": 20,
    "start_time": "2022-08-25T23:09:08.751Z"
   },
   {
    "duration": 280,
    "start_time": "2022-08-25T23:09:08.773Z"
   },
   {
    "duration": 192,
    "start_time": "2022-08-25T23:09:09.056Z"
   },
   {
    "duration": 146,
    "start_time": "2022-08-25T23:09:09.250Z"
   },
   {
    "duration": 147,
    "start_time": "2022-08-25T23:09:09.398Z"
   },
   {
    "duration": 11,
    "start_time": "2022-08-25T23:09:09.546Z"
   },
   {
    "duration": 160,
    "start_time": "2022-08-25T23:09:09.558Z"
   },
   {
    "duration": 150,
    "start_time": "2022-08-25T23:09:09.719Z"
   },
   {
    "duration": 21,
    "start_time": "2022-08-25T23:09:09.871Z"
   },
   {
    "duration": 185,
    "start_time": "2022-08-25T23:09:09.894Z"
   },
   {
    "duration": 199,
    "start_time": "2022-08-25T23:09:10.080Z"
   },
   {
    "duration": 187,
    "start_time": "2022-08-25T23:09:10.281Z"
   },
   {
    "duration": 609,
    "start_time": "2022-08-25T23:09:10.470Z"
   },
   {
    "duration": 578,
    "start_time": "2022-08-25T23:09:11.080Z"
   },
   {
    "duration": 113,
    "start_time": "2022-08-25T23:09:11.660Z"
   },
   {
    "duration": 0,
    "start_time": "2022-08-25T23:09:11.775Z"
   },
   {
    "duration": 9,
    "start_time": "2022-08-25T23:09:23.275Z"
   },
   {
    "duration": 9,
    "start_time": "2022-08-25T23:09:50.105Z"
   },
   {
    "duration": 10,
    "start_time": "2022-08-25T23:12:57.226Z"
   },
   {
    "duration": 1100,
    "start_time": "2022-08-25T23:33:15.345Z"
   },
   {
    "duration": 65,
    "start_time": "2022-08-25T23:33:16.447Z"
   },
   {
    "duration": 13,
    "start_time": "2022-08-25T23:33:16.513Z"
   },
   {
    "duration": 3,
    "start_time": "2022-08-25T23:33:16.528Z"
   },
   {
    "duration": 6,
    "start_time": "2022-08-25T23:33:16.533Z"
   },
   {
    "duration": 6,
    "start_time": "2022-08-25T23:33:16.540Z"
   },
   {
    "duration": 4,
    "start_time": "2022-08-25T23:33:16.548Z"
   },
   {
    "duration": 32,
    "start_time": "2022-08-25T23:33:16.553Z"
   },
   {
    "duration": 5,
    "start_time": "2022-08-25T23:33:16.586Z"
   },
   {
    "duration": 8,
    "start_time": "2022-08-25T23:33:16.592Z"
   },
   {
    "duration": 7,
    "start_time": "2022-08-25T23:33:16.601Z"
   },
   {
    "duration": 6,
    "start_time": "2022-08-25T23:33:16.610Z"
   },
   {
    "duration": 7,
    "start_time": "2022-08-25T23:33:16.618Z"
   },
   {
    "duration": 4,
    "start_time": "2022-08-25T23:33:16.627Z"
   },
   {
    "duration": 14,
    "start_time": "2022-08-25T23:33:16.633Z"
   },
   {
    "duration": 9,
    "start_time": "2022-08-25T23:33:16.648Z"
   },
   {
    "duration": 17,
    "start_time": "2022-08-25T23:33:16.685Z"
   },
   {
    "duration": 23,
    "start_time": "2022-08-25T23:33:16.703Z"
   },
   {
    "duration": 14,
    "start_time": "2022-08-25T23:33:16.728Z"
   },
   {
    "duration": 343,
    "start_time": "2022-08-25T23:33:16.743Z"
   },
   {
    "duration": 11,
    "start_time": "2022-08-25T23:33:17.088Z"
   },
   {
    "duration": 292,
    "start_time": "2022-08-25T23:33:17.100Z"
   },
   {
    "duration": 4,
    "start_time": "2022-08-25T23:33:17.393Z"
   },
   {
    "duration": 382,
    "start_time": "2022-08-25T23:33:17.398Z"
   },
   {
    "duration": 350,
    "start_time": "2022-08-25T23:33:17.781Z"
   },
   {
    "duration": 22,
    "start_time": "2022-08-25T23:33:18.132Z"
   },
   {
    "duration": 242,
    "start_time": "2022-08-25T23:33:18.155Z"
   },
   {
    "duration": 174,
    "start_time": "2022-08-25T23:33:18.399Z"
   },
   {
    "duration": 139,
    "start_time": "2022-08-25T23:33:18.575Z"
   },
   {
    "duration": 144,
    "start_time": "2022-08-25T23:33:18.716Z"
   },
   {
    "duration": 11,
    "start_time": "2022-08-25T23:33:18.861Z"
   },
   {
    "duration": 138,
    "start_time": "2022-08-25T23:33:18.873Z"
   },
   {
    "duration": 139,
    "start_time": "2022-08-25T23:33:19.012Z"
   },
   {
    "duration": 12,
    "start_time": "2022-08-25T23:33:19.153Z"
   },
   {
    "duration": 194,
    "start_time": "2022-08-25T23:33:19.167Z"
   },
   {
    "duration": 163,
    "start_time": "2022-08-25T23:33:19.363Z"
   },
   {
    "duration": 179,
    "start_time": "2022-08-25T23:33:19.527Z"
   },
   {
    "duration": 566,
    "start_time": "2022-08-25T23:33:19.707Z"
   },
   {
    "duration": 485,
    "start_time": "2022-08-25T23:33:20.275Z"
   },
   {
    "duration": 101,
    "start_time": "2022-08-25T23:33:20.762Z"
   },
   {
    "duration": 0,
    "start_time": "2022-08-25T23:33:20.865Z"
   },
   {
    "duration": 0,
    "start_time": "2022-08-25T23:33:20.867Z"
   },
   {
    "duration": 48,
    "start_time": "2022-08-26T01:11:20.833Z"
   },
   {
    "duration": 1174,
    "start_time": "2022-08-26T01:11:26.235Z"
   },
   {
    "duration": 68,
    "start_time": "2022-08-26T01:11:27.411Z"
   },
   {
    "duration": 14,
    "start_time": "2022-08-26T01:11:27.481Z"
   },
   {
    "duration": 3,
    "start_time": "2022-08-26T01:11:27.497Z"
   },
   {
    "duration": 16,
    "start_time": "2022-08-26T01:11:27.502Z"
   },
   {
    "duration": 18,
    "start_time": "2022-08-26T01:11:27.520Z"
   },
   {
    "duration": 22,
    "start_time": "2022-08-26T01:11:27.539Z"
   },
   {
    "duration": 13,
    "start_time": "2022-08-26T01:11:27.563Z"
   },
   {
    "duration": 13,
    "start_time": "2022-08-26T01:11:27.578Z"
   },
   {
    "duration": 9,
    "start_time": "2022-08-26T01:11:27.592Z"
   },
   {
    "duration": 9,
    "start_time": "2022-08-26T01:11:27.603Z"
   },
   {
    "duration": 8,
    "start_time": "2022-08-26T01:11:27.614Z"
   },
   {
    "duration": 6,
    "start_time": "2022-08-26T01:11:27.623Z"
   },
   {
    "duration": 14,
    "start_time": "2022-08-26T01:11:27.632Z"
   },
   {
    "duration": 19,
    "start_time": "2022-08-26T01:11:27.648Z"
   },
   {
    "duration": 8,
    "start_time": "2022-08-26T01:11:27.668Z"
   },
   {
    "duration": 15,
    "start_time": "2022-08-26T01:11:27.678Z"
   },
   {
    "duration": 28,
    "start_time": "2022-08-26T01:11:27.694Z"
   },
   {
    "duration": 19,
    "start_time": "2022-08-26T01:11:27.723Z"
   },
   {
    "duration": 14,
    "start_time": "2022-08-26T01:11:27.744Z"
   },
   {
    "duration": 337,
    "start_time": "2022-08-26T01:11:27.760Z"
   },
   {
    "duration": 19,
    "start_time": "2022-08-26T01:11:28.099Z"
   },
   {
    "duration": 290,
    "start_time": "2022-08-26T01:11:28.120Z"
   },
   {
    "duration": 4,
    "start_time": "2022-08-26T01:11:28.412Z"
   },
   {
    "duration": 351,
    "start_time": "2022-08-26T01:11:28.418Z"
   },
   {
    "duration": 349,
    "start_time": "2022-08-26T01:11:28.771Z"
   },
   {
    "duration": 19,
    "start_time": "2022-08-26T01:11:29.122Z"
   },
   {
    "duration": 256,
    "start_time": "2022-08-26T01:11:29.143Z"
   },
   {
    "duration": 180,
    "start_time": "2022-08-26T01:11:29.400Z"
   },
   {
    "duration": 150,
    "start_time": "2022-08-26T01:11:29.582Z"
   },
   {
    "duration": 139,
    "start_time": "2022-08-26T01:11:29.733Z"
   },
   {
    "duration": 11,
    "start_time": "2022-08-26T01:11:29.874Z"
   },
   {
    "duration": 149,
    "start_time": "2022-08-26T01:11:29.887Z"
   },
   {
    "duration": 152,
    "start_time": "2022-08-26T01:11:30.038Z"
   },
   {
    "duration": 20,
    "start_time": "2022-08-26T01:11:30.192Z"
   },
   {
    "duration": 184,
    "start_time": "2022-08-26T01:11:30.214Z"
   },
   {
    "duration": 177,
    "start_time": "2022-08-26T01:11:30.399Z"
   },
   {
    "duration": 194,
    "start_time": "2022-08-26T01:11:30.578Z"
   },
   {
    "duration": 578,
    "start_time": "2022-08-26T01:11:30.773Z"
   },
   {
    "duration": 492,
    "start_time": "2022-08-26T01:11:31.352Z"
   },
   {
    "duration": 103,
    "start_time": "2022-08-26T01:11:31.848Z"
   },
   {
    "duration": 0,
    "start_time": "2022-08-26T01:11:31.953Z"
   },
   {
    "duration": 0,
    "start_time": "2022-08-26T01:11:31.954Z"
   },
   {
    "duration": 20,
    "start_time": "2022-08-26T01:22:09.053Z"
   },
   {
    "duration": 73,
    "start_time": "2022-08-26T01:22:22.877Z"
   },
   {
    "duration": 1187,
    "start_time": "2022-08-26T01:22:33.516Z"
   },
   {
    "duration": 10,
    "start_time": "2022-08-26T01:25:03.154Z"
   },
   {
    "duration": 12,
    "start_time": "2022-08-26T01:26:36.005Z"
   },
   {
    "duration": 1020,
    "start_time": "2022-08-26T01:32:33.271Z"
   },
   {
    "duration": 67,
    "start_time": "2022-08-26T01:32:34.293Z"
   },
   {
    "duration": 14,
    "start_time": "2022-08-26T01:32:34.363Z"
   },
   {
    "duration": 6,
    "start_time": "2022-08-26T01:32:34.378Z"
   },
   {
    "duration": 10,
    "start_time": "2022-08-26T01:32:34.385Z"
   },
   {
    "duration": 12,
    "start_time": "2022-08-26T01:32:34.397Z"
   },
   {
    "duration": 28,
    "start_time": "2022-08-26T01:32:34.410Z"
   },
   {
    "duration": 8,
    "start_time": "2022-08-26T01:32:34.440Z"
   },
   {
    "duration": 6,
    "start_time": "2022-08-26T01:32:34.450Z"
   },
   {
    "duration": 8,
    "start_time": "2022-08-26T01:32:34.457Z"
   },
   {
    "duration": 8,
    "start_time": "2022-08-26T01:32:34.466Z"
   },
   {
    "duration": 7,
    "start_time": "2022-08-26T01:32:34.475Z"
   },
   {
    "duration": 6,
    "start_time": "2022-08-26T01:32:34.485Z"
   },
   {
    "duration": 17,
    "start_time": "2022-08-26T01:32:34.492Z"
   },
   {
    "duration": 12,
    "start_time": "2022-08-26T01:32:34.510Z"
   },
   {
    "duration": 8,
    "start_time": "2022-08-26T01:32:34.523Z"
   },
   {
    "duration": 16,
    "start_time": "2022-08-26T01:32:34.533Z"
   },
   {
    "duration": 15,
    "start_time": "2022-08-26T01:32:34.550Z"
   },
   {
    "duration": 12,
    "start_time": "2022-08-26T01:32:34.566Z"
   },
   {
    "duration": 41,
    "start_time": "2022-08-26T01:32:34.579Z"
   },
   {
    "duration": 314,
    "start_time": "2022-08-26T01:32:34.622Z"
   },
   {
    "duration": 12,
    "start_time": "2022-08-26T01:32:34.938Z"
   },
   {
    "duration": 296,
    "start_time": "2022-08-26T01:32:34.951Z"
   },
   {
    "duration": 4,
    "start_time": "2022-08-26T01:32:35.248Z"
   },
   {
    "duration": 340,
    "start_time": "2022-08-26T01:32:35.254Z"
   },
   {
    "duration": 367,
    "start_time": "2022-08-26T01:32:35.596Z"
   },
   {
    "duration": 26,
    "start_time": "2022-08-26T01:32:35.965Z"
   },
   {
    "duration": 257,
    "start_time": "2022-08-26T01:32:35.992Z"
   },
   {
    "duration": 181,
    "start_time": "2022-08-26T01:32:36.250Z"
   },
   {
    "duration": 145,
    "start_time": "2022-08-26T01:32:36.433Z"
   },
   {
    "duration": 137,
    "start_time": "2022-08-26T01:32:36.580Z"
   },
   {
    "duration": 12,
    "start_time": "2022-08-26T01:32:36.719Z"
   },
   {
    "duration": 154,
    "start_time": "2022-08-26T01:32:36.733Z"
   },
   {
    "duration": 146,
    "start_time": "2022-08-26T01:32:36.889Z"
   },
   {
    "duration": 12,
    "start_time": "2022-08-26T01:32:37.037Z"
   },
   {
    "duration": 212,
    "start_time": "2022-08-26T01:32:37.050Z"
   },
   {
    "duration": 173,
    "start_time": "2022-08-26T01:32:37.264Z"
   },
   {
    "duration": 194,
    "start_time": "2022-08-26T01:32:37.438Z"
   },
   {
    "duration": 567,
    "start_time": "2022-08-26T01:32:37.634Z"
   },
   {
    "duration": 499,
    "start_time": "2022-08-26T01:32:38.210Z"
   },
   {
    "duration": 117,
    "start_time": "2022-08-26T01:32:38.711Z"
   },
   {
    "duration": 0,
    "start_time": "2022-08-26T01:32:38.829Z"
   },
   {
    "duration": 0,
    "start_time": "2022-08-26T01:32:38.830Z"
   },
   {
    "duration": 8,
    "start_time": "2022-08-26T23:47:07.094Z"
   },
   {
    "duration": 42,
    "start_time": "2022-08-26T23:47:15.098Z"
   },
   {
    "duration": 1286,
    "start_time": "2022-08-26T23:47:24.893Z"
   },
   {
    "duration": 112,
    "start_time": "2022-08-26T23:47:26.181Z"
   },
   {
    "duration": 15,
    "start_time": "2022-08-26T23:47:26.294Z"
   },
   {
    "duration": 3,
    "start_time": "2022-08-26T23:47:26.313Z"
   },
   {
    "duration": 117,
    "start_time": "2022-08-26T23:47:26.320Z"
   },
   {
    "duration": 0,
    "start_time": "2022-08-26T23:47:26.440Z"
   },
   {
    "duration": 0,
    "start_time": "2022-08-26T23:47:26.441Z"
   },
   {
    "duration": 0,
    "start_time": "2022-08-26T23:47:26.442Z"
   },
   {
    "duration": 0,
    "start_time": "2022-08-26T23:47:26.443Z"
   },
   {
    "duration": 0,
    "start_time": "2022-08-26T23:47:26.444Z"
   },
   {
    "duration": 0,
    "start_time": "2022-08-26T23:47:26.445Z"
   },
   {
    "duration": 0,
    "start_time": "2022-08-26T23:47:26.446Z"
   },
   {
    "duration": 0,
    "start_time": "2022-08-26T23:47:26.447Z"
   },
   {
    "duration": 0,
    "start_time": "2022-08-26T23:47:26.448Z"
   },
   {
    "duration": 0,
    "start_time": "2022-08-26T23:47:26.449Z"
   },
   {
    "duration": 0,
    "start_time": "2022-08-26T23:47:26.449Z"
   },
   {
    "duration": 0,
    "start_time": "2022-08-26T23:47:26.451Z"
   },
   {
    "duration": 0,
    "start_time": "2022-08-26T23:47:26.451Z"
   },
   {
    "duration": 0,
    "start_time": "2022-08-26T23:47:26.452Z"
   },
   {
    "duration": 0,
    "start_time": "2022-08-26T23:47:26.453Z"
   },
   {
    "duration": 0,
    "start_time": "2022-08-26T23:47:26.454Z"
   },
   {
    "duration": 0,
    "start_time": "2022-08-26T23:47:26.455Z"
   },
   {
    "duration": 0,
    "start_time": "2022-08-26T23:47:26.456Z"
   },
   {
    "duration": 0,
    "start_time": "2022-08-26T23:47:26.457Z"
   },
   {
    "duration": 0,
    "start_time": "2022-08-26T23:47:26.484Z"
   },
   {
    "duration": 0,
    "start_time": "2022-08-26T23:47:26.486Z"
   },
   {
    "duration": 0,
    "start_time": "2022-08-26T23:47:26.487Z"
   },
   {
    "duration": 0,
    "start_time": "2022-08-26T23:47:26.488Z"
   },
   {
    "duration": 0,
    "start_time": "2022-08-26T23:47:26.488Z"
   },
   {
    "duration": 0,
    "start_time": "2022-08-26T23:47:26.490Z"
   },
   {
    "duration": 0,
    "start_time": "2022-08-26T23:47:26.491Z"
   },
   {
    "duration": 0,
    "start_time": "2022-08-26T23:47:26.491Z"
   },
   {
    "duration": 1,
    "start_time": "2022-08-26T23:47:26.492Z"
   },
   {
    "duration": 0,
    "start_time": "2022-08-26T23:47:26.493Z"
   },
   {
    "duration": 0,
    "start_time": "2022-08-26T23:47:26.494Z"
   },
   {
    "duration": 0,
    "start_time": "2022-08-26T23:47:26.495Z"
   },
   {
    "duration": 0,
    "start_time": "2022-08-26T23:47:26.496Z"
   },
   {
    "duration": 0,
    "start_time": "2022-08-26T23:47:26.497Z"
   },
   {
    "duration": 0,
    "start_time": "2022-08-26T23:47:26.498Z"
   },
   {
    "duration": 0,
    "start_time": "2022-08-26T23:47:26.499Z"
   },
   {
    "duration": 0,
    "start_time": "2022-08-26T23:47:26.500Z"
   },
   {
    "duration": 0,
    "start_time": "2022-08-26T23:47:26.501Z"
   },
   {
    "duration": 0,
    "start_time": "2022-08-26T23:47:26.502Z"
   },
   {
    "duration": 0,
    "start_time": "2022-08-26T23:47:26.503Z"
   },
   {
    "duration": 930,
    "start_time": "2022-08-26T23:48:31.378Z"
   },
   {
    "duration": 779,
    "start_time": "2022-08-26T23:48:48.013Z"
   },
   {
    "duration": 11,
    "start_time": "2022-08-26T23:49:34.973Z"
   },
   {
    "duration": 753,
    "start_time": "2022-08-26T23:50:15.974Z"
   },
   {
    "duration": 17,
    "start_time": "2022-08-26T23:50:40.939Z"
   },
   {
    "duration": 1094,
    "start_time": "2022-08-26T23:51:00.570Z"
   },
   {
    "duration": 68,
    "start_time": "2022-08-26T23:51:01.666Z"
   },
   {
    "duration": 16,
    "start_time": "2022-08-26T23:51:01.735Z"
   },
   {
    "duration": 14,
    "start_time": "2022-08-26T23:51:01.753Z"
   },
   {
    "duration": 99,
    "start_time": "2022-08-26T23:51:01.770Z"
   },
   {
    "duration": 0,
    "start_time": "2022-08-26T23:51:01.872Z"
   },
   {
    "duration": 0,
    "start_time": "2022-08-26T23:51:01.873Z"
   },
   {
    "duration": 0,
    "start_time": "2022-08-26T23:51:01.884Z"
   },
   {
    "duration": 0,
    "start_time": "2022-08-26T23:51:01.885Z"
   },
   {
    "duration": 0,
    "start_time": "2022-08-26T23:51:01.886Z"
   },
   {
    "duration": 0,
    "start_time": "2022-08-26T23:51:01.888Z"
   },
   {
    "duration": 0,
    "start_time": "2022-08-26T23:51:01.888Z"
   },
   {
    "duration": 0,
    "start_time": "2022-08-26T23:51:01.889Z"
   },
   {
    "duration": 0,
    "start_time": "2022-08-26T23:51:01.890Z"
   },
   {
    "duration": 0,
    "start_time": "2022-08-26T23:51:01.891Z"
   },
   {
    "duration": 0,
    "start_time": "2022-08-26T23:51:01.893Z"
   },
   {
    "duration": 0,
    "start_time": "2022-08-26T23:51:01.893Z"
   },
   {
    "duration": 0,
    "start_time": "2022-08-26T23:51:01.894Z"
   },
   {
    "duration": 0,
    "start_time": "2022-08-26T23:51:01.895Z"
   },
   {
    "duration": 0,
    "start_time": "2022-08-26T23:51:01.896Z"
   },
   {
    "duration": 0,
    "start_time": "2022-08-26T23:51:01.897Z"
   },
   {
    "duration": 0,
    "start_time": "2022-08-26T23:51:01.898Z"
   },
   {
    "duration": 0,
    "start_time": "2022-08-26T23:51:01.899Z"
   },
   {
    "duration": 0,
    "start_time": "2022-08-26T23:51:01.900Z"
   },
   {
    "duration": 0,
    "start_time": "2022-08-26T23:51:01.901Z"
   },
   {
    "duration": 0,
    "start_time": "2022-08-26T23:51:01.902Z"
   },
   {
    "duration": 0,
    "start_time": "2022-08-26T23:51:01.903Z"
   },
   {
    "duration": 0,
    "start_time": "2022-08-26T23:51:01.904Z"
   },
   {
    "duration": 0,
    "start_time": "2022-08-26T23:51:01.905Z"
   },
   {
    "duration": 0,
    "start_time": "2022-08-26T23:51:01.906Z"
   },
   {
    "duration": 0,
    "start_time": "2022-08-26T23:51:01.907Z"
   },
   {
    "duration": 0,
    "start_time": "2022-08-26T23:51:01.908Z"
   },
   {
    "duration": 0,
    "start_time": "2022-08-26T23:51:01.909Z"
   },
   {
    "duration": 0,
    "start_time": "2022-08-26T23:51:01.910Z"
   },
   {
    "duration": 0,
    "start_time": "2022-08-26T23:51:01.911Z"
   },
   {
    "duration": 0,
    "start_time": "2022-08-26T23:51:01.912Z"
   },
   {
    "duration": 0,
    "start_time": "2022-08-26T23:51:01.913Z"
   },
   {
    "duration": 0,
    "start_time": "2022-08-26T23:51:01.914Z"
   },
   {
    "duration": 0,
    "start_time": "2022-08-26T23:51:01.915Z"
   },
   {
    "duration": 0,
    "start_time": "2022-08-26T23:51:01.916Z"
   },
   {
    "duration": 0,
    "start_time": "2022-08-26T23:51:01.918Z"
   },
   {
    "duration": 0,
    "start_time": "2022-08-26T23:51:01.919Z"
   },
   {
    "duration": 0,
    "start_time": "2022-08-26T23:51:01.920Z"
   },
   {
    "duration": 0,
    "start_time": "2022-08-26T23:51:01.921Z"
   },
   {
    "duration": 5,
    "start_time": "2022-08-26T23:51:28.145Z"
   },
   {
    "duration": 1062,
    "start_time": "2022-08-26T23:51:48.696Z"
   },
   {
    "duration": 64,
    "start_time": "2022-08-26T23:51:49.760Z"
   },
   {
    "duration": 12,
    "start_time": "2022-08-26T23:51:49.826Z"
   },
   {
    "duration": 3,
    "start_time": "2022-08-26T23:51:49.840Z"
   },
   {
    "duration": 16,
    "start_time": "2022-08-26T23:51:49.845Z"
   },
   {
    "duration": 115,
    "start_time": "2022-08-26T23:51:49.863Z"
   },
   {
    "duration": 0,
    "start_time": "2022-08-26T23:51:49.980Z"
   },
   {
    "duration": 0,
    "start_time": "2022-08-26T23:51:49.984Z"
   },
   {
    "duration": 0,
    "start_time": "2022-08-26T23:51:49.985Z"
   },
   {
    "duration": 0,
    "start_time": "2022-08-26T23:51:49.986Z"
   },
   {
    "duration": 0,
    "start_time": "2022-08-26T23:51:49.987Z"
   },
   {
    "duration": 0,
    "start_time": "2022-08-26T23:51:49.988Z"
   },
   {
    "duration": 0,
    "start_time": "2022-08-26T23:51:49.989Z"
   },
   {
    "duration": 0,
    "start_time": "2022-08-26T23:51:49.990Z"
   },
   {
    "duration": 0,
    "start_time": "2022-08-26T23:51:49.991Z"
   },
   {
    "duration": 0,
    "start_time": "2022-08-26T23:51:49.991Z"
   },
   {
    "duration": 0,
    "start_time": "2022-08-26T23:51:49.992Z"
   },
   {
    "duration": 0,
    "start_time": "2022-08-26T23:51:49.993Z"
   },
   {
    "duration": 0,
    "start_time": "2022-08-26T23:51:49.994Z"
   },
   {
    "duration": 0,
    "start_time": "2022-08-26T23:51:49.995Z"
   },
   {
    "duration": 0,
    "start_time": "2022-08-26T23:51:49.996Z"
   },
   {
    "duration": 0,
    "start_time": "2022-08-26T23:51:49.997Z"
   },
   {
    "duration": 0,
    "start_time": "2022-08-26T23:51:49.998Z"
   },
   {
    "duration": 0,
    "start_time": "2022-08-26T23:51:50.000Z"
   },
   {
    "duration": 0,
    "start_time": "2022-08-26T23:51:50.001Z"
   },
   {
    "duration": 0,
    "start_time": "2022-08-26T23:51:50.003Z"
   },
   {
    "duration": 0,
    "start_time": "2022-08-26T23:51:50.005Z"
   },
   {
    "duration": 0,
    "start_time": "2022-08-26T23:51:50.006Z"
   },
   {
    "duration": 0,
    "start_time": "2022-08-26T23:51:50.007Z"
   },
   {
    "duration": 0,
    "start_time": "2022-08-26T23:51:50.008Z"
   },
   {
    "duration": 0,
    "start_time": "2022-08-26T23:51:50.009Z"
   },
   {
    "duration": 0,
    "start_time": "2022-08-26T23:51:50.010Z"
   },
   {
    "duration": 0,
    "start_time": "2022-08-26T23:51:50.011Z"
   },
   {
    "duration": 0,
    "start_time": "2022-08-26T23:51:50.012Z"
   },
   {
    "duration": 0,
    "start_time": "2022-08-26T23:51:50.013Z"
   },
   {
    "duration": 0,
    "start_time": "2022-08-26T23:51:50.014Z"
   },
   {
    "duration": 0,
    "start_time": "2022-08-26T23:51:50.015Z"
   },
   {
    "duration": 0,
    "start_time": "2022-08-26T23:51:50.016Z"
   },
   {
    "duration": 0,
    "start_time": "2022-08-26T23:51:50.017Z"
   },
   {
    "duration": 0,
    "start_time": "2022-08-26T23:51:50.018Z"
   },
   {
    "duration": 0,
    "start_time": "2022-08-26T23:51:50.020Z"
   },
   {
    "duration": 0,
    "start_time": "2022-08-26T23:51:50.021Z"
   },
   {
    "duration": 0,
    "start_time": "2022-08-26T23:51:50.022Z"
   },
   {
    "duration": 0,
    "start_time": "2022-08-26T23:51:50.023Z"
   },
   {
    "duration": 0,
    "start_time": "2022-08-26T23:51:50.024Z"
   },
   {
    "duration": 10,
    "start_time": "2022-08-26T23:52:26.534Z"
   },
   {
    "duration": 1093,
    "start_time": "2022-08-26T23:52:39.411Z"
   },
   {
    "duration": 67,
    "start_time": "2022-08-26T23:52:40.506Z"
   },
   {
    "duration": 15,
    "start_time": "2022-08-26T23:52:40.575Z"
   },
   {
    "duration": 4,
    "start_time": "2022-08-26T23:52:40.592Z"
   },
   {
    "duration": 15,
    "start_time": "2022-08-26T23:52:40.597Z"
   },
   {
    "duration": 10,
    "start_time": "2022-08-26T23:52:40.614Z"
   },
   {
    "duration": 5,
    "start_time": "2022-08-26T23:52:40.626Z"
   },
   {
    "duration": 6,
    "start_time": "2022-08-26T23:52:40.633Z"
   },
   {
    "duration": 13,
    "start_time": "2022-08-26T23:52:40.640Z"
   },
   {
    "duration": 7,
    "start_time": "2022-08-26T23:52:40.684Z"
   },
   {
    "duration": 6,
    "start_time": "2022-08-26T23:52:40.692Z"
   },
   {
    "duration": 11,
    "start_time": "2022-08-26T23:52:40.699Z"
   },
   {
    "duration": 11,
    "start_time": "2022-08-26T23:52:40.712Z"
   },
   {
    "duration": 10,
    "start_time": "2022-08-26T23:52:40.725Z"
   },
   {
    "duration": 8,
    "start_time": "2022-08-26T23:52:40.737Z"
   },
   {
    "duration": 44,
    "start_time": "2022-08-26T23:52:40.747Z"
   },
   {
    "duration": 17,
    "start_time": "2022-08-26T23:52:40.793Z"
   },
   {
    "duration": 8,
    "start_time": "2022-08-26T23:52:40.811Z"
   },
   {
    "duration": 12,
    "start_time": "2022-08-26T23:52:40.820Z"
   },
   {
    "duration": 15,
    "start_time": "2022-08-26T23:52:40.834Z"
   },
   {
    "duration": 12,
    "start_time": "2022-08-26T23:52:40.850Z"
   },
   {
    "duration": 13,
    "start_time": "2022-08-26T23:52:40.885Z"
   },
   {
    "duration": 354,
    "start_time": "2022-08-26T23:52:40.899Z"
   },
   {
    "duration": 13,
    "start_time": "2022-08-26T23:52:41.255Z"
   },
   {
    "duration": 301,
    "start_time": "2022-08-26T23:52:41.269Z"
   },
   {
    "duration": 16,
    "start_time": "2022-08-26T23:52:41.572Z"
   },
   {
    "duration": 393,
    "start_time": "2022-08-26T23:52:41.590Z"
   },
   {
    "duration": 331,
    "start_time": "2022-08-26T23:52:41.987Z"
   },
   {
    "duration": 21,
    "start_time": "2022-08-26T23:52:42.320Z"
   },
   {
    "duration": 258,
    "start_time": "2022-08-26T23:52:42.343Z"
   },
   {
    "duration": 204,
    "start_time": "2022-08-26T23:52:42.603Z"
   },
   {
    "duration": 163,
    "start_time": "2022-08-26T23:52:42.809Z"
   },
   {
    "duration": 155,
    "start_time": "2022-08-26T23:52:42.974Z"
   },
   {
    "duration": 11,
    "start_time": "2022-08-26T23:52:43.131Z"
   },
   {
    "duration": 146,
    "start_time": "2022-08-26T23:52:43.143Z"
   },
   {
    "duration": 135,
    "start_time": "2022-08-26T23:52:43.290Z"
   },
   {
    "duration": 11,
    "start_time": "2022-08-26T23:52:43.426Z"
   },
   {
    "duration": 176,
    "start_time": "2022-08-26T23:52:43.438Z"
   },
   {
    "duration": 169,
    "start_time": "2022-08-26T23:52:43.616Z"
   },
   {
    "duration": 418,
    "start_time": "2022-08-26T23:52:43.787Z"
   },
   {
    "duration": 1301,
    "start_time": "2022-08-26T23:52:44.207Z"
   },
   {
    "duration": 739,
    "start_time": "2022-08-26T23:52:45.510Z"
   },
   {
    "duration": 103,
    "start_time": "2022-08-26T23:52:46.250Z"
   },
   {
    "duration": 0,
    "start_time": "2022-08-26T23:52:46.355Z"
   },
   {
    "duration": 0,
    "start_time": "2022-08-26T23:52:46.356Z"
   },
   {
    "duration": 8,
    "start_time": "2022-08-26T23:52:58.531Z"
   },
   {
    "duration": 16,
    "start_time": "2022-08-26T23:53:00.735Z"
   },
   {
    "duration": 1094,
    "start_time": "2022-08-26T23:54:01.213Z"
   },
   {
    "duration": 64,
    "start_time": "2022-08-26T23:54:02.309Z"
   },
   {
    "duration": 13,
    "start_time": "2022-08-26T23:54:02.374Z"
   },
   {
    "duration": 3,
    "start_time": "2022-08-26T23:54:02.390Z"
   },
   {
    "duration": 27,
    "start_time": "2022-08-26T23:54:02.395Z"
   },
   {
    "duration": 14,
    "start_time": "2022-08-26T23:54:02.423Z"
   },
   {
    "duration": 6,
    "start_time": "2022-08-26T23:54:02.438Z"
   },
   {
    "duration": 8,
    "start_time": "2022-08-26T23:54:02.446Z"
   },
   {
    "duration": 5,
    "start_time": "2022-08-26T23:54:02.456Z"
   },
   {
    "duration": 7,
    "start_time": "2022-08-26T23:54:02.484Z"
   },
   {
    "duration": 10,
    "start_time": "2022-08-26T23:54:02.493Z"
   },
   {
    "duration": 12,
    "start_time": "2022-08-26T23:54:02.504Z"
   },
   {
    "duration": 8,
    "start_time": "2022-08-26T23:54:02.518Z"
   },
   {
    "duration": 10,
    "start_time": "2022-08-26T23:54:02.528Z"
   },
   {
    "duration": 7,
    "start_time": "2022-08-26T23:54:02.539Z"
   },
   {
    "duration": 6,
    "start_time": "2022-08-26T23:54:02.547Z"
   },
   {
    "duration": 37,
    "start_time": "2022-08-26T23:54:02.554Z"
   },
   {
    "duration": 8,
    "start_time": "2022-08-26T23:54:02.593Z"
   },
   {
    "duration": 14,
    "start_time": "2022-08-26T23:54:02.603Z"
   },
   {
    "duration": 16,
    "start_time": "2022-08-26T23:54:02.619Z"
   },
   {
    "duration": 14,
    "start_time": "2022-08-26T23:54:02.636Z"
   },
   {
    "duration": 40,
    "start_time": "2022-08-26T23:54:02.651Z"
   },
   {
    "duration": 361,
    "start_time": "2022-08-26T23:54:02.692Z"
   },
   {
    "duration": 13,
    "start_time": "2022-08-26T23:54:03.055Z"
   },
   {
    "duration": 308,
    "start_time": "2022-08-26T23:54:03.070Z"
   },
   {
    "duration": 6,
    "start_time": "2022-08-26T23:54:03.380Z"
   },
   {
    "duration": 408,
    "start_time": "2022-08-26T23:54:03.388Z"
   },
   {
    "duration": 356,
    "start_time": "2022-08-26T23:54:03.799Z"
   },
   {
    "duration": 28,
    "start_time": "2022-08-26T23:54:04.157Z"
   },
   {
    "duration": 267,
    "start_time": "2022-08-26T23:54:04.187Z"
   },
   {
    "duration": 226,
    "start_time": "2022-08-26T23:54:04.456Z"
   },
   {
    "duration": 146,
    "start_time": "2022-08-26T23:54:04.684Z"
   },
   {
    "duration": 136,
    "start_time": "2022-08-26T23:54:04.831Z"
   },
   {
    "duration": 18,
    "start_time": "2022-08-26T23:54:04.968Z"
   },
   {
    "duration": 153,
    "start_time": "2022-08-26T23:54:04.987Z"
   },
   {
    "duration": 147,
    "start_time": "2022-08-26T23:54:05.142Z"
   },
   {
    "duration": 12,
    "start_time": "2022-08-26T23:54:05.291Z"
   },
   {
    "duration": 184,
    "start_time": "2022-08-26T23:54:05.305Z"
   },
   {
    "duration": 176,
    "start_time": "2022-08-26T23:54:05.491Z"
   },
   {
    "duration": 180,
    "start_time": "2022-08-26T23:54:05.668Z"
   },
   {
    "duration": 569,
    "start_time": "2022-08-26T23:54:05.850Z"
   },
   {
    "duration": 507,
    "start_time": "2022-08-26T23:54:06.421Z"
   },
   {
    "duration": 100,
    "start_time": "2022-08-26T23:54:06.930Z"
   },
   {
    "duration": 0,
    "start_time": "2022-08-26T23:54:07.032Z"
   },
   {
    "duration": 0,
    "start_time": "2022-08-26T23:54:07.033Z"
   },
   {
    "duration": 141,
    "start_time": "2022-08-26T23:55:38.929Z"
   },
   {
    "duration": 134,
    "start_time": "2022-08-26T23:55:50.696Z"
   },
   {
    "duration": 11,
    "start_time": "2022-08-26T23:56:02.653Z"
   },
   {
    "duration": 136,
    "start_time": "2022-08-26T23:56:15.373Z"
   },
   {
    "duration": 157,
    "start_time": "2022-08-26T23:56:27.973Z"
   },
   {
    "duration": 15,
    "start_time": "2022-08-26T23:56:36.494Z"
   },
   {
    "duration": 16,
    "start_time": "2022-08-26T23:56:41.537Z"
   },
   {
    "duration": 1055,
    "start_time": "2022-08-26T23:57:37.942Z"
   },
   {
    "duration": 67,
    "start_time": "2022-08-26T23:57:39.000Z"
   },
   {
    "duration": 15,
    "start_time": "2022-08-26T23:57:39.068Z"
   },
   {
    "duration": 4,
    "start_time": "2022-08-26T23:57:39.084Z"
   },
   {
    "duration": 17,
    "start_time": "2022-08-26T23:57:39.091Z"
   },
   {
    "duration": 6,
    "start_time": "2022-08-26T23:57:39.109Z"
   },
   {
    "duration": 5,
    "start_time": "2022-08-26T23:57:39.117Z"
   },
   {
    "duration": 6,
    "start_time": "2022-08-26T23:57:39.123Z"
   },
   {
    "duration": 8,
    "start_time": "2022-08-26T23:57:39.131Z"
   },
   {
    "duration": 7,
    "start_time": "2022-08-26T23:57:39.140Z"
   },
   {
    "duration": 8,
    "start_time": "2022-08-26T23:57:39.185Z"
   },
   {
    "duration": 9,
    "start_time": "2022-08-26T23:57:39.195Z"
   },
   {
    "duration": 8,
    "start_time": "2022-08-26T23:57:39.205Z"
   },
   {
    "duration": 6,
    "start_time": "2022-08-26T23:57:39.217Z"
   },
   {
    "duration": 6,
    "start_time": "2022-08-26T23:57:39.225Z"
   },
   {
    "duration": 15,
    "start_time": "2022-08-26T23:57:39.232Z"
   },
   {
    "duration": 45,
    "start_time": "2022-08-26T23:57:39.248Z"
   },
   {
    "duration": 15,
    "start_time": "2022-08-26T23:57:39.295Z"
   },
   {
    "duration": 15,
    "start_time": "2022-08-26T23:57:39.312Z"
   },
   {
    "duration": 14,
    "start_time": "2022-08-26T23:57:39.329Z"
   },
   {
    "duration": 44,
    "start_time": "2022-08-26T23:57:39.344Z"
   },
   {
    "duration": 336,
    "start_time": "2022-08-26T23:57:39.389Z"
   },
   {
    "duration": 14,
    "start_time": "2022-08-26T23:57:39.726Z"
   },
   {
    "duration": 303,
    "start_time": "2022-08-26T23:57:39.741Z"
   },
   {
    "duration": 4,
    "start_time": "2022-08-26T23:57:40.046Z"
   },
   {
    "duration": 395,
    "start_time": "2022-08-26T23:57:40.052Z"
   },
   {
    "duration": 332,
    "start_time": "2022-08-26T23:57:40.449Z"
   },
   {
    "duration": 20,
    "start_time": "2022-08-26T23:57:40.783Z"
   },
   {
    "duration": 236,
    "start_time": "2022-08-26T23:57:40.805Z"
   },
   {
    "duration": 197,
    "start_time": "2022-08-26T23:57:41.043Z"
   },
   {
    "duration": 172,
    "start_time": "2022-08-26T23:57:41.242Z"
   },
   {
    "duration": 150,
    "start_time": "2022-08-26T23:57:41.415Z"
   },
   {
    "duration": 22,
    "start_time": "2022-08-26T23:57:41.567Z"
   },
   {
    "duration": 153,
    "start_time": "2022-08-26T23:57:41.591Z"
   },
   {
    "duration": 177,
    "start_time": "2022-08-26T23:57:41.746Z"
   },
   {
    "duration": 13,
    "start_time": "2022-08-26T23:57:41.925Z"
   },
   {
    "duration": 186,
    "start_time": "2022-08-26T23:57:41.939Z"
   },
   {
    "duration": 171,
    "start_time": "2022-08-26T23:57:42.127Z"
   },
   {
    "duration": 182,
    "start_time": "2022-08-26T23:57:42.300Z"
   },
   {
    "duration": 614,
    "start_time": "2022-08-26T23:57:42.483Z"
   },
   {
    "duration": 510,
    "start_time": "2022-08-26T23:57:43.101Z"
   },
   {
    "duration": 113,
    "start_time": "2022-08-26T23:57:43.613Z"
   },
   {
    "duration": 0,
    "start_time": "2022-08-26T23:57:43.727Z"
   },
   {
    "duration": 0,
    "start_time": "2022-08-26T23:57:43.728Z"
   },
   {
    "duration": 168,
    "start_time": "2022-08-27T00:02:20.494Z"
   },
   {
    "duration": 22,
    "start_time": "2022-08-27T00:03:11.694Z"
   },
   {
    "duration": 1141,
    "start_time": "2022-08-27T00:03:17.891Z"
   },
   {
    "duration": 63,
    "start_time": "2022-08-27T00:03:19.034Z"
   },
   {
    "duration": 13,
    "start_time": "2022-08-27T00:03:19.098Z"
   },
   {
    "duration": 3,
    "start_time": "2022-08-27T00:03:19.113Z"
   },
   {
    "duration": 24,
    "start_time": "2022-08-27T00:03:19.119Z"
   },
   {
    "duration": 14,
    "start_time": "2022-08-27T00:03:19.145Z"
   },
   {
    "duration": 6,
    "start_time": "2022-08-27T00:03:19.160Z"
   },
   {
    "duration": 19,
    "start_time": "2022-08-27T00:03:19.167Z"
   },
   {
    "duration": 8,
    "start_time": "2022-08-27T00:03:19.187Z"
   },
   {
    "duration": 7,
    "start_time": "2022-08-27T00:03:19.197Z"
   },
   {
    "duration": 7,
    "start_time": "2022-08-27T00:03:19.205Z"
   },
   {
    "duration": 9,
    "start_time": "2022-08-27T00:03:19.214Z"
   },
   {
    "duration": 7,
    "start_time": "2022-08-27T00:03:19.224Z"
   },
   {
    "duration": 5,
    "start_time": "2022-08-27T00:03:19.234Z"
   },
   {
    "duration": 48,
    "start_time": "2022-08-27T00:03:19.241Z"
   },
   {
    "duration": 13,
    "start_time": "2022-08-27T00:03:19.291Z"
   },
   {
    "duration": 7,
    "start_time": "2022-08-27T00:03:19.306Z"
   },
   {
    "duration": 13,
    "start_time": "2022-08-27T00:03:19.314Z"
   },
   {
    "duration": 14,
    "start_time": "2022-08-27T00:03:19.328Z"
   },
   {
    "duration": 42,
    "start_time": "2022-08-27T00:03:19.343Z"
   },
   {
    "duration": 13,
    "start_time": "2022-08-27T00:03:19.387Z"
   },
   {
    "duration": 326,
    "start_time": "2022-08-27T00:03:19.401Z"
   },
   {
    "duration": 13,
    "start_time": "2022-08-27T00:03:19.729Z"
   },
   {
    "duration": 306,
    "start_time": "2022-08-27T00:03:19.743Z"
   },
   {
    "duration": 4,
    "start_time": "2022-08-27T00:03:20.051Z"
   },
   {
    "duration": 379,
    "start_time": "2022-08-27T00:03:20.056Z"
   },
   {
    "duration": 347,
    "start_time": "2022-08-27T00:03:20.437Z"
   },
   {
    "duration": 19,
    "start_time": "2022-08-27T00:03:20.786Z"
   },
   {
    "duration": 260,
    "start_time": "2022-08-27T00:03:20.807Z"
   },
   {
    "duration": 213,
    "start_time": "2022-08-27T00:03:21.068Z"
   },
   {
    "duration": 137,
    "start_time": "2022-08-27T00:03:21.283Z"
   },
   {
    "duration": 136,
    "start_time": "2022-08-27T00:03:21.422Z"
   },
   {
    "duration": 11,
    "start_time": "2022-08-27T00:03:21.559Z"
   },
   {
    "duration": 144,
    "start_time": "2022-08-27T00:03:21.571Z"
   },
   {
    "duration": 145,
    "start_time": "2022-08-27T00:03:21.717Z"
   },
   {
    "duration": 11,
    "start_time": "2022-08-27T00:03:21.864Z"
   },
   {
    "duration": 176,
    "start_time": "2022-08-27T00:03:21.884Z"
   },
   {
    "duration": 177,
    "start_time": "2022-08-27T00:03:22.061Z"
   },
   {
    "duration": 187,
    "start_time": "2022-08-27T00:03:22.239Z"
   },
   {
    "duration": 589,
    "start_time": "2022-08-27T00:03:22.427Z"
   },
   {
    "duration": 483,
    "start_time": "2022-08-27T00:03:23.019Z"
   },
   {
    "duration": 183,
    "start_time": "2022-08-27T00:03:23.504Z"
   },
   {
    "duration": 8,
    "start_time": "2022-08-27T00:03:23.689Z"
   },
   {
    "duration": 9,
    "start_time": "2022-08-27T00:03:23.698Z"
   },
   {
    "duration": 21,
    "start_time": "2022-08-27T00:04:56.610Z"
   },
   {
    "duration": 23,
    "start_time": "2022-08-27T00:31:31.183Z"
   },
   {
    "duration": 4,
    "start_time": "2022-08-27T00:34:24.117Z"
   },
   {
    "duration": 86,
    "start_time": "2022-08-27T00:36:00.213Z"
   },
   {
    "duration": 17,
    "start_time": "2022-08-27T00:36:11.124Z"
   },
   {
    "duration": 1103,
    "start_time": "2022-08-27T00:36:16.962Z"
   },
   {
    "duration": 73,
    "start_time": "2022-08-27T00:36:18.067Z"
   },
   {
    "duration": 18,
    "start_time": "2022-08-27T00:36:18.142Z"
   },
   {
    "duration": 4,
    "start_time": "2022-08-27T00:36:18.161Z"
   },
   {
    "duration": 42,
    "start_time": "2022-08-27T00:36:18.168Z"
   },
   {
    "duration": 6,
    "start_time": "2022-08-27T00:36:18.212Z"
   },
   {
    "duration": 7,
    "start_time": "2022-08-27T00:36:18.219Z"
   },
   {
    "duration": 6,
    "start_time": "2022-08-27T00:36:18.228Z"
   },
   {
    "duration": 10,
    "start_time": "2022-08-27T00:36:18.236Z"
   },
   {
    "duration": 11,
    "start_time": "2022-08-27T00:36:18.247Z"
   },
   {
    "duration": 27,
    "start_time": "2022-08-27T00:36:18.260Z"
   },
   {
    "duration": 14,
    "start_time": "2022-08-27T00:36:18.288Z"
   },
   {
    "duration": 13,
    "start_time": "2022-08-27T00:36:18.304Z"
   },
   {
    "duration": 6,
    "start_time": "2022-08-27T00:36:18.320Z"
   },
   {
    "duration": 8,
    "start_time": "2022-08-27T00:36:18.328Z"
   },
   {
    "duration": 20,
    "start_time": "2022-08-27T00:36:18.337Z"
   },
   {
    "duration": 31,
    "start_time": "2022-08-27T00:36:18.359Z"
   },
   {
    "duration": 14,
    "start_time": "2022-08-27T00:36:18.392Z"
   },
   {
    "duration": 15,
    "start_time": "2022-08-27T00:36:18.408Z"
   },
   {
    "duration": 12,
    "start_time": "2022-08-27T00:36:18.425Z"
   },
   {
    "duration": 17,
    "start_time": "2022-08-27T00:36:18.438Z"
   },
   {
    "duration": 365,
    "start_time": "2022-08-27T00:36:18.457Z"
   },
   {
    "duration": 12,
    "start_time": "2022-08-27T00:36:18.824Z"
   },
   {
    "duration": 290,
    "start_time": "2022-08-27T00:36:18.838Z"
   },
   {
    "duration": 4,
    "start_time": "2022-08-27T00:36:19.130Z"
   },
   {
    "duration": 380,
    "start_time": "2022-08-27T00:36:19.135Z"
   },
   {
    "duration": 366,
    "start_time": "2022-08-27T00:36:19.517Z"
   },
   {
    "duration": 22,
    "start_time": "2022-08-27T00:36:19.884Z"
   },
   {
    "duration": 264,
    "start_time": "2022-08-27T00:36:19.907Z"
   },
   {
    "duration": 198,
    "start_time": "2022-08-27T00:36:20.173Z"
   },
   {
    "duration": 151,
    "start_time": "2022-08-27T00:36:20.373Z"
   },
   {
    "duration": 146,
    "start_time": "2022-08-27T00:36:20.526Z"
   },
   {
    "duration": 19,
    "start_time": "2022-08-27T00:36:20.673Z"
   },
   {
    "duration": 151,
    "start_time": "2022-08-27T00:36:20.694Z"
   },
   {
    "duration": 151,
    "start_time": "2022-08-27T00:36:20.847Z"
   },
   {
    "duration": 15,
    "start_time": "2022-08-27T00:36:21.000Z"
   },
   {
    "duration": 243,
    "start_time": "2022-08-27T00:36:21.017Z"
   },
   {
    "duration": 190,
    "start_time": "2022-08-27T00:36:21.262Z"
   },
   {
    "duration": 202,
    "start_time": "2022-08-27T00:36:21.453Z"
   },
   {
    "duration": 628,
    "start_time": "2022-08-27T00:36:21.657Z"
   },
   {
    "duration": 1095,
    "start_time": "2022-08-27T00:36:22.290Z"
   },
   {
    "duration": 345,
    "start_time": "2022-08-27T00:36:23.387Z"
   },
   {
    "duration": 8,
    "start_time": "2022-08-27T00:36:23.786Z"
   },
   {
    "duration": 14,
    "start_time": "2022-08-27T00:36:23.796Z"
   },
   {
    "duration": 107,
    "start_time": "2022-08-27T01:16:51.183Z"
   },
   {
    "duration": 292,
    "start_time": "2022-08-27T01:16:58.623Z"
   },
   {
    "duration": 117,
    "start_time": "2022-08-27T01:18:00.727Z"
   },
   {
    "duration": 285,
    "start_time": "2022-08-27T01:18:16.985Z"
   },
   {
    "duration": 299,
    "start_time": "2022-08-27T01:19:37.619Z"
   },
   {
    "duration": 388,
    "start_time": "2022-08-27T01:20:17.777Z"
   },
   {
    "duration": 276,
    "start_time": "2022-08-27T01:22:09.593Z"
   },
   {
    "duration": 20,
    "start_time": "2022-08-27T01:22:53.802Z"
   },
   {
    "duration": 148,
    "start_time": "2022-08-27T01:23:43.193Z"
   },
   {
    "duration": 137,
    "start_time": "2022-08-27T01:24:12.514Z"
   },
   {
    "duration": 156,
    "start_time": "2022-08-27T01:24:40.323Z"
   },
   {
    "duration": 197,
    "start_time": "2022-08-27T01:25:24.234Z"
   },
   {
    "duration": 337,
    "start_time": "2022-08-27T01:26:21.162Z"
   },
   {
    "duration": 44,
    "start_time": "2022-08-27T21:37:56.486Z"
   },
   {
    "duration": 8,
    "start_time": "2022-08-27T21:38:04.834Z"
   },
   {
    "duration": 1340,
    "start_time": "2022-08-27T21:38:10.567Z"
   },
   {
    "duration": 104,
    "start_time": "2022-08-27T21:38:11.909Z"
   },
   {
    "duration": 13,
    "start_time": "2022-08-27T21:38:12.015Z"
   },
   {
    "duration": 4,
    "start_time": "2022-08-27T21:38:12.030Z"
   },
   {
    "duration": 22,
    "start_time": "2022-08-27T21:38:12.036Z"
   },
   {
    "duration": 4,
    "start_time": "2022-08-27T21:38:12.060Z"
   },
   {
    "duration": 6,
    "start_time": "2022-08-27T21:38:12.066Z"
   },
   {
    "duration": 16,
    "start_time": "2022-08-27T21:38:12.074Z"
   },
   {
    "duration": 8,
    "start_time": "2022-08-27T21:38:12.091Z"
   },
   {
    "duration": 8,
    "start_time": "2022-08-27T21:38:12.101Z"
   },
   {
    "duration": 10,
    "start_time": "2022-08-27T21:38:12.111Z"
   },
   {
    "duration": 13,
    "start_time": "2022-08-27T21:38:12.127Z"
   },
   {
    "duration": 9,
    "start_time": "2022-08-27T21:38:12.143Z"
   },
   {
    "duration": 32,
    "start_time": "2022-08-27T21:38:12.154Z"
   },
   {
    "duration": 7,
    "start_time": "2022-08-27T21:38:12.188Z"
   },
   {
    "duration": 13,
    "start_time": "2022-08-27T21:38:12.197Z"
   },
   {
    "duration": 10,
    "start_time": "2022-08-27T21:38:12.212Z"
   },
   {
    "duration": 12,
    "start_time": "2022-08-27T21:38:12.224Z"
   },
   {
    "duration": 15,
    "start_time": "2022-08-27T21:38:12.237Z"
   },
   {
    "duration": 40,
    "start_time": "2022-08-27T21:38:12.254Z"
   },
   {
    "duration": 14,
    "start_time": "2022-08-27T21:38:12.296Z"
   },
   {
    "duration": 327,
    "start_time": "2022-08-27T21:38:12.312Z"
   },
   {
    "duration": 13,
    "start_time": "2022-08-27T21:38:12.640Z"
   },
   {
    "duration": 358,
    "start_time": "2022-08-27T21:38:12.655Z"
   },
   {
    "duration": 4,
    "start_time": "2022-08-27T21:38:13.015Z"
   },
   {
    "duration": 423,
    "start_time": "2022-08-27T21:38:13.021Z"
   },
   {
    "duration": 356,
    "start_time": "2022-08-27T21:38:13.446Z"
   },
   {
    "duration": 28,
    "start_time": "2022-08-27T21:38:13.806Z"
   },
   {
    "duration": 69,
    "start_time": "2022-08-27T21:38:13.836Z"
   },
   {
    "duration": 263,
    "start_time": "2022-08-27T21:38:13.907Z"
   },
   {
    "duration": 195,
    "start_time": "2022-08-27T21:38:14.172Z"
   },
   {
    "duration": 198,
    "start_time": "2022-08-27T21:38:14.370Z"
   },
   {
    "duration": 184,
    "start_time": "2022-08-27T21:38:14.570Z"
   },
   {
    "duration": 13,
    "start_time": "2022-08-27T21:38:14.755Z"
   },
   {
    "duration": 166,
    "start_time": "2022-08-27T21:38:14.770Z"
   },
   {
    "duration": 163,
    "start_time": "2022-08-27T21:38:14.937Z"
   },
   {
    "duration": 19,
    "start_time": "2022-08-27T21:38:15.101Z"
   },
   {
    "duration": 205,
    "start_time": "2022-08-27T21:38:15.123Z"
   },
   {
    "duration": 181,
    "start_time": "2022-08-27T21:38:15.329Z"
   },
   {
    "duration": 204,
    "start_time": "2022-08-27T21:38:15.512Z"
   },
   {
    "duration": 588,
    "start_time": "2022-08-27T21:38:15.717Z"
   },
   {
    "duration": 531,
    "start_time": "2022-08-27T21:38:16.307Z"
   },
   {
    "duration": 193,
    "start_time": "2022-08-27T21:38:16.840Z"
   },
   {
    "duration": 7,
    "start_time": "2022-08-27T21:38:17.035Z"
   },
   {
    "duration": 12,
    "start_time": "2022-08-27T21:38:17.044Z"
   },
   {
    "duration": 21,
    "start_time": "2022-08-27T21:39:50.995Z"
   },
   {
    "duration": 16,
    "start_time": "2022-08-27T21:40:12.793Z"
   },
   {
    "duration": 28,
    "start_time": "2022-08-27T21:40:20.743Z"
   },
   {
    "duration": 7,
    "start_time": "2022-08-27T21:40:29.781Z"
   },
   {
    "duration": 6,
    "start_time": "2022-08-27T21:41:03.895Z"
   },
   {
    "duration": 187,
    "start_time": "2022-08-27T21:42:05.839Z"
   },
   {
    "duration": 219,
    "start_time": "2022-08-27T21:42:30.248Z"
   },
   {
    "duration": 217,
    "start_time": "2022-08-27T21:44:08.581Z"
   },
   {
    "duration": 324,
    "start_time": "2022-08-27T21:44:21.982Z"
   },
   {
    "duration": 150,
    "start_time": "2022-08-27T22:24:08.599Z"
   },
   {
    "duration": 141,
    "start_time": "2022-08-27T22:24:28.886Z"
   },
   {
    "duration": 11,
    "start_time": "2022-08-27T22:24:37.546Z"
   },
   {
    "duration": 10,
    "start_time": "2022-08-27T22:27:28.352Z"
   },
   {
    "duration": 11,
    "start_time": "2022-08-27T22:27:43.736Z"
   },
   {
    "duration": 146,
    "start_time": "2022-08-27T22:27:56.413Z"
   },
   {
    "duration": 148,
    "start_time": "2022-08-27T22:28:10.692Z"
   },
   {
    "duration": 156,
    "start_time": "2022-08-27T22:28:28.997Z"
   },
   {
    "duration": 158,
    "start_time": "2022-08-27T22:28:34.212Z"
   },
   {
    "duration": 253,
    "start_time": "2022-08-27T22:49:19.337Z"
   },
   {
    "duration": 303,
    "start_time": "2022-08-27T22:49:46.730Z"
   },
   {
    "duration": 356,
    "start_time": "2022-08-27T22:49:56.617Z"
   },
   {
    "duration": 272,
    "start_time": "2022-08-27T22:50:21.099Z"
   },
   {
    "duration": 263,
    "start_time": "2022-08-27T22:50:58.217Z"
   },
   {
    "duration": 260,
    "start_time": "2022-08-27T22:51:17.819Z"
   },
   {
    "duration": 268,
    "start_time": "2022-08-27T22:51:23.742Z"
   },
   {
    "duration": 346,
    "start_time": "2022-08-27T22:51:31.611Z"
   },
   {
    "duration": 278,
    "start_time": "2022-08-27T22:51:40.017Z"
   },
   {
    "duration": 306,
    "start_time": "2022-08-27T22:51:47.026Z"
   },
   {
    "duration": 257,
    "start_time": "2022-08-27T22:51:56.529Z"
   },
   {
    "duration": 305,
    "start_time": "2022-08-27T22:52:06.074Z"
   },
   {
    "duration": 288,
    "start_time": "2022-08-27T22:52:40.105Z"
   },
   {
    "duration": 95,
    "start_time": "2022-08-27T22:52:56.912Z"
   },
   {
    "duration": 344,
    "start_time": "2022-08-27T22:53:20.108Z"
   },
   {
    "duration": 270,
    "start_time": "2022-08-27T22:53:36.538Z"
   },
   {
    "duration": 271,
    "start_time": "2022-08-27T22:53:44.618Z"
   },
   {
    "duration": 239,
    "start_time": "2022-08-27T22:53:57.584Z"
   },
   {
    "duration": 276,
    "start_time": "2022-08-27T22:54:05.018Z"
   },
   {
    "duration": 329,
    "start_time": "2022-08-27T22:54:20.388Z"
   },
   {
    "duration": 256,
    "start_time": "2022-08-27T22:54:26.115Z"
   },
   {
    "duration": 269,
    "start_time": "2022-08-27T22:54:39.897Z"
   },
   {
    "duration": 194,
    "start_time": "2022-08-27T23:04:00.977Z"
   },
   {
    "duration": 1038,
    "start_time": "2022-08-27T23:04:23.013Z"
   },
   {
    "duration": 66,
    "start_time": "2022-08-27T23:04:24.053Z"
   },
   {
    "duration": 15,
    "start_time": "2022-08-27T23:04:24.120Z"
   },
   {
    "duration": 3,
    "start_time": "2022-08-27T23:04:24.137Z"
   },
   {
    "duration": 26,
    "start_time": "2022-08-27T23:04:24.142Z"
   },
   {
    "duration": 5,
    "start_time": "2022-08-27T23:04:24.184Z"
   },
   {
    "duration": 14,
    "start_time": "2022-08-27T23:04:24.191Z"
   },
   {
    "duration": 10,
    "start_time": "2022-08-27T23:04:24.207Z"
   },
   {
    "duration": 10,
    "start_time": "2022-08-27T23:04:24.219Z"
   },
   {
    "duration": 5,
    "start_time": "2022-08-27T23:04:24.232Z"
   },
   {
    "duration": 8,
    "start_time": "2022-08-27T23:04:24.238Z"
   },
   {
    "duration": 8,
    "start_time": "2022-08-27T23:04:24.247Z"
   },
   {
    "duration": 6,
    "start_time": "2022-08-27T23:04:24.257Z"
   },
   {
    "duration": 7,
    "start_time": "2022-08-27T23:04:24.285Z"
   },
   {
    "duration": 14,
    "start_time": "2022-08-27T23:04:24.293Z"
   },
   {
    "duration": 15,
    "start_time": "2022-08-27T23:04:24.308Z"
   },
   {
    "duration": 8,
    "start_time": "2022-08-27T23:04:24.324Z"
   },
   {
    "duration": 18,
    "start_time": "2022-08-27T23:04:24.333Z"
   },
   {
    "duration": 15,
    "start_time": "2022-08-27T23:04:24.353Z"
   },
   {
    "duration": 14,
    "start_time": "2022-08-27T23:04:24.384Z"
   },
   {
    "duration": 21,
    "start_time": "2022-08-27T23:04:24.400Z"
   },
   {
    "duration": 381,
    "start_time": "2022-08-27T23:04:24.423Z"
   },
   {
    "duration": 14,
    "start_time": "2022-08-27T23:04:24.806Z"
   },
   {
    "duration": 293,
    "start_time": "2022-08-27T23:04:24.821Z"
   },
   {
    "duration": 5,
    "start_time": "2022-08-27T23:04:25.115Z"
   },
   {
    "duration": 361,
    "start_time": "2022-08-27T23:04:25.122Z"
   },
   {
    "duration": 357,
    "start_time": "2022-08-27T23:04:25.485Z"
   },
   {
    "duration": 40,
    "start_time": "2022-08-27T23:04:25.846Z"
   },
   {
    "duration": 5,
    "start_time": "2022-08-27T23:04:25.887Z"
   },
   {
    "duration": 305,
    "start_time": "2022-08-27T23:04:25.894Z"
   },
   {
    "duration": 229,
    "start_time": "2022-08-27T23:04:26.200Z"
   },
   {
    "duration": 155,
    "start_time": "2022-08-27T23:04:26.431Z"
   },
   {
    "duration": 154,
    "start_time": "2022-08-27T23:04:26.588Z"
   },
   {
    "duration": 11,
    "start_time": "2022-08-27T23:04:26.743Z"
   },
   {
    "duration": 164,
    "start_time": "2022-08-27T23:04:26.756Z"
   },
   {
    "duration": 150,
    "start_time": "2022-08-27T23:04:26.922Z"
   },
   {
    "duration": 18,
    "start_time": "2022-08-27T23:04:27.073Z"
   },
   {
    "duration": 190,
    "start_time": "2022-08-27T23:04:27.092Z"
   },
   {
    "duration": 177,
    "start_time": "2022-08-27T23:04:27.283Z"
   },
   {
    "duration": 190,
    "start_time": "2022-08-27T23:04:27.462Z"
   },
   {
    "duration": 345,
    "start_time": "2022-08-27T23:04:27.654Z"
   },
   {
    "duration": 286,
    "start_time": "2022-08-27T23:04:28.001Z"
   },
   {
    "duration": 602,
    "start_time": "2022-08-27T23:04:28.288Z"
   },
   {
    "duration": 512,
    "start_time": "2022-08-27T23:04:28.892Z"
   },
   {
    "duration": 198,
    "start_time": "2022-08-27T23:04:29.406Z"
   },
   {
    "duration": 9,
    "start_time": "2022-08-27T23:04:29.606Z"
   },
   {
    "duration": 22,
    "start_time": "2022-08-27T23:04:29.617Z"
   },
   {
    "duration": 2503,
    "start_time": "2022-08-28T00:02:23.815Z"
   },
   {
    "duration": 422,
    "start_time": "2022-08-28T00:03:54.302Z"
   },
   {
    "duration": 9,
    "start_time": "2022-08-28T00:05:11.553Z"
   },
   {
    "duration": 382,
    "start_time": "2022-08-28T00:05:13.764Z"
   },
   {
    "duration": 500,
    "start_time": "2022-08-28T00:05:56.507Z"
   },
   {
    "duration": 412,
    "start_time": "2022-08-28T00:06:11.983Z"
   },
   {
    "duration": 4,
    "start_time": "2022-08-28T00:13:27.342Z"
   },
   {
    "duration": 285,
    "start_time": "2022-08-28T00:13:29.643Z"
   },
   {
    "duration": 1098,
    "start_time": "2022-08-28T00:13:42.103Z"
   },
   {
    "duration": 65,
    "start_time": "2022-08-28T00:13:43.203Z"
   },
   {
    "duration": 14,
    "start_time": "2022-08-28T00:13:43.269Z"
   },
   {
    "duration": 12,
    "start_time": "2022-08-28T00:13:43.285Z"
   },
   {
    "duration": 23,
    "start_time": "2022-08-28T00:13:43.301Z"
   },
   {
    "duration": 5,
    "start_time": "2022-08-28T00:13:43.326Z"
   },
   {
    "duration": 6,
    "start_time": "2022-08-28T00:13:43.332Z"
   },
   {
    "duration": 12,
    "start_time": "2022-08-28T00:13:43.339Z"
   },
   {
    "duration": 8,
    "start_time": "2022-08-28T00:13:43.352Z"
   },
   {
    "duration": 5,
    "start_time": "2022-08-28T00:13:43.363Z"
   },
   {
    "duration": 20,
    "start_time": "2022-08-28T00:13:43.370Z"
   },
   {
    "duration": 18,
    "start_time": "2022-08-28T00:13:43.392Z"
   },
   {
    "duration": 7,
    "start_time": "2022-08-28T00:13:43.411Z"
   },
   {
    "duration": 6,
    "start_time": "2022-08-28T00:13:43.419Z"
   },
   {
    "duration": 8,
    "start_time": "2022-08-28T00:13:43.426Z"
   },
   {
    "duration": 15,
    "start_time": "2022-08-28T00:13:43.436Z"
   },
   {
    "duration": 37,
    "start_time": "2022-08-28T00:13:43.452Z"
   },
   {
    "duration": 18,
    "start_time": "2022-08-28T00:13:43.490Z"
   },
   {
    "duration": 19,
    "start_time": "2022-08-28T00:13:43.509Z"
   },
   {
    "duration": 11,
    "start_time": "2022-08-28T00:13:43.529Z"
   },
   {
    "duration": 16,
    "start_time": "2022-08-28T00:13:43.542Z"
   },
   {
    "duration": 358,
    "start_time": "2022-08-28T00:13:43.560Z"
   },
   {
    "duration": 11,
    "start_time": "2022-08-28T00:13:43.920Z"
   },
   {
    "duration": 321,
    "start_time": "2022-08-28T00:13:43.932Z"
   },
   {
    "duration": 4,
    "start_time": "2022-08-28T00:13:44.255Z"
   },
   {
    "duration": 462,
    "start_time": "2022-08-28T00:13:44.261Z"
   },
   {
    "duration": 347,
    "start_time": "2022-08-28T00:13:44.726Z"
   },
   {
    "duration": 37,
    "start_time": "2022-08-28T00:13:45.076Z"
   },
   {
    "duration": 4,
    "start_time": "2022-08-28T00:13:45.115Z"
   },
   {
    "duration": 295,
    "start_time": "2022-08-28T00:13:45.121Z"
   },
   {
    "duration": 233,
    "start_time": "2022-08-28T00:13:45.417Z"
   },
   {
    "duration": 166,
    "start_time": "2022-08-28T00:13:45.652Z"
   },
   {
    "duration": 153,
    "start_time": "2022-08-28T00:13:45.820Z"
   },
   {
    "duration": 18,
    "start_time": "2022-08-28T00:13:45.985Z"
   },
   {
    "duration": 155,
    "start_time": "2022-08-28T00:13:46.004Z"
   },
   {
    "duration": 172,
    "start_time": "2022-08-28T00:13:46.161Z"
   },
   {
    "duration": 12,
    "start_time": "2022-08-28T00:13:46.335Z"
   },
   {
    "duration": 199,
    "start_time": "2022-08-28T00:13:46.349Z"
   },
   {
    "duration": 181,
    "start_time": "2022-08-28T00:13:46.549Z"
   },
   {
    "duration": 186,
    "start_time": "2022-08-28T00:13:46.732Z"
   },
   {
    "duration": 346,
    "start_time": "2022-08-28T00:13:46.920Z"
   },
   {
    "duration": 298,
    "start_time": "2022-08-28T00:13:47.267Z"
   },
   {
    "duration": 4,
    "start_time": "2022-08-28T00:13:47.567Z"
   },
   {
    "duration": 403,
    "start_time": "2022-08-28T00:13:47.573Z"
   },
   {
    "duration": 0,
    "start_time": "2022-08-28T00:13:47.977Z"
   },
   {
    "duration": 0,
    "start_time": "2022-08-28T00:13:47.978Z"
   },
   {
    "duration": 0,
    "start_time": "2022-08-28T00:13:47.987Z"
   },
   {
    "duration": 0,
    "start_time": "2022-08-28T00:13:47.987Z"
   },
   {
    "duration": 0,
    "start_time": "2022-08-28T00:13:47.988Z"
   },
   {
    "duration": 6,
    "start_time": "2022-08-28T00:14:49.877Z"
   },
   {
    "duration": 312,
    "start_time": "2022-08-28T00:14:52.701Z"
   },
   {
    "duration": 4,
    "start_time": "2022-08-28T00:16:21.265Z"
   },
   {
    "duration": 6,
    "start_time": "2022-08-28T00:18:43.759Z"
   },
   {
    "duration": 295,
    "start_time": "2022-08-28T00:18:46.074Z"
   },
   {
    "duration": 7,
    "start_time": "2022-08-28T00:19:17.750Z"
   },
   {
    "duration": 414,
    "start_time": "2022-08-28T00:19:20.144Z"
   },
   {
    "duration": 4,
    "start_time": "2022-08-28T00:19:46.854Z"
   },
   {
    "duration": 523,
    "start_time": "2022-08-28T00:19:48.936Z"
   },
   {
    "duration": 4,
    "start_time": "2022-08-28T00:19:55.459Z"
   },
   {
    "duration": 372,
    "start_time": "2022-08-28T00:19:57.808Z"
   },
   {
    "duration": 10,
    "start_time": "2022-08-28T00:29:26.700Z"
   },
   {
    "duration": 1159,
    "start_time": "2022-08-28T00:29:35.914Z"
   },
   {
    "duration": 80,
    "start_time": "2022-08-28T00:29:37.074Z"
   },
   {
    "duration": 20,
    "start_time": "2022-08-28T00:29:37.156Z"
   },
   {
    "duration": 4,
    "start_time": "2022-08-28T00:29:37.178Z"
   },
   {
    "duration": 39,
    "start_time": "2022-08-28T00:29:37.184Z"
   },
   {
    "duration": 4,
    "start_time": "2022-08-28T00:29:37.225Z"
   },
   {
    "duration": 6,
    "start_time": "2022-08-28T00:29:37.231Z"
   },
   {
    "duration": 13,
    "start_time": "2022-08-28T00:29:37.239Z"
   },
   {
    "duration": 11,
    "start_time": "2022-08-28T00:29:37.254Z"
   },
   {
    "duration": 11,
    "start_time": "2022-08-28T00:29:37.269Z"
   },
   {
    "duration": 29,
    "start_time": "2022-08-28T00:29:37.282Z"
   },
   {
    "duration": 22,
    "start_time": "2022-08-28T00:29:37.313Z"
   },
   {
    "duration": 25,
    "start_time": "2022-08-28T00:29:37.337Z"
   },
   {
    "duration": 15,
    "start_time": "2022-08-28T00:29:37.364Z"
   },
   {
    "duration": 36,
    "start_time": "2022-08-28T00:29:37.380Z"
   },
   {
    "duration": 24,
    "start_time": "2022-08-28T00:29:37.418Z"
   },
   {
    "duration": 8,
    "start_time": "2022-08-28T00:29:37.444Z"
   },
   {
    "duration": 26,
    "start_time": "2022-08-28T00:29:37.453Z"
   },
   {
    "duration": 30,
    "start_time": "2022-08-28T00:29:37.481Z"
   },
   {
    "duration": 40,
    "start_time": "2022-08-28T00:29:37.514Z"
   },
   {
    "duration": 21,
    "start_time": "2022-08-28T00:29:37.555Z"
   },
   {
    "duration": 373,
    "start_time": "2022-08-28T00:29:37.577Z"
   },
   {
    "duration": 13,
    "start_time": "2022-08-28T00:29:37.952Z"
   },
   {
    "duration": 339,
    "start_time": "2022-08-28T00:29:37.967Z"
   },
   {
    "duration": 5,
    "start_time": "2022-08-28T00:29:38.308Z"
   },
   {
    "duration": 449,
    "start_time": "2022-08-28T00:29:38.314Z"
   },
   {
    "duration": 369,
    "start_time": "2022-08-28T00:29:38.765Z"
   },
   {
    "duration": 53,
    "start_time": "2022-08-28T00:29:39.139Z"
   },
   {
    "duration": 10,
    "start_time": "2022-08-28T00:29:39.195Z"
   },
   {
    "duration": 312,
    "start_time": "2022-08-28T00:29:39.206Z"
   },
   {
    "duration": 246,
    "start_time": "2022-08-28T00:29:39.519Z"
   },
   {
    "duration": 184,
    "start_time": "2022-08-28T00:29:39.766Z"
   },
   {
    "duration": 173,
    "start_time": "2022-08-28T00:29:39.952Z"
   },
   {
    "duration": 15,
    "start_time": "2022-08-28T00:29:40.127Z"
   },
   {
    "duration": 212,
    "start_time": "2022-08-28T00:29:40.143Z"
   },
   {
    "duration": 188,
    "start_time": "2022-08-28T00:29:40.357Z"
   },
   {
    "duration": 12,
    "start_time": "2022-08-28T00:29:40.546Z"
   },
   {
    "duration": 200,
    "start_time": "2022-08-28T00:29:40.560Z"
   },
   {
    "duration": 231,
    "start_time": "2022-08-28T00:29:40.761Z"
   },
   {
    "duration": 412,
    "start_time": "2022-08-28T00:29:40.993Z"
   },
   {
    "duration": 819,
    "start_time": "2022-08-28T00:29:41.408Z"
   },
   {
    "duration": 677,
    "start_time": "2022-08-28T00:29:42.228Z"
   },
   {
    "duration": 6,
    "start_time": "2022-08-28T00:29:42.907Z"
   },
   {
    "duration": 217,
    "start_time": "2022-08-28T00:29:42.914Z"
   },
   {
    "duration": 0,
    "start_time": "2022-08-28T00:29:43.133Z"
   },
   {
    "duration": 0,
    "start_time": "2022-08-28T00:29:43.135Z"
   },
   {
    "duration": 0,
    "start_time": "2022-08-28T00:29:43.137Z"
   },
   {
    "duration": 0,
    "start_time": "2022-08-28T00:29:43.138Z"
   },
   {
    "duration": 0,
    "start_time": "2022-08-28T00:29:43.140Z"
   },
   {
    "duration": 0,
    "start_time": "2022-08-28T00:29:43.141Z"
   },
   {
    "duration": 0,
    "start_time": "2022-08-28T00:29:43.143Z"
   },
   {
    "duration": 372,
    "start_time": "2022-08-28T00:29:54.674Z"
   },
   {
    "duration": 5,
    "start_time": "2022-08-28T00:29:58.050Z"
   },
   {
    "duration": 10,
    "start_time": "2022-08-28T00:30:11.543Z"
   },
   {
    "duration": 9,
    "start_time": "2022-08-28T00:30:40.916Z"
   },
   {
    "duration": 6,
    "start_time": "2022-08-28T00:32:01.785Z"
   },
   {
    "duration": 315,
    "start_time": "2022-08-28T00:32:03.585Z"
   },
   {
    "duration": 4,
    "start_time": "2022-08-28T00:32:15.022Z"
   },
   {
    "duration": 4,
    "start_time": "2022-08-28T00:32:33.171Z"
   },
   {
    "duration": 383,
    "start_time": "2022-08-28T00:32:35.354Z"
   },
   {
    "duration": 4,
    "start_time": "2022-08-28T00:38:58.203Z"
   },
   {
    "duration": 565,
    "start_time": "2022-08-28T00:38:59.876Z"
   },
   {
    "duration": 297,
    "start_time": "2022-08-28T00:39:39.367Z"
   },
   {
    "duration": 7,
    "start_time": "2022-08-28T00:39:42.011Z"
   },
   {
    "duration": 427,
    "start_time": "2022-08-28T00:39:44.106Z"
   },
   {
    "duration": 5,
    "start_time": "2022-08-28T00:40:33.556Z"
   },
   {
    "duration": 443,
    "start_time": "2022-08-28T00:40:35.596Z"
   },
   {
    "duration": 5,
    "start_time": "2022-08-28T00:40:59.018Z"
   },
   {
    "duration": 417,
    "start_time": "2022-08-28T00:41:01.215Z"
   },
   {
    "duration": 5,
    "start_time": "2022-08-28T00:41:21.052Z"
   },
   {
    "duration": 286,
    "start_time": "2022-08-28T00:41:24.208Z"
   },
   {
    "duration": 6,
    "start_time": "2022-08-28T00:41:29.066Z"
   },
   {
    "duration": 512,
    "start_time": "2022-08-28T00:41:30.705Z"
   },
   {
    "duration": 5,
    "start_time": "2022-08-28T00:41:50.007Z"
   },
   {
    "duration": 389,
    "start_time": "2022-08-28T00:41:51.223Z"
   },
   {
    "duration": 5,
    "start_time": "2022-08-28T00:41:58.976Z"
   },
   {
    "duration": 384,
    "start_time": "2022-08-28T00:41:59.971Z"
   },
   {
    "duration": 5,
    "start_time": "2022-08-28T00:42:35.697Z"
   },
   {
    "duration": 393,
    "start_time": "2022-08-28T00:42:36.854Z"
   },
   {
    "duration": 6,
    "start_time": "2022-08-28T00:42:48.200Z"
   },
   {
    "duration": 429,
    "start_time": "2022-08-28T00:42:49.638Z"
   },
   {
    "duration": 4,
    "start_time": "2022-08-28T00:43:09.103Z"
   },
   {
    "duration": 342,
    "start_time": "2022-08-28T00:43:10.779Z"
   },
   {
    "duration": 6,
    "start_time": "2022-08-28T00:43:16.905Z"
   },
   {
    "duration": 502,
    "start_time": "2022-08-28T00:43:17.700Z"
   },
   {
    "duration": 6,
    "start_time": "2022-08-28T00:43:43.516Z"
   },
   {
    "duration": 384,
    "start_time": "2022-08-28T00:43:45.019Z"
   },
   {
    "duration": 4,
    "start_time": "2022-08-28T00:43:58.766Z"
   },
   {
    "duration": 390,
    "start_time": "2022-08-28T00:43:59.607Z"
   },
   {
    "duration": 5,
    "start_time": "2022-08-28T00:44:33.225Z"
   },
   {
    "duration": 375,
    "start_time": "2022-08-28T00:44:33.847Z"
   },
   {
    "duration": 4,
    "start_time": "2022-08-28T00:44:48.464Z"
   },
   {
    "duration": 374,
    "start_time": "2022-08-28T00:44:49.007Z"
   },
   {
    "duration": 5,
    "start_time": "2022-08-28T00:45:14.476Z"
   },
   {
    "duration": 473,
    "start_time": "2022-08-28T00:45:15.739Z"
   },
   {
    "duration": 5,
    "start_time": "2022-08-28T00:45:36.636Z"
   },
   {
    "duration": 372,
    "start_time": "2022-08-28T00:45:38.457Z"
   },
   {
    "duration": 5,
    "start_time": "2022-08-28T00:45:53.762Z"
   },
   {
    "duration": 879,
    "start_time": "2022-08-28T00:45:55.059Z"
   },
   {
    "duration": 4,
    "start_time": "2022-08-28T00:46:06.518Z"
   },
   {
    "duration": 368,
    "start_time": "2022-08-28T00:46:08.257Z"
   },
   {
    "duration": 4,
    "start_time": "2022-08-28T00:46:30.658Z"
   },
   {
    "duration": 389,
    "start_time": "2022-08-28T00:46:32.207Z"
   },
   {
    "duration": 5,
    "start_time": "2022-08-28T00:46:57.900Z"
   },
   {
    "duration": 313,
    "start_time": "2022-08-28T00:46:59.057Z"
   },
   {
    "duration": 6,
    "start_time": "2022-08-28T00:47:06.125Z"
   },
   {
    "duration": 508,
    "start_time": "2022-08-28T00:47:07.663Z"
   },
   {
    "duration": 5,
    "start_time": "2022-08-28T00:49:00.917Z"
   },
   {
    "duration": 382,
    "start_time": "2022-08-28T00:49:02.643Z"
   },
   {
    "duration": 5,
    "start_time": "2022-08-28T00:49:37.216Z"
   },
   {
    "duration": 399,
    "start_time": "2022-08-28T00:49:38.011Z"
   },
   {
    "duration": 5,
    "start_time": "2022-08-28T00:50:26.601Z"
   },
   {
    "duration": 405,
    "start_time": "2022-08-28T00:50:28.562Z"
   },
   {
    "duration": 6,
    "start_time": "2022-08-28T00:51:42.569Z"
   },
   {
    "duration": 415,
    "start_time": "2022-08-28T00:51:43.823Z"
   },
   {
    "duration": 5,
    "start_time": "2022-08-28T00:51:59.648Z"
   },
   {
    "duration": 469,
    "start_time": "2022-08-28T00:52:01.119Z"
   },
   {
    "duration": 5,
    "start_time": "2022-08-28T00:52:18.806Z"
   },
   {
    "duration": 374,
    "start_time": "2022-08-28T00:52:20.002Z"
   },
   {
    "duration": 6,
    "start_time": "2022-08-28T00:52:51.409Z"
   },
   {
    "duration": 399,
    "start_time": "2022-08-28T00:52:53.179Z"
   },
   {
    "duration": 5,
    "start_time": "2022-08-28T00:53:57.366Z"
   },
   {
    "duration": 384,
    "start_time": "2022-08-28T00:53:58.360Z"
   },
   {
    "duration": 4,
    "start_time": "2022-08-28T00:54:12.060Z"
   },
   {
    "duration": 259,
    "start_time": "2022-08-28T00:54:41.011Z"
   },
   {
    "duration": 5,
    "start_time": "2022-08-28T00:54:43.928Z"
   },
   {
    "duration": 421,
    "start_time": "2022-08-28T00:54:46.380Z"
   },
   {
    "duration": 5,
    "start_time": "2022-08-28T01:12:00.156Z"
   },
   {
    "duration": 546,
    "start_time": "2022-08-28T01:12:00.857Z"
   },
   {
    "duration": 11,
    "start_time": "2022-08-28T01:37:50.065Z"
   },
   {
    "duration": 1184,
    "start_time": "2022-08-28T01:37:56.986Z"
   },
   {
    "duration": 67,
    "start_time": "2022-08-28T01:37:58.171Z"
   },
   {
    "duration": 16,
    "start_time": "2022-08-28T01:37:58.240Z"
   },
   {
    "duration": 4,
    "start_time": "2022-08-28T01:37:58.259Z"
   },
   {
    "duration": 28,
    "start_time": "2022-08-28T01:37:58.265Z"
   },
   {
    "duration": 5,
    "start_time": "2022-08-28T01:37:58.295Z"
   },
   {
    "duration": 8,
    "start_time": "2022-08-28T01:37:58.301Z"
   },
   {
    "duration": 6,
    "start_time": "2022-08-28T01:37:58.311Z"
   },
   {
    "duration": 8,
    "start_time": "2022-08-28T01:37:58.318Z"
   },
   {
    "duration": 6,
    "start_time": "2022-08-28T01:37:58.329Z"
   },
   {
    "duration": 8,
    "start_time": "2022-08-28T01:37:58.336Z"
   },
   {
    "duration": 45,
    "start_time": "2022-08-28T01:37:58.346Z"
   },
   {
    "duration": 15,
    "start_time": "2022-08-28T01:37:58.393Z"
   },
   {
    "duration": 9,
    "start_time": "2022-08-28T01:37:58.410Z"
   },
   {
    "duration": 9,
    "start_time": "2022-08-28T01:37:58.422Z"
   },
   {
    "duration": 22,
    "start_time": "2022-08-28T01:37:58.432Z"
   },
   {
    "duration": 31,
    "start_time": "2022-08-28T01:37:58.456Z"
   },
   {
    "duration": 16,
    "start_time": "2022-08-28T01:37:58.488Z"
   },
   {
    "duration": 17,
    "start_time": "2022-08-28T01:37:58.505Z"
   },
   {
    "duration": 12,
    "start_time": "2022-08-28T01:37:58.524Z"
   },
   {
    "duration": 49,
    "start_time": "2022-08-28T01:37:58.537Z"
   },
   {
    "duration": 340,
    "start_time": "2022-08-28T01:37:58.588Z"
   },
   {
    "duration": 14,
    "start_time": "2022-08-28T01:37:58.929Z"
   },
   {
    "duration": 322,
    "start_time": "2022-08-28T01:37:58.944Z"
   },
   {
    "duration": 5,
    "start_time": "2022-08-28T01:37:59.267Z"
   },
   {
    "duration": 400,
    "start_time": "2022-08-28T01:37:59.284Z"
   },
   {
    "duration": 364,
    "start_time": "2022-08-28T01:37:59.685Z"
   },
   {
    "duration": 51,
    "start_time": "2022-08-28T01:38:00.052Z"
   },
   {
    "duration": 7,
    "start_time": "2022-08-28T01:38:00.105Z"
   },
   {
    "duration": 322,
    "start_time": "2022-08-28T01:38:00.114Z"
   },
   {
    "duration": 260,
    "start_time": "2022-08-28T01:38:00.438Z"
   },
   {
    "duration": 166,
    "start_time": "2022-08-28T01:38:00.700Z"
   },
   {
    "duration": 172,
    "start_time": "2022-08-28T01:38:00.868Z"
   },
   {
    "duration": 12,
    "start_time": "2022-08-28T01:38:01.041Z"
   },
   {
    "duration": 182,
    "start_time": "2022-08-28T01:38:01.055Z"
   },
   {
    "duration": 152,
    "start_time": "2022-08-28T01:38:01.239Z"
   },
   {
    "duration": 11,
    "start_time": "2022-08-28T01:38:01.393Z"
   },
   {
    "duration": 216,
    "start_time": "2022-08-28T01:38:01.405Z"
   },
   {
    "duration": 206,
    "start_time": "2022-08-28T01:38:01.622Z"
   },
   {
    "duration": 208,
    "start_time": "2022-08-28T01:38:01.829Z"
   },
   {
    "duration": 375,
    "start_time": "2022-08-28T01:38:02.039Z"
   },
   {
    "duration": 321,
    "start_time": "2022-08-28T01:38:02.416Z"
   },
   {
    "duration": 6,
    "start_time": "2022-08-28T01:38:02.740Z"
   },
   {
    "duration": 484,
    "start_time": "2022-08-28T01:38:02.748Z"
   },
   {
    "duration": 5,
    "start_time": "2022-08-28T01:38:03.234Z"
   },
   {
    "duration": 440,
    "start_time": "2022-08-28T01:38:03.241Z"
   },
   {
    "duration": 147,
    "start_time": "2022-08-28T01:38:03.685Z"
   },
   {
    "duration": 0,
    "start_time": "2022-08-28T01:38:03.834Z"
   },
   {
    "duration": 0,
    "start_time": "2022-08-28T01:38:03.835Z"
   },
   {
    "duration": 10,
    "start_time": "2022-08-28T01:38:21.632Z"
   },
   {
    "duration": 6,
    "start_time": "2022-08-28T01:40:22.163Z"
   },
   {
    "duration": 18,
    "start_time": "2022-08-28T01:42:42.553Z"
   },
   {
    "duration": 19,
    "start_time": "2022-08-28T01:43:43.968Z"
   },
   {
    "duration": 10,
    "start_time": "2022-08-28T01:45:46.674Z"
   },
   {
    "duration": 11,
    "start_time": "2022-08-28T01:46:02.550Z"
   },
   {
    "duration": 10,
    "start_time": "2022-08-28T01:46:27.818Z"
   },
   {
    "duration": 15,
    "start_time": "2022-08-28T01:46:49.270Z"
   },
   {
    "duration": 16,
    "start_time": "2022-08-28T01:46:53.278Z"
   },
   {
    "duration": 90,
    "start_time": "2022-08-28T01:49:15.881Z"
   },
   {
    "duration": 13,
    "start_time": "2022-08-28T01:49:23.414Z"
   },
   {
    "duration": 10,
    "start_time": "2022-08-28T02:02:05.203Z"
   },
   {
    "duration": 12,
    "start_time": "2022-08-28T02:02:14.165Z"
   },
   {
    "duration": 16,
    "start_time": "2022-08-28T02:03:08.431Z"
   },
   {
    "duration": 1214,
    "start_time": "2022-08-28T02:06:18.549Z"
   },
   {
    "duration": 66,
    "start_time": "2022-08-28T02:06:19.764Z"
   },
   {
    "duration": 17,
    "start_time": "2022-08-28T02:06:19.832Z"
   },
   {
    "duration": 4,
    "start_time": "2022-08-28T02:06:19.851Z"
   },
   {
    "duration": 43,
    "start_time": "2022-08-28T02:06:19.857Z"
   },
   {
    "duration": 6,
    "start_time": "2022-08-28T02:06:19.902Z"
   },
   {
    "duration": 7,
    "start_time": "2022-08-28T02:06:19.910Z"
   },
   {
    "duration": 6,
    "start_time": "2022-08-28T02:06:19.919Z"
   },
   {
    "duration": 10,
    "start_time": "2022-08-28T02:06:19.928Z"
   },
   {
    "duration": 7,
    "start_time": "2022-08-28T02:06:19.941Z"
   },
   {
    "duration": 42,
    "start_time": "2022-08-28T02:06:19.950Z"
   },
   {
    "duration": 10,
    "start_time": "2022-08-28T02:06:19.994Z"
   },
   {
    "duration": 8,
    "start_time": "2022-08-28T02:06:20.006Z"
   },
   {
    "duration": 9,
    "start_time": "2022-08-28T02:06:20.016Z"
   },
   {
    "duration": 6,
    "start_time": "2022-08-28T02:06:20.026Z"
   },
   {
    "duration": 15,
    "start_time": "2022-08-28T02:06:20.034Z"
   },
   {
    "duration": 38,
    "start_time": "2022-08-28T02:06:20.051Z"
   },
   {
    "duration": 17,
    "start_time": "2022-08-28T02:06:20.090Z"
   },
   {
    "duration": 24,
    "start_time": "2022-08-28T02:06:20.108Z"
   },
   {
    "duration": 14,
    "start_time": "2022-08-28T02:06:20.134Z"
   },
   {
    "duration": 49,
    "start_time": "2022-08-28T02:06:20.150Z"
   },
   {
    "duration": 351,
    "start_time": "2022-08-28T02:06:20.201Z"
   },
   {
    "duration": 13,
    "start_time": "2022-08-28T02:06:20.554Z"
   },
   {
    "duration": 332,
    "start_time": "2022-08-28T02:06:20.568Z"
   },
   {
    "duration": 4,
    "start_time": "2022-08-28T02:06:20.902Z"
   },
   {
    "duration": 512,
    "start_time": "2022-08-28T02:06:20.908Z"
   },
   {
    "duration": 349,
    "start_time": "2022-08-28T02:06:21.422Z"
   },
   {
    "duration": 31,
    "start_time": "2022-08-28T02:06:21.774Z"
   },
   {
    "duration": 4,
    "start_time": "2022-08-28T02:06:21.807Z"
   },
   {
    "duration": 322,
    "start_time": "2022-08-28T02:06:21.813Z"
   },
   {
    "duration": 239,
    "start_time": "2022-08-28T02:06:22.137Z"
   },
   {
    "duration": 171,
    "start_time": "2022-08-28T02:06:22.378Z"
   },
   {
    "duration": 191,
    "start_time": "2022-08-28T02:06:22.551Z"
   },
   {
    "duration": 12,
    "start_time": "2022-08-28T02:06:22.743Z"
   },
   {
    "duration": 227,
    "start_time": "2022-08-28T02:06:22.757Z"
   },
   {
    "duration": 165,
    "start_time": "2022-08-28T02:06:22.986Z"
   },
   {
    "duration": 15,
    "start_time": "2022-08-28T02:06:23.153Z"
   },
   {
    "duration": 221,
    "start_time": "2022-08-28T02:06:23.170Z"
   },
   {
    "duration": 183,
    "start_time": "2022-08-28T02:06:23.392Z"
   },
   {
    "duration": 189,
    "start_time": "2022-08-28T02:06:23.577Z"
   },
   {
    "duration": 365,
    "start_time": "2022-08-28T02:06:23.768Z"
   },
   {
    "duration": 329,
    "start_time": "2022-08-28T02:06:24.135Z"
   },
   {
    "duration": 6,
    "start_time": "2022-08-28T02:06:24.466Z"
   },
   {
    "duration": 446,
    "start_time": "2022-08-28T02:06:24.484Z"
   },
   {
    "duration": 4,
    "start_time": "2022-08-28T02:06:24.932Z"
   },
   {
    "duration": 429,
    "start_time": "2022-08-28T02:06:24.938Z"
   },
   {
    "duration": 103,
    "start_time": "2022-08-28T02:06:25.368Z"
   },
   {
    "duration": 0,
    "start_time": "2022-08-28T02:06:25.473Z"
   },
   {
    "duration": 0,
    "start_time": "2022-08-28T02:06:25.474Z"
   },
   {
    "duration": 56,
    "start_time": "2022-08-28T21:49:09.316Z"
   },
   {
    "duration": 1236,
    "start_time": "2022-08-28T21:49:16.862Z"
   },
   {
    "duration": 70,
    "start_time": "2022-08-28T21:49:18.100Z"
   },
   {
    "duration": 15,
    "start_time": "2022-08-28T21:49:18.171Z"
   },
   {
    "duration": 4,
    "start_time": "2022-08-28T21:49:18.187Z"
   },
   {
    "duration": 24,
    "start_time": "2022-08-28T21:49:18.194Z"
   },
   {
    "duration": 5,
    "start_time": "2022-08-28T21:49:18.220Z"
   },
   {
    "duration": 6,
    "start_time": "2022-08-28T21:49:18.227Z"
   },
   {
    "duration": 6,
    "start_time": "2022-08-28T21:49:18.234Z"
   },
   {
    "duration": 9,
    "start_time": "2022-08-28T21:49:18.242Z"
   },
   {
    "duration": 9,
    "start_time": "2022-08-28T21:49:18.252Z"
   },
   {
    "duration": 32,
    "start_time": "2022-08-28T21:49:18.263Z"
   },
   {
    "duration": 9,
    "start_time": "2022-08-28T21:49:18.297Z"
   },
   {
    "duration": 9,
    "start_time": "2022-08-28T21:49:18.307Z"
   },
   {
    "duration": 6,
    "start_time": "2022-08-28T21:49:18.319Z"
   },
   {
    "duration": 8,
    "start_time": "2022-08-28T21:49:18.327Z"
   },
   {
    "duration": 16,
    "start_time": "2022-08-28T21:49:18.337Z"
   },
   {
    "duration": 38,
    "start_time": "2022-08-28T21:49:18.355Z"
   },
   {
    "duration": 16,
    "start_time": "2022-08-28T21:49:18.394Z"
   },
   {
    "duration": 21,
    "start_time": "2022-08-28T21:49:18.412Z"
   },
   {
    "duration": 15,
    "start_time": "2022-08-28T21:49:18.435Z"
   },
   {
    "duration": 46,
    "start_time": "2022-08-28T21:49:18.451Z"
   },
   {
    "duration": 349,
    "start_time": "2022-08-28T21:49:18.498Z"
   },
   {
    "duration": 13,
    "start_time": "2022-08-28T21:49:18.849Z"
   },
   {
    "duration": 321,
    "start_time": "2022-08-28T21:49:18.864Z"
   },
   {
    "duration": 4,
    "start_time": "2022-08-28T21:49:19.192Z"
   },
   {
    "duration": 413,
    "start_time": "2022-08-28T21:49:19.197Z"
   },
   {
    "duration": 383,
    "start_time": "2022-08-28T21:49:19.612Z"
   },
   {
    "duration": 29,
    "start_time": "2022-08-28T21:49:19.996Z"
   },
   {
    "duration": 5,
    "start_time": "2022-08-28T21:49:20.027Z"
   },
   {
    "duration": 346,
    "start_time": "2022-08-28T21:49:20.034Z"
   },
   {
    "duration": 259,
    "start_time": "2022-08-28T21:49:20.382Z"
   },
   {
    "duration": 172,
    "start_time": "2022-08-28T21:49:20.642Z"
   },
   {
    "duration": 175,
    "start_time": "2022-08-28T21:49:20.816Z"
   },
   {
    "duration": 13,
    "start_time": "2022-08-28T21:49:20.993Z"
   },
   {
    "duration": 167,
    "start_time": "2022-08-28T21:49:21.008Z"
   },
   {
    "duration": 169,
    "start_time": "2022-08-28T21:49:21.177Z"
   },
   {
    "duration": 12,
    "start_time": "2022-08-28T21:49:21.348Z"
   },
   {
    "duration": 212,
    "start_time": "2022-08-28T21:49:21.361Z"
   },
   {
    "duration": 205,
    "start_time": "2022-08-28T21:49:21.575Z"
   },
   {
    "duration": 266,
    "start_time": "2022-08-28T21:49:21.782Z"
   },
   {
    "duration": 375,
    "start_time": "2022-08-28T21:49:22.052Z"
   },
   {
    "duration": 294,
    "start_time": "2022-08-28T21:49:22.429Z"
   },
   {
    "duration": 5,
    "start_time": "2022-08-28T21:49:22.724Z"
   },
   {
    "duration": 393,
    "start_time": "2022-08-28T21:49:22.731Z"
   },
   {
    "duration": 5,
    "start_time": "2022-08-28T21:49:23.126Z"
   },
   {
    "duration": 423,
    "start_time": "2022-08-28T21:49:23.133Z"
   },
   {
    "duration": 114,
    "start_time": "2022-08-28T21:49:23.557Z"
   },
   {
    "duration": 0,
    "start_time": "2022-08-28T21:49:23.673Z"
   },
   {
    "duration": 0,
    "start_time": "2022-08-28T21:49:23.674Z"
   },
   {
    "duration": 15,
    "start_time": "2022-08-28T21:53:32.789Z"
   },
   {
    "duration": 12,
    "start_time": "2022-08-28T21:53:46.840Z"
   },
   {
    "duration": 11,
    "start_time": "2022-08-28T21:56:48.604Z"
   },
   {
    "duration": 11,
    "start_time": "2022-08-28T22:03:20.125Z"
   },
   {
    "duration": 10,
    "start_time": "2022-08-28T22:04:17.951Z"
   },
   {
    "duration": 13,
    "start_time": "2022-08-28T22:06:54.347Z"
   },
   {
    "duration": 6,
    "start_time": "2022-08-28T22:08:13.742Z"
   },
   {
    "duration": 14,
    "start_time": "2022-08-28T22:08:24.416Z"
   },
   {
    "duration": 52,
    "start_time": "2022-08-28T22:10:32.275Z"
   },
   {
    "duration": 3,
    "start_time": "2022-08-28T22:10:32.583Z"
   },
   {
    "duration": 10,
    "start_time": "2022-08-28T22:10:32.779Z"
   },
   {
    "duration": 7,
    "start_time": "2022-08-28T22:10:33.010Z"
   },
   {
    "duration": 4,
    "start_time": "2022-08-28T22:10:33.212Z"
   },
   {
    "duration": 6,
    "start_time": "2022-08-28T22:10:33.419Z"
   },
   {
    "duration": 6,
    "start_time": "2022-08-28T22:10:33.699Z"
   },
   {
    "duration": 655,
    "start_time": "2022-08-28T22:10:34.813Z"
   },
   {
    "duration": 724,
    "start_time": "2022-08-28T22:10:41.525Z"
   },
   {
    "duration": 1245,
    "start_time": "2022-08-28T22:18:09.966Z"
   },
   {
    "duration": 72,
    "start_time": "2022-08-28T22:18:11.213Z"
   },
   {
    "duration": 16,
    "start_time": "2022-08-28T22:18:11.287Z"
   },
   {
    "duration": 4,
    "start_time": "2022-08-28T22:18:11.305Z"
   },
   {
    "duration": 25,
    "start_time": "2022-08-28T22:18:11.311Z"
   },
   {
    "duration": 5,
    "start_time": "2022-08-28T22:18:11.338Z"
   },
   {
    "duration": 7,
    "start_time": "2022-08-28T22:18:11.345Z"
   },
   {
    "duration": 7,
    "start_time": "2022-08-28T22:18:11.354Z"
   },
   {
    "duration": 34,
    "start_time": "2022-08-28T22:18:11.363Z"
   },
   {
    "duration": 10,
    "start_time": "2022-08-28T22:18:11.399Z"
   },
   {
    "duration": 8,
    "start_time": "2022-08-28T22:18:11.411Z"
   },
   {
    "duration": 12,
    "start_time": "2022-08-28T22:18:11.421Z"
   },
   {
    "duration": 9,
    "start_time": "2022-08-28T22:18:11.434Z"
   },
   {
    "duration": 7,
    "start_time": "2022-08-28T22:18:11.445Z"
   },
   {
    "duration": 40,
    "start_time": "2022-08-28T22:18:11.453Z"
   },
   {
    "duration": 22,
    "start_time": "2022-08-28T22:18:11.495Z"
   },
   {
    "duration": 8,
    "start_time": "2022-08-28T22:18:11.519Z"
   },
   {
    "duration": 16,
    "start_time": "2022-08-28T22:18:11.529Z"
   },
   {
    "duration": 17,
    "start_time": "2022-08-28T22:18:11.547Z"
   },
   {
    "duration": 37,
    "start_time": "2022-08-28T22:18:11.566Z"
   },
   {
    "duration": 20,
    "start_time": "2022-08-28T22:18:11.604Z"
   },
   {
    "duration": 394,
    "start_time": "2022-08-28T22:18:11.625Z"
   },
   {
    "duration": 14,
    "start_time": "2022-08-28T22:18:12.020Z"
   },
   {
    "duration": 317,
    "start_time": "2022-08-28T22:18:12.036Z"
   },
   {
    "duration": 4,
    "start_time": "2022-08-28T22:18:12.355Z"
   },
   {
    "duration": 387,
    "start_time": "2022-08-28T22:18:12.361Z"
   },
   {
    "duration": 378,
    "start_time": "2022-08-28T22:18:12.750Z"
   },
   {
    "duration": 27,
    "start_time": "2022-08-28T22:18:13.130Z"
   },
   {
    "duration": 6,
    "start_time": "2022-08-28T22:18:13.159Z"
   },
   {
    "duration": 333,
    "start_time": "2022-08-28T22:18:13.167Z"
   },
   {
    "duration": 238,
    "start_time": "2022-08-28T22:18:13.502Z"
   },
   {
    "duration": 171,
    "start_time": "2022-08-28T22:18:13.742Z"
   },
   {
    "duration": 166,
    "start_time": "2022-08-28T22:18:13.914Z"
   },
   {
    "duration": 18,
    "start_time": "2022-08-28T22:18:14.082Z"
   },
   {
    "duration": 14,
    "start_time": "2022-08-28T22:18:14.101Z"
   },
   {
    "duration": 173,
    "start_time": "2022-08-28T22:18:14.117Z"
   },
   {
    "duration": 165,
    "start_time": "2022-08-28T22:18:14.292Z"
   },
   {
    "duration": 13,
    "start_time": "2022-08-28T22:18:14.459Z"
   },
   {
    "duration": 217,
    "start_time": "2022-08-28T22:18:14.474Z"
   },
   {
    "duration": 196,
    "start_time": "2022-08-28T22:18:14.693Z"
   },
   {
    "duration": 208,
    "start_time": "2022-08-28T22:18:14.895Z"
   },
   {
    "duration": 398,
    "start_time": "2022-08-28T22:18:15.105Z"
   },
   {
    "duration": 297,
    "start_time": "2022-08-28T22:18:15.505Z"
   },
   {
    "duration": 4,
    "start_time": "2022-08-28T22:18:15.804Z"
   },
   {
    "duration": 414,
    "start_time": "2022-08-28T22:18:15.810Z"
   },
   {
    "duration": 5,
    "start_time": "2022-08-28T22:18:16.225Z"
   },
   {
    "duration": 438,
    "start_time": "2022-08-28T22:18:16.232Z"
   },
   {
    "duration": 106,
    "start_time": "2022-08-28T22:18:16.672Z"
   },
   {
    "duration": 0,
    "start_time": "2022-08-28T22:18:16.780Z"
   },
   {
    "duration": 0,
    "start_time": "2022-08-28T22:18:16.781Z"
   },
   {
    "duration": 0,
    "start_time": "2022-08-28T22:18:16.791Z"
   },
   {
    "duration": 0,
    "start_time": "2022-08-28T22:18:16.792Z"
   },
   {
    "duration": 0,
    "start_time": "2022-08-28T22:18:16.794Z"
   },
   {
    "duration": 0,
    "start_time": "2022-08-28T22:18:16.794Z"
   },
   {
    "duration": 0,
    "start_time": "2022-08-28T22:18:16.795Z"
   },
   {
    "duration": 0,
    "start_time": "2022-08-28T22:18:16.797Z"
   },
   {
    "duration": 0,
    "start_time": "2022-08-28T22:18:16.798Z"
   },
   {
    "duration": 0,
    "start_time": "2022-08-28T22:18:16.799Z"
   },
   {
    "duration": 0,
    "start_time": "2022-08-28T22:18:16.800Z"
   },
   {
    "duration": 0,
    "start_time": "2022-08-28T22:18:16.802Z"
   },
   {
    "duration": 14,
    "start_time": "2022-08-28T22:18:39.043Z"
   },
   {
    "duration": 7,
    "start_time": "2022-08-28T22:18:39.836Z"
   },
   {
    "duration": 15,
    "start_time": "2022-08-28T22:18:40.869Z"
   },
   {
    "duration": 53,
    "start_time": "2022-08-28T22:18:42.833Z"
   },
   {
    "duration": 3,
    "start_time": "2022-08-28T22:18:43.226Z"
   },
   {
    "duration": 11,
    "start_time": "2022-08-28T22:18:43.378Z"
   },
   {
    "duration": 7,
    "start_time": "2022-08-28T22:18:43.737Z"
   },
   {
    "duration": 5,
    "start_time": "2022-08-28T22:18:44.298Z"
   },
   {
    "duration": 7,
    "start_time": "2022-08-28T22:18:44.497Z"
   },
   {
    "duration": 6,
    "start_time": "2022-08-28T22:18:44.683Z"
   },
   {
    "duration": 616,
    "start_time": "2022-08-28T22:18:45.034Z"
   },
   {
    "duration": 718,
    "start_time": "2022-08-28T22:18:46.018Z"
   },
   {
    "duration": 1227,
    "start_time": "2022-08-29T11:05:38.368Z"
   },
   {
    "duration": 201,
    "start_time": "2022-08-29T11:05:42.174Z"
   },
   {
    "duration": 108,
    "start_time": "2022-08-29T11:08:08.309Z"
   },
   {
    "duration": 1120,
    "start_time": "2022-08-29T11:08:14.994Z"
   },
   {
    "duration": 70,
    "start_time": "2022-08-29T11:08:16.115Z"
   },
   {
    "duration": 17,
    "start_time": "2022-08-29T11:08:16.186Z"
   },
   {
    "duration": 4,
    "start_time": "2022-08-29T11:08:16.205Z"
   },
   {
    "duration": 31,
    "start_time": "2022-08-29T11:08:16.210Z"
   },
   {
    "duration": 5,
    "start_time": "2022-08-29T11:08:16.247Z"
   },
   {
    "duration": 6,
    "start_time": "2022-08-29T11:08:16.254Z"
   },
   {
    "duration": 5,
    "start_time": "2022-08-29T11:08:16.261Z"
   },
   {
    "duration": 9,
    "start_time": "2022-08-29T11:08:16.268Z"
   },
   {
    "duration": 6,
    "start_time": "2022-08-29T11:08:16.281Z"
   },
   {
    "duration": 9,
    "start_time": "2022-08-29T11:08:16.289Z"
   },
   {
    "duration": 40,
    "start_time": "2022-08-29T11:08:16.300Z"
   },
   {
    "duration": 22,
    "start_time": "2022-08-29T11:08:16.342Z"
   },
   {
    "duration": 9,
    "start_time": "2022-08-29T11:08:16.366Z"
   },
   {
    "duration": 8,
    "start_time": "2022-08-29T11:08:16.377Z"
   },
   {
    "duration": 25,
    "start_time": "2022-08-29T11:08:16.387Z"
   },
   {
    "duration": 8,
    "start_time": "2022-08-29T11:08:16.413Z"
   },
   {
    "duration": 25,
    "start_time": "2022-08-29T11:08:16.422Z"
   },
   {
    "duration": 18,
    "start_time": "2022-08-29T11:08:16.449Z"
   },
   {
    "duration": 12,
    "start_time": "2022-08-29T11:08:16.469Z"
   },
   {
    "duration": 13,
    "start_time": "2022-08-29T11:08:16.483Z"
   },
   {
    "duration": 340,
    "start_time": "2022-08-29T11:08:16.498Z"
   },
   {
    "duration": 17,
    "start_time": "2022-08-29T11:08:16.840Z"
   },
   {
    "duration": 352,
    "start_time": "2022-08-29T11:08:16.858Z"
   },
   {
    "duration": 5,
    "start_time": "2022-08-29T11:08:17.212Z"
   },
   {
    "duration": 440,
    "start_time": "2022-08-29T11:08:17.218Z"
   },
   {
    "duration": 486,
    "start_time": "2022-08-29T11:08:17.660Z"
   },
   {
    "duration": 101,
    "start_time": "2022-08-29T11:08:18.158Z"
   },
   {
    "duration": 4,
    "start_time": "2022-08-29T11:08:18.261Z"
   },
   {
    "duration": 256,
    "start_time": "2022-08-29T11:08:18.266Z"
   },
   {
    "duration": 238,
    "start_time": "2022-08-29T11:08:18.523Z"
   },
   {
    "duration": 156,
    "start_time": "2022-08-29T11:08:18.763Z"
   },
   {
    "duration": 169,
    "start_time": "2022-08-29T11:08:18.920Z"
   },
   {
    "duration": 12,
    "start_time": "2022-08-29T11:08:19.090Z"
   },
   {
    "duration": 12,
    "start_time": "2022-08-29T11:08:19.104Z"
   },
   {
    "duration": 163,
    "start_time": "2022-08-29T11:08:19.133Z"
   },
   {
    "duration": 168,
    "start_time": "2022-08-29T11:08:19.297Z"
   },
   {
    "duration": 12,
    "start_time": "2022-08-29T11:08:19.466Z"
   },
   {
    "duration": 216,
    "start_time": "2022-08-29T11:08:19.479Z"
   },
   {
    "duration": 183,
    "start_time": "2022-08-29T11:08:19.697Z"
   },
   {
    "duration": 199,
    "start_time": "2022-08-29T11:08:19.881Z"
   },
   {
    "duration": 374,
    "start_time": "2022-08-29T11:08:20.082Z"
   },
   {
    "duration": 265,
    "start_time": "2022-08-29T11:08:20.457Z"
   },
   {
    "duration": 6,
    "start_time": "2022-08-29T11:08:20.732Z"
   },
   {
    "duration": 370,
    "start_time": "2022-08-29T11:08:20.740Z"
   },
   {
    "duration": 5,
    "start_time": "2022-08-29T11:08:21.112Z"
   },
   {
    "duration": 442,
    "start_time": "2022-08-29T11:08:21.118Z"
   },
   {
    "duration": 106,
    "start_time": "2022-08-29T11:08:21.562Z"
   },
   {
    "duration": 0,
    "start_time": "2022-08-29T11:08:21.670Z"
   },
   {
    "duration": 0,
    "start_time": "2022-08-29T11:08:21.672Z"
   },
   {
    "duration": 0,
    "start_time": "2022-08-29T11:08:21.673Z"
   },
   {
    "duration": 0,
    "start_time": "2022-08-29T11:08:21.674Z"
   },
   {
    "duration": 0,
    "start_time": "2022-08-29T11:08:21.676Z"
   },
   {
    "duration": 0,
    "start_time": "2022-08-29T11:08:21.677Z"
   },
   {
    "duration": 0,
    "start_time": "2022-08-29T11:08:21.678Z"
   },
   {
    "duration": 0,
    "start_time": "2022-08-29T11:08:21.679Z"
   },
   {
    "duration": 0,
    "start_time": "2022-08-29T11:08:21.680Z"
   },
   {
    "duration": 0,
    "start_time": "2022-08-29T11:08:21.681Z"
   },
   {
    "duration": 0,
    "start_time": "2022-08-29T11:08:21.682Z"
   },
   {
    "duration": 0,
    "start_time": "2022-08-29T11:08:21.685Z"
   },
   {
    "duration": 212,
    "start_time": "2022-08-29T11:08:35.680Z"
   },
   {
    "duration": 9,
    "start_time": "2022-08-29T11:11:28.167Z"
   },
   {
    "duration": 14,
    "start_time": "2022-08-29T11:41:57.704Z"
   },
   {
    "duration": 10,
    "start_time": "2022-08-29T11:45:43.977Z"
   },
   {
    "duration": 11,
    "start_time": "2022-08-29T11:45:56.692Z"
   },
   {
    "duration": 313,
    "start_time": "2022-08-29T12:21:32.934Z"
   },
   {
    "duration": 240,
    "start_time": "2022-08-29T12:21:36.534Z"
   },
   {
    "duration": 270,
    "start_time": "2022-08-29T12:23:44.641Z"
   },
   {
    "duration": 146,
    "start_time": "2022-08-29T12:34:55.080Z"
   },
   {
    "duration": 140,
    "start_time": "2022-08-29T12:35:02.977Z"
   },
   {
    "duration": 11,
    "start_time": "2022-08-29T12:35:12.537Z"
   },
   {
    "duration": 15,
    "start_time": "2022-08-29T12:36:02.951Z"
   },
   {
    "duration": 14,
    "start_time": "2022-08-29T12:36:45.805Z"
   },
   {
    "duration": 18,
    "start_time": "2022-08-29T12:37:01.849Z"
   },
   {
    "duration": 11,
    "start_time": "2022-08-29T12:37:06.290Z"
   },
   {
    "duration": 11,
    "start_time": "2022-08-29T12:37:16.464Z"
   },
   {
    "duration": 167,
    "start_time": "2022-08-29T12:41:10.833Z"
   },
   {
    "duration": 161,
    "start_time": "2022-08-29T12:41:19.179Z"
   },
   {
    "duration": 178,
    "start_time": "2022-08-29T12:41:33.602Z"
   },
   {
    "duration": 309,
    "start_time": "2022-08-29T12:42:19.040Z"
   },
   {
    "duration": 202,
    "start_time": "2022-08-29T12:42:37.543Z"
   },
   {
    "duration": 11,
    "start_time": "2022-08-29T12:44:38.359Z"
   },
   {
    "duration": 188,
    "start_time": "2022-08-29T12:50:21.962Z"
   },
   {
    "duration": 226,
    "start_time": "2022-08-29T12:52:13.572Z"
   },
   {
    "duration": 234,
    "start_time": "2022-08-29T12:52:18.724Z"
   },
   {
    "duration": 164,
    "start_time": "2022-08-29T12:59:25.025Z"
   },
   {
    "duration": 191,
    "start_time": "2022-08-29T13:00:25.034Z"
   },
   {
    "duration": 12,
    "start_time": "2022-08-29T13:09:59.545Z"
   },
   {
    "duration": 5,
    "start_time": "2022-08-29T13:10:18.370Z"
   },
   {
    "duration": 12,
    "start_time": "2022-08-29T13:10:55.188Z"
   },
   {
    "duration": 2,
    "start_time": "2022-08-29T13:14:45.564Z"
   },
   {
    "duration": 1071,
    "start_time": "2022-08-29T13:14:51.037Z"
   },
   {
    "duration": 63,
    "start_time": "2022-08-29T13:14:52.110Z"
   },
   {
    "duration": 12,
    "start_time": "2022-08-29T13:14:52.174Z"
   },
   {
    "duration": 18,
    "start_time": "2022-08-29T13:14:52.188Z"
   },
   {
    "duration": 30,
    "start_time": "2022-08-29T13:14:52.208Z"
   },
   {
    "duration": 4,
    "start_time": "2022-08-29T13:14:52.239Z"
   },
   {
    "duration": 5,
    "start_time": "2022-08-29T13:14:52.245Z"
   },
   {
    "duration": 7,
    "start_time": "2022-08-29T13:14:52.252Z"
   },
   {
    "duration": 9,
    "start_time": "2022-08-29T13:14:52.260Z"
   },
   {
    "duration": 4,
    "start_time": "2022-08-29T13:14:52.272Z"
   },
   {
    "duration": 8,
    "start_time": "2022-08-29T13:14:52.278Z"
   },
   {
    "duration": 10,
    "start_time": "2022-08-29T13:14:52.288Z"
   },
   {
    "duration": 9,
    "start_time": "2022-08-29T13:14:52.300Z"
   },
   {
    "duration": 8,
    "start_time": "2022-08-29T13:14:52.332Z"
   },
   {
    "duration": 13,
    "start_time": "2022-08-29T13:14:52.341Z"
   },
   {
    "duration": 20,
    "start_time": "2022-08-29T13:14:52.356Z"
   },
   {
    "duration": 7,
    "start_time": "2022-08-29T13:14:52.377Z"
   },
   {
    "duration": 16,
    "start_time": "2022-08-29T13:14:52.386Z"
   },
   {
    "duration": 14,
    "start_time": "2022-08-29T13:14:52.403Z"
   },
   {
    "duration": 21,
    "start_time": "2022-08-29T13:14:52.418Z"
   },
   {
    "duration": 12,
    "start_time": "2022-08-29T13:14:52.440Z"
   },
   {
    "duration": 293,
    "start_time": "2022-08-29T13:14:52.454Z"
   },
   {
    "duration": 11,
    "start_time": "2022-08-29T13:14:52.749Z"
   },
   {
    "duration": 271,
    "start_time": "2022-08-29T13:14:52.761Z"
   },
   {
    "duration": 4,
    "start_time": "2022-08-29T13:14:53.033Z"
   },
   {
    "duration": 355,
    "start_time": "2022-08-29T13:14:53.038Z"
   },
   {
    "duration": 307,
    "start_time": "2022-08-29T13:14:53.395Z"
   },
   {
    "duration": 90,
    "start_time": "2022-08-29T13:14:53.705Z"
   },
   {
    "duration": 4,
    "start_time": "2022-08-29T13:14:53.797Z"
   },
   {
    "duration": 208,
    "start_time": "2022-08-29T13:14:53.802Z"
   },
   {
    "duration": 185,
    "start_time": "2022-08-29T13:14:54.011Z"
   },
   {
    "duration": 139,
    "start_time": "2022-08-29T13:14:54.198Z"
   },
   {
    "duration": 152,
    "start_time": "2022-08-29T13:14:54.339Z"
   },
   {
    "duration": 11,
    "start_time": "2022-08-29T13:14:54.492Z"
   },
   {
    "duration": 19,
    "start_time": "2022-08-29T13:14:54.504Z"
   },
   {
    "duration": 139,
    "start_time": "2022-08-29T13:14:54.525Z"
   },
   {
    "duration": 131,
    "start_time": "2022-08-29T13:14:54.666Z"
   },
   {
    "duration": 10,
    "start_time": "2022-08-29T13:14:54.799Z"
   },
   {
    "duration": 167,
    "start_time": "2022-08-29T13:14:54.810Z"
   },
   {
    "duration": 174,
    "start_time": "2022-08-29T13:14:54.979Z"
   },
   {
    "duration": 181,
    "start_time": "2022-08-29T13:14:55.155Z"
   },
   {
    "duration": 313,
    "start_time": "2022-08-29T13:14:55.338Z"
   },
   {
    "duration": 242,
    "start_time": "2022-08-29T13:14:55.653Z"
   },
   {
    "duration": 4,
    "start_time": "2022-08-29T13:14:55.897Z"
   },
   {
    "duration": 342,
    "start_time": "2022-08-29T13:14:55.903Z"
   },
   {
    "duration": 5,
    "start_time": "2022-08-29T13:14:56.247Z"
   },
   {
    "duration": 383,
    "start_time": "2022-08-29T13:14:56.253Z"
   },
   {
    "duration": 188,
    "start_time": "2022-08-29T13:14:56.637Z"
   },
   {
    "duration": 14,
    "start_time": "2022-08-29T13:14:56.827Z"
   },
   {
    "duration": 6,
    "start_time": "2022-08-29T13:14:56.843Z"
   },
   {
    "duration": 12,
    "start_time": "2022-08-29T13:14:56.850Z"
   },
   {
    "duration": 47,
    "start_time": "2022-08-29T13:14:56.863Z"
   },
   {
    "duration": 3,
    "start_time": "2022-08-29T13:14:56.911Z"
   },
   {
    "duration": 16,
    "start_time": "2022-08-29T13:14:56.915Z"
   },
   {
    "duration": 5,
    "start_time": "2022-08-29T13:14:56.932Z"
   },
   {
    "duration": 6,
    "start_time": "2022-08-29T13:14:56.938Z"
   },
   {
    "duration": 7,
    "start_time": "2022-08-29T13:14:56.945Z"
   },
   {
    "duration": 5,
    "start_time": "2022-08-29T13:14:56.953Z"
   },
   {
    "duration": 592,
    "start_time": "2022-08-29T13:14:56.959Z"
   },
   {
    "duration": 696,
    "start_time": "2022-08-29T13:14:57.553Z"
   },
   {
    "duration": 5,
    "start_time": "2022-08-29T13:31:33.597Z"
   },
   {
    "duration": 551,
    "start_time": "2022-08-29T13:31:51.912Z"
   },
   {
    "duration": 5,
    "start_time": "2022-08-29T13:33:20.492Z"
   },
   {
    "duration": 340,
    "start_time": "2022-08-29T13:33:36.480Z"
   },
   {
    "duration": 5,
    "start_time": "2022-08-29T13:35:14.329Z"
   },
   {
    "duration": 4,
    "start_time": "2022-08-29T13:35:21.848Z"
   },
   {
    "duration": 330,
    "start_time": "2022-08-29T13:35:23.875Z"
   },
   {
    "duration": 5,
    "start_time": "2022-08-29T13:35:56.238Z"
   },
   {
    "duration": 258,
    "start_time": "2022-08-29T13:35:58.539Z"
   },
   {
    "duration": 5,
    "start_time": "2022-08-29T13:36:06.637Z"
   },
   {
    "duration": 316,
    "start_time": "2022-08-29T13:36:07.621Z"
   },
   {
    "duration": 5,
    "start_time": "2022-08-29T13:36:15.182Z"
   },
   {
    "duration": 586,
    "start_time": "2022-08-29T13:36:15.924Z"
   },
   {
    "duration": 123,
    "start_time": "2022-08-29T13:36:52.672Z"
   },
   {
    "duration": 523,
    "start_time": "2022-08-29T13:36:56.660Z"
   },
   {
    "duration": 93,
    "start_time": "2022-08-29T13:57:31.000Z"
   },
   {
    "duration": 521,
    "start_time": "2022-08-29T13:57:33.318Z"
   },
   {
    "duration": 85,
    "start_time": "2022-08-29T13:57:44.314Z"
   },
   {
    "duration": 503,
    "start_time": "2022-08-29T13:57:45.839Z"
   },
   {
    "duration": 68,
    "start_time": "2022-08-29T13:58:12.658Z"
   },
   {
    "duration": 515,
    "start_time": "2022-08-29T13:58:13.989Z"
   },
   {
    "duration": 77,
    "start_time": "2022-08-29T13:58:26.901Z"
   },
   {
    "duration": 605,
    "start_time": "2022-08-29T13:58:27.846Z"
   },
   {
    "duration": 79,
    "start_time": "2022-08-29T13:59:18.895Z"
   },
   {
    "duration": 495,
    "start_time": "2022-08-29T13:59:20.474Z"
   },
   {
    "duration": 5,
    "start_time": "2022-08-29T13:59:59.581Z"
   },
   {
    "duration": 584,
    "start_time": "2022-08-29T14:00:01.035Z"
   },
   {
    "duration": 112,
    "start_time": "2022-08-29T14:00:15.843Z"
   },
   {
    "duration": 528,
    "start_time": "2022-08-29T14:00:18.215Z"
   },
   {
    "duration": 545,
    "start_time": "2022-08-29T14:00:38.890Z"
   },
   {
    "duration": 76,
    "start_time": "2022-08-29T14:01:02.581Z"
   },
   {
    "duration": 565,
    "start_time": "2022-08-29T14:01:03.765Z"
   },
   {
    "duration": 101,
    "start_time": "2022-08-29T14:01:28.334Z"
   },
   {
    "duration": 631,
    "start_time": "2022-08-29T14:01:29.354Z"
   },
   {
    "duration": 75,
    "start_time": "2022-08-29T14:02:18.684Z"
   },
   {
    "duration": 553,
    "start_time": "2022-08-29T14:02:20.192Z"
   },
   {
    "duration": 5,
    "start_time": "2022-08-29T14:04:30.989Z"
   },
   {
    "duration": 324,
    "start_time": "2022-08-29T14:04:32.126Z"
   },
   {
    "duration": 4,
    "start_time": "2022-08-29T14:04:51.733Z"
   },
   {
    "duration": 321,
    "start_time": "2022-08-29T14:05:01.659Z"
   },
   {
    "duration": 527,
    "start_time": "2022-08-29T14:05:28.517Z"
   },
   {
    "duration": 4,
    "start_time": "2022-08-29T14:06:11.017Z"
   },
   {
    "duration": 462,
    "start_time": "2022-08-29T14:06:13.517Z"
   },
   {
    "duration": 79,
    "start_time": "2022-08-29T14:06:20.887Z"
   },
   {
    "duration": 533,
    "start_time": "2022-08-29T14:06:22.780Z"
   },
   {
    "duration": 116,
    "start_time": "2022-08-29T14:15:25.084Z"
   },
   {
    "duration": 77,
    "start_time": "2022-08-29T14:15:50.681Z"
   },
   {
    "duration": 530,
    "start_time": "2022-08-29T14:15:52.333Z"
   },
   {
    "duration": 76,
    "start_time": "2022-08-29T14:16:20.438Z"
   },
   {
    "duration": 542,
    "start_time": "2022-08-29T14:16:21.395Z"
   },
   {
    "duration": 73,
    "start_time": "2022-08-29T14:16:27.803Z"
   },
   {
    "duration": 523,
    "start_time": "2022-08-29T14:16:28.548Z"
   },
   {
    "duration": 564,
    "start_time": "2022-08-29T14:16:42.966Z"
   },
   {
    "duration": 88,
    "start_time": "2022-08-29T14:16:50.072Z"
   },
   {
    "duration": 701,
    "start_time": "2022-08-29T14:16:50.969Z"
   },
   {
    "duration": 1114,
    "start_time": "2022-08-29T14:17:16.648Z"
   },
   {
    "duration": 82,
    "start_time": "2022-08-29T14:17:17.766Z"
   },
   {
    "duration": 14,
    "start_time": "2022-08-29T14:17:17.850Z"
   },
   {
    "duration": 4,
    "start_time": "2022-08-29T14:17:17.866Z"
   },
   {
    "duration": 24,
    "start_time": "2022-08-29T14:17:17.871Z"
   },
   {
    "duration": 5,
    "start_time": "2022-08-29T14:17:17.897Z"
   },
   {
    "duration": 32,
    "start_time": "2022-08-29T14:17:17.903Z"
   },
   {
    "duration": 7,
    "start_time": "2022-08-29T14:17:17.936Z"
   },
   {
    "duration": 8,
    "start_time": "2022-08-29T14:17:17.944Z"
   },
   {
    "duration": 4,
    "start_time": "2022-08-29T14:17:17.956Z"
   },
   {
    "duration": 6,
    "start_time": "2022-08-29T14:17:17.962Z"
   },
   {
    "duration": 9,
    "start_time": "2022-08-29T14:17:17.970Z"
   },
   {
    "duration": 15,
    "start_time": "2022-08-29T14:17:17.980Z"
   },
   {
    "duration": 39,
    "start_time": "2022-08-29T14:17:17.996Z"
   },
   {
    "duration": 7,
    "start_time": "2022-08-29T14:17:18.037Z"
   },
   {
    "duration": 18,
    "start_time": "2022-08-29T14:17:18.045Z"
   },
   {
    "duration": 8,
    "start_time": "2022-08-29T14:17:18.065Z"
   },
   {
    "duration": 14,
    "start_time": "2022-08-29T14:17:18.074Z"
   },
   {
    "duration": 43,
    "start_time": "2022-08-29T14:17:18.089Z"
   },
   {
    "duration": 12,
    "start_time": "2022-08-29T14:17:18.133Z"
   },
   {
    "duration": 14,
    "start_time": "2022-08-29T14:17:18.146Z"
   },
   {
    "duration": 316,
    "start_time": "2022-08-29T14:17:18.161Z"
   },
   {
    "duration": 12,
    "start_time": "2022-08-29T14:17:18.479Z"
   },
   {
    "duration": 275,
    "start_time": "2022-08-29T14:17:18.493Z"
   },
   {
    "duration": 4,
    "start_time": "2022-08-29T14:17:18.770Z"
   },
   {
    "duration": 358,
    "start_time": "2022-08-29T14:17:18.775Z"
   },
   {
    "duration": 319,
    "start_time": "2022-08-29T14:17:19.135Z"
   },
   {
    "duration": 105,
    "start_time": "2022-08-29T14:17:19.459Z"
   },
   {
    "duration": 6,
    "start_time": "2022-08-29T14:17:19.566Z"
   },
   {
    "duration": 249,
    "start_time": "2022-08-29T14:17:19.574Z"
   },
   {
    "duration": 210,
    "start_time": "2022-08-29T14:17:19.831Z"
   },
   {
    "duration": 165,
    "start_time": "2022-08-29T14:17:20.043Z"
   },
   {
    "duration": 147,
    "start_time": "2022-08-29T14:17:20.209Z"
   },
   {
    "duration": 11,
    "start_time": "2022-08-29T14:17:20.358Z"
   },
   {
    "duration": 25,
    "start_time": "2022-08-29T14:17:20.370Z"
   },
   {
    "duration": 145,
    "start_time": "2022-08-29T14:17:20.397Z"
   },
   {
    "duration": 141,
    "start_time": "2022-08-29T14:17:20.543Z"
   },
   {
    "duration": 10,
    "start_time": "2022-08-29T14:17:20.686Z"
   },
   {
    "duration": 181,
    "start_time": "2022-08-29T14:17:20.698Z"
   },
   {
    "duration": 170,
    "start_time": "2022-08-29T14:17:20.880Z"
   },
   {
    "duration": 183,
    "start_time": "2022-08-29T14:17:21.051Z"
   },
   {
    "duration": 334,
    "start_time": "2022-08-29T14:17:21.236Z"
   },
   {
    "duration": 237,
    "start_time": "2022-08-29T14:17:21.571Z"
   },
   {
    "duration": 4,
    "start_time": "2022-08-29T14:17:21.809Z"
   },
   {
    "duration": 5,
    "start_time": "2022-08-29T14:17:21.814Z"
   },
   {
    "duration": 339,
    "start_time": "2022-08-29T14:17:21.821Z"
   },
   {
    "duration": 73,
    "start_time": "2022-08-29T14:17:22.162Z"
   },
   {
    "duration": 0,
    "start_time": "2022-08-29T14:17:22.237Z"
   },
   {
    "duration": 0,
    "start_time": "2022-08-29T14:17:22.238Z"
   },
   {
    "duration": 0,
    "start_time": "2022-08-29T14:17:22.239Z"
   },
   {
    "duration": 0,
    "start_time": "2022-08-29T14:17:22.239Z"
   },
   {
    "duration": 0,
    "start_time": "2022-08-29T14:17:22.241Z"
   },
   {
    "duration": 0,
    "start_time": "2022-08-29T14:17:22.242Z"
   },
   {
    "duration": 0,
    "start_time": "2022-08-29T14:17:22.243Z"
   },
   {
    "duration": 0,
    "start_time": "2022-08-29T14:17:22.244Z"
   },
   {
    "duration": 0,
    "start_time": "2022-08-29T14:17:22.245Z"
   },
   {
    "duration": 0,
    "start_time": "2022-08-29T14:17:22.246Z"
   },
   {
    "duration": 0,
    "start_time": "2022-08-29T14:17:22.247Z"
   },
   {
    "duration": 0,
    "start_time": "2022-08-29T14:17:22.248Z"
   },
   {
    "duration": 0,
    "start_time": "2022-08-29T14:17:22.249Z"
   },
   {
    "duration": 0,
    "start_time": "2022-08-29T14:17:22.250Z"
   },
   {
    "duration": 0,
    "start_time": "2022-08-29T14:17:22.251Z"
   },
   {
    "duration": 0,
    "start_time": "2022-08-29T14:17:22.252Z"
   },
   {
    "duration": 0,
    "start_time": "2022-08-29T14:17:22.253Z"
   },
   {
    "duration": 75,
    "start_time": "2022-08-29T14:19:59.873Z"
   },
   {
    "duration": 323,
    "start_time": "2022-08-29T14:20:00.910Z"
   },
   {
    "duration": 111,
    "start_time": "2022-08-29T14:20:24.306Z"
   },
   {
    "duration": 234,
    "start_time": "2022-08-29T14:20:27.847Z"
   },
   {
    "duration": 101,
    "start_time": "2022-08-29T14:20:49.806Z"
   },
   {
    "duration": 239,
    "start_time": "2022-08-29T14:20:50.985Z"
   },
   {
    "duration": 5,
    "start_time": "2022-08-29T14:21:08.370Z"
   },
   {
    "duration": 240,
    "start_time": "2022-08-29T14:21:09.538Z"
   },
   {
    "duration": 5,
    "start_time": "2022-08-29T14:21:14.384Z"
   },
   {
    "duration": 335,
    "start_time": "2022-08-29T14:21:16.015Z"
   },
   {
    "duration": 234,
    "start_time": "2022-08-29T14:21:28.958Z"
   },
   {
    "duration": 553,
    "start_time": "2022-08-29T14:21:33.496Z"
   },
   {
    "duration": 4,
    "start_time": "2022-08-29T14:21:45.620Z"
   },
   {
    "duration": 518,
    "start_time": "2022-08-29T14:21:46.846Z"
   },
   {
    "duration": 5,
    "start_time": "2022-08-29T14:21:55.087Z"
   },
   {
    "duration": 256,
    "start_time": "2022-08-29T14:21:56.039Z"
   },
   {
    "duration": 4,
    "start_time": "2022-08-29T14:22:04.590Z"
   },
   {
    "duration": 257,
    "start_time": "2022-08-29T14:22:05.390Z"
   },
   {
    "duration": 5,
    "start_time": "2022-08-29T14:22:14.120Z"
   },
   {
    "duration": 353,
    "start_time": "2022-08-29T14:22:14.897Z"
   },
   {
    "duration": 4,
    "start_time": "2022-08-29T14:22:28.314Z"
   },
   {
    "duration": 262,
    "start_time": "2022-08-29T14:22:29.788Z"
   },
   {
    "duration": 73,
    "start_time": "2022-08-29T14:22:43.841Z"
   },
   {
    "duration": 252,
    "start_time": "2022-08-29T14:22:44.847Z"
   },
   {
    "duration": 5,
    "start_time": "2022-08-29T14:23:59.083Z"
   },
   {
    "duration": 246,
    "start_time": "2022-08-29T14:24:02.613Z"
   },
   {
    "duration": 5,
    "start_time": "2022-08-29T14:24:19.219Z"
   },
   {
    "duration": 239,
    "start_time": "2022-08-29T14:24:20.499Z"
   },
   {
    "duration": 5,
    "start_time": "2022-08-29T14:25:02.489Z"
   },
   {
    "duration": 252,
    "start_time": "2022-08-29T14:25:03.338Z"
   },
   {
    "duration": 75,
    "start_time": "2022-08-29T14:26:04.413Z"
   },
   {
    "duration": 331,
    "start_time": "2022-08-29T14:26:05.637Z"
   },
   {
    "duration": 89,
    "start_time": "2022-08-29T14:26:12.351Z"
   },
   {
    "duration": 268,
    "start_time": "2022-08-29T14:26:13.327Z"
   },
   {
    "duration": 4,
    "start_time": "2022-08-29T14:26:42.807Z"
   },
   {
    "duration": 481,
    "start_time": "2022-08-29T14:26:44.297Z"
   },
   {
    "duration": 6,
    "start_time": "2022-08-29T14:26:59.373Z"
   },
   {
    "duration": 289,
    "start_time": "2022-08-29T14:27:00.335Z"
   },
   {
    "duration": 5,
    "start_time": "2022-08-29T14:27:13.083Z"
   },
   {
    "duration": 525,
    "start_time": "2022-08-29T14:27:14.662Z"
   },
   {
    "duration": 4,
    "start_time": "2022-08-29T14:27:22.823Z"
   },
   {
    "duration": 625,
    "start_time": "2022-08-29T14:27:24.858Z"
   },
   {
    "duration": 4,
    "start_time": "2022-08-29T14:28:03.319Z"
   },
   {
    "duration": 255,
    "start_time": "2022-08-29T14:28:06.474Z"
   },
   {
    "duration": 5,
    "start_time": "2022-08-29T14:28:55.596Z"
   },
   {
    "duration": 257,
    "start_time": "2022-08-29T14:28:56.550Z"
   },
   {
    "duration": 4,
    "start_time": "2022-08-29T14:29:10.453Z"
   },
   {
    "duration": 477,
    "start_time": "2022-08-29T14:29:11.317Z"
   },
   {
    "duration": 5,
    "start_time": "2022-08-29T14:29:54.422Z"
   },
   {
    "duration": 501,
    "start_time": "2022-08-29T14:29:56.083Z"
   },
   {
    "duration": 113,
    "start_time": "2022-08-29T14:30:26.049Z"
   },
   {
    "duration": 244,
    "start_time": "2022-08-29T14:30:28.663Z"
   },
   {
    "duration": 4,
    "start_time": "2022-08-29T14:31:08.199Z"
   },
   {
    "duration": 648,
    "start_time": "2022-08-29T14:31:08.953Z"
   },
   {
    "duration": 5,
    "start_time": "2022-08-29T14:32:17.544Z"
   },
   {
    "duration": 577,
    "start_time": "2022-08-29T14:32:20.884Z"
   },
   {
    "duration": 269,
    "start_time": "2022-08-29T14:33:07.550Z"
   },
   {
    "duration": 239,
    "start_time": "2022-08-29T14:34:09.760Z"
   },
   {
    "duration": 5,
    "start_time": "2022-08-29T14:34:15.910Z"
   },
   {
    "duration": 237,
    "start_time": "2022-08-29T14:34:16.649Z"
   },
   {
    "duration": 4,
    "start_time": "2022-08-29T14:34:25.888Z"
   },
   {
    "duration": 539,
    "start_time": "2022-08-29T14:34:26.690Z"
   },
   {
    "duration": 623,
    "start_time": "2022-08-29T14:34:52.021Z"
   },
   {
    "duration": 5,
    "start_time": "2022-08-29T14:43:33.946Z"
   },
   {
    "duration": 566,
    "start_time": "2022-08-29T14:43:36.190Z"
   },
   {
    "duration": 5,
    "start_time": "2022-08-29T14:44:29.840Z"
   },
   {
    "duration": 522,
    "start_time": "2022-08-29T14:44:30.606Z"
   },
   {
    "duration": 532,
    "start_time": "2022-08-29T14:44:40.197Z"
   },
   {
    "duration": 5,
    "start_time": "2022-08-29T14:44:51.234Z"
   },
   {
    "duration": 545,
    "start_time": "2022-08-29T14:44:51.874Z"
   },
   {
    "duration": 647,
    "start_time": "2022-08-29T14:44:57.719Z"
   },
   {
    "duration": 5,
    "start_time": "2022-08-29T14:45:01.753Z"
   },
   {
    "duration": 510,
    "start_time": "2022-08-29T14:45:02.622Z"
   },
   {
    "duration": 1029,
    "start_time": "2022-08-29T14:47:42.772Z"
   },
   {
    "duration": 66,
    "start_time": "2022-08-29T14:47:43.803Z"
   },
   {
    "duration": 12,
    "start_time": "2022-08-29T14:47:43.870Z"
   },
   {
    "duration": 3,
    "start_time": "2022-08-29T14:47:43.885Z"
   },
   {
    "duration": 23,
    "start_time": "2022-08-29T14:47:43.889Z"
   },
   {
    "duration": 19,
    "start_time": "2022-08-29T14:47:43.914Z"
   },
   {
    "duration": 6,
    "start_time": "2022-08-29T14:47:43.935Z"
   },
   {
    "duration": 8,
    "start_time": "2022-08-29T14:47:43.942Z"
   },
   {
    "duration": 9,
    "start_time": "2022-08-29T14:47:43.951Z"
   },
   {
    "duration": 5,
    "start_time": "2022-08-29T14:47:43.962Z"
   },
   {
    "duration": 7,
    "start_time": "2022-08-29T14:47:43.969Z"
   },
   {
    "duration": 10,
    "start_time": "2022-08-29T14:47:43.977Z"
   },
   {
    "duration": 7,
    "start_time": "2022-08-29T14:47:43.989Z"
   },
   {
    "duration": 6,
    "start_time": "2022-08-29T14:47:44.030Z"
   },
   {
    "duration": 7,
    "start_time": "2022-08-29T14:47:44.038Z"
   },
   {
    "duration": 14,
    "start_time": "2022-08-29T14:47:44.047Z"
   },
   {
    "duration": 8,
    "start_time": "2022-08-29T14:47:44.062Z"
   },
   {
    "duration": 17,
    "start_time": "2022-08-29T14:47:44.071Z"
   },
   {
    "duration": 15,
    "start_time": "2022-08-29T14:47:44.089Z"
   },
   {
    "duration": 36,
    "start_time": "2022-08-29T14:47:44.105Z"
   },
   {
    "duration": 15,
    "start_time": "2022-08-29T14:47:44.143Z"
   },
   {
    "duration": 307,
    "start_time": "2022-08-29T14:47:44.159Z"
   },
   {
    "duration": 12,
    "start_time": "2022-08-29T14:47:44.468Z"
   },
   {
    "duration": 262,
    "start_time": "2022-08-29T14:47:44.481Z"
   },
   {
    "duration": 4,
    "start_time": "2022-08-29T14:47:44.745Z"
   },
   {
    "duration": 359,
    "start_time": "2022-08-29T14:47:44.750Z"
   },
   {
    "duration": 312,
    "start_time": "2022-08-29T14:47:45.111Z"
   },
   {
    "duration": 97,
    "start_time": "2022-08-29T14:47:45.426Z"
   },
   {
    "duration": 4,
    "start_time": "2022-08-29T14:47:45.531Z"
   },
   {
    "duration": 207,
    "start_time": "2022-08-29T14:47:45.536Z"
   },
   {
    "duration": 192,
    "start_time": "2022-08-29T14:47:45.745Z"
   },
   {
    "duration": 140,
    "start_time": "2022-08-29T14:47:45.939Z"
   },
   {
    "duration": 150,
    "start_time": "2022-08-29T14:47:46.081Z"
   },
   {
    "duration": 12,
    "start_time": "2022-08-29T14:47:46.233Z"
   },
   {
    "duration": 11,
    "start_time": "2022-08-29T14:47:46.246Z"
   },
   {
    "duration": 152,
    "start_time": "2022-08-29T14:47:46.259Z"
   },
   {
    "duration": 144,
    "start_time": "2022-08-29T14:47:46.412Z"
   },
   {
    "duration": 11,
    "start_time": "2022-08-29T14:47:46.558Z"
   },
   {
    "duration": 177,
    "start_time": "2022-08-29T14:47:46.571Z"
   },
   {
    "duration": 169,
    "start_time": "2022-08-29T14:47:46.750Z"
   },
   {
    "duration": 179,
    "start_time": "2022-08-29T14:47:46.920Z"
   },
   {
    "duration": 314,
    "start_time": "2022-08-29T14:47:47.101Z"
   },
   {
    "duration": 250,
    "start_time": "2022-08-29T14:47:47.418Z"
   },
   {
    "duration": 5,
    "start_time": "2022-08-29T14:47:47.670Z"
   },
   {
    "duration": 594,
    "start_time": "2022-08-29T14:47:47.677Z"
   },
   {
    "duration": 5,
    "start_time": "2022-08-29T14:47:48.273Z"
   },
   {
    "duration": 378,
    "start_time": "2022-08-29T14:47:48.280Z"
   },
   {
    "duration": 191,
    "start_time": "2022-08-29T14:47:48.660Z"
   },
   {
    "duration": 11,
    "start_time": "2022-08-29T14:47:48.852Z"
   },
   {
    "duration": 12,
    "start_time": "2022-08-29T14:47:48.864Z"
   },
   {
    "duration": 23,
    "start_time": "2022-08-29T14:47:48.878Z"
   },
   {
    "duration": 65,
    "start_time": "2022-08-29T14:47:48.903Z"
   },
   {
    "duration": 3,
    "start_time": "2022-08-29T14:47:48.969Z"
   },
   {
    "duration": 11,
    "start_time": "2022-08-29T14:47:48.974Z"
   },
   {
    "duration": 12,
    "start_time": "2022-08-29T14:47:48.986Z"
   },
   {
    "duration": 8,
    "start_time": "2022-08-29T14:47:48.999Z"
   },
   {
    "duration": 23,
    "start_time": "2022-08-29T14:47:49.008Z"
   },
   {
    "duration": 7,
    "start_time": "2022-08-29T14:47:49.032Z"
   },
   {
    "duration": 551,
    "start_time": "2022-08-29T14:47:49.040Z"
   },
   {
    "duration": 660,
    "start_time": "2022-08-29T14:47:49.593Z"
   }
  ],
  "celltoolbar": "Отсутствует",
  "kernelspec": {
   "display_name": "Python 3 (ipykernel)",
   "language": "python",
   "name": "python3"
  },
  "language_info": {
   "codemirror_mode": {
    "name": "ipython",
    "version": 3
   },
   "file_extension": ".py",
   "mimetype": "text/x-python",
   "name": "python",
   "nbconvert_exporter": "python",
   "pygments_lexer": "ipython3",
   "version": "3.9.5"
  },
  "toc": {
   "base_numbering": 1,
   "nav_menu": {},
   "number_sections": true,
   "sideBar": true,
   "skip_h1_title": true,
   "title_cell": "Table of Contents",
   "title_sidebar": "Contents",
   "toc_cell": true,
   "toc_position": {
    "height": "calc(100% - 180px)",
    "left": "10px",
    "top": "150px",
    "width": "285.764px"
   },
   "toc_section_display": true,
   "toc_window_display": true
  }
 },
 "nbformat": 4,
 "nbformat_minor": 2
}
