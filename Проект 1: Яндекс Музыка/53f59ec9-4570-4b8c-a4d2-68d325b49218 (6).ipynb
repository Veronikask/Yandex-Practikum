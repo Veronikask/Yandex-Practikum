{
 "cells": [
  {
   "cell_type": "markdown",
   "metadata": {
    "id": "E0vqbgi9ay0H"
   },
   "source": [
    "# Яндекс.Музыка"
   ]
  },
  {
   "cell_type": "markdown",
   "metadata": {
    "id": "VUC88oWjTJw2"
   },
   "source": [
    "Сравнение Москвы и Петербурга окружено мифами. Например:\n",
    " * Москва — мегаполис, подчинённый жёсткому ритму рабочей недели;\n",
    " * Петербург — культурная столица, со своими вкусами.\n",
    "\n",
    "На данных Яндекс.Музыки вы сравните поведение пользователей двух столиц.\n",
    "\n",
    "**Цель исследования** — проверьте три гипотезы:\n",
    "1. Активность пользователей зависит от дня недели. Причём в Москве и Петербурге это проявляется по-разному.\n",
    "2. В понедельник утром в Москве преобладают одни жанры, а в Петербурге — другие. Так же и вечером пятницы преобладают разные жанры — в зависимости от города. \n",
    "3. Москва и Петербург предпочитают разные жанры музыки. В Москве чаще слушают поп-музыку, в Петербурге — русский рэп.\n",
    "\n",
    "**Ход исследования**\n",
    "\n",
    "Данные о поведении пользователей вы получите из файла `yandex_music_project.csv`. О качестве данных ничего не известно. Поэтому перед проверкой гипотез понадобится обзор данных. \n",
    "\n",
    "Вы проверите данные на ошибки и оцените их влияние на исследование. Затем, на этапе предобработки вы поищете возможность исправить самые критичные ошибки данных.\n",
    " \n",
    "Таким образом, исследование пройдёт в три этапа:\n",
    " 1. Обзор данных.\n",
    " 2. Предобработка данных.\n",
    " 3. Проверка гипотез.\n",
    "\n"
   ]
  },
  {
   "cell_type": "markdown",
   "metadata": {},
   "source": [
    "[Проверка гипотез](# Проверка гипотез)"
   ]
  },
  {
   "cell_type": "markdown",
   "metadata": {
    "id": "Ml1hmfXC_Zcs"
   },
   "source": [
    "## Обзор данных\n",
    "\n",
    "Составьте первое представление о данных Яндекс.Музыки.\n",
    "\n",
    "\n"
   ]
  },
  {
   "cell_type": "markdown",
   "metadata": {
    "id": "57eAOGIz_Zcs"
   },
   "source": [
    "Основной инструмент аналитика — `pandas`. Импортируйте эту библиотеку."
   ]
  },
  {
   "cell_type": "code",
   "execution_count": 1,
   "metadata": {
    "id": "AXN7PHPN_Zcs"
   },
   "outputs": [],
   "source": [
    "# импорт библиотеки pandas\n",
    "import pandas as pd"
   ]
  },
  {
   "cell_type": "markdown",
   "metadata": {
    "id": "SG23P8tt_Zcs"
   },
   "source": [
    "Прочитайте файл `yandex_music_project.csv` из папки `/datasets` и сохраните его в переменной `df`:"
   ]
  },
  {
   "cell_type": "code",
   "execution_count": 2,
   "metadata": {
    "id": "fFVu7vqh_Zct"
   },
   "outputs": [],
   "source": [
    "# чтение файла с данными и сохранение в df\n",
    "df=pd.read_csv('/datasets/yandex_music_project.csv')"
   ]
  },
  {
   "cell_type": "markdown",
   "metadata": {
    "id": "rDoOMd3uTqnZ"
   },
   "source": [
    "Выведите на экран первые десять строк таблицы:"
   ]
  },
  {
   "cell_type": "code",
   "execution_count": 3,
   "metadata": {
    "id": "oWTVX3gW_Zct",
    "scrolled": false
   },
   "outputs": [
    {
     "data": {
      "text/html": [
       "<div>\n",
       "<style scoped>\n",
       "    .dataframe tbody tr th:only-of-type {\n",
       "        vertical-align: middle;\n",
       "    }\n",
       "\n",
       "    .dataframe tbody tr th {\n",
       "        vertical-align: top;\n",
       "    }\n",
       "\n",
       "    .dataframe thead th {\n",
       "        text-align: right;\n",
       "    }\n",
       "</style>\n",
       "<table border=\"1\" class=\"dataframe\">\n",
       "  <thead>\n",
       "    <tr style=\"text-align: right;\">\n",
       "      <th></th>\n",
       "      <th>userID</th>\n",
       "      <th>Track</th>\n",
       "      <th>artist</th>\n",
       "      <th>genre</th>\n",
       "      <th>City</th>\n",
       "      <th>time</th>\n",
       "      <th>Day</th>\n",
       "    </tr>\n",
       "  </thead>\n",
       "  <tbody>\n",
       "    <tr>\n",
       "      <th>0</th>\n",
       "      <td>FFB692EC</td>\n",
       "      <td>Kamigata To Boots</td>\n",
       "      <td>The Mass Missile</td>\n",
       "      <td>rock</td>\n",
       "      <td>Saint-Petersburg</td>\n",
       "      <td>20:28:33</td>\n",
       "      <td>Wednesday</td>\n",
       "    </tr>\n",
       "    <tr>\n",
       "      <th>1</th>\n",
       "      <td>55204538</td>\n",
       "      <td>Delayed Because of Accident</td>\n",
       "      <td>Andreas Rönnberg</td>\n",
       "      <td>rock</td>\n",
       "      <td>Moscow</td>\n",
       "      <td>14:07:09</td>\n",
       "      <td>Friday</td>\n",
       "    </tr>\n",
       "    <tr>\n",
       "      <th>2</th>\n",
       "      <td>20EC38</td>\n",
       "      <td>Funiculì funiculà</td>\n",
       "      <td>Mario Lanza</td>\n",
       "      <td>pop</td>\n",
       "      <td>Saint-Petersburg</td>\n",
       "      <td>20:58:07</td>\n",
       "      <td>Wednesday</td>\n",
       "    </tr>\n",
       "    <tr>\n",
       "      <th>3</th>\n",
       "      <td>A3DD03C9</td>\n",
       "      <td>Dragons in the Sunset</td>\n",
       "      <td>Fire + Ice</td>\n",
       "      <td>folk</td>\n",
       "      <td>Saint-Petersburg</td>\n",
       "      <td>08:37:09</td>\n",
       "      <td>Monday</td>\n",
       "    </tr>\n",
       "    <tr>\n",
       "      <th>4</th>\n",
       "      <td>E2DC1FAE</td>\n",
       "      <td>Soul People</td>\n",
       "      <td>Space Echo</td>\n",
       "      <td>dance</td>\n",
       "      <td>Moscow</td>\n",
       "      <td>08:34:34</td>\n",
       "      <td>Monday</td>\n",
       "    </tr>\n",
       "    <tr>\n",
       "      <th>5</th>\n",
       "      <td>842029A1</td>\n",
       "      <td>Преданная</td>\n",
       "      <td>IMPERVTOR</td>\n",
       "      <td>rusrap</td>\n",
       "      <td>Saint-Petersburg</td>\n",
       "      <td>13:09:41</td>\n",
       "      <td>Friday</td>\n",
       "    </tr>\n",
       "    <tr>\n",
       "      <th>6</th>\n",
       "      <td>4CB90AA5</td>\n",
       "      <td>True</td>\n",
       "      <td>Roman Messer</td>\n",
       "      <td>dance</td>\n",
       "      <td>Moscow</td>\n",
       "      <td>13:00:07</td>\n",
       "      <td>Wednesday</td>\n",
       "    </tr>\n",
       "    <tr>\n",
       "      <th>7</th>\n",
       "      <td>F03E1C1F</td>\n",
       "      <td>Feeling This Way</td>\n",
       "      <td>Polina Griffith</td>\n",
       "      <td>dance</td>\n",
       "      <td>Moscow</td>\n",
       "      <td>20:47:49</td>\n",
       "      <td>Wednesday</td>\n",
       "    </tr>\n",
       "    <tr>\n",
       "      <th>8</th>\n",
       "      <td>8FA1D3BE</td>\n",
       "      <td>И вновь продолжается бой</td>\n",
       "      <td>NaN</td>\n",
       "      <td>ruspop</td>\n",
       "      <td>Moscow</td>\n",
       "      <td>09:17:40</td>\n",
       "      <td>Friday</td>\n",
       "    </tr>\n",
       "    <tr>\n",
       "      <th>9</th>\n",
       "      <td>E772D5C0</td>\n",
       "      <td>Pessimist</td>\n",
       "      <td>NaN</td>\n",
       "      <td>dance</td>\n",
       "      <td>Saint-Petersburg</td>\n",
       "      <td>21:20:49</td>\n",
       "      <td>Wednesday</td>\n",
       "    </tr>\n",
       "  </tbody>\n",
       "</table>\n",
       "</div>"
      ],
      "text/plain": [
       "     userID                        Track            artist   genre  \\\n",
       "0  FFB692EC            Kamigata To Boots  The Mass Missile    rock   \n",
       "1  55204538  Delayed Because of Accident  Andreas Rönnberg    rock   \n",
       "2    20EC38            Funiculì funiculà       Mario Lanza     pop   \n",
       "3  A3DD03C9        Dragons in the Sunset        Fire + Ice    folk   \n",
       "4  E2DC1FAE                  Soul People        Space Echo   dance   \n",
       "5  842029A1                    Преданная         IMPERVTOR  rusrap   \n",
       "6  4CB90AA5                         True      Roman Messer   dance   \n",
       "7  F03E1C1F             Feeling This Way   Polina Griffith   dance   \n",
       "8  8FA1D3BE     И вновь продолжается бой               NaN  ruspop   \n",
       "9  E772D5C0                    Pessimist               NaN   dance   \n",
       "\n",
       "             City        time        Day  \n",
       "0  Saint-Petersburg  20:28:33  Wednesday  \n",
       "1            Moscow  14:07:09     Friday  \n",
       "2  Saint-Petersburg  20:58:07  Wednesday  \n",
       "3  Saint-Petersburg  08:37:09     Monday  \n",
       "4            Moscow  08:34:34     Monday  \n",
       "5  Saint-Petersburg  13:09:41     Friday  \n",
       "6            Moscow  13:00:07  Wednesday  \n",
       "7            Moscow  20:47:49  Wednesday  \n",
       "8            Moscow  09:17:40     Friday  \n",
       "9  Saint-Petersburg  21:20:49  Wednesday  "
      ]
     },
     "execution_count": 3,
     "metadata": {},
     "output_type": "execute_result"
    }
   ],
   "source": [
    "# получение первых 10 строк таблицы df\n",
    "df.head(10)"
   ]
  },
  {
   "cell_type": "markdown",
   "metadata": {
    "id": "EO73Kwic_Zct"
   },
   "source": [
    "Одной командой получить общую информацию о таблице:"
   ]
  },
  {
   "cell_type": "code",
   "execution_count": 4,
   "metadata": {
    "id": "DSf2kIb-_Zct"
   },
   "outputs": [
    {
     "name": "stdout",
     "output_type": "stream",
     "text": [
      "<class 'pandas.core.frame.DataFrame'>\n",
      "RangeIndex: 65079 entries, 0 to 65078\n",
      "Data columns (total 7 columns):\n",
      " #   Column    Non-Null Count  Dtype \n",
      "---  ------    --------------  ----- \n",
      " 0     userID  65079 non-null  object\n",
      " 1   Track     63848 non-null  object\n",
      " 2   artist    57876 non-null  object\n",
      " 3   genre     63881 non-null  object\n",
      " 4     City    65079 non-null  object\n",
      " 5   time      65079 non-null  object\n",
      " 6   Day       65079 non-null  object\n",
      "dtypes: object(7)\n",
      "memory usage: 3.5+ MB\n"
     ]
    }
   ],
   "source": [
    "# получение общей информации о данных в таблице df\n",
    "df.info()"
   ]
  },
  {
   "cell_type": "markdown",
   "metadata": {
    "id": "TaQ2Iwbr_Zct"
   },
   "source": [
    "Итак, в таблице семь столбцов. Тип данных во всех столбцах — `object`.\n",
    "\n",
    "Согласно документации к данным:\n",
    "* `userID` — идентификатор пользователя;\n",
    "* `Track` — название трека;  \n",
    "* `artist` — имя исполнителя;\n",
    "* `genre` — название жанра;\n",
    "* `City` — город пользователя;\n",
    "* `time` — время начала прослушивания;\n",
    "* `Day` — день недели.\n",
    "\n",
    "В названиях колонок видны три нарушения стиля:\n",
    "1. Строчные буквы сочетаются с прописными.\n",
    "2. Встречаются пробелы.\n",
    "3. Встречается \"верблюжий\" регистр.\n",
    "\n",
    "\n",
    "\n",
    "Количество значений в столбцах различается. Значит, в данных есть пропущенные значения.\n"
   ]
  },
  {
   "cell_type": "markdown",
   "metadata": {
    "id": "MCB6-dXG_Zct"
   },
   "source": [
    "**Выводы**\n",
    "\n",
    "В каждой строке таблицы — данные о прослушанном треке. Часть колонок описывает саму композицию: название, исполнителя и жанр. Остальные данные рассказывают о пользователе: из какого он города, когда он слушал музыку. \n",
    "\n",
    "Предварительно можно утверждать, что, данных достаточно для проверки гипотез. Но встречаются пропуски в данных, а в названиях колонок — расхождения с хорошим стилем.\n",
    "\n",
    "Чтобы двигаться дальше, нужно устранить проблемы в данных."
   ]
  },
  {
   "cell_type": "markdown",
   "metadata": {
    "id": "SjYF6Ub9_Zct"
   },
   "source": [
    "## Предобработка данных\n",
    "Исправьте стиль в заголовках столбцов, исключите пропуски. Затем проверьте данные на дубликаты."
   ]
  },
  {
   "cell_type": "markdown",
   "metadata": {
    "id": "dIaKXr29_Zct"
   },
   "source": [
    "### Стиль заголовков\n",
    "Выведите на экран названия столбцов:"
   ]
  },
  {
   "cell_type": "code",
   "execution_count": 5,
   "metadata": {
    "id": "oKOTdF_Q_Zct",
    "scrolled": true
   },
   "outputs": [
    {
     "data": {
      "text/plain": [
       "Index(['  userID', 'Track', 'artist', 'genre', '  City  ', 'time', 'Day'], dtype='object')"
      ]
     },
     "execution_count": 5,
     "metadata": {},
     "output_type": "execute_result"
    }
   ],
   "source": [
    "# перечень названий столбцов таблицы df\n",
    "df.columns"
   ]
  },
  {
   "cell_type": "markdown",
   "metadata": {
    "id": "zj5534cv_Zct"
   },
   "source": [
    "Приведите названия в соответствие с хорошим стилем:\n",
    "* несколько слов в названии запишите в «змеином_регистре»,\n",
    "* все символы сделайте строчными,\n",
    "* устраните пробелы.\n",
    "\n",
    "Для этого переименуйте колонки так:\n",
    "* `'  userID'` → `'user_id'`;\n",
    "* `'Track'` → `'track'`;\n",
    "* `'  City  '` → `'city'`;\n",
    "* `'Day'` → `'day'`."
   ]
  },
  {
   "cell_type": "code",
   "execution_count": 6,
   "metadata": {
    "id": "ISlFqs5y_Zct"
   },
   "outputs": [],
   "source": [
    "# переименование столбцов\n",
    "new_columns={\n",
    "    '  userID':'user_id',\n",
    "    'Track':'track',\n",
    "    '  City  ':'city',\n",
    "    'Day':'day'\n",
    "}\n",
    "df.rename(columns=new_columns,inplace=True)"
   ]
  },
  {
   "cell_type": "markdown",
   "metadata": {
    "id": "1dqbh00J_Zct"
   },
   "source": [
    "Проверьте результат. Для этого ещё раз выведите на экран названия столбцов:"
   ]
  },
  {
   "cell_type": "code",
   "execution_count": 7,
   "metadata": {
    "id": "d4NOAmTW_Zct"
   },
   "outputs": [
    {
     "data": {
      "text/plain": [
       "Index(['user_id', 'track', 'artist', 'genre', 'city', 'time', 'day'], dtype='object')"
      ]
     },
     "execution_count": 7,
     "metadata": {},
     "output_type": "execute_result"
    }
   ],
   "source": [
    "# проверка результатов - перечень названий столбцов\n",
    "df.columns"
   ]
  },
  {
   "cell_type": "markdown",
   "metadata": {
    "id": "5ISfbcfY_Zct"
   },
   "source": [
    "### Пропуски значений\n",
    "Сначала посчитайте, сколько в таблице пропущенных значений. Для этого достаточно двух методов `pandas`:"
   ]
  },
  {
   "cell_type": "code",
   "execution_count": 8,
   "metadata": {
    "id": "RskX29qr_Zct"
   },
   "outputs": [
    {
     "data": {
      "text/plain": [
       "user_id       0\n",
       "track      1231\n",
       "artist     7203\n",
       "genre      1198\n",
       "city          0\n",
       "time          0\n",
       "day           0\n",
       "dtype: int64"
      ]
     },
     "execution_count": 8,
     "metadata": {},
     "output_type": "execute_result"
    }
   ],
   "source": [
    "# подсчёт пропусков\n",
    "df.isna().sum()"
   ]
  },
  {
   "cell_type": "markdown",
   "metadata": {
    "id": "qubhgnlO_Zct"
   },
   "source": [
    "Не все пропущенные значения влияют на исследование. Так в `track` и `artist` пропуски не важны для вашей работы. Достаточно заменить их явными обозначениями.\n",
    "\n",
    "Но пропуски в `genre` могут помешать сравнению музыкальных вкусов в Москве и Санкт-Петербурге. На практике было бы правильно установить причину пропусков и восстановить данные. Такой возможности нет в учебном проекте. Придётся:\n",
    "* заполнить и эти пропуски явными обозначениями,\n",
    "* оценить, насколько они повредят расчётам. "
   ]
  },
  {
   "cell_type": "markdown",
   "metadata": {
    "id": "fSv2laPA_Zct"
   },
   "source": [
    "Замените пропущенные значения в столбцах `track`, `artist` и `genre` на строку `'unknown'`. Для этого создайте список `columns_to_replace`, переберите его элементы циклом `for` и для каждого столбца выполните замену пропущенных значений:"
   ]
  },
  {
   "cell_type": "code",
   "execution_count": 9,
   "metadata": {
    "id": "KplB5qWs_Zct"
   },
   "outputs": [],
   "source": [
    "# перебор названий столбцов в цикле и замена пропущенных значений на 'unknown'\n",
    "columns_to_replace=['track','artist','genre']\n",
    "for i in columns_to_replace:\n",
    "    df[i]=df[i].fillna('unknown')"
   ]
  },
  {
   "cell_type": "markdown",
   "metadata": {
    "id": "Ilsm-MZo_Zct"
   },
   "source": [
    "Убедитесь, что в таблице не осталось пропусков. Для этого ещё раз посчитайте пропущенные значения."
   ]
  },
  {
   "cell_type": "code",
   "execution_count": 10,
   "metadata": {
    "id": "Tq4nYRX4_Zct"
   },
   "outputs": [
    {
     "data": {
      "text/plain": [
       "user_id    0\n",
       "track      0\n",
       "artist     0\n",
       "genre      0\n",
       "city       0\n",
       "time       0\n",
       "day        0\n",
       "dtype: int64"
      ]
     },
     "execution_count": 10,
     "metadata": {},
     "output_type": "execute_result"
    }
   ],
   "source": [
    "# подсчёт пропусков\n",
    "df.isna().sum()"
   ]
  },
  {
   "cell_type": "markdown",
   "metadata": {
    "id": "BWKRtBJ3_Zct"
   },
   "source": [
    "### Дубликаты\n",
    "Посчитайте явные дубликаты в таблице одной командой:"
   ]
  },
  {
   "cell_type": "code",
   "execution_count": 11,
   "metadata": {
    "id": "36eES_S0_Zct"
   },
   "outputs": [
    {
     "data": {
      "text/plain": [
       "3826"
      ]
     },
     "execution_count": 11,
     "metadata": {},
     "output_type": "execute_result"
    }
   ],
   "source": [
    "# подсчёт явных дубликатов\n",
    "df.duplicated().sum()"
   ]
  },
  {
   "cell_type": "markdown",
   "metadata": {
    "id": "Ot25h6XR_Zct"
   },
   "source": [
    "Вызовите специальный метод `pandas`, чтобы удалить явные дубликаты:"
   ]
  },
  {
   "cell_type": "code",
   "execution_count": 12,
   "metadata": {
    "id": "exFHq6tt_Zct"
   },
   "outputs": [],
   "source": [
    "# удаление явных дубликатов (с удалением старых индексов и формированием новых)\n",
    "df=df.drop_duplicates().reset_index(drop=True)"
   ]
  },
  {
   "cell_type": "markdown",
   "metadata": {
    "id": "Im2YwBEG_Zct"
   },
   "source": [
    "Ещё раз посчитайте явные дубликаты в таблице — убедитесь, что полностью от них избавились:"
   ]
  },
  {
   "cell_type": "code",
   "execution_count": 13,
   "metadata": {
    "id": "-8PuNWQ0_Zct"
   },
   "outputs": [
    {
     "data": {
      "text/plain": [
       "0"
      ]
     },
     "execution_count": 13,
     "metadata": {},
     "output_type": "execute_result"
    }
   ],
   "source": [
    "# проверка на отсутствие дубликатов\n",
    "df.duplicated().sum()"
   ]
  },
  {
   "cell_type": "markdown",
   "metadata": {
    "id": "QlFBsxAr_Zct"
   },
   "source": [
    "Теперь избавьтесь от неявных дубликатов в колонке `genre`. Например, название одного и того же жанра может быть записано немного по-разному. Такие ошибки тоже повлияют на результат исследования."
   ]
  },
  {
   "cell_type": "markdown",
   "metadata": {
    "id": "eSjWwsOh_Zct"
   },
   "source": [
    "Выведите на экран список уникальных названий жанров, отсортированный в алфавитном порядке. Для этого:\n",
    "* извлеките нужный столбец датафрейма, \n",
    "* примените к нему метод сортировки,\n",
    "* для отсортированного столбца вызовите метод, который вернёт уникальные значения из столбца."
   ]
  },
  {
   "cell_type": "code",
   "execution_count": 14,
   "metadata": {
    "id": "JIUcqzZN_Zct"
   },
   "outputs": [
    {
     "data": {
      "text/plain": [
       "['acid',\n",
       " 'acoustic',\n",
       " 'action',\n",
       " 'adult',\n",
       " 'africa',\n",
       " 'afrikaans',\n",
       " 'alternative',\n",
       " 'alternativepunk',\n",
       " 'ambient',\n",
       " 'americana',\n",
       " 'animated',\n",
       " 'anime',\n",
       " 'arabesk',\n",
       " 'arabic',\n",
       " 'arena',\n",
       " 'argentinetango',\n",
       " 'art',\n",
       " 'audiobook',\n",
       " 'author',\n",
       " 'avantgarde',\n",
       " 'axé',\n",
       " 'baile',\n",
       " 'balkan',\n",
       " 'beats',\n",
       " 'bigroom',\n",
       " 'black',\n",
       " 'bluegrass',\n",
       " 'blues',\n",
       " 'bollywood',\n",
       " 'bossa',\n",
       " 'brazilian',\n",
       " 'breakbeat',\n",
       " 'breaks',\n",
       " 'broadway',\n",
       " 'cantautori',\n",
       " 'cantopop',\n",
       " 'canzone',\n",
       " 'caribbean',\n",
       " 'caucasian',\n",
       " 'celtic',\n",
       " 'chamber',\n",
       " 'chanson',\n",
       " 'children',\n",
       " 'chill',\n",
       " 'chinese',\n",
       " 'choral',\n",
       " 'christian',\n",
       " 'christmas',\n",
       " 'classical',\n",
       " 'classicmetal',\n",
       " 'club',\n",
       " 'colombian',\n",
       " 'comedy',\n",
       " 'conjazz',\n",
       " 'contemporary',\n",
       " 'country',\n",
       " 'cuban',\n",
       " 'dance',\n",
       " 'dancehall',\n",
       " 'dancepop',\n",
       " 'dark',\n",
       " 'death',\n",
       " 'deep',\n",
       " 'deutschrock',\n",
       " 'deutschspr',\n",
       " 'dirty',\n",
       " 'disco',\n",
       " 'dnb',\n",
       " 'documentary',\n",
       " 'downbeat',\n",
       " 'downtempo',\n",
       " 'drum',\n",
       " 'dub',\n",
       " 'dubstep',\n",
       " 'eastern',\n",
       " 'easy',\n",
       " 'electronic',\n",
       " 'electropop',\n",
       " 'emo',\n",
       " 'entehno',\n",
       " 'epicmetal',\n",
       " 'estrada',\n",
       " 'ethnic',\n",
       " 'eurofolk',\n",
       " 'european',\n",
       " 'experimental',\n",
       " 'extrememetal',\n",
       " 'fado',\n",
       " 'fairytail',\n",
       " 'film',\n",
       " 'fitness',\n",
       " 'flamenco',\n",
       " 'folk',\n",
       " 'folklore',\n",
       " 'folkmetal',\n",
       " 'folkrock',\n",
       " 'folktronica',\n",
       " 'forró',\n",
       " 'frankreich',\n",
       " 'französisch',\n",
       " 'french',\n",
       " 'funk',\n",
       " 'future',\n",
       " 'gangsta',\n",
       " 'garage',\n",
       " 'german',\n",
       " 'ghazal',\n",
       " 'gitarre',\n",
       " 'glitch',\n",
       " 'gospel',\n",
       " 'gothic',\n",
       " 'grime',\n",
       " 'grunge',\n",
       " 'gypsy',\n",
       " 'handsup',\n",
       " \"hard'n'heavy\",\n",
       " 'hardcore',\n",
       " 'hardstyle',\n",
       " 'hardtechno',\n",
       " 'hip',\n",
       " 'hip-hop',\n",
       " 'hiphop',\n",
       " 'historisch',\n",
       " 'holiday',\n",
       " 'hop',\n",
       " 'horror',\n",
       " 'house',\n",
       " 'hymn',\n",
       " 'idm',\n",
       " 'independent',\n",
       " 'indian',\n",
       " 'indie',\n",
       " 'indipop',\n",
       " 'industrial',\n",
       " 'inspirational',\n",
       " 'instrumental',\n",
       " 'international',\n",
       " 'irish',\n",
       " 'jam',\n",
       " 'japanese',\n",
       " 'jazz',\n",
       " 'jewish',\n",
       " 'jpop',\n",
       " 'jungle',\n",
       " 'k-pop',\n",
       " 'karadeniz',\n",
       " 'karaoke',\n",
       " 'kayokyoku',\n",
       " 'korean',\n",
       " 'laiko',\n",
       " 'latin',\n",
       " 'latino',\n",
       " 'leftfield',\n",
       " 'local',\n",
       " 'lounge',\n",
       " 'loungeelectronic',\n",
       " 'lovers',\n",
       " 'malaysian',\n",
       " 'mandopop',\n",
       " 'marschmusik',\n",
       " 'meditative',\n",
       " 'mediterranean',\n",
       " 'melodic',\n",
       " 'metal',\n",
       " 'metalcore',\n",
       " 'mexican',\n",
       " 'middle',\n",
       " 'minimal',\n",
       " 'miscellaneous',\n",
       " 'modern',\n",
       " 'mood',\n",
       " 'mpb',\n",
       " 'muslim',\n",
       " 'native',\n",
       " 'neoklassik',\n",
       " 'neue',\n",
       " 'new',\n",
       " 'newage',\n",
       " 'newwave',\n",
       " 'nu',\n",
       " 'nujazz',\n",
       " 'numetal',\n",
       " 'oceania',\n",
       " 'old',\n",
       " 'opera',\n",
       " 'orchestral',\n",
       " 'other',\n",
       " 'piano',\n",
       " 'podcasts',\n",
       " 'pop',\n",
       " 'popdance',\n",
       " 'popelectronic',\n",
       " 'popeurodance',\n",
       " 'poprussian',\n",
       " 'post',\n",
       " 'posthardcore',\n",
       " 'postrock',\n",
       " 'power',\n",
       " 'progmetal',\n",
       " 'progressive',\n",
       " 'psychedelic',\n",
       " 'punjabi',\n",
       " 'punk',\n",
       " 'quebecois',\n",
       " 'ragga',\n",
       " 'ram',\n",
       " 'rancheras',\n",
       " 'rap',\n",
       " 'rave',\n",
       " 'reggae',\n",
       " 'reggaeton',\n",
       " 'regional',\n",
       " 'relax',\n",
       " 'religious',\n",
       " 'retro',\n",
       " 'rhythm',\n",
       " 'rnb',\n",
       " 'rnr',\n",
       " 'rock',\n",
       " 'rockabilly',\n",
       " 'rockalternative',\n",
       " 'rockindie',\n",
       " 'rockother',\n",
       " 'romance',\n",
       " 'roots',\n",
       " 'ruspop',\n",
       " 'rusrap',\n",
       " 'rusrock',\n",
       " 'russian',\n",
       " 'salsa',\n",
       " 'samba',\n",
       " 'scenic',\n",
       " 'schlager',\n",
       " 'self',\n",
       " 'sertanejo',\n",
       " 'shanson',\n",
       " 'shoegazing',\n",
       " 'showtunes',\n",
       " 'singer',\n",
       " 'ska',\n",
       " 'skarock',\n",
       " 'slow',\n",
       " 'smooth',\n",
       " 'soft',\n",
       " 'soul',\n",
       " 'soulful',\n",
       " 'sound',\n",
       " 'soundtrack',\n",
       " 'southern',\n",
       " 'specialty',\n",
       " 'speech',\n",
       " 'spiritual',\n",
       " 'sport',\n",
       " 'stonerrock',\n",
       " 'surf',\n",
       " 'swing',\n",
       " 'synthpop',\n",
       " 'synthrock',\n",
       " 'sängerportrait',\n",
       " 'tango',\n",
       " 'tanzorchester',\n",
       " 'taraftar',\n",
       " 'tatar',\n",
       " 'tech',\n",
       " 'techno',\n",
       " 'teen',\n",
       " 'thrash',\n",
       " 'top',\n",
       " 'traditional',\n",
       " 'tradjazz',\n",
       " 'trance',\n",
       " 'tribal',\n",
       " 'trip',\n",
       " 'triphop',\n",
       " 'tropical',\n",
       " 'türk',\n",
       " 'türkçe',\n",
       " 'ukrrock',\n",
       " 'unknown',\n",
       " 'urban',\n",
       " 'uzbek',\n",
       " 'variété',\n",
       " 'vi',\n",
       " 'videogame',\n",
       " 'vocal',\n",
       " 'western',\n",
       " 'world',\n",
       " 'worldbeat',\n",
       " 'ïîï',\n",
       " 'электроника']"
      ]
     },
     "execution_count": 14,
     "metadata": {},
     "output_type": "execute_result"
    }
   ],
   "source": [
    "# Просмотр уникальных названий жанров\n",
    "sorted(df['genre'].unique())"
   ]
  },
  {
   "cell_type": "markdown",
   "metadata": {
    "id": "qej-Qmuo_Zct"
   },
   "source": [
    "Просмотрите список и найдите неявные дубликаты названия `hiphop`. Это могут быть названия с ошибками или альтернативные названия того же жанра.\n",
    "\n",
    "Вы увидите следующие неявные дубликаты:\n",
    "* *hip*,\n",
    "* *hop*,\n",
    "* *hip-hop*.\n",
    "\n",
    "Чтобы очистить от них таблицу, напишите функцию `replace_wrong_genres()` с двумя параметрами: \n",
    "* `wrong_genres` — список дубликатов,\n",
    "* `correct_genre` — строка с правильным значением.\n",
    "\n",
    "Функция должна исправить колонку `genre` в таблице `df`: заменить каждое значение из списка `wrong_genres` на значение из `correct_genre`."
   ]
  },
  {
   "cell_type": "code",
   "execution_count": 15,
   "metadata": {
    "id": "ErNDkmns_Zct"
   },
   "outputs": [],
   "source": [
    "# Функция для замены неявных дубликатов\n",
    "def replace_wrong_genres(wrong_genres,correct_genre):\n",
    "    for i in wrong_genres:\n",
    "        df['genre']=df['genre'].replace(wrong_genres,correct_genre)"
   ]
  },
  {
   "cell_type": "markdown",
   "metadata": {
    "id": "aDoBJxbA_Zct"
   },
   "source": [
    "Вызовите `replace_wrong_genres()` и передайте ей такие аргументы, чтобы она устранила неявные дубликаты: вместо `hip`, `hop` и `hip-hop` в таблице должно быть значение `hiphop`:"
   ]
  },
  {
   "cell_type": "code",
   "execution_count": 16,
   "metadata": {
    "id": "YN5i2hpmSo09"
   },
   "outputs": [],
   "source": [
    "# Устранение неявных дубликатов\n",
    "wrong_genres=['hip','hip-hop','hop']\n",
    "correct_genre='hiphop'\n",
    "replace_wrong_genres(wrong_genres,correct_genre)"
   ]
  },
  {
   "cell_type": "markdown",
   "metadata": {
    "id": "zQKF16_RG15m"
   },
   "source": [
    "Проверьте, что заменили неправильные названия:\n",
    "\n",
    "*   hip\n",
    "*   hop\n",
    "*   hip-hop\n",
    "\n",
    "Выведите отсортированный список уникальных значений столбца `genre`:"
   ]
  },
  {
   "cell_type": "code",
   "execution_count": 17,
   "metadata": {
    "id": "wvixALnFG15m"
   },
   "outputs": [
    {
     "data": {
      "text/plain": [
       "['acid',\n",
       " 'acoustic',\n",
       " 'action',\n",
       " 'adult',\n",
       " 'africa',\n",
       " 'afrikaans',\n",
       " 'alternative',\n",
       " 'alternativepunk',\n",
       " 'ambient',\n",
       " 'americana',\n",
       " 'animated',\n",
       " 'anime',\n",
       " 'arabesk',\n",
       " 'arabic',\n",
       " 'arena',\n",
       " 'argentinetango',\n",
       " 'art',\n",
       " 'audiobook',\n",
       " 'author',\n",
       " 'avantgarde',\n",
       " 'axé',\n",
       " 'baile',\n",
       " 'balkan',\n",
       " 'beats',\n",
       " 'bigroom',\n",
       " 'black',\n",
       " 'bluegrass',\n",
       " 'blues',\n",
       " 'bollywood',\n",
       " 'bossa',\n",
       " 'brazilian',\n",
       " 'breakbeat',\n",
       " 'breaks',\n",
       " 'broadway',\n",
       " 'cantautori',\n",
       " 'cantopop',\n",
       " 'canzone',\n",
       " 'caribbean',\n",
       " 'caucasian',\n",
       " 'celtic',\n",
       " 'chamber',\n",
       " 'chanson',\n",
       " 'children',\n",
       " 'chill',\n",
       " 'chinese',\n",
       " 'choral',\n",
       " 'christian',\n",
       " 'christmas',\n",
       " 'classical',\n",
       " 'classicmetal',\n",
       " 'club',\n",
       " 'colombian',\n",
       " 'comedy',\n",
       " 'conjazz',\n",
       " 'contemporary',\n",
       " 'country',\n",
       " 'cuban',\n",
       " 'dance',\n",
       " 'dancehall',\n",
       " 'dancepop',\n",
       " 'dark',\n",
       " 'death',\n",
       " 'deep',\n",
       " 'deutschrock',\n",
       " 'deutschspr',\n",
       " 'dirty',\n",
       " 'disco',\n",
       " 'dnb',\n",
       " 'documentary',\n",
       " 'downbeat',\n",
       " 'downtempo',\n",
       " 'drum',\n",
       " 'dub',\n",
       " 'dubstep',\n",
       " 'eastern',\n",
       " 'easy',\n",
       " 'electronic',\n",
       " 'electropop',\n",
       " 'emo',\n",
       " 'entehno',\n",
       " 'epicmetal',\n",
       " 'estrada',\n",
       " 'ethnic',\n",
       " 'eurofolk',\n",
       " 'european',\n",
       " 'experimental',\n",
       " 'extrememetal',\n",
       " 'fado',\n",
       " 'fairytail',\n",
       " 'film',\n",
       " 'fitness',\n",
       " 'flamenco',\n",
       " 'folk',\n",
       " 'folklore',\n",
       " 'folkmetal',\n",
       " 'folkrock',\n",
       " 'folktronica',\n",
       " 'forró',\n",
       " 'frankreich',\n",
       " 'französisch',\n",
       " 'french',\n",
       " 'funk',\n",
       " 'future',\n",
       " 'gangsta',\n",
       " 'garage',\n",
       " 'german',\n",
       " 'ghazal',\n",
       " 'gitarre',\n",
       " 'glitch',\n",
       " 'gospel',\n",
       " 'gothic',\n",
       " 'grime',\n",
       " 'grunge',\n",
       " 'gypsy',\n",
       " 'handsup',\n",
       " \"hard'n'heavy\",\n",
       " 'hardcore',\n",
       " 'hardstyle',\n",
       " 'hardtechno',\n",
       " 'hiphop',\n",
       " 'historisch',\n",
       " 'holiday',\n",
       " 'horror',\n",
       " 'house',\n",
       " 'hymn',\n",
       " 'idm',\n",
       " 'independent',\n",
       " 'indian',\n",
       " 'indie',\n",
       " 'indipop',\n",
       " 'industrial',\n",
       " 'inspirational',\n",
       " 'instrumental',\n",
       " 'international',\n",
       " 'irish',\n",
       " 'jam',\n",
       " 'japanese',\n",
       " 'jazz',\n",
       " 'jewish',\n",
       " 'jpop',\n",
       " 'jungle',\n",
       " 'k-pop',\n",
       " 'karadeniz',\n",
       " 'karaoke',\n",
       " 'kayokyoku',\n",
       " 'korean',\n",
       " 'laiko',\n",
       " 'latin',\n",
       " 'latino',\n",
       " 'leftfield',\n",
       " 'local',\n",
       " 'lounge',\n",
       " 'loungeelectronic',\n",
       " 'lovers',\n",
       " 'malaysian',\n",
       " 'mandopop',\n",
       " 'marschmusik',\n",
       " 'meditative',\n",
       " 'mediterranean',\n",
       " 'melodic',\n",
       " 'metal',\n",
       " 'metalcore',\n",
       " 'mexican',\n",
       " 'middle',\n",
       " 'minimal',\n",
       " 'miscellaneous',\n",
       " 'modern',\n",
       " 'mood',\n",
       " 'mpb',\n",
       " 'muslim',\n",
       " 'native',\n",
       " 'neoklassik',\n",
       " 'neue',\n",
       " 'new',\n",
       " 'newage',\n",
       " 'newwave',\n",
       " 'nu',\n",
       " 'nujazz',\n",
       " 'numetal',\n",
       " 'oceania',\n",
       " 'old',\n",
       " 'opera',\n",
       " 'orchestral',\n",
       " 'other',\n",
       " 'piano',\n",
       " 'podcasts',\n",
       " 'pop',\n",
       " 'popdance',\n",
       " 'popelectronic',\n",
       " 'popeurodance',\n",
       " 'poprussian',\n",
       " 'post',\n",
       " 'posthardcore',\n",
       " 'postrock',\n",
       " 'power',\n",
       " 'progmetal',\n",
       " 'progressive',\n",
       " 'psychedelic',\n",
       " 'punjabi',\n",
       " 'punk',\n",
       " 'quebecois',\n",
       " 'ragga',\n",
       " 'ram',\n",
       " 'rancheras',\n",
       " 'rap',\n",
       " 'rave',\n",
       " 'reggae',\n",
       " 'reggaeton',\n",
       " 'regional',\n",
       " 'relax',\n",
       " 'religious',\n",
       " 'retro',\n",
       " 'rhythm',\n",
       " 'rnb',\n",
       " 'rnr',\n",
       " 'rock',\n",
       " 'rockabilly',\n",
       " 'rockalternative',\n",
       " 'rockindie',\n",
       " 'rockother',\n",
       " 'romance',\n",
       " 'roots',\n",
       " 'ruspop',\n",
       " 'rusrap',\n",
       " 'rusrock',\n",
       " 'russian',\n",
       " 'salsa',\n",
       " 'samba',\n",
       " 'scenic',\n",
       " 'schlager',\n",
       " 'self',\n",
       " 'sertanejo',\n",
       " 'shanson',\n",
       " 'shoegazing',\n",
       " 'showtunes',\n",
       " 'singer',\n",
       " 'ska',\n",
       " 'skarock',\n",
       " 'slow',\n",
       " 'smooth',\n",
       " 'soft',\n",
       " 'soul',\n",
       " 'soulful',\n",
       " 'sound',\n",
       " 'soundtrack',\n",
       " 'southern',\n",
       " 'specialty',\n",
       " 'speech',\n",
       " 'spiritual',\n",
       " 'sport',\n",
       " 'stonerrock',\n",
       " 'surf',\n",
       " 'swing',\n",
       " 'synthpop',\n",
       " 'synthrock',\n",
       " 'sängerportrait',\n",
       " 'tango',\n",
       " 'tanzorchester',\n",
       " 'taraftar',\n",
       " 'tatar',\n",
       " 'tech',\n",
       " 'techno',\n",
       " 'teen',\n",
       " 'thrash',\n",
       " 'top',\n",
       " 'traditional',\n",
       " 'tradjazz',\n",
       " 'trance',\n",
       " 'tribal',\n",
       " 'trip',\n",
       " 'triphop',\n",
       " 'tropical',\n",
       " 'türk',\n",
       " 'türkçe',\n",
       " 'ukrrock',\n",
       " 'unknown',\n",
       " 'urban',\n",
       " 'uzbek',\n",
       " 'variété',\n",
       " 'vi',\n",
       " 'videogame',\n",
       " 'vocal',\n",
       " 'western',\n",
       " 'world',\n",
       " 'worldbeat',\n",
       " 'ïîï',\n",
       " 'электроника']"
      ]
     },
     "execution_count": 17,
     "metadata": {},
     "output_type": "execute_result"
    }
   ],
   "source": [
    "# Проверка на неявные дубликаты\n",
    "sorted(df['genre'].unique())"
   ]
  },
  {
   "cell_type": "markdown",
   "metadata": {
    "id": "jz6a9-7HQUDd"
   },
   "source": [
    "**Выводы**\n",
    "\n",
    "Предобработка обнаружила три проблемы в данных:\n",
    "\n",
    "- нарушения в стиле заголовков,\n",
    "- пропущенные значения,\n",
    "- дубликаты — явные и неявные.\n",
    "\n",
    "Вы исправили заголовки, чтобы упростить работу с таблицей. Без дубликатов исследование станет более точным.\n",
    "\n",
    "Пропущенные значения вы заменили на `'unknown'`. Ещё предстоит увидеть, не повредят ли исследованию пропуски в колонке `genre`.\n",
    "\n",
    "Теперь можно перейти к проверке гипотез. "
   ]
  },
  {
   "cell_type": "markdown",
   "metadata": {
    "id": "WttZHXH0SqKk"
   },
   "source": [
    "## Проверка гипотез"
   ]
  },
  {
   "cell_type": "markdown",
   "metadata": {},
   "source": [
    "# Проверка гипотез"
   ]
  },
  {
   "cell_type": "markdown",
   "metadata": {
    "id": "Im936VVi_Zcu"
   },
   "source": [
    "### Сравнение поведения пользователей двух столиц"
   ]
  },
  {
   "cell_type": "markdown",
   "metadata": {
    "id": "nwt_MuaL_Zcu"
   },
   "source": [
    "Первая гипотеза утверждает, что пользователи по-разному слушают музыку в Москве и Санкт-Петербурге. Проверьте это предположение по данным о трёх днях недели — понедельнике, среде и пятнице. Для этого:\n",
    "\n",
    "* Разделите пользователей Москвы и Санкт-Петербурга\n",
    "* Сравните, сколько треков послушала каждая группа пользователей в понедельник, среду и пятницу.\n"
   ]
  },
  {
   "cell_type": "markdown",
   "metadata": {
    "id": "8Dw_YMmT_Zcu"
   },
   "source": [
    "Для тренировки сначала выполните каждый из расчётов по отдельности. \n",
    "\n",
    "Оцените активность пользователей в каждом городе. Сгруппируйте данные по городу и посчитайте прослушивания в каждой группе.\n",
    "\n"
   ]
  },
  {
   "cell_type": "code",
   "execution_count": 18,
   "metadata": {
    "id": "0_Qs96oh_Zcu",
    "scrolled": false
   },
   "outputs": [
    {
     "data": {
      "text/plain": [
       "city\n",
       "Moscow              42741\n",
       "Saint-Petersburg    18512\n",
       "Name: genre, dtype: int64"
      ]
     },
     "execution_count": 18,
     "metadata": {},
     "output_type": "execute_result"
    }
   ],
   "source": [
    "# Подсчёт прослушиваний в каждом городе\n",
    "df.groupby('city')['genre'].count()"
   ]
  },
  {
   "cell_type": "markdown",
   "metadata": {
    "id": "dzli3w8o_Zcu"
   },
   "source": [
    "В Москве прослушиваний больше, чем в Петербурге. Из этого не следует, что московские пользователи чаще слушают музыку. Просто самих пользователей в Москве больше.\n",
    "\n",
    "Теперь сгруппируйте данные по дню недели и подсчитайте прослушивания в понедельник, среду и пятницу. Учтите, что в данных есть информация только о прослушиваниях только за эти дни.\n"
   ]
  },
  {
   "cell_type": "code",
   "execution_count": 19,
   "metadata": {
    "id": "uZMKjiJz_Zcu"
   },
   "outputs": [
    {
     "data": {
      "text/plain": [
       "day\n",
       "Friday       21840\n",
       "Monday       21354\n",
       "Wednesday    18059\n",
       "Name: genre, dtype: int64"
      ]
     },
     "execution_count": 19,
     "metadata": {},
     "output_type": "execute_result"
    }
   ],
   "source": [
    "# Подсчёт прослушиваний в каждый из трёх дней\n",
    "df.groupby('day')['genre'].count()"
   ]
  },
  {
   "cell_type": "markdown",
   "metadata": {
    "id": "cC2tNrlL_Zcu"
   },
   "source": [
    "В среднем пользователи из двух городов менее активны по средам. Но картина может измениться, если рассмотреть каждый город в отдельности."
   ]
  },
  {
   "cell_type": "markdown",
   "metadata": {
    "id": "POzs8bGa_Zcu"
   },
   "source": [
    "Вы видели, как работает группировка по городу и по дням недели. Теперь напишите функцию, которая объединит два эти расчёта.\n",
    "\n",
    "Создайте функцию `number_tracks()`, которая посчитает прослушивания для заданного дня и города. Ей понадобятся два параметра:\n",
    "* день недели,\n",
    "* название города.\n",
    "\n",
    "В функции сохраните в переменную строки исходной таблицы, у которых значение:\n",
    "  * в колонке `day` равно параметру `day`,\n",
    "  * в колонке `city` равно параметру `city`.\n",
    "\n",
    "Для этого примените последовательную фильтрацию с логической индексацией.\n",
    "\n",
    "Затем посчитайте значения в столбце `user_id` получившейся таблицы. Результат сохраните в новую переменную. Верните эту переменную из функции."
   ]
  },
  {
   "cell_type": "code",
   "execution_count": 20,
   "metadata": {
    "id": "Nz3GdQB1_Zcu"
   },
   "outputs": [],
   "source": [
    "# <создание функции number_tracks()>\n",
    "# Объявляется функция с двумя параметрами: day, city.\n",
    "# В переменной track_list сохраняются те строки таблицы df, для которых \n",
    "# значение в столбце 'day' равно параметру day и одновременно значение\n",
    "# в столбце 'city' равно параметру city (используйте последовательную фильтрацию\n",
    "# с помощью логической индексации).\n",
    "# В переменной track_list_count сохраняется число значений столбца 'user_id',\n",
    "# рассчитанное методом count() для таблицы track_list.\n",
    "# Функция возвращает число - значение track_list_count.\n",
    "\n",
    "# Функция для подсчёта прослушиваний для конкретного города и дня.\n",
    "# С помощью последовательной фильтрации с логической индексацией она \n",
    "# сначала получит из исходной таблицы строки с нужным днём,\n",
    "# затем из результата отфильтрует строки с нужным городом,\n",
    "# методом count() посчитает количество значений в колонке user_id. \n",
    "# Это количество функция вернёт в качестве результата\n",
    "\n",
    "def number_tracks(day,city):\n",
    "    track_list=df[(df['day']==day)&(df['city']==city)]\n",
    "    track_list_count=track_list['user_id'].count()\n",
    "    result=track_list_count\n",
    "    return result"
   ]
  },
  {
   "cell_type": "markdown",
   "metadata": {
    "id": "ytf7xFrFJQ2r"
   },
   "source": [
    "Вызовите `number_tracks()` шесть раз, меняя значение параметров — так, чтобы получить данные для каждого города в каждый из трёх дней."
   ]
  },
  {
   "cell_type": "code",
   "execution_count": 21,
   "metadata": {
    "id": "rJcRATNQ_Zcu"
   },
   "outputs": [
    {
     "data": {
      "text/plain": [
       "15740"
      ]
     },
     "execution_count": 21,
     "metadata": {},
     "output_type": "execute_result"
    }
   ],
   "source": [
    "# количество прослушиваний в Москве по понедельникам\n",
    "number_tracks('Monday','Moscow')"
   ]
  },
  {
   "cell_type": "code",
   "execution_count": 22,
   "metadata": {
    "id": "hq_ncZ5T_Zcu"
   },
   "outputs": [
    {
     "data": {
      "text/plain": [
       "5614"
      ]
     },
     "execution_count": 22,
     "metadata": {},
     "output_type": "execute_result"
    }
   ],
   "source": [
    "# количество прослушиваний в Санкт-Петербурге по понедельникам\n",
    "number_tracks('Monday','Saint-Petersburg')"
   ]
  },
  {
   "cell_type": "code",
   "execution_count": 23,
   "metadata": {
    "id": "_NTy2VPU_Zcu"
   },
   "outputs": [
    {
     "data": {
      "text/plain": [
       "11056"
      ]
     },
     "execution_count": 23,
     "metadata": {},
     "output_type": "execute_result"
    }
   ],
   "source": [
    "# количество прослушиваний в Москве по средам\n",
    "number_tracks('Wednesday','Moscow')"
   ]
  },
  {
   "cell_type": "code",
   "execution_count": 24,
   "metadata": {
    "id": "j2y3TAwo_Zcu"
   },
   "outputs": [
    {
     "data": {
      "text/plain": [
       "7003"
      ]
     },
     "execution_count": 24,
     "metadata": {},
     "output_type": "execute_result"
    }
   ],
   "source": [
    "# количество прослушиваний в Санкт-Петербурге по средам\n",
    "number_tracks('Wednesday','Saint-Petersburg')"
   ]
  },
  {
   "cell_type": "code",
   "execution_count": 25,
   "metadata": {
    "id": "vYDw5u_K_Zcu"
   },
   "outputs": [
    {
     "data": {
      "text/plain": [
       "15945"
      ]
     },
     "execution_count": 25,
     "metadata": {},
     "output_type": "execute_result"
    }
   ],
   "source": [
    "# количество прослушиваний в Москве по пятницам\n",
    "number_tracks('Friday','Moscow')"
   ]
  },
  {
   "cell_type": "code",
   "execution_count": 26,
   "metadata": {
    "id": "8_yzFtW3_Zcu"
   },
   "outputs": [
    {
     "data": {
      "text/plain": [
       "5895"
      ]
     },
     "execution_count": 26,
     "metadata": {},
     "output_type": "execute_result"
    }
   ],
   "source": [
    "# количество прослушиваний в Санкт-Петербурге по пятницам\n",
    "number_tracks('Friday','Saint-Petersburg')"
   ]
  },
  {
   "cell_type": "markdown",
   "metadata": {
    "id": "7QXffbO-_Zcu"
   },
   "source": [
    "Создайте c помощью конструктора `pd.DataFrame` таблицу, где\n",
    "* названия колонок — `['city', 'monday', 'wednesday', 'friday']`;\n",
    "* данные — результаты, которые вы получили с помощью `number_tracks`."
   ]
  },
  {
   "cell_type": "code",
   "execution_count": 27,
   "metadata": {
    "id": "APAcLpOr_Zcu"
   },
   "outputs": [
    {
     "data": {
      "text/html": [
       "<div>\n",
       "<style scoped>\n",
       "    .dataframe tbody tr th:only-of-type {\n",
       "        vertical-align: middle;\n",
       "    }\n",
       "\n",
       "    .dataframe tbody tr th {\n",
       "        vertical-align: top;\n",
       "    }\n",
       "\n",
       "    .dataframe thead th {\n",
       "        text-align: right;\n",
       "    }\n",
       "</style>\n",
       "<table border=\"1\" class=\"dataframe\">\n",
       "  <thead>\n",
       "    <tr style=\"text-align: right;\">\n",
       "      <th></th>\n",
       "      <th>city</th>\n",
       "      <th>monday</th>\n",
       "      <th>wednesday</th>\n",
       "      <th>friday</th>\n",
       "    </tr>\n",
       "  </thead>\n",
       "  <tbody>\n",
       "    <tr>\n",
       "      <th>0</th>\n",
       "      <td>Moscow</td>\n",
       "      <td>15740</td>\n",
       "      <td>11056</td>\n",
       "      <td>15945</td>\n",
       "    </tr>\n",
       "    <tr>\n",
       "      <th>1</th>\n",
       "      <td>Saint-Petersburg</td>\n",
       "      <td>5614</td>\n",
       "      <td>7003</td>\n",
       "      <td>5895</td>\n",
       "    </tr>\n",
       "  </tbody>\n",
       "</table>\n",
       "</div>"
      ],
      "text/plain": [
       "               city  monday  wednesday  friday\n",
       "0            Moscow   15740      11056   15945\n",
       "1  Saint-Petersburg    5614       7003    5895"
      ]
     },
     "metadata": {},
     "output_type": "display_data"
    }
   ],
   "source": [
    "# Таблица с результатами\n",
    "msk='Moscow'\n",
    "spb='Saint-Petersburg'\n",
    "m='Monday'\n",
    "w='Wednesday'\n",
    "f='Friday'\n",
    "columns=['city', m.lower(), w.lower(), f.lower()]\n",
    "data=([msk,number_tracks(m,msk),number_tracks(w,msk),number_tracks(f,msk)],[spb,number_tracks(m,spb),number_tracks(w,spb),number_tracks(f,spb)])\n",
    "table=pd.DataFrame(data=data,columns=columns)\n",
    "display(table)"
   ]
  },
  {
   "cell_type": "markdown",
   "metadata": {
    "id": "-EgPIHYu_Zcu"
   },
   "source": [
    "**Выводы**\n",
    "\n",
    "Данные показывают разницу поведения пользователей:\n",
    "\n",
    "- В Москве пик прослушиваний приходится на понедельник и пятницу, а в среду заметен спад.\n",
    "- В Петербурге, наоборот, больше слушают музыку по средам. Активность в понедельник и пятницу здесь почти в равной мере уступает среде.\n",
    "\n",
    "Значит, данные говорят в пользу первой гипотезы."
   ]
  },
  {
   "cell_type": "markdown",
   "metadata": {
    "id": "atZAxtq4_Zcu"
   },
   "source": [
    "### Музыка в начале и в конце недели"
   ]
  },
  {
   "cell_type": "markdown",
   "metadata": {
    "id": "eXrQqXFH_Zcu"
   },
   "source": [
    "Согласно второй гипотезе, утром в понедельник в Москве преобладают одни жанры, а в Петербурге — другие. Так же и вечером пятницы преобладают разные жанры — в зависимости от города."
   ]
  },
  {
   "cell_type": "markdown",
   "metadata": {
    "id": "S8UcW6Hw_Zcu"
   },
   "source": [
    "Сохраните таблицы с данными в две переменные:\n",
    "* по Москве — в `moscow_general`;\n",
    "* по Санкт-Петербургу — в `spb_general`."
   ]
  },
  {
   "cell_type": "code",
   "execution_count": 28,
   "metadata": {
    "id": "qeaFfM_P_Zcu"
   },
   "outputs": [],
   "source": [
    "# получение таблицы moscow_general из тех строк таблицы df, \n",
    "# для которых значение в столбце 'city' равно 'Moscow'\n",
    "moscow_general=df[df['city']=='Moscow']"
   ]
  },
  {
   "cell_type": "code",
   "execution_count": 29,
   "metadata": {
    "id": "ORaVRKto_Zcu"
   },
   "outputs": [],
   "source": [
    "# получение таблицы spb_general из тех строк таблицы df,\n",
    "# для которых значение в столбце 'city' равно 'Saint-Petersburg'\n",
    "spb_general=df[df['city']=='Saint-Petersburg']"
   ]
  },
  {
   "cell_type": "markdown",
   "metadata": {
    "id": "MEJV-CX2_Zcu"
   },
   "source": [
    "Создайте функцию `genre_weekday()` с четырьмя параметрами:\n",
    "* таблица (датафрейм) с данными,\n",
    "* день недели,\n",
    "* начальная временная метка в формате 'hh:mm', \n",
    "* последняя временная метка в формате 'hh:mm'.\n",
    "\n",
    "Функция должна вернуть информацию о топ-10 жанров тех треков, которые прослушивали в указанный день, в промежутке между двумя отметками времени."
   ]
  },
  {
   "cell_type": "code",
   "execution_count": 30,
   "metadata": {
    "id": "laJT9BYl_Zcu"
   },
   "outputs": [],
   "source": [
    "# Объявление функции genre_weekday() с параметрами table, day, time1, time2,\n",
    "# которая возвращает информацию о самых популярных жанрах в указанный день в\n",
    "# заданное время:\n",
    "# 1) в переменную genre_df сохраняются те строки переданного датафрейма table, для\n",
    "#    которых одновременно:\n",
    "#    - значение в столбце day равно значению аргумента day\n",
    "#    - значение в столбце time больше значения аргумента time1\n",
    "#    - значение в столбце time меньше значения аргумента time2\n",
    "#    Используйте последовательную фильтрацию с помощью логической индексации.\n",
    "# 2) сгруппировать датафрейм genre_df по столбцу genre, взять один из его\n",
    "#    столбцов и посчитать методом count() количество записей для каждого из\n",
    "#    присутствующих жанров, получившийся Series записать в переменную\n",
    "#    genre_df_count\n",
    "# 3) отсортировать genre_df_count по убыванию встречаемости и сохранить\n",
    "#    в переменную genre_df_sorted\n",
    "# 4) вернуть Series из 10 первых значений genre_df_sorted, это будут топ-10\n",
    "#    популярных жанров (в указанный день, в заданное время)\n",
    "\n",
    "def genre_weekday(table, day, time1, time2):\n",
    "    genre_df=table[(table['day']==day)&(table['time']>time1)&(table['time']<time2)]\n",
    "    genre_df_count=genre_df.groupby('genre')['genre'].count()\n",
    "    genre_df_sorted=genre_df_count.sort_values(ascending=False)\n",
    "    result=genre_df_sorted.head(10)\n",
    "    return result"
   ]
  },
  {
   "cell_type": "markdown",
   "metadata": {
    "id": "la2s2_PF_Zcu"
   },
   "source": [
    "Cравните результаты функции `genre_weekday()` для Москвы и Санкт-Петербурга в понедельник утром (с 7:00 до 11:00) и в пятницу вечером (с 17:00 до 23:00):"
   ]
  },
  {
   "cell_type": "code",
   "execution_count": 31,
   "metadata": {
    "id": "yz7itPUQ_Zcu"
   },
   "outputs": [
    {
     "data": {
      "text/plain": [
       "genre\n",
       "pop            781\n",
       "dance          549\n",
       "electronic     480\n",
       "rock           474\n",
       "hiphop         286\n",
       "ruspop         186\n",
       "world          181\n",
       "rusrap         175\n",
       "alternative    164\n",
       "unknown        161\n",
       "Name: genre, dtype: int64"
      ]
     },
     "execution_count": 31,
     "metadata": {},
     "output_type": "execute_result"
    }
   ],
   "source": [
    "# вызов функции для утра понедельника в Москве (вместо df — таблица moscow_general)\n",
    "# объекты, хранящие время, являются строками и сравниваются как строки\n",
    "# пример вызова: genre_weekday(moscow_general, 'Monday', '07:00', '11:00')\n",
    "genre_weekday(moscow_general, 'Monday', '07:00', '11:00')"
   ]
  },
  {
   "cell_type": "code",
   "execution_count": 32,
   "metadata": {
    "id": "kwUcHPdy_Zcu"
   },
   "outputs": [
    {
     "data": {
      "text/plain": [
       "genre\n",
       "pop            218\n",
       "dance          182\n",
       "rock           162\n",
       "electronic     147\n",
       "hiphop          80\n",
       "ruspop          64\n",
       "alternative     58\n",
       "rusrap          55\n",
       "jazz            44\n",
       "classical       40\n",
       "Name: genre, dtype: int64"
      ]
     },
     "execution_count": 32,
     "metadata": {},
     "output_type": "execute_result"
    }
   ],
   "source": [
    "# вызов функции для утра понедельника в Петербурге (вместо df — таблица spb_general)\n",
    "genre_weekday(spb_general, 'Monday', '07:00', '11:00')"
   ]
  },
  {
   "cell_type": "code",
   "execution_count": 33,
   "metadata": {
    "id": "EzXVRE1o_Zcu"
   },
   "outputs": [
    {
     "data": {
      "text/plain": [
       "genre\n",
       "pop            713\n",
       "rock           517\n",
       "dance          495\n",
       "electronic     482\n",
       "hiphop         273\n",
       "world          208\n",
       "ruspop         170\n",
       "alternative    163\n",
       "classical      163\n",
       "rusrap         142\n",
       "Name: genre, dtype: int64"
      ]
     },
     "execution_count": 33,
     "metadata": {},
     "output_type": "execute_result"
    }
   ],
   "source": [
    "# вызов функции для вечера пятницы в Москве\n",
    "genre_weekday(moscow_general, 'Friday', '17:00', '23:00')"
   ]
  },
  {
   "cell_type": "code",
   "execution_count": 34,
   "metadata": {
    "id": "JZaEKu5v_Zcu"
   },
   "outputs": [
    {
     "data": {
      "text/plain": [
       "genre\n",
       "pop            256\n",
       "electronic     216\n",
       "rock           216\n",
       "dance          210\n",
       "hiphop          97\n",
       "alternative     63\n",
       "jazz            61\n",
       "classical       60\n",
       "rusrap          59\n",
       "world           54\n",
       "Name: genre, dtype: int64"
      ]
     },
     "execution_count": 34,
     "metadata": {},
     "output_type": "execute_result"
    }
   ],
   "source": [
    "# вызов функции для вечера пятницы в Петербурге\n",
    "genre_weekday(spb_general, 'Friday', '17:00', '23:00')"
   ]
  },
  {
   "cell_type": "markdown",
   "metadata": {
    "id": "wrCe4MNX_Zcu"
   },
   "source": [
    "**Выводы**\n",
    "\n",
    "Если сравнить топ-10 жанров в понедельник утром, можно сделать такие выводы:\n",
    "\n",
    "1. В Москве и Петербурге слушают похожую музыку. Единственное отличие — в московский рейтинг вошёл жанр “world”, а в петербургский — джаз и классика.\n",
    "\n",
    "2. В Москве пропущенных значений оказалось так много, что значение `'unknown'` заняло десятое место среди самых популярных жанров. Значит, пропущенные значения занимают существенную долю в данных и угрожают достоверности исследования.\n",
    "\n",
    "Вечер пятницы не меняет эту картину. Некоторые жанры поднимаются немного выше, другие спускаются, но в целом топ-10 остаётся тем же самым. \n",
    "В вечерний Московский рейтинг вошел ruspop, который отсутствует в СПб рейтинге. В СПб вечером по-прежнему предпочитают джаз, который также не вошел в Мск рейтинг.\n",
    "\n",
    "Таким образом, вторая гипотеза подтвердилась лишь частично:\n",
    "* Пользователи слушают похожую музыку в начале недели и в конце.\n",
    "* Разница между Москвой и Петербургом не слишком выражена. В Москве чаще слушают русскую популярную музыку, в Петербурге — джаз.\n",
    "\n",
    "Однако пропуски в данных ставят под сомнение этот результат. В Москве их так много, что рейтинг топ-10 мог бы выглядеть иначе, если бы не утерянные  данные о жанрах."
   ]
  },
  {
   "cell_type": "markdown",
   "metadata": {
    "id": "JolODAqr_Zcu"
   },
   "source": [
    "### Жанровые предпочтения в Москве и Петербурге\n",
    "\n",
    "Гипотеза: Петербург — столица рэпа, музыку этого жанра там слушают чаще, чем в Москве.  А Москва — город контрастов, в котором, тем не менее, преобладает поп-музыка."
   ]
  },
  {
   "cell_type": "markdown",
   "metadata": {
    "id": "DlegSvaT_Zcu"
   },
   "source": [
    "Сгруппируйте таблицу `moscow_general` по жанру и посчитайте прослушивания треков каждого жанра методом `count()`. Затем отсортируйте результат в порядке убывания и сохраните его в таблице `moscow_genres`."
   ]
  },
  {
   "cell_type": "code",
   "execution_count": 35,
   "metadata": {
    "id": "r19lIPke_Zcu"
   },
   "outputs": [],
   "source": [
    "# одной строкой: группировка таблицы moscow_general по столбцу 'genre', \n",
    "# подсчёт числа значений 'genre' в этой группировке методом count(), \n",
    "# сортировка получившегося Series в порядке убывания и сохранение в moscow_genres\n",
    "moscow_genres=(moscow_general.groupby('genre')['genre'].count()).sort_values(ascending=False)"
   ]
  },
  {
   "cell_type": "markdown",
   "metadata": {
    "id": "6kMuomxTiIr8"
   },
   "source": [
    "Выведите на экран первые десять строк `moscow_genres`:"
   ]
  },
  {
   "cell_type": "code",
   "execution_count": 36,
   "metadata": {
    "id": "WhCSooF8_Zcv"
   },
   "outputs": [
    {
     "data": {
      "text/plain": [
       "genre\n",
       "pop            5892\n",
       "dance          4435\n",
       "rock           3965\n",
       "electronic     3786\n",
       "hiphop         2096\n",
       "classical      1616\n",
       "world          1432\n",
       "alternative    1379\n",
       "ruspop         1372\n",
       "rusrap         1161\n",
       "Name: genre, dtype: int64"
      ]
     },
     "execution_count": 36,
     "metadata": {},
     "output_type": "execute_result"
    }
   ],
   "source": [
    "# просмотр первых 10 строк moscow_genres\n",
    "moscow_genres.head(10)"
   ]
  },
  {
   "cell_type": "markdown",
   "metadata": {
    "id": "cnPG2vnN_Zcv"
   },
   "source": [
    "Теперь повторите то же и для Петербурга.\n",
    "\n",
    "Сгруппируйте таблицу `spb_general` по жанру. Посчитайте прослушивания треков каждого жанра. Результат отсортируйте в порядке убывания и сохраните в таблице `spb_genres`:\n"
   ]
  },
  {
   "cell_type": "code",
   "execution_count": 37,
   "metadata": {
    "id": "gluLIpE7_Zcv"
   },
   "outputs": [],
   "source": [
    "# одной строкой: группировка таблицы spb_general по столбцу 'genre', \n",
    "# подсчёт числа значений 'genre' в этой группировке методом count(), \n",
    "# сортировка получившегося Series в порядке убывания и сохранение в spb_genres\n",
    "spb_genres=(spb_general.groupby('genre')['genre'].count()).sort_values(ascending=False)"
   ]
  },
  {
   "cell_type": "markdown",
   "metadata": {
    "id": "5Doha_ODgyQ8"
   },
   "source": [
    "Выведите на экран первые десять строк `spb_genres`:"
   ]
  },
  {
   "cell_type": "code",
   "execution_count": 38,
   "metadata": {
    "id": "uaGJHjVU_Zcv"
   },
   "outputs": [
    {
     "data": {
      "text/plain": [
       "genre\n",
       "pop            2431\n",
       "dance          1932\n",
       "rock           1879\n",
       "electronic     1736\n",
       "hiphop          960\n",
       "alternative     649\n",
       "classical       646\n",
       "rusrap          564\n",
       "ruspop          538\n",
       "world           515\n",
       "Name: genre, dtype: int64"
      ]
     },
     "execution_count": 38,
     "metadata": {},
     "output_type": "execute_result"
    }
   ],
   "source": [
    "# просмотр первых 10 строк spb_genres\n",
    "spb_genres.head(10)"
   ]
  },
  {
   "cell_type": "markdown",
   "metadata": {
    "id": "RY51YJYu_Zcv"
   },
   "source": [
    "**Выводы**"
   ]
  },
  {
   "cell_type": "markdown",
   "metadata": {
    "id": "nVhnJEm__Zcv"
   },
   "source": [
    "Гипотеза частично подтвердилась:\n",
    "* Поп-музыка — самый популярный жанр в Москве, как и предполагала гипотеза. Более того, в топ-10 жанров встречается близкий жанр — русская популярная музыка.\n",
    "* Вопреки ожиданиям, рэп почти одинаково популярен в Москве и Петербурге. В СПб рэп занимает 8ую строчку рейтинга, в то, время, как в Москве рэп уступает world и ruspop.\n"
   ]
  },
  {
   "cell_type": "markdown",
   "metadata": {
    "id": "ykKQ0N65_Zcv"
   },
   "source": [
    "## Итоги исследования"
   ]
  },
  {
   "cell_type": "markdown",
   "metadata": {
    "id": "tjUwbHb3_Zcv"
   },
   "source": [
    "Вы проверили три гипотезы и установили:\n",
    "\n",
    "1. День недели по-разному влияет на активность пользователей в Москве и Петербурге. \n",
    "\n",
    "Первая гипотеза полностью подтвердилась.\n",
    "\n",
    "2. Музыкальные предпочтения не сильно меняются в течение недели — будь то Москва или Петербург. Небольшие различия заметны в начале недели, по понедельникам:\n",
    "* в Москве слушают музыку жанра “world”,\n",
    "* в Петербурге — джаз и классику.\n",
    "\n",
    "Таким образом, вторая гипотеза подтвердилась лишь отчасти. Этот результат мог оказаться иным, если бы не пропуски в данных.\n",
    "\n",
    "3. Во вкусах пользователей Москвы и Петербурга больше общего чем различий. Вопреки ожиданиям, предпочтения жанров в Петербурге напоминают московские.\n",
    "\n",
    "Третья гипотеза не подтвердилась. Если различия в предпочтениях и существуют, на основной массе пользователей они незаметны.\n",
    "\n",
    "**На практике исследования содержат проверки статистических гипотез.**\n",
    "Из данных одного сервиса не всегда можно сделать вывод о всех жителях города.\n",
    "Проверки статистических гипотез покажут, насколько они достоверны, исходя из имеющихся данных. \n",
    "С методами проверок гипотез вы ещё познакомитесь в следующих темах."
   ]
  }
 ],
 "metadata": {
  "ExecuteTimeLog": [
   {
    "duration": 636,
    "start_time": "2021-09-19T09:16:43.742Z"
   },
   {
    "duration": 321,
    "start_time": "2021-09-19T09:17:16.786Z"
   },
   {
    "duration": 2,
    "start_time": "2021-09-19T09:17:38.490Z"
   },
   {
    "duration": 2568,
    "start_time": "2021-09-19T09:17:45.909Z"
   },
   {
    "duration": 2384,
    "start_time": "2021-09-19T09:17:49.018Z"
   },
   {
    "duration": 133,
    "start_time": "2021-09-19T09:18:12.718Z"
   },
   {
    "duration": 140,
    "start_time": "2021-09-19T09:18:18.388Z"
   },
   {
    "duration": 3204,
    "start_time": "2021-09-19T09:18:33.597Z"
   },
   {
    "duration": 145,
    "start_time": "2021-09-19T09:18:40.274Z"
   },
   {
    "duration": 2032,
    "start_time": "2021-09-19T09:18:44.701Z"
   },
   {
    "duration": 139,
    "start_time": "2021-09-19T09:18:51.231Z"
   },
   {
    "duration": 14,
    "start_time": "2021-09-19T09:19:13.672Z"
   },
   {
    "duration": 8,
    "start_time": "2021-09-19T09:19:18.609Z"
   },
   {
    "duration": 11,
    "start_time": "2021-09-19T09:19:32.155Z"
   },
   {
    "duration": 11,
    "start_time": "2021-09-19T09:19:43.681Z"
   },
   {
    "duration": 11,
    "start_time": "2021-09-19T09:19:50.089Z"
   },
   {
    "duration": 10,
    "start_time": "2021-09-19T09:20:01.804Z"
   },
   {
    "duration": 10,
    "start_time": "2021-09-19T09:20:06.469Z"
   },
   {
    "duration": 25,
    "start_time": "2021-09-19T09:20:47.355Z"
   },
   {
    "duration": 618,
    "start_time": "2021-09-19T09:33:56.796Z"
   },
   {
    "duration": 524,
    "start_time": "2021-09-19T09:34:09.080Z"
   },
   {
    "duration": 516,
    "start_time": "2021-09-19T09:34:21.863Z"
   },
   {
    "duration": 578,
    "start_time": "2021-09-19T09:34:30.102Z"
   },
   {
    "duration": 134,
    "start_time": "2021-09-19T09:34:32.174Z"
   },
   {
    "duration": 17,
    "start_time": "2021-09-19T09:34:36.384Z"
   },
   {
    "duration": 24,
    "start_time": "2021-09-19T09:34:43.124Z"
   },
   {
    "duration": 4,
    "start_time": "2021-09-19T09:35:05.918Z"
   },
   {
    "duration": 374,
    "start_time": "2021-09-19T09:35:16.734Z"
   },
   {
    "duration": 4,
    "start_time": "2021-09-19T09:35:23.945Z"
   },
   {
    "duration": 13,
    "start_time": "2021-09-19T09:40:22.037Z"
   },
   {
    "duration": 3,
    "start_time": "2021-09-19T09:40:39.651Z"
   },
   {
    "duration": 4,
    "start_time": "2021-09-19T09:40:51.215Z"
   },
   {
    "duration": 5,
    "start_time": "2021-09-19T09:41:00.344Z"
   },
   {
    "duration": 10,
    "start_time": "2021-09-19T09:41:10.168Z"
   },
   {
    "duration": 9,
    "start_time": "2021-09-19T09:41:33.247Z"
   },
   {
    "duration": 29,
    "start_time": "2021-09-19T09:43:06.583Z"
   },
   {
    "duration": 23,
    "start_time": "2021-09-19T09:43:21.942Z"
   },
   {
    "duration": 24,
    "start_time": "2021-09-19T09:47:28.898Z"
   },
   {
    "duration": 97,
    "start_time": "2021-09-19T09:48:37.831Z"
   },
   {
    "duration": 19,
    "start_time": "2021-09-19T09:48:48.688Z"
   },
   {
    "duration": 25,
    "start_time": "2021-09-19T09:48:51.925Z"
   },
   {
    "duration": 58,
    "start_time": "2021-09-19T09:50:08.551Z"
   },
   {
    "duration": 68,
    "start_time": "2021-09-19T09:51:22.040Z"
   },
   {
    "duration": 64,
    "start_time": "2021-09-19T09:51:47.279Z"
   },
   {
    "duration": 50,
    "start_time": "2021-09-19T09:51:54.745Z"
   },
   {
    "duration": 10,
    "start_time": "2021-09-19T09:53:33.500Z"
   },
   {
    "duration": 3,
    "start_time": "2021-09-19T10:09:49.626Z"
   },
   {
    "duration": 84,
    "start_time": "2021-09-19T10:10:32.734Z"
   },
   {
    "duration": 3,
    "start_time": "2021-09-19T10:10:36.563Z"
   },
   {
    "duration": 283,
    "start_time": "2021-09-19T10:11:38.484Z"
   },
   {
    "duration": 301,
    "start_time": "2021-09-19T10:12:04.114Z"
   },
   {
    "duration": 294,
    "start_time": "2021-09-19T10:12:15.986Z"
   },
   {
    "duration": 273,
    "start_time": "2021-09-19T10:12:27.909Z"
   },
   {
    "duration": 379,
    "start_time": "2021-09-19T10:13:03.012Z"
   },
   {
    "duration": 449,
    "start_time": "2021-09-19T10:13:22.925Z"
   },
   {
    "duration": 282,
    "start_time": "2021-09-19T10:13:32.822Z"
   },
   {
    "duration": 315,
    "start_time": "2021-09-19T10:13:45.913Z"
   },
   {
    "duration": 283,
    "start_time": "2021-09-19T10:14:03.253Z"
   },
   {
    "duration": 579,
    "start_time": "2021-09-19T10:25:05.202Z"
   },
   {
    "duration": 260,
    "start_time": "2021-09-19T10:25:40.626Z"
   },
   {
    "duration": 281,
    "start_time": "2021-09-19T10:25:48.107Z"
   },
   {
    "duration": 2,
    "start_time": "2021-09-19T10:26:09.838Z"
   },
   {
    "duration": 16,
    "start_time": "2021-09-19T10:26:12.278Z"
   },
   {
    "duration": 10,
    "start_time": "2021-09-19T10:26:35.568Z"
   },
   {
    "duration": 15,
    "start_time": "2021-09-19T10:27:49.179Z"
   },
   {
    "duration": 11,
    "start_time": "2021-09-19T10:27:54.307Z"
   },
   {
    "duration": 268,
    "start_time": "2021-09-19T10:31:48.050Z"
   },
   {
    "duration": 3,
    "start_time": "2021-09-19T10:34:05.100Z"
   },
   {
    "duration": 477,
    "start_time": "2021-09-19T10:34:08.968Z"
   },
   {
    "duration": 448,
    "start_time": "2021-09-19T10:34:45.333Z"
   },
   {
    "duration": 496,
    "start_time": "2021-09-19T10:35:13.954Z"
   },
   {
    "duration": 467,
    "start_time": "2021-09-19T10:35:22.658Z"
   },
   {
    "duration": 3,
    "start_time": "2021-09-19T10:35:31.164Z"
   },
   {
    "duration": 1074,
    "start_time": "2021-09-19T10:35:35.312Z"
   },
   {
    "duration": 486,
    "start_time": "2021-09-19T10:35:46.681Z"
   },
   {
    "duration": 1216,
    "start_time": "2021-09-19T10:36:30.566Z"
   },
   {
    "duration": 504,
    "start_time": "2021-09-19T10:37:17.415Z"
   },
   {
    "duration": 3,
    "start_time": "2021-09-19T10:37:27.362Z"
   },
   {
    "duration": 484,
    "start_time": "2021-09-19T10:37:30.089Z"
   },
   {
    "duration": 2,
    "start_time": "2021-09-19T10:37:48.778Z"
   },
   {
    "duration": 15,
    "start_time": "2021-09-19T10:37:50.557Z"
   },
   {
    "duration": 9,
    "start_time": "2021-09-19T10:37:53.818Z"
   },
   {
    "duration": 38,
    "start_time": "2021-09-19T10:39:06.873Z"
   },
   {
    "duration": 10,
    "start_time": "2021-09-19T10:39:10.785Z"
   },
   {
    "duration": 3,
    "start_time": "2021-09-19T10:39:46.361Z"
   },
   {
    "duration": 14,
    "start_time": "2021-09-19T10:39:47.925Z"
   },
   {
    "duration": 3,
    "start_time": "2021-09-19T10:40:49.356Z"
   },
   {
    "duration": 457,
    "start_time": "2021-09-19T10:40:51.055Z"
   },
   {
    "duration": 93,
    "start_time": "2021-09-19T10:42:10.646Z"
   },
   {
    "duration": 264,
    "start_time": "2021-09-19T10:42:15.635Z"
   },
   {
    "duration": 263,
    "start_time": "2021-09-19T10:42:45.787Z"
   },
   {
    "duration": 3,
    "start_time": "2021-09-19T10:43:42.552Z"
   },
   {
    "duration": 40,
    "start_time": "2021-09-19T10:43:44.236Z"
   },
   {
    "duration": 10,
    "start_time": "2021-09-19T10:43:47.160Z"
   },
   {
    "duration": 85,
    "start_time": "2021-09-19T10:50:19.643Z"
   },
   {
    "duration": 267,
    "start_time": "2021-09-19T10:50:38.004Z"
   },
   {
    "duration": 3,
    "start_time": "2021-09-19T10:50:54.908Z"
   },
   {
    "duration": 7,
    "start_time": "2021-09-19T10:50:59.909Z"
   },
   {
    "duration": 10,
    "start_time": "2021-09-19T10:51:03.922Z"
   },
   {
    "duration": 2,
    "start_time": "2021-09-19T10:51:52.862Z"
   },
   {
    "duration": 2,
    "start_time": "2021-09-19T10:51:54.707Z"
   },
   {
    "duration": 2,
    "start_time": "2021-09-19T10:51:57.871Z"
   },
   {
    "duration": 6,
    "start_time": "2021-09-19T10:52:00.365Z"
   },
   {
    "duration": 9,
    "start_time": "2021-09-19T10:52:04.471Z"
   },
   {
    "duration": 3,
    "start_time": "2021-09-19T10:55:09.594Z"
   },
   {
    "duration": 6,
    "start_time": "2021-09-19T10:55:11.334Z"
   },
   {
    "duration": 9,
    "start_time": "2021-09-19T10:55:14.537Z"
   },
   {
    "duration": 3,
    "start_time": "2021-09-19T10:55:53.498Z"
   },
   {
    "duration": 6,
    "start_time": "2021-09-19T10:55:56.101Z"
   },
   {
    "duration": 6,
    "start_time": "2021-09-19T10:55:58.229Z"
   },
   {
    "duration": 9,
    "start_time": "2021-09-19T10:56:00.833Z"
   },
   {
    "duration": 3,
    "start_time": "2021-09-19T10:56:55.533Z"
   },
   {
    "duration": 6,
    "start_time": "2021-09-19T10:56:57.534Z"
   },
   {
    "duration": 10,
    "start_time": "2021-09-19T10:56:59.833Z"
   },
   {
    "duration": 3,
    "start_time": "2021-09-19T11:04:14.876Z"
   },
   {
    "duration": 6,
    "start_time": "2021-09-19T11:22:46.208Z"
   },
   {
    "duration": 7,
    "start_time": "2021-09-19T11:22:59.928Z"
   },
   {
    "duration": 7,
    "start_time": "2021-09-19T11:24:38.348Z"
   },
   {
    "duration": 30,
    "start_time": "2021-09-19T11:25:55.088Z"
   },
   {
    "duration": 33,
    "start_time": "2021-09-19T11:26:22.738Z"
   },
   {
    "duration": 11,
    "start_time": "2021-09-19T11:27:41.548Z"
   },
   {
    "duration": 11,
    "start_time": "2021-09-19T11:27:48.410Z"
   },
   {
    "duration": 11,
    "start_time": "2021-09-19T11:28:05.807Z"
   },
   {
    "duration": 14,
    "start_time": "2021-09-19T11:28:08.770Z"
   },
   {
    "duration": 11,
    "start_time": "2021-09-19T11:28:12.116Z"
   },
   {
    "duration": 11,
    "start_time": "2021-09-19T11:28:32.141Z"
   },
   {
    "duration": 14,
    "start_time": "2021-09-19T11:30:14.874Z"
   },
   {
    "duration": 102,
    "start_time": "2021-09-19T11:40:34.084Z"
   },
   {
    "duration": 95,
    "start_time": "2021-09-19T11:40:42.619Z"
   },
   {
    "duration": 3,
    "start_time": "2021-09-19T11:40:49.401Z"
   },
   {
    "duration": 266,
    "start_time": "2021-09-19T11:42:17.618Z"
   },
   {
    "duration": 277,
    "start_time": "2021-09-19T11:42:21.410Z"
   },
   {
    "duration": 290,
    "start_time": "2021-09-19T11:42:50.402Z"
   },
   {
    "duration": 22,
    "start_time": "2021-09-19T11:44:16.721Z"
   },
   {
    "duration": 21,
    "start_time": "2021-09-19T11:44:22.934Z"
   },
   {
    "duration": 22,
    "start_time": "2021-09-19T11:44:25.390Z"
   },
   {
    "duration": 320,
    "start_time": "2021-09-19T11:44:38.814Z"
   },
   {
    "duration": 3,
    "start_time": "2021-09-19T11:45:12.555Z"
   },
   {
    "duration": 281,
    "start_time": "2021-09-19T11:45:14.235Z"
   },
   {
    "duration": 266,
    "start_time": "2021-09-19T11:46:07.517Z"
   },
   {
    "duration": 282,
    "start_time": "2021-09-19T11:46:21.264Z"
   },
   {
    "duration": 4,
    "start_time": "2021-09-19T11:49:22.419Z"
   },
   {
    "duration": 297,
    "start_time": "2021-09-19T11:49:25.754Z"
   },
   {
    "duration": 264,
    "start_time": "2021-09-19T11:50:07.322Z"
   },
   {
    "duration": 3,
    "start_time": "2021-09-19T11:53:18.568Z"
   },
   {
    "duration": 266,
    "start_time": "2021-09-19T11:53:41.283Z"
   },
   {
    "duration": 671,
    "start_time": "2021-09-19T11:54:14.202Z"
   },
   {
    "duration": 19,
    "start_time": "2021-09-19T11:55:18.906Z"
   },
   {
    "duration": 4,
    "start_time": "2021-09-19T11:55:27.697Z"
   },
   {
    "duration": 18,
    "start_time": "2021-09-19T11:55:33.117Z"
   },
   {
    "duration": 16,
    "start_time": "2021-09-19T11:56:44.773Z"
   },
   {
    "duration": 16,
    "start_time": "2021-09-19T11:56:46.709Z"
   },
   {
    "duration": 16,
    "start_time": "2021-09-19T11:56:48.477Z"
   },
   {
    "duration": 18,
    "start_time": "2021-09-19T11:56:50.430Z"
   },
   {
    "duration": 18,
    "start_time": "2021-09-19T11:56:52.342Z"
   },
   {
    "duration": 98,
    "start_time": "2021-09-19T12:00:00.007Z"
   },
   {
    "duration": 291,
    "start_time": "2021-09-19T12:00:05.860Z"
   },
   {
    "duration": 371,
    "start_time": "2021-09-19T12:07:04.580Z"
   },
   {
    "duration": 287,
    "start_time": "2021-09-19T12:07:56.622Z"
   },
   {
    "duration": 5,
    "start_time": "2021-09-19T12:08:25.464Z"
   },
   {
    "duration": 5,
    "start_time": "2021-09-19T12:08:30.009Z"
   },
   {
    "duration": 10,
    "start_time": "2021-09-19T12:08:41.271Z"
   },
   {
    "duration": 10,
    "start_time": "2021-09-19T12:10:47.676Z"
   },
   {
    "duration": 12,
    "start_time": "2021-09-19T12:11:07.659Z"
   },
   {
    "duration": 14,
    "start_time": "2021-09-19T12:11:13.721Z"
   },
   {
    "duration": 42,
    "start_time": "2021-09-19T12:13:38.118Z"
   },
   {
    "duration": 70,
    "start_time": "2021-09-19T12:14:11.911Z"
   },
   {
    "duration": 77,
    "start_time": "2021-09-19T12:14:30.676Z"
   },
   {
    "duration": 354,
    "start_time": "2021-09-19T12:14:38.009Z"
   },
   {
    "duration": 72,
    "start_time": "2021-09-19T12:14:50.100Z"
   },
   {
    "duration": 79,
    "start_time": "2021-09-19T12:15:09.586Z"
   },
   {
    "duration": 99,
    "start_time": "2021-09-19T12:18:02.064Z"
   },
   {
    "duration": 11,
    "start_time": "2021-09-19T12:18:19.242Z"
   },
   {
    "duration": 70,
    "start_time": "2021-09-19T12:19:29.730Z"
   },
   {
    "duration": 10,
    "start_time": "2021-09-19T12:19:46.594Z"
   },
   {
    "duration": 20,
    "start_time": "2021-09-19T12:20:27.585Z"
   },
   {
    "duration": 10,
    "start_time": "2021-09-19T12:20:35.598Z"
   },
   {
    "duration": 3,
    "start_time": "2021-09-19T12:22:49.247Z"
   },
   {
    "duration": 17,
    "start_time": "2021-09-19T12:22:51.391Z"
   },
   {
    "duration": 4,
    "start_time": "2021-09-19T12:22:57.491Z"
   },
   {
    "duration": 16,
    "start_time": "2021-09-19T12:22:59.780Z"
   },
   {
    "duration": 3,
    "start_time": "2021-09-19T12:23:07.432Z"
   },
   {
    "duration": 16,
    "start_time": "2021-09-19T12:23:09.478Z"
   },
   {
    "duration": 3,
    "start_time": "2021-09-19T12:25:53.257Z"
   },
   {
    "duration": 4,
    "start_time": "2021-09-19T12:28:17.684Z"
   },
   {
    "duration": 5,
    "start_time": "2021-09-19T12:30:59.684Z"
   },
   {
    "duration": 26,
    "start_time": "2021-09-19T12:31:55.788Z"
   },
   {
    "duration": 18,
    "start_time": "2021-09-19T12:33:26.075Z"
   },
   {
    "duration": 30,
    "start_time": "2021-09-19T12:33:28.351Z"
   },
   {
    "duration": 16,
    "start_time": "2021-09-19T12:33:30.378Z"
   },
   {
    "duration": 356,
    "start_time": "2021-09-19T12:58:32.054Z"
   },
   {
    "duration": 351,
    "start_time": "2021-09-19T12:59:20.838Z"
   },
   {
    "duration": 321,
    "start_time": "2021-09-19T13:00:17.106Z"
   },
   {
    "duration": 8,
    "start_time": "2021-09-19T13:00:44.342Z"
   },
   {
    "duration": 8,
    "start_time": "2021-09-19T13:01:00.935Z"
   },
   {
    "duration": 4,
    "start_time": "2021-09-19T13:01:17.824Z"
   },
   {
    "duration": 5,
    "start_time": "2021-09-19T13:01:23.314Z"
   },
   {
    "duration": 6,
    "start_time": "2021-09-19T13:02:05.923Z"
   },
   {
    "duration": 5,
    "start_time": "2021-09-19T13:02:17.744Z"
   },
   {
    "duration": 784,
    "start_time": "2021-09-20T06:46:29.207Z"
   },
   {
    "duration": 193,
    "start_time": "2021-09-20T06:46:29.994Z"
   },
   {
    "duration": 27,
    "start_time": "2021-09-20T06:46:30.191Z"
   },
   {
    "duration": 62,
    "start_time": "2021-09-20T06:46:30.222Z"
   },
   {
    "duration": 29,
    "start_time": "2021-09-20T06:46:30.287Z"
   },
   {
    "duration": 26,
    "start_time": "2021-09-20T06:46:30.319Z"
   },
   {
    "duration": 19,
    "start_time": "2021-09-20T06:46:30.348Z"
   },
   {
    "duration": 60,
    "start_time": "2021-09-20T06:46:30.370Z"
   },
   {
    "duration": 34,
    "start_time": "2021-09-20T06:46:30.436Z"
   },
   {
    "duration": 44,
    "start_time": "2021-09-20T06:46:30.475Z"
   },
   {
    "duration": 103,
    "start_time": "2021-09-20T06:46:30.522Z"
   },
   {
    "duration": 123,
    "start_time": "2021-09-20T06:46:30.628Z"
   },
   {
    "duration": 88,
    "start_time": "2021-09-20T06:46:30.755Z"
   },
   {
    "duration": 23,
    "start_time": "2021-09-20T06:46:30.845Z"
   },
   {
    "duration": 54,
    "start_time": "2021-09-20T06:46:30.870Z"
   },
   {
    "duration": 35,
    "start_time": "2021-09-20T06:46:30.927Z"
   },
   {
    "duration": 33,
    "start_time": "2021-09-20T06:46:30.964Z"
   },
   {
    "duration": 56,
    "start_time": "2021-09-20T06:46:31.000Z"
   },
   {
    "duration": 23,
    "start_time": "2021-09-20T06:46:31.058Z"
   },
   {
    "duration": 23,
    "start_time": "2021-09-20T06:46:31.083Z"
   },
   {
    "duration": 51,
    "start_time": "2021-09-20T06:46:31.108Z"
   },
   {
    "duration": 50,
    "start_time": "2021-09-20T06:46:31.161Z"
   },
   {
    "duration": 47,
    "start_time": "2021-09-20T06:46:31.214Z"
   },
   {
    "duration": 41,
    "start_time": "2021-09-20T06:46:31.265Z"
   },
   {
    "duration": 57,
    "start_time": "2021-09-20T06:46:31.309Z"
   },
   {
    "duration": 36,
    "start_time": "2021-09-20T06:46:31.369Z"
   },
   {
    "duration": 113,
    "start_time": "2021-09-20T06:46:31.410Z"
   },
   {
    "duration": 16,
    "start_time": "2021-09-20T06:46:31.526Z"
   },
   {
    "duration": 30,
    "start_time": "2021-09-20T06:46:31.544Z"
   },
   {
    "duration": 27,
    "start_time": "2021-09-20T06:46:31.577Z"
   },
   {
    "duration": 58,
    "start_time": "2021-09-20T06:46:31.606Z"
   },
   {
    "duration": 35,
    "start_time": "2021-09-20T06:46:31.666Z"
   },
   {
    "duration": 32,
    "start_time": "2021-09-20T06:46:31.704Z"
   },
   {
    "duration": 26,
    "start_time": "2021-09-20T06:46:31.739Z"
   },
   {
    "duration": 27,
    "start_time": "2021-09-20T06:46:31.768Z"
   },
   {
    "duration": 26,
    "start_time": "2021-09-20T06:46:31.797Z"
   },
   {
    "duration": 23,
    "start_time": "2021-09-20T06:46:31.825Z"
   },
   {
    "duration": 20,
    "start_time": "2021-09-20T06:46:31.850Z"
   },
   {
    "duration": 130,
    "start_time": "2021-09-23T07:25:07.170Z"
   },
   {
    "duration": 4,
    "start_time": "2021-09-23T07:55:09.773Z"
   },
   {
    "duration": 3,
    "start_time": "2021-09-23T07:55:12.506Z"
   },
   {
    "duration": 975,
    "start_time": "2021-09-23T07:55:34.104Z"
   },
   {
    "duration": 375,
    "start_time": "2021-09-23T07:56:05.636Z"
   },
   {
    "duration": 4,
    "start_time": "2021-09-23T07:59:53.730Z"
   },
   {
    "duration": 4,
    "start_time": "2021-09-23T08:04:49.434Z"
   },
   {
    "duration": 354,
    "start_time": "2021-09-23T08:05:25.183Z"
   },
   {
    "duration": 945,
    "start_time": "2021-09-23T08:05:35.750Z"
   },
   {
    "duration": 5,
    "start_time": "2021-09-23T08:08:52.529Z"
   },
   {
    "duration": 651,
    "start_time": "2021-09-23T08:08:55.465Z"
   },
   {
    "duration": 776,
    "start_time": "2021-09-23T09:13:06.773Z"
   },
   {
    "duration": 251,
    "start_time": "2021-09-23T09:13:07.552Z"
   },
   {
    "duration": 26,
    "start_time": "2021-09-23T09:13:07.807Z"
   },
   {
    "duration": 56,
    "start_time": "2021-09-23T09:13:07.836Z"
   },
   {
    "duration": 17,
    "start_time": "2021-09-23T09:13:07.895Z"
   },
   {
    "duration": 32,
    "start_time": "2021-09-23T09:13:07.915Z"
   },
   {
    "duration": 17,
    "start_time": "2021-09-23T09:13:07.949Z"
   },
   {
    "duration": 41,
    "start_time": "2021-09-23T09:13:07.969Z"
   },
   {
    "duration": 30,
    "start_time": "2021-09-23T09:13:08.016Z"
   },
   {
    "duration": 36,
    "start_time": "2021-09-23T09:13:08.051Z"
   },
   {
    "duration": 106,
    "start_time": "2021-09-23T09:13:08.090Z"
   },
   {
    "duration": 112,
    "start_time": "2021-09-23T09:13:08.199Z"
   },
   {
    "duration": 84,
    "start_time": "2021-09-23T09:13:08.313Z"
   },
   {
    "duration": 16,
    "start_time": "2021-09-23T09:13:08.400Z"
   },
   {
    "duration": 15,
    "start_time": "2021-09-23T09:13:08.419Z"
   },
   {
    "duration": 53,
    "start_time": "2021-09-23T09:13:08.437Z"
   },
   {
    "duration": 36,
    "start_time": "2021-09-23T09:13:08.493Z"
   },
   {
    "duration": 19,
    "start_time": "2021-09-23T09:13:08.532Z"
   },
   {
    "duration": 20,
    "start_time": "2021-09-23T09:13:08.554Z"
   },
   {
    "duration": 25,
    "start_time": "2021-09-23T09:13:08.576Z"
   },
   {
    "duration": 43,
    "start_time": "2021-09-23T09:13:08.604Z"
   },
   {
    "duration": 47,
    "start_time": "2021-09-23T09:13:08.649Z"
   },
   {
    "duration": 56,
    "start_time": "2021-09-23T09:13:08.698Z"
   },
   {
    "duration": 53,
    "start_time": "2021-09-23T09:13:08.756Z"
   },
   {
    "duration": 49,
    "start_time": "2021-09-23T09:13:08.812Z"
   },
   {
    "duration": 36,
    "start_time": "2021-09-23T09:13:08.864Z"
   },
   {
    "duration": 92,
    "start_time": "2021-09-23T09:13:08.907Z"
   },
   {
    "duration": 16,
    "start_time": "2021-09-23T09:13:09.003Z"
   },
   {
    "duration": 25,
    "start_time": "2021-09-23T09:13:09.021Z"
   },
   {
    "duration": 35,
    "start_time": "2021-09-23T09:13:09.048Z"
   },
   {
    "duration": 62,
    "start_time": "2021-09-23T09:13:09.086Z"
   },
   {
    "duration": 35,
    "start_time": "2021-09-23T09:13:09.151Z"
   },
   {
    "duration": 31,
    "start_time": "2021-09-23T09:13:09.189Z"
   },
   {
    "duration": 16,
    "start_time": "2021-09-23T09:13:09.223Z"
   },
   {
    "duration": 20,
    "start_time": "2021-09-23T09:13:09.242Z"
   },
   {
    "duration": 9,
    "start_time": "2021-09-23T09:13:09.264Z"
   },
   {
    "duration": 17,
    "start_time": "2021-09-23T09:13:09.276Z"
   },
   {
    "duration": 22,
    "start_time": "2021-09-23T09:13:09.295Z"
   },
   {
    "duration": 491,
    "start_time": "2022-04-09T15:55:27.377Z"
   },
   {
    "duration": 202,
    "start_time": "2022-04-09T15:55:27.871Z"
   },
   {
    "duration": 27,
    "start_time": "2022-04-09T15:55:28.075Z"
   },
   {
    "duration": 52,
    "start_time": "2022-04-09T15:55:28.105Z"
   },
   {
    "duration": 5,
    "start_time": "2022-04-09T15:55:28.160Z"
   },
   {
    "duration": 6,
    "start_time": "2022-04-09T15:55:28.167Z"
   },
   {
    "duration": 8,
    "start_time": "2022-04-09T15:55:28.175Z"
   },
   {
    "duration": 69,
    "start_time": "2022-04-09T15:55:28.185Z"
   },
   {
    "duration": 23,
    "start_time": "2022-04-09T15:55:28.256Z"
   },
   {
    "duration": 33,
    "start_time": "2022-04-09T15:55:28.283Z"
   },
   {
    "duration": 126,
    "start_time": "2022-04-09T15:55:28.318Z"
   },
   {
    "duration": 113,
    "start_time": "2022-04-09T15:55:28.446Z"
   },
   {
    "duration": 99,
    "start_time": "2022-04-09T15:55:28.561Z"
   },
   {
    "duration": 14,
    "start_time": "2022-04-09T15:55:28.662Z"
   },
   {
    "duration": 3,
    "start_time": "2022-04-09T15:55:28.679Z"
   },
   {
    "duration": 58,
    "start_time": "2022-04-09T15:55:28.685Z"
   },
   {
    "duration": 15,
    "start_time": "2022-04-09T15:55:28.745Z"
   },
   {
    "duration": 17,
    "start_time": "2022-04-09T15:55:28.762Z"
   },
   {
    "duration": 15,
    "start_time": "2022-04-09T15:55:28.781Z"
   },
   {
    "duration": 5,
    "start_time": "2022-04-09T15:55:28.798Z"
   },
   {
    "duration": 56,
    "start_time": "2022-04-09T15:55:28.805Z"
   },
   {
    "duration": 18,
    "start_time": "2022-04-09T15:55:28.863Z"
   },
   {
    "duration": 19,
    "start_time": "2022-04-09T15:55:28.883Z"
   },
   {
    "duration": 51,
    "start_time": "2022-04-09T15:55:28.904Z"
   },
   {
    "duration": 21,
    "start_time": "2022-04-09T15:55:28.957Z"
   },
   {
    "duration": 18,
    "start_time": "2022-04-09T15:55:28.981Z"
   },
   {
    "duration": 126,
    "start_time": "2022-04-09T15:55:29.001Z"
   },
   {
    "duration": 19,
    "start_time": "2022-04-09T15:55:29.131Z"
   },
   {
    "duration": 13,
    "start_time": "2022-04-09T15:55:29.153Z"
   },
   {
    "duration": 6,
    "start_time": "2022-04-09T15:55:29.168Z"
   },
   {
    "duration": 29,
    "start_time": "2022-04-09T15:55:29.176Z"
   },
   {
    "duration": 49,
    "start_time": "2022-04-09T15:55:29.207Z"
   },
   {
    "duration": 21,
    "start_time": "2022-04-09T15:55:29.259Z"
   },
   {
    "duration": 15,
    "start_time": "2022-04-09T15:55:29.282Z"
   },
   {
    "duration": 12,
    "start_time": "2022-04-09T15:55:29.299Z"
   },
   {
    "duration": 6,
    "start_time": "2022-04-09T15:55:29.344Z"
   },
   {
    "duration": 15,
    "start_time": "2022-04-09T15:55:29.352Z"
   },
   {
    "duration": 7,
    "start_time": "2022-04-09T15:55:29.369Z"
   },
   {
    "duration": 186,
    "start_time": "2022-04-09T16:21:11.391Z"
   },
   {
    "duration": 2,
    "start_time": "2022-04-09T17:00:53.350Z"
   },
   {
    "duration": 3,
    "start_time": "2022-04-09T17:00:57.285Z"
   }
  ],
  "colab": {
   "collapsed_sections": [
    "E0vqbgi9ay0H",
    "VUC88oWjTJw2"
   ],
   "name": "yandex_music_project_2021.2.ipynb",
   "provenance": []
  },
  "kernelspec": {
   "display_name": "Python 3 (ipykernel)",
   "language": "python",
   "name": "python3"
  },
  "language_info": {
   "codemirror_mode": {
    "name": "ipython",
    "version": 3
   },
   "file_extension": ".py",
   "mimetype": "text/x-python",
   "name": "python",
   "nbconvert_exporter": "python",
   "pygments_lexer": "ipython3",
   "version": "3.9.5"
  },
  "toc": {
   "base_numbering": 1,
   "nav_menu": {},
   "number_sections": true,
   "sideBar": true,
   "skip_h1_title": true,
   "title_cell": "Table of Contents",
   "title_sidebar": "Contents",
   "toc_cell": false,
   "toc_position": {
    "height": "445px",
    "left": "182px",
    "top": "139.125px",
    "width": "255.594px"
   },
   "toc_section_display": true,
   "toc_window_display": true
  }
 },
 "nbformat": 4,
 "nbformat_minor": 1
}
