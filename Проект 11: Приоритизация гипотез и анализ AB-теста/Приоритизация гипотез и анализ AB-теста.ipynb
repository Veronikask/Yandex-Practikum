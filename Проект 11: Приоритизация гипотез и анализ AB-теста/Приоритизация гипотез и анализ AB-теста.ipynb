{
 "cells": [
  {
   "cell_type": "markdown",
   "metadata": {},
   "source": [
    "# Приоритизация гипотез и анализ A/B-теста"
   ]
  },
  {
   "cell_type": "markdown",
   "metadata": {},
   "source": [
    "# Описание проекта"
   ]
  },
  {
   "cell_type": "markdown",
   "metadata": {},
   "source": [
    "Заказчик исследования - крупный интернет-магазин. <br>\n",
    "Цель проекта - приоритизировать ряд гипотез, разработанных совместно с отделом маркетинга, запустить A/B-тест и проанализировать результаты."
   ]
  },
  {
   "cell_type": "markdown",
   "metadata": {},
   "source": [
    "## Приоритизация гипотез"
   ]
  },
  {
   "cell_type": "code",
   "execution_count": 1,
   "metadata": {},
   "outputs": [],
   "source": [
    "# Импортируем библиотеки:\n",
    "import pandas as pd\n",
    "import matplotlib.pyplot as plt\n",
    "from datetime import datetime as dt\n",
    "import numpy as np\n",
    "from scipy import stats"
   ]
  },
  {
   "cell_type": "code",
   "execution_count": 2,
   "metadata": {},
   "outputs": [
    {
     "data": {
      "text/html": [
       "<div>\n",
       "<style scoped>\n",
       "    .dataframe tbody tr th:only-of-type {\n",
       "        vertical-align: middle;\n",
       "    }\n",
       "\n",
       "    .dataframe tbody tr th {\n",
       "        vertical-align: top;\n",
       "    }\n",
       "\n",
       "    .dataframe thead th {\n",
       "        text-align: right;\n",
       "    }\n",
       "</style>\n",
       "<table border=\"1\" class=\"dataframe\">\n",
       "  <thead>\n",
       "    <tr style=\"text-align: right;\">\n",
       "      <th></th>\n",
       "      <th>Hypothesis</th>\n",
       "      <th>Reach</th>\n",
       "      <th>Impact</th>\n",
       "      <th>Confidence</th>\n",
       "      <th>Efforts</th>\n",
       "    </tr>\n",
       "  </thead>\n",
       "  <tbody>\n",
       "    <tr>\n",
       "      <th>0</th>\n",
       "      <td>Добавить два новых канала привлечения трафика, что позволит привлекать на 30% больше пользователей</td>\n",
       "      <td>3</td>\n",
       "      <td>10</td>\n",
       "      <td>8</td>\n",
       "      <td>6</td>\n",
       "    </tr>\n",
       "    <tr>\n",
       "      <th>1</th>\n",
       "      <td>Запустить собственную службу доставки, что сократит срок доставки заказов</td>\n",
       "      <td>2</td>\n",
       "      <td>5</td>\n",
       "      <td>4</td>\n",
       "      <td>10</td>\n",
       "    </tr>\n",
       "    <tr>\n",
       "      <th>2</th>\n",
       "      <td>Добавить блоки рекомендаций товаров на сайт интернет магазина, чтобы повысить конверсию и средни...</td>\n",
       "      <td>8</td>\n",
       "      <td>3</td>\n",
       "      <td>7</td>\n",
       "      <td>3</td>\n",
       "    </tr>\n",
       "    <tr>\n",
       "      <th>3</th>\n",
       "      <td>Изменить структура категорий, что увеличит конверсию, т.к. пользователи быстрее найдут нужный товар</td>\n",
       "      <td>8</td>\n",
       "      <td>3</td>\n",
       "      <td>3</td>\n",
       "      <td>8</td>\n",
       "    </tr>\n",
       "    <tr>\n",
       "      <th>4</th>\n",
       "      <td>Изменить цвет фона главной страницы, чтобы увеличить вовлеченность пользователей</td>\n",
       "      <td>3</td>\n",
       "      <td>1</td>\n",
       "      <td>1</td>\n",
       "      <td>1</td>\n",
       "    </tr>\n",
       "    <tr>\n",
       "      <th>5</th>\n",
       "      <td>Добавить страницу отзывов клиентов о магазине, что позволит увеличить количество заказов</td>\n",
       "      <td>3</td>\n",
       "      <td>2</td>\n",
       "      <td>2</td>\n",
       "      <td>3</td>\n",
       "    </tr>\n",
       "    <tr>\n",
       "      <th>6</th>\n",
       "      <td>Показать на главной странице баннеры с актуальными акциями и распродажами, чтобы увеличить конве...</td>\n",
       "      <td>5</td>\n",
       "      <td>3</td>\n",
       "      <td>8</td>\n",
       "      <td>3</td>\n",
       "    </tr>\n",
       "    <tr>\n",
       "      <th>7</th>\n",
       "      <td>Добавить форму подписки на все основные страницы, чтобы собрать базу клиентов для email-рассылок</td>\n",
       "      <td>10</td>\n",
       "      <td>7</td>\n",
       "      <td>8</td>\n",
       "      <td>5</td>\n",
       "    </tr>\n",
       "    <tr>\n",
       "      <th>8</th>\n",
       "      <td>Запустить акцию, дающую скидку на товар в день рождения</td>\n",
       "      <td>1</td>\n",
       "      <td>9</td>\n",
       "      <td>9</td>\n",
       "      <td>5</td>\n",
       "    </tr>\n",
       "  </tbody>\n",
       "</table>\n",
       "</div>"
      ],
      "text/plain": [
       "                                                                                            Hypothesis  \\\n",
       "0   Добавить два новых канала привлечения трафика, что позволит привлекать на 30% больше пользователей   \n",
       "1                            Запустить собственную службу доставки, что сократит срок доставки заказов   \n",
       "2  Добавить блоки рекомендаций товаров на сайт интернет магазина, чтобы повысить конверсию и средни...   \n",
       "3  Изменить структура категорий, что увеличит конверсию, т.к. пользователи быстрее найдут нужный товар   \n",
       "4                     Изменить цвет фона главной страницы, чтобы увеличить вовлеченность пользователей   \n",
       "5             Добавить страницу отзывов клиентов о магазине, что позволит увеличить количество заказов   \n",
       "6  Показать на главной странице баннеры с актуальными акциями и распродажами, чтобы увеличить конве...   \n",
       "7     Добавить форму подписки на все основные страницы, чтобы собрать базу клиентов для email-рассылок   \n",
       "8                                              Запустить акцию, дающую скидку на товар в день рождения   \n",
       "\n",
       "   Reach  Impact  Confidence  Efforts  \n",
       "0      3      10           8        6  \n",
       "1      2       5           4       10  \n",
       "2      8       3           7        3  \n",
       "3      8       3           3        8  \n",
       "4      3       1           1        1  \n",
       "5      3       2           2        3  \n",
       "6      5       3           8        3  \n",
       "7     10       7           8        5  \n",
       "8      1       9           9        5  "
      ]
     },
     "execution_count": 2,
     "metadata": {},
     "output_type": "execute_result"
    }
   ],
   "source": [
    "# Прочтём файл:\n",
    "hypothesis = pd.read_csv('/datasets/hypothesis.csv')\n",
    "pd.options.display.max_colwidth = 100\n",
    "hypothesis"
   ]
  },
  {
   "cell_type": "markdown",
   "metadata": {},
   "source": [
    "В датасете hypothesis представлено 9 гипотез по увеличению выручки интернет-магазина со следующими указанными параметрами:\n",
    "- `Reach` — охват пользователей по 10-балльной шкале;\n",
    "- `Impact` — влияние на пользователей по 10-балльной шкале;\n",
    "- `Confidence` — уверенность в гипотезе по 10-балльной шкале;\n",
    "- `Efforts` — затраты ресурсов на проверку гипотезы по 10-балльной шкале. Чем больше значение Efforts, тем дороже проверка гипотезы."
   ]
  },
  {
   "cell_type": "code",
   "execution_count": 3,
   "metadata": {},
   "outputs": [],
   "source": [
    "# Приводём колонки к нижнему регистру:\n",
    "hypothesis.columns = map(str.lower, hypothesis.columns)"
   ]
  },
  {
   "cell_type": "markdown",
   "metadata": {},
   "source": [
    "### Применение фреймворка ICE для приоритизации гипотез"
   ]
  },
  {
   "cell_type": "code",
   "execution_count": 4,
   "metadata": {},
   "outputs": [
    {
     "data": {
      "text/html": [
       "<div>\n",
       "<style scoped>\n",
       "    .dataframe tbody tr th:only-of-type {\n",
       "        vertical-align: middle;\n",
       "    }\n",
       "\n",
       "    .dataframe tbody tr th {\n",
       "        vertical-align: top;\n",
       "    }\n",
       "\n",
       "    .dataframe thead th {\n",
       "        text-align: right;\n",
       "    }\n",
       "</style>\n",
       "<table border=\"1\" class=\"dataframe\">\n",
       "  <thead>\n",
       "    <tr style=\"text-align: right;\">\n",
       "      <th></th>\n",
       "      <th>hypothesis</th>\n",
       "      <th>ice</th>\n",
       "    </tr>\n",
       "  </thead>\n",
       "  <tbody>\n",
       "    <tr>\n",
       "      <th>8</th>\n",
       "      <td>Запустить акцию, дающую скидку на товар в день рождения</td>\n",
       "      <td>16.200000</td>\n",
       "    </tr>\n",
       "    <tr>\n",
       "      <th>0</th>\n",
       "      <td>Добавить два новых канала привлечения трафика, что позволит привлекать на 30% больше пользователей</td>\n",
       "      <td>13.333333</td>\n",
       "    </tr>\n",
       "    <tr>\n",
       "      <th>7</th>\n",
       "      <td>Добавить форму подписки на все основные страницы, чтобы собрать базу клиентов для email-рассылок</td>\n",
       "      <td>11.200000</td>\n",
       "    </tr>\n",
       "    <tr>\n",
       "      <th>6</th>\n",
       "      <td>Показать на главной странице баннеры с актуальными акциями и распродажами, чтобы увеличить конве...</td>\n",
       "      <td>8.000000</td>\n",
       "    </tr>\n",
       "    <tr>\n",
       "      <th>2</th>\n",
       "      <td>Добавить блоки рекомендаций товаров на сайт интернет магазина, чтобы повысить конверсию и средни...</td>\n",
       "      <td>7.000000</td>\n",
       "    </tr>\n",
       "    <tr>\n",
       "      <th>1</th>\n",
       "      <td>Запустить собственную службу доставки, что сократит срок доставки заказов</td>\n",
       "      <td>2.000000</td>\n",
       "    </tr>\n",
       "    <tr>\n",
       "      <th>5</th>\n",
       "      <td>Добавить страницу отзывов клиентов о магазине, что позволит увеличить количество заказов</td>\n",
       "      <td>1.333333</td>\n",
       "    </tr>\n",
       "    <tr>\n",
       "      <th>3</th>\n",
       "      <td>Изменить структура категорий, что увеличит конверсию, т.к. пользователи быстрее найдут нужный товар</td>\n",
       "      <td>1.125000</td>\n",
       "    </tr>\n",
       "    <tr>\n",
       "      <th>4</th>\n",
       "      <td>Изменить цвет фона главной страницы, чтобы увеличить вовлеченность пользователей</td>\n",
       "      <td>1.000000</td>\n",
       "    </tr>\n",
       "  </tbody>\n",
       "</table>\n",
       "</div>"
      ],
      "text/plain": [
       "                                                                                            hypothesis  \\\n",
       "8                                              Запустить акцию, дающую скидку на товар в день рождения   \n",
       "0   Добавить два новых канала привлечения трафика, что позволит привлекать на 30% больше пользователей   \n",
       "7     Добавить форму подписки на все основные страницы, чтобы собрать базу клиентов для email-рассылок   \n",
       "6  Показать на главной странице баннеры с актуальными акциями и распродажами, чтобы увеличить конве...   \n",
       "2  Добавить блоки рекомендаций товаров на сайт интернет магазина, чтобы повысить конверсию и средни...   \n",
       "1                            Запустить собственную службу доставки, что сократит срок доставки заказов   \n",
       "5             Добавить страницу отзывов клиентов о магазине, что позволит увеличить количество заказов   \n",
       "3  Изменить структура категорий, что увеличит конверсию, т.к. пользователи быстрее найдут нужный товар   \n",
       "4                     Изменить цвет фона главной страницы, чтобы увеличить вовлеченность пользователей   \n",
       "\n",
       "         ice  \n",
       "8  16.200000  \n",
       "0  13.333333  \n",
       "7  11.200000  \n",
       "6   8.000000  \n",
       "2   7.000000  \n",
       "1   2.000000  \n",
       "5   1.333333  \n",
       "3   1.125000  \n",
       "4   1.000000  "
      ]
     },
     "execution_count": 4,
     "metadata": {},
     "output_type": "execute_result"
    }
   ],
   "source": [
    "# Рассчитаем показатель ICE:\n",
    "hypothesis['ice'] = (hypothesis['impact'] * hypothesis['confidence'])/ hypothesis['efforts']\n",
    "\n",
    "# Cортируем по результатам ICE:\n",
    "hypothesis[['hypothesis','ice']].sort_values('ice', ascending=False)"
   ]
  },
  {
   "cell_type": "markdown",
   "metadata": {},
   "source": [
    "Видим, что гипотезы №8, 0, 7, 6 и 2 являются наиболее приоритетными задачами с позиции вероятного влияния их на выручку, без учёта пользовательского охвата."
   ]
  },
  {
   "cell_type": "markdown",
   "metadata": {},
   "source": [
    "### Применение фреймворка RICE для приоритизации гипотез"
   ]
  },
  {
   "cell_type": "code",
   "execution_count": 5,
   "metadata": {},
   "outputs": [
    {
     "data": {
      "text/html": [
       "<div>\n",
       "<style scoped>\n",
       "    .dataframe tbody tr th:only-of-type {\n",
       "        vertical-align: middle;\n",
       "    }\n",
       "\n",
       "    .dataframe tbody tr th {\n",
       "        vertical-align: top;\n",
       "    }\n",
       "\n",
       "    .dataframe thead th {\n",
       "        text-align: right;\n",
       "    }\n",
       "</style>\n",
       "<table border=\"1\" class=\"dataframe\">\n",
       "  <thead>\n",
       "    <tr style=\"text-align: right;\">\n",
       "      <th></th>\n",
       "      <th>hypothesis</th>\n",
       "      <th>rice</th>\n",
       "    </tr>\n",
       "  </thead>\n",
       "  <tbody>\n",
       "    <tr>\n",
       "      <th>7</th>\n",
       "      <td>Добавить форму подписки на все основные страницы, чтобы собрать базу клиентов для email-рассылок</td>\n",
       "      <td>112.0</td>\n",
       "    </tr>\n",
       "    <tr>\n",
       "      <th>2</th>\n",
       "      <td>Добавить блоки рекомендаций товаров на сайт интернет магазина, чтобы повысить конверсию и средни...</td>\n",
       "      <td>56.0</td>\n",
       "    </tr>\n",
       "    <tr>\n",
       "      <th>0</th>\n",
       "      <td>Добавить два новых канала привлечения трафика, что позволит привлекать на 30% больше пользователей</td>\n",
       "      <td>40.0</td>\n",
       "    </tr>\n",
       "    <tr>\n",
       "      <th>6</th>\n",
       "      <td>Показать на главной странице баннеры с актуальными акциями и распродажами, чтобы увеличить конве...</td>\n",
       "      <td>40.0</td>\n",
       "    </tr>\n",
       "    <tr>\n",
       "      <th>8</th>\n",
       "      <td>Запустить акцию, дающую скидку на товар в день рождения</td>\n",
       "      <td>16.2</td>\n",
       "    </tr>\n",
       "    <tr>\n",
       "      <th>3</th>\n",
       "      <td>Изменить структура категорий, что увеличит конверсию, т.к. пользователи быстрее найдут нужный товар</td>\n",
       "      <td>9.0</td>\n",
       "    </tr>\n",
       "    <tr>\n",
       "      <th>1</th>\n",
       "      <td>Запустить собственную службу доставки, что сократит срок доставки заказов</td>\n",
       "      <td>4.0</td>\n",
       "    </tr>\n",
       "    <tr>\n",
       "      <th>5</th>\n",
       "      <td>Добавить страницу отзывов клиентов о магазине, что позволит увеличить количество заказов</td>\n",
       "      <td>4.0</td>\n",
       "    </tr>\n",
       "    <tr>\n",
       "      <th>4</th>\n",
       "      <td>Изменить цвет фона главной страницы, чтобы увеличить вовлеченность пользователей</td>\n",
       "      <td>3.0</td>\n",
       "    </tr>\n",
       "  </tbody>\n",
       "</table>\n",
       "</div>"
      ],
      "text/plain": [
       "                                                                                            hypothesis  \\\n",
       "7     Добавить форму подписки на все основные страницы, чтобы собрать базу клиентов для email-рассылок   \n",
       "2  Добавить блоки рекомендаций товаров на сайт интернет магазина, чтобы повысить конверсию и средни...   \n",
       "0   Добавить два новых канала привлечения трафика, что позволит привлекать на 30% больше пользователей   \n",
       "6  Показать на главной странице баннеры с актуальными акциями и распродажами, чтобы увеличить конве...   \n",
       "8                                              Запустить акцию, дающую скидку на товар в день рождения   \n",
       "3  Изменить структура категорий, что увеличит конверсию, т.к. пользователи быстрее найдут нужный товар   \n",
       "1                            Запустить собственную службу доставки, что сократит срок доставки заказов   \n",
       "5             Добавить страницу отзывов клиентов о магазине, что позволит увеличить количество заказов   \n",
       "4                     Изменить цвет фона главной страницы, чтобы увеличить вовлеченность пользователей   \n",
       "\n",
       "    rice  \n",
       "7  112.0  \n",
       "2   56.0  \n",
       "0   40.0  \n",
       "6   40.0  \n",
       "8   16.2  \n",
       "3    9.0  \n",
       "1    4.0  \n",
       "5    4.0  \n",
       "4    3.0  "
      ]
     },
     "execution_count": 5,
     "metadata": {},
     "output_type": "execute_result"
    }
   ],
   "source": [
    "hypothesis['rice'] = (hypothesis['reach']*hypothesis['impact']*hypothesis['confidence']) / hypothesis['efforts']\n",
    "hypothesis[['hypothesis','rice']].sort_values('rice', ascending=False)"
   ]
  },
  {
   "cell_type": "markdown",
   "metadata": {},
   "source": [
    "Видим, что при расчёте методом RICE порядок изменился - тремя самыми перспективными гипотезами будут в порядке убывания № 7, 2, 0, 6 и 8."
   ]
  },
  {
   "cell_type": "markdown",
   "metadata": {},
   "source": [
    "### Сравнение приоритизации гипотез RICE / ICE"
   ]
  },
  {
   "cell_type": "code",
   "execution_count": 6,
   "metadata": {},
   "outputs": [
    {
     "data": {
      "image/png": "[encoded data removed]",
      "text/plain": [
       "<Figure size 720x720 with 1 Axes>"
      ]
     },
     "metadata": {
      "needs_background": "light"
     },
     "output_type": "display_data"
    }
   ],
   "source": [
    "# Визуализируем гипотезы:\n",
    "\n",
    "y = hypothesis['ice'] \n",
    "z = hypothesis['rice'] \n",
    "n = hypothesis.index \n",
    "\n",
    "fig, ax = plt.subplots()\n",
    "ax.scatter(z, y)\n",
    "\n",
    "for i, txt in enumerate(n):\n",
    "    ax.annotate(txt, (z[i], y[i]), size=30)\n",
    "\n",
    "plt.title(\"ICE and RICE гипотезы\") \n",
    "plt.xlabel(\"RICE\") \n",
    "plt.ylabel(\"ICE\")\n",
    "\n",
    "fig.set_figheight(10)\n",
    "fig.set_figwidth(10) \n",
    "plt.show()    "
   ]
  },
  {
   "cell_type": "markdown",
   "metadata": {},
   "source": [
    "Мы выяснили, что разный метод определения приоритета гипотез дал разные результаты:\n",
    "- по методу ICE наиболее эффективны гипотезы № 8, 0 и 7;\n",
    "- по методу RICE наиболее эффективны гипотезы № 7, 2 и 0.\n",
    "\n",
    "Приоритет гипотез изменился после добавления в формулу расчёта показателя `Reach` (охват пользователей). Поэтому целесообразнее при определении приоритета гипотезы учитывать не только влияние на пользователей, затраты и степень уверенности в самой гипотезе, но и число пользователей, которых она затронет. Гипотеза 7 получается наиболее перспективна, т.к. помимо высоких impact и confidence, коснётся всех пользователей сайта.\n",
    "\n",
    "Также можно заметить, что топ-5 гипотез для обоих подходов одинаков по составу."
   ]
  },
  {
   "cell_type": "markdown",
   "metadata": {},
   "source": [
    "## Анализ A/B-теста"
   ]
  },
  {
   "cell_type": "markdown",
   "metadata": {},
   "source": [
    "Мы провели A/B-тест и получили результаты, которые описаны в файлах orders и visitors. Теперь перед нами стоит задача проанализировать проведенный A/B-тест."
   ]
  },
  {
   "cell_type": "code",
   "execution_count": 7,
   "metadata": {},
   "outputs": [
    {
     "data": {
      "text/html": [
       "<div>\n",
       "<style scoped>\n",
       "    .dataframe tbody tr th:only-of-type {\n",
       "        vertical-align: middle;\n",
       "    }\n",
       "\n",
       "    .dataframe tbody tr th {\n",
       "        vertical-align: top;\n",
       "    }\n",
       "\n",
       "    .dataframe thead th {\n",
       "        text-align: right;\n",
       "    }\n",
       "</style>\n",
       "<table border=\"1\" class=\"dataframe\">\n",
       "  <thead>\n",
       "    <tr style=\"text-align: right;\">\n",
       "      <th></th>\n",
       "      <th>transactionId</th>\n",
       "      <th>visitorId</th>\n",
       "      <th>date</th>\n",
       "      <th>revenue</th>\n",
       "      <th>group</th>\n",
       "    </tr>\n",
       "  </thead>\n",
       "  <tbody>\n",
       "    <tr>\n",
       "      <th>0</th>\n",
       "      <td>3667963787</td>\n",
       "      <td>3312258926</td>\n",
       "      <td>2019-08-15</td>\n",
       "      <td>1650</td>\n",
       "      <td>B</td>\n",
       "    </tr>\n",
       "    <tr>\n",
       "      <th>1</th>\n",
       "      <td>2804400009</td>\n",
       "      <td>3642806036</td>\n",
       "      <td>2019-08-15</td>\n",
       "      <td>730</td>\n",
       "      <td>B</td>\n",
       "    </tr>\n",
       "    <tr>\n",
       "      <th>2</th>\n",
       "      <td>2961555356</td>\n",
       "      <td>4069496402</td>\n",
       "      <td>2019-08-15</td>\n",
       "      <td>400</td>\n",
       "      <td>A</td>\n",
       "    </tr>\n",
       "    <tr>\n",
       "      <th>3</th>\n",
       "      <td>3797467345</td>\n",
       "      <td>1196621759</td>\n",
       "      <td>2019-08-15</td>\n",
       "      <td>9759</td>\n",
       "      <td>B</td>\n",
       "    </tr>\n",
       "    <tr>\n",
       "      <th>4</th>\n",
       "      <td>2282983706</td>\n",
       "      <td>2322279887</td>\n",
       "      <td>2019-08-15</td>\n",
       "      <td>2308</td>\n",
       "      <td>B</td>\n",
       "    </tr>\n",
       "  </tbody>\n",
       "</table>\n",
       "</div>"
      ],
      "text/plain": [
       "   transactionId   visitorId        date  revenue group\n",
       "0     3667963787  3312258926  2019-08-15     1650     B\n",
       "1     2804400009  3642806036  2019-08-15      730     B\n",
       "2     2961555356  4069496402  2019-08-15      400     A\n",
       "3     3797467345  1196621759  2019-08-15     9759     B\n",
       "4     2282983706  2322279887  2019-08-15     2308     B"
      ]
     },
     "metadata": {},
     "output_type": "display_data"
    },
    {
     "name": "stdout",
     "output_type": "stream",
     "text": [
      "<class 'pandas.core.frame.DataFrame'>\n",
      "RangeIndex: 1197 entries, 0 to 1196\n",
      "Data columns (total 5 columns):\n",
      " #   Column         Non-Null Count  Dtype \n",
      "---  ------         --------------  ----- \n",
      " 0   transactionId  1197 non-null   int64 \n",
      " 1   visitorId      1197 non-null   int64 \n",
      " 2   date           1197 non-null   object\n",
      " 3   revenue        1197 non-null   int64 \n",
      " 4   group          1197 non-null   object\n",
      "dtypes: int64(3), object(2)\n",
      "memory usage: 46.9+ KB\n"
     ]
    }
   ],
   "source": [
    "# Извлекаем данные о заказах:\n",
    "orders = pd.read_csv('/datasets/orders.csv')\n",
    "display(orders.head(5))\n",
    "orders.info()"
   ]
  },
  {
   "cell_type": "markdown",
   "metadata": {},
   "source": [
    "Датасет orders содержит следующую информацию о заказах:\n",
    "- `transactionId` — идентификатор заказа;\n",
    "- `visitorId` — идентификатор пользователя, совершившего заказ;\n",
    "- `date` — дата, когда был совершён заказ;\n",
    "- `revenue` — выручка заказа;\n",
    "- `group` — группа A/B-теста, в которую попал заказ."
   ]
  },
  {
   "cell_type": "code",
   "execution_count": 8,
   "metadata": {},
   "outputs": [
    {
     "name": "stdout",
     "output_type": "stream",
     "text": [
      "Количество явных дубликатов: 0\n"
     ]
    }
   ],
   "source": [
    "# проверяем наличие явных дубликатов\n",
    "print('Количество явных дубликатов:', orders.duplicated().sum())"
   ]
  },
  {
   "cell_type": "code",
   "execution_count": 9,
   "metadata": {},
   "outputs": [
    {
     "data": {
      "text/html": [
       "<div>\n",
       "<style scoped>\n",
       "    .dataframe tbody tr th:only-of-type {\n",
       "        vertical-align: middle;\n",
       "    }\n",
       "\n",
       "    .dataframe tbody tr th {\n",
       "        vertical-align: top;\n",
       "    }\n",
       "\n",
       "    .dataframe thead th {\n",
       "        text-align: right;\n",
       "    }\n",
       "</style>\n",
       "<table border=\"1\" class=\"dataframe\">\n",
       "  <thead>\n",
       "    <tr style=\"text-align: right;\">\n",
       "      <th></th>\n",
       "      <th>date</th>\n",
       "      <th>group</th>\n",
       "      <th>visitors</th>\n",
       "    </tr>\n",
       "  </thead>\n",
       "  <tbody>\n",
       "    <tr>\n",
       "      <th>0</th>\n",
       "      <td>2019-08-01</td>\n",
       "      <td>A</td>\n",
       "      <td>719</td>\n",
       "    </tr>\n",
       "    <tr>\n",
       "      <th>1</th>\n",
       "      <td>2019-08-02</td>\n",
       "      <td>A</td>\n",
       "      <td>619</td>\n",
       "    </tr>\n",
       "    <tr>\n",
       "      <th>2</th>\n",
       "      <td>2019-08-03</td>\n",
       "      <td>A</td>\n",
       "      <td>507</td>\n",
       "    </tr>\n",
       "    <tr>\n",
       "      <th>3</th>\n",
       "      <td>2019-08-04</td>\n",
       "      <td>A</td>\n",
       "      <td>717</td>\n",
       "    </tr>\n",
       "    <tr>\n",
       "      <th>4</th>\n",
       "      <td>2019-08-05</td>\n",
       "      <td>A</td>\n",
       "      <td>756</td>\n",
       "    </tr>\n",
       "  </tbody>\n",
       "</table>\n",
       "</div>"
      ],
      "text/plain": [
       "         date group  visitors\n",
       "0  2019-08-01     A       719\n",
       "1  2019-08-02     A       619\n",
       "2  2019-08-03     A       507\n",
       "3  2019-08-04     A       717\n",
       "4  2019-08-05     A       756"
      ]
     },
     "metadata": {},
     "output_type": "display_data"
    },
    {
     "name": "stdout",
     "output_type": "stream",
     "text": [
      "<class 'pandas.core.frame.DataFrame'>\n",
      "RangeIndex: 62 entries, 0 to 61\n",
      "Data columns (total 3 columns):\n",
      " #   Column    Non-Null Count  Dtype \n",
      "---  ------    --------------  ----- \n",
      " 0   date      62 non-null     object\n",
      " 1   group     62 non-null     object\n",
      " 2   visitors  62 non-null     int64 \n",
      "dtypes: int64(1), object(2)\n",
      "memory usage: 1.6+ KB\n"
     ]
    }
   ],
   "source": [
    "# Извлекаем данные о количестве пользователей:\n",
    "visitors = pd.read_csv('/datasets/visitors.csv')\n",
    "display(visitors.head(5))\n",
    "visitors.info()"
   ]
  },
  {
   "cell_type": "markdown",
   "metadata": {},
   "source": [
    "Датасет visitors содержит следующую информацию о посетителях:\n",
    "- `date` — дата;\n",
    "- `group` — группа A/B-теста;\n",
    "- `visitors` — количество пользователей в указанную дату в указанной группе A/B-теста."
   ]
  },
  {
   "cell_type": "code",
   "execution_count": 10,
   "metadata": {},
   "outputs": [],
   "source": [
    "# Приведем тип поля date к datetime:\n",
    "orders['date'] = pd.to_datetime(orders['date'], format='%Y-%m-%d')\n",
    "visitors['date'] = pd.to_datetime(visitors['date'], format='%Y-%m-%d')"
   ]
  },
  {
   "cell_type": "code",
   "execution_count": 11,
   "metadata": {},
   "outputs": [],
   "source": [
    "# Приводём колонки к нижнему регистру:\n",
    "orders.columns = orders.columns.str.lower()"
   ]
  },
  {
   "cell_type": "code",
   "execution_count": 12,
   "metadata": {},
   "outputs": [
    {
     "name": "stdout",
     "output_type": "stream",
     "text": [
      "Количество явных дубликатов: 0\n"
     ]
    }
   ],
   "source": [
    "# проверяем наличие явных дубликатов\n",
    "print('Количество явных дубликатов:', visitors.duplicated().sum())"
   ]
  },
  {
   "cell_type": "markdown",
   "metadata": {},
   "source": [
    "### График кумулятивной выручки по группам"
   ]
  },
  {
   "cell_type": "markdown",
   "metadata": {},
   "source": [
    "Построим график кумулятивной выручки по группам."
   ]
  },
  {
   "cell_type": "code",
   "execution_count": 13,
   "metadata": {},
   "outputs": [
    {
     "data": {
      "text/html": [
       "<div>\n",
       "<style scoped>\n",
       "    .dataframe tbody tr th:only-of-type {\n",
       "        vertical-align: middle;\n",
       "    }\n",
       "\n",
       "    .dataframe tbody tr th {\n",
       "        vertical-align: top;\n",
       "    }\n",
       "\n",
       "    .dataframe thead th {\n",
       "        text-align: right;\n",
       "    }\n",
       "</style>\n",
       "<table border=\"1\" class=\"dataframe\">\n",
       "  <thead>\n",
       "    <tr style=\"text-align: right;\">\n",
       "      <th></th>\n",
       "      <th>date</th>\n",
       "      <th>group</th>\n",
       "      <th>transactionid</th>\n",
       "      <th>visitorid</th>\n",
       "      <th>revenue</th>\n",
       "    </tr>\n",
       "  </thead>\n",
       "  <tbody>\n",
       "    <tr>\n",
       "      <th>55</th>\n",
       "      <td>2019-08-01</td>\n",
       "      <td>A</td>\n",
       "      <td>24</td>\n",
       "      <td>20</td>\n",
       "      <td>148579</td>\n",
       "    </tr>\n",
       "    <tr>\n",
       "      <th>66</th>\n",
       "      <td>2019-08-01</td>\n",
       "      <td>B</td>\n",
       "      <td>21</td>\n",
       "      <td>20</td>\n",
       "      <td>101217</td>\n",
       "    </tr>\n",
       "    <tr>\n",
       "      <th>175</th>\n",
       "      <td>2019-08-02</td>\n",
       "      <td>A</td>\n",
       "      <td>44</td>\n",
       "      <td>38</td>\n",
       "      <td>242401</td>\n",
       "    </tr>\n",
       "    <tr>\n",
       "      <th>173</th>\n",
       "      <td>2019-08-02</td>\n",
       "      <td>B</td>\n",
       "      <td>45</td>\n",
       "      <td>43</td>\n",
       "      <td>266748</td>\n",
       "    </tr>\n",
       "    <tr>\n",
       "      <th>291</th>\n",
       "      <td>2019-08-03</td>\n",
       "      <td>A</td>\n",
       "      <td>68</td>\n",
       "      <td>62</td>\n",
       "      <td>354874</td>\n",
       "    </tr>\n",
       "    <tr>\n",
       "      <th>...</th>\n",
       "      <td>...</td>\n",
       "      <td>...</td>\n",
       "      <td>...</td>\n",
       "      <td>...</td>\n",
       "      <td>...</td>\n",
       "    </tr>\n",
       "    <tr>\n",
       "      <th>496</th>\n",
       "      <td>2019-08-29</td>\n",
       "      <td>B</td>\n",
       "      <td>596</td>\n",
       "      <td>544</td>\n",
       "      <td>5559398</td>\n",
       "    </tr>\n",
       "    <tr>\n",
       "      <th>730</th>\n",
       "      <td>2019-08-30</td>\n",
       "      <td>A</td>\n",
       "      <td>545</td>\n",
       "      <td>493</td>\n",
       "      <td>4022970</td>\n",
       "    </tr>\n",
       "    <tr>\n",
       "      <th>690</th>\n",
       "      <td>2019-08-30</td>\n",
       "      <td>B</td>\n",
       "      <td>620</td>\n",
       "      <td>567</td>\n",
       "      <td>5774631</td>\n",
       "    </tr>\n",
       "    <tr>\n",
       "      <th>958</th>\n",
       "      <td>2019-08-31</td>\n",
       "      <td>A</td>\n",
       "      <td>557</td>\n",
       "      <td>503</td>\n",
       "      <td>4084803</td>\n",
       "    </tr>\n",
       "    <tr>\n",
       "      <th>930</th>\n",
       "      <td>2019-08-31</td>\n",
       "      <td>B</td>\n",
       "      <td>640</td>\n",
       "      <td>586</td>\n",
       "      <td>5907760</td>\n",
       "    </tr>\n",
       "  </tbody>\n",
       "</table>\n",
       "<p>62 rows × 5 columns</p>\n",
       "</div>"
      ],
      "text/plain": [
       "          date group  transactionid  visitorid  revenue\n",
       "55  2019-08-01     A             24         20   148579\n",
       "66  2019-08-01     B             21         20   101217\n",
       "175 2019-08-02     A             44         38   242401\n",
       "173 2019-08-02     B             45         43   266748\n",
       "291 2019-08-03     A             68         62   354874\n",
       "..         ...   ...            ...        ...      ...\n",
       "496 2019-08-29     B            596        544  5559398\n",
       "730 2019-08-30     A            545        493  4022970\n",
       "690 2019-08-30     B            620        567  5774631\n",
       "958 2019-08-31     A            557        503  4084803\n",
       "930 2019-08-31     B            640        586  5907760\n",
       "\n",
       "[62 rows x 5 columns]"
      ]
     },
     "metadata": {},
     "output_type": "display_data"
    }
   ],
   "source": [
    "# Создадим массив уникальных пар значений дат и групп теста:\n",
    "datesGroups = orders[['date', 'group']].drop_duplicates()\n",
    "\n",
    "# Соберём агрегированные кумулятивные по дням данные о заказах:\n",
    "ordersAggregated = (datesGroups\n",
    "                    .apply(lambda x: orders[(orders['date'] <= x['date']) & (orders['group'] == x['group'])]\n",
    "                        .agg({'date':'max', 'group':'max', 'transactionid':pd.Series.nunique, 'visitorid':pd.Series.nunique, 'revenue':'sum'}), axis=1)\n",
    "                    .sort_values(by=['date','group']) \n",
    "                   )\n",
    "display(ordersAggregated)"
   ]
  },
  {
   "cell_type": "code",
   "execution_count": 14,
   "metadata": {},
   "outputs": [
    {
     "data": {
      "text/html": [
       "<div>\n",
       "<style scoped>\n",
       "    .dataframe tbody tr th:only-of-type {\n",
       "        vertical-align: middle;\n",
       "    }\n",
       "\n",
       "    .dataframe tbody tr th {\n",
       "        vertical-align: top;\n",
       "    }\n",
       "\n",
       "    .dataframe thead th {\n",
       "        text-align: right;\n",
       "    }\n",
       "</style>\n",
       "<table border=\"1\" class=\"dataframe\">\n",
       "  <thead>\n",
       "    <tr style=\"text-align: right;\">\n",
       "      <th></th>\n",
       "      <th>date</th>\n",
       "      <th>group</th>\n",
       "      <th>visitors</th>\n",
       "    </tr>\n",
       "  </thead>\n",
       "  <tbody>\n",
       "    <tr>\n",
       "      <th>55</th>\n",
       "      <td>2019-08-01</td>\n",
       "      <td>A</td>\n",
       "      <td>719</td>\n",
       "    </tr>\n",
       "    <tr>\n",
       "      <th>66</th>\n",
       "      <td>2019-08-01</td>\n",
       "      <td>B</td>\n",
       "      <td>713</td>\n",
       "    </tr>\n",
       "    <tr>\n",
       "      <th>175</th>\n",
       "      <td>2019-08-02</td>\n",
       "      <td>A</td>\n",
       "      <td>1338</td>\n",
       "    </tr>\n",
       "    <tr>\n",
       "      <th>173</th>\n",
       "      <td>2019-08-02</td>\n",
       "      <td>B</td>\n",
       "      <td>1294</td>\n",
       "    </tr>\n",
       "    <tr>\n",
       "      <th>291</th>\n",
       "      <td>2019-08-03</td>\n",
       "      <td>A</td>\n",
       "      <td>1845</td>\n",
       "    </tr>\n",
       "    <tr>\n",
       "      <th>...</th>\n",
       "      <td>...</td>\n",
       "      <td>...</td>\n",
       "      <td>...</td>\n",
       "    </tr>\n",
       "    <tr>\n",
       "      <th>496</th>\n",
       "      <td>2019-08-29</td>\n",
       "      <td>B</td>\n",
       "      <td>17708</td>\n",
       "    </tr>\n",
       "    <tr>\n",
       "      <th>730</th>\n",
       "      <td>2019-08-30</td>\n",
       "      <td>A</td>\n",
       "      <td>18037</td>\n",
       "    </tr>\n",
       "    <tr>\n",
       "      <th>690</th>\n",
       "      <td>2019-08-30</td>\n",
       "      <td>B</td>\n",
       "      <td>18198</td>\n",
       "    </tr>\n",
       "    <tr>\n",
       "      <th>958</th>\n",
       "      <td>2019-08-31</td>\n",
       "      <td>A</td>\n",
       "      <td>18736</td>\n",
       "    </tr>\n",
       "    <tr>\n",
       "      <th>930</th>\n",
       "      <td>2019-08-31</td>\n",
       "      <td>B</td>\n",
       "      <td>18916</td>\n",
       "    </tr>\n",
       "  </tbody>\n",
       "</table>\n",
       "<p>62 rows × 3 columns</p>\n",
       "</div>"
      ],
      "text/plain": [
       "          date group  visitors\n",
       "55  2019-08-01     A       719\n",
       "66  2019-08-01     B       713\n",
       "175 2019-08-02     A      1338\n",
       "173 2019-08-02     B      1294\n",
       "291 2019-08-03     A      1845\n",
       "..         ...   ...       ...\n",
       "496 2019-08-29     B     17708\n",
       "730 2019-08-30     A     18037\n",
       "690 2019-08-30     B     18198\n",
       "958 2019-08-31     A     18736\n",
       "930 2019-08-31     B     18916\n",
       "\n",
       "[62 rows x 3 columns]"
      ]
     },
     "metadata": {},
     "output_type": "display_data"
    }
   ],
   "source": [
    "# Соберём агрегированные кумулятивные по дням данные о посетителях:\n",
    "visitorsAggregated = (datesGroups\n",
    "                      .apply(lambda x: visitors[(visitors['date'] <= x['date']) & (visitors['group'] == x['group'])]\n",
    "                          .agg({'date' : 'max', 'group' : 'max', 'visitors' : 'sum'}), axis=1)\n",
    "                      .sort_values(by=['date','group'])\n",
    "                     )\n",
    "display(visitorsAggregated)"
   ]
  },
  {
   "cell_type": "code",
   "execution_count": 15,
   "metadata": {},
   "outputs": [
    {
     "data": {
      "text/html": [
       "<div>\n",
       "<style scoped>\n",
       "    .dataframe tbody tr th:only-of-type {\n",
       "        vertical-align: middle;\n",
       "    }\n",
       "\n",
       "    .dataframe tbody tr th {\n",
       "        vertical-align: top;\n",
       "    }\n",
       "\n",
       "    .dataframe thead th {\n",
       "        text-align: right;\n",
       "    }\n",
       "</style>\n",
       "<table border=\"1\" class=\"dataframe\">\n",
       "  <thead>\n",
       "    <tr style=\"text-align: right;\">\n",
       "      <th></th>\n",
       "      <th>date</th>\n",
       "      <th>group</th>\n",
       "      <th>orders</th>\n",
       "      <th>buyers</th>\n",
       "      <th>revenue</th>\n",
       "      <th>visitors</th>\n",
       "    </tr>\n",
       "  </thead>\n",
       "  <tbody>\n",
       "    <tr>\n",
       "      <th>0</th>\n",
       "      <td>2019-08-01</td>\n",
       "      <td>A</td>\n",
       "      <td>24</td>\n",
       "      <td>20</td>\n",
       "      <td>148579</td>\n",
       "      <td>719</td>\n",
       "    </tr>\n",
       "    <tr>\n",
       "      <th>1</th>\n",
       "      <td>2019-08-01</td>\n",
       "      <td>B</td>\n",
       "      <td>21</td>\n",
       "      <td>20</td>\n",
       "      <td>101217</td>\n",
       "      <td>713</td>\n",
       "    </tr>\n",
       "    <tr>\n",
       "      <th>2</th>\n",
       "      <td>2019-08-02</td>\n",
       "      <td>A</td>\n",
       "      <td>44</td>\n",
       "      <td>38</td>\n",
       "      <td>242401</td>\n",
       "      <td>1338</td>\n",
       "    </tr>\n",
       "    <tr>\n",
       "      <th>3</th>\n",
       "      <td>2019-08-02</td>\n",
       "      <td>B</td>\n",
       "      <td>45</td>\n",
       "      <td>43</td>\n",
       "      <td>266748</td>\n",
       "      <td>1294</td>\n",
       "    </tr>\n",
       "    <tr>\n",
       "      <th>4</th>\n",
       "      <td>2019-08-03</td>\n",
       "      <td>A</td>\n",
       "      <td>68</td>\n",
       "      <td>62</td>\n",
       "      <td>354874</td>\n",
       "      <td>1845</td>\n",
       "    </tr>\n",
       "    <tr>\n",
       "      <th>...</th>\n",
       "      <td>...</td>\n",
       "      <td>...</td>\n",
       "      <td>...</td>\n",
       "      <td>...</td>\n",
       "      <td>...</td>\n",
       "      <td>...</td>\n",
       "    </tr>\n",
       "    <tr>\n",
       "      <th>57</th>\n",
       "      <td>2019-08-29</td>\n",
       "      <td>B</td>\n",
       "      <td>596</td>\n",
       "      <td>544</td>\n",
       "      <td>5559398</td>\n",
       "      <td>17708</td>\n",
       "    </tr>\n",
       "    <tr>\n",
       "      <th>58</th>\n",
       "      <td>2019-08-30</td>\n",
       "      <td>A</td>\n",
       "      <td>545</td>\n",
       "      <td>493</td>\n",
       "      <td>4022970</td>\n",
       "      <td>18037</td>\n",
       "    </tr>\n",
       "    <tr>\n",
       "      <th>59</th>\n",
       "      <td>2019-08-30</td>\n",
       "      <td>B</td>\n",
       "      <td>620</td>\n",
       "      <td>567</td>\n",
       "      <td>5774631</td>\n",
       "      <td>18198</td>\n",
       "    </tr>\n",
       "    <tr>\n",
       "      <th>60</th>\n",
       "      <td>2019-08-31</td>\n",
       "      <td>A</td>\n",
       "      <td>557</td>\n",
       "      <td>503</td>\n",
       "      <td>4084803</td>\n",
       "      <td>18736</td>\n",
       "    </tr>\n",
       "    <tr>\n",
       "      <th>61</th>\n",
       "      <td>2019-08-31</td>\n",
       "      <td>B</td>\n",
       "      <td>640</td>\n",
       "      <td>586</td>\n",
       "      <td>5907760</td>\n",
       "      <td>18916</td>\n",
       "    </tr>\n",
       "  </tbody>\n",
       "</table>\n",
       "<p>62 rows × 6 columns</p>\n",
       "</div>"
      ],
      "text/plain": [
       "         date group  orders  buyers  revenue  visitors\n",
       "0  2019-08-01     A      24      20   148579       719\n",
       "1  2019-08-01     B      21      20   101217       713\n",
       "2  2019-08-02     A      44      38   242401      1338\n",
       "3  2019-08-02     B      45      43   266748      1294\n",
       "4  2019-08-03     A      68      62   354874      1845\n",
       "..        ...   ...     ...     ...      ...       ...\n",
       "57 2019-08-29     B     596     544  5559398     17708\n",
       "58 2019-08-30     A     545     493  4022970     18037\n",
       "59 2019-08-30     B     620     567  5774631     18198\n",
       "60 2019-08-31     A     557     503  4084803     18736\n",
       "61 2019-08-31     B     640     586  5907760     18916\n",
       "\n",
       "[62 rows x 6 columns]"
      ]
     },
     "metadata": {},
     "output_type": "display_data"
    }
   ],
   "source": [
    "# Объединим кумулятивные данные в одной таблице:\n",
    "cumulativeData = ordersAggregated.merge(visitorsAggregated, left_on=['date', 'group'], right_on=['date', 'group'])\n",
    "cumulativeData.columns = ['date', 'group', 'orders', 'buyers', 'revenue', 'visitors']\n",
    "\n",
    "display(cumulativeData)"
   ]
  },
  {
   "cell_type": "code",
   "execution_count": 16,
   "metadata": {
    "scrolled": true
   },
   "outputs": [
    {
     "data": {
      "text/plain": [
       "True"
      ]
     },
     "execution_count": 16,
     "metadata": {},
     "output_type": "execute_result"
    }
   ],
   "source": [
    "# Проверим, совпадает ли минимальная дата в cumulativeData с минимальной датой в исходных данных:\n",
    "cumulativeData['date'].min() == orders['date'].min() == visitors['date'].min()"
   ]
  },
  {
   "cell_type": "code",
   "execution_count": 17,
   "metadata": {
    "scrolled": true
   },
   "outputs": [
    {
     "data": {
      "text/plain": [
       "True"
      ]
     },
     "execution_count": 17,
     "metadata": {},
     "output_type": "execute_result"
    }
   ],
   "source": [
    "# Проверим, совпадает ли максимальная дата в cumulativeData с максимальной датой в исходных данных:\n",
    "cumulativeData['date'].max() == orders['date'].max() == visitors['date'].max()"
   ]
  },
  {
   "cell_type": "markdown",
   "metadata": {},
   "source": [
    "Минимальная и максимальная даты в cumulativeData совпадают с минимальной и максимальной датой в исходных данных, значит  датафрейм cummulativeData был создан корректно. <br>"
   ]
  },
  {
   "cell_type": "code",
   "execution_count": 18,
   "metadata": {},
   "outputs": [
    {
     "data": {
      "image/png": "[encoded data removed]",
      "text/plain": [
       "<Figure size 1080x360 with 1 Axes>"
      ]
     },
     "metadata": {
      "needs_background": "light"
     },
     "output_type": "display_data"
    }
   ],
   "source": [
    "# Датафрейм с кумулятивным количеством заказов и кумулятивной выручкой по дням в группе А:\n",
    "cumulativeRevenueA = cumulativeData[cumulativeData['group']=='A'][['date', 'revenue', 'orders']]\n",
    "\n",
    "# Датафрейм с кумулятивным количеством заказов и кумулятивной выручкой по дням в группе B:\n",
    "cumulativeRevenueB =cumulativeData[cumulativeData['group']=='B'][['date', 'revenue', 'orders']]\n",
    "\n",
    "plt.figure(figsize=(15,5))\n",
    "plt.plot(cumulativeRevenueA['date'], cumulativeRevenueA['revenue'], label='A')\n",
    "plt.plot(cumulativeRevenueB['date'], cumulativeRevenueB['revenue'], label='B')\n",
    "plt.title('Кумулятивная выручка по дням в группах А и В', fontsize=12)\n",
    "plt.xlabel('Дата', fontsize=15)\n",
    "plt.ylabel('Кумулятивная выручка', fontsize=15)\n",
    "plt.xticks(rotation=30)\n",
    "plt.legend() \n",
    "plt.show()"
   ]
  },
  {
   "cell_type": "markdown",
   "metadata": {},
   "source": [
    "Из графика кумулятивной выручки по сырым данным видим, что А/В-тест длился весь календарный месяц - август 2019г. Причем в первой половигне месяца выручка по группам росла примерно равными темпами, и группа В показывала незначительно лучшие результаты. Однако 17 августа в группе В наблюдается резкий скачок вверх, эта группа существенно оторвалась от А и далее до конца теста темпы прироста выручки практически одинаковы. Скорее всего тогда в группу В попали какие-то аномальные заказы (возможно, крупные заказы), тем самым исказив график. Принимать решение по этой метрике рано, т.к. требуется дополнительнй анализ выбросов, которые искажают результаты."
   ]
  },
  {
   "cell_type": "markdown",
   "metadata": {},
   "source": [
    "###\tГрафик кумулятивного среднего чека по группам"
   ]
  },
  {
   "cell_type": "code",
   "execution_count": 19,
   "metadata": {},
   "outputs": [
    {
     "data": {
      "image/png": "[encoded data removed]",
      "text/plain": [
       "<Figure size 1080x360 with 1 Axes>"
      ]
     },
     "metadata": {
      "needs_background": "light"
     },
     "output_type": "display_data"
    }
   ],
   "source": [
    "plt.figure(figsize=(15,5))\n",
    "plt.plot(cumulativeRevenueA['date'], cumulativeRevenueA['revenue']/cumulativeRevenueA['orders'], label='A')\n",
    "plt.plot(cumulativeRevenueB['date'], cumulativeRevenueB['revenue']/cumulativeRevenueB['orders'], label='B')\n",
    "plt.title('Кумулятивный средний чек по дням в группах А и В', fontsize=12)\n",
    "plt.xlabel('Дата', fontsize=12)\n",
    "plt.ylabel('Кумулятивный средний чек', fontsize=12)\n",
    "plt.xticks(rotation=30)\n",
    "plt.legend() \n",
    "plt.show()"
   ]
  },
  {
   "cell_type": "markdown",
   "metadata": {},
   "source": [
    "Средний чек примерно до 17-18 числа скачет и потом стабилизируется, однако здесь опять виднен гигантский скачок в группе В. Вероятно, в это время имели место несколько аномально крупных заказов, что ведет к невозможности сделать предположения о разнице в средних чеках по группам."
   ]
  },
  {
   "cell_type": "markdown",
   "metadata": {},
   "source": [
    "### График относительного изменения кумулятивного среднего чека группы B к группе A"
   ]
  },
  {
   "cell_type": "code",
   "execution_count": 20,
   "metadata": {},
   "outputs": [
    {
     "data": {
      "image/png": "[encoded data removed]",
      "text/plain": [
       "<Figure size 1080x360 with 1 Axes>"
      ]
     },
     "metadata": {
      "needs_background": "light"
     },
     "output_type": "display_data"
    }
   ],
   "source": [
    "# Собираем данные в одном датафрейме:\n",
    "mergedCumulativeRevenue = cumulativeRevenueA.merge(cumulativeRevenueB, left_on='date', right_on='date', how='left', suffixes=['A', 'B'])\n",
    "\n",
    "plt.figure(figsize=(15,5))\n",
    "plt.plot(mergedCumulativeRevenue['date'], (mergedCumulativeRevenue['revenueB']/mergedCumulativeRevenue['ordersB'])/(mergedCumulativeRevenue['revenueA']/mergedCumulativeRevenue['ordersA'])-1)\n",
    "plt.axhline(y=0, color='black', linestyle='--') \n",
    "plt.title('Относительное изменение кумулятивного среднего чека группы B к группе A', fontsize=12, fontweight='bold')\n",
    "plt.xlabel('Дата', fontsize=12)\n",
    "plt.ylabel('(ср.чек В/ср.чек А) -1', fontsize=12)\n",
    "plt.xticks(rotation=30)\n",
    "plt.show()"
   ]
  },
  {
   "cell_type": "markdown",
   "metadata": {},
   "source": [
    "Отношение кумулятивного среднего чека группы А к группе В показывает, что данное соотношение за исследуемый период имело два пика, когда средний чек группы B значительно превосходил этот показатель группы А, но быстро снижался после пика. Вероятно, такие изменения связаны с наличием выбросов в выборке."
   ]
  },
  {
   "cell_type": "markdown",
   "metadata": {},
   "source": [
    "###\tГрафик кумулятивной конверсии по группам"
   ]
  },
  {
   "cell_type": "code",
   "execution_count": 21,
   "metadata": {},
   "outputs": [
    {
     "data": {
      "image/png": "[encoded data removed]",
      "text/plain": [
       "<Figure size 1080x360 with 1 Axes>"
      ]
     },
     "metadata": {
      "needs_background": "light"
     },
     "output_type": "display_data"
    }
   ],
   "source": [
    "# Считаем кумулятивную конверсию:\n",
    "cumulativeData['conversion'] = cumulativeData['orders']/cumulativeData['visitors']\n",
    "\n",
    "# Данные по группе A:\n",
    "cumulativeDataA = cumulativeData[cumulativeData['group']=='A']\n",
    "\n",
    "# Данные по группе B:\n",
    "cumulativeDataB = cumulativeData[cumulativeData['group']=='B']\n",
    "\n",
    "plt.figure(figsize=(15,5))\n",
    "plt.plot(cumulativeDataA['date'], cumulativeDataA['conversion'], label='A')\n",
    "plt.plot(cumulativeDataB['date'], cumulativeDataB['conversion'], label='B')\n",
    "plt.legend()\n",
    "plt.title('Кумулятивная конверсия по группам', fontsize=12, fontweight='bold')\n",
    "plt.xlabel('Дата', fontsize=12)\n",
    "plt.ylabel('Конверсия', fontsize=12)\n",
    "plt.xticks(rotation=30)\n",
    "plt.show()"
   ]
  },
  {
   "cell_type": "markdown",
   "metadata": {},
   "source": [
    "Изначально в первую неделю опыта в обеих группах происходит скачок конверсии, после чего группы значительно расходятся. В группе А просиходит снижение конверсии с 0.037 до уровня 0.030, вокруг которого значение и находится на протяжении опыта. А вот в группе B после скачка до 0.035 происходит резкое снижение значения конверсии до 0.030 с последующим постепенным ростом до 0.036 и относительно стабильным средним значением конверсии в размере 0.034-0.035.\n",
    "\n",
    "В общем, сначала конверсии колебались, но довольно быстро выровнялись и результат группы В оказался стабильно лучше, чем в группе А."
   ]
  },
  {
   "cell_type": "markdown",
   "metadata": {},
   "source": [
    "###\tГрафик относительного изменения кумулятивной конверсии группы B к группе A"
   ]
  },
  {
   "cell_type": "code",
   "execution_count": 22,
   "metadata": {},
   "outputs": [
    {
     "data": {
      "image/png": "[encoded data removed]",
      "text/plain": [
       "<Figure size 1080x360 with 1 Axes>"
      ]
     },
     "metadata": {
      "needs_background": "light"
     },
     "output_type": "display_data"
    }
   ],
   "source": [
    "mergedCumulativeConversions = cumulativeDataA[['date','conversion']].merge(cumulativeDataB[['date','conversion']], left_on='date', right_on='date', how='left', suffixes=['A', 'B'])\n",
    "\n",
    "plt.figure(figsize=(15,5))\n",
    "plt.plot(mergedCumulativeConversions['date'], mergedCumulativeConversions['conversionB']/mergedCumulativeConversions['conversionA']-1)\n",
    "plt.axhline(y=0, color='black', linestyle='--')\n",
    "plt.axhline(y=0.15, color='grey', linestyle='--')\n",
    "#plt.axis(['2019-08-01', '2019-08-31', -0.2, 0.3]) \n",
    "plt.title('Относительное изменение кумулятивной конверсии В к А', fontsize=12, fontweight='bold')\n",
    "plt.xlabel('Дата', fontsize=12)\n",
    "plt.ylabel('(конверсия В/конверсия А) -1', fontsize=12)\n",
    "plt.xticks(rotation=30)\n",
    "plt.show()"
   ]
  },
  {
   "cell_type": "markdown",
   "metadata": {},
   "source": [
    "Вскоре после начала теста конверсия группы В опередила конверсию А и до конца теста оставалась выше. На графике есть скачки, которые могут говорить о наличии выбросов в данных."
   ]
  },
  {
   "cell_type": "markdown",
   "metadata": {},
   "source": [
    "###\tТочечный график количества заказов по пользователям"
   ]
  },
  {
   "cell_type": "code",
   "execution_count": 23,
   "metadata": {},
   "outputs": [
    {
     "data": {
      "text/plain": [
       "count    1031.000000\n",
       "mean        1.161009\n",
       "std         0.724919\n",
       "min         1.000000\n",
       "25%         1.000000\n",
       "50%         1.000000\n",
       "75%         1.000000\n",
       "max        11.000000\n",
       "Name: orders, dtype: float64"
      ]
     },
     "metadata": {},
     "output_type": "display_data"
    },
    {
     "data": {
      "image/png": "[encoded data removed]",
      "text/plain": [
       "<Figure size 1080x360 with 1 Axes>"
      ]
     },
     "metadata": {
      "needs_background": "light"
     },
     "output_type": "display_data"
    }
   ],
   "source": [
    "# Датафрейм с количеством заказов по пользователям:\n",
    "ordersByUsers = orders.drop(['group', 'revenue', 'date'], axis=1).groupby('visitorid', as_index=False).agg({'transactionid' : pd.Series.nunique})\n",
    "ordersByUsers.columns = ['visitorid','orders']\n",
    "#display(ordersByUsers.sort_values(by='orders',ascending=False).head(10)) \n",
    "display(ordersByUsers['orders'].describe())\n",
    "\n",
    "plt.figure(figsize=(15,5))\n",
    "plt.hist(ordersByUsers['orders']) \n",
    "plt.title('Количество заказов по пользователям', fontsize=12, fontweight='bold')\n",
    "plt.xlabel('Заказы', fontsize=12)\n",
    "plt.ylabel('Количество пользователей', fontsize=12)\n",
    "plt.show()"
   ]
  },
  {
   "cell_type": "markdown",
   "metadata": {},
   "source": [
    "Видим, что большая часть значений принадлежит диапазону от 1 до 2 заказов."
   ]
  },
  {
   "cell_type": "code",
   "execution_count": 24,
   "metadata": {},
   "outputs": [
    {
     "data": {
      "image/png": "[encoded data removed]",
      "text/plain": [
       "<Figure size 1080x360 with 1 Axes>"
      ]
     },
     "metadata": {
      "needs_background": "light"
     },
     "output_type": "display_data"
    }
   ],
   "source": [
    "# Построим точечную диаграмму числа заказов на одного пользователя:\n",
    "x_values = pd.Series(range(0,len(ordersByUsers)))\n",
    "\n",
    "plt.figure(figsize=(15,5))\n",
    "plt.title('Количество заказов по пользователям', fontsize=12, fontweight='bold')\n",
    "plt.scatter(x_values, ordersByUsers['orders']) \n",
    "plt.show()"
   ]
  },
  {
   "cell_type": "markdown",
   "metadata": {},
   "source": [
    "Как и ранее, мы видим, что большая часть заказов принадлежит от 1 до 2 заказов на пользователя. Остальные значения, вероятно, являются выбросами."
   ]
  },
  {
   "cell_type": "markdown",
   "metadata": {},
   "source": [
    "###\tГраница для определения аномальных пользователей"
   ]
  },
  {
   "cell_type": "code",
   "execution_count": 25,
   "metadata": {},
   "outputs": [
    {
     "name": "stdout",
     "output_type": "stream",
     "text": [
      "[2. 4.]\n"
     ]
    }
   ],
   "source": [
    "print(np.percentile(ordersByUsers['orders'], [95, 99]))"
   ]
  },
  {
   "cell_type": "markdown",
   "metadata": {},
   "source": [
    "Видим, что не более 5% пользователей оформляли более 2-х заказов, и не более 1% - свыше 4-х заказов. **Отсеим пользователей, у которых больше 3 заказов.**"
   ]
  },
  {
   "cell_type": "markdown",
   "metadata": {},
   "source": [
    "###\tТочечный график стоимостей заказов"
   ]
  },
  {
   "cell_type": "code",
   "execution_count": 26,
   "metadata": {
    "scrolled": true
   },
   "outputs": [
    {
     "data": {
      "text/plain": [
       "count    1.197000e+03\n",
       "mean     8.348006e+03\n",
       "std      3.919113e+04\n",
       "min      5.000000e+01\n",
       "25%      1.220000e+03\n",
       "50%      2.978000e+03\n",
       "75%      8.290000e+03\n",
       "max      1.294500e+06\n",
       "Name: revenue, dtype: float64"
      ]
     },
     "metadata": {},
     "output_type": "display_data"
    },
    {
     "data": {
      "image/png": "[encoded data removed]",
      "text/plain": [
       "<Figure size 1080x360 with 1 Axes>"
      ]
     },
     "metadata": {
      "needs_background": "light"
     },
     "output_type": "display_data"
    }
   ],
   "source": [
    "display(orders['revenue'].describe())\n",
    "\n",
    "x_values = pd.Series(range(0,len(orders['revenue'])))\n",
    "plt.figure(figsize=(15,5))\n",
    "plt.scatter(x_values, orders['revenue']) \n",
    "plt.title('Стоимость заказов', fontsize=12, fontweight='bold')\n",
    "plt.show()"
   ]
  },
  {
   "cell_type": "code",
   "execution_count": 27,
   "metadata": {
    "scrolled": true
   },
   "outputs": [
    {
     "data": {
      "image/png": "[encoded data removed]",
      "text/plain": [
       "<Figure size 1080x360 with 1 Axes>"
      ]
     },
     "metadata": {
      "needs_background": "light"
     },
     "output_type": "display_data"
    }
   ],
   "source": [
    "# Построим более наглядный график, для это уберем явные выбросы с 'revenue' большим 150 тыс:\n",
    "x_values = pd.Series(range(0,len(orders[orders['revenue']<=150000]['revenue'])))\n",
    "plt.figure(figsize=(15,5))\n",
    "plt.scatter(x_values, orders[orders['revenue']<=150000]['revenue']) \n",
    "plt.title('Стоимость заказов', fontsize=12, fontweight='bold')\n",
    "plt.show()"
   ]
  },
  {
   "cell_type": "markdown",
   "metadata": {},
   "source": [
    "На графике видим заказ на 1,3 млн и на 200 тысяч, которые явно выбиваются из общего порядка. Посчитаем перцентили для отсева."
   ]
  },
  {
   "cell_type": "markdown",
   "metadata": {},
   "source": [
    "###\tГраница для определения аномальных заказов"
   ]
  },
  {
   "cell_type": "code",
   "execution_count": 28,
   "metadata": {},
   "outputs": [
    {
     "name": "stdout",
     "output_type": "stream",
     "text": [
      "[18168.  28000.  58233.2]\n"
     ]
    }
   ],
   "source": [
    "# выведем значения 90-го, 95-го и 99-го перцентилей\n",
    "print(np.percentile(orders['revenue'], [90, 95, 99]))"
   ]
  },
  {
   "cell_type": "markdown",
   "metadata": {},
   "source": [
    "Не более 5% заказов дороже 28 тыс рублей и не более 1% дороже 58,2 тыс рублей. **Будем отсеивать заказы стоимостью свыше 28000 рублей.**"
   ]
  },
  {
   "cell_type": "markdown",
   "metadata": {},
   "source": [
    "###\tСтатистическая значимость различий в конверсии между группами по «сырым» данным"
   ]
  },
  {
   "cell_type": "code",
   "execution_count": 29,
   "metadata": {},
   "outputs": [
    {
     "data": {
      "text/html": [
       "<div>\n",
       "<style scoped>\n",
       "    .dataframe tbody tr th:only-of-type {\n",
       "        vertical-align: middle;\n",
       "    }\n",
       "\n",
       "    .dataframe tbody tr th {\n",
       "        vertical-align: top;\n",
       "    }\n",
       "\n",
       "    .dataframe thead th {\n",
       "        text-align: right;\n",
       "    }\n",
       "</style>\n",
       "<table border=\"1\" class=\"dataframe\">\n",
       "  <thead>\n",
       "    <tr style=\"text-align: right;\">\n",
       "      <th></th>\n",
       "      <th>date</th>\n",
       "      <th>ordersPerDateA</th>\n",
       "      <th>revenuePerDateA</th>\n",
       "      <th>ordersPerDateB</th>\n",
       "      <th>revenuePerDateB</th>\n",
       "      <th>ordersCummulativeA</th>\n",
       "      <th>revenueCummulativeA</th>\n",
       "      <th>ordersCummulativeB</th>\n",
       "      <th>revenueCummulativeB</th>\n",
       "      <th>visitorsPerDateA</th>\n",
       "      <th>visitorsPerDateB</th>\n",
       "      <th>visitorsCummulativeA</th>\n",
       "      <th>visitorsCummulativeB</th>\n",
       "    </tr>\n",
       "  </thead>\n",
       "  <tbody>\n",
       "    <tr>\n",
       "      <th>0</th>\n",
       "      <td>2019-08-01</td>\n",
       "      <td>24</td>\n",
       "      <td>148579</td>\n",
       "      <td>21</td>\n",
       "      <td>101217</td>\n",
       "      <td>24</td>\n",
       "      <td>148579</td>\n",
       "      <td>21</td>\n",
       "      <td>101217</td>\n",
       "      <td>719</td>\n",
       "      <td>713</td>\n",
       "      <td>719</td>\n",
       "      <td>713</td>\n",
       "    </tr>\n",
       "    <tr>\n",
       "      <th>1</th>\n",
       "      <td>2019-08-02</td>\n",
       "      <td>20</td>\n",
       "      <td>93822</td>\n",
       "      <td>24</td>\n",
       "      <td>165531</td>\n",
       "      <td>44</td>\n",
       "      <td>242401</td>\n",
       "      <td>45</td>\n",
       "      <td>266748</td>\n",
       "      <td>619</td>\n",
       "      <td>581</td>\n",
       "      <td>1338</td>\n",
       "      <td>1294</td>\n",
       "    </tr>\n",
       "    <tr>\n",
       "      <th>2</th>\n",
       "      <td>2019-08-03</td>\n",
       "      <td>24</td>\n",
       "      <td>112473</td>\n",
       "      <td>16</td>\n",
       "      <td>114248</td>\n",
       "      <td>68</td>\n",
       "      <td>354874</td>\n",
       "      <td>61</td>\n",
       "      <td>380996</td>\n",
       "      <td>507</td>\n",
       "      <td>509</td>\n",
       "      <td>1845</td>\n",
       "      <td>1803</td>\n",
       "    </tr>\n",
       "    <tr>\n",
       "      <th>3</th>\n",
       "      <td>2019-08-04</td>\n",
       "      <td>16</td>\n",
       "      <td>70825</td>\n",
       "      <td>17</td>\n",
       "      <td>108571</td>\n",
       "      <td>84</td>\n",
       "      <td>425699</td>\n",
       "      <td>78</td>\n",
       "      <td>489567</td>\n",
       "      <td>717</td>\n",
       "      <td>770</td>\n",
       "      <td>2562</td>\n",
       "      <td>2573</td>\n",
       "    </tr>\n",
       "    <tr>\n",
       "      <th>4</th>\n",
       "      <td>2019-08-05</td>\n",
       "      <td>25</td>\n",
       "      <td>124218</td>\n",
       "      <td>23</td>\n",
       "      <td>92428</td>\n",
       "      <td>109</td>\n",
       "      <td>549917</td>\n",
       "      <td>101</td>\n",
       "      <td>581995</td>\n",
       "      <td>756</td>\n",
       "      <td>707</td>\n",
       "      <td>3318</td>\n",
       "      <td>3280</td>\n",
       "    </tr>\n",
       "  </tbody>\n",
       "</table>\n",
       "</div>"
      ],
      "text/plain": [
       "        date  ordersPerDateA  revenuePerDateA  ordersPerDateB  \\\n",
       "0 2019-08-01              24           148579              21   \n",
       "1 2019-08-02              20            93822              24   \n",
       "2 2019-08-03              24           112473              16   \n",
       "3 2019-08-04              16            70825              17   \n",
       "4 2019-08-05              25           124218              23   \n",
       "\n",
       "   revenuePerDateB  ordersCummulativeA  revenueCummulativeA  \\\n",
       "0           101217                  24               148579   \n",
       "1           165531                  44               242401   \n",
       "2           114248                  68               354874   \n",
       "3           108571                  84               425699   \n",
       "4            92428                 109               549917   \n",
       "\n",
       "   ordersCummulativeB  revenueCummulativeB  visitorsPerDateA  \\\n",
       "0                  21               101217               719   \n",
       "1                  45               266748               619   \n",
       "2                  61               380996               507   \n",
       "3                  78               489567               717   \n",
       "4                 101               581995               756   \n",
       "\n",
       "   visitorsPerDateB  visitorsCummulativeA  visitorsCummulativeB  \n",
       "0               713                   719                   713  \n",
       "1               581                  1338                  1294  \n",
       "2               509                  1845                  1803  \n",
       "3               770                  2562                  2573  \n",
       "4               707                  3318                  3280  "
      ]
     },
     "metadata": {},
     "output_type": "display_data"
    }
   ],
   "source": [
    "# Подготовим датафрейм с фактическими и кумулятивными данными по дням:\n",
    "\n",
    "visitorsADaily = visitors[visitors['group']=='A'][['date', 'visitors']]\n",
    "visitorsADaily.columns = ['date', 'visitorsPerDateA']\n",
    "\n",
    "visitorsACummulative = (visitorsADaily\n",
    "                        .apply(lambda x: visitorsADaily[visitorsADaily['date'] <= x['date']]\n",
    "                               .agg({'date':'max', 'visitorsPerDateA':'sum'}), axis=1)\n",
    "                       )\n",
    "visitorsACummulative.columns = ['date', 'visitorsCummulativeA']\n",
    "\n",
    "visitorsBDaily = visitors[visitors['group']=='B'][['date', 'visitors']]\n",
    "visitorsBDaily.columns = ['date', 'visitorsPerDateB']\n",
    "\n",
    "visitorsBCummulative = (visitorsBDaily\n",
    "                        .apply(lambda x: visitorsBDaily[visitorsBDaily['date'] <= x['date']]\n",
    "                               .agg({'date':'max', 'visitorsPerDateB':'sum'}), axis=1)\n",
    "                       )\n",
    "visitorsBCummulative.columns = ['date', 'visitorsCummulativeB']\n",
    "\n",
    "ordersADaily = (orders[orders['group']=='A'][['date', 'transactionid', 'visitorid', 'revenue']]\n",
    "                .groupby('date', as_index=False)\n",
    "                .agg({'transactionid':pd.Series.nunique, 'revenue':'sum'})\n",
    "               )\n",
    "ordersADaily.columns = ['date', 'ordersPerDateA', 'revenuePerDateA']\n",
    "\n",
    "ordersACummulative = (ordersADaily\n",
    "                      .apply(lambda x:ordersADaily[ordersADaily['date'] <= x['date']]\n",
    "                             .agg({\n",
    "                                    'date':'max',\n",
    "                                    'ordersPerDateA':'sum',\n",
    "                                    'revenuePerDateA':'sum'}), axis=1)\n",
    "                      .sort_values(by=['date'])\n",
    "                     )\n",
    "ordersACummulative.columns = ['date', 'ordersCummulativeA', 'revenueCummulativeA']\n",
    "\n",
    "ordersBDaily = (orders[orders['group']=='B'][['date', 'transactionid', 'visitorid', 'revenue']]\n",
    "                .groupby('date', as_index=False)\n",
    "                .agg({'transactionid':pd.Series.nunique, 'revenue':'sum'})\n",
    "               )\n",
    "ordersBDaily.columns = ['date', 'ordersPerDateB', 'revenuePerDateB']\n",
    "\n",
    "ordersBCummulative = (ordersBDaily\n",
    "                      .apply(lambda x: ordersBDaily[ordersBDaily['date'] <= x['date']]\n",
    "                             .agg({\n",
    "                                    'date':'max',\n",
    "                                    'ordersPerDateB':'sum',\n",
    "                                    'revenuePerDateB' : 'sum'}), axis=1)\n",
    "                      .sort_values(by=['date'])\n",
    "                     )\n",
    "ordersBCummulative.columns = ['date', 'ordersCummulativeB', 'revenueCummulativeB']\n",
    "\n",
    "data = (ordersADaily\n",
    "        .merge(ordersBDaily, left_on='date', right_on='date', how='left')\n",
    "        .merge(ordersACummulative, left_on='date', right_on='date', how='left')\n",
    "        .merge(ordersBCummulative, left_on='date', right_on='date', how='left')\n",
    "        .merge(visitorsADaily, left_on='date', right_on='date', how='left')\n",
    "        .merge(visitorsBDaily, left_on='date', right_on='date', how='left')\n",
    "        .merge(visitorsACummulative, left_on='date', right_on='date', how='left')\n",
    "        .merge(visitorsBCummulative, left_on='date', right_on='date', how='left')\n",
    "       )\n",
    "\n",
    "display(data.head(5))"
   ]
  },
  {
   "cell_type": "code",
   "execution_count": 30,
   "metadata": {},
   "outputs": [],
   "source": [
    "# Создадим для каждой группы датафрейм с количеством заказов на пользователя:\n",
    "\n",
    "ordersByUsersA = orders[orders['group']=='A'].groupby('visitorid', as_index=False).agg({'transactionid':pd.Series.nunique})\n",
    "ordersByUsersA.columns = ['visitorid', 'orders']\n",
    "\n",
    "ordersByUsersB = orders[orders['group']=='B'].groupby('visitorid', as_index=False).agg({'transactionid':pd.Series.nunique})\n",
    "ordersByUsersB.columns = ['visitorid', 'orders']"
   ]
  },
  {
   "cell_type": "code",
   "execution_count": 31,
   "metadata": {},
   "outputs": [],
   "source": [
    "# Создадим списки с числом заказов каждого пользователя, включая нули:\n",
    "\n",
    "sampleA = pd.concat([ordersByUsersA['orders'],\n",
    "                     pd.Series(0, index=np.arange(data['visitorsPerDateA'].sum() - len(ordersByUsersA['orders'])), name='orders')],axis=0)\n",
    "sampleB = pd.concat([ordersByUsersB['orders'],\n",
    "                     pd.Series(0, index=np.arange(data['visitorsPerDateB'].sum() - len(ordersByUsersB['orders'])), name='orders')],axis=0)"
   ]
  },
  {
   "cell_type": "code",
   "execution_count": 32,
   "metadata": {},
   "outputs": [],
   "source": [
    "# Функция для проверки гипотезы о равенстве групп dataA и dataB\n",
    "def stat_significance(dataA, dataB):\n",
    "    # Нулевая гипотеза H0: между группами dataA и dataB нет статистически значимой разницы\n",
    "    alpha = 0.05\n",
    "    p_value = stats.mannwhitneyu(dataA, dataB)[1]\n",
    "\n",
    "    print(\"P-value: {0:.3f}\".format(p_value))\n",
    "\n",
    "    if (p_value < alpha):\n",
    "        print(\"Отвергаем нулевую гипотезу: между группами ЕСТЬ РАЗНИЦА\")\n",
    "    else:\n",
    "        print(\"Не получилось отвергнуть нулевую гипотезу: разницы нет между группами\")\n",
    "    \n",
    "    print(\"Относительный выигрыш/проигрыш В к А: {0:.1%}\".format(dataB.mean()/dataA.mean()-1))"
   ]
  },
  {
   "cell_type": "markdown",
   "metadata": {},
   "source": [
    "**За нулевую гипотезу возьмём что: \"статистически значимых различий в конверсии между группами нет\"; тогда альтернативная гипотеза будет гласить - статистически значимые различия есть.**"
   ]
  },
  {
   "cell_type": "code",
   "execution_count": 33,
   "metadata": {},
   "outputs": [
    {
     "name": "stdout",
     "output_type": "stream",
     "text": [
      "P-value: 0.017\n",
      "Отвергаем нулевую гипотезу: между группами ЕСТЬ РАЗНИЦА\n",
      "Относительный выигрыш/проигрыш В к А: 13.8%\n"
     ]
    }
   ],
   "source": [
    "stat_significance(sampleA, sampleB)"
   ]
  },
  {
   "cell_type": "markdown",
   "metadata": {},
   "source": [
    "Р-value = 0.017 значительно меньше 0.05. Значит, нулевую гипотезу о том, что статистически значимых различий в конверсии между группами нет, отвергаем, т.е. **между группами есть разница.** Относительный прирост конверсии группы B к группе А составляет 13.8%."
   ]
  },
  {
   "cell_type": "markdown",
   "metadata": {},
   "source": [
    "###\tСтатистическая значимость различий в среднем чеке заказа между группами по «сырым» данным"
   ]
  },
  {
   "cell_type": "markdown",
   "metadata": {},
   "source": [
    "**За нулевую гипотезу возьмём что: \"статистически значимых различий в конверсии между группами нет\"; тогда альтернативная гипотеза будет гласить - статистически значимые различия есть.**"
   ]
  },
  {
   "cell_type": "code",
   "execution_count": 34,
   "metadata": {},
   "outputs": [
    {
     "name": "stdout",
     "output_type": "stream",
     "text": [
      "P-value: 0.729\n",
      "Не получилось отвергнуть нулевую гипотезу: разницы нет между группами\n",
      "Относительный выигрыш/проигрыш В к А: 25.9%\n"
     ]
    }
   ],
   "source": [
    "stat_significance(orders[orders['group']=='A']['revenue'], orders[orders['group']=='B']['revenue'])"
   ]
  },
  {
   "cell_type": "markdown",
   "metadata": {},
   "source": [
    "P-value значительно больше 0.05. Значит, причин отвергать нулевую гипотезу и считать, что в среднем чеке есть различия, нет. Впрочем, средний чек группы B значительно выше среднего чека группы A: на 25,9%: необходимо рассмотреть относительные различия в среднем чеке по \"очищенным\" данным."
   ]
  },
  {
   "cell_type": "markdown",
   "metadata": {},
   "source": [
    "###\tСтатистическая значимость различий в конверсии между группами по «очищенным» данным"
   ]
  },
  {
   "cell_type": "code",
   "execution_count": 35,
   "metadata": {},
   "outputs": [
    {
     "name": "stdout",
     "output_type": "stream",
     "text": [
      "1099    148427295\n",
      "18      199603092\n",
      "928     204675465\n",
      "23      237748145\n",
      "684     358944393\n",
      "Name: visitorid, dtype: int64\n",
      "\n",
      "Количество \"аномальных\" пользователей: 63\n"
     ]
    }
   ],
   "source": [
    "# Выделим из базы \"аномальных\" пользователей (совершивших более 3-го заказов или сумма заказа которых > 28000):\n",
    "\n",
    "usersWithManyOrders = pd.concat([ordersByUsersA[ordersByUsersA['orders'] > (np.percentile(ordersByUsers['orders'], [95, 99])[0]+1)]['visitorid'], ordersByUsersB[ordersByUsersB['orders'] > (np.percentile(ordersByUsers['orders'], [95, 99])[0]+1)]['visitorid']], axis = 0)\n",
    "usersWithExpensiveOrders = orders[orders['revenue'] > np.percentile(orders['revenue'], [95, 99])[0]]['visitorid']\n",
    "abnormalUsers = pd.concat([usersWithManyOrders, usersWithExpensiveOrders], axis = 0).drop_duplicates().sort_values()\n",
    "print(abnormalUsers.head(5))\n",
    "print()\n",
    "print('Количество \"аномальных\" пользователей:', abnormalUsers.shape[0])"
   ]
  },
  {
   "cell_type": "code",
   "execution_count": 36,
   "metadata": {},
   "outputs": [],
   "source": [
    "# Создадим списки с числом заказов каждого пользователя, включая нули, но уже по очищенным данным:\n",
    "\n",
    "sampleAFiltered = pd.concat([ordersByUsersA[~(ordersByUsersA['visitorid'].isin(abnormalUsers))]['orders'],pd.Series(0, index=np.arange(data['visitorsPerDateA'].sum() - len(ordersByUsersA['orders'])),name='orders')],axis=0)\n",
    "sampleBFiltered = pd.concat([ordersByUsersB[~(ordersByUsersB['visitorid'].isin(abnormalUsers))]['orders'],pd.Series(0, index=np.arange(data['visitorsPerDateB'].sum() - len(ordersByUsersB['orders'])),name='orders')],axis=0)\n"
   ]
  },
  {
   "cell_type": "markdown",
   "metadata": {},
   "source": [
    "**За нулевую гипотезу возьмём что: \"статистически значимых различий в конверсии между группами нет\"; тогда альтернативная гипотеза будет гласить - статистически значимые различия есть.**"
   ]
  },
  {
   "cell_type": "code",
   "execution_count": 37,
   "metadata": {},
   "outputs": [
    {
     "name": "stdout",
     "output_type": "stream",
     "text": [
      "P-value: 0.018\n",
      "Отвергаем нулевую гипотезу: между группами ЕСТЬ РАЗНИЦА\n",
      "Относительный выигрыш/проигрыш В к А: 14.8%\n"
     ]
    }
   ],
   "source": [
    "stat_significance(sampleAFiltered, sampleBFiltered)"
   ]
  },
  {
   "cell_type": "markdown",
   "metadata": {},
   "source": [
    "По очищенным данным между конверсиями групп А и В по-прежнему есть статистически значимая разница. \n",
    "При этом относительный выигрыш группы В вырос на 1% по сравнению с \"сырыми\" данными и стал равен 14.8%."
   ]
  },
  {
   "cell_type": "markdown",
   "metadata": {},
   "source": [
    "###\tСтатистическая значимость различий в среднем чеке заказа между группами по «очищенным» данным"
   ]
  },
  {
   "cell_type": "markdown",
   "metadata": {},
   "source": [
    "**За нулевую гипотезу возьмём что: \"статистически значимых различий в конверсии между группами нет\"; тогда альтернативная гипотеза будет гласить - статистически значимые различия есть.**"
   ]
  },
  {
   "cell_type": "code",
   "execution_count": 38,
   "metadata": {},
   "outputs": [
    {
     "name": "stdout",
     "output_type": "stream",
     "text": [
      "P-value: 0.977\n",
      "Не получилось отвергнуть нулевую гипотезу: разницы нет между группами\n",
      "Относительный выигрыш/проигрыш В к А: -1.7%\n"
     ]
    }
   ],
   "source": [
    "(stat_significance(\n",
    "    orders[(orders['group']=='A') & ~(orders['visitorid'].isin(abnormalUsers))]['revenue'], \n",
    "    orders[(orders['group']=='B') & ~(orders['visitorid'].isin(abnormalUsers))]['revenue'])\n",
    ")"
   ]
  },
  {
   "cell_type": "markdown",
   "metadata": {},
   "source": [
    "По-прежнему, нет оснований считать, что средний чек группы В отличается от среднего чека группы А. По очищенным данным проигрыш среднего чека группы В относительно А составляет 1.7%."
   ]
  },
  {
   "cell_type": "markdown",
   "metadata": {},
   "source": [
    "###\tРешение по результатам A/B-теста"
   ]
  },
  {
   "cell_type": "markdown",
   "metadata": {},
   "source": [
    "Во второй части работы был выполнен анализ результатов A/B-теста, который был проведён в целях увеличения выручки. A/B-тест проводился в августе 2019 года, за всё время проведения теста было совершено 1197 покупок. Какая гипотеза подверглась проверке в исходных данных не раскрывается. \n",
    "\n",
    "В работе было выполено следующее:\n",
    "- Построены графики кумулятивных метрик: выручки, среднего чека и конверсии по группам и графики относительного изменения среднего чека и конверсии группы B к группе A;\n",
    "- Проведён анализ выбросов - посчитаны 95 и 99 перцентили числа и стоимости заказов, определены \"аномальные\" пользователи, к ним отнести пользователей совершивших более 3 заказов или заказ более чем на 28 тыс руб;\n",
    "- Посчитана статистическая значимость различий в конверсии и среднем чеке как по исходным данным, так и по данным без выбросов.\n",
    "\n",
    "Нами получены следующие результаты:<br>\n",
    "**По исходным данным:**\n",
    "- между конверсией в группах есть статистически важные различия, конверсия в групе B относительно группы A выше на 14%;\n",
    "- по среднему чеку различий нет, средний чек в групе B относительно группы A выше на 26% (тут заметно влияние единичного заказа на очень большую сумму).\n",
    "\n",
    "**По данным без выбросов:**\n",
    "- между конверсией в группах есть статистически важные различия, конверсия в групе B относительно группы A выше на 15%;\n",
    "- по среднему чеку различий также не появилось, хотя средний чек в \"чистой\" групе B относительно группы A теперь наоборот, ниже на 1,7% (это логично, т.к.обычно количество покупок растёт при уменьшении цены).\n",
    "\n",
    "По анализу результатов A/B-теста принято решение остановить тест, зафиксировав победу тестовой группы. Группа B статистически лучше группы A по метрике конверсии, но различий в средних чеках нет.\n",
    "\n",
    "По условиям задачи проверяется эффективность гипотезы в плане увеличения выручки и поскольку конверсия пользователей влияет на выручку и мы получили результат, что конверсия в тестовой группе значительно увеличилась, по сравнению с контрольной, даже с учётом того, что средний чек остался без изменений, нет никакого смысла и далее продолжать тест."
   ]
  }
 ],
 "metadata": {
  "ExecuteTimeLog": [
   {
    "duration": 1297,
    "start_time": "2022-06-19T13:28:36.058Z"
   },
   {
    "duration": 60,
    "start_time": "2022-06-19T13:29:21.765Z"
   },
   {
    "duration": 14,
    "start_time": "2022-06-19T13:29:29.200Z"
   },
   {
    "duration": 4,
    "start_time": "2022-06-19T13:30:01.998Z"
   },
   {
    "duration": 31,
    "start_time": "2022-06-19T13:30:18.509Z"
   },
   {
    "duration": 4,
    "start_time": "2022-06-19T13:30:28.017Z"
   },
   {
    "duration": 27,
    "start_time": "2022-06-19T13:30:34.054Z"
   },
   {
    "duration": 27,
    "start_time": "2022-06-19T13:30:42.776Z"
   },
   {
    "duration": 31,
    "start_time": "2022-06-19T13:30:47.794Z"
   },
   {
    "duration": 42,
    "start_time": "2022-06-19T13:31:04.849Z"
   },
   {
    "duration": 30,
    "start_time": "2022-06-19T13:31:20.978Z"
   },
   {
    "duration": 4,
    "start_time": "2022-06-19T13:36:00.675Z"
   },
   {
    "duration": 13,
    "start_time": "2022-06-19T13:36:07.961Z"
   },
   {
    "duration": 9,
    "start_time": "2022-06-19T13:36:13.771Z"
   },
   {
    "duration": 3,
    "start_time": "2022-06-19T13:36:27.772Z"
   },
   {
    "duration": 3,
    "start_time": "2022-06-19T13:40:36.120Z"
   },
   {
    "duration": 22,
    "start_time": "2022-06-19T13:40:55.268Z"
   },
   {
    "duration": 12,
    "start_time": "2022-06-19T13:41:41.016Z"
   },
   {
    "duration": 10,
    "start_time": "2022-06-19T13:42:41.724Z"
   },
   {
    "duration": 403,
    "start_time": "2022-06-19T13:45:48.864Z"
   },
   {
    "duration": 14,
    "start_time": "2022-06-19T13:46:31.091Z"
   },
   {
    "duration": 13,
    "start_time": "2022-06-19T13:46:39.954Z"
   },
   {
    "duration": 11,
    "start_time": "2022-06-19T13:46:59.591Z"
   },
   {
    "duration": 346,
    "start_time": "2022-06-19T13:47:27.004Z"
   },
   {
    "duration": 11,
    "start_time": "2022-06-19T13:47:42.887Z"
   },
   {
    "duration": 10,
    "start_time": "2022-06-19T13:47:51.324Z"
   },
   {
    "duration": 21,
    "start_time": "2022-06-19T13:58:32.957Z"
   },
   {
    "duration": 15,
    "start_time": "2022-06-19T13:58:42.171Z"
   },
   {
    "duration": 104,
    "start_time": "2022-06-19T13:59:19.063Z"
   },
   {
    "duration": 69,
    "start_time": "2022-06-19T13:59:22.053Z"
   },
   {
    "duration": 57,
    "start_time": "2022-06-19T13:59:28.955Z"
   },
   {
    "duration": 55,
    "start_time": "2022-06-19T13:59:35.855Z"
   },
   {
    "duration": 54,
    "start_time": "2022-06-19T13:59:44.215Z"
   },
   {
    "duration": 61,
    "start_time": "2022-06-19T13:59:47.902Z"
   },
   {
    "duration": 71,
    "start_time": "2022-06-19T14:00:00.451Z"
   },
   {
    "duration": 11,
    "start_time": "2022-06-19T14:02:52.766Z"
   },
   {
    "duration": 11,
    "start_time": "2022-06-19T14:02:59.315Z"
   },
   {
    "duration": 74,
    "start_time": "2022-06-19T14:04:09.319Z"
   },
   {
    "duration": 18,
    "start_time": "2022-06-19T14:04:59.515Z"
   },
   {
    "duration": 20,
    "start_time": "2022-06-19T14:05:04.668Z"
   },
   {
    "duration": 9,
    "start_time": "2022-06-19T14:05:29.781Z"
   },
   {
    "duration": 7,
    "start_time": "2022-06-19T14:05:31.403Z"
   },
   {
    "duration": 10,
    "start_time": "2022-06-19T14:05:40.170Z"
   },
   {
    "duration": 18,
    "start_time": "2022-06-19T14:06:14.707Z"
   },
   {
    "duration": 27,
    "start_time": "2022-06-19T14:06:52.848Z"
   },
   {
    "duration": 3,
    "start_time": "2022-06-19T14:08:35.390Z"
   },
   {
    "duration": 12,
    "start_time": "2022-06-19T14:08:40.898Z"
   },
   {
    "duration": 12,
    "start_time": "2022-06-19T14:09:26.998Z"
   },
   {
    "duration": 12,
    "start_time": "2022-06-19T14:09:39.352Z"
   },
   {
    "duration": 57,
    "start_time": "2022-06-19T14:09:53.552Z"
   },
   {
    "duration": 8,
    "start_time": "2022-06-19T14:10:07.390Z"
   },
   {
    "duration": 8,
    "start_time": "2022-06-19T14:10:32.655Z"
   },
   {
    "duration": 7,
    "start_time": "2022-06-19T14:10:51.892Z"
   },
   {
    "duration": 14,
    "start_time": "2022-06-19T14:11:26.899Z"
   },
   {
    "duration": 1017,
    "start_time": "2022-06-19T14:11:34.468Z"
   },
   {
    "duration": 34,
    "start_time": "2022-06-19T14:11:35.487Z"
   },
   {
    "duration": 84,
    "start_time": "2022-06-19T14:11:35.523Z"
   },
   {
    "duration": 0,
    "start_time": "2022-06-19T14:11:35.609Z"
   },
   {
    "duration": 0,
    "start_time": "2022-06-19T14:11:35.610Z"
   },
   {
    "duration": 0,
    "start_time": "2022-06-19T14:11:35.611Z"
   },
   {
    "duration": 0,
    "start_time": "2022-06-19T14:11:35.612Z"
   },
   {
    "duration": 0,
    "start_time": "2022-06-19T14:11:35.613Z"
   },
   {
    "duration": 0,
    "start_time": "2022-06-19T14:11:35.614Z"
   },
   {
    "duration": 0,
    "start_time": "2022-06-19T14:11:35.615Z"
   },
   {
    "duration": 7,
    "start_time": "2022-06-19T14:11:40.998Z"
   },
   {
    "duration": 59,
    "start_time": "2022-06-19T14:11:48.448Z"
   },
   {
    "duration": 12,
    "start_time": "2022-06-19T14:11:53.213Z"
   },
   {
    "duration": 3,
    "start_time": "2022-06-19T14:12:27.987Z"
   },
   {
    "duration": 192,
    "start_time": "2022-06-19T14:12:31.440Z"
   },
   {
    "duration": 180,
    "start_time": "2022-06-19T14:12:35.296Z"
   },
   {
    "duration": 18,
    "start_time": "2022-06-19T14:13:05.991Z"
   },
   {
    "duration": 17,
    "start_time": "2022-06-19T14:13:16.428Z"
   },
   {
    "duration": 40,
    "start_time": "2022-06-19T14:13:33.654Z"
   },
   {
    "duration": 24,
    "start_time": "2022-06-19T14:13:37.559Z"
   },
   {
    "duration": 115,
    "start_time": "2022-06-19T14:15:07.526Z"
   },
   {
    "duration": 11,
    "start_time": "2022-06-19T14:15:35.645Z"
   },
   {
    "duration": 368,
    "start_time": "2022-06-19T14:15:46.652Z"
   },
   {
    "duration": 335,
    "start_time": "2022-06-19T14:15:57.600Z"
   },
   {
    "duration": 326,
    "start_time": "2022-06-19T14:16:04.104Z"
   },
   {
    "duration": 358,
    "start_time": "2022-06-19T14:16:12.495Z"
   },
   {
    "duration": 364,
    "start_time": "2022-06-19T14:17:20.614Z"
   },
   {
    "duration": 20,
    "start_time": "2022-06-19T14:31:40.454Z"
   },
   {
    "duration": 706,
    "start_time": "2022-06-19T14:32:07.126Z"
   },
   {
    "duration": 358,
    "start_time": "2022-06-19T14:32:17.240Z"
   },
   {
    "duration": 310,
    "start_time": "2022-06-19T14:32:23.998Z"
   },
   {
    "duration": 428,
    "start_time": "2022-06-19T14:35:23.979Z"
   },
   {
    "duration": 509,
    "start_time": "2022-06-19T14:35:29.632Z"
   },
   {
    "duration": 334,
    "start_time": "2022-06-19T14:36:54.142Z"
   },
   {
    "duration": 389,
    "start_time": "2022-06-19T14:37:05.807Z"
   },
   {
    "duration": 375,
    "start_time": "2022-06-19T14:37:09.102Z"
   },
   {
    "duration": 433,
    "start_time": "2022-06-19T14:42:49.449Z"
   },
   {
    "duration": 417,
    "start_time": "2022-06-19T14:42:53.074Z"
   },
   {
    "duration": 351,
    "start_time": "2022-06-19T14:43:46.346Z"
   },
   {
    "duration": 469,
    "start_time": "2022-06-19T14:44:08.066Z"
   },
   {
    "duration": 132,
    "start_time": "2022-06-19T14:45:58.191Z"
   },
   {
    "duration": 171,
    "start_time": "2022-06-19T14:46:36.401Z"
   },
   {
    "duration": 5,
    "start_time": "2022-06-19T14:46:50.523Z"
   },
   {
    "duration": 6,
    "start_time": "2022-06-19T14:47:11.551Z"
   },
   {
    "duration": 5,
    "start_time": "2022-06-19T14:47:23.821Z"
   },
   {
    "duration": 5,
    "start_time": "2022-06-19T14:47:27.905Z"
   },
   {
    "duration": 538,
    "start_time": "2022-06-19T14:48:49.203Z"
   },
   {
    "duration": 319,
    "start_time": "2022-06-19T14:49:23.955Z"
   },
   {
    "duration": 384,
    "start_time": "2022-06-19T14:50:33.126Z"
   },
   {
    "duration": 312,
    "start_time": "2022-06-19T14:50:40.007Z"
   },
   {
    "duration": 316,
    "start_time": "2022-06-19T14:50:47.703Z"
   },
   {
    "duration": 141,
    "start_time": "2022-06-19T14:52:04.402Z"
   },
   {
    "duration": 5,
    "start_time": "2022-06-19T14:53:02.116Z"
   },
   {
    "duration": 19,
    "start_time": "2022-06-19T14:55:03.592Z"
   },
   {
    "duration": 253,
    "start_time": "2022-06-19T14:55:36.846Z"
   },
   {
    "duration": 141,
    "start_time": "2022-06-19T14:55:51.043Z"
   },
   {
    "duration": 7,
    "start_time": "2022-06-19T14:56:02.343Z"
   },
   {
    "duration": 5,
    "start_time": "2022-06-19T14:56:20.443Z"
   },
   {
    "duration": 22,
    "start_time": "2022-06-19T14:56:26.854Z"
   },
   {
    "duration": 5,
    "start_time": "2022-06-19T14:58:27.447Z"
   },
   {
    "duration": 4,
    "start_time": "2022-06-19T14:58:30.587Z"
   },
   {
    "duration": 22,
    "start_time": "2022-06-19T14:58:34.012Z"
   },
   {
    "duration": 19,
    "start_time": "2022-06-19T14:59:12.708Z"
   },
   {
    "duration": 11,
    "start_time": "2022-06-19T15:01:12.776Z"
   },
   {
    "duration": 10,
    "start_time": "2022-06-19T15:01:38.669Z"
   },
   {
    "duration": 10,
    "start_time": "2022-06-19T15:02:04.704Z"
   },
   {
    "duration": 30,
    "start_time": "2022-06-19T15:02:49.416Z"
   },
   {
    "duration": 10,
    "start_time": "2022-06-19T15:03:01.064Z"
   },
   {
    "duration": 37,
    "start_time": "2022-06-19T15:03:09.568Z"
   },
   {
    "duration": 7,
    "start_time": "2022-06-19T15:05:29.520Z"
   },
   {
    "duration": 5,
    "start_time": "2022-06-19T15:13:16.413Z"
   },
   {
    "duration": 1144,
    "start_time": "2022-06-19T15:13:21.460Z"
   },
   {
    "duration": 35,
    "start_time": "2022-06-19T15:13:22.606Z"
   },
   {
    "duration": 89,
    "start_time": "2022-06-19T15:13:22.642Z"
   },
   {
    "duration": 0,
    "start_time": "2022-06-19T15:13:22.733Z"
   },
   {
    "duration": 0,
    "start_time": "2022-06-19T15:13:22.739Z"
   },
   {
    "duration": 0,
    "start_time": "2022-06-19T15:13:22.740Z"
   },
   {
    "duration": 0,
    "start_time": "2022-06-19T15:13:22.742Z"
   },
   {
    "duration": 0,
    "start_time": "2022-06-19T15:13:22.743Z"
   },
   {
    "duration": 0,
    "start_time": "2022-06-19T15:13:22.744Z"
   },
   {
    "duration": 0,
    "start_time": "2022-06-19T15:13:22.759Z"
   },
   {
    "duration": 0,
    "start_time": "2022-06-19T15:13:22.760Z"
   },
   {
    "duration": 0,
    "start_time": "2022-06-19T15:13:22.762Z"
   },
   {
    "duration": 0,
    "start_time": "2022-06-19T15:13:22.764Z"
   },
   {
    "duration": 0,
    "start_time": "2022-06-19T15:13:22.765Z"
   },
   {
    "duration": 0,
    "start_time": "2022-06-19T15:13:22.766Z"
   },
   {
    "duration": 0,
    "start_time": "2022-06-19T15:13:22.767Z"
   },
   {
    "duration": 0,
    "start_time": "2022-06-19T15:13:22.768Z"
   },
   {
    "duration": 0,
    "start_time": "2022-06-19T15:13:22.770Z"
   },
   {
    "duration": 0,
    "start_time": "2022-06-19T15:13:22.771Z"
   },
   {
    "duration": 0,
    "start_time": "2022-06-19T15:13:22.772Z"
   },
   {
    "duration": 0,
    "start_time": "2022-06-19T15:13:22.773Z"
   },
   {
    "duration": 0,
    "start_time": "2022-06-19T15:13:22.775Z"
   },
   {
    "duration": 0,
    "start_time": "2022-06-19T15:13:22.776Z"
   },
   {
    "duration": 0,
    "start_time": "2022-06-19T15:13:22.777Z"
   },
   {
    "duration": 0,
    "start_time": "2022-06-19T15:13:22.778Z"
   },
   {
    "duration": 0,
    "start_time": "2022-06-19T15:13:22.779Z"
   },
   {
    "duration": 0,
    "start_time": "2022-06-19T15:13:22.780Z"
   },
   {
    "duration": 0,
    "start_time": "2022-06-19T15:13:22.781Z"
   },
   {
    "duration": 0,
    "start_time": "2022-06-19T15:13:22.782Z"
   },
   {
    "duration": 0,
    "start_time": "2022-06-19T15:13:22.783Z"
   },
   {
    "duration": 0,
    "start_time": "2022-06-19T15:13:22.784Z"
   },
   {
    "duration": 0,
    "start_time": "2022-06-19T15:13:22.785Z"
   },
   {
    "duration": 4,
    "start_time": "2022-06-19T15:13:38.273Z"
   },
   {
    "duration": 1091,
    "start_time": "2022-06-19T15:13:42.852Z"
   },
   {
    "duration": 35,
    "start_time": "2022-06-19T15:13:43.945Z"
   },
   {
    "duration": 118,
    "start_time": "2022-06-19T15:13:43.981Z"
   },
   {
    "duration": 0,
    "start_time": "2022-06-19T15:13:44.102Z"
   },
   {
    "duration": 0,
    "start_time": "2022-06-19T15:13:44.103Z"
   },
   {
    "duration": 0,
    "start_time": "2022-06-19T15:13:44.105Z"
   },
   {
    "duration": 0,
    "start_time": "2022-06-19T15:13:44.106Z"
   },
   {
    "duration": 0,
    "start_time": "2022-06-19T15:13:44.107Z"
   },
   {
    "duration": 0,
    "start_time": "2022-06-19T15:13:44.108Z"
   },
   {
    "duration": 0,
    "start_time": "2022-06-19T15:13:44.109Z"
   },
   {
    "duration": 0,
    "start_time": "2022-06-19T15:13:44.111Z"
   },
   {
    "duration": 0,
    "start_time": "2022-06-19T15:13:44.112Z"
   },
   {
    "duration": 0,
    "start_time": "2022-06-19T15:13:44.113Z"
   },
   {
    "duration": 0,
    "start_time": "2022-06-19T15:13:44.115Z"
   },
   {
    "duration": 0,
    "start_time": "2022-06-19T15:13:44.116Z"
   },
   {
    "duration": 0,
    "start_time": "2022-06-19T15:13:44.118Z"
   },
   {
    "duration": 0,
    "start_time": "2022-06-19T15:13:44.119Z"
   },
   {
    "duration": 0,
    "start_time": "2022-06-19T15:13:44.120Z"
   },
   {
    "duration": 0,
    "start_time": "2022-06-19T15:13:44.122Z"
   },
   {
    "duration": 0,
    "start_time": "2022-06-19T15:13:44.159Z"
   },
   {
    "duration": 0,
    "start_time": "2022-06-19T15:13:44.160Z"
   },
   {
    "duration": 0,
    "start_time": "2022-06-19T15:13:44.161Z"
   },
   {
    "duration": 0,
    "start_time": "2022-06-19T15:13:44.162Z"
   },
   {
    "duration": 0,
    "start_time": "2022-06-19T15:13:44.164Z"
   },
   {
    "duration": 0,
    "start_time": "2022-06-19T15:13:44.165Z"
   },
   {
    "duration": 0,
    "start_time": "2022-06-19T15:13:44.166Z"
   },
   {
    "duration": 0,
    "start_time": "2022-06-19T15:13:44.167Z"
   },
   {
    "duration": 0,
    "start_time": "2022-06-19T15:13:44.168Z"
   },
   {
    "duration": 0,
    "start_time": "2022-06-19T15:13:44.170Z"
   },
   {
    "duration": 0,
    "start_time": "2022-06-19T15:13:44.171Z"
   },
   {
    "duration": 0,
    "start_time": "2022-06-19T15:13:44.172Z"
   },
   {
    "duration": 0,
    "start_time": "2022-06-19T15:13:44.173Z"
   },
   {
    "duration": 8,
    "start_time": "2022-06-19T15:13:56.457Z"
   },
   {
    "duration": 1091,
    "start_time": "2022-06-19T15:14:04.349Z"
   },
   {
    "duration": 35,
    "start_time": "2022-06-19T15:14:05.442Z"
   },
   {
    "duration": 99,
    "start_time": "2022-06-19T15:14:05.480Z"
   },
   {
    "duration": 0,
    "start_time": "2022-06-19T15:14:05.582Z"
   },
   {
    "duration": 0,
    "start_time": "2022-06-19T15:14:05.583Z"
   },
   {
    "duration": 0,
    "start_time": "2022-06-19T15:14:05.584Z"
   },
   {
    "duration": 0,
    "start_time": "2022-06-19T15:14:05.586Z"
   },
   {
    "duration": 0,
    "start_time": "2022-06-19T15:14:05.587Z"
   },
   {
    "duration": 0,
    "start_time": "2022-06-19T15:14:05.588Z"
   },
   {
    "duration": 0,
    "start_time": "2022-06-19T15:14:05.589Z"
   },
   {
    "duration": 0,
    "start_time": "2022-06-19T15:14:05.590Z"
   },
   {
    "duration": 0,
    "start_time": "2022-06-19T15:14:05.591Z"
   },
   {
    "duration": 0,
    "start_time": "2022-06-19T15:14:05.592Z"
   },
   {
    "duration": 0,
    "start_time": "2022-06-19T15:14:05.593Z"
   },
   {
    "duration": 0,
    "start_time": "2022-06-19T15:14:05.594Z"
   },
   {
    "duration": 0,
    "start_time": "2022-06-19T15:14:05.595Z"
   },
   {
    "duration": 0,
    "start_time": "2022-06-19T15:14:05.595Z"
   },
   {
    "duration": 0,
    "start_time": "2022-06-19T15:14:05.596Z"
   },
   {
    "duration": 0,
    "start_time": "2022-06-19T15:14:05.597Z"
   },
   {
    "duration": 0,
    "start_time": "2022-06-19T15:14:05.598Z"
   },
   {
    "duration": 0,
    "start_time": "2022-06-19T15:14:05.599Z"
   },
   {
    "duration": 0,
    "start_time": "2022-06-19T15:14:05.599Z"
   },
   {
    "duration": 0,
    "start_time": "2022-06-19T15:14:05.601Z"
   },
   {
    "duration": 0,
    "start_time": "2022-06-19T15:14:05.602Z"
   },
   {
    "duration": 0,
    "start_time": "2022-06-19T15:14:05.603Z"
   },
   {
    "duration": 0,
    "start_time": "2022-06-19T15:14:05.604Z"
   },
   {
    "duration": 0,
    "start_time": "2022-06-19T15:14:05.605Z"
   },
   {
    "duration": 0,
    "start_time": "2022-06-19T15:14:05.605Z"
   },
   {
    "duration": 0,
    "start_time": "2022-06-19T15:14:05.606Z"
   },
   {
    "duration": 0,
    "start_time": "2022-06-19T15:14:05.607Z"
   },
   {
    "duration": 0,
    "start_time": "2022-06-19T15:14:05.608Z"
   },
   {
    "duration": 0,
    "start_time": "2022-06-19T15:14:05.609Z"
   },
   {
    "duration": 6,
    "start_time": "2022-06-19T15:14:18.195Z"
   },
   {
    "duration": 9,
    "start_time": "2022-06-19T15:14:21.760Z"
   },
   {
    "duration": 10,
    "start_time": "2022-06-19T15:14:28.250Z"
   },
   {
    "duration": 35,
    "start_time": "2022-06-19T15:14:35.548Z"
   },
   {
    "duration": 8,
    "start_time": "2022-06-19T15:14:38.101Z"
   },
   {
    "duration": 8,
    "start_time": "2022-06-19T15:14:41.148Z"
   },
   {
    "duration": 3,
    "start_time": "2022-06-19T15:14:51.084Z"
   },
   {
    "duration": 2,
    "start_time": "2022-06-19T15:14:54.953Z"
   },
   {
    "duration": 12,
    "start_time": "2022-06-19T15:14:56.514Z"
   },
   {
    "duration": 13,
    "start_time": "2022-06-19T15:14:59.105Z"
   },
   {
    "duration": 70,
    "start_time": "2022-06-19T15:15:02.113Z"
   },
   {
    "duration": 1171,
    "start_time": "2022-06-19T15:15:13.869Z"
   },
   {
    "duration": 38,
    "start_time": "2022-06-19T15:15:15.042Z"
   },
   {
    "duration": 5,
    "start_time": "2022-06-19T15:15:15.082Z"
   },
   {
    "duration": 20,
    "start_time": "2022-06-19T15:15:15.089Z"
   },
   {
    "duration": 15,
    "start_time": "2022-06-19T15:15:15.111Z"
   },
   {
    "duration": 63,
    "start_time": "2022-06-19T15:15:15.128Z"
   },
   {
    "duration": 26,
    "start_time": "2022-06-19T15:15:15.193Z"
   },
   {
    "duration": 9,
    "start_time": "2022-06-19T15:15:15.221Z"
   },
   {
    "duration": 9,
    "start_time": "2022-06-19T15:15:15.231Z"
   },
   {
    "duration": 179,
    "start_time": "2022-06-19T15:15:15.243Z"
   },
   {
    "duration": 118,
    "start_time": "2022-06-19T15:15:15.424Z"
   },
   {
    "duration": 28,
    "start_time": "2022-06-19T15:15:15.544Z"
   },
   {
    "duration": 314,
    "start_time": "2022-06-19T15:15:15.575Z"
   },
   {
    "duration": 221,
    "start_time": "2022-06-19T15:15:15.892Z"
   },
   {
    "duration": 315,
    "start_time": "2022-06-19T15:15:16.115Z"
   },
   {
    "duration": 232,
    "start_time": "2022-06-19T15:15:16.432Z"
   },
   {
    "duration": 368,
    "start_time": "2022-06-19T15:15:16.671Z"
   },
   {
    "duration": 304,
    "start_time": "2022-06-19T15:15:17.041Z"
   },
   {
    "duration": 141,
    "start_time": "2022-06-19T15:15:17.347Z"
   },
   {
    "duration": 4,
    "start_time": "2022-06-19T15:15:17.490Z"
   },
   {
    "duration": 186,
    "start_time": "2022-06-19T15:15:17.496Z"
   },
   {
    "duration": 5,
    "start_time": "2022-06-19T15:15:17.684Z"
   },
   {
    "duration": 384,
    "start_time": "2022-06-19T15:15:17.691Z"
   },
   {
    "duration": 155,
    "start_time": "2022-06-19T15:15:18.076Z"
   },
   {
    "duration": 46,
    "start_time": "2022-06-19T15:15:40.668Z"
   },
   {
    "duration": 1162,
    "start_time": "2022-06-19T15:15:44.750Z"
   },
   {
    "duration": 78,
    "start_time": "2022-06-19T15:15:46.454Z"
   },
   {
    "duration": 4,
    "start_time": "2022-06-19T15:15:49.570Z"
   },
   {
    "duration": 14,
    "start_time": "2022-06-19T15:16:02.006Z"
   },
   {
    "duration": 11,
    "start_time": "2022-06-19T15:16:03.401Z"
   },
   {
    "duration": 106,
    "start_time": "2022-06-19T15:16:04.761Z"
   },
   {
    "duration": 62,
    "start_time": "2022-06-19T15:16:05.193Z"
   },
   {
    "duration": 9,
    "start_time": "2022-06-19T15:16:05.694Z"
   },
   {
    "duration": 3,
    "start_time": "2022-06-19T15:16:05.909Z"
   },
   {
    "duration": 192,
    "start_time": "2022-06-19T15:16:06.660Z"
   },
   {
    "duration": 126,
    "start_time": "2022-06-19T15:16:06.854Z"
   },
   {
    "duration": 14,
    "start_time": "2022-06-19T15:16:07.097Z"
   },
   {
    "duration": 384,
    "start_time": "2022-06-19T15:16:07.298Z"
   },
   {
    "duration": 223,
    "start_time": "2022-06-19T15:16:08.003Z"
   },
   {
    "duration": 361,
    "start_time": "2022-06-19T15:16:08.661Z"
   },
   {
    "duration": 227,
    "start_time": "2022-06-19T15:16:09.352Z"
   },
   {
    "duration": 313,
    "start_time": "2022-06-19T15:16:09.994Z"
   },
   {
    "duration": 307,
    "start_time": "2022-06-19T15:16:10.667Z"
   },
   {
    "duration": 138,
    "start_time": "2022-06-19T15:16:11.124Z"
   },
   {
    "duration": 5,
    "start_time": "2022-06-19T15:16:11.797Z"
   },
   {
    "duration": 152,
    "start_time": "2022-06-19T15:16:12.489Z"
   },
   {
    "duration": 9,
    "start_time": "2022-06-19T15:16:13.765Z"
   },
   {
    "duration": 250,
    "start_time": "2022-06-19T15:16:15.895Z"
   },
   {
    "duration": 181,
    "start_time": "2022-06-19T15:16:16.655Z"
   },
   {
    "duration": 52,
    "start_time": "2022-06-19T15:16:22.620Z"
   },
   {
    "duration": 0,
    "start_time": "2022-06-19T15:16:22.674Z"
   },
   {
    "duration": 0,
    "start_time": "2022-06-19T15:16:22.676Z"
   },
   {
    "duration": 0,
    "start_time": "2022-06-19T15:16:22.677Z"
   },
   {
    "duration": 1155,
    "start_time": "2022-06-19T15:16:28.314Z"
   },
   {
    "duration": 68,
    "start_time": "2022-06-19T15:16:29.475Z"
   },
   {
    "duration": 3,
    "start_time": "2022-06-19T15:16:29.544Z"
   },
   {
    "duration": 27,
    "start_time": "2022-06-19T15:16:29.549Z"
   },
   {
    "duration": 11,
    "start_time": "2022-06-19T15:16:29.579Z"
   },
   {
    "duration": 103,
    "start_time": "2022-06-19T15:16:29.592Z"
   },
   {
    "duration": 68,
    "start_time": "2022-06-19T15:16:29.698Z"
   },
   {
    "duration": 11,
    "start_time": "2022-06-19T15:16:29.768Z"
   },
   {
    "duration": 5,
    "start_time": "2022-06-19T15:16:29.780Z"
   },
   {
    "duration": 196,
    "start_time": "2022-06-19T15:16:29.786Z"
   },
   {
    "duration": 126,
    "start_time": "2022-06-19T15:16:29.984Z"
   },
   {
    "duration": 27,
    "start_time": "2022-06-19T15:16:30.113Z"
   },
   {
    "duration": 302,
    "start_time": "2022-06-19T15:16:30.144Z"
   },
   {
    "duration": 220,
    "start_time": "2022-06-19T15:16:30.449Z"
   },
   {
    "duration": 364,
    "start_time": "2022-06-19T15:16:30.675Z"
   },
   {
    "duration": 229,
    "start_time": "2022-06-19T15:16:31.041Z"
   },
   {
    "duration": 338,
    "start_time": "2022-06-19T15:16:31.271Z"
   },
   {
    "duration": 307,
    "start_time": "2022-06-19T15:16:31.611Z"
   },
   {
    "duration": 171,
    "start_time": "2022-06-19T15:16:31.920Z"
   },
   {
    "duration": 5,
    "start_time": "2022-06-19T15:16:32.093Z"
   },
   {
    "duration": 208,
    "start_time": "2022-06-19T15:16:32.100Z"
   },
   {
    "duration": 5,
    "start_time": "2022-06-19T15:16:32.310Z"
   },
   {
    "duration": 416,
    "start_time": "2022-06-19T15:16:32.317Z"
   },
   {
    "duration": 167,
    "start_time": "2022-06-19T15:16:32.735Z"
   },
   {
    "duration": 53,
    "start_time": "2022-06-19T15:16:50.821Z"
   },
   {
    "duration": 9,
    "start_time": "2022-06-19T15:16:57.505Z"
   },
   {
    "duration": 8,
    "start_time": "2022-06-19T15:17:00.430Z"
   },
   {
    "duration": 1077,
    "start_time": "2022-06-19T15:17:04.652Z"
   },
   {
    "duration": 67,
    "start_time": "2022-06-19T15:17:06.989Z"
   },
   {
    "duration": 4,
    "start_time": "2022-06-19T15:17:08.697Z"
   },
   {
    "duration": 12,
    "start_time": "2022-06-19T15:17:10.145Z"
   },
   {
    "duration": 12,
    "start_time": "2022-06-19T15:17:15.801Z"
   },
   {
    "duration": 104,
    "start_time": "2022-06-19T15:17:19.639Z"
   },
   {
    "duration": 74,
    "start_time": "2022-06-19T15:17:21.924Z"
   },
   {
    "duration": 9,
    "start_time": "2022-06-19T15:17:24.690Z"
   },
   {
    "duration": 4,
    "start_time": "2022-06-19T15:17:26.698Z"
   },
   {
    "duration": 198,
    "start_time": "2022-06-19T15:17:28.951Z"
   },
   {
    "duration": 129,
    "start_time": "2022-06-19T15:17:31.043Z"
   },
   {
    "duration": 14,
    "start_time": "2022-06-19T15:17:33.078Z"
   },
   {
    "duration": 296,
    "start_time": "2022-06-19T15:17:34.914Z"
   },
   {
    "duration": 3,
    "start_time": "2022-06-19T15:17:47.693Z"
   },
   {
    "duration": 36,
    "start_time": "2022-06-19T15:17:49.490Z"
   },
   {
    "duration": 3,
    "start_time": "2022-06-19T15:17:52.421Z"
   },
   {
    "duration": 10,
    "start_time": "2022-06-19T15:17:54.841Z"
   },
   {
    "duration": 17,
    "start_time": "2022-06-19T15:17:57.419Z"
   },
   {
    "duration": 65,
    "start_time": "2022-06-19T15:18:00.514Z"
   },
   {
    "duration": 37,
    "start_time": "2022-06-19T15:18:03.202Z"
   },
   {
    "duration": 10,
    "start_time": "2022-06-19T15:18:06.120Z"
   },
   {
    "duration": 3,
    "start_time": "2022-06-19T15:18:09.402Z"
   },
   {
    "duration": 180,
    "start_time": "2022-06-19T15:18:10.395Z"
   },
   {
    "duration": 122,
    "start_time": "2022-06-19T15:18:14.041Z"
   },
   {
    "duration": 28,
    "start_time": "2022-06-19T15:18:20.450Z"
   },
   {
    "duration": 214,
    "start_time": "2022-06-19T15:18:22.122Z"
   },
   {
    "duration": 190,
    "start_time": "2022-06-19T15:18:38.939Z"
   },
   {
    "duration": 344,
    "start_time": "2022-06-19T15:18:42.201Z"
   },
   {
    "duration": 230,
    "start_time": "2022-06-19T15:18:48.546Z"
   },
   {
    "duration": 255,
    "start_time": "2022-06-19T15:18:52.649Z"
   },
   {
    "duration": 137,
    "start_time": "2022-06-19T15:18:55.610Z"
   },
   {
    "duration": 57,
    "start_time": "2022-06-19T15:19:04.255Z"
   },
   {
    "duration": 4,
    "start_time": "2022-06-19T15:21:30.656Z"
   },
   {
    "duration": 7,
    "start_time": "2022-06-19T15:21:34.019Z"
   },
   {
    "duration": 4,
    "start_time": "2022-06-19T15:22:32.548Z"
   },
   {
    "duration": 1137,
    "start_time": "2022-06-19T15:22:39.692Z"
   },
   {
    "duration": 74,
    "start_time": "2022-06-19T15:22:40.832Z"
   },
   {
    "duration": 3,
    "start_time": "2022-06-19T15:22:40.908Z"
   },
   {
    "duration": 18,
    "start_time": "2022-06-19T15:22:40.914Z"
   },
   {
    "duration": 18,
    "start_time": "2022-06-19T15:22:40.934Z"
   },
   {
    "duration": 107,
    "start_time": "2022-06-19T15:22:40.954Z"
   },
   {
    "duration": 62,
    "start_time": "2022-06-19T15:22:41.063Z"
   },
   {
    "duration": 9,
    "start_time": "2022-06-19T15:22:41.127Z"
   },
   {
    "duration": 7,
    "start_time": "2022-06-19T15:22:41.137Z"
   },
   {
    "duration": 180,
    "start_time": "2022-06-19T15:22:41.147Z"
   },
   {
    "duration": 139,
    "start_time": "2022-06-19T15:22:41.329Z"
   },
   {
    "duration": 12,
    "start_time": "2022-06-19T15:22:41.469Z"
   },
   {
    "duration": 345,
    "start_time": "2022-06-19T15:22:41.483Z"
   },
   {
    "duration": 204,
    "start_time": "2022-06-19T15:22:41.830Z"
   },
   {
    "duration": 374,
    "start_time": "2022-06-19T15:22:42.036Z"
   },
   {
    "duration": 236,
    "start_time": "2022-06-19T15:22:42.413Z"
   },
   {
    "duration": 367,
    "start_time": "2022-06-19T15:22:42.651Z"
   },
   {
    "duration": 303,
    "start_time": "2022-06-19T15:22:43.021Z"
   },
   {
    "duration": 139,
    "start_time": "2022-06-19T15:22:43.326Z"
   },
   {
    "duration": 5,
    "start_time": "2022-06-19T15:22:43.467Z"
   },
   {
    "duration": 187,
    "start_time": "2022-06-19T15:22:43.473Z"
   },
   {
    "duration": 4,
    "start_time": "2022-06-19T15:22:43.662Z"
   },
   {
    "duration": 353,
    "start_time": "2022-06-19T15:22:43.668Z"
   },
   {
    "duration": 159,
    "start_time": "2022-06-19T15:22:44.024Z"
   },
   {
    "duration": 72,
    "start_time": "2022-06-19T15:22:57.207Z"
   },
   {
    "duration": 1153,
    "start_time": "2022-06-19T15:32:50.349Z"
   },
   {
    "duration": 68,
    "start_time": "2022-06-19T15:32:51.504Z"
   },
   {
    "duration": 4,
    "start_time": "2022-06-19T15:32:51.573Z"
   },
   {
    "duration": 17,
    "start_time": "2022-06-19T15:32:51.579Z"
   },
   {
    "duration": 12,
    "start_time": "2022-06-19T15:32:51.598Z"
   },
   {
    "duration": 101,
    "start_time": "2022-06-19T15:32:51.612Z"
   },
   {
    "duration": 62,
    "start_time": "2022-06-19T15:32:51.716Z"
   },
   {
    "duration": 9,
    "start_time": "2022-06-19T15:32:51.780Z"
   },
   {
    "duration": 8,
    "start_time": "2022-06-19T15:32:51.790Z"
   },
   {
    "duration": 203,
    "start_time": "2022-06-19T15:32:51.800Z"
   },
   {
    "duration": 122,
    "start_time": "2022-06-19T15:32:52.005Z"
   },
   {
    "duration": 14,
    "start_time": "2022-06-19T15:32:52.129Z"
   },
   {
    "duration": 287,
    "start_time": "2022-06-19T15:32:52.144Z"
   },
   {
    "duration": 209,
    "start_time": "2022-06-19T15:32:52.432Z"
   },
   {
    "duration": 396,
    "start_time": "2022-06-19T15:32:52.643Z"
   },
   {
    "duration": 225,
    "start_time": "2022-06-19T15:32:53.040Z"
   },
   {
    "duration": 313,
    "start_time": "2022-06-19T15:32:53.267Z"
   },
   {
    "duration": 276,
    "start_time": "2022-06-19T15:32:53.582Z"
   },
   {
    "duration": 135,
    "start_time": "2022-06-19T15:32:53.860Z"
   },
   {
    "duration": 4,
    "start_time": "2022-06-19T15:32:53.997Z"
   },
   {
    "duration": 185,
    "start_time": "2022-06-19T15:32:54.003Z"
   },
   {
    "duration": 4,
    "start_time": "2022-06-19T15:32:54.189Z"
   },
   {
    "duration": 342,
    "start_time": "2022-06-19T15:32:54.195Z"
   },
   {
    "duration": 127,
    "start_time": "2022-06-19T15:32:54.539Z"
   },
   {
    "duration": 48,
    "start_time": "2022-06-19T15:33:46.658Z"
   },
   {
    "duration": 1044,
    "start_time": "2022-06-19T15:33:51.615Z"
   },
   {
    "duration": 70,
    "start_time": "2022-06-19T15:33:52.660Z"
   },
   {
    "duration": 3,
    "start_time": "2022-06-19T15:33:52.732Z"
   },
   {
    "duration": 39,
    "start_time": "2022-06-19T15:33:52.738Z"
   },
   {
    "duration": 13,
    "start_time": "2022-06-19T15:33:52.779Z"
   },
   {
    "duration": 95,
    "start_time": "2022-06-19T15:33:52.794Z"
   },
   {
    "duration": 66,
    "start_time": "2022-06-19T15:33:52.891Z"
   },
   {
    "duration": 11,
    "start_time": "2022-06-19T15:33:52.959Z"
   },
   {
    "duration": 13,
    "start_time": "2022-06-19T15:33:52.972Z"
   },
   {
    "duration": 224,
    "start_time": "2022-06-19T15:33:52.988Z"
   },
   {
    "duration": 115,
    "start_time": "2022-06-19T15:33:53.214Z"
   },
   {
    "duration": 12,
    "start_time": "2022-06-19T15:33:53.330Z"
   },
   {
    "duration": 290,
    "start_time": "2022-06-19T15:33:53.344Z"
   },
   {
    "duration": 203,
    "start_time": "2022-06-19T15:33:53.635Z"
   },
   {
    "duration": 343,
    "start_time": "2022-06-19T15:33:53.840Z"
   },
   {
    "duration": 215,
    "start_time": "2022-06-19T15:33:54.185Z"
   },
   {
    "duration": 292,
    "start_time": "2022-06-19T15:33:54.402Z"
   },
   {
    "duration": 292,
    "start_time": "2022-06-19T15:33:54.696Z"
   },
   {
    "duration": 137,
    "start_time": "2022-06-19T15:33:54.990Z"
   },
   {
    "duration": 4,
    "start_time": "2022-06-19T15:33:55.129Z"
   },
   {
    "duration": 163,
    "start_time": "2022-06-19T15:33:55.135Z"
   },
   {
    "duration": 5,
    "start_time": "2022-06-19T15:33:55.299Z"
   },
   {
    "duration": 332,
    "start_time": "2022-06-19T15:33:55.306Z"
   },
   {
    "duration": 122,
    "start_time": "2022-06-19T15:33:55.640Z"
   },
   {
    "duration": 50,
    "start_time": "2022-06-19T15:35:02.402Z"
   },
   {
    "duration": 10,
    "start_time": "2022-06-19T19:30:06.971Z"
   },
   {
    "duration": 1041,
    "start_time": "2022-06-19T19:30:14.068Z"
   },
   {
    "duration": 67,
    "start_time": "2022-06-19T19:30:15.111Z"
   },
   {
    "duration": 3,
    "start_time": "2022-06-19T19:30:15.181Z"
   },
   {
    "duration": 35,
    "start_time": "2022-06-19T19:30:15.186Z"
   },
   {
    "duration": 19,
    "start_time": "2022-06-19T19:30:15.224Z"
   },
   {
    "duration": 102,
    "start_time": "2022-06-19T19:30:15.244Z"
   },
   {
    "duration": 66,
    "start_time": "2022-06-19T19:30:15.348Z"
   },
   {
    "duration": 9,
    "start_time": "2022-06-19T19:30:15.416Z"
   },
   {
    "duration": 23,
    "start_time": "2022-06-19T19:30:15.427Z"
   },
   {
    "duration": 183,
    "start_time": "2022-06-19T19:30:15.453Z"
   },
   {
    "duration": 123,
    "start_time": "2022-06-19T19:30:15.637Z"
   },
   {
    "duration": 13,
    "start_time": "2022-06-19T19:30:15.761Z"
   },
   {
    "duration": 283,
    "start_time": "2022-06-19T19:30:15.775Z"
   },
   {
    "duration": 204,
    "start_time": "2022-06-19T19:30:16.061Z"
   },
   {
    "duration": 322,
    "start_time": "2022-06-19T19:30:16.267Z"
   },
   {
    "duration": 225,
    "start_time": "2022-06-19T19:30:16.591Z"
   },
   {
    "duration": 348,
    "start_time": "2022-06-19T19:30:16.818Z"
   },
   {
    "duration": 431,
    "start_time": "2022-06-19T19:30:17.167Z"
   },
   {
    "duration": 146,
    "start_time": "2022-06-19T19:30:17.600Z"
   },
   {
    "duration": 13,
    "start_time": "2022-06-19T19:30:17.748Z"
   },
   {
    "duration": 159,
    "start_time": "2022-06-19T19:30:17.763Z"
   },
   {
    "duration": 5,
    "start_time": "2022-06-19T19:30:17.924Z"
   },
   {
    "duration": 357,
    "start_time": "2022-06-19T19:30:17.931Z"
   },
   {
    "duration": 152,
    "start_time": "2022-06-19T19:30:18.289Z"
   },
   {
    "duration": 66,
    "start_time": "2022-06-19T19:30:33.924Z"
   },
   {
    "duration": 1521,
    "start_time": "2022-06-19T19:30:37.161Z"
   },
   {
    "duration": 3,
    "start_time": "2022-06-19T19:30:40.213Z"
   },
   {
    "duration": 81,
    "start_time": "2022-06-19T19:30:42.036Z"
   },
   {
    "duration": 4,
    "start_time": "2022-06-19T19:30:45.292Z"
   },
   {
    "duration": 13,
    "start_time": "2022-06-19T19:30:47.873Z"
   },
   {
    "duration": 17,
    "start_time": "2022-06-19T19:30:50.401Z"
   },
   {
    "duration": 108,
    "start_time": "2022-06-19T19:30:53.870Z"
   },
   {
    "duration": 92,
    "start_time": "2022-06-19T19:30:58.011Z"
   },
   {
    "duration": 15,
    "start_time": "2022-06-19T19:31:00.545Z"
   },
   {
    "duration": 4,
    "start_time": "2022-06-19T19:31:02.776Z"
   },
   {
    "duration": 174,
    "start_time": "2022-06-19T19:31:05.517Z"
   },
   {
    "duration": 120,
    "start_time": "2022-06-19T19:31:08.558Z"
   },
   {
    "duration": 12,
    "start_time": "2022-06-19T19:31:10.902Z"
   },
   {
    "duration": 343,
    "start_time": "2022-06-19T19:31:13.335Z"
   },
   {
    "duration": 227,
    "start_time": "2022-06-19T19:31:22.639Z"
   },
   {
    "duration": 59,
    "start_time": "2022-06-19T19:35:09.056Z"
   },
   {
    "duration": 37,
    "start_time": "2022-06-19T19:35:16.388Z"
   },
   {
    "duration": 9,
    "start_time": "2022-06-19T19:35:20.733Z"
   },
   {
    "duration": 3,
    "start_time": "2022-06-19T19:35:25.737Z"
   },
   {
    "duration": 168,
    "start_time": "2022-06-19T19:35:34.430Z"
   },
   {
    "duration": 132,
    "start_time": "2022-06-19T19:35:38.843Z"
   },
   {
    "duration": 121,
    "start_time": "2022-06-19T19:37:10.339Z"
   },
   {
    "duration": 88,
    "start_time": "2022-06-19T19:42:17.479Z"
   },
   {
    "duration": 142,
    "start_time": "2022-06-19T19:42:36.906Z"
   },
   {
    "duration": 158,
    "start_time": "2022-06-19T19:43:01.526Z"
   },
   {
    "duration": 115,
    "start_time": "2022-06-19T19:43:04.931Z"
   },
   {
    "duration": 23,
    "start_time": "2022-06-19T19:45:01.788Z"
   },
   {
    "duration": 23,
    "start_time": "2022-06-19T19:45:21.589Z"
   },
   {
    "duration": 36,
    "start_time": "2022-06-19T19:47:21.397Z"
   },
   {
    "duration": 178,
    "start_time": "2022-06-19T19:49:14.460Z"
   },
   {
    "duration": 29,
    "start_time": "2022-06-19T19:49:31.838Z"
   },
   {
    "duration": 152,
    "start_time": "2022-06-19T19:49:37.530Z"
   },
   {
    "duration": 129,
    "start_time": "2022-06-19T19:49:40.948Z"
   },
   {
    "duration": 23,
    "start_time": "2022-06-19T19:50:01.373Z"
   },
   {
    "duration": 23,
    "start_time": "2022-06-19T19:50:28.507Z"
   },
   {
    "duration": 15,
    "start_time": "2022-06-19T19:50:43.900Z"
   },
   {
    "duration": 281,
    "start_time": "2022-06-19T19:50:46.180Z"
   },
   {
    "duration": 207,
    "start_time": "2022-06-19T19:51:05.063Z"
   },
   {
    "duration": 117,
    "start_time": "2022-06-19T19:51:08.088Z"
   },
   {
    "duration": 121,
    "start_time": "2022-06-19T19:51:14.115Z"
   },
   {
    "duration": 152,
    "start_time": "2022-06-19T19:51:20.091Z"
   },
   {
    "duration": 112,
    "start_time": "2022-06-19T19:51:32.066Z"
   },
   {
    "duration": 15,
    "start_time": "2022-06-19T19:51:35.977Z"
   },
   {
    "duration": 243,
    "start_time": "2022-06-19T19:51:39.738Z"
   },
   {
    "duration": 34,
    "start_time": "2022-06-19T19:54:32.148Z"
   },
   {
    "duration": 296,
    "start_time": "2022-06-19T19:54:58.156Z"
   },
   {
    "duration": 298,
    "start_time": "2022-06-19T19:55:03.849Z"
   },
   {
    "duration": 296,
    "start_time": "2022-06-19T19:55:51.698Z"
   },
   {
    "duration": 217,
    "start_time": "2022-06-19T19:56:59.147Z"
   },
   {
    "duration": 17,
    "start_time": "2022-06-19T19:57:49.888Z"
   },
   {
    "duration": 17,
    "start_time": "2022-06-19T19:57:58.712Z"
   },
   {
    "duration": 285,
    "start_time": "2022-06-19T19:58:06.108Z"
   },
   {
    "duration": 119,
    "start_time": "2022-06-19T19:58:44.087Z"
   },
   {
    "duration": 14,
    "start_time": "2022-06-19T19:59:31.515Z"
   },
   {
    "duration": 11,
    "start_time": "2022-06-19T20:00:08.914Z"
   },
   {
    "duration": 66,
    "start_time": "2022-06-19T20:01:10.786Z"
   },
   {
    "duration": 94,
    "start_time": "2022-06-19T20:01:24.129Z"
   },
   {
    "duration": 18,
    "start_time": "2022-06-19T20:02:25.891Z"
   },
   {
    "duration": 32,
    "start_time": "2022-06-19T20:03:56.233Z"
   },
   {
    "duration": 32,
    "start_time": "2022-06-19T20:04:10.359Z"
   },
   {
    "duration": 1187,
    "start_time": "2022-06-19T20:04:16.842Z"
   },
   {
    "duration": 37,
    "start_time": "2022-06-19T20:04:18.031Z"
   },
   {
    "duration": 4,
    "start_time": "2022-06-19T20:04:18.076Z"
   },
   {
    "duration": 13,
    "start_time": "2022-06-19T20:04:18.082Z"
   },
   {
    "duration": 12,
    "start_time": "2022-06-19T20:04:18.096Z"
   },
   {
    "duration": 61,
    "start_time": "2022-06-19T20:04:18.110Z"
   },
   {
    "duration": 31,
    "start_time": "2022-06-19T20:04:18.174Z"
   },
   {
    "duration": 9,
    "start_time": "2022-06-19T20:04:18.207Z"
   },
   {
    "duration": 8,
    "start_time": "2022-06-19T20:04:18.218Z"
   },
   {
    "duration": 219,
    "start_time": "2022-06-19T20:04:18.229Z"
   },
   {
    "duration": 131,
    "start_time": "2022-06-19T20:04:18.449Z"
   },
   {
    "duration": 23,
    "start_time": "2022-06-19T20:04:18.582Z"
   },
   {
    "duration": 326,
    "start_time": "2022-06-19T20:04:18.607Z"
   },
   {
    "duration": 306,
    "start_time": "2022-06-19T20:04:18.935Z"
   },
   {
    "duration": 224,
    "start_time": "2022-06-19T20:04:19.244Z"
   },
   {
    "duration": 337,
    "start_time": "2022-06-19T20:04:19.470Z"
   },
   {
    "duration": 251,
    "start_time": "2022-06-19T20:04:19.809Z"
   },
   {
    "duration": 349,
    "start_time": "2022-06-19T20:04:20.063Z"
   },
   {
    "duration": 272,
    "start_time": "2022-06-19T20:04:20.413Z"
   },
   {
    "duration": 154,
    "start_time": "2022-06-19T20:04:20.687Z"
   },
   {
    "duration": 4,
    "start_time": "2022-06-19T20:04:20.844Z"
   },
   {
    "duration": 175,
    "start_time": "2022-06-19T20:04:20.850Z"
   },
   {
    "duration": 5,
    "start_time": "2022-06-19T20:04:21.026Z"
   },
   {
    "duration": 347,
    "start_time": "2022-06-19T20:04:21.033Z"
   },
   {
    "duration": 154,
    "start_time": "2022-06-19T20:04:21.382Z"
   },
   {
    "duration": 73,
    "start_time": "2022-06-19T20:04:36.523Z"
   },
   {
    "duration": 1554,
    "start_time": "2022-06-19T20:04:44.433Z"
   },
   {
    "duration": 75,
    "start_time": "2022-06-19T20:04:46.055Z"
   },
   {
    "duration": 4,
    "start_time": "2022-06-19T20:04:48.610Z"
   },
   {
    "duration": 15,
    "start_time": "2022-06-19T20:04:52.111Z"
   },
   {
    "duration": 17,
    "start_time": "2022-06-19T20:04:54.680Z"
   },
   {
    "duration": 111,
    "start_time": "2022-06-19T20:04:58.377Z"
   },
   {
    "duration": 86,
    "start_time": "2022-06-19T20:05:03.755Z"
   },
   {
    "duration": 34,
    "start_time": "2022-06-19T20:05:09.753Z"
   },
   {
    "duration": 4,
    "start_time": "2022-06-19T20:05:11.884Z"
   },
   {
    "duration": 270,
    "start_time": "2022-06-19T20:05:14.303Z"
   },
   {
    "duration": 85,
    "start_time": "2022-06-19T20:05:18.122Z"
   },
   {
    "duration": 17,
    "start_time": "2022-06-19T20:05:19.657Z"
   },
   {
    "duration": 128,
    "start_time": "2022-06-19T20:05:33.942Z"
   },
   {
    "duration": 15,
    "start_time": "2022-06-19T20:05:38.478Z"
   },
   {
    "duration": 401,
    "start_time": "2022-06-19T20:05:46.619Z"
   },
   {
    "duration": 309,
    "start_time": "2022-06-19T20:05:50.174Z"
   },
   {
    "duration": 325,
    "start_time": "2022-06-19T20:06:07.595Z"
   },
   {
    "duration": 246,
    "start_time": "2022-06-19T20:06:30.643Z"
   },
   {
    "duration": 344,
    "start_time": "2022-06-19T20:06:44.627Z"
   },
   {
    "duration": 247,
    "start_time": "2022-06-19T20:06:54.936Z"
   },
   {
    "duration": 1205,
    "start_time": "2022-06-19T20:07:07.215Z"
   },
   {
    "duration": 47,
    "start_time": "2022-06-19T20:07:08.423Z"
   },
   {
    "duration": 3,
    "start_time": "2022-06-19T20:07:08.472Z"
   },
   {
    "duration": 21,
    "start_time": "2022-06-19T20:07:08.484Z"
   },
   {
    "duration": 15,
    "start_time": "2022-06-19T20:07:08.507Z"
   },
   {
    "duration": 101,
    "start_time": "2022-06-19T20:07:08.524Z"
   },
   {
    "duration": 38,
    "start_time": "2022-06-19T20:07:08.628Z"
   },
   {
    "duration": 21,
    "start_time": "2022-06-19T20:07:08.671Z"
   },
   {
    "duration": 5,
    "start_time": "2022-06-19T20:07:08.695Z"
   },
   {
    "duration": 282,
    "start_time": "2022-06-19T20:07:08.704Z"
   },
   {
    "duration": 133,
    "start_time": "2022-06-19T20:07:08.988Z"
   },
   {
    "duration": 13,
    "start_time": "2022-06-19T20:07:09.123Z"
   },
   {
    "duration": 328,
    "start_time": "2022-06-19T20:07:09.137Z"
   },
   {
    "duration": 296,
    "start_time": "2022-06-19T20:07:09.466Z"
   },
   {
    "duration": 237,
    "start_time": "2022-06-19T20:07:09.769Z"
   },
   {
    "duration": 239,
    "start_time": "2022-06-19T20:07:10.008Z"
   },
   {
    "duration": 381,
    "start_time": "2022-06-19T20:07:10.249Z"
   },
   {
    "duration": 250,
    "start_time": "2022-06-19T20:07:10.632Z"
   },
   {
    "duration": 331,
    "start_time": "2022-06-19T20:07:10.884Z"
   },
   {
    "duration": 295,
    "start_time": "2022-06-19T20:07:11.217Z"
   },
   {
    "duration": 254,
    "start_time": "2022-06-19T20:07:11.514Z"
   },
   {
    "duration": 9,
    "start_time": "2022-06-19T20:07:11.769Z"
   },
   {
    "duration": 157,
    "start_time": "2022-06-19T20:07:11.783Z"
   },
   {
    "duration": 4,
    "start_time": "2022-06-19T20:07:11.942Z"
   },
   {
    "duration": 290,
    "start_time": "2022-06-19T20:07:11.958Z"
   },
   {
    "duration": 151,
    "start_time": "2022-06-19T20:07:12.250Z"
   },
   {
    "duration": 65,
    "start_time": "2022-06-19T20:07:21.979Z"
   },
   {
    "duration": 9,
    "start_time": "2022-06-19T20:07:38.100Z"
   },
   {
    "duration": 3,
    "start_time": "2022-06-19T20:13:21.331Z"
   },
   {
    "duration": 31,
    "start_time": "2022-06-19T20:13:23.179Z"
   },
   {
    "duration": 4,
    "start_time": "2022-06-19T20:13:27.337Z"
   },
   {
    "duration": 10,
    "start_time": "2022-06-19T20:13:29.888Z"
   },
   {
    "duration": 19,
    "start_time": "2022-06-19T20:13:34.152Z"
   },
   {
    "duration": 95,
    "start_time": "2022-06-19T20:13:40.332Z"
   },
   {
    "duration": 42,
    "start_time": "2022-06-19T20:13:46.810Z"
   },
   {
    "duration": 14,
    "start_time": "2022-06-19T20:13:54.634Z"
   },
   {
    "duration": 5,
    "start_time": "2022-06-19T20:13:55.383Z"
   },
   {
    "duration": 237,
    "start_time": "2022-06-19T20:13:57.832Z"
   },
   {
    "duration": 138,
    "start_time": "2022-06-19T20:14:00.705Z"
   },
   {
    "duration": 188,
    "start_time": "2022-06-19T20:14:38.328Z"
   },
   {
    "duration": 38,
    "start_time": "2022-06-19T20:16:47.652Z"
   },
   {
    "duration": 16,
    "start_time": "2022-06-19T20:17:11.684Z"
   },
   {
    "duration": 16,
    "start_time": "2022-06-19T20:17:30.608Z"
   },
   {
    "duration": 41,
    "start_time": "2022-06-19T20:19:15.983Z"
   },
   {
    "duration": 90,
    "start_time": "2022-06-19T20:21:40.633Z"
   },
   {
    "duration": 627,
    "start_time": "2022-06-19T20:22:56.784Z"
   },
   {
    "duration": 11,
    "start_time": "2022-06-19T20:23:20.425Z"
   },
   {
    "duration": 757,
    "start_time": "2022-06-19T20:23:25.799Z"
   },
   {
    "duration": 11,
    "start_time": "2022-06-19T20:24:22.006Z"
   },
   {
    "duration": 17,
    "start_time": "2022-06-19T20:24:30.109Z"
   },
   {
    "duration": 59,
    "start_time": "2022-06-19T20:25:03.406Z"
   },
   {
    "duration": 37,
    "start_time": "2022-06-19T20:25:07.105Z"
   },
   {
    "duration": 10,
    "start_time": "2022-06-19T20:25:17.420Z"
   },
   {
    "duration": 4,
    "start_time": "2022-06-19T20:25:18.886Z"
   },
   {
    "duration": 198,
    "start_time": "2022-06-19T20:25:22.523Z"
   },
   {
    "duration": 149,
    "start_time": "2022-06-19T20:25:35.141Z"
   },
   {
    "duration": 216,
    "start_time": "2022-06-19T20:27:11.503Z"
   },
   {
    "duration": 141,
    "start_time": "2022-06-19T20:27:43.231Z"
   },
   {
    "duration": 136,
    "start_time": "2022-06-19T20:27:46.570Z"
   },
   {
    "duration": 23,
    "start_time": "2022-06-19T20:27:49.387Z"
   },
   {
    "duration": 128,
    "start_time": "2022-06-19T20:28:11.601Z"
   },
   {
    "duration": 10,
    "start_time": "2022-06-19T20:29:06.602Z"
   },
   {
    "duration": 137,
    "start_time": "2022-06-19T20:29:26.840Z"
   },
   {
    "duration": 13,
    "start_time": "2022-06-19T20:30:11.215Z"
   },
   {
    "duration": 12,
    "start_time": "2022-06-19T20:30:38.583Z"
   },
   {
    "duration": 130,
    "start_time": "2022-06-19T20:32:00.950Z"
   },
   {
    "duration": 128,
    "start_time": "2022-06-19T20:32:18.478Z"
   },
   {
    "duration": 128,
    "start_time": "2022-06-19T20:33:50.001Z"
   },
   {
    "duration": 20,
    "start_time": "2022-06-19T20:33:57.140Z"
   },
   {
    "duration": 359,
    "start_time": "2022-06-19T20:34:00.683Z"
   },
   {
    "duration": 37,
    "start_time": "2022-06-19T20:34:57.092Z"
   },
   {
    "duration": 37,
    "start_time": "2022-06-19T20:35:11.576Z"
   },
   {
    "duration": 25,
    "start_time": "2022-06-19T20:35:38.694Z"
   },
   {
    "duration": 272,
    "start_time": "2022-06-19T20:36:55.117Z"
   },
   {
    "duration": 209,
    "start_time": "2022-06-19T20:37:00.500Z"
   },
   {
    "duration": 224,
    "start_time": "2022-06-19T20:37:04.883Z"
   },
   {
    "duration": 135,
    "start_time": "2022-06-19T20:37:30.268Z"
   },
   {
    "duration": 128,
    "start_time": "2022-06-19T20:37:34.584Z"
   },
   {
    "duration": 148,
    "start_time": "2022-06-19T20:37:42.633Z"
   },
   {
    "duration": 16,
    "start_time": "2022-06-19T20:40:52.276Z"
   },
   {
    "duration": 28,
    "start_time": "2022-06-19T20:41:02.377Z"
   },
   {
    "duration": 50,
    "start_time": "2022-06-19T20:41:19.646Z"
   },
   {
    "duration": 200,
    "start_time": "2022-06-19T20:41:33.579Z"
   },
   {
    "duration": 308,
    "start_time": "2022-06-19T20:41:40.494Z"
   },
   {
    "duration": 475,
    "start_time": "2022-06-19T20:41:50.772Z"
   },
   {
    "duration": 112,
    "start_time": "2022-06-19T20:45:27.797Z"
   },
   {
    "duration": 113,
    "start_time": "2022-06-19T20:45:50.989Z"
   },
   {
    "duration": 114,
    "start_time": "2022-06-19T20:46:34.351Z"
   },
   {
    "duration": 125,
    "start_time": "2022-06-19T20:46:57.295Z"
   },
   {
    "duration": 259,
    "start_time": "2022-06-19T20:47:46.894Z"
   },
   {
    "duration": 269,
    "start_time": "2022-06-19T20:48:03.351Z"
   },
   {
    "duration": 251,
    "start_time": "2022-06-19T20:49:32.175Z"
   },
   {
    "duration": 654,
    "start_time": "2022-06-19T20:49:43.679Z"
   },
   {
    "duration": 293,
    "start_time": "2022-06-19T20:49:57.505Z"
   },
   {
    "duration": 258,
    "start_time": "2022-06-19T20:50:16.847Z"
   },
   {
    "duration": 286,
    "start_time": "2022-06-19T20:51:57.821Z"
   },
   {
    "duration": 198,
    "start_time": "2022-06-19T20:56:24.683Z"
   },
   {
    "duration": 118,
    "start_time": "2022-06-19T20:57:48.892Z"
   },
   {
    "duration": 142,
    "start_time": "2022-06-19T20:58:05.952Z"
   },
   {
    "duration": 137,
    "start_time": "2022-06-19T20:59:04.097Z"
   },
   {
    "duration": 146,
    "start_time": "2022-06-19T20:59:27.516Z"
   },
   {
    "duration": 132,
    "start_time": "2022-06-19T21:00:09.845Z"
   },
   {
    "duration": 127,
    "start_time": "2022-06-19T21:00:15.086Z"
   },
   {
    "duration": 137,
    "start_time": "2022-06-19T21:00:36.941Z"
   },
   {
    "duration": 26,
    "start_time": "2022-06-19T21:00:39.491Z"
   },
   {
    "duration": 265,
    "start_time": "2022-06-19T21:00:56.048Z"
   },
   {
    "duration": 140,
    "start_time": "2022-06-19T21:03:05.494Z"
   },
   {
    "duration": 14,
    "start_time": "2022-06-19T21:03:35.699Z"
   },
   {
    "duration": 37,
    "start_time": "2022-06-19T21:04:00.382Z"
   },
   {
    "duration": 17,
    "start_time": "2022-06-19T21:04:17.521Z"
   },
   {
    "duration": 17,
    "start_time": "2022-06-19T21:05:55.940Z"
   },
   {
    "duration": 23,
    "start_time": "2022-06-19T21:06:09.047Z"
   },
   {
    "duration": 14,
    "start_time": "2022-06-19T21:06:15.597Z"
   },
   {
    "duration": 320,
    "start_time": "2022-06-19T21:06:24.506Z"
   },
   {
    "duration": 199,
    "start_time": "2022-06-19T21:08:13.522Z"
   },
   {
    "duration": 162,
    "start_time": "2022-06-19T21:08:16.250Z"
   },
   {
    "duration": 10,
    "start_time": "2022-06-19T21:09:43.787Z"
   },
   {
    "duration": 7,
    "start_time": "2022-06-19T21:09:45.463Z"
   },
   {
    "duration": 207,
    "start_time": "2022-06-19T21:09:46.928Z"
   },
   {
    "duration": 30,
    "start_time": "2022-06-19T21:11:27.656Z"
   },
   {
    "duration": 12,
    "start_time": "2022-06-19T21:11:38.134Z"
   },
   {
    "duration": 118,
    "start_time": "2022-06-19T21:12:00.629Z"
   },
   {
    "duration": 134,
    "start_time": "2022-06-19T21:12:05.022Z"
   },
   {
    "duration": 121,
    "start_time": "2022-06-19T21:12:11.848Z"
   },
   {
    "duration": 12,
    "start_time": "2022-06-19T21:12:24.286Z"
   },
   {
    "duration": 23,
    "start_time": "2022-06-19T21:12:32.257Z"
   },
   {
    "duration": 22,
    "start_time": "2022-06-19T21:12:52.650Z"
   },
   {
    "duration": 16,
    "start_time": "2022-06-19T21:13:04.491Z"
   },
   {
    "duration": 227,
    "start_time": "2022-06-19T21:13:09.442Z"
   },
   {
    "duration": 335,
    "start_time": "2022-06-19T21:14:50.281Z"
   },
   {
    "duration": 133,
    "start_time": "2022-06-19T21:14:53.495Z"
   },
   {
    "duration": 49,
    "start_time": "2022-06-19T21:15:28.212Z"
   },
   {
    "duration": 5,
    "start_time": "2022-06-19T21:15:31.681Z"
   },
   {
    "duration": 7,
    "start_time": "2022-06-19T21:15:33.533Z"
   },
   {
    "duration": 13,
    "start_time": "2022-06-19T21:15:37.755Z"
   },
   {
    "duration": 4703,
    "start_time": "2022-06-19T21:15:43.151Z"
   },
   {
    "duration": 107,
    "start_time": "2022-06-19T21:15:47.859Z"
   },
   {
    "duration": 6,
    "start_time": "2022-06-19T21:15:47.973Z"
   },
   {
    "duration": 45,
    "start_time": "2022-06-19T21:15:47.981Z"
   },
   {
    "duration": 11,
    "start_time": "2022-06-19T21:15:48.028Z"
   },
   {
    "duration": 167,
    "start_time": "2022-06-19T21:15:48.040Z"
   },
   {
    "duration": 75,
    "start_time": "2022-06-19T21:15:48.209Z"
   },
   {
    "duration": 16,
    "start_time": "2022-06-19T21:15:48.286Z"
   },
   {
    "duration": 13,
    "start_time": "2022-06-19T21:15:48.308Z"
   },
   {
    "duration": 205,
    "start_time": "2022-06-19T21:15:48.324Z"
   },
   {
    "duration": 133,
    "start_time": "2022-06-19T21:15:48.531Z"
   },
   {
    "duration": 16,
    "start_time": "2022-06-19T21:15:48.665Z"
   },
   {
    "duration": 374,
    "start_time": "2022-06-19T21:15:48.683Z"
   },
   {
    "duration": 261,
    "start_time": "2022-06-19T21:15:49.068Z"
   },
   {
    "duration": 378,
    "start_time": "2022-06-19T21:15:49.331Z"
   },
   {
    "duration": 270,
    "start_time": "2022-06-19T21:15:49.711Z"
   },
   {
    "duration": 331,
    "start_time": "2022-06-19T21:15:49.983Z"
   },
   {
    "duration": 311,
    "start_time": "2022-06-19T21:15:50.317Z"
   },
   {
    "duration": 172,
    "start_time": "2022-06-19T21:15:50.631Z"
   },
   {
    "duration": 9,
    "start_time": "2022-06-19T21:15:50.805Z"
   },
   {
    "duration": 192,
    "start_time": "2022-06-19T21:15:50.816Z"
   },
   {
    "duration": 4,
    "start_time": "2022-06-19T21:15:51.010Z"
   },
   {
    "duration": 260,
    "start_time": "2022-06-19T21:15:51.015Z"
   },
   {
    "duration": 161,
    "start_time": "2022-06-19T21:15:51.277Z"
   },
   {
    "duration": 7,
    "start_time": "2022-06-19T21:15:51.439Z"
   },
   {
    "duration": 6,
    "start_time": "2022-06-19T21:15:51.459Z"
   },
   {
    "duration": 71,
    "start_time": "2022-06-19T21:15:51.468Z"
   },
   {
    "duration": 8,
    "start_time": "2022-06-19T21:15:51.542Z"
   },
   {
    "duration": 14,
    "start_time": "2022-06-19T21:15:51.551Z"
   },
   {
    "duration": 45,
    "start_time": "2022-06-19T21:15:51.567Z"
   },
   {
    "duration": 22,
    "start_time": "2022-06-19T21:15:51.613Z"
   },
   {
    "duration": 8,
    "start_time": "2022-06-19T21:15:51.637Z"
   },
   {
    "duration": 9,
    "start_time": "2022-06-19T21:31:52.737Z"
   },
   {
    "duration": 10,
    "start_time": "2022-06-19T21:32:02.782Z"
   },
   {
    "duration": 47,
    "start_time": "2022-06-19T21:32:04.749Z"
   },
   {
    "duration": 10,
    "start_time": "2022-06-19T21:32:25.785Z"
   },
   {
    "duration": 8,
    "start_time": "2022-06-19T21:41:06.604Z"
   },
   {
    "duration": 46,
    "start_time": "2022-06-21T19:39:31.155Z"
   },
   {
    "duration": 1320,
    "start_time": "2022-06-21T19:39:34.162Z"
   },
   {
    "duration": 96,
    "start_time": "2022-06-21T19:39:36.425Z"
   },
   {
    "duration": 1105,
    "start_time": "2022-06-21T19:41:13.316Z"
   },
   {
    "duration": 1108,
    "start_time": "2022-06-21T19:41:23.200Z"
   },
   {
    "duration": 55,
    "start_time": "2022-06-21T19:41:24.310Z"
   },
   {
    "duration": 2,
    "start_time": "2022-06-21T19:41:24.367Z"
   },
   {
    "duration": 14,
    "start_time": "2022-06-21T19:41:24.371Z"
   },
   {
    "duration": 20,
    "start_time": "2022-06-21T19:41:24.387Z"
   },
   {
    "duration": 155,
    "start_time": "2022-06-21T19:41:24.409Z"
   },
   {
    "duration": 73,
    "start_time": "2022-06-21T19:41:24.565Z"
   },
   {
    "duration": 6,
    "start_time": "2022-06-21T19:41:24.639Z"
   },
   {
    "duration": 8,
    "start_time": "2022-06-21T19:41:24.646Z"
   },
   {
    "duration": 219,
    "start_time": "2022-06-21T19:41:24.656Z"
   },
   {
    "duration": 125,
    "start_time": "2022-06-21T19:41:24.877Z"
   },
   {
    "duration": 14,
    "start_time": "2022-06-21T19:41:25.004Z"
   },
   {
    "duration": 341,
    "start_time": "2022-06-21T19:41:25.027Z"
   },
   {
    "duration": 225,
    "start_time": "2022-06-21T19:41:25.370Z"
   },
   {
    "duration": 396,
    "start_time": "2022-06-21T19:41:25.597Z"
   },
   {
    "duration": 280,
    "start_time": "2022-06-21T19:41:25.994Z"
   },
   {
    "duration": 340,
    "start_time": "2022-06-21T19:41:26.276Z"
   },
   {
    "duration": 308,
    "start_time": "2022-06-21T19:41:26.628Z"
   },
   {
    "duration": 146,
    "start_time": "2022-06-21T19:41:26.944Z"
   },
   {
    "duration": 4,
    "start_time": "2022-06-21T19:41:27.092Z"
   },
   {
    "duration": 178,
    "start_time": "2022-06-21T19:41:27.097Z"
   },
   {
    "duration": 5,
    "start_time": "2022-06-21T19:41:27.276Z"
   },
   {
    "duration": 237,
    "start_time": "2022-06-21T19:41:27.283Z"
   },
   {
    "duration": 144,
    "start_time": "2022-06-21T19:41:27.527Z"
   },
   {
    "duration": 6,
    "start_time": "2022-06-21T19:41:27.673Z"
   },
   {
    "duration": 5,
    "start_time": "2022-06-21T19:41:27.681Z"
   },
   {
    "duration": 25,
    "start_time": "2022-06-21T19:41:27.687Z"
   },
   {
    "duration": 10,
    "start_time": "2022-06-21T19:41:27.728Z"
   },
   {
    "duration": 30,
    "start_time": "2022-06-21T19:41:27.740Z"
   },
   {
    "duration": 10,
    "start_time": "2022-06-21T19:41:27.771Z"
   },
   {
    "duration": 28,
    "start_time": "2022-06-21T19:41:27.783Z"
   },
   {
    "duration": 10,
    "start_time": "2022-06-21T19:41:27.813Z"
   },
   {
    "duration": 1166,
    "start_time": "2022-06-21T19:42:18.923Z"
   },
   {
    "duration": 206,
    "start_time": "2022-06-21T19:42:42.092Z"
   },
   {
    "duration": 260,
    "start_time": "2022-06-21T19:45:22.876Z"
   },
   {
    "duration": 7,
    "start_time": "2022-06-21T19:50:24.284Z"
   },
   {
    "duration": 7,
    "start_time": "2022-06-21T19:50:53.970Z"
   },
   {
    "duration": 9,
    "start_time": "2022-06-21T19:51:12.946Z"
   },
   {
    "duration": 7,
    "start_time": "2022-06-21T19:54:40.487Z"
   },
   {
    "duration": 6,
    "start_time": "2022-06-21T19:54:55.048Z"
   },
   {
    "duration": 5,
    "start_time": "2022-06-21T19:55:32.524Z"
   },
   {
    "duration": 5,
    "start_time": "2022-06-21T19:55:40.590Z"
   },
   {
    "duration": 5,
    "start_time": "2022-06-21T19:56:12.899Z"
   },
   {
    "duration": 22,
    "start_time": "2022-06-21T19:56:18.056Z"
   },
   {
    "duration": 11,
    "start_time": "2022-06-21T19:56:21.753Z"
   },
   {
    "duration": 7,
    "start_time": "2022-06-21T19:56:48.576Z"
   },
   {
    "duration": 114,
    "start_time": "2022-06-21T19:58:46.602Z"
   },
   {
    "duration": 117,
    "start_time": "2022-06-21T19:59:02.208Z"
   },
   {
    "duration": 139,
    "start_time": "2022-06-21T19:59:31.334Z"
   },
   {
    "duration": 49,
    "start_time": "2022-06-23T20:26:38.581Z"
   },
   {
    "duration": 54,
    "start_time": "2022-06-23T20:26:50.029Z"
   },
   {
    "duration": 44,
    "start_time": "2022-06-23T20:27:02.428Z"
   },
   {
    "duration": 1252,
    "start_time": "2022-06-23T20:27:26.445Z"
   },
   {
    "duration": 71,
    "start_time": "2022-06-23T20:27:27.699Z"
   },
   {
    "duration": 3,
    "start_time": "2022-06-23T20:27:27.772Z"
   },
   {
    "duration": 18,
    "start_time": "2022-06-23T20:27:27.776Z"
   },
   {
    "duration": 10,
    "start_time": "2022-06-23T20:27:27.795Z"
   },
   {
    "duration": 177,
    "start_time": "2022-06-23T20:27:27.807Z"
   },
   {
    "duration": 139,
    "start_time": "2022-06-23T20:27:27.985Z"
   },
   {
    "duration": 5,
    "start_time": "2022-06-23T20:27:28.126Z"
   },
   {
    "duration": 66,
    "start_time": "2022-06-23T20:27:28.132Z"
   },
   {
    "duration": 6,
    "start_time": "2022-06-23T20:27:28.200Z"
   },
   {
    "duration": 6,
    "start_time": "2022-06-23T20:27:28.207Z"
   },
   {
    "duration": 8,
    "start_time": "2022-06-23T20:27:28.215Z"
   },
   {
    "duration": 167,
    "start_time": "2022-06-23T20:27:28.224Z"
   },
   {
    "duration": 111,
    "start_time": "2022-06-23T20:27:28.392Z"
   },
   {
    "duration": 26,
    "start_time": "2022-06-23T20:27:28.505Z"
   },
   {
    "duration": 5,
    "start_time": "2022-06-23T20:27:28.532Z"
   },
   {
    "duration": 7,
    "start_time": "2022-06-23T20:27:28.539Z"
   },
   {
    "duration": 295,
    "start_time": "2022-06-23T20:27:28.547Z"
   },
   {
    "duration": 203,
    "start_time": "2022-06-23T20:27:28.844Z"
   },
   {
    "duration": 354,
    "start_time": "2022-06-23T20:27:29.048Z"
   },
   {
    "duration": 226,
    "start_time": "2022-06-23T20:27:29.403Z"
   },
   {
    "duration": 333,
    "start_time": "2022-06-23T20:27:29.630Z"
   },
   {
    "duration": 293,
    "start_time": "2022-06-23T20:27:29.965Z"
   },
   {
    "duration": 144,
    "start_time": "2022-06-23T20:27:30.259Z"
   },
   {
    "duration": 5,
    "start_time": "2022-06-23T20:27:30.404Z"
   },
   {
    "duration": 185,
    "start_time": "2022-06-23T20:27:30.410Z"
   },
   {
    "duration": 5,
    "start_time": "2022-06-23T20:27:30.597Z"
   },
   {
    "duration": 336,
    "start_time": "2022-06-23T20:27:30.605Z"
   },
   {
    "duration": 150,
    "start_time": "2022-06-23T20:27:30.943Z"
   },
   {
    "duration": 7,
    "start_time": "2022-06-23T20:27:31.095Z"
   },
   {
    "duration": 8,
    "start_time": "2022-06-23T20:27:31.103Z"
   },
   {
    "duration": 36,
    "start_time": "2022-06-23T20:27:31.113Z"
   },
   {
    "duration": 11,
    "start_time": "2022-06-23T20:27:31.151Z"
   },
   {
    "duration": 20,
    "start_time": "2022-06-23T20:27:31.163Z"
   },
   {
    "duration": 21,
    "start_time": "2022-06-23T20:27:31.185Z"
   },
   {
    "duration": 33,
    "start_time": "2022-06-23T20:27:31.208Z"
   },
   {
    "duration": 9,
    "start_time": "2022-06-23T20:27:31.244Z"
   },
   {
    "duration": 5,
    "start_time": "2022-06-23T20:31:58.325Z"
   },
   {
    "duration": 5,
    "start_time": "2022-06-23T20:32:10.550Z"
   },
   {
    "duration": 6,
    "start_time": "2022-06-23T20:32:20.970Z"
   },
   {
    "duration": 4,
    "start_time": "2022-06-23T20:32:25.162Z"
   },
   {
    "duration": 6,
    "start_time": "2022-06-23T20:44:36.640Z"
   },
   {
    "duration": 4,
    "start_time": "2022-06-23T20:46:59.253Z"
   },
   {
    "duration": 5,
    "start_time": "2022-06-23T20:49:27.371Z"
   },
   {
    "duration": 210,
    "start_time": "2022-06-23T20:55:12.172Z"
   },
   {
    "duration": 111,
    "start_time": "2022-06-23T20:55:21.343Z"
   },
   {
    "duration": 110,
    "start_time": "2022-06-23T20:55:53.787Z"
   },
   {
    "duration": 189,
    "start_time": "2022-06-23T21:00:12.012Z"
   },
   {
    "duration": 132,
    "start_time": "2022-06-23T21:01:00.794Z"
   },
   {
    "duration": 139,
    "start_time": "2022-06-23T21:01:10.915Z"
   },
   {
    "duration": 138,
    "start_time": "2022-06-23T21:02:13.393Z"
   },
   {
    "duration": 170,
    "start_time": "2022-06-23T21:02:52.367Z"
   },
   {
    "duration": 116,
    "start_time": "2022-06-23T21:03:34.950Z"
   },
   {
    "duration": 139,
    "start_time": "2022-06-23T21:04:10.644Z"
   },
   {
    "duration": 137,
    "start_time": "2022-06-23T21:04:25.869Z"
   },
   {
    "duration": 225,
    "start_time": "2022-06-23T21:05:46.144Z"
   },
   {
    "duration": 16,
    "start_time": "2022-06-23T21:13:03.805Z"
   },
   {
    "duration": 5,
    "start_time": "2022-06-23T21:14:54.671Z"
   },
   {
    "duration": 5,
    "start_time": "2022-06-23T21:15:28.314Z"
   },
   {
    "duration": 5,
    "start_time": "2022-06-23T21:15:45.727Z"
   },
   {
    "duration": 63,
    "start_time": "2022-06-23T21:16:04.886Z"
   },
   {
    "duration": 54,
    "start_time": "2022-06-23T21:16:56.346Z"
   },
   {
    "duration": 10,
    "start_time": "2022-06-23T21:17:12.294Z"
   },
   {
    "duration": 12,
    "start_time": "2022-06-23T21:17:30.583Z"
   },
   {
    "duration": 14,
    "start_time": "2022-06-23T21:18:21.188Z"
   },
   {
    "duration": 14,
    "start_time": "2022-06-23T21:18:38.894Z"
   },
   {
    "duration": 107,
    "start_time": "2022-06-23T21:18:49.557Z"
   },
   {
    "duration": 1153,
    "start_time": "2022-06-23T21:19:58.130Z"
   },
   {
    "duration": 36,
    "start_time": "2022-06-23T21:19:59.285Z"
   },
   {
    "duration": 4,
    "start_time": "2022-06-23T21:19:59.323Z"
   },
   {
    "duration": 17,
    "start_time": "2022-06-23T21:19:59.329Z"
   },
   {
    "duration": 12,
    "start_time": "2022-06-23T21:19:59.348Z"
   },
   {
    "duration": 211,
    "start_time": "2022-06-23T21:19:59.362Z"
   },
   {
    "duration": 56,
    "start_time": "2022-06-23T21:19:59.575Z"
   },
   {
    "duration": 5,
    "start_time": "2022-06-23T21:19:59.632Z"
   },
   {
    "duration": 33,
    "start_time": "2022-06-23T21:19:59.639Z"
   },
   {
    "duration": 8,
    "start_time": "2022-06-23T21:19:59.675Z"
   },
   {
    "duration": 7,
    "start_time": "2022-06-23T21:19:59.685Z"
   },
   {
    "duration": 8,
    "start_time": "2022-06-23T21:19:59.694Z"
   },
   {
    "duration": 196,
    "start_time": "2022-06-23T21:19:59.705Z"
   },
   {
    "duration": 137,
    "start_time": "2022-06-23T21:19:59.904Z"
   },
   {
    "duration": 16,
    "start_time": "2022-06-23T21:20:00.043Z"
   },
   {
    "duration": 14,
    "start_time": "2022-06-23T21:20:00.061Z"
   },
   {
    "duration": 19,
    "start_time": "2022-06-23T21:20:00.077Z"
   },
   {
    "duration": 308,
    "start_time": "2022-06-23T21:20:00.098Z"
   },
   {
    "duration": 226,
    "start_time": "2022-06-23T21:20:00.408Z"
   },
   {
    "duration": 319,
    "start_time": "2022-06-23T21:20:00.635Z"
   },
   {
    "duration": 252,
    "start_time": "2022-06-23T21:20:00.956Z"
   },
   {
    "duration": 406,
    "start_time": "2022-06-23T21:20:01.210Z"
   },
   {
    "duration": 289,
    "start_time": "2022-06-23T21:20:01.618Z"
   },
   {
    "duration": 142,
    "start_time": "2022-06-23T21:20:01.908Z"
   },
   {
    "duration": 5,
    "start_time": "2022-06-23T21:20:02.052Z"
   },
   {
    "duration": 200,
    "start_time": "2022-06-23T21:20:02.060Z"
   },
   {
    "duration": 255,
    "start_time": "2022-06-23T21:20:02.262Z"
   },
   {
    "duration": 7,
    "start_time": "2022-06-23T21:20:02.523Z"
   },
   {
    "duration": 262,
    "start_time": "2022-06-23T21:20:02.533Z"
   },
   {
    "duration": 137,
    "start_time": "2022-06-23T21:20:02.797Z"
   },
   {
    "duration": 7,
    "start_time": "2022-06-23T21:20:02.936Z"
   },
   {
    "duration": 27,
    "start_time": "2022-06-23T21:20:02.945Z"
   },
   {
    "duration": 43,
    "start_time": "2022-06-23T21:20:02.973Z"
   },
   {
    "duration": 9,
    "start_time": "2022-06-23T21:20:03.017Z"
   },
   {
    "duration": 29,
    "start_time": "2022-06-23T21:20:03.028Z"
   },
   {
    "duration": 53,
    "start_time": "2022-06-23T21:20:03.060Z"
   },
   {
    "duration": 52,
    "start_time": "2022-06-23T21:20:03.115Z"
   },
   {
    "duration": 11,
    "start_time": "2022-06-23T21:20:03.169Z"
   }
  ],
  "kernelspec": {
   "display_name": "Python 3 (ipykernel)",
   "language": "python",
   "name": "python3"
  },
  "language_info": {
   "codemirror_mode": {
    "name": "ipython",
    "version": 3
   },
   "file_extension": ".py",
   "mimetype": "text/x-python",
   "name": "python",
   "nbconvert_exporter": "python",
   "pygments_lexer": "ipython3",
   "version": "3.9.5"
  },
  "toc": {
   "base_numbering": 1,
   "nav_menu": {},
   "number_sections": true,
   "sideBar": true,
   "skip_h1_title": true,
   "title_cell": "Table of Contents",
   "title_sidebar": "Contents",
   "toc_cell": false,
   "toc_position": {
    "height": "calc(100% - 180px)",
    "left": "10px",
    "top": "150px",
    "width": "288.297px"
   },
   "toc_section_display": true,
   "toc_window_display": true
  }
 },
 "nbformat": 4,
 "nbformat_minor": 2
}
