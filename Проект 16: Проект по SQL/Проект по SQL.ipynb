{
 "cells": [
  {
   "cell_type": "markdown",
   "metadata": {
    "toc": true
   },
   "source": [
    "<h1>Table of Contents<span class=\"tocSkip\"></span></h1>\n",
    "<div class=\"toc\"><ul class=\"toc-item\"><li><span><a href=\"#Проект-по-SQL-—-сервис-для-чтения-книг-по-подписке\" data-toc-modified-id=\"Проект-по-SQL-—-сервис-для-чтения-книг-по-подписке-1\">Проект по SQL — сервис для чтения книг по подписке</a></span><ul class=\"toc-item\"><li><span><a href=\"#Подключение-к-БД-и-получение-данных\" data-toc-modified-id=\"Подключение-к-БД-и-получение-данных-1.1\">Подключение к БД и получение данных</a></span></li><li><span><a href=\"#Анализ-данных\" data-toc-modified-id=\"Анализ-данных-1.2\">Анализ данных</a></span><ul class=\"toc-item\"><li><span><a href=\"#Посчитайте,-сколько-книг-вышло-после-1-января-2000-года\" data-toc-modified-id=\"Посчитайте,-сколько-книг-вышло-после-1-января-2000-года-1.2.1\">Посчитайте, сколько книг вышло после 1 января 2000 года</a></span></li><li><span><a href=\"#Для-каждой-книги-посчитайте-количество-обзоров-и-среднюю-оценку\" data-toc-modified-id=\"Для-каждой-книги-посчитайте-количество-обзоров-и-среднюю-оценку-1.2.2\">Для каждой книги посчитайте количество обзоров и среднюю оценку</a></span></li><li><span><a href=\"#Определите-издательство,-которое-выпустило-наибольшее-число-книг-толще-50-страниц-—-так-вы-исключите-из-анализа-брошюры\" data-toc-modified-id=\"Определите-издательство,-которое-выпустило-наибольшее-число-книг-толще-50-страниц-—-так-вы-исключите-из-анализа-брошюры-1.2.3\">Определите издательство, которое выпустило наибольшее число книг толще 50 страниц — так вы исключите из анализа брошюры</a></span></li><li><span><a href=\"#Определите-автора-с-самой-высокой-средней-оценкой-книг-—-учитывайте-только-книги-с-50-и-более-оценками\" data-toc-modified-id=\"Определите-автора-с-самой-высокой-средней-оценкой-книг-—-учитывайте-только-книги-с-50-и-более-оценками-1.2.4\">Определите автора с самой высокой средней оценкой книг — учитывайте только книги с 50 и более оценками</a></span></li><li><span><a href=\"#Посчитайте-среднее-количество-обзоров-от-пользователей,-которые-поставили-больше-50-оценок.\" data-toc-modified-id=\"Посчитайте-среднее-количество-обзоров-от-пользователей,-которые-поставили-больше-50-оценок.-1.2.5\">Посчитайте среднее количество обзоров от пользователей, которые поставили больше 50 оценок.</a></span></li><li><span><a href=\"#Общий-вывод\" data-toc-modified-id=\"Общий-вывод-1.2.6\">Общий вывод</a></span></li></ul></li></ul></li></ul></div>"
   ]
  },
  {
   "cell_type": "markdown",
   "metadata": {},
   "source": [
    "# Проект по SQL — сервис для чтения книг по подписке"
   ]
  },
  {
   "cell_type": "markdown",
   "metadata": {},
   "source": [
    "Задача — проанализировать базу данных крупного сервиса для чтения книг по подписке для формулирования ценностного предложения для нового продукта. В базе данных представлена информация о книгах, издательствах, авторах, а также пользовательские обзоры книг. \n",
    "\n",
    "Необходимо будет решить следующие задачи:\n",
    "- посчитать, сколько книг вышло после 1 января 2000 года;\n",
    "- для каждой книги посчитать количество обзоров и среднюю оценку;\n",
    "- определить издательство, которое выпустило наибольшее число книг толще 50 страниц;\n",
    "- определить автора с самой высокой средней оценкой книг;\n",
    "- посчитать среднее количество обзоров от пользователей, которые поставили больше 50 оценок.\n",
    "\n",
    "*В работе необходимо использовать только язык запросов SQL. Pandas допускается только для хранения и вывода результатов.*"
   ]
  },
  {
   "cell_type": "markdown",
   "metadata": {},
   "source": [
    "## Подключение к БД и получение данных"
   ]
  },
  {
   "cell_type": "code",
   "execution_count": 1,
   "metadata": {},
   "outputs": [],
   "source": [
    "# импорт библиотек:\n",
    "import pandas as pd\n",
    "from sqlalchemy import create_engine\n",
    "import datetime as dt  \n",
    "\n",
    "# устанавка параметров:\n",
    "db_config = {'user': 'praktikum_student', # имя пользователя\n",
    "             'pwd': 'Sdf4$2;d-d30pp', # пароль\n",
    "             'host': 'rc1b-wcoijxj3yxfsf3fs.mdb.yandexcloud.net',\n",
    "             'port': 6432, # порт подключения\n",
    "             'db': 'data-analyst-final-project-db'} # название базы данных\n",
    "\n",
    "connection_string = 'postgresql://{}:{}@{}:{}/{}'.format(db_config['user'],\n",
    "                                                         db_config['pwd'],\n",
    "                                                         db_config['host'],\n",
    "                                                         db_config['port'],\n",
    "                                                         db_config['db'])\n",
    "\n",
    "# сохранение коннектора:\n",
    "engine = create_engine(connection_string, connect_args={'sslmode':'require'})"
   ]
  },
  {
   "cell_type": "code",
   "execution_count": 2,
   "metadata": {
    "scrolled": true
   },
   "outputs": [
    {
     "data": {
      "text/html": [
       "<div>\n",
       "<style scoped>\n",
       "    .dataframe tbody tr th:only-of-type {\n",
       "        vertical-align: middle;\n",
       "    }\n",
       "\n",
       "    .dataframe tbody tr th {\n",
       "        vertical-align: top;\n",
       "    }\n",
       "\n",
       "    .dataframe thead th {\n",
       "        text-align: right;\n",
       "    }\n",
       "</style>\n",
       "<table border=\"1\" class=\"dataframe\">\n",
       "  <thead>\n",
       "    <tr style=\"text-align: right;\">\n",
       "      <th></th>\n",
       "      <th>book_id</th>\n",
       "      <th>author_id</th>\n",
       "      <th>title</th>\n",
       "      <th>num_pages</th>\n",
       "      <th>publication_date</th>\n",
       "      <th>publisher_id</th>\n",
       "    </tr>\n",
       "  </thead>\n",
       "  <tbody>\n",
       "    <tr>\n",
       "      <th>0</th>\n",
       "      <td>1</td>\n",
       "      <td>546</td>\n",
       "      <td>'Salem's Lot</td>\n",
       "      <td>594</td>\n",
       "      <td>2005-11-01</td>\n",
       "      <td>93</td>\n",
       "    </tr>\n",
       "    <tr>\n",
       "      <th>1</th>\n",
       "      <td>2</td>\n",
       "      <td>465</td>\n",
       "      <td>1 000 Places to See Before You Die</td>\n",
       "      <td>992</td>\n",
       "      <td>2003-05-22</td>\n",
       "      <td>336</td>\n",
       "    </tr>\n",
       "    <tr>\n",
       "      <th>2</th>\n",
       "      <td>3</td>\n",
       "      <td>407</td>\n",
       "      <td>13 Little Blue Envelopes (Little Blue Envelope...</td>\n",
       "      <td>322</td>\n",
       "      <td>2010-12-21</td>\n",
       "      <td>135</td>\n",
       "    </tr>\n",
       "    <tr>\n",
       "      <th>3</th>\n",
       "      <td>4</td>\n",
       "      <td>82</td>\n",
       "      <td>1491: New Revelations of the Americas Before C...</td>\n",
       "      <td>541</td>\n",
       "      <td>2006-10-10</td>\n",
       "      <td>309</td>\n",
       "    </tr>\n",
       "    <tr>\n",
       "      <th>4</th>\n",
       "      <td>5</td>\n",
       "      <td>125</td>\n",
       "      <td>1776</td>\n",
       "      <td>386</td>\n",
       "      <td>2006-07-04</td>\n",
       "      <td>268</td>\n",
       "    </tr>\n",
       "    <tr>\n",
       "      <th>...</th>\n",
       "      <td>...</td>\n",
       "      <td>...</td>\n",
       "      <td>...</td>\n",
       "      <td>...</td>\n",
       "      <td>...</td>\n",
       "      <td>...</td>\n",
       "    </tr>\n",
       "    <tr>\n",
       "      <th>995</th>\n",
       "      <td>996</td>\n",
       "      <td>571</td>\n",
       "      <td>Wyrd Sisters (Discworld  #6; Witches #2)</td>\n",
       "      <td>265</td>\n",
       "      <td>2001-02-06</td>\n",
       "      <td>147</td>\n",
       "    </tr>\n",
       "    <tr>\n",
       "      <th>996</th>\n",
       "      <td>997</td>\n",
       "      <td>454</td>\n",
       "      <td>Xenocide (Ender's Saga  #3)</td>\n",
       "      <td>592</td>\n",
       "      <td>1996-07-15</td>\n",
       "      <td>297</td>\n",
       "    </tr>\n",
       "    <tr>\n",
       "      <th>997</th>\n",
       "      <td>998</td>\n",
       "      <td>201</td>\n",
       "      <td>Year of Wonders</td>\n",
       "      <td>358</td>\n",
       "      <td>2002-04-30</td>\n",
       "      <td>212</td>\n",
       "    </tr>\n",
       "    <tr>\n",
       "      <th>998</th>\n",
       "      <td>999</td>\n",
       "      <td>94</td>\n",
       "      <td>You Suck (A Love Story  #2)</td>\n",
       "      <td>328</td>\n",
       "      <td>2007-01-16</td>\n",
       "      <td>331</td>\n",
       "    </tr>\n",
       "    <tr>\n",
       "      <th>999</th>\n",
       "      <td>1000</td>\n",
       "      <td>509</td>\n",
       "      <td>Zen and the Art of Motorcycle Maintenance: An ...</td>\n",
       "      <td>540</td>\n",
       "      <td>2006-04-25</td>\n",
       "      <td>143</td>\n",
       "    </tr>\n",
       "  </tbody>\n",
       "</table>\n",
       "<p>1000 rows × 6 columns</p>\n",
       "</div>"
      ],
      "text/plain": [
       "     book_id  author_id                                              title  \\\n",
       "0          1        546                                       'Salem's Lot   \n",
       "1          2        465                 1 000 Places to See Before You Die   \n",
       "2          3        407  13 Little Blue Envelopes (Little Blue Envelope...   \n",
       "3          4         82  1491: New Revelations of the Americas Before C...   \n",
       "4          5        125                                               1776   \n",
       "..       ...        ...                                                ...   \n",
       "995      996        571           Wyrd Sisters (Discworld  #6; Witches #2)   \n",
       "996      997        454                        Xenocide (Ender's Saga  #3)   \n",
       "997      998        201                                    Year of Wonders   \n",
       "998      999         94                        You Suck (A Love Story  #2)   \n",
       "999     1000        509  Zen and the Art of Motorcycle Maintenance: An ...   \n",
       "\n",
       "     num_pages publication_date  publisher_id  \n",
       "0          594       2005-11-01            93  \n",
       "1          992       2003-05-22           336  \n",
       "2          322       2010-12-21           135  \n",
       "3          541       2006-10-10           309  \n",
       "4          386       2006-07-04           268  \n",
       "..         ...              ...           ...  \n",
       "995        265       2001-02-06           147  \n",
       "996        592       1996-07-15           297  \n",
       "997        358       2002-04-30           212  \n",
       "998        328       2007-01-16           331  \n",
       "999        540       2006-04-25           143  \n",
       "\n",
       "[1000 rows x 6 columns]"
      ]
     },
     "metadata": {},
     "output_type": "display_data"
    },
    {
     "data": {
      "text/html": [
       "<div>\n",
       "<style scoped>\n",
       "    .dataframe tbody tr th:only-of-type {\n",
       "        vertical-align: middle;\n",
       "    }\n",
       "\n",
       "    .dataframe tbody tr th {\n",
       "        vertical-align: top;\n",
       "    }\n",
       "\n",
       "    .dataframe thead th {\n",
       "        text-align: right;\n",
       "    }\n",
       "</style>\n",
       "<table border=\"1\" class=\"dataframe\">\n",
       "  <thead>\n",
       "    <tr style=\"text-align: right;\">\n",
       "      <th></th>\n",
       "      <th>author_id</th>\n",
       "      <th>author</th>\n",
       "    </tr>\n",
       "  </thead>\n",
       "  <tbody>\n",
       "    <tr>\n",
       "      <th>0</th>\n",
       "      <td>1</td>\n",
       "      <td>A.S. Byatt</td>\n",
       "    </tr>\n",
       "    <tr>\n",
       "      <th>1</th>\n",
       "      <td>2</td>\n",
       "      <td>Aesop/Laura Harris/Laura Gibbs</td>\n",
       "    </tr>\n",
       "    <tr>\n",
       "      <th>2</th>\n",
       "      <td>3</td>\n",
       "      <td>Agatha Christie</td>\n",
       "    </tr>\n",
       "    <tr>\n",
       "      <th>3</th>\n",
       "      <td>4</td>\n",
       "      <td>Alan Brennert</td>\n",
       "    </tr>\n",
       "    <tr>\n",
       "      <th>4</th>\n",
       "      <td>5</td>\n",
       "      <td>Alan Moore/David   Lloyd</td>\n",
       "    </tr>\n",
       "    <tr>\n",
       "      <th>...</th>\n",
       "      <td>...</td>\n",
       "      <td>...</td>\n",
       "    </tr>\n",
       "    <tr>\n",
       "      <th>631</th>\n",
       "      <td>632</td>\n",
       "      <td>William Strunk Jr./E.B. White</td>\n",
       "    </tr>\n",
       "    <tr>\n",
       "      <th>632</th>\n",
       "      <td>633</td>\n",
       "      <td>Zadie Smith</td>\n",
       "    </tr>\n",
       "    <tr>\n",
       "      <th>633</th>\n",
       "      <td>634</td>\n",
       "      <td>Zilpha Keatley Snyder</td>\n",
       "    </tr>\n",
       "    <tr>\n",
       "      <th>634</th>\n",
       "      <td>635</td>\n",
       "      <td>Zora Neale Hurston</td>\n",
       "    </tr>\n",
       "    <tr>\n",
       "      <th>635</th>\n",
       "      <td>636</td>\n",
       "      <td>Åsne Seierstad/Ingrid Christopherson</td>\n",
       "    </tr>\n",
       "  </tbody>\n",
       "</table>\n",
       "<p>636 rows × 2 columns</p>\n",
       "</div>"
      ],
      "text/plain": [
       "     author_id                                author\n",
       "0            1                            A.S. Byatt\n",
       "1            2        Aesop/Laura Harris/Laura Gibbs\n",
       "2            3                       Agatha Christie\n",
       "3            4                         Alan Brennert\n",
       "4            5              Alan Moore/David   Lloyd\n",
       "..         ...                                   ...\n",
       "631        632         William Strunk Jr./E.B. White\n",
       "632        633                           Zadie Smith\n",
       "633        634                 Zilpha Keatley Snyder\n",
       "634        635                    Zora Neale Hurston\n",
       "635        636  Åsne Seierstad/Ingrid Christopherson\n",
       "\n",
       "[636 rows x 2 columns]"
      ]
     },
     "metadata": {},
     "output_type": "display_data"
    },
    {
     "data": {
      "text/html": [
       "<div>\n",
       "<style scoped>\n",
       "    .dataframe tbody tr th:only-of-type {\n",
       "        vertical-align: middle;\n",
       "    }\n",
       "\n",
       "    .dataframe tbody tr th {\n",
       "        vertical-align: top;\n",
       "    }\n",
       "\n",
       "    .dataframe thead th {\n",
       "        text-align: right;\n",
       "    }\n",
       "</style>\n",
       "<table border=\"1\" class=\"dataframe\">\n",
       "  <thead>\n",
       "    <tr style=\"text-align: right;\">\n",
       "      <th></th>\n",
       "      <th>publisher_id</th>\n",
       "      <th>publisher</th>\n",
       "    </tr>\n",
       "  </thead>\n",
       "  <tbody>\n",
       "    <tr>\n",
       "      <th>0</th>\n",
       "      <td>1</td>\n",
       "      <td>Ace</td>\n",
       "    </tr>\n",
       "    <tr>\n",
       "      <th>1</th>\n",
       "      <td>2</td>\n",
       "      <td>Ace Book</td>\n",
       "    </tr>\n",
       "    <tr>\n",
       "      <th>2</th>\n",
       "      <td>3</td>\n",
       "      <td>Ace Books</td>\n",
       "    </tr>\n",
       "    <tr>\n",
       "      <th>3</th>\n",
       "      <td>4</td>\n",
       "      <td>Ace Hardcover</td>\n",
       "    </tr>\n",
       "    <tr>\n",
       "      <th>4</th>\n",
       "      <td>5</td>\n",
       "      <td>Addison Wesley Publishing Company</td>\n",
       "    </tr>\n",
       "    <tr>\n",
       "      <th>...</th>\n",
       "      <td>...</td>\n",
       "      <td>...</td>\n",
       "    </tr>\n",
       "    <tr>\n",
       "      <th>335</th>\n",
       "      <td>336</td>\n",
       "      <td>Workman Publishing Company</td>\n",
       "    </tr>\n",
       "    <tr>\n",
       "      <th>336</th>\n",
       "      <td>337</td>\n",
       "      <td>Wyatt Book</td>\n",
       "    </tr>\n",
       "    <tr>\n",
       "      <th>337</th>\n",
       "      <td>338</td>\n",
       "      <td>Yale University Press</td>\n",
       "    </tr>\n",
       "    <tr>\n",
       "      <th>338</th>\n",
       "      <td>339</td>\n",
       "      <td>Yearling</td>\n",
       "    </tr>\n",
       "    <tr>\n",
       "      <th>339</th>\n",
       "      <td>340</td>\n",
       "      <td>Yearling Books</td>\n",
       "    </tr>\n",
       "  </tbody>\n",
       "</table>\n",
       "<p>340 rows × 2 columns</p>\n",
       "</div>"
      ],
      "text/plain": [
       "     publisher_id                          publisher\n",
       "0               1                                Ace\n",
       "1               2                           Ace Book\n",
       "2               3                          Ace Books\n",
       "3               4                      Ace Hardcover\n",
       "4               5  Addison Wesley Publishing Company\n",
       "..            ...                                ...\n",
       "335           336         Workman Publishing Company\n",
       "336           337                         Wyatt Book\n",
       "337           338              Yale University Press\n",
       "338           339                           Yearling\n",
       "339           340                     Yearling Books\n",
       "\n",
       "[340 rows x 2 columns]"
      ]
     },
     "metadata": {},
     "output_type": "display_data"
    },
    {
     "data": {
      "text/html": [
       "<div>\n",
       "<style scoped>\n",
       "    .dataframe tbody tr th:only-of-type {\n",
       "        vertical-align: middle;\n",
       "    }\n",
       "\n",
       "    .dataframe tbody tr th {\n",
       "        vertical-align: top;\n",
       "    }\n",
       "\n",
       "    .dataframe thead th {\n",
       "        text-align: right;\n",
       "    }\n",
       "</style>\n",
       "<table border=\"1\" class=\"dataframe\">\n",
       "  <thead>\n",
       "    <tr style=\"text-align: right;\">\n",
       "      <th></th>\n",
       "      <th>rating_id</th>\n",
       "      <th>book_id</th>\n",
       "      <th>username</th>\n",
       "      <th>rating</th>\n",
       "    </tr>\n",
       "  </thead>\n",
       "  <tbody>\n",
       "    <tr>\n",
       "      <th>0</th>\n",
       "      <td>1</td>\n",
       "      <td>1</td>\n",
       "      <td>ryanfranco</td>\n",
       "      <td>4</td>\n",
       "    </tr>\n",
       "    <tr>\n",
       "      <th>1</th>\n",
       "      <td>2</td>\n",
       "      <td>1</td>\n",
       "      <td>grantpatricia</td>\n",
       "      <td>2</td>\n",
       "    </tr>\n",
       "    <tr>\n",
       "      <th>2</th>\n",
       "      <td>3</td>\n",
       "      <td>1</td>\n",
       "      <td>brandtandrea</td>\n",
       "      <td>5</td>\n",
       "    </tr>\n",
       "    <tr>\n",
       "      <th>3</th>\n",
       "      <td>4</td>\n",
       "      <td>2</td>\n",
       "      <td>lorichen</td>\n",
       "      <td>3</td>\n",
       "    </tr>\n",
       "    <tr>\n",
       "      <th>4</th>\n",
       "      <td>5</td>\n",
       "      <td>2</td>\n",
       "      <td>mariokeller</td>\n",
       "      <td>2</td>\n",
       "    </tr>\n",
       "    <tr>\n",
       "      <th>...</th>\n",
       "      <td>...</td>\n",
       "      <td>...</td>\n",
       "      <td>...</td>\n",
       "      <td>...</td>\n",
       "    </tr>\n",
       "    <tr>\n",
       "      <th>6451</th>\n",
       "      <td>6452</td>\n",
       "      <td>1000</td>\n",
       "      <td>carolrodriguez</td>\n",
       "      <td>4</td>\n",
       "    </tr>\n",
       "    <tr>\n",
       "      <th>6452</th>\n",
       "      <td>6453</td>\n",
       "      <td>1000</td>\n",
       "      <td>wendy18</td>\n",
       "      <td>4</td>\n",
       "    </tr>\n",
       "    <tr>\n",
       "      <th>6453</th>\n",
       "      <td>6454</td>\n",
       "      <td>1000</td>\n",
       "      <td>jarvispaul</td>\n",
       "      <td>5</td>\n",
       "    </tr>\n",
       "    <tr>\n",
       "      <th>6454</th>\n",
       "      <td>6455</td>\n",
       "      <td>1000</td>\n",
       "      <td>zross</td>\n",
       "      <td>2</td>\n",
       "    </tr>\n",
       "    <tr>\n",
       "      <th>6455</th>\n",
       "      <td>6456</td>\n",
       "      <td>1000</td>\n",
       "      <td>fharris</td>\n",
       "      <td>5</td>\n",
       "    </tr>\n",
       "  </tbody>\n",
       "</table>\n",
       "<p>6456 rows × 4 columns</p>\n",
       "</div>"
      ],
      "text/plain": [
       "      rating_id  book_id        username  rating\n",
       "0             1        1      ryanfranco       4\n",
       "1             2        1   grantpatricia       2\n",
       "2             3        1    brandtandrea       5\n",
       "3             4        2        lorichen       3\n",
       "4             5        2     mariokeller       2\n",
       "...         ...      ...             ...     ...\n",
       "6451       6452     1000  carolrodriguez       4\n",
       "6452       6453     1000         wendy18       4\n",
       "6453       6454     1000      jarvispaul       5\n",
       "6454       6455     1000           zross       2\n",
       "6455       6456     1000         fharris       5\n",
       "\n",
       "[6456 rows x 4 columns]"
      ]
     },
     "metadata": {},
     "output_type": "display_data"
    },
    {
     "data": {
      "text/html": [
       "<div>\n",
       "<style scoped>\n",
       "    .dataframe tbody tr th:only-of-type {\n",
       "        vertical-align: middle;\n",
       "    }\n",
       "\n",
       "    .dataframe tbody tr th {\n",
       "        vertical-align: top;\n",
       "    }\n",
       "\n",
       "    .dataframe thead th {\n",
       "        text-align: right;\n",
       "    }\n",
       "</style>\n",
       "<table border=\"1\" class=\"dataframe\">\n",
       "  <thead>\n",
       "    <tr style=\"text-align: right;\">\n",
       "      <th></th>\n",
       "      <th>review_id</th>\n",
       "      <th>book_id</th>\n",
       "      <th>username</th>\n",
       "      <th>text</th>\n",
       "    </tr>\n",
       "  </thead>\n",
       "  <tbody>\n",
       "    <tr>\n",
       "      <th>0</th>\n",
       "      <td>1</td>\n",
       "      <td>1</td>\n",
       "      <td>brandtandrea</td>\n",
       "      <td>Mention society tell send professor analysis. ...</td>\n",
       "    </tr>\n",
       "    <tr>\n",
       "      <th>1</th>\n",
       "      <td>2</td>\n",
       "      <td>1</td>\n",
       "      <td>ryanfranco</td>\n",
       "      <td>Foot glass pretty audience hit themselves. Amo...</td>\n",
       "    </tr>\n",
       "    <tr>\n",
       "      <th>2</th>\n",
       "      <td>3</td>\n",
       "      <td>2</td>\n",
       "      <td>lorichen</td>\n",
       "      <td>Listen treat keep worry. Miss husband tax but ...</td>\n",
       "    </tr>\n",
       "    <tr>\n",
       "      <th>3</th>\n",
       "      <td>4</td>\n",
       "      <td>3</td>\n",
       "      <td>johnsonamanda</td>\n",
       "      <td>Finally month interesting blue could nature cu...</td>\n",
       "    </tr>\n",
       "    <tr>\n",
       "      <th>4</th>\n",
       "      <td>5</td>\n",
       "      <td>3</td>\n",
       "      <td>scotttamara</td>\n",
       "      <td>Nation purpose heavy give wait song will. List...</td>\n",
       "    </tr>\n",
       "    <tr>\n",
       "      <th>...</th>\n",
       "      <td>...</td>\n",
       "      <td>...</td>\n",
       "      <td>...</td>\n",
       "      <td>...</td>\n",
       "    </tr>\n",
       "    <tr>\n",
       "      <th>2788</th>\n",
       "      <td>2789</td>\n",
       "      <td>999</td>\n",
       "      <td>martinadam</td>\n",
       "      <td>Later hospital turn easy community. Fact same ...</td>\n",
       "    </tr>\n",
       "    <tr>\n",
       "      <th>2789</th>\n",
       "      <td>2790</td>\n",
       "      <td>1000</td>\n",
       "      <td>wknight</td>\n",
       "      <td>Change lose answer close pressure. Spend so now.</td>\n",
       "    </tr>\n",
       "    <tr>\n",
       "      <th>2790</th>\n",
       "      <td>2791</td>\n",
       "      <td>1000</td>\n",
       "      <td>carolrodriguez</td>\n",
       "      <td>Authority go who television entire hair guy po...</td>\n",
       "    </tr>\n",
       "    <tr>\n",
       "      <th>2791</th>\n",
       "      <td>2792</td>\n",
       "      <td>1000</td>\n",
       "      <td>wendy18</td>\n",
       "      <td>Or western offer wonder ask. More hear phone f...</td>\n",
       "    </tr>\n",
       "    <tr>\n",
       "      <th>2792</th>\n",
       "      <td>2793</td>\n",
       "      <td>1000</td>\n",
       "      <td>jarvispaul</td>\n",
       "      <td>Republican staff bit eat material measure plan...</td>\n",
       "    </tr>\n",
       "  </tbody>\n",
       "</table>\n",
       "<p>2793 rows × 4 columns</p>\n",
       "</div>"
      ],
      "text/plain": [
       "      review_id  book_id        username  \\\n",
       "0             1        1    brandtandrea   \n",
       "1             2        1      ryanfranco   \n",
       "2             3        2        lorichen   \n",
       "3             4        3   johnsonamanda   \n",
       "4             5        3     scotttamara   \n",
       "...         ...      ...             ...   \n",
       "2788       2789      999      martinadam   \n",
       "2789       2790     1000         wknight   \n",
       "2790       2791     1000  carolrodriguez   \n",
       "2791       2792     1000         wendy18   \n",
       "2792       2793     1000      jarvispaul   \n",
       "\n",
       "                                                   text  \n",
       "0     Mention society tell send professor analysis. ...  \n",
       "1     Foot glass pretty audience hit themselves. Amo...  \n",
       "2     Listen treat keep worry. Miss husband tax but ...  \n",
       "3     Finally month interesting blue could nature cu...  \n",
       "4     Nation purpose heavy give wait song will. List...  \n",
       "...                                                 ...  \n",
       "2788  Later hospital turn easy community. Fact same ...  \n",
       "2789   Change lose answer close pressure. Spend so now.  \n",
       "2790  Authority go who television entire hair guy po...  \n",
       "2791  Or western offer wonder ask. More hear phone f...  \n",
       "2792  Republican staff bit eat material measure plan...  \n",
       "\n",
       "[2793 rows x 4 columns]"
      ]
     },
     "metadata": {},
     "output_type": "display_data"
    }
   ],
   "source": [
    "a = 'SELECT * FROM books'\n",
    "b = 'SELECT * FROM authors'\n",
    "c = 'SELECT * FROM publishers'\n",
    "d = 'SELECT * FROM ratings'\n",
    "e = 'SELECT * FROM reviews'\n",
    "\n",
    "# Выведем все таблицы через цикл:\n",
    "list = [a, b, c, d, e]\n",
    "for table in list:\n",
    "    display(pd.io.sql.read_sql(table, con = engine))"
   ]
  },
  {
   "cell_type": "markdown",
   "metadata": {},
   "source": [
    "Таблица **books** содержит данные о книгах:\n",
    "- `book_id` — идентификатор книги;\n",
    "- `author_id` — идентификатор автора;\n",
    "- `title` — название книги;\n",
    "- `num_pages` — количество страниц;\n",
    "- `publication_date` — дата публикации книги;\n",
    "- `publisher_id` — идентификатор издателя."
   ]
  },
  {
   "cell_type": "markdown",
   "metadata": {},
   "source": [
    "Таблица **authors** cодержит данные об авторах:\n",
    "- `author_id` — идентификатор автора;\n",
    "- `author` — имя автора."
   ]
  },
  {
   "cell_type": "markdown",
   "metadata": {},
   "source": [
    "Таблица **publishers** cодержит данные об издательствах:\n",
    "- `publisher_id` — идентификатор издательства;\n",
    "- `publisher` — название издательства;\n"
   ]
  },
  {
   "cell_type": "markdown",
   "metadata": {},
   "source": [
    "Таблица **ratings** cодержит данные о пользовательских оценках книг:\n",
    "- `rating_id` — идентификатор оценки;\n",
    "- `book_id` — идентификатор книги;\n",
    "- `username` — имя пользователя, оставившего оценку;\n",
    "- `rating` — оценка книги."
   ]
  },
  {
   "cell_type": "markdown",
   "metadata": {},
   "source": [
    "Таблица **reviews** cодержит данные о пользовательских обзорах:\n",
    "- `review_id` — идентификатор обзора;\n",
    "- `book_id` — идентификатор книги;\n",
    "- `username` — имя автора обзора;\n",
    "- `text` — текст обзора."
   ]
  },
  {
   "cell_type": "markdown",
   "metadata": {},
   "source": [
    "## Анализ данных"
   ]
  },
  {
   "cell_type": "markdown",
   "metadata": {},
   "source": [
    "### Посчитайте, сколько книг вышло после 1 января 2000 года"
   ]
  },
  {
   "cell_type": "code",
   "execution_count": 3,
   "metadata": {},
   "outputs": [
    {
     "data": {
      "text/html": [
       "<div>\n",
       "<style scoped>\n",
       "    .dataframe tbody tr th:only-of-type {\n",
       "        vertical-align: middle;\n",
       "    }\n",
       "\n",
       "    .dataframe tbody tr th {\n",
       "        vertical-align: top;\n",
       "    }\n",
       "\n",
       "    .dataframe thead th {\n",
       "        text-align: right;\n",
       "    }\n",
       "</style>\n",
       "<table border=\"1\" class=\"dataframe\">\n",
       "  <thead>\n",
       "    <tr style=\"text-align: right;\">\n",
       "      <th></th>\n",
       "      <th>count</th>\n",
       "    </tr>\n",
       "  </thead>\n",
       "  <tbody>\n",
       "    <tr>\n",
       "      <th>0</th>\n",
       "      <td>819</td>\n",
       "    </tr>\n",
       "  </tbody>\n",
       "</table>\n",
       "</div>"
      ],
      "text/plain": [
       "   count\n",
       "0    819"
      ]
     },
     "execution_count": 3,
     "metadata": {},
     "output_type": "execute_result"
    }
   ],
   "source": [
    "query = '''\n",
    "\n",
    "SELECT COUNT(DISTINCT(book_id))       \n",
    "FROM books\n",
    "WHERE publication_date > '2000-01-01'\n",
    "\n",
    "'''\n",
    "pd.io.sql.read_sql(query, con = engine) "
   ]
  },
  {
   "cell_type": "markdown",
   "metadata": {},
   "source": [
    "**Вывод**:<br>\n",
    "Видим, что после 1 января 2000 года было опубликовано **819 книг.**"
   ]
  },
  {
   "cell_type": "markdown",
   "metadata": {},
   "source": [
    "### Для каждой книги посчитайте количество обзоров и среднюю оценку"
   ]
  },
  {
   "cell_type": "code",
   "execution_count": 4,
   "metadata": {},
   "outputs": [
    {
     "data": {
      "text/html": [
       "<div>\n",
       "<style scoped>\n",
       "    .dataframe tbody tr th:only-of-type {\n",
       "        vertical-align: middle;\n",
       "    }\n",
       "\n",
       "    .dataframe tbody tr th {\n",
       "        vertical-align: top;\n",
       "    }\n",
       "\n",
       "    .dataframe thead th {\n",
       "        text-align: right;\n",
       "    }\n",
       "</style>\n",
       "<table border=\"1\" class=\"dataframe\">\n",
       "  <thead>\n",
       "    <tr style=\"text-align: right;\">\n",
       "      <th></th>\n",
       "      <th>book_id</th>\n",
       "      <th>title</th>\n",
       "      <th>count_reviews</th>\n",
       "      <th>avg_rating</th>\n",
       "    </tr>\n",
       "  </thead>\n",
       "  <tbody>\n",
       "    <tr>\n",
       "      <th>0</th>\n",
       "      <td>1</td>\n",
       "      <td>'Salem's Lot</td>\n",
       "      <td>2.0</td>\n",
       "      <td>3.666667</td>\n",
       "    </tr>\n",
       "    <tr>\n",
       "      <th>1</th>\n",
       "      <td>2</td>\n",
       "      <td>1 000 Places to See Before You Die</td>\n",
       "      <td>1.0</td>\n",
       "      <td>2.500000</td>\n",
       "    </tr>\n",
       "    <tr>\n",
       "      <th>2</th>\n",
       "      <td>3</td>\n",
       "      <td>13 Little Blue Envelopes (Little Blue Envelope...</td>\n",
       "      <td>3.0</td>\n",
       "      <td>4.666667</td>\n",
       "    </tr>\n",
       "    <tr>\n",
       "      <th>3</th>\n",
       "      <td>4</td>\n",
       "      <td>1491: New Revelations of the Americas Before C...</td>\n",
       "      <td>2.0</td>\n",
       "      <td>4.500000</td>\n",
       "    </tr>\n",
       "    <tr>\n",
       "      <th>4</th>\n",
       "      <td>5</td>\n",
       "      <td>1776</td>\n",
       "      <td>4.0</td>\n",
       "      <td>4.000000</td>\n",
       "    </tr>\n",
       "    <tr>\n",
       "      <th>...</th>\n",
       "      <td>...</td>\n",
       "      <td>...</td>\n",
       "      <td>...</td>\n",
       "      <td>...</td>\n",
       "    </tr>\n",
       "    <tr>\n",
       "      <th>995</th>\n",
       "      <td>672</td>\n",
       "      <td>None</td>\n",
       "      <td>NaN</td>\n",
       "      <td>NaN</td>\n",
       "    </tr>\n",
       "    <tr>\n",
       "      <th>996</th>\n",
       "      <td>83</td>\n",
       "      <td>None</td>\n",
       "      <td>NaN</td>\n",
       "      <td>NaN</td>\n",
       "    </tr>\n",
       "    <tr>\n",
       "      <th>997</th>\n",
       "      <td>221</td>\n",
       "      <td>None</td>\n",
       "      <td>NaN</td>\n",
       "      <td>NaN</td>\n",
       "    </tr>\n",
       "    <tr>\n",
       "      <th>998</th>\n",
       "      <td>387</td>\n",
       "      <td>None</td>\n",
       "      <td>NaN</td>\n",
       "      <td>NaN</td>\n",
       "    </tr>\n",
       "    <tr>\n",
       "      <th>999</th>\n",
       "      <td>808</td>\n",
       "      <td>None</td>\n",
       "      <td>NaN</td>\n",
       "      <td>NaN</td>\n",
       "    </tr>\n",
       "  </tbody>\n",
       "</table>\n",
       "<p>1000 rows × 4 columns</p>\n",
       "</div>"
      ],
      "text/plain": [
       "     book_id                                              title  \\\n",
       "0          1                                       'Salem's Lot   \n",
       "1          2                 1 000 Places to See Before You Die   \n",
       "2          3  13 Little Blue Envelopes (Little Blue Envelope...   \n",
       "3          4  1491: New Revelations of the Americas Before C...   \n",
       "4          5                                               1776   \n",
       "..       ...                                                ...   \n",
       "995      672                                               None   \n",
       "996       83                                               None   \n",
       "997      221                                               None   \n",
       "998      387                                               None   \n",
       "999      808                                               None   \n",
       "\n",
       "     count_reviews  avg_rating  \n",
       "0              2.0    3.666667  \n",
       "1              1.0    2.500000  \n",
       "2              3.0    4.666667  \n",
       "3              2.0    4.500000  \n",
       "4              4.0    4.000000  \n",
       "..             ...         ...  \n",
       "995            NaN         NaN  \n",
       "996            NaN         NaN  \n",
       "997            NaN         NaN  \n",
       "998            NaN         NaN  \n",
       "999            NaN         NaN  \n",
       "\n",
       "[1000 rows x 4 columns]"
      ]
     },
     "execution_count": 4,
     "metadata": {},
     "output_type": "execute_result"
    }
   ],
   "source": [
    "query = '''\n",
    "\n",
    "WITH data AS (\n",
    "\n",
    "SELECT rat.book_id,\n",
    "       b.title, \n",
    "       COUNT(DISTINCT(review_id)) AS count_reviews,\n",
    "       AVG(rating) AS avg_rating     \n",
    "FROM reviews as rev\n",
    "JOIN ratings as rat ON rat.book_id = rev.book_id\n",
    "JOIN books as b ON b.book_id = rat.book_id \n",
    "GROUP BY rat.book_id,\n",
    "         b.title\n",
    ")\n",
    "\n",
    "SELECT b.book_id,\n",
    "       d.title,\n",
    "       d.count_reviews,\n",
    "       d.avg_rating\n",
    "from data AS d\n",
    "RIGHT OUTER JOIN books as b ON b.book_id = d.book_id \n",
    "\n",
    "\n",
    "'''\n",
    "pd.io.sql.read_sql(query, con = engine) "
   ]
  },
  {
   "cell_type": "markdown",
   "metadata": {},
   "source": [
    "**Вывод**:<br>\n",
    "Мы вывели информацию о количестве обзоров и средней оценке для каждой книги."
   ]
  },
  {
   "cell_type": "markdown",
   "metadata": {},
   "source": [
    "### Определите издательство, которое выпустило наибольшее число книг толще 50 страниц — так вы исключите из анализа брошюры"
   ]
  },
  {
   "cell_type": "code",
   "execution_count": 5,
   "metadata": {
    "scrolled": true
   },
   "outputs": [
    {
     "data": {
      "text/html": [
       "<div>\n",
       "<style scoped>\n",
       "    .dataframe tbody tr th:only-of-type {\n",
       "        vertical-align: middle;\n",
       "    }\n",
       "\n",
       "    .dataframe tbody tr th {\n",
       "        vertical-align: top;\n",
       "    }\n",
       "\n",
       "    .dataframe thead th {\n",
       "        text-align: right;\n",
       "    }\n",
       "</style>\n",
       "<table border=\"1\" class=\"dataframe\">\n",
       "  <thead>\n",
       "    <tr style=\"text-align: right;\">\n",
       "      <th></th>\n",
       "      <th>publisher_id</th>\n",
       "      <th>publisher</th>\n",
       "    </tr>\n",
       "  </thead>\n",
       "  <tbody>\n",
       "    <tr>\n",
       "      <th>0</th>\n",
       "      <td>212</td>\n",
       "      <td>Penguin Books</td>\n",
       "    </tr>\n",
       "  </tbody>\n",
       "</table>\n",
       "</div>"
      ],
      "text/plain": [
       "   publisher_id      publisher\n",
       "0           212  Penguin Books"
      ]
     },
     "execution_count": 5,
     "metadata": {},
     "output_type": "execute_result"
    }
   ],
   "source": [
    "query = '''\n",
    "\n",
    "SELECT b.publisher_id,\n",
    "       p.publisher\n",
    "FROM books AS b\n",
    "JOIN publishers AS p ON p.publisher_id = b.publisher_id\n",
    "WHERE num_pages > 50\n",
    "GROUP BY b.publisher_id,\n",
    "         p.publisher\n",
    "ORDER BY COUNT(DISTINCT(book_id)) DESC\n",
    "LIMIT 1\n",
    "\n",
    "'''\n",
    "pd.io.sql.read_sql(query, con = engine) "
   ]
  },
  {
   "cell_type": "markdown",
   "metadata": {},
   "source": [
    "**Вывод**:<br>\n",
    "Мы определили издательство, которое выпустило наибольшее число книг толще 50 страниц — **Penguin Books.**"
   ]
  },
  {
   "cell_type": "markdown",
   "metadata": {},
   "source": [
    "### Определите автора с самой высокой средней оценкой книг — учитывайте только книги с 50 и более оценками"
   ]
  },
  {
   "cell_type": "code",
   "execution_count": 9,
   "metadata": {},
   "outputs": [
    {
     "data": {
      "text/html": [
       "<div>\n",
       "<style scoped>\n",
       "    .dataframe tbody tr th:only-of-type {\n",
       "        vertical-align: middle;\n",
       "    }\n",
       "\n",
       "    .dataframe tbody tr th {\n",
       "        vertical-align: top;\n",
       "    }\n",
       "\n",
       "    .dataframe thead th {\n",
       "        text-align: right;\n",
       "    }\n",
       "</style>\n",
       "<table border=\"1\" class=\"dataframe\">\n",
       "  <thead>\n",
       "    <tr style=\"text-align: right;\">\n",
       "      <th></th>\n",
       "      <th>author</th>\n",
       "      <th>avg</th>\n",
       "    </tr>\n",
       "  </thead>\n",
       "  <tbody>\n",
       "    <tr>\n",
       "      <th>0</th>\n",
       "      <td>J.K. Rowling/Mary GrandPré</td>\n",
       "      <td>4.288462</td>\n",
       "    </tr>\n",
       "  </tbody>\n",
       "</table>\n",
       "</div>"
      ],
      "text/plain": [
       "                       author       avg\n",
       "0  J.K. Rowling/Mary GrandPré  4.288462"
      ]
     },
     "execution_count": 9,
     "metadata": {},
     "output_type": "execute_result"
    }
   ],
   "source": [
    "query = '''\n",
    "\n",
    "SELECT author,\n",
    "       AVG(rating)\n",
    "FROM ratings AS r\n",
    "JOIN books AS b ON b.book_id = r.book_id\n",
    "JOIN authors AS a ON a.author_id = b.author_id\n",
    "\n",
    "WHERE b.author_id in (\n",
    "    SELECT b.author_id\n",
    "    FROM ratings AS r\n",
    "    JOIN books AS b ON b.book_id = r.book_id\n",
    "    GROUP BY b.book_id\n",
    "    HAVING COUNT(DISTINCT(rating_id)) > 50\n",
    ")  \n",
    "\n",
    "GROUP BY b.author_id,\n",
    "         author\n",
    "ORDER BY AVG(rating) DESC\n",
    "LIMIT 1\n",
    "\n",
    "\n",
    "'''\n",
    "pd.io.sql.read_sql(query, con = engine) "
   ]
  },
  {
   "cell_type": "markdown",
   "metadata": {},
   "source": [
    "**Вывод**:<br>\n",
    "Мы определили автора с самой высокой средней оценкой книг — **J.K. Rowling/Mary GrandPré (средняя оценка составляет 4,29).**"
   ]
  },
  {
   "cell_type": "markdown",
   "metadata": {},
   "source": [
    "### Посчитайте среднее количество обзоров от пользователей, которые поставили больше 50 оценок."
   ]
  },
  {
   "cell_type": "code",
   "execution_count": 7,
   "metadata": {
    "scrolled": true
   },
   "outputs": [
    {
     "data": {
      "text/html": [
       "<div>\n",
       "<style scoped>\n",
       "    .dataframe tbody tr th:only-of-type {\n",
       "        vertical-align: middle;\n",
       "    }\n",
       "\n",
       "    .dataframe tbody tr th {\n",
       "        vertical-align: top;\n",
       "    }\n",
       "\n",
       "    .dataframe thead th {\n",
       "        text-align: right;\n",
       "    }\n",
       "</style>\n",
       "<table border=\"1\" class=\"dataframe\">\n",
       "  <thead>\n",
       "    <tr style=\"text-align: right;\">\n",
       "      <th></th>\n",
       "      <th>avg</th>\n",
       "    </tr>\n",
       "  </thead>\n",
       "  <tbody>\n",
       "    <tr>\n",
       "      <th>0</th>\n",
       "      <td>24.333333</td>\n",
       "    </tr>\n",
       "  </tbody>\n",
       "</table>\n",
       "</div>"
      ],
      "text/plain": [
       "         avg\n",
       "0  24.333333"
      ]
     },
     "execution_count": 7,
     "metadata": {},
     "output_type": "execute_result"
    }
   ],
   "source": [
    "query = '''\n",
    "\n",
    "WITH data AS (\n",
    "    SELECT username,\n",
    "           COUNT(DISTINCT(review_id))\n",
    "    FROM reviews       \n",
    "    WHERE username in (\n",
    "        SELECT username\n",
    "        FROM ratings\n",
    "        GROUP BY username\n",
    "        HAVING COUNT(DISTINCT(book_id)) > 50)\n",
    "    GROUP BY username) \n",
    "SELECT AVG(count)\n",
    "FROM data\n",
    "\n",
    "'''\n",
    "pd.io.sql.read_sql(query, con = engine) "
   ]
  },
  {
   "cell_type": "markdown",
   "metadata": {},
   "source": [
    "**Вывод**:<br>\n",
    "Мы посчитали среднее количество обзоров от пользователей, которые поставили больше 50 оценок — оно составляет **24,33.**"
   ]
  },
  {
   "cell_type": "markdown",
   "metadata": {},
   "source": [
    "### Общий вывод"
   ]
  },
  {
   "cell_type": "markdown",
   "metadata": {},
   "source": [
    "**1.** Цель проекта: Проанализировать базу данных крупного сервиса для чтения книг по подписке и ответить на ряд вопросов.\n",
    "\n",
    "**2.** В процессе решения поставленых задач мы выяснили следующее:\n",
    "- после 1 января 2000 года вышло **819 книг**;\n",
    "- мы вывели для каждой книги количество обзоров и средний рейтинг;\n",
    "- издательство **Penguin Books** выпустило наибольшее число книг. Мы учитывали только книги толще 50 страниц, чтобы  исключить из анализа брошюры;\n",
    "- **J.K. Rowling/Mary GrandPré** является автором с самой высокой средней оценкой книг — **4,29**. Мы учитывали только книги с 50 и более оценками;\n",
    "- В среднем количество обзоров от пользователей, которые поставили больше 50 оценок, составляет **24,33**."
   ]
  }
 ],
 "metadata": {
  "ExecuteTimeLog": [
   {
    "duration": 873,
    "start_time": "2022-09-16T11:48:22.808Z"
   },
   {
    "duration": 4,
    "start_time": "2022-09-16T11:48:32.761Z"
   },
   {
    "duration": 3,
    "start_time": "2022-09-16T11:48:38.740Z"
   },
   {
    "duration": 79,
    "start_time": "2022-09-16T11:48:45.265Z"
   },
   {
    "duration": 13118,
    "start_time": "2022-09-16T11:49:18.267Z"
   },
   {
    "duration": 4,
    "start_time": "2022-09-16T11:49:31.387Z"
   },
   {
    "duration": 3,
    "start_time": "2022-09-16T11:49:36.216Z"
   },
   {
    "duration": 833,
    "start_time": "2022-09-16T11:49:42.583Z"
   },
   {
    "duration": 3,
    "start_time": "2022-09-17T09:25:06.804Z"
   },
   {
    "duration": 6736,
    "start_time": "2022-09-17T09:25:45.122Z"
   },
   {
    "duration": 62,
    "start_time": "2022-09-17T09:25:56.703Z"
   },
   {
    "duration": 6251,
    "start_time": "2022-09-17T09:26:02.703Z"
   },
   {
    "duration": 4,
    "start_time": "2022-09-17T09:26:08.956Z"
   },
   {
    "duration": 7,
    "start_time": "2022-09-17T09:26:08.962Z"
   },
   {
    "duration": 599,
    "start_time": "2022-09-17T09:26:08.970Z"
   },
   {
    "duration": 3,
    "start_time": "2022-09-17T09:26:33.541Z"
   },
   {
    "duration": 3,
    "start_time": "2022-09-17T09:26:34.273Z"
   },
   {
    "duration": 437,
    "start_time": "2022-09-17T09:26:35.467Z"
   },
   {
    "duration": 6282,
    "start_time": "2022-09-17T09:26:44.251Z"
   },
   {
    "duration": 5,
    "start_time": "2022-09-17T09:26:50.535Z"
   },
   {
    "duration": 656,
    "start_time": "2022-09-17T09:26:50.541Z"
   },
   {
    "duration": 3,
    "start_time": "2022-09-17T09:28:19.380Z"
   },
   {
    "duration": 71,
    "start_time": "2022-09-17T09:28:26.503Z"
   },
   {
    "duration": 2,
    "start_time": "2022-09-17T09:29:21.972Z"
   },
   {
    "duration": 3,
    "start_time": "2022-09-17T09:29:23.462Z"
   },
   {
    "duration": 398,
    "start_time": "2022-09-17T09:29:24.059Z"
   },
   {
    "duration": 412,
    "start_time": "2022-09-17T09:30:11.255Z"
   },
   {
    "duration": 3,
    "start_time": "2022-09-17T09:30:11.842Z"
   },
   {
    "duration": 3,
    "start_time": "2022-09-17T09:30:12.602Z"
   },
   {
    "duration": 391,
    "start_time": "2022-09-17T09:30:13.247Z"
   },
   {
    "duration": 660,
    "start_time": "2022-09-17T09:30:19.754Z"
   },
   {
    "duration": 2,
    "start_time": "2022-09-17T09:30:20.416Z"
   },
   {
    "duration": 15,
    "start_time": "2022-09-17T09:30:20.427Z"
   },
   {
    "duration": 91,
    "start_time": "2022-09-17T09:30:20.443Z"
   },
   {
    "duration": 0,
    "start_time": "2022-09-17T09:30:20.536Z"
   },
   {
    "duration": 9207,
    "start_time": "2022-09-17T09:31:24.297Z"
   },
   {
    "duration": 3,
    "start_time": "2022-09-17T09:31:33.506Z"
   },
   {
    "duration": 29,
    "start_time": "2022-09-17T09:31:33.510Z"
   },
   {
    "duration": 601,
    "start_time": "2022-09-17T09:31:33.541Z"
   },
   {
    "duration": 3,
    "start_time": "2022-09-17T09:32:20.509Z"
   },
   {
    "duration": 3,
    "start_time": "2022-09-17T09:32:48.543Z"
   },
   {
    "duration": 5,
    "start_time": "2022-09-17T09:32:58.636Z"
   },
   {
    "duration": 409,
    "start_time": "2022-09-17T09:33:19.066Z"
   },
   {
    "duration": 2,
    "start_time": "2022-09-17T09:33:46.812Z"
   },
   {
    "duration": 403,
    "start_time": "2022-09-17T09:45:17.170Z"
   },
   {
    "duration": 3,
    "start_time": "2022-09-17T09:45:51.386Z"
   },
   {
    "duration": 383,
    "start_time": "2022-09-17T09:45:52.086Z"
   },
   {
    "duration": 4,
    "start_time": "2022-09-17T09:46:07.141Z"
   },
   {
    "duration": 386,
    "start_time": "2022-09-17T09:46:07.671Z"
   },
   {
    "duration": 3,
    "start_time": "2022-09-17T09:46:28.705Z"
   },
   {
    "duration": 141,
    "start_time": "2022-09-17T09:46:29.236Z"
   },
   {
    "duration": 4,
    "start_time": "2022-09-17T09:46:47.529Z"
   },
   {
    "duration": 82,
    "start_time": "2022-09-17T09:46:48.068Z"
   },
   {
    "duration": 3,
    "start_time": "2022-09-17T09:47:22.642Z"
   },
   {
    "duration": 4,
    "start_time": "2022-09-17T09:47:23.190Z"
   },
   {
    "duration": 96,
    "start_time": "2022-09-17T09:47:23.789Z"
   },
   {
    "duration": 3,
    "start_time": "2022-09-17T09:48:02.541Z"
   },
   {
    "duration": 8233,
    "start_time": "2022-09-17T09:48:08.897Z"
   },
   {
    "duration": 3,
    "start_time": "2022-09-17T09:48:17.132Z"
   },
   {
    "duration": 26,
    "start_time": "2022-09-17T09:48:17.137Z"
   },
   {
    "duration": 603,
    "start_time": "2022-09-17T09:48:17.165Z"
   },
   {
    "duration": 389,
    "start_time": "2022-09-17T09:52:16.262Z"
   },
   {
    "duration": 477,
    "start_time": "2022-09-17T09:52:38.841Z"
   },
   {
    "duration": 458,
    "start_time": "2022-09-17T09:52:48.337Z"
   },
   {
    "duration": 78,
    "start_time": "2022-09-17T09:53:56.036Z"
   },
   {
    "duration": 78,
    "start_time": "2022-09-17T09:54:43.794Z"
   },
   {
    "duration": 107,
    "start_time": "2022-09-17T09:55:20.284Z"
   },
   {
    "duration": 80,
    "start_time": "2022-09-17T09:56:01.705Z"
   },
   {
    "duration": 77,
    "start_time": "2022-09-17T09:56:15.472Z"
   },
   {
    "duration": 76,
    "start_time": "2022-09-17T09:56:36.041Z"
   },
   {
    "duration": 95,
    "start_time": "2022-09-17T09:56:51.002Z"
   },
   {
    "duration": 94,
    "start_time": "2022-09-17T09:57:06.033Z"
   },
   {
    "duration": 204,
    "start_time": "2022-09-17T09:57:28.439Z"
   },
   {
    "duration": 163,
    "start_time": "2022-09-17T09:57:34.795Z"
   },
   {
    "duration": 146,
    "start_time": "2022-09-17T09:57:38.500Z"
   },
   {
    "duration": 158,
    "start_time": "2022-09-17T09:57:46.820Z"
   },
   {
    "duration": 150,
    "start_time": "2022-09-17T09:58:08.647Z"
   },
   {
    "duration": 1806,
    "start_time": "2022-09-17T09:58:26.790Z"
   },
   {
    "duration": 76,
    "start_time": "2022-09-17T09:59:57.383Z"
   },
   {
    "duration": 74,
    "start_time": "2022-09-17T10:00:03.746Z"
   },
   {
    "duration": 144,
    "start_time": "2022-09-17T10:04:34.235Z"
   },
   {
    "duration": 126,
    "start_time": "2022-09-17T10:04:55.092Z"
   },
   {
    "duration": 152,
    "start_time": "2022-09-17T10:05:17.951Z"
   },
   {
    "duration": 245,
    "start_time": "2022-09-17T10:06:03.235Z"
   },
   {
    "duration": 172,
    "start_time": "2022-09-17T10:06:21.786Z"
   },
   {
    "duration": 184,
    "start_time": "2022-09-17T10:07:10.104Z"
   },
   {
    "duration": 99,
    "start_time": "2022-09-17T10:07:24.314Z"
   },
   {
    "duration": 139,
    "start_time": "2022-09-17T10:08:51.449Z"
   },
   {
    "duration": 124,
    "start_time": "2022-09-17T10:09:15.689Z"
   },
   {
    "duration": 144,
    "start_time": "2022-09-17T10:09:38.107Z"
   },
   {
    "duration": 164,
    "start_time": "2022-09-17T10:11:20.397Z"
   },
   {
    "duration": 108,
    "start_time": "2022-09-17T10:14:16.549Z"
   },
   {
    "duration": 95,
    "start_time": "2022-09-17T10:15:53.604Z"
   },
   {
    "duration": 187,
    "start_time": "2022-09-17T10:16:13.918Z"
   },
   {
    "duration": 81,
    "start_time": "2022-09-17T10:16:43.615Z"
   },
   {
    "duration": 175,
    "start_time": "2022-09-17T10:16:56.462Z"
   },
   {
    "duration": 84,
    "start_time": "2022-09-17T10:17:10.356Z"
   },
   {
    "duration": 87,
    "start_time": "2022-09-17T10:17:27.564Z"
   },
   {
    "duration": 85,
    "start_time": "2022-09-17T10:17:31.101Z"
   },
   {
    "duration": 82,
    "start_time": "2022-09-17T10:17:36.766Z"
   },
   {
    "duration": 75,
    "start_time": "2022-09-17T10:17:48.084Z"
   },
   {
    "duration": 191,
    "start_time": "2022-09-17T10:18:38.585Z"
   },
   {
    "duration": 348,
    "start_time": "2022-09-17T10:18:58.142Z"
   },
   {
    "duration": 185,
    "start_time": "2022-09-17T10:19:05.617Z"
   },
   {
    "duration": 198,
    "start_time": "2022-09-17T10:19:12.069Z"
   },
   {
    "duration": 218,
    "start_time": "2022-09-17T10:19:17.759Z"
   },
   {
    "duration": 171,
    "start_time": "2022-09-17T10:19:47.545Z"
   },
   {
    "duration": 75,
    "start_time": "2022-09-17T10:20:43.934Z"
   },
   {
    "duration": 174,
    "start_time": "2022-09-17T10:22:03.790Z"
   },
   {
    "duration": 75,
    "start_time": "2022-09-17T10:22:23.635Z"
   },
   {
    "duration": 194,
    "start_time": "2022-09-17T10:24:57.737Z"
   },
   {
    "duration": 158,
    "start_time": "2022-09-17T10:26:19.473Z"
   },
   {
    "duration": 96,
    "start_time": "2022-09-17T10:26:28.043Z"
   },
   {
    "duration": 148,
    "start_time": "2022-09-17T10:26:42.243Z"
   },
   {
    "duration": 95,
    "start_time": "2022-09-17T10:26:59.322Z"
   },
   {
    "duration": 98,
    "start_time": "2022-09-17T10:28:30.060Z"
   },
   {
    "duration": 303,
    "start_time": "2022-09-17T10:29:10.088Z"
   },
   {
    "duration": 102,
    "start_time": "2022-09-17T10:29:19.253Z"
   },
   {
    "duration": 85,
    "start_time": "2022-09-17T10:29:43.524Z"
   },
   {
    "duration": 141,
    "start_time": "2022-09-17T10:30:04.624Z"
   },
   {
    "duration": 80,
    "start_time": "2022-09-17T10:30:21.838Z"
   },
   {
    "duration": 157,
    "start_time": "2022-09-17T10:38:28.716Z"
   },
   {
    "duration": 141,
    "start_time": "2022-09-17T10:38:33.365Z"
   },
   {
    "duration": 145,
    "start_time": "2022-09-17T10:38:40.801Z"
   },
   {
    "duration": 79,
    "start_time": "2022-09-17T10:39:07.537Z"
   },
   {
    "duration": 86,
    "start_time": "2022-09-17T10:39:12.089Z"
   },
   {
    "duration": 81,
    "start_time": "2022-09-17T10:40:40.483Z"
   },
   {
    "duration": 52,
    "start_time": "2022-09-17T15:52:41.638Z"
   },
   {
    "duration": 6390,
    "start_time": "2022-09-17T15:52:51.665Z"
   },
   {
    "duration": 675,
    "start_time": "2022-09-17T15:52:58.057Z"
   },
   {
    "duration": 75,
    "start_time": "2022-09-17T15:52:58.734Z"
   },
   {
    "duration": 96,
    "start_time": "2022-09-17T15:52:58.811Z"
   },
   {
    "duration": 77,
    "start_time": "2022-09-17T15:52:58.908Z"
   },
   {
    "duration": 248,
    "start_time": "2022-09-17T15:52:58.987Z"
   },
   {
    "duration": 0,
    "start_time": "2022-09-17T15:52:59.237Z"
   },
   {
    "duration": 137,
    "start_time": "2022-09-17T15:53:12.898Z"
   },
   {
    "duration": 134,
    "start_time": "2022-09-17T15:53:19.705Z"
   },
   {
    "duration": 78,
    "start_time": "2022-09-17T15:53:33.827Z"
   },
   {
    "duration": 78,
    "start_time": "2022-09-17T15:53:52.133Z"
   },
   {
    "duration": 122,
    "start_time": "2022-09-17T15:54:27.077Z"
   },
   {
    "duration": 79,
    "start_time": "2022-09-17T15:54:35.556Z"
   },
   {
    "duration": 83,
    "start_time": "2022-09-17T15:54:46.859Z"
   },
   {
    "duration": 81,
    "start_time": "2022-09-17T15:55:13.724Z"
   },
   {
    "duration": 152,
    "start_time": "2022-09-17T15:57:35.275Z"
   },
   {
    "duration": 138,
    "start_time": "2022-09-17T15:58:38.650Z"
   },
   {
    "duration": 163,
    "start_time": "2022-09-17T15:59:20.884Z"
   },
   {
    "duration": 95,
    "start_time": "2022-09-17T15:59:29.605Z"
   },
   {
    "duration": 79,
    "start_time": "2022-09-17T15:59:52.104Z"
   },
   {
    "duration": 86,
    "start_time": "2022-09-17T16:00:22.860Z"
   },
   {
    "duration": 250,
    "start_time": "2022-09-17T16:03:53.876Z"
   },
   {
    "duration": 223,
    "start_time": "2022-09-17T16:04:35.440Z"
   },
   {
    "duration": 123,
    "start_time": "2022-09-17T16:05:10.151Z"
   },
   {
    "duration": 130,
    "start_time": "2022-09-17T16:05:44.313Z"
   },
   {
    "duration": 2666,
    "start_time": "2022-09-17T16:05:56.708Z"
   },
   {
    "duration": 144,
    "start_time": "2022-09-17T16:07:21.783Z"
   },
   {
    "duration": 77,
    "start_time": "2022-09-17T16:07:26.532Z"
   },
   {
    "duration": 132,
    "start_time": "2022-09-17T16:07:52.292Z"
   },
   {
    "duration": 175,
    "start_time": "2022-09-17T16:08:09.740Z"
   },
   {
    "duration": 156,
    "start_time": "2022-09-17T16:08:52.703Z"
   },
   {
    "duration": 127,
    "start_time": "2022-09-17T16:08:58.363Z"
   },
   {
    "duration": 154,
    "start_time": "2022-09-17T16:09:00.830Z"
   },
   {
    "duration": 165,
    "start_time": "2022-09-17T16:09:24.073Z"
   },
   {
    "duration": 151,
    "start_time": "2022-09-17T16:09:28.955Z"
   },
   {
    "duration": 54,
    "start_time": "2022-09-17T16:09:42.913Z"
   },
   {
    "duration": 77,
    "start_time": "2022-09-17T16:10:00.110Z"
   },
   {
    "duration": 200,
    "start_time": "2022-09-17T16:10:07.181Z"
   },
   {
    "duration": 125,
    "start_time": "2022-09-17T16:10:19.006Z"
   },
   {
    "duration": 147,
    "start_time": "2022-09-17T16:10:29.662Z"
   },
   {
    "duration": 80,
    "start_time": "2022-09-17T16:10:37.236Z"
   },
   {
    "duration": 76,
    "start_time": "2022-09-17T16:10:56.400Z"
   },
   {
    "duration": 78,
    "start_time": "2022-09-17T16:11:54.296Z"
   },
   {
    "duration": 6809,
    "start_time": "2022-09-17T16:13:23.702Z"
   },
   {
    "duration": 8472,
    "start_time": "2022-09-18T10:45:03.501Z"
   },
   {
    "duration": 723,
    "start_time": "2022-09-18T10:45:11.975Z"
   },
   {
    "duration": 81,
    "start_time": "2022-09-18T10:45:12.700Z"
   },
   {
    "duration": 115,
    "start_time": "2022-09-18T10:45:12.786Z"
   },
   {
    "duration": 80,
    "start_time": "2022-09-18T10:45:12.903Z"
   },
   {
    "duration": 80,
    "start_time": "2022-09-18T10:45:12.985Z"
   },
   {
    "duration": 87,
    "start_time": "2022-09-18T10:45:13.067Z"
   },
   {
    "duration": 94,
    "start_time": "2022-09-18T10:46:37.334Z"
   },
   {
    "duration": 52,
    "start_time": "2022-09-18T15:52:20.854Z"
   },
   {
    "duration": 7757,
    "start_time": "2022-09-18T15:52:26.880Z"
   },
   {
    "duration": 752,
    "start_time": "2022-09-18T15:52:34.639Z"
   },
   {
    "duration": 80,
    "start_time": "2022-09-18T15:52:35.393Z"
   },
   {
    "duration": 106,
    "start_time": "2022-09-18T15:52:35.474Z"
   },
   {
    "duration": 312,
    "start_time": "2022-09-18T15:52:35.582Z"
   },
   {
    "duration": 0,
    "start_time": "2022-09-18T15:52:35.895Z"
   },
   {
    "duration": 0,
    "start_time": "2022-09-18T15:52:35.897Z"
   },
   {
    "duration": 0,
    "start_time": "2022-09-18T15:52:35.898Z"
   },
   {
    "duration": 80,
    "start_time": "2022-09-18T15:53:35.664Z"
   },
   {
    "duration": 134,
    "start_time": "2022-09-18T15:54:49.465Z"
   },
   {
    "duration": 94,
    "start_time": "2022-09-18T15:55:19.559Z"
   },
   {
    "duration": 167,
    "start_time": "2022-09-18T16:03:31.778Z"
   },
   {
    "duration": 131,
    "start_time": "2022-09-18T16:03:35.296Z"
   },
   {
    "duration": 84,
    "start_time": "2022-09-18T17:16:51.180Z"
   },
   {
    "duration": 89,
    "start_time": "2022-09-18T17:16:54.288Z"
   },
   {
    "duration": 95,
    "start_time": "2022-09-18T17:17:00.575Z"
   },
   {
    "duration": 73,
    "start_time": "2022-09-18T17:17:44.882Z"
   },
   {
    "duration": 109,
    "start_time": "2022-09-18T17:17:45.609Z"
   },
   {
    "duration": 105,
    "start_time": "2022-09-18T17:17:46.377Z"
   },
   {
    "duration": 131,
    "start_time": "2022-09-18T17:18:07.556Z"
   },
   {
    "duration": 71,
    "start_time": "2022-09-18T17:18:11.199Z"
   },
   {
    "duration": 60,
    "start_time": "2022-09-18T17:18:11.741Z"
   },
   {
    "duration": 129,
    "start_time": "2022-09-18T17:18:26.992Z"
   },
   {
    "duration": 155,
    "start_time": "2022-09-18T17:18:38.783Z"
   },
   {
    "duration": 133,
    "start_time": "2022-09-18T17:18:49.313Z"
   },
   {
    "duration": 158,
    "start_time": "2022-09-18T17:18:52.345Z"
   },
   {
    "duration": 146,
    "start_time": "2022-09-18T17:19:07.509Z"
   },
   {
    "duration": 169,
    "start_time": "2022-09-18T17:19:26.816Z"
   },
   {
    "duration": 149,
    "start_time": "2022-09-18T17:19:49.550Z"
   },
   {
    "duration": 254,
    "start_time": "2022-09-18T17:20:05.748Z"
   },
   {
    "duration": 248,
    "start_time": "2022-09-18T17:20:16.452Z"
   },
   {
    "duration": 172,
    "start_time": "2022-09-18T17:20:26.181Z"
   },
   {
    "duration": 84,
    "start_time": "2022-09-18T17:20:30.304Z"
   },
   {
    "duration": 179,
    "start_time": "2022-09-18T17:21:36.254Z"
   },
   {
    "duration": 128,
    "start_time": "2022-09-18T17:21:47.577Z"
   },
   {
    "duration": 140,
    "start_time": "2022-09-18T17:22:44.165Z"
   },
   {
    "duration": 152,
    "start_time": "2022-09-18T17:23:02.086Z"
   },
   {
    "duration": 120,
    "start_time": "2022-09-18T17:23:06.151Z"
   },
   {
    "duration": 122,
    "start_time": "2022-09-18T17:23:18.350Z"
   },
   {
    "duration": 42,
    "start_time": "2022-09-19T06:00:24.273Z"
   },
   {
    "duration": 6775,
    "start_time": "2022-09-19T06:00:30.149Z"
   },
   {
    "duration": 608,
    "start_time": "2022-09-19T06:00:36.925Z"
   },
   {
    "duration": 69,
    "start_time": "2022-09-19T06:00:37.535Z"
   },
   {
    "duration": 91,
    "start_time": "2022-09-19T06:00:37.606Z"
   },
   {
    "duration": 72,
    "start_time": "2022-09-19T06:00:37.700Z"
   },
   {
    "duration": 87,
    "start_time": "2022-09-19T06:00:37.774Z"
   },
   {
    "duration": 77,
    "start_time": "2022-09-19T06:00:37.863Z"
   },
   {
    "duration": 98,
    "start_time": "2022-09-19T06:02:24.708Z"
   },
   {
    "duration": 203,
    "start_time": "2022-09-19T06:04:38.553Z"
   },
   {
    "duration": 129,
    "start_time": "2022-09-19T06:05:19.044Z"
   },
   {
    "duration": 128,
    "start_time": "2022-09-19T06:05:26.556Z"
   },
   {
    "duration": 172,
    "start_time": "2022-09-19T06:05:47.789Z"
   },
   {
    "duration": 153,
    "start_time": "2022-09-19T06:06:09.942Z"
   },
   {
    "duration": 129,
    "start_time": "2022-09-19T06:06:16.727Z"
   },
   {
    "duration": 176,
    "start_time": "2022-09-19T06:06:20.233Z"
   },
   {
    "duration": 97,
    "start_time": "2022-09-19T06:06:34.811Z"
   },
   {
    "duration": 93,
    "start_time": "2022-09-19T06:10:09.785Z"
   },
   {
    "duration": 77,
    "start_time": "2022-09-19T06:10:46.309Z"
   },
   {
    "duration": 74,
    "start_time": "2022-09-19T06:11:12.829Z"
   },
   {
    "duration": 74,
    "start_time": "2022-09-19T06:11:20.214Z"
   },
   {
    "duration": 90,
    "start_time": "2022-09-19T06:12:45.893Z"
   },
   {
    "duration": 88,
    "start_time": "2022-09-19T06:13:32.637Z"
   },
   {
    "duration": 158,
    "start_time": "2022-09-19T06:16:08.840Z"
   },
   {
    "duration": 83,
    "start_time": "2022-09-19T06:16:28.446Z"
   },
   {
    "duration": 138,
    "start_time": "2022-09-19T06:16:47.695Z"
   },
   {
    "duration": 82,
    "start_time": "2022-09-19T06:16:54.698Z"
   },
   {
    "duration": 484,
    "start_time": "2022-09-19T06:17:17.754Z"
   },
   {
    "duration": 821,
    "start_time": "2022-09-19T06:17:21.269Z"
   },
   {
    "duration": 82,
    "start_time": "2022-09-19T06:17:27.990Z"
   },
   {
    "duration": 76,
    "start_time": "2022-09-19T06:17:45.724Z"
   },
   {
    "duration": 76,
    "start_time": "2022-09-19T06:17:51.630Z"
   },
   {
    "duration": 220,
    "start_time": "2022-09-19T06:18:30.837Z"
   },
   {
    "duration": 120,
    "start_time": "2022-09-19T06:18:49.691Z"
   },
   {
    "duration": 137,
    "start_time": "2022-09-19T06:19:00.578Z"
   },
   {
    "duration": 205,
    "start_time": "2022-09-19T06:19:20.673Z"
   },
   {
    "duration": 315,
    "start_time": "2022-09-19T06:19:36.332Z"
   },
   {
    "duration": 90,
    "start_time": "2022-09-19T06:19:52.956Z"
   },
   {
    "duration": 109,
    "start_time": "2022-09-19T06:23:36.650Z"
   },
   {
    "duration": 81,
    "start_time": "2022-09-19T06:24:17.198Z"
   },
   {
    "duration": 77,
    "start_time": "2022-09-19T06:24:52.053Z"
   },
   {
    "duration": 86,
    "start_time": "2022-09-19T06:25:20.796Z"
   },
   {
    "duration": 7467,
    "start_time": "2022-09-19T06:41:38.259Z"
   },
   {
    "duration": 758,
    "start_time": "2022-09-19T06:41:45.727Z"
   },
   {
    "duration": 78,
    "start_time": "2022-09-19T06:41:46.487Z"
   },
   {
    "duration": 111,
    "start_time": "2022-09-19T06:41:46.567Z"
   },
   {
    "duration": 76,
    "start_time": "2022-09-19T06:41:46.679Z"
   },
   {
    "duration": 82,
    "start_time": "2022-09-19T06:41:46.756Z"
   },
   {
    "duration": 80,
    "start_time": "2022-09-19T06:41:46.839Z"
   },
   {
    "duration": 10445,
    "start_time": "2022-09-19T16:50:20.013Z"
   },
   {
    "duration": 624,
    "start_time": "2022-09-19T16:50:30.460Z"
   },
   {
    "duration": 80,
    "start_time": "2022-09-19T16:50:31.086Z"
   },
   {
    "duration": 100,
    "start_time": "2022-09-19T16:50:31.168Z"
   },
   {
    "duration": 74,
    "start_time": "2022-09-19T16:50:31.269Z"
   },
   {
    "duration": 81,
    "start_time": "2022-09-19T16:50:31.345Z"
   },
   {
    "duration": 78,
    "start_time": "2022-09-19T16:50:31.427Z"
   },
   {
    "duration": 80,
    "start_time": "2022-09-19T16:52:25.197Z"
   },
   {
    "duration": 80,
    "start_time": "2022-09-19T16:52:28.531Z"
   }
  ],
  "kernelspec": {
   "display_name": "Python 3 (ipykernel)",
   "language": "python",
   "name": "python3"
  },
  "language_info": {
   "codemirror_mode": {
    "name": "ipython",
    "version": 3
   },
   "file_extension": ".py",
   "mimetype": "text/x-python",
   "name": "python",
   "nbconvert_exporter": "python",
   "pygments_lexer": "ipython3",
   "version": "3.9.5"
  },
  "toc": {
   "base_numbering": 1,
   "nav_menu": {},
   "number_sections": false,
   "sideBar": true,
   "skip_h1_title": false,
   "title_cell": "Table of Contents",
   "title_sidebar": "Contents",
   "toc_cell": true,
   "toc_position": {
    "height": "calc(100% - 180px)",
    "left": "10px",
    "top": "150px",
    "width": "250.764px"
   },
   "toc_section_display": true,
   "toc_window_display": true
  }
 },
 "nbformat": 4,
 "nbformat_minor": 2
}
